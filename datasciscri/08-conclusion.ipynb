{
 "cells": [
  {
   "cell_type": "markdown",
   "metadata": {
    "hide_input": false
   },
   "source": [
    "## Outlook\n",
    "### Approaching a machine learning problem\n",
    "\n",
    "Let’s say your goal is fraud\n",
    "detection.\n",
    "\n",
    "Then the following questions open up:\n",
    "- How do I measure if my fraud prediction is actually working?\n",
    "- Do I have the right data to evaluate an algorithm?\n",
    "- If I am successful, what will be the business impact of my solution?\n",
    "\n",
    "As we discussed in Chapter 5, it is best if you can measure the performance of your\n",
    "algorithm directly using a business metric, like increased profit or decreased losses.\n",
    "This is often hard to do, though. A question that can be easier to answer is “What if I\n",
    "built the perfect model?” If perfectly detecting any fraud will save your company $100 a month, these possible savings will probably not be enough to warrant the effort of you even starting to develop an algorithm. On the other hand, if the model might save your company tens of thousands of dollars every month, the problem might be\n",
    "worth exploring.\n",
    "\n",
    "### Humans in the loop\n",
    "\n",
    "Many applications are dominated by “simple cases,” for which an algo‐\n",
    "rithm can make a decision, with relatively few “complicated cases,” which can be\n",
    "rerouted to a human.\n",
    "\n",
    "\n",
    "In many companies, the data analytics teams\n",
    "work with languages like Python and R that allow the quick testing of ideas, while\n",
    "production teams work with languages like Go, Scala, C++, and Java to build robust,\n",
    "scalable systems. \n",
    "\n",
    "If you are building involved machine learn‐\n",
    "ing systems, we highly recommend reading the paper “Machine Learning: The High\n",
    "Interest Credit Card of Technical Debt”, published by researchers in Google’s\n",
    "machine learning team. The paper highlights the trade-off in creating and maintain‐\n",
    "ing machine learning software in production at a large scale.\n",
    "\n",
    "\n",
    "There are more\n",
    "elaborate mechanisms for online testing that go beyond A/B testing, such as bandit\n",
    "algorithms. A great introduction to this subject can be found in the book Bandit Algo‐\n",
    "rithms for Website Optimization by John Myles White (O’Reilly). "
   ]
  },
  {
   "cell_type": "markdown",
   "metadata": {},
   "source": [
    "### From prototype to production"
   ]
  },
  {
   "cell_type": "markdown",
   "metadata": {},
   "source": [
    "### Testing production systems\n",
    "\n",
    "In this book, we covered how to evaluate algorithmic predictions based on a test set\n",
    "that we collected beforehand. This is known as oine evaluation. If your machine\n",
    "learning system is user-facing, this is only the first step in evaluating an algorithm,\n",
    "though. The next step is usually online testing or live testing, where the consequences\n",
    "of employing the algorithm in the overall system are evaluated. Changing the recom‐\n",
    "mendations or search results users are shown by a website can drastically change\n",
    "their behavior and lead to unexpected consequences. To protect against these sur‐\n",
    "prises, most user-facing services employ A/B testing, a form of blind user study. I"
   ]
  },
  {
   "cell_type": "markdown",
   "metadata": {},
   "source": [
    "### Building your own estimator\n",
    "\n",
    "This book has covered a variety of tools and algorithms implemented in scikitlearn that can be used on a wide range of tasks. However, often there will be some\n",
    "particular processing you need to do for your data that is not implemented in\n",
    "scikit-learn. It may be enough to just preprocess your data before passing it to your\n",
    "scikit-learn model or pipeline. However, if your preprocessing is data dependent,\n",
    "and you want to apply a grid search or cross-validation, things become trickier.\n",
    "\n",
    "\n",
    "In Chapter 6 we discussed the importance of putting all data-dependent processing\n",
    "inside the cross-validation loop. So how can you use your own processing together\n",
    "with the scikit-learn tools? There is a simple solution: build your own estimator!\n",
    "Implementing an estimator that is compatible with the scikit-learn interface, so\n",
    "that it can be used with Pipeline, GridSearchCV, and cross_val_score, is quite easy.\n",
    "You can find detailed instructions in the scikit-learn documentation, but here is\n",
    "the gist. The simplest way to implement a transformer class is by inheriting from\n",
    "BaseEstimator and TransformerMixin, and then implementing the __init__, fit,\n",
    "and predict functions like this:"
   ]
  },
  {
   "cell_type": "code",
   "execution_count": 1,
   "metadata": {},
   "outputs": [],
   "source": [
    "from sklearn.base import BaseEstimator, TransformerMixin\n",
    "\n",
    "class MyTransformer(BaseEstimator, TransformerMixin):\n",
    "    def __init__(self, first_paramter=1, second_parameter=2):\n",
    "        # all parameters must be specified in the __init__ function\n",
    "        self.first_paramter = 1\n",
    "        self.second_parameter = 2\n",
    "        \n",
    "    def fit(self, X, y=None):\n",
    "        # fit should only take X and y as parameters\n",
    "        # even if your model is unsupervised, you need to accept a y argument!\n",
    "        \n",
    "        # Model fitting code goes here\n",
    "        print(\"fitting the model right here\")\n",
    "        # fit returns self\n",
    "        return self\n",
    "    \n",
    "    def transform(self, X):\n",
    "        # transform takes as parameter only X\n",
    "        \n",
    "        # apply some transformation to X:\n",
    "        X_transformed = X + 1\n",
    "        return X_transformed"
   ]
  },
  {
   "cell_type": "markdown",
   "metadata": {},
   "source": [
    "### Where to go from here\n",
    "#### Theory\n",
    "\n",
    "We already men‐\n",
    "tioned Hastie, Tibshirani, and Friedman’s book e Elements of Statistical Learning in\n",
    "the Preface, but it is worth repeating this recommendation here. Another quite acces‐\n",
    "sible book, with accompanying Python code, is Machine Learning: An Algorithmic\n",
    "Perspective by Stephen Marsland (Chapman and Hall/CRC). Two other highly recom‐\n",
    "mended classics are Pattern Recognition and Machine Learning by Christopher Bishop\n",
    "(Springer), a book that emphasizes a probabilistic framework, and Machine Learning:\n",
    "A Probabilistic Perspective by Kevin Murphy (MIT Press), a comprehensive (read:\n",
    "1,000+ pages) dissertation on machine learning methods featuring in-depth discus‐\n",
    "sions of state-of-the-art approaches, far beyond what we could cover in this book.\n",
    "\n",
    "#### Other machine learning frameworks and packages\n",
    "\n",
    "Another reason you might want to look beyond scikit-learn is if you are\n",
    "more interested in statistical modeling and inference than prediction. In this case,\n",
    "you should consider the statsmodel package for Python, which implements several\n",
    "linear models with a more statistically minded interface.\n",
    "\n",
    "Another popular machine learning package is vowpal wabbit (often called vw to\n",
    "avoid possible tongue twisting), a highly optimized machine learning package written\n",
    "in C++ with a command-line interface. vw is particularly useful for large datasets and\n",
    "for streaming data. For running machine learning algorithms distributed on a cluster,\n",
    "one of the most popular solutions at the time of writing is mllib, a Scala library built\n",
    "on top of the spark distributed computing environment.\n",
    "\n",
    "#### Ranking, recommender systems, time series, and other kinds of learning\n",
    "\n",
    "There are two partic‐\n",
    "ularly important topics that we did not cover in this book. The first is ranking, in\n",
    "which we want to retrieve answers to a particular query, ordered by their relevance.\n",
    "You’ve probably already used a ranking system today; this is how search engines\n",
    "operate. You input a search query and obtain a sorted list of answers, ranked by how\n",
    "relevant they are. A great introduction to ranking is provided in Manning, Raghavan,\n",
    "and Schütze’s book Introduction to Information Retrieval.\n",
    "\n",
    "\n",
    "\n",
    "The second topic is recom‐\n",
    "mender systems, which provide suggestions to users based on their preferences.\n",
    "You’ve probably encountered recommender systems under headings like “People You\n",
    "May Know,” “Customers Who Bought This Item Also Bought,” or “Top Picks for\n",
    "You.” There is plenty of literature on the topic, and if you want to dive right in you\n",
    "might be interested in the now classic “Netflix prize challenge”, in which the Netflix\n",
    "video streaming site released a large dataset of movie preferences and offered a prize\n",
    "of $1 million to the team that could provide the best recommendations. \n",
    "\n",
    "\n",
    "\n",
    "Another\n",
    "common application is prediction of time series (like stock prices), which also has a\n",
    "whole body of literature devoted to it.\n",
    "\n",
    "\n",
    "#### Probabilistic modeling, inference and probabilistic programming"
   ]
  },
  {
   "cell_type": "markdown",
   "metadata": {},
   "source": [
    "#### Neural Networks"
   ]
  },
  {
   "cell_type": "markdown",
   "metadata": {},
   "source": [
    "#### Scaling to larger datasets\n",
    "\n",
    "In this book, we always assumed that the data we were working with could be stored\n",
    "in a NumPy array or SciPy sparse matrix in memory (RAM). Even though modern\n",
    "servers often have hundreds of gigabytes (GB) of RAM, this is a fundamental restric‐\n",
    "tion on the size of data you can work with. Not everybody can afford to buy such a\n",
    "large machine, or even to rent one from a cloud provider. In most applications, the\n",
    "data that is used to build a machine learning system is relatively small, though, and\n",
    "few machine learning datasets consist of hundreds of gigabites of data or more. This\n",
    "makes expanding your RAM or renting a machine from a cloud provider a viable sol‐\n",
    "ution in many cases. If you need to work with terabytes of data, however, or you need to process large amounts of data on a budget, there are two basic strategies: out-ofcore learning and parallelization over a cluster.\n",
    "\n",
    "The other strategy for scaling is distributing the data over multiple machines in a\n",
    "compute cluster, and letting each computer process part of the data. This can be\n",
    "much faster for some models, and the size of the data that can be processed is only\n",
    "limited by the size of the cluster. However, such computations often require relatively\n",
    "complex infrastructure. One of the most popular distributed computing platforms at\n",
    "the moment is the spark platform built on top of Hadoop. spark includes some\n",
    "machine learning functionality within the MLLib package. If your data is already on a\n",
    "Hadoop filesystem, or you are already using spark to preprocess your data, this might\n",
    "be the easiest option. If you don’t already have such infrastructure in place, establish‐\n",
    "ing and integrating a spark cluster might be too large an effort, however. The vw\n",
    "package mentioned earlier provides some distributed features and might be a better\n",
    "solution in this case."
   ]
  },
  {
   "cell_type": "markdown",
   "metadata": {},
   "source": [
    "#### Honing your skills"
   ]
  },
  {
   "cell_type": "markdown",
   "metadata": {},
   "source": [
    "#### Conclusion"
   ]
  }
 ],
 "metadata": {
  "anaconda-cloud": {},
  "kernelspec": {
   "display_name": "Python 3 (ipykernel)",
   "language": "python",
   "name": "python3"
  },
  "language_info": {
   "codemirror_mode": {
    "name": "ipython",
    "version": 3
   },
   "file_extension": ".py",
   "mimetype": "text/x-python",
   "name": "python",
   "nbconvert_exporter": "python",
   "pygments_lexer": "ipython3",
   "version": "3.8.11"
  },
  "toc-autonumbering": false
 },
 "nbformat": 4,
 "nbformat_minor": 4
}
