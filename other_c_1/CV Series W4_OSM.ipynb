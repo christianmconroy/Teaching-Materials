{
 "cells": [
  {
   "cell_type": "markdown",
   "metadata": {},
   "source": [
    "# CV Series: Open Street Maps, Street Graphs, Measuring Distance, Routing"
   ]
  },
  {
   "cell_type": "markdown",
   "metadata": {},
   "source": [
    "- Open Source routing machine (OSRM): Open source tool that implements a lot of the tools will be diving into today - routing, distances, durations, etc. \n",
    "- Solutions\n",
    "    - Geocoding - Address to coordinates and visa versa\n",
    "    - Directions/Routing\n",
    "    - Nearest location \n",
    "    - Distance matrix \n",
    "    - Trip planning - Maybe we want to cover distance to the closest hospital \n",
    "    - Route Approximation\n",
    "- Enterprise Solutions \n",
    "    - Google Cloud Platform Map API is the best "
   ]
  },
  {
   "cell_type": "markdown",
   "metadata": {},
   "source": [
    "- Open Street Maps \n",
    "    - Can specify a bounding box and download the data as an OSM file \n",
    "    - Can use OSM for other tools like OSRM\n",
    "    - "
   ]
  }
 ],
 "metadata": {
  "kernelspec": {
   "display_name": "Python 3",
   "language": "python",
   "name": "python3"
  },
  "language_info": {
   "codemirror_mode": {
    "name": "ipython",
    "version": 3
   },
   "file_extension": ".py",
   "mimetype": "text/x-python",
   "name": "python",
   "nbconvert_exporter": "python",
   "pygments_lexer": "ipython3",
   "version": "3.7.7"
  }
 },
 "nbformat": 4,
 "nbformat_minor": 4
}
