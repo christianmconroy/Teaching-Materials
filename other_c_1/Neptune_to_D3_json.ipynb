{
 "cells": [
  {
   "cell_type": "markdown",
   "id": "17b4877a-f673-41f2-b8f9-c260caa282c9",
   "metadata": {},
   "source": [
    "# Neptune to NetworkX to JSON for D3 Vizualization via Gremlin"
   ]
  },
  {
   "cell_type": "code",
   "execution_count": 1,
   "id": "2fd85c46-089d-4320-a00b-090709dd1b09",
   "metadata": {},
   "outputs": [],
   "source": [
    "#!pip install nest-asynacio"
   ]
  },
  {
   "cell_type": "code",
   "execution_count": 2,
   "id": "6cf331e5-49c6-450e-a304-270813fd6f54",
   "metadata": {},
   "outputs": [],
   "source": [
    "#!pip install igraph"
   ]
  },
  {
   "cell_type": "code",
   "execution_count": 3,
   "id": "b15e2bba-d469-4821-b785-64eaadc17404",
   "metadata": {},
   "outputs": [],
   "source": [
    "import networkx as nx\n",
    "import pandas as pd\n",
    "import igraph as ig\n",
    "import json\n",
    "from networkx.readwrite import json_graph\n",
    "\n",
    "from __future__  import print_function  # Python 2/3 compatibility\n",
    "\n",
    "from gremlin_python import statics\n",
    "from gremlin_python.structure.graph import Graph\n",
    "from gremlin_python.process.graph_traversal import __\n",
    "from gremlin_python.process.strategies import *\n",
    "from gremlin_python.driver.driver_remote_connection import DriverRemoteConnection"
   ]
  },
  {
   "cell_type": "code",
   "execution_count": 4,
   "id": "6fd9f13b-6a4a-4a92-82fb-3472b24e2f07",
   "metadata": {},
   "outputs": [],
   "source": [
    "# Necessary to avoid Cannot run the event loop while another loop is running error\n",
    "import nest_asyncio\n",
    "nest_asyncio.apply()"
   ]
  },
  {
   "cell_type": "markdown",
   "id": "3f6f55e3-8bdd-45a9-96df-2dd3f1f8035f",
   "metadata": {},
   "source": [
    "### Create connection to DB. \n",
    "\n",
    "A graph query is often referred to as a traversal as that is what we are in fact doing. We are traversing the graph from a starting point to an ending point. Traversals consist of one or more steps (essentially methods) that are chained together."
   ]
  },
  {
   "cell_type": "code",
   "execution_count": 29,
   "id": "b6de1711-22cf-4b23-b65d-653345226145",
   "metadata": {},
   "outputs": [],
   "source": [
    "graph = Graph()\n",
    "\n",
    "remoteConn = DriverRemoteConnection('ws://mgt-prd-infr-neptune-alb-122161610.us-east-1.elb.amazonaws.com:8182/gremlin','g')\n",
    "g = graph.traversal().withRemote(remoteConn)"
   ]
  },
  {
   "cell_type": "markdown",
   "id": "4776a473-1b00-4104-b218-41a4dd933605",
   "metadata": {},
   "source": [
    "Sample to show connection worked: Return 10 vertices. "
   ]
  },
  {
   "cell_type": "code",
   "execution_count": 6,
   "id": "415ecdb7-f580-438b-8031-8a362429d41b",
   "metadata": {},
   "outputs": [
    {
     "name": "stdout",
     "output_type": "stream",
     "text": [
      "[v[1], v[2], v[3], v[4], v[5], v[6], v[7], v[8], v[9], v[10]]\n"
     ]
    }
   ],
   "source": [
    "print(g.V().limit(10).toList())"
   ]
  },
  {
   "cell_type": "markdown",
   "id": "04f93d99-229b-4441-a354-63b02a284e37",
   "metadata": {},
   "source": [
    "### Sample Gremlin Queries"
   ]
  },
  {
   "cell_type": "markdown",
   "id": "8246a9a2-5c5e-41ce-bc8a-d8a4183e769e",
   "metadata": {},
   "source": [
    "Count Nodes"
   ]
  },
  {
   "cell_type": "code",
   "execution_count": 7,
   "id": "5cf1bb29-fe1b-49a7-8570-f4dd31ecfa0e",
   "metadata": {},
   "outputs": [
    {
     "data": {
      "text/plain": [
       "8039"
      ]
     },
     "execution_count": 7,
     "metadata": {},
     "output_type": "execute_result"
    }
   ],
   "source": [
    "g.V().count().next()"
   ]
  },
  {
   "cell_type": "code",
   "execution_count": 8,
   "id": "69d022d2-1367-4680-8402-57bc70bc9572",
   "metadata": {},
   "outputs": [
    {
     "name": "stdout",
     "output_type": "stream",
     "text": [
      "[]\n"
     ]
    }
   ],
   "source": [
    "print(g.V().hasLabel(\"@minboxradio\").toList())"
   ]
  },
  {
   "cell_type": "markdown",
   "id": "95991066-2d6c-4bfe-9459-01b8e921332b",
   "metadata": {},
   "source": [
    "Count Edges"
   ]
  },
  {
   "cell_type": "code",
   "execution_count": 10,
   "id": "70bbd443-4f48-4cbd-a96e-e815a820c917",
   "metadata": {},
   "outputs": [
    {
     "data": {
      "text/plain": [
       "13771"
      ]
     },
     "execution_count": 10,
     "metadata": {},
     "output_type": "execute_result"
    }
   ],
   "source": [
    "g.E().count().next()"
   ]
  },
  {
   "cell_type": "markdown",
   "id": "8c008706-9bbc-4a15-b8d9-93a8872de0fe",
   "metadata": {},
   "source": [
    "What to Pull out for NetworkX conversion"
   ]
  },
  {
   "cell_type": "code",
   "execution_count": 11,
   "id": "e1e63d9c-04db-4a44-8780-f58c2272ef0a",
   "metadata": {},
   "outputs": [],
   "source": [
    "sg = g.V().bothE().otherV().path().by(__.valueMap(True)).toList()"
   ]
  },
  {
   "cell_type": "code",
   "execution_count": 20,
   "id": "4097fab1-30e1-4d13-b6cd-472e04d502be",
   "metadata": {},
   "outputs": [
    {
     "data": {
      "text/plain": [
       "[['@iooner'], 'Tweeter', '1351']"
      ]
     },
     "execution_count": 20,
     "metadata": {},
     "output_type": "execute_result"
    }
   ],
   "source": [
    "list(sg[0][0].values())"
   ]
  },
  {
   "cell_type": "code",
   "execution_count": 14,
   "id": "fe4ae1c4-ac33-432b-8145-be261b2dd6fa",
   "metadata": {},
   "outputs": [
    {
     "data": {
      "text/plain": [
       "[0.06812110418521816, 'mentioned_by', 'e14']"
      ]
     },
     "execution_count": 14,
     "metadata": {},
     "output_type": "execute_result"
    }
   ],
   "source": [
    "list(sg[0][1].values())"
   ]
  },
  {
   "cell_type": "code",
   "execution_count": 15,
   "id": "d242615b-f922-4b44-86f1-89ede9eae800",
   "metadata": {},
   "outputs": [
    {
     "data": {
      "text/plain": [
       "[['@MinBoxRadio'], 'Tweeter', '1']"
      ]
     },
     "execution_count": 15,
     "metadata": {},
     "output_type": "execute_result"
    }
   ],
   "source": [
    "list(sg[0][2].values())"
   ]
  },
  {
   "cell_type": "code",
   "execution_count": 22,
   "id": "7dc0de3c-6349-4487-8f04-d24142f5e2ef",
   "metadata": {},
   "outputs": [
    {
     "data": {
      "text/plain": [
       "'1351'"
      ]
     },
     "execution_count": 22,
     "metadata": {},
     "output_type": "execute_result"
    }
   ],
   "source": [
    "list(sg[0][0].values())[2]"
   ]
  },
  {
   "cell_type": "code",
   "execution_count": 27,
   "id": "a6793402-839a-475c-a741-14be97eb2a02",
   "metadata": {},
   "outputs": [
    {
     "data": {
      "text/plain": [
       "'mentioned_by'"
      ]
     },
     "execution_count": 27,
     "metadata": {},
     "output_type": "execute_result"
    }
   ],
   "source": [
    "list(sg[0][1].values())[1]"
   ]
  },
  {
   "cell_type": "markdown",
   "id": "e58a6e43-47a4-4db6-a304-d56f27388481",
   "metadata": {},
   "source": [
    "### Convert into networkx graph"
   ]
  },
  {
   "cell_type": "code",
   "execution_count": 30,
   "id": "c4823b72-061b-4309-b8a1-e8722ad0b838",
   "metadata": {},
   "outputs": [],
   "source": [
    "G = nx.DiGraph()\n",
    "sg = g.V().bothE().otherV().path().by(__.valueMap(True)).toList()\n",
    "for i in range(0,len(sg)):\n",
    "    # Add Nodes\n",
    "    G.add_node(list(sg[i][0].values())[2],screen_name=list(sg[i][0].values())[0][0], ntype= list(sg[i][0].values())[1])\n",
    "    G.add_node(list(sg[i][2].values())[2],screen_name=list(sg[i][2].values())[0][0], ntype= list(sg[i][0].values())[1])\n",
    "    # Add Edges\n",
    "    G.add_edge(list(sg[i][0].values())[2],list(sg[i][2].values())[2],elabel=list(sg[i][1].values())[2],weight=list(sg[i][1].values())[0],etype=list(sg[i][1].values())[1])"
   ]
  },
  {
   "cell_type": "markdown",
   "id": "abcd13a0-c73e-43d6-983f-0ecb452c0c95",
   "metadata": {},
   "source": [
    "Extract to show edge and node lists"
   ]
  },
  {
   "cell_type": "code",
   "execution_count": 31,
   "id": "70798dcc-4873-433d-9e54-9c9c5c98fbb2",
   "metadata": {},
   "outputs": [
    {
     "data": {
      "text/html": [
       "<div>\n",
       "<style scoped>\n",
       "    .dataframe tbody tr th:only-of-type {\n",
       "        vertical-align: middle;\n",
       "    }\n",
       "\n",
       "    .dataframe tbody tr th {\n",
       "        vertical-align: top;\n",
       "    }\n",
       "\n",
       "    .dataframe thead th {\n",
       "        text-align: right;\n",
       "    }\n",
       "</style>\n",
       "<table border=\"1\" class=\"dataframe\">\n",
       "  <thead>\n",
       "    <tr style=\"text-align: right;\">\n",
       "      <th></th>\n",
       "      <th>source</th>\n",
       "      <th>target</th>\n",
       "      <th>etype</th>\n",
       "      <th>weight</th>\n",
       "      <th>elabel</th>\n",
       "    </tr>\n",
       "  </thead>\n",
       "  <tbody>\n",
       "    <tr>\n",
       "      <th>0</th>\n",
       "      <td>1351</td>\n",
       "      <td>1</td>\n",
       "      <td>mentioned_by</td>\n",
       "      <td>0.068121</td>\n",
       "      <td>e14</td>\n",
       "    </tr>\n",
       "    <tr>\n",
       "      <th>1</th>\n",
       "      <td>1</td>\n",
       "      <td>1351</td>\n",
       "      <td>mentioned_by</td>\n",
       "      <td>0.068121</td>\n",
       "      <td>e14</td>\n",
       "    </tr>\n",
       "    <tr>\n",
       "      <th>2</th>\n",
       "      <td>1</td>\n",
       "      <td>1367</td>\n",
       "      <td>mentioned_by</td>\n",
       "      <td>0.046750</td>\n",
       "      <td>e30</td>\n",
       "    </tr>\n",
       "    <tr>\n",
       "      <th>3</th>\n",
       "      <td>1</td>\n",
       "      <td>1383</td>\n",
       "      <td>mentioned_by</td>\n",
       "      <td>0.038736</td>\n",
       "      <td>e46</td>\n",
       "    </tr>\n",
       "    <tr>\n",
       "      <th>4</th>\n",
       "      <td>1</td>\n",
       "      <td>1399</td>\n",
       "      <td>mentioned_by</td>\n",
       "      <td>0.033393</td>\n",
       "      <td>e62</td>\n",
       "    </tr>\n",
       "  </tbody>\n",
       "</table>\n",
       "</div>"
      ],
      "text/plain": [
       "  source target         etype    weight elabel\n",
       "0   1351      1  mentioned_by  0.068121    e14\n",
       "1      1   1351  mentioned_by  0.068121    e14\n",
       "2      1   1367  mentioned_by  0.046750    e30\n",
       "3      1   1383  mentioned_by  0.038736    e46\n",
       "4      1   1399  mentioned_by  0.033393    e62"
      ]
     },
     "execution_count": 31,
     "metadata": {},
     "output_type": "execute_result"
    }
   ],
   "source": [
    "G_edgelist = nx.to_pandas_edgelist(G)\n",
    "#G_edgelist = G_edgelist[G_edgelist['elabel'] != \"retweeted\"]\n",
    "G_edgelist.head()"
   ]
  },
  {
   "cell_type": "code",
   "execution_count": 32,
   "id": "477bed6c-9b2f-40e1-aa54-d0d679e1304f",
   "metadata": {},
   "outputs": [
    {
     "data": {
      "text/html": [
       "<div>\n",
       "<style scoped>\n",
       "    .dataframe tbody tr th:only-of-type {\n",
       "        vertical-align: middle;\n",
       "    }\n",
       "\n",
       "    .dataframe tbody tr th {\n",
       "        vertical-align: top;\n",
       "    }\n",
       "\n",
       "    .dataframe thead th {\n",
       "        text-align: right;\n",
       "    }\n",
       "</style>\n",
       "<table border=\"1\" class=\"dataframe\">\n",
       "  <thead>\n",
       "    <tr style=\"text-align: right;\">\n",
       "      <th></th>\n",
       "      <th>node</th>\n",
       "      <th>screen_name</th>\n",
       "      <th>ntype</th>\n",
       "    </tr>\n",
       "  </thead>\n",
       "  <tbody>\n",
       "    <tr>\n",
       "      <th>0</th>\n",
       "      <td>1351</td>\n",
       "      <td>@iooner</td>\n",
       "      <td>Tweeter</td>\n",
       "    </tr>\n",
       "    <tr>\n",
       "      <th>1</th>\n",
       "      <td>1</td>\n",
       "      <td>@MinBoxRadio</td>\n",
       "      <td>Tweeter</td>\n",
       "    </tr>\n",
       "    <tr>\n",
       "      <th>2</th>\n",
       "      <td>1367</td>\n",
       "      <td>@Retalyx</td>\n",
       "      <td>Tweeter</td>\n",
       "    </tr>\n",
       "    <tr>\n",
       "      <th>3</th>\n",
       "      <td>1383</td>\n",
       "      <td>@WTCraft</td>\n",
       "      <td>Tweeter</td>\n",
       "    </tr>\n",
       "    <tr>\n",
       "      <th>4</th>\n",
       "      <td>1399</td>\n",
       "      <td>@Foulimage</td>\n",
       "      <td>Tweeter</td>\n",
       "    </tr>\n",
       "    <tr>\n",
       "      <th>...</th>\n",
       "      <td>...</td>\n",
       "      <td>...</td>\n",
       "      <td>...</td>\n",
       "    </tr>\n",
       "    <tr>\n",
       "      <th>8034</th>\n",
       "      <td>7909</td>\n",
       "      <td>@MpM2dPlh3c9lomDJD0q120yjZbcpzIiZ6jiW5l</td>\n",
       "      <td>Tweeter</td>\n",
       "    </tr>\n",
       "    <tr>\n",
       "      <th>8035</th>\n",
       "      <td>1316</td>\n",
       "      <td>@ONkki4n+E0yCYHDIn24IsYFBbTsBbH28W1UeFmxPyY=</td>\n",
       "      <td>Tweeter</td>\n",
       "    </tr>\n",
       "    <tr>\n",
       "      <th>8036</th>\n",
       "      <td>8009</td>\n",
       "      <td>@curious4fun44</td>\n",
       "      <td>Tweeter</td>\n",
       "    </tr>\n",
       "    <tr>\n",
       "      <th>8037</th>\n",
       "      <td>8016</td>\n",
       "      <td>@Keskin_Sozler1</td>\n",
       "      <td>Tweeter</td>\n",
       "    </tr>\n",
       "    <tr>\n",
       "      <th>8038</th>\n",
       "      <td>8038</td>\n",
       "      <td>@Y9uzmStRCvsESsw</td>\n",
       "      <td>Tweeter</td>\n",
       "    </tr>\n",
       "  </tbody>\n",
       "</table>\n",
       "<p>8039 rows × 3 columns</p>\n",
       "</div>"
      ],
      "text/plain": [
       "      node                                   screen_name    ntype\n",
       "0     1351                                       @iooner  Tweeter\n",
       "1        1                                  @MinBoxRadio  Tweeter\n",
       "2     1367                                      @Retalyx  Tweeter\n",
       "3     1383                                      @WTCraft  Tweeter\n",
       "4     1399                                    @Foulimage  Tweeter\n",
       "...    ...                                           ...      ...\n",
       "8034  7909       @MpM2dPlh3c9lomDJD0q120yjZbcpzIiZ6jiW5l  Tweeter\n",
       "8035  1316  @ONkki4n+E0yCYHDIn24IsYFBbTsBbH28W1UeFmxPyY=  Tweeter\n",
       "8036  8009                                @curious4fun44  Tweeter\n",
       "8037  8016                               @Keskin_Sozler1  Tweeter\n",
       "8038  8038                              @Y9uzmStRCvsESsw  Tweeter\n",
       "\n",
       "[8039 rows x 3 columns]"
      ]
     },
     "execution_count": 32,
     "metadata": {},
     "output_type": "execute_result"
    }
   ],
   "source": [
    "G_nodelist = pd.DataFrame([i[1] for i in G.nodes(data=True)], index=[i[0] for i in G.nodes(data=True)]).rename_axis('node').reset_index()\n",
    "G_nodelist"
   ]
  },
  {
   "cell_type": "markdown",
   "id": "89bf0276-adc2-4380-aab8-33856894255b",
   "metadata": {},
   "source": [
    "### Export to JSON for data viz"
   ]
  },
  {
   "cell_type": "code",
   "execution_count": 33,
   "id": "ccc05304-d27d-455d-8105-98e0f1eb5567",
   "metadata": {},
   "outputs": [],
   "source": [
    "with open('networkdata1.json', 'w') as outfile1:\n",
    "    outfile1.write(json.dumps(json_graph.node_link_data(G)))"
   ]
  },
  {
   "cell_type": "markdown",
   "id": "faf7db81-2f2b-414c-96fd-16b74ac0e7bd",
   "metadata": {},
   "source": [
    "### Close DB Connection"
   ]
  },
  {
   "cell_type": "code",
   "execution_count": 233,
   "id": "2387334f-e904-4d93-b1b4-a4c5f0fdfe65",
   "metadata": {},
   "outputs": [],
   "source": [
    "remoteConn.close()"
   ]
  }
 ],
 "metadata": {
  "kernelspec": {
   "display_name": "Python 3",
   "language": "python",
   "name": "python3"
  },
  "language_info": {
   "codemirror_mode": {
    "name": "ipython",
    "version": 3
   },
   "file_extension": ".py",
   "mimetype": "text/x-python",
   "name": "python",
   "nbconvert_exporter": "python",
   "pygments_lexer": "ipython3",
   "version": "3.8.11"
  }
 },
 "nbformat": 4,
 "nbformat_minor": 5
}
