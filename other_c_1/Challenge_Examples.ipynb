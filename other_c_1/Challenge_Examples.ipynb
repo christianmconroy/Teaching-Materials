{
 "cells": [
  {
   "cell_type": "code",
   "execution_count": 4,
   "id": "057f106a",
   "metadata": {},
   "outputs": [
    {
     "name": "stdout",
     "output_type": "stream",
     "text": [
      "What is your first name?\n"
     ]
    },
    {
     "name": "stdin",
     "output_type": "stream",
     "text": [
      "First Name :  Christian\n"
     ]
    },
    {
     "name": "stdout",
     "output_type": "stream",
     "text": [
      "Hello Christian\n"
     ]
    }
   ],
   "source": [
    "print('What is your first name?')\n",
    "name = input(\"First Name : \")\n",
    "print('Hello {0}'.format(name))"
   ]
  },
  {
   "cell_type": "code",
   "execution_count": 6,
   "id": "61180d25",
   "metadata": {},
   "outputs": [
    {
     "name": "stdin",
     "output_type": "stream",
     "text": [
      "What is your first name? :  Christian\n",
      "What is your lastn name? :  Conroy\n"
     ]
    },
    {
     "name": "stdout",
     "output_type": "stream",
     "text": [
      "Hello Christian Conroy\n"
     ]
    }
   ],
   "source": [
    "fname = input(\"What is your first name? : \")\n",
    "lname = input(\"What is your last name? : \")\n",
    "print('Hello {0} {1}'.format(name, lname))"
   ]
  },
  {
   "cell_type": "code",
   "execution_count": 17,
   "id": "a0006d97",
   "metadata": {},
   "outputs": [
    {
     "name": "stdout",
     "output_type": "stream",
     "text": [
      "What do you call a bear with no teeth? \n",
      "A gummy bear!\n"
     ]
    }
   ],
   "source": [
    "print('What do you call a bear with no teeth? \\n{0}'.format(\"A gummy bear!\"))"
   ]
  },
  {
   "cell_type": "code",
   "execution_count": 25,
   "id": "7688c8c8",
   "metadata": {},
   "outputs": [
    {
     "name": "stdin",
     "output_type": "stream",
     "text": [
      "Enter two values:  1 2\n"
     ]
    },
    {
     "name": "stdout",
     "output_type": "stream",
     "text": [
      "The total is 3\n"
     ]
    }
   ],
   "source": [
    "num, num2 = input(\"Enter two values: \").split()\n",
    "name = int(num) + int(num2)\n",
    "print('The total is {0}'.format(name))"
   ]
  },
  {
   "cell_type": "code",
   "execution_count": 28,
   "id": "9a476ffe",
   "metadata": {},
   "outputs": [
    {
     "name": "stdin",
     "output_type": "stream",
     "text": [
      "Enter thre values:  2 2 5\n"
     ]
    },
    {
     "name": "stdout",
     "output_type": "stream",
     "text": [
      "The answer is 20\n"
     ]
    }
   ],
   "source": [
    "num, num2, num3 = input(\"Enter thre values: \").split()\n",
    "name = (int(num) + int(num2)) * int(num3)\n",
    "print('The answer is {0}'.format(name))"
   ]
  },
  {
   "cell_type": "code",
   "execution_count": 30,
   "id": "42e3b462",
   "metadata": {},
   "outputs": [
    {
     "name": "stdin",
     "output_type": "stream",
     "text": [
      "How many slices did you start with? 10\n",
      "How many slics have you eaten? 3\n"
     ]
    },
    {
     "name": "stdout",
     "output_type": "stream",
     "text": [
      "You have 7 slices left.\n"
     ]
    }
   ],
   "source": [
    "num1 = input(\"How many slices did you start with?\")\n",
    "num2 = input(\"How many slics have you eaten?\")\n",
    "left = int(num1)-int(num2)\n",
    "print('You have {0} slices left.'.format(left))"
   ]
  },
  {
   "cell_type": "code",
   "execution_count": 31,
   "id": "ed8dd4d7",
   "metadata": {},
   "outputs": [
    {
     "name": "stdin",
     "output_type": "stream",
     "text": [
      "What is your name? Allistair\n",
      "What is your age? 14\n"
     ]
    },
    {
     "name": "stdout",
     "output_type": "stream",
     "text": [
      "Allistair next birthday you will be 15.\n"
     ]
    }
   ],
   "source": [
    "num1 = input(\"What is your name?\")\n",
    "num2 = input(\"What is your age?\")\n",
    "left = int(num2)+1\n",
    "print('{0} next birthday you will be {1}.'.format(num1, left))"
   ]
  },
  {
   "cell_type": "code",
   "execution_count": 41,
   "id": "56ccd54a",
   "metadata": {},
   "outputs": [
    {
     "name": "stdin",
     "output_type": "stream",
     "text": [
      "What is the bill price? 100\n",
      "How many people? 5\n"
     ]
    },
    {
     "name": "stdout",
     "output_type": "stream",
     "text": [
      "Each person must pay $20.0.\n"
     ]
    }
   ],
   "source": [
    "num1 = input(\"What is the bill price?\")\n",
    "num2 = input(\"How many people?\")\n",
    "left = int(num1)/int(num2)\n",
    "print('Each person must pay ${0}.'.format(left))"
   ]
  },
  {
   "cell_type": "code",
   "execution_count": 42,
   "id": "361b9080",
   "metadata": {},
   "outputs": [
    {
     "name": "stdin",
     "output_type": "stream",
     "text": [
      "How many days? 3\n"
     ]
    },
    {
     "name": "stdout",
     "output_type": "stream",
     "text": [
      "Hours: 72, Minutes: 4320, Seconds: 259200\n"
     ]
    }
   ],
   "source": [
    "num1 = input(\"How many days?\")\n",
    "hours = int(num1) * 24\n",
    "mins = int(num1) * 24 * 60\n",
    "secs = int(num1) * 24 * 60 * 60\n",
    "print('Hours: {0}, Minutes: {1}, Seconds: {2}'.format(hours, mins, secs))"
   ]
  },
  {
   "cell_type": "code",
   "execution_count": 45,
   "id": "f1238801",
   "metadata": {},
   "outputs": [
    {
     "name": "stdin",
     "output_type": "stream",
     "text": [
      "Enter a number over 100: 500\n",
      "Enter a number under 10: 5\n"
     ]
    },
    {
     "name": "stdout",
     "output_type": "stream",
     "text": [
      "5 goes into 500 100.0 times.\n"
     ]
    }
   ],
   "source": [
    "num1 = input(\"Enter a number over 100:\")\n",
    "num2 = input(\"Enter a number under 10:\")\n",
    "left = int(num1)/int(num2)\n",
    "print('{0} goes into {1} {2} times.'.format(num2, num1, left))"
   ]
  },
  {
   "cell_type": "code",
   "execution_count": 47,
   "id": "48a3cde7",
   "metadata": {},
   "outputs": [
    {
     "name": "stdin",
     "output_type": "stream",
     "text": [
      "Enter a number:  2\n",
      "Enter another number:  6\n"
     ]
    },
    {
     "name": "stdout",
     "output_type": "stream",
     "text": [
      "2\n",
      "6\n"
     ]
    }
   ],
   "source": [
    "num = int(input(\"Enter a number: \"))\n",
    "num1 = int(input(\"Enter another number: \"))\n",
    "if num > num1:\n",
    "    print(num1)\n",
    "    print(num)\n",
    "else:\n",
    "    print(num)\n",
    "    print(num1)"
   ]
  },
  {
   "cell_type": "code",
   "execution_count": 54,
   "id": "297b86fc",
   "metadata": {},
   "outputs": [
    {
     "name": "stdin",
     "output_type": "stream",
     "text": [
      "What is your favorite color?  RED\n"
     ]
    },
    {
     "name": "stdout",
     "output_type": "stream",
     "text": [
      "I like red too\n"
     ]
    }
   ],
   "source": [
    "color = input(\"What is your favorite color? \")\n",
    "if ((color == \"red\") | (color == \"RED\") | (color == \"Red\")):\n",
    "    print(\"I like red too\")\n",
    "else:\n",
    "    print(\"I don’t like\", color, \"I prefer red\")"
   ]
  },
  {
   "cell_type": "code",
   "execution_count": 56,
   "id": "7f20960e",
   "metadata": {},
   "outputs": [
    {
     "name": "stdin",
     "output_type": "stream",
     "text": [
      "What is your favorite color?  RED\n"
     ]
    },
    {
     "name": "stdout",
     "output_type": "stream",
     "text": [
      "I like red too\n"
     ]
    }
   ],
   "source": [
    "color = input(\"What is your favorite color? \")\n",
    "if color == \"red\" or color == \"RED\" or color == \"Red\":\n",
    "    print(\"I like red too\")\n",
    "else:\n",
    "    print(\"I don’t like\", color, \"I prefer red\")"
   ]
  },
  {
   "cell_type": "code",
   "execution_count": 52,
   "id": "7c841d3e",
   "metadata": {},
   "outputs": [
    {
     "name": "stdin",
     "output_type": "stream",
     "text": [
      "Is it raining?  YES\n",
      "Is it windy?  NO\n"
     ]
    },
    {
     "name": "stdout",
     "output_type": "stream",
     "text": [
      "Take an umbrella\n"
     ]
    }
   ],
   "source": [
    "rain = input(\"Is it raining? \").lower()\n",
    "if rain == \"yes\":\n",
    "    wind = input(\"Is it windy? \").lower()\n",
    "    if wind == \"yes\":\n",
    "        print(\"It is too windy for an umbrella\")\n",
    "    else:\n",
    "        print(\"Take an umbrella\")\n",
    "else:\n",
    "    print(\"Enjoy your day\")"
   ]
  },
  {
   "cell_type": "code",
   "execution_count": 57,
   "id": "17d42d88",
   "metadata": {},
   "outputs": [
    {
     "name": "stdin",
     "output_type": "stream",
     "text": [
      "Enter your first name:  Jimmeny\n"
     ]
    },
    {
     "name": "stdout",
     "output_type": "stream",
     "text": [
      "7\n"
     ]
    }
   ],
   "source": [
    "color = input(\"Enter your first name: \")\n",
    "print(len(color))"
   ]
  },
  {
   "cell_type": "code",
   "execution_count": 58,
   "id": "14554d86",
   "metadata": {},
   "outputs": [
    {
     "name": "stdin",
     "output_type": "stream",
     "text": [
      "Enter your first name:  jim\n",
      "Enter your last name:  cris\n"
     ]
    },
    {
     "name": "stdout",
     "output_type": "stream",
     "text": [
      "jim cris 8\n"
     ]
    }
   ],
   "source": [
    "fr = input(\"Enter your first name: \")\n",
    "ls = input(\"Enter your last name: \")\n",
    "fu = fr + \" \" + ls\n",
    "print(fu, len(fu))"
   ]
  },
  {
   "cell_type": "code",
   "execution_count": 60,
   "id": "cd0147c2",
   "metadata": {},
   "outputs": [
    {
     "name": "stdin",
     "output_type": "stream",
     "text": [
      "Enter your first name:  tim\n",
      "Enter your last name:  sads\n"
     ]
    },
    {
     "name": "stdout",
     "output_type": "stream",
     "text": [
      "TIMSADS\n"
     ]
    }
   ],
   "source": [
    "fr = input(\"Enter your first name: \")\n",
    "if len(fr) < 5:\n",
    "    ls = input(\"Enter your last name: \")\n",
    "    fu = fr + ls\n",
    "    print(fu.upper())\n",
    "else:\n",
    "    print(fr.lower())"
   ]
  },
  {
   "cell_type": "code",
   "execution_count": 67,
   "id": "d8c8f86f",
   "metadata": {},
   "outputs": [
    {
     "name": "stdin",
     "output_type": "stream",
     "text": [
      "Enter your a word:  area\n"
     ]
    },
    {
     "name": "stdout",
     "output_type": "stream",
     "text": [
      "areaway\n"
     ]
    }
   ],
   "source": [
    "fr = input(\"Enter your a word: \")\n",
    "if(fr[0] == 'a' or fr[0] == 'e' or fr[0] == 'i' or fr[0] == 'o' or fr[0] == 'u' or fr[0] == 'A'\n",
    "       or fr[0] == 'E' or fr[0] == 'I' or fr[0] == 'O' or fr[0] == 'U'):\n",
    "    ls = fr + \"way\"\n",
    "else:\n",
    "    ls = fr[1:] + fr[0] + \"ay\"\n",
    "print(ls.lower())"
   ]
  },
  {
   "cell_type": "code",
   "execution_count": 62,
   "id": "3fbad3c2",
   "metadata": {},
   "outputs": [
    {
     "data": {
      "text/plain": [
       "'ig'"
      ]
     },
     "execution_count": 62,
     "metadata": {},
     "output_type": "execute_result"
    }
   ],
   "source": [
    "fr = \"pig\"\n",
    "fr[1:]"
   ]
  },
  {
   "cell_type": "code",
   "execution_count": 68,
   "id": "4c7aa54c",
   "metadata": {},
   "outputs": [],
   "source": [
    "import math"
   ]
  },
  {
   "cell_type": "code",
   "execution_count": 70,
   "id": "109a710a",
   "metadata": {},
   "outputs": [
    {
     "name": "stdin",
     "output_type": "stream",
     "text": [
      "Enter a number with lots of decimals:  3.567432\n"
     ]
    },
    {
     "name": "stdout",
     "output_type": "stream",
     "text": [
      "7.134864\n"
     ]
    }
   ],
   "source": [
    "fr = float(input(\"Enter a number with lots of decimals: \"))\n",
    "d = fr * 2\n",
    "print(d)"
   ]
  },
  {
   "cell_type": "code",
   "execution_count": 72,
   "id": "d129f243",
   "metadata": {},
   "outputs": [
    {
     "name": "stdin",
     "output_type": "stream",
     "text": [
      "Enter a number with lots of decimals:  6.645322\n"
     ]
    },
    {
     "name": "stdout",
     "output_type": "stream",
     "text": [
      "13.29\n"
     ]
    }
   ],
   "source": [
    "fr = float(input(\"Enter a number with lots of decimals: \"))\n",
    "d = fr * 2\n",
    "print(round(d,2))"
   ]
  },
  {
   "cell_type": "code",
   "execution_count": 73,
   "id": "e9476f00",
   "metadata": {},
   "outputs": [
    {
     "name": "stdin",
     "output_type": "stream",
     "text": [
      "Enter a number over 500:  876543\n"
     ]
    },
    {
     "name": "stdout",
     "output_type": "stream",
     "text": [
      "936.24\n"
     ]
    }
   ],
   "source": [
    "num = float(input(\"Enter a number over 500: \"))\n",
    "d = round(math.sqrt(num), 2)\n",
    "print(d)"
   ]
  },
  {
   "cell_type": "code",
   "execution_count": 76,
   "id": "e0948f91",
   "metadata": {},
   "outputs": [
    {
     "name": "stdout",
     "output_type": "stream",
     "text": [
      "1) Square\n",
      "2) Triangle\n"
     ]
    },
    {
     "name": "stdin",
     "output_type": "stream",
     "text": [
      "Give a number of the shape  2\n",
      "Give the base of the triangle:  4\n",
      "Give the height of the triangle:  9\n"
     ]
    },
    {
     "name": "stdout",
     "output_type": "stream",
     "text": [
      "Area is 18.0\n"
     ]
    }
   ],
   "source": [
    "print(\"1) Square\")\n",
    "print(\"2) Triangle\")\n",
    "geom = int(input(\"Give a number of the shape \"))\n",
    "if geom == 1:\n",
    "    side = int(input(\"Give the length of one of its sides: \"))\n",
    "    print(\"Area is\", side*side)\n",
    "else:\n",
    "    base = int(input(\"Give the base of the triangle: \"))\n",
    "    height = int(input(\"Give the height of the triangle: \"))\n",
    "    print(\"Area is\", .5 * base * height)"
   ]
  },
  {
   "cell_type": "code",
   "execution_count": 79,
   "id": "f5d8cc12",
   "metadata": {},
   "outputs": [
    {
     "name": "stdin",
     "output_type": "stream",
     "text": [
      "Enter your name:  jim\n"
     ]
    },
    {
     "name": "stdout",
     "output_type": "stream",
     "text": [
      "jim\n",
      "jim\n",
      "jim\n"
     ]
    }
   ],
   "source": [
    "fr = input(\"Enter your name: \")\n",
    "for i in range (0,3):\n",
    "    print(fr)"
   ]
  },
  {
   "cell_type": "code",
   "execution_count": 81,
   "id": "9fbccea5",
   "metadata": {},
   "outputs": [
    {
     "name": "stdin",
     "output_type": "stream",
     "text": [
      "Enter your name:  Christian\n",
      "Enter a number:  11\n"
     ]
    },
    {
     "name": "stdout",
     "output_type": "stream",
     "text": [
      "Too high\n",
      "Too high\n",
      "Too high\n"
     ]
    }
   ],
   "source": [
    "fr = input(\"Enter your name: \")\n",
    "gg = int(input(\"Enter a number: \"))\n",
    "if gg < 10:\n",
    "    for i in range (0,gg):\n",
    "        print(fr)\n",
    "else:\n",
    "    for i in range (0,3):\n",
    "        print(\"Too high\")\n"
   ]
  },
  {
   "cell_type": "code",
   "execution_count": 88,
   "id": "53a8e3bf",
   "metadata": {},
   "outputs": [
    {
     "name": "stdin",
     "output_type": "stream",
     "text": [
      "up or down:  down\n",
      "number below 20:  15\n"
     ]
    },
    {
     "name": "stdout",
     "output_type": "stream",
     "text": [
      "20\n",
      "19\n",
      "18\n",
      "17\n",
      "16\n",
      "15\n"
     ]
    }
   ],
   "source": [
    "fr = input(\"up or down: \")\n",
    "if fr == \"up\":\n",
    "    gg = int(input(\"top number: \"))\n",
    "    for i in range (1,gg+1):\n",
    "        print(i)\n",
    "elif fr == \"down\":\n",
    "    gg = int(input(\"number below 20: \"))\n",
    "    for i in range (20,gg-1,-1):\n",
    "        print(i)\n",
    "else:\n",
    "    print(\"I don't understand\")"
   ]
  },
  {
   "cell_type": "code",
   "execution_count": 89,
   "id": "af97de86",
   "metadata": {},
   "outputs": [
    {
     "name": "stdin",
     "output_type": "stream",
     "text": [
      "Input a number:  4\n"
     ]
    },
    {
     "name": "stdout",
     "output_type": "stream",
     "text": [
      "The total is  4\n"
     ]
    },
    {
     "name": "stdin",
     "output_type": "stream",
     "text": [
      "Input a number:  5\n"
     ]
    },
    {
     "name": "stdout",
     "output_type": "stream",
     "text": [
      "The total is  9\n"
     ]
    },
    {
     "name": "stdin",
     "output_type": "stream",
     "text": [
      "Input a number:  19\n"
     ]
    },
    {
     "name": "stdout",
     "output_type": "stream",
     "text": [
      "The total is  28\n"
     ]
    },
    {
     "name": "stdin",
     "output_type": "stream",
     "text": [
      "Input a number:  19\n"
     ]
    },
    {
     "name": "stdout",
     "output_type": "stream",
     "text": [
      "The total is  47\n"
     ]
    },
    {
     "name": "stdin",
     "output_type": "stream",
     "text": [
      "Input a number:  2\n"
     ]
    },
    {
     "name": "stdout",
     "output_type": "stream",
     "text": [
      "The total is  49\n"
     ]
    },
    {
     "name": "stdin",
     "output_type": "stream",
     "text": [
      "Input a number:  1\n"
     ]
    },
    {
     "name": "stdout",
     "output_type": "stream",
     "text": [
      "The total is  50\n"
     ]
    },
    {
     "name": "stdin",
     "output_type": "stream",
     "text": [
      "Input a number:  1\n"
     ]
    },
    {
     "name": "stdout",
     "output_type": "stream",
     "text": [
      "The total is  51\n"
     ]
    }
   ],
   "source": [
    "total = 0\n",
    "while total <= 50:\n",
    "    fr = int(input(\"Input a number: \"))\n",
    "    total = total + fr\n",
    "    print(\"The total is \", total)\n",
    "    d"
   ]
  },
  {
   "cell_type": "code",
   "execution_count": 4,
   "id": "7fc97cd4",
   "metadata": {},
   "outputs": [
    {
     "name": "stdin",
     "output_type": "stream",
     "text": [
      "Enter a number betwen 10 and 20:  9\n"
     ]
    },
    {
     "name": "stdout",
     "output_type": "stream",
     "text": [
      "Too low\n"
     ]
    },
    {
     "name": "stdin",
     "output_type": "stream",
     "text": [
      "Enter a number betwen 10 and 20:  21\n"
     ]
    },
    {
     "name": "stdout",
     "output_type": "stream",
     "text": [
      "Too high\n"
     ]
    },
    {
     "name": "stdin",
     "output_type": "stream",
     "text": [
      "Enter a number betwen 10 and 20:  15\n"
     ]
    },
    {
     "name": "stdout",
     "output_type": "stream",
     "text": [
      "Thank you\n"
     ]
    }
   ],
   "source": [
    "fr = int(input(\"Enter a number betwen 10 and 20: \"))\n",
    "while fr < 10 or fr > 20:\n",
    "    if fr < 10:\n",
    "        print(\"Too low\")\n",
    "        fr = int(input(\"Enter a number betwen 10 and 20: \"))\n",
    "    elif fr > 10:\n",
    "        print(\"Too high\")\n",
    "        fr = int(input(\"Enter a number betwen 10 and 20: \"))\n",
    "    else:\n",
    "        pass\n",
    "print(\"Thank you\")"
   ]
  },
  {
   "cell_type": "code",
   "execution_count": 1,
   "id": "02098bea",
   "metadata": {},
   "outputs": [],
   "source": [
    "import random"
   ]
  },
  {
   "cell_type": "code",
   "execution_count": 7,
   "id": "6787ea53",
   "metadata": {},
   "outputs": [
    {
     "data": {
      "text/plain": [
       "25"
      ]
     },
     "execution_count": 7,
     "metadata": {},
     "output_type": "execute_result"
    }
   ],
   "source": [
    "random.randint(0,100)"
   ]
  },
  {
   "cell_type": "code",
   "execution_count": 10,
   "id": "ef4c8d56",
   "metadata": {},
   "outputs": [
    {
     "data": {
      "text/plain": [
       "'apple'"
      ]
     },
     "execution_count": 10,
     "metadata": {},
     "output_type": "execute_result"
    }
   ],
   "source": [
    "fruitlist = [\"apple\",\"orange\",\"banana\",\"grape\",\"kiwi\"]\n",
    "random.choice(fruitlist)"
   ]
  },
  {
   "cell_type": "code",
   "execution_count": 21,
   "id": "998c7a32",
   "metadata": {},
   "outputs": [
    {
     "name": "stdin",
     "output_type": "stream",
     "text": [
      "Guess a num between 1 and 5:  1\n"
     ]
    },
    {
     "name": "stdout",
     "output_type": "stream",
     "text": [
      "Too low\n"
     ]
    },
    {
     "name": "stdin",
     "output_type": "stream",
     "text": [
      "Pick again:  2\n"
     ]
    },
    {
     "name": "stdout",
     "output_type": "stream",
     "text": [
      "You lose\n"
     ]
    }
   ],
   "source": [
    "answer = int(input(\"Guess a num between 1 and 5: \"))\n",
    "real = random.randint(1,5)\n",
    "if answer == real:\n",
    "    print(\"Well Done\")\n",
    "else: \n",
    "    if answer > real:\n",
    "        print(\"Too high\")\n",
    "    else: \n",
    "        print(\"Too low\")\n",
    "    answer = int(input(\"Pick again: \"))\n",
    "    if answer == real:\n",
    "        print(\"Correct\")\n",
    "    else: \n",
    "        print(\"You lose\")"
   ]
  },
  {
   "cell_type": "code",
   "execution_count": 27,
   "id": "74ef86c7",
   "metadata": {},
   "outputs": [
    {
     "name": "stdin",
     "output_type": "stream",
     "text": [
      "Pirck on of the colors:  orange\n"
     ]
    },
    {
     "name": "stdout",
     "output_type": "stream",
     "text": [
      "I bet you are GREEN with envy\n"
     ]
    },
    {
     "name": "stdin",
     "output_type": "stream",
     "text": [
      "Guess again:  blue\n"
     ]
    },
    {
     "name": "stdout",
     "output_type": "stream",
     "text": [
      "I bet you are GREEN with envy\n"
     ]
    },
    {
     "name": "stdin",
     "output_type": "stream",
     "text": [
      "Guess again:  green\n"
     ]
    }
   ],
   "source": [
    "fruitlist = [\"blue\",\"orange\",\"green\",\"red\",\"yellow\"]\n",
    "real = random.choice(fruitlist)\n",
    "answer = input(\"Pirck on of the colors: \")\n",
    "while answer != real:\n",
    "    if answer == real:\n",
    "        print(\"Well done\")\n",
    "    else:\n",
    "        if (answer != real) & (real == \"blue\"):\n",
    "            print(\"You are probably feeling BLUE right now\")\n",
    "        elif (answer != real) & (real == \"green\"):\n",
    "            print(\"I bet you are GREEN with envy\")\n",
    "        elif (answer != real) & (real == \"red\"):\n",
    "            print(\"I bet you are RED with anger\")\n",
    "        elif (answer != real) & (real == \"yellow\"):\n",
    "            print(\"I bet you have a YELLOW belly\")\n",
    "        elif (answer != real) & (real == \"orange\"):\n",
    "            print(\"Orange you sorry\")\n",
    "        else: \n",
    "            print(\"Not a color\")\n",
    "        answer = input(\"Guess again: \")"
   ]
  },
  {
   "cell_type": "code",
   "execution_count": 1,
   "id": "93244c53",
   "metadata": {},
   "outputs": [],
   "source": [
    "import turtle"
   ]
  },
  {
   "cell_type": "code",
   "execution_count": 30,
   "id": "46f5b216",
   "metadata": {},
   "outputs": [],
   "source": [
    "turtle.shape(\"turtle\")\n",
    "\n",
    "for i in range(0,5):\n",
    "    turtle.forward(100)\n",
    "    turtle.right(72)\n",
    "turtle.exitonclick()"
   ]
  },
  {
   "cell_type": "code",
   "execution_count": 6,
   "id": "e8ccdcdc",
   "metadata": {},
   "outputs": [],
   "source": [
    "fruit_tuple = (\"apple\",\"orangee\",\"red\", \"strawberry\") "
   ]
  },
  {
   "cell_type": "code",
   "execution_count": 7,
   "id": "02598d2b",
   "metadata": {},
   "outputs": [
    {
     "name": "stdout",
     "output_type": "stream",
     "text": [
      "3\n"
     ]
    }
   ],
   "source": [
    "print(fruit_tuple.index(\"strawberry\")) "
   ]
  },
  {
   "cell_type": "code",
   "execution_count": 8,
   "id": "11dde1a3",
   "metadata": {},
   "outputs": [
    {
     "name": "stdout",
     "output_type": "stream",
     "text": [
      "red\n"
     ]
    }
   ],
   "source": [
    "print(fruit_tuple[2]) "
   ]
  },
  {
   "cell_type": "code",
   "execution_count": 11,
   "id": "84f9dab2",
   "metadata": {},
   "outputs": [
    {
     "name": "stdout",
     "output_type": "stream",
     "text": [
      "('USA', 'China', 'Mexico', 'Sweden', 'Japan')\n"
     ]
    },
    {
     "name": "stdin",
     "output_type": "stream",
     "text": [
      "Pick one of the countries:  Sweden\n"
     ]
    },
    {
     "name": "stdout",
     "output_type": "stream",
     "text": [
      "3\n"
     ]
    },
    {
     "name": "stdin",
     "output_type": "stream",
     "text": [
      "Enter the index number:  2\n"
     ]
    },
    {
     "name": "stdout",
     "output_type": "stream",
     "text": [
      "Mexico\n"
     ]
    }
   ],
   "source": [
    "fruit_tuple = (\"USA\",\"China\",\"Mexico\",\"Sweden\",\"Japan\") \n",
    "print(fruit_tuple )\n",
    "answer = input(\"Pick one of the countries: \")\n",
    "print(fruit_tuple.index(answer)) \n",
    "answer = int(input(\"Enter the index number: \"))\n",
    "print(fruit_tuple[answer]) "
   ]
  },
  {
   "cell_type": "code",
   "execution_count": 13,
   "id": "1cd35808",
   "metadata": {},
   "outputs": [
    {
     "name": "stdin",
     "output_type": "stream",
     "text": [
      "What is your favorite sport?  baseball\n"
     ]
    },
    {
     "name": "stdout",
     "output_type": "stream",
     "text": [
      "['baseball', 'basketball', 'football']\n"
     ]
    }
   ],
   "source": [
    "sports = [\"football\",\"basketball\"]\n",
    "answer = input(\"What is your favorite sport? \")\n",
    "sports.append(answer)\n",
    "print(sorted(sports)) "
   ]
  },
  {
   "cell_type": "code",
   "execution_count": 15,
   "id": "08c36897",
   "metadata": {},
   "outputs": [
    {
     "name": "stdin",
     "output_type": "stream",
     "text": [
      "What sport don't you like?  baseball\n"
     ]
    },
    {
     "name": "stdout",
     "output_type": "stream",
     "text": [
      "['basketball', 'football']\n"
     ]
    }
   ],
   "source": [
    "sports = [\"football\",\"basketball\", \"baseball\"]\n",
    "answer = input(\"What sport don't you like? \")\n",
    "sports.remove(answer)\n",
    "print(sorted(sports)) "
   ]
  },
  {
   "cell_type": "code",
   "execution_count": 23,
   "id": "187bb8cf",
   "metadata": {},
   "outputs": [
    {
     "name": "stdin",
     "output_type": "stream",
     "text": [
      "Enter your four favorite foods apple egg papr bat\n"
     ]
    },
    {
     "name": "stdout",
     "output_type": "stream",
     "text": [
      "{1: 'apple', 2: 'egg', 3: 'papr', 4: 'bat'}\n"
     ]
    },
    {
     "name": "stdin",
     "output_type": "stream",
     "text": [
      "What food would you get rid of?  3\n"
     ]
    },
    {
     "name": "stdout",
     "output_type": "stream",
     "text": [
      "['apple', 'bat', 'egg']\n"
     ]
    }
   ],
   "source": [
    "f1, f2, f3, f4 = input(\"Enter your four favorite foods\").split()\n",
    "foods= {1:f1,2:f2,3:f3,4:f4}\n",
    "print(foods)\n",
    "answer = int(input(\"What food would you get rid of? \"))\n",
    "del foods[answer]\n",
    "print(sorted(foods.values()))"
   ]
  },
  {
   "cell_type": "code",
   "execution_count": 29,
   "id": "cf3bb9eb",
   "metadata": {},
   "outputs": [
    {
     "name": "stdin",
     "output_type": "stream",
     "text": [
      "What is a friend you want to invite?  jim\n",
      "Another friend?  tim\n",
      "Another friend?  lance\n",
      "Do you want to add another?  yes\n",
      "Another friend?  pim\n",
      "Do you want to add another?  yes\n",
      "Another friend?  rose\n",
      "Do you want to add another?  yes\n",
      "Another friend?  guy\n",
      "Do you want to add another?  no\n"
     ]
    },
    {
     "name": "stdout",
     "output_type": "stream",
     "text": [
      "6\n"
     ]
    }
   ],
   "source": [
    "f1 = input(\"What is a friend you want to invite? \")\n",
    "f2 = input(\"Another friend? \")\n",
    "f3 = input(\"Another friend? \")\n",
    "friends = [f1,f2,f3]\n",
    "ques = \"yes\"\n",
    "while ques == \"yes\":\n",
    "    ques = input(\"Do you want to add another? \")\n",
    "    if ques == \"yes\":\n",
    "        f2 = input(\"Another friend? \")\n",
    "        friends.append(f2)\n",
    "    else:\n",
    "        print(len(friends))"
   ]
  },
  {
   "cell_type": "code",
   "execution_count": 36,
   "id": "b0d86127",
   "metadata": {},
   "outputs": [
    {
     "name": "stdin",
     "output_type": "stream",
     "text": [
      "Enter a number:  1\n"
     ]
    },
    {
     "name": "stdout",
     "output_type": "stream",
     "text": [
      "[1]\n"
     ]
    },
    {
     "name": "stdin",
     "output_type": "stream",
     "text": [
      "Enter a number:  2\n"
     ]
    },
    {
     "name": "stdout",
     "output_type": "stream",
     "text": [
      "[1, 2]\n"
     ]
    },
    {
     "name": "stdin",
     "output_type": "stream",
     "text": [
      "Enter a number:  6\n"
     ]
    },
    {
     "name": "stdout",
     "output_type": "stream",
     "text": [
      "[1, 2, 6]\n"
     ]
    },
    {
     "name": "stdin",
     "output_type": "stream",
     "text": [
      "Do you still want the last number?  yes\n"
     ]
    },
    {
     "name": "stdout",
     "output_type": "stream",
     "text": [
      "[1, 2, 6]\n"
     ]
    }
   ],
   "source": [
    "nums = []\n",
    "while len(nums) < 3:\n",
    "    f1 = int(input(\"Enter a number: \"))\n",
    "    nums.append(f1)\n",
    "    print(nums)\n",
    "answer = input(\"Do you still want the last number? \")\n",
    "if answer == \"no\":\n",
    "    nums = nums[0:-1]\n",
    "else:\n",
    "    pass\n",
    "print(nums)"
   ]
  },
  {
   "cell_type": "code",
   "execution_count": 37,
   "id": "3aae1d1c",
   "metadata": {},
   "outputs": [
    {
     "name": "stdin",
     "output_type": "stream",
     "text": [
      "Enter first name:  Christian\n"
     ]
    },
    {
     "name": "stdout",
     "output_type": "stream",
     "text": [
      "9\n"
     ]
    },
    {
     "name": "stdin",
     "output_type": "stream",
     "text": [
      "Enter last name:  Conroy\n"
     ]
    },
    {
     "name": "stdout",
     "output_type": "stream",
     "text": [
      "6\n",
      "Christian Conroy\n",
      "16\n"
     ]
    }
   ],
   "source": [
    "f1 = input(\"Enter first name: \")\n",
    "print(len(f1))\n",
    "l1 = input(\"Enter last name: \")\n",
    "print(len(l1))\n",
    "full = f1 + \" \" + l1\n",
    "print(full)\n",
    "print(len(full))"
   ]
  },
  {
   "cell_type": "code",
   "execution_count": 43,
   "id": "05a2b1d0",
   "metadata": {},
   "outputs": [
    {
     "name": "stdin",
     "output_type": "stream",
     "text": [
      "Enter new password:  batman\n",
      "Enter password again:  badd\n"
     ]
    },
    {
     "name": "stdout",
     "output_type": "stream",
     "text": [
      "Incorrect\n"
     ]
    }
   ],
   "source": [
    "f1 = input(\"Enter new password: \")\n",
    "l1 = input(\"Enter password again: \")\n",
    "if f1 == l1:\n",
    "    print(\"Thank you\")\n",
    "elif ((f1 != l1) & ((f1.lower() == l1.lower()) | (f1.upper == l1.upper) | (f1.title == l1.title))):\n",
    "    print(\"They must be in the same case\")\n",
    "else:\n",
    "      print(\"Incorrect\")"
   ]
  },
  {
   "cell_type": "code",
   "execution_count": 56,
   "id": "f50f284a",
   "metadata": {},
   "outputs": [
    {
     "name": "stdin",
     "output_type": "stream",
     "text": [
      "Enter a word:  hello\n"
     ]
    },
    {
     "name": "stdout",
     "output_type": "stream",
     "text": [
      "o\n",
      "l\n",
      "l\n",
      "e\n",
      "h\n"
     ]
    }
   ],
   "source": [
    "f1 = input(\"Enter a word: \")\n",
    "for i in reversed(f1):\n",
    "    print(i)"
   ]
  },
  {
   "cell_type": "code",
   "execution_count": 57,
   "id": "64ef67e7",
   "metadata": {},
   "outputs": [],
   "source": [
    "from array import * "
   ]
  },
  {
   "cell_type": "code",
   "execution_count": 59,
   "id": "c0090f8d",
   "metadata": {},
   "outputs": [
    {
     "name": "stdout",
     "output_type": "stream",
     "text": [
      "array('i', [45, 324, 654, 45, 264])\n"
     ]
    }
   ],
   "source": [
    "nums = array ('i',[45,324,654,45,264])\n",
    "print(nums) "
   ]
  },
  {
   "cell_type": "code",
   "execution_count": 70,
   "id": "fa438765",
   "metadata": {},
   "outputs": [
    {
     "name": "stdin",
     "output_type": "stream",
     "text": [
      "Enter number:  1\n",
      "Enter number:  22\n",
      "Enter number:  1\n",
      "Enter number:  3\n",
      "Enter number:  5\n"
     ]
    },
    {
     "name": "stdout",
     "output_type": "stream",
     "text": [
      "[22, 5, 3, 1, 1]\n"
     ]
    }
   ],
   "source": [
    "nums = array('i', [])\n",
    "for i in range (0,5):\n",
    "    num = int(input(\"Enter number: \"))\n",
    "    nums.append(num)\n",
    "nums = sorted(nums)\n",
    "nums.reverse()\n",
    "\n",
    "print(nums)"
   ]
  },
  {
   "cell_type": "code",
   "execution_count": 75,
   "id": "4ef79434",
   "metadata": {},
   "outputs": [
    {
     "name": "stdout",
     "output_type": "stream",
     "text": [
      "21\n",
      "86\n",
      "59\n",
      "36\n",
      "25\n"
     ]
    }
   ],
   "source": [
    "nums = array('i', [])\n",
    "for i in range (0,5):\n",
    "    num = random.randint(0,100)\n",
    "    nums.append(num)\n",
    "for i in nums:\n",
    "    print(i)"
   ]
  },
  {
   "cell_type": "code",
   "execution_count": 78,
   "id": "81a71d51",
   "metadata": {},
   "outputs": [
    {
     "name": "stdin",
     "output_type": "stream",
     "text": [
      "Enter number:  1\n",
      "Enter number:  4\n",
      "Enter number:  6\n",
      "Enter number:  8\n",
      "Enter number:  2344\n"
     ]
    },
    {
     "name": "stdout",
     "output_type": "stream",
     "text": [
      "[1, 4, 6, 8, 2344]\n"
     ]
    },
    {
     "name": "stdin",
     "output_type": "stream",
     "text": [
      "Select number to remove:  2344\n"
     ]
    },
    {
     "name": "stdout",
     "output_type": "stream",
     "text": [
      "[1, 4, 6, 8]\n"
     ]
    }
   ],
   "source": [
    "nums = array('i', [])\n",
    "for i in range (0,5):\n",
    "    num = int(input(\"Enter number: \"))\n",
    "    nums.append(num)\n",
    "nums = sorted(nums)\n",
    "print(nums)\n",
    "\n",
    "rem = int(input(\"Select number to remove: \"))\n",
    "nums.remove(rem)\n",
    "new_nums = nums\n",
    "print(new_nums)"
   ]
  },
  {
   "cell_type": "code",
   "execution_count": 90,
   "id": "17c88255",
   "metadata": {},
   "outputs": [
    {
     "name": "stdin",
     "output_type": "stream",
     "text": [
      "Enter whole number betweeen 2 and 5:  6\n"
     ]
    },
    {
     "name": "stdout",
     "output_type": "stream",
     "text": [
      "error\n"
     ]
    },
    {
     "name": "stdin",
     "output_type": "stream",
     "text": [
      "Enter whole number betweeen 2 and 5:  6\n"
     ]
    },
    {
     "name": "stdout",
     "output_type": "stream",
     "text": [
      "error\n"
     ]
    },
    {
     "name": "stdin",
     "output_type": "stream",
     "text": [
      "Enter whole number betweeen 2 and 5:  3\n"
     ]
    },
    {
     "name": "stdout",
     "output_type": "stream",
     "text": [
      "10.33\n",
      "32.44\n",
      "65.66\n",
      "45.32\n",
      "26.11\n"
     ]
    }
   ],
   "source": [
    "nums = array ('f',[10.33,32.44,65.66,45.32,26.11])\n",
    "num = int(input(\"Enter whole number betweeen 2 and 5: \"))\n",
    "while (num > 5) or (num < 2):\n",
    "    if (num > 5) or (num < 2):\n",
    "        print(\"error\")\n",
    "        num = int(input(\"Enter whole number betweeen 2 and 5: \"))\n",
    "    else: \n",
    "        pass\n",
    "\n",
    "for i in nums:\n",
    "    new = i/num\n",
    "    print(round(i,2))"
   ]
  },
  {
   "cell_type": "code",
   "execution_count": 93,
   "id": "12ffa9aa",
   "metadata": {},
   "outputs": [
    {
     "name": "stdout",
     "output_type": "stream",
     "text": [
      "[[2, 5, 8], [3, 7, 4], [1, 6, 9], [4, 2, 0]]\n"
     ]
    }
   ],
   "source": [
    "simple_array = [[2,5,8],[3,7,4],[1,6,9],[4,2,0]] \n",
    "print(simple_array)"
   ]
  },
  {
   "cell_type": "code",
   "execution_count": 95,
   "id": "ce61c211",
   "metadata": {},
   "outputs": [
    {
     "name": "stdin",
     "output_type": "stream",
     "text": [
      "Enter row number:  2\n",
      "Enter col number:  1\n"
     ]
    },
    {
     "data": {
      "text/plain": [
       "6"
      ]
     },
     "execution_count": 95,
     "metadata": {},
     "output_type": "execute_result"
    }
   ],
   "source": [
    "simple_array = [[2,5,8],[3,7,4],[1,6,9],[4,2,0]] \n",
    "rown = int(input(\"Enter row number: \"))\n",
    "coln = int(input(\"Enter col number: \"))\n",
    "simple_array[rown][coln]"
   ]
  },
  {
   "cell_type": "code",
   "execution_count": 97,
   "id": "7cbcc1b2",
   "metadata": {},
   "outputs": [],
   "source": [
    "data_set = {\"John\":{\"N\":54,\"S\":82,\"W\":91,\"E\":91},\"Tom\":{\"N\":54,\"S\":82,\"W\":91,\"E\":91}} "
   ]
  },
  {
   "cell_type": "code",
   "execution_count": 104,
   "id": "75397a8a",
   "metadata": {},
   "outputs": [
    {
     "name": "stdin",
     "output_type": "stream",
     "text": [
      "Enter name:  john\n",
      "Enter age:  3\n",
      "Shoesize:  6\n",
      "Enter name:  sam\n",
      "Enter age:  7\n",
      "Shoesize:  5\n",
      "Enter name:  lisa\n",
      "Enter age:  3\n",
      "Shoesize:  6\n",
      "Enter name:  mam\n",
      "Enter age:  9\n",
      "Shoesize:  1\n",
      "Enter name to look up:  mam\n"
     ]
    },
    {
     "name": "stdout",
     "output_type": "stream",
     "text": [
      "mam {'Age': 9, 'Shoe size': 1}\n",
      "john 3\n",
      "sam 7\n",
      "lisa 3\n",
      "mam 9\n"
     ]
    },
    {
     "name": "stdin",
     "output_type": "stream",
     "text": [
      "Enter name to remove:  lisa\n"
     ]
    },
    {
     "name": "stdout",
     "output_type": "stream",
     "text": [
      "john {'Age': 3, 'Shoe size': 6}\n",
      "sam {'Age': 7, 'Shoe size': 5}\n",
      "mam {'Age': 9, 'Shoe size': 1}\n"
     ]
    }
   ],
   "source": [
    "list = {}\n",
    "for i in range (0,4):\n",
    "    name = input(\"Enter name: \")\n",
    "    age = int(input(\"Enter age: \"))\n",
    "    shoe = int(input(\"Shoesize: \"))\n",
    "    list[name] = {\"Age\":age, \"Shoe size\":shoe}\n",
    "    \n",
    "name = input(\"Enter name to look up: \")\n",
    "print((name),list[name])\n",
    "\n",
    "for name in list:\n",
    "    print((name),list[name][\"Age\"])\n",
    "\n",
    "remov = input(\"Enter name to remove: \")\n",
    "del list[remov] \n",
    "\n",
    "for name in list:\n",
    "    print((name),list[name])"
   ]
  },
  {
   "cell_type": "code",
   "execution_count": 2,
   "id": "3b06f2b1",
   "metadata": {},
   "outputs": [],
   "source": [
    "file = open(\"Numbers.txt\",\"w\")\n",
    "file.write(\"1, \")\n",
    "file.write(\"2, \")\n",
    "file.write(\"3, \")\n",
    "file.write(\"4, \")\n",
    "file.write(\"5, \")\n",
    "file.close() "
   ]
  },
  {
   "cell_type": "code",
   "execution_count": 10,
   "id": "9fb65521",
   "metadata": {},
   "outputs": [
    {
     "name": "stdin",
     "output_type": "stream",
     "text": [
      "Enter 1,2, or 3:  3\n",
      "Enter a new school subject math\n"
     ]
    },
    {
     "name": "stdout",
     "output_type": "stream",
     "text": [
      "Social Studies\n",
      "math\n",
      "\n"
     ]
    }
   ],
   "source": [
    "num = int(input(\"Enter 1,2, or 3: \"))\n",
    "if num == 1:\n",
    "    subj = input(\"Enter a school subject\")\n",
    "    file = open(\"Subject.txt\",\"w\")\n",
    "    file.write(subj + \"\\n\")\n",
    "    file.close() \n",
    "elif num == 2:\n",
    "    file = open(\"Subject.txt\",\"r\")\n",
    "    print(file.read()) \n",
    "elif num == 3: \n",
    "    file = open(\"Subject.txt\",\"a\")\n",
    "    subj = input(\"Enter a new school subject\")\n",
    "    file.write(subj + \"\\n\")\n",
    "    file.close() \n",
    "    file = open(\"Subject.txt\",\"r\")\n",
    "    print(file.read()) \n",
    "else: \n",
    "     print(\"error\")"
   ]
  },
  {
   "cell_type": "code",
   "execution_count": 12,
   "id": "0fce4285",
   "metadata": {},
   "outputs": [],
   "source": [
    "file = open (\"Books.csv\",\"w\")\n",
    "newrecord = \"To Kill a Mockingbird, Harper Lee, 1960\\n\"\n",
    "file.write(str(newrecord))\n",
    "newrecord = \"A Brief History of Time, Stephen Hawking, 1988\\n\"\n",
    "file.write(str(newrecord))\n",
    "file.close() "
   ]
  },
  {
   "cell_type": "code",
   "execution_count": 21,
   "id": "80cbfbe5",
   "metadata": {},
   "outputs": [
    {
     "name": "stdin",
     "output_type": "stream",
     "text": [
      "How many records to add:  1\n",
      "Enter book:  Leviathan Falls\n",
      "Enter author:  James S.A. Corey\n",
      "Enter year:  2022\n",
      "Name the author:  James S.A. Corey\n"
     ]
    },
    {
     "name": "stdout",
     "output_type": "stream",
     "text": [
      "Caliban's War,James S.A. Corey,2012\n",
      "\n",
      "Leviathan Falls,James S.A. Corey,2022\n",
      "\n",
      "Leviathan Falls,James S.A. Corey,2022\n",
      "\n"
     ]
    }
   ],
   "source": [
    "num_rec = int(input(\"How many records to add: \"))\n",
    "for x in range(0,num_rec):\n",
    "    file = open (\"Books.csv\",\"a\")\n",
    "    book = input(\"Enter book: \")\n",
    "    author = input(\"Enter author: \")\n",
    "    year = input(\"Enter year: \")\n",
    "    newRecord = book + \",\" + author + \",\" + year + \"\\n\" \n",
    "    file.write(str(newRecord))\n",
    "    file.close() \n",
    "\n",
    "\n",
    "search = input(\"Name the author: \")\n",
    "file = open (\"Books.csv\",\"r\")\n",
    "count = 0\n",
    "for row in file:\n",
    "    if search in str(row):\n",
    "        print(row) \n",
    "        count = count + 1\n",
    "if count == 0:\n",
    "        print(\"Author not found\")\n",
    "file.close()"
   ]
  },
  {
   "cell_type": "code",
   "execution_count": 23,
   "id": "3ca0d6e7",
   "metadata": {},
   "outputs": [],
   "source": [
    "import random"
   ]
  },
  {
   "cell_type": "code",
   "execution_count": 33,
   "id": "a9077d60",
   "metadata": {},
   "outputs": [
    {
     "name": "stdin",
     "output_type": "stream",
     "text": [
      "What is your name:  Jim\n",
      "18 + 31 =  49\n",
      "31 + 16 =  47\n"
     ]
    }
   ],
   "source": [
    "name = input(\"What is your name: \")\n",
    "score = 0\n",
    "q_1 = random.randint(10,50)\n",
    "q_2 = random.randint(10,50)\n",
    "que1 = str(q_1) + \" + \" + str(q_2) + \" = \"\n",
    "answer_1 = int(input(que1))\n",
    "realansw = q_1 + q_2\n",
    "if answer_1 == realansw:\n",
    "    score = score + 1\n",
    "q_3 = random.randint(10,50)\n",
    "q_4 = random.randint(10,50)\n",
    "que2 = str(q_3) + \" + \" + str(q_4) + \" = \"\n",
    "answer_2 = int(input(que2))\n",
    "realansw_2 = q_3 + q_4\n",
    "if answer_2 == realansw_2:\n",
    "    score = score + 1\n",
    "    \n",
    "\n",
    "file = open (\"Questions.csv\",\"a\")\n",
    "newRecord = name + \",\" + que1 + \",\" + str(answer_1) + \",\" + que2 + \",\" + str(answer_2) + \",\" + str(score) +  \"\\n\" \n",
    "file.write(str(newRecord))\n",
    "file.close() \n",
    "\n"
   ]
  },
  {
   "cell_type": "code",
   "execution_count": 36,
   "id": "54dd4c1a",
   "metadata": {},
   "outputs": [
    {
     "name": "stdin",
     "output_type": "stream",
     "text": [
      "Enter a number:  6\n"
     ]
    },
    {
     "name": "stdout",
     "output_type": "stream",
     "text": [
      "1\n",
      "2\n",
      "3\n",
      "4\n",
      "5\n",
      "6\n"
     ]
    }
   ],
   "source": [
    "def get_num():\n",
    "    num = int(input(\"Enter a number: \"))\n",
    "    return num\n",
    "\n",
    "def count_num():\n",
    "    for i in range(1,get_num()+1):\n",
    "        print(i)\n",
    "\n",
    "count_num()"
   ]
  },
  {
   "cell_type": "code",
   "execution_count": 7,
   "id": "2448e245",
   "metadata": {},
   "outputs": [
    {
     "name": "stdin",
     "output_type": "stream",
     "text": [
      "Pick a high number:  9\n",
      "Pick a low number:  1\n",
      "I am thinking of a number. What is it?:  8\n",
      "Too high, try again 7\n"
     ]
    },
    {
     "name": "stdout",
     "output_type": "stream",
     "text": [
      "Correct, you win\n"
     ]
    }
   ],
   "source": [
    "def pick_num():\n",
    "    high = int(input(\"Pick a high number: \"))\n",
    "    low = int(input(\"Pick a low number: \"))\n",
    "    comp_num = random.randint(low,high)\n",
    "    return comp_num\n",
    "\n",
    "def first_guess():\n",
    "    guess = int(input(\"I am thinking of a number. What is it?: \"))\n",
    "    return guess\n",
    "    \n",
    "def check_answ(comp_num, guess):\n",
    "    try_again = True\n",
    "    while try_again == True:\n",
    "        if comp_num == guess:\n",
    "            print(\"Correct, you win\")\n",
    "            try_again = False\n",
    "        elif comp_num > guess:\n",
    "            guess = int(input(\"Too low, try again\"))\n",
    "        else:\n",
    "            guess = int(input(\"Too high, try again\"))\n",
    "\n",
    "def main():\n",
    "    comp_num = pick_num()\n",
    "    guess = first_guess()\n",
    "    check_answ(comp_num, guess)\n",
    "    \n",
    "                \n",
    "main()  "
   ]
  },
  {
   "cell_type": "code",
   "execution_count": 9,
   "id": "d21d7588",
   "metadata": {},
   "outputs": [
    {
     "name": "stdout",
     "output_type": "stream",
     "text": [
      "1: Add name and salary to Salaries.csv\n",
      "2: Display Records in Salaries.csv\n",
      "3: Stop Program\n"
     ]
    },
    {
     "name": "stdin",
     "output_type": "stream",
     "text": [
      "Pick a menu number:  2\n"
     ]
    },
    {
     "name": "stdout",
     "output_type": "stream",
     "text": [
      "error, no entries yet\n",
      "1: Add name and salary to Salaries.csv\n",
      "2: Display Records in Salaries.csv\n",
      "3: Stop Program\n"
     ]
    },
    {
     "name": "stdin",
     "output_type": "stream",
     "text": [
      "Pick a menu number:  1\n",
      "Name:  Tim\n",
      "Salary:  40000\n"
     ]
    },
    {
     "name": "stdout",
     "output_type": "stream",
     "text": [
      "1: Add name and salary to Salaries.csv\n",
      "2: Display Records in Salaries.csv\n",
      "3: Stop Program\n"
     ]
    },
    {
     "name": "stdin",
     "output_type": "stream",
     "text": [
      "Pick a menu number:  2\n"
     ]
    },
    {
     "name": "stdout",
     "output_type": "stream",
     "text": [
      "Tim,40000\n",
      "\n",
      "1: Add name and salary to Salaries.csv\n",
      "2: Display Records in Salaries.csv\n",
      "3: Stop Program\n"
     ]
    },
    {
     "name": "stdin",
     "output_type": "stream",
     "text": [
      "Pick a menu number:  1\n",
      "Name:  Sam\n",
      "Salary:  100000\n"
     ]
    },
    {
     "name": "stdout",
     "output_type": "stream",
     "text": [
      "1: Add name and salary to Salaries.csv\n",
      "2: Display Records in Salaries.csv\n",
      "3: Stop Program\n"
     ]
    },
    {
     "name": "stdin",
     "output_type": "stream",
     "text": [
      "Pick a menu number:  2\n"
     ]
    },
    {
     "name": "stdout",
     "output_type": "stream",
     "text": [
      "Tim,40000\n",
      "\n",
      "Sam,100000\n",
      "\n",
      "1: Add name and salary to Salaries.csv\n",
      "2: Display Records in Salaries.csv\n",
      "3: Stop Program\n"
     ]
    },
    {
     "name": "stdin",
     "output_type": "stream",
     "text": [
      "Pick a menu number:  9\n"
     ]
    },
    {
     "name": "stdout",
     "output_type": "stream",
     "text": [
      "error, not an option\n",
      "1: Add name and salary to Salaries.csv\n",
      "2: Display Records in Salaries.csv\n",
      "3: Stop Program\n"
     ]
    },
    {
     "name": "stdin",
     "output_type": "stream",
     "text": [
      "Pick a menu number:  3\n"
     ]
    }
   ],
   "source": [
    "\n",
    "def main():\n",
    "    try_again = True\n",
    "    while try_again == True:\n",
    "        print(\"1: Add name and salary to Salaries.csv\")\n",
    "        print(\"2: Display Records in Salaries.csv\")\n",
    "        print(\"3: Stop Program\")\n",
    "        num = int(input(\"Pick a menu number: \"))\n",
    "        if num == 1:\n",
    "            name = input(\"Name: \")\n",
    "            salary = int(input(\"Salary: \"))\n",
    "            file = open(\"Salaries.csv\",\"a\")\n",
    "            newRecord = name + \",\" + str(salary) + \"\\n\" \n",
    "            file.write(str(newRecord))\n",
    "            file.close() \n",
    "        elif num == 2:\n",
    "            try:\n",
    "                file = open(\"Salaries.csv\",\"r\")\n",
    "                for row in file:\n",
    "                    print(row) \n",
    "                file.close()\n",
    "            except:\n",
    "                print(\"error, no entries yet\")\n",
    "        elif num == 3:\n",
    "            try_again = False\n",
    "        else: \n",
    "            print(\"error, not an option\")\n",
    "\n",
    "main()"
   ]
  },
  {
   "cell_type": "code",
   "execution_count": 10,
   "id": "9d469918",
   "metadata": {},
   "outputs": [],
   "source": [
    "import csv"
   ]
  },
  {
   "cell_type": "code",
   "execution_count": 26,
   "id": "c9466391",
   "metadata": {},
   "outputs": [
    {
     "name": "stdout",
     "output_type": "stream",
     "text": [
      "1: Add to file\n",
      "2: View all records\n",
      "3: Delete a Record\n",
      "4: Quit Program\n"
     ]
    },
    {
     "name": "stdin",
     "output_type": "stream",
     "text": [
      "Pick a menu number:  2\n"
     ]
    },
    {
     "name": "stdout",
     "output_type": "stream",
     "text": [
      "1: Add to file\n",
      "2: View all records\n",
      "3: Delete a Record\n",
      "4: Quit Program\n"
     ]
    },
    {
     "name": "stdin",
     "output_type": "stream",
     "text": [
      "Pick a menu number:  2\n"
     ]
    },
    {
     "name": "stdout",
     "output_type": "stream",
     "text": [
      "1: Add to file\n",
      "2: View all records\n",
      "3: Delete a Record\n",
      "4: Quit Program\n"
     ]
    },
    {
     "name": "stdin",
     "output_type": "stream",
     "text": [
      "Pick a menu number:  1\n",
      "Name:  sam\n",
      "Salary:  234\n"
     ]
    },
    {
     "name": "stdout",
     "output_type": "stream",
     "text": [
      "1: Add to file\n",
      "2: View all records\n",
      "3: Delete a Record\n",
      "4: Quit Program\n"
     ]
    },
    {
     "name": "stdin",
     "output_type": "stream",
     "text": [
      "Pick a menu number:  2\n"
     ]
    },
    {
     "name": "stdout",
     "output_type": "stream",
     "text": [
      "sam,234\n",
      "\n",
      "1: Add to file\n",
      "2: View all records\n",
      "3: Delete a Record\n",
      "4: Quit Program\n"
     ]
    },
    {
     "name": "stdin",
     "output_type": "stream",
     "text": [
      "Pick a menu number:  1\n",
      "Name:  ffff\n",
      "Salary:  6543\n"
     ]
    },
    {
     "name": "stdout",
     "output_type": "stream",
     "text": [
      "1: Add to file\n",
      "2: View all records\n",
      "3: Delete a Record\n",
      "4: Quit Program\n"
     ]
    },
    {
     "name": "stdin",
     "output_type": "stream",
     "text": [
      "Pick a menu number:  1\n",
      "Name:  ytre\n",
      "Salary:  7654\n"
     ]
    },
    {
     "name": "stdout",
     "output_type": "stream",
     "text": [
      "1: Add to file\n",
      "2: View all records\n",
      "3: Delete a Record\n",
      "4: Quit Program\n"
     ]
    },
    {
     "name": "stdin",
     "output_type": "stream",
     "text": [
      "Pick a menu number:  2\n"
     ]
    },
    {
     "name": "stdout",
     "output_type": "stream",
     "text": [
      "sam,234\n",
      "\n",
      "ffff,6543\n",
      "\n",
      "ytre,7654\n",
      "\n",
      "1: Add to file\n",
      "2: View all records\n",
      "3: Delete a Record\n",
      "4: Quit Program\n"
     ]
    },
    {
     "name": "stdin",
     "output_type": "stream",
     "text": [
      "Pick a menu number:  3\n"
     ]
    },
    {
     "name": "stdout",
     "output_type": "stream",
     "text": [
      "0 sam,234\n",
      "\n",
      "1 ffff,6543\n",
      "\n",
      "2 ytre,7654\n",
      "\n"
     ]
    },
    {
     "name": "stdin",
     "output_type": "stream",
     "text": [
      "Pick an entry to delete:  1\n"
     ]
    },
    {
     "name": "stdout",
     "output_type": "stream",
     "text": [
      "1: Add to file\n",
      "2: View all records\n",
      "3: Delete a Record\n",
      "4: Quit Program\n"
     ]
    },
    {
     "name": "stdin",
     "output_type": "stream",
     "text": [
      "Pick a menu number:  2\n"
     ]
    },
    {
     "name": "stdout",
     "output_type": "stream",
     "text": [
      "ffff,6543\n",
      "\n",
      "ytre,7654\n",
      "\n",
      "1: Add to file\n",
      "2: View all records\n",
      "3: Delete a Record\n",
      "4: Quit Program\n"
     ]
    },
    {
     "name": "stdin",
     "output_type": "stream",
     "text": [
      "Pick a menu number:  4\n"
     ]
    }
   ],
   "source": [
    "def main():\n",
    "    try_again = True\n",
    "    while try_again == True:\n",
    "        print(\"1: Add to file\")\n",
    "        print(\"2: View all records\")\n",
    "        print(\"3: Delete a Record\")\n",
    "        print(\"4: Quit Program\")\n",
    "        num = int(input(\"Pick a menu number: \"))\n",
    "        if num == 1:\n",
    "            name = input(\"Name: \")\n",
    "            salary = int(input(\"Salary: \"))\n",
    "            file = open(\"Salaries.csv\",\"a\")\n",
    "            newRecord = name + \",\" + str(salary) + \"\\n\" \n",
    "            file.write(str(newRecord))\n",
    "            file.close() \n",
    "        elif num == 2:\n",
    "            try:\n",
    "                file = open(\"Salaries.csv\",\"r\")\n",
    "                for row in file:\n",
    "                    print(row) \n",
    "                file.close()\n",
    "            except:\n",
    "                print(\"error, no entries yet\")\n",
    "        elif num == 3:\n",
    "            try:\n",
    "                file = open(\"Salaries.csv\", \"r\")\n",
    "                x = 0\n",
    "                tmplist = []\n",
    "                for row in file:\n",
    "                        tmplist.append(row) \n",
    "                file.close()\n",
    "                for row in tmplist:\n",
    "                    print(x, row)\n",
    "                    x = x + 1\n",
    "                delnum = int(input(\"Pick an entry to delete: \")) - 1\n",
    "                del tmplist[delnum] \n",
    "                file = open(\"Salaries.csv\", \"w\")\n",
    "                for row in tmplist:\n",
    "                    file.write(row)\n",
    "                file.close()\n",
    "            except:\n",
    "                print(\"error, no entries yet\")\n",
    "        elif num == 4:\n",
    "            try_again = False\n",
    "        else: \n",
    "            print(\"error, not an option\")\n",
    "\n",
    "main()"
   ]
  },
  {
   "cell_type": "code",
   "execution_count": 2,
   "id": "91813bfa",
   "metadata": {},
   "outputs": [],
   "source": [
    "from tkinter import *"
   ]
  },
  {
   "cell_type": "code",
   "execution_count": 7,
   "id": "8f70612f",
   "metadata": {},
   "outputs": [],
   "source": [
    "def click():\n",
    "    name = textbox1.get()\n",
    "    message = str(\"hello \" + name) \n",
    "    textbox2[\"bg\"] = \"red\"\n",
    "    textbox2[\"fg\"] = \"white\"\n",
    "    textbox2[\"text\"] = message\n",
    "\n",
    "window = Tk()\n",
    "window.geometry(\"500x200\")\n",
    "    \n",
    "label1 = Label(text = \"Enter name: \") \n",
    "label1.place(x = 30, y = 20)\n",
    "\n",
    "textbox1 = Entry(text = \"\")\n",
    "textbox1.place(x = 150, y =20, width = 200, height = 25)\n",
    "textbox1[\"justify\"] = \"center\"\n",
    "textbox1.focus()\n",
    "    \n",
    "button1 = Button(text = \"Press me\", command = click)\n",
    "button1.place(x = 30, y = 50, width = 120, height = 25)\n",
    "\n",
    "textbox2 = Message(text = \"\")\n",
    "textbox2.place(x = 150, y = 50, width = 200, height = 25)\n",
    "textbox2[\"bg\"] = \"white\"\n",
    "textbox2[\"fg\"] = \"black\"\n",
    "\n",
    "window.mainloop()"
   ]
  },
  {
   "cell_type": "code",
   "execution_count": 3,
   "id": "7bda347b",
   "metadata": {},
   "outputs": [
    {
     "name": "stderr",
     "output_type": "stream",
     "text": [
      "Exception in Tkinter callback\n",
      "Traceback (most recent call last):\n",
      "  File \"/opt/anaconda3/lib/python3.7/tkinter/__init__.py\", line 1705, in __call__\n",
      "    return self.func(*args)\n",
      "  File \"<ipython-input-3-cb3bcbffaa14>\", line 3, in save_list\n",
      "    name = name.box_get()\n",
      "UnboundLocalError: local variable 'name' referenced before assignment\n",
      "Exception in Tkinter callback\n",
      "Traceback (most recent call last):\n",
      "  File \"/opt/anaconda3/lib/python3.7/tkinter/__init__.py\", line 1705, in __call__\n",
      "    return self.func(*args)\n",
      "  File \"<ipython-input-3-cb3bcbffaa14>\", line 3, in save_list\n",
      "    name = name.box_get()\n",
      "UnboundLocalError: local variable 'name' referenced before assignment\n"
     ]
    }
   ],
   "source": [
    "def save_list():\n",
    "    file = open(\"ages.csv\", \"a\")\n",
    "    name = name.box_get()\n",
    "    age = age.box_get()\n",
    "    newRecord = name + \",\" + str(age) + \"\\n\" \n",
    "    file.write(str(newRecord))\n",
    "    file.close() \n",
    "    name_box.delete(0, END)\n",
    "    age_box.deletee(0, END)\n",
    "    name_box.focus()\n",
    "    \n",
    "def read_list():\n",
    "    name_list.delete(0, END)\n",
    "    file = list(csv.reader(open(\"ages.csv\")))\n",
    "    tmp = []\n",
    "    for row in file:\n",
    "        tmp.append(row) \n",
    "    x = 0 \n",
    "    for i in tmp:\n",
    "        data = tmp[x]\n",
    "        nam_list.insert(END, data)\n",
    "        x = x+1\n",
    "\n",
    "window = Tk()\n",
    "window.title(\"People List\")\n",
    "window.geometry(\"400x200\")\n",
    "    \n",
    "label1= Label(text = \"Enter name: \") \n",
    "label1.place(x = 20, y =20, width = 100, height = 25)\n",
    "\n",
    "name_box = Entry(text = \"\")\n",
    "name_box.place(x = 120, y =20, width = 100, height = 25)\n",
    "name_box[\"justify\"] = \"left\"\n",
    "name_box.focus()\n",
    "\n",
    "label2 = Label(text = \"Enter age: \") \n",
    "label2.place(x = 20, y = 50, width = 100, height = 25)\n",
    "\n",
    "age_box = Entry(text = \"\")\n",
    "age_box.place(x = 120, y =50, width = 100, height = 25)\n",
    "age_box[\"justify\"] = \"left\"\n",
    "\n",
    "button1 = Button(text = \"Add to File\", command = save_list)\n",
    "button1.place(x = 250, y = 20, width = 100, height = 25)\n",
    "\n",
    "button2 = Button(text = \"Read List\", command = read_list)\n",
    "button2.place(x = 250, y = 50, width = 100, height = 25)\n",
    "\n",
    "label3 = Label(text = \"Saved Names: \") \n",
    "label3.place(x = 20, y = 80, width = 100, height = 25)\n",
    "\n",
    "name_list = Listbox()\n",
    "name_list.place(x = 120, y = 80, width = 230, height = 100)\n",
    "\n",
    "window.mainloop()"
   ]
  },
  {
   "cell_type": "code",
   "execution_count": null,
   "id": "b8a614a0",
   "metadata": {},
   "outputs": [],
   "source": [
    "Using the .csv file you created for the last\n",
    "challenge, create a program that will allow\n",
    "people to add names and ages to the list\n",
    "and create a button that will display the\n",
    "contents of the .csv file by importing it to a\n",
    "list box. "
   ]
  },
  {
   "cell_type": "code",
   "execution_count": null,
   "id": "078f8c69",
   "metadata": {},
   "outputs": [],
   "source": [
    "def main():\n",
    "    try_again = True\n",
    "    while try_again == True:\n",
    "        print(\"1: Add to file\")\n",
    "        print(\"2: View all records\")\n",
    "        print(\"3: Delete a Record\")\n",
    "        print(\"4: Quit Program\")\n",
    "        num = int(input(\"Pick a menu number: \"))\n",
    "        if num == 1:\n",
    "            name = input(\"Name: \")\n",
    "            salary = int(input(\"Salary: \"))\n",
    "            file = open(\"Salaries.csv\",\"a\")\n",
    "            newRecord = name + \",\" + str(salary) + \"\\n\" \n",
    "            file.write(str(newRecord))\n",
    "            file.close() \n",
    "        elif num == 2:\n",
    "            try:\n",
    "                file = open(\"Salaries.csv\",\"r\")\n",
    "                for row in file:\n",
    "                    print(row) \n",
    "                file.close()\n",
    "            except:\n",
    "                print(\"error, no entries yet\")\n",
    "        elif num == 3:\n",
    "            try:\n",
    "                file = open(\"Salaries.csv\", \"r\")\n",
    "                x = 0\n",
    "                tmplist = []\n",
    "                for row in file:\n",
    "                        tmplist.append(row) \n",
    "                file.close()\n",
    "                for row in tmplist:\n",
    "                    print(x, row)\n",
    "                    x = x + 1\n",
    "                delnum = int(input(\"Pick an entry to delete: \")) - 1\n",
    "                del tmplist[delnum] \n",
    "                file = open(\"Salaries.csv\", \"w\")\n",
    "                for row in tmplist:\n",
    "                    file.write(row)\n",
    "                file.close()\n",
    "            except:\n",
    "                print(\"error, no entries yet\")\n",
    "        elif num == 4:\n",
    "            try_again = False\n",
    "        else: \n",
    "            print(\"error, not an option\")\n",
    "\n",
    "main()"
   ]
  },
  {
   "cell_type": "code",
   "execution_count": 1,
   "id": "e7feff30",
   "metadata": {},
   "outputs": [],
   "source": [
    "import sqlite3"
   ]
  },
  {
   "cell_type": "code",
   "execution_count": 3,
   "id": "7af5d6cf",
   "metadata": {},
   "outputs": [],
   "source": [
    "with sqlite3.connect(\"company.db\") as db:\n",
    "    cursor=db.cursor() "
   ]
  },
  {
   "cell_type": "code",
   "execution_count": 4,
   "id": "4387694d",
   "metadata": {},
   "outputs": [
    {
     "data": {
      "text/plain": [
       "<sqlite3.Cursor at 0x7faf45feee30>"
      ]
     },
     "execution_count": 4,
     "metadata": {},
     "output_type": "execute_result"
    }
   ],
   "source": [
    "cursor.execute(\"\"\"CREATE TABLE IF NOT EXISTS employees(\n",
    " id integer PRIMARY KEY,\n",
    " name text NOT NULL,\n",
    " dept text NOT NULL,\n",
    " salary integer);\"\"\")"
   ]
  },
  {
   "cell_type": "code",
   "execution_count": 5,
   "id": "ee2307fd",
   "metadata": {},
   "outputs": [],
   "source": [
    "cursor.execute(\"\"\"INSERT INTO employees(id,name,dept,salary)\n",
    " VALUES(\"1\",\"Bob\",\"Sales\",\"25000\")\"\"\")\n",
    "db.commit() "
   ]
  },
  {
   "cell_type": "code",
   "execution_count": 7,
   "id": "1ae33b19",
   "metadata": {},
   "outputs": [
    {
     "name": "stdin",
     "output_type": "stream",
     "text": [
      "Enter ID number:  111\n",
      "Enter name:  Tim\n",
      "Enter department:  Math\n",
      "Enter salary:  100000\n"
     ]
    }
   ],
   "source": [
    "newID = input(\"Enter ID number: \")\n",
    "newName = input(\"Enter name: \")\n",
    "newDept = input(\"Enter department: \")\n",
    "newSalary = input(\"Enter salary: \")\n",
    "cursor.execute(\"\"\"INSERT INTO employees(id,name,dept,salary)\n",
    " VALUES(?,?,?,?)\"\"\",(newID,newName,newDept,newSalary))\n",
    "db.commit() "
   ]
  },
  {
   "cell_type": "code",
   "execution_count": 8,
   "id": "2bb42af3",
   "metadata": {},
   "outputs": [
    {
     "name": "stdout",
     "output_type": "stream",
     "text": [
      "[(1, 'Bob', 'Sales', 25000), (111, 'Tim', 'Math', 100000)]\n"
     ]
    }
   ],
   "source": [
    "cursor.execute(\"SELECT * FROM employees\")\n",
    "print(cursor.fetchall()) "
   ]
  },
  {
   "cell_type": "code",
   "execution_count": 9,
   "id": "883f21f7",
   "metadata": {},
   "outputs": [],
   "source": [
    "db.close()"
   ]
  },
  {
   "cell_type": "code",
   "execution_count": 11,
   "id": "8bfcfbf5",
   "metadata": {},
   "outputs": [
    {
     "name": "stdout",
     "output_type": "stream",
     "text": [
      "(1, 'Bob', 'Sales', 25000)\n",
      "(111, 'Tim', 'Math', 100000)\n"
     ]
    }
   ],
   "source": [
    "with sqlite3.connect(\"company.db\") as db:\n",
    "    cursor=db.cursor()\n",
    "    \n",
    "cursor.execute(\"SELECT * FROM employees\")\n",
    "for x in cursor.fetchall():\n",
    "    print(x) "
   ]
  },
  {
   "cell_type": "code",
   "execution_count": 12,
   "id": "c5b565fd",
   "metadata": {},
   "outputs": [
    {
     "name": "stdout",
     "output_type": "stream",
     "text": [
      "(1, 'Bob', 'Sales', 25000)\n",
      "(111, 'Tim', 'Math', 100000)\n"
     ]
    }
   ],
   "source": [
    "cursor.execute(\"SELECT * FROM employees ORDER BY name\")\n",
    "for x in cursor.fetchall():\n",
    "    print(x)"
   ]
  },
  {
   "cell_type": "code",
   "execution_count": 13,
   "id": "e84c9ba2",
   "metadata": {},
   "outputs": [
    {
     "data": {
      "text/plain": [
       "<sqlite3.Cursor at 0x7faf460d4500>"
      ]
     },
     "execution_count": 13,
     "metadata": {},
     "output_type": "execute_result"
    }
   ],
   "source": [
    "cursor.execute(\"SELECT * FROM employees WHERE salary>20000\") "
   ]
  },
  {
   "cell_type": "code",
   "execution_count": 14,
   "id": "c9942239",
   "metadata": {},
   "outputs": [
    {
     "data": {
      "text/plain": [
       "<sqlite3.Cursor at 0x7faf460d4500>"
      ]
     },
     "execution_count": 14,
     "metadata": {},
     "output_type": "execute_result"
    }
   ],
   "source": [
    "cursor.execute(\"SELECT * FROM employees WHERE dept='Sales'\") "
   ]
  },
  {
   "cell_type": "code",
   "execution_count": 16,
   "id": "a1125761",
   "metadata": {},
   "outputs": [
    {
     "data": {
      "text/plain": [
       "<sqlite3.Cursor at 0x7faf460d4500>"
      ]
     },
     "execution_count": 16,
     "metadata": {},
     "output_type": "execute_result"
    }
   ],
   "source": [
    "cursor.execute(\"SELECT id,name,salary FROM employees\")"
   ]
  },
  {
   "cell_type": "code",
   "execution_count": 17,
   "id": "4597857e",
   "metadata": {},
   "outputs": [],
   "source": [
    "cursor.execute(\"UPDATE employees SET name = 'Tony' WHERE id=1\")\n",
    "db.commit() "
   ]
  },
  {
   "cell_type": "code",
   "execution_count": 20,
   "id": "38dc9de8",
   "metadata": {},
   "outputs": [],
   "source": [
    "with sqlite3.connect(\"PhoneBook.db\") as db:\n",
    "    cursor=db.cursor() \n",
    "\n",
    "cursor.execute(\"\"\"CREATE TABLE IF NOT EXISTS Names(\n",
    " id integer PRIMARY KEY,\n",
    " firstname text,\n",
    " surname text,\n",
    " phonenumber text);\"\"\")\n",
    "\n",
    "cursor.execute(\"\"\"INSERT INTO Names(id,firstname,surname,phonenumber)\n",
    " VALUES(\"1\",\"Simon\",\"Howels\",\"01223 349752\")\"\"\")\n",
    "db.commit() \n",
    "\n",
    "cursor.execute(\"\"\"INSERT INTO Names(id,firstname,surname,phonenumber)\n",
    " VALUES(\"2\",\"Karen\",\"Phillips\",\"01954 295773\")\"\"\")\n",
    "db.commit() \n",
    "\n",
    "cursor.execute(\"\"\"INSERT INTO Names(id,firstname,surname,phonenumber)\n",
    " VALUES(\"3\",\"Darren\",\"Smith\",\"01583 749012\")\"\"\")\n",
    "db.commit() \n",
    "\n",
    "cursor.execute(\"\"\"INSERT INTO Names(id,firstname,surname,phonenumber)\n",
    " VALUES(\"4\",\"Anne\",\"Jones\",\"01323 567322\")\"\"\")\n",
    "db.commit() \n",
    "\n",
    "cursor.execute(\"\"\"INSERT INTO Names(id,firstname,surname,phonenumber)\n",
    " VALUES(\"5\",\"Mark\",\"Smith\",\"01223 855534\")\"\"\")\n",
    "db.commit() "
   ]
  },
  {
   "cell_type": "code",
   "execution_count": 28,
   "id": "8d778ee4",
   "metadata": {},
   "outputs": [
    {
     "name": "stdout",
     "output_type": "stream",
     "text": [
      "1) View Phonebook\n",
      "2) Add to Phonebook\n",
      "3) Seach for Surname\n",
      "4) Delete Person from Phone Book\n",
      "5) End Program\n"
     ]
    },
    {
     "name": "stdin",
     "output_type": "stream",
     "text": [
      "Enter your selection:  4\n",
      "Enter id:  3\n"
     ]
    },
    {
     "name": "stdout",
     "output_type": "stream",
     "text": [
      "(1, 'Simon', 'Howels', '01223 349752')\n",
      "(2, 'Karen', 'Phillips', '01954 295773')\n",
      "(4, 'Anne', 'Jones', '01323 567322')\n",
      "(5, 'Mark', 'Smith', '01223 855534')\n",
      "(6, 'Tracy', 'Morgan', '12345 876543')\n"
     ]
    },
    {
     "name": "stdin",
     "output_type": "stream",
     "text": [
      "Enter your selection:  3\n",
      "Enter surname:  Howls\n",
      "Enter your selection:  3\n",
      "Enter surname:  Howels\n"
     ]
    },
    {
     "name": "stdout",
     "output_type": "stream",
     "text": [
      "(1, 'Simon', 'Howels', '01223 349752')\n"
     ]
    },
    {
     "name": "stdin",
     "output_type": "stream",
     "text": [
      "Enter your selection:  5\n"
     ]
    }
   ],
   "source": [
    "def view_pb():\n",
    "    cursor.execute(\"SELECT * FROM Names\")\n",
    "    for x in cursor.fetchall():\n",
    "        print(x) \n",
    "        \n",
    "def add_pb():\n",
    "    newID = input(\"Enter ID number: \")\n",
    "    newFName = input(\"Enter first name: \")\n",
    "    newSName = input(\"Enter surname: \")\n",
    "    newNum = input(\"Enter number: \")\n",
    "    cursor.execute(\"\"\"INSERT INTO Names(id,firstname,surname,phonenumber)\n",
    " VALUES(?,?,?,?)\"\"\",(newID,newFName,newSName,newNum))\n",
    "    db.commit() \n",
    "    \n",
    "def search_surname():\n",
    "    SearchSName = input(\"Enter surname: \")\n",
    "    cursor.execute(\"SELECT * FROM Names WHERE surname = ?\",[SearchSName])\n",
    "    for x in cursor.fetchall():\n",
    "        print(x) \n",
    "        \n",
    "def delete_person():\n",
    "    delID= input(\"Enter id: \")\n",
    "    cursor.execute(\"DELETE FROM Names WHERE id = ?\", [delID]) \n",
    "    cursor.execute(\"SELECT * FROM Names\")\n",
    "    for x in cursor.fetchall():\n",
    "        print(x) \n",
    "    \n",
    "def quit_prog():\n",
    "    db.close()\n",
    "\n",
    "def main():\n",
    "    print(\"1) View Phonebook\")\n",
    "    print(\"2) Add to Phonebook\")\n",
    "    print(\"3) Seach for Surname\")\n",
    "    print(\"4) Delete Person from Phone Book\")\n",
    "    print(\"5) End Program\")\n",
    "    try_again = True\n",
    "    while try_again == True:\n",
    "        num = int(input(\"Enter your selection: \"))\n",
    "        with sqlite3.connect(\"PhoneBook.db\") as db:\n",
    "            cursor=db.cursor()\n",
    "        if num == 1:\n",
    "            view_pb()\n",
    "        elif num == 2:\n",
    "            add_pb()\n",
    "        elif num == 3:\n",
    "            search_surname()\n",
    "        elif num == 4:\n",
    "            delete_person()\n",
    "        elif num == 5:\n",
    "            quit_prog()\n",
    "            try_again = False\n",
    "        else: \n",
    "            print(\"error, not an option\")\n",
    "\n",
    "main()"
   ]
  },
  {
   "cell_type": "code",
   "execution_count": 20,
   "id": "cd934173",
   "metadata": {},
   "outputs": [
    {
     "name": "stdout",
     "output_type": "stream",
     "text": [
      "1) Make a Code\n",
      "2) Decode a Message\n",
      "3) Quit\n"
     ]
    },
    {
     "name": "stdin",
     "output_type": "stream",
     "text": [
      "Pick a menu number:  boob\n"
     ]
    },
    {
     "name": "stdout",
     "output_type": "stream",
     "text": [
      "Not a valid menu option, try again\n",
      "1) Make a Code\n",
      "2) Decode a Message\n",
      "3) Quit\n"
     ]
    },
    {
     "name": "stdin",
     "output_type": "stream",
     "text": [
      "Pick a menu number:  but\n"
     ]
    },
    {
     "name": "stdout",
     "output_type": "stream",
     "text": [
      "Not a valid menu option, try again\n",
      "1) Make a Code\n",
      "2) Decode a Message\n",
      "3) Quit\n"
     ]
    },
    {
     "name": "stdin",
     "output_type": "stream",
     "text": [
      "Pick a menu number:  1\n",
      "Provide sentence:  you, and me, in the sun\n",
      "Shift:  1000\n"
     ]
    },
    {
     "name": "stdout",
     "output_type": "stream",
     "text": [
      "kag, mzp yq, uz ftq egz\n",
      "1) Make a Code\n",
      "2) Decode a Message\n",
      "3) Quit\n"
     ]
    },
    {
     "name": "stdin",
     "output_type": "stream",
     "text": [
      "Pick a menu number:  2\n",
      "Provide encoded sentence:  kag, mzp yq, uz ftq egz\n",
      "Shift:  1000\n"
     ]
    },
    {
     "name": "stdout",
     "output_type": "stream",
     "text": [
      "you, and me, in the sun\n",
      "1) Make a Code\n",
      "2) Decode a Message\n",
      "3) Quit\n"
     ]
    },
    {
     "name": "stdin",
     "output_type": "stream",
     "text": [
      "Pick a menu number:  boob\n"
     ]
    },
    {
     "name": "stdout",
     "output_type": "stream",
     "text": [
      "Not a valid menu option, try again\n",
      "1) Make a Code\n",
      "2) Decode a Message\n",
      "3) Quit\n"
     ]
    },
    {
     "name": "stdin",
     "output_type": "stream",
     "text": [
      "Pick a menu number:  3\n"
     ]
    }
   ],
   "source": [
    "import string\n",
    "\n",
    "def make_code(): \n",
    "    precode = input(\"Provide sentence: \")\n",
    "    shift = int(input(\"Shift: \"))\n",
    "    coded = []\n",
    "    for i in precode:\n",
    "        n = i.lower()\n",
    "        try:\n",
    "            q = [k for k, v in alpha_dict.items() if v == n][0]+shift\n",
    "            while q > 25:\n",
    "                if q > 25:\n",
    "                    q = 0 + (q-25-1)\n",
    "                else:\n",
    "                    q = q\n",
    "            n = alpha_dict[q]\n",
    "        except:\n",
    "            pass\n",
    "        coded.append(n)\n",
    "    coded_sent = ''.join(coded)\n",
    "    print(coded_sent)\n",
    "    return(coded_sent)\n",
    "\n",
    "def decode(): \n",
    "    precode = input(\"Provide encoded sentence: \")\n",
    "    shift = int(input(\"Shift: \"))\n",
    "    decoded = []\n",
    "    for i in precode:\n",
    "        n = i.lower()\n",
    "        try:\n",
    "            q = [k for k, v in alpha_dict.items() if v == n][0]-shift\n",
    "            while q < 0:\n",
    "                if q < 0:\n",
    "                    q = 26 + q \n",
    "                else:\n",
    "                    q = q\n",
    "            n = alpha_dict[q]\n",
    "        except:\n",
    "            pass\n",
    "        decoded.append(n)\n",
    "    decoded_sent = ''.join(decoded)\n",
    "    print(decoded_sent)\n",
    "    return(decoded_sent)\n",
    "\n",
    "def main():\n",
    "    alpha_dict = dict(enumerate(string.ascii_lowercase))\n",
    "    try_again = True\n",
    "    while try_again == True:\n",
    "        print(\"1) Make a Code\")\n",
    "        print(\"2) Decode a Message\")\n",
    "        print(\"3) Quit\")\n",
    "        try:\n",
    "            num = int(input(\"Pick a menu number: \"))\n",
    "        except: \n",
    "            num = 4\n",
    "        if num == 1:\n",
    "            make_code()\n",
    "        elif num == 2:\n",
    "            decode()\n",
    "        elif num == 3:\n",
    "            try_again = False\n",
    "        else: \n",
    "            print(\"Not a valid menu option, try again\")\n",
    "\n",
    "main()"
   ]
  },
  {
   "cell_type": "code",
   "execution_count": 21,
   "id": "480b485d",
   "metadata": {},
   "outputs": [],
   "source": [
    "import random"
   ]
  },
  {
   "cell_type": "code",
   "execution_count": 73,
   "id": "0ba3af5a",
   "metadata": {},
   "outputs": [
    {
     "name": "stdout",
     "output_type": "stream",
     "text": [
      "['blue', 'orange', 'green', 'red', 'yellow', 'black', 'purple', 'white', 'pink']\n"
     ]
    },
    {
     "name": "stdin",
     "output_type": "stream",
     "text": [
      "Pick a color from the list:  yellow\n",
      "Pick a color from the list:  black\n",
      "Pick a color from the list:  butt\n"
     ]
    },
    {
     "name": "stdout",
     "output_type": "stream",
     "text": [
      "Color not in list, try again\n"
     ]
    },
    {
     "name": "stdin",
     "output_type": "stream",
     "text": [
      "Pick a color from the list:  white\n",
      "Pick a color from the list:  white\n"
     ]
    },
    {
     "name": "stdout",
     "output_type": "stream",
     "text": [
      "Correct colour in the correct place: 0\n",
      "Correct colour but in the wrong place: 0\n",
      "Try again!\n"
     ]
    },
    {
     "name": "stdin",
     "output_type": "stream",
     "text": [
      "Pick a color from the list:  blue\n",
      "Pick a color from the list:  black\n",
      "Pick a color from the list:  black\n",
      "Pick a color from the list:  blu\n"
     ]
    },
    {
     "name": "stdout",
     "output_type": "stream",
     "text": [
      "Color not in list, try again\n"
     ]
    },
    {
     "name": "stdin",
     "output_type": "stream",
     "text": [
      "Pick a color from the list:  blue\n"
     ]
    },
    {
     "name": "stdout",
     "output_type": "stream",
     "text": [
      "Correct colour in the correct place: 1\n",
      "Correct colour but in the wrong place: 1\n",
      "Try again!\n"
     ]
    },
    {
     "name": "stdin",
     "output_type": "stream",
     "text": [
      "Pick a color from the list:  blue\n",
      "Pick a color from the list:  green\n",
      "Pick a color from the list:  green\n",
      "Pick a color from the list:  green\n"
     ]
    },
    {
     "name": "stdout",
     "output_type": "stream",
     "text": [
      "Correct colour in the correct place: 1\n",
      "Correct colour but in the wrong place: 0\n",
      "Try again!\n"
     ]
    },
    {
     "name": "stdin",
     "output_type": "stream",
     "text": [
      "Pick a color from the list:  blue\n",
      "Pick a color from the list:  yellow\n",
      "Pick a color from the list:  yellow\n",
      "Pick a color from the list:  yellow\n"
     ]
    },
    {
     "name": "stdout",
     "output_type": "stream",
     "text": [
      "Correct colour in the correct place: 1\n",
      "Correct colour but in the wrong place: 0\n",
      "Try again!\n"
     ]
    },
    {
     "name": "stdin",
     "output_type": "stream",
     "text": [
      "Pick a color from the list:  blue\n",
      "Pick a color from the list:  pink\n",
      "Pick a color from the list:  red\n",
      "Pick a color from the list:  red\n"
     ]
    },
    {
     "name": "stdout",
     "output_type": "stream",
     "text": [
      "Correct colour in the correct place: 3\n",
      "Correct colour but in the wrong place: 1\n",
      "Try again!\n"
     ]
    },
    {
     "name": "stdin",
     "output_type": "stream",
     "text": [
      "Pick a color from the list:  blue\n",
      "Pick a color from the list:  pink\n",
      "Pick a color from the list:  red\n",
      "Pick a color from the list:  blue\n"
     ]
    },
    {
     "name": "stdout",
     "output_type": "stream",
     "text": [
      "Correct colour in the correct place: 3\n",
      "Correct colour but in the wrong place: 1\n",
      "Try again!\n"
     ]
    },
    {
     "name": "stdin",
     "output_type": "stream",
     "text": [
      "Pick a color from the list:  blue\n",
      "Pick a color from the list:  pink\n",
      "Pick a color from the list:  red\n",
      "Pick a color from the list:  purple\n"
     ]
    },
    {
     "name": "stdout",
     "output_type": "stream",
     "text": [
      "Correct colour in the correct place: 4\n",
      "Correct colour but in the wrong place: 0\n",
      "Congratulations! It only took you 7 guesses!\n"
     ]
    }
   ],
   "source": [
    "def comp_form(colorlist):\n",
    "    print(colorlist)\n",
    "    comp_colors = random.choices(colorlist, k=4)\n",
    "    comp_colors = dict(zip([0,1,2,3], comp_colors))\n",
    "    return comp_colors\n",
    "\n",
    "def user_guess(colorlist):\n",
    "    try_again = True\n",
    "    while try_again == True:\n",
    "        color1 = input(\"Pick a color from the list: \")\n",
    "        if color1 in colorlist:\n",
    "            try_again = False\n",
    "        else:\n",
    "            print(\"Color not in list, try again\")\n",
    "    try_again = True\n",
    "    while try_again == True:\n",
    "        color2 = input(\"Pick a color from the list: \")\n",
    "        if color2 in colorlist:\n",
    "            try_again = False\n",
    "        else:\n",
    "            print(\"Color not in list, try again\")\n",
    "    try_again = True\n",
    "    while try_again == True:\n",
    "        color3 = input(\"Pick a color from the list: \")\n",
    "        if color3 in colorlist:\n",
    "            try_again = False\n",
    "        else:\n",
    "            print(\"Color not in list, try again\")\n",
    "    try_again = True\n",
    "    while try_again == True:\n",
    "        color4 = input(\"Pick a color from the list: \")\n",
    "        if color4 in colorlist:\n",
    "            try_again = False\n",
    "        else:\n",
    "            print(\"Color not in list, try again\")\n",
    "\n",
    "    user_colors = dict(zip([0,1,2,3], [color1,color2,color3,color4]))\n",
    "    return user_colors\n",
    "\n",
    "def correct_guess(user_colors,comp_colors):\n",
    "    correct_count = 0\n",
    "    for i in range(0,len(comp_colors)):\n",
    "        if user_colors[i] == comp_colors[i]:\n",
    "            correct_count = correct_count + 1\n",
    "    print(\"Correct colour in the correct place: \" + str(correct_count))\n",
    "    return correct_count \n",
    "\n",
    "def includes_guess(user_colors,comp_colors, correct_count):\n",
    "    includes_count = 0\n",
    "    for i in user_colors.values():\n",
    "        if i in comp_colors.values():\n",
    "            includes_count = includes_count + 1\n",
    "    includes_count = includes_count - correct_count \n",
    "    print(\"Correct colour but in the wrong place: \" + str(includes_count))\n",
    "    return includes_count\n",
    "\n",
    "\n",
    "\n",
    "def main():\n",
    "    colorlist = [\"blue\",\"orange\",\"green\",\"red\",\"yellow\",\"black\",\"purple\",\"white\",\"pink\"]\n",
    "    comp_colors = comp_form(colorlist)\n",
    "    \n",
    "    try_again = True\n",
    "    guess_attempts = 0\n",
    "    while try_again == True:\n",
    "        correct_count = 0\n",
    "        includes_count = 0\n",
    "        user_colors = user_guess(colorlist)\n",
    "    \n",
    "        correct_count = correct_guess(user_colors,comp_colors)\n",
    "    \n",
    "        includes_count = includes_guess(user_colors,comp_colors, correct_count)\n",
    "        \n",
    "        guess_attempts = guess_attempts + 1\n",
    "        \n",
    "        if correct_count == 4:\n",
    "            try_again = False\n",
    "        else:\n",
    "            print(\"Try again!\")\n",
    "    print(\"Congratulations! It only took you \" + str(guess_attempts) + \" guesses!\")\n",
    "\n",
    "main()"
   ]
  },
  {
   "cell_type": "code",
   "execution_count": 3,
   "id": "a9af88a2",
   "metadata": {},
   "outputs": [
    {
     "name": "stdout",
     "output_type": "stream",
     "text": [
      "1) Create a New User ID\n",
      "2) Change a Password\n",
      "3) Display all User IDs\n",
      "4) Quit\n"
     ]
    },
    {
     "name": "stdin",
     "output_type": "stream",
     "text": [
      "Pick a menu number:  3\n",
      "Pick a menu number:  1\n",
      "Create a New User ID:  1234\n",
      "Create Password:  Butt4Lif#2\n"
     ]
    },
    {
     "name": "stdout",
     "output_type": "stream",
     "text": [
      "You have selected a strong password\n"
     ]
    },
    {
     "name": "stdin",
     "output_type": "stream",
     "text": [
      "Pick a menu number:  1\n",
      "Create a New User ID:  5436\n",
      "Create Password:  pnlyHERE!!!\n",
      "This password can be improved. Do you want to try again? npo\n"
     ]
    },
    {
     "name": "stdout",
     "output_type": "stream",
     "text": [
      "Not a valid answer. Please choose yes or no.\n"
     ]
    },
    {
     "name": "stdin",
     "output_type": "stream",
     "text": [
      "This password can be improved. Do you want to try again? no\n",
      "Pick a menu number:  1\n",
      "Create a New User ID:  3344\n",
      "Create Password:  buy8!qQ\n",
      "This password can be improved. Do you want to try again? no\n",
      "Pick a menu number:  3\n"
     ]
    },
    {
     "name": "stdout",
     "output_type": "stream",
     "text": [
      "1234\n",
      "5436\n",
      "3344\n"
     ]
    },
    {
     "name": "stdin",
     "output_type": "stream",
     "text": [
      "Pick a menu number:  2\n",
      "UserId:  3344\n",
      "Create Password:  hH1!eeeeeee\n"
     ]
    },
    {
     "name": "stdout",
     "output_type": "stream",
     "text": [
      "You have selected a strong password\n"
     ]
    },
    {
     "name": "stdin",
     "output_type": "stream",
     "text": [
      "Pick a menu number:  3\n"
     ]
    },
    {
     "name": "stdout",
     "output_type": "stream",
     "text": [
      "1234\n",
      "5436\n",
      "3344\n"
     ]
    },
    {
     "name": "stdin",
     "output_type": "stream",
     "text": [
      "Pick a menu number:  4\n"
     ]
    }
   ],
   "source": [
    "import csv\n",
    "\n",
    "def add_user():\n",
    "    try:\n",
    "        file = open(\"Users.csv\",\"r\")\n",
    "    except: \n",
    "        file = open (\"Users.csv\",\"w\") \n",
    "        file.close()\n",
    "        file = open(\"Users.csv\",\"r\")\n",
    "    reader = csv.reader(file)\n",
    "    try_again = True\n",
    "    while try_again == True:\n",
    "        userinc = 0\n",
    "        userID = input(\"Create a New User ID: \")\n",
    "        for row in file:\n",
    "            if userID in str(row):\n",
    "                userinc = userinc +1\n",
    "        if userinc > 0:\n",
    "            print(\"User already in file. Try again\")\n",
    "        else:\n",
    "            file.close() \n",
    "            try_again = False\n",
    "    return userID\n",
    "    \n",
    "def add_password():\n",
    "    try_again = True\n",
    "    while try_again == True:\n",
    "        password_score = 0\n",
    "        password = input(\"Create Password: \")\n",
    "        upper_count = 0\n",
    "        lower_count = 0\n",
    "        digit_count = 0\n",
    "        special_characters =\" !\\\"#$%&'()*+,-./:;<=>?@[\\]^_`{|}~\"\n",
    "        special_count = 0\n",
    "        for i in password:\n",
    "            if i.isupper():\n",
    "                upper_count = upper_count + 1\n",
    "            if i.islower():\n",
    "                lower_count = lower_count + 1\n",
    "            if i.isdigit():\n",
    "                digit_count = digit_count + 1\n",
    "            if i in special_characters:\n",
    "                special_count = special_count + 1\n",
    "        if len(password) >= 8:\n",
    "            password_score = password_score + 1\n",
    "        if upper_count > 0:\n",
    "            password_score = password_score + 1\n",
    "        if lower_count > 0:\n",
    "            password_score = password_score + 1\n",
    "        if digit_count > 0:\n",
    "            password_score = password_score + 1\n",
    "        if special_count > 0:\n",
    "            password_score = password_score + 1\n",
    "            \n",
    "        if password_score <= 2:\n",
    "            print(\"Weak Password. Try Again.\")\n",
    "        elif (password_score > 2) and (password_score <= 4):\n",
    "            try_again2 = True\n",
    "            while try_again2 == True:\n",
    "                answ = input(\"This password can be improved. Do you want to try again?\")\n",
    "                if (answ.lower() != \"yes\") and (answ.lower() != \"no\"):\n",
    "                    print(\"Not a valid answer. Please choose yes or no.\")\n",
    "                else:\n",
    "                    try_again2 = False\n",
    "            if answ.lower() == \"no\":\n",
    "                try_again = False\n",
    "        else: \n",
    "            print(\"You have selected a strong password\")\n",
    "            try_again = False\n",
    "    return password\n",
    "\n",
    "def new_record(userID, password):    \n",
    "    file = open(\"Users.csv\",\"a\")\n",
    "    newRecord = userID + \",\" + password + \"\\n\" \n",
    "    file.write(str(newRecord))\n",
    "    file.close() \n",
    "\n",
    "def get_temp():\n",
    "    file = list(csv.reader(open(\"Users.csv\")))\n",
    "    tmp = []\n",
    "    for x in file: \n",
    "        tmp.append(x)\n",
    "    return tmp\n",
    "\n",
    "def find_record(tmp):\n",
    "    try_again = True\n",
    "    userID = \"\"\n",
    "    while try_again == True: \n",
    "        searchID = input(\"UserId: \")\n",
    "        searchID  = searchID.lower()\n",
    "        inlist = False\n",
    "        row = 0\n",
    "        for y in tmp:\n",
    "            if searchID in tmp[row][0]:\n",
    "                inlist = True\n",
    "            row = row + 1\n",
    "        if inlist == True:\n",
    "            userID = searchID\n",
    "            try_again = False\n",
    "        else:\n",
    "            print(searchID, \" is NOT in the list\")\n",
    "    return userID\n",
    "    \n",
    "def change_password(userID):\n",
    "    if userID != \"\":\n",
    "        password = add_password()\n",
    "        ID = userID.index(userID)\n",
    "        tmp = get_temp()\n",
    "        tmp[ID][1] = password\n",
    "        file = open(\"Users.csv\", \"w\")\n",
    "        x = 0\n",
    "        for row in tmp:\n",
    "            newRecord = tmp[x][0] + \",\" + tmp[x][1] + \"\\n\" \n",
    "            file.write(newRecord)\n",
    "            x = x + 1\n",
    "        file.close()\n",
    "        \n",
    "def display_all():\n",
    "    try:\n",
    "        tmp = get_temp()\n",
    "        x = 0\n",
    "        for row in tmp:\n",
    "            print(tmp[x][0])\n",
    "            x = x + 1\n",
    "    except:\n",
    "        print(\"error, no entries yet\")\n",
    "\n",
    "\n",
    "def main():\n",
    "    print(\"1) Create a New User ID\")\n",
    "    print(\"2) Change a Password\")\n",
    "    print(\"3) Display all User IDs\")\n",
    "    print(\"4) Quit\")\n",
    "    try_again = True\n",
    "    while try_again == True:\n",
    "        try:\n",
    "            num = int(input(\"Pick a menu number: \"))\n",
    "            if num == 1:\n",
    "                userID = add_user()\n",
    "                password = add_password()\n",
    "                new_record(userID, password)\n",
    "            elif num == 2:\n",
    "                tmp = get_temp()\n",
    "                userID = find_record(tmp)\n",
    "                change_password(userID)\n",
    "            elif num == 3:\n",
    "                display_all()\n",
    "            elif num == 4:\n",
    "                try_again = False\n",
    "            else: \n",
    "                print(\"error, not an option\")\n",
    "        except: \n",
    "            print(\"error, not an option\")\n",
    "\n",
    "main()"
   ]
  },
  {
   "cell_type": "code",
   "execution_count": null,
   "id": "66ae4691",
   "metadata": {},
   "outputs": [],
   "source": []
  }
 ],
 "metadata": {
  "kernelspec": {
   "display_name": "Python 3 (ipykernel)",
   "language": "python",
   "name": "python3"
  },
  "language_info": {
   "codemirror_mode": {
    "name": "ipython",
    "version": 3
   },
   "file_extension": ".py",
   "mimetype": "text/x-python",
   "name": "python",
   "nbconvert_exporter": "python",
   "pygments_lexer": "ipython3",
   "version": "3.8.11"
  }
 },
 "nbformat": 4,
 "nbformat_minor": 5
}
