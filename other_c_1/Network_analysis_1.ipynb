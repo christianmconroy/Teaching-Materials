{
 "cells": [
  {
   "cell_type": "markdown",
   "metadata": {},
   "source": [
    "# Collecting and Using Data in Python\n",
    "\n",
    "## Laila A. Wahedi, PhD\n",
    "### Massive Data Institute Postdoctoral Fellow <br>McCourt School of Public Policy<br>\n",
    "\n",
    "### Follow along: \n",
    "* Slides: http://Wahedi.us, Tutorials\n",
    "* Interactive Notebook: https://notebooks.azure.com/Laila/projects/mdi-network-analysis-workshop\n"
   ]
  },
  {
   "cell_type": "markdown",
   "metadata": {},
   "source": [
    "# Following Along\n",
    "1. Go to https://notebooks.azure.com/Laila/libraries/MDI-workshopFA18\n",
    "2. Clone the directory\n",
    "3. Sign in with any Microsoft Account (Hotmail, Outlook, Azure, etc.)\n",
    " * Create a folder to put it in, mark as public or private\n",
    "\n",
    "\n",
    "* Azure Notebooks are standard Jupyter notebooks hosted by Microsoft Azure\n",
    "* If you want to install Jupyter on your own machine (NOT NOW): \n",
    "  * Install the Anaconda distribution of Python\n",
    "  https://www.anaconda.com/download/\n",
    "  * Install Jupyter Notebooks\n",
    "  http://jupyter.org/install\n",
    "\n",
    "### What even is this thing?\n",
    "* Jupyter Notebook is a coding environment that allows you to run snippits of code, interspaced with notes that are formatted in markdown. This makes it easy to explore and present data because you can view your results in-line with your code. \n",
    "### Here is a map of what you're looking at:\n",
    "\n",
    "<img src='https://notebooks.azure.com/Laila/libraries/MDI-workshopFA18/raw/notebook.png'>\n",
    "<br>\n",
    "\n",
    "* This is a markdown cell. Click on it to see the markdown formatting. \n",
    "* Run the cell to see it look pretty again. \n",
    "* Ctrl/Apple+enter runs the cell\n",
    "* Just run the cell to go from the raw form to the markdown pretty output"
   ]
  },
  {
   "cell_type": "markdown",
   "metadata": {},
   "source": [
    "## Your environment is persistent.\n",
    "\n",
    "* Persistent memory\n",
    "  * If you run a cell, results remain as long as the kernel\n",
    "\n",
    "### ORDER MATTERS!\n",
    "Run the following two cells, in order. "
   ]
  },
  {
   "cell_type": "code",
   "execution_count": 1,
   "metadata": {},
   "outputs": [],
   "source": [
    "foo = 'some variable content'"
   ]
  },
  {
   "cell_type": "code",
   "execution_count": 2,
   "metadata": {},
   "outputs": [
    {
     "name": "stdout",
     "output_type": "stream",
     "text": [
      "some variable content\n"
     ]
    }
   ],
   "source": [
    "print(foo)"
   ]
  },
  {
   "cell_type": "markdown",
   "metadata": {},
   "source": [
    "### See? foo still contains your data\n",
    "* If your kernel dies, your data are gone\n",
    "* Not R or Stata, you can't save your whole environment\n",
    "* Data in memory more than spreadsheets, have to decide how to record it.\n",
    "* Think carefully about what you want to save and how.\n",
    "## Easy Saving: Pickle Package\n",
    "* dump to save the data to hard drive (out of memory)\n",
    "* Contents of the command:\n",
    "  * variable to save,\n",
    "  * File to dump the variable into: \n",
    "    * open(<br>\n",
    "    \"name of file in quotes\",<br>\n",
    "    \"wb\") \"Write Binary\"\n",
    "    \n",
    "* Note: double and single quotes both work"
   ]
  },
  {
   "cell_type": "code",
   "execution_count": 3,
   "metadata": {},
   "outputs": [
    {
     "ename": "NameError",
     "evalue": "name 'pickle' is not defined",
     "output_type": "error",
     "traceback": [
      "\u001b[0;31m---------------------------------------------------------------------------\u001b[0m",
      "\u001b[0;31mNameError\u001b[0m                                 Traceback (most recent call last)",
      "\u001b[0;32m<ipython-input-3-270d9dcbfa55>\u001b[0m in \u001b[0;36m<module>\u001b[0;34m\u001b[0m\n\u001b[1;32m      1\u001b[0m \u001b[0mmydata\u001b[0m \u001b[0;34m=\u001b[0m \u001b[0;34m[\u001b[0m\u001b[0;36m1\u001b[0m\u001b[0;34m,\u001b[0m\u001b[0;36m2\u001b[0m\u001b[0;34m,\u001b[0m\u001b[0;36m3\u001b[0m\u001b[0;34m,\u001b[0m\u001b[0;36m4\u001b[0m\u001b[0;34m,\u001b[0m\u001b[0;36m5\u001b[0m\u001b[0;34m,\u001b[0m\u001b[0;36m6\u001b[0m\u001b[0;34m,\u001b[0m\u001b[0;36m7\u001b[0m\u001b[0;34m,\u001b[0m\u001b[0;36m8\u001b[0m\u001b[0;34m,\u001b[0m\u001b[0;36m9\u001b[0m\u001b[0;34m,\u001b[0m\u001b[0;36m10\u001b[0m\u001b[0;34m]\u001b[0m\u001b[0;34m\u001b[0m\u001b[0;34m\u001b[0m\u001b[0m\n\u001b[0;32m----> 2\u001b[0;31m \u001b[0mpickle\u001b[0m\u001b[0;34m.\u001b[0m\u001b[0mdump\u001b[0m\u001b[0;34m(\u001b[0m\u001b[0mmydata\u001b[0m\u001b[0;34m,\u001b[0m \u001b[0mopen\u001b[0m\u001b[0;34m(\u001b[0m\u001b[0;34m'mydata.p'\u001b[0m\u001b[0;34m,\u001b[0m\u001b[0;34m'wb'\u001b[0m\u001b[0;34m)\u001b[0m\u001b[0;34m)\u001b[0m\u001b[0;34m\u001b[0m\u001b[0;34m\u001b[0m\u001b[0m\n\u001b[0m\u001b[1;32m      3\u001b[0m \u001b[0mmydata\u001b[0m \u001b[0;34m=\u001b[0m \u001b[0mpickle\u001b[0m\u001b[0;34m.\u001b[0m\u001b[0mload\u001b[0m\u001b[0;34m(\u001b[0m\u001b[0mopen\u001b[0m\u001b[0;34m(\u001b[0m\u001b[0;34m\"mydata.p\"\u001b[0m\u001b[0;34m,\u001b[0m\u001b[0;34m\"rb\"\u001b[0m\u001b[0;34m)\u001b[0m\u001b[0;34m)\u001b[0m\u001b[0;34m\u001b[0m\u001b[0;34m\u001b[0m\u001b[0m\n\u001b[1;32m      4\u001b[0m \u001b[0;34m\u001b[0m\u001b[0m\n\u001b[1;32m      5\u001b[0m \u001b[0;31m# Pickle just saves your variable and you can save it as whatever you want\u001b[0m\u001b[0;34m\u001b[0m\u001b[0;34m\u001b[0m\u001b[0;34m\u001b[0m\u001b[0m\n",
      "\u001b[0;31mNameError\u001b[0m: name 'pickle' is not defined"
     ]
    }
   ],
   "source": [
    "mydata = [1,2,3,4,5,6,7,8,9,10]\n",
    "pickle.dump(mydata, open('mydata.p','wb'))\n",
    "mydata = pickle.load(open(\"mydata.p\",\"rb\"))\n",
    "\n",
    "# Pickle just saves your variable and you can save it as whatever you want\n",
    "# Opening is rb and saving is wb! Pay extra attention or otherwise it will overwrite!!!"
   ]
  },
  {
   "cell_type": "markdown",
   "metadata": {},
   "source": [
    "Run the below cell to get your environment ready:\n",
    "(Azure will take a minute to install and import the relevant packages, we'll learn more about each one soon)"
   ]
  },
  {
   "cell_type": "code",
   "execution_count": 4,
   "metadata": {},
   "outputs": [],
   "source": [
    "import networkx as nx\n",
    "import pandas as pd\n",
    "import numpy as np\n",
    "import pickle\n",
    "import matplotlib.pyplot as plt\n",
    "%matplotlib inline"
   ]
  },
  {
   "cell_type": "markdown",
   "metadata": {},
   "source": [
    "# What is a network?\n",
    "* Nodes/ Vertices (that are joined with...)\n",
    "* Links/ edges/ ties/ arcs\n",
    "* Weights\n",
    "* Also called a graph\n",
    "# Any Relationship or Interaction\n",
    "## Examples\n",
    "* People linked by friendship\n",
    "* People linked by acquaintance\n",
    "* People who shop at the same store\n",
    "* Stores in the same zip code\n",
    "* Stores with the same distributor\n",
    "* Movies with the same actors\n",
    "* Words in the same sentence\n",
    "\n",
    "# Bipartite: Networks with two types of node\n",
    "* People and the stores they shop in\n",
    "* Movies and actors \n",
    "* Words and authors (often used in text analysis)\n",
    "* What are some other examples?\n",
    "\n",
    "* Weighted networks adds in numbers. Linked based on distance between homes or number of retweets \n",
    "\n",
    "# Directed Networks: \n",
    "### Edges are not always symmetrical\n",
    "* Twitter user @Ahmad may retweet @Bethany more often than @Bethany retweets Ahmad\n",
    "* Mexico buys from the US more than the US buys from Mexico\n",
    "* User mentions on Twitter\n",
    "* Outgoing phone calls between people\n",
    "* Friendship rankings: Bobathy may list Amira as a friend on a survey without Amira listing Bobathy\n",
    "\n",
    "#### Weighted and directed networks are related. Which are weighted and which are unweighted? \n",
    "#### When are weighted networks not directed? \n",
    "\n",
    "# Representing a Network: Edge List\n",
    "* Dyads (Order matters in directed network but not in undirected network)\n",
    "* Each row contains a pair of nodes indicating a tie\n",
    "* A Third Column Cindicates weight\n",
    "* Order may indicate direction of edge"
   ]
  },
  {
   "cell_type": "code",
   "execution_count": 5,
   "metadata": {},
   "outputs": [],
   "source": [
    "edges = [('Fred', 'Maria'),\n",
    "         ('Fred', 'Samir'),\n",
    "         ('Fred', 'Jose',),\n",
    "         ('Maria', 'Sonya',),\n",
    "         ('Samir','Jose'),\n",
    "         ('Samir','Sonya'),]"
   ]
  },
  {
   "cell_type": "markdown",
   "metadata": {
    "slideshow": {
     "slide_type": "slide"
    }
   },
   "source": [
    "# Make this a weighted, undirected network"
   ]
  },
  {
   "cell_type": "code",
   "execution_count": 6,
   "metadata": {
    "slideshow": {
     "slide_type": "fragment"
    }
   },
   "outputs": [],
   "source": [
    "edges_weighted = [('Fred', 'Maria', 1),\n",
    "         ('Fred', 'Samir', 2),\n",
    "         ('Fred', 'Jose', 3),\n",
    "         ('Maria', 'Sonya', 4),\n",
    "         ('Samir','Jose', 5),\n",
    "         ('Samir','Sonya', 6),]\n",
    "\n",
    "# Maybe this is the number of times Samir, Sonya had a phone call or intensity of heartbeats when near each other. "
   ]
  },
  {
   "cell_type": "markdown",
   "metadata": {
    "slideshow": {
     "slide_type": "slide"
    }
   },
   "source": [
    "# What would you need to do to make this directed?"
   ]
  },
  {
   "cell_type": "code",
   "execution_count": 7,
   "metadata": {
    "slideshow": {
     "slide_type": "fragment"
    }
   },
   "outputs": [],
   "source": [
    "edges_directed =[('Fred', 'Maria', 3),\n",
    "         ('Fred', 'Samir', 6),\n",
    "         ('Fred', 'Jose', 2),\n",
    "         ('Maria', 'Sonya', 1),\n",
    "         ('Samir','Jose', 3),\n",
    "         ('Samir','Sonya', 5),\n",
    "         ('Maria', 'Fred', 2),\n",
    "         ('Samir', 'Fred', 4),\n",
    "         ('Jose', 'Fred', 6),\n",
    "         ('Sonya','Maria', 3),\n",
    "         ('Jose','Samir', 3)]\n",
    "# It would go from Fred to Maria, and not two-way (i.e. let's say Fred lists Maria as his best friend but maria lists Fred as 5th best)\n",
    "# Even if two entities have the same ranking, once you've set it out to be directed, you have to list both sides. Dyadic analysis might...\n",
    "# want 0s because dropping all of them could create bias\n",
    "# You can exclude if there's no weight or set to 0: Depends. "
   ]
  },
  {
   "cell_type": "markdown",
   "metadata": {
    "slideshow": {
     "slide_type": "slide"
    }
   },
   "source": [
    "# Representing a network: Adjacency Matrix\n",
    "* nxn matrix of nodes, where position i,j indicates relationship between node i and node j\n",
    " * Index position corresponds with nodes. Keep the order straight\n",
    "* Can be symmetrical or directed, use weights or indicators with 1\n",
    "* Less space efficient for sparse networks, but convenient for linear algebra operations\n",
    "* Use Numpy package, imported as np to make matrices\n",
    " * Index as (row, column)\n",
    "* Why: Do matrix operations on whole network"
   ]
  },
  {
   "cell_type": "markdown",
   "metadata": {
    "slideshow": {
     "slide_type": "slide"
    }
   },
   "source": [
    "# Representing a network: Adjacency Matrix"
   ]
  },
  {
   "cell_type": "code",
   "execution_count": 8,
   "metadata": {
    "slideshow": {
     "slide_type": "fragment"
    }
   },
   "outputs": [
    {
     "data": {
      "text/plain": [
       "array([[0., 1., 1., 1., 0.],\n",
       "       [1., 0., 0., 0., 1.],\n",
       "       [1., 0., 0., 1., 1.],\n",
       "       [1., 0., 1., 0., 0.],\n",
       "       [0., 1., 1., 0., 0.]])"
      ]
     },
     "execution_count": 8,
     "metadata": {},
     "output_type": "execute_result"
    }
   ],
   "source": [
    "adj = np.zeros((5,5))\n",
    "edge_index = [(0,1),(0,2),(0,3),\n",
    "     (1,0),(1,4),\n",
    "     (2,0),(2,3),(2,4),\n",
    "     (3,0),(3,2),\n",
    "     (4,1),(4,2)]\n",
    "for p in edge_index: \n",
    "    adj[p] = 1\n",
    "adj"
   ]
  },
  {
   "cell_type": "markdown",
   "metadata": {
    "slideshow": {
     "slide_type": "slide"
    }
   },
   "source": [
    "# Representing a network: Adjacency Matrix\n",
    "* To keep your labels, use the Pandas package, imported as pd"
   ]
  },
  {
   "cell_type": "code",
   "execution_count": 9,
   "metadata": {
    "slideshow": {
     "slide_type": "fragment"
    }
   },
   "outputs": [
    {
     "data": {
      "text/html": [
       "<div>\n",
       "<style scoped>\n",
       "    .dataframe tbody tr th:only-of-type {\n",
       "        vertical-align: middle;\n",
       "    }\n",
       "\n",
       "    .dataframe tbody tr th {\n",
       "        vertical-align: top;\n",
       "    }\n",
       "\n",
       "    .dataframe thead th {\n",
       "        text-align: right;\n",
       "    }\n",
       "</style>\n",
       "<table border=\"1\" class=\"dataframe\">\n",
       "  <thead>\n",
       "    <tr style=\"text-align: right;\">\n",
       "      <th></th>\n",
       "      <th>Fred</th>\n",
       "      <th>Maria</th>\n",
       "      <th>Samir</th>\n",
       "      <th>Jose</th>\n",
       "      <th>Sonya</th>\n",
       "    </tr>\n",
       "  </thead>\n",
       "  <tbody>\n",
       "    <tr>\n",
       "      <td>Fred</td>\n",
       "      <td>0.0</td>\n",
       "      <td>1.0</td>\n",
       "      <td>1.0</td>\n",
       "      <td>1.0</td>\n",
       "      <td>0.0</td>\n",
       "    </tr>\n",
       "    <tr>\n",
       "      <td>Maria</td>\n",
       "      <td>1.0</td>\n",
       "      <td>0.0</td>\n",
       "      <td>0.0</td>\n",
       "      <td>0.0</td>\n",
       "      <td>1.0</td>\n",
       "    </tr>\n",
       "    <tr>\n",
       "      <td>Samir</td>\n",
       "      <td>1.0</td>\n",
       "      <td>0.0</td>\n",
       "      <td>0.0</td>\n",
       "      <td>1.0</td>\n",
       "      <td>1.0</td>\n",
       "    </tr>\n",
       "    <tr>\n",
       "      <td>Jose</td>\n",
       "      <td>1.0</td>\n",
       "      <td>0.0</td>\n",
       "      <td>1.0</td>\n",
       "      <td>0.0</td>\n",
       "      <td>0.0</td>\n",
       "    </tr>\n",
       "    <tr>\n",
       "      <td>Sonya</td>\n",
       "      <td>0.0</td>\n",
       "      <td>1.0</td>\n",
       "      <td>1.0</td>\n",
       "      <td>0.0</td>\n",
       "      <td>0.0</td>\n",
       "    </tr>\n",
       "  </tbody>\n",
       "</table>\n",
       "</div>"
      ],
      "text/plain": [
       "       Fred  Maria  Samir  Jose  Sonya\n",
       "Fred    0.0    1.0    1.0   1.0    0.0\n",
       "Maria   1.0    0.0    0.0   0.0    1.0\n",
       "Samir   1.0    0.0    0.0   1.0    1.0\n",
       "Jose    1.0    0.0    1.0   0.0    0.0\n",
       "Sonya   0.0    1.0    1.0   0.0    0.0"
      ]
     },
     "execution_count": 9,
     "metadata": {},
     "output_type": "execute_result"
    }
   ],
   "source": [
    "nodes = ['Fred','Maria','Samir','Jose','Sonya',]\n",
    "adj_labeled = pd.DataFrame(adj,columns=nodes,index=nodes)\n",
    "adj_labeled"
   ]
  },
  {
   "cell_type": "markdown",
   "metadata": {
    "slideshow": {
     "slide_type": "slide"
    }
   },
   "source": [
    "# What research are you interested in? \n",
    "# How might we construct a network from it? "
   ]
  },
  {
   "cell_type": "markdown",
   "metadata": {
    "slideshow": {
     "slide_type": "slide"
    }
   },
   "source": [
    "# Representing A network in Python: Networkx Object\n",
    "* Using the networkx package, imported as nx\n",
    "* Package designed to hold network data, visualize it, and to perform basic exploratory analysis\n",
    "\n",
    "# Instantiating Our Network\n",
    "* Declare a graph object\n",
    "* Graph is another term for network\n",
    "* Add your nodes or vertices\n",
    "* Add your edges from an edgelist"
   ]
  },
  {
   "cell_type": "code",
   "execution_count": 10,
   "metadata": {
    "slideshow": {
     "slide_type": "fragment"
    }
   },
   "outputs": [
    {
     "data": {
      "text/plain": [
       "<networkx.classes.graph.Graph at 0xa1b0a3ed0>"
      ]
     },
     "execution_count": 10,
     "metadata": {},
     "output_type": "execute_result"
    }
   ],
   "source": [
    "G = nx.Graph()\n",
    "G.add_nodes_from(nodes)\n",
    "G.add_edges_from(edges)\n",
    "G"
   ]
  },
  {
   "cell_type": "markdown",
   "metadata": {
    "slideshow": {
     "slide_type": "slide"
    }
   },
   "source": [
    "# View Your Data:\n",
    "### Who is in your network?\n",
    "### Who is friends with who?"
   ]
  },
  {
   "cell_type": "code",
   "execution_count": 11,
   "metadata": {
    "slideshow": {
     "slide_type": "fragment"
    }
   },
   "outputs": [
    {
     "name": "stdout",
     "output_type": "stream",
     "text": [
      "['Fred', 'Maria', 'Samir', 'Jose', 'Sonya']\n"
     ]
    }
   ],
   "source": [
    "print(G.nodes)"
   ]
  },
  {
   "cell_type": "code",
   "execution_count": 12,
   "metadata": {
    "slideshow": {
     "slide_type": "fragment"
    }
   },
   "outputs": [
    {
     "data": {
      "text/plain": [
       "EdgeView([('Fred', 'Maria'), ('Fred', 'Samir'), ('Fred', 'Jose'), ('Maria', 'Sonya'), ('Samir', 'Jose'), ('Samir', 'Sonya')])"
      ]
     },
     "execution_count": 12,
     "metadata": {},
     "output_type": "execute_result"
    }
   ],
   "source": [
    "G.edges()"
   ]
  },
  {
   "cell_type": "markdown",
   "metadata": {
    "slideshow": {
     "slide_type": "slide"
    }
   },
   "source": [
    "# View Your Data:\n",
    "### Who is Fred friends with?"
   ]
  },
  {
   "cell_type": "code",
   "execution_count": 13,
   "metadata": {
    "slideshow": {
     "slide_type": "fragment"
    }
   },
   "outputs": [
    {
     "name": "stdout",
     "output_type": "stream",
     "text": [
      "{'Maria': {}, 'Samir': {}, 'Jose': {}}\n"
     ]
    }
   ],
   "source": [
    "print(G['Fred'])\n",
    "# IF you put in the weights, it would tell you the weights Fred has towards them"
   ]
  },
  {
   "cell_type": "markdown",
   "metadata": {
    "slideshow": {
     "slide_type": "slide"
    }
   },
   "source": [
    "# Add Some Friends"
   ]
  },
  {
   "cell_type": "code",
   "execution_count": 14,
   "metadata": {
    "slideshow": {
     "slide_type": "fragment"
    }
   },
   "outputs": [],
   "source": [
    "G.add_nodes_from(['Freya','Hasan'])\n",
    "G.add_edges_from([('Sonya','Freya'),('Sonya','Hasan')])"
   ]
  },
  {
   "cell_type": "markdown",
   "metadata": {
    "slideshow": {
     "slide_type": "slide"
    }
   },
   "source": [
    "# View Your Data:\n",
    "### Draw a quick picture"
   ]
  },
  {
   "cell_type": "code",
   "execution_count": 15,
   "metadata": {
    "scrolled": true,
    "slideshow": {
     "slide_type": "fragment"
    }
   },
   "outputs": [
    {
     "data": {
      "image/png": "[encoded data removed]",
      "text/plain": [
       "<Figure size 432x288 with 1 Axes>"
      ]
     },
     "metadata": {},
     "output_type": "display_data"
    }
   ],
   "source": [
    "nx.draw_networkx(G, with_labels = True)\n",
    "# The X and Y are not the weights. It is just the package using algorithms to decide where to put them. "
   ]
  },
  {
   "cell_type": "markdown",
   "metadata": {
    "slideshow": {
     "slide_type": "slide"
    }
   },
   "source": [
    "# Make a Weighted Network:\n",
    "* Add weighted edges instead of unweighted edges\n",
    "* Stores weight attribute in the edges\n",
    "* Can also store node attributes"
   ]
  },
  {
   "cell_type": "code",
   "execution_count": 16,
   "metadata": {
    "slideshow": {
     "slide_type": "fragment"
    }
   },
   "outputs": [],
   "source": [
    "G_weighted = nx.Graph()\n",
    "G_weighted.add_nodes_from(nodes)\n",
    "G_weighted.add_weighted_edges_from(edges_weighted)\n",
    "nx.set_node_attributes(G_weighted,\n",
    "                       {'Fred':16,\n",
    "                       'Maria:':15,\n",
    "                       'Samir':15,\n",
    "                       'Jose':15,\n",
    "                       'Sonya':14},\n",
    "                      'age')"
   ]
  },
  {
   "cell_type": "markdown",
   "metadata": {
    "slideshow": {
     "slide_type": "slide"
    }
   },
   "source": [
    "# Make a Directed Network:\n",
    "* Use a DiGraph object\n",
    "* Can also use weighted edges\n",
    "* Stores weight attribute in the edges"
   ]
  },
  {
   "cell_type": "code",
   "execution_count": 17,
   "metadata": {},
   "outputs": [],
   "source": [
    "G_dir = nx.DiGraph()\n",
    "G_dir.add_nodes_from(nodes)\n",
    "G_dir.add_weighted_edges_from(edges_directed)\n",
    "nx.set_node_attributes(G_dir,\n",
    "                       {'Fred':16, 'Maria:':15,\n",
    "                       'Samir':15,'Jose':15,\n",
    "                       'Sonya':14}, 'age')\n",
    "# Graph object vs. Di Graph Object is Undirected Weighted vs. Directed Weighted "
   ]
  },
  {
   "cell_type": "markdown",
   "metadata": {
    "slideshow": {
     "slide_type": "slide"
    }
   },
   "source": [
    "# View Your Data: \n",
    "* Friends are no longer symmetrical"
   ]
  },
  {
   "cell_type": "code",
   "execution_count": 18,
   "metadata": {
    "slideshow": {
     "slide_type": "fragment"
    }
   },
   "outputs": [
    {
     "name": "stdout",
     "output_type": "stream",
     "text": [
      "{'Jose': {'weight': 3}, 'Sonya': {'weight': 5}, 'Fred': {'weight': 4}}\n",
      "{'Fred': {'weight': 6}, 'Samir': {'weight': 3}}\n"
     ]
    },
    {
     "data": {
      "text/plain": [
       "<networkx.classes.digraph.DiGraph at 0xa1b873a50>"
      ]
     },
     "execution_count": 18,
     "metadata": {},
     "output_type": "execute_result"
    }
   ],
   "source": [
    "print(G_dir['Samir'])\n",
    "print(G_dir['Jose'])\n",
    "G_dir"
   ]
  },
  {
   "cell_type": "markdown",
   "metadata": {
    "slideshow": {
     "slide_type": "slide"
    }
   },
   "source": [
    "# View Your Data:\n",
    "* View node attributes\n",
    "* View weights"
   ]
  },
  {
   "cell_type": "code",
   "execution_count": 19,
   "metadata": {
    "slideshow": {
     "slide_type": "fragment"
    }
   },
   "outputs": [
    {
     "data": {
      "text/plain": [
       "15"
      ]
     },
     "execution_count": 19,
     "metadata": {},
     "output_type": "execute_result"
    }
   ],
   "source": [
    "G_dir.nodes['Samir']['age']"
   ]
  },
  {
   "cell_type": "code",
   "execution_count": 20,
   "metadata": {
    "slideshow": {
     "slide_type": "fragment"
    }
   },
   "outputs": [
    {
     "data": {
      "text/plain": [
       "4"
      ]
     },
     "execution_count": 20,
     "metadata": {},
     "output_type": "execute_result"
    }
   ],
   "source": [
    "G_dir['Samir']['Fred']['weight']"
   ]
  },
  {
   "cell_type": "markdown",
   "metadata": {
    "slideshow": {
     "slide_type": "slide"
    }
   },
   "source": [
    "# Make a Bipartite Network:\n",
    "* <b>Two node sets</b>\n",
    "* Edges between node sets\n",
    "* No edges within node sets"
   ]
  },
  {
   "cell_type": "code",
   "execution_count": 21,
   "metadata": {},
   "outputs": [],
   "source": [
    "G_bi = nx.Graph()\n",
    "G_bi.add_nodes_from(['Georgetown',\n",
    "                     'George Mason',\n",
    "                     'George Washington'],\n",
    "                   bipartite = 0)\n",
    "G_bi.add_nodes_from(['Fred','Jose',\n",
    "                    'Ayesha','Sara',\n",
    "                    'Bethany','Bobathy'],\n",
    "                    bipartite = 1\n",
    "                   )\n",
    "# If it is equal to 0 it is first set of nodes and 1 is second set of nodes\n",
    "# Bipartite means no ties between nodes within a set (i.e. Fred can be connected to Georgetown but not to Jose)"
   ]
  },
  {
   "cell_type": "markdown",
   "metadata": {
    "slideshow": {
     "slide_type": "slide"
    }
   },
   "source": [
    "# Make a Bipartite Network:\n",
    "* Two node sets\n",
    "* <b>Edges between node sets</b>\n",
    "* <b>No edges within node sets</b>"
   ]
  },
  {
   "cell_type": "code",
   "execution_count": 22,
   "metadata": {
    "slideshow": {
     "slide_type": "fragment"
    }
   },
   "outputs": [],
   "source": [
    "G_bi.add_edges_from([('Georgetown','Fred'),\n",
    "                    ('Georgetown','Jose'),\n",
    "                     ('Georgetown','Ayesha'),\n",
    "                     ('George Washington','Fred'),\n",
    "                    ('George Washington','Jose'),\n",
    "                    ('George Washington','Sara'),\n",
    "                     ('George Mason','Bethany'),\n",
    "                     ('George Mason','Bobathy')\n",
    "                    ])"
   ]
  },
  {
   "cell_type": "markdown",
   "metadata": {
    "slideshow": {
     "slide_type": "slide"
    }
   },
   "source": [
    "# Project to unipartite\n",
    "* Ties between universities that admitted the same students\n",
    "* Bipartite set treated as attribute label"
   ]
  },
  {
   "cell_type": "code",
   "execution_count": 23,
   "metadata": {
    "slideshow": {
     "slide_type": "fragment"
    }
   },
   "outputs": [
    {
     "data": {
      "image/png": "[encoded data removed]",
      "text/plain": [
       "<Figure size 432x288 with 1 Axes>"
      ]
     },
     "metadata": {},
     "output_type": "display_data"
    }
   ],
   "source": [
    "schools = []\n",
    "for node, data in G_bi.nodes(data=True):\n",
    "    if data['bipartite']==0:\n",
    "        schools.append(node)\n",
    "G_schools = nx.bipartite.projected_graph(G_bi, schools)\n",
    "nx.draw_networkx(G_schools, with_labels=True)\n",
    "\n",
    "# Maybe network of journalists to ask how the journalists are related to each other\n",
    "# Everyone who follows the journalists and the journalists might be a way to group them for example\n",
    "\n",
    "# First the graph and then the list of nodes"
   ]
  },
  {
   "cell_type": "markdown",
   "metadata": {
    "slideshow": {
     "slide_type": "slide"
    }
   },
   "source": [
    "# Make G_bi a weighted graph"
   ]
  },
  {
   "cell_type": "code",
   "execution_count": 24,
   "metadata": {},
   "outputs": [],
   "source": [
    "G_bi.add_weighted_edges_from([('Georgetown','Fred', 10000),\n",
    "                    ('Georgetown','Jose', 0),\n",
    "                     ('Georgetown','Ayesha', 20000),\n",
    "                     ('George Washington','Fred', 7000),\n",
    "                    ('George Washington','Jose', 1000),\n",
    "                    ('George Washington','Sara', 0),\n",
    "                     ('George Mason','Bethany', 30000),\n",
    "                     ('George Mason','Bobathy', 0)\n",
    "                    ])"
   ]
  },
  {
   "cell_type": "markdown",
   "metadata": {
    "slideshow": {
     "slide_type": "slide"
    }
   },
   "source": [
    "# Back to the Friendship Network\n",
    "* Who is most popular? \n",
    "* Who is most powerful? \n",
    "* Why?"
   ]
  },
  {
   "cell_type": "code",
   "execution_count": 25,
   "metadata": {
    "scrolled": true,
    "slideshow": {
     "slide_type": "fragment"
    }
   },
   "outputs": [
    {
     "data": {
      "image/png": "[encoded data removed]",
      "text/plain": [
       "<Figure size 432x288 with 1 Axes>"
      ]
     },
     "metadata": {},
     "output_type": "display_data"
    }
   ],
   "source": [
    "nx.draw_networkx(G)"
   ]
  },
  {
   "cell_type": "markdown",
   "metadata": {
    "slideshow": {
     "slide_type": "slide"
    }
   },
   "source": [
    "# Centrality\n",
    "* Way to measure the nature of the connectedness of a group\n",
    "* Many centrality measures\n",
    "* Use theory to pick one. \n",
    "\n",
    "#### Some common measures:\n",
    "\n",
    "# Degree Centrality\n",
    "* Number of ties, or normalized number of ties\n",
    "* Sum of rows\n",
    "* In-degree: number of edges to a node \n",
    "* Out-degree: number of edges from a node\n",
    "* When? "
   ]
  },
  {
   "cell_type": "code",
   "execution_count": 26,
   "metadata": {
    "slideshow": {
     "slide_type": "fragment"
    }
   },
   "outputs": [
    {
     "name": "stdout",
     "output_type": "stream",
     "text": [
      "{'Fred': 0.5, 'Maria': 0.3333333333333333, 'Samir': 0.5, 'Jose': 0.3333333333333333, 'Sonya': 0.6666666666666666, 'Freya': 0.16666666666666666, 'Hasan': 0.16666666666666666}\n"
     ]
    }
   ],
   "source": [
    "deg = nx.degree_centrality(G)\n",
    "print(deg)"
   ]
  },
  {
   "cell_type": "markdown",
   "metadata": {
    "slideshow": {
     "slide_type": "slide"
    }
   },
   "source": [
    "# Eigenvector Centrality\n",
    "* Connectedness to other well-connected nodes (Doesn't have to be directly connected to each other, but can't have two networks)\n",
    "* Theoretical Implication: A lot of work to maintain ties to everyone, sometimes just as good to know someone who knows everyone.\n",
    " * Finding a job\n",
    " * Rumors\n",
    " * Supply\n",
    " * This is more about having the right connection (Sonya who gets all the gossip) versus the most (i.e. I'm popular and friends with everyone)\n",
    " * Eigenvector centrality can be really valuable in supply networks \n",
    "\n",
    "* Requires connected network\n",
    "* Cannot compare across networks\n",
    "* Can be used to measure flow \n",
    "* Let's say there is a 1 in the diagonal that is the guy with a disease, and then everyone in the next period connected to that guy gets it, then the people connected to those people get it and so on\n",
    "* Eigenvector will tell you who in a trade network is in a really good way to profit \n",
    "* Diffusion matrix - How many hours of the day to you spend together\n",
    "* Influencer networks (you'll think what I say is cool)\n",
    "\n",
    "### When might eigenvector centrality be less useful? "
   ]
  },
  {
   "cell_type": "markdown",
   "metadata": {
    "slideshow": {
     "slide_type": "slide"
    }
   },
   "source": [
    "# Calculating Eigenvector Centrality\n",
    "* Take eigenvector for maximum eigenvalue\n",
    "* nx.eigenvector_centrality uses a different method that usually converges to the same result, but sometimes errors. "
   ]
  },
  {
   "cell_type": "code",
   "execution_count": 28,
   "metadata": {
    "slideshow": {
     "slide_type": "fragment"
    }
   },
   "outputs": [
    {
     "name": "stdout",
     "output_type": "stream",
     "text": [
      "{'Fred': 0.4667289595375909, 'Maria': 0.354956626319124, 'Samir': 0.4959894828189833, 'Jose': 0.3684765011919249, 'Sonya': 0.4606661098595258, 'Freya': 0.17631804784296695, 'Hasan': 0.17631804784296712}\n",
      "[ 2.61269970e+00 -2.29002215e+00  1.34352222e+00 -1.24305532e+00\n",
      " -7.06463494e-01  2.83319054e-01  1.43353514e-33]\n"
     ]
    },
    {
     "data": {
      "text/plain": [
       "array([0.46672896, 0.35495663, 0.49598948, 0.3684765 , 0.46066611,\n",
       "       0.17631805, 0.17631805])"
      ]
     },
     "execution_count": 28,
     "metadata": {},
     "output_type": "execute_result"
    }
   ],
   "source": [
    "eig_c = nx.eigenvector_centrality_numpy(G)\n",
    "toy_adj = nx.adjacency_matrix(G)\n",
    "print(eig_c)\n",
    "val,vec = np.linalg.eig(toy_adj.toarray())\n",
    "print(val)\n",
    "vec[:,0]\n",
    "\n",
    "# So this is telling you where the resources will pool and where influence, so not the most nodes (that's degree centrality)\n",
    "# Degree centrality matters for meeting constituents but maybe Eigenvector Centrality is better for fundraising"
   ]
  },
  {
   "cell_type": "markdown",
   "metadata": {
    "slideshow": {
     "slide_type": "slide"
    }
   },
   "source": [
    "# Betweenness Centrality\n",
    "* Proportional to the number of shortest paths that pass through a given node\n",
    "* How important is that node in connecting other nodes"
   ]
  },
  {
   "cell_type": "code",
   "execution_count": 29,
   "metadata": {
    "slideshow": {
     "slide_type": "fragment"
    }
   },
   "outputs": [
    {
     "name": "stdout",
     "output_type": "stream",
     "text": [
      "{'Fred': 0.1, 'Maria': 0.1, 'Samir': 0.3, 'Jose': 0.0, 'Sonya': 0.6333333333333333, 'Freya': 0.0, 'Hasan': 0.0}\n"
     ]
    }
   ],
   "source": [
    "betw = nx.betweenness_centrality(G)\n",
    "print(betw)\n",
    "# Shortest path through a given node - What percentage of nodes pass through a given node\n",
    "# Who is most likely to connect two distinct parts of the network"
   ]
  },
  {
   "cell_type": "markdown",
   "metadata": {
    "slideshow": {
     "slide_type": "slide"
    }
   },
   "source": [
    "# Centrality Measures Are Different\n",
    "* Select based on theory you want to capture\n",
    "* Correlation between measures differs across networks\n",
    "* Take a minute to play around with the network and see how the relationships change"
   ]
  },
  {
   "cell_type": "code",
   "execution_count": 30,
   "metadata": {
    "scrolled": true,
    "slideshow": {
     "slide_type": "fragment"
    }
   },
   "outputs": [
    {
     "name": "stdout",
     "output_type": "stream",
     "text": [
      "            deg     eig_c      betw\n",
      "deg    1.000000  0.914429  0.860781\n",
      "eig_c  0.914429  1.000000  0.628927\n",
      "betw   0.860781  0.628927  1.000000\n"
     ]
    },
    {
     "data": {
      "text/html": [
       "<div>\n",
       "<style scoped>\n",
       "    .dataframe tbody tr th:only-of-type {\n",
       "        vertical-align: middle;\n",
       "    }\n",
       "\n",
       "    .dataframe tbody tr th {\n",
       "        vertical-align: top;\n",
       "    }\n",
       "\n",
       "    .dataframe thead th {\n",
       "        text-align: right;\n",
       "    }\n",
       "</style>\n",
       "<table border=\"1\" class=\"dataframe\">\n",
       "  <thead>\n",
       "    <tr style=\"text-align: right;\">\n",
       "      <th></th>\n",
       "      <th>deg</th>\n",
       "      <th>eig_c</th>\n",
       "      <th>betw</th>\n",
       "    </tr>\n",
       "  </thead>\n",
       "  <tbody>\n",
       "    <tr>\n",
       "      <td>Fred</td>\n",
       "      <td>0.500000</td>\n",
       "      <td>0.466729</td>\n",
       "      <td>0.100000</td>\n",
       "    </tr>\n",
       "    <tr>\n",
       "      <td>Maria</td>\n",
       "      <td>0.333333</td>\n",
       "      <td>0.354957</td>\n",
       "      <td>0.100000</td>\n",
       "    </tr>\n",
       "    <tr>\n",
       "      <td>Samir</td>\n",
       "      <td>0.500000</td>\n",
       "      <td>0.495989</td>\n",
       "      <td>0.300000</td>\n",
       "    </tr>\n",
       "    <tr>\n",
       "      <td>Jose</td>\n",
       "      <td>0.333333</td>\n",
       "      <td>0.368477</td>\n",
       "      <td>0.000000</td>\n",
       "    </tr>\n",
       "    <tr>\n",
       "      <td>Sonya</td>\n",
       "      <td>0.666667</td>\n",
       "      <td>0.460666</td>\n",
       "      <td>0.633333</td>\n",
       "    </tr>\n",
       "    <tr>\n",
       "      <td>Freya</td>\n",
       "      <td>0.166667</td>\n",
       "      <td>0.176318</td>\n",
       "      <td>0.000000</td>\n",
       "    </tr>\n",
       "    <tr>\n",
       "      <td>Hasan</td>\n",
       "      <td>0.166667</td>\n",
       "      <td>0.176318</td>\n",
       "      <td>0.000000</td>\n",
       "    </tr>\n",
       "  </tbody>\n",
       "</table>\n",
       "</div>"
      ],
      "text/plain": [
       "            deg     eig_c      betw\n",
       "Fred   0.500000  0.466729  0.100000\n",
       "Maria  0.333333  0.354957  0.100000\n",
       "Samir  0.500000  0.495989  0.300000\n",
       "Jose   0.333333  0.368477  0.000000\n",
       "Sonya  0.666667  0.460666  0.633333\n",
       "Freya  0.166667  0.176318  0.000000\n",
       "Hasan  0.166667  0.176318  0.000000"
      ]
     },
     "execution_count": 30,
     "metadata": {},
     "output_type": "execute_result"
    }
   ],
   "source": [
    "cent_scores = pd.DataFrame({'deg':deg,'eig_c':eig_c,'betw':betw})\n",
    "print(cent_scores.corr())\n",
    "cent_scores\n",
    "\n",
    "# Sonya"
   ]
  },
  {
   "cell_type": "markdown",
   "metadata": {
    "slideshow": {
     "slide_type": "slide"
    }
   },
   "source": [
    "# Difference in Measures\n",
    "* Sonya has the most friends\n",
    "* Sonya's friends are not as well connected, lowering her eigenvector centrality\n",
    "* Fred and Samir have better connected friends\n",
    "* Hasan and Freya have no connection to the others except through Sonya, giving her high betweenness"
   ]
  },
  {
   "cell_type": "code",
   "execution_count": 31,
   "metadata": {
    "slideshow": {
     "slide_type": "fragment"
    }
   },
   "outputs": [
    {
     "data": {
      "image/png": "[encoded data removed]",
      "text/plain": [
       "<Figure size 432x288 with 1 Axes>"
      ]
     },
     "metadata": {},
     "output_type": "display_data"
    }
   ],
   "source": [
    "nx.draw_networkx(G)\n",
    "# What percentage of paths go through Samir? That % is his betweeness centrality. "
   ]
  },
  {
   "cell_type": "markdown",
   "metadata": {
    "slideshow": {
     "slide_type": "slide"
    }
   },
   "source": [
    "# Florentine Marriage Networks\n",
    "* Families in this graph are connected when there are marriage ties between them\n",
    "* Calculate the centrality scores\n",
    "* Who is the most powerful? "
   ]
  },
  {
   "cell_type": "code",
   "execution_count": 32,
   "metadata": {
    "scrolled": true,
    "slideshow": {
     "slide_type": "fragment"
    }
   },
   "outputs": [
    {
     "data": {
      "image/png": "[encoded data removed]",
      "text/plain": [
       "<Figure size 432x288 with 1 Axes>"
      ]
     },
     "metadata": {},
     "output_type": "display_data"
    }
   ],
   "source": [
    "florentine = nx.generators.social.florentine_families_graph()\n",
    "nx.draw_networkx(florentine)\n",
    "\n",
    "# Being connected with people who aren't connected to others means higher betweeness."
   ]
  },
  {
   "cell_type": "markdown",
   "metadata": {
    "slideshow": {
     "slide_type": "slide"
    }
   },
   "source": [
    "# Florentine Centrality"
   ]
  },
  {
   "cell_type": "code",
   "execution_count": 33,
   "metadata": {
    "slideshow": {
     "slide_type": "fragment"
    }
   },
   "outputs": [
    {
     "ename": "NameError",
     "evalue": "name 'karate' is not defined",
     "output_type": "error",
     "traceback": [
      "\u001b[0;31m---------------------------------------------------------------------------\u001b[0m",
      "\u001b[0;31mNameError\u001b[0m                                 Traceback (most recent call last)",
      "\u001b[0;32m<ipython-input-33-2e97763063c5>\u001b[0m in \u001b[0;36m<module>\u001b[0;34m\u001b[0m\n\u001b[0;32m----> 1\u001b[0;31m \u001b[0mdeg\u001b[0m \u001b[0;34m=\u001b[0m \u001b[0mnx\u001b[0m\u001b[0;34m.\u001b[0m\u001b[0mdegree_centrality\u001b[0m\u001b[0;34m(\u001b[0m\u001b[0mkarate\u001b[0m\u001b[0;34m)\u001b[0m\u001b[0;34m\u001b[0m\u001b[0;34m\u001b[0m\u001b[0m\n\u001b[0m\u001b[1;32m      2\u001b[0m \u001b[0mbetw\u001b[0m \u001b[0;34m=\u001b[0m \u001b[0mnx\u001b[0m\u001b[0;34m.\u001b[0m\u001b[0mbetweenness_centrality\u001b[0m\u001b[0;34m(\u001b[0m\u001b[0mkarate\u001b[0m\u001b[0;34m)\u001b[0m\u001b[0;34m\u001b[0m\u001b[0;34m\u001b[0m\u001b[0m\n\u001b[1;32m      3\u001b[0m \u001b[0meigc\u001b[0m \u001b[0;34m=\u001b[0m \u001b[0mnx\u001b[0m\u001b[0;34m.\u001b[0m\u001b[0meigenvector_centrality\u001b[0m\u001b[0;34m(\u001b[0m\u001b[0mkarate\u001b[0m\u001b[0;34m)\u001b[0m\u001b[0;34m\u001b[0m\u001b[0;34m\u001b[0m\u001b[0m\n\u001b[1;32m      4\u001b[0m \u001b[0mcent_scores\u001b[0m \u001b[0;34m=\u001b[0m \u001b[0mpd\u001b[0m\u001b[0;34m.\u001b[0m\u001b[0mDataFrame\u001b[0m\u001b[0;34m(\u001b[0m\u001b[0;34m{\u001b[0m\u001b[0;34m'deg'\u001b[0m\u001b[0;34m:\u001b[0m\u001b[0mdeg\u001b[0m\u001b[0;34m,\u001b[0m\u001b[0;34m'eig_c'\u001b[0m\u001b[0;34m:\u001b[0m\u001b[0meigc\u001b[0m\u001b[0;34m,\u001b[0m\u001b[0;34m'betw'\u001b[0m\u001b[0;34m:\u001b[0m\u001b[0mbetw\u001b[0m\u001b[0;34m}\u001b[0m\u001b[0;34m)\u001b[0m\u001b[0;34m\u001b[0m\u001b[0;34m\u001b[0m\u001b[0m\n\u001b[1;32m      5\u001b[0m \u001b[0mcent_scores\u001b[0m\u001b[0;34m.\u001b[0m\u001b[0msort_values\u001b[0m\u001b[0;34m(\u001b[0m\u001b[0;34m[\u001b[0m\u001b[0;34m'deg'\u001b[0m\u001b[0;34m,\u001b[0m\u001b[0;34m'eig_c'\u001b[0m\u001b[0;34m,\u001b[0m\u001b[0;34m'betw'\u001b[0m\u001b[0;34m]\u001b[0m\u001b[0;34m)\u001b[0m\u001b[0;34m\u001b[0m\u001b[0;34m\u001b[0m\u001b[0m\n",
      "\u001b[0;31mNameError\u001b[0m: name 'karate' is not defined"
     ]
    }
   ],
   "source": [
    "deg = nx.degree_centrality(karate)\n",
    "betw = nx.betweenness_centrality(karate)\n",
    "eigc = nx.eigenvector_centrality(karate)\n",
    "cent_scores = pd.DataFrame({'deg':deg,'eig_c':eigc,'betw':betw})\n",
    "cent_scores.sort_values(['deg','eig_c','betw'])\n",
    "# 27 in very dense neighborhood not as much with 5 and 6\n",
    "# Eigenvector may be better correlayed with degree because we have a lot of triangles (i.e. clustering)\n",
    "# We did for karate above"
   ]
  },
  {
   "cell_type": "markdown",
   "metadata": {
    "slideshow": {
     "slide_type": "slide"
    }
   },
   "source": [
    "# Florentine Centrality\n",
    "* Which measure best captures Medici power? Why?\n",
    "* What's up with Guadagni's betweenness vs Stozzi?\n",
    "* Why does Strozzi have high eigenvector centrality?"
   ]
  },
  {
   "cell_type": "markdown",
   "metadata": {
    "slideshow": {
     "slide_type": "slide"
    }
   },
   "source": [
    "# Karate Club Graph\n",
    "* Compare 0 and 32/33\n",
    " * Shared influence\n",
    "* Compare 5/6 with 27/28\n",
    " * Neighborhood density\n",
    "* Why is eigenvector better correlated with degree here than in our friend graph?\n",
    " * Triangles!"
   ]
  },
  {
   "cell_type": "code",
   "execution_count": 79,
   "metadata": {
    "scrolled": true,
    "slideshow": {
     "slide_type": "fragment"
    }
   },
   "outputs": [
    {
     "data": {
      "image/png": "[encoded data removed]",
      "text/plain": [
       "<Figure size 432x288 with 1 Axes>"
      ]
     },
     "metadata": {
      "needs_background": "light"
     },
     "output_type": "display_data"
    }
   ],
   "source": [
    "karate = nx.generators.social.karate_club_graph()\n",
    "nx.draw_networkx(karate)"
   ]
  },
  {
   "cell_type": "markdown",
   "metadata": {
    "slideshow": {
     "slide_type": "slide"
    }
   },
   "source": [
    "# Karate Club Graph\n",
    "* Compare 0 and 32/33\n",
    " * Shared influence\n",
    "* Compare 5/6 with 27/28\n",
    " * Neighborhood density\n",
    "* Why is eigenvector better correlated with degree here than in our friend graph?\n",
    " * Triangles!"
   ]
  },
  {
   "cell_type": "code",
   "execution_count": 88,
   "metadata": {
    "slideshow": {
     "slide_type": "slide"
    }
   },
   "outputs": [
    {
     "name": "stdout",
     "output_type": "stream",
     "text": [
      "           betw       deg     eig_c\n",
      "betw   1.000000  0.914643  0.803213\n",
      "deg    0.914643  1.000000  0.917255\n",
      "eig_c  0.803213  0.917255  1.000000\n"
     ]
    },
    {
     "data": {
      "text/html": [
       "<div>\n",
       "<style scoped>\n",
       "    .dataframe tbody tr th:only-of-type {\n",
       "        vertical-align: middle;\n",
       "    }\n",
       "\n",
       "    .dataframe tbody tr th {\n",
       "        vertical-align: top;\n",
       "    }\n",
       "\n",
       "    .dataframe thead th {\n",
       "        text-align: right;\n",
       "    }\n",
       "</style>\n",
       "<table border=\"1\" class=\"dataframe\">\n",
       "  <thead>\n",
       "    <tr style=\"text-align: right;\">\n",
       "      <th></th>\n",
       "      <th>betw</th>\n",
       "      <th>deg</th>\n",
       "      <th>eig_c</th>\n",
       "    </tr>\n",
       "  </thead>\n",
       "  <tbody>\n",
       "    <tr>\n",
       "      <th>0</th>\n",
       "      <td>0.437635</td>\n",
       "      <td>0.484848</td>\n",
       "      <td>0.355483</td>\n",
       "    </tr>\n",
       "    <tr>\n",
       "      <th>1</th>\n",
       "      <td>0.053937</td>\n",
       "      <td>0.272727</td>\n",
       "      <td>0.265954</td>\n",
       "    </tr>\n",
       "    <tr>\n",
       "      <th>2</th>\n",
       "      <td>0.143657</td>\n",
       "      <td>0.303030</td>\n",
       "      <td>0.317189</td>\n",
       "    </tr>\n",
       "    <tr>\n",
       "      <th>3</th>\n",
       "      <td>0.011909</td>\n",
       "      <td>0.181818</td>\n",
       "      <td>0.211174</td>\n",
       "    </tr>\n",
       "    <tr>\n",
       "      <th>4</th>\n",
       "      <td>0.000631</td>\n",
       "      <td>0.090909</td>\n",
       "      <td>0.075966</td>\n",
       "    </tr>\n",
       "    <tr>\n",
       "      <th>5</th>\n",
       "      <td>0.029987</td>\n",
       "      <td>0.121212</td>\n",
       "      <td>0.079481</td>\n",
       "    </tr>\n",
       "    <tr>\n",
       "      <th>6</th>\n",
       "      <td>0.029987</td>\n",
       "      <td>0.121212</td>\n",
       "      <td>0.079481</td>\n",
       "    </tr>\n",
       "    <tr>\n",
       "      <th>7</th>\n",
       "      <td>0.000000</td>\n",
       "      <td>0.121212</td>\n",
       "      <td>0.170955</td>\n",
       "    </tr>\n",
       "    <tr>\n",
       "      <th>8</th>\n",
       "      <td>0.055927</td>\n",
       "      <td>0.151515</td>\n",
       "      <td>0.227405</td>\n",
       "    </tr>\n",
       "    <tr>\n",
       "      <th>9</th>\n",
       "      <td>0.000848</td>\n",
       "      <td>0.060606</td>\n",
       "      <td>0.102675</td>\n",
       "    </tr>\n",
       "    <tr>\n",
       "      <th>10</th>\n",
       "      <td>0.000631</td>\n",
       "      <td>0.090909</td>\n",
       "      <td>0.075966</td>\n",
       "    </tr>\n",
       "    <tr>\n",
       "      <th>11</th>\n",
       "      <td>0.000000</td>\n",
       "      <td>0.030303</td>\n",
       "      <td>0.052854</td>\n",
       "    </tr>\n",
       "    <tr>\n",
       "      <th>12</th>\n",
       "      <td>0.000000</td>\n",
       "      <td>0.060606</td>\n",
       "      <td>0.084252</td>\n",
       "    </tr>\n",
       "    <tr>\n",
       "      <th>13</th>\n",
       "      <td>0.045863</td>\n",
       "      <td>0.151515</td>\n",
       "      <td>0.226470</td>\n",
       "    </tr>\n",
       "    <tr>\n",
       "      <th>14</th>\n",
       "      <td>0.000000</td>\n",
       "      <td>0.060606</td>\n",
       "      <td>0.101406</td>\n",
       "    </tr>\n",
       "    <tr>\n",
       "      <th>15</th>\n",
       "      <td>0.000000</td>\n",
       "      <td>0.060606</td>\n",
       "      <td>0.101406</td>\n",
       "    </tr>\n",
       "    <tr>\n",
       "      <th>16</th>\n",
       "      <td>0.000000</td>\n",
       "      <td>0.060606</td>\n",
       "      <td>0.023635</td>\n",
       "    </tr>\n",
       "    <tr>\n",
       "      <th>17</th>\n",
       "      <td>0.000000</td>\n",
       "      <td>0.060606</td>\n",
       "      <td>0.092397</td>\n",
       "    </tr>\n",
       "    <tr>\n",
       "      <th>18</th>\n",
       "      <td>0.000000</td>\n",
       "      <td>0.060606</td>\n",
       "      <td>0.101406</td>\n",
       "    </tr>\n",
       "    <tr>\n",
       "      <th>19</th>\n",
       "      <td>0.032475</td>\n",
       "      <td>0.090909</td>\n",
       "      <td>0.147911</td>\n",
       "    </tr>\n",
       "    <tr>\n",
       "      <th>20</th>\n",
       "      <td>0.000000</td>\n",
       "      <td>0.060606</td>\n",
       "      <td>0.101406</td>\n",
       "    </tr>\n",
       "    <tr>\n",
       "      <th>21</th>\n",
       "      <td>0.000000</td>\n",
       "      <td>0.060606</td>\n",
       "      <td>0.092397</td>\n",
       "    </tr>\n",
       "    <tr>\n",
       "      <th>22</th>\n",
       "      <td>0.000000</td>\n",
       "      <td>0.060606</td>\n",
       "      <td>0.101406</td>\n",
       "    </tr>\n",
       "    <tr>\n",
       "      <th>23</th>\n",
       "      <td>0.017614</td>\n",
       "      <td>0.151515</td>\n",
       "      <td>0.150123</td>\n",
       "    </tr>\n",
       "    <tr>\n",
       "      <th>24</th>\n",
       "      <td>0.002210</td>\n",
       "      <td>0.090909</td>\n",
       "      <td>0.057054</td>\n",
       "    </tr>\n",
       "    <tr>\n",
       "      <th>25</th>\n",
       "      <td>0.003840</td>\n",
       "      <td>0.090909</td>\n",
       "      <td>0.059208</td>\n",
       "    </tr>\n",
       "    <tr>\n",
       "      <th>26</th>\n",
       "      <td>0.000000</td>\n",
       "      <td>0.060606</td>\n",
       "      <td>0.075582</td>\n",
       "    </tr>\n",
       "    <tr>\n",
       "      <th>27</th>\n",
       "      <td>0.022333</td>\n",
       "      <td>0.121212</td>\n",
       "      <td>0.133479</td>\n",
       "    </tr>\n",
       "    <tr>\n",
       "      <th>28</th>\n",
       "      <td>0.001795</td>\n",
       "      <td>0.090909</td>\n",
       "      <td>0.131079</td>\n",
       "    </tr>\n",
       "    <tr>\n",
       "      <th>29</th>\n",
       "      <td>0.002922</td>\n",
       "      <td>0.121212</td>\n",
       "      <td>0.134965</td>\n",
       "    </tr>\n",
       "    <tr>\n",
       "      <th>30</th>\n",
       "      <td>0.014412</td>\n",
       "      <td>0.121212</td>\n",
       "      <td>0.174760</td>\n",
       "    </tr>\n",
       "    <tr>\n",
       "      <th>31</th>\n",
       "      <td>0.138276</td>\n",
       "      <td>0.181818</td>\n",
       "      <td>0.191036</td>\n",
       "    </tr>\n",
       "    <tr>\n",
       "      <th>32</th>\n",
       "      <td>0.145247</td>\n",
       "      <td>0.363636</td>\n",
       "      <td>0.308651</td>\n",
       "    </tr>\n",
       "    <tr>\n",
       "      <th>33</th>\n",
       "      <td>0.304075</td>\n",
       "      <td>0.515152</td>\n",
       "      <td>0.373371</td>\n",
       "    </tr>\n",
       "  </tbody>\n",
       "</table>\n",
       "</div>"
      ],
      "text/plain": [
       "        betw       deg     eig_c\n",
       "0   0.437635  0.484848  0.355483\n",
       "1   0.053937  0.272727  0.265954\n",
       "2   0.143657  0.303030  0.317189\n",
       "3   0.011909  0.181818  0.211174\n",
       "4   0.000631  0.090909  0.075966\n",
       "5   0.029987  0.121212  0.079481\n",
       "6   0.029987  0.121212  0.079481\n",
       "7   0.000000  0.121212  0.170955\n",
       "8   0.055927  0.151515  0.227405\n",
       "9   0.000848  0.060606  0.102675\n",
       "10  0.000631  0.090909  0.075966\n",
       "11  0.000000  0.030303  0.052854\n",
       "12  0.000000  0.060606  0.084252\n",
       "13  0.045863  0.151515  0.226470\n",
       "14  0.000000  0.060606  0.101406\n",
       "15  0.000000  0.060606  0.101406\n",
       "16  0.000000  0.060606  0.023635\n",
       "17  0.000000  0.060606  0.092397\n",
       "18  0.000000  0.060606  0.101406\n",
       "19  0.032475  0.090909  0.147911\n",
       "20  0.000000  0.060606  0.101406\n",
       "21  0.000000  0.060606  0.092397\n",
       "22  0.000000  0.060606  0.101406\n",
       "23  0.017614  0.151515  0.150123\n",
       "24  0.002210  0.090909  0.057054\n",
       "25  0.003840  0.090909  0.059208\n",
       "26  0.000000  0.060606  0.075582\n",
       "27  0.022333  0.121212  0.133479\n",
       "28  0.001795  0.090909  0.131079\n",
       "29  0.002922  0.121212  0.134965\n",
       "30  0.014412  0.121212  0.174760\n",
       "31  0.138276  0.181818  0.191036\n",
       "32  0.145247  0.363636  0.308651\n",
       "33  0.304075  0.515152  0.373371"
      ]
     },
     "execution_count": 88,
     "metadata": {},
     "output_type": "execute_result"
    }
   ],
   "source": [
    "karate_scores = pd.DataFrame({'deg':deg,'eig_c':eigc,'betw':betw})\n",
    "print(karate_scores.corr())\n",
    "karate_scores\n"
   ]
  },
  {
   "cell_type": "markdown",
   "metadata": {
    "slideshow": {
     "slide_type": "slide"
    }
   },
   "source": [
    "# Speaking of triangles: Transitivity\n",
    "* Extent to which friends have friends in common\n",
    "* Probability two nodes are tied given that they have a partner in common\n",
    "* Make a more transitive network: "
   ]
  },
  {
   "cell_type": "code",
   "execution_count": 34,
   "metadata": {},
   "outputs": [
    {
     "data": {
      "image/png": "[encoded data removed]",
      "text/plain": [
       "<Figure size 432x288 with 1 Axes>"
      ]
     },
     "metadata": {},
     "output_type": "display_data"
    }
   ],
   "source": [
    "G_trans = G.copy()\n",
    "G_trans.add_edges_from([('Samir','Maria')])\n",
    "nx.draw_networkx(G_trans)"
   ]
  },
  {
   "cell_type": "markdown",
   "metadata": {
    "slideshow": {
     "slide_type": "slide"
    }
   },
   "source": [
    "# Transitivity\n",
    "* Extent to which friends have friends in common\n",
    "* Probability two nodes are tied given that they have a partner in common\n",
    "### Look at transitivity and triangles in the two networks"
   ]
  },
  {
   "cell_type": "code",
   "execution_count": 35,
   "metadata": {
    "slideshow": {
     "slide_type": "fragment"
    }
   },
   "outputs": [
    {
     "name": "stdout",
     "output_type": "stream",
     "text": [
      "Transitivity:\n",
      "0.21428571428571427\n",
      "0.47368421052631576\n",
      "Triangles:\n",
      "{'Fred': 1, 'Maria': 0, 'Samir': 1, 'Jose': 1, 'Sonya': 0, 'Freya': 0, 'Hasan': 0}\n",
      "{'Fred': 2, 'Maria': 2, 'Samir': 3, 'Jose': 1, 'Sonya': 1, 'Freya': 0, 'Hasan': 0}\n"
     ]
    }
   ],
   "source": [
    "print(\"Transitivity:\")\n",
    "print(nx.transitivity(G))\n",
    "print(nx.transitivity(G_trans))\n",
    "print(\"Triangles:\")\n",
    "print(nx.triangles(G))\n",
    "print(nx.triangles(G_trans))\n",
    "# It serves as a measure of embeddedness - Individual partnerships doesn't mean everyone will come to your aid if you need it "
   ]
  },
  {
   "cell_type": "markdown",
   "metadata": {
    "slideshow": {
     "slide_type": "slide"
    }
   },
   "source": [
    "# Clustering Coefficient\n",
    "* Individual Nodes:\n",
    " * Proportion of possible triangles through a given node\n",
    "* Whole Network\n",
    " * Average clustering across whole network"
   ]
  },
  {
   "cell_type": "code",
   "execution_count": 36,
   "metadata": {
    "slideshow": {
     "slide_type": "fragment"
    }
   },
   "outputs": [
    {
     "name": "stdout",
     "output_type": "stream",
     "text": [
      "Clustering coefficient\n",
      "{'Fred': 0.3333333333333333, 'Maria': 0, 'Samir': 0.3333333333333333, 'Jose': 1.0, 'Sonya': 0, 'Freya': 0, 'Hasan': 0}\n",
      "{'Fred': 0.6666666666666666, 'Maria': 0.6666666666666666, 'Samir': 0.5, 'Jose': 1.0, 'Sonya': 0.16666666666666666, 'Freya': 0, 'Hasan': 0}\n",
      "Average Clustering\n",
      "0.23809523809523808\n",
      "0.4285714285714285\n"
     ]
    }
   ],
   "source": [
    "print(\"Clustering coefficient\")\n",
    "print(nx.clustering(G))\n",
    "print(nx.clustering(G_trans))\n",
    "print(\"Average Clustering\")\n",
    "print(nx.average_clustering(G))\n",
    "print(nx.average_clustering(G_trans))"
   ]
  },
  {
   "cell_type": "markdown",
   "metadata": {},
   "source": [
    "# Which is more clustered? Florentine or Karate?\n",
    "* Calculate their clustering"
   ]
  },
  {
   "cell_type": "code",
   "execution_count": 37,
   "metadata": {},
   "outputs": [
    {
     "ename": "NameError",
     "evalue": "name 'karate' is not defined",
     "output_type": "error",
     "traceback": [
      "\u001b[0;31m---------------------------------------------------------------------------\u001b[0m",
      "\u001b[0;31mNameError\u001b[0m                                 Traceback (most recent call last)",
      "\u001b[0;32m<ipython-input-37-a74f630c1b45>\u001b[0m in \u001b[0;36m<module>\u001b[0;34m\u001b[0m\n\u001b[1;32m      1\u001b[0m \u001b[0mnx\u001b[0m\u001b[0;34m.\u001b[0m\u001b[0maverage_clustering\u001b[0m\u001b[0;34m(\u001b[0m\u001b[0mflorentine\u001b[0m\u001b[0;34m)\u001b[0m\u001b[0;34m\u001b[0m\u001b[0;34m\u001b[0m\u001b[0m\n\u001b[0;32m----> 2\u001b[0;31m \u001b[0mnx\u001b[0m\u001b[0;34m.\u001b[0m\u001b[0maverage_clustering\u001b[0m\u001b[0;34m(\u001b[0m\u001b[0mkarate\u001b[0m\u001b[0;34m)\u001b[0m\u001b[0;34m\u001b[0m\u001b[0;34m\u001b[0m\u001b[0m\n\u001b[0m\u001b[1;32m      3\u001b[0m \u001b[0;34m\u001b[0m\u001b[0m\n\u001b[1;32m      4\u001b[0m \u001b[0;31m# Karate is much more clustered (0.57 vs. .16)\u001b[0m\u001b[0;34m\u001b[0m\u001b[0;34m\u001b[0m\u001b[0;34m\u001b[0m\u001b[0m\n\u001b[1;32m      5\u001b[0m \u001b[0;31m# Different structures are produced by different behaviors and visa versa\u001b[0m\u001b[0;34m\u001b[0m\u001b[0;34m\u001b[0m\u001b[0;34m\u001b[0m\u001b[0m\n",
      "\u001b[0;31mNameError\u001b[0m: name 'karate' is not defined"
     ]
    }
   ],
   "source": [
    "nx.average_clustering(florentine)\n",
    "nx.average_clustering(karate)\n",
    "\n",
    "# Karate is much more clustered (0.57 vs. .16)\n",
    "# Different structures are produced by different behaviors and visa versa "
   ]
  },
  {
   "cell_type": "markdown",
   "metadata": {},
   "source": [
    "# Why are they different?"
   ]
  },
  {
   "cell_type": "markdown",
   "metadata": {
    "slideshow": {
     "slide_type": "slide"
    }
   },
   "source": [
    "# Different Structures Are Produced by and Produce Different Behaviors\n",
    "* Triadic closure -> transitivity on friendship network\n",
    "* Less redundancy in strategic Medicci marriage contracts. Triangles inefficient\n",
    "* Clustering captures tendency toward closure globally. What might it miss? "
   ]
  },
  {
   "cell_type": "markdown",
   "metadata": {
    "slideshow": {
     "slide_type": "slide"
    }
   },
   "source": [
    "# What might we miss?"
   ]
  },
  {
   "cell_type": "code",
   "execution_count": 38,
   "metadata": {
    "slideshow": {
     "slide_type": "fragment"
    }
   },
   "outputs": [
    {
     "data": {
      "text/plain": [
       "0.0"
      ]
     },
     "execution_count": 38,
     "metadata": {},
     "output_type": "execute_result"
    },
    {
     "data": {
      "image/png": "[encoded data removed]",
      "text/plain": [
       "<Figure size 432x288 with 1 Axes>"
      ]
     },
     "metadata": {},
     "output_type": "display_data"
    }
   ],
   "source": [
    "squares = nx.Graph()\n",
    "se = [(0,1),(1,2),(2,3),(3,0),(0,5),(4,5),(3,4),\n",
    "    (5,6),(6,7),(7,0),(2,8),(8,9)]\n",
    "se2 = [(i[0]+9,i[1]+9) for i in se[:-2]]\n",
    "se.extend(se2)\n",
    "squares.add_nodes_from(range(17))\n",
    "squares.add_edges_from(se)\n",
    "nx.draw_networkx(squares)\n",
    "nx.average_clustering(squares)\n",
    "\n",
    "# If you take the average clustering for each node, the clustering would be 0 because there are no triangles.\n",
    "# This is some sort of lattice design"
   ]
  },
  {
   "cell_type": "markdown",
   "metadata": {
    "slideshow": {
     "slide_type": "slide"
    }
   },
   "source": [
    "# What Can We Do? \n",
    "* Count n-cycles. \n",
    "   * Count all cycles, keep those below threshold  "
   ]
  },
  {
   "cell_type": "code",
   "execution_count": 39,
   "metadata": {
    "slideshow": {
     "slide_type": "fragment"
    }
   },
   "outputs": [
    {
     "data": {
      "text/plain": [
       "[[5, 6, 7, 0],\n",
       " [3, 4, 5, 0],\n",
       " [1, 2, 3, 0],\n",
       " [14, 15, 16, 9],\n",
       " [12, 13, 14, 9],\n",
       " [10, 11, 12, 9]]"
      ]
     },
     "execution_count": 39,
     "metadata": {},
     "output_type": "execute_result"
    }
   ],
   "source": [
    "nx.cycle_basis(squares)"
   ]
  },
  {
   "cell_type": "markdown",
   "metadata": {
    "slideshow": {
     "slide_type": "slide"
    }
   },
   "source": [
    "# What Can We Do?\n",
    "* Square clustering\n",
    "### Intuitive names like clustering are nice, but always know what you're measuring and check if it's appropriate for your network"
   ]
  },
  {
   "cell_type": "code",
   "execution_count": 40,
   "metadata": {
    "slideshow": {
     "slide_type": "fragment"
    }
   },
   "outputs": [
    {
     "data": {
      "text/plain": [
       "0.6147058823529411"
      ]
     },
     "execution_count": 40,
     "metadata": {},
     "output_type": "execute_result"
    }
   ],
   "source": [
    "clustering_coefs = nx.square_clustering(squares).values()\n",
    "np.mean(list(clustering_coefs))"
   ]
  },
  {
   "cell_type": "markdown",
   "metadata": {
    "slideshow": {
     "slide_type": "slide"
    }
   },
   "source": [
    "# Community Detection\n",
    "* Divide the network into subgroups using different algorithms\n",
    "* Examples\n",
    " * Percolation: find communities with fully connected cores\n",
    " * Minimum cuts (nodes): Find the minimum number of nodes that, if removed,  break the network into multiple components. Progressively remove them. \n",
    " * <strong>Girvan Newman Algorithm: </strong> Remove ties with highest betweenness, continue until network broken into desired number of communities "
   ]
  },
  {
   "cell_type": "code",
   "execution_count": 41,
   "metadata": {
    "slideshow": {
     "slide_type": "fragment"
    }
   },
   "outputs": [
    {
     "name": "stdout",
     "output_type": "stream",
     "text": [
      "2  communities\n",
      "({'Samir', 'Jose', 'Fred'}, {'Freya', 'Hasan', 'Maria', 'Sonya'})\n",
      "3  communities\n",
      "({'Samir', 'Jose', 'Fred'}, {'Maria'}, {'Freya', 'Hasan', 'Sonya'})\n",
      "4  communities\n",
      "({'Samir', 'Jose', 'Fred'}, {'Maria'}, {'Hasan', 'Sonya'}, {'Freya'})\n",
      "5  communities\n",
      "({'Fred'}, {'Maria'}, {'Samir', 'Jose'}, {'Hasan', 'Sonya'}, {'Freya'})\n"
     ]
    }
   ],
   "source": [
    "import itertools\n",
    "coms = nx.algorithms.community.centrality.girvan_newman(G)\n",
    "i = 2\n",
    "for com in itertools.islice(coms,4):\n",
    "    print(i, ' communities')\n",
    "    i+=1\n",
    "    print(tuple(c for c in com))\n",
    "    \n",
    "    # Girvan Newman breaks into two piece, removes high betweeness until it breaks off a third piece, and then does the same for a fourth break, \n",
    "    #and iteratively continues making these cuts"
   ]
  },
  {
   "cell_type": "markdown",
   "metadata": {
    "slideshow": {
     "slide_type": "slide"
    }
   },
   "source": [
    "# Why Detect Communities\n",
    "* Learn something about how an unknown network is organized\n",
    "* Generate hypotheses. \n",
    " * Why did these communities emerge? \n",
    " * How do these communities affect the behavior of members?\n",
    " * How do they relate to attributes of the members? \n",
    " * How do they evolve over time, how do different networks compare?\n",
    " \n",
    "#### What are some examples? "
   ]
  },
  {
   "cell_type": "markdown",
   "metadata": {
    "slideshow": {
     "slide_type": "slide"
    }
   },
   "source": [
    "# Assessing Community Detection:\n",
    "* Density: Number of ties / maximum number\n",
    "* Maximum number of ties: Every node in network has a tie\n",
    "* Modularity: Fraction of edges within a group / expected edges in random graph\n",
    "    * Is the density within each community greater than a random network generated with the same density of the overall network"
   ]
  },
  {
   "cell_type": "code",
   "execution_count": 42,
   "metadata": {
    "slideshow": {
     "slide_type": "fragment"
    }
   },
   "outputs": [
    {
     "data": {
      "text/plain": [
       "0.38095238095238093"
      ]
     },
     "execution_count": 42,
     "metadata": {},
     "output_type": "execute_result"
    }
   ],
   "source": [
    "nx.density(G)"
   ]
  },
  {
   "cell_type": "markdown",
   "metadata": {
    "slideshow": {
     "slide_type": "slide"
    }
   },
   "source": [
    "# Preview: Random Graphs\n",
    "* Different methods to capture different properties\n",
    "* Compare random graph with desired properties to real graph\n",
    "* Today: Erdos-Renyi Graph\n",
    "    * Takes all possible edges\n",
    "    * Each edge has a probability p of being realized\n",
    "    * Produces graph with desired average density\n",
    "    * Does not capture other properties common in real world graphs\n",
    "#### More next week!"
   ]
  },
  {
   "cell_type": "code",
   "execution_count": 43,
   "metadata": {
    "slideshow": {
     "slide_type": "fragment"
    }
   },
   "outputs": [
    {
     "ename": "NameError",
     "evalue": "name 'karate' is not defined",
     "output_type": "error",
     "traceback": [
      "\u001b[0;31m---------------------------------------------------------------------------\u001b[0m",
      "\u001b[0;31mNameError\u001b[0m                                 Traceback (most recent call last)",
      "\u001b[0;32m<ipython-input-43-a02c54532b69>\u001b[0m in \u001b[0;36m<module>\u001b[0;34m\u001b[0m\n\u001b[0;32m----> 1\u001b[0;31m G_rand = nx.gnp_random_graph(len(karate.nodes),\n\u001b[0m\u001b[1;32m      2\u001b[0m                              nx.density(karate))\n\u001b[1;32m      3\u001b[0m \u001b[0mnx\u001b[0m\u001b[0;34m.\u001b[0m\u001b[0mdraw_networkx\u001b[0m\u001b[0;34m(\u001b[0m\u001b[0mG_rand\u001b[0m\u001b[0;34m)\u001b[0m\u001b[0;34m\u001b[0m\u001b[0;34m\u001b[0m\u001b[0m\n\u001b[1;32m      4\u001b[0m \u001b[0;31m# Each edge has a probability p of exsiting or not.\u001b[0m\u001b[0;34m\u001b[0m\u001b[0;34m\u001b[0m\u001b[0;34m\u001b[0m\u001b[0m\n\u001b[1;32m      5\u001b[0m \u001b[0;31m# If you are tring to do network inference, you'd use a random network\u001b[0m\u001b[0;34m\u001b[0m\u001b[0;34m\u001b[0m\u001b[0;34m\u001b[0m\u001b[0m\n",
      "\u001b[0;31mNameError\u001b[0m: name 'karate' is not defined"
     ]
    }
   ],
   "source": [
    "G_rand = nx.gnp_random_graph(len(karate.nodes),\n",
    "                             nx.density(karate))\n",
    "nx.draw_networkx(G_rand)\n",
    "# Each edge has a probability p of exsiting or not. \n",
    "# If you are tring to do network inference, you'd use a random network \n",
    "# Is the clustering more clustering than we would expect on average? "
   ]
  },
  {
   "cell_type": "markdown",
   "metadata": {
    "slideshow": {
     "slide_type": "slide"
    }
   },
   "source": [
    "# Modularity and Random Graphs\n",
    "* Compare number of ties within community to expected number if the graph were an Erdos Renyi Graph"
   ]
  },
  {
   "cell_type": "code",
   "execution_count": 112,
   "metadata": {
    "slideshow": {
     "slide_type": "fragment"
    }
   },
   "outputs": [
    {
     "data": {
      "text/plain": [
       "0.5706384782076823"
      ]
     },
     "execution_count": 112,
     "metadata": {},
     "output_type": "execute_result"
    }
   ],
   "source": [
    "nx.average_clustering(karate)"
   ]
  },
  {
   "cell_type": "code",
   "execution_count": 44,
   "metadata": {
    "slideshow": {
     "slide_type": "fragment"
    }
   },
   "outputs": [
    {
     "ename": "NameError",
     "evalue": "name 'G_rand' is not defined",
     "output_type": "error",
     "traceback": [
      "\u001b[0;31m---------------------------------------------------------------------------\u001b[0m",
      "\u001b[0;31mNameError\u001b[0m                                 Traceback (most recent call last)",
      "\u001b[0;32m<ipython-input-44-49f503725386>\u001b[0m in \u001b[0;36m<module>\u001b[0;34m\u001b[0m\n\u001b[0;32m----> 1\u001b[0;31m \u001b[0mnx\u001b[0m\u001b[0;34m.\u001b[0m\u001b[0maverage_clustering\u001b[0m\u001b[0;34m(\u001b[0m\u001b[0mG_rand\u001b[0m\u001b[0;34m)\u001b[0m\u001b[0;34m\u001b[0m\u001b[0;34m\u001b[0m\u001b[0m\n\u001b[0m",
      "\u001b[0;31mNameError\u001b[0m: name 'G_rand' is not defined"
     ]
    }
   ],
   "source": [
    "nx.average_clustering(G_rand)"
   ]
  },
  {
   "cell_type": "markdown",
   "metadata": {
    "slideshow": {
     "slide_type": "slide"
    }
   },
   "source": [
    "# Compare the clustering visually:"
   ]
  },
  {
   "cell_type": "code",
   "execution_count": 115,
   "metadata": {
    "slideshow": {
     "slide_type": "fragment"
    }
   },
   "outputs": [
    {
     "data": {
      "text/plain": [
       "(array([18.,  3.,  4.,  5.,  1.,  1.,  1.,  0.,  0.,  1.]),\n",
       " array([0.  , 0.05, 0.1 , 0.15, 0.2 , 0.25, 0.3 , 0.35, 0.4 , 0.45, 0.5 ]),\n",
       " <a list of 10 Patch objects>)"
      ]
     },
     "execution_count": 115,
     "metadata": {},
     "output_type": "execute_result"
    },
    {
     "data": {
      "image/png": "[encoded data removed]",
      "text/plain": [
       "<Figure size 432x288 with 1 Axes>"
      ]
     },
     "metadata": {
      "needs_background": "light"
     },
     "output_type": "display_data"
    }
   ],
   "source": [
    "#View clusters\n",
    "plt.hist(list(nx.clustering(karate).values()), alpha = .5)\n",
    "plt.hist(list(nx.clustering(G_rand).values()), alpha = .5)"
   ]
  },
  {
   "cell_type": "markdown",
   "metadata": {
    "slideshow": {
     "slide_type": "slide"
    }
   },
   "source": [
    "# Compare the clustering in florentine to a random network\n",
    "* How do they differ?"
   ]
  },
  {
   "cell_type": "code",
   "execution_count": 118,
   "metadata": {
    "slideshow": {
     "slide_type": "fragment"
    }
   },
   "outputs": [
    {
     "data": {
      "text/plain": [
       "(array([9., 2., 0., 1., 0., 0., 1., 0., 0., 2.]),\n",
       " array([0. , 0.1, 0.2, 0.3, 0.4, 0.5, 0.6, 0.7, 0.8, 0.9, 1. ]),\n",
       " <a list of 10 Patch objects>)"
      ]
     },
     "execution_count": 118,
     "metadata": {},
     "output_type": "execute_result"
    },
    {
     "data": {
      "image/png": "[encoded data removed]",
      "text/plain": [
       "<Figure size 432x288 with 1 Axes>"
      ]
     },
     "metadata": {
      "needs_background": "light"
     },
     "output_type": "display_data"
    }
   ],
   "source": [
    "G_rand = nx.gnp_random_graph(len(florentine.nodes),\n",
    "                             nx.density(florentine))\n",
    "# nx.draw_networkx(G_rand)\n",
    "plt.hist(list(nx.clustering(florentine).values()), alpha = .5)\n",
    "plt.hist(list(nx.clustering(G_rand).values()), alpha = .5)"
   ]
  },
  {
   "cell_type": "markdown",
   "metadata": {
    "slideshow": {
     "slide_type": "slide"
    }
   },
   "source": [
    "# Modularity Based Performance Measurement\n",
    "* Modularity: Fraction of edges within group - expected number of edges\n",
    "* Networkx performance metric: \n",
    "    * (Number of edges within groups - Number of edges between groups)/(Total Edges)\n"
   ]
  },
  {
   "cell_type": "code",
   "execution_count": 119,
   "metadata": {
    "slideshow": {
     "slide_type": "fragment"
    }
   },
   "outputs": [
    {
     "data": {
      "text/plain": [
       "0.6764705882352942"
      ]
     },
     "execution_count": 119,
     "metadata": {},
     "output_type": "execute_result"
    }
   ],
   "source": [
    "coms = nx.algorithms.community.centrality.girvan_newman(squares)\n",
    "for com in itertools.islice(coms,1):\n",
    "    partition = tuple(list(c) for c in com)\n",
    "nx.algorithms.community.quality.performance(squares,partition)"
   ]
  },
  {
   "cell_type": "markdown",
   "metadata": {
    "slideshow": {
     "slide_type": "slide"
    }
   },
   "source": [
    "# Compare the insularity of the communities in the florentine and karate networks\n",
    "* Why is it that so?"
   ]
  },
  {
   "cell_type": "code",
   "execution_count": null,
   "metadata": {
    "slideshow": {
     "slide_type": "fragment"
    }
   },
   "outputs": [],
   "source": [
    "# Your Code Here"
   ]
  },
  {
   "cell_type": "markdown",
   "metadata": {
    "slideshow": {
     "slide_type": "slide"
    }
   },
   "source": [
    "# Visualizing the networks\n",
    "* Matplotlib package, imported as plt\n",
    "  * %matplotlib inline magic to make it plot in the notebook"
   ]
  },
  {
   "cell_type": "code",
   "execution_count": 120,
   "metadata": {
    "slideshow": {
     "slide_type": "fragment"
    }
   },
   "outputs": [
    {
     "data": {
      "image/png": "[encoded data removed]",
      "text/plain": [
       "<Figure size 576x432 with 2 Axes>"
      ]
     },
     "metadata": {
      "needs_background": "light"
     },
     "output_type": "display_data"
    }
   ],
   "source": [
    "order = adj_labeled.sum().sort_values().index\n",
    "adj_labeled = adj_labeled.loc[order,order]\n",
    "plt.figure(figsize = (8,6))\n",
    "plt.pcolor(adj_labeled,cmap=plt.cm.RdBu)\n",
    "plt.yticks(np.arange(0.5, 5, 1), adj_labeled.index, fontsize = 20)\n",
    "plt.xticks(np.arange(0.5, 5, 1), adj_labeled.columns, rotation =45, ha='right', fontsize=20 )\n",
    "plt.title('Adjacency\\n',fontsize=20)\n",
    "cbar =plt.colorbar()\n",
    "\n",
    "# This is vizualizing the adjacency matrix, which can help you start to identify clusters. This is harder to view in network because it\n",
    "# just gets all cluttered"
   ]
  },
  {
   "cell_type": "markdown",
   "metadata": {
    "slideshow": {
     "slide_type": "slide"
    }
   },
   "source": [
    "# Graph Plotting Algorithms\n",
    "* Can learn something by placing the nodes in an intelligent way\n",
    "* Force Algorithm: Put nodes that are connected closer together"
   ]
  },
  {
   "cell_type": "code",
   "execution_count": 121,
   "metadata": {
    "slideshow": {
     "slide_type": "slide"
    }
   },
   "outputs": [
    {
     "data": {
      "image/png": "[encoded data removed]",
      "text/plain": [
       "<Figure size 1080x1080 with 1 Axes>"
      ]
     },
     "metadata": {
      "needs_background": "light"
     },
     "output_type": "display_data"
    }
   ],
   "source": [
    "plt.figure(figsize=(15,15))\n",
    "pos = nx.spring_layout(florentine)\n",
    "deg = nx.degree(florentine)\n",
    "deg = [deg[k]*400 for k in florentine.nodes]\n",
    "nx.draw_networkx(florentine,pos=pos, with_labels=True,\n",
    "                node_size=deg,font_size=30)\n",
    "\n",
    "# There are different algorithms used for positioning things in different places \n",
    "# Set figure size, and then positions using the spring layout\n",
    "# We also order the size by degree"
   ]
  },
  {
   "cell_type": "markdown",
   "metadata": {
    "slideshow": {
     "slide_type": "slide"
    }
   },
   "source": [
    "# Add Color"
   ]
  },
  {
   "cell_type": "code",
   "execution_count": 122,
   "metadata": {
    "slideshow": {
     "slide_type": "fragment"
    }
   },
   "outputs": [
    {
     "ename": "NameError",
     "evalue": "name 'fl_partition' is not defined",
     "output_type": "error",
     "traceback": [
      "\u001b[0;31m---------------------------------------------------------------------------\u001b[0m",
      "\u001b[0;31mNameError\u001b[0m                                 Traceback (most recent call last)",
      "\u001b[0;32m<ipython-input-122-629319ec66b2>\u001b[0m in \u001b[0;36m<module>\u001b[0;34m\u001b[0m\n\u001b[1;32m      2\u001b[0m \u001b[0mcolors\u001b[0m \u001b[0;34m=\u001b[0m \u001b[0;34m[\u001b[0m\u001b[0;34m]\u001b[0m\u001b[0;34m\u001b[0m\u001b[0m\n\u001b[1;32m      3\u001b[0m \u001b[0;32mfor\u001b[0m \u001b[0mn\u001b[0m \u001b[0;32min\u001b[0m \u001b[0mflorentine\u001b[0m\u001b[0;34m.\u001b[0m\u001b[0mnodes\u001b[0m\u001b[0;34m:\u001b[0m\u001b[0;34m\u001b[0m\u001b[0m\n\u001b[0;32m----> 4\u001b[0;31m     \u001b[0;32mif\u001b[0m \u001b[0mn\u001b[0m \u001b[0;32min\u001b[0m \u001b[0mfl_partition\u001b[0m\u001b[0;34m[\u001b[0m\u001b[0;36m0\u001b[0m\u001b[0;34m]\u001b[0m\u001b[0;34m:\u001b[0m\u001b[0;34m\u001b[0m\u001b[0m\n\u001b[0m\u001b[1;32m      5\u001b[0m         \u001b[0mcolors\u001b[0m\u001b[0;34m.\u001b[0m\u001b[0mappend\u001b[0m\u001b[0;34m(\u001b[0m\u001b[0;34m'blue'\u001b[0m\u001b[0;34m)\u001b[0m\u001b[0;34m\u001b[0m\u001b[0m\n\u001b[1;32m      6\u001b[0m     \u001b[0;32melse\u001b[0m\u001b[0;34m:\u001b[0m\u001b[0;34m\u001b[0m\u001b[0m\n",
      "\u001b[0;31mNameError\u001b[0m: name 'fl_partition' is not defined"
     ]
    },
    {
     "data": {
      "text/plain": [
       "<Figure size 1080x1080 with 0 Axes>"
      ]
     },
     "metadata": {},
     "output_type": "display_data"
    }
   ],
   "source": [
    "plt.figure(figsize=(15,15))\n",
    "colors = []\n",
    "for n in florentine.nodes:\n",
    "    if n in fl_partition[0]:\n",
    "        colors.append('blue')\n",
    "    else:\n",
    "        colors.append('red')\n",
    "nx.draw_networkx(florentine,pos=pos, with_labels=True,\n",
    "                node_size=deg,font_size=30, node_color = colors)"
   ]
  },
  {
   "cell_type": "markdown",
   "metadata": {
    "slideshow": {
     "slide_type": "slide"
    }
   },
   "source": [
    "# Draw the Florentine Network with Three Partitions"
   ]
  },
  {
   "cell_type": "code",
   "execution_count": 3,
   "metadata": {},
   "outputs": [],
   "source": [
    "# Your Code Here"
   ]
  },
  {
   "cell_type": "markdown",
   "metadata": {
    "slideshow": {
     "slide_type": "slide"
    }
   },
   "source": [
    "# Next Time: Making Inferences\n",
    "* Network Questions\n",
    "* Network Properties\n",
    " * Degree distributions\n",
    " * Centralization\n",
    "* Random Networks\n",
    "* Regressions with Network Variables"
   ]
  },
  {
   "cell_type": "code",
   "execution_count": null,
   "metadata": {},
   "outputs": [],
   "source": []
  }
 ],
 "metadata": {
  "kernelspec": {
   "display_name": "Python 3",
   "language": "python",
   "name": "python3"
  },
  "language_info": {
   "codemirror_mode": {
    "name": "ipython",
    "version": 3
   },
   "file_extension": ".py",
   "mimetype": "text/x-python",
   "name": "python",
   "nbconvert_exporter": "python",
   "pygments_lexer": "ipython3",
   "version": "3.7.4"
  }
 },
 "nbformat": 4,
 "nbformat_minor": 4
}
