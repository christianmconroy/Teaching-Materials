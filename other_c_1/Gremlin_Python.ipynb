{
 "cells": [
  {
   "cell_type": "markdown",
   "id": "17b4877a-f673-41f2-b8f9-c260caa282c9",
   "metadata": {},
   "source": [
    "# Neptune to NetworkX to JSON for D3 Vizualization via Gremlin"
   ]
  },
  {
   "cell_type": "code",
   "execution_count": 218,
   "id": "2fd85c46-089d-4320-a00b-090709dd1b09",
   "metadata": {},
   "outputs": [],
   "source": [
    "#!pip install nest-asynacio"
   ]
  },
  {
   "cell_type": "code",
   "execution_count": 219,
   "id": "6cf331e5-49c6-450e-a304-270813fd6f54",
   "metadata": {},
   "outputs": [],
   "source": [
    "#!pip install igraph"
   ]
  },
  {
   "cell_type": "code",
   "execution_count": 221,
   "id": "b15e2bba-d469-4821-b785-64eaadc17404",
   "metadata": {},
   "outputs": [],
   "source": [
    "import networkx as nx\n",
    "import pandas as pd\n",
    "import igraph as ig\n",
    "import json\n",
    "from networkx.readwrite import json_graph\n",
    "\n",
    "from __future__  import print_function  # Python 2/3 compatibility\n",
    "\n",
    "from gremlin_python import statics\n",
    "from gremlin_python.structure.graph import Graph\n",
    "from gremlin_python.process.graph_traversal import __\n",
    "from gremlin_python.process.strategies import *\n",
    "from gremlin_python.driver.driver_remote_connection import DriverRemoteConnection"
   ]
  },
  {
   "cell_type": "code",
   "execution_count": 82,
   "id": "6fd9f13b-6a4a-4a92-82fb-3472b24e2f07",
   "metadata": {},
   "outputs": [],
   "source": [
    "# Necessary to avoid Cannot run the event loop while another loop is running error\n",
    "import nest_asyncio\n",
    "nest_asyncio.apply()"
   ]
  },
  {
   "cell_type": "markdown",
   "id": "3f6f55e3-8bdd-45a9-96df-2dd3f1f8035f",
   "metadata": {},
   "source": [
    "### Create connection to DB. \n",
    "\n",
    "A graph query is often referred to as a traversal as that is what we are in fact doing. We are traversing the graph from a starting point to an ending point. Traversals consist of one or more steps (essentially methods) that are chained together."
   ]
  },
  {
   "cell_type": "code",
   "execution_count": 223,
   "id": "b6de1711-22cf-4b23-b65d-653345226145",
   "metadata": {},
   "outputs": [],
   "source": [
    "graph = Graph()\n",
    "\n",
    "remoteConn = DriverRemoteConnection('ws://mgt-prd-infr-neptune-alb-122161610.us-east-1.elb.amazonaws.com:8182/gremlin','g')\n",
    "g = graph.traversal().withRemote(remoteConn)"
   ]
  },
  {
   "cell_type": "markdown",
   "id": "4776a473-1b00-4104-b218-41a4dd933605",
   "metadata": {},
   "source": [
    "Sample to show connection worked: Return 10 vertices. "
   ]
  },
  {
   "cell_type": "code",
   "execution_count": 224,
   "id": "415ecdb7-f580-438b-8031-8a362429d41b",
   "metadata": {},
   "outputs": [
    {
     "name": "stdout",
     "output_type": "stream",
     "text": [
      "[v[1], v[2], v[3], v[4], v[5], v[6], v[7], v[8], v[9], v[10]]\n"
     ]
    }
   ],
   "source": [
    "print(g.V().limit(10).toList())"
   ]
  },
  {
   "cell_type": "markdown",
   "id": "04f93d99-229b-4441-a354-63b02a284e37",
   "metadata": {},
   "source": [
    "### Sample Gremlin Queries"
   ]
  },
  {
   "cell_type": "markdown",
   "id": "8246a9a2-5c5e-41ce-bc8a-d8a4183e769e",
   "metadata": {},
   "source": [
    "Count Nodes"
   ]
  },
  {
   "cell_type": "code",
   "execution_count": 225,
   "id": "5cf1bb29-fe1b-49a7-8570-f4dd31ecfa0e",
   "metadata": {},
   "outputs": [
    {
     "data": {
      "text/plain": [
       "8393"
      ]
     },
     "execution_count": 225,
     "metadata": {},
     "output_type": "execute_result"
    }
   ],
   "source": [
    "g.V().count().next()"
   ]
  },
  {
   "cell_type": "code",
   "execution_count": 226,
   "id": "69d022d2-1367-4680-8402-57bc70bc9572",
   "metadata": {},
   "outputs": [
    {
     "name": "stdout",
     "output_type": "stream",
     "text": [
      "[v[1]]\n"
     ]
    }
   ],
   "source": [
    "print(g.V().hasLabel(\"@minboxradio\").toList())"
   ]
  },
  {
   "cell_type": "code",
   "execution_count": 227,
   "id": "5b138fa5-a7f1-4be9-be95-35b7fd093357",
   "metadata": {},
   "outputs": [
    {
     "data": {
      "text/plain": [
       "v[1]"
      ]
     },
     "execution_count": 227,
     "metadata": {},
     "output_type": "execute_result"
    }
   ],
   "source": [
    "g.V().hasLabel(\"@minboxradio\").next()"
   ]
  },
  {
   "cell_type": "markdown",
   "id": "95991066-2d6c-4bfe-9459-01b8e921332b",
   "metadata": {},
   "source": [
    "Count Edges"
   ]
  },
  {
   "cell_type": "code",
   "execution_count": 228,
   "id": "70bbd443-4f48-4cbd-a96e-e815a820c917",
   "metadata": {},
   "outputs": [
    {
     "data": {
      "text/plain": [
       "28390"
      ]
     },
     "execution_count": 228,
     "metadata": {},
     "output_type": "execute_result"
    }
   ],
   "source": [
    "g.E().count().next()"
   ]
  },
  {
   "cell_type": "markdown",
   "id": "8c008706-9bbc-4a15-b8d9-93a8872de0fe",
   "metadata": {},
   "source": [
    "What to Pull out for NetworkX conversion"
   ]
  },
  {
   "cell_type": "code",
   "execution_count": 183,
   "id": "e1e63d9c-04db-4a44-8780-f58c2272ef0a",
   "metadata": {},
   "outputs": [],
   "source": [
    "sg = g.V().bothE().otherV().path().by(__.valueMap(True)).toList()"
   ]
  },
  {
   "cell_type": "code",
   "execution_count": 184,
   "id": "4097fab1-30e1-4d13-b6cd-472e04d502be",
   "metadata": {},
   "outputs": [
    {
     "data": {
      "text/plain": [
       "['@albertiv925', '6875']"
      ]
     },
     "execution_count": 184,
     "metadata": {},
     "output_type": "execute_result"
    }
   ],
   "source": [
    "list(sg[0][0].values())"
   ]
  },
  {
   "cell_type": "code",
   "execution_count": 185,
   "id": "fe4ae1c4-ac33-432b-8145-be261b2dd6fa",
   "metadata": {},
   "outputs": [
    {
     "data": {
      "text/plain": [
       "['1', '76']"
      ]
     },
     "execution_count": 185,
     "metadata": {},
     "output_type": "execute_result"
    }
   ],
   "source": [
    "list(sg[0][1].values())"
   ]
  },
  {
   "cell_type": "code",
   "execution_count": 186,
   "id": "d242615b-f922-4b44-86f1-89ede9eae800",
   "metadata": {},
   "outputs": [
    {
     "data": {
      "text/plain": [
       "['@00ye4afhilznwjwljmjk2jjn8zmfug65t2sdmuswkye=', '153']"
      ]
     },
     "execution_count": 186,
     "metadata": {},
     "output_type": "execute_result"
    }
   ],
   "source": [
    "list(sg[0][2].values())"
   ]
  },
  {
   "cell_type": "markdown",
   "id": "e58a6e43-47a4-4db6-a304-d56f27388481",
   "metadata": {},
   "source": [
    "### Convert into networkx graph"
   ]
  },
  {
   "cell_type": "code",
   "execution_count": 229,
   "id": "c4823b72-061b-4309-b8a1-e8722ad0b838",
   "metadata": {},
   "outputs": [],
   "source": [
    "G = nx.DiGraph()\n",
    "sg = g.V().bothE().otherV().path().by(__.valueMap(True)).toList()\n",
    "for i in range(0,len(sg)):\n",
    "    # Add Nodes\n",
    "    G.add_node(list(sg[i][0].values())[1],label=list(sg[i][0].values())[0])\n",
    "    G.add_node(list(sg[i][2].values())[1],label=list(sg[i][2].values())[0])\n",
    "    # Add Edges\n",
    "    G.add_edge(list(sg[i][0].values())[1],list(sg[i][2].values())[1],elabel=list(sg[i][1].values())[1],weight=list(sg[i][1].values())[0])"
   ]
  },
  {
   "cell_type": "markdown",
   "id": "abcd13a0-c73e-43d6-983f-0ecb452c0c95",
   "metadata": {},
   "source": [
    "Extract to show edge and node lists"
   ]
  },
  {
   "cell_type": "code",
   "execution_count": 230,
   "id": "70798dcc-4873-433d-9e54-9c9c5c98fbb2",
   "metadata": {},
   "outputs": [
    {
     "data": {
      "text/html": [
       "<div>\n",
       "<style scoped>\n",
       "    .dataframe tbody tr th:only-of-type {\n",
       "        vertical-align: middle;\n",
       "    }\n",
       "\n",
       "    .dataframe tbody tr th {\n",
       "        vertical-align: top;\n",
       "    }\n",
       "\n",
       "    .dataframe thead th {\n",
       "        text-align: right;\n",
       "    }\n",
       "</style>\n",
       "<table border=\"1\" class=\"dataframe\">\n",
       "  <thead>\n",
       "    <tr style=\"text-align: right;\">\n",
       "      <th></th>\n",
       "      <th>source</th>\n",
       "      <th>target</th>\n",
       "      <th>elabel</th>\n",
       "      <th>weight</th>\n",
       "    </tr>\n",
       "  </thead>\n",
       "  <tbody>\n",
       "    <tr>\n",
       "      <th>1</th>\n",
       "      <td>153</td>\n",
       "      <td>6816</td>\n",
       "      <td>78</td>\n",
       "      <td>1</td>\n",
       "    </tr>\n",
       "    <tr>\n",
       "      <th>2</th>\n",
       "      <td>153</td>\n",
       "      <td>7687</td>\n",
       "      <td>79</td>\n",
       "      <td>1</td>\n",
       "    </tr>\n",
       "    <tr>\n",
       "      <th>3</th>\n",
       "      <td>153</td>\n",
       "      <td>5978</td>\n",
       "      <td>80</td>\n",
       "      <td>1</td>\n",
       "    </tr>\n",
       "    <tr>\n",
       "      <th>4</th>\n",
       "      <td>153</td>\n",
       "      <td>7951</td>\n",
       "      <td>81</td>\n",
       "      <td>1</td>\n",
       "    </tr>\n",
       "    <tr>\n",
       "      <th>5</th>\n",
       "      <td>153</td>\n",
       "      <td>5651</td>\n",
       "      <td>82</td>\n",
       "      <td>2</td>\n",
       "    </tr>\n",
       "  </tbody>\n",
       "</table>\n",
       "</div>"
      ],
      "text/plain": [
       "  source target elabel weight\n",
       "1    153   6816     78      1\n",
       "2    153   7687     79      1\n",
       "3    153   5978     80      1\n",
       "4    153   7951     81      1\n",
       "5    153   5651     82      2"
      ]
     },
     "execution_count": 230,
     "metadata": {},
     "output_type": "execute_result"
    }
   ],
   "source": [
    "G_edgelist = nx.to_pandas_edgelist(G)\n",
    "G_edgelist = G_edgelist[G_edgelist['elabel'] != \"retweeted\"]\n",
    "G_edgelist.head()"
   ]
  },
  {
   "cell_type": "code",
   "execution_count": 231,
   "id": "477bed6c-9b2f-40e1-aa54-d0d679e1304f",
   "metadata": {},
   "outputs": [
    {
     "data": {
      "text/html": [
       "<div>\n",
       "<style scoped>\n",
       "    .dataframe tbody tr th:only-of-type {\n",
       "        vertical-align: middle;\n",
       "    }\n",
       "\n",
       "    .dataframe tbody tr th {\n",
       "        vertical-align: top;\n",
       "    }\n",
       "\n",
       "    .dataframe thead th {\n",
       "        text-align: right;\n",
       "    }\n",
       "</style>\n",
       "<table border=\"1\" class=\"dataframe\">\n",
       "  <thead>\n",
       "    <tr style=\"text-align: right;\">\n",
       "      <th></th>\n",
       "      <th>node</th>\n",
       "      <th>label</th>\n",
       "    </tr>\n",
       "  </thead>\n",
       "  <tbody>\n",
       "    <tr>\n",
       "      <th>0</th>\n",
       "      <td>6875</td>\n",
       "      <td>@albertiv925</td>\n",
       "    </tr>\n",
       "    <tr>\n",
       "      <th>1</th>\n",
       "      <td>153</td>\n",
       "      <td>@00ye4afhilznwjwljmjk2jjn8zmfug65t2sdmuswkye=</td>\n",
       "    </tr>\n",
       "    <tr>\n",
       "      <th>2</th>\n",
       "      <td>6368</td>\n",
       "      <td>@hkokbore</td>\n",
       "    </tr>\n",
       "    <tr>\n",
       "      <th>3</th>\n",
       "      <td>351</td>\n",
       "      <td>@0vve2dxahxv24dpvjujm1aiofuinnwrnmdcugj6c=</td>\n",
       "    </tr>\n",
       "    <tr>\n",
       "      <th>4</th>\n",
       "      <td>6775</td>\n",
       "      <td>@petertatchell</td>\n",
       "    </tr>\n",
       "    <tr>\n",
       "      <th>...</th>\n",
       "      <td>...</td>\n",
       "      <td>...</td>\n",
       "    </tr>\n",
       "    <tr>\n",
       "      <th>8388</th>\n",
       "      <td>8268</td>\n",
       "      <td>@hk_watch</td>\n",
       "    </tr>\n",
       "    <tr>\n",
       "      <th>8389</th>\n",
       "      <td>5030</td>\n",
       "      <td>@diarymsg:</td>\n",
       "    </tr>\n",
       "    <tr>\n",
       "      <th>8390</th>\n",
       "      <td>6817</td>\n",
       "      <td>@caoyi170610</td>\n",
       "    </tr>\n",
       "    <tr>\n",
       "      <th>8391</th>\n",
       "      <td>5804</td>\n",
       "      <td>@huangzhiking:</td>\n",
       "    </tr>\n",
       "    <tr>\n",
       "      <th>8392</th>\n",
       "      <td>7919</td>\n",
       "      <td>@g_zyuganov</td>\n",
       "    </tr>\n",
       "  </tbody>\n",
       "</table>\n",
       "<p>8393 rows × 2 columns</p>\n",
       "</div>"
      ],
      "text/plain": [
       "      node                                          label\n",
       "0     6875                                   @albertiv925\n",
       "1      153  @00ye4afhilznwjwljmjk2jjn8zmfug65t2sdmuswkye=\n",
       "2     6368                                      @hkokbore\n",
       "3      351     @0vve2dxahxv24dpvjujm1aiofuinnwrnmdcugj6c=\n",
       "4     6775                                 @petertatchell\n",
       "...    ...                                            ...\n",
       "8388  8268                                      @hk_watch\n",
       "8389  5030                                     @diarymsg:\n",
       "8390  6817                                   @caoyi170610\n",
       "8391  5804                                 @huangzhiking:\n",
       "8392  7919                                    @g_zyuganov\n",
       "\n",
       "[8393 rows x 2 columns]"
      ]
     },
     "execution_count": 231,
     "metadata": {},
     "output_type": "execute_result"
    }
   ],
   "source": [
    "G_nodelist = pd.DataFrame([i[1] for i in G.nodes(data=True)], index=[i[0] for i in G.nodes(data=True)]).rename_axis('node').reset_index()\n",
    "G_nodelist"
   ]
  },
  {
   "cell_type": "markdown",
   "id": "89bf0276-adc2-4380-aab8-33856894255b",
   "metadata": {},
   "source": [
    "### Export to JSON for data viz"
   ]
  },
  {
   "cell_type": "code",
   "execution_count": 232,
   "id": "ccc05304-d27d-455d-8105-98e0f1eb5567",
   "metadata": {},
   "outputs": [],
   "source": [
    "with open('networkdata1.json', 'w') as outfile1:\n",
    "    outfile1.write(json.dumps(json_graph.node_link_data(G)))"
   ]
  },
  {
   "cell_type": "markdown",
   "id": "faf7db81-2f2b-414c-96fd-16b74ac0e7bd",
   "metadata": {},
   "source": [
    "### Close DB Connection"
   ]
  },
  {
   "cell_type": "code",
   "execution_count": 233,
   "id": "2387334f-e904-4d93-b1b4-a4c5f0fdfe65",
   "metadata": {},
   "outputs": [],
   "source": [
    "remoteConn.close()"
   ]
  }
 ],
 "metadata": {
  "kernelspec": {
   "display_name": "Python 3",
   "language": "python",
   "name": "python3"
  },
  "language_info": {
   "codemirror_mode": {
    "name": "ipython",
    "version": 3
   },
   "file_extension": ".py",
   "mimetype": "text/x-python",
   "name": "python",
   "nbconvert_exporter": "python",
   "pygments_lexer": "ipython3",
   "version": "3.8.11"
  }
 },
 "nbformat": 4,
 "nbformat_minor": 5
}
