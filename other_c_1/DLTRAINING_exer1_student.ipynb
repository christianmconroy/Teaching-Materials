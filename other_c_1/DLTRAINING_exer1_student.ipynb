{
 "cells": [
  {
   "cell_type": "markdown",
   "metadata": {
    "id": "54AmdvIcn3B0"
   },
   "source": [
    "# AFS Analytics Deep Learning and Python Training\n",
    "\n",
    "## Exercise 1. My First Network\n",
    "In this exercises we will work through neural networks using Keras\n",
    "\n"
   ]
  },
  {
   "cell_type": "code",
   "execution_count": null,
   "metadata": {
    "colab": {
     "base_uri": "https://localhost:8080/"
    },
    "executionInfo": {
     "elapsed": 3326,
     "status": "ok",
     "timestamp": 1615814421311,
     "user": {
      "displayName": "Marc Bosch Ruiz",
      "photoUrl": "https://lh3.googleusercontent.com/a-/AOh14GjKsqjeDCFFAOx1guLPCWKw3osZBOw3STwq8C32Dg=s64",
      "userId": "16142192614257531637"
     },
     "user_tz": 240
    },
    "id": "1VCH3ueLDJEP",
    "outputId": "96925214-b0a9-419e-bc8d-b867e81a8bff"
   },
   "outputs": [
    {
     "name": "stdout",
     "output_type": "stream",
     "text": [
      "Requirement already satisfied: tensorflow in /usr/local/lib/python3.7/dist-packages (2.4.1)\n",
      "Requirement already satisfied: numpy in /usr/local/lib/python3.7/dist-packages (1.19.5)\n",
      "Collecting mnist\n",
      "  Downloading https://files.pythonhosted.org/packages/c6/c4/5db3bfe009f8d71f1d532bbadbd0ec203764bba3a469e4703a889db8e5e0/mnist-0.2.2-py2.py3-none-any.whl\n",
      "Requirement already satisfied: google-pasta~=0.2 in /usr/local/lib/python3.7/dist-packages (from tensorflow) (0.2.0)\n",
      "Requirement already satisfied: astunparse~=1.6.3 in /usr/local/lib/python3.7/dist-packages (from tensorflow) (1.6.3)\n",
      "Requirement already satisfied: h5py~=2.10.0 in /usr/local/lib/python3.7/dist-packages (from tensorflow) (2.10.0)\n",
      "Requirement already satisfied: gast==0.3.3 in /usr/local/lib/python3.7/dist-packages (from tensorflow) (0.3.3)\n",
      "Requirement already satisfied: termcolor~=1.1.0 in /usr/local/lib/python3.7/dist-packages (from tensorflow) (1.1.0)\n",
      "Requirement already satisfied: tensorflow-estimator<2.5.0,>=2.4.0 in /usr/local/lib/python3.7/dist-packages (from tensorflow) (2.4.0)\n",
      "Requirement already satisfied: flatbuffers~=1.12.0 in /usr/local/lib/python3.7/dist-packages (from tensorflow) (1.12)\n",
      "Requirement already satisfied: keras-preprocessing~=1.1.2 in /usr/local/lib/python3.7/dist-packages (from tensorflow) (1.1.2)\n",
      "Requirement already satisfied: protobuf>=3.9.2 in /usr/local/lib/python3.7/dist-packages (from tensorflow) (3.12.4)\n",
      "Requirement already satisfied: typing-extensions~=3.7.4 in /usr/local/lib/python3.7/dist-packages (from tensorflow) (3.7.4.3)\n",
      "Requirement already satisfied: opt-einsum~=3.3.0 in /usr/local/lib/python3.7/dist-packages (from tensorflow) (3.3.0)\n",
      "Requirement already satisfied: tensorboard~=2.4 in /usr/local/lib/python3.7/dist-packages (from tensorflow) (2.4.1)\n",
      "Requirement already satisfied: six~=1.15.0 in /usr/local/lib/python3.7/dist-packages (from tensorflow) (1.15.0)\n",
      "Requirement already satisfied: wrapt~=1.12.1 in /usr/local/lib/python3.7/dist-packages (from tensorflow) (1.12.1)\n",
      "Requirement already satisfied: wheel~=0.35 in /usr/local/lib/python3.7/dist-packages (from tensorflow) (0.36.2)\n",
      "Requirement already satisfied: grpcio~=1.32.0 in /usr/local/lib/python3.7/dist-packages (from tensorflow) (1.32.0)\n",
      "Requirement already satisfied: absl-py~=0.10 in /usr/local/lib/python3.7/dist-packages (from tensorflow) (0.10.0)\n",
      "Requirement already satisfied: setuptools in /usr/local/lib/python3.7/dist-packages (from protobuf>=3.9.2->tensorflow) (54.0.0)\n",
      "Requirement already satisfied: markdown>=2.6.8 in /usr/local/lib/python3.7/dist-packages (from tensorboard~=2.4->tensorflow) (3.3.4)\n",
      "Requirement already satisfied: requests<3,>=2.21.0 in /usr/local/lib/python3.7/dist-packages (from tensorboard~=2.4->tensorflow) (2.23.0)\n",
      "Requirement already satisfied: google-auth<2,>=1.6.3 in /usr/local/lib/python3.7/dist-packages (from tensorboard~=2.4->tensorflow) (1.27.1)\n",
      "Requirement already satisfied: google-auth-oauthlib<0.5,>=0.4.1 in /usr/local/lib/python3.7/dist-packages (from tensorboard~=2.4->tensorflow) (0.4.3)\n",
      "Requirement already satisfied: tensorboard-plugin-wit>=1.6.0 in /usr/local/lib/python3.7/dist-packages (from tensorboard~=2.4->tensorflow) (1.8.0)\n",
      "Requirement already satisfied: werkzeug>=0.11.15 in /usr/local/lib/python3.7/dist-packages (from tensorboard~=2.4->tensorflow) (1.0.1)\n",
      "Requirement already satisfied: importlib-metadata; python_version < \"3.8\" in /usr/local/lib/python3.7/dist-packages (from markdown>=2.6.8->tensorboard~=2.4->tensorflow) (3.7.0)\n",
      "Requirement already satisfied: certifi>=2017.4.17 in /usr/local/lib/python3.7/dist-packages (from requests<3,>=2.21.0->tensorboard~=2.4->tensorflow) (2020.12.5)\n",
      "Requirement already satisfied: urllib3!=1.25.0,!=1.25.1,<1.26,>=1.21.1 in /usr/local/lib/python3.7/dist-packages (from requests<3,>=2.21.0->tensorboard~=2.4->tensorflow) (1.24.3)\n",
      "Requirement already satisfied: chardet<4,>=3.0.2 in /usr/local/lib/python3.7/dist-packages (from requests<3,>=2.21.0->tensorboard~=2.4->tensorflow) (3.0.4)\n",
      "Requirement already satisfied: idna<3,>=2.5 in /usr/local/lib/python3.7/dist-packages (from requests<3,>=2.21.0->tensorboard~=2.4->tensorflow) (2.10)\n",
      "Requirement already satisfied: pyasn1-modules>=0.2.1 in /usr/local/lib/python3.7/dist-packages (from google-auth<2,>=1.6.3->tensorboard~=2.4->tensorflow) (0.2.8)\n",
      "Requirement already satisfied: cachetools<5.0,>=2.0.0 in /usr/local/lib/python3.7/dist-packages (from google-auth<2,>=1.6.3->tensorboard~=2.4->tensorflow) (4.2.1)\n",
      "Requirement already satisfied: rsa<5,>=3.1.4; python_version >= \"3.6\" in /usr/local/lib/python3.7/dist-packages (from google-auth<2,>=1.6.3->tensorboard~=2.4->tensorflow) (4.7.2)\n",
      "Requirement already satisfied: requests-oauthlib>=0.7.0 in /usr/local/lib/python3.7/dist-packages (from google-auth-oauthlib<0.5,>=0.4.1->tensorboard~=2.4->tensorflow) (1.3.0)\n",
      "Requirement already satisfied: zipp>=0.5 in /usr/local/lib/python3.7/dist-packages (from importlib-metadata; python_version < \"3.8\"->markdown>=2.6.8->tensorboard~=2.4->tensorflow) (3.4.1)\n",
      "Requirement already satisfied: pyasn1<0.5.0,>=0.4.6 in /usr/local/lib/python3.7/dist-packages (from pyasn1-modules>=0.2.1->google-auth<2,>=1.6.3->tensorboard~=2.4->tensorflow) (0.4.8)\n",
      "Requirement already satisfied: oauthlib>=3.0.0 in /usr/local/lib/python3.7/dist-packages (from requests-oauthlib>=0.7.0->google-auth-oauthlib<0.5,>=0.4.1->tensorboard~=2.4->tensorflow) (3.1.0)\n",
      "Installing collected packages: mnist\n",
      "Successfully installed mnist-0.2.2\n"
     ]
    }
   ],
   "source": [
    "#no need to run if using colab\n",
    "#!pip install tensorflow numpy mnist"
   ]
  },
  {
   "cell_type": "markdown",
   "metadata": {
    "id": "1ihNbCwuDQg4"
   },
   "source": [
    "##Exercise 1. MNIST digit classification\n",
    "Let's import packages"
   ]
  },
  {
   "cell_type": "code",
   "execution_count": 2,
   "metadata": {
    "colab": {
     "base_uri": "https://localhost:8080/"
    },
    "executionInfo": {
     "elapsed": 486,
     "status": "ok",
     "timestamp": 1617982700999,
     "user": {
      "displayName": "Marc Bosch Ruiz",
      "photoUrl": "https://lh3.googleusercontent.com/a-/AOh14GjKsqjeDCFFAOx1guLPCWKw3osZBOw3STwq8C32Dg=s64",
      "userId": "16142192614257531637"
     },
     "user_tz": 240
    },
    "id": "zR2ZMDg4rOPU",
    "outputId": "79b075a8-6358-4fb3-9ccc-91b1b547e673"
   },
   "outputs": [
    {
     "name": "stdout",
     "output_type": "stream",
     "text": [
      "2.4.1\n"
     ]
    }
   ],
   "source": [
    "# TensorFlow and tf.keras\n",
    "import tensorflow as tf\n",
    "\n",
    "# Helper libraries\n",
    "import numpy as np\n",
    "import matplotlib.pyplot as plt\n",
    "\n",
    "print(tf.__version__)\n",
    "\n",
    "\n"
   ]
  },
  {
   "cell_type": "markdown",
   "metadata": {
    "id": "1hf1Hs6PrOPb"
   },
   "source": [
    "Data preparation: collection, train/test split, preprocessing (0-1 normalization)"
   ]
  },
  {
   "cell_type": "code",
   "execution_count": 3,
   "metadata": {
    "colab": {
     "base_uri": "https://localhost:8080/"
    },
    "executionInfo": {
     "elapsed": 1584,
     "status": "ok",
     "timestamp": 1617982816368,
     "user": {
      "displayName": "Marc Bosch Ruiz",
      "photoUrl": "https://lh3.googleusercontent.com/a-/AOh14GjKsqjeDCFFAOx1guLPCWKw3osZBOw3STwq8C32Dg=s64",
      "userId": "16142192614257531637"
     },
     "user_tz": 240
    },
    "id": "pYPUWOJ_rOPc",
    "outputId": "dc207a1e-7090-41d9-92cf-7ccfab986505"
   },
   "outputs": [
    {
     "name": "stdout",
     "output_type": "stream",
     "text": [
      "Downloading data from https://storage.googleapis.com/tensorflow/tf-keras-datasets/train-labels-idx1-ubyte.gz\n",
      "32768/29515 [=================================] - 0s 0us/step\n",
      "Downloading data from https://storage.googleapis.com/tensorflow/tf-keras-datasets/train-images-idx3-ubyte.gz\n",
      "26427392/26421880 [==============================] - 0s 0us/step\n",
      "Downloading data from https://storage.googleapis.com/tensorflow/tf-keras-datasets/t10k-labels-idx1-ubyte.gz\n",
      "8192/5148 [===============================================] - 0s 0us/step\n",
      "Downloading data from https://storage.googleapis.com/tensorflow/tf-keras-datasets/t10k-images-idx3-ubyte.gz\n",
      "4423680/4422102 [==============================] - 0s 0us/step\n"
     ]
    }
   ],
   "source": [
    "fashion_mnist = tf.keras.datasets.fashion_mnist\n",
    "\n",
    "(train_images, train_labels), (test_images, test_labels) = fashion_mnist.load_data()"
   ]
  },
  {
   "cell_type": "markdown",
   "metadata": {
    "id": "1zPMl7vlELC5"
   },
   "source": [
    "This guide uses the Fashion MNIST dataset which contains 70,000 grayscale images in 10 categories. The images show individual articles of clothing at low resolution (28 by 28 pixels), as seen here: https://github.com/zalandoresearch/fashion-mnist"
   ]
  },
  {
   "cell_type": "markdown",
   "metadata": {
    "id": "G54wfS6LEPBf"
   },
   "source": [
    "Loading the dataset returns four NumPy arrays:\n",
    "\n",
    "* The train_images and train_labels arrays are the training set—the data the model uses to learn.\n",
    "* The model is tested against the test set, the test_images, and test_labels arrays.\n",
    "\n",
    "The images are 28x28 NumPy arrays, with pixel values ranging from 0 to 255. The labels are an array of integers, ranging from 0 to 9. These correspond to the class of clothing the image represents:"
   ]
  },
  {
   "cell_type": "code",
   "execution_count": 4,
   "metadata": {
    "colab": {
     "base_uri": "https://localhost:8080/",
     "height": 265
    },
    "executionInfo": {
     "elapsed": 863,
     "status": "ok",
     "timestamp": 1617982858587,
     "user": {
      "displayName": "Marc Bosch Ruiz",
      "photoUrl": "https://lh3.googleusercontent.com/a-/AOh14GjKsqjeDCFFAOx1guLPCWKw3osZBOw3STwq8C32Dg=s64",
      "userId": "16142192614257531637"
     },
     "user_tz": 240
    },
    "id": "gp1iFoqKrOPl",
    "outputId": "f932273f-cbb0-4672-b397-5e3dac51191b"
   },
   "outputs": [
    {
     "data": {
      "image/png": "[encoded data removed]",
      "text/plain": [
       "<Figure size 432x288 with 2 Axes>"
      ]
     },
     "metadata": {
      "needs_background": "light",
      "tags": []
     },
     "output_type": "display_data"
    }
   ],
   "source": [
    "class_names = ['T-shirt/top', 'Trouser', 'Pullover', 'Dress', 'Coat',\n",
    "               'Sandal', 'Shirt', 'Sneaker', 'Bag', 'Ankle boot']\n",
    "\n",
    "\n",
    "plt.figure()\n",
    "plt.imshow(train_images[0])\n",
    "plt.colorbar()\n",
    "plt.grid(False)\n",
    "plt.show()"
   ]
  },
  {
   "cell_type": "markdown",
   "metadata": {
    "id": "Rkc4oNXcrOPt"
   },
   "source": [
    "Explore the data\n",
    "\n",
    "Size and labels\n"
   ]
  },
  {
   "cell_type": "code",
   "execution_count": 5,
   "metadata": {
    "colab": {
     "base_uri": "https://localhost:8080/"
    },
    "executionInfo": {
     "elapsed": 591,
     "status": "ok",
     "timestamp": 1617982935960,
     "user": {
      "displayName": "Marc Bosch Ruiz",
      "photoUrl": "https://lh3.googleusercontent.com/a-/AOh14GjKsqjeDCFFAOx1guLPCWKw3osZBOw3STwq8C32Dg=s64",
      "userId": "16142192614257531637"
     },
     "user_tz": 240
    },
    "id": "99e6dIFirOPw",
    "outputId": "7c3bef0d-7d42-41bd-e50d-dec21042f614"
   },
   "outputs": [
    {
     "name": "stdout",
     "output_type": "stream",
     "text": [
      "(60000, 28, 28)\n",
      "60000\n",
      "[9 0 0 ... 3 0 5]\n"
     ]
    }
   ],
   "source": [
    "print(train_images.shape)\n",
    "print(len(train_labels))\n",
    "print(train_labels)"
   ]
  },
  {
   "cell_type": "markdown",
   "metadata": {
    "id": "VDqo1defFbtH"
   },
   "source": [
    "Normalize the data to avoid unnecessary dynamic range"
   ]
  },
  {
   "cell_type": "code",
   "execution_count": 7,
   "metadata": {
    "colab": {
     "base_uri": "https://localhost:8080/",
     "height": 589
    },
    "executionInfo": {
     "elapsed": 1744,
     "status": "ok",
     "timestamp": 1617983049329,
     "user": {
      "displayName": "Marc Bosch Ruiz",
      "photoUrl": "https://lh3.googleusercontent.com/a-/AOh14GjKsqjeDCFFAOx1guLPCWKw3osZBOw3STwq8C32Dg=s64",
      "userId": "16142192614257531637"
     },
     "user_tz": 240
    },
    "id": "po0kPwkzFkUe",
    "outputId": "9fa0893f-8909-4a2d-ffeb-a71dbeb408f8"
   },
   "outputs": [
    {
     "data": {
      "image/png": "[encoded data removed]",
      "text/plain": [
       "<Figure size 720x720 with 25 Axes>"
      ]
     },
     "metadata": {
      "tags": []
     },
     "output_type": "display_data"
    }
   ],
   "source": [
    "train_images = train_images / 255.0\n",
    "\n",
    "test_images = test_images / 255.0\n",
    "\n",
    "plt.figure(figsize=(10,10))\n",
    "for i in range(25):\n",
    "    plt.subplot(5,5,i+1)\n",
    "    plt.xticks([])\n",
    "    plt.yticks([])\n",
    "    plt.grid(False)\n",
    "    plt.imshow(train_images[i], cmap=plt.cm.binary)\n",
    "    plt.xlabel(class_names[train_labels[i]])\n",
    "plt.show()"
   ]
  },
  {
   "cell_type": "markdown",
   "metadata": {
    "id": "m5eOpoJbrOP1"
   },
   "source": [
    "Set up the network"
   ]
  },
  {
   "cell_type": "code",
   "execution_count": 8,
   "metadata": {
    "executionInfo": {
     "elapsed": 5843,
     "status": "ok",
     "timestamp": 1617983379499,
     "user": {
      "displayName": "Marc Bosch Ruiz",
      "photoUrl": "https://lh3.googleusercontent.com/a-/AOh14GjKsqjeDCFFAOx1guLPCWKw3osZBOw3STwq8C32Dg=s64",
      "userId": "16142192614257531637"
     },
     "user_tz": 240
    },
    "id": "Q0E6TWtvrOP2"
   },
   "outputs": [],
   "source": [
    "model = tf.keras.Sequential([\n",
    "    tf.keras.layers.Flatten(input_shape=(28, 28)),\n",
    "    tf.keras.layers.Dense(128, activation='relu'),\n",
    "    tf.keras.layers.Dense(10)\n",
    "])"
   ]
  },
  {
   "cell_type": "markdown",
   "metadata": {
    "id": "63l3w0krFz3l"
   },
   "source": [
    "Set up the optimizer and loss"
   ]
  },
  {
   "cell_type": "code",
   "execution_count": 10,
   "metadata": {
    "executionInfo": {
     "elapsed": 494,
     "status": "ok",
     "timestamp": 1617983618899,
     "user": {
      "displayName": "Marc Bosch Ruiz",
      "photoUrl": "https://lh3.googleusercontent.com/a-/AOh14GjKsqjeDCFFAOx1guLPCWKw3osZBOw3STwq8C32Dg=s64",
      "userId": "16142192614257531637"
     },
     "user_tz": 240
    },
    "id": "rMazQ8ROF4ZI"
   },
   "outputs": [],
   "source": [
    "model.compile(optimizer='adam',\n",
    "              loss=tf.keras.losses.SparseCategoricalCrossentropy(from_logits=True),\n",
    "              metrics=['accuracy'])"
   ]
  },
  {
   "cell_type": "markdown",
   "metadata": {
    "id": "B5EyeKNcF5-W"
   },
   "source": [
    "Train the model"
   ]
  },
  {
   "cell_type": "code",
   "execution_count": 11,
   "metadata": {
    "colab": {
     "base_uri": "https://localhost:8080/"
    },
    "executionInfo": {
     "elapsed": 42984,
     "status": "ok",
     "timestamp": 1617983775433,
     "user": {
      "displayName": "Marc Bosch Ruiz",
      "photoUrl": "https://lh3.googleusercontent.com/a-/AOh14GjKsqjeDCFFAOx1guLPCWKw3osZBOw3STwq8C32Dg=s64",
      "userId": "16142192614257531637"
     },
     "user_tz": 240
    },
    "id": "rLyr9RJFF67h",
    "outputId": "bac6e726-2107-4b08-ed64-f725a476761b"
   },
   "outputs": [
    {
     "name": "stdout",
     "output_type": "stream",
     "text": [
      "Epoch 1/10\n",
      "1875/1875 [==============================] - 7s 2ms/step - loss: 1.5031 - accuracy: 0.5480\n",
      "Epoch 2/10\n",
      "1875/1875 [==============================] - 4s 2ms/step - loss: 0.6749 - accuracy: 0.7569\n",
      "Epoch 3/10\n",
      "1875/1875 [==============================] - 4s 2ms/step - loss: 0.5801 - accuracy: 0.7895\n",
      "Epoch 4/10\n",
      "1875/1875 [==============================] - 4s 2ms/step - loss: 0.5326 - accuracy: 0.8123\n",
      "Epoch 5/10\n",
      "1875/1875 [==============================] - 4s 2ms/step - loss: 0.4998 - accuracy: 0.8227\n",
      "Epoch 6/10\n",
      "1875/1875 [==============================] - 4s 2ms/step - loss: 0.4850 - accuracy: 0.8302\n",
      "Epoch 7/10\n",
      "1875/1875 [==============================] - 4s 2ms/step - loss: 0.4599 - accuracy: 0.8369\n",
      "Epoch 8/10\n",
      "1875/1875 [==============================] - 4s 2ms/step - loss: 0.4497 - accuracy: 0.8421\n",
      "Epoch 9/10\n",
      "1875/1875 [==============================] - 4s 2ms/step - loss: 0.4379 - accuracy: 0.8474\n",
      "Epoch 10/10\n",
      "1875/1875 [==============================] - 4s 2ms/step - loss: 0.4312 - accuracy: 0.8461\n"
     ]
    },
    {
     "data": {
      "text/plain": [
       "<tensorflow.python.keras.callbacks.History at 0x7fdc419da210>"
      ]
     },
     "execution_count": 11,
     "metadata": {
      "tags": []
     },
     "output_type": "execute_result"
    }
   ],
   "source": [
    "model.fit(train_images, train_labels, epochs=10)"
   ]
  },
  {
   "cell_type": "markdown",
   "metadata": {
    "id": "dfnFC4PFF9Wn"
   },
   "source": [
    "Evaluate the model"
   ]
  },
  {
   "cell_type": "code",
   "execution_count": 12,
   "metadata": {
    "colab": {
     "base_uri": "https://localhost:8080/"
    },
    "executionInfo": {
     "elapsed": 1559,
     "status": "ok",
     "timestamp": 1617983820851,
     "user": {
      "displayName": "Marc Bosch Ruiz",
      "photoUrl": "https://lh3.googleusercontent.com/a-/AOh14GjKsqjeDCFFAOx1guLPCWKw3osZBOw3STwq8C32Dg=s64",
      "userId": "16142192614257531637"
     },
     "user_tz": 240
    },
    "id": "Qmjgc3MJF9gu",
    "outputId": "5ab2a0b2-23d8-439b-ebf5-1739066b34be"
   },
   "outputs": [
    {
     "name": "stdout",
     "output_type": "stream",
     "text": [
      "313/313 - 1s - loss: 0.4593 - accuracy: 0.8328\n",
      "\n",
      "Test accuracy: 0.8327999711036682\n"
     ]
    }
   ],
   "source": [
    "test_loss, test_acc = model.evaluate(test_images,  test_labels, verbose=2)\n",
    "\n",
    "print('\\nTest accuracy:', test_acc)"
   ]
  },
  {
   "cell_type": "markdown",
   "metadata": {
    "id": "XqoUpvlGbE5E"
   },
   "source": [
    "Make predictions"
   ]
  },
  {
   "cell_type": "code",
   "execution_count": 13,
   "metadata": {
    "colab": {
     "base_uri": "https://localhost:8080/"
    },
    "executionInfo": {
     "elapsed": 913,
     "status": "ok",
     "timestamp": 1617983923744,
     "user": {
      "displayName": "Marc Bosch Ruiz",
      "photoUrl": "https://lh3.googleusercontent.com/a-/AOh14GjKsqjeDCFFAOx1guLPCWKw3osZBOw3STwq8C32Dg=s64",
      "userId": "16142192614257531637"
     },
     "user_tz": 240
    },
    "id": "X2oVcoQ1GHc4",
    "outputId": "e8a195f2-7b15-4a00-ace0-bb256515a936"
   },
   "outputs": [
    {
     "name": "stdout",
     "output_type": "stream",
     "text": [
      "[6.1966784e-07 2.9749273e-08 6.2083518e-06 6.5032391e-06 8.1732642e-06\n",
      " 1.3789420e-01 1.8699173e-05 3.3069733e-01 3.9002618e-03 5.2746797e-01]\n"
     ]
    }
   ],
   "source": [
    "probability_model = tf.keras.Sequential([model, \n",
    "                                         tf.keras.layers.Softmax()])\n",
    "predictions = probability_model.predict(test_images)\n",
    "\n",
    "print(predictions[0])\n",
    "#class_names = ['T-shirt/top', 'Trouser', 'Pullover', 'Dress', 'Coat',\n",
    "#               'Sandal', 'Shirt', 'Sneaker', 'Bag', 'Ankle boot']\n"
   ]
  },
  {
   "cell_type": "markdown",
   "metadata": {
    "id": "H1XP9gKzGRAn"
   },
   "source": [
    "Seeing the actual label"
   ]
  },
  {
   "cell_type": "code",
   "execution_count": null,
   "metadata": {
    "colab": {
     "base_uri": "https://localhost:8080/"
    },
    "executionInfo": {
     "elapsed": 158,
     "status": "ok",
     "timestamp": 1615815356230,
     "user": {
      "displayName": "Marc Bosch Ruiz",
      "photoUrl": "https://lh3.googleusercontent.com/a-/AOh14GjKsqjeDCFFAOx1guLPCWKw3osZBOw3STwq8C32Dg=s64",
      "userId": "16142192614257531637"
     },
     "user_tz": 240
    },
    "id": "2G1ZLTj_GZ2M",
    "outputId": "abeef3b5-a803-4bb8-dd7a-51f93397388c"
   },
   "outputs": [
    {
     "data": {
      "text/plain": [
       "9"
      ]
     },
     "execution_count": 14,
     "metadata": {
      "tags": []
     },
     "output_type": "execute_result"
    }
   ],
   "source": [
    "np.argmax(predictions[0])"
   ]
  },
  {
   "cell_type": "markdown",
   "metadata": {
    "id": "pdaRRgluGaWS"
   },
   "source": [
    "Visualize results"
   ]
  },
  {
   "cell_type": "code",
   "execution_count": 14,
   "metadata": {
    "executionInfo": {
     "elapsed": 1231,
     "status": "ok",
     "timestamp": 1617984044977,
     "user": {
      "displayName": "Marc Bosch Ruiz",
      "photoUrl": "https://lh3.googleusercontent.com/a-/AOh14GjKsqjeDCFFAOx1guLPCWKw3osZBOw3STwq8C32Dg=s64",
      "userId": "16142192614257531637"
     },
     "user_tz": 240
    },
    "id": "S-2m_hzIGhRV"
   },
   "outputs": [],
   "source": [
    "def plot_image(i, predictions_array, true_label, img):\n",
    "  true_label, img = true_label[i], img[i]\n",
    "  plt.grid(False)\n",
    "  plt.xticks([])\n",
    "  plt.yticks([])\n",
    "\n",
    "  plt.imshow(img, cmap=plt.cm.binary)\n",
    "\n",
    "  predicted_label = np.argmax(predictions_array)\n",
    "  if predicted_label == true_label:\n",
    "    color = 'blue'\n",
    "  else:\n",
    "    color = 'red'\n",
    "\n",
    "  plt.xlabel(\"{} {:2.0f}% ({})\".format(class_names[predicted_label],\n",
    "                                100*np.max(predictions_array),\n",
    "                                class_names[true_label]),\n",
    "                                color=color)\n",
    "\n",
    "def plot_value_array(i, predictions_array, true_label):\n",
    "  true_label = true_label[i]\n",
    "  plt.grid(False)\n",
    "  plt.xticks(range(10))\n",
    "  plt.yticks([])\n",
    "  thisplot = plt.bar(range(10), predictions_array, color=\"#777777\")\n",
    "  plt.ylim([0, 1])\n",
    "  predicted_label = np.argmax(predictions_array)\n",
    "\n",
    "  thisplot[predicted_label].set_color('red')\n",
    "  thisplot[true_label].set_color('blue')\n",
    "\n",
    "\n",
    "\n"
   ]
  },
  {
   "cell_type": "code",
   "execution_count": 15,
   "metadata": {
    "colab": {
     "base_uri": "https://localhost:8080/",
     "height": 211
    },
    "executionInfo": {
     "elapsed": 904,
     "status": "ok",
     "timestamp": 1617984047083,
     "user": {
      "displayName": "Marc Bosch Ruiz",
      "photoUrl": "https://lh3.googleusercontent.com/a-/AOh14GjKsqjeDCFFAOx1guLPCWKw3osZBOw3STwq8C32Dg=s64",
      "userId": "16142192614257531637"
     },
     "user_tz": 240
    },
    "id": "KFK69gOZGkWV",
    "outputId": "25976c4d-1369-4519-ce86-8e26567074b1"
   },
   "outputs": [
    {
     "data": {
      "image/png": "[encoded data removed]",
      "text/plain": [
       "<Figure size 432x216 with 2 Axes>"
      ]
     },
     "metadata": {
      "needs_background": "light",
      "tags": []
     },
     "output_type": "display_data"
    }
   ],
   "source": [
    "i = 0\n",
    "plt.figure(figsize=(6,3))\n",
    "plt.subplot(1,2,1)\n",
    "plot_image(i, predictions[i], test_labels, test_images)\n",
    "plt.subplot(1,2,2)\n",
    "plot_value_array(i, predictions[i],  test_labels)\n",
    "plt.show()\n",
    "\n",
    "\n"
   ]
  },
  {
   "cell_type": "code",
   "execution_count": null,
   "metadata": {
    "colab": {
     "base_uri": "https://localhost:8080/",
     "height": 729
    },
    "executionInfo": {
     "elapsed": 2277,
     "status": "ok",
     "timestamp": 1615815437796,
     "user": {
      "displayName": "Marc Bosch Ruiz",
      "photoUrl": "https://lh3.googleusercontent.com/a-/AOh14GjKsqjeDCFFAOx1guLPCWKw3osZBOw3STwq8C32Dg=s64",
      "userId": "16142192614257531637"
     },
     "user_tz": 240
    },
    "id": "TDzwDklGGo2V",
    "outputId": "f9b5c76b-311b-4d0c-f3b4-a27224d8baf2"
   },
   "outputs": [
    {
     "data": {
      "image/png": "[encoded data removed]",
      "text/plain": [
       "<Figure size 864x720 with 30 Axes>"
      ]
     },
     "metadata": {
      "needs_background": "light",
      "tags": []
     },
     "output_type": "display_data"
    }
   ],
   "source": [
    "# Plot the first X test images, their predicted labels, and the true labels.\n",
    "# Color correct predictions in blue and incorrect predictions in red.\n",
    "num_rows = 5\n",
    "num_cols = 3\n",
    "num_images = num_rows*num_cols\n",
    "plt.figure(figsize=(2*2*num_cols, 2*num_rows))\n",
    "for i in range(num_images):\n",
    "  plt.subplot(num_rows, 2*num_cols, 2*i+1)\n",
    "  plot_image(i, predictions[i], test_labels, test_images)\n",
    "  plt.subplot(num_rows, 2*num_cols, 2*i+2)\n",
    "  plot_value_array(i, predictions[i], test_labels)\n",
    "plt.tight_layout()\n",
    "plt.show()"
   ]
  },
  {
   "cell_type": "markdown",
   "metadata": {
    "id": "dznPP2LZGuyi"
   },
   "source": [
    "Write code to use the trained model on a new image in the test set"
   ]
  },
  {
   "cell_type": "code",
   "execution_count": null,
   "metadata": {
    "colab": {
     "base_uri": "https://localhost:8080/",
     "height": 401
    },
    "executionInfo": {
     "elapsed": 387,
     "status": "ok",
     "timestamp": 1615815555654,
     "user": {
      "displayName": "Marc Bosch Ruiz",
      "photoUrl": "https://lh3.googleusercontent.com/a-/AOh14GjKsqjeDCFFAOx1guLPCWKw3osZBOw3STwq8C32Dg=s64",
      "userId": "16142192614257531637"
     },
     "user_tz": 240
    },
    "id": "zPBwaIJHGu-y",
    "outputId": "5b832faf-3f31-45ee-9b91-177a79cd1bc7"
   },
   "outputs": [
    {
     "name": "stdout",
     "output_type": "stream",
     "text": [
      "(28, 28)\n",
      "(1, 28, 28)\n",
      "[[2.75642087e-05 9.85682230e-11 9.96726155e-01 8.08735467e-10\n",
      "  3.13469931e-03 6.92275013e-13 1.11517045e-04 1.61637359e-13\n",
      "  7.19694304e-09 9.83108885e-13]]\n"
     ]
    },
    {
     "data": {
      "text/plain": [
       "2"
      ]
     },
     "execution_count": 20,
     "metadata": {
      "tags": []
     },
     "output_type": "execute_result"
    },
    {
     "data": {
      "image/png": "[encoded data removed]",
      "text/plain": [
       "<Figure size 432x288 with 1 Axes>"
      ]
     },
     "metadata": {
      "needs_background": "light",
      "tags": []
     },
     "output_type": "display_data"
    }
   ],
   "source": [
    "# Grab an image from the test dataset.\n",
    "img = test_images[1]\n",
    "\n",
    "print(img.shape)\n",
    "\n",
    "# Add the image to a batch where it's the only member.\n",
    "img = (np.expand_dims(img,0))\n",
    "\n",
    "print(img.shape)\n",
    "\n",
    "predictions_single = probability_model.predict(img)\n",
    "print(predictions_single)\n",
    "\n",
    "plot_value_array(1, predictions_single[0], test_labels)\n",
    "_ = plt.xticks(range(10), class_names, rotation=45)\n",
    "\n",
    "np.argmax(predictions_single[0])"
   ]
  },
  {
   "cell_type": "markdown",
   "metadata": {
    "id": "BfqSc0uhV0ki"
   },
   "source": [
    "See if you can improve the model"
   ]
  },
  {
   "cell_type": "markdown",
   "metadata": {
    "id": "ouKAGe1TtOES"
   },
   "source": [
    "## Exercise 2: Predicting the price of a cellphone\n",
    "We will use simple data of mobile price range classifier. The dataset consists of 20 features and we need to predict the price range in which phone lies. These ranges are divided into 4 classes. \n",
    "The features of our dataset include:\n",
    "*'battery_power', 'blue', 'clock_speed', 'dual_sim', 'fc', 'four_g',\n",
    "'int_memory', 'm_dep', 'mobile_wt', 'n_cores', 'pc', 'px_height','px_width', 'ram', 'sc_h', 'sc_w', 'talk_time', 'three_g','touch_screen', 'wifi'*\n",
    "\n"
   ]
  },
  {
   "cell_type": "markdown",
   "metadata": {
    "id": "-D2tFKe3wOUW"
   },
   "source": [
    "Before feeding data to our neural network we need it in a specific way so we need to process it accordingly. The preprocessing of data depends on the type of data. Here we will discuss how to handle tabular data and in later tutorials, we will handle image dataset. Let’s start the coding part"
   ]
  },
  {
   "cell_type": "code",
   "execution_count": 1,
   "metadata": {
    "colab": {
     "base_uri": "https://localhost:8080/"
    },
    "executionInfo": {
     "elapsed": 30654,
     "status": "ok",
     "timestamp": 1617997046416,
     "user": {
      "displayName": "Marc Bosch Ruiz",
      "photoUrl": "https://lh3.googleusercontent.com/a-/AOh14GjKsqjeDCFFAOx1guLPCWKw3osZBOw3STwq8C32Dg=s64",
      "userId": "16142192614257531637"
     },
     "user_tz": 240
    },
    "id": "J1R5w_gQI-Zd",
    "outputId": "d5e9a484-ff5c-4221-b377-f8c3f2357861"
   },
   "outputs": [
    {
     "name": "stdout",
     "output_type": "stream",
     "text": [
      "Mounted at /content/gdrive\n"
     ]
    }
   ],
   "source": [
    "#run this only from colaboratory\n",
    "from google.colab import drive\n",
    "drive.mount('/content/gdrive')\n",
    "#files are at: /content/gdrive/My Drive/..."
   ]
  },
  {
   "cell_type": "code",
   "execution_count": 2,
   "metadata": {
    "colab": {
     "base_uri": "https://localhost:8080/",
     "height": 359
    },
    "executionInfo": {
     "elapsed": 2745,
     "status": "ok",
     "timestamp": 1617997053260,
     "user": {
      "displayName": "Marc Bosch Ruiz",
      "photoUrl": "https://lh3.googleusercontent.com/a-/AOh14GjKsqjeDCFFAOx1guLPCWKw3osZBOw3STwq8C32Dg=s64",
      "userId": "16142192614257531637"
     },
     "user_tz": 240
    },
    "id": "wtrDcKviIL1B",
    "outputId": "afa08a9f-89bb-4e5e-d9fd-5900eb321364"
   },
   "outputs": [
    {
     "data": {
      "text/html": [
       "<div>\n",
       "<style scoped>\n",
       "    .dataframe tbody tr th:only-of-type {\n",
       "        vertical-align: middle;\n",
       "    }\n",
       "\n",
       "    .dataframe tbody tr th {\n",
       "        vertical-align: top;\n",
       "    }\n",
       "\n",
       "    .dataframe thead th {\n",
       "        text-align: right;\n",
       "    }\n",
       "</style>\n",
       "<table border=\"1\" class=\"dataframe\">\n",
       "  <thead>\n",
       "    <tr style=\"text-align: right;\">\n",
       "      <th></th>\n",
       "      <th>battery_power</th>\n",
       "      <th>blue</th>\n",
       "      <th>clock_speed</th>\n",
       "      <th>dual_sim</th>\n",
       "      <th>fc</th>\n",
       "      <th>four_g</th>\n",
       "      <th>int_memory</th>\n",
       "      <th>m_dep</th>\n",
       "      <th>mobile_wt</th>\n",
       "      <th>n_cores</th>\n",
       "      <th>pc</th>\n",
       "      <th>px_height</th>\n",
       "      <th>px_width</th>\n",
       "      <th>ram</th>\n",
       "      <th>sc_h</th>\n",
       "      <th>sc_w</th>\n",
       "      <th>talk_time</th>\n",
       "      <th>three_g</th>\n",
       "      <th>touch_screen</th>\n",
       "      <th>wifi</th>\n",
       "      <th>price_range</th>\n",
       "    </tr>\n",
       "  </thead>\n",
       "  <tbody>\n",
       "    <tr>\n",
       "      <th>0</th>\n",
       "      <td>842</td>\n",
       "      <td>0</td>\n",
       "      <td>2.2</td>\n",
       "      <td>0</td>\n",
       "      <td>1</td>\n",
       "      <td>0</td>\n",
       "      <td>7</td>\n",
       "      <td>0.6</td>\n",
       "      <td>188</td>\n",
       "      <td>2</td>\n",
       "      <td>2</td>\n",
       "      <td>20</td>\n",
       "      <td>756</td>\n",
       "      <td>2549</td>\n",
       "      <td>9</td>\n",
       "      <td>7</td>\n",
       "      <td>19</td>\n",
       "      <td>0</td>\n",
       "      <td>0</td>\n",
       "      <td>1</td>\n",
       "      <td>1</td>\n",
       "    </tr>\n",
       "    <tr>\n",
       "      <th>1</th>\n",
       "      <td>1021</td>\n",
       "      <td>1</td>\n",
       "      <td>0.5</td>\n",
       "      <td>1</td>\n",
       "      <td>0</td>\n",
       "      <td>1</td>\n",
       "      <td>53</td>\n",
       "      <td>0.7</td>\n",
       "      <td>136</td>\n",
       "      <td>3</td>\n",
       "      <td>6</td>\n",
       "      <td>905</td>\n",
       "      <td>1988</td>\n",
       "      <td>2631</td>\n",
       "      <td>17</td>\n",
       "      <td>3</td>\n",
       "      <td>7</td>\n",
       "      <td>1</td>\n",
       "      <td>1</td>\n",
       "      <td>0</td>\n",
       "      <td>2</td>\n",
       "    </tr>\n",
       "    <tr>\n",
       "      <th>2</th>\n",
       "      <td>563</td>\n",
       "      <td>1</td>\n",
       "      <td>0.5</td>\n",
       "      <td>1</td>\n",
       "      <td>2</td>\n",
       "      <td>1</td>\n",
       "      <td>41</td>\n",
       "      <td>0.9</td>\n",
       "      <td>145</td>\n",
       "      <td>5</td>\n",
       "      <td>6</td>\n",
       "      <td>1263</td>\n",
       "      <td>1716</td>\n",
       "      <td>2603</td>\n",
       "      <td>11</td>\n",
       "      <td>2</td>\n",
       "      <td>9</td>\n",
       "      <td>1</td>\n",
       "      <td>1</td>\n",
       "      <td>0</td>\n",
       "      <td>2</td>\n",
       "    </tr>\n",
       "    <tr>\n",
       "      <th>3</th>\n",
       "      <td>615</td>\n",
       "      <td>1</td>\n",
       "      <td>2.5</td>\n",
       "      <td>0</td>\n",
       "      <td>0</td>\n",
       "      <td>0</td>\n",
       "      <td>10</td>\n",
       "      <td>0.8</td>\n",
       "      <td>131</td>\n",
       "      <td>6</td>\n",
       "      <td>9</td>\n",
       "      <td>1216</td>\n",
       "      <td>1786</td>\n",
       "      <td>2769</td>\n",
       "      <td>16</td>\n",
       "      <td>8</td>\n",
       "      <td>11</td>\n",
       "      <td>1</td>\n",
       "      <td>0</td>\n",
       "      <td>0</td>\n",
       "      <td>2</td>\n",
       "    </tr>\n",
       "    <tr>\n",
       "      <th>4</th>\n",
       "      <td>1821</td>\n",
       "      <td>1</td>\n",
       "      <td>1.2</td>\n",
       "      <td>0</td>\n",
       "      <td>13</td>\n",
       "      <td>1</td>\n",
       "      <td>44</td>\n",
       "      <td>0.6</td>\n",
       "      <td>141</td>\n",
       "      <td>2</td>\n",
       "      <td>14</td>\n",
       "      <td>1208</td>\n",
       "      <td>1212</td>\n",
       "      <td>1411</td>\n",
       "      <td>8</td>\n",
       "      <td>2</td>\n",
       "      <td>15</td>\n",
       "      <td>1</td>\n",
       "      <td>1</td>\n",
       "      <td>0</td>\n",
       "      <td>1</td>\n",
       "    </tr>\n",
       "    <tr>\n",
       "      <th>5</th>\n",
       "      <td>1859</td>\n",
       "      <td>0</td>\n",
       "      <td>0.5</td>\n",
       "      <td>1</td>\n",
       "      <td>3</td>\n",
       "      <td>0</td>\n",
       "      <td>22</td>\n",
       "      <td>0.7</td>\n",
       "      <td>164</td>\n",
       "      <td>1</td>\n",
       "      <td>7</td>\n",
       "      <td>1004</td>\n",
       "      <td>1654</td>\n",
       "      <td>1067</td>\n",
       "      <td>17</td>\n",
       "      <td>1</td>\n",
       "      <td>10</td>\n",
       "      <td>1</td>\n",
       "      <td>0</td>\n",
       "      <td>0</td>\n",
       "      <td>1</td>\n",
       "    </tr>\n",
       "    <tr>\n",
       "      <th>6</th>\n",
       "      <td>1821</td>\n",
       "      <td>0</td>\n",
       "      <td>1.7</td>\n",
       "      <td>0</td>\n",
       "      <td>4</td>\n",
       "      <td>1</td>\n",
       "      <td>10</td>\n",
       "      <td>0.8</td>\n",
       "      <td>139</td>\n",
       "      <td>8</td>\n",
       "      <td>10</td>\n",
       "      <td>381</td>\n",
       "      <td>1018</td>\n",
       "      <td>3220</td>\n",
       "      <td>13</td>\n",
       "      <td>8</td>\n",
       "      <td>18</td>\n",
       "      <td>1</td>\n",
       "      <td>0</td>\n",
       "      <td>1</td>\n",
       "      <td>3</td>\n",
       "    </tr>\n",
       "    <tr>\n",
       "      <th>7</th>\n",
       "      <td>1954</td>\n",
       "      <td>0</td>\n",
       "      <td>0.5</td>\n",
       "      <td>1</td>\n",
       "      <td>0</td>\n",
       "      <td>0</td>\n",
       "      <td>24</td>\n",
       "      <td>0.8</td>\n",
       "      <td>187</td>\n",
       "      <td>4</td>\n",
       "      <td>0</td>\n",
       "      <td>512</td>\n",
       "      <td>1149</td>\n",
       "      <td>700</td>\n",
       "      <td>16</td>\n",
       "      <td>3</td>\n",
       "      <td>5</td>\n",
       "      <td>1</td>\n",
       "      <td>1</td>\n",
       "      <td>1</td>\n",
       "      <td>0</td>\n",
       "    </tr>\n",
       "    <tr>\n",
       "      <th>8</th>\n",
       "      <td>1445</td>\n",
       "      <td>1</td>\n",
       "      <td>0.5</td>\n",
       "      <td>0</td>\n",
       "      <td>0</td>\n",
       "      <td>0</td>\n",
       "      <td>53</td>\n",
       "      <td>0.7</td>\n",
       "      <td>174</td>\n",
       "      <td>7</td>\n",
       "      <td>14</td>\n",
       "      <td>386</td>\n",
       "      <td>836</td>\n",
       "      <td>1099</td>\n",
       "      <td>17</td>\n",
       "      <td>1</td>\n",
       "      <td>20</td>\n",
       "      <td>1</td>\n",
       "      <td>0</td>\n",
       "      <td>0</td>\n",
       "      <td>0</td>\n",
       "    </tr>\n",
       "    <tr>\n",
       "      <th>9</th>\n",
       "      <td>509</td>\n",
       "      <td>1</td>\n",
       "      <td>0.6</td>\n",
       "      <td>1</td>\n",
       "      <td>2</td>\n",
       "      <td>1</td>\n",
       "      <td>9</td>\n",
       "      <td>0.1</td>\n",
       "      <td>93</td>\n",
       "      <td>5</td>\n",
       "      <td>15</td>\n",
       "      <td>1137</td>\n",
       "      <td>1224</td>\n",
       "      <td>513</td>\n",
       "      <td>19</td>\n",
       "      <td>10</td>\n",
       "      <td>12</td>\n",
       "      <td>1</td>\n",
       "      <td>0</td>\n",
       "      <td>0</td>\n",
       "      <td>0</td>\n",
       "    </tr>\n",
       "  </tbody>\n",
       "</table>\n",
       "</div>"
      ],
      "text/plain": [
       "   battery_power  blue  clock_speed  ...  touch_screen  wifi  price_range\n",
       "0            842     0          2.2  ...             0     1            1\n",
       "1           1021     1          0.5  ...             1     0            2\n",
       "2            563     1          0.5  ...             1     0            2\n",
       "3            615     1          2.5  ...             0     0            2\n",
       "4           1821     1          1.2  ...             1     0            1\n",
       "5           1859     0          0.5  ...             0     0            1\n",
       "6           1821     0          1.7  ...             0     1            3\n",
       "7           1954     0          0.5  ...             1     1            0\n",
       "8           1445     1          0.5  ...             0     0            0\n",
       "9            509     1          0.6  ...             0     0            0\n",
       "\n",
       "[10 rows x 21 columns]"
      ]
     },
     "execution_count": 2,
     "metadata": {
      "tags": []
     },
     "output_type": "execute_result"
    }
   ],
   "source": [
    "#Dependencies\n",
    "import numpy as np\n",
    "import pandas as pd\n",
    "from sklearn.preprocessing import OneHotEncoder\n",
    "from sklearn.preprocessing import StandardScaler\n",
    "import keras\n",
    "from keras.models import Sequential\n",
    "from keras.layers import Dense\n",
    "from sklearn.metrics import accuracy_score\n",
    "\n",
    "#dataset import\n",
    "dataset = pd.read_csv('/content/gdrive/My Drive/exercises_DL/train.csv') #You need to change #directory accordingly\n",
    "dataset.head(10) #Return 10 rows of data"
   ]
  },
  {
   "cell_type": "code",
   "execution_count": 3,
   "metadata": {
    "executionInfo": {
     "elapsed": 227,
     "status": "ok",
     "timestamp": 1617997164583,
     "user": {
      "displayName": "Marc Bosch Ruiz",
      "photoUrl": "https://lh3.googleusercontent.com/a-/AOh14GjKsqjeDCFFAOx1guLPCWKw3osZBOw3STwq8C32Dg=s64",
      "userId": "16142192614257531637"
     },
     "user_tz": 240
    },
    "id": "gBAXkiMKUoyz"
   },
   "outputs": [],
   "source": [
    "#Changing pandas dataframe to numpy array\n",
    "X = dataset.iloc[:,:20].values\n",
    "y = dataset.iloc[:,20:21].values"
   ]
  },
  {
   "cell_type": "markdown",
   "metadata": {
    "id": "yqP3774uwR14"
   },
   "source": [
    "Normalize the data and one hot encode the classes\n",
    "\n",
    "from sklearn.preprocessing import OneHotEncoder\n",
    "ohe = OneHotEncoder()\n",
    "y = ohe.fit_transform(y).toarray()"
   ]
  },
  {
   "cell_type": "code",
   "execution_count": 8,
   "metadata": {
    "colab": {
     "base_uri": "https://localhost:8080/"
    },
    "executionInfo": {
     "elapsed": 211,
     "status": "ok",
     "timestamp": 1617997521013,
     "user": {
      "displayName": "Marc Bosch Ruiz",
      "photoUrl": "https://lh3.googleusercontent.com/a-/AOh14GjKsqjeDCFFAOx1guLPCWKw3osZBOw3STwq8C32Dg=s64",
      "userId": "16142192614257531637"
     },
     "user_tz": 240
    },
    "id": "at6PrQsKUwyC",
    "outputId": "fde2f68c-45d0-4e30-9120-fc1af1eca9a4"
   },
   "outputs": [
    {
     "name": "stdout",
     "output_type": "stream",
     "text": [
      "[[0. 1. 0. 0.]\n",
      " [0. 0. 1. 0.]\n",
      " [0. 0. 1. 0.]\n",
      " ...\n",
      " [0. 0. 0. 1.]\n",
      " [1. 0. 0. 0.]\n",
      " [0. 0. 0. 1.]]\n"
     ]
    }
   ],
   "source": [
    "#Normalizing the data\n",
    "sc = StandardScaler()\n",
    "X = sc.fit_transform(X)\n",
    "\n",
    "#one hot encoding\n",
    "ohe = OneHotEncoder()\n",
    "y = ohe.fit_transform(y).toarray()\n",
    "\n",
    "print(y)"
   ]
  },
  {
   "cell_type": "markdown",
   "metadata": {
    "id": "kKbKNYifwzVH"
   },
   "source": [
    "Split data train and test\n"
   ]
  },
  {
   "cell_type": "code",
   "execution_count": 9,
   "metadata": {
    "executionInfo": {
     "elapsed": 255,
     "status": "ok",
     "timestamp": 1617997522536,
     "user": {
      "displayName": "Marc Bosch Ruiz",
      "photoUrl": "https://lh3.googleusercontent.com/a-/AOh14GjKsqjeDCFFAOx1guLPCWKw3osZBOw3STwq8C32Dg=s64",
      "userId": "16142192614257531637"
     },
     "user_tz": 240
    },
    "id": "ocpAPu9iw4Z8"
   },
   "outputs": [],
   "source": [
    "from sklearn.model_selection import train_test_split\n",
    "X_train,X_test,y_train,y_test = train_test_split(X,y,test_size = 0.1)"
   ]
  },
  {
   "cell_type": "markdown",
   "metadata": {
    "id": "aZ7bn9HyKZjs"
   },
   "source": [
    "Build the neural network"
   ]
  },
  {
   "cell_type": "code",
   "execution_count": 22,
   "metadata": {
    "executionInfo": {
     "elapsed": 315,
     "status": "ok",
     "timestamp": 1617998408720,
     "user": {
      "displayName": "Marc Bosch Ruiz",
      "photoUrl": "https://lh3.googleusercontent.com/a-/AOh14GjKsqjeDCFFAOx1guLPCWKw3osZBOw3STwq8C32Dg=s64",
      "userId": "16142192614257531637"
     },
     "user_tz": 240
    },
    "id": "Ob_63ovrVvLd"
   },
   "outputs": [],
   "source": [
    "# Neural network\n",
    "model = Sequential()\n",
    "model.add(Dense(16, input_dim=20, activation='relu'))\n",
    "model.add(Dense(12, activation='relu'))\n",
    "model.add(Dense(4, activation='softmax'))"
   ]
  },
  {
   "cell_type": "markdown",
   "metadata": {
    "id": "-jbd_4w_KnT9"
   },
   "source": [
    "Set up optimizer and loss"
   ]
  },
  {
   "cell_type": "code",
   "execution_count": 23,
   "metadata": {
    "executionInfo": {
     "elapsed": 238,
     "status": "ok",
     "timestamp": 1617998410226,
     "user": {
      "displayName": "Marc Bosch Ruiz",
      "photoUrl": "https://lh3.googleusercontent.com/a-/AOh14GjKsqjeDCFFAOx1guLPCWKw3osZBOw3STwq8C32Dg=s64",
      "userId": "16142192614257531637"
     },
     "user_tz": 240
    },
    "id": "BolGntGrKndk"
   },
   "outputs": [],
   "source": [
    "model.compile(loss='categorical_crossentropy', optimizer='adam', metrics=['accuracy'])"
   ]
  },
  {
   "cell_type": "markdown",
   "metadata": {
    "id": "sPgGMNDXKr9t"
   },
   "source": [
    "Train the model"
   ]
  },
  {
   "cell_type": "code",
   "execution_count": 24,
   "metadata": {
    "colab": {
     "base_uri": "https://localhost:8080/"
    },
    "executionInfo": {
     "elapsed": 4605,
     "status": "ok",
     "timestamp": 1617998415310,
     "user": {
      "displayName": "Marc Bosch Ruiz",
      "photoUrl": "https://lh3.googleusercontent.com/a-/AOh14GjKsqjeDCFFAOx1guLPCWKw3osZBOw3STwq8C32Dg=s64",
      "userId": "16142192614257531637"
     },
     "user_tz": 240
    },
    "id": "vgteKCP0KsGt",
    "outputId": "0abdcf5a-05bc-48fd-bc89-9d6f23171959"
   },
   "outputs": [
    {
     "name": "stdout",
     "output_type": "stream",
     "text": [
      "Epoch 1/100\n",
      "18/18 [==============================] - 0s 2ms/step - loss: 1.7215 - accuracy: 0.2354\n",
      "Epoch 2/100\n",
      "18/18 [==============================] - 0s 2ms/step - loss: 1.4966 - accuracy: 0.2986\n",
      "Epoch 3/100\n",
      "18/18 [==============================] - 0s 2ms/step - loss: 1.3928 - accuracy: 0.3268\n",
      "Epoch 4/100\n",
      "18/18 [==============================] - 0s 2ms/step - loss: 1.3551 - accuracy: 0.3463\n",
      "Epoch 5/100\n",
      "18/18 [==============================] - 0s 2ms/step - loss: 1.3141 - accuracy: 0.3774\n",
      "Epoch 6/100\n",
      "18/18 [==============================] - 0s 2ms/step - loss: 1.2648 - accuracy: 0.4238\n",
      "Epoch 7/100\n",
      "18/18 [==============================] - 0s 2ms/step - loss: 1.2514 - accuracy: 0.4463\n",
      "Epoch 8/100\n",
      "18/18 [==============================] - 0s 2ms/step - loss: 1.2054 - accuracy: 0.4630\n",
      "Epoch 9/100\n",
      "18/18 [==============================] - 0s 2ms/step - loss: 1.1703 - accuracy: 0.4861\n",
      "Epoch 10/100\n",
      "18/18 [==============================] - 0s 2ms/step - loss: 1.1330 - accuracy: 0.4966\n",
      "Epoch 11/100\n",
      "18/18 [==============================] - 0s 2ms/step - loss: 1.0936 - accuracy: 0.5198\n",
      "Epoch 12/100\n",
      "18/18 [==============================] - 0s 2ms/step - loss: 1.0354 - accuracy: 0.5325\n",
      "Epoch 13/100\n",
      "18/18 [==============================] - 0s 3ms/step - loss: 0.9927 - accuracy: 0.5501\n",
      "Epoch 14/100\n",
      "18/18 [==============================] - 0s 2ms/step - loss: 0.9489 - accuracy: 0.5583\n",
      "Epoch 15/100\n",
      "18/18 [==============================] - 0s 2ms/step - loss: 0.8952 - accuracy: 0.5972\n",
      "Epoch 16/100\n",
      "18/18 [==============================] - 0s 2ms/step - loss: 0.8431 - accuracy: 0.6326\n",
      "Epoch 17/100\n",
      "18/18 [==============================] - 0s 2ms/step - loss: 0.8107 - accuracy: 0.6549\n",
      "Epoch 18/100\n",
      "18/18 [==============================] - 0s 2ms/step - loss: 0.7722 - accuracy: 0.6678\n",
      "Epoch 19/100\n",
      "18/18 [==============================] - 0s 2ms/step - loss: 0.7373 - accuracy: 0.7084\n",
      "Epoch 20/100\n",
      "18/18 [==============================] - 0s 2ms/step - loss: 0.6948 - accuracy: 0.7214\n",
      "Epoch 21/100\n",
      "18/18 [==============================] - 0s 2ms/step - loss: 0.6498 - accuracy: 0.7413\n",
      "Epoch 22/100\n",
      "18/18 [==============================] - 0s 2ms/step - loss: 0.6344 - accuracy: 0.7700\n",
      "Epoch 23/100\n",
      "18/18 [==============================] - 0s 2ms/step - loss: 0.5864 - accuracy: 0.7825\n",
      "Epoch 24/100\n",
      "18/18 [==============================] - 0s 2ms/step - loss: 0.5631 - accuracy: 0.8055\n",
      "Epoch 25/100\n",
      "18/18 [==============================] - 0s 2ms/step - loss: 0.5326 - accuracy: 0.8327\n",
      "Epoch 26/100\n",
      "18/18 [==============================] - 0s 2ms/step - loss: 0.4924 - accuracy: 0.8457\n",
      "Epoch 27/100\n",
      "18/18 [==============================] - 0s 2ms/step - loss: 0.4704 - accuracy: 0.8451\n",
      "Epoch 28/100\n",
      "18/18 [==============================] - 0s 2ms/step - loss: 0.4613 - accuracy: 0.8534\n",
      "Epoch 29/100\n",
      "18/18 [==============================] - 0s 2ms/step - loss: 0.4245 - accuracy: 0.8795\n",
      "Epoch 30/100\n",
      "18/18 [==============================] - 0s 2ms/step - loss: 0.4061 - accuracy: 0.8734\n",
      "Epoch 31/100\n",
      "18/18 [==============================] - 0s 2ms/step - loss: 0.3934 - accuracy: 0.8881\n",
      "Epoch 32/100\n",
      "18/18 [==============================] - 0s 2ms/step - loss: 0.3560 - accuracy: 0.9089\n",
      "Epoch 33/100\n",
      "18/18 [==============================] - 0s 2ms/step - loss: 0.3607 - accuracy: 0.9036\n",
      "Epoch 34/100\n",
      "18/18 [==============================] - 0s 2ms/step - loss: 0.3280 - accuracy: 0.9170\n",
      "Epoch 35/100\n",
      "18/18 [==============================] - 0s 2ms/step - loss: 0.3206 - accuracy: 0.9179\n",
      "Epoch 36/100\n",
      "18/18 [==============================] - 0s 2ms/step - loss: 0.3195 - accuracy: 0.9086\n",
      "Epoch 37/100\n",
      "18/18 [==============================] - 0s 2ms/step - loss: 0.2928 - accuracy: 0.9223\n",
      "Epoch 38/100\n",
      "18/18 [==============================] - 0s 3ms/step - loss: 0.2807 - accuracy: 0.9248\n",
      "Epoch 39/100\n",
      "18/18 [==============================] - 0s 2ms/step - loss: 0.2717 - accuracy: 0.9285\n",
      "Epoch 40/100\n",
      "18/18 [==============================] - 0s 2ms/step - loss: 0.2524 - accuracy: 0.9326\n",
      "Epoch 41/100\n",
      "18/18 [==============================] - 0s 2ms/step - loss: 0.2670 - accuracy: 0.9281\n",
      "Epoch 42/100\n",
      "18/18 [==============================] - 0s 2ms/step - loss: 0.2481 - accuracy: 0.9311\n",
      "Epoch 43/100\n",
      "18/18 [==============================] - 0s 2ms/step - loss: 0.2415 - accuracy: 0.9270\n",
      "Epoch 44/100\n",
      "18/18 [==============================] - 0s 2ms/step - loss: 0.2213 - accuracy: 0.9417\n",
      "Epoch 45/100\n",
      "18/18 [==============================] - 0s 2ms/step - loss: 0.2140 - accuracy: 0.9435\n",
      "Epoch 46/100\n",
      "18/18 [==============================] - 0s 2ms/step - loss: 0.2108 - accuracy: 0.9396\n",
      "Epoch 47/100\n",
      "18/18 [==============================] - 0s 2ms/step - loss: 0.2134 - accuracy: 0.9416\n",
      "Epoch 48/100\n",
      "18/18 [==============================] - 0s 2ms/step - loss: 0.2060 - accuracy: 0.9478\n",
      "Epoch 49/100\n",
      "18/18 [==============================] - 0s 2ms/step - loss: 0.1946 - accuracy: 0.9479\n",
      "Epoch 50/100\n",
      "18/18 [==============================] - 0s 2ms/step - loss: 0.1902 - accuracy: 0.9518\n",
      "Epoch 51/100\n",
      "18/18 [==============================] - 0s 2ms/step - loss: 0.1798 - accuracy: 0.9548\n",
      "Epoch 52/100\n",
      "18/18 [==============================] - 0s 2ms/step - loss: 0.1836 - accuracy: 0.9456\n",
      "Epoch 53/100\n",
      "18/18 [==============================] - 0s 2ms/step - loss: 0.1718 - accuracy: 0.9501\n",
      "Epoch 54/100\n",
      "18/18 [==============================] - 0s 2ms/step - loss: 0.1670 - accuracy: 0.9519\n",
      "Epoch 55/100\n",
      "18/18 [==============================] - 0s 2ms/step - loss: 0.1650 - accuracy: 0.9490\n",
      "Epoch 56/100\n",
      "18/18 [==============================] - 0s 2ms/step - loss: 0.1624 - accuracy: 0.9547\n",
      "Epoch 57/100\n",
      "18/18 [==============================] - 0s 2ms/step - loss: 0.1565 - accuracy: 0.9599\n",
      "Epoch 58/100\n",
      "18/18 [==============================] - 0s 2ms/step - loss: 0.1559 - accuracy: 0.9573\n",
      "Epoch 59/100\n",
      "18/18 [==============================] - 0s 2ms/step - loss: 0.1500 - accuracy: 0.9561\n",
      "Epoch 60/100\n",
      "18/18 [==============================] - 0s 3ms/step - loss: 0.1429 - accuracy: 0.9561\n",
      "Epoch 61/100\n",
      "18/18 [==============================] - 0s 2ms/step - loss: 0.1504 - accuracy: 0.9516\n",
      "Epoch 62/100\n",
      "18/18 [==============================] - 0s 2ms/step - loss: 0.1312 - accuracy: 0.9674\n",
      "Epoch 63/100\n",
      "18/18 [==============================] - 0s 2ms/step - loss: 0.1347 - accuracy: 0.9677\n",
      "Epoch 64/100\n",
      "18/18 [==============================] - 0s 2ms/step - loss: 0.1297 - accuracy: 0.9700\n",
      "Epoch 65/100\n",
      "18/18 [==============================] - 0s 2ms/step - loss: 0.1313 - accuracy: 0.9677\n",
      "Epoch 66/100\n",
      "18/18 [==============================] - 0s 2ms/step - loss: 0.1289 - accuracy: 0.9655\n",
      "Epoch 67/100\n",
      "18/18 [==============================] - 0s 2ms/step - loss: 0.1297 - accuracy: 0.9624\n",
      "Epoch 68/100\n",
      "18/18 [==============================] - 0s 2ms/step - loss: 0.1282 - accuracy: 0.9710\n",
      "Epoch 69/100\n",
      "18/18 [==============================] - 0s 2ms/step - loss: 0.1199 - accuracy: 0.9716\n",
      "Epoch 70/100\n",
      "18/18 [==============================] - 0s 2ms/step - loss: 0.1131 - accuracy: 0.9745\n",
      "Epoch 71/100\n",
      "18/18 [==============================] - 0s 2ms/step - loss: 0.1146 - accuracy: 0.9676\n",
      "Epoch 72/100\n",
      "18/18 [==============================] - 0s 2ms/step - loss: 0.1100 - accuracy: 0.9771\n",
      "Epoch 73/100\n",
      "18/18 [==============================] - 0s 2ms/step - loss: 0.1113 - accuracy: 0.9767\n",
      "Epoch 74/100\n",
      "18/18 [==============================] - 0s 2ms/step - loss: 0.1037 - accuracy: 0.9745\n",
      "Epoch 75/100\n",
      "18/18 [==============================] - 0s 2ms/step - loss: 0.1066 - accuracy: 0.9746\n",
      "Epoch 76/100\n",
      "18/18 [==============================] - 0s 2ms/step - loss: 0.1058 - accuracy: 0.9729\n",
      "Epoch 77/100\n",
      "18/18 [==============================] - 0s 2ms/step - loss: 0.1085 - accuracy: 0.9719\n",
      "Epoch 78/100\n",
      "18/18 [==============================] - 0s 2ms/step - loss: 0.0992 - accuracy: 0.9763\n",
      "Epoch 79/100\n",
      "18/18 [==============================] - 0s 2ms/step - loss: 0.0984 - accuracy: 0.9746\n",
      "Epoch 80/100\n",
      "18/18 [==============================] - 0s 2ms/step - loss: 0.0985 - accuracy: 0.9765\n",
      "Epoch 81/100\n",
      "18/18 [==============================] - 0s 2ms/step - loss: 0.0969 - accuracy: 0.9777\n",
      "Epoch 82/100\n",
      "18/18 [==============================] - 0s 2ms/step - loss: 0.0928 - accuracy: 0.9802\n",
      "Epoch 83/100\n",
      "18/18 [==============================] - 0s 2ms/step - loss: 0.0931 - accuracy: 0.9813\n",
      "Epoch 84/100\n",
      "18/18 [==============================] - 0s 2ms/step - loss: 0.0844 - accuracy: 0.9840\n",
      "Epoch 85/100\n",
      "18/18 [==============================] - 0s 2ms/step - loss: 0.0893 - accuracy: 0.9812\n",
      "Epoch 86/100\n",
      "18/18 [==============================] - 0s 2ms/step - loss: 0.0886 - accuracy: 0.9777\n",
      "Epoch 87/100\n",
      "18/18 [==============================] - 0s 2ms/step - loss: 0.0807 - accuracy: 0.9824\n",
      "Epoch 88/100\n",
      "18/18 [==============================] - 0s 2ms/step - loss: 0.0788 - accuracy: 0.9815\n",
      "Epoch 89/100\n",
      "18/18 [==============================] - 0s 2ms/step - loss: 0.0822 - accuracy: 0.9840\n",
      "Epoch 90/100\n",
      "18/18 [==============================] - 0s 2ms/step - loss: 0.0857 - accuracy: 0.9783\n",
      "Epoch 91/100\n",
      "18/18 [==============================] - 0s 2ms/step - loss: 0.0813 - accuracy: 0.9830\n",
      "Epoch 92/100\n",
      "18/18 [==============================] - 0s 2ms/step - loss: 0.0798 - accuracy: 0.9870\n",
      "Epoch 93/100\n",
      "18/18 [==============================] - 0s 2ms/step - loss: 0.0802 - accuracy: 0.9829\n",
      "Epoch 94/100\n",
      "18/18 [==============================] - 0s 2ms/step - loss: 0.0747 - accuracy: 0.9834\n",
      "Epoch 95/100\n",
      "18/18 [==============================] - 0s 2ms/step - loss: 0.0729 - accuracy: 0.9853\n",
      "Epoch 96/100\n",
      "18/18 [==============================] - 0s 2ms/step - loss: 0.0752 - accuracy: 0.9854\n",
      "Epoch 97/100\n",
      "18/18 [==============================] - 0s 2ms/step - loss: 0.0758 - accuracy: 0.9863\n",
      "Epoch 98/100\n",
      "18/18 [==============================] - 0s 2ms/step - loss: 0.0649 - accuracy: 0.9890\n",
      "Epoch 99/100\n",
      "18/18 [==============================] - 0s 2ms/step - loss: 0.0688 - accuracy: 0.9881\n",
      "Epoch 100/100\n",
      "18/18 [==============================] - 0s 2ms/step - loss: 0.0749 - accuracy: 0.9841\n"
     ]
    }
   ],
   "source": [
    "history = model.fit(X_train, y_train, epochs=100, batch_size=64)"
   ]
  },
  {
   "cell_type": "markdown",
   "metadata": {
    "id": "WeNI4pDsKudm"
   },
   "source": [
    "Check model performance"
   ]
  },
  {
   "cell_type": "code",
   "execution_count": 25,
   "metadata": {
    "colab": {
     "base_uri": "https://localhost:8080/"
    },
    "executionInfo": {
     "elapsed": 1950,
     "status": "ok",
     "timestamp": 1617998415446,
     "user": {
      "displayName": "Marc Bosch Ruiz",
      "photoUrl": "https://lh3.googleusercontent.com/a-/AOh14GjKsqjeDCFFAOx1guLPCWKw3osZBOw3STwq8C32Dg=s64",
      "userId": "16142192614257531637"
     },
     "user_tz": 240
    },
    "id": "PgMRBy_iKuoP",
    "outputId": "b40a6987-2c64-4e58-aba4-3b045cf1fb4a"
   },
   "outputs": [
    {
     "name": "stdout",
     "output_type": "stream",
     "text": [
      "Accuracy is: 94.5\n"
     ]
    }
   ],
   "source": [
    "y_pred = model.predict(X_test)\n",
    "#Converting predictions to label\n",
    "pred = list()\n",
    "for i in range(len(y_pred)):\n",
    "    pred.append(np.argmax(y_pred[i]))\n",
    "#Converting one hot encoded test label to label\n",
    "test = list()\n",
    "for i in range(len(y_test)):\n",
    "    test.append(np.argmax(y_test[i]))\n",
    "\n",
    "a = accuracy_score(pred,test)\n",
    "print('Accuracy is:', a*100)"
   ]
  },
  {
   "cell_type": "markdown",
   "metadata": {
    "id": "8NUE05mDWBbA"
   },
   "source": [
    "See if you can improve the model"
   ]
  },
  {
   "cell_type": "markdown",
   "metadata": {
    "id": "NN6X8kR2rOPU"
   },
   "source": [
    "##Exercise 3. Build your NN\n",
    "Let's import packages and load data"
   ]
  },
  {
   "cell_type": "code",
   "execution_count": 26,
   "metadata": {
    "colab": {
     "base_uri": "https://localhost:8080/",
     "height": 284
    },
    "executionInfo": {
     "elapsed": 734,
     "status": "ok",
     "timestamp": 1617998522932,
     "user": {
      "displayName": "Marc Bosch Ruiz",
      "photoUrl": "https://lh3.googleusercontent.com/a-/AOh14GjKsqjeDCFFAOx1guLPCWKw3osZBOw3STwq8C32Dg=s64",
      "userId": "16142192614257531637"
     },
     "user_tz": 240
    },
    "id": "l5E1PK8MQjkH",
    "outputId": "570cafd8-87d8-406c-9f87-0cfa21569060"
   },
   "outputs": [
    {
     "data": {
      "text/html": [
       "<div>\n",
       "<style scoped>\n",
       "    .dataframe tbody tr th:only-of-type {\n",
       "        vertical-align: middle;\n",
       "    }\n",
       "\n",
       "    .dataframe tbody tr th {\n",
       "        vertical-align: top;\n",
       "    }\n",
       "\n",
       "    .dataframe thead th {\n",
       "        text-align: right;\n",
       "    }\n",
       "</style>\n",
       "<table border=\"1\" class=\"dataframe\">\n",
       "  <thead>\n",
       "    <tr style=\"text-align: right;\">\n",
       "      <th></th>\n",
       "      <th>Pregnancies</th>\n",
       "      <th>Glucose</th>\n",
       "      <th>BloodPressure</th>\n",
       "      <th>SkinThickness</th>\n",
       "      <th>Insulin</th>\n",
       "      <th>BMI</th>\n",
       "      <th>DiabetesPedigreeFunction</th>\n",
       "      <th>Age</th>\n",
       "      <th>Outcome</th>\n",
       "    </tr>\n",
       "  </thead>\n",
       "  <tbody>\n",
       "    <tr>\n",
       "      <th>count</th>\n",
       "      <td>768.000000</td>\n",
       "      <td>768.000000</td>\n",
       "      <td>768.000000</td>\n",
       "      <td>768.000000</td>\n",
       "      <td>768.000000</td>\n",
       "      <td>768.000000</td>\n",
       "      <td>768.000000</td>\n",
       "      <td>768.000000</td>\n",
       "      <td>768.000000</td>\n",
       "    </tr>\n",
       "    <tr>\n",
       "      <th>mean</th>\n",
       "      <td>3.845052</td>\n",
       "      <td>120.894531</td>\n",
       "      <td>69.105469</td>\n",
       "      <td>20.536458</td>\n",
       "      <td>79.799479</td>\n",
       "      <td>31.992578</td>\n",
       "      <td>0.471876</td>\n",
       "      <td>33.240885</td>\n",
       "      <td>0.348958</td>\n",
       "    </tr>\n",
       "    <tr>\n",
       "      <th>std</th>\n",
       "      <td>3.369578</td>\n",
       "      <td>31.972618</td>\n",
       "      <td>19.355807</td>\n",
       "      <td>15.952218</td>\n",
       "      <td>115.244002</td>\n",
       "      <td>7.884160</td>\n",
       "      <td>0.331329</td>\n",
       "      <td>11.760232</td>\n",
       "      <td>0.476951</td>\n",
       "    </tr>\n",
       "    <tr>\n",
       "      <th>min</th>\n",
       "      <td>0.000000</td>\n",
       "      <td>0.000000</td>\n",
       "      <td>0.000000</td>\n",
       "      <td>0.000000</td>\n",
       "      <td>0.000000</td>\n",
       "      <td>0.000000</td>\n",
       "      <td>0.078000</td>\n",
       "      <td>21.000000</td>\n",
       "      <td>0.000000</td>\n",
       "    </tr>\n",
       "    <tr>\n",
       "      <th>25%</th>\n",
       "      <td>1.000000</td>\n",
       "      <td>99.000000</td>\n",
       "      <td>62.000000</td>\n",
       "      <td>0.000000</td>\n",
       "      <td>0.000000</td>\n",
       "      <td>27.300000</td>\n",
       "      <td>0.243750</td>\n",
       "      <td>24.000000</td>\n",
       "      <td>0.000000</td>\n",
       "    </tr>\n",
       "    <tr>\n",
       "      <th>50%</th>\n",
       "      <td>3.000000</td>\n",
       "      <td>117.000000</td>\n",
       "      <td>72.000000</td>\n",
       "      <td>23.000000</td>\n",
       "      <td>30.500000</td>\n",
       "      <td>32.000000</td>\n",
       "      <td>0.372500</td>\n",
       "      <td>29.000000</td>\n",
       "      <td>0.000000</td>\n",
       "    </tr>\n",
       "    <tr>\n",
       "      <th>75%</th>\n",
       "      <td>6.000000</td>\n",
       "      <td>140.250000</td>\n",
       "      <td>80.000000</td>\n",
       "      <td>32.000000</td>\n",
       "      <td>127.250000</td>\n",
       "      <td>36.600000</td>\n",
       "      <td>0.626250</td>\n",
       "      <td>41.000000</td>\n",
       "      <td>1.000000</td>\n",
       "    </tr>\n",
       "    <tr>\n",
       "      <th>max</th>\n",
       "      <td>17.000000</td>\n",
       "      <td>199.000000</td>\n",
       "      <td>122.000000</td>\n",
       "      <td>99.000000</td>\n",
       "      <td>846.000000</td>\n",
       "      <td>67.100000</td>\n",
       "      <td>2.420000</td>\n",
       "      <td>81.000000</td>\n",
       "      <td>1.000000</td>\n",
       "    </tr>\n",
       "  </tbody>\n",
       "</table>\n",
       "</div>"
      ],
      "text/plain": [
       "       Pregnancies     Glucose  ...         Age     Outcome\n",
       "count   768.000000  768.000000  ...  768.000000  768.000000\n",
       "mean      3.845052  120.894531  ...   33.240885    0.348958\n",
       "std       3.369578   31.972618  ...   11.760232    0.476951\n",
       "min       0.000000    0.000000  ...   21.000000    0.000000\n",
       "25%       1.000000   99.000000  ...   24.000000    0.000000\n",
       "50%       3.000000  117.000000  ...   29.000000    0.000000\n",
       "75%       6.000000  140.250000  ...   41.000000    1.000000\n",
       "max      17.000000  199.000000  ...   81.000000    1.000000\n",
       "\n",
       "[8 rows x 9 columns]"
      ]
     },
     "execution_count": 26,
     "metadata": {
      "tags": []
     },
     "output_type": "execute_result"
    }
   ],
   "source": [
    "import tensorflow as tf\n",
    "from keras.models import Sequential\n",
    "import pandas as pd\n",
    "from keras.layers import Dense\n",
    "import numpy as np\n",
    "from sklearn.model_selection import train_test_split\n",
    "from sklearn.preprocessing import StandardScaler\n",
    "from keras.models import Sequential\n",
    "from keras.layers import Dense\n",
    "\n",
    "data = pd.read_csv('/content/gdrive/My Drive/exercises_DL/diabetes.csv', delimiter=',')\n",
    "data.describe()"
   ]
  },
  {
   "cell_type": "markdown",
   "metadata": {
    "id": "ZuqwFUutSUIo"
   },
   "source": [
    "Prepare the data"
   ]
  },
  {
   "cell_type": "code",
   "execution_count": 27,
   "metadata": {
    "executionInfo": {
     "elapsed": 222,
     "status": "ok",
     "timestamp": 1617998525883,
     "user": {
      "displayName": "Marc Bosch Ruiz",
      "photoUrl": "https://lh3.googleusercontent.com/a-/AOh14GjKsqjeDCFFAOx1guLPCWKw3osZBOw3STwq8C32Dg=s64",
      "userId": "16142192614257531637"
     },
     "user_tz": 240
    },
    "id": "18Y2QV1USgLh"
   },
   "outputs": [],
   "source": [
    "labels=data['Outcome']\n",
    "features = data.iloc[:,0:8]\n",
    "\n",
    "\n",
    "X=features\n",
    "\n",
    "y=np.ravel(labels)\n",
    "\n",
    "X_train, X_test, y_train, y_test = train_test_split(X, y, test_size=0.33) \n",
    "\n",
    "scaler = StandardScaler().fit(X_train)\n",
    "\n",
    "X_train = scaler.transform(X_train)\n",
    "\n",
    "X_test = scaler.transform(X_test)  \n",
    "\n"
   ]
  },
  {
   "cell_type": "markdown",
   "metadata": {
    "id": "BtkRypU1SrAY"
   },
   "source": [
    "Build the model"
   ]
  },
  {
   "cell_type": "code",
   "execution_count": 28,
   "metadata": {
    "executionInfo": {
     "elapsed": 257,
     "status": "ok",
     "timestamp": 1617999441115,
     "user": {
      "displayName": "Marc Bosch Ruiz",
      "photoUrl": "https://lh3.googleusercontent.com/a-/AOh14GjKsqjeDCFFAOx1guLPCWKw3osZBOw3STwq8C32Dg=s64",
      "userId": "16142192614257531637"
     },
     "user_tz": 240
    },
    "id": "imc9ie4NSyyX"
   },
   "outputs": [],
   "source": [
    "model = Sequential()\n",
    "\n",
    "model.add(Dense(8, activation='relu', input_shape=(8,)))\n",
    "\n",
    "#your code HERE\n",
    "model.add(Dense(8, activation='relu', input_shape=(8,)))\n",
    "\n",
    "model.add(Dense(8, activation='relu'))\n",
    "\n",
    "model.add(Dense(1, activation='sigmoid'))"
   ]
  },
  {
   "cell_type": "markdown",
   "metadata": {
    "id": "chh2DPooSzc-"
   },
   "source": [
    "Set up the optimizer, loss"
   ]
  },
  {
   "cell_type": "code",
   "execution_count": 29,
   "metadata": {
    "executionInfo": {
     "elapsed": 231,
     "status": "ok",
     "timestamp": 1617999442174,
     "user": {
      "displayName": "Marc Bosch Ruiz",
      "photoUrl": "https://lh3.googleusercontent.com/a-/AOh14GjKsqjeDCFFAOx1guLPCWKw3osZBOw3STwq8C32Dg=s64",
      "userId": "16142192614257531637"
     },
     "user_tz": 240
    },
    "id": "-d59nXwzS3OY"
   },
   "outputs": [],
   "source": [
    "#your code HERE\n",
    "model.compile(loss='binary_crossentropy',\n",
    "              optimizer='sgd',\n",
    "              metrics=['accuracy'])"
   ]
  },
  {
   "cell_type": "markdown",
   "metadata": {
    "id": "d9FA22T8S3x_"
   },
   "source": [
    "Train the model"
   ]
  },
  {
   "cell_type": "code",
   "execution_count": 30,
   "metadata": {
    "colab": {
     "base_uri": "https://localhost:8080/"
    },
    "executionInfo": {
     "elapsed": 1575,
     "status": "ok",
     "timestamp": 1617999445123,
     "user": {
      "displayName": "Marc Bosch Ruiz",
      "photoUrl": "https://lh3.googleusercontent.com/a-/AOh14GjKsqjeDCFFAOx1guLPCWKw3osZBOw3STwq8C32Dg=s64",
      "userId": "16142192614257531637"
     },
     "user_tz": 240
    },
    "id": "4vxP2dz9S5ry",
    "outputId": "d9784353-7b5d-4ac9-a80d-c207ecb897fe"
   },
   "outputs": [
    {
     "name": "stdout",
     "output_type": "stream",
     "text": [
      "Epoch 1/5\n",
      "65/65 [==============================] - 1s 2ms/step - loss: 0.6553 - accuracy: 0.6021\n",
      "Epoch 2/5\n",
      "65/65 [==============================] - 0s 2ms/step - loss: 0.6062 - accuracy: 0.6702\n",
      "Epoch 3/5\n",
      "65/65 [==============================] - 0s 2ms/step - loss: 0.5834 - accuracy: 0.6669\n",
      "Epoch 4/5\n",
      "65/65 [==============================] - 0s 2ms/step - loss: 0.5695 - accuracy: 0.6948\n",
      "Epoch 5/5\n",
      "65/65 [==============================] - 0s 3ms/step - loss: 0.5561 - accuracy: 0.6992\n"
     ]
    },
    {
     "data": {
      "text/plain": [
       "<tensorflow.python.keras.callbacks.History at 0x7f3c6e1a70d0>"
      ]
     },
     "execution_count": 30,
     "metadata": {
      "tags": []
     },
     "output_type": "execute_result"
    }
   ],
   "source": [
    "#your code HERE\n",
    "model.fit(X_train, y_train,epochs=5, batch_size=8, verbose=1)"
   ]
  },
  {
   "cell_type": "markdown",
   "metadata": {
    "id": "vLTKQN5dTC58"
   },
   "source": [
    "Run predictions"
   ]
  },
  {
   "cell_type": "code",
   "execution_count": 32,
   "metadata": {
    "colab": {
     "base_uri": "https://localhost:8080/"
    },
    "executionInfo": {
     "elapsed": 232,
     "status": "ok",
     "timestamp": 1618000446749,
     "user": {
      "displayName": "Marc Bosch Ruiz",
      "photoUrl": "https://lh3.googleusercontent.com/a-/AOh14GjKsqjeDCFFAOx1guLPCWKw3osZBOw3STwq8C32Dg=s64",
      "userId": "16142192614257531637"
     },
     "user_tz": 240
    },
    "id": "Odql2t3VTExq",
    "outputId": "64e29efe-bd83-46ed-d10d-3b4a2bb5af46"
   },
   "outputs": [
    {
     "name": "stdout",
     "output_type": "stream",
     "text": [
      "Accuracy is: 70.07874015748031\n"
     ]
    }
   ],
   "source": [
    "#your code HERE\n",
    "y_pred = model.predict(X_test)\n",
    "\n",
    "#Converting predictions to label\n",
    "\n",
    "pred = list()\n",
    "\n",
    "for i in range(len(y_pred)):\n",
    "\n",
    "    pred.append(1 if y_pred[i] > .5 else 0)\n",
    "\n",
    "#Converting one hot encoded test label to label\n",
    "\n",
    "test = list()\n",
    "\n",
    "for i in range(len(y_test)):\n",
    "\n",
    "    test.append(1 if y_test[i] > .5 else 0)\n",
    "\n",
    "\n",
    "\n",
    "a = accuracy_score(pred,test)\n",
    "\n",
    "print('Accuracy is:', a*100)"
   ]
  }
 ],
 "metadata": {
  "accelerator": "GPU",
  "colab": {
   "collapsed_sections": [],
   "name": "DLTRAINING_exer1_student.ipynb",
   "provenance": []
  },
  "kernelspec": {
   "display_name": "Python 3",
   "language": "python",
   "name": "python3"
  },
  "language_info": {
   "codemirror_mode": {
    "name": "ipython",
    "version": 3
   },
   "file_extension": ".py",
   "mimetype": "text/x-python",
   "name": "python",
   "nbconvert_exporter": "python",
   "pygments_lexer": "ipython3",
   "version": "3.7.7"
  }
 },
 "nbformat": 4,
 "nbformat_minor": 4
}
