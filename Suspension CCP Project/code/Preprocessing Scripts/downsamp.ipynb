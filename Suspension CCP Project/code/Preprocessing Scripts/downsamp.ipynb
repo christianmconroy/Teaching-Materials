{
 "cells": [
  {
   "cell_type": "markdown",
   "metadata": {},
   "source": [
    "# Applying BERT Multilingual Classifier to Predict Account Suspension \n",
    "\n",
    "Phase 2\n",
    "\n",
    "Guidance from: https://github.com/kacossio/TeamPython/blob/master/Bert%20Multilingual%20Embedding.ipynb"
   ]
  },
  {
   "cell_type": "markdown",
   "metadata": {},
   "source": [
    "## 1. Load Packages"
   ]
  },
  {
   "cell_type": "code",
   "execution_count": 1,
   "metadata": {},
   "outputs": [],
   "source": [
    "########## Load Packages\n",
    "import warnings\n",
    "warnings.simplefilter(\"ignore\")\n",
    "\n",
    "import importlib\n",
    "import pandas as pd\n",
    "import numpy as np\n",
    "import re\n",
    "from io import StringIO\n",
    "import itertools\n",
    "import os \n",
    "import time\n",
    "import datetime\n",
    "\n",
    "from io import StringIO # python3; python2: BytesIO \n",
    "import boto3\n",
    "\n",
    "import emoji\n",
    "import random \n",
    "import math\n",
    "\n",
    "from sklearn.model_selection import train_test_split\n",
    "from sklearn.base import BaseEstimator, TransformerMixin\n",
    "from sklearn.pipeline import Pipeline\n",
    "from sklearn.preprocessing import StandardScaler\n",
    "import math"
   ]
  },
  {
   "cell_type": "markdown",
   "metadata": {},
   "source": [
    "## 2. Set parameters"
   ]
  },
  {
   "cell_type": "code",
   "execution_count": 2,
   "metadata": {},
   "outputs": [],
   "source": [
    "# Set Parameters \n",
    "########## Set Parameters\n",
    "\n",
    "# Indicate how many rows to skip before columns\n",
    "# Note: Python uses zero-based indexing, so skiprow=0 begins at the first row of file,\n",
    "# while skiprow=1 begins at the second row.\n",
    "skiprow=0\n",
    "\n",
    "# Indicate name of column that contains text data for analysis\n",
    "text_column = \"text\"\n",
    "\n",
    "import_bucket = \"data/s3_data/full_clean_2/\"\n",
    "\n",
    "embedding_bucket = \"data/s3_data/embeddings/final_embeddings_textclass/\"\n",
    "\n",
    "results_bucket = 'data/s3_data/' # already created on S3"
   ]
  },
  {
   "cell_type": "markdown",
   "metadata": {},
   "source": [
    "## 3. Load in Data"
   ]
  },
  {
   "cell_type": "markdown",
   "metadata": {},
   "source": [
    "### Load in data from S3 - Original Data"
   ]
  },
  {
   "cell_type": "code",
   "execution_count": 3,
   "metadata": {},
   "outputs": [],
   "source": [
    "#### Load in data from S3\n",
    "\n",
    "# Import Train and Measure Balance\n",
    "# Import Flattened Data\n",
    "df_train = pd.read_csv(import_bucket + \"df_train_full_cleaned_pe.csv\", error_bad_lines=False, encoding='utf-8')\n",
    "\n",
    "df_train['suspended'] = pd.to_numeric(df_train['suspended'], errors='coerce')\n",
    "df_train = df_train[df_train['suspended'].notna()]\n",
    "\n",
    "# Import Test and Measure Balance\n",
    "\n",
    "df_test = pd.read_csv(import_bucket + \"df_test_full_cleaned_pe.csv\", error_bad_lines=False, encoding='utf-8')\n",
    "\n",
    "df_test['suspended'] = pd.to_numeric(df_test['suspended'], errors='coerce')\n",
    "df_test = df_test[df_test['suspended'].notna()]\n",
    "\n",
    "# Import Validation and Measure Balance\n",
    "# Import Flattened Data\n",
    "df_valid = pd.read_csv(import_bucket + \"df_valid_full_cleaned_pe.csv\", error_bad_lines=False, encoding='utf-8')\n",
    "\n",
    "df_valid['suspended'] = pd.to_numeric(df_valid['suspended'], errors='coerce')\n",
    "df_valid = df_valid[df_valid['suspended'].notna()]"
   ]
  },
  {
   "cell_type": "code",
   "execution_count": 4,
   "metadata": {},
   "outputs": [],
   "source": [
    "df_train = df_train.drop_duplicates(subset=['id'])\n",
    "df_valid = df_valid.drop_duplicates(subset=['id'])\n",
    "df_test = df_test.drop_duplicates(subset=['id'])"
   ]
  },
  {
   "cell_type": "markdown",
   "metadata": {},
   "source": [
    "### Downsampling train and validation "
   ]
  },
  {
   "cell_type": "markdown",
   "metadata": {},
   "source": [
    "#### Group by Accounts"
   ]
  },
  {
   "cell_type": "markdown",
   "metadata": {},
   "source": [
    "Train"
   ]
  },
  {
   "cell_type": "code",
   "execution_count": 5,
   "metadata": {},
   "outputs": [
    {
     "data": {
      "text/html": [
       "<div>\n",
       "<style scoped>\n",
       "    .dataframe tbody tr th:only-of-type {\n",
       "        vertical-align: middle;\n",
       "    }\n",
       "\n",
       "    .dataframe tbody tr th {\n",
       "        vertical-align: top;\n",
       "    }\n",
       "\n",
       "    .dataframe thead th {\n",
       "        text-align: right;\n",
       "    }\n",
       "</style>\n",
       "<table border=\"1\" class=\"dataframe\">\n",
       "  <thead>\n",
       "    <tr style=\"text-align: right;\">\n",
       "      <th></th>\n",
       "      <th>user.id</th>\n",
       "      <th>user.screen_name</th>\n",
       "      <th>id</th>\n",
       "      <th>suspended</th>\n",
       "    </tr>\n",
       "  </thead>\n",
       "  <tbody>\n",
       "    <tr>\n",
       "      <th>0</th>\n",
       "      <td>1.278130e+18</td>\n",
       "      <td>MMunir50647063</td>\n",
       "      <td>1</td>\n",
       "      <td>0</td>\n",
       "    </tr>\n",
       "    <tr>\n",
       "      <th>1</th>\n",
       "      <td>1.278132e+18</td>\n",
       "      <td>3qex2</td>\n",
       "      <td>63</td>\n",
       "      <td>0</td>\n",
       "    </tr>\n",
       "    <tr>\n",
       "      <th>2</th>\n",
       "      <td>1.278136e+18</td>\n",
       "      <td>SueleWui</td>\n",
       "      <td>1</td>\n",
       "      <td>0</td>\n",
       "    </tr>\n",
       "  </tbody>\n",
       "</table>\n",
       "</div>"
      ],
      "text/plain": [
       "        user.id user.screen_name  id  suspended\n",
       "0  1.278130e+18   MMunir50647063   1          0\n",
       "1  1.278132e+18            3qex2  63          0\n",
       "2  1.278136e+18         SueleWui   1          0"
      ]
     },
     "execution_count": 5,
     "metadata": {},
     "output_type": "execute_result"
    }
   ],
   "source": [
    "df_train_accounts = df_train.groupby(\n",
    "   ['user.id', 'user.screen_name'], as_index=False\n",
    ").agg(\n",
    "    {\n",
    "         'id': 'count',\n",
    "         'suspended': 'mean'\n",
    "    }\n",
    ")\n",
    "df_train_accounts.head(3)"
   ]
  },
  {
   "cell_type": "markdown",
   "metadata": {},
   "source": [
    "Valid"
   ]
  },
  {
   "cell_type": "code",
   "execution_count": 6,
   "metadata": {},
   "outputs": [
    {
     "data": {
      "text/html": [
       "<div>\n",
       "<style scoped>\n",
       "    .dataframe tbody tr th:only-of-type {\n",
       "        vertical-align: middle;\n",
       "    }\n",
       "\n",
       "    .dataframe tbody tr th {\n",
       "        vertical-align: top;\n",
       "    }\n",
       "\n",
       "    .dataframe thead th {\n",
       "        text-align: right;\n",
       "    }\n",
       "</style>\n",
       "<table border=\"1\" class=\"dataframe\">\n",
       "  <thead>\n",
       "    <tr style=\"text-align: right;\">\n",
       "      <th></th>\n",
       "      <th>user.id</th>\n",
       "      <th>user.screen_name</th>\n",
       "      <th>id</th>\n",
       "      <th>suspended</th>\n",
       "    </tr>\n",
       "  </thead>\n",
       "  <tbody>\n",
       "    <tr>\n",
       "      <th>0</th>\n",
       "      <td>1.278120e+18</td>\n",
       "      <td>SFAC_TFA_CN</td>\n",
       "      <td>1038</td>\n",
       "      <td>1</td>\n",
       "    </tr>\n",
       "    <tr>\n",
       "      <th>1</th>\n",
       "      <td>1.278152e+18</td>\n",
       "      <td>85IFYYgf0GGo5Gb</td>\n",
       "      <td>28</td>\n",
       "      <td>0</td>\n",
       "    </tr>\n",
       "    <tr>\n",
       "      <th>2</th>\n",
       "      <td>1.278155e+18</td>\n",
       "      <td>SamuelHPWong1</td>\n",
       "      <td>2</td>\n",
       "      <td>0</td>\n",
       "    </tr>\n",
       "  </tbody>\n",
       "</table>\n",
       "</div>"
      ],
      "text/plain": [
       "        user.id user.screen_name    id  suspended\n",
       "0  1.278120e+18      SFAC_TFA_CN  1038          1\n",
       "1  1.278152e+18  85IFYYgf0GGo5Gb    28          0\n",
       "2  1.278155e+18    SamuelHPWong1     2          0"
      ]
     },
     "execution_count": 6,
     "metadata": {},
     "output_type": "execute_result"
    }
   ],
   "source": [
    "df_valid_accounts = df_valid.groupby(\n",
    "   ['user.id', 'user.screen_name'], as_index=False\n",
    ").agg(\n",
    "    {\n",
    "         'id': 'count',\n",
    "         'suspended': 'mean'\n",
    "    }\n",
    ")\n",
    "df_valid_accounts.head(3)"
   ]
  },
  {
   "cell_type": "markdown",
   "metadata": {},
   "source": [
    "### Check current proportions - Tweets"
   ]
  },
  {
   "cell_type": "markdown",
   "metadata": {},
   "source": [
    "Train"
   ]
  },
  {
   "cell_type": "code",
   "execution_count": 7,
   "metadata": {},
   "outputs": [
    {
     "name": "stdout",
     "output_type": "stream",
     "text": [
      "Non-suspended #: 106870 Suspended #: 8896\n",
      "Non-suspended %: 0.9231553305806541 Suspended %: 0.07684466941934592\n"
     ]
    }
   ],
   "source": [
    "a = len(df_train[df_train['suspended'] == 0])/(len(df_train[df_train['suspended'] == 0]) + len(df_train[df_train['suspended'] == 1]))\n",
    "b = len(df_train[df_train['suspended'] == 1])/(len(df_train[df_train['suspended'] == 0]) + len(df_train[df_train['suspended'] == 1]))\n",
    "nonsus = len(df_train[df_train['suspended'] == 0])\n",
    "sus = len(df_train[df_train['suspended'] == 1])\n",
    "\n",
    "print(\"Non-suspended #:\", nonsus , \"Suspended #:\", sus)\n",
    "print(\"Non-suspended %:\", a, \"Suspended %:\", b)"
   ]
  },
  {
   "cell_type": "markdown",
   "metadata": {},
   "source": [
    "Valid"
   ]
  },
  {
   "cell_type": "code",
   "execution_count": 8,
   "metadata": {},
   "outputs": [
    {
     "name": "stdout",
     "output_type": "stream",
     "text": [
      "Non-suspended #: 28923 Suspended #: 6197\n",
      "Non-suspended %: 0.8235478359908884 Suspended %: 0.17645216400911162\n"
     ]
    }
   ],
   "source": [
    "a = len(df_valid[df_valid['suspended'] == 0])/(len(df_valid[df_valid['suspended'] == 0]) + len(df_valid[df_valid['suspended'] == 1]))\n",
    "b = len(df_valid[df_valid['suspended'] == 1])/(len(df_valid[df_valid['suspended'] == 0]) + len(df_valid[df_valid['suspended'] == 1]))\n",
    "nonsus = len(df_valid[df_valid['suspended'] == 0])\n",
    "sus = len(df_valid[df_valid['suspended'] == 1])\n",
    "\n",
    "print(\"Non-suspended #:\", nonsus , \"Suspended #:\", sus)\n",
    "print(\"Non-suspended %:\", a, \"Suspended %:\", b)"
   ]
  },
  {
   "cell_type": "markdown",
   "metadata": {},
   "source": [
    "### Check current proportions - Accounts"
   ]
  },
  {
   "cell_type": "markdown",
   "metadata": {},
   "source": [
    "Train"
   ]
  },
  {
   "cell_type": "code",
   "execution_count": 9,
   "metadata": {},
   "outputs": [
    {
     "name": "stdout",
     "output_type": "stream",
     "text": [
      "Non-suspended #: 1450 Suspended #: 103\n",
      "Non-suspended %: 0.9336767546683837 Suspended %: 0.06632324533161622\n"
     ]
    }
   ],
   "source": [
    "a = len(df_train_accounts[df_train_accounts['suspended'] == 0])/(len(df_train_accounts[df_train_accounts['suspended'] == 0]) + len(df_train_accounts[df_train_accounts['suspended'] == 1]))\n",
    "b = len(df_train_accounts[df_train_accounts['suspended'] == 1])/(len(df_train_accounts[df_train_accounts['suspended'] == 0]) + len(df_train_accounts[df_train_accounts['suspended'] == 1]))\n",
    "nonsus = len(df_train_accounts[df_train_accounts['suspended'] == 0])\n",
    "sus = len(df_train_accounts[df_train_accounts['suspended'] == 1])\n",
    "\n",
    "print(\"Non-suspended #:\", nonsus , \"Suspended #:\", sus)\n",
    "print(\"Non-suspended %:\", a, \"Suspended %:\", b)"
   ]
  },
  {
   "cell_type": "markdown",
   "metadata": {},
   "source": [
    "Valid"
   ]
  },
  {
   "cell_type": "code",
   "execution_count": 10,
   "metadata": {},
   "outputs": [
    {
     "name": "stdout",
     "output_type": "stream",
     "text": [
      "Non-suspended #: 509 Suspended #: 58\n",
      "Non-suspended %: 0.8977072310405644 Suspended %: 0.10229276895943562\n"
     ]
    }
   ],
   "source": [
    "a = len(df_valid_accounts[df_valid_accounts['suspended'] == 0])/(len(df_valid_accounts[df_valid_accounts['suspended'] == 0]) + len(df_valid_accounts[df_valid_accounts['suspended'] == 1]))\n",
    "b = len(df_valid_accounts[df_valid_accounts['suspended'] == 1])/(len(df_valid_accounts[df_valid_accounts['suspended'] == 0]) + len(df_valid_accounts[df_valid_accounts['suspended'] == 1]))\n",
    "nonsus = len(df_valid_accounts[df_valid_accounts['suspended'] == 0])\n",
    "sus = len(df_valid_accounts[df_valid_accounts['suspended'] == 1])\n",
    "\n",
    "print(\"Non-suspended #:\", nonsus , \"Suspended #:\", sus)\n",
    "print(\"Non-suspended %:\", a, \"Suspended %:\", b)"
   ]
  },
  {
   "cell_type": "markdown",
   "metadata": {},
   "source": [
    "### Sample by Accounts "
   ]
  },
  {
   "cell_type": "markdown",
   "metadata": {},
   "source": [
    "Train"
   ]
  },
  {
   "cell_type": "code",
   "execution_count": 11,
   "metadata": {},
   "outputs": [
    {
     "data": {
      "text/plain": [
       "0    208\n",
       "1    103\n",
       "Name: suspended, dtype: int64"
      ]
     },
     "execution_count": 11,
     "metadata": {},
     "output_type": "execute_result"
    }
   ],
   "source": [
    "from sklearn.utils import resample\n",
    "\n",
    "# Separate majority and minority classes\n",
    "df_majority = df_train_accounts[df_train_accounts.suspended==0]\n",
    "df_minority = df_train_accounts[df_train_accounts.suspended==1]\n",
    " \n",
    "# Downsample majority class\n",
    "df_majority_downsampled = resample(df_majority, \n",
    "                                 replace=False,    # sample without replacement\n",
    "                                 n_samples=sus+150,     # to match minority class (Use higher to account for fact that susp accounts tweet more)\n",
    "                                 random_state=123) # reproducible results\n",
    "\n",
    "# Combine minority class with downsampled majority class\n",
    "df_downsampled_train = pd.concat([df_majority_downsampled, df_minority])\n",
    "\n",
    "# Display new class counts\n",
    "df_downsampled_train.suspended.value_counts()\n",
    "# 1    195\n",
    "# 0    195\n",
    "# Name: balance, dtype: int64"
   ]
  },
  {
   "cell_type": "markdown",
   "metadata": {},
   "source": [
    "Valid"
   ]
  },
  {
   "cell_type": "code",
   "execution_count": 12,
   "metadata": {},
   "outputs": [
    {
     "data": {
      "text/plain": [
       "0    103\n",
       "1     58\n",
       "Name: suspended, dtype: int64"
      ]
     },
     "execution_count": 12,
     "metadata": {},
     "output_type": "execute_result"
    }
   ],
   "source": [
    "from sklearn.utils import resample\n",
    "\n",
    "# Separate majority and minority classes\n",
    "df_majority = df_valid_accounts[df_valid_accounts.suspended==0]\n",
    "df_minority = df_valid_accounts[df_valid_accounts.suspended==1]\n",
    " \n",
    "# Downsample majority class\n",
    "df_majority_downsampled = resample(df_majority, \n",
    "                                 replace=False,    # sample without replacement\n",
    "                                 n_samples=sus+45,     # to match minority class (Use higher to account for fact that susp accounts tweet more)\n",
    "                                 random_state=123) # reproducible results\n",
    "\n",
    "# Combine minority class with downsampled majority class\n",
    "df_downsampled_valid = pd.concat([df_majority_downsampled, df_minority])\n",
    "\n",
    "# Display new class counts\n",
    "df_downsampled_valid.suspended.value_counts()\n",
    "# 1    195\n",
    "# 0    195\n",
    "# Name: balance, dtype: int64"
   ]
  },
  {
   "cell_type": "markdown",
   "metadata": {},
   "source": [
    "### Check new Datasets"
   ]
  },
  {
   "cell_type": "markdown",
   "metadata": {},
   "source": [
    "Train"
   ]
  },
  {
   "cell_type": "code",
   "execution_count": 13,
   "metadata": {},
   "outputs": [
    {
     "data": {
      "text/html": [
       "<div>\n",
       "<style scoped>\n",
       "    .dataframe tbody tr th:only-of-type {\n",
       "        vertical-align: middle;\n",
       "    }\n",
       "\n",
       "    .dataframe tbody tr th {\n",
       "        vertical-align: top;\n",
       "    }\n",
       "\n",
       "    .dataframe thead th {\n",
       "        text-align: right;\n",
       "    }\n",
       "</style>\n",
       "<table border=\"1\" class=\"dataframe\">\n",
       "  <thead>\n",
       "    <tr style=\"text-align: right;\">\n",
       "      <th></th>\n",
       "      <th>user.id</th>\n",
       "      <th>user.screen_name</th>\n",
       "      <th>id</th>\n",
       "      <th>suspended</th>\n",
       "    </tr>\n",
       "  </thead>\n",
       "  <tbody>\n",
       "    <tr>\n",
       "      <th>855</th>\n",
       "      <td>1.282102e+18</td>\n",
       "      <td>Geoff58974426</td>\n",
       "      <td>14</td>\n",
       "      <td>0</td>\n",
       "    </tr>\n",
       "    <tr>\n",
       "      <th>1405</th>\n",
       "      <td>1.285779e+18</td>\n",
       "      <td>36MDIPu0Q8RTaIf</td>\n",
       "      <td>2</td>\n",
       "      <td>0</td>\n",
       "    </tr>\n",
       "    <tr>\n",
       "      <th>1103</th>\n",
       "      <td>1.283425e+18</td>\n",
       "      <td>xiems33</td>\n",
       "      <td>3</td>\n",
       "      <td>0</td>\n",
       "    </tr>\n",
       "    <tr>\n",
       "      <th>556</th>\n",
       "      <td>1.280540e+18</td>\n",
       "      <td>Hamza92062210</td>\n",
       "      <td>1</td>\n",
       "      <td>0</td>\n",
       "    </tr>\n",
       "    <tr>\n",
       "      <th>177</th>\n",
       "      <td>1.278758e+18</td>\n",
       "      <td>chib_saqib</td>\n",
       "      <td>3</td>\n",
       "      <td>0</td>\n",
       "    </tr>\n",
       "  </tbody>\n",
       "</table>\n",
       "</div>"
      ],
      "text/plain": [
       "           user.id user.screen_name  id  suspended\n",
       "855   1.282102e+18    Geoff58974426  14          0\n",
       "1405  1.285779e+18  36MDIPu0Q8RTaIf   2          0\n",
       "1103  1.283425e+18          xiems33   3          0\n",
       "556   1.280540e+18    Hamza92062210   1          0\n",
       "177   1.278758e+18       chib_saqib   3          0"
      ]
     },
     "execution_count": 13,
     "metadata": {},
     "output_type": "execute_result"
    }
   ],
   "source": [
    "df_downsampled_train.head()"
   ]
  },
  {
   "cell_type": "markdown",
   "metadata": {},
   "source": [
    "Valid"
   ]
  },
  {
   "cell_type": "code",
   "execution_count": 14,
   "metadata": {},
   "outputs": [
    {
     "data": {
      "text/html": [
       "<div>\n",
       "<style scoped>\n",
       "    .dataframe tbody tr th:only-of-type {\n",
       "        vertical-align: middle;\n",
       "    }\n",
       "\n",
       "    .dataframe tbody tr th {\n",
       "        vertical-align: top;\n",
       "    }\n",
       "\n",
       "    .dataframe thead th {\n",
       "        text-align: right;\n",
       "    }\n",
       "</style>\n",
       "<table border=\"1\" class=\"dataframe\">\n",
       "  <thead>\n",
       "    <tr style=\"text-align: right;\">\n",
       "      <th></th>\n",
       "      <th>user.id</th>\n",
       "      <th>user.screen_name</th>\n",
       "      <th>id</th>\n",
       "      <th>suspended</th>\n",
       "    </tr>\n",
       "  </thead>\n",
       "  <tbody>\n",
       "    <tr>\n",
       "      <th>6</th>\n",
       "      <td>1.278219e+18</td>\n",
       "      <td>ayikzhi</td>\n",
       "      <td>9</td>\n",
       "      <td>0</td>\n",
       "    </tr>\n",
       "    <tr>\n",
       "      <th>298</th>\n",
       "      <td>1.281543e+18</td>\n",
       "      <td>frrsj1lgGxTnV5B</td>\n",
       "      <td>289</td>\n",
       "      <td>0</td>\n",
       "    </tr>\n",
       "    <tr>\n",
       "      <th>93</th>\n",
       "      <td>1.279014e+18</td>\n",
       "      <td>zhangta50319667</td>\n",
       "      <td>17</td>\n",
       "      <td>0</td>\n",
       "    </tr>\n",
       "    <tr>\n",
       "      <th>293</th>\n",
       "      <td>1.281517e+18</td>\n",
       "      <td>armanmani4211</td>\n",
       "      <td>1</td>\n",
       "      <td>0</td>\n",
       "    </tr>\n",
       "    <tr>\n",
       "      <th>346</th>\n",
       "      <td>1.282462e+18</td>\n",
       "      <td>u3XewM7yE9s6JYV</td>\n",
       "      <td>4</td>\n",
       "      <td>0</td>\n",
       "    </tr>\n",
       "  </tbody>\n",
       "</table>\n",
       "</div>"
      ],
      "text/plain": [
       "          user.id user.screen_name   id  suspended\n",
       "6    1.278219e+18          ayikzhi    9          0\n",
       "298  1.281543e+18  frrsj1lgGxTnV5B  289          0\n",
       "93   1.279014e+18  zhangta50319667   17          0\n",
       "293  1.281517e+18    armanmani4211    1          0\n",
       "346  1.282462e+18  u3XewM7yE9s6JYV    4          0"
      ]
     },
     "execution_count": 14,
     "metadata": {},
     "output_type": "execute_result"
    }
   ],
   "source": [
    "df_downsampled_valid.head()"
   ]
  },
  {
   "cell_type": "markdown",
   "metadata": {},
   "source": [
    "### Subset out by accounts "
   ]
  },
  {
   "cell_type": "markdown",
   "metadata": {},
   "source": [
    "Train"
   ]
  },
  {
   "cell_type": "code",
   "execution_count": 15,
   "metadata": {},
   "outputs": [],
   "source": [
    "df_train_downsampled = df_train[df_train['user.id'].isin(df_downsampled_train['user.id'].tolist())]"
   ]
  },
  {
   "cell_type": "code",
   "execution_count": 16,
   "metadata": {},
   "outputs": [
    {
     "data": {
      "text/plain": [
       "26663"
      ]
     },
     "execution_count": 16,
     "metadata": {},
     "output_type": "execute_result"
    }
   ],
   "source": [
    "len(df_train_downsampled)"
   ]
  },
  {
   "cell_type": "markdown",
   "metadata": {},
   "source": [
    "Valid"
   ]
  },
  {
   "cell_type": "code",
   "execution_count": 17,
   "metadata": {},
   "outputs": [],
   "source": [
    "df_valid_downsampled = df_valid[df_valid['user.id'].isin(df_downsampled_valid['user.id'].tolist())]"
   ]
  },
  {
   "cell_type": "code",
   "execution_count": 18,
   "metadata": {},
   "outputs": [
    {
     "data": {
      "text/plain": [
       "10472"
      ]
     },
     "execution_count": 18,
     "metadata": {},
     "output_type": "execute_result"
    }
   ],
   "source": [
    "len(df_valid_downsampled)"
   ]
  },
  {
   "cell_type": "markdown",
   "metadata": {},
   "source": [
    "### Check new proportions - Tweets"
   ]
  },
  {
   "cell_type": "markdown",
   "metadata": {},
   "source": [
    "Train"
   ]
  },
  {
   "cell_type": "code",
   "execution_count": 19,
   "metadata": {},
   "outputs": [
    {
     "name": "stdout",
     "output_type": "stream",
     "text": [
      "Non-suspended #: 17767 Suspended #: 8896\n",
      "Non-suspended %: 0.6663541236920076 Suspended %: 0.33364587630799236\n"
     ]
    }
   ],
   "source": [
    "a = len(df_train_downsampled[df_train_downsampled['suspended'] == 0])/(len(df_train_downsampled[df_train_downsampled['suspended'] == 0]) + len(df_train_downsampled[df_train_downsampled['suspended'] == 1]))\n",
    "b = len(df_train_downsampled[df_train_downsampled['suspended'] == 1])/(len(df_train_downsampled[df_train_downsampled['suspended'] == 0]) + len(df_train_downsampled[df_train_downsampled['suspended'] == 1]))\n",
    "nonsus = len(df_train_downsampled[df_train_downsampled['suspended'] == 0])\n",
    "sus = len(df_train_downsampled[df_train_downsampled['suspended'] == 1])\n",
    "\n",
    "print(\"Non-suspended #:\", nonsus , \"Suspended #:\", sus)\n",
    "print(\"Non-suspended %:\", a, \"Suspended %:\", b)"
   ]
  },
  {
   "cell_type": "markdown",
   "metadata": {},
   "source": [
    "Valid"
   ]
  },
  {
   "cell_type": "code",
   "execution_count": 20,
   "metadata": {},
   "outputs": [
    {
     "name": "stdout",
     "output_type": "stream",
     "text": [
      "Non-suspended #: 4275 Suspended #: 6197\n",
      "Non-suspended %: 0.408231474407945 Suspended %: 0.591768525592055\n"
     ]
    }
   ],
   "source": [
    "a = len(df_valid_downsampled[df_valid_downsampled['suspended'] == 0])/(len(df_valid_downsampled[df_valid_downsampled['suspended'] == 0]) + len(df_valid_downsampled[df_valid_downsampled['suspended'] == 1]))\n",
    "b = len(df_valid_downsampled[df_valid_downsampled['suspended'] == 1])/(len(df_valid_downsampled[df_valid_downsampled['suspended'] == 0]) + len(df_valid_downsampled[df_valid_downsampled['suspended'] == 1]))\n",
    "nonsus = len(df_valid_downsampled[df_valid_downsampled['suspended'] == 0])\n",
    "sus = len(df_valid_downsampled[df_valid_downsampled['suspended'] == 1])\n",
    "\n",
    "print(\"Non-suspended #:\", nonsus , \"Suspended #:\", sus)\n",
    "print(\"Non-suspended %:\", a, \"Suspended %:\", b)"
   ]
  },
  {
   "cell_type": "code",
   "execution_count": 21,
   "metadata": {},
   "outputs": [],
   "source": [
    "df_train = df_train_downsampled.copy()\n",
    "df_valid = df_valid_downsampled.copy()"
   ]
  },
  {
   "cell_type": "code",
   "execution_count": 22,
   "metadata": {},
   "outputs": [],
   "source": [
    "# Check Lengths and Proportions"
   ]
  },
  {
   "cell_type": "code",
   "execution_count": 23,
   "metadata": {},
   "outputs": [],
   "source": [
    "# Tweets"
   ]
  },
  {
   "cell_type": "code",
   "execution_count": 24,
   "metadata": {},
   "outputs": [
    {
     "name": "stdout",
     "output_type": "stream",
     "text": [
      "full train: 26663 percent train: 0.37045321921805097 full valid: 10472 percent valid: 0.14549698502236919 full test: 34839 percent test: 0.48404979575957985\n"
     ]
    }
   ],
   "source": [
    "full = len(df_train) + len(df_valid) + len(df_test)\n",
    "print(\"full train:\", len(df_train), \"percent train:\", len(df_train)/full, \n",
    "      \"full valid:\", len(df_valid), \"percent valid:\", len(df_valid)/full, \n",
    "      \"full test:\", len(df_test), \"percent test:\", len(df_test)/full)"
   ]
  },
  {
   "cell_type": "code",
   "execution_count": 25,
   "metadata": {},
   "outputs": [],
   "source": [
    "# Accounts"
   ]
  },
  {
   "cell_type": "code",
   "execution_count": 26,
   "metadata": {},
   "outputs": [
    {
     "name": "stdout",
     "output_type": "stream",
     "text": [
      "full train: 311 percent train: 0.31573604060913707 full valid: 161 percent valid: 0.1634517766497462 full test: 513 percent test: 0.5208121827411167\n"
     ]
    }
   ],
   "source": [
    "df_train_accounts = df_train.groupby(\n",
    "   ['user.id', 'user.screen_name'], as_index=False\n",
    ").agg(\n",
    "    {\n",
    "         'id': 'count',\n",
    "         'suspended': 'mean'\n",
    "    }\n",
    ")\n",
    "\n",
    "df_valid_accounts = df_valid.groupby(\n",
    "   ['user.id', 'user.screen_name'], as_index=False\n",
    ").agg(\n",
    "    {\n",
    "         'id': 'count',\n",
    "         'suspended': 'mean'\n",
    "    }\n",
    ")\n",
    "\n",
    "df_test_accounts = df_test.groupby(\n",
    "   ['user.id', 'user.screen_name'], as_index=False\n",
    ").agg(\n",
    "    {\n",
    "         'id': 'count',\n",
    "         'suspended': 'mean'\n",
    "    }\n",
    ")\n",
    "\n",
    "\n",
    "full = len(df_train_accounts) + len(df_valid_accounts) + len(df_test_accounts)\n",
    "print(\"full train:\", len(df_train_accounts), \"percent train:\", len(df_train_accounts)/full, \n",
    "      \"full valid:\", len(df_valid_accounts), \"percent valid:\", len(df_valid_accounts)/full, \n",
    "      \"full test:\", len(df_test_accounts), \"percent test:\", len(df_test_accounts)/full)"
   ]
  },
  {
   "cell_type": "markdown",
   "metadata": {},
   "source": [
    "### Check Balance Proportions"
   ]
  },
  {
   "cell_type": "markdown",
   "metadata": {},
   "source": [
    "#### Tweets"
   ]
  },
  {
   "cell_type": "markdown",
   "metadata": {},
   "source": [
    "Train"
   ]
  },
  {
   "cell_type": "code",
   "execution_count": 27,
   "metadata": {},
   "outputs": [
    {
     "name": "stdout",
     "output_type": "stream",
     "text": [
      "Non-suspended #: 17767 Suspended #: 8896\n",
      "Non-suspended %: 0.6663541236920076 Suspended %: 0.33364587630799236\n"
     ]
    }
   ],
   "source": [
    "a = len(df_train[df_train['suspended'] == 0])/(len(df_train[df_train['suspended'] == 0]) + len(df_train[df_train['suspended'] == 1]))\n",
    "b = len(df_train[df_train['suspended'] == 1])/(len(df_train[df_train['suspended'] == 0]) + len(df_train[df_train['suspended'] == 1]))\n",
    "nonsus = len(df_train[df_train['suspended'] == 0])\n",
    "sus = len(df_train[df_train['suspended'] == 1])\n",
    "\n",
    "print(\"Non-suspended #:\", nonsus , \"Suspended #:\", sus)\n",
    "print(\"Non-suspended %:\", a, \"Suspended %:\", b)"
   ]
  },
  {
   "cell_type": "markdown",
   "metadata": {},
   "source": [
    "Valid"
   ]
  },
  {
   "cell_type": "code",
   "execution_count": 28,
   "metadata": {},
   "outputs": [
    {
     "name": "stdout",
     "output_type": "stream",
     "text": [
      "Non-suspended #: 4275 Suspended #: 6197\n",
      "Non-suspended %: 0.408231474407945 Suspended %: 0.591768525592055\n"
     ]
    }
   ],
   "source": [
    "a = len(df_valid[df_valid['suspended'] == 0])/(len(df_valid[df_valid['suspended'] == 0]) + len(df_valid[df_valid['suspended'] == 1]))\n",
    "b = len(df_valid[df_valid['suspended'] == 1])/(len(df_valid[df_valid['suspended'] == 0]) + len(df_valid[df_valid['suspended'] == 1]))\n",
    "nonsus = len(df_valid[df_valid['suspended'] == 0])\n",
    "sus = len(df_valid[df_valid['suspended'] == 1])\n",
    "\n",
    "print(\"Non-suspended #:\", nonsus , \"Suspended #:\", sus)\n",
    "print(\"Non-suspended %:\", a, \"Suspended %:\", b)"
   ]
  },
  {
   "cell_type": "markdown",
   "metadata": {},
   "source": [
    "Test"
   ]
  },
  {
   "cell_type": "code",
   "execution_count": 29,
   "metadata": {},
   "outputs": [
    {
     "name": "stdout",
     "output_type": "stream",
     "text": [
      "Non-suspended #: 31795 Suspended #: 3044\n",
      "Non-suspended %: 0.9126266540371423 Suspended %: 0.08737334596285772\n"
     ]
    }
   ],
   "source": [
    "a = len(df_test[df_test['suspended'] == 0])/(len(df_test[df_test['suspended'] == 0]) + len(df_test[df_test['suspended'] == 1]))\n",
    "b = len(df_test[df_test['suspended'] == 1])/(len(df_test[df_test['suspended'] == 0]) + len(df_test[df_test['suspended'] == 1]))\n",
    "nonsus = len(df_test[df_test['suspended'] == 0])\n",
    "sus = len(df_test[df_test['suspended'] == 1])\n",
    "\n",
    "print(\"Non-suspended #:\", nonsus , \"Suspended #:\", sus)\n",
    "print(\"Non-suspended %:\", a, \"Suspended %:\", b)"
   ]
  },
  {
   "cell_type": "markdown",
   "metadata": {},
   "source": [
    "#### Accounts"
   ]
  },
  {
   "cell_type": "markdown",
   "metadata": {},
   "source": [
    "Train"
   ]
  },
  {
   "cell_type": "code",
   "execution_count": 30,
   "metadata": {},
   "outputs": [
    {
     "name": "stdout",
     "output_type": "stream",
     "text": [
      "Non-suspended #: 208 Suspended #: 103\n",
      "Non-suspended %: 0.6688102893890675 Suspended %: 0.3311897106109325\n"
     ]
    }
   ],
   "source": [
    "a = len(df_train_accounts[df_train_accounts['suspended'] == 0])/(len(df_train_accounts[df_train_accounts['suspended'] == 0]) + len(df_train_accounts[df_train_accounts['suspended'] == 1]))\n",
    "b = len(df_train_accounts[df_train_accounts['suspended'] == 1])/(len(df_train_accounts[df_train_accounts['suspended'] == 0]) + len(df_train_accounts[df_train_accounts['suspended'] == 1]))\n",
    "nonsus = len(df_train_accounts[df_train_accounts['suspended'] == 0])\n",
    "sus = len(df_train_accounts[df_train_accounts['suspended'] == 1])\n",
    "\n",
    "print(\"Non-suspended #:\", nonsus , \"Suspended #:\", sus)\n",
    "print(\"Non-suspended %:\", a, \"Suspended %:\", b)"
   ]
  },
  {
   "cell_type": "markdown",
   "metadata": {},
   "source": [
    "Valid"
   ]
  },
  {
   "cell_type": "code",
   "execution_count": 31,
   "metadata": {},
   "outputs": [
    {
     "name": "stdout",
     "output_type": "stream",
     "text": [
      "Non-suspended #: 103 Suspended #: 58\n",
      "Non-suspended %: 0.639751552795031 Suspended %: 0.36024844720496896\n"
     ]
    }
   ],
   "source": [
    "a = len(df_valid_accounts[df_valid_accounts['suspended'] == 0])/(len(df_valid_accounts[df_valid_accounts['suspended'] == 0]) + len(df_valid_accounts[df_valid_accounts['suspended'] == 1]))\n",
    "b = len(df_valid_accounts[df_valid_accounts['suspended'] == 1])/(len(df_valid_accounts[df_valid_accounts['suspended'] == 0]) + len(df_valid_accounts[df_valid_accounts['suspended'] == 1]))\n",
    "nonsus = len(df_valid_accounts[df_valid_accounts['suspended'] == 0])\n",
    "sus = len(df_valid_accounts[df_valid_accounts['suspended'] == 1])\n",
    "\n",
    "print(\"Non-suspended #:\", nonsus , \"Suspended #:\", sus)\n",
    "print(\"Non-suspended %:\", a, \"Suspended %:\", b)"
   ]
  },
  {
   "cell_type": "markdown",
   "metadata": {},
   "source": [
    "Test"
   ]
  },
  {
   "cell_type": "code",
   "execution_count": 32,
   "metadata": {},
   "outputs": [
    {
     "name": "stdout",
     "output_type": "stream",
     "text": [
      "Non-suspended #: 479 Suspended #: 34\n",
      "Non-suspended %: 0.9337231968810916 Suspended %: 0.06627680311890838\n"
     ]
    }
   ],
   "source": [
    "a = len(df_test_accounts[df_test_accounts['suspended'] == 0])/(len(df_test_accounts[df_test_accounts['suspended'] == 0]) + len(df_test_accounts[df_test_accounts['suspended'] == 1]))\n",
    "b = len(df_test_accounts[df_test_accounts['suspended'] == 1])/(len(df_test_accounts[df_test_accounts['suspended'] == 0]) + len(df_test_accounts[df_test_accounts['suspended'] == 1]))\n",
    "nonsus = len(df_test_accounts[df_test_accounts['suspended'] == 0])\n",
    "sus = len(df_test_accounts[df_test_accounts['suspended'] == 1])\n",
    "\n",
    "print(\"Non-suspended #:\", nonsus , \"Suspended #:\", sus)\n",
    "print(\"Non-suspended %:\", a, \"Suspended %:\", b)"
   ]
  },
  {
   "cell_type": "code",
   "execution_count": 204,
   "metadata": {},
   "outputs": [],
   "source": [
    "## Save Downsampled Output"
   ]
  },
  {
   "cell_type": "code",
   "execution_count": 34,
   "metadata": {},
   "outputs": [],
   "source": [
    "df_train.to_csv(results_bucket + 'downsamp_df_train_full_cleaned_pe.csv', index=False, encoding = \"utf_8_sig\")\n",
    "df_test.to_csv(results_bucket + 'downsamp_df_test_full_cleaned_pe.csv', index=False, encoding = \"utf_8_sig\")\n",
    "df_valid.to_csv(results_bucket + 'downsamp_df_valid_full_cleaned_pe.csv', index=False, encoding = \"utf_8_sig\")"
   ]
  },
  {
   "cell_type": "code",
   "execution_count": null,
   "metadata": {},
   "outputs": [],
   "source": []
  }
 ],
 "metadata": {
  "kernelspec": {
   "display_name": "Python 3",
   "language": "python",
   "name": "python3"
  },
  "language_info": {
   "codemirror_mode": {
    "name": "ipython",
    "version": 3
   },
   "file_extension": ".py",
   "mimetype": "text/x-python",
   "name": "python",
   "nbconvert_exporter": "python",
   "pygments_lexer": "ipython3",
   "version": "3.7.7"
  }
 },
 "nbformat": 4,
 "nbformat_minor": 4
}
