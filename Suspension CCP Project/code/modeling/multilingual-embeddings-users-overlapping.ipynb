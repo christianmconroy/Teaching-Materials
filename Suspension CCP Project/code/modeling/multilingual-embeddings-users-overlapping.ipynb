{
 "cells": [
  {
   "cell_type": "markdown",
   "metadata": {
    "papermill": {
     "duration": 0.064411,
     "end_time": "2021-05-17T15:30:18.586429",
     "exception": false,
     "start_time": "2021-05-17T15:30:18.522018",
     "status": "completed"
    },
    "tags": []
   },
   "source": [
    "### Load in Packages and Set Up Parameters"
   ]
  },
  {
   "cell_type": "code",
   "execution_count": 1,
   "metadata": {
    "_cell_guid": "b1076dfc-b9ad-4769-8c92-a6c4dae69d19",
    "_uuid": "8f2839f25d086af736a60e9eeb907d3b93b6e0e5",
    "execution": {
     "iopub.execute_input": "2021-05-17T15:30:18.746619Z",
     "iopub.status.busy": "2021-05-17T15:30:18.745915Z",
     "iopub.status.idle": "2021-05-17T15:30:23.394035Z",
     "shell.execute_reply": "2021-05-17T15:30:23.392990Z"
    },
    "papermill": {
     "duration": 4.715242,
     "end_time": "2021-05-17T15:30:23.394147",
     "exception": false,
     "start_time": "2021-05-17T15:30:18.678905",
     "status": "completed"
    },
    "tags": []
   },
   "outputs": [],
   "source": [
    "import pandas as pd\n",
    "from keras.preprocessing.sequence import pad_sequences\n",
    "\n",
    "import matplotlib.pyplot as plt\n",
    "%matplotlib inline"
   ]
  },
  {
   "cell_type": "code",
   "execution_count": 2,
   "metadata": {
    "execution": {
     "iopub.execute_input": "2021-05-17T15:30:25.555889Z",
     "iopub.status.busy": "2021-05-17T15:30:25.555045Z",
     "iopub.status.idle": "2021-05-17T15:30:25.559152Z",
     "shell.execute_reply": "2021-05-17T15:30:25.559575Z"
    },
    "papermill": {
     "duration": 2.06069,
     "end_time": "2021-05-17T15:30:25.559706",
     "exception": false,
     "start_time": "2021-05-17T15:30:23.499016",
     "status": "completed"
    },
    "tags": []
   },
   "outputs": [
    {
     "name": "stdout",
     "output_type": "stream",
     "text": [
      "Found GPU at: /device:GPU:0\n"
     ]
    }
   ],
   "source": [
    "import tensorflow as tf\n",
    "# Get the GPU device name.\n",
    "device_name = tf.test.gpu_device_name()\n",
    "# The device name should look like the following:\n",
    "if device_name == '/device:GPU:0':\n",
    "    print('Found GPU at: {}'.format(device_name))\n",
    "else:\n",
    "    raise SystemError('GPU device not found')"
   ]
  },
  {
   "cell_type": "markdown",
   "metadata": {
    "papermill": {
     "duration": 0.06227,
     "end_time": "2021-05-17T15:30:25.685283",
     "exception": false,
     "start_time": "2021-05-17T15:30:25.623013",
     "status": "completed"
    },
    "tags": []
   },
   "source": [
    "In order for torch to use the GPU, we need to identify and specify the GPU as the device. Later, in our training loop, we will load data onto the device."
   ]
  },
  {
   "cell_type": "code",
   "execution_count": 3,
   "metadata": {
    "execution": {
     "iopub.execute_input": "2021-05-17T15:30:25.814004Z",
     "iopub.status.busy": "2021-05-17T15:30:25.813297Z",
     "iopub.status.idle": "2021-05-17T15:30:26.908733Z",
     "shell.execute_reply": "2021-05-17T15:30:26.909822Z"
    },
    "papermill": {
     "duration": 1.163045,
     "end_time": "2021-05-17T15:30:26.910016",
     "exception": false,
     "start_time": "2021-05-17T15:30:25.746971",
     "status": "completed"
    },
    "tags": []
   },
   "outputs": [
    {
     "name": "stdout",
     "output_type": "stream",
     "text": [
      "There are 1 GPU(s) available.\n",
      "We will use the GPU: Tesla P100-PCIE-16GB\n"
     ]
    }
   ],
   "source": [
    "import torch\n",
    "# If there's a GPU available...\n",
    "if torch.cuda.is_available():    \n",
    "    # Tell PyTorch to use the GPU.    \n",
    "    device = torch.device(\"cuda\")\n",
    "    print('There are %d GPU(s) available.' % torch.cuda.device_count())\n",
    "    print('We will use the GPU:', torch.cuda.get_device_name(0))\n",
    "# If not...\n",
    "else:\n",
    "    print('No GPU available, using the CPU instead.')\n",
    "    device = torch.device(\"cpu\")"
   ]
  },
  {
   "cell_type": "markdown",
   "metadata": {
    "papermill": {
     "duration": 0.061552,
     "end_time": "2021-05-17T15:30:27.034088",
     "exception": false,
     "start_time": "2021-05-17T15:30:26.972536",
     "status": "completed"
    },
    "tags": []
   },
   "source": [
    "Next, let’s install the transformers package from Hugging Face which will give us a pytorch interface for working with BERT. (This library contains interfaces for other pretrained language models like OpenAI’s GPT and GPT-2.) We’ve selected the pytorch interface because it strikes a nice balance between the high-level APIs (which are easy to use but don’t provide insight into how things work) and tensorflow code (which contains lots of details but often sidetracks us into lessons about tensorflow, when the purpose here is BERT!)."
   ]
  },
  {
   "cell_type": "code",
   "execution_count": 4,
   "metadata": {
    "execution": {
     "iopub.execute_input": "2021-05-17T15:30:27.162599Z",
     "iopub.status.busy": "2021-05-17T15:30:27.161882Z",
     "iopub.status.idle": "2021-05-17T15:30:34.644217Z",
     "shell.execute_reply": "2021-05-17T15:30:34.643395Z"
    },
    "papermill": {
     "duration": 7.548293,
     "end_time": "2021-05-17T15:30:34.644357",
     "exception": false,
     "start_time": "2021-05-17T15:30:27.096064",
     "status": "completed"
    },
    "tags": []
   },
   "outputs": [
    {
     "name": "stdout",
     "output_type": "stream",
     "text": [
      "Requirement already satisfied: transformers in /opt/conda/lib/python3.7/site-packages (3.5.1)\r\n",
      "Requirement already satisfied: numpy in /opt/conda/lib/python3.7/site-packages (from transformers) (1.18.5)\r\n",
      "Requirement already satisfied: tokenizers==0.9.3 in /opt/conda/lib/python3.7/site-packages (from transformers) (0.9.3)\r\n",
      "Requirement already satisfied: tqdm>=4.27 in /opt/conda/lib/python3.7/site-packages (from transformers) (4.45.0)\r\n",
      "Requirement already satisfied: sentencepiece==0.1.91 in /opt/conda/lib/python3.7/site-packages (from transformers) (0.1.91)\r\n",
      "Requirement already satisfied: sacremoses in /opt/conda/lib/python3.7/site-packages (from transformers) (0.0.43)\r\n",
      "Requirement already satisfied: requests in /opt/conda/lib/python3.7/site-packages (from transformers) (2.23.0)\r\n",
      "Requirement already satisfied: regex!=2019.12.17 in /opt/conda/lib/python3.7/site-packages (from transformers) (2020.4.4)\r\n",
      "Requirement already satisfied: filelock in /opt/conda/lib/python3.7/site-packages (from transformers) (3.0.10)\r\n",
      "Requirement already satisfied: protobuf in /opt/conda/lib/python3.7/site-packages (from transformers) (3.14.0)\r\n",
      "Requirement already satisfied: packaging in /opt/conda/lib/python3.7/site-packages (from transformers) (20.1)\r\n",
      "Requirement already satisfied: six in /opt/conda/lib/python3.7/site-packages (from packaging->transformers) (1.14.0)\r\n",
      "Requirement already satisfied: pyparsing>=2.0.2 in /opt/conda/lib/python3.7/site-packages (from packaging->transformers) (2.4.7)\r\n",
      "Requirement already satisfied: six in /opt/conda/lib/python3.7/site-packages (from packaging->transformers) (1.14.0)\r\n",
      "Requirement already satisfied: certifi>=2017.4.17 in /opt/conda/lib/python3.7/site-packages (from requests->transformers) (2020.12.5)\r\n",
      "Requirement already satisfied: idna<3,>=2.5 in /opt/conda/lib/python3.7/site-packages (from requests->transformers) (2.9)\r\n",
      "Requirement already satisfied: urllib3!=1.25.0,!=1.25.1,<1.26,>=1.21.1 in /opt/conda/lib/python3.7/site-packages (from requests->transformers) (1.25.9)\r\n",
      "Requirement already satisfied: chardet<4,>=3.0.2 in /opt/conda/lib/python3.7/site-packages (from requests->transformers) (3.0.4)\r\n",
      "Requirement already satisfied: six in /opt/conda/lib/python3.7/site-packages (from packaging->transformers) (1.14.0)\r\n",
      "Requirement already satisfied: tqdm>=4.27 in /opt/conda/lib/python3.7/site-packages (from transformers) (4.45.0)\r\n",
      "Requirement already satisfied: joblib in /opt/conda/lib/python3.7/site-packages (from sacremoses->transformers) (0.14.1)\r\n",
      "Requirement already satisfied: click in /opt/conda/lib/python3.7/site-packages (from sacremoses->transformers) (7.1.1)\r\n",
      "Requirement already satisfied: regex!=2019.12.17 in /opt/conda/lib/python3.7/site-packages (from transformers) (2020.4.4)\r\n",
      "\u001b[33mWARNING: You are using pip version 20.3.1; however, version 21.1.1 is available.\r\n",
      "You should consider upgrading via the '/opt/conda/bin/python3.7 -m pip install --upgrade pip' command.\u001b[0m\r\n"
     ]
    }
   ],
   "source": [
    "!pip install transformers"
   ]
  },
  {
   "cell_type": "markdown",
   "metadata": {
    "papermill": {
     "duration": 0.101593,
     "end_time": "2021-05-17T15:30:34.848819",
     "exception": false,
     "start_time": "2021-05-17T15:30:34.747226",
     "status": "completed"
    },
    "tags": []
   },
   "source": [
    "### Load in Data"
   ]
  },
  {
   "cell_type": "code",
   "execution_count": 5,
   "metadata": {
    "execution": {
     "iopub.execute_input": "2021-05-17T15:30:35.005125Z",
     "iopub.status.busy": "2021-05-17T15:30:35.004579Z",
     "iopub.status.idle": "2021-05-17T15:30:41.578944Z",
     "shell.execute_reply": "2021-05-17T15:30:41.578125Z"
    },
    "papermill": {
     "duration": 6.645658,
     "end_time": "2021-05-17T15:30:41.579054",
     "exception": false,
     "start_time": "2021-05-17T15:30:34.933396",
     "status": "completed"
    },
    "tags": []
   },
   "outputs": [],
   "source": [
    "#### Load in data from S3\n",
    "\n",
    "# Import Train and Measure Balance\n",
    "# Import Flattened Data\n",
    "df_train_f = pd.read_csv(\"/kaggle/input/updated-bert-datasets/df_train_full_cleaned_pe.csv\", encoding='utf_8_sig', low_memory=False)\n",
    "\n",
    "# Import Test and Measure Balance\n",
    "\n",
    "df_test_f = pd.read_csv(\"/kaggle/input/updated-bert-datasets/df_test_full_cleaned_pe.csv\", encoding='utf_8_sig', low_memory=False)\n",
    "\n",
    "# Import Validation and Measure Balance\n",
    "# Import Flattened Data\n",
    "df_valid_f = pd.read_csv(\"/kaggle/input/updated-bert-datasets/df_valid_full_cleaned_pe.csv\", encoding='utf_8_sig', low_memory=False)"
   ]
  },
  {
   "cell_type": "code",
   "execution_count": 6,
   "metadata": {
    "execution": {
     "iopub.execute_input": "2021-05-17T15:30:41.733385Z",
     "iopub.status.busy": "2021-05-17T15:30:41.732526Z",
     "iopub.status.idle": "2021-05-17T15:30:41.746691Z",
     "shell.execute_reply": "2021-05-17T15:30:41.747116Z"
    },
    "papermill": {
     "duration": 0.104731,
     "end_time": "2021-05-17T15:30:41.747235",
     "exception": false,
     "start_time": "2021-05-17T15:30:41.642504",
     "status": "completed"
    },
    "tags": []
   },
   "outputs": [
    {
     "data": {
      "text/html": [
       "<div>\n",
       "<style scoped>\n",
       "    .dataframe tbody tr th:only-of-type {\n",
       "        vertical-align: middle;\n",
       "    }\n",
       "\n",
       "    .dataframe tbody tr th {\n",
       "        vertical-align: top;\n",
       "    }\n",
       "\n",
       "    .dataframe thead th {\n",
       "        text-align: right;\n",
       "    }\n",
       "</style>\n",
       "<table border=\"1\" class=\"dataframe\">\n",
       "  <thead>\n",
       "    <tr style=\"text-align: right;\">\n",
       "      <th></th>\n",
       "      <th>id</th>\n",
       "      <th>created_at</th>\n",
       "      <th>text</th>\n",
       "      <th>retweet_count</th>\n",
       "      <th>favorite_count</th>\n",
       "      <th>quoted_status_id</th>\n",
       "      <th>user.id</th>\n",
       "      <th>user.created_at</th>\n",
       "      <th>user.description</th>\n",
       "      <th>user.favourites_count</th>\n",
       "      <th>...</th>\n",
       "      <th>user.geo_enabled_False</th>\n",
       "      <th>user.geo_enabled_True</th>\n",
       "      <th>user.verified_False</th>\n",
       "      <th>user.has_extended_profile_False</th>\n",
       "      <th>user.has_extended_profile_True</th>\n",
       "      <th>user.protected_False</th>\n",
       "      <th>user.verified_False.1</th>\n",
       "      <th>user.default_profile_True</th>\n",
       "      <th>is_quote_status_False</th>\n",
       "      <th>is_quote_status_True</th>\n",
       "    </tr>\n",
       "  </thead>\n",
       "  <tbody>\n",
       "    <tr>\n",
       "      <th>0</th>\n",
       "      <td>'1.278734441767207e+18'</td>\n",
       "      <td>1.593709e+09</td>\n",
       "      <td>@ImranKhanPTI me mazor adme ho</td>\n",
       "      <td>0.0</td>\n",
       "      <td>0.0</td>\n",
       "      <td>0</td>\n",
       "      <td>1.278130e+18</td>\n",
       "      <td>1.593565e+09</td>\n",
       "      <td>m munir</td>\n",
       "      <td>5.0</td>\n",
       "      <td>...</td>\n",
       "      <td>1</td>\n",
       "      <td>0</td>\n",
       "      <td>1</td>\n",
       "      <td>0</td>\n",
       "      <td>1</td>\n",
       "      <td>1</td>\n",
       "      <td>1</td>\n",
       "      <td>1</td>\n",
       "      <td>1</td>\n",
       "      <td>0</td>\n",
       "    </tr>\n",
       "    <tr>\n",
       "      <th>1</th>\n",
       "      <td>'1.278717951009411e+18'</td>\n",
       "      <td>1.593705e+09</td>\n",
       "      <td>@SatoshiLite @litecoin face_with_monocle face_...</td>\n",
       "      <td>0.0</td>\n",
       "      <td>0.0</td>\n",
       "      <td>0</td>\n",
       "      <td>1.278132e+18</td>\n",
       "      <td>1.593565e+09</td>\n",
       "      <td>3QEX professional blockchain asset trading pla...</td>\n",
       "      <td>9.0</td>\n",
       "      <td>...</td>\n",
       "      <td>0</td>\n",
       "      <td>1</td>\n",
       "      <td>1</td>\n",
       "      <td>0</td>\n",
       "      <td>1</td>\n",
       "      <td>1</td>\n",
       "      <td>1</td>\n",
       "      <td>1</td>\n",
       "      <td>1</td>\n",
       "      <td>0</td>\n",
       "    </tr>\n",
       "    <tr>\n",
       "      <th>2</th>\n",
       "      <td>'1.278717966213722e+18'</td>\n",
       "      <td>1.593705e+09</td>\n",
       "      <td>RT @SatoshiLite: Litecoin Core 0.18.1 final re...</td>\n",
       "      <td>190.0</td>\n",
       "      <td>0.0</td>\n",
       "      <td>1</td>\n",
       "      <td>1.278132e+18</td>\n",
       "      <td>1.593565e+09</td>\n",
       "      <td>3QEX professional blockchain asset trading pla...</td>\n",
       "      <td>9.0</td>\n",
       "      <td>...</td>\n",
       "      <td>0</td>\n",
       "      <td>1</td>\n",
       "      <td>1</td>\n",
       "      <td>0</td>\n",
       "      <td>1</td>\n",
       "      <td>1</td>\n",
       "      <td>1</td>\n",
       "      <td>1</td>\n",
       "      <td>0</td>\n",
       "      <td>1</td>\n",
       "    </tr>\n",
       "    <tr>\n",
       "      <th>3</th>\n",
       "      <td>'1.2787185769673114e+18'</td>\n",
       "      <td>1.593705e+09</td>\n",
       "      <td>@LitecoinDotCom @litecoin @JiangZhuoer #3qex g...</td>\n",
       "      <td>0.0</td>\n",
       "      <td>0.0</td>\n",
       "      <td>0</td>\n",
       "      <td>1.278132e+18</td>\n",
       "      <td>1.593565e+09</td>\n",
       "      <td>3QEX professional blockchain asset trading pla...</td>\n",
       "      <td>9.0</td>\n",
       "      <td>...</td>\n",
       "      <td>0</td>\n",
       "      <td>1</td>\n",
       "      <td>1</td>\n",
       "      <td>0</td>\n",
       "      <td>1</td>\n",
       "      <td>1</td>\n",
       "      <td>1</td>\n",
       "      <td>1</td>\n",
       "      <td>1</td>\n",
       "      <td>0</td>\n",
       "    </tr>\n",
       "    <tr>\n",
       "      <th>4</th>\n",
       "      <td>'1.2787265998865285e+18'</td>\n",
       "      <td>1.593707e+09</td>\n",
       "      <td>#3qex https://t.co/eezSHw1LpM</td>\n",
       "      <td>0.0</td>\n",
       "      <td>0.0</td>\n",
       "      <td>0</td>\n",
       "      <td>1.278132e+18</td>\n",
       "      <td>1.593565e+09</td>\n",
       "      <td>3QEX professional blockchain asset trading pla...</td>\n",
       "      <td>9.0</td>\n",
       "      <td>...</td>\n",
       "      <td>0</td>\n",
       "      <td>1</td>\n",
       "      <td>1</td>\n",
       "      <td>0</td>\n",
       "      <td>1</td>\n",
       "      <td>1</td>\n",
       "      <td>1</td>\n",
       "      <td>1</td>\n",
       "      <td>1</td>\n",
       "      <td>0</td>\n",
       "    </tr>\n",
       "    <tr>\n",
       "      <th>5</th>\n",
       "      <td>'1.2787264315398185e+18'</td>\n",
       "      <td>1.593707e+09</td>\n",
       "      <td>https://t.co/x6PEeWW48S</td>\n",
       "      <td>0.0</td>\n",
       "      <td>0.0</td>\n",
       "      <td>0</td>\n",
       "      <td>1.278132e+18</td>\n",
       "      <td>1.593565e+09</td>\n",
       "      <td>3QEX professional blockchain asset trading pla...</td>\n",
       "      <td>9.0</td>\n",
       "      <td>...</td>\n",
       "      <td>0</td>\n",
       "      <td>1</td>\n",
       "      <td>1</td>\n",
       "      <td>0</td>\n",
       "      <td>1</td>\n",
       "      <td>1</td>\n",
       "      <td>1</td>\n",
       "      <td>1</td>\n",
       "      <td>1</td>\n",
       "      <td>0</td>\n",
       "    </tr>\n",
       "  </tbody>\n",
       "</table>\n",
       "<p>6 rows × 167 columns</p>\n",
       "</div>"
      ],
      "text/plain": [
       "                         id    created_at  \\\n",
       "0   '1.278734441767207e+18'  1.593709e+09   \n",
       "1   '1.278717951009411e+18'  1.593705e+09   \n",
       "2   '1.278717966213722e+18'  1.593705e+09   \n",
       "3  '1.2787185769673114e+18'  1.593705e+09   \n",
       "4  '1.2787265998865285e+18'  1.593707e+09   \n",
       "5  '1.2787264315398185e+18'  1.593707e+09   \n",
       "\n",
       "                                                text  retweet_count  \\\n",
       "0                     @ImranKhanPTI me mazor adme ho            0.0   \n",
       "1  @SatoshiLite @litecoin face_with_monocle face_...            0.0   \n",
       "2  RT @SatoshiLite: Litecoin Core 0.18.1 final re...          190.0   \n",
       "3  @LitecoinDotCom @litecoin @JiangZhuoer #3qex g...            0.0   \n",
       "4                      #3qex https://t.co/eezSHw1LpM            0.0   \n",
       "5                            https://t.co/x6PEeWW48S            0.0   \n",
       "\n",
       "   favorite_count  quoted_status_id       user.id  user.created_at  \\\n",
       "0             0.0                 0  1.278130e+18     1.593565e+09   \n",
       "1             0.0                 0  1.278132e+18     1.593565e+09   \n",
       "2             0.0                 1  1.278132e+18     1.593565e+09   \n",
       "3             0.0                 0  1.278132e+18     1.593565e+09   \n",
       "4             0.0                 0  1.278132e+18     1.593565e+09   \n",
       "5             0.0                 0  1.278132e+18     1.593565e+09   \n",
       "\n",
       "                                    user.description  user.favourites_count  \\\n",
       "0                                            m munir                    5.0   \n",
       "1  3QEX professional blockchain asset trading pla...                    9.0   \n",
       "2  3QEX professional blockchain asset trading pla...                    9.0   \n",
       "3  3QEX professional blockchain asset trading pla...                    9.0   \n",
       "4  3QEX professional blockchain asset trading pla...                    9.0   \n",
       "5  3QEX professional blockchain asset trading pla...                    9.0   \n",
       "\n",
       "   ...  user.geo_enabled_False  user.geo_enabled_True  user.verified_False  \\\n",
       "0  ...                       1                      0                    1   \n",
       "1  ...                       0                      1                    1   \n",
       "2  ...                       0                      1                    1   \n",
       "3  ...                       0                      1                    1   \n",
       "4  ...                       0                      1                    1   \n",
       "5  ...                       0                      1                    1   \n",
       "\n",
       "  user.has_extended_profile_False user.has_extended_profile_True  \\\n",
       "0                               0                              1   \n",
       "1                               0                              1   \n",
       "2                               0                              1   \n",
       "3                               0                              1   \n",
       "4                               0                              1   \n",
       "5                               0                              1   \n",
       "\n",
       "  user.protected_False  user.verified_False.1  user.default_profile_True  \\\n",
       "0                    1                      1                          1   \n",
       "1                    1                      1                          1   \n",
       "2                    1                      1                          1   \n",
       "3                    1                      1                          1   \n",
       "4                    1                      1                          1   \n",
       "5                    1                      1                          1   \n",
       "\n",
       "   is_quote_status_False  is_quote_status_True  \n",
       "0                      1                     0  \n",
       "1                      1                     0  \n",
       "2                      0                     1  \n",
       "3                      1                     0  \n",
       "4                      1                     0  \n",
       "5                      1                     0  \n",
       "\n",
       "[6 rows x 167 columns]"
      ]
     },
     "execution_count": 6,
     "metadata": {},
     "output_type": "execute_result"
    }
   ],
   "source": [
    "df_train_f.head(6)"
   ]
  },
  {
   "cell_type": "code",
   "execution_count": 7,
   "metadata": {
    "execution": {
     "iopub.execute_input": "2021-05-17T15:30:41.882554Z",
     "iopub.status.busy": "2021-05-17T15:30:41.881492Z",
     "iopub.status.idle": "2021-05-17T15:30:42.038838Z",
     "shell.execute_reply": "2021-05-17T15:30:42.038349Z"
    },
    "papermill": {
     "duration": 0.228384,
     "end_time": "2021-05-17T15:30:42.038951",
     "exception": false,
     "start_time": "2021-05-17T15:30:41.810567",
     "status": "completed"
    },
    "tags": []
   },
   "outputs": [],
   "source": [
    "df_train_f['id'] = df_train_f['id'].apply(lambda x: x.replace(\"'\", ''))\n",
    "df_train_f['id'] = df_train_f['id'].astype('float')\n",
    "df_valid_f['id'] = df_valid_f['id'].apply(lambda x: x.replace(\"'\", ''))\n",
    "df_valid_f['id'] = df_valid_f['id'].astype('float')\n",
    "df_test_f['id'] = df_test_f['id'].apply(lambda x: x.replace(\"'\", ''))\n",
    "df_test_f['id'] = df_test_f['id'].astype('float')"
   ]
  },
  {
   "cell_type": "code",
   "execution_count": 8,
   "metadata": {
    "execution": {
     "iopub.execute_input": "2021-05-17T15:30:42.174081Z",
     "iopub.status.busy": "2021-05-17T15:30:42.173524Z",
     "iopub.status.idle": "2021-05-17T15:30:42.190836Z",
     "shell.execute_reply": "2021-05-17T15:30:42.191807Z"
    },
    "papermill": {
     "duration": 0.088019,
     "end_time": "2021-05-17T15:30:42.191956",
     "exception": false,
     "start_time": "2021-05-17T15:30:42.103937",
     "status": "completed"
    },
    "tags": []
   },
   "outputs": [
    {
     "name": "stdout",
     "output_type": "stream",
     "text": [
      "full train: 115766 unique ids train: 115766 full valid: 35120 unique ids valid: 35120 full test: 34839 unique ids test: 34839\n"
     ]
    }
   ],
   "source": [
    "print(\"full train:\", len(df_train_f), \"unique ids train:\", len(df_train_f['id'].unique()), \n",
    "      \"full valid:\", len(df_valid_f), \"unique ids valid:\", len(df_valid_f['id'].unique()), \n",
    "      \"full test:\", len(df_test_f), \"unique ids test:\", len(df_test_f['id'].unique()))\n",
    "\n",
    "#print(\"Train:\", len(sentences_train), \"Valid:\", len(sentences_valid), \"Test\", len(sentences_test))"
   ]
  },
  {
   "cell_type": "code",
   "execution_count": 9,
   "metadata": {
    "execution": {
     "iopub.execute_input": "2021-05-17T15:30:42.327530Z",
     "iopub.status.busy": "2021-05-17T15:30:42.326317Z",
     "iopub.status.idle": "2021-05-17T15:30:42.427093Z",
     "shell.execute_reply": "2021-05-17T15:30:42.426589Z"
    },
    "papermill": {
     "duration": 0.170654,
     "end_time": "2021-05-17T15:30:42.427191",
     "exception": false,
     "start_time": "2021-05-17T15:30:42.256537",
     "status": "completed"
    },
    "tags": []
   },
   "outputs": [],
   "source": [
    "df_train = df_train_f.drop(['user.description', \"user.location\", \"user.name\", \"user.screen_name\", \"split\"], axis=1)\n",
    "df_valid = df_valid_f.drop(['user.description', \"user.location\", \"user.name\", \"user.screen_name\", \"split\"], axis=1)\n",
    "df_test = df_test_f.drop(['user.description', \"user.location\", \"user.name\", \"user.screen_name\", \"split\"], axis=1)"
   ]
  },
  {
   "cell_type": "code",
   "execution_count": 10,
   "metadata": {
    "execution": {
     "iopub.execute_input": "2021-05-17T15:30:42.558864Z",
     "iopub.status.busy": "2021-05-17T15:30:42.558286Z",
     "iopub.status.idle": "2021-05-17T15:30:42.562205Z",
     "shell.execute_reply": "2021-05-17T15:30:42.561782Z"
    },
    "papermill": {
     "duration": 0.070723,
     "end_time": "2021-05-17T15:30:42.562296",
     "exception": false,
     "start_time": "2021-05-17T15:30:42.491573",
     "status": "completed"
    },
    "tags": []
   },
   "outputs": [],
   "source": [
    "# FOR TESING OUT CODE PURPOSE ONLY. REMOVE ONCE ALL IS WORKING. \n",
    "#df_train = df_train[:2000]\n",
    "#df_valid = df_valid[:2000]\n",
    "#df_test = df_test[:2000]"
   ]
  },
  {
   "cell_type": "code",
   "execution_count": 11,
   "metadata": {
    "execution": {
     "iopub.execute_input": "2021-05-17T15:30:42.712610Z",
     "iopub.status.busy": "2021-05-17T15:30:42.705064Z",
     "iopub.status.idle": "2021-05-17T15:30:42.716854Z",
     "shell.execute_reply": "2021-05-17T15:30:42.717341Z"
    },
    "papermill": {
     "duration": 0.091192,
     "end_time": "2021-05-17T15:30:42.717457",
     "exception": false,
     "start_time": "2021-05-17T15:30:42.626265",
     "status": "completed"
    },
    "tags": []
   },
   "outputs": [
    {
     "data": {
      "text/html": [
       "<div>\n",
       "<style scoped>\n",
       "    .dataframe tbody tr th:only-of-type {\n",
       "        vertical-align: middle;\n",
       "    }\n",
       "\n",
       "    .dataframe tbody tr th {\n",
       "        vertical-align: top;\n",
       "    }\n",
       "\n",
       "    .dataframe thead th {\n",
       "        text-align: right;\n",
       "    }\n",
       "</style>\n",
       "<table border=\"1\" class=\"dataframe\">\n",
       "  <thead>\n",
       "    <tr style=\"text-align: right;\">\n",
       "      <th></th>\n",
       "      <th>id</th>\n",
       "      <th>created_at</th>\n",
       "      <th>text</th>\n",
       "      <th>retweet_count</th>\n",
       "      <th>favorite_count</th>\n",
       "      <th>quoted_status_id</th>\n",
       "      <th>user.id</th>\n",
       "      <th>user.created_at</th>\n",
       "      <th>user.favourites_count</th>\n",
       "      <th>user.followers_count</th>\n",
       "      <th>...</th>\n",
       "      <th>user.geo_enabled_False</th>\n",
       "      <th>user.geo_enabled_True</th>\n",
       "      <th>user.verified_False</th>\n",
       "      <th>user.has_extended_profile_False</th>\n",
       "      <th>user.has_extended_profile_True</th>\n",
       "      <th>user.protected_False</th>\n",
       "      <th>user.verified_False.1</th>\n",
       "      <th>user.default_profile_True</th>\n",
       "      <th>is_quote_status_False</th>\n",
       "      <th>is_quote_status_True</th>\n",
       "    </tr>\n",
       "  </thead>\n",
       "  <tbody>\n",
       "    <tr>\n",
       "      <th>0</th>\n",
       "      <td>1.278734e+18</td>\n",
       "      <td>1.593709e+09</td>\n",
       "      <td>@ImranKhanPTI me mazor adme ho</td>\n",
       "      <td>0.0</td>\n",
       "      <td>0.0</td>\n",
       "      <td>0</td>\n",
       "      <td>1.278130e+18</td>\n",
       "      <td>1.593565e+09</td>\n",
       "      <td>5.0</td>\n",
       "      <td>1.0</td>\n",
       "      <td>...</td>\n",
       "      <td>1</td>\n",
       "      <td>0</td>\n",
       "      <td>1</td>\n",
       "      <td>0</td>\n",
       "      <td>1</td>\n",
       "      <td>1</td>\n",
       "      <td>1</td>\n",
       "      <td>1</td>\n",
       "      <td>1</td>\n",
       "      <td>0</td>\n",
       "    </tr>\n",
       "    <tr>\n",
       "      <th>1</th>\n",
       "      <td>1.278718e+18</td>\n",
       "      <td>1.593705e+09</td>\n",
       "      <td>@SatoshiLite @litecoin face_with_monocle face_...</td>\n",
       "      <td>0.0</td>\n",
       "      <td>0.0</td>\n",
       "      <td>0</td>\n",
       "      <td>1.278132e+18</td>\n",
       "      <td>1.593565e+09</td>\n",
       "      <td>9.0</td>\n",
       "      <td>31.0</td>\n",
       "      <td>...</td>\n",
       "      <td>0</td>\n",
       "      <td>1</td>\n",
       "      <td>1</td>\n",
       "      <td>0</td>\n",
       "      <td>1</td>\n",
       "      <td>1</td>\n",
       "      <td>1</td>\n",
       "      <td>1</td>\n",
       "      <td>1</td>\n",
       "      <td>0</td>\n",
       "    </tr>\n",
       "    <tr>\n",
       "      <th>2</th>\n",
       "      <td>1.278718e+18</td>\n",
       "      <td>1.593705e+09</td>\n",
       "      <td>RT @SatoshiLite: Litecoin Core 0.18.1 final re...</td>\n",
       "      <td>190.0</td>\n",
       "      <td>0.0</td>\n",
       "      <td>1</td>\n",
       "      <td>1.278132e+18</td>\n",
       "      <td>1.593565e+09</td>\n",
       "      <td>9.0</td>\n",
       "      <td>31.0</td>\n",
       "      <td>...</td>\n",
       "      <td>0</td>\n",
       "      <td>1</td>\n",
       "      <td>1</td>\n",
       "      <td>0</td>\n",
       "      <td>1</td>\n",
       "      <td>1</td>\n",
       "      <td>1</td>\n",
       "      <td>1</td>\n",
       "      <td>0</td>\n",
       "      <td>1</td>\n",
       "    </tr>\n",
       "    <tr>\n",
       "      <th>3</th>\n",
       "      <td>1.278719e+18</td>\n",
       "      <td>1.593705e+09</td>\n",
       "      <td>@LitecoinDotCom @litecoin @JiangZhuoer #3qex g...</td>\n",
       "      <td>0.0</td>\n",
       "      <td>0.0</td>\n",
       "      <td>0</td>\n",
       "      <td>1.278132e+18</td>\n",
       "      <td>1.593565e+09</td>\n",
       "      <td>9.0</td>\n",
       "      <td>31.0</td>\n",
       "      <td>...</td>\n",
       "      <td>0</td>\n",
       "      <td>1</td>\n",
       "      <td>1</td>\n",
       "      <td>0</td>\n",
       "      <td>1</td>\n",
       "      <td>1</td>\n",
       "      <td>1</td>\n",
       "      <td>1</td>\n",
       "      <td>1</td>\n",
       "      <td>0</td>\n",
       "    </tr>\n",
       "    <tr>\n",
       "      <th>4</th>\n",
       "      <td>1.278727e+18</td>\n",
       "      <td>1.593707e+09</td>\n",
       "      <td>#3qex https://t.co/eezSHw1LpM</td>\n",
       "      <td>0.0</td>\n",
       "      <td>0.0</td>\n",
       "      <td>0</td>\n",
       "      <td>1.278132e+18</td>\n",
       "      <td>1.593565e+09</td>\n",
       "      <td>9.0</td>\n",
       "      <td>31.0</td>\n",
       "      <td>...</td>\n",
       "      <td>0</td>\n",
       "      <td>1</td>\n",
       "      <td>1</td>\n",
       "      <td>0</td>\n",
       "      <td>1</td>\n",
       "      <td>1</td>\n",
       "      <td>1</td>\n",
       "      <td>1</td>\n",
       "      <td>1</td>\n",
       "      <td>0</td>\n",
       "    </tr>\n",
       "  </tbody>\n",
       "</table>\n",
       "<p>5 rows × 162 columns</p>\n",
       "</div>"
      ],
      "text/plain": [
       "             id    created_at  \\\n",
       "0  1.278734e+18  1.593709e+09   \n",
       "1  1.278718e+18  1.593705e+09   \n",
       "2  1.278718e+18  1.593705e+09   \n",
       "3  1.278719e+18  1.593705e+09   \n",
       "4  1.278727e+18  1.593707e+09   \n",
       "\n",
       "                                                text  retweet_count  \\\n",
       "0                     @ImranKhanPTI me mazor adme ho            0.0   \n",
       "1  @SatoshiLite @litecoin face_with_monocle face_...            0.0   \n",
       "2  RT @SatoshiLite: Litecoin Core 0.18.1 final re...          190.0   \n",
       "3  @LitecoinDotCom @litecoin @JiangZhuoer #3qex g...            0.0   \n",
       "4                      #3qex https://t.co/eezSHw1LpM            0.0   \n",
       "\n",
       "   favorite_count  quoted_status_id       user.id  user.created_at  \\\n",
       "0             0.0                 0  1.278130e+18     1.593565e+09   \n",
       "1             0.0                 0  1.278132e+18     1.593565e+09   \n",
       "2             0.0                 1  1.278132e+18     1.593565e+09   \n",
       "3             0.0                 0  1.278132e+18     1.593565e+09   \n",
       "4             0.0                 0  1.278132e+18     1.593565e+09   \n",
       "\n",
       "   user.favourites_count  user.followers_count  ...  user.geo_enabled_False  \\\n",
       "0                    5.0                   1.0  ...                       1   \n",
       "1                    9.0                  31.0  ...                       0   \n",
       "2                    9.0                  31.0  ...                       0   \n",
       "3                    9.0                  31.0  ...                       0   \n",
       "4                    9.0                  31.0  ...                       0   \n",
       "\n",
       "   user.geo_enabled_True  user.verified_False  \\\n",
       "0                      0                    1   \n",
       "1                      1                    1   \n",
       "2                      1                    1   \n",
       "3                      1                    1   \n",
       "4                      1                    1   \n",
       "\n",
       "   user.has_extended_profile_False  user.has_extended_profile_True  \\\n",
       "0                                0                               1   \n",
       "1                                0                               1   \n",
       "2                                0                               1   \n",
       "3                                0                               1   \n",
       "4                                0                               1   \n",
       "\n",
       "   user.protected_False  user.verified_False.1  user.default_profile_True  \\\n",
       "0                     1                      1                          1   \n",
       "1                     1                      1                          1   \n",
       "2                     1                      1                          1   \n",
       "3                     1                      1                          1   \n",
       "4                     1                      1                          1   \n",
       "\n",
       "   is_quote_status_False  is_quote_status_True  \n",
       "0                      1                     0  \n",
       "1                      1                     0  \n",
       "2                      0                     1  \n",
       "3                      1                     0  \n",
       "4                      1                     0  \n",
       "\n",
       "[5 rows x 162 columns]"
      ]
     },
     "execution_count": 11,
     "metadata": {},
     "output_type": "execute_result"
    }
   ],
   "source": [
    "df_train.head()"
   ]
  },
  {
   "cell_type": "markdown",
   "metadata": {
    "papermill": {
     "duration": 0.074134,
     "end_time": "2021-05-17T15:30:42.859080",
     "exception": false,
     "start_time": "2021-05-17T15:30:42.784946",
     "status": "completed"
    },
    "tags": []
   },
   "source": [
    "Concatanate all texts to get one doc j per each user i"
   ]
  },
  {
   "cell_type": "code",
   "execution_count": 12,
   "metadata": {
    "execution": {
     "iopub.execute_input": "2021-05-17T15:30:43.002872Z",
     "iopub.status.busy": "2021-05-17T15:30:43.001953Z",
     "iopub.status.idle": "2021-05-17T15:30:43.164822Z",
     "shell.execute_reply": "2021-05-17T15:30:43.165252Z"
    },
    "papermill": {
     "duration": 0.237488,
     "end_time": "2021-05-17T15:30:43.165372",
     "exception": false,
     "start_time": "2021-05-17T15:30:42.927884",
     "status": "completed"
    },
    "tags": []
   },
   "outputs": [
    {
     "data": {
      "text/html": [
       "<div>\n",
       "<style scoped>\n",
       "    .dataframe tbody tr th:only-of-type {\n",
       "        vertical-align: middle;\n",
       "    }\n",
       "\n",
       "    .dataframe tbody tr th {\n",
       "        vertical-align: top;\n",
       "    }\n",
       "\n",
       "    .dataframe thead th {\n",
       "        text-align: right;\n",
       "    }\n",
       "</style>\n",
       "<table border=\"1\" class=\"dataframe\">\n",
       "  <thead>\n",
       "    <tr style=\"text-align: right;\">\n",
       "      <th></th>\n",
       "      <th>user.id</th>\n",
       "      <th>suspended</th>\n",
       "      <th>text</th>\n",
       "    </tr>\n",
       "  </thead>\n",
       "  <tbody>\n",
       "    <tr>\n",
       "      <th>0</th>\n",
       "      <td>1.278130e+18</td>\n",
       "      <td>0</td>\n",
       "      <td>@ImranKhanPTI me mazor adme ho</td>\n",
       "    </tr>\n",
       "    <tr>\n",
       "      <th>1</th>\n",
       "      <td>1.278132e+18</td>\n",
       "      <td>0</td>\n",
       "      <td>@SatoshiLite @litecoin face_with_monocle face_...</td>\n",
       "    </tr>\n",
       "    <tr>\n",
       "      <th>2</th>\n",
       "      <td>1.278136e+18</td>\n",
       "      <td>0</td>\n",
       "      <td>https://t.co/2tSmlYkG4v</td>\n",
       "    </tr>\n",
       "    <tr>\n",
       "      <th>3</th>\n",
       "      <td>1.278138e+18</td>\n",
       "      <td>0</td>\n",
       "      <td>@getput @zhanglifan 为什么西方所谓的双标的平等，自由就是对的？这就是典型...</td>\n",
       "    </tr>\n",
       "    <tr>\n",
       "      <th>4</th>\n",
       "      <td>1.278143e+18</td>\n",
       "      <td>0</td>\n",
       "      <td>@Chandankrishn13 @zlj517 干了这杯恒河水！ @tamaya14901...</td>\n",
       "    </tr>\n",
       "  </tbody>\n",
       "</table>\n",
       "</div>"
      ],
      "text/plain": [
       "        user.id  suspended                                               text\n",
       "0  1.278130e+18          0                     @ImranKhanPTI me mazor adme ho\n",
       "1  1.278132e+18          0  @SatoshiLite @litecoin face_with_monocle face_...\n",
       "2  1.278136e+18          0                            https://t.co/2tSmlYkG4v\n",
       "3  1.278138e+18          0  @getput @zhanglifan 为什么西方所谓的双标的平等，自由就是对的？这就是典型...\n",
       "4  1.278143e+18          0  @Chandankrishn13 @zlj517 干了这杯恒河水！ @tamaya14901..."
      ]
     },
     "execution_count": 12,
     "metadata": {},
     "output_type": "execute_result"
    }
   ],
   "source": [
    "df_train = df_train.groupby(['user.id', 'suspended'])['text'].apply(lambda x: ' '.join(x)).reset_index()\n",
    "df_train.head()"
   ]
  },
  {
   "cell_type": "code",
   "execution_count": 13,
   "metadata": {
    "execution": {
     "iopub.execute_input": "2021-05-17T15:30:43.304314Z",
     "iopub.status.busy": "2021-05-17T15:30:43.303347Z",
     "iopub.status.idle": "2021-05-17T15:30:43.358641Z",
     "shell.execute_reply": "2021-05-17T15:30:43.359071Z"
    },
    "papermill": {
     "duration": 0.127568,
     "end_time": "2021-05-17T15:30:43.359190",
     "exception": false,
     "start_time": "2021-05-17T15:30:43.231622",
     "status": "completed"
    },
    "tags": []
   },
   "outputs": [
    {
     "data": {
      "text/html": [
       "<div>\n",
       "<style scoped>\n",
       "    .dataframe tbody tr th:only-of-type {\n",
       "        vertical-align: middle;\n",
       "    }\n",
       "\n",
       "    .dataframe tbody tr th {\n",
       "        vertical-align: top;\n",
       "    }\n",
       "\n",
       "    .dataframe thead th {\n",
       "        text-align: right;\n",
       "    }\n",
       "</style>\n",
       "<table border=\"1\" class=\"dataframe\">\n",
       "  <thead>\n",
       "    <tr style=\"text-align: right;\">\n",
       "      <th></th>\n",
       "      <th>user.id</th>\n",
       "      <th>suspended</th>\n",
       "      <th>text</th>\n",
       "    </tr>\n",
       "  </thead>\n",
       "  <tbody>\n",
       "    <tr>\n",
       "      <th>0</th>\n",
       "      <td>1.278120e+18</td>\n",
       "      <td>1</td>\n",
       "      <td>@RFS_China 窝扪终锅震的是胎pear 害hot_pepper  @NSJ_zz_ ...</td>\n",
       "    </tr>\n",
       "    <tr>\n",
       "      <th>1</th>\n",
       "      <td>1.278152e+18</td>\n",
       "      <td>0</td>\n",
       "      <td>@nnnwzdcsbwqnm11 @realDonaldTrump 这图恶心到我了 @Gan...</td>\n",
       "    </tr>\n",
       "    <tr>\n",
       "      <th>2</th>\n",
       "      <td>1.278155e+18</td>\n",
       "      <td>0</td>\n",
       "      <td>@chowtingagnes 馬鹿 @joshuawongcf jail is well p...</td>\n",
       "    </tr>\n",
       "    <tr>\n",
       "      <th>3</th>\n",
       "      <td>1.278178e+18</td>\n",
       "      <td>0</td>\n",
       "      <td>Play with me and destroy our friendship #Board...</td>\n",
       "    </tr>\n",
       "    <tr>\n",
       "      <th>4</th>\n",
       "      <td>1.278191e+18</td>\n",
       "      <td>0</td>\n",
       "      <td>@nytchinese @NYTimesCohen 这 主编喝醉了？ RT @AbeShin...</td>\n",
       "    </tr>\n",
       "  </tbody>\n",
       "</table>\n",
       "</div>"
      ],
      "text/plain": [
       "        user.id  suspended                                               text\n",
       "0  1.278120e+18          1  @RFS_China 窝扪终锅震的是胎pear 害hot_pepper  @NSJ_zz_ ...\n",
       "1  1.278152e+18          0  @nnnwzdcsbwqnm11 @realDonaldTrump 这图恶心到我了 @Gan...\n",
       "2  1.278155e+18          0  @chowtingagnes 馬鹿 @joshuawongcf jail is well p...\n",
       "3  1.278178e+18          0  Play with me and destroy our friendship #Board...\n",
       "4  1.278191e+18          0  @nytchinese @NYTimesCohen 这 主编喝醉了？ RT @AbeShin..."
      ]
     },
     "execution_count": 13,
     "metadata": {},
     "output_type": "execute_result"
    }
   ],
   "source": [
    "df_valid = df_valid.groupby(['user.id', 'suspended'])['text'].apply(lambda x: ' '.join(x)).reset_index()\n",
    "df_valid.head()"
   ]
  },
  {
   "cell_type": "code",
   "execution_count": 14,
   "metadata": {
    "execution": {
     "iopub.execute_input": "2021-05-17T15:30:43.500736Z",
     "iopub.status.busy": "2021-05-17T15:30:43.499767Z",
     "iopub.status.idle": "2021-05-17T15:30:43.552021Z",
     "shell.execute_reply": "2021-05-17T15:30:43.551597Z"
    },
    "papermill": {
     "duration": 0.124459,
     "end_time": "2021-05-17T15:30:43.552112",
     "exception": false,
     "start_time": "2021-05-17T15:30:43.427653",
     "status": "completed"
    },
    "tags": []
   },
   "outputs": [
    {
     "data": {
      "text/html": [
       "<div>\n",
       "<style scoped>\n",
       "    .dataframe tbody tr th:only-of-type {\n",
       "        vertical-align: middle;\n",
       "    }\n",
       "\n",
       "    .dataframe tbody tr th {\n",
       "        vertical-align: top;\n",
       "    }\n",
       "\n",
       "    .dataframe thead th {\n",
       "        text-align: right;\n",
       "    }\n",
       "</style>\n",
       "<table border=\"1\" class=\"dataframe\">\n",
       "  <thead>\n",
       "    <tr style=\"text-align: right;\">\n",
       "      <th></th>\n",
       "      <th>user.id</th>\n",
       "      <th>suspended</th>\n",
       "      <th>text</th>\n",
       "    </tr>\n",
       "  </thead>\n",
       "  <tbody>\n",
       "    <tr>\n",
       "      <th>0</th>\n",
       "      <td>1.278122e+18</td>\n",
       "      <td>0</td>\n",
       "      <td>今天第一次上推特，看看世界 @ttingxiao 胡说八道</td>\n",
       "    </tr>\n",
       "    <tr>\n",
       "      <th>1</th>\n",
       "      <td>1.278129e+18</td>\n",
       "      <td>0</td>\n",
       "      <td>@JimDong16 @jianshang82 @huangzhixia @iingwen ...</td>\n",
       "    </tr>\n",
       "    <tr>\n",
       "      <th>2</th>\n",
       "      <td>1.278131e+18</td>\n",
       "      <td>0</td>\n",
       "      <td>@mian050715 @91porm nerd_face</td>\n",
       "    </tr>\n",
       "    <tr>\n",
       "      <th>3</th>\n",
       "      <td>1.278145e+18</td>\n",
       "      <td>1</td>\n",
       "      <td>join amazon</td>\n",
       "    </tr>\n",
       "    <tr>\n",
       "      <th>4</th>\n",
       "      <td>1.278155e+18</td>\n",
       "      <td>0</td>\n",
       "      <td>@yqMFcTa36NRSAOp @PDChinese 能怎样？ @SBjuexing fa...</td>\n",
       "    </tr>\n",
       "  </tbody>\n",
       "</table>\n",
       "</div>"
      ],
      "text/plain": [
       "        user.id  suspended                                               text\n",
       "0  1.278122e+18          0                      今天第一次上推特，看看世界 @ttingxiao 胡说八道\n",
       "1  1.278129e+18          0  @JimDong16 @jianshang82 @huangzhixia @iingwen ...\n",
       "2  1.278131e+18          0                     @mian050715 @91porm nerd_face \n",
       "3  1.278145e+18          1                                        join amazon\n",
       "4  1.278155e+18          0  @yqMFcTa36NRSAOp @PDChinese 能怎样？ @SBjuexing fa..."
      ]
     },
     "execution_count": 14,
     "metadata": {},
     "output_type": "execute_result"
    }
   ],
   "source": [
    "df_test = df_test.groupby(['user.id', 'suspended'])['text'].apply(lambda x: ' '.join(x)).reset_index()\n",
    "df_test.head()"
   ]
  },
  {
   "cell_type": "markdown",
   "metadata": {
    "papermill": {
     "duration": 0.068709,
     "end_time": "2021-05-17T15:30:43.689552",
     "exception": false,
     "start_time": "2021-05-17T15:30:43.620843",
     "status": "completed"
    },
    "tags": []
   },
   "source": [
    "### Split out text"
   ]
  },
  {
   "cell_type": "code",
   "execution_count": 15,
   "metadata": {
    "execution": {
     "iopub.execute_input": "2021-05-17T15:30:43.834605Z",
     "iopub.status.busy": "2021-05-17T15:30:43.833181Z",
     "iopub.status.idle": "2021-05-17T15:30:43.835678Z",
     "shell.execute_reply": "2021-05-17T15:30:43.836093Z"
    },
    "papermill": {
     "duration": 0.079876,
     "end_time": "2021-05-17T15:30:43.836204",
     "exception": false,
     "start_time": "2021-05-17T15:30:43.756328",
     "status": "completed"
    },
    "tags": []
   },
   "outputs": [],
   "source": [
    "def get_split(text1):\n",
    "    l_total = []\n",
    "    l_parcial = []\n",
    "    if len(text1.split())//150 >0:\n",
    "        n = len(text1.split())//150\n",
    "    else: \n",
    "        n = 1\n",
    "    for w in range(n):\n",
    "        if w == 0:\n",
    "            l_parcial = text1.split()[:200]\n",
    "            l_total.append(\" \".join(l_parcial))\n",
    "        else:\n",
    "            l_parcial = text1.split()[w*150:w*150 + 200]\n",
    "            l_total.append(\" \".join(l_parcial))\n",
    "    return l_total"
   ]
  },
  {
   "cell_type": "code",
   "execution_count": 16,
   "metadata": {
    "execution": {
     "iopub.execute_input": "2021-05-17T15:30:44.031004Z",
     "iopub.status.busy": "2021-05-17T15:30:44.014720Z",
     "iopub.status.idle": "2021-05-17T15:30:57.957723Z",
     "shell.execute_reply": "2021-05-17T15:30:57.956772Z"
    },
    "papermill": {
     "duration": 14.05419,
     "end_time": "2021-05-17T15:30:57.957829",
     "exception": false,
     "start_time": "2021-05-17T15:30:43.903639",
     "status": "completed"
    },
    "tags": []
   },
   "outputs": [
    {
     "data": {
      "text/html": [
       "<div>\n",
       "<style scoped>\n",
       "    .dataframe tbody tr th:only-of-type {\n",
       "        vertical-align: middle;\n",
       "    }\n",
       "\n",
       "    .dataframe tbody tr th {\n",
       "        vertical-align: top;\n",
       "    }\n",
       "\n",
       "    .dataframe thead th {\n",
       "        text-align: right;\n",
       "    }\n",
       "</style>\n",
       "<table border=\"1\" class=\"dataframe\">\n",
       "  <thead>\n",
       "    <tr style=\"text-align: right;\">\n",
       "      <th></th>\n",
       "      <th>user.id</th>\n",
       "      <th>suspended</th>\n",
       "      <th>text</th>\n",
       "      <th>text_split</th>\n",
       "    </tr>\n",
       "  </thead>\n",
       "  <tbody>\n",
       "    <tr>\n",
       "      <th>0</th>\n",
       "      <td>1.278130e+18</td>\n",
       "      <td>0</td>\n",
       "      <td>@ImranKhanPTI me mazor adme ho</td>\n",
       "      <td>[@ImranKhanPTI me mazor adme ho]</td>\n",
       "    </tr>\n",
       "    <tr>\n",
       "      <th>1</th>\n",
       "      <td>1.278132e+18</td>\n",
       "      <td>0</td>\n",
       "      <td>@SatoshiLite @litecoin face_with_monocle face_...</td>\n",
       "      <td>[@SatoshiLite @litecoin face_with_monocle face...</td>\n",
       "    </tr>\n",
       "    <tr>\n",
       "      <th>2</th>\n",
       "      <td>1.278136e+18</td>\n",
       "      <td>0</td>\n",
       "      <td>https://t.co/2tSmlYkG4v</td>\n",
       "      <td>[https://t.co/2tSmlYkG4v]</td>\n",
       "    </tr>\n",
       "    <tr>\n",
       "      <th>3</th>\n",
       "      <td>1.278138e+18</td>\n",
       "      <td>0</td>\n",
       "      <td>@getput @zhanglifan 为什么西方所谓的双标的平等，自由就是对的？这就是典型...</td>\n",
       "      <td>[@getput @zhanglifan 为什么西方所谓的双标的平等，自由就是对的？这就是典...</td>\n",
       "    </tr>\n",
       "    <tr>\n",
       "      <th>4</th>\n",
       "      <td>1.278143e+18</td>\n",
       "      <td>0</td>\n",
       "      <td>@Chandankrishn13 @zlj517 干了这杯恒河水！ @tamaya14901...</td>\n",
       "      <td>[@Chandankrishn13 @zlj517 干了这杯恒河水！ @tamaya1490...</td>\n",
       "    </tr>\n",
       "  </tbody>\n",
       "</table>\n",
       "</div>"
      ],
      "text/plain": [
       "        user.id  suspended                                               text  \\\n",
       "0  1.278130e+18          0                     @ImranKhanPTI me mazor adme ho   \n",
       "1  1.278132e+18          0  @SatoshiLite @litecoin face_with_monocle face_...   \n",
       "2  1.278136e+18          0                            https://t.co/2tSmlYkG4v   \n",
       "3  1.278138e+18          0  @getput @zhanglifan 为什么西方所谓的双标的平等，自由就是对的？这就是典型...   \n",
       "4  1.278143e+18          0  @Chandankrishn13 @zlj517 干了这杯恒河水！ @tamaya14901...   \n",
       "\n",
       "                                          text_split  \n",
       "0                   [@ImranKhanPTI me mazor adme ho]  \n",
       "1  [@SatoshiLite @litecoin face_with_monocle face...  \n",
       "2                          [https://t.co/2tSmlYkG4v]  \n",
       "3  [@getput @zhanglifan 为什么西方所谓的双标的平等，自由就是对的？这就是典...  \n",
       "4  [@Chandankrishn13 @zlj517 干了这杯恒河水！ @tamaya1490...  "
      ]
     },
     "execution_count": 16,
     "metadata": {},
     "output_type": "execute_result"
    }
   ],
   "source": [
    "df_train['text_split'] = df_train['text'].apply(get_split)\n",
    "df_train.head()"
   ]
  },
  {
   "cell_type": "code",
   "execution_count": 17,
   "metadata": {
    "execution": {
     "iopub.execute_input": "2021-05-17T15:30:58.105696Z",
     "iopub.status.busy": "2021-05-17T15:30:58.104841Z",
     "iopub.status.idle": "2021-05-17T15:30:58.108923Z",
     "shell.execute_reply": "2021-05-17T15:30:58.108494Z"
    },
    "papermill": {
     "duration": 0.082651,
     "end_time": "2021-05-17T15:30:58.109017",
     "exception": false,
     "start_time": "2021-05-17T15:30:58.026366",
     "status": "completed"
    },
    "tags": []
   },
   "outputs": [
    {
     "data": {
      "text/plain": [
       "1553"
      ]
     },
     "execution_count": 17,
     "metadata": {},
     "output_type": "execute_result"
    }
   ],
   "source": [
    "len(df_train)"
   ]
  },
  {
   "cell_type": "code",
   "execution_count": 18,
   "metadata": {
    "execution": {
     "iopub.execute_input": "2021-05-17T15:30:58.277894Z",
     "iopub.status.busy": "2021-05-17T15:30:58.272854Z",
     "iopub.status.idle": "2021-05-17T15:30:58.471306Z",
     "shell.execute_reply": "2021-05-17T15:30:58.471739Z"
    },
    "papermill": {
     "duration": 0.294976,
     "end_time": "2021-05-17T15:30:58.471861",
     "exception": false,
     "start_time": "2021-05-17T15:30:58.176885",
     "status": "completed"
    },
    "tags": []
   },
   "outputs": [
    {
     "data": {
      "text/plain": [
       "(9492, 9492, 9492, 9492)"
      ]
     },
     "execution_count": 18,
     "metadata": {},
     "output_type": "execute_result"
    }
   ],
   "source": [
    "train_l = []\n",
    "label_l = []\n",
    "index_l =[]\n",
    "userid_l = []\n",
    "for idx,row in df_train.iterrows():\n",
    "    for l in row['text_split']:\n",
    "        train_l.append(l)\n",
    "        label_l.append(row['suspended'])\n",
    "        index_l.append(idx)\n",
    "        userid_l.append(row['user.id'])\n",
    "len(train_l), len(label_l), len(index_l), len(userid_l)"
   ]
  },
  {
   "cell_type": "code",
   "execution_count": 19,
   "metadata": {
    "execution": {
     "iopub.execute_input": "2021-05-17T15:30:58.625350Z",
     "iopub.status.busy": "2021-05-17T15:30:58.624525Z",
     "iopub.status.idle": "2021-05-17T15:30:58.631500Z",
     "shell.execute_reply": "2021-05-17T15:30:58.631063Z"
    },
    "papermill": {
     "duration": 0.09129,
     "end_time": "2021-05-17T15:30:58.631593",
     "exception": false,
     "start_time": "2021-05-17T15:30:58.540303",
     "status": "completed"
    },
    "tags": []
   },
   "outputs": [
    {
     "data": {
      "text/html": [
       "<div>\n",
       "<style scoped>\n",
       "    .dataframe tbody tr th:only-of-type {\n",
       "        vertical-align: middle;\n",
       "    }\n",
       "\n",
       "    .dataframe tbody tr th {\n",
       "        vertical-align: top;\n",
       "    }\n",
       "\n",
       "    .dataframe thead th {\n",
       "        text-align: right;\n",
       "    }\n",
       "</style>\n",
       "<table border=\"1\" class=\"dataframe\">\n",
       "  <thead>\n",
       "    <tr style=\"text-align: right;\">\n",
       "      <th></th>\n",
       "      <th>user.id</th>\n",
       "      <th>text</th>\n",
       "      <th>suspended</th>\n",
       "    </tr>\n",
       "  </thead>\n",
       "  <tbody>\n",
       "    <tr>\n",
       "      <th>0</th>\n",
       "      <td>1.278130e+18</td>\n",
       "      <td>@ImranKhanPTI me mazor adme ho</td>\n",
       "      <td>0</td>\n",
       "    </tr>\n",
       "    <tr>\n",
       "      <th>1</th>\n",
       "      <td>1.278132e+18</td>\n",
       "      <td>@SatoshiLite @litecoin face_with_monocle face_...</td>\n",
       "      <td>0</td>\n",
       "    </tr>\n",
       "    <tr>\n",
       "      <th>2</th>\n",
       "      <td>1.278132e+18</td>\n",
       "      <td>https://t.co/BjWx8KGnnl @qtum #3QEX slightly_s...</td>\n",
       "      <td>0</td>\n",
       "    </tr>\n",
       "    <tr>\n",
       "      <th>3</th>\n",
       "      <td>1.278132e+18</td>\n",
       "      <td>17, 2020 (SGT+8); 2. Open trading time: 19:… h...</td>\n",
       "      <td>0</td>\n",
       "    </tr>\n",
       "    <tr>\n",
       "      <th>4</th>\n",
       "      <td>1.278132e+18</td>\n",
       "      <td>man_running woman_running Come and see if you ...</td>\n",
       "      <td>0</td>\n",
       "    </tr>\n",
       "  </tbody>\n",
       "</table>\n",
       "</div>"
      ],
      "text/plain": [
       "        user.id                                               text  suspended\n",
       "0  1.278130e+18                     @ImranKhanPTI me mazor adme ho          0\n",
       "1  1.278132e+18  @SatoshiLite @litecoin face_with_monocle face_...          0\n",
       "2  1.278132e+18  https://t.co/BjWx8KGnnl @qtum #3QEX slightly_s...          0\n",
       "3  1.278132e+18  17, 2020 (SGT+8); 2. Open trading time: 19:… h...          0\n",
       "4  1.278132e+18  man_running woman_running Come and see if you ...          0"
      ]
     },
     "execution_count": 19,
     "metadata": {},
     "output_type": "execute_result"
    }
   ],
   "source": [
    "df_train = pd.DataFrame({'user.id':userid_l, 'text':train_l, 'suspended':label_l})\n",
    "df_train.head()"
   ]
  },
  {
   "cell_type": "code",
   "execution_count": 20,
   "metadata": {
    "execution": {
     "iopub.execute_input": "2021-05-17T15:30:58.799421Z",
     "iopub.status.busy": "2021-05-17T15:30:58.798854Z",
     "iopub.status.idle": "2021-05-17T15:30:59.569577Z",
     "shell.execute_reply": "2021-05-17T15:30:59.568439Z"
    },
    "papermill": {
     "duration": 0.86966,
     "end_time": "2021-05-17T15:30:59.569708",
     "exception": false,
     "start_time": "2021-05-17T15:30:58.700048",
     "status": "completed"
    },
    "tags": []
   },
   "outputs": [],
   "source": [
    "df_train_2 = df_train.copy()\n",
    "df_train_2['user.id'] = df_train_2['user.id'].astype('str')\n",
    "df_train_2['user.id'] = df_train_2['user.id'].apply(lambda x: \"'\" + x + \"'\")\n",
    "df_train_2['user.id'] = df_train_2['user.id'].astype('str')\n",
    "df_train_2['user.id'] = df_train_2['user.id'].apply(lambda x: \"'\" + x + \"'\")\n",
    "\n",
    "df_train_2.to_csv('df_train_2_overlap.csv', index=False, encoding = \"utf_8_sig\")"
   ]
  },
  {
   "cell_type": "code",
   "execution_count": 21,
   "metadata": {
    "execution": {
     "iopub.execute_input": "2021-05-17T15:30:59.769367Z",
     "iopub.status.busy": "2021-05-17T15:30:59.733050Z",
     "iopub.status.idle": "2021-05-17T15:31:01.277996Z",
     "shell.execute_reply": "2021-05-17T15:31:01.278416Z"
    },
    "papermill": {
     "duration": 1.639753,
     "end_time": "2021-05-17T15:31:01.278551",
     "exception": false,
     "start_time": "2021-05-17T15:30:59.638798",
     "status": "completed"
    },
    "tags": []
   },
   "outputs": [
    {
     "data": {
      "text/html": [
       "<div>\n",
       "<style scoped>\n",
       "    .dataframe tbody tr th:only-of-type {\n",
       "        vertical-align: middle;\n",
       "    }\n",
       "\n",
       "    .dataframe tbody tr th {\n",
       "        vertical-align: top;\n",
       "    }\n",
       "\n",
       "    .dataframe thead th {\n",
       "        text-align: right;\n",
       "    }\n",
       "</style>\n",
       "<table border=\"1\" class=\"dataframe\">\n",
       "  <thead>\n",
       "    <tr style=\"text-align: right;\">\n",
       "      <th></th>\n",
       "      <th>user.id</th>\n",
       "      <th>suspended</th>\n",
       "      <th>text</th>\n",
       "      <th>text_split</th>\n",
       "    </tr>\n",
       "  </thead>\n",
       "  <tbody>\n",
       "    <tr>\n",
       "      <th>0</th>\n",
       "      <td>1.278120e+18</td>\n",
       "      <td>1</td>\n",
       "      <td>@RFS_China 窝扪终锅震的是胎pear 害hot_pepper  @NSJ_zz_ ...</td>\n",
       "      <td>[@RFS_China 窝扪终锅震的是胎pear 害hot_pepper @NSJ_zz_ ...</td>\n",
       "    </tr>\n",
       "    <tr>\n",
       "      <th>1</th>\n",
       "      <td>1.278152e+18</td>\n",
       "      <td>0</td>\n",
       "      <td>@nnnwzdcsbwqnm11 @realDonaldTrump 这图恶心到我了 @Gan...</td>\n",
       "      <td>[@nnnwzdcsbwqnm11 @realDonaldTrump 这图恶心到我了 @Ga...</td>\n",
       "    </tr>\n",
       "    <tr>\n",
       "      <th>2</th>\n",
       "      <td>1.278155e+18</td>\n",
       "      <td>0</td>\n",
       "      <td>@chowtingagnes 馬鹿 @joshuawongcf jail is well p...</td>\n",
       "      <td>[@chowtingagnes 馬鹿 @joshuawongcf jail is well ...</td>\n",
       "    </tr>\n",
       "    <tr>\n",
       "      <th>3</th>\n",
       "      <td>1.278178e+18</td>\n",
       "      <td>0</td>\n",
       "      <td>Play with me and destroy our friendship #Board...</td>\n",
       "      <td>[Play with me and destroy our friendship #Boar...</td>\n",
       "    </tr>\n",
       "    <tr>\n",
       "      <th>4</th>\n",
       "      <td>1.278191e+18</td>\n",
       "      <td>0</td>\n",
       "      <td>@nytchinese @NYTimesCohen 这 主编喝醉了？ RT @AbeShin...</td>\n",
       "      <td>[@nytchinese @NYTimesCohen 这 主编喝醉了？ RT @AbeShi...</td>\n",
       "    </tr>\n",
       "  </tbody>\n",
       "</table>\n",
       "</div>"
      ],
      "text/plain": [
       "        user.id  suspended                                               text  \\\n",
       "0  1.278120e+18          1  @RFS_China 窝扪终锅震的是胎pear 害hot_pepper  @NSJ_zz_ ...   \n",
       "1  1.278152e+18          0  @nnnwzdcsbwqnm11 @realDonaldTrump 这图恶心到我了 @Gan...   \n",
       "2  1.278155e+18          0  @chowtingagnes 馬鹿 @joshuawongcf jail is well p...   \n",
       "3  1.278178e+18          0  Play with me and destroy our friendship #Board...   \n",
       "4  1.278191e+18          0  @nytchinese @NYTimesCohen 这 主编喝醉了？ RT @AbeShin...   \n",
       "\n",
       "                                          text_split  \n",
       "0  [@RFS_China 窝扪终锅震的是胎pear 害hot_pepper @NSJ_zz_ ...  \n",
       "1  [@nnnwzdcsbwqnm11 @realDonaldTrump 这图恶心到我了 @Ga...  \n",
       "2  [@chowtingagnes 馬鹿 @joshuawongcf jail is well ...  \n",
       "3  [Play with me and destroy our friendship #Boar...  \n",
       "4  [@nytchinese @NYTimesCohen 这 主编喝醉了？ RT @AbeShi...  "
      ]
     },
     "execution_count": 21,
     "metadata": {},
     "output_type": "execute_result"
    }
   ],
   "source": [
    "df_valid['text_split'] = df_valid['text'].apply(get_split)\n",
    "df_valid.head()"
   ]
  },
  {
   "cell_type": "code",
   "execution_count": 22,
   "metadata": {
    "execution": {
     "iopub.execute_input": "2021-05-17T15:31:01.459465Z",
     "iopub.status.busy": "2021-05-17T15:31:01.449275Z",
     "iopub.status.idle": "2021-05-17T15:31:01.510090Z",
     "shell.execute_reply": "2021-05-17T15:31:01.509625Z"
    },
    "papermill": {
     "duration": 0.162324,
     "end_time": "2021-05-17T15:31:01.510189",
     "exception": false,
     "start_time": "2021-05-17T15:31:01.347865",
     "status": "completed"
    },
    "tags": []
   },
   "outputs": [
    {
     "data": {
      "text/plain": [
       "(2590, 2590, 2590, 2590)"
      ]
     },
     "execution_count": 22,
     "metadata": {},
     "output_type": "execute_result"
    }
   ],
   "source": [
    "val_l = []\n",
    "val_label_l = []\n",
    "val_index_l =[]\n",
    "val_userid_l = []\n",
    "for idx,row in df_valid.iterrows():\n",
    "    for l in row['text_split']:\n",
    "        val_l.append(l)\n",
    "        val_label_l.append(row['suspended'])\n",
    "        val_index_l.append(idx)\n",
    "        val_userid_l.append(row['user.id'])\n",
    "len(val_l), len(val_label_l), len(val_index_l),  len(val_userid_l)"
   ]
  },
  {
   "cell_type": "code",
   "execution_count": 23,
   "metadata": {
    "execution": {
     "iopub.execute_input": "2021-05-17T15:31:01.662499Z",
     "iopub.status.busy": "2021-05-17T15:31:01.661714Z",
     "iopub.status.idle": "2021-05-17T15:31:01.665015Z",
     "shell.execute_reply": "2021-05-17T15:31:01.665482Z"
    },
    "papermill": {
     "duration": 0.085739,
     "end_time": "2021-05-17T15:31:01.665602",
     "exception": false,
     "start_time": "2021-05-17T15:31:01.579863",
     "status": "completed"
    },
    "tags": []
   },
   "outputs": [
    {
     "data": {
      "text/html": [
       "<div>\n",
       "<style scoped>\n",
       "    .dataframe tbody tr th:only-of-type {\n",
       "        vertical-align: middle;\n",
       "    }\n",
       "\n",
       "    .dataframe tbody tr th {\n",
       "        vertical-align: top;\n",
       "    }\n",
       "\n",
       "    .dataframe thead th {\n",
       "        text-align: right;\n",
       "    }\n",
       "</style>\n",
       "<table border=\"1\" class=\"dataframe\">\n",
       "  <thead>\n",
       "    <tr style=\"text-align: right;\">\n",
       "      <th></th>\n",
       "      <th>user.id</th>\n",
       "      <th>text</th>\n",
       "      <th>suspended</th>\n",
       "    </tr>\n",
       "  </thead>\n",
       "  <tbody>\n",
       "    <tr>\n",
       "      <th>0</th>\n",
       "      <td>1.278120e+18</td>\n",
       "      <td>@RFS_China 窝扪终锅震的是胎pear 害hot_pepper @NSJ_zz_ 希...</td>\n",
       "      <td>1</td>\n",
       "    </tr>\n",
       "    <tr>\n",
       "      <th>1</th>\n",
       "      <td>1.278120e+18</td>\n",
       "      <td>家 狂 喜 @Gentlemao1 @leevitan @Rome_Theodoro 正确示...</td>\n",
       "      <td>1</td>\n",
       "    </tr>\n",
       "    <tr>\n",
       "      <th>2</th>\n",
       "      <td>1.278120e+18</td>\n",
       "      <td>@MIT5bnanana @Rosieja19741761 @naser_aali 这人ra...</td>\n",
       "      <td>1</td>\n",
       "    </tr>\n",
       "    <tr>\n",
       "      <th>3</th>\n",
       "      <td>1.278120e+18</td>\n",
       "      <td>建议加入中推圈经典 #RGTV 我的入关学浓度是97分【铁杆入关人】，你也来测测你的入关浓度...</td>\n",
       "      <td>1</td>\n",
       "    </tr>\n",
       "    <tr>\n",
       "      <th>4</th>\n",
       "      <td>1.278120e+18</td>\n",
       "      <td>https://t.co/JBmF9WYcbw @arashilover7 @joshuaw...</td>\n",
       "      <td>1</td>\n",
       "    </tr>\n",
       "  </tbody>\n",
       "</table>\n",
       "</div>"
      ],
      "text/plain": [
       "        user.id                                               text  suspended\n",
       "0  1.278120e+18  @RFS_China 窝扪终锅震的是胎pear 害hot_pepper @NSJ_zz_ 希...          1\n",
       "1  1.278120e+18  家 狂 喜 @Gentlemao1 @leevitan @Rome_Theodoro 正确示...          1\n",
       "2  1.278120e+18  @MIT5bnanana @Rosieja19741761 @naser_aali 这人ra...          1\n",
       "3  1.278120e+18  建议加入中推圈经典 #RGTV 我的入关学浓度是97分【铁杆入关人】，你也来测测你的入关浓度...          1\n",
       "4  1.278120e+18  https://t.co/JBmF9WYcbw @arashilover7 @joshuaw...          1"
      ]
     },
     "execution_count": 23,
     "metadata": {},
     "output_type": "execute_result"
    }
   ],
   "source": [
    "df_valid = pd.DataFrame({'user.id':val_userid_l, 'text':val_l, 'suspended':val_label_l})\n",
    "df_valid.head()"
   ]
  },
  {
   "cell_type": "code",
   "execution_count": 24,
   "metadata": {
    "execution": {
     "iopub.execute_input": "2021-05-17T15:31:01.823015Z",
     "iopub.status.busy": "2021-05-17T15:31:01.822175Z",
     "iopub.status.idle": "2021-05-17T15:31:01.989762Z",
     "shell.execute_reply": "2021-05-17T15:31:01.989242Z"
    },
    "papermill": {
     "duration": 0.253077,
     "end_time": "2021-05-17T15:31:01.989879",
     "exception": false,
     "start_time": "2021-05-17T15:31:01.736802",
     "status": "completed"
    },
    "tags": []
   },
   "outputs": [],
   "source": [
    "df_valid_2 = df_valid.copy()\n",
    "df_valid_2['user.id'] = df_valid_2['user.id'].astype('str')\n",
    "df_valid_2['user.id'] = df_valid_2['user.id'].apply(lambda x: \"'\" + x + \"'\")\n",
    "df_valid_2['user.id'] = df_valid_2['user.id'].astype('str')\n",
    "df_valid_2['user.id'] = df_valid_2['user.id'].apply(lambda x: \"'\" + x + \"'\")\n",
    "\n",
    "df_valid_2.to_csv('df_valid_2_overlap.csv', index=False, encoding = \"utf_8_sig\")"
   ]
  },
  {
   "cell_type": "code",
   "execution_count": 25,
   "metadata": {
    "execution": {
     "iopub.execute_input": "2021-05-17T15:31:02.199923Z",
     "iopub.status.busy": "2021-05-17T15:31:02.182100Z",
     "iopub.status.idle": "2021-05-17T15:31:04.334470Z",
     "shell.execute_reply": "2021-05-17T15:31:04.334910Z"
    },
    "papermill": {
     "duration": 2.269999,
     "end_time": "2021-05-17T15:31:04.335031",
     "exception": false,
     "start_time": "2021-05-17T15:31:02.065032",
     "status": "completed"
    },
    "tags": []
   },
   "outputs": [
    {
     "data": {
      "text/html": [
       "<div>\n",
       "<style scoped>\n",
       "    .dataframe tbody tr th:only-of-type {\n",
       "        vertical-align: middle;\n",
       "    }\n",
       "\n",
       "    .dataframe tbody tr th {\n",
       "        vertical-align: top;\n",
       "    }\n",
       "\n",
       "    .dataframe thead th {\n",
       "        text-align: right;\n",
       "    }\n",
       "</style>\n",
       "<table border=\"1\" class=\"dataframe\">\n",
       "  <thead>\n",
       "    <tr style=\"text-align: right;\">\n",
       "      <th></th>\n",
       "      <th>user.id</th>\n",
       "      <th>suspended</th>\n",
       "      <th>text</th>\n",
       "      <th>text_split</th>\n",
       "    </tr>\n",
       "  </thead>\n",
       "  <tbody>\n",
       "    <tr>\n",
       "      <th>0</th>\n",
       "      <td>1.278122e+18</td>\n",
       "      <td>0</td>\n",
       "      <td>今天第一次上推特，看看世界 @ttingxiao 胡说八道</td>\n",
       "      <td>[今天第一次上推特，看看世界 @ttingxiao 胡说八道]</td>\n",
       "    </tr>\n",
       "    <tr>\n",
       "      <th>1</th>\n",
       "      <td>1.278129e+18</td>\n",
       "      <td>0</td>\n",
       "      <td>@JimDong16 @jianshang82 @huangzhixia @iingwen ...</td>\n",
       "      <td>[@JimDong16 @jianshang82 @huangzhixia @iingwen...</td>\n",
       "    </tr>\n",
       "    <tr>\n",
       "      <th>2</th>\n",
       "      <td>1.278131e+18</td>\n",
       "      <td>0</td>\n",
       "      <td>@mian050715 @91porm nerd_face</td>\n",
       "      <td>[@mian050715 @91porm nerd_face]</td>\n",
       "    </tr>\n",
       "    <tr>\n",
       "      <th>3</th>\n",
       "      <td>1.278145e+18</td>\n",
       "      <td>1</td>\n",
       "      <td>join amazon</td>\n",
       "      <td>[join amazon]</td>\n",
       "    </tr>\n",
       "    <tr>\n",
       "      <th>4</th>\n",
       "      <td>1.278155e+18</td>\n",
       "      <td>0</td>\n",
       "      <td>@yqMFcTa36NRSAOp @PDChinese 能怎样？ @SBjuexing fa...</td>\n",
       "      <td>[@yqMFcTa36NRSAOp @PDChinese 能怎样？ @SBjuexing f...</td>\n",
       "    </tr>\n",
       "  </tbody>\n",
       "</table>\n",
       "</div>"
      ],
      "text/plain": [
       "        user.id  suspended                                               text  \\\n",
       "0  1.278122e+18          0                      今天第一次上推特，看看世界 @ttingxiao 胡说八道   \n",
       "1  1.278129e+18          0  @JimDong16 @jianshang82 @huangzhixia @iingwen ...   \n",
       "2  1.278131e+18          0                     @mian050715 @91porm nerd_face    \n",
       "3  1.278145e+18          1                                        join amazon   \n",
       "4  1.278155e+18          0  @yqMFcTa36NRSAOp @PDChinese 能怎样？ @SBjuexing fa...   \n",
       "\n",
       "                                          text_split  \n",
       "0                    [今天第一次上推特，看看世界 @ttingxiao 胡说八道]  \n",
       "1  [@JimDong16 @jianshang82 @huangzhixia @iingwen...  \n",
       "2                    [@mian050715 @91porm nerd_face]  \n",
       "3                                      [join amazon]  \n",
       "4  [@yqMFcTa36NRSAOp @PDChinese 能怎样？ @SBjuexing f...  "
      ]
     },
     "execution_count": 25,
     "metadata": {},
     "output_type": "execute_result"
    }
   ],
   "source": [
    "df_test['text_split'] = df_test['text'].apply(get_split)\n",
    "df_test.head()"
   ]
  },
  {
   "cell_type": "code",
   "execution_count": 26,
   "metadata": {
    "execution": {
     "iopub.execute_input": "2021-05-17T15:31:04.519058Z",
     "iopub.status.busy": "2021-05-17T15:31:04.513955Z",
     "iopub.status.idle": "2021-05-17T15:31:04.557423Z",
     "shell.execute_reply": "2021-05-17T15:31:04.557867Z"
    },
    "papermill": {
     "duration": 0.152141,
     "end_time": "2021-05-17T15:31:04.557995",
     "exception": false,
     "start_time": "2021-05-17T15:31:04.405854",
     "status": "completed"
    },
    "tags": []
   },
   "outputs": [
    {
     "data": {
      "text/plain": [
       "(2779, 2779, 2779, 2779)"
      ]
     },
     "execution_count": 26,
     "metadata": {},
     "output_type": "execute_result"
    }
   ],
   "source": [
    "test_l = []\n",
    "test_label_l = []\n",
    "test_index_l =[]\n",
    "test_userid_l = []\n",
    "for idx,row in df_test.iterrows():\n",
    "    for l in row['text_split']:\n",
    "        test_l.append(l)\n",
    "        test_label_l.append(row['suspended'])\n",
    "        test_index_l.append(idx)\n",
    "        test_userid_l.append(row['user.id'])\n",
    "len(test_l), len(test_label_l), len(test_index_l), len(test_userid_l) "
   ]
  },
  {
   "cell_type": "code",
   "execution_count": 27,
   "metadata": {
    "execution": {
     "iopub.execute_input": "2021-05-17T15:31:04.715023Z",
     "iopub.status.busy": "2021-05-17T15:31:04.714163Z",
     "iopub.status.idle": "2021-05-17T15:31:04.717536Z",
     "shell.execute_reply": "2021-05-17T15:31:04.718001Z"
    },
    "papermill": {
     "duration": 0.088171,
     "end_time": "2021-05-17T15:31:04.718113",
     "exception": false,
     "start_time": "2021-05-17T15:31:04.629942",
     "status": "completed"
    },
    "tags": []
   },
   "outputs": [
    {
     "data": {
      "text/html": [
       "<div>\n",
       "<style scoped>\n",
       "    .dataframe tbody tr th:only-of-type {\n",
       "        vertical-align: middle;\n",
       "    }\n",
       "\n",
       "    .dataframe tbody tr th {\n",
       "        vertical-align: top;\n",
       "    }\n",
       "\n",
       "    .dataframe thead th {\n",
       "        text-align: right;\n",
       "    }\n",
       "</style>\n",
       "<table border=\"1\" class=\"dataframe\">\n",
       "  <thead>\n",
       "    <tr style=\"text-align: right;\">\n",
       "      <th></th>\n",
       "      <th>user.id</th>\n",
       "      <th>text</th>\n",
       "      <th>suspended</th>\n",
       "    </tr>\n",
       "  </thead>\n",
       "  <tbody>\n",
       "    <tr>\n",
       "      <th>0</th>\n",
       "      <td>1.278122e+18</td>\n",
       "      <td>今天第一次上推特，看看世界 @ttingxiao 胡说八道</td>\n",
       "      <td>0</td>\n",
       "    </tr>\n",
       "    <tr>\n",
       "      <th>1</th>\n",
       "      <td>1.278129e+18</td>\n",
       "      <td>@JimDong16 @jianshang82 @huangzhixia @iingwen ...</td>\n",
       "      <td>0</td>\n",
       "    </tr>\n",
       "    <tr>\n",
       "      <th>2</th>\n",
       "      <td>1.278131e+18</td>\n",
       "      <td>@mian050715 @91porm nerd_face</td>\n",
       "      <td>0</td>\n",
       "    </tr>\n",
       "    <tr>\n",
       "      <th>3</th>\n",
       "      <td>1.278145e+18</td>\n",
       "      <td>join amazon</td>\n",
       "      <td>1</td>\n",
       "    </tr>\n",
       "    <tr>\n",
       "      <th>4</th>\n",
       "      <td>1.278155e+18</td>\n",
       "      <td>@yqMFcTa36NRSAOp @PDChinese 能怎样？ @SBjuexing fa...</td>\n",
       "      <td>0</td>\n",
       "    </tr>\n",
       "  </tbody>\n",
       "</table>\n",
       "</div>"
      ],
      "text/plain": [
       "        user.id                                               text  suspended\n",
       "0  1.278122e+18                      今天第一次上推特，看看世界 @ttingxiao 胡说八道          0\n",
       "1  1.278129e+18  @JimDong16 @jianshang82 @huangzhixia @iingwen ...          0\n",
       "2  1.278131e+18                      @mian050715 @91porm nerd_face          0\n",
       "3  1.278145e+18                                        join amazon          1\n",
       "4  1.278155e+18  @yqMFcTa36NRSAOp @PDChinese 能怎样？ @SBjuexing fa...          0"
      ]
     },
     "execution_count": 27,
     "metadata": {},
     "output_type": "execute_result"
    }
   ],
   "source": [
    "df_test = pd.DataFrame({'user.id':test_userid_l,'text':test_l, 'suspended':test_label_l})\n",
    "df_test.head()"
   ]
  },
  {
   "cell_type": "code",
   "execution_count": 28,
   "metadata": {
    "execution": {
     "iopub.execute_input": "2021-05-17T15:31:04.878498Z",
     "iopub.status.busy": "2021-05-17T15:31:04.877712Z",
     "iopub.status.idle": "2021-05-17T15:31:05.057269Z",
     "shell.execute_reply": "2021-05-17T15:31:05.056790Z"
    },
    "papermill": {
     "duration": 0.267852,
     "end_time": "2021-05-17T15:31:05.057373",
     "exception": false,
     "start_time": "2021-05-17T15:31:04.789521",
     "status": "completed"
    },
    "tags": []
   },
   "outputs": [],
   "source": [
    "df_test_2 = df_test.copy()\n",
    "df_test_2['user.id'] = df_test_2['user.id'].astype('str')\n",
    "df_test_2['user.id'] = df_test_2['user.id'].apply(lambda x: \"'\" + x + \"'\")\n",
    "df_test_2['user.id'] = df_test_2['user.id'].astype('str')\n",
    "df_test_2['user.id'] = df_test_2['user.id'].apply(lambda x: \"'\" + x + \"'\")\n",
    "\n",
    "df_test_2.to_csv('df_test_2_overlap.csv', index=False, encoding = \"utf_8_sig\")"
   ]
  },
  {
   "cell_type": "markdown",
   "metadata": {
    "papermill": {
     "duration": 0.072002,
     "end_time": "2021-05-17T15:31:05.202307",
     "exception": false,
     "start_time": "2021-05-17T15:31:05.130305",
     "status": "completed"
    },
    "tags": []
   },
   "source": [
    "As you can see in this way we ended with a column (text_split) which every row has a list of string of around 200 word length.\n"
   ]
  },
  {
   "cell_type": "code",
   "execution_count": 29,
   "metadata": {
    "execution": {
     "iopub.execute_input": "2021-05-17T15:31:05.351464Z",
     "iopub.status.busy": "2021-05-17T15:31:05.350828Z",
     "iopub.status.idle": "2021-05-17T15:31:08.801128Z",
     "shell.execute_reply": "2021-05-17T15:31:08.800008Z"
    },
    "papermill": {
     "duration": 3.527127,
     "end_time": "2021-05-17T15:31:08.801253",
     "exception": false,
     "start_time": "2021-05-17T15:31:05.274126",
     "status": "completed"
    },
    "tags": []
   },
   "outputs": [],
   "source": [
    "import numpy as np\n",
    "import pandas as pd\n",
    "import torch\n",
    "import transformers as ppb # pytorch transformers\n",
    "from sklearn.linear_model import LogisticRegression\n",
    "from sklearn.model_selection import cross_val_score\n",
    "from sklearn.model_selection import train_test_split\n",
    "from numba import cuda \n",
    "import gc\n",
    "\n",
    "from sklearn.metrics import roc_auc_score\n",
    "from sklearn.metrics import roc_curve"
   ]
  },
  {
   "cell_type": "markdown",
   "metadata": {
    "papermill": {
     "duration": 0.075214,
     "end_time": "2021-05-17T15:31:08.955107",
     "exception": false,
     "start_time": "2021-05-17T15:31:08.879893",
     "status": "completed"
    },
    "tags": []
   },
   "source": [
    "### Load in Model and Tokenizer"
   ]
  },
  {
   "cell_type": "code",
   "execution_count": 30,
   "metadata": {
    "execution": {
     "iopub.execute_input": "2021-05-17T15:31:09.112538Z",
     "iopub.status.busy": "2021-05-17T15:31:09.111682Z",
     "iopub.status.idle": "2021-05-17T15:31:09.563256Z",
     "shell.execute_reply": "2021-05-17T15:31:09.563911Z"
    },
    "papermill": {
     "duration": 0.534647,
     "end_time": "2021-05-17T15:31:09.564074",
     "exception": false,
     "start_time": "2021-05-17T15:31:09.029427",
     "status": "completed"
    },
    "tags": []
   },
   "outputs": [
    {
     "data": {
      "application/vnd.jupyter.widget-view+json": {
       "model_id": "47e03814c3234a00b05fef521f29fc71",
       "version_major": 2,
       "version_minor": 0
      },
      "text/plain": [
       "HBox(children=(FloatProgress(value=0.0, description='Downloading', max=995526.0, style=ProgressStyle(descripti…"
      ]
     },
     "metadata": {},
     "output_type": "display_data"
    },
    {
     "name": "stdout",
     "output_type": "stream",
     "text": [
      "\n"
     ]
    }
   ],
   "source": [
    "model_class, tokenizer_class, pretrained_weights = (ppb.BertModel, ppb.BertTokenizer, 'bert-base-multilingual-cased')\n",
    "\n",
    "# Load pretrained model/tokenizer\n",
    "tokenizer = tokenizer_class.from_pretrained(pretrained_weights)\n",
    "#model = model_class.from_pretrained(pretrained_weights)"
   ]
  },
  {
   "cell_type": "code",
   "execution_count": 31,
   "metadata": {
    "execution": {
     "iopub.execute_input": "2021-05-17T15:31:09.917882Z",
     "iopub.status.busy": "2021-05-17T15:31:09.917064Z",
     "iopub.status.idle": "2021-05-17T15:31:09.920518Z",
     "shell.execute_reply": "2021-05-17T15:31:09.919661Z"
    },
    "papermill": {
     "duration": 0.279006,
     "end_time": "2021-05-17T15:31:09.920617",
     "exception": false,
     "start_time": "2021-05-17T15:31:09.641611",
     "status": "completed"
    },
    "tags": []
   },
   "outputs": [],
   "source": [
    "gc.collect()\n",
    "torch.cuda.empty_cache()"
   ]
  },
  {
   "cell_type": "code",
   "execution_count": 32,
   "metadata": {
    "execution": {
     "iopub.execute_input": "2021-05-17T15:31:10.089786Z",
     "iopub.status.busy": "2021-05-17T15:31:10.088178Z",
     "iopub.status.idle": "2021-05-17T15:31:10.090359Z",
     "shell.execute_reply": "2021-05-17T15:31:10.090783Z"
    },
    "papermill": {
     "duration": 0.091366,
     "end_time": "2021-05-17T15:31:10.090983",
     "exception": false,
     "start_time": "2021-05-17T15:31:09.999617",
     "status": "completed"
    },
    "tags": []
   },
   "outputs": [],
   "source": [
    "# Get the lists of sentences and their labels.\n",
    "sentences_train = df_train.text.values\n",
    "train_labels = df_train.suspended.values\n",
    "ids_train = df_train.index.values\n",
    "\n",
    "sentences_valid = df_valid.text.values\n",
    "validation_labels = df_valid.suspended.values\n",
    "ids_validation = df_valid.index.values\n",
    "\n",
    "sentences_test = df_test.text.values\n",
    "test_labels = df_test.suspended.values\n",
    "ids_test = df_test.index.values"
   ]
  },
  {
   "cell_type": "code",
   "execution_count": 33,
   "metadata": {
    "execution": {
     "iopub.execute_input": "2021-05-17T15:31:10.254287Z",
     "iopub.status.busy": "2021-05-17T15:31:10.251832Z",
     "iopub.status.idle": "2021-05-17T15:31:10.256885Z",
     "shell.execute_reply": "2021-05-17T15:31:10.256229Z"
    },
    "papermill": {
     "duration": 0.085641,
     "end_time": "2021-05-17T15:31:10.257008",
     "exception": false,
     "start_time": "2021-05-17T15:31:10.171367",
     "status": "completed"
    },
    "tags": []
   },
   "outputs": [
    {
     "name": "stdout",
     "output_type": "stream",
     "text": [
      "Train: 9492 Valid: 2590 Test 2779\n"
     ]
    }
   ],
   "source": [
    "print(\"Train:\", len(sentences_train), \"Valid:\", len(sentences_valid), \"Test\", len(sentences_test))"
   ]
  },
  {
   "cell_type": "markdown",
   "metadata": {
    "papermill": {
     "duration": 0.076659,
     "end_time": "2021-05-17T15:31:10.410553",
     "exception": false,
     "start_time": "2021-05-17T15:31:10.333894",
     "status": "completed"
    },
    "tags": []
   },
   "source": [
    "To feed our text to BERT, it must be split into tokens, and then these tokens must be mapped to their index in the tokenizer vocabulary.\n",
    "\n",
    "The tokenization must be performed by the tokenizer included with BERT–the below cell will download this for us."
   ]
  },
  {
   "cell_type": "code",
   "execution_count": 34,
   "metadata": {
    "execution": {
     "iopub.execute_input": "2021-05-17T15:31:10.569752Z",
     "iopub.status.busy": "2021-05-17T15:31:10.569043Z",
     "iopub.status.idle": "2021-05-17T15:31:10.799115Z",
     "shell.execute_reply": "2021-05-17T15:31:10.797920Z"
    },
    "papermill": {
     "duration": 0.312797,
     "end_time": "2021-05-17T15:31:10.799259",
     "exception": false,
     "start_time": "2021-05-17T15:31:10.486462",
     "status": "completed"
    },
    "tags": []
   },
   "outputs": [
    {
     "name": "stdout",
     "output_type": "stream",
     "text": [
      "Loading BERT tokenizer...\n"
     ]
    }
   ],
   "source": [
    "from transformers import BertTokenizer\n",
    "# Load the BERT tokenizer.\n",
    "print('Loading BERT tokenizer...')\n",
    "tokenizer = BertTokenizer.from_pretrained('bert-base-multilingual-cased', do_lower_case=True)"
   ]
  },
  {
   "cell_type": "markdown",
   "metadata": {
    "papermill": {
     "duration": 0.077709,
     "end_time": "2021-05-17T15:31:10.955102",
     "exception": false,
     "start_time": "2021-05-17T15:31:10.877393",
     "status": "completed"
    },
    "tags": []
   },
   "source": [
    "The tokenizer.encode function combines multiple steps for us:\n",
    "- Split the sentence into tokens.\n",
    "- Add the special [CLS] and [SEP] tokens.\n",
    "- Map the tokens to their IDs.\n",
    "\n",
    "Oddly, this function can perform truncating for us, but doesn’t handle padding."
   ]
  },
  {
   "cell_type": "markdown",
   "metadata": {
    "papermill": {
     "duration": 0.0766,
     "end_time": "2021-05-17T15:31:11.108587",
     "exception": false,
     "start_time": "2021-05-17T15:31:11.031987",
     "status": "completed"
    },
    "tags": []
   },
   "source": [
    "### Prep Data for Model"
   ]
  },
  {
   "cell_type": "code",
   "execution_count": 35,
   "metadata": {
    "execution": {
     "iopub.execute_input": "2021-05-17T15:31:11.271778Z",
     "iopub.status.busy": "2021-05-17T15:31:11.270189Z",
     "iopub.status.idle": "2021-05-17T15:31:11.272780Z",
     "shell.execute_reply": "2021-05-17T15:31:11.273359Z"
    },
    "papermill": {
     "duration": 0.087391,
     "end_time": "2021-05-17T15:31:11.273515",
     "exception": false,
     "start_time": "2021-05-17T15:31:11.186124",
     "status": "completed"
    },
    "tags": []
   },
   "outputs": [],
   "source": [
    "def sent_to_ids(sentences): \n",
    "    # Tokenize all of the sentences and map the tokens to thier word IDs.\n",
    "    input_ids = []\n",
    "    # For every sentence...\n",
    "    for sent in sentences:\n",
    "        # `encode` will:\n",
    "        #   (1) Tokenize the sentence.\n",
    "        #   (2) Prepend the `[CLS]` token to the start.\n",
    "        #   (3) Append the `[SEP]` token to the end.\n",
    "        #   (4) Map tokens to their IDs.\n",
    "        encoded_sent = tokenizer.encode(\n",
    "            sent,                      # Sentence to encode.\n",
    "            add_special_tokens = True, # Add '[CLS]' and '[SEP]'\n",
    "            # This function also supports truncation and conversion\n",
    "            # to pytorch tensors, but we need to do padding, so we\n",
    "            # can't use these features :( .\n",
    "            #max_length = 128,          # Truncate all sentences.\n",
    "            #return_tensors = 'pt',     # Return pytorch tensors.\n",
    "        )\n",
    "        # Add the encoded sentence to the list.\n",
    "        input_ids.append(encoded_sent)\n",
    "        # Pad and truncate our sequences so that they all have the same length\n",
    "    input_ids = pad_sequences(input_ids, maxlen=120, dtype=\"long\", \n",
    "                            value=0, truncating=\"post\", padding=\"post\")\n",
    "    return input_ids"
   ]
  },
  {
   "cell_type": "code",
   "execution_count": 36,
   "metadata": {
    "execution": {
     "iopub.execute_input": "2021-05-17T15:31:11.459832Z",
     "iopub.status.busy": "2021-05-17T15:31:11.458840Z",
     "iopub.status.idle": "2021-05-17T15:32:46.662617Z",
     "shell.execute_reply": "2021-05-17T15:32:46.663723Z"
    },
    "papermill": {
     "duration": 95.31161,
     "end_time": "2021-05-17T15:32:46.663927",
     "exception": false,
     "start_time": "2021-05-17T15:31:11.352317",
     "status": "completed"
    },
    "tags": []
   },
   "outputs": [
    {
     "name": "stderr",
     "output_type": "stream",
     "text": [
      "Token indices sequence length is longer than the specified maximum sequence length for this model (720 > 512). Running this sequence through the model will result in indexing errors\n"
     ]
    }
   ],
   "source": [
    "train_inputs = sent_to_ids(sentences_train)"
   ]
  },
  {
   "cell_type": "code",
   "execution_count": 37,
   "metadata": {
    "execution": {
     "iopub.execute_input": "2021-05-17T15:32:46.922743Z",
     "iopub.status.busy": "2021-05-17T15:32:46.921978Z",
     "iopub.status.idle": "2021-05-17T15:33:13.643681Z",
     "shell.execute_reply": "2021-05-17T15:33:13.643043Z"
    },
    "papermill": {
     "duration": 26.855924,
     "end_time": "2021-05-17T15:33:13.643787",
     "exception": false,
     "start_time": "2021-05-17T15:32:46.787863",
     "status": "completed"
    },
    "tags": []
   },
   "outputs": [],
   "source": [
    "validation_inputs = sent_to_ids(sentences_valid)"
   ]
  },
  {
   "cell_type": "code",
   "execution_count": 38,
   "metadata": {
    "execution": {
     "iopub.execute_input": "2021-05-17T15:33:13.828739Z",
     "iopub.status.busy": "2021-05-17T15:33:13.823701Z",
     "iopub.status.idle": "2021-05-17T15:33:43.582437Z",
     "shell.execute_reply": "2021-05-17T15:33:43.581854Z"
    },
    "papermill": {
     "duration": 29.863424,
     "end_time": "2021-05-17T15:33:43.582555",
     "exception": false,
     "start_time": "2021-05-17T15:33:13.719131",
     "status": "completed"
    },
    "tags": []
   },
   "outputs": [],
   "source": [
    "test_inputs = sent_to_ids(sentences_test)"
   ]
  },
  {
   "cell_type": "code",
   "execution_count": 39,
   "metadata": {
    "execution": {
     "iopub.execute_input": "2021-05-17T15:33:43.742256Z",
     "iopub.status.busy": "2021-05-17T15:33:43.741468Z",
     "iopub.status.idle": "2021-05-17T15:33:43.746613Z",
     "shell.execute_reply": "2021-05-17T15:33:43.746001Z"
    },
    "papermill": {
     "duration": 0.086058,
     "end_time": "2021-05-17T15:33:43.746717",
     "exception": false,
     "start_time": "2021-05-17T15:33:43.660659",
     "status": "completed"
    },
    "tags": []
   },
   "outputs": [
    {
     "name": "stdout",
     "output_type": "stream",
     "text": [
      "Train: 9492 Valid: 2590 Test 2779\n"
     ]
    }
   ],
   "source": [
    "print(\"Train:\", len(train_inputs), \"Valid:\", len(validation_inputs), \"Test\", len(test_inputs))"
   ]
  },
  {
   "cell_type": "code",
   "execution_count": 40,
   "metadata": {
    "execution": {
     "iopub.execute_input": "2021-05-17T15:33:43.907931Z",
     "iopub.status.busy": "2021-05-17T15:33:43.905780Z",
     "iopub.status.idle": "2021-05-17T15:33:43.908595Z",
     "shell.execute_reply": "2021-05-17T15:33:43.909027Z"
    },
    "papermill": {
     "duration": 0.087079,
     "end_time": "2021-05-17T15:33:43.909146",
     "exception": false,
     "start_time": "2021-05-17T15:33:43.822067",
     "status": "completed"
    },
    "tags": []
   },
   "outputs": [],
   "source": [
    "def get_attn_msks(input_ids):\n",
    "  # Create attention masks\n",
    "    attention_masks = []\n",
    "  # For each sentence...\n",
    "    for sent in input_ids:\n",
    "        # Create the attention mask.\n",
    "        #   - If a token ID is 0, then it's padding, set the mask to 0.\n",
    "        #   - If a token ID is > 0, then it's a real token, set the mask to 1.\n",
    "        att_mask = [int(token_id > 0) for token_id in sent]\n",
    "      \n",
    "        # Store the attention mask for this sentence.\n",
    "        attention_masks.append(att_mask)\n",
    "    return attention_masks"
   ]
  },
  {
   "cell_type": "code",
   "execution_count": 41,
   "metadata": {
    "execution": {
     "iopub.execute_input": "2021-05-17T15:33:44.097568Z",
     "iopub.status.busy": "2021-05-17T15:33:44.087410Z",
     "iopub.status.idle": "2021-05-17T15:33:45.104141Z",
     "shell.execute_reply": "2021-05-17T15:33:45.103675Z"
    },
    "papermill": {
     "duration": 1.119275,
     "end_time": "2021-05-17T15:33:45.104248",
     "exception": false,
     "start_time": "2021-05-17T15:33:43.984973",
     "status": "completed"
    },
    "tags": []
   },
   "outputs": [],
   "source": [
    "train_masks = get_attn_msks(train_inputs)"
   ]
  },
  {
   "cell_type": "code",
   "execution_count": 42,
   "metadata": {
    "execution": {
     "iopub.execute_input": "2021-05-17T15:33:45.276822Z",
     "iopub.status.busy": "2021-05-17T15:33:45.271766Z",
     "iopub.status.idle": "2021-05-17T15:33:45.551299Z",
     "shell.execute_reply": "2021-05-17T15:33:45.550824Z"
    },
    "papermill": {
     "duration": 0.369818,
     "end_time": "2021-05-17T15:33:45.551405",
     "exception": false,
     "start_time": "2021-05-17T15:33:45.181587",
     "status": "completed"
    },
    "tags": []
   },
   "outputs": [],
   "source": [
    "validation_masks = get_attn_msks(validation_inputs)"
   ]
  },
  {
   "cell_type": "code",
   "execution_count": 43,
   "metadata": {
    "execution": {
     "iopub.execute_input": "2021-05-17T15:33:45.727038Z",
     "iopub.status.busy": "2021-05-17T15:33:45.716773Z",
     "iopub.status.idle": "2021-05-17T15:33:46.022786Z",
     "shell.execute_reply": "2021-05-17T15:33:46.022251Z"
    },
    "papermill": {
     "duration": 0.394879,
     "end_time": "2021-05-17T15:33:46.022901",
     "exception": false,
     "start_time": "2021-05-17T15:33:45.628022",
     "status": "completed"
    },
    "tags": []
   },
   "outputs": [],
   "source": [
    "test_masks = get_attn_msks(test_inputs)"
   ]
  },
  {
   "cell_type": "markdown",
   "metadata": {
    "papermill": {
     "duration": 0.076385,
     "end_time": "2021-05-17T15:33:46.181309",
     "exception": false,
     "start_time": "2021-05-17T15:33:46.104924",
     "status": "completed"
    },
    "tags": []
   },
   "source": [
    "Converting to PyTorch Data Types\n",
    "\n",
    "Our model expects PyTorch tensors rather than numpy.ndarrays, so convert all of our dataset variables."
   ]
  },
  {
   "cell_type": "code",
   "execution_count": 44,
   "metadata": {
    "execution": {
     "iopub.execute_input": "2021-05-17T15:33:46.347095Z",
     "iopub.status.busy": "2021-05-17T15:33:46.346472Z",
     "iopub.status.idle": "2021-05-17T15:33:46.521949Z",
     "shell.execute_reply": "2021-05-17T15:33:46.521401Z"
    },
    "papermill": {
     "duration": 0.263909,
     "end_time": "2021-05-17T15:33:46.522054",
     "exception": false,
     "start_time": "2021-05-17T15:33:46.258145",
     "status": "completed"
    },
    "tags": []
   },
   "outputs": [],
   "source": [
    "# Convert all inputs and labels into torch tensors, the required datatype \n",
    "# for our model.\n",
    "train_inputs = torch.tensor(train_inputs)\n",
    "validation_inputs = torch.tensor(validation_inputs)\n",
    "train_labels = torch.tensor(train_labels)\n",
    "validation_labels = torch.tensor(validation_labels)\n",
    "train_masks = torch.tensor(train_masks)\n",
    "validation_masks = torch.tensor(validation_masks)\n",
    "\n",
    "train_ids = torch.tensor(ids_train)\n",
    "valid_ids = torch.tensor(ids_validation)"
   ]
  },
  {
   "cell_type": "code",
   "execution_count": 45,
   "metadata": {
    "execution": {
     "iopub.execute_input": "2021-05-17T15:33:46.702852Z",
     "iopub.status.busy": "2021-05-17T15:33:46.701976Z",
     "iopub.status.idle": "2021-05-17T15:33:46.706259Z",
     "shell.execute_reply": "2021-05-17T15:33:46.705807Z"
    },
    "papermill": {
     "duration": 0.093707,
     "end_time": "2021-05-17T15:33:46.706347",
     "exception": false,
     "start_time": "2021-05-17T15:33:46.612640",
     "status": "completed"
    },
    "tags": []
   },
   "outputs": [
    {
     "name": "stdout",
     "output_type": "stream",
     "text": [
      "Train: 9492 Valid: 2590 Test 2779\n"
     ]
    }
   ],
   "source": [
    "print(\"Train:\", len(train_inputs), \"Valid:\", len(validation_inputs), \"Test\", len(test_inputs))"
   ]
  },
  {
   "cell_type": "markdown",
   "metadata": {
    "papermill": {
     "duration": 0.077811,
     "end_time": "2021-05-17T15:33:46.861809",
     "exception": false,
     "start_time": "2021-05-17T15:33:46.783998",
     "status": "completed"
    },
    "tags": []
   },
   "source": [
    "We’ll also create an iterator for our dataset using the torch DataLoader class. This helps save on memory during training because, unlike a for loop, with an iterator the entire dataset does not need to be loaded into memory."
   ]
  },
  {
   "cell_type": "code",
   "execution_count": 46,
   "metadata": {
    "execution": {
     "iopub.execute_input": "2021-05-17T15:33:47.028602Z",
     "iopub.status.busy": "2021-05-17T15:33:47.027756Z",
     "iopub.status.idle": "2021-05-17T15:33:47.030059Z",
     "shell.execute_reply": "2021-05-17T15:33:47.030534Z"
    },
    "papermill": {
     "duration": 0.089935,
     "end_time": "2021-05-17T15:33:47.030649",
     "exception": false,
     "start_time": "2021-05-17T15:33:46.940714",
     "status": "completed"
    },
    "tags": []
   },
   "outputs": [],
   "source": [
    "from torch.utils.data import TensorDataset, DataLoader, RandomSampler, SequentialSampler\n",
    "# The DataLoader needs to know our batch size for training, so we specify it \n",
    "# here.\n",
    "# For fine-tuning BERT on a specific task, the authors recommend a batch size of\n",
    "# 16 or 32.\n",
    "batch_size = 16 # try 32, and then move down to 16 and 8. \n",
    "# Create the DataLoader for our training set.\n",
    "train_data = TensorDataset(train_inputs, train_masks, train_labels, train_ids)\n",
    "train_sampler = RandomSampler(train_data) # CHANGE TO SEQUENTIAL (TRAIN_SEQUENTIAL_SAMPLER - BUT DO SEQUENTIALLY FOR HIDDEN STATES)\n",
    "train_dataloader = DataLoader(train_data, sampler=train_sampler, batch_size=batch_size)\n",
    "# Create the DataLoader for our validation set.\n",
    "validation_data = TensorDataset(validation_inputs, validation_masks, validation_labels, valid_ids)\n",
    "validation_sampler = SequentialSampler(validation_data)\n",
    "validation_dataloader = DataLoader(validation_data, sampler=validation_sampler, batch_size=batch_size)\n",
    "\n",
    "# Create the DataLoader for our training set for the embedding extraction.\n",
    "train_sampler_sequential = SequentialSampler(train_data) # CHANGE TO SEQUENTIAL (TRAIN_SEQUENTIAL_SAMPLER - BUT DO SEQUENTIALLY FOR HIDDEN STATES)\n",
    "train_dataloader_sequential = DataLoader(train_data, sampler=train_sampler_sequential, batch_size=batch_size)"
   ]
  },
  {
   "cell_type": "markdown",
   "metadata": {
    "papermill": {
     "duration": 0.078421,
     "end_time": "2021-05-17T15:33:47.186279",
     "exception": false,
     "start_time": "2021-05-17T15:33:47.107858",
     "status": "completed"
    },
    "tags": []
   },
   "source": [
    "Now that our input data is properly formatted, it’s time to fine tune the BERT model.\n",
    "\n",
    "For this task, we first want to modify the pre-trained BERT model to give outputs for classification, and then we want to continue training the model on our dataset until that the entire model, end-to-end, is well-suited for our task.\n",
    "\n",
    "Thankfully, the huggingface pytorch implementation includes a set of interfaces designed for a variety of NLP tasks. Though these interfaces are all built on top of a trained BERT model, each has different top layers and output types designed to accomodate their specific NLP task.\n",
    "\n",
    "We’ll be using Bert Classification Model.This is the normal BERT model with an added single linear layer on top for classification that we will use as a sentence classifier. As we feed input data, the entire pre-trained BERT model and the additional untrained classification layer is trained on our specific task.\n"
   ]
  },
  {
   "cell_type": "code",
   "execution_count": 47,
   "metadata": {
    "execution": {
     "iopub.execute_input": "2021-05-17T15:33:47.354188Z",
     "iopub.status.busy": "2021-05-17T15:33:47.353506Z",
     "iopub.status.idle": "2021-05-17T15:34:19.801950Z",
     "shell.execute_reply": "2021-05-17T15:34:19.802419Z"
    },
    "papermill": {
     "duration": 32.538042,
     "end_time": "2021-05-17T15:34:19.802570",
     "exception": false,
     "start_time": "2021-05-17T15:33:47.264528",
     "status": "completed"
    },
    "tags": []
   },
   "outputs": [
    {
     "data": {
      "application/vnd.jupyter.widget-view+json": {
       "model_id": "703ad034ea5b46e0a3e6e37ed49a0f71",
       "version_major": 2,
       "version_minor": 0
      },
      "text/plain": [
       "HBox(children=(FloatProgress(value=0.0, description='Downloading', max=625.0, style=ProgressStyle(description_…"
      ]
     },
     "metadata": {},
     "output_type": "display_data"
    },
    {
     "name": "stdout",
     "output_type": "stream",
     "text": [
      "\n"
     ]
    },
    {
     "data": {
      "application/vnd.jupyter.widget-view+json": {
       "model_id": "a96a5b1131024097aa7414f693466bc7",
       "version_major": 2,
       "version_minor": 0
      },
      "text/plain": [
       "HBox(children=(FloatProgress(value=0.0, description='Downloading', max=714314041.0, style=ProgressStyle(descri…"
      ]
     },
     "metadata": {},
     "output_type": "display_data"
    },
    {
     "name": "stdout",
     "output_type": "stream",
     "text": [
      "\n"
     ]
    },
    {
     "name": "stderr",
     "output_type": "stream",
     "text": [
      "Some weights of the model checkpoint at bert-base-multilingual-cased were not used when initializing BertForSequenceClassification: ['cls.predictions.bias', 'cls.predictions.transform.dense.weight', 'cls.predictions.transform.dense.bias', 'cls.predictions.decoder.weight', 'cls.seq_relationship.weight', 'cls.seq_relationship.bias', 'cls.predictions.transform.LayerNorm.weight', 'cls.predictions.transform.LayerNorm.bias']\n",
      "- This IS expected if you are initializing BertForSequenceClassification from the checkpoint of a model trained on another task or with another architecture (e.g. initializing a BertForSequenceClassification model from a BertForPreTraining model).\n",
      "- This IS NOT expected if you are initializing BertForSequenceClassification from the checkpoint of a model that you expect to be exactly identical (initializing a BertForSequenceClassification model from a BertForSequenceClassification model).\n",
      "Some weights of BertForSequenceClassification were not initialized from the model checkpoint at bert-base-multilingual-cased and are newly initialized: ['classifier.weight', 'classifier.bias']\n",
      "You should probably TRAIN this model on a down-stream task to be able to use it for predictions and inference.\n"
     ]
    },
    {
     "data": {
      "text/plain": [
       "BertForSequenceClassification(\n",
       "  (bert): BertModel(\n",
       "    (embeddings): BertEmbeddings(\n",
       "      (word_embeddings): Embedding(119547, 768, padding_idx=0)\n",
       "      (position_embeddings): Embedding(512, 768)\n",
       "      (token_type_embeddings): Embedding(2, 768)\n",
       "      (LayerNorm): LayerNorm((768,), eps=1e-12, elementwise_affine=True)\n",
       "      (dropout): Dropout(p=0.1, inplace=False)\n",
       "    )\n",
       "    (encoder): BertEncoder(\n",
       "      (layer): ModuleList(\n",
       "        (0): BertLayer(\n",
       "          (attention): BertAttention(\n",
       "            (self): BertSelfAttention(\n",
       "              (query): Linear(in_features=768, out_features=768, bias=True)\n",
       "              (key): Linear(in_features=768, out_features=768, bias=True)\n",
       "              (value): Linear(in_features=768, out_features=768, bias=True)\n",
       "              (dropout): Dropout(p=0.1, inplace=False)\n",
       "            )\n",
       "            (output): BertSelfOutput(\n",
       "              (dense): Linear(in_features=768, out_features=768, bias=True)\n",
       "              (LayerNorm): LayerNorm((768,), eps=1e-12, elementwise_affine=True)\n",
       "              (dropout): Dropout(p=0.1, inplace=False)\n",
       "            )\n",
       "          )\n",
       "          (intermediate): BertIntermediate(\n",
       "            (dense): Linear(in_features=768, out_features=3072, bias=True)\n",
       "          )\n",
       "          (output): BertOutput(\n",
       "            (dense): Linear(in_features=3072, out_features=768, bias=True)\n",
       "            (LayerNorm): LayerNorm((768,), eps=1e-12, elementwise_affine=True)\n",
       "            (dropout): Dropout(p=0.1, inplace=False)\n",
       "          )\n",
       "        )\n",
       "        (1): BertLayer(\n",
       "          (attention): BertAttention(\n",
       "            (self): BertSelfAttention(\n",
       "              (query): Linear(in_features=768, out_features=768, bias=True)\n",
       "              (key): Linear(in_features=768, out_features=768, bias=True)\n",
       "              (value): Linear(in_features=768, out_features=768, bias=True)\n",
       "              (dropout): Dropout(p=0.1, inplace=False)\n",
       "            )\n",
       "            (output): BertSelfOutput(\n",
       "              (dense): Linear(in_features=768, out_features=768, bias=True)\n",
       "              (LayerNorm): LayerNorm((768,), eps=1e-12, elementwise_affine=True)\n",
       "              (dropout): Dropout(p=0.1, inplace=False)\n",
       "            )\n",
       "          )\n",
       "          (intermediate): BertIntermediate(\n",
       "            (dense): Linear(in_features=768, out_features=3072, bias=True)\n",
       "          )\n",
       "          (output): BertOutput(\n",
       "            (dense): Linear(in_features=3072, out_features=768, bias=True)\n",
       "            (LayerNorm): LayerNorm((768,), eps=1e-12, elementwise_affine=True)\n",
       "            (dropout): Dropout(p=0.1, inplace=False)\n",
       "          )\n",
       "        )\n",
       "        (2): BertLayer(\n",
       "          (attention): BertAttention(\n",
       "            (self): BertSelfAttention(\n",
       "              (query): Linear(in_features=768, out_features=768, bias=True)\n",
       "              (key): Linear(in_features=768, out_features=768, bias=True)\n",
       "              (value): Linear(in_features=768, out_features=768, bias=True)\n",
       "              (dropout): Dropout(p=0.1, inplace=False)\n",
       "            )\n",
       "            (output): BertSelfOutput(\n",
       "              (dense): Linear(in_features=768, out_features=768, bias=True)\n",
       "              (LayerNorm): LayerNorm((768,), eps=1e-12, elementwise_affine=True)\n",
       "              (dropout): Dropout(p=0.1, inplace=False)\n",
       "            )\n",
       "          )\n",
       "          (intermediate): BertIntermediate(\n",
       "            (dense): Linear(in_features=768, out_features=3072, bias=True)\n",
       "          )\n",
       "          (output): BertOutput(\n",
       "            (dense): Linear(in_features=3072, out_features=768, bias=True)\n",
       "            (LayerNorm): LayerNorm((768,), eps=1e-12, elementwise_affine=True)\n",
       "            (dropout): Dropout(p=0.1, inplace=False)\n",
       "          )\n",
       "        )\n",
       "        (3): BertLayer(\n",
       "          (attention): BertAttention(\n",
       "            (self): BertSelfAttention(\n",
       "              (query): Linear(in_features=768, out_features=768, bias=True)\n",
       "              (key): Linear(in_features=768, out_features=768, bias=True)\n",
       "              (value): Linear(in_features=768, out_features=768, bias=True)\n",
       "              (dropout): Dropout(p=0.1, inplace=False)\n",
       "            )\n",
       "            (output): BertSelfOutput(\n",
       "              (dense): Linear(in_features=768, out_features=768, bias=True)\n",
       "              (LayerNorm): LayerNorm((768,), eps=1e-12, elementwise_affine=True)\n",
       "              (dropout): Dropout(p=0.1, inplace=False)\n",
       "            )\n",
       "          )\n",
       "          (intermediate): BertIntermediate(\n",
       "            (dense): Linear(in_features=768, out_features=3072, bias=True)\n",
       "          )\n",
       "          (output): BertOutput(\n",
       "            (dense): Linear(in_features=3072, out_features=768, bias=True)\n",
       "            (LayerNorm): LayerNorm((768,), eps=1e-12, elementwise_affine=True)\n",
       "            (dropout): Dropout(p=0.1, inplace=False)\n",
       "          )\n",
       "        )\n",
       "        (4): BertLayer(\n",
       "          (attention): BertAttention(\n",
       "            (self): BertSelfAttention(\n",
       "              (query): Linear(in_features=768, out_features=768, bias=True)\n",
       "              (key): Linear(in_features=768, out_features=768, bias=True)\n",
       "              (value): Linear(in_features=768, out_features=768, bias=True)\n",
       "              (dropout): Dropout(p=0.1, inplace=False)\n",
       "            )\n",
       "            (output): BertSelfOutput(\n",
       "              (dense): Linear(in_features=768, out_features=768, bias=True)\n",
       "              (LayerNorm): LayerNorm((768,), eps=1e-12, elementwise_affine=True)\n",
       "              (dropout): Dropout(p=0.1, inplace=False)\n",
       "            )\n",
       "          )\n",
       "          (intermediate): BertIntermediate(\n",
       "            (dense): Linear(in_features=768, out_features=3072, bias=True)\n",
       "          )\n",
       "          (output): BertOutput(\n",
       "            (dense): Linear(in_features=3072, out_features=768, bias=True)\n",
       "            (LayerNorm): LayerNorm((768,), eps=1e-12, elementwise_affine=True)\n",
       "            (dropout): Dropout(p=0.1, inplace=False)\n",
       "          )\n",
       "        )\n",
       "        (5): BertLayer(\n",
       "          (attention): BertAttention(\n",
       "            (self): BertSelfAttention(\n",
       "              (query): Linear(in_features=768, out_features=768, bias=True)\n",
       "              (key): Linear(in_features=768, out_features=768, bias=True)\n",
       "              (value): Linear(in_features=768, out_features=768, bias=True)\n",
       "              (dropout): Dropout(p=0.1, inplace=False)\n",
       "            )\n",
       "            (output): BertSelfOutput(\n",
       "              (dense): Linear(in_features=768, out_features=768, bias=True)\n",
       "              (LayerNorm): LayerNorm((768,), eps=1e-12, elementwise_affine=True)\n",
       "              (dropout): Dropout(p=0.1, inplace=False)\n",
       "            )\n",
       "          )\n",
       "          (intermediate): BertIntermediate(\n",
       "            (dense): Linear(in_features=768, out_features=3072, bias=True)\n",
       "          )\n",
       "          (output): BertOutput(\n",
       "            (dense): Linear(in_features=3072, out_features=768, bias=True)\n",
       "            (LayerNorm): LayerNorm((768,), eps=1e-12, elementwise_affine=True)\n",
       "            (dropout): Dropout(p=0.1, inplace=False)\n",
       "          )\n",
       "        )\n",
       "        (6): BertLayer(\n",
       "          (attention): BertAttention(\n",
       "            (self): BertSelfAttention(\n",
       "              (query): Linear(in_features=768, out_features=768, bias=True)\n",
       "              (key): Linear(in_features=768, out_features=768, bias=True)\n",
       "              (value): Linear(in_features=768, out_features=768, bias=True)\n",
       "              (dropout): Dropout(p=0.1, inplace=False)\n",
       "            )\n",
       "            (output): BertSelfOutput(\n",
       "              (dense): Linear(in_features=768, out_features=768, bias=True)\n",
       "              (LayerNorm): LayerNorm((768,), eps=1e-12, elementwise_affine=True)\n",
       "              (dropout): Dropout(p=0.1, inplace=False)\n",
       "            )\n",
       "          )\n",
       "          (intermediate): BertIntermediate(\n",
       "            (dense): Linear(in_features=768, out_features=3072, bias=True)\n",
       "          )\n",
       "          (output): BertOutput(\n",
       "            (dense): Linear(in_features=3072, out_features=768, bias=True)\n",
       "            (LayerNorm): LayerNorm((768,), eps=1e-12, elementwise_affine=True)\n",
       "            (dropout): Dropout(p=0.1, inplace=False)\n",
       "          )\n",
       "        )\n",
       "        (7): BertLayer(\n",
       "          (attention): BertAttention(\n",
       "            (self): BertSelfAttention(\n",
       "              (query): Linear(in_features=768, out_features=768, bias=True)\n",
       "              (key): Linear(in_features=768, out_features=768, bias=True)\n",
       "              (value): Linear(in_features=768, out_features=768, bias=True)\n",
       "              (dropout): Dropout(p=0.1, inplace=False)\n",
       "            )\n",
       "            (output): BertSelfOutput(\n",
       "              (dense): Linear(in_features=768, out_features=768, bias=True)\n",
       "              (LayerNorm): LayerNorm((768,), eps=1e-12, elementwise_affine=True)\n",
       "              (dropout): Dropout(p=0.1, inplace=False)\n",
       "            )\n",
       "          )\n",
       "          (intermediate): BertIntermediate(\n",
       "            (dense): Linear(in_features=768, out_features=3072, bias=True)\n",
       "          )\n",
       "          (output): BertOutput(\n",
       "            (dense): Linear(in_features=3072, out_features=768, bias=True)\n",
       "            (LayerNorm): LayerNorm((768,), eps=1e-12, elementwise_affine=True)\n",
       "            (dropout): Dropout(p=0.1, inplace=False)\n",
       "          )\n",
       "        )\n",
       "        (8): BertLayer(\n",
       "          (attention): BertAttention(\n",
       "            (self): BertSelfAttention(\n",
       "              (query): Linear(in_features=768, out_features=768, bias=True)\n",
       "              (key): Linear(in_features=768, out_features=768, bias=True)\n",
       "              (value): Linear(in_features=768, out_features=768, bias=True)\n",
       "              (dropout): Dropout(p=0.1, inplace=False)\n",
       "            )\n",
       "            (output): BertSelfOutput(\n",
       "              (dense): Linear(in_features=768, out_features=768, bias=True)\n",
       "              (LayerNorm): LayerNorm((768,), eps=1e-12, elementwise_affine=True)\n",
       "              (dropout): Dropout(p=0.1, inplace=False)\n",
       "            )\n",
       "          )\n",
       "          (intermediate): BertIntermediate(\n",
       "            (dense): Linear(in_features=768, out_features=3072, bias=True)\n",
       "          )\n",
       "          (output): BertOutput(\n",
       "            (dense): Linear(in_features=3072, out_features=768, bias=True)\n",
       "            (LayerNorm): LayerNorm((768,), eps=1e-12, elementwise_affine=True)\n",
       "            (dropout): Dropout(p=0.1, inplace=False)\n",
       "          )\n",
       "        )\n",
       "        (9): BertLayer(\n",
       "          (attention): BertAttention(\n",
       "            (self): BertSelfAttention(\n",
       "              (query): Linear(in_features=768, out_features=768, bias=True)\n",
       "              (key): Linear(in_features=768, out_features=768, bias=True)\n",
       "              (value): Linear(in_features=768, out_features=768, bias=True)\n",
       "              (dropout): Dropout(p=0.1, inplace=False)\n",
       "            )\n",
       "            (output): BertSelfOutput(\n",
       "              (dense): Linear(in_features=768, out_features=768, bias=True)\n",
       "              (LayerNorm): LayerNorm((768,), eps=1e-12, elementwise_affine=True)\n",
       "              (dropout): Dropout(p=0.1, inplace=False)\n",
       "            )\n",
       "          )\n",
       "          (intermediate): BertIntermediate(\n",
       "            (dense): Linear(in_features=768, out_features=3072, bias=True)\n",
       "          )\n",
       "          (output): BertOutput(\n",
       "            (dense): Linear(in_features=3072, out_features=768, bias=True)\n",
       "            (LayerNorm): LayerNorm((768,), eps=1e-12, elementwise_affine=True)\n",
       "            (dropout): Dropout(p=0.1, inplace=False)\n",
       "          )\n",
       "        )\n",
       "        (10): BertLayer(\n",
       "          (attention): BertAttention(\n",
       "            (self): BertSelfAttention(\n",
       "              (query): Linear(in_features=768, out_features=768, bias=True)\n",
       "              (key): Linear(in_features=768, out_features=768, bias=True)\n",
       "              (value): Linear(in_features=768, out_features=768, bias=True)\n",
       "              (dropout): Dropout(p=0.1, inplace=False)\n",
       "            )\n",
       "            (output): BertSelfOutput(\n",
       "              (dense): Linear(in_features=768, out_features=768, bias=True)\n",
       "              (LayerNorm): LayerNorm((768,), eps=1e-12, elementwise_affine=True)\n",
       "              (dropout): Dropout(p=0.1, inplace=False)\n",
       "            )\n",
       "          )\n",
       "          (intermediate): BertIntermediate(\n",
       "            (dense): Linear(in_features=768, out_features=3072, bias=True)\n",
       "          )\n",
       "          (output): BertOutput(\n",
       "            (dense): Linear(in_features=3072, out_features=768, bias=True)\n",
       "            (LayerNorm): LayerNorm((768,), eps=1e-12, elementwise_affine=True)\n",
       "            (dropout): Dropout(p=0.1, inplace=False)\n",
       "          )\n",
       "        )\n",
       "        (11): BertLayer(\n",
       "          (attention): BertAttention(\n",
       "            (self): BertSelfAttention(\n",
       "              (query): Linear(in_features=768, out_features=768, bias=True)\n",
       "              (key): Linear(in_features=768, out_features=768, bias=True)\n",
       "              (value): Linear(in_features=768, out_features=768, bias=True)\n",
       "              (dropout): Dropout(p=0.1, inplace=False)\n",
       "            )\n",
       "            (output): BertSelfOutput(\n",
       "              (dense): Linear(in_features=768, out_features=768, bias=True)\n",
       "              (LayerNorm): LayerNorm((768,), eps=1e-12, elementwise_affine=True)\n",
       "              (dropout): Dropout(p=0.1, inplace=False)\n",
       "            )\n",
       "          )\n",
       "          (intermediate): BertIntermediate(\n",
       "            (dense): Linear(in_features=768, out_features=3072, bias=True)\n",
       "          )\n",
       "          (output): BertOutput(\n",
       "            (dense): Linear(in_features=3072, out_features=768, bias=True)\n",
       "            (LayerNorm): LayerNorm((768,), eps=1e-12, elementwise_affine=True)\n",
       "            (dropout): Dropout(p=0.1, inplace=False)\n",
       "          )\n",
       "        )\n",
       "      )\n",
       "    )\n",
       "    (pooler): BertPooler(\n",
       "      (dense): Linear(in_features=768, out_features=768, bias=True)\n",
       "      (activation): Tanh()\n",
       "    )\n",
       "  )\n",
       "  (dropout): Dropout(p=0.1, inplace=False)\n",
       "  (classifier): Linear(in_features=768, out_features=2, bias=True)\n",
       ")"
      ]
     },
     "execution_count": 47,
     "metadata": {},
     "output_type": "execute_result"
    }
   ],
   "source": [
    "from transformers import BertForSequenceClassification, AdamW, BertConfig\n",
    "# Load BertForSequenceClassification, the pretrained BERT model with a single \n",
    "# linear classification layer on top. \n",
    "model = BertForSequenceClassification.from_pretrained(\n",
    "    \"bert-base-multilingual-cased\", # Use the 12-layer BERT model, with an uncased vocab.\n",
    "    num_labels = 2, # The number of output labels--2 for binary classification.\n",
    "                    # You can increase this for multi-class tasks.   \n",
    "    output_attentions = False, # Whether the model returns attentions weights.\n",
    "    output_hidden_states = True, # Whether the model returns all hidden-states.\n",
    ")\n",
    "# Tell pytorch to run this model on the GPU.\n",
    "model.cuda()"
   ]
  },
  {
   "cell_type": "markdown",
   "metadata": {
    "papermill": {
     "duration": 0.080197,
     "end_time": "2021-05-17T15:34:19.962445",
     "exception": false,
     "start_time": "2021-05-17T15:34:19.882248",
     "status": "completed"
    },
    "tags": []
   },
   "source": [
    "In the below cell we can check the names and dimensions of the weights for:The embedding layer,The first of the twelve transformers & The output layer."
   ]
  },
  {
   "cell_type": "code",
   "execution_count": 48,
   "metadata": {
    "execution": {
     "iopub.execute_input": "2021-05-17T15:34:20.140271Z",
     "iopub.status.busy": "2021-05-17T15:34:20.135709Z",
     "iopub.status.idle": "2021-05-17T15:34:20.145824Z",
     "shell.execute_reply": "2021-05-17T15:34:20.146265Z"
    },
    "papermill": {
     "duration": 0.10223,
     "end_time": "2021-05-17T15:34:20.146398",
     "exception": false,
     "start_time": "2021-05-17T15:34:20.044168",
     "status": "completed"
    },
    "tags": []
   },
   "outputs": [
    {
     "name": "stdout",
     "output_type": "stream",
     "text": [
      "The BERT model has 201 different named parameters.\n",
      "\n",
      "==== Embedding Layer ====\n",
      "\n",
      "bert.embeddings.word_embeddings.weight                  (119547, 768)\n",
      "bert.embeddings.position_embeddings.weight                (512, 768)\n",
      "bert.embeddings.token_type_embeddings.weight                (2, 768)\n",
      "bert.embeddings.LayerNorm.weight                              (768,)\n",
      "bert.embeddings.LayerNorm.bias                                (768,)\n",
      "\n",
      "==== First Transformer ====\n",
      "\n",
      "bert.encoder.layer.0.attention.self.query.weight          (768, 768)\n",
      "bert.encoder.layer.0.attention.self.query.bias                (768,)\n",
      "bert.encoder.layer.0.attention.self.key.weight            (768, 768)\n",
      "bert.encoder.layer.0.attention.self.key.bias                  (768,)\n",
      "bert.encoder.layer.0.attention.self.value.weight          (768, 768)\n",
      "bert.encoder.layer.0.attention.self.value.bias                (768,)\n",
      "bert.encoder.layer.0.attention.output.dense.weight        (768, 768)\n",
      "bert.encoder.layer.0.attention.output.dense.bias              (768,)\n",
      "bert.encoder.layer.0.attention.output.LayerNorm.weight        (768,)\n",
      "bert.encoder.layer.0.attention.output.LayerNorm.bias          (768,)\n",
      "bert.encoder.layer.0.intermediate.dense.weight           (3072, 768)\n",
      "bert.encoder.layer.0.intermediate.dense.bias                 (3072,)\n",
      "bert.encoder.layer.0.output.dense.weight                 (768, 3072)\n",
      "bert.encoder.layer.0.output.dense.bias                        (768,)\n",
      "bert.encoder.layer.0.output.LayerNorm.weight                  (768,)\n",
      "bert.encoder.layer.0.output.LayerNorm.bias                    (768,)\n",
      "\n",
      "==== Output Layer ====\n",
      "\n",
      "bert.pooler.dense.weight                                  (768, 768)\n",
      "bert.pooler.dense.bias                                        (768,)\n",
      "classifier.weight                                           (2, 768)\n",
      "classifier.bias                                                 (2,)\n"
     ]
    }
   ],
   "source": [
    "# Get all of the model's parameters as a list of tuples.\n",
    "params = list(model.named_parameters())\n",
    "print('The BERT model has {:} different named parameters.\\n'.format(len(params)))\n",
    "print('==== Embedding Layer ====\\n')\n",
    "for p in params[0:5]:\n",
    "    print(\"{:<55} {:>12}\".format(p[0], str(tuple(p[1].size()))))\n",
    "print('\\n==== First Transformer ====\\n')\n",
    "for p in params[5:21]:\n",
    "    print(\"{:<55} {:>12}\".format(p[0], str(tuple(p[1].size()))))\n",
    "print('\\n==== Output Layer ====\\n')\n",
    "for p in params[-4:]:\n",
    "    print(\"{:<55} {:>12}\".format(p[0], str(tuple(p[1].size()))))"
   ]
  },
  {
   "cell_type": "markdown",
   "metadata": {
    "papermill": {
     "duration": 0.080727,
     "end_time": "2021-05-17T15:34:20.309416",
     "exception": false,
     "start_time": "2021-05-17T15:34:20.228689",
     "status": "completed"
    },
    "tags": []
   },
   "source": [
    "Now that we have our model loaded we need to grab the training hyperparameters from within the stored model."
   ]
  },
  {
   "cell_type": "markdown",
   "metadata": {
    "papermill": {
     "duration": 0.081366,
     "end_time": "2021-05-17T15:34:20.471364",
     "exception": false,
     "start_time": "2021-05-17T15:34:20.389998",
     "status": "completed"
    },
    "tags": []
   },
   "source": [
    "For the purposes of fine-tuning, we'll use the following values:\n",
    "\n",
    "- Batch size: 16, 32 (We chose 32 when creating our DataLoaders).\n",
    "- Learning rate (Adam): 5e-5, 3e-5, 2e-5 (We’ll use 2e-5).\n",
    "- Number of epochs: 2, 3, 4 (We’ll use 4).\n",
    "\n",
    "The epsilon parameter eps = 1e-8 is “a very small number to prevent any division by zero in the implementation”\n",
    "\n",
    "https://medium.com/@aniruddha.choudhury94/part-2-bert-fine-tuning-tutorial-with-pytorch-for-text-classification-on-the-corpus-of-linguistic-18057ce330e1"
   ]
  },
  {
   "cell_type": "code",
   "execution_count": 49,
   "metadata": {
    "execution": {
     "iopub.execute_input": "2021-05-17T15:34:20.641048Z",
     "iopub.status.busy": "2021-05-17T15:34:20.640344Z",
     "iopub.status.idle": "2021-05-17T15:34:20.643786Z",
     "shell.execute_reply": "2021-05-17T15:34:20.643296Z"
    },
    "papermill": {
     "duration": 0.092904,
     "end_time": "2021-05-17T15:34:20.643874",
     "exception": false,
     "start_time": "2021-05-17T15:34:20.550970",
     "status": "completed"
    },
    "tags": []
   },
   "outputs": [],
   "source": [
    "# Note: AdamW is a class from the huggingface library (as opposed to pytorch) \n",
    "# I believe the 'W' stands for 'Weight Decay fix\"\n",
    "# Cross entropy is used as the loss by default\n",
    "optimizer = AdamW(model.parameters(),\n",
    "                  lr = 2e-5, # args.learning_rate - default is 5e-5, our notebook had 2e-5\n",
    "                  eps = 1e-8 # args.adam_epsilon  - default is 1e-8.\n",
    "                )\n",
    "from transformers import get_linear_schedule_with_warmup\n",
    "# Number of training epochs (authors recommend between 2 and 4)\n",
    "epochs = 2\n",
    "# Total number of training steps is number of batches * number of epochs.\n",
    "total_steps = len(train_dataloader) * epochs\n",
    "# Create the learning rate scheduler.\n",
    "scheduler = get_linear_schedule_with_warmup(optimizer, \n",
    "                                            num_warmup_steps = 0, # Default value in run_glue.py\n",
    "                                            num_training_steps = total_steps)"
   ]
  },
  {
   "cell_type": "markdown",
   "metadata": {
    "papermill": {
     "duration": 0.081785,
     "end_time": "2021-05-17T15:34:20.805908",
     "exception": false,
     "start_time": "2021-05-17T15:34:20.724123",
     "status": "completed"
    },
    "tags": []
   },
   "source": [
    "4.3. Training Loop\n",
    "Below is our training loop. There’s a lot going on, but fundamentally for each pass in our loop we have a trianing phase and a validation phase. At each pass we need to:\n",
    "\n",
    "Training loop:\n",
    "\n",
    "- Unpack our data inputs and labels\n",
    "- Load data onto the GPU for acceleration\n",
    "- Clear out the gradients calculated in the previous pass.\n",
    "- In pytorch the gradients accumulate by default (useful for things like RNNs) unless you explicitly clear them out.\n",
    "- Forward pass (feed input data through the network)\n",
    "- Backward pass (backpropagation)\n",
    "- Tell the network to update parameters with optimizer.step()\n",
    "- Track variables for monitoring progress\n",
    "\n",
    "Evalution loop:\n",
    "- Unpack our data inputs and labels\n",
    "- Load data onto the GPU for acceleration\n",
    "- Forward pass (feed input data through the network)\n",
    "- Compute loss on our validation data and track variables for monitoring progress\n",
    "\n",
    "Define a helper function for calculating accuracy."
   ]
  },
  {
   "cell_type": "code",
   "execution_count": 50,
   "metadata": {
    "execution": {
     "iopub.execute_input": "2021-05-17T15:34:20.973819Z",
     "iopub.status.busy": "2021-05-17T15:34:20.972999Z",
     "iopub.status.idle": "2021-05-17T15:34:20.975848Z",
     "shell.execute_reply": "2021-05-17T15:34:20.975405Z"
    },
    "papermill": {
     "duration": 0.089389,
     "end_time": "2021-05-17T15:34:20.975943",
     "exception": false,
     "start_time": "2021-05-17T15:34:20.886554",
     "status": "completed"
    },
    "tags": []
   },
   "outputs": [],
   "source": [
    "import numpy as np\n",
    "# Function to calculate the accuracy of our predictions vs labels\n",
    "def flat_accuracy(preds, labels):\n",
    "    pred_flat = np.argmax(preds, axis=1).flatten()\n",
    "    labels_flat = labels.flatten()\n",
    "    return np.sum(pred_flat == labels_flat) / len(labels_flat)"
   ]
  },
  {
   "cell_type": "markdown",
   "metadata": {
    "papermill": {
     "duration": 0.081542,
     "end_time": "2021-05-17T15:34:21.139847",
     "exception": false,
     "start_time": "2021-05-17T15:34:21.058305",
     "status": "completed"
    },
    "tags": []
   },
   "source": [
    "Helper function for formatting elapsed times."
   ]
  },
  {
   "cell_type": "code",
   "execution_count": 51,
   "metadata": {
    "execution": {
     "iopub.execute_input": "2021-05-17T15:34:21.310150Z",
     "iopub.status.busy": "2021-05-17T15:34:21.309293Z",
     "iopub.status.idle": "2021-05-17T15:34:21.312257Z",
     "shell.execute_reply": "2021-05-17T15:34:21.311787Z"
    },
    "papermill": {
     "duration": 0.09162,
     "end_time": "2021-05-17T15:34:21.312353",
     "exception": false,
     "start_time": "2021-05-17T15:34:21.220733",
     "status": "completed"
    },
    "tags": []
   },
   "outputs": [],
   "source": [
    "import time\n",
    "import datetime\n",
    "def format_time(elapsed):\n",
    "    '''\n",
    "    Takes a time in seconds and returns a string hh:mm:ss\n",
    "    '''\n",
    "    # Round to the nearest second.\n",
    "    elapsed_rounded = int(round((elapsed)))\n",
    "    \n",
    "    # Format as hh:mm:ss\n",
    "    return str(datetime.timedelta(seconds=elapsed_rounded))"
   ]
  },
  {
   "cell_type": "markdown",
   "metadata": {
    "papermill": {
     "duration": 0.0909,
     "end_time": "2021-05-17T15:34:21.485846",
     "exception": false,
     "start_time": "2021-05-17T15:34:21.394946",
     "status": "completed"
    },
    "tags": []
   },
   "source": [
    "### Train Model"
   ]
  },
  {
   "cell_type": "code",
   "execution_count": 52,
   "metadata": {
    "execution": {
     "iopub.execute_input": "2021-05-17T15:34:21.683230Z",
     "iopub.status.busy": "2021-05-17T15:34:21.671855Z",
     "iopub.status.idle": "2021-05-17T15:39:10.684621Z",
     "shell.execute_reply": "2021-05-17T15:39:10.685078Z"
    },
    "papermill": {
     "duration": 289.116485,
     "end_time": "2021-05-17T15:39:10.685210",
     "exception": false,
     "start_time": "2021-05-17T15:34:21.568725",
     "status": "completed"
    },
    "tags": []
   },
   "outputs": [
    {
     "name": "stdout",
     "output_type": "stream",
     "text": [
      "\n",
      "======== Epoch 1 / 2 ========\n",
      "Training...\n",
      "  Batch    40  of    594.    Elapsed: 0:00:10.\n",
      "  Batch    80  of    594.    Elapsed: 0:00:19.\n",
      "  Batch   120  of    594.    Elapsed: 0:00:28.\n",
      "  Batch   160  of    594.    Elapsed: 0:00:37.\n",
      "  Batch   200  of    594.    Elapsed: 0:00:46.\n",
      "  Batch   240  of    594.    Elapsed: 0:00:55.\n",
      "  Batch   280  of    594.    Elapsed: 0:01:04.\n",
      "  Batch   320  of    594.    Elapsed: 0:01:13.\n",
      "  Batch   360  of    594.    Elapsed: 0:01:22.\n",
      "  Batch   400  of    594.    Elapsed: 0:01:31.\n",
      "  Batch   440  of    594.    Elapsed: 0:01:40.\n",
      "  Batch   480  of    594.    Elapsed: 0:01:49.\n",
      "  Batch   520  of    594.    Elapsed: 0:01:58.\n",
      "  Batch   560  of    594.    Elapsed: 0:02:07.\n",
      "\n",
      "  Average training loss: 0.25\n",
      "  Training epcoh took: 0:02:15\n",
      "\n",
      "Running Validation...\n",
      "  Accuracy: 0.85\n",
      "  Average validation loss: 0.55\n",
      "  Validation took: 0:00:10\n",
      "\n",
      "======== Epoch 2 / 2 ========\n",
      "Training...\n",
      "  Batch    40  of    594.    Elapsed: 0:00:09.\n",
      "  Batch    80  of    594.    Elapsed: 0:00:18.\n",
      "  Batch   120  of    594.    Elapsed: 0:00:27.\n",
      "  Batch   160  of    594.    Elapsed: 0:00:36.\n",
      "  Batch   200  of    594.    Elapsed: 0:00:45.\n",
      "  Batch   240  of    594.    Elapsed: 0:00:54.\n",
      "  Batch   280  of    594.    Elapsed: 0:01:03.\n",
      "  Batch   320  of    594.    Elapsed: 0:01:12.\n",
      "  Batch   360  of    594.    Elapsed: 0:01:22.\n",
      "  Batch   400  of    594.    Elapsed: 0:01:31.\n",
      "  Batch   440  of    594.    Elapsed: 0:01:40.\n",
      "  Batch   480  of    594.    Elapsed: 0:01:49.\n",
      "  Batch   520  of    594.    Elapsed: 0:01:58.\n",
      "  Batch   560  of    594.    Elapsed: 0:02:07.\n",
      "\n",
      "  Average training loss: 0.21\n",
      "  Training epcoh took: 0:02:15\n",
      "\n",
      "Running Validation...\n",
      "  Accuracy: 0.84\n",
      "  Average validation loss: 0.60\n",
      "  Validation took: 0:00:10\n",
      "\n",
      "Training complete!\n"
     ]
    }
   ],
   "source": [
    "import random\n",
    "# This training code is based on the `run_glue.py` script here:\n",
    "# https://github.com/huggingface/transformers/blob/5bfcd0485ece086ebcbed2d008813037968a9e58/examples/run_glue.py#L128\n",
    "# Set the seed value all over the place to make this reproducible.\n",
    "seed_val = 42\n",
    "random.seed(seed_val)\n",
    "np.random.seed(seed_val)\n",
    "torch.manual_seed(seed_val)\n",
    "torch.cuda.manual_seed_all(seed_val)\n",
    "# Store the average loss after each epoch so we can plot them.\n",
    "loss_values = []\n",
    "loss_values_valid = []\n",
    "#embeddings_tr, embeddings_vl = [], []\n",
    "train_predictions, valid_predictions = [], []\n",
    "train_true_labels, valid_true_labels = [], []\n",
    "# Store the hidden states for embedding extraction\n",
    "\n",
    "# For each epoch...\n",
    "for epoch_i in range(0, epochs):\n",
    "    \n",
    "    # ========================================\n",
    "    #               Training\n",
    "    # ========================================\n",
    "    \n",
    "    # Perform one full pass over the training set.\n",
    "    print(\"\")\n",
    "    print('======== Epoch {:} / {:} ========'.format(epoch_i + 1, epochs))\n",
    "    print('Training...')\n",
    "    # Measure how long the training epoch takes.\n",
    "    t0 = time.time()\n",
    "    # Reset the total loss for this epoch.\n",
    "    total_loss = 0\n",
    "    # Put the model into training mode. Don't be mislead--the call to \n",
    "    # `train` just changes the *mode*, it doesn't *perform* the training.\n",
    "    # `dropout` and `batchnorm` layers behave differently during training\n",
    "    # vs. test (source: https://stackoverflow.com/questions/51433378/what-does-model-train-do-in-pytorch)\n",
    "    model.train()\n",
    "    # For each batch of training data...\n",
    "    for step, batch in enumerate(train_dataloader):\n",
    "        # Progress update every 40 batches.\n",
    "        if step % 40 == 0 and not step == 0:\n",
    "            # Calculate elapsed time in minutes.\n",
    "            elapsed = format_time(time.time() - t0)\n",
    "            \n",
    "            # Report progress.\n",
    "            print('  Batch {:>5,}  of  {:>5,}.    Elapsed: {:}.'.format(step, len(train_dataloader), elapsed))\n",
    "        # Unpack this training batch from our dataloader. \n",
    "        #\n",
    "        # As we unpack the batch, we'll also copy each tensor to the GPU using the \n",
    "        # `to` method.\n",
    "        #\n",
    "        # `batch` contains three pytorch tensors:\n",
    "        #   [0]: input ids \n",
    "        #   [1]: attention masks\n",
    "        #   [2]: labels \n",
    "        b_input_ids = batch[0].to(device)\n",
    "        b_input_mask = batch[1].to(device)\n",
    "        b_labels = batch[2].to(device)\n",
    "        # Always clear any previously calculated gradients before performing a\n",
    "        # backward pass. PyTorch doesn't do this automatically because \n",
    "        # accumulating the gradients is \"convenient while training RNNs\". \n",
    "        # (source: https://stackoverflow.com/questions/48001598/why-do-we-need-to-call-zero-grad-in-pytorch)\n",
    "        model.zero_grad()        \n",
    "        # Perform a forward pass (evaluate the model on this training batch).\n",
    "        # This will return the loss (rather than the model output) because we\n",
    "        # have provided the `labels`.\n",
    "        # The documentation for this `model` function is here: \n",
    "        # https://huggingface.co/transformers/v2.2.0/model_doc/bert.html#transformers.BertForSequenceClassification\n",
    "        outputs_a = model(b_input_ids, \n",
    "                    token_type_ids=None, \n",
    "                    attention_mask=b_input_mask, \n",
    "                    labels=b_labels)\n",
    "        \n",
    "        # The call to `model` always returns a tuple, so we need to pull the \n",
    "        # loss value out of the tuple.\n",
    "        loss = outputs_a[0]\n",
    "        logits_tr = outputs_a[1]\n",
    "        #hidden_state_tr = outputs_a[2]\n",
    "        #features = hidden_state_tr[0][:,0,:].detach().cpu().numpy()\n",
    "        #embeddings_tr.append([epoch_i,batch[3], features]) # FIX AS NO BACKPROP WEIGHT ADJUSTED\n",
    "        # Accumulate the training loss over all of the batches so that we can\n",
    "        # calculate the average loss at the end. `loss` is a Tensor containing a\n",
    "        # single value; the `.item()` function just returns the Python value \n",
    "        # from the tensor.\n",
    "        # Move logits, hidden states, and labels to CPU\n",
    "        logits_tr = logits_tr.detach().cpu().numpy()\n",
    "        label_ids = b_labels.to('cpu').numpy()\n",
    "        #train_predictions.append([epoch_i,logits_tr])\n",
    "        #train_true_labels.append([epoch_i,label_ids])\n",
    "\n",
    "        total_loss += loss.item()\n",
    "        # Perform a backward pass to calculate the gradients.\n",
    "        loss.backward()\n",
    "        # Clip the norm of the gradients to 1.0.\n",
    "        # This is to help prevent the \"exploding gradients\" problem.\n",
    "        torch.nn.utils.clip_grad_norm_(model.parameters(), 1.0)\n",
    "        # Update parameters and take a step using the computed gradient.\n",
    "        # The optimizer dictates the \"update rule\"--how the parameters are\n",
    "        # modified based on their gradients, the learning rate, etc.\n",
    "        optimizer.step()\n",
    "        # Update the learning rate.\n",
    "        scheduler.step()\n",
    "    # Calculate the average loss over the training data.\n",
    "    avg_train_loss = total_loss / len(train_dataloader)            \n",
    "\n",
    "    # Store the loss value for plotting the learning curve.\n",
    "    loss_values.append(avg_train_loss)\n",
    "    print(\"\")\n",
    "    print(\"  Average training loss: {0:.2f}\".format(avg_train_loss))\n",
    "    print(\"  Training epcoh took: {:}\".format(format_time(time.time() - t0)))\n",
    "    \n",
    "    # ========================================\n",
    "    #               Validation\n",
    "    # ========================================\n",
    "    # After the completion of each training epoch, measure our performance on\n",
    "    # our validation set.\n",
    "    print(\"\")\n",
    "    print(\"Running Validation...\")\n",
    "    t0 = time.time()\n",
    "    # Put the model in evaluation mode--the dropout layers behave differently\n",
    "    # during evaluation.\n",
    "    model.eval()\n",
    "    # Tracking variables \n",
    "    eval_loss, eval_accuracy = 0, 0\n",
    "    nb_eval_steps, nb_eval_examples = 0, 0\n",
    "    # Evaluate data for one epoch\n",
    "    for batch in validation_dataloader:\n",
    "        \n",
    "        # Add batch to GPU\n",
    "        b_input_ids = batch[0].to(device)\n",
    "        b_input_mask = batch[1].to(device)\n",
    "        b_labels = batch[2].to(device)\n",
    "        \n",
    "        # Telling the model not to compute or store gradients, saving memory and\n",
    "        # speeding up validation\n",
    "        with torch.no_grad():        \n",
    "            # Forward pass, calculate logit predictions.\n",
    "            # This will return the logits rather than the loss because we have\n",
    "            # not provided labels.\n",
    "            # token_type_ids is the same as the \"segment ids\", which \n",
    "            # differentiates sentence 1 and 2 in 2-sentence tasks.\n",
    "            # The documentation for this `model` function is here: \n",
    "            # https://huggingface.co/transformers/v2.2.0/model_doc/bert.html#transformers.BertForSequenceClassification\n",
    "            outputs = model(b_input_ids, \n",
    "                            token_type_ids=None, \n",
    "                            attention_mask=b_input_mask,\n",
    "                            labels=b_labels)\n",
    "        \n",
    "        # Get the \"logits\" output by the model. The \"logits\" are the output\n",
    "        # values prior to applying an activation function like the softmax.\n",
    "        loss = outputs[0]\n",
    "        logits = outputs[1]\n",
    "        #hidden_state_vl = outputs[2]\n",
    "        #features = hidden_state_vl[0][:,0,:].detach().cpu().numpy()\n",
    "        #embeddings_vl.append([epoch_i,batch[3], features])\n",
    "        \n",
    "        # Track Loss\n",
    "        eval_loss += loss.item()\n",
    "\n",
    "        # Move logits, hidden states, and labels to CPU\n",
    "        logits = logits.detach().cpu().numpy()\n",
    "        #hidden_state_vl = hidden_state_vl.detach().cpu().numpy()\n",
    "        label_ids = b_labels.to('cpu').numpy()\n",
    "\n",
    "        valid_predictions.append([epoch_i,logits])\n",
    "        valid_true_labels.append([epoch_i,label_ids])\n",
    "        \n",
    "        # Calculate the accuracy for this batch of test sentences.\n",
    "        tmp_eval_accuracy = flat_accuracy(logits, label_ids)\n",
    "        \n",
    "        # Accumulate the total accuracy.\n",
    "        eval_accuracy += tmp_eval_accuracy\n",
    "        # Track the number of batches\n",
    "        nb_eval_steps += 1\n",
    "    \n",
    "    # Calculate the average loss over the training data.\n",
    "    avg_valid_loss = eval_loss / len(validation_dataloader)   \n",
    "\n",
    "    # Report the final accuracy for this validation run.\n",
    "    loss_values_valid.append(avg_valid_loss)\n",
    "    print(\"  Accuracy: {0:.2f}\".format(eval_accuracy/nb_eval_steps))\n",
    "    print(\"  Average validation loss: {0:.2f}\".format(avg_valid_loss))\n",
    "    print(\"  Validation took: {:}\".format(format_time(time.time() - t0)))\n",
    "    \n",
    "print(\"\")\n",
    "print(\"Training complete!\")"
   ]
  },
  {
   "cell_type": "markdown",
   "metadata": {
    "papermill": {
     "duration": 0.088569,
     "end_time": "2021-05-17T15:39:10.863596",
     "exception": false,
     "start_time": "2021-05-17T15:39:10.775027",
     "status": "completed"
    },
    "tags": []
   },
   "source": [
    "### Plot Training and Validation Loss"
   ]
  },
  {
   "cell_type": "code",
   "execution_count": 53,
   "metadata": {
    "execution": {
     "iopub.execute_input": "2021-05-17T15:39:11.076362Z",
     "iopub.status.busy": "2021-05-17T15:39:11.075511Z",
     "iopub.status.idle": "2021-05-17T15:39:11.086654Z",
     "shell.execute_reply": "2021-05-17T15:39:11.087370Z"
    },
    "papermill": {
     "duration": 0.127913,
     "end_time": "2021-05-17T15:39:11.087579",
     "exception": false,
     "start_time": "2021-05-17T15:39:10.959666",
     "status": "completed"
    },
    "tags": []
   },
   "outputs": [
    {
     "data": {
      "text/html": [
       "<div>\n",
       "<style scoped>\n",
       "    .dataframe tbody tr th:only-of-type {\n",
       "        vertical-align: middle;\n",
       "    }\n",
       "\n",
       "    .dataframe tbody tr th {\n",
       "        vertical-align: top;\n",
       "    }\n",
       "\n",
       "    .dataframe thead th {\n",
       "        text-align: right;\n",
       "    }\n",
       "</style>\n",
       "<table border=\"1\" class=\"dataframe\">\n",
       "  <thead>\n",
       "    <tr style=\"text-align: right;\">\n",
       "      <th></th>\n",
       "      <th>epoch</th>\n",
       "      <th>variable</th>\n",
       "      <th>value</th>\n",
       "    </tr>\n",
       "  </thead>\n",
       "  <tbody>\n",
       "    <tr>\n",
       "      <th>0</th>\n",
       "      <td>0</td>\n",
       "      <td>Train Loss</td>\n",
       "      <td>0.251105</td>\n",
       "    </tr>\n",
       "    <tr>\n",
       "      <th>1</th>\n",
       "      <td>1</td>\n",
       "      <td>Train Loss</td>\n",
       "      <td>0.214165</td>\n",
       "    </tr>\n",
       "    <tr>\n",
       "      <th>2</th>\n",
       "      <td>0</td>\n",
       "      <td>Valid Loss</td>\n",
       "      <td>0.546018</td>\n",
       "    </tr>\n",
       "    <tr>\n",
       "      <th>3</th>\n",
       "      <td>1</td>\n",
       "      <td>Valid Loss</td>\n",
       "      <td>0.596898</td>\n",
       "    </tr>\n",
       "  </tbody>\n",
       "</table>\n",
       "</div>"
      ],
      "text/plain": [
       "   epoch    variable     value\n",
       "0      0  Train Loss  0.251105\n",
       "1      1  Train Loss  0.214165\n",
       "2      0  Valid Loss  0.546018\n",
       "3      1  Valid Loss  0.596898"
      ]
     },
     "execution_count": 53,
     "metadata": {},
     "output_type": "execute_result"
    }
   ],
   "source": [
    "df= pd.DataFrame({'epoch': range(0, epochs), 'Train Loss': loss_values, 'Valid Loss': loss_values_valid})\n",
    "df = pd.melt(df, id_vars=['epoch'], value_vars=['Train Loss', 'Valid Loss'])\n",
    "df"
   ]
  },
  {
   "cell_type": "code",
   "execution_count": 54,
   "metadata": {
    "execution": {
     "iopub.execute_input": "2021-05-17T15:39:11.394234Z",
     "iopub.status.busy": "2021-05-17T15:39:11.393397Z",
     "iopub.status.idle": "2021-05-17T15:39:13.938835Z",
     "shell.execute_reply": "2021-05-17T15:39:13.938344Z"
    },
    "papermill": {
     "duration": 2.695913,
     "end_time": "2021-05-17T15:39:13.938951",
     "exception": false,
     "start_time": "2021-05-17T15:39:11.243038",
     "status": "completed"
    },
    "tags": []
   },
   "outputs": [
    {
     "data": {
      "text/html": [
       "        <script type=\"text/javascript\">\n",
       "        window.PlotlyConfig = {MathJaxConfig: 'local'};\n",
       "        if (window.MathJax) {MathJax.Hub.Config({SVG: {font: \"STIX-Web\"}});}\n",
       "        if (typeof require !== 'undefined') {\n",
       "        require.undef(\"plotly\");\n",
       "        requirejs.config({\n",
       "            paths: {\n",
       "                'plotly': ['https://cdn.plot.ly/plotly-latest.min']\n",
       "            }\n",
       "        });\n",
       "        require(['plotly'], function(Plotly) {\n",
       "            window._Plotly = Plotly;\n",
       "        });\n",
       "        }\n",
       "        </script>\n",
       "        "
      ]
     },
     "metadata": {},
     "output_type": "display_data"
    },
    {
     "data": {
      "text/html": [
       "<div>                            <div id=\"8cb7cf25-e4dc-4014-9399-ee5ca0b27728\" class=\"plotly-graph-div\" style=\"height:525px; width:100%;\"></div>            <script type=\"text/javascript\">                require([\"plotly\"], function(Plotly) {                    window.PLOTLYENV=window.PLOTLYENV || {};                                    if (document.getElementById(\"8cb7cf25-e4dc-4014-9399-ee5ca0b27728\")) {                    Plotly.newPlot(                        \"8cb7cf25-e4dc-4014-9399-ee5ca0b27728\",                        [{\"hovertemplate\": \"variable=Train Loss<br>epoch=%{x}<br>value=%{y}<extra></extra>\", \"legendgroup\": \"Train Loss\", \"line\": {\"color\": \"#636efa\", \"dash\": \"solid\"}, \"mode\": \"lines\", \"name\": \"Train Loss\", \"orientation\": \"v\", \"showlegend\": true, \"type\": \"scatter\", \"x\": [0, 1], \"xaxis\": \"x\", \"y\": [0.2511048818929027, 0.21416495155593263], \"yaxis\": \"y\"}, {\"hovertemplate\": \"variable=Valid Loss<br>epoch=%{x}<br>value=%{y}<extra></extra>\", \"legendgroup\": \"Valid Loss\", \"line\": {\"color\": \"#EF553B\", \"dash\": \"solid\"}, \"mode\": \"lines\", \"name\": \"Valid Loss\", \"orientation\": \"v\", \"showlegend\": true, \"type\": \"scatter\", \"x\": [0, 1], \"xaxis\": \"x\", \"y\": [0.5460175501619592, 0.5968978748783286], \"yaxis\": \"y\"}],                        {\"legend\": {\"title\": {\"text\": \"variable\"}, \"tracegroupgap\": 0}, \"margin\": {\"t\": 60}, \"template\": {\"data\": {\"bar\": [{\"error_x\": {\"color\": \"#2a3f5f\"}, \"error_y\": {\"color\": \"#2a3f5f\"}, \"marker\": {\"line\": {\"color\": \"#E5ECF6\", \"width\": 0.5}}, \"type\": \"bar\"}], \"barpolar\": [{\"marker\": {\"line\": {\"color\": \"#E5ECF6\", \"width\": 0.5}}, \"type\": \"barpolar\"}], \"carpet\": [{\"aaxis\": {\"endlinecolor\": \"#2a3f5f\", \"gridcolor\": \"white\", \"linecolor\": \"white\", \"minorgridcolor\": \"white\", \"startlinecolor\": \"#2a3f5f\"}, \"baxis\": {\"endlinecolor\": \"#2a3f5f\", \"gridcolor\": \"white\", \"linecolor\": \"white\", \"minorgridcolor\": \"white\", \"startlinecolor\": \"#2a3f5f\"}, \"type\": \"carpet\"}], \"choropleth\": [{\"colorbar\": {\"outlinewidth\": 0, \"ticks\": \"\"}, \"type\": \"choropleth\"}], \"contour\": [{\"colorbar\": {\"outlinewidth\": 0, \"ticks\": \"\"}, \"colorscale\": [[0.0, \"#0d0887\"], [0.1111111111111111, \"#46039f\"], [0.2222222222222222, \"#7201a8\"], [0.3333333333333333, \"#9c179e\"], [0.4444444444444444, \"#bd3786\"], [0.5555555555555556, \"#d8576b\"], [0.6666666666666666, \"#ed7953\"], [0.7777777777777778, \"#fb9f3a\"], [0.8888888888888888, \"#fdca26\"], [1.0, \"#f0f921\"]], \"type\": \"contour\"}], \"contourcarpet\": [{\"colorbar\": {\"outlinewidth\": 0, \"ticks\": \"\"}, \"type\": \"contourcarpet\"}], \"heatmap\": [{\"colorbar\": {\"outlinewidth\": 0, \"ticks\": \"\"}, \"colorscale\": [[0.0, \"#0d0887\"], [0.1111111111111111, \"#46039f\"], [0.2222222222222222, \"#7201a8\"], [0.3333333333333333, \"#9c179e\"], [0.4444444444444444, \"#bd3786\"], [0.5555555555555556, \"#d8576b\"], [0.6666666666666666, \"#ed7953\"], [0.7777777777777778, \"#fb9f3a\"], [0.8888888888888888, \"#fdca26\"], [1.0, \"#f0f921\"]], \"type\": \"heatmap\"}], \"heatmapgl\": [{\"colorbar\": {\"outlinewidth\": 0, \"ticks\": \"\"}, \"colorscale\": [[0.0, \"#0d0887\"], [0.1111111111111111, \"#46039f\"], [0.2222222222222222, \"#7201a8\"], [0.3333333333333333, \"#9c179e\"], [0.4444444444444444, \"#bd3786\"], [0.5555555555555556, \"#d8576b\"], [0.6666666666666666, \"#ed7953\"], [0.7777777777777778, \"#fb9f3a\"], [0.8888888888888888, \"#fdca26\"], [1.0, \"#f0f921\"]], \"type\": \"heatmapgl\"}], \"histogram\": [{\"marker\": {\"colorbar\": {\"outlinewidth\": 0, \"ticks\": \"\"}}, \"type\": \"histogram\"}], \"histogram2d\": [{\"colorbar\": {\"outlinewidth\": 0, \"ticks\": \"\"}, \"colorscale\": [[0.0, \"#0d0887\"], [0.1111111111111111, \"#46039f\"], [0.2222222222222222, \"#7201a8\"], [0.3333333333333333, \"#9c179e\"], [0.4444444444444444, \"#bd3786\"], [0.5555555555555556, \"#d8576b\"], [0.6666666666666666, \"#ed7953\"], [0.7777777777777778, \"#fb9f3a\"], [0.8888888888888888, \"#fdca26\"], [1.0, \"#f0f921\"]], \"type\": \"histogram2d\"}], \"histogram2dcontour\": [{\"colorbar\": {\"outlinewidth\": 0, \"ticks\": \"\"}, \"colorscale\": [[0.0, \"#0d0887\"], [0.1111111111111111, \"#46039f\"], [0.2222222222222222, \"#7201a8\"], [0.3333333333333333, \"#9c179e\"], [0.4444444444444444, \"#bd3786\"], [0.5555555555555556, \"#d8576b\"], [0.6666666666666666, \"#ed7953\"], [0.7777777777777778, \"#fb9f3a\"], [0.8888888888888888, \"#fdca26\"], [1.0, \"#f0f921\"]], \"type\": \"histogram2dcontour\"}], \"mesh3d\": [{\"colorbar\": {\"outlinewidth\": 0, \"ticks\": \"\"}, \"type\": \"mesh3d\"}], \"parcoords\": [{\"line\": {\"colorbar\": {\"outlinewidth\": 0, \"ticks\": \"\"}}, \"type\": \"parcoords\"}], \"pie\": [{\"automargin\": true, \"type\": \"pie\"}], \"scatter\": [{\"marker\": {\"colorbar\": {\"outlinewidth\": 0, \"ticks\": \"\"}}, \"type\": \"scatter\"}], \"scatter3d\": [{\"line\": {\"colorbar\": {\"outlinewidth\": 0, \"ticks\": \"\"}}, \"marker\": {\"colorbar\": {\"outlinewidth\": 0, \"ticks\": \"\"}}, \"type\": \"scatter3d\"}], \"scattercarpet\": [{\"marker\": {\"colorbar\": {\"outlinewidth\": 0, \"ticks\": \"\"}}, \"type\": \"scattercarpet\"}], \"scattergeo\": [{\"marker\": {\"colorbar\": {\"outlinewidth\": 0, \"ticks\": \"\"}}, \"type\": \"scattergeo\"}], \"scattergl\": [{\"marker\": {\"colorbar\": {\"outlinewidth\": 0, \"ticks\": \"\"}}, \"type\": \"scattergl\"}], \"scattermapbox\": [{\"marker\": {\"colorbar\": {\"outlinewidth\": 0, \"ticks\": \"\"}}, \"type\": \"scattermapbox\"}], \"scatterpolar\": [{\"marker\": {\"colorbar\": {\"outlinewidth\": 0, \"ticks\": \"\"}}, \"type\": \"scatterpolar\"}], \"scatterpolargl\": [{\"marker\": {\"colorbar\": {\"outlinewidth\": 0, \"ticks\": \"\"}}, \"type\": \"scatterpolargl\"}], \"scatterternary\": [{\"marker\": {\"colorbar\": {\"outlinewidth\": 0, \"ticks\": \"\"}}, \"type\": \"scatterternary\"}], \"surface\": [{\"colorbar\": {\"outlinewidth\": 0, \"ticks\": \"\"}, \"colorscale\": [[0.0, \"#0d0887\"], [0.1111111111111111, \"#46039f\"], [0.2222222222222222, \"#7201a8\"], [0.3333333333333333, \"#9c179e\"], [0.4444444444444444, \"#bd3786\"], [0.5555555555555556, \"#d8576b\"], [0.6666666666666666, \"#ed7953\"], [0.7777777777777778, \"#fb9f3a\"], [0.8888888888888888, \"#fdca26\"], [1.0, \"#f0f921\"]], \"type\": \"surface\"}], \"table\": [{\"cells\": {\"fill\": {\"color\": \"#EBF0F8\"}, \"line\": {\"color\": \"white\"}}, \"header\": {\"fill\": {\"color\": \"#C8D4E3\"}, \"line\": {\"color\": \"white\"}}, \"type\": \"table\"}]}, \"layout\": {\"annotationdefaults\": {\"arrowcolor\": \"#2a3f5f\", \"arrowhead\": 0, \"arrowwidth\": 1}, \"autotypenumbers\": \"strict\", \"coloraxis\": {\"colorbar\": {\"outlinewidth\": 0, \"ticks\": \"\"}}, \"colorscale\": {\"diverging\": [[0, \"#8e0152\"], [0.1, \"#c51b7d\"], [0.2, \"#de77ae\"], [0.3, \"#f1b6da\"], [0.4, \"#fde0ef\"], [0.5, \"#f7f7f7\"], [0.6, \"#e6f5d0\"], [0.7, \"#b8e186\"], [0.8, \"#7fbc41\"], [0.9, \"#4d9221\"], [1, \"#276419\"]], \"sequential\": [[0.0, \"#0d0887\"], [0.1111111111111111, \"#46039f\"], [0.2222222222222222, \"#7201a8\"], [0.3333333333333333, \"#9c179e\"], [0.4444444444444444, \"#bd3786\"], [0.5555555555555556, \"#d8576b\"], [0.6666666666666666, \"#ed7953\"], [0.7777777777777778, \"#fb9f3a\"], [0.8888888888888888, \"#fdca26\"], [1.0, \"#f0f921\"]], \"sequentialminus\": [[0.0, \"#0d0887\"], [0.1111111111111111, \"#46039f\"], [0.2222222222222222, \"#7201a8\"], [0.3333333333333333, \"#9c179e\"], [0.4444444444444444, \"#bd3786\"], [0.5555555555555556, \"#d8576b\"], [0.6666666666666666, \"#ed7953\"], [0.7777777777777778, \"#fb9f3a\"], [0.8888888888888888, \"#fdca26\"], [1.0, \"#f0f921\"]]}, \"colorway\": [\"#636efa\", \"#EF553B\", \"#00cc96\", \"#ab63fa\", \"#FFA15A\", \"#19d3f3\", \"#FF6692\", \"#B6E880\", \"#FF97FF\", \"#FECB52\"], \"font\": {\"color\": \"#2a3f5f\"}, \"geo\": {\"bgcolor\": \"white\", \"lakecolor\": \"white\", \"landcolor\": \"#E5ECF6\", \"showlakes\": true, \"showland\": true, \"subunitcolor\": \"white\"}, \"hoverlabel\": {\"align\": \"left\"}, \"hovermode\": \"closest\", \"mapbox\": {\"style\": \"light\"}, \"paper_bgcolor\": \"white\", \"plot_bgcolor\": \"#E5ECF6\", \"polar\": {\"angularaxis\": {\"gridcolor\": \"white\", \"linecolor\": \"white\", \"ticks\": \"\"}, \"bgcolor\": \"#E5ECF6\", \"radialaxis\": {\"gridcolor\": \"white\", \"linecolor\": \"white\", \"ticks\": \"\"}}, \"scene\": {\"xaxis\": {\"backgroundcolor\": \"#E5ECF6\", \"gridcolor\": \"white\", \"gridwidth\": 2, \"linecolor\": \"white\", \"showbackground\": true, \"ticks\": \"\", \"zerolinecolor\": \"white\"}, \"yaxis\": {\"backgroundcolor\": \"#E5ECF6\", \"gridcolor\": \"white\", \"gridwidth\": 2, \"linecolor\": \"white\", \"showbackground\": true, \"ticks\": \"\", \"zerolinecolor\": \"white\"}, \"zaxis\": {\"backgroundcolor\": \"#E5ECF6\", \"gridcolor\": \"white\", \"gridwidth\": 2, \"linecolor\": \"white\", \"showbackground\": true, \"ticks\": \"\", \"zerolinecolor\": \"white\"}}, \"shapedefaults\": {\"line\": {\"color\": \"#2a3f5f\"}}, \"ternary\": {\"aaxis\": {\"gridcolor\": \"white\", \"linecolor\": \"white\", \"ticks\": \"\"}, \"baxis\": {\"gridcolor\": \"white\", \"linecolor\": \"white\", \"ticks\": \"\"}, \"bgcolor\": \"#E5ECF6\", \"caxis\": {\"gridcolor\": \"white\", \"linecolor\": \"white\", \"ticks\": \"\"}}, \"title\": {\"x\": 0.05}, \"xaxis\": {\"automargin\": true, \"gridcolor\": \"white\", \"linecolor\": \"white\", \"ticks\": \"\", \"title\": {\"standoff\": 15}, \"zerolinecolor\": \"white\", \"zerolinewidth\": 2}, \"yaxis\": {\"automargin\": true, \"gridcolor\": \"white\", \"linecolor\": \"white\", \"ticks\": \"\", \"title\": {\"standoff\": 15}, \"zerolinecolor\": \"white\", \"zerolinewidth\": 2}}}, \"title\": {\"text\": \"Training loss of the Model\"}, \"xaxis\": {\"anchor\": \"y\", \"domain\": [0.0, 1.0], \"title\": {\"text\": \"Epoch\"}}, \"yaxis\": {\"anchor\": \"x\", \"domain\": [0.0, 1.0], \"title\": {\"text\": \"Loss\"}}},                        {\"responsive\": true}                    ).then(function(){\n",
       "                            \n",
       "var gd = document.getElementById('8cb7cf25-e4dc-4014-9399-ee5ca0b27728');\n",
       "var x = new MutationObserver(function (mutations, observer) {{\n",
       "        var display = window.getComputedStyle(gd).display;\n",
       "        if (!display || display === 'none') {{\n",
       "            console.log([gd, 'removed!']);\n",
       "            Plotly.purge(gd);\n",
       "            observer.disconnect();\n",
       "        }}\n",
       "}});\n",
       "\n",
       "// Listen for the removal of the full notebook cells\n",
       "var notebookContainer = gd.closest('#notebook-container');\n",
       "if (notebookContainer) {{\n",
       "    x.observe(notebookContainer, {childList: true});\n",
       "}}\n",
       "\n",
       "// Listen for the clearing of the current output cell\n",
       "var outputEl = gd.closest('.output');\n",
       "if (outputEl) {{\n",
       "    x.observe(outputEl, {childList: true});\n",
       "}}\n",
       "\n",
       "                        })                };                });            </script>        </div>"
      ]
     },
     "metadata": {},
     "output_type": "display_data"
    }
   ],
   "source": [
    "import plotly.express as px\n",
    "\n",
    "fig = px.line(df, x='epoch', y='value', color = 'variable')\n",
    "fig.update_layout(title='Training loss of the Model',\n",
    "                   xaxis_title='Epoch',\n",
    "                   yaxis_title='Loss')\n",
    "fig.show()"
   ]
  },
  {
   "cell_type": "markdown",
   "metadata": {
    "papermill": {
     "duration": 0.100629,
     "end_time": "2021-05-17T15:39:14.131645",
     "exception": false,
     "start_time": "2021-05-17T15:39:14.031016",
     "status": "completed"
    },
    "tags": []
   },
   "source": [
    "### Extract Embeddings"
   ]
  },
  {
   "cell_type": "code",
   "execution_count": 55,
   "metadata": {
    "execution": {
     "iopub.execute_input": "2021-05-17T15:39:14.334589Z",
     "iopub.status.busy": "2021-05-17T15:39:14.333861Z",
     "iopub.status.idle": "2021-05-17T15:40:00.390007Z",
     "shell.execute_reply": "2021-05-17T15:40:00.389380Z"
    },
    "papermill": {
     "duration": 46.167287,
     "end_time": "2021-05-17T15:40:00.390126",
     "exception": false,
     "start_time": "2021-05-17T15:39:14.222839",
     "status": "completed"
    },
    "tags": []
   },
   "outputs": [
    {
     "name": "stdout",
     "output_type": "stream",
     "text": [
      "Extracting embeddinga for 9,492 train sentences...\n",
      "Extracting embeddinga for 2,590 validation sentences...\n"
     ]
    }
   ],
   "source": [
    "embeddings_tr, embeddings_vl = [], []\n",
    "# ========================================\n",
    "#               Train\n",
    "# ========================================\n",
    "# Extract embeddinga on train set\n",
    "print('Extracting embeddinga for {:,} train sentences...'.format(len(train_inputs)))\n",
    "# Put model in evaluation mode\n",
    "model.eval()\n",
    "# Tracking variables \n",
    "predictions_train , true_labels_train = [], []\n",
    "# Predict \n",
    "for batch in train_dataloader_sequential:\n",
    "    b_input_ids = batch[0].to(device)\n",
    "    b_input_mask = batch[1].to(device)\n",
    "    b_labels = batch[2].to(device)\n",
    "  \n",
    "  # Telling the model not to compute or store gradients, saving memory and \n",
    "  # speeding up prediction\n",
    "    with torch.no_grad():\n",
    "        # Forward pass, calculate logit predictions\n",
    "        outputs = model(b_input_ids, token_type_ids=None, \n",
    "                      attention_mask=b_input_mask, labels=b_labels)\n",
    "    logits = outputs[1]\n",
    "    # Embeddings extraction approach is to average the second to last hiden layer of each token producing a single 768 length vector\n",
    "    # https://mccormickml.com/2019/05/14/BERT-word-embeddings-tutorial/\n",
    "    hidden_state_tr = outputs[2]\n",
    "    token_vecs = hidden_state_tr[-2]\n",
    "    token_vecs_sentvecs = []\n",
    "    for token in token_vecs:\n",
    "        sentvecs = torch.mean(token, dim=0).detach().cpu().numpy()\n",
    "        token_vecs_sentvecs.append(sentvecs)\n",
    "    #features = hidden_state_tr[0][:,0,:].detach().cpu().numpy()\n",
    "    embeddings_tr.append([batch[3], token_vecs_sentvecs])\n",
    "    # Move logits and labels to CPU\n",
    "    logits = logits.detach().cpu().numpy()\n",
    "    label_ids = b_labels.to('cpu').numpy()\n",
    "\n",
    "    # Store predictions and true labels\n",
    "    predictions_train.append(logits)\n",
    "    true_labels_train.append(label_ids)\n",
    "# ========================================\n",
    "#               Validation\n",
    "# ========================================\n",
    "# Extract embeddinga on train set\n",
    "print('Extracting embeddinga for {:,} validation sentences...'.format(len(validation_inputs)))\n",
    "# Put model in evaluation mode\n",
    "model.eval()\n",
    "# Tracking variables \n",
    "predictions_valid, true_labels_valid = [], []\n",
    "# Predict \n",
    "for batch in validation_dataloader:\n",
    "    b_input_ids = batch[0].to(device)\n",
    "    b_input_mask = batch[1].to(device)\n",
    "    b_labels = batch[2].to(device)\n",
    "  \n",
    "  # Telling the model not to compute or store gradients, saving memory and \n",
    "  # speeding up prediction\n",
    "    with torch.no_grad():\n",
    "        # Forward pass, calculate logit predictions\n",
    "        outputs = model(b_input_ids, token_type_ids=None, \n",
    "                      attention_mask=b_input_mask, labels=b_labels)\n",
    "    logits = outputs[1]\n",
    "    # Embeddings extraction approach is to average the second to last hiden layer of each token producing a single 768 length vector\n",
    "    # https://mccormickml.com/2019/05/14/BERT-word-embeddings-tutorial/\n",
    "    hidden_state_vl = outputs[2]\n",
    "    token_vecs = hidden_state_vl[-2]\n",
    "    token_vecs_sentvecs = []\n",
    "    for token in token_vecs:\n",
    "        sentvecs = torch.mean(token, dim=0).detach().cpu().numpy()\n",
    "        token_vecs_sentvecs.append(sentvecs)\n",
    "    #features = hidden_state_vl[0][:,0,:].detach().cpu().numpy()\n",
    "    embeddings_vl.append([batch[3], token_vecs_sentvecs])\n",
    "    # Move logits and labels to CPU\n",
    "    logits = logits.detach().cpu().numpy()\n",
    "    label_ids = b_labels.to('cpu').numpy()\n",
    "\n",
    "    # Store predictions and true labels\n",
    "    predictions_valid.append(logits)\n",
    "    true_labels_valid.append(label_ids)"
   ]
  },
  {
   "cell_type": "markdown",
   "metadata": {
    "papermill": {
     "duration": 0.090203,
     "end_time": "2021-05-17T15:40:00.574065",
     "exception": false,
     "start_time": "2021-05-17T15:40:00.483862",
     "status": "completed"
    },
    "tags": []
   },
   "source": [
    "### Combine Embeddings with original DF and Output CM"
   ]
  },
  {
   "cell_type": "markdown",
   "metadata": {
    "papermill": {
     "duration": 0.095101,
     "end_time": "2021-05-17T15:40:00.760065",
     "exception": false,
     "start_time": "2021-05-17T15:40:00.664964",
     "status": "completed"
    },
    "tags": []
   },
   "source": [
    "Train"
   ]
  },
  {
   "cell_type": "code",
   "execution_count": 56,
   "metadata": {
    "execution": {
     "iopub.execute_input": "2021-05-17T15:40:00.951674Z",
     "iopub.status.busy": "2021-05-17T15:40:00.950791Z",
     "iopub.status.idle": "2021-05-17T15:40:02.944931Z",
     "shell.execute_reply": "2021-05-17T15:40:02.944492Z"
    },
    "papermill": {
     "duration": 2.0943,
     "end_time": "2021-05-17T15:40:02.945028",
     "exception": false,
     "start_time": "2021-05-17T15:40:00.850728",
     "status": "completed"
    },
    "tags": []
   },
   "outputs": [
    {
     "name": "stdout",
     "output_type": "stream",
     "text": [
      "Train Embeddings Extraction and Merge DONE\n"
     ]
    },
    {
     "data": {
      "text/html": [
       "<div>\n",
       "<style scoped>\n",
       "    .dataframe tbody tr th:only-of-type {\n",
       "        vertical-align: middle;\n",
       "    }\n",
       "\n",
       "    .dataframe tbody tr th {\n",
       "        vertical-align: top;\n",
       "    }\n",
       "\n",
       "    .dataframe thead th {\n",
       "        text-align: right;\n",
       "    }\n",
       "</style>\n",
       "<table border=\"1\" class=\"dataframe\">\n",
       "  <thead>\n",
       "    <tr style=\"text-align: right;\">\n",
       "      <th></th>\n",
       "      <th>user.id</th>\n",
       "      <th>suspended</th>\n",
       "      <th>0</th>\n",
       "      <th>1</th>\n",
       "      <th>2</th>\n",
       "      <th>3</th>\n",
       "      <th>4</th>\n",
       "      <th>5</th>\n",
       "      <th>6</th>\n",
       "      <th>7</th>\n",
       "      <th>...</th>\n",
       "      <th>758</th>\n",
       "      <th>759</th>\n",
       "      <th>760</th>\n",
       "      <th>761</th>\n",
       "      <th>762</th>\n",
       "      <th>763</th>\n",
       "      <th>764</th>\n",
       "      <th>765</th>\n",
       "      <th>766</th>\n",
       "      <th>767</th>\n",
       "    </tr>\n",
       "  </thead>\n",
       "  <tbody>\n",
       "    <tr>\n",
       "      <th>0</th>\n",
       "      <td>1.278130e+18</td>\n",
       "      <td>0</td>\n",
       "      <td>0.058209</td>\n",
       "      <td>0.153433</td>\n",
       "      <td>1.203326</td>\n",
       "      <td>1.110514</td>\n",
       "      <td>-0.726770</td>\n",
       "      <td>-0.537208</td>\n",
       "      <td>-0.765030</td>\n",
       "      <td>-0.112721</td>\n",
       "      <td>...</td>\n",
       "      <td>-0.254687</td>\n",
       "      <td>-0.935176</td>\n",
       "      <td>-0.295844</td>\n",
       "      <td>-0.602044</td>\n",
       "      <td>2.008034</td>\n",
       "      <td>1.526857</td>\n",
       "      <td>0.822790</td>\n",
       "      <td>1.113890</td>\n",
       "      <td>1.283103</td>\n",
       "      <td>-0.419414</td>\n",
       "    </tr>\n",
       "    <tr>\n",
       "      <th>1</th>\n",
       "      <td>1.278132e+18</td>\n",
       "      <td>0</td>\n",
       "      <td>-0.149022</td>\n",
       "      <td>0.274837</td>\n",
       "      <td>1.370951</td>\n",
       "      <td>1.236718</td>\n",
       "      <td>-0.549322</td>\n",
       "      <td>-0.387498</td>\n",
       "      <td>-1.185317</td>\n",
       "      <td>0.386461</td>\n",
       "      <td>...</td>\n",
       "      <td>-0.596532</td>\n",
       "      <td>-0.929530</td>\n",
       "      <td>-0.513987</td>\n",
       "      <td>-0.860855</td>\n",
       "      <td>1.954121</td>\n",
       "      <td>1.330690</td>\n",
       "      <td>0.967981</td>\n",
       "      <td>1.068194</td>\n",
       "      <td>1.348276</td>\n",
       "      <td>-0.315282</td>\n",
       "    </tr>\n",
       "    <tr>\n",
       "      <th>2</th>\n",
       "      <td>1.278132e+18</td>\n",
       "      <td>0</td>\n",
       "      <td>-0.610619</td>\n",
       "      <td>0.333868</td>\n",
       "      <td>1.912510</td>\n",
       "      <td>0.937502</td>\n",
       "      <td>-0.526610</td>\n",
       "      <td>-0.561667</td>\n",
       "      <td>-0.718932</td>\n",
       "      <td>0.717813</td>\n",
       "      <td>...</td>\n",
       "      <td>-0.646454</td>\n",
       "      <td>-1.059126</td>\n",
       "      <td>-0.580070</td>\n",
       "      <td>-0.706612</td>\n",
       "      <td>1.841980</td>\n",
       "      <td>0.919767</td>\n",
       "      <td>1.338099</td>\n",
       "      <td>0.864486</td>\n",
       "      <td>0.883509</td>\n",
       "      <td>0.037918</td>\n",
       "    </tr>\n",
       "    <tr>\n",
       "      <th>3</th>\n",
       "      <td>1.278132e+18</td>\n",
       "      <td>0</td>\n",
       "      <td>-0.459148</td>\n",
       "      <td>0.160408</td>\n",
       "      <td>2.041292</td>\n",
       "      <td>1.114764</td>\n",
       "      <td>-0.389628</td>\n",
       "      <td>-0.451665</td>\n",
       "      <td>-0.801838</td>\n",
       "      <td>0.687266</td>\n",
       "      <td>...</td>\n",
       "      <td>-0.576582</td>\n",
       "      <td>-1.015637</td>\n",
       "      <td>-0.500000</td>\n",
       "      <td>-0.812786</td>\n",
       "      <td>1.701925</td>\n",
       "      <td>0.908002</td>\n",
       "      <td>1.183990</td>\n",
       "      <td>0.725294</td>\n",
       "      <td>1.073810</td>\n",
       "      <td>0.002995</td>\n",
       "    </tr>\n",
       "    <tr>\n",
       "      <th>4</th>\n",
       "      <td>1.278132e+18</td>\n",
       "      <td>0</td>\n",
       "      <td>-0.152549</td>\n",
       "      <td>0.229584</td>\n",
       "      <td>1.399812</td>\n",
       "      <td>1.214911</td>\n",
       "      <td>-0.611880</td>\n",
       "      <td>-0.478381</td>\n",
       "      <td>-0.962356</td>\n",
       "      <td>0.509806</td>\n",
       "      <td>...</td>\n",
       "      <td>-0.654154</td>\n",
       "      <td>-0.994335</td>\n",
       "      <td>-0.579891</td>\n",
       "      <td>-0.800990</td>\n",
       "      <td>1.979753</td>\n",
       "      <td>1.241837</td>\n",
       "      <td>1.226780</td>\n",
       "      <td>0.865342</td>\n",
       "      <td>1.263910</td>\n",
       "      <td>-0.256192</td>\n",
       "    </tr>\n",
       "  </tbody>\n",
       "</table>\n",
       "<p>5 rows × 770 columns</p>\n",
       "</div>"
      ],
      "text/plain": [
       "        user.id  suspended         0         1         2         3         4  \\\n",
       "0  1.278130e+18          0  0.058209  0.153433  1.203326  1.110514 -0.726770   \n",
       "1  1.278132e+18          0 -0.149022  0.274837  1.370951  1.236718 -0.549322   \n",
       "2  1.278132e+18          0 -0.610619  0.333868  1.912510  0.937502 -0.526610   \n",
       "3  1.278132e+18          0 -0.459148  0.160408  2.041292  1.114764 -0.389628   \n",
       "4  1.278132e+18          0 -0.152549  0.229584  1.399812  1.214911 -0.611880   \n",
       "\n",
       "          5         6         7  ...       758       759       760       761  \\\n",
       "0 -0.537208 -0.765030 -0.112721  ... -0.254687 -0.935176 -0.295844 -0.602044   \n",
       "1 -0.387498 -1.185317  0.386461  ... -0.596532 -0.929530 -0.513987 -0.860855   \n",
       "2 -0.561667 -0.718932  0.717813  ... -0.646454 -1.059126 -0.580070 -0.706612   \n",
       "3 -0.451665 -0.801838  0.687266  ... -0.576582 -1.015637 -0.500000 -0.812786   \n",
       "4 -0.478381 -0.962356  0.509806  ... -0.654154 -0.994335 -0.579891 -0.800990   \n",
       "\n",
       "        762       763       764       765       766       767  \n",
       "0  2.008034  1.526857  0.822790  1.113890  1.283103 -0.419414  \n",
       "1  1.954121  1.330690  0.967981  1.068194  1.348276 -0.315282  \n",
       "2  1.841980  0.919767  1.338099  0.864486  0.883509  0.037918  \n",
       "3  1.701925  0.908002  1.183990  0.725294  1.073810  0.002995  \n",
       "4  1.979753  1.241837  1.226780  0.865342  1.263910 -0.256192  \n",
       "\n",
       "[5 rows x 770 columns]"
      ]
     },
     "execution_count": 56,
     "metadata": {},
     "output_type": "execute_result"
    }
   ],
   "source": [
    "# Get embeddings for train\n",
    "p = [group for group in embeddings_tr]\n",
    "\n",
    "b = [item for sublist in [[list(t) for t in zip(sublist[0], sublist[1])] for sublist in p] for item in sublist]\n",
    "df = pd.DataFrame(b, columns = ['id', 'embeddings'])  \n",
    "\n",
    "bert_embeddings_df_train = pd.concat([df['id'], df['embeddings'].apply(pd.Series)], axis = 1)\n",
    "bert_embeddings_df_train['id'] = bert_embeddings_df_train['id'].apply(lambda x: x.item())\n",
    "#bert_embeddings_df_train = pd.merge(df_train.drop(['text'], axis=1), bert_embeddings_df_train, left_on = [\"id\"], right_on = [\"id\"])\n",
    "bert_embeddings_df_train = pd.merge(df_train.drop(['text'], axis=1), bert_embeddings_df_train.drop(['id'], axis=1), left_index=True, right_index=True)\n",
    "print('Train Embeddings Extraction and Merge DONE')\n",
    "bert_embeddings_df_train.head()"
   ]
  },
  {
   "cell_type": "code",
   "execution_count": 57,
   "metadata": {
    "execution": {
     "iopub.execute_input": "2021-05-17T15:40:03.143525Z",
     "iopub.status.busy": "2021-05-17T15:40:03.142962Z",
     "iopub.status.idle": "2021-05-17T15:40:03.555832Z",
     "shell.execute_reply": "2021-05-17T15:40:03.555326Z"
    },
    "papermill": {
     "duration": 0.516107,
     "end_time": "2021-05-17T15:40:03.555931",
     "exception": false,
     "start_time": "2021-05-17T15:40:03.039824",
     "status": "completed"
    },
    "tags": []
   },
   "outputs": [
    {
     "name": "stdout",
     "output_type": "stream",
     "text": [
      "Calculating Matthews Corr. Coef. for each batch...\n"
     ]
    },
    {
     "name": "stderr",
     "output_type": "stream",
     "text": [
      "/opt/conda/lib/python3.7/site-packages/sklearn/metrics/_classification.py:846: RuntimeWarning:\n",
      "\n",
      "invalid value encountered in double_scalars\n",
      "\n"
     ]
    }
   ],
   "source": [
    "from sklearn.metrics import matthews_corrcoef\n",
    "matthews_set = []\n",
    "# Evaluate each test batch using Matthew's correlation coefficient\n",
    "print('Calculating Matthews Corr. Coef. for each batch...')\n",
    "# For each input batch...\n",
    "for i in range(len(true_labels_train)):\n",
    "  \n",
    "    # The predictions for this batch are a 2-column ndarray (one column for \"0\" \n",
    "    # and one column for \"1\"). Pick the label with the highest value and turn this\n",
    "    # in to a list of 0s and 1s.\n",
    "    pred_labels_i = np.argmax(predictions_train[i], axis=1).flatten()\n",
    "\n",
    "    # Calculate and store the coef for this batch.  \n",
    "    matthews = matthews_corrcoef(true_labels_train[i], pred_labels_i)                \n",
    "    matthews_set.append(matthews)"
   ]
  },
  {
   "cell_type": "code",
   "execution_count": 58,
   "metadata": {
    "execution": {
     "iopub.execute_input": "2021-05-17T15:40:03.783385Z",
     "iopub.status.busy": "2021-05-17T15:40:03.782636Z",
     "iopub.status.idle": "2021-05-17T15:40:03.812663Z",
     "shell.execute_reply": "2021-05-17T15:40:03.813323Z"
    },
    "papermill": {
     "duration": 0.142576,
     "end_time": "2021-05-17T15:40:03.813502",
     "exception": false,
     "start_time": "2021-05-17T15:40:03.670926",
     "status": "completed"
    },
    "tags": []
   },
   "outputs": [
    {
     "name": "stdout",
     "output_type": "stream",
     "text": [
      "MCC: 0.457\n"
     ]
    }
   ],
   "source": [
    "# Combine the predictions for each batch into a single list of 0s and 1s.\n",
    "flat_predictions = [item for sublist in predictions_train for item in sublist]\n",
    "flat_predictions = np.argmax(flat_predictions, axis=1).flatten()\n",
    "# Combine the correct labels for each batch into a single list.\n",
    "flat_true_labels = [item for sublist in true_labels_train for item in sublist]\n",
    "# Calculate the MCC\n",
    "mcc = matthews_corrcoef(flat_true_labels, flat_predictions)\n",
    "print('MCC: %.3f' % mcc)"
   ]
  },
  {
   "cell_type": "code",
   "execution_count": 59,
   "metadata": {
    "execution": {
     "iopub.execute_input": "2021-05-17T15:40:04.019161Z",
     "iopub.status.busy": "2021-05-17T15:40:04.018379Z",
     "iopub.status.idle": "2021-05-17T15:40:04.036154Z",
     "shell.execute_reply": "2021-05-17T15:40:04.035631Z"
    },
    "papermill": {
     "duration": 0.123903,
     "end_time": "2021-05-17T15:40:04.036242",
     "exception": false,
     "start_time": "2021-05-17T15:40:03.912339",
     "status": "completed"
    },
    "tags": []
   },
   "outputs": [
    {
     "name": "stdout",
     "output_type": "stream",
     "text": [
      "              precision    recall  f1-score   support\n",
      "\n",
      "           0       0.95      1.00      0.97      8853\n",
      "           1       0.85      0.26      0.40       639\n",
      "\n",
      "    accuracy                           0.95      9492\n",
      "   macro avg       0.90      0.63      0.69      9492\n",
      "weighted avg       0.94      0.95      0.93      9492\n",
      "\n"
     ]
    }
   ],
   "source": [
    "from sklearn.metrics import classification_report,confusion_matrix\n",
    "report = classification_report(flat_true_labels, flat_predictions)\n",
    "print(report)"
   ]
  },
  {
   "cell_type": "code",
   "execution_count": 60,
   "metadata": {
    "execution": {
     "iopub.execute_input": "2021-05-17T15:40:04.232308Z",
     "iopub.status.busy": "2021-05-17T15:40:04.231631Z",
     "iopub.status.idle": "2021-05-17T15:40:04.234632Z",
     "shell.execute_reply": "2021-05-17T15:40:04.234193Z"
    },
    "papermill": {
     "duration": 0.103658,
     "end_time": "2021-05-17T15:40:04.234725",
     "exception": false,
     "start_time": "2021-05-17T15:40:04.131067",
     "status": "completed"
    },
    "tags": []
   },
   "outputs": [],
   "source": [
    "def plot_roc_curve(fpr, tpr, label=None):\n",
    "    plt.plot(fpr, tpr, linewidth=2, label=label)\n",
    "    plt.plot([0, 1], [0, 1], 'k--') # dashed diagonal\n",
    "    plt.axis([0, 1, 0, 1])                                    # Not shown in the book\n",
    "    plt.xlabel('False Positive Rate (Fall-Out)', fontsize=16) # Not shown\n",
    "    plt.ylabel('True Positive Rate (Recall)', fontsize=16)    # Not shown\n",
    "    plt.grid(True)  "
   ]
  },
  {
   "cell_type": "code",
   "execution_count": 61,
   "metadata": {
    "execution": {
     "iopub.execute_input": "2021-05-17T15:40:04.431847Z",
     "iopub.status.busy": "2021-05-17T15:40:04.431040Z",
     "iopub.status.idle": "2021-05-17T15:40:04.595932Z",
     "shell.execute_reply": "2021-05-17T15:40:04.596341Z"
    },
    "papermill": {
     "duration": 0.268448,
     "end_time": "2021-05-17T15:40:04.596481",
     "exception": false,
     "start_time": "2021-05-17T15:40:04.328033",
     "status": "completed"
    },
    "tags": []
   },
   "outputs": [
    {
     "data": {
      "image/png": "[encoded data removed]",
      "text/plain": [
       "<Figure size 576x432 with 1 Axes>"
      ]
     },
     "metadata": {
      "needs_background": "light"
     },
     "output_type": "display_data"
    }
   ],
   "source": [
    "fpr, tpr, thresholds = roc_curve(flat_true_labels, flat_predictions)\n",
    "plt.figure(figsize=(8, 6))                         # Not shown\n",
    "plot_roc_curve(fpr, tpr)\n",
    "plt.plot([4.837e-3, 4.837e-3], [0., 0.4368], \"r:\") # Not shown\n",
    "plt.plot([0.0, 4.837e-3], [0.4368, 0.4368], \"r:\")  # Not shown\n",
    "plt.plot([4.837e-3], [0.4368], \"ro\")               # Not shown\n",
    "plt.show()"
   ]
  },
  {
   "cell_type": "code",
   "execution_count": 62,
   "metadata": {
    "execution": {
     "iopub.execute_input": "2021-05-17T15:40:04.797756Z",
     "iopub.status.busy": "2021-05-17T15:40:04.796976Z",
     "iopub.status.idle": "2021-05-17T15:40:04.805817Z",
     "shell.execute_reply": "2021-05-17T15:40:04.805291Z"
    },
    "papermill": {
     "duration": 0.11013,
     "end_time": "2021-05-17T15:40:04.805905",
     "exception": false,
     "start_time": "2021-05-17T15:40:04.695775",
     "status": "completed"
    },
    "tags": []
   },
   "outputs": [
    {
     "data": {
      "text/plain": [
       "0.6305435307731021"
      ]
     },
     "execution_count": 62,
     "metadata": {},
     "output_type": "execute_result"
    }
   ],
   "source": [
    "roc_auc_score(flat_true_labels, flat_predictions)"
   ]
  },
  {
   "cell_type": "markdown",
   "metadata": {
    "papermill": {
     "duration": 0.095373,
     "end_time": "2021-05-17T15:40:04.996272",
     "exception": false,
     "start_time": "2021-05-17T15:40:04.900899",
     "status": "completed"
    },
    "tags": []
   },
   "source": [
    "Valid"
   ]
  },
  {
   "cell_type": "code",
   "execution_count": 63,
   "metadata": {
    "execution": {
     "iopub.execute_input": "2021-05-17T15:40:05.196372Z",
     "iopub.status.busy": "2021-05-17T15:40:05.195533Z",
     "iopub.status.idle": "2021-05-17T15:40:05.943580Z",
     "shell.execute_reply": "2021-05-17T15:40:05.944149Z"
    },
    "papermill": {
     "duration": 0.852187,
     "end_time": "2021-05-17T15:40:05.944282",
     "exception": false,
     "start_time": "2021-05-17T15:40:05.092095",
     "status": "completed"
    },
    "tags": []
   },
   "outputs": [
    {
     "name": "stdout",
     "output_type": "stream",
     "text": [
      "Valid Embeddings Extraction and Merge DONE.\n"
     ]
    },
    {
     "data": {
      "text/html": [
       "<div>\n",
       "<style scoped>\n",
       "    .dataframe tbody tr th:only-of-type {\n",
       "        vertical-align: middle;\n",
       "    }\n",
       "\n",
       "    .dataframe tbody tr th {\n",
       "        vertical-align: top;\n",
       "    }\n",
       "\n",
       "    .dataframe thead th {\n",
       "        text-align: right;\n",
       "    }\n",
       "</style>\n",
       "<table border=\"1\" class=\"dataframe\">\n",
       "  <thead>\n",
       "    <tr style=\"text-align: right;\">\n",
       "      <th></th>\n",
       "      <th>user.id</th>\n",
       "      <th>suspended</th>\n",
       "      <th>0</th>\n",
       "      <th>1</th>\n",
       "      <th>2</th>\n",
       "      <th>3</th>\n",
       "      <th>4</th>\n",
       "      <th>5</th>\n",
       "      <th>6</th>\n",
       "      <th>7</th>\n",
       "      <th>...</th>\n",
       "      <th>758</th>\n",
       "      <th>759</th>\n",
       "      <th>760</th>\n",
       "      <th>761</th>\n",
       "      <th>762</th>\n",
       "      <th>763</th>\n",
       "      <th>764</th>\n",
       "      <th>765</th>\n",
       "      <th>766</th>\n",
       "      <th>767</th>\n",
       "    </tr>\n",
       "  </thead>\n",
       "  <tbody>\n",
       "    <tr>\n",
       "      <th>0</th>\n",
       "      <td>1.278120e+18</td>\n",
       "      <td>1</td>\n",
       "      <td>-1.156527</td>\n",
       "      <td>-0.459297</td>\n",
       "      <td>1.729503</td>\n",
       "      <td>0.767720</td>\n",
       "      <td>-0.845316</td>\n",
       "      <td>-0.302549</td>\n",
       "      <td>-0.256218</td>\n",
       "      <td>1.126467</td>\n",
       "      <td>...</td>\n",
       "      <td>0.047549</td>\n",
       "      <td>-0.832468</td>\n",
       "      <td>-0.625623</td>\n",
       "      <td>-1.006464</td>\n",
       "      <td>1.368168</td>\n",
       "      <td>0.573801</td>\n",
       "      <td>0.935621</td>\n",
       "      <td>0.859985</td>\n",
       "      <td>1.293394</td>\n",
       "      <td>0.640771</td>\n",
       "    </tr>\n",
       "    <tr>\n",
       "      <th>1</th>\n",
       "      <td>1.278120e+18</td>\n",
       "      <td>1</td>\n",
       "      <td>-0.781678</td>\n",
       "      <td>0.058000</td>\n",
       "      <td>1.785513</td>\n",
       "      <td>1.075069</td>\n",
       "      <td>-0.783300</td>\n",
       "      <td>-0.214178</td>\n",
       "      <td>-0.522502</td>\n",
       "      <td>0.757099</td>\n",
       "      <td>...</td>\n",
       "      <td>-0.435098</td>\n",
       "      <td>-0.951919</td>\n",
       "      <td>-0.338708</td>\n",
       "      <td>-0.637458</td>\n",
       "      <td>1.626668</td>\n",
       "      <td>1.065777</td>\n",
       "      <td>1.418744</td>\n",
       "      <td>0.779182</td>\n",
       "      <td>1.274593</td>\n",
       "      <td>0.158140</td>\n",
       "    </tr>\n",
       "    <tr>\n",
       "      <th>2</th>\n",
       "      <td>1.278120e+18</td>\n",
       "      <td>1</td>\n",
       "      <td>-0.397473</td>\n",
       "      <td>0.186874</td>\n",
       "      <td>1.976080</td>\n",
       "      <td>0.934446</td>\n",
       "      <td>-0.507209</td>\n",
       "      <td>-0.415473</td>\n",
       "      <td>-0.614085</td>\n",
       "      <td>0.752765</td>\n",
       "      <td>...</td>\n",
       "      <td>-0.699080</td>\n",
       "      <td>-0.777098</td>\n",
       "      <td>-0.435154</td>\n",
       "      <td>-0.825792</td>\n",
       "      <td>1.954670</td>\n",
       "      <td>0.930360</td>\n",
       "      <td>1.454925</td>\n",
       "      <td>0.842224</td>\n",
       "      <td>1.169218</td>\n",
       "      <td>0.271862</td>\n",
       "    </tr>\n",
       "    <tr>\n",
       "      <th>3</th>\n",
       "      <td>1.278120e+18</td>\n",
       "      <td>1</td>\n",
       "      <td>-1.252412</td>\n",
       "      <td>-0.598320</td>\n",
       "      <td>1.535977</td>\n",
       "      <td>0.425842</td>\n",
       "      <td>-0.631961</td>\n",
       "      <td>-0.214431</td>\n",
       "      <td>-0.256900</td>\n",
       "      <td>1.224858</td>\n",
       "      <td>...</td>\n",
       "      <td>0.495208</td>\n",
       "      <td>-0.658329</td>\n",
       "      <td>-0.691335</td>\n",
       "      <td>-1.205496</td>\n",
       "      <td>0.675979</td>\n",
       "      <td>0.534755</td>\n",
       "      <td>0.739114</td>\n",
       "      <td>0.842735</td>\n",
       "      <td>1.410777</td>\n",
       "      <td>0.579965</td>\n",
       "    </tr>\n",
       "    <tr>\n",
       "      <th>4</th>\n",
       "      <td>1.278120e+18</td>\n",
       "      <td>1</td>\n",
       "      <td>-0.566565</td>\n",
       "      <td>0.909435</td>\n",
       "      <td>1.941665</td>\n",
       "      <td>0.768467</td>\n",
       "      <td>-0.453939</td>\n",
       "      <td>-0.573198</td>\n",
       "      <td>-0.890894</td>\n",
       "      <td>0.872484</td>\n",
       "      <td>...</td>\n",
       "      <td>-0.758435</td>\n",
       "      <td>-0.703929</td>\n",
       "      <td>-0.494093</td>\n",
       "      <td>-0.601455</td>\n",
       "      <td>1.784172</td>\n",
       "      <td>0.926551</td>\n",
       "      <td>1.432800</td>\n",
       "      <td>0.883486</td>\n",
       "      <td>1.169842</td>\n",
       "      <td>0.296064</td>\n",
       "    </tr>\n",
       "  </tbody>\n",
       "</table>\n",
       "<p>5 rows × 770 columns</p>\n",
       "</div>"
      ],
      "text/plain": [
       "        user.id  suspended         0         1         2         3         4  \\\n",
       "0  1.278120e+18          1 -1.156527 -0.459297  1.729503  0.767720 -0.845316   \n",
       "1  1.278120e+18          1 -0.781678  0.058000  1.785513  1.075069 -0.783300   \n",
       "2  1.278120e+18          1 -0.397473  0.186874  1.976080  0.934446 -0.507209   \n",
       "3  1.278120e+18          1 -1.252412 -0.598320  1.535977  0.425842 -0.631961   \n",
       "4  1.278120e+18          1 -0.566565  0.909435  1.941665  0.768467 -0.453939   \n",
       "\n",
       "          5         6         7  ...       758       759       760       761  \\\n",
       "0 -0.302549 -0.256218  1.126467  ...  0.047549 -0.832468 -0.625623 -1.006464   \n",
       "1 -0.214178 -0.522502  0.757099  ... -0.435098 -0.951919 -0.338708 -0.637458   \n",
       "2 -0.415473 -0.614085  0.752765  ... -0.699080 -0.777098 -0.435154 -0.825792   \n",
       "3 -0.214431 -0.256900  1.224858  ...  0.495208 -0.658329 -0.691335 -1.205496   \n",
       "4 -0.573198 -0.890894  0.872484  ... -0.758435 -0.703929 -0.494093 -0.601455   \n",
       "\n",
       "        762       763       764       765       766       767  \n",
       "0  1.368168  0.573801  0.935621  0.859985  1.293394  0.640771  \n",
       "1  1.626668  1.065777  1.418744  0.779182  1.274593  0.158140  \n",
       "2  1.954670  0.930360  1.454925  0.842224  1.169218  0.271862  \n",
       "3  0.675979  0.534755  0.739114  0.842735  1.410777  0.579965  \n",
       "4  1.784172  0.926551  1.432800  0.883486  1.169842  0.296064  \n",
       "\n",
       "[5 rows x 770 columns]"
      ]
     },
     "execution_count": 63,
     "metadata": {},
     "output_type": "execute_result"
    }
   ],
   "source": [
    "# Get embeddings for valid\n",
    "p = [group for group in embeddings_vl]\n",
    "\n",
    "b = [item for sublist in [[list(t) for t in zip(sublist[0], sublist[1])] for sublist in p] for item in sublist]\n",
    "df = pd.DataFrame(b, columns = ['id', 'embeddings'])  \n",
    "\n",
    "bert_embeddings_df_valid = pd.concat([df['id'], df['embeddings'].apply(pd.Series)], axis = 1)\n",
    "bert_embeddings_df_valid['id'] = bert_embeddings_df_valid['id'].apply(lambda x: x.item())\n",
    "#bert_embeddings_df_valid = pd.merge(df_valid.drop(['text'], axis=1), bert_embeddings_df_valid, left_on = [\"id\"], right_on = [\"id\"])\n",
    "bert_embeddings_df_valid = pd.merge(df_valid.drop(['text'], axis=1), bert_embeddings_df_valid.drop(['id'], axis=1), left_index=True, right_index=True)\n",
    "print('Valid Embeddings Extraction and Merge DONE.')\n",
    "bert_embeddings_df_valid.head()"
   ]
  },
  {
   "cell_type": "code",
   "execution_count": 64,
   "metadata": {
    "execution": {
     "iopub.execute_input": "2021-05-17T15:40:06.154010Z",
     "iopub.status.busy": "2021-05-17T15:40:06.153061Z",
     "iopub.status.idle": "2021-05-17T15:40:06.269131Z",
     "shell.execute_reply": "2021-05-17T15:40:06.268487Z"
    },
    "papermill": {
     "duration": 0.226716,
     "end_time": "2021-05-17T15:40:06.269256",
     "exception": false,
     "start_time": "2021-05-17T15:40:06.042540",
     "status": "completed"
    },
    "tags": []
   },
   "outputs": [
    {
     "name": "stdout",
     "output_type": "stream",
     "text": [
      "Calculating Matthews Corr. Coef. for each batch...\n"
     ]
    },
    {
     "name": "stderr",
     "output_type": "stream",
     "text": [
      "/opt/conda/lib/python3.7/site-packages/sklearn/metrics/_classification.py:846: RuntimeWarning:\n",
      "\n",
      "invalid value encountered in double_scalars\n",
      "\n"
     ]
    }
   ],
   "source": [
    "from sklearn.metrics import matthews_corrcoef\n",
    "matthews_set = []\n",
    "# Evaluate each test batch using Matthew's correlation coefficient\n",
    "print('Calculating Matthews Corr. Coef. for each batch...')\n",
    "# For each input batch...\n",
    "for i in range(len(true_labels_valid)):\n",
    "  \n",
    "    # The predictions for this batch are a 2-column ndarray (one column for \"0\" \n",
    "    # and one column for \"1\"). Pick the label with the highest value and turn this\n",
    "    # in to a list of 0s and 1s.\n",
    "    pred_labels_i = np.argmax(predictions_valid[i], axis=1).flatten()\n",
    "\n",
    "    # Calculate and store the coef for this batch.  \n",
    "    matthews = matthews_corrcoef(true_labels_valid[i], pred_labels_i)                \n",
    "    matthews_set.append(matthews)"
   ]
  },
  {
   "cell_type": "code",
   "execution_count": 65,
   "metadata": {
    "execution": {
     "iopub.execute_input": "2021-05-17T15:40:06.528808Z",
     "iopub.status.busy": "2021-05-17T15:40:06.521234Z",
     "iopub.status.idle": "2021-05-17T15:40:06.552506Z",
     "shell.execute_reply": "2021-05-17T15:40:06.551686Z"
    },
    "papermill": {
     "duration": 0.179526,
     "end_time": "2021-05-17T15:40:06.552649",
     "exception": false,
     "start_time": "2021-05-17T15:40:06.373123",
     "status": "completed"
    },
    "tags": []
   },
   "outputs": [
    {
     "name": "stdout",
     "output_type": "stream",
     "text": [
      "MCC: -0.014\n"
     ]
    }
   ],
   "source": [
    "# Combine the predictions for each batch into a single list of 0s and 1s.\n",
    "flat_predictions = [item for sublist in predictions_valid for item in sublist]\n",
    "flat_predictions = np.argmax(flat_predictions, axis=1).flatten()\n",
    "# Combine the correct labels for each batch into a single list.\n",
    "flat_true_labels = [item for sublist in true_labels_valid for item in sublist]\n",
    "# Calculate the MCC\n",
    "mcc = matthews_corrcoef(flat_true_labels, flat_predictions)\n",
    "print('MCC: %.3f' % mcc)"
   ]
  },
  {
   "cell_type": "code",
   "execution_count": 66,
   "metadata": {
    "execution": {
     "iopub.execute_input": "2021-05-17T15:40:06.895595Z",
     "iopub.status.busy": "2021-05-17T15:40:06.894656Z",
     "iopub.status.idle": "2021-05-17T15:40:06.909208Z",
     "shell.execute_reply": "2021-05-17T15:40:06.909922Z"
    },
    "papermill": {
     "duration": 0.186009,
     "end_time": "2021-05-17T15:40:06.910082",
     "exception": false,
     "start_time": "2021-05-17T15:40:06.724073",
     "status": "completed"
    },
    "tags": []
   },
   "outputs": [
    {
     "name": "stdout",
     "output_type": "stream",
     "text": [
      "              precision    recall  f1-score   support\n",
      "\n",
      "           0       0.85      0.99      0.91      2197\n",
      "           1       0.10      0.01      0.01       393\n",
      "\n",
      "    accuracy                           0.84      2590\n",
      "   macro avg       0.47      0.50      0.46      2590\n",
      "weighted avg       0.73      0.84      0.78      2590\n",
      "\n"
     ]
    }
   ],
   "source": [
    "from sklearn.metrics import classification_report,confusion_matrix\n",
    "report = classification_report(flat_true_labels, flat_predictions)\n",
    "print(report)"
   ]
  },
  {
   "cell_type": "code",
   "execution_count": 67,
   "metadata": {
    "execution": {
     "iopub.execute_input": "2021-05-17T15:40:07.146145Z",
     "iopub.status.busy": "2021-05-17T15:40:07.145254Z",
     "iopub.status.idle": "2021-05-17T15:40:07.289301Z",
     "shell.execute_reply": "2021-05-17T15:40:07.289791Z"
    },
    "papermill": {
     "duration": 0.249226,
     "end_time": "2021-05-17T15:40:07.289933",
     "exception": false,
     "start_time": "2021-05-17T15:40:07.040707",
     "status": "completed"
    },
    "tags": []
   },
   "outputs": [
    {
     "data": {
      "image/png": "[encoded data removed]",
      "text/plain": [
       "<Figure size 576x432 with 1 Axes>"
      ]
     },
     "metadata": {
      "needs_background": "light"
     },
     "output_type": "display_data"
    }
   ],
   "source": [
    "fpr, tpr, thresholds = roc_curve(flat_true_labels, flat_predictions)\n",
    "plt.figure(figsize=(8, 6))                         # Not shown\n",
    "plot_roc_curve(fpr, tpr)\n",
    "plt.plot([4.837e-3, 4.837e-3], [0., 0.4368], \"r:\") # Not shown\n",
    "plt.plot([0.0, 4.837e-3], [0.4368, 0.4368], \"r:\")  # Not shown\n",
    "plt.plot([4.837e-3], [0.4368], \"ro\")               # Not shown\n",
    "plt.show()"
   ]
  },
  {
   "cell_type": "code",
   "execution_count": 68,
   "metadata": {
    "execution": {
     "iopub.execute_input": "2021-05-17T15:40:07.499049Z",
     "iopub.status.busy": "2021-05-17T15:40:07.498205Z",
     "iopub.status.idle": "2021-05-17T15:40:07.504987Z",
     "shell.execute_reply": "2021-05-17T15:40:07.504478Z"
    },
    "papermill": {
     "duration": 0.112036,
     "end_time": "2021-05-17T15:40:07.505076",
     "exception": false,
     "start_time": "2021-05-17T15:40:07.393040",
     "status": "completed"
    },
    "tags": []
   },
   "outputs": [
    {
     "data": {
      "text/plain": [
       "0.49822045097351114"
      ]
     },
     "execution_count": 68,
     "metadata": {},
     "output_type": "execute_result"
    }
   ],
   "source": [
    "roc_auc_score(flat_true_labels, flat_predictions)"
   ]
  },
  {
   "cell_type": "markdown",
   "metadata": {
    "papermill": {
     "duration": 0.098524,
     "end_time": "2021-05-17T15:40:07.702882",
     "exception": false,
     "start_time": "2021-05-17T15:40:07.604358",
     "status": "completed"
    },
    "tags": []
   },
   "source": [
    "### Export Models and Embeddings"
   ]
  },
  {
   "cell_type": "code",
   "execution_count": 69,
   "metadata": {
    "execution": {
     "iopub.execute_input": "2021-05-17T15:40:07.908120Z",
     "iopub.status.busy": "2021-05-17T15:40:07.907242Z",
     "iopub.status.idle": "2021-05-17T15:40:07.933749Z",
     "shell.execute_reply": "2021-05-17T15:40:07.933289Z"
    },
    "papermill": {
     "duration": 0.131887,
     "end_time": "2021-05-17T15:40:07.933848",
     "exception": false,
     "start_time": "2021-05-17T15:40:07.801961",
     "status": "completed"
    },
    "tags": []
   },
   "outputs": [],
   "source": [
    "bert_embeddings_df_train['user.id'] = bert_embeddings_df_train['user.id'].astype('str')\n",
    "bert_embeddings_df_train['user.id'] = bert_embeddings_df_train['user.id'].apply(lambda x: \"'\" + x + \"'\")\n",
    "bert_embeddings_df_valid['user.id'] = bert_embeddings_df_valid['user.id'].astype('str')\n",
    "bert_embeddings_df_valid['user.id'] = bert_embeddings_df_valid['user.id'].apply(lambda x: \"'\" + x + \"'\")"
   ]
  },
  {
   "cell_type": "code",
   "execution_count": 70,
   "metadata": {
    "execution": {
     "iopub.execute_input": "2021-05-17T15:40:08.142358Z",
     "iopub.status.busy": "2021-05-17T15:40:08.141548Z",
     "iopub.status.idle": "2021-05-17T15:40:08.148786Z",
     "shell.execute_reply": "2021-05-17T15:40:08.148163Z"
    },
    "papermill": {
     "duration": 0.114284,
     "end_time": "2021-05-17T15:40:08.148914",
     "exception": false,
     "start_time": "2021-05-17T15:40:08.034630",
     "status": "completed"
    },
    "tags": []
   },
   "outputs": [
    {
     "name": "stdout",
     "output_type": "stream",
     "text": [
      "full train: 9492 unique ids train: 1553 full valid: 2590 unique ids valid: 567\n"
     ]
    }
   ],
   "source": [
    "print(\"full train:\", len(bert_embeddings_df_train), \"unique ids train:\", len(bert_embeddings_df_train['user.id'].unique()), \n",
    "      \"full valid:\", len(bert_embeddings_df_valid), \"unique ids valid:\", len(bert_embeddings_df_valid['user.id'].unique()))"
   ]
  },
  {
   "cell_type": "markdown",
   "metadata": {
    "papermill": {
     "duration": 0.099591,
     "end_time": "2021-05-17T15:40:08.348558",
     "exception": false,
     "start_time": "2021-05-17T15:40:08.248967",
     "status": "completed"
    },
    "tags": []
   },
   "source": [
    "Save"
   ]
  },
  {
   "cell_type": "code",
   "execution_count": 71,
   "metadata": {
    "execution": {
     "iopub.execute_input": "2021-05-17T15:40:08.555443Z",
     "iopub.status.busy": "2021-05-17T15:40:08.554642Z",
     "iopub.status.idle": "2021-05-17T15:40:10.632267Z",
     "shell.execute_reply": "2021-05-17T15:40:10.631816Z"
    },
    "papermill": {
     "duration": 2.181556,
     "end_time": "2021-05-17T15:40:10.632365",
     "exception": false,
     "start_time": "2021-05-17T15:40:08.450809",
     "status": "completed"
    },
    "tags": []
   },
   "outputs": [
    {
     "data": {
      "text/plain": [
       "('./Multilingual_Tweettext_mode/tokenizer_config.json',\n",
       " './Multilingual_Tweettext_mode/special_tokens_map.json',\n",
       " './Multilingual_Tweettext_mode/vocab.txt',\n",
       " './Multilingual_Tweettext_mode/added_tokens.json')"
      ]
     },
     "execution_count": 71,
     "metadata": {},
     "output_type": "execute_result"
    }
   ],
   "source": [
    "model_to_save = model.module if hasattr(model, \"module\") else model # Take care of distributed/parallel training\n",
    "model_to_save.save_pretrained('./Multilingual_Tweettext_mode/')\n",
    "tokenizer.save_pretrained('./Multilingual_Tweettext_mode/')"
   ]
  },
  {
   "cell_type": "code",
   "execution_count": 72,
   "metadata": {
    "execution": {
     "iopub.execute_input": "2021-05-17T15:40:10.840391Z",
     "iopub.status.busy": "2021-05-17T15:40:10.839016Z",
     "iopub.status.idle": "2021-05-17T15:40:26.744246Z",
     "shell.execute_reply": "2021-05-17T15:40:26.743132Z"
    },
    "papermill": {
     "duration": 16.010783,
     "end_time": "2021-05-17T15:40:26.744377",
     "exception": false,
     "start_time": "2021-05-17T15:40:10.733594",
     "status": "completed"
    },
    "tags": []
   },
   "outputs": [],
   "source": [
    "bert_embeddings_df_train.to_csv('ml_training_embeddings_df_full.csv', index=False, encoding = \"utf_8_sig\")\n",
    "bert_embeddings_df_valid.to_csv('ml_valid_embeddings_df_full.csv', index=False, encoding = \"utf_8_sig\")"
   ]
  },
  {
   "cell_type": "markdown",
   "metadata": {
    "papermill": {
     "duration": 0.100802,
     "end_time": "2021-05-17T15:40:26.946970",
     "exception": false,
     "start_time": "2021-05-17T15:40:26.846168",
     "status": "completed"
    },
    "tags": []
   },
   "source": [
    "### Evaluate on Test"
   ]
  },
  {
   "cell_type": "markdown",
   "metadata": {
    "papermill": {
     "duration": 0.100025,
     "end_time": "2021-05-17T15:40:27.147707",
     "exception": false,
     "start_time": "2021-05-17T15:40:27.047682",
     "status": "completed"
    },
    "tags": []
   },
   "source": [
    "Let’s take a look at our training loss over all batches:"
   ]
  },
  {
   "cell_type": "markdown",
   "metadata": {
    "papermill": {
     "duration": 0.099462,
     "end_time": "2021-05-17T15:40:27.347694",
     "exception": false,
     "start_time": "2021-05-17T15:40:27.248232",
     "status": "completed"
    },
    "tags": []
   },
   "source": [
    "Now we’ll load the holdout dataset and prepare inputs just as we did with the training set. Then we’ll evaluate predictions using Matthews correlation coefficient (MCC wiki)because this is the metric used by the wider NLP community to evaluate performance on CoLA. With this metric, +1 is the best score, and -1 is the worst score. This way, we can see how well we perform against the state of the art models for this specific task.\n"
   ]
  },
  {
   "cell_type": "code",
   "execution_count": 73,
   "metadata": {
    "execution": {
     "iopub.execute_input": "2021-05-17T15:40:27.561374Z",
     "iopub.status.busy": "2021-05-17T15:40:27.560673Z",
     "iopub.status.idle": "2021-05-17T15:40:27.597943Z",
     "shell.execute_reply": "2021-05-17T15:40:27.597498Z"
    },
    "papermill": {
     "duration": 0.146373,
     "end_time": "2021-05-17T15:40:27.598032",
     "exception": false,
     "start_time": "2021-05-17T15:40:27.451659",
     "status": "completed"
    },
    "tags": []
   },
   "outputs": [],
   "source": [
    "# Convert to tensors.\n",
    "prediction_inputs = torch.tensor(test_inputs)\n",
    "prediction_masks = torch.tensor(test_masks)\n",
    "prediction_labels = torch.tensor(test_labels)\n",
    "prediction_ids = torch.tensor(ids_test)\n",
    "\n",
    "# Set the batch size.  \n",
    "batch_size = 8 \n",
    "# Create the DataLoader.\n",
    "prediction_data = TensorDataset(prediction_inputs, prediction_masks, prediction_labels, prediction_ids)\n",
    "prediction_sampler = SequentialSampler(prediction_data)\n",
    "prediction_dataloader = DataLoader(prediction_data, sampler=prediction_sampler, batch_size=batch_size)"
   ]
  },
  {
   "cell_type": "code",
   "execution_count": 74,
   "metadata": {
    "execution": {
     "iopub.execute_input": "2021-05-17T15:40:27.804584Z",
     "iopub.status.busy": "2021-05-17T15:40:27.803798Z",
     "iopub.status.idle": "2021-05-17T15:40:27.807431Z",
     "shell.execute_reply": "2021-05-17T15:40:27.807021Z"
    },
    "papermill": {
     "duration": 0.108335,
     "end_time": "2021-05-17T15:40:27.807543",
     "exception": false,
     "start_time": "2021-05-17T15:40:27.699208",
     "status": "completed"
    },
    "tags": []
   },
   "outputs": [
    {
     "data": {
      "text/plain": [
       "torch.Size([2779, 120])"
      ]
     },
     "execution_count": 74,
     "metadata": {},
     "output_type": "execute_result"
    }
   ],
   "source": [
    "prediction_inputs.shape"
   ]
  },
  {
   "cell_type": "markdown",
   "metadata": {
    "papermill": {
     "duration": 0.102473,
     "end_time": "2021-05-17T15:40:28.011902",
     "exception": false,
     "start_time": "2021-05-17T15:40:27.909429",
     "status": "completed"
    },
    "tags": []
   },
   "source": [
    "With the test set prepared, we can apply our fine-tuned model to generate predictions on the test set"
   ]
  },
  {
   "cell_type": "code",
   "execution_count": 75,
   "metadata": {
    "execution": {
     "iopub.execute_input": "2021-05-17T15:40:28.232164Z",
     "iopub.status.busy": "2021-05-17T15:40:28.231315Z",
     "iopub.status.idle": "2021-05-17T15:40:40.073269Z",
     "shell.execute_reply": "2021-05-17T15:40:40.072741Z"
    },
    "papermill": {
     "duration": 11.955624,
     "end_time": "2021-05-17T15:40:40.073388",
     "exception": false,
     "start_time": "2021-05-17T15:40:28.117764",
     "status": "completed"
    },
    "tags": []
   },
   "outputs": [
    {
     "name": "stdout",
     "output_type": "stream",
     "text": [
      "Predicting labels for 2,779 test sentences...\n"
     ]
    }
   ],
   "source": [
    "embeddings_te = []\n",
    "# Prediction on test set\n",
    "print('Predicting labels for {:,} test sentences...'.format(len(prediction_inputs)))\n",
    "# Put model in evaluation mode\n",
    "model.eval()\n",
    "# Tracking variables \n",
    "predictions , true_labels = [], []\n",
    "# Predict \n",
    "for batch in prediction_dataloader:\n",
    "    b_input_ids = batch[0].to(device)\n",
    "    b_input_mask = batch[1].to(device)\n",
    "    b_labels = batch[2].to(device)\n",
    "  \n",
    "  # Telling the model not to compute or store gradients, saving memory and \n",
    "  # speeding up prediction\n",
    "    with torch.no_grad():\n",
    "        # Forward pass, calculate logit predictions\n",
    "        outputs = model(b_input_ids, token_type_ids=None, \n",
    "                      attention_mask=b_input_mask, labels=b_labels)\n",
    "    logits = outputs[1]\n",
    "    # Embeddings extraction approach is to average the second to last hiden layer of each token producing a single 768 length vector\n",
    "    # https://mccormickml.com/2019/05/14/BERT-word-embeddings-tutorial/\n",
    "    hidden_state_te = outputs[2]\n",
    "    token_vecs = hidden_state_te[-2]\n",
    "    token_vecs_sentvecs = []\n",
    "    for token in token_vecs:\n",
    "        sentvecs = torch.mean(token, dim=0).detach().cpu().numpy()\n",
    "        token_vecs_sentvecs.append(sentvecs)\n",
    "    # features = hidden_state_te[12][:,0,:].detach().cpu().numpy()\n",
    "    embeddings_te.append([batch[3], token_vecs_sentvecs])\n",
    "    # Move logits and labels to CPU\n",
    "    logits = logits.detach().cpu().numpy()\n",
    "    label_ids = b_labels.to('cpu').numpy()\n",
    "\n",
    "    # Store predictions and true labels\n",
    "    predictions.append(logits)\n",
    "    true_labels.append(label_ids)\n",
    "    \n"
   ]
  },
  {
   "cell_type": "markdown",
   "metadata": {
    "papermill": {
     "duration": 0.100971,
     "end_time": "2021-05-17T15:40:40.277642",
     "exception": false,
     "start_time": "2021-05-17T15:40:40.176671",
     "status": "completed"
    },
    "tags": []
   },
   "source": [
    "Extract Embeddings"
   ]
  },
  {
   "cell_type": "code",
   "execution_count": 76,
   "metadata": {
    "execution": {
     "iopub.execute_input": "2021-05-17T15:40:40.490061Z",
     "iopub.status.busy": "2021-05-17T15:40:40.489250Z",
     "iopub.status.idle": "2021-05-17T15:40:41.064034Z",
     "shell.execute_reply": "2021-05-17T15:40:41.064439Z"
    },
    "papermill": {
     "duration": 0.686158,
     "end_time": "2021-05-17T15:40:41.064584",
     "exception": false,
     "start_time": "2021-05-17T15:40:40.378426",
     "status": "completed"
    },
    "tags": []
   },
   "outputs": [
    {
     "name": "stdout",
     "output_type": "stream",
     "text": [
      "DONE.\n"
     ]
    },
    {
     "data": {
      "text/html": [
       "<div>\n",
       "<style scoped>\n",
       "    .dataframe tbody tr th:only-of-type {\n",
       "        vertical-align: middle;\n",
       "    }\n",
       "\n",
       "    .dataframe tbody tr th {\n",
       "        vertical-align: top;\n",
       "    }\n",
       "\n",
       "    .dataframe thead th {\n",
       "        text-align: right;\n",
       "    }\n",
       "</style>\n",
       "<table border=\"1\" class=\"dataframe\">\n",
       "  <thead>\n",
       "    <tr style=\"text-align: right;\">\n",
       "      <th></th>\n",
       "      <th>user.id</th>\n",
       "      <th>suspended</th>\n",
       "      <th>0</th>\n",
       "      <th>1</th>\n",
       "      <th>2</th>\n",
       "      <th>3</th>\n",
       "      <th>4</th>\n",
       "      <th>5</th>\n",
       "      <th>6</th>\n",
       "      <th>7</th>\n",
       "      <th>...</th>\n",
       "      <th>758</th>\n",
       "      <th>759</th>\n",
       "      <th>760</th>\n",
       "      <th>761</th>\n",
       "      <th>762</th>\n",
       "      <th>763</th>\n",
       "      <th>764</th>\n",
       "      <th>765</th>\n",
       "      <th>766</th>\n",
       "      <th>767</th>\n",
       "    </tr>\n",
       "  </thead>\n",
       "  <tbody>\n",
       "    <tr>\n",
       "      <th>0</th>\n",
       "      <td>1.278122e+18</td>\n",
       "      <td>0</td>\n",
       "      <td>-0.472034</td>\n",
       "      <td>0.074393</td>\n",
       "      <td>1.382645</td>\n",
       "      <td>1.180366</td>\n",
       "      <td>-0.553373</td>\n",
       "      <td>-0.233184</td>\n",
       "      <td>-0.527070</td>\n",
       "      <td>0.249706</td>\n",
       "      <td>...</td>\n",
       "      <td>-0.415763</td>\n",
       "      <td>-0.819364</td>\n",
       "      <td>-0.591199</td>\n",
       "      <td>-0.623456</td>\n",
       "      <td>1.768385</td>\n",
       "      <td>1.102438</td>\n",
       "      <td>1.369075</td>\n",
       "      <td>0.803386</td>\n",
       "      <td>1.143101</td>\n",
       "      <td>-0.320037</td>\n",
       "    </tr>\n",
       "    <tr>\n",
       "      <th>1</th>\n",
       "      <td>1.278129e+18</td>\n",
       "      <td>0</td>\n",
       "      <td>-0.768463</td>\n",
       "      <td>0.168802</td>\n",
       "      <td>1.757420</td>\n",
       "      <td>0.888291</td>\n",
       "      <td>-0.644822</td>\n",
       "      <td>-0.429313</td>\n",
       "      <td>-0.367341</td>\n",
       "      <td>0.786288</td>\n",
       "      <td>...</td>\n",
       "      <td>-0.569439</td>\n",
       "      <td>-0.840288</td>\n",
       "      <td>-0.495317</td>\n",
       "      <td>-0.695363</td>\n",
       "      <td>1.730142</td>\n",
       "      <td>0.907863</td>\n",
       "      <td>1.412548</td>\n",
       "      <td>0.757308</td>\n",
       "      <td>1.143907</td>\n",
       "      <td>0.472757</td>\n",
       "    </tr>\n",
       "    <tr>\n",
       "      <th>2</th>\n",
       "      <td>1.278131e+18</td>\n",
       "      <td>0</td>\n",
       "      <td>-0.019148</td>\n",
       "      <td>0.322068</td>\n",
       "      <td>1.523471</td>\n",
       "      <td>1.107936</td>\n",
       "      <td>-0.335602</td>\n",
       "      <td>-0.626480</td>\n",
       "      <td>-0.618771</td>\n",
       "      <td>0.032659</td>\n",
       "      <td>...</td>\n",
       "      <td>-0.425463</td>\n",
       "      <td>-0.831441</td>\n",
       "      <td>-0.326634</td>\n",
       "      <td>-0.585152</td>\n",
       "      <td>2.193095</td>\n",
       "      <td>1.368104</td>\n",
       "      <td>0.973896</td>\n",
       "      <td>0.930172</td>\n",
       "      <td>1.252220</td>\n",
       "      <td>-0.143131</td>\n",
       "    </tr>\n",
       "    <tr>\n",
       "      <th>3</th>\n",
       "      <td>1.278145e+18</td>\n",
       "      <td>1</td>\n",
       "      <td>0.116221</td>\n",
       "      <td>-0.364475</td>\n",
       "      <td>1.382732</td>\n",
       "      <td>0.993787</td>\n",
       "      <td>-0.572638</td>\n",
       "      <td>-0.704210</td>\n",
       "      <td>-0.683850</td>\n",
       "      <td>-0.598788</td>\n",
       "      <td>...</td>\n",
       "      <td>-0.228038</td>\n",
       "      <td>-1.286608</td>\n",
       "      <td>-0.316101</td>\n",
       "      <td>-0.397667</td>\n",
       "      <td>2.021591</td>\n",
       "      <td>1.326747</td>\n",
       "      <td>0.619039</td>\n",
       "      <td>0.942215</td>\n",
       "      <td>1.343108</td>\n",
       "      <td>-0.525768</td>\n",
       "    </tr>\n",
       "    <tr>\n",
       "      <th>4</th>\n",
       "      <td>1.278155e+18</td>\n",
       "      <td>0</td>\n",
       "      <td>-0.291707</td>\n",
       "      <td>0.220122</td>\n",
       "      <td>1.551027</td>\n",
       "      <td>1.091605</td>\n",
       "      <td>-0.617868</td>\n",
       "      <td>-0.141259</td>\n",
       "      <td>-1.184850</td>\n",
       "      <td>0.642507</td>\n",
       "      <td>...</td>\n",
       "      <td>-0.782319</td>\n",
       "      <td>-0.870272</td>\n",
       "      <td>-0.749396</td>\n",
       "      <td>-0.931020</td>\n",
       "      <td>1.966203</td>\n",
       "      <td>1.220449</td>\n",
       "      <td>1.003504</td>\n",
       "      <td>0.788654</td>\n",
       "      <td>1.255892</td>\n",
       "      <td>-0.098679</td>\n",
       "    </tr>\n",
       "  </tbody>\n",
       "</table>\n",
       "<p>5 rows × 770 columns</p>\n",
       "</div>"
      ],
      "text/plain": [
       "        user.id  suspended         0         1         2         3         4  \\\n",
       "0  1.278122e+18          0 -0.472034  0.074393  1.382645  1.180366 -0.553373   \n",
       "1  1.278129e+18          0 -0.768463  0.168802  1.757420  0.888291 -0.644822   \n",
       "2  1.278131e+18          0 -0.019148  0.322068  1.523471  1.107936 -0.335602   \n",
       "3  1.278145e+18          1  0.116221 -0.364475  1.382732  0.993787 -0.572638   \n",
       "4  1.278155e+18          0 -0.291707  0.220122  1.551027  1.091605 -0.617868   \n",
       "\n",
       "          5         6         7  ...       758       759       760       761  \\\n",
       "0 -0.233184 -0.527070  0.249706  ... -0.415763 -0.819364 -0.591199 -0.623456   \n",
       "1 -0.429313 -0.367341  0.786288  ... -0.569439 -0.840288 -0.495317 -0.695363   \n",
       "2 -0.626480 -0.618771  0.032659  ... -0.425463 -0.831441 -0.326634 -0.585152   \n",
       "3 -0.704210 -0.683850 -0.598788  ... -0.228038 -1.286608 -0.316101 -0.397667   \n",
       "4 -0.141259 -1.184850  0.642507  ... -0.782319 -0.870272 -0.749396 -0.931020   \n",
       "\n",
       "        762       763       764       765       766       767  \n",
       "0  1.768385  1.102438  1.369075  0.803386  1.143101 -0.320037  \n",
       "1  1.730142  0.907863  1.412548  0.757308  1.143907  0.472757  \n",
       "2  2.193095  1.368104  0.973896  0.930172  1.252220 -0.143131  \n",
       "3  2.021591  1.326747  0.619039  0.942215  1.343108 -0.525768  \n",
       "4  1.966203  1.220449  1.003504  0.788654  1.255892 -0.098679  \n",
       "\n",
       "[5 rows x 770 columns]"
      ]
     },
     "execution_count": 76,
     "metadata": {},
     "output_type": "execute_result"
    }
   ],
   "source": [
    "# Get embeddings for test\n",
    "p = [group for group in embeddings_te]\n",
    "\n",
    "b = [item for sublist in [[list(t) for t in zip(sublist[0], sublist[1])] for sublist in p] for item in sublist]\n",
    "df = pd.DataFrame(b, columns = ['id', 'embeddings'])  \n",
    "\n",
    "bert_embeddings_df_test = pd.concat([df['id'], df['embeddings'].apply(pd.Series)], axis = 1)\n",
    "bert_embeddings_df_test['id'] = bert_embeddings_df_test['id'].apply(lambda x: x.item())\n",
    "#bert_embeddings_df_test = pd.merge(df_test.drop(['text'], axis=1), bert_embeddings_df_test, left_on = [\"id\"], right_on = [\"id\"])\n",
    "bert_embeddings_df_test = pd.merge(df_test.drop(['text'], axis=1), bert_embeddings_df_test.drop(['id'], axis=1), left_index=True, right_index=True)\n",
    "print('DONE.')\n",
    "bert_embeddings_df_test.head()"
   ]
  },
  {
   "cell_type": "code",
   "execution_count": 77,
   "metadata": {
    "execution": {
     "iopub.execute_input": "2021-05-17T15:40:41.283098Z",
     "iopub.status.busy": "2021-05-17T15:40:41.282364Z",
     "iopub.status.idle": "2021-05-17T15:40:41.285557Z",
     "shell.execute_reply": "2021-05-17T15:40:41.285933Z"
    },
    "papermill": {
     "duration": 0.118024,
     "end_time": "2021-05-17T15:40:41.286057",
     "exception": false,
     "start_time": "2021-05-17T15:40:41.168033",
     "status": "completed"
    },
    "tags": []
   },
   "outputs": [],
   "source": [
    "bert_embeddings_df_test['user.id'] = bert_embeddings_df_test['user.id'].astype('str')\n",
    "bert_embeddings_df_test['user.id'] = bert_embeddings_df_test['user.id'].apply(lambda x: \"'\" + x + \"'\")"
   ]
  },
  {
   "cell_type": "code",
   "execution_count": 78,
   "metadata": {
    "execution": {
     "iopub.execute_input": "2021-05-17T15:40:41.513299Z",
     "iopub.status.busy": "2021-05-17T15:40:41.512304Z",
     "iopub.status.idle": "2021-05-17T15:40:41.516774Z",
     "shell.execute_reply": "2021-05-17T15:40:41.517493Z"
    },
    "papermill": {
     "duration": 0.127566,
     "end_time": "2021-05-17T15:40:41.517641",
     "exception": false,
     "start_time": "2021-05-17T15:40:41.390075",
     "status": "completed"
    },
    "tags": []
   },
   "outputs": [
    {
     "name": "stdout",
     "output_type": "stream",
     "text": [
      "full train: 2779 unique ids train: 513\n"
     ]
    }
   ],
   "source": [
    "print(\"full train:\", len(bert_embeddings_df_test), \"unique ids train:\", len(bert_embeddings_df_test['user.id'].unique()))"
   ]
  },
  {
   "cell_type": "markdown",
   "metadata": {
    "papermill": {
     "duration": 0.131688,
     "end_time": "2021-05-17T15:40:41.756774",
     "exception": false,
     "start_time": "2021-05-17T15:40:41.625086",
     "status": "completed"
    },
    "tags": []
   },
   "source": [
    "Save"
   ]
  },
  {
   "cell_type": "code",
   "execution_count": 79,
   "metadata": {
    "execution": {
     "iopub.execute_input": "2021-05-17T15:40:41.970350Z",
     "iopub.status.busy": "2021-05-17T15:40:41.969298Z",
     "iopub.status.idle": "2021-05-17T15:40:45.461673Z",
     "shell.execute_reply": "2021-05-17T15:40:45.460119Z"
    },
    "papermill": {
     "duration": 3.60048,
     "end_time": "2021-05-17T15:40:45.461786",
     "exception": false,
     "start_time": "2021-05-17T15:40:41.861306",
     "status": "completed"
    },
    "tags": []
   },
   "outputs": [],
   "source": [
    "bert_embeddings_df_test.to_csv('ml_test_embeddings_df_full.csv', index=False, encoding = \"utf_8_sig\")"
   ]
  },
  {
   "cell_type": "markdown",
   "metadata": {
    "papermill": {
     "duration": 0.103926,
     "end_time": "2021-05-17T15:40:45.672829",
     "exception": false,
     "start_time": "2021-05-17T15:40:45.568903",
     "status": "completed"
    },
    "tags": []
   },
   "source": [
    "Look at imbalance. "
   ]
  },
  {
   "cell_type": "code",
   "execution_count": 80,
   "metadata": {
    "execution": {
     "iopub.execute_input": "2021-05-17T15:40:45.889257Z",
     "iopub.status.busy": "2021-05-17T15:40:45.888569Z",
     "iopub.status.idle": "2021-05-17T15:40:45.891945Z",
     "shell.execute_reply": "2021-05-17T15:40:45.892556Z"
    },
    "papermill": {
     "duration": 0.115367,
     "end_time": "2021-05-17T15:40:45.892707",
     "exception": false,
     "start_time": "2021-05-17T15:40:45.777340",
     "status": "completed"
    },
    "tags": []
   },
   "outputs": [
    {
     "name": "stdout",
     "output_type": "stream",
     "text": [
      "Positive samples: 639 of 9492 (6.73%)\n"
     ]
    }
   ],
   "source": [
    "print('Positive samples: %d of %d (%.2f%%)' % (df_train.suspended.sum(), len(df_train.suspended), (df_train.suspended.sum() / len(df_train.suspended) * 100.0)))"
   ]
  },
  {
   "cell_type": "code",
   "execution_count": 81,
   "metadata": {
    "execution": {
     "iopub.execute_input": "2021-05-17T15:40:46.119842Z",
     "iopub.status.busy": "2021-05-17T15:40:46.118852Z",
     "iopub.status.idle": "2021-05-17T15:40:46.363500Z",
     "shell.execute_reply": "2021-05-17T15:40:46.363058Z"
    },
    "papermill": {
     "duration": 0.363832,
     "end_time": "2021-05-17T15:40:46.363596",
     "exception": false,
     "start_time": "2021-05-17T15:40:45.999764",
     "status": "completed"
    },
    "tags": []
   },
   "outputs": [
    {
     "name": "stdout",
     "output_type": "stream",
     "text": [
      "Calculating Matthews Corr. Coef. for each batch...\n"
     ]
    },
    {
     "name": "stderr",
     "output_type": "stream",
     "text": [
      "/opt/conda/lib/python3.7/site-packages/sklearn/metrics/_classification.py:846: RuntimeWarning:\n",
      "\n",
      "invalid value encountered in double_scalars\n",
      "\n"
     ]
    }
   ],
   "source": [
    "from sklearn.metrics import matthews_corrcoef\n",
    "matthews_set = []\n",
    "# Evaluate each test batch using Matthew's correlation coefficient\n",
    "print('Calculating Matthews Corr. Coef. for each batch...')\n",
    "# For each input batch...\n",
    "for i in range(len(true_labels)):\n",
    "  \n",
    "    # The predictions for this batch are a 2-column ndarray (one column for \"0\" \n",
    "    # and one column for \"1\"). Pick the label with the highest value and turn this\n",
    "    # in to a list of 0s and 1s.\n",
    "    pred_labels_i = np.argmax(predictions[i], axis=1).flatten()\n",
    "\n",
    "    # Calculate and store the coef for this batch.  \n",
    "    matthews = matthews_corrcoef(true_labels[i], pred_labels_i)                \n",
    "    matthews_set.append(matthews)"
   ]
  },
  {
   "cell_type": "code",
   "execution_count": 82,
   "metadata": {
    "execution": {
     "iopub.execute_input": "2021-05-17T15:40:46.588408Z",
     "iopub.status.busy": "2021-05-17T15:40:46.587635Z",
     "iopub.status.idle": "2021-05-17T15:40:46.601749Z",
     "shell.execute_reply": "2021-05-17T15:40:46.601318Z"
    },
    "papermill": {
     "duration": 0.12595,
     "end_time": "2021-05-17T15:40:46.601841",
     "exception": false,
     "start_time": "2021-05-17T15:40:46.475891",
     "status": "completed"
    },
    "tags": []
   },
   "outputs": [
    {
     "name": "stdout",
     "output_type": "stream",
     "text": [
      "MCC: 0.002\n"
     ]
    }
   ],
   "source": [
    "# Combine the predictions for each batch into a single list of 0s and 1s.\n",
    "flat_predictions = [item for sublist in predictions for item in sublist]\n",
    "flat_predictions = np.argmax(flat_predictions, axis=1).flatten()\n",
    "# Combine the correct labels for each batch into a single list.\n",
    "flat_true_labels = [item for sublist in true_labels for item in sublist]\n",
    "# Calculate the MCC\n",
    "mcc = matthews_corrcoef(flat_true_labels, flat_predictions)\n",
    "print('MCC: %.3f' % mcc)"
   ]
  },
  {
   "cell_type": "code",
   "execution_count": 83,
   "metadata": {
    "execution": {
     "iopub.execute_input": "2021-05-17T15:40:46.831347Z",
     "iopub.status.busy": "2021-05-17T15:40:46.830379Z",
     "iopub.status.idle": "2021-05-17T15:40:46.841592Z",
     "shell.execute_reply": "2021-05-17T15:40:46.842286Z"
    },
    "papermill": {
     "duration": 0.128508,
     "end_time": "2021-05-17T15:40:46.842430",
     "exception": false,
     "start_time": "2021-05-17T15:40:46.713922",
     "status": "completed"
    },
    "tags": []
   },
   "outputs": [
    {
     "name": "stdout",
     "output_type": "stream",
     "text": [
      "              precision    recall  f1-score   support\n",
      "\n",
      "           0       0.96      0.98      0.97      2655\n",
      "           1       0.05      0.02      0.02       124\n",
      "\n",
      "    accuracy                           0.94      2779\n",
      "   macro avg       0.50      0.50      0.50      2779\n",
      "weighted avg       0.91      0.94      0.93      2779\n",
      "\n"
     ]
    }
   ],
   "source": [
    "report = classification_report(flat_true_labels, flat_predictions)\n",
    "print(report)"
   ]
  },
  {
   "cell_type": "code",
   "execution_count": 84,
   "metadata": {
    "execution": {
     "iopub.execute_input": "2021-05-17T15:40:47.067694Z",
     "iopub.status.busy": "2021-05-17T15:40:47.066548Z",
     "iopub.status.idle": "2021-05-17T15:40:47.207019Z",
     "shell.execute_reply": "2021-05-17T15:40:47.207520Z"
    },
    "papermill": {
     "duration": 0.254496,
     "end_time": "2021-05-17T15:40:47.207660",
     "exception": false,
     "start_time": "2021-05-17T15:40:46.953164",
     "status": "completed"
    },
    "tags": []
   },
   "outputs": [
    {
     "data": {
      "image/png": "[encoded data removed]",
      "text/plain": [
       "<Figure size 576x432 with 1 Axes>"
      ]
     },
     "metadata": {
      "needs_background": "light"
     },
     "output_type": "display_data"
    }
   ],
   "source": [
    "fpr, tpr, thresholds = roc_curve(flat_true_labels, flat_predictions)\n",
    "plt.figure(figsize=(8, 6))                         # Not shown\n",
    "plot_roc_curve(fpr, tpr)\n",
    "plt.plot([4.837e-3, 4.837e-3], [0., 0.4368], \"r:\") # Not shown\n",
    "plt.plot([0.0, 4.837e-3], [0.4368, 0.4368], \"r:\")  # Not shown\n",
    "plt.plot([4.837e-3], [0.4368], \"ro\")               # Not shown\n",
    "plt.show()"
   ]
  },
  {
   "cell_type": "code",
   "execution_count": 85,
   "metadata": {
    "execution": {
     "iopub.execute_input": "2021-05-17T15:40:47.430645Z",
     "iopub.status.busy": "2021-05-17T15:40:47.429816Z",
     "iopub.status.idle": "2021-05-17T15:40:47.435722Z",
     "shell.execute_reply": "2021-05-17T15:40:47.436104Z"
    },
    "papermill": {
     "duration": 0.118906,
     "end_time": "2021-05-17T15:40:47.436219",
     "exception": false,
     "start_time": "2021-05-17T15:40:47.317313",
     "status": "completed"
    },
    "tags": []
   },
   "outputs": [
    {
     "data": {
      "text/plain": [
       "0.5005315594435332"
      ]
     },
     "execution_count": 85,
     "metadata": {},
     "output_type": "execute_result"
    }
   ],
   "source": [
    "roc_auc_score(flat_true_labels, flat_predictions)"
   ]
  },
  {
   "cell_type": "markdown",
   "metadata": {
    "papermill": {
     "duration": 0.171553,
     "end_time": "2021-05-17T15:40:47.780523",
     "exception": false,
     "start_time": "2021-05-17T15:40:47.608970",
     "status": "completed"
    },
    "tags": []
   },
   "source": [
    "### Output Predictions by Account"
   ]
  },
  {
   "cell_type": "code",
   "execution_count": 86,
   "metadata": {
    "execution": {
     "iopub.execute_input": "2021-05-17T15:40:48.146924Z",
     "iopub.status.busy": "2021-05-17T15:40:48.145992Z",
     "iopub.status.idle": "2021-05-17T15:40:48.150166Z",
     "shell.execute_reply": "2021-05-17T15:40:48.151506Z"
    },
    "papermill": {
     "duration": 0.200401,
     "end_time": "2021-05-17T15:40:48.151667",
     "exception": false,
     "start_time": "2021-05-17T15:40:47.951266",
     "status": "completed"
    },
    "tags": []
   },
   "outputs": [],
   "source": [
    "# Generate class predictions at the account level \n",
    "def predict_tweet_text(predictions, df_overlap, df_full):\n",
    "    df = pd.DataFrame(predictions, columns = ['pred'])\n",
    "    df_2 = pd.merge(df_overlap, df, left_index=True, right_index=True)\n",
    "    df_fm = df_full[['user.screen_name','user.id']].drop_duplicates(subset=['user.screen_name','user.id'])\n",
    "    df_3 = pd.merge(df_fm, df_2, left_on='user.id', right_on='user.id')\n",
    "    df_3 = df_3.sort_values(by=['pred'], ascending=False)\n",
    "    return df_3"
   ]
  },
  {
   "cell_type": "code",
   "execution_count": 87,
   "metadata": {
    "execution": {
     "iopub.execute_input": "2021-05-17T15:40:48.536462Z",
     "iopub.status.busy": "2021-05-17T15:40:48.535622Z",
     "iopub.status.idle": "2021-05-17T15:40:48.572048Z",
     "shell.execute_reply": "2021-05-17T15:40:48.573040Z"
    },
    "papermill": {
     "duration": 0.230768,
     "end_time": "2021-05-17T15:40:48.573199",
     "exception": false,
     "start_time": "2021-05-17T15:40:48.342431",
     "status": "completed"
    },
    "tags": []
   },
   "outputs": [
    {
     "data": {
      "text/html": [
       "<div>\n",
       "<style scoped>\n",
       "    .dataframe tbody tr th:only-of-type {\n",
       "        vertical-align: middle;\n",
       "    }\n",
       "\n",
       "    .dataframe tbody tr th {\n",
       "        vertical-align: top;\n",
       "    }\n",
       "\n",
       "    .dataframe thead th {\n",
       "        text-align: right;\n",
       "    }\n",
       "</style>\n",
       "<table border=\"1\" class=\"dataframe\">\n",
       "  <thead>\n",
       "    <tr style=\"text-align: right;\">\n",
       "      <th></th>\n",
       "      <th>user.screen_name</th>\n",
       "      <th>user.id</th>\n",
       "      <th>text</th>\n",
       "      <th>suspended</th>\n",
       "      <th>pred</th>\n",
       "    </tr>\n",
       "  </thead>\n",
       "  <tbody>\n",
       "    <tr>\n",
       "      <th>2418</th>\n",
       "      <td>fullaheadspeed</td>\n",
       "      <td>1.285116e+18</td>\n",
       "      <td>there any other way for India to deal with Chi...</td>\n",
       "      <td>0</td>\n",
       "      <td>1</td>\n",
       "    </tr>\n",
       "    <tr>\n",
       "      <th>2341</th>\n",
       "      <td>fullaheadspeed</td>\n",
       "      <td>1.285116e+18</td>\n",
       "      <td>other countries… https://t.co/R1ILOejZse @Ashi...</td>\n",
       "      <td>0</td>\n",
       "      <td>1</td>\n",
       "    </tr>\n",
       "    <tr>\n",
       "      <th>1074</th>\n",
       "      <td>MustafaKhan1313</td>\n",
       "      <td>1.280436e+18</td>\n",
       "      <td>@AsadAToor Asad aur tujh Jesa ghaleez Pakistan...</td>\n",
       "      <td>0</td>\n",
       "      <td>1</td>\n",
       "    </tr>\n",
       "    <tr>\n",
       "      <th>1439</th>\n",
       "      <td>theindiancentr1</td>\n",
       "      <td>1.281119e+18</td>\n",
       "      <td>why the @RSSorg is not starting vedic schools ...</td>\n",
       "      <td>0</td>\n",
       "      <td>1</td>\n",
       "    </tr>\n",
       "    <tr>\n",
       "      <th>758</th>\n",
       "      <td>FaseehU22654248</td>\n",
       "      <td>1.280121e+18</td>\n",
       "      <td>@X_sanamre1 Toba Allah maaf karay @pandaymewar...</td>\n",
       "      <td>0</td>\n",
       "      <td>1</td>\n",
       "    </tr>\n",
       "  </tbody>\n",
       "</table>\n",
       "</div>"
      ],
      "text/plain": [
       "     user.screen_name       user.id  \\\n",
       "2418   fullaheadspeed  1.285116e+18   \n",
       "2341   fullaheadspeed  1.285116e+18   \n",
       "1074  MustafaKhan1313  1.280436e+18   \n",
       "1439  theindiancentr1  1.281119e+18   \n",
       "758   FaseehU22654248  1.280121e+18   \n",
       "\n",
       "                                                   text  suspended  pred  \n",
       "2418  there any other way for India to deal with Chi...          0     1  \n",
       "2341  other countries… https://t.co/R1ILOejZse @Ashi...          0     1  \n",
       "1074  @AsadAToor Asad aur tujh Jesa ghaleez Pakistan...          0     1  \n",
       "1439  why the @RSSorg is not starting vedic schools ...          0     1  \n",
       "758   @X_sanamre1 Toba Allah maaf karay @pandaymewar...          0     1  "
      ]
     },
     "execution_count": 87,
     "metadata": {},
     "output_type": "execute_result"
    }
   ],
   "source": [
    "test_preds_tweets = predict_tweet_text(flat_predictions, df_test, df_test_f)\n",
    "test_preds_tweets.head()"
   ]
  },
  {
   "cell_type": "code",
   "execution_count": 88,
   "metadata": {
    "execution": {
     "iopub.execute_input": "2021-05-17T15:40:48.812595Z",
     "iopub.status.busy": "2021-05-17T15:40:48.808185Z",
     "iopub.status.idle": "2021-05-17T15:40:48.996032Z",
     "shell.execute_reply": "2021-05-17T15:40:48.995533Z"
    },
    "papermill": {
     "duration": 0.301766,
     "end_time": "2021-05-17T15:40:48.996129",
     "exception": false,
     "start_time": "2021-05-17T15:40:48.694363",
     "status": "completed"
    },
    "tags": []
   },
   "outputs": [],
   "source": [
    "test_preds_tweets.to_csv('test_preds_tweets.csv', index=False, encoding = \"utf_8_sig\")"
   ]
  },
  {
   "cell_type": "code",
   "execution_count": 89,
   "metadata": {
    "execution": {
     "iopub.execute_input": "2021-05-17T15:40:49.223086Z",
     "iopub.status.busy": "2021-05-17T15:40:49.222432Z",
     "iopub.status.idle": "2021-05-17T15:40:49.225931Z",
     "shell.execute_reply": "2021-05-17T15:40:49.225489Z"
    },
    "papermill": {
     "duration": 0.120975,
     "end_time": "2021-05-17T15:40:49.226020",
     "exception": false,
     "start_time": "2021-05-17T15:40:49.105045",
     "status": "completed"
    },
    "tags": []
   },
   "outputs": [],
   "source": [
    "# Generate class predictions at the account level \n",
    "def predict_account(pred_tt):\n",
    "    df_4 = pred_tt[['user.screen_name', 'suspended','pred']].groupby('user.screen_name').agg(['sum', 'mean'])\n",
    "    df_4.drop(('suspended', 'sum'), axis = 1, inplace = True)\n",
    "    df_4.columns = [' '.join(col).strip() for col in df_4.columns.values]\n",
    "    df_4.reset_index(level=0, inplace=True)\n",
    "    df_4.columns = [\"user.screen_name\",\"suspended_label\", \"total_pre_prob\",\"mean_pred_prob\"]\n",
    "    df_4['pred_class'] = np.where(df_4['mean_pred_prob'] > 0.25, 1,0) # Use lighter threshold as not all tweets get an account suspended. \n",
    "    df_4 = df_4.sort_values(by=['total_pre_prob'], ascending=False)\n",
    "\n",
    "    return df_4"
   ]
  },
  {
   "cell_type": "code",
   "execution_count": 90,
   "metadata": {
    "execution": {
     "iopub.execute_input": "2021-05-17T15:40:49.455243Z",
     "iopub.status.busy": "2021-05-17T15:40:49.454438Z",
     "iopub.status.idle": "2021-05-17T15:40:49.495150Z",
     "shell.execute_reply": "2021-05-17T15:40:49.495591Z"
    },
    "papermill": {
     "duration": 0.158904,
     "end_time": "2021-05-17T15:40:49.495706",
     "exception": false,
     "start_time": "2021-05-17T15:40:49.336802",
     "status": "completed"
    },
    "tags": []
   },
   "outputs": [
    {
     "data": {
      "text/html": [
       "<div>\n",
       "<style scoped>\n",
       "    .dataframe tbody tr th:only-of-type {\n",
       "        vertical-align: middle;\n",
       "    }\n",
       "\n",
       "    .dataframe tbody tr th {\n",
       "        vertical-align: top;\n",
       "    }\n",
       "\n",
       "    .dataframe thead th {\n",
       "        text-align: right;\n",
       "    }\n",
       "</style>\n",
       "<table border=\"1\" class=\"dataframe\">\n",
       "  <thead>\n",
       "    <tr style=\"text-align: right;\">\n",
       "      <th></th>\n",
       "      <th>user.screen_name</th>\n",
       "      <th>suspended_label</th>\n",
       "      <th>total_pre_prob</th>\n",
       "      <th>mean_pred_prob</th>\n",
       "      <th>pred_class</th>\n",
       "    </tr>\n",
       "  </thead>\n",
       "  <tbody>\n",
       "    <tr>\n",
       "      <th>367</th>\n",
       "      <td>fullaheadspeed</td>\n",
       "      <td>0</td>\n",
       "      <td>24</td>\n",
       "      <td>0.134831</td>\n",
       "      <td>0</td>\n",
       "    </tr>\n",
       "    <tr>\n",
       "      <th>204</th>\n",
       "      <td>MustafaKhan1313</td>\n",
       "      <td>0</td>\n",
       "      <td>4</td>\n",
       "      <td>0.023256</td>\n",
       "      <td>0</td>\n",
       "    </tr>\n",
       "    <tr>\n",
       "      <th>124</th>\n",
       "      <td>Interservicein2</td>\n",
       "      <td>0</td>\n",
       "      <td>3</td>\n",
       "      <td>0.024793</td>\n",
       "      <td>0</td>\n",
       "    </tr>\n",
       "    <tr>\n",
       "      <th>100</th>\n",
       "      <td>GPJb9VHo6PbSu2W</td>\n",
       "      <td>0</td>\n",
       "      <td>2</td>\n",
       "      <td>0.030303</td>\n",
       "      <td>0</td>\n",
       "    </tr>\n",
       "    <tr>\n",
       "      <th>365</th>\n",
       "      <td>fjq8888</td>\n",
       "      <td>1</td>\n",
       "      <td>2</td>\n",
       "      <td>0.166667</td>\n",
       "      <td>0</td>\n",
       "    </tr>\n",
       "    <tr>\n",
       "      <th>...</th>\n",
       "      <td>...</td>\n",
       "      <td>...</td>\n",
       "      <td>...</td>\n",
       "      <td>...</td>\n",
       "      <td>...</td>\n",
       "    </tr>\n",
       "    <tr>\n",
       "      <th>168</th>\n",
       "      <td>Lxm11401609</td>\n",
       "      <td>0</td>\n",
       "      <td>0</td>\n",
       "      <td>0.000000</td>\n",
       "      <td>0</td>\n",
       "    </tr>\n",
       "    <tr>\n",
       "      <th>167</th>\n",
       "      <td>Luk36442488</td>\n",
       "      <td>0</td>\n",
       "      <td>0</td>\n",
       "      <td>0.000000</td>\n",
       "      <td>0</td>\n",
       "    </tr>\n",
       "    <tr>\n",
       "      <th>166</th>\n",
       "      <td>Lobord_sc</td>\n",
       "      <td>0</td>\n",
       "      <td>0</td>\n",
       "      <td>0.000000</td>\n",
       "      <td>0</td>\n",
       "    </tr>\n",
       "    <tr>\n",
       "      <th>165</th>\n",
       "      <td>LloKjsKdOz9uSiy</td>\n",
       "      <td>0</td>\n",
       "      <td>0</td>\n",
       "      <td>0.000000</td>\n",
       "      <td>0</td>\n",
       "    </tr>\n",
       "    <tr>\n",
       "      <th>512</th>\n",
       "      <td>zzzzzzh15</td>\n",
       "      <td>0</td>\n",
       "      <td>0</td>\n",
       "      <td>0.000000</td>\n",
       "      <td>0</td>\n",
       "    </tr>\n",
       "  </tbody>\n",
       "</table>\n",
       "<p>513 rows × 5 columns</p>\n",
       "</div>"
      ],
      "text/plain": [
       "    user.screen_name  suspended_label  total_pre_prob  mean_pred_prob  \\\n",
       "367   fullaheadspeed                0              24        0.134831   \n",
       "204  MustafaKhan1313                0               4        0.023256   \n",
       "124  Interservicein2                0               3        0.024793   \n",
       "100  GPJb9VHo6PbSu2W                0               2        0.030303   \n",
       "365          fjq8888                1               2        0.166667   \n",
       "..               ...              ...             ...             ...   \n",
       "168      Lxm11401609                0               0        0.000000   \n",
       "167      Luk36442488                0               0        0.000000   \n",
       "166        Lobord_sc                0               0        0.000000   \n",
       "165  LloKjsKdOz9uSiy                0               0        0.000000   \n",
       "512        zzzzzzh15                0               0        0.000000   \n",
       "\n",
       "     pred_class  \n",
       "367           0  \n",
       "204           0  \n",
       "124           0  \n",
       "100           0  \n",
       "365           0  \n",
       "..          ...  \n",
       "168           0  \n",
       "167           0  \n",
       "166           0  \n",
       "165           0  \n",
       "512           0  \n",
       "\n",
       "[513 rows x 5 columns]"
      ]
     },
     "execution_count": 90,
     "metadata": {},
     "output_type": "execute_result"
    }
   ],
   "source": [
    "test_account_preds_tweettext = predict_account(test_preds_tweets)\n",
    "test_account_preds_tweettext"
   ]
  },
  {
   "cell_type": "markdown",
   "metadata": {
    "papermill": {
     "duration": 0.109318,
     "end_time": "2021-05-17T15:40:49.714268",
     "exception": false,
     "start_time": "2021-05-17T15:40:49.604950",
     "status": "completed"
    },
    "tags": []
   },
   "source": [
    "### Confusion Matrix for Account Classification"
   ]
  },
  {
   "cell_type": "code",
   "execution_count": 91,
   "metadata": {
    "execution": {
     "iopub.execute_input": "2021-05-17T15:40:49.937585Z",
     "iopub.status.busy": "2021-05-17T15:40:49.936733Z",
     "iopub.status.idle": "2021-05-17T15:40:49.945658Z",
     "shell.execute_reply": "2021-05-17T15:40:49.945229Z"
    },
    "papermill": {
     "duration": 0.123175,
     "end_time": "2021-05-17T15:40:49.945750",
     "exception": false,
     "start_time": "2021-05-17T15:40:49.822575",
     "status": "completed"
    },
    "tags": []
   },
   "outputs": [
    {
     "name": "stdout",
     "output_type": "stream",
     "text": [
      "              precision    recall  f1-score   support\n",
      "\n",
      "           0       0.93      0.99      0.96       479\n",
      "           1       0.00      0.00      0.00        34\n",
      "\n",
      "    accuracy                           0.93       513\n",
      "   macro avg       0.47      0.50      0.48       513\n",
      "weighted avg       0.87      0.93      0.90       513\n",
      "\n"
     ]
    }
   ],
   "source": [
    "#report = classification_report(np.array(test_labels), predictions)\n",
    "report_te = classification_report(np.array(test_account_preds_tweettext['suspended_label']), np.array(test_account_preds_tweettext['pred_class']))\n",
    "print(report_te)"
   ]
  },
  {
   "cell_type": "code",
   "execution_count": 92,
   "metadata": {
    "execution": {
     "iopub.execute_input": "2021-05-17T15:40:50.177592Z",
     "iopub.status.busy": "2021-05-17T15:40:50.176778Z",
     "iopub.status.idle": "2021-05-17T15:40:50.319853Z",
     "shell.execute_reply": "2021-05-17T15:40:50.320348Z"
    },
    "papermill": {
     "duration": 0.261538,
     "end_time": "2021-05-17T15:40:50.320497",
     "exception": false,
     "start_time": "2021-05-17T15:40:50.058959",
     "status": "completed"
    },
    "tags": []
   },
   "outputs": [
    {
     "data": {
      "image/png": "[encoded data removed]",
      "text/plain": [
       "<Figure size 576x432 with 1 Axes>"
      ]
     },
     "metadata": {
      "needs_background": "light"
     },
     "output_type": "display_data"
    }
   ],
   "source": [
    "fpr, tpr, thresholds = roc_curve(np.array(test_account_preds_tweettext['suspended_label']), np.array(test_account_preds_tweettext['pred_class']))\n",
    "plt.figure(figsize=(8, 6))                         # Not shown\n",
    "plot_roc_curve(fpr, tpr)\n",
    "plt.plot([4.837e-3, 4.837e-3], [0., 0.4368], \"r:\") # Not shown\n",
    "plt.plot([0.0, 4.837e-3], [0.4368, 0.4368], \"r:\")  # Not shown\n",
    "plt.plot([4.837e-3], [0.4368], \"ro\")               # Not shown\n",
    "plt.show()"
   ]
  },
  {
   "cell_type": "code",
   "execution_count": 93,
   "metadata": {
    "execution": {
     "iopub.execute_input": "2021-05-17T15:40:50.665623Z",
     "iopub.status.busy": "2021-05-17T15:40:50.664797Z",
     "iopub.status.idle": "2021-05-17T15:40:50.671768Z",
     "shell.execute_reply": "2021-05-17T15:40:50.672752Z"
    },
    "papermill": {
     "duration": 0.205374,
     "end_time": "2021-05-17T15:40:50.672928",
     "exception": false,
     "start_time": "2021-05-17T15:40:50.467554",
     "status": "completed"
    },
    "tags": []
   },
   "outputs": [
    {
     "data": {
      "text/plain": [
       "0.49582463465553234"
      ]
     },
     "execution_count": 93,
     "metadata": {},
     "output_type": "execute_result"
    }
   ],
   "source": [
    "roc_auc_score(np.array(test_account_preds_tweettext['suspended_label']), np.array(test_account_preds_tweettext['pred_class']))"
   ]
  },
  {
   "cell_type": "code",
   "execution_count": 94,
   "metadata": {
    "execution": {
     "iopub.execute_input": "2021-05-17T15:40:51.030680Z",
     "iopub.status.busy": "2021-05-17T15:40:51.029699Z",
     "iopub.status.idle": "2021-05-17T15:40:51.036019Z",
     "shell.execute_reply": "2021-05-17T15:40:51.035518Z"
    },
    "papermill": {
     "duration": 0.172645,
     "end_time": "2021-05-17T15:40:51.036115",
     "exception": false,
     "start_time": "2021-05-17T15:40:50.863470",
     "status": "completed"
    },
    "tags": []
   },
   "outputs": [],
   "source": [
    "test_account_preds_tweettext.to_csv('test_account_preds_tweettext.csv', index=False, encoding = \"utf_8_sig\")"
   ]
  }
 ],
 "metadata": {
  "kernelspec": {
   "display_name": "Python 3",
   "language": "python",
   "name": "python3"
  },
  "language_info": {
   "codemirror_mode": {
    "name": "ipython",
    "version": 3
   },
   "file_extension": ".py",
   "mimetype": "text/x-python",
   "name": "python",
   "nbconvert_exporter": "python",
   "pygments_lexer": "ipython3",
   "version": "3.7.6"
  },
  "papermill": {
   "duration": 637.038797,
   "end_time": "2021-05-17T15:40:51.363006",
   "environment_variables": {},
   "exception": null,
   "input_path": "__notebook__.ipynb",
   "output_path": "__notebook__.ipynb",
   "parameters": {},
   "start_time": "2021-05-17T15:30:14.324209",
   "version": "2.1.0"
  },
  "widgets": {
   "application/vnd.jupyter.widget-state+json": {
    "state": {
     "03af21f3c81a4823a80a327975841c2f": {
      "model_module": "@jupyter-widgets/controls",
      "model_module_version": "1.5.0",
      "model_name": "HTMLModel",
      "state": {
       "_dom_classes": [],
       "_model_module": "@jupyter-widgets/controls",
       "_model_module_version": "1.5.0",
       "_model_name": "HTMLModel",
       "_view_count": null,
       "_view_module": "@jupyter-widgets/controls",
       "_view_module_version": "1.5.0",
       "_view_name": "HTMLView",
       "description": "",
       "description_tooltip": null,
       "layout": "IPY_MODEL_f6e407f205c64e41b24e08399cbc131f",
       "placeholder": "​",
       "style": "IPY_MODEL_50fd8e5f309c42839e7eec45ade9a7f3",
       "value": " 714M/714M [00:21&lt;00:00, 33.1MB/s]"
      }
     },
     "056a06e1addd49b3abb1a92610dcdda4": {
      "model_module": "@jupyter-widgets/base",
      "model_module_version": "1.2.0",
      "model_name": "LayoutModel",
      "state": {
       "_model_module": "@jupyter-widgets/base",
       "_model_module_version": "1.2.0",
       "_model_name": "LayoutModel",
       "_view_count": null,
       "_view_module": "@jupyter-widgets/base",
       "_view_module_version": "1.2.0",
       "_view_name": "LayoutView",
       "align_content": null,
       "align_items": null,
       "align_self": null,
       "border": null,
       "bottom": null,
       "display": null,
       "flex": null,
       "flex_flow": null,
       "grid_area": null,
       "grid_auto_columns": null,
       "grid_auto_flow": null,
       "grid_auto_rows": null,
       "grid_column": null,
       "grid_gap": null,
       "grid_row": null,
       "grid_template_areas": null,
       "grid_template_columns": null,
       "grid_template_rows": null,
       "height": null,
       "justify_content": null,
       "justify_items": null,
       "left": null,
       "margin": null,
       "max_height": null,
       "max_width": null,
       "min_height": null,
       "min_width": null,
       "object_fit": null,
       "object_position": null,
       "order": null,
       "overflow": null,
       "overflow_x": null,
       "overflow_y": null,
       "padding": null,
       "right": null,
       "top": null,
       "visibility": null,
       "width": null
      }
     },
     "0ca401a8ce5a4fcf9c79c57ef066eb26": {
      "model_module": "@jupyter-widgets/base",
      "model_module_version": "1.2.0",
      "model_name": "LayoutModel",
      "state": {
       "_model_module": "@jupyter-widgets/base",
       "_model_module_version": "1.2.0",
       "_model_name": "LayoutModel",
       "_view_count": null,
       "_view_module": "@jupyter-widgets/base",
       "_view_module_version": "1.2.0",
       "_view_name": "LayoutView",
       "align_content": null,
       "align_items": null,
       "align_self": null,
       "border": null,
       "bottom": null,
       "display": null,
       "flex": null,
       "flex_flow": null,
       "grid_area": null,
       "grid_auto_columns": null,
       "grid_auto_flow": null,
       "grid_auto_rows": null,
       "grid_column": null,
       "grid_gap": null,
       "grid_row": null,
       "grid_template_areas": null,
       "grid_template_columns": null,
       "grid_template_rows": null,
       "height": null,
       "justify_content": null,
       "justify_items": null,
       "left": null,
       "margin": null,
       "max_height": null,
       "max_width": null,
       "min_height": null,
       "min_width": null,
       "object_fit": null,
       "object_position": null,
       "order": null,
       "overflow": null,
       "overflow_x": null,
       "overflow_y": null,
       "padding": null,
       "right": null,
       "top": null,
       "visibility": null,
       "width": null
      }
     },
     "0eeb2107aecc40c09ce83b9c91fde15f": {
      "model_module": "@jupyter-widgets/base",
      "model_module_version": "1.2.0",
      "model_name": "LayoutModel",
      "state": {
       "_model_module": "@jupyter-widgets/base",
       "_model_module_version": "1.2.0",
       "_model_name": "LayoutModel",
       "_view_count": null,
       "_view_module": "@jupyter-widgets/base",
       "_view_module_version": "1.2.0",
       "_view_name": "LayoutView",
       "align_content": null,
       "align_items": null,
       "align_self": null,
       "border": null,
       "bottom": null,
       "display": null,
       "flex": null,
       "flex_flow": null,
       "grid_area": null,
       "grid_auto_columns": null,
       "grid_auto_flow": null,
       "grid_auto_rows": null,
       "grid_column": null,
       "grid_gap": null,
       "grid_row": null,
       "grid_template_areas": null,
       "grid_template_columns": null,
       "grid_template_rows": null,
       "height": null,
       "justify_content": null,
       "justify_items": null,
       "left": null,
       "margin": null,
       "max_height": null,
       "max_width": null,
       "min_height": null,
       "min_width": null,
       "object_fit": null,
       "object_position": null,
       "order": null,
       "overflow": null,
       "overflow_x": null,
       "overflow_y": null,
       "padding": null,
       "right": null,
       "top": null,
       "visibility": null,
       "width": null
      }
     },
     "234a5b9b82d24e16b167ce5caa93f416": {
      "model_module": "@jupyter-widgets/controls",
      "model_module_version": "1.5.0",
      "model_name": "FloatProgressModel",
      "state": {
       "_dom_classes": [],
       "_model_module": "@jupyter-widgets/controls",
       "_model_module_version": "1.5.0",
       "_model_name": "FloatProgressModel",
       "_view_count": null,
       "_view_module": "@jupyter-widgets/controls",
       "_view_module_version": "1.5.0",
       "_view_name": "ProgressView",
       "bar_style": "success",
       "description": "Downloading: 100%",
       "description_tooltip": null,
       "layout": "IPY_MODEL_0eeb2107aecc40c09ce83b9c91fde15f",
       "max": 714314041.0,
       "min": 0.0,
       "orientation": "horizontal",
       "style": "IPY_MODEL_97fd769a83bb46cf9fbc704d42cf620e",
       "value": 714314041.0
      }
     },
     "24442a6bb32b485e986713600a4a718e": {
      "model_module": "@jupyter-widgets/controls",
      "model_module_version": "1.5.0",
      "model_name": "DescriptionStyleModel",
      "state": {
       "_model_module": "@jupyter-widgets/controls",
       "_model_module_version": "1.5.0",
       "_model_name": "DescriptionStyleModel",
       "_view_count": null,
       "_view_module": "@jupyter-widgets/base",
       "_view_module_version": "1.2.0",
       "_view_name": "StyleView",
       "description_width": ""
      }
     },
     "2a6ab38eb73f48a18f39966dbb5a8717": {
      "model_module": "@jupyter-widgets/controls",
      "model_module_version": "1.5.0",
      "model_name": "HTMLModel",
      "state": {
       "_dom_classes": [],
       "_model_module": "@jupyter-widgets/controls",
       "_model_module_version": "1.5.0",
       "_model_name": "HTMLModel",
       "_view_count": null,
       "_view_module": "@jupyter-widgets/controls",
       "_view_module_version": "1.5.0",
       "_view_name": "HTMLView",
       "description": "",
       "description_tooltip": null,
       "layout": "IPY_MODEL_056a06e1addd49b3abb1a92610dcdda4",
       "placeholder": "​",
       "style": "IPY_MODEL_b5bb1d3db9f34ca7b02fb316cb46ea89",
       "value": " 996k/996k [00:00&lt;00:00, 4.40MB/s]"
      }
     },
     "47e03814c3234a00b05fef521f29fc71": {
      "model_module": "@jupyter-widgets/controls",
      "model_module_version": "1.5.0",
      "model_name": "HBoxModel",
      "state": {
       "_dom_classes": [],
       "_model_module": "@jupyter-widgets/controls",
       "_model_module_version": "1.5.0",
       "_model_name": "HBoxModel",
       "_view_count": null,
       "_view_module": "@jupyter-widgets/controls",
       "_view_module_version": "1.5.0",
       "_view_name": "HBoxView",
       "box_style": "",
       "children": [
        "IPY_MODEL_e57738c6d5eb44258dfed8f49c5db0b4",
        "IPY_MODEL_2a6ab38eb73f48a18f39966dbb5a8717"
       ],
       "layout": "IPY_MODEL_505a4390194044d8a340174d5a2932c2"
      }
     },
     "505a4390194044d8a340174d5a2932c2": {
      "model_module": "@jupyter-widgets/base",
      "model_module_version": "1.2.0",
      "model_name": "LayoutModel",
      "state": {
       "_model_module": "@jupyter-widgets/base",
       "_model_module_version": "1.2.0",
       "_model_name": "LayoutModel",
       "_view_count": null,
       "_view_module": "@jupyter-widgets/base",
       "_view_module_version": "1.2.0",
       "_view_name": "LayoutView",
       "align_content": null,
       "align_items": null,
       "align_self": null,
       "border": null,
       "bottom": null,
       "display": null,
       "flex": null,
       "flex_flow": null,
       "grid_area": null,
       "grid_auto_columns": null,
       "grid_auto_flow": null,
       "grid_auto_rows": null,
       "grid_column": null,
       "grid_gap": null,
       "grid_row": null,
       "grid_template_areas": null,
       "grid_template_columns": null,
       "grid_template_rows": null,
       "height": null,
       "justify_content": null,
       "justify_items": null,
       "left": null,
       "margin": null,
       "max_height": null,
       "max_width": null,
       "min_height": null,
       "min_width": null,
       "object_fit": null,
       "object_position": null,
       "order": null,
       "overflow": null,
       "overflow_x": null,
       "overflow_y": null,
       "padding": null,
       "right": null,
       "top": null,
       "visibility": null,
       "width": null
      }
     },
     "50fd8e5f309c42839e7eec45ade9a7f3": {
      "model_module": "@jupyter-widgets/controls",
      "model_module_version": "1.5.0",
      "model_name": "DescriptionStyleModel",
      "state": {
       "_model_module": "@jupyter-widgets/controls",
       "_model_module_version": "1.5.0",
       "_model_name": "DescriptionStyleModel",
       "_view_count": null,
       "_view_module": "@jupyter-widgets/base",
       "_view_module_version": "1.2.0",
       "_view_name": "StyleView",
       "description_width": ""
      }
     },
     "703ad034ea5b46e0a3e6e37ed49a0f71": {
      "model_module": "@jupyter-widgets/controls",
      "model_module_version": "1.5.0",
      "model_name": "HBoxModel",
      "state": {
       "_dom_classes": [],
       "_model_module": "@jupyter-widgets/controls",
       "_model_module_version": "1.5.0",
       "_model_name": "HBoxModel",
       "_view_count": null,
       "_view_module": "@jupyter-widgets/controls",
       "_view_module_version": "1.5.0",
       "_view_name": "HBoxView",
       "box_style": "",
       "children": [
        "IPY_MODEL_e08084837c9d46b78203707ab70d565d",
        "IPY_MODEL_b7b4fa46165c4517a825e3cd39e7e517"
       ],
       "layout": "IPY_MODEL_99115150e72146199681cc25d8f36c2c"
      }
     },
     "89597d42abf94e95a60fec353972f094": {
      "model_module": "@jupyter-widgets/controls",
      "model_module_version": "1.5.0",
      "model_name": "ProgressStyleModel",
      "state": {
       "_model_module": "@jupyter-widgets/controls",
       "_model_module_version": "1.5.0",
       "_model_name": "ProgressStyleModel",
       "_view_count": null,
       "_view_module": "@jupyter-widgets/base",
       "_view_module_version": "1.2.0",
       "_view_name": "StyleView",
       "bar_color": null,
       "description_width": "initial"
      }
     },
     "97fd769a83bb46cf9fbc704d42cf620e": {
      "model_module": "@jupyter-widgets/controls",
      "model_module_version": "1.5.0",
      "model_name": "ProgressStyleModel",
      "state": {
       "_model_module": "@jupyter-widgets/controls",
       "_model_module_version": "1.5.0",
       "_model_name": "ProgressStyleModel",
       "_view_count": null,
       "_view_module": "@jupyter-widgets/base",
       "_view_module_version": "1.2.0",
       "_view_name": "StyleView",
       "bar_color": null,
       "description_width": "initial"
      }
     },
     "99115150e72146199681cc25d8f36c2c": {
      "model_module": "@jupyter-widgets/base",
      "model_module_version": "1.2.0",
      "model_name": "LayoutModel",
      "state": {
       "_model_module": "@jupyter-widgets/base",
       "_model_module_version": "1.2.0",
       "_model_name": "LayoutModel",
       "_view_count": null,
       "_view_module": "@jupyter-widgets/base",
       "_view_module_version": "1.2.0",
       "_view_name": "LayoutView",
       "align_content": null,
       "align_items": null,
       "align_self": null,
       "border": null,
       "bottom": null,
       "display": null,
       "flex": null,
       "flex_flow": null,
       "grid_area": null,
       "grid_auto_columns": null,
       "grid_auto_flow": null,
       "grid_auto_rows": null,
       "grid_column": null,
       "grid_gap": null,
       "grid_row": null,
       "grid_template_areas": null,
       "grid_template_columns": null,
       "grid_template_rows": null,
       "height": null,
       "justify_content": null,
       "justify_items": null,
       "left": null,
       "margin": null,
       "max_height": null,
       "max_width": null,
       "min_height": null,
       "min_width": null,
       "object_fit": null,
       "object_position": null,
       "order": null,
       "overflow": null,
       "overflow_x": null,
       "overflow_y": null,
       "padding": null,
       "right": null,
       "top": null,
       "visibility": null,
       "width": null
      }
     },
     "a2edac25c4114c11aad742e69c0f4044": {
      "model_module": "@jupyter-widgets/controls",
      "model_module_version": "1.5.0",
      "model_name": "ProgressStyleModel",
      "state": {
       "_model_module": "@jupyter-widgets/controls",
       "_model_module_version": "1.5.0",
       "_model_name": "ProgressStyleModel",
       "_view_count": null,
       "_view_module": "@jupyter-widgets/base",
       "_view_module_version": "1.2.0",
       "_view_name": "StyleView",
       "bar_color": null,
       "description_width": "initial"
      }
     },
     "a96a5b1131024097aa7414f693466bc7": {
      "model_module": "@jupyter-widgets/controls",
      "model_module_version": "1.5.0",
      "model_name": "HBoxModel",
      "state": {
       "_dom_classes": [],
       "_model_module": "@jupyter-widgets/controls",
       "_model_module_version": "1.5.0",
       "_model_name": "HBoxModel",
       "_view_count": null,
       "_view_module": "@jupyter-widgets/controls",
       "_view_module_version": "1.5.0",
       "_view_name": "HBoxView",
       "box_style": "",
       "children": [
        "IPY_MODEL_234a5b9b82d24e16b167ce5caa93f416",
        "IPY_MODEL_03af21f3c81a4823a80a327975841c2f"
       ],
       "layout": "IPY_MODEL_eb412c5f99114cd8af00c912c1c4f12f"
      }
     },
     "b21bb0a34f5e4971a1790d129e9d4403": {
      "model_module": "@jupyter-widgets/base",
      "model_module_version": "1.2.0",
      "model_name": "LayoutModel",
      "state": {
       "_model_module": "@jupyter-widgets/base",
       "_model_module_version": "1.2.0",
       "_model_name": "LayoutModel",
       "_view_count": null,
       "_view_module": "@jupyter-widgets/base",
       "_view_module_version": "1.2.0",
       "_view_name": "LayoutView",
       "align_content": null,
       "align_items": null,
       "align_self": null,
       "border": null,
       "bottom": null,
       "display": null,
       "flex": null,
       "flex_flow": null,
       "grid_area": null,
       "grid_auto_columns": null,
       "grid_auto_flow": null,
       "grid_auto_rows": null,
       "grid_column": null,
       "grid_gap": null,
       "grid_row": null,
       "grid_template_areas": null,
       "grid_template_columns": null,
       "grid_template_rows": null,
       "height": null,
       "justify_content": null,
       "justify_items": null,
       "left": null,
       "margin": null,
       "max_height": null,
       "max_width": null,
       "min_height": null,
       "min_width": null,
       "object_fit": null,
       "object_position": null,
       "order": null,
       "overflow": null,
       "overflow_x": null,
       "overflow_y": null,
       "padding": null,
       "right": null,
       "top": null,
       "visibility": null,
       "width": null
      }
     },
     "b5bb1d3db9f34ca7b02fb316cb46ea89": {
      "model_module": "@jupyter-widgets/controls",
      "model_module_version": "1.5.0",
      "model_name": "DescriptionStyleModel",
      "state": {
       "_model_module": "@jupyter-widgets/controls",
       "_model_module_version": "1.5.0",
       "_model_name": "DescriptionStyleModel",
       "_view_count": null,
       "_view_module": "@jupyter-widgets/base",
       "_view_module_version": "1.2.0",
       "_view_name": "StyleView",
       "description_width": ""
      }
     },
     "b7b4fa46165c4517a825e3cd39e7e517": {
      "model_module": "@jupyter-widgets/controls",
      "model_module_version": "1.5.0",
      "model_name": "HTMLModel",
      "state": {
       "_dom_classes": [],
       "_model_module": "@jupyter-widgets/controls",
       "_model_module_version": "1.5.0",
       "_model_name": "HTMLModel",
       "_view_count": null,
       "_view_module": "@jupyter-widgets/controls",
       "_view_module_version": "1.5.0",
       "_view_name": "HTMLView",
       "description": "",
       "description_tooltip": null,
       "layout": "IPY_MODEL_b21bb0a34f5e4971a1790d129e9d4403",
       "placeholder": "​",
       "style": "IPY_MODEL_24442a6bb32b485e986713600a4a718e",
       "value": " 625/625 [00:00&lt;00:00, 7.80kB/s]"
      }
     },
     "e08084837c9d46b78203707ab70d565d": {
      "model_module": "@jupyter-widgets/controls",
      "model_module_version": "1.5.0",
      "model_name": "FloatProgressModel",
      "state": {
       "_dom_classes": [],
       "_model_module": "@jupyter-widgets/controls",
       "_model_module_version": "1.5.0",
       "_model_name": "FloatProgressModel",
       "_view_count": null,
       "_view_module": "@jupyter-widgets/controls",
       "_view_module_version": "1.5.0",
       "_view_name": "ProgressView",
       "bar_style": "success",
       "description": "Downloading: 100%",
       "description_tooltip": null,
       "layout": "IPY_MODEL_f68a6365cb77403b81ba2ae3f02871f0",
       "max": 625.0,
       "min": 0.0,
       "orientation": "horizontal",
       "style": "IPY_MODEL_a2edac25c4114c11aad742e69c0f4044",
       "value": 625.0
      }
     },
     "e57738c6d5eb44258dfed8f49c5db0b4": {
      "model_module": "@jupyter-widgets/controls",
      "model_module_version": "1.5.0",
      "model_name": "FloatProgressModel",
      "state": {
       "_dom_classes": [],
       "_model_module": "@jupyter-widgets/controls",
       "_model_module_version": "1.5.0",
       "_model_name": "FloatProgressModel",
       "_view_count": null,
       "_view_module": "@jupyter-widgets/controls",
       "_view_module_version": "1.5.0",
       "_view_name": "ProgressView",
       "bar_style": "success",
       "description": "Downloading: 100%",
       "description_tooltip": null,
       "layout": "IPY_MODEL_0ca401a8ce5a4fcf9c79c57ef066eb26",
       "max": 995526.0,
       "min": 0.0,
       "orientation": "horizontal",
       "style": "IPY_MODEL_89597d42abf94e95a60fec353972f094",
       "value": 995526.0
      }
     },
     "eb412c5f99114cd8af00c912c1c4f12f": {
      "model_module": "@jupyter-widgets/base",
      "model_module_version": "1.2.0",
      "model_name": "LayoutModel",
      "state": {
       "_model_module": "@jupyter-widgets/base",
       "_model_module_version": "1.2.0",
       "_model_name": "LayoutModel",
       "_view_count": null,
       "_view_module": "@jupyter-widgets/base",
       "_view_module_version": "1.2.0",
       "_view_name": "LayoutView",
       "align_content": null,
       "align_items": null,
       "align_self": null,
       "border": null,
       "bottom": null,
       "display": null,
       "flex": null,
       "flex_flow": null,
       "grid_area": null,
       "grid_auto_columns": null,
       "grid_auto_flow": null,
       "grid_auto_rows": null,
       "grid_column": null,
       "grid_gap": null,
       "grid_row": null,
       "grid_template_areas": null,
       "grid_template_columns": null,
       "grid_template_rows": null,
       "height": null,
       "justify_content": null,
       "justify_items": null,
       "left": null,
       "margin": null,
       "max_height": null,
       "max_width": null,
       "min_height": null,
       "min_width": null,
       "object_fit": null,
       "object_position": null,
       "order": null,
       "overflow": null,
       "overflow_x": null,
       "overflow_y": null,
       "padding": null,
       "right": null,
       "top": null,
       "visibility": null,
       "width": null
      }
     },
     "f68a6365cb77403b81ba2ae3f02871f0": {
      "model_module": "@jupyter-widgets/base",
      "model_module_version": "1.2.0",
      "model_name": "LayoutModel",
      "state": {
       "_model_module": "@jupyter-widgets/base",
       "_model_module_version": "1.2.0",
       "_model_name": "LayoutModel",
       "_view_count": null,
       "_view_module": "@jupyter-widgets/base",
       "_view_module_version": "1.2.0",
       "_view_name": "LayoutView",
       "align_content": null,
       "align_items": null,
       "align_self": null,
       "border": null,
       "bottom": null,
       "display": null,
       "flex": null,
       "flex_flow": null,
       "grid_area": null,
       "grid_auto_columns": null,
       "grid_auto_flow": null,
       "grid_auto_rows": null,
       "grid_column": null,
       "grid_gap": null,
       "grid_row": null,
       "grid_template_areas": null,
       "grid_template_columns": null,
       "grid_template_rows": null,
       "height": null,
       "justify_content": null,
       "justify_items": null,
       "left": null,
       "margin": null,
       "max_height": null,
       "max_width": null,
       "min_height": null,
       "min_width": null,
       "object_fit": null,
       "object_position": null,
       "order": null,
       "overflow": null,
       "overflow_x": null,
       "overflow_y": null,
       "padding": null,
       "right": null,
       "top": null,
       "visibility": null,
       "width": null
      }
     },
     "f6e407f205c64e41b24e08399cbc131f": {
      "model_module": "@jupyter-widgets/base",
      "model_module_version": "1.2.0",
      "model_name": "LayoutModel",
      "state": {
       "_model_module": "@jupyter-widgets/base",
       "_model_module_version": "1.2.0",
       "_model_name": "LayoutModel",
       "_view_count": null,
       "_view_module": "@jupyter-widgets/base",
       "_view_module_version": "1.2.0",
       "_view_name": "LayoutView",
       "align_content": null,
       "align_items": null,
       "align_self": null,
       "border": null,
       "bottom": null,
       "display": null,
       "flex": null,
       "flex_flow": null,
       "grid_area": null,
       "grid_auto_columns": null,
       "grid_auto_flow": null,
       "grid_auto_rows": null,
       "grid_column": null,
       "grid_gap": null,
       "grid_row": null,
       "grid_template_areas": null,
       "grid_template_columns": null,
       "grid_template_rows": null,
       "height": null,
       "justify_content": null,
       "justify_items": null,
       "left": null,
       "margin": null,
       "max_height": null,
       "max_width": null,
       "min_height": null,
       "min_width": null,
       "object_fit": null,
       "object_position": null,
       "order": null,
       "overflow": null,
       "overflow_x": null,
       "overflow_y": null,
       "padding": null,
       "right": null,
       "top": null,
       "visibility": null,
       "width": null
      }
     }
    },
    "version_major": 2,
    "version_minor": 0
   }
  }
 },
 "nbformat": 4,
 "nbformat_minor": 4
}
