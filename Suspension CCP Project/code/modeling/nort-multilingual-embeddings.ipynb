{
 "cells": [
  {
   "cell_type": "markdown",
   "metadata": {
    "papermill": {
     "duration": 0.051627,
     "end_time": "2021-05-18T01:35:56.644636",
     "exception": false,
     "start_time": "2021-05-18T01:35:56.593009",
     "status": "completed"
    },
    "tags": []
   },
   "source": [
    "### Load in Packages and Set Up Parameters"
   ]
  },
  {
   "cell_type": "code",
   "execution_count": 1,
   "metadata": {
    "_cell_guid": "b1076dfc-b9ad-4769-8c92-a6c4dae69d19",
    "_uuid": "8f2839f25d086af736a60e9eeb907d3b93b6e0e5",
    "execution": {
     "iopub.execute_input": "2021-05-18T01:35:56.789404Z",
     "iopub.status.busy": "2021-05-18T01:35:56.788696Z",
     "iopub.status.idle": "2021-05-18T01:36:01.549979Z",
     "shell.execute_reply": "2021-05-18T01:36:01.549186Z"
    },
    "papermill": {
     "duration": 4.818982,
     "end_time": "2021-05-18T01:36:01.550135",
     "exception": false,
     "start_time": "2021-05-18T01:35:56.731153",
     "status": "completed"
    },
    "tags": []
   },
   "outputs": [],
   "source": [
    "import pandas as pd\n",
    "from keras.preprocessing.sequence import pad_sequences\n",
    "\n",
    "import matplotlib.pyplot as plt\n",
    "%matplotlib inline"
   ]
  },
  {
   "cell_type": "code",
   "execution_count": 2,
   "metadata": {
    "execution": {
     "iopub.execute_input": "2021-05-18T01:36:03.694362Z",
     "iopub.status.busy": "2021-05-18T01:36:03.693321Z",
     "iopub.status.idle": "2021-05-18T01:36:03.697922Z",
     "shell.execute_reply": "2021-05-18T01:36:03.698297Z"
    },
    "papermill": {
     "duration": 2.064539,
     "end_time": "2021-05-18T01:36:03.698455",
     "exception": false,
     "start_time": "2021-05-18T01:36:01.633916",
     "status": "completed"
    },
    "tags": []
   },
   "outputs": [
    {
     "name": "stdout",
     "output_type": "stream",
     "text": [
      "Found GPU at: /device:GPU:0\n"
     ]
    }
   ],
   "source": [
    "import tensorflow as tf\n",
    "# Get the GPU device name.\n",
    "device_name = tf.test.gpu_device_name()\n",
    "# The device name should look like the following:\n",
    "if device_name == '/device:GPU:0':\n",
    "    print('Found GPU at: {}'.format(device_name))\n",
    "else:\n",
    "    raise SystemError('GPU device not found')"
   ]
  },
  {
   "cell_type": "markdown",
   "metadata": {
    "papermill": {
     "duration": 0.050478,
     "end_time": "2021-05-18T01:36:03.800238",
     "exception": false,
     "start_time": "2021-05-18T01:36:03.749760",
     "status": "completed"
    },
    "tags": []
   },
   "source": [
    "In order for torch to use the GPU, we need to identify and specify the GPU as the device. Later, in our training loop, we will load data onto the device."
   ]
  },
  {
   "cell_type": "code",
   "execution_count": 3,
   "metadata": {
    "execution": {
     "iopub.execute_input": "2021-05-18T01:36:03.907625Z",
     "iopub.status.busy": "2021-05-18T01:36:03.907000Z",
     "iopub.status.idle": "2021-05-18T01:36:04.980570Z",
     "shell.execute_reply": "2021-05-18T01:36:04.981662Z"
    },
    "papermill": {
     "duration": 1.131076,
     "end_time": "2021-05-18T01:36:04.981847",
     "exception": false,
     "start_time": "2021-05-18T01:36:03.850771",
     "status": "completed"
    },
    "tags": []
   },
   "outputs": [
    {
     "name": "stdout",
     "output_type": "stream",
     "text": [
      "There are 1 GPU(s) available.\n",
      "We will use the GPU: Tesla P100-PCIE-16GB\n"
     ]
    }
   ],
   "source": [
    "import torch\n",
    "# If there's a GPU available...\n",
    "if torch.cuda.is_available():    \n",
    "    # Tell PyTorch to use the GPU.    \n",
    "    device = torch.device(\"cuda\")\n",
    "    print('There are %d GPU(s) available.' % torch.cuda.device_count())\n",
    "    print('We will use the GPU:', torch.cuda.get_device_name(0))\n",
    "# If not...\n",
    "else:\n",
    "    print('No GPU available, using the CPU instead.')\n",
    "    device = torch.device(\"cpu\")"
   ]
  },
  {
   "cell_type": "markdown",
   "metadata": {
    "papermill": {
     "duration": 0.051398,
     "end_time": "2021-05-18T01:36:05.085407",
     "exception": false,
     "start_time": "2021-05-18T01:36:05.034009",
     "status": "completed"
    },
    "tags": []
   },
   "source": [
    "Next, let’s install the transformers package from Hugging Face which will give us a pytorch interface for working with BERT. (This library contains interfaces for other pretrained language models like OpenAI’s GPT and GPT-2.) We’ve selected the pytorch interface because it strikes a nice balance between the high-level APIs (which are easy to use but don’t provide insight into how things work) and tensorflow code (which contains lots of details but often sidetracks us into lessons about tensorflow, when the purpose here is BERT!)."
   ]
  },
  {
   "cell_type": "code",
   "execution_count": 4,
   "metadata": {
    "execution": {
     "iopub.execute_input": "2021-05-18T01:36:05.192845Z",
     "iopub.status.busy": "2021-05-18T01:36:05.192279Z",
     "iopub.status.idle": "2021-05-18T01:36:12.382587Z",
     "shell.execute_reply": "2021-05-18T01:36:12.382998Z"
    },
    "papermill": {
     "duration": 7.246482,
     "end_time": "2021-05-18T01:36:12.383129",
     "exception": false,
     "start_time": "2021-05-18T01:36:05.136647",
     "status": "completed"
    },
    "tags": []
   },
   "outputs": [
    {
     "name": "stdout",
     "output_type": "stream",
     "text": [
      "Requirement already satisfied: transformers in /opt/conda/lib/python3.7/site-packages (3.5.1)\r\n",
      "Requirement already satisfied: packaging in /opt/conda/lib/python3.7/site-packages (from transformers) (20.1)\r\n",
      "Requirement already satisfied: tokenizers==0.9.3 in /opt/conda/lib/python3.7/site-packages (from transformers) (0.9.3)\r\n",
      "Requirement already satisfied: numpy in /opt/conda/lib/python3.7/site-packages (from transformers) (1.18.5)\r\n",
      "Requirement already satisfied: requests in /opt/conda/lib/python3.7/site-packages (from transformers) (2.23.0)\r\n",
      "Requirement already satisfied: sacremoses in /opt/conda/lib/python3.7/site-packages (from transformers) (0.0.43)\r\n",
      "Requirement already satisfied: protobuf in /opt/conda/lib/python3.7/site-packages (from transformers) (3.14.0)\r\n",
      "Requirement already satisfied: filelock in /opt/conda/lib/python3.7/site-packages (from transformers) (3.0.10)\r\n",
      "Requirement already satisfied: sentencepiece==0.1.91 in /opt/conda/lib/python3.7/site-packages (from transformers) (0.1.91)\r\n",
      "Requirement already satisfied: regex!=2019.12.17 in /opt/conda/lib/python3.7/site-packages (from transformers) (2020.4.4)\r\n",
      "Requirement already satisfied: tqdm>=4.27 in /opt/conda/lib/python3.7/site-packages (from transformers) (4.45.0)\r\n",
      "Requirement already satisfied: six in /opt/conda/lib/python3.7/site-packages (from packaging->transformers) (1.14.0)\r\n",
      "Requirement already satisfied: pyparsing>=2.0.2 in /opt/conda/lib/python3.7/site-packages (from packaging->transformers) (2.4.7)\r\n",
      "Requirement already satisfied: six in /opt/conda/lib/python3.7/site-packages (from packaging->transformers) (1.14.0)\r\n",
      "Requirement already satisfied: idna<3,>=2.5 in /opt/conda/lib/python3.7/site-packages (from requests->transformers) (2.9)\r\n",
      "Requirement already satisfied: urllib3!=1.25.0,!=1.25.1,<1.26,>=1.21.1 in /opt/conda/lib/python3.7/site-packages (from requests->transformers) (1.25.9)\r\n",
      "Requirement already satisfied: chardet<4,>=3.0.2 in /opt/conda/lib/python3.7/site-packages (from requests->transformers) (3.0.4)\r\n",
      "Requirement already satisfied: certifi>=2017.4.17 in /opt/conda/lib/python3.7/site-packages (from requests->transformers) (2020.12.5)\r\n",
      "Requirement already satisfied: regex!=2019.12.17 in /opt/conda/lib/python3.7/site-packages (from transformers) (2020.4.4)\r\n",
      "Requirement already satisfied: six in /opt/conda/lib/python3.7/site-packages (from packaging->transformers) (1.14.0)\r\n",
      "Requirement already satisfied: tqdm>=4.27 in /opt/conda/lib/python3.7/site-packages (from transformers) (4.45.0)\r\n",
      "Requirement already satisfied: joblib in /opt/conda/lib/python3.7/site-packages (from sacremoses->transformers) (0.14.1)\r\n",
      "Requirement already satisfied: click in /opt/conda/lib/python3.7/site-packages (from sacremoses->transformers) (7.1.1)\r\n",
      "\u001b[33mWARNING: You are using pip version 20.3.1; however, version 21.1.1 is available.\r\n",
      "You should consider upgrading via the '/opt/conda/bin/python3.7 -m pip install --upgrade pip' command.\u001b[0m\r\n"
     ]
    }
   ],
   "source": [
    "!pip install transformers"
   ]
  },
  {
   "cell_type": "markdown",
   "metadata": {
    "papermill": {
     "duration": 0.087814,
     "end_time": "2021-05-18T01:36:12.552740",
     "exception": false,
     "start_time": "2021-05-18T01:36:12.464926",
     "status": "completed"
    },
    "tags": []
   },
   "source": [
    "### Load in Data"
   ]
  },
  {
   "cell_type": "code",
   "execution_count": 5,
   "metadata": {
    "execution": {
     "iopub.execute_input": "2021-05-18T01:36:12.730210Z",
     "iopub.status.busy": "2021-05-18T01:36:12.729403Z",
     "iopub.status.idle": "2021-05-18T01:36:16.955407Z",
     "shell.execute_reply": "2021-05-18T01:36:16.954328Z"
    },
    "papermill": {
     "duration": 4.317957,
     "end_time": "2021-05-18T01:36:16.955519",
     "exception": false,
     "start_time": "2021-05-18T01:36:12.637562",
     "status": "completed"
    },
    "tags": []
   },
   "outputs": [],
   "source": [
    "#### Load in data from S3\n",
    "\n",
    "# Import Train and Measure Balance\n",
    "# Import Flattened Data\n",
    "df_train_f = pd.read_csv(\"/kaggle/input/nort-bert-datasets/df_train_full_cleaned_pe.csv\", encoding='utf_8_sig', low_memory=False)\n",
    "\n",
    "# Import Test and Measure Balance\n",
    "\n",
    "df_test_f = pd.read_csv(\"/kaggle/input/nort-bert-datasets/df_test_full_cleaned_pe.csv\", encoding='utf_8_sig', low_memory=False)\n",
    "\n",
    "# Import Validation and Measure Balance\n",
    "# Import Flattened Data\n",
    "df_valid_f = pd.read_csv(\"/kaggle/input/nort-bert-datasets/df_valid_full_cleaned_pe.csv\", encoding='utf_8_sig', low_memory=False)"
   ]
  },
  {
   "cell_type": "code",
   "execution_count": 6,
   "metadata": {
    "execution": {
     "iopub.execute_input": "2021-05-18T01:36:17.088643Z",
     "iopub.status.busy": "2021-05-18T01:36:17.087986Z",
     "iopub.status.idle": "2021-05-18T01:36:17.102664Z",
     "shell.execute_reply": "2021-05-18T01:36:17.103131Z"
    },
    "papermill": {
     "duration": 0.094359,
     "end_time": "2021-05-18T01:36:17.103260",
     "exception": false,
     "start_time": "2021-05-18T01:36:17.008901",
     "status": "completed"
    },
    "tags": []
   },
   "outputs": [
    {
     "data": {
      "text/html": [
       "<div>\n",
       "<style scoped>\n",
       "    .dataframe tbody tr th:only-of-type {\n",
       "        vertical-align: middle;\n",
       "    }\n",
       "\n",
       "    .dataframe tbody tr th {\n",
       "        vertical-align: top;\n",
       "    }\n",
       "\n",
       "    .dataframe thead th {\n",
       "        text-align: right;\n",
       "    }\n",
       "</style>\n",
       "<table border=\"1\" class=\"dataframe\">\n",
       "  <thead>\n",
       "    <tr style=\"text-align: right;\">\n",
       "      <th></th>\n",
       "      <th>id</th>\n",
       "      <th>created_at</th>\n",
       "      <th>text</th>\n",
       "      <th>retweet_count</th>\n",
       "      <th>favorite_count</th>\n",
       "      <th>quoted_status_id</th>\n",
       "      <th>user.id</th>\n",
       "      <th>user.created_at</th>\n",
       "      <th>user.description</th>\n",
       "      <th>user.favourites_count</th>\n",
       "      <th>...</th>\n",
       "      <th>user.geo_enabled_False</th>\n",
       "      <th>user.geo_enabled_True</th>\n",
       "      <th>user.verified_False</th>\n",
       "      <th>user.has_extended_profile_False</th>\n",
       "      <th>user.has_extended_profile_True</th>\n",
       "      <th>user.protected_False</th>\n",
       "      <th>user.verified_False.1</th>\n",
       "      <th>user.default_profile_True</th>\n",
       "      <th>is_quote_status_False</th>\n",
       "      <th>is_quote_status_True</th>\n",
       "    </tr>\n",
       "  </thead>\n",
       "  <tbody>\n",
       "    <tr>\n",
       "      <th>0</th>\n",
       "      <td>'1.2781248368924918e+18'</td>\n",
       "      <td>1.593564e+09</td>\n",
       "      <td>今天第一次上推特，看看世界</td>\n",
       "      <td>0.0</td>\n",
       "      <td>1.0</td>\n",
       "      <td>0</td>\n",
       "      <td>1.278122e+18</td>\n",
       "      <td>1.593563e+09</td>\n",
       "      <td>关心政治</td>\n",
       "      <td>0.0</td>\n",
       "      <td>...</td>\n",
       "      <td>1</td>\n",
       "      <td>0</td>\n",
       "      <td>1</td>\n",
       "      <td>0</td>\n",
       "      <td>1</td>\n",
       "      <td>1</td>\n",
       "      <td>1</td>\n",
       "      <td>1</td>\n",
       "      <td>1</td>\n",
       "      <td>0</td>\n",
       "    </tr>\n",
       "    <tr>\n",
       "      <th>1</th>\n",
       "      <td>'1.2797572269916938e+18'</td>\n",
       "      <td>1.593953e+09</td>\n",
       "      <td>@ttingxiao 胡说八道</td>\n",
       "      <td>0.0</td>\n",
       "      <td>0.0</td>\n",
       "      <td>0</td>\n",
       "      <td>1.278122e+18</td>\n",
       "      <td>1.593563e+09</td>\n",
       "      <td>关心政治</td>\n",
       "      <td>0.0</td>\n",
       "      <td>...</td>\n",
       "      <td>1</td>\n",
       "      <td>0</td>\n",
       "      <td>1</td>\n",
       "      <td>0</td>\n",
       "      <td>1</td>\n",
       "      <td>1</td>\n",
       "      <td>1</td>\n",
       "      <td>1</td>\n",
       "      <td>1</td>\n",
       "      <td>0</td>\n",
       "    </tr>\n",
       "    <tr>\n",
       "      <th>2</th>\n",
       "      <td>'1.2818699475099935e+18'</td>\n",
       "      <td>1.594457e+09</td>\n",
       "      <td>@VijayShankarKu1 @zlj517 Are you describing In...</td>\n",
       "      <td>0.0</td>\n",
       "      <td>0.0</td>\n",
       "      <td>0</td>\n",
       "      <td>1.278129e+18</td>\n",
       "      <td>1.593565e+09</td>\n",
       "      <td>中华人民共和国战略忽悠局北美司情资一处国家二级忽悠师</td>\n",
       "      <td>41.0</td>\n",
       "      <td>...</td>\n",
       "      <td>1</td>\n",
       "      <td>0</td>\n",
       "      <td>1</td>\n",
       "      <td>0</td>\n",
       "      <td>1</td>\n",
       "      <td>1</td>\n",
       "      <td>1</td>\n",
       "      <td>1</td>\n",
       "      <td>1</td>\n",
       "      <td>0</td>\n",
       "    </tr>\n",
       "    <tr>\n",
       "      <th>3</th>\n",
       "      <td>'1.2803084709364818e+18'</td>\n",
       "      <td>1.594084e+09</td>\n",
       "      <td>@auighur @realDonaldTrump just like Trump,with...</td>\n",
       "      <td>0.0</td>\n",
       "      <td>0.0</td>\n",
       "      <td>0</td>\n",
       "      <td>1.278129e+18</td>\n",
       "      <td>1.593565e+09</td>\n",
       "      <td>中华人民共和国战略忽悠局北美司情资一处国家二级忽悠师</td>\n",
       "      <td>41.0</td>\n",
       "      <td>...</td>\n",
       "      <td>1</td>\n",
       "      <td>0</td>\n",
       "      <td>1</td>\n",
       "      <td>0</td>\n",
       "      <td>1</td>\n",
       "      <td>1</td>\n",
       "      <td>1</td>\n",
       "      <td>1</td>\n",
       "      <td>1</td>\n",
       "      <td>0</td>\n",
       "    </tr>\n",
       "    <tr>\n",
       "      <th>4</th>\n",
       "      <td>'1.2818669493543813e+18'</td>\n",
       "      <td>1.594456e+09</td>\n",
       "      <td>@USA_China_Talk 不依法治国，难道还以推治国？美国鼓吹的宪法精神又到哪了？</td>\n",
       "      <td>0.0</td>\n",
       "      <td>0.0</td>\n",
       "      <td>0</td>\n",
       "      <td>1.278129e+18</td>\n",
       "      <td>1.593565e+09</td>\n",
       "      <td>中华人民共和国战略忽悠局北美司情资一处国家二级忽悠师</td>\n",
       "      <td>41.0</td>\n",
       "      <td>...</td>\n",
       "      <td>1</td>\n",
       "      <td>0</td>\n",
       "      <td>1</td>\n",
       "      <td>0</td>\n",
       "      <td>1</td>\n",
       "      <td>1</td>\n",
       "      <td>1</td>\n",
       "      <td>1</td>\n",
       "      <td>1</td>\n",
       "      <td>0</td>\n",
       "    </tr>\n",
       "    <tr>\n",
       "      <th>5</th>\n",
       "      <td>'1.2811047401018737e+18'</td>\n",
       "      <td>1.594274e+09</td>\n",
       "      <td>@grass9fish @SUMANsaurabh07 +1</td>\n",
       "      <td>0.0</td>\n",
       "      <td>0.0</td>\n",
       "      <td>0</td>\n",
       "      <td>1.278129e+18</td>\n",
       "      <td>1.593565e+09</td>\n",
       "      <td>中华人民共和国战略忽悠局北美司情资一处国家二级忽悠师</td>\n",
       "      <td>41.0</td>\n",
       "      <td>...</td>\n",
       "      <td>1</td>\n",
       "      <td>0</td>\n",
       "      <td>1</td>\n",
       "      <td>0</td>\n",
       "      <td>1</td>\n",
       "      <td>1</td>\n",
       "      <td>1</td>\n",
       "      <td>1</td>\n",
       "      <td>1</td>\n",
       "      <td>0</td>\n",
       "    </tr>\n",
       "  </tbody>\n",
       "</table>\n",
       "<p>6 rows × 160 columns</p>\n",
       "</div>"
      ],
      "text/plain": [
       "                         id    created_at  \\\n",
       "0  '1.2781248368924918e+18'  1.593564e+09   \n",
       "1  '1.2797572269916938e+18'  1.593953e+09   \n",
       "2  '1.2818699475099935e+18'  1.594457e+09   \n",
       "3  '1.2803084709364818e+18'  1.594084e+09   \n",
       "4  '1.2818669493543813e+18'  1.594456e+09   \n",
       "5  '1.2811047401018737e+18'  1.594274e+09   \n",
       "\n",
       "                                                text  retweet_count  \\\n",
       "0                                      今天第一次上推特，看看世界            0.0   \n",
       "1                                    @ttingxiao 胡说八道            0.0   \n",
       "2  @VijayShankarKu1 @zlj517 Are you describing In...            0.0   \n",
       "3  @auighur @realDonaldTrump just like Trump,with...            0.0   \n",
       "4       @USA_China_Talk 不依法治国，难道还以推治国？美国鼓吹的宪法精神又到哪了？            0.0   \n",
       "5                     @grass9fish @SUMANsaurabh07 +1            0.0   \n",
       "\n",
       "   favorite_count  quoted_status_id       user.id  user.created_at  \\\n",
       "0             1.0                 0  1.278122e+18     1.593563e+09   \n",
       "1             0.0                 0  1.278122e+18     1.593563e+09   \n",
       "2             0.0                 0  1.278129e+18     1.593565e+09   \n",
       "3             0.0                 0  1.278129e+18     1.593565e+09   \n",
       "4             0.0                 0  1.278129e+18     1.593565e+09   \n",
       "5             0.0                 0  1.278129e+18     1.593565e+09   \n",
       "\n",
       "             user.description  user.favourites_count  ...  \\\n",
       "0                        关心政治                    0.0  ...   \n",
       "1                        关心政治                    0.0  ...   \n",
       "2  中华人民共和国战略忽悠局北美司情资一处国家二级忽悠师                   41.0  ...   \n",
       "3  中华人民共和国战略忽悠局北美司情资一处国家二级忽悠师                   41.0  ...   \n",
       "4  中华人民共和国战略忽悠局北美司情资一处国家二级忽悠师                   41.0  ...   \n",
       "5  中华人民共和国战略忽悠局北美司情资一处国家二级忽悠师                   41.0  ...   \n",
       "\n",
       "   user.geo_enabled_False  user.geo_enabled_True  user.verified_False  \\\n",
       "0                       1                      0                    1   \n",
       "1                       1                      0                    1   \n",
       "2                       1                      0                    1   \n",
       "3                       1                      0                    1   \n",
       "4                       1                      0                    1   \n",
       "5                       1                      0                    1   \n",
       "\n",
       "  user.has_extended_profile_False user.has_extended_profile_True  \\\n",
       "0                               0                              1   \n",
       "1                               0                              1   \n",
       "2                               0                              1   \n",
       "3                               0                              1   \n",
       "4                               0                              1   \n",
       "5                               0                              1   \n",
       "\n",
       "  user.protected_False  user.verified_False.1  user.default_profile_True  \\\n",
       "0                    1                      1                          1   \n",
       "1                    1                      1                          1   \n",
       "2                    1                      1                          1   \n",
       "3                    1                      1                          1   \n",
       "4                    1                      1                          1   \n",
       "5                    1                      1                          1   \n",
       "\n",
       "   is_quote_status_False  is_quote_status_True  \n",
       "0                      1                     0  \n",
       "1                      1                     0  \n",
       "2                      1                     0  \n",
       "3                      1                     0  \n",
       "4                      1                     0  \n",
       "5                      1                     0  \n",
       "\n",
       "[6 rows x 160 columns]"
      ]
     },
     "execution_count": 6,
     "metadata": {},
     "output_type": "execute_result"
    }
   ],
   "source": [
    "df_train_f.head(6)"
   ]
  },
  {
   "cell_type": "code",
   "execution_count": 7,
   "metadata": {
    "execution": {
     "iopub.execute_input": "2021-05-18T01:36:17.217681Z",
     "iopub.status.busy": "2021-05-18T01:36:17.216824Z",
     "iopub.status.idle": "2021-05-18T01:36:17.323888Z",
     "shell.execute_reply": "2021-05-18T01:36:17.323430Z"
    },
    "papermill": {
     "duration": 0.167377,
     "end_time": "2021-05-18T01:36:17.323989",
     "exception": false,
     "start_time": "2021-05-18T01:36:17.156612",
     "status": "completed"
    },
    "tags": []
   },
   "outputs": [],
   "source": [
    "df_train_f['id'] = df_train_f['id'].apply(lambda x: x.replace(\"'\", ''))\n",
    "df_train_f['id'] = df_train_f['id'].astype('float')\n",
    "df_valid_f['id'] = df_valid_f['id'].apply(lambda x: x.replace(\"'\", ''))\n",
    "df_valid_f['id'] = df_valid_f['id'].astype('float')\n",
    "df_test_f['id'] = df_test_f['id'].apply(lambda x: x.replace(\"'\", ''))\n",
    "df_test_f['id'] = df_test_f['id'].astype('float')"
   ]
  },
  {
   "cell_type": "code",
   "execution_count": 8,
   "metadata": {
    "execution": {
     "iopub.execute_input": "2021-05-18T01:36:17.438208Z",
     "iopub.status.busy": "2021-05-18T01:36:17.437322Z",
     "iopub.status.idle": "2021-05-18T01:36:17.447829Z",
     "shell.execute_reply": "2021-05-18T01:36:17.448435Z"
    },
    "papermill": {
     "duration": 0.070162,
     "end_time": "2021-05-18T01:36:17.448586",
     "exception": false,
     "start_time": "2021-05-18T01:36:17.378424",
     "status": "completed"
    },
    "tags": []
   },
   "outputs": [
    {
     "name": "stdout",
     "output_type": "stream",
     "text": [
      "full train: 81286 unique ids train: 81286 full valid: 27835 unique ids valid: 27835 full test: 20518 unique ids test: 20518\n"
     ]
    }
   ],
   "source": [
    "print(\"full train:\", len(df_train_f), \"unique ids train:\", len(df_train_f['id'].unique()), \n",
    "      \"full valid:\", len(df_valid_f), \"unique ids valid:\", len(df_valid_f['id'].unique()), \n",
    "      \"full test:\", len(df_test_f), \"unique ids test:\", len(df_test_f['id'].unique()))\n",
    "\n",
    "#print(\"Train:\", len(sentences_train), \"Valid:\", len(sentences_valid), \"Test\", len(sentences_test))"
   ]
  },
  {
   "cell_type": "code",
   "execution_count": 9,
   "metadata": {
    "execution": {
     "iopub.execute_input": "2021-05-18T01:36:17.566400Z",
     "iopub.status.busy": "2021-05-18T01:36:17.564742Z",
     "iopub.status.idle": "2021-05-18T01:36:17.628117Z",
     "shell.execute_reply": "2021-05-18T01:36:17.628548Z"
    },
    "papermill": {
     "duration": 0.125423,
     "end_time": "2021-05-18T01:36:17.628692",
     "exception": false,
     "start_time": "2021-05-18T01:36:17.503269",
     "status": "completed"
    },
    "tags": []
   },
   "outputs": [],
   "source": [
    "df_train = df_train_f.drop(['user.description', \"user.location\", \"user.name\", \"user.screen_name\", \"split\"], axis=1)\n",
    "df_valid = df_valid_f.drop(['user.description', \"user.location\", \"user.name\", \"user.screen_name\", \"split\"], axis=1)\n",
    "df_test = df_test_f.drop(['user.description', \"user.location\", \"user.name\", \"user.screen_name\", \"split\"], axis=1)"
   ]
  },
  {
   "cell_type": "code",
   "execution_count": 10,
   "metadata": {
    "execution": {
     "iopub.execute_input": "2021-05-18T01:36:17.742587Z",
     "iopub.status.busy": "2021-05-18T01:36:17.740825Z",
     "iopub.status.idle": "2021-05-18T01:36:17.743220Z",
     "shell.execute_reply": "2021-05-18T01:36:17.743639Z"
    },
    "papermill": {
     "duration": 0.060622,
     "end_time": "2021-05-18T01:36:17.743745",
     "exception": false,
     "start_time": "2021-05-18T01:36:17.683123",
     "status": "completed"
    },
    "tags": []
   },
   "outputs": [],
   "source": [
    "# FOR TESING OUT CODE PURPOSE ONLY. REMOVE ONCE ALL IS WORKING. \n",
    "#df_train = df_train[:2000]\n",
    "#df_valid = df_valid[:2000]\n",
    "#df_test = df_test[:2000]\n"
   ]
  },
  {
   "cell_type": "code",
   "execution_count": 11,
   "metadata": {
    "execution": {
     "iopub.execute_input": "2021-05-18T01:36:17.857442Z",
     "iopub.status.busy": "2021-05-18T01:36:17.856825Z",
     "iopub.status.idle": "2021-05-18T01:36:21.104542Z",
     "shell.execute_reply": "2021-05-18T01:36:21.103588Z"
    },
    "papermill": {
     "duration": 3.306851,
     "end_time": "2021-05-18T01:36:21.104655",
     "exception": false,
     "start_time": "2021-05-18T01:36:17.797804",
     "status": "completed"
    },
    "tags": []
   },
   "outputs": [],
   "source": [
    "import numpy as np\n",
    "import pandas as pd\n",
    "import torch\n",
    "import transformers as ppb # pytorch transformers\n",
    "from sklearn.linear_model import LogisticRegression\n",
    "from sklearn.model_selection import cross_val_score\n",
    "from sklearn.model_selection import train_test_split\n",
    "from numba import cuda \n",
    "import gc\n",
    "\n",
    "from sklearn.metrics import roc_auc_score\n",
    "from sklearn.metrics import roc_curve"
   ]
  },
  {
   "cell_type": "markdown",
   "metadata": {
    "papermill": {
     "duration": 0.054417,
     "end_time": "2021-05-18T01:36:21.213819",
     "exception": false,
     "start_time": "2021-05-18T01:36:21.159402",
     "status": "completed"
    },
    "tags": []
   },
   "source": [
    "### Load in Model and Tokenizer"
   ]
  },
  {
   "cell_type": "code",
   "execution_count": 12,
   "metadata": {
    "execution": {
     "iopub.execute_input": "2021-05-18T01:36:21.329688Z",
     "iopub.status.busy": "2021-05-18T01:36:21.328827Z",
     "iopub.status.idle": "2021-05-18T01:36:22.428676Z",
     "shell.execute_reply": "2021-05-18T01:36:22.429437Z"
    },
    "papermill": {
     "duration": 1.160511,
     "end_time": "2021-05-18T01:36:22.429623",
     "exception": false,
     "start_time": "2021-05-18T01:36:21.269112",
     "status": "completed"
    },
    "tags": []
   },
   "outputs": [
    {
     "data": {
      "application/vnd.jupyter.widget-view+json": {
       "model_id": "6576bebb987840bea815127bb7d0f8b3",
       "version_major": 2,
       "version_minor": 0
      },
      "text/plain": [
       "HBox(children=(FloatProgress(value=0.0, description='Downloading', max=995526.0, style=ProgressStyle(descripti…"
      ]
     },
     "metadata": {},
     "output_type": "display_data"
    },
    {
     "name": "stdout",
     "output_type": "stream",
     "text": [
      "\n"
     ]
    }
   ],
   "source": [
    "model_class, tokenizer_class, pretrained_weights = (ppb.BertModel, ppb.BertTokenizer, 'bert-base-multilingual-cased')\n",
    "\n",
    "# Load pretrained model/tokenizer\n",
    "tokenizer = tokenizer_class.from_pretrained(pretrained_weights)\n",
    "#model = model_class.from_pretrained(pretrained_weights)"
   ]
  },
  {
   "cell_type": "code",
   "execution_count": 13,
   "metadata": {
    "execution": {
     "iopub.execute_input": "2021-05-18T01:36:22.728373Z",
     "iopub.status.busy": "2021-05-18T01:36:22.726568Z",
     "iopub.status.idle": "2021-05-18T01:36:22.728999Z",
     "shell.execute_reply": "2021-05-18T01:36:22.729431Z"
    },
    "papermill": {
     "duration": 0.237548,
     "end_time": "2021-05-18T01:36:22.729550",
     "exception": false,
     "start_time": "2021-05-18T01:36:22.492002",
     "status": "completed"
    },
    "tags": []
   },
   "outputs": [],
   "source": [
    "gc.collect()\n",
    "torch.cuda.empty_cache()"
   ]
  },
  {
   "cell_type": "code",
   "execution_count": 14,
   "metadata": {
    "execution": {
     "iopub.execute_input": "2021-05-18T01:36:22.847222Z",
     "iopub.status.busy": "2021-05-18T01:36:22.846469Z",
     "iopub.status.idle": "2021-05-18T01:36:22.849303Z",
     "shell.execute_reply": "2021-05-18T01:36:22.848893Z"
    },
    "papermill": {
     "duration": 0.064453,
     "end_time": "2021-05-18T01:36:22.849409",
     "exception": false,
     "start_time": "2021-05-18T01:36:22.784956",
     "status": "completed"
    },
    "tags": []
   },
   "outputs": [],
   "source": [
    "# Get the lists of sentences and their labels.\n",
    "sentences_train = df_train.text.values\n",
    "train_labels = df_train.suspended.values\n",
    "ids_train = df_train.id.values\n",
    "\n",
    "sentences_valid = df_valid.text.values\n",
    "validation_labels = df_valid.suspended.values\n",
    "ids_validation = df_valid.id.values\n",
    "\n",
    "sentences_test = df_test.text.values\n",
    "test_labels = df_test.suspended.values\n",
    "ids_test = df_test.id.values"
   ]
  },
  {
   "cell_type": "code",
   "execution_count": 15,
   "metadata": {
    "execution": {
     "iopub.execute_input": "2021-05-18T01:36:22.968888Z",
     "iopub.status.busy": "2021-05-18T01:36:22.967373Z",
     "iopub.status.idle": "2021-05-18T01:36:22.973632Z",
     "shell.execute_reply": "2021-05-18T01:36:22.973030Z"
    },
    "papermill": {
     "duration": 0.06941,
     "end_time": "2021-05-18T01:36:22.973762",
     "exception": false,
     "start_time": "2021-05-18T01:36:22.904352",
     "status": "completed"
    },
    "tags": []
   },
   "outputs": [
    {
     "name": "stdout",
     "output_type": "stream",
     "text": [
      "Train: 81286 Valid: 27835 Test 20518\n"
     ]
    }
   ],
   "source": [
    "print(\"Train:\", len(sentences_train), \"Valid:\", len(sentences_valid), \"Test\", len(sentences_test))"
   ]
  },
  {
   "cell_type": "markdown",
   "metadata": {
    "papermill": {
     "duration": 0.055612,
     "end_time": "2021-05-18T01:36:23.085408",
     "exception": false,
     "start_time": "2021-05-18T01:36:23.029796",
     "status": "completed"
    },
    "tags": []
   },
   "source": [
    "To feed our text to BERT, it must be split into tokens, and then these tokens must be mapped to their index in the tokenizer vocabulary.\n",
    "\n",
    "The tokenization must be performed by the tokenizer included with BERT–the below cell will download this for us."
   ]
  },
  {
   "cell_type": "code",
   "execution_count": 16,
   "metadata": {
    "execution": {
     "iopub.execute_input": "2021-05-18T01:36:23.203388Z",
     "iopub.status.busy": "2021-05-18T01:36:23.202841Z",
     "iopub.status.idle": "2021-05-18T01:36:23.696667Z",
     "shell.execute_reply": "2021-05-18T01:36:23.696054Z"
    },
    "papermill": {
     "duration": 0.555721,
     "end_time": "2021-05-18T01:36:23.696828",
     "exception": false,
     "start_time": "2021-05-18T01:36:23.141107",
     "status": "completed"
    },
    "tags": []
   },
   "outputs": [
    {
     "name": "stdout",
     "output_type": "stream",
     "text": [
      "Loading BERT tokenizer...\n"
     ]
    }
   ],
   "source": [
    "from transformers import BertTokenizer\n",
    "# Load the BERT tokenizer.\n",
    "print('Loading BERT tokenizer...')\n",
    "tokenizer = BertTokenizer.from_pretrained('bert-base-multilingual-cased', do_lower_case=True)"
   ]
  },
  {
   "cell_type": "markdown",
   "metadata": {
    "papermill": {
     "duration": 0.092065,
     "end_time": "2021-05-18T01:36:23.881313",
     "exception": false,
     "start_time": "2021-05-18T01:36:23.789248",
     "status": "completed"
    },
    "tags": []
   },
   "source": [
    "The tokenizer.encode function combines multiple steps for us:\n",
    "- Split the sentence into tokens.\n",
    "- Add the special [CLS] and [SEP] tokens.\n",
    "- Map the tokens to their IDs.\n",
    "\n",
    "Oddly, this function can perform truncating for us, but doesn’t handle padding."
   ]
  },
  {
   "cell_type": "markdown",
   "metadata": {
    "papermill": {
     "duration": 0.056568,
     "end_time": "2021-05-18T01:36:23.997494",
     "exception": false,
     "start_time": "2021-05-18T01:36:23.940926",
     "status": "completed"
    },
    "tags": []
   },
   "source": [
    "### Prep Data for Model"
   ]
  },
  {
   "cell_type": "code",
   "execution_count": 17,
   "metadata": {
    "execution": {
     "iopub.execute_input": "2021-05-18T01:36:24.116824Z",
     "iopub.status.busy": "2021-05-18T01:36:24.116103Z",
     "iopub.status.idle": "2021-05-18T01:36:24.119830Z",
     "shell.execute_reply": "2021-05-18T01:36:24.119410Z"
    },
    "papermill": {
     "duration": 0.066041,
     "end_time": "2021-05-18T01:36:24.119923",
     "exception": false,
     "start_time": "2021-05-18T01:36:24.053882",
     "status": "completed"
    },
    "tags": []
   },
   "outputs": [],
   "source": [
    "def sent_to_ids(sentences): \n",
    "    # Tokenize all of the sentences and map the tokens to thier word IDs.\n",
    "    input_ids = []\n",
    "    # For every sentence...\n",
    "    for sent in sentences:\n",
    "        # `encode` will:\n",
    "        #   (1) Tokenize the sentence.\n",
    "        #   (2) Prepend the `[CLS]` token to the start.\n",
    "        #   (3) Append the `[SEP]` token to the end.\n",
    "        #   (4) Map tokens to their IDs.\n",
    "        encoded_sent = tokenizer.encode(\n",
    "            sent,                      # Sentence to encode.\n",
    "            add_special_tokens = True, # Add '[CLS]' and '[SEP]'\n",
    "            # This function also supports truncation and conversion\n",
    "            # to pytorch tensors, but we need to do padding, so we\n",
    "            # can't use these features :( .\n",
    "            #max_length = 128,          # Truncate all sentences.\n",
    "            #return_tensors = 'pt',     # Return pytorch tensors.\n",
    "        )\n",
    "        # Add the encoded sentence to the list.\n",
    "        input_ids.append(encoded_sent)\n",
    "        # Pad and truncate our sequences so that they all have the same length\n",
    "    input_ids = pad_sequences(input_ids, maxlen=120, dtype=\"long\", \n",
    "                            value=0, truncating=\"post\", padding=\"post\")\n",
    "    return input_ids"
   ]
  },
  {
   "cell_type": "code",
   "execution_count": 18,
   "metadata": {
    "execution": {
     "iopub.execute_input": "2021-05-18T01:36:24.290201Z",
     "iopub.status.busy": "2021-05-18T01:36:24.274902Z",
     "iopub.status.idle": "2021-05-18T01:37:17.180209Z",
     "shell.execute_reply": "2021-05-18T01:37:17.179714Z"
    },
    "papermill": {
     "duration": 53.00225,
     "end_time": "2021-05-18T01:37:17.180328",
     "exception": false,
     "start_time": "2021-05-18T01:36:24.178078",
     "status": "completed"
    },
    "tags": []
   },
   "outputs": [],
   "source": [
    "train_inputs = sent_to_ids(sentences_train)"
   ]
  },
  {
   "cell_type": "code",
   "execution_count": 19,
   "metadata": {
    "execution": {
     "iopub.execute_input": "2021-05-18T01:37:17.347867Z",
     "iopub.status.busy": "2021-05-18T01:37:17.332521Z",
     "iopub.status.idle": "2021-05-18T01:37:36.119422Z",
     "shell.execute_reply": "2021-05-18T01:37:36.119870Z"
    },
    "papermill": {
     "duration": 18.88251,
     "end_time": "2021-05-18T01:37:36.120009",
     "exception": false,
     "start_time": "2021-05-18T01:37:17.237499",
     "status": "completed"
    },
    "tags": []
   },
   "outputs": [],
   "source": [
    "validation_inputs = sent_to_ids(sentences_valid)"
   ]
  },
  {
   "cell_type": "code",
   "execution_count": 20,
   "metadata": {
    "execution": {
     "iopub.execute_input": "2021-05-18T01:37:36.292147Z",
     "iopub.status.busy": "2021-05-18T01:37:36.276907Z",
     "iopub.status.idle": "2021-05-18T01:37:49.006851Z",
     "shell.execute_reply": "2021-05-18T01:37:49.005870Z"
    },
    "papermill": {
     "duration": 12.829819,
     "end_time": "2021-05-18T01:37:49.006971",
     "exception": false,
     "start_time": "2021-05-18T01:37:36.177152",
     "status": "completed"
    },
    "tags": []
   },
   "outputs": [],
   "source": [
    "test_inputs = sent_to_ids(sentences_test)"
   ]
  },
  {
   "cell_type": "code",
   "execution_count": 21,
   "metadata": {
    "execution": {
     "iopub.execute_input": "2021-05-18T01:37:49.128004Z",
     "iopub.status.busy": "2021-05-18T01:37:49.127139Z",
     "iopub.status.idle": "2021-05-18T01:37:49.130481Z",
     "shell.execute_reply": "2021-05-18T01:37:49.130019Z"
    },
    "papermill": {
     "duration": 0.066308,
     "end_time": "2021-05-18T01:37:49.130571",
     "exception": false,
     "start_time": "2021-05-18T01:37:49.064263",
     "status": "completed"
    },
    "tags": []
   },
   "outputs": [
    {
     "name": "stdout",
     "output_type": "stream",
     "text": [
      "Train: 81286 Valid: 27835 Test 20518\n"
     ]
    }
   ],
   "source": [
    "print(\"Train:\", len(train_inputs), \"Valid:\", len(validation_inputs), \"Test\", len(test_inputs))"
   ]
  },
  {
   "cell_type": "code",
   "execution_count": 22,
   "metadata": {
    "execution": {
     "iopub.execute_input": "2021-05-18T01:37:49.249847Z",
     "iopub.status.busy": "2021-05-18T01:37:49.249115Z",
     "iopub.status.idle": "2021-05-18T01:37:49.251447Z",
     "shell.execute_reply": "2021-05-18T01:37:49.251937Z"
    },
    "papermill": {
     "duration": 0.064509,
     "end_time": "2021-05-18T01:37:49.252042",
     "exception": false,
     "start_time": "2021-05-18T01:37:49.187533",
     "status": "completed"
    },
    "tags": []
   },
   "outputs": [],
   "source": [
    "def get_attn_msks(input_ids):\n",
    "  # Create attention masks\n",
    "    attention_masks = []\n",
    "  # For each sentence...\n",
    "    for sent in input_ids:\n",
    "        # Create the attention mask.\n",
    "        #   - If a token ID is 0, then it's padding, set the mask to 0.\n",
    "        #   - If a token ID is > 0, then it's a real token, set the mask to 1.\n",
    "        att_mask = [int(token_id > 0) for token_id in sent]\n",
    "      \n",
    "        # Store the attention mask for this sentence.\n",
    "        attention_masks.append(att_mask)\n",
    "    return attention_masks"
   ]
  },
  {
   "cell_type": "code",
   "execution_count": 23,
   "metadata": {
    "execution": {
     "iopub.execute_input": "2021-05-18T01:37:49.388791Z",
     "iopub.status.busy": "2021-05-18T01:37:49.373551Z",
     "iopub.status.idle": "2021-05-18T01:37:58.376373Z",
     "shell.execute_reply": "2021-05-18T01:37:58.375700Z"
    },
    "papermill": {
     "duration": 9.067453,
     "end_time": "2021-05-18T01:37:58.376475",
     "exception": false,
     "start_time": "2021-05-18T01:37:49.309022",
     "status": "completed"
    },
    "tags": []
   },
   "outputs": [],
   "source": [
    "train_masks = get_attn_msks(train_inputs)"
   ]
  },
  {
   "cell_type": "code",
   "execution_count": 24,
   "metadata": {
    "execution": {
     "iopub.execute_input": "2021-05-18T01:37:58.508304Z",
     "iopub.status.busy": "2021-05-18T01:37:58.498127Z",
     "iopub.status.idle": "2021-05-18T01:38:01.540262Z",
     "shell.execute_reply": "2021-05-18T01:38:01.539801Z"
    },
    "papermill": {
     "duration": 3.10661,
     "end_time": "2021-05-18T01:38:01.540380",
     "exception": false,
     "start_time": "2021-05-18T01:37:58.433770",
     "status": "completed"
    },
    "tags": []
   },
   "outputs": [],
   "source": [
    "validation_masks = get_attn_msks(validation_inputs)"
   ]
  },
  {
   "cell_type": "code",
   "execution_count": 25,
   "metadata": {
    "execution": {
     "iopub.execute_input": "2021-05-18T01:38:01.673584Z",
     "iopub.status.busy": "2021-05-18T01:38:01.668516Z",
     "iopub.status.idle": "2021-05-18T01:38:04.824524Z",
     "shell.execute_reply": "2021-05-18T01:38:04.823503Z"
    },
    "papermill": {
     "duration": 3.226453,
     "end_time": "2021-05-18T01:38:04.824671",
     "exception": false,
     "start_time": "2021-05-18T01:38:01.598218",
     "status": "completed"
    },
    "tags": []
   },
   "outputs": [],
   "source": [
    "test_masks = get_attn_msks(test_inputs)"
   ]
  },
  {
   "cell_type": "markdown",
   "metadata": {
    "papermill": {
     "duration": 0.057027,
     "end_time": "2021-05-18T01:38:04.939042",
     "exception": false,
     "start_time": "2021-05-18T01:38:04.882015",
     "status": "completed"
    },
    "tags": []
   },
   "source": [
    "Converting to PyTorch Data Types\n",
    "\n",
    "Our model expects PyTorch tensors rather than numpy.ndarrays, so convert all of our dataset variables."
   ]
  },
  {
   "cell_type": "code",
   "execution_count": 26,
   "metadata": {
    "execution": {
     "iopub.execute_input": "2021-05-18T01:38:05.065743Z",
     "iopub.status.busy": "2021-05-18T01:38:05.065167Z",
     "iopub.status.idle": "2021-05-18T01:38:06.339092Z",
     "shell.execute_reply": "2021-05-18T01:38:06.338599Z"
    },
    "papermill": {
     "duration": 1.34304,
     "end_time": "2021-05-18T01:38:06.339189",
     "exception": false,
     "start_time": "2021-05-18T01:38:04.996149",
     "status": "completed"
    },
    "tags": []
   },
   "outputs": [],
   "source": [
    "# Convert all inputs and labels into torch tensors, the required datatype \n",
    "# for our model.\n",
    "train_inputs = torch.tensor(train_inputs)\n",
    "validation_inputs = torch.tensor(validation_inputs)\n",
    "train_labels = torch.tensor(train_labels)\n",
    "validation_labels = torch.tensor(validation_labels)\n",
    "train_masks = torch.tensor(train_masks)\n",
    "validation_masks = torch.tensor(validation_masks)\n",
    "\n",
    "train_ids = torch.tensor(ids_train)\n",
    "valid_ids = torch.tensor(ids_validation)"
   ]
  },
  {
   "cell_type": "code",
   "execution_count": 27,
   "metadata": {
    "execution": {
     "iopub.execute_input": "2021-05-18T01:38:06.463064Z",
     "iopub.status.busy": "2021-05-18T01:38:06.462325Z",
     "iopub.status.idle": "2021-05-18T01:38:06.465296Z",
     "shell.execute_reply": "2021-05-18T01:38:06.463557Z"
    },
    "papermill": {
     "duration": 0.067794,
     "end_time": "2021-05-18T01:38:06.465431",
     "exception": false,
     "start_time": "2021-05-18T01:38:06.397637",
     "status": "completed"
    },
    "tags": []
   },
   "outputs": [
    {
     "name": "stdout",
     "output_type": "stream",
     "text": [
      "Train: 81286 Valid: 27835 Test 20518\n"
     ]
    }
   ],
   "source": [
    "print(\"Train:\", len(train_inputs), \"Valid:\", len(validation_inputs), \"Test\", len(test_inputs))"
   ]
  },
  {
   "cell_type": "markdown",
   "metadata": {
    "papermill": {
     "duration": 0.058043,
     "end_time": "2021-05-18T01:38:06.583097",
     "exception": false,
     "start_time": "2021-05-18T01:38:06.525054",
     "status": "completed"
    },
    "tags": []
   },
   "source": [
    "We’ll also create an iterator for our dataset using the torch DataLoader class. This helps save on memory during training because, unlike a for loop, with an iterator the entire dataset does not need to be loaded into memory."
   ]
  },
  {
   "cell_type": "code",
   "execution_count": 28,
   "metadata": {
    "execution": {
     "iopub.execute_input": "2021-05-18T01:38:06.709150Z",
     "iopub.status.busy": "2021-05-18T01:38:06.708509Z",
     "iopub.status.idle": "2021-05-18T01:38:06.711840Z",
     "shell.execute_reply": "2021-05-18T01:38:06.711424Z"
    },
    "papermill": {
     "duration": 0.070712,
     "end_time": "2021-05-18T01:38:06.711931",
     "exception": false,
     "start_time": "2021-05-18T01:38:06.641219",
     "status": "completed"
    },
    "tags": []
   },
   "outputs": [],
   "source": [
    "from torch.utils.data import TensorDataset, DataLoader, RandomSampler, SequentialSampler\n",
    "# The DataLoader needs to know our batch size for training, so we specify it \n",
    "# here.\n",
    "# For fine-tuning BERT on a specific task, the authors recommend a batch size of\n",
    "# 16 or 32.\n",
    "batch_size = 16 # try 32, and then move down to 16 and 8. \n",
    "# Create the DataLoader for our training set.\n",
    "train_data = TensorDataset(train_inputs, train_masks, train_labels, train_ids)\n",
    "train_sampler = RandomSampler(train_data) # CHANGE TO SEQUENTIAL (TRAIN_SEQUENTIAL_SAMPLER - BUT DO SEQUENTIALLY FOR HIDDEN STATES)\n",
    "train_dataloader = DataLoader(train_data, sampler=train_sampler, batch_size=batch_size)\n",
    "# Create the DataLoader for our validation set.\n",
    "validation_data = TensorDataset(validation_inputs, validation_masks, validation_labels, valid_ids)\n",
    "validation_sampler = SequentialSampler(validation_data)\n",
    "validation_dataloader = DataLoader(validation_data, sampler=validation_sampler, batch_size=batch_size)\n",
    "\n",
    "# Create the DataLoader for our training set for the embedding extraction.\n",
    "train_sampler_sequential = SequentialSampler(train_data) # CHANGE TO SEQUENTIAL (TRAIN_SEQUENTIAL_SAMPLER - BUT DO SEQUENTIALLY FOR HIDDEN STATES)\n",
    "train_dataloader_sequential = DataLoader(train_data, sampler=train_sampler_sequential, batch_size=batch_size)"
   ]
  },
  {
   "cell_type": "markdown",
   "metadata": {
    "papermill": {
     "duration": 0.057965,
     "end_time": "2021-05-18T01:38:06.827999",
     "exception": false,
     "start_time": "2021-05-18T01:38:06.770034",
     "status": "completed"
    },
    "tags": []
   },
   "source": [
    "Now that our input data is properly formatted, it’s time to fine tune the BERT model.\n",
    "\n",
    "For this task, we first want to modify the pre-trained BERT model to give outputs for classification, and then we want to continue training the model on our dataset until that the entire model, end-to-end, is well-suited for our task.\n",
    "\n",
    "Thankfully, the huggingface pytorch implementation includes a set of interfaces designed for a variety of NLP tasks. Though these interfaces are all built on top of a trained BERT model, each has different top layers and output types designed to accomodate their specific NLP task.\n",
    "\n",
    "We’ll be using Bert Classification Model.This is the normal BERT model with an added single linear layer on top for classification that we will use as a sentence classifier. As we feed input data, the entire pre-trained BERT model and the additional untrained classification layer is trained on our specific task.\n"
   ]
  },
  {
   "cell_type": "code",
   "execution_count": 29,
   "metadata": {
    "execution": {
     "iopub.execute_input": "2021-05-18T01:38:06.951922Z",
     "iopub.status.busy": "2021-05-18T01:38:06.951374Z",
     "iopub.status.idle": "2021-05-18T01:38:49.205292Z",
     "shell.execute_reply": "2021-05-18T01:38:49.204772Z"
    },
    "papermill": {
     "duration": 42.319501,
     "end_time": "2021-05-18T01:38:49.205413",
     "exception": false,
     "start_time": "2021-05-18T01:38:06.885912",
     "status": "completed"
    },
    "tags": []
   },
   "outputs": [
    {
     "data": {
      "application/vnd.jupyter.widget-view+json": {
       "model_id": "223c8a40556643d9a313a7748bec0424",
       "version_major": 2,
       "version_minor": 0
      },
      "text/plain": [
       "HBox(children=(FloatProgress(value=0.0, description='Downloading', max=625.0, style=ProgressStyle(description_…"
      ]
     },
     "metadata": {},
     "output_type": "display_data"
    },
    {
     "name": "stdout",
     "output_type": "stream",
     "text": [
      "\n"
     ]
    },
    {
     "data": {
      "application/vnd.jupyter.widget-view+json": {
       "model_id": "0d65b4d3db7d4280bab70514e87e5b1e",
       "version_major": 2,
       "version_minor": 0
      },
      "text/plain": [
       "HBox(children=(FloatProgress(value=0.0, description='Downloading', max=714314041.0, style=ProgressStyle(descri…"
      ]
     },
     "metadata": {},
     "output_type": "display_data"
    },
    {
     "name": "stdout",
     "output_type": "stream",
     "text": [
      "\n"
     ]
    },
    {
     "name": "stderr",
     "output_type": "stream",
     "text": [
      "Some weights of the model checkpoint at bert-base-multilingual-cased were not used when initializing BertForSequenceClassification: ['cls.predictions.bias', 'cls.predictions.transform.dense.weight', 'cls.predictions.transform.dense.bias', 'cls.predictions.decoder.weight', 'cls.seq_relationship.weight', 'cls.seq_relationship.bias', 'cls.predictions.transform.LayerNorm.weight', 'cls.predictions.transform.LayerNorm.bias']\n",
      "- This IS expected if you are initializing BertForSequenceClassification from the checkpoint of a model trained on another task or with another architecture (e.g. initializing a BertForSequenceClassification model from a BertForPreTraining model).\n",
      "- This IS NOT expected if you are initializing BertForSequenceClassification from the checkpoint of a model that you expect to be exactly identical (initializing a BertForSequenceClassification model from a BertForSequenceClassification model).\n",
      "Some weights of BertForSequenceClassification were not initialized from the model checkpoint at bert-base-multilingual-cased and are newly initialized: ['classifier.weight', 'classifier.bias']\n",
      "You should probably TRAIN this model on a down-stream task to be able to use it for predictions and inference.\n"
     ]
    },
    {
     "data": {
      "text/plain": [
       "BertForSequenceClassification(\n",
       "  (bert): BertModel(\n",
       "    (embeddings): BertEmbeddings(\n",
       "      (word_embeddings): Embedding(119547, 768, padding_idx=0)\n",
       "      (position_embeddings): Embedding(512, 768)\n",
       "      (token_type_embeddings): Embedding(2, 768)\n",
       "      (LayerNorm): LayerNorm((768,), eps=1e-12, elementwise_affine=True)\n",
       "      (dropout): Dropout(p=0.1, inplace=False)\n",
       "    )\n",
       "    (encoder): BertEncoder(\n",
       "      (layer): ModuleList(\n",
       "        (0): BertLayer(\n",
       "          (attention): BertAttention(\n",
       "            (self): BertSelfAttention(\n",
       "              (query): Linear(in_features=768, out_features=768, bias=True)\n",
       "              (key): Linear(in_features=768, out_features=768, bias=True)\n",
       "              (value): Linear(in_features=768, out_features=768, bias=True)\n",
       "              (dropout): Dropout(p=0.1, inplace=False)\n",
       "            )\n",
       "            (output): BertSelfOutput(\n",
       "              (dense): Linear(in_features=768, out_features=768, bias=True)\n",
       "              (LayerNorm): LayerNorm((768,), eps=1e-12, elementwise_affine=True)\n",
       "              (dropout): Dropout(p=0.1, inplace=False)\n",
       "            )\n",
       "          )\n",
       "          (intermediate): BertIntermediate(\n",
       "            (dense): Linear(in_features=768, out_features=3072, bias=True)\n",
       "          )\n",
       "          (output): BertOutput(\n",
       "            (dense): Linear(in_features=3072, out_features=768, bias=True)\n",
       "            (LayerNorm): LayerNorm((768,), eps=1e-12, elementwise_affine=True)\n",
       "            (dropout): Dropout(p=0.1, inplace=False)\n",
       "          )\n",
       "        )\n",
       "        (1): BertLayer(\n",
       "          (attention): BertAttention(\n",
       "            (self): BertSelfAttention(\n",
       "              (query): Linear(in_features=768, out_features=768, bias=True)\n",
       "              (key): Linear(in_features=768, out_features=768, bias=True)\n",
       "              (value): Linear(in_features=768, out_features=768, bias=True)\n",
       "              (dropout): Dropout(p=0.1, inplace=False)\n",
       "            )\n",
       "            (output): BertSelfOutput(\n",
       "              (dense): Linear(in_features=768, out_features=768, bias=True)\n",
       "              (LayerNorm): LayerNorm((768,), eps=1e-12, elementwise_affine=True)\n",
       "              (dropout): Dropout(p=0.1, inplace=False)\n",
       "            )\n",
       "          )\n",
       "          (intermediate): BertIntermediate(\n",
       "            (dense): Linear(in_features=768, out_features=3072, bias=True)\n",
       "          )\n",
       "          (output): BertOutput(\n",
       "            (dense): Linear(in_features=3072, out_features=768, bias=True)\n",
       "            (LayerNorm): LayerNorm((768,), eps=1e-12, elementwise_affine=True)\n",
       "            (dropout): Dropout(p=0.1, inplace=False)\n",
       "          )\n",
       "        )\n",
       "        (2): BertLayer(\n",
       "          (attention): BertAttention(\n",
       "            (self): BertSelfAttention(\n",
       "              (query): Linear(in_features=768, out_features=768, bias=True)\n",
       "              (key): Linear(in_features=768, out_features=768, bias=True)\n",
       "              (value): Linear(in_features=768, out_features=768, bias=True)\n",
       "              (dropout): Dropout(p=0.1, inplace=False)\n",
       "            )\n",
       "            (output): BertSelfOutput(\n",
       "              (dense): Linear(in_features=768, out_features=768, bias=True)\n",
       "              (LayerNorm): LayerNorm((768,), eps=1e-12, elementwise_affine=True)\n",
       "              (dropout): Dropout(p=0.1, inplace=False)\n",
       "            )\n",
       "          )\n",
       "          (intermediate): BertIntermediate(\n",
       "            (dense): Linear(in_features=768, out_features=3072, bias=True)\n",
       "          )\n",
       "          (output): BertOutput(\n",
       "            (dense): Linear(in_features=3072, out_features=768, bias=True)\n",
       "            (LayerNorm): LayerNorm((768,), eps=1e-12, elementwise_affine=True)\n",
       "            (dropout): Dropout(p=0.1, inplace=False)\n",
       "          )\n",
       "        )\n",
       "        (3): BertLayer(\n",
       "          (attention): BertAttention(\n",
       "            (self): BertSelfAttention(\n",
       "              (query): Linear(in_features=768, out_features=768, bias=True)\n",
       "              (key): Linear(in_features=768, out_features=768, bias=True)\n",
       "              (value): Linear(in_features=768, out_features=768, bias=True)\n",
       "              (dropout): Dropout(p=0.1, inplace=False)\n",
       "            )\n",
       "            (output): BertSelfOutput(\n",
       "              (dense): Linear(in_features=768, out_features=768, bias=True)\n",
       "              (LayerNorm): LayerNorm((768,), eps=1e-12, elementwise_affine=True)\n",
       "              (dropout): Dropout(p=0.1, inplace=False)\n",
       "            )\n",
       "          )\n",
       "          (intermediate): BertIntermediate(\n",
       "            (dense): Linear(in_features=768, out_features=3072, bias=True)\n",
       "          )\n",
       "          (output): BertOutput(\n",
       "            (dense): Linear(in_features=3072, out_features=768, bias=True)\n",
       "            (LayerNorm): LayerNorm((768,), eps=1e-12, elementwise_affine=True)\n",
       "            (dropout): Dropout(p=0.1, inplace=False)\n",
       "          )\n",
       "        )\n",
       "        (4): BertLayer(\n",
       "          (attention): BertAttention(\n",
       "            (self): BertSelfAttention(\n",
       "              (query): Linear(in_features=768, out_features=768, bias=True)\n",
       "              (key): Linear(in_features=768, out_features=768, bias=True)\n",
       "              (value): Linear(in_features=768, out_features=768, bias=True)\n",
       "              (dropout): Dropout(p=0.1, inplace=False)\n",
       "            )\n",
       "            (output): BertSelfOutput(\n",
       "              (dense): Linear(in_features=768, out_features=768, bias=True)\n",
       "              (LayerNorm): LayerNorm((768,), eps=1e-12, elementwise_affine=True)\n",
       "              (dropout): Dropout(p=0.1, inplace=False)\n",
       "            )\n",
       "          )\n",
       "          (intermediate): BertIntermediate(\n",
       "            (dense): Linear(in_features=768, out_features=3072, bias=True)\n",
       "          )\n",
       "          (output): BertOutput(\n",
       "            (dense): Linear(in_features=3072, out_features=768, bias=True)\n",
       "            (LayerNorm): LayerNorm((768,), eps=1e-12, elementwise_affine=True)\n",
       "            (dropout): Dropout(p=0.1, inplace=False)\n",
       "          )\n",
       "        )\n",
       "        (5): BertLayer(\n",
       "          (attention): BertAttention(\n",
       "            (self): BertSelfAttention(\n",
       "              (query): Linear(in_features=768, out_features=768, bias=True)\n",
       "              (key): Linear(in_features=768, out_features=768, bias=True)\n",
       "              (value): Linear(in_features=768, out_features=768, bias=True)\n",
       "              (dropout): Dropout(p=0.1, inplace=False)\n",
       "            )\n",
       "            (output): BertSelfOutput(\n",
       "              (dense): Linear(in_features=768, out_features=768, bias=True)\n",
       "              (LayerNorm): LayerNorm((768,), eps=1e-12, elementwise_affine=True)\n",
       "              (dropout): Dropout(p=0.1, inplace=False)\n",
       "            )\n",
       "          )\n",
       "          (intermediate): BertIntermediate(\n",
       "            (dense): Linear(in_features=768, out_features=3072, bias=True)\n",
       "          )\n",
       "          (output): BertOutput(\n",
       "            (dense): Linear(in_features=3072, out_features=768, bias=True)\n",
       "            (LayerNorm): LayerNorm((768,), eps=1e-12, elementwise_affine=True)\n",
       "            (dropout): Dropout(p=0.1, inplace=False)\n",
       "          )\n",
       "        )\n",
       "        (6): BertLayer(\n",
       "          (attention): BertAttention(\n",
       "            (self): BertSelfAttention(\n",
       "              (query): Linear(in_features=768, out_features=768, bias=True)\n",
       "              (key): Linear(in_features=768, out_features=768, bias=True)\n",
       "              (value): Linear(in_features=768, out_features=768, bias=True)\n",
       "              (dropout): Dropout(p=0.1, inplace=False)\n",
       "            )\n",
       "            (output): BertSelfOutput(\n",
       "              (dense): Linear(in_features=768, out_features=768, bias=True)\n",
       "              (LayerNorm): LayerNorm((768,), eps=1e-12, elementwise_affine=True)\n",
       "              (dropout): Dropout(p=0.1, inplace=False)\n",
       "            )\n",
       "          )\n",
       "          (intermediate): BertIntermediate(\n",
       "            (dense): Linear(in_features=768, out_features=3072, bias=True)\n",
       "          )\n",
       "          (output): BertOutput(\n",
       "            (dense): Linear(in_features=3072, out_features=768, bias=True)\n",
       "            (LayerNorm): LayerNorm((768,), eps=1e-12, elementwise_affine=True)\n",
       "            (dropout): Dropout(p=0.1, inplace=False)\n",
       "          )\n",
       "        )\n",
       "        (7): BertLayer(\n",
       "          (attention): BertAttention(\n",
       "            (self): BertSelfAttention(\n",
       "              (query): Linear(in_features=768, out_features=768, bias=True)\n",
       "              (key): Linear(in_features=768, out_features=768, bias=True)\n",
       "              (value): Linear(in_features=768, out_features=768, bias=True)\n",
       "              (dropout): Dropout(p=0.1, inplace=False)\n",
       "            )\n",
       "            (output): BertSelfOutput(\n",
       "              (dense): Linear(in_features=768, out_features=768, bias=True)\n",
       "              (LayerNorm): LayerNorm((768,), eps=1e-12, elementwise_affine=True)\n",
       "              (dropout): Dropout(p=0.1, inplace=False)\n",
       "            )\n",
       "          )\n",
       "          (intermediate): BertIntermediate(\n",
       "            (dense): Linear(in_features=768, out_features=3072, bias=True)\n",
       "          )\n",
       "          (output): BertOutput(\n",
       "            (dense): Linear(in_features=3072, out_features=768, bias=True)\n",
       "            (LayerNorm): LayerNorm((768,), eps=1e-12, elementwise_affine=True)\n",
       "            (dropout): Dropout(p=0.1, inplace=False)\n",
       "          )\n",
       "        )\n",
       "        (8): BertLayer(\n",
       "          (attention): BertAttention(\n",
       "            (self): BertSelfAttention(\n",
       "              (query): Linear(in_features=768, out_features=768, bias=True)\n",
       "              (key): Linear(in_features=768, out_features=768, bias=True)\n",
       "              (value): Linear(in_features=768, out_features=768, bias=True)\n",
       "              (dropout): Dropout(p=0.1, inplace=False)\n",
       "            )\n",
       "            (output): BertSelfOutput(\n",
       "              (dense): Linear(in_features=768, out_features=768, bias=True)\n",
       "              (LayerNorm): LayerNorm((768,), eps=1e-12, elementwise_affine=True)\n",
       "              (dropout): Dropout(p=0.1, inplace=False)\n",
       "            )\n",
       "          )\n",
       "          (intermediate): BertIntermediate(\n",
       "            (dense): Linear(in_features=768, out_features=3072, bias=True)\n",
       "          )\n",
       "          (output): BertOutput(\n",
       "            (dense): Linear(in_features=3072, out_features=768, bias=True)\n",
       "            (LayerNorm): LayerNorm((768,), eps=1e-12, elementwise_affine=True)\n",
       "            (dropout): Dropout(p=0.1, inplace=False)\n",
       "          )\n",
       "        )\n",
       "        (9): BertLayer(\n",
       "          (attention): BertAttention(\n",
       "            (self): BertSelfAttention(\n",
       "              (query): Linear(in_features=768, out_features=768, bias=True)\n",
       "              (key): Linear(in_features=768, out_features=768, bias=True)\n",
       "              (value): Linear(in_features=768, out_features=768, bias=True)\n",
       "              (dropout): Dropout(p=0.1, inplace=False)\n",
       "            )\n",
       "            (output): BertSelfOutput(\n",
       "              (dense): Linear(in_features=768, out_features=768, bias=True)\n",
       "              (LayerNorm): LayerNorm((768,), eps=1e-12, elementwise_affine=True)\n",
       "              (dropout): Dropout(p=0.1, inplace=False)\n",
       "            )\n",
       "          )\n",
       "          (intermediate): BertIntermediate(\n",
       "            (dense): Linear(in_features=768, out_features=3072, bias=True)\n",
       "          )\n",
       "          (output): BertOutput(\n",
       "            (dense): Linear(in_features=3072, out_features=768, bias=True)\n",
       "            (LayerNorm): LayerNorm((768,), eps=1e-12, elementwise_affine=True)\n",
       "            (dropout): Dropout(p=0.1, inplace=False)\n",
       "          )\n",
       "        )\n",
       "        (10): BertLayer(\n",
       "          (attention): BertAttention(\n",
       "            (self): BertSelfAttention(\n",
       "              (query): Linear(in_features=768, out_features=768, bias=True)\n",
       "              (key): Linear(in_features=768, out_features=768, bias=True)\n",
       "              (value): Linear(in_features=768, out_features=768, bias=True)\n",
       "              (dropout): Dropout(p=0.1, inplace=False)\n",
       "            )\n",
       "            (output): BertSelfOutput(\n",
       "              (dense): Linear(in_features=768, out_features=768, bias=True)\n",
       "              (LayerNorm): LayerNorm((768,), eps=1e-12, elementwise_affine=True)\n",
       "              (dropout): Dropout(p=0.1, inplace=False)\n",
       "            )\n",
       "          )\n",
       "          (intermediate): BertIntermediate(\n",
       "            (dense): Linear(in_features=768, out_features=3072, bias=True)\n",
       "          )\n",
       "          (output): BertOutput(\n",
       "            (dense): Linear(in_features=3072, out_features=768, bias=True)\n",
       "            (LayerNorm): LayerNorm((768,), eps=1e-12, elementwise_affine=True)\n",
       "            (dropout): Dropout(p=0.1, inplace=False)\n",
       "          )\n",
       "        )\n",
       "        (11): BertLayer(\n",
       "          (attention): BertAttention(\n",
       "            (self): BertSelfAttention(\n",
       "              (query): Linear(in_features=768, out_features=768, bias=True)\n",
       "              (key): Linear(in_features=768, out_features=768, bias=True)\n",
       "              (value): Linear(in_features=768, out_features=768, bias=True)\n",
       "              (dropout): Dropout(p=0.1, inplace=False)\n",
       "            )\n",
       "            (output): BertSelfOutput(\n",
       "              (dense): Linear(in_features=768, out_features=768, bias=True)\n",
       "              (LayerNorm): LayerNorm((768,), eps=1e-12, elementwise_affine=True)\n",
       "              (dropout): Dropout(p=0.1, inplace=False)\n",
       "            )\n",
       "          )\n",
       "          (intermediate): BertIntermediate(\n",
       "            (dense): Linear(in_features=768, out_features=3072, bias=True)\n",
       "          )\n",
       "          (output): BertOutput(\n",
       "            (dense): Linear(in_features=3072, out_features=768, bias=True)\n",
       "            (LayerNorm): LayerNorm((768,), eps=1e-12, elementwise_affine=True)\n",
       "            (dropout): Dropout(p=0.1, inplace=False)\n",
       "          )\n",
       "        )\n",
       "      )\n",
       "    )\n",
       "    (pooler): BertPooler(\n",
       "      (dense): Linear(in_features=768, out_features=768, bias=True)\n",
       "      (activation): Tanh()\n",
       "    )\n",
       "  )\n",
       "  (dropout): Dropout(p=0.1, inplace=False)\n",
       "  (classifier): Linear(in_features=768, out_features=2, bias=True)\n",
       ")"
      ]
     },
     "execution_count": 29,
     "metadata": {},
     "output_type": "execute_result"
    }
   ],
   "source": [
    "from transformers import BertForSequenceClassification, AdamW, BertConfig\n",
    "# Load BertForSequenceClassification, the pretrained BERT model with a single \n",
    "# linear classification layer on top. \n",
    "model = BertForSequenceClassification.from_pretrained(\n",
    "    \"bert-base-multilingual-cased\", # Use the 12-layer BERT model, with an uncased vocab.\n",
    "    num_labels = 2, # The number of output labels--2 for binary classification.\n",
    "                    # You can increase this for multi-class tasks.   \n",
    "    output_attentions = False, # Whether the model returns attentions weights.\n",
    "    output_hidden_states = True, # Whether the model returns all hidden-states.\n",
    ")\n",
    "# Tell pytorch to run this model on the GPU.\n",
    "model.cuda()"
   ]
  },
  {
   "cell_type": "markdown",
   "metadata": {
    "papermill": {
     "duration": 0.060636,
     "end_time": "2021-05-18T01:38:49.326426",
     "exception": false,
     "start_time": "2021-05-18T01:38:49.265790",
     "status": "completed"
    },
    "tags": []
   },
   "source": [
    "In the below cell we can check the names and dimensions of the weights for:The embedding layer,The first of the twelve transformers & The output layer."
   ]
  },
  {
   "cell_type": "code",
   "execution_count": 30,
   "metadata": {
    "execution": {
     "iopub.execute_input": "2021-05-18T01:38:49.485248Z",
     "iopub.status.busy": "2021-05-18T01:38:49.484349Z",
     "iopub.status.idle": "2021-05-18T01:38:49.491134Z",
     "shell.execute_reply": "2021-05-18T01:38:49.491754Z"
    },
    "papermill": {
     "duration": 0.105191,
     "end_time": "2021-05-18T01:38:49.491910",
     "exception": false,
     "start_time": "2021-05-18T01:38:49.386719",
     "status": "completed"
    },
    "tags": []
   },
   "outputs": [
    {
     "name": "stdout",
     "output_type": "stream",
     "text": [
      "The BERT model has 201 different named parameters.\n",
      "\n",
      "==== Embedding Layer ====\n",
      "\n",
      "bert.embeddings.word_embeddings.weight                  (119547, 768)\n",
      "bert.embeddings.position_embeddings.weight                (512, 768)\n",
      "bert.embeddings.token_type_embeddings.weight                (2, 768)\n",
      "bert.embeddings.LayerNorm.weight                              (768,)\n",
      "bert.embeddings.LayerNorm.bias                                (768,)\n",
      "\n",
      "==== First Transformer ====\n",
      "\n",
      "bert.encoder.layer.0.attention.self.query.weight          (768, 768)\n",
      "bert.encoder.layer.0.attention.self.query.bias                (768,)\n",
      "bert.encoder.layer.0.attention.self.key.weight            (768, 768)\n",
      "bert.encoder.layer.0.attention.self.key.bias                  (768,)\n",
      "bert.encoder.layer.0.attention.self.value.weight          (768, 768)\n",
      "bert.encoder.layer.0.attention.self.value.bias                (768,)\n",
      "bert.encoder.layer.0.attention.output.dense.weight        (768, 768)\n",
      "bert.encoder.layer.0.attention.output.dense.bias              (768,)\n",
      "bert.encoder.layer.0.attention.output.LayerNorm.weight        (768,)\n",
      "bert.encoder.layer.0.attention.output.LayerNorm.bias          (768,)\n",
      "bert.encoder.layer.0.intermediate.dense.weight           (3072, 768)\n",
      "bert.encoder.layer.0.intermediate.dense.bias                 (3072,)\n",
      "bert.encoder.layer.0.output.dense.weight                 (768, 3072)\n",
      "bert.encoder.layer.0.output.dense.bias                        (768,)\n",
      "bert.encoder.layer.0.output.LayerNorm.weight                  (768,)\n",
      "bert.encoder.layer.0.output.LayerNorm.bias                    (768,)\n",
      "\n",
      "==== Output Layer ====\n",
      "\n",
      "bert.pooler.dense.weight                                  (768, 768)\n",
      "bert.pooler.dense.bias                                        (768,)\n",
      "classifier.weight                                           (2, 768)\n",
      "classifier.bias                                                 (2,)\n"
     ]
    }
   ],
   "source": [
    "# Get all of the model's parameters as a list of tuples.\n",
    "params = list(model.named_parameters())\n",
    "print('The BERT model has {:} different named parameters.\\n'.format(len(params)))\n",
    "print('==== Embedding Layer ====\\n')\n",
    "for p in params[0:5]:\n",
    "    print(\"{:<55} {:>12}\".format(p[0], str(tuple(p[1].size()))))\n",
    "print('\\n==== First Transformer ====\\n')\n",
    "for p in params[5:21]:\n",
    "    print(\"{:<55} {:>12}\".format(p[0], str(tuple(p[1].size()))))\n",
    "print('\\n==== Output Layer ====\\n')\n",
    "for p in params[-4:]:\n",
    "    print(\"{:<55} {:>12}\".format(p[0], str(tuple(p[1].size()))))"
   ]
  },
  {
   "cell_type": "markdown",
   "metadata": {
    "papermill": {
     "duration": 0.060474,
     "end_time": "2021-05-18T01:38:49.613603",
     "exception": false,
     "start_time": "2021-05-18T01:38:49.553129",
     "status": "completed"
    },
    "tags": []
   },
   "source": [
    "Now that we have our model loaded we need to grab the training hyperparameters from within the stored model."
   ]
  },
  {
   "cell_type": "markdown",
   "metadata": {
    "papermill": {
     "duration": 0.060543,
     "end_time": "2021-05-18T01:38:49.734941",
     "exception": false,
     "start_time": "2021-05-18T01:38:49.674398",
     "status": "completed"
    },
    "tags": []
   },
   "source": [
    "For the purposes of fine-tuning, we'll use the following values:\n",
    "\n",
    "- Batch size: 16, 32 (We chose 32 when creating our DataLoaders).\n",
    "- Learning rate (Adam): 5e-5, 3e-5, 2e-5 (We’ll use 2e-5).\n",
    "- Number of epochs: 2, 3, 4 (We’ll use 4).\n",
    "\n",
    "The epsilon parameter eps = 1e-8 is “a very small number to prevent any division by zero in the implementation”\n",
    "\n",
    "https://medium.com/@aniruddha.choudhury94/part-2-bert-fine-tuning-tutorial-with-pytorch-for-text-classification-on-the-corpus-of-linguistic-18057ce330e1"
   ]
  },
  {
   "cell_type": "code",
   "execution_count": 31,
   "metadata": {
    "execution": {
     "iopub.execute_input": "2021-05-18T01:38:49.866663Z",
     "iopub.status.busy": "2021-05-18T01:38:49.865881Z",
     "iopub.status.idle": "2021-05-18T01:38:49.868692Z",
     "shell.execute_reply": "2021-05-18T01:38:49.868257Z"
    },
    "papermill": {
     "duration": 0.072829,
     "end_time": "2021-05-18T01:38:49.868784",
     "exception": false,
     "start_time": "2021-05-18T01:38:49.795955",
     "status": "completed"
    },
    "tags": []
   },
   "outputs": [],
   "source": [
    "# Note: AdamW is a class from the huggingface library (as opposed to pytorch) \n",
    "# I believe the 'W' stands for 'Weight Decay fix\"\n",
    "# Cross entropy is used as the loss by default\n",
    "optimizer = AdamW(model.parameters(),\n",
    "                  lr = 2e-5, # args.learning_rate - default is 5e-5, our notebook had 2e-5\n",
    "                  eps = 1e-8 # args.adam_epsilon  - default is 1e-8.\n",
    "                )\n",
    "from transformers import get_linear_schedule_with_warmup\n",
    "# Number of training epochs (authors recommend between 2 and 4)\n",
    "epochs = 2\n",
    "# Total number of training steps is number of batches * number of epochs.\n",
    "total_steps = len(train_dataloader) * epochs\n",
    "# Create the learning rate scheduler.\n",
    "scheduler = get_linear_schedule_with_warmup(optimizer, \n",
    "                                            num_warmup_steps = 0, # Default value in run_glue.py\n",
    "                                            num_training_steps = total_steps)"
   ]
  },
  {
   "cell_type": "markdown",
   "metadata": {
    "papermill": {
     "duration": 0.061015,
     "end_time": "2021-05-18T01:38:49.991083",
     "exception": false,
     "start_time": "2021-05-18T01:38:49.930068",
     "status": "completed"
    },
    "tags": []
   },
   "source": [
    "4.3. Training Loop\n",
    "Below is our training loop. There’s a lot going on, but fundamentally for each pass in our loop we have a trianing phase and a validation phase. At each pass we need to:\n",
    "\n",
    "Training loop:\n",
    "\n",
    "- Unpack our data inputs and labels\n",
    "- Load data onto the GPU for acceleration\n",
    "- Clear out the gradients calculated in the previous pass.\n",
    "- In pytorch the gradients accumulate by default (useful for things like RNNs) unless you explicitly clear them out.\n",
    "- Forward pass (feed input data through the network)\n",
    "- Backward pass (backpropagation)\n",
    "- Tell the network to update parameters with optimizer.step()\n",
    "- Track variables for monitoring progress\n",
    "\n",
    "Evalution loop:\n",
    "- Unpack our data inputs and labels\n",
    "- Load data onto the GPU for acceleration\n",
    "- Forward pass (feed input data through the network)\n",
    "- Compute loss on our validation data and track variables for monitoring progress\n",
    "\n",
    "Define a helper function for calculating accuracy."
   ]
  },
  {
   "cell_type": "code",
   "execution_count": 32,
   "metadata": {
    "execution": {
     "iopub.execute_input": "2021-05-18T01:38:50.143012Z",
     "iopub.status.busy": "2021-05-18T01:38:50.142012Z",
     "iopub.status.idle": "2021-05-18T01:38:50.144457Z",
     "shell.execute_reply": "2021-05-18T01:38:50.143764Z"
    },
    "papermill": {
     "duration": 0.092201,
     "end_time": "2021-05-18T01:38:50.144618",
     "exception": false,
     "start_time": "2021-05-18T01:38:50.052417",
     "status": "completed"
    },
    "tags": []
   },
   "outputs": [],
   "source": [
    "import numpy as np\n",
    "# Function to calculate the accuracy of our predictions vs labels\n",
    "def flat_accuracy(preds, labels):\n",
    "    pred_flat = np.argmax(preds, axis=1).flatten()\n",
    "    labels_flat = labels.flatten()\n",
    "    return np.sum(pred_flat == labels_flat) / len(labels_flat)"
   ]
  },
  {
   "cell_type": "markdown",
   "metadata": {
    "papermill": {
     "duration": 0.1093,
     "end_time": "2021-05-18T01:38:50.358246",
     "exception": false,
     "start_time": "2021-05-18T01:38:50.248946",
     "status": "completed"
    },
    "tags": []
   },
   "source": [
    "Helper function for formatting elapsed times."
   ]
  },
  {
   "cell_type": "code",
   "execution_count": 33,
   "metadata": {
    "execution": {
     "iopub.execute_input": "2021-05-18T01:38:50.579995Z",
     "iopub.status.busy": "2021-05-18T01:38:50.579085Z",
     "iopub.status.idle": "2021-05-18T01:38:50.582778Z",
     "shell.execute_reply": "2021-05-18T01:38:50.583445Z"
    },
    "papermill": {
     "duration": 0.118598,
     "end_time": "2021-05-18T01:38:50.583638",
     "exception": false,
     "start_time": "2021-05-18T01:38:50.465040",
     "status": "completed"
    },
    "tags": []
   },
   "outputs": [],
   "source": [
    "import time\n",
    "import datetime\n",
    "def format_time(elapsed):\n",
    "    '''\n",
    "    Takes a time in seconds and returns a string hh:mm:ss\n",
    "    '''\n",
    "    # Round to the nearest second.\n",
    "    elapsed_rounded = int(round((elapsed)))\n",
    "    \n",
    "    # Format as hh:mm:ss\n",
    "    return str(datetime.timedelta(seconds=elapsed_rounded))"
   ]
  },
  {
   "cell_type": "markdown",
   "metadata": {
    "papermill": {
     "duration": 0.084025,
     "end_time": "2021-05-18T01:38:50.777396",
     "exception": false,
     "start_time": "2021-05-18T01:38:50.693371",
     "status": "completed"
    },
    "tags": []
   },
   "source": [
    "### Train Model"
   ]
  },
  {
   "cell_type": "code",
   "execution_count": 34,
   "metadata": {
    "execution": {
     "iopub.execute_input": "2021-05-18T01:38:50.929643Z",
     "iopub.status.busy": "2021-05-18T01:38:50.915121Z",
     "iopub.status.idle": "2021-05-18T02:20:28.311715Z",
     "shell.execute_reply": "2021-05-18T02:20:28.312145Z"
    },
    "papermill": {
     "duration": 2497.473554,
     "end_time": "2021-05-18T02:20:28.312293",
     "exception": false,
     "start_time": "2021-05-18T01:38:50.838739",
     "status": "completed"
    },
    "tags": []
   },
   "outputs": [
    {
     "name": "stdout",
     "output_type": "stream",
     "text": [
      "\n",
      "======== Epoch 1 / 2 ========\n",
      "Training...\n",
      "  Batch    40  of  5,081.    Elapsed: 0:00:10.\n",
      "  Batch    80  of  5,081.    Elapsed: 0:00:19.\n",
      "  Batch   120  of  5,081.    Elapsed: 0:00:28.\n",
      "  Batch   160  of  5,081.    Elapsed: 0:00:37.\n",
      "  Batch   200  of  5,081.    Elapsed: 0:00:46.\n",
      "  Batch   240  of  5,081.    Elapsed: 0:00:55.\n",
      "  Batch   280  of  5,081.    Elapsed: 0:01:04.\n",
      "  Batch   320  of  5,081.    Elapsed: 0:01:13.\n",
      "  Batch   360  of  5,081.    Elapsed: 0:01:22.\n",
      "  Batch   400  of  5,081.    Elapsed: 0:01:31.\n",
      "  Batch   440  of  5,081.    Elapsed: 0:01:40.\n",
      "  Batch   480  of  5,081.    Elapsed: 0:01:49.\n",
      "  Batch   520  of  5,081.    Elapsed: 0:01:58.\n",
      "  Batch   560  of  5,081.    Elapsed: 0:02:06.\n",
      "  Batch   600  of  5,081.    Elapsed: 0:02:15.\n",
      "  Batch   640  of  5,081.    Elapsed: 0:02:24.\n",
      "  Batch   680  of  5,081.    Elapsed: 0:02:34.\n",
      "  Batch   720  of  5,081.    Elapsed: 0:02:42.\n",
      "  Batch   760  of  5,081.    Elapsed: 0:02:51.\n",
      "  Batch   800  of  5,081.    Elapsed: 0:03:00.\n",
      "  Batch   840  of  5,081.    Elapsed: 0:03:09.\n",
      "  Batch   880  of  5,081.    Elapsed: 0:03:18.\n",
      "  Batch   920  of  5,081.    Elapsed: 0:03:27.\n",
      "  Batch   960  of  5,081.    Elapsed: 0:03:36.\n",
      "  Batch 1,000  of  5,081.    Elapsed: 0:03:45.\n",
      "  Batch 1,040  of  5,081.    Elapsed: 0:03:54.\n",
      "  Batch 1,080  of  5,081.    Elapsed: 0:04:03.\n",
      "  Batch 1,120  of  5,081.    Elapsed: 0:04:12.\n",
      "  Batch 1,160  of  5,081.    Elapsed: 0:04:21.\n",
      "  Batch 1,200  of  5,081.    Elapsed: 0:04:30.\n",
      "  Batch 1,240  of  5,081.    Elapsed: 0:04:39.\n",
      "  Batch 1,280  of  5,081.    Elapsed: 0:04:48.\n",
      "  Batch 1,320  of  5,081.    Elapsed: 0:04:57.\n",
      "  Batch 1,360  of  5,081.    Elapsed: 0:05:06.\n",
      "  Batch 1,400  of  5,081.    Elapsed: 0:05:15.\n",
      "  Batch 1,440  of  5,081.    Elapsed: 0:05:24.\n",
      "  Batch 1,480  of  5,081.    Elapsed: 0:05:33.\n",
      "  Batch 1,520  of  5,081.    Elapsed: 0:05:42.\n",
      "  Batch 1,560  of  5,081.    Elapsed: 0:05:51.\n",
      "  Batch 1,600  of  5,081.    Elapsed: 0:06:00.\n",
      "  Batch 1,640  of  5,081.    Elapsed: 0:06:09.\n",
      "  Batch 1,680  of  5,081.    Elapsed: 0:06:18.\n",
      "  Batch 1,720  of  5,081.    Elapsed: 0:06:27.\n",
      "  Batch 1,760  of  5,081.    Elapsed: 0:06:36.\n",
      "  Batch 1,800  of  5,081.    Elapsed: 0:06:45.\n",
      "  Batch 1,840  of  5,081.    Elapsed: 0:06:54.\n",
      "  Batch 1,880  of  5,081.    Elapsed: 0:07:03.\n",
      "  Batch 1,920  of  5,081.    Elapsed: 0:07:12.\n",
      "  Batch 1,960  of  5,081.    Elapsed: 0:07:21.\n",
      "  Batch 2,000  of  5,081.    Elapsed: 0:07:30.\n",
      "  Batch 2,040  of  5,081.    Elapsed: 0:07:39.\n",
      "  Batch 2,080  of  5,081.    Elapsed: 0:07:48.\n",
      "  Batch 2,120  of  5,081.    Elapsed: 0:07:57.\n",
      "  Batch 2,160  of  5,081.    Elapsed: 0:08:06.\n",
      "  Batch 2,200  of  5,081.    Elapsed: 0:08:15.\n",
      "  Batch 2,240  of  5,081.    Elapsed: 0:08:24.\n",
      "  Batch 2,280  of  5,081.    Elapsed: 0:08:33.\n",
      "  Batch 2,320  of  5,081.    Elapsed: 0:08:42.\n",
      "  Batch 2,360  of  5,081.    Elapsed: 0:08:51.\n",
      "  Batch 2,400  of  5,081.    Elapsed: 0:09:00.\n",
      "  Batch 2,440  of  5,081.    Elapsed: 0:09:09.\n",
      "  Batch 2,480  of  5,081.    Elapsed: 0:09:18.\n",
      "  Batch 2,520  of  5,081.    Elapsed: 0:09:27.\n",
      "  Batch 2,560  of  5,081.    Elapsed: 0:09:36.\n",
      "  Batch 2,600  of  5,081.    Elapsed: 0:09:45.\n",
      "  Batch 2,640  of  5,081.    Elapsed: 0:09:54.\n",
      "  Batch 2,680  of  5,081.    Elapsed: 0:10:03.\n",
      "  Batch 2,720  of  5,081.    Elapsed: 0:10:12.\n",
      "  Batch 2,760  of  5,081.    Elapsed: 0:10:21.\n",
      "  Batch 2,800  of  5,081.    Elapsed: 0:10:30.\n",
      "  Batch 2,840  of  5,081.    Elapsed: 0:10:39.\n",
      "  Batch 2,880  of  5,081.    Elapsed: 0:10:48.\n",
      "  Batch 2,920  of  5,081.    Elapsed: 0:10:57.\n",
      "  Batch 2,960  of  5,081.    Elapsed: 0:11:06.\n",
      "  Batch 3,000  of  5,081.    Elapsed: 0:11:15.\n",
      "  Batch 3,040  of  5,081.    Elapsed: 0:11:24.\n",
      "  Batch 3,080  of  5,081.    Elapsed: 0:11:33.\n",
      "  Batch 3,120  of  5,081.    Elapsed: 0:11:42.\n",
      "  Batch 3,160  of  5,081.    Elapsed: 0:11:51.\n",
      "  Batch 3,200  of  5,081.    Elapsed: 0:12:00.\n",
      "  Batch 3,240  of  5,081.    Elapsed: 0:12:09.\n",
      "  Batch 3,280  of  5,081.    Elapsed: 0:12:18.\n",
      "  Batch 3,320  of  5,081.    Elapsed: 0:12:27.\n",
      "  Batch 3,360  of  5,081.    Elapsed: 0:12:37.\n",
      "  Batch 3,400  of  5,081.    Elapsed: 0:12:46.\n",
      "  Batch 3,440  of  5,081.    Elapsed: 0:12:55.\n",
      "  Batch 3,480  of  5,081.    Elapsed: 0:13:04.\n",
      "  Batch 3,520  of  5,081.    Elapsed: 0:13:13.\n",
      "  Batch 3,560  of  5,081.    Elapsed: 0:13:22.\n",
      "  Batch 3,600  of  5,081.    Elapsed: 0:13:31.\n",
      "  Batch 3,640  of  5,081.    Elapsed: 0:13:40.\n",
      "  Batch 3,680  of  5,081.    Elapsed: 0:13:49.\n",
      "  Batch 3,720  of  5,081.    Elapsed: 0:13:58.\n",
      "  Batch 3,760  of  5,081.    Elapsed: 0:14:07.\n",
      "  Batch 3,800  of  5,081.    Elapsed: 0:14:16.\n",
      "  Batch 3,840  of  5,081.    Elapsed: 0:14:25.\n",
      "  Batch 3,880  of  5,081.    Elapsed: 0:14:34.\n",
      "  Batch 3,920  of  5,081.    Elapsed: 0:14:43.\n",
      "  Batch 3,960  of  5,081.    Elapsed: 0:14:52.\n",
      "  Batch 4,000  of  5,081.    Elapsed: 0:15:01.\n",
      "  Batch 4,040  of  5,081.    Elapsed: 0:15:10.\n",
      "  Batch 4,080  of  5,081.    Elapsed: 0:15:19.\n",
      "  Batch 4,120  of  5,081.    Elapsed: 0:15:28.\n",
      "  Batch 4,160  of  5,081.    Elapsed: 0:15:37.\n",
      "  Batch 4,200  of  5,081.    Elapsed: 0:15:46.\n",
      "  Batch 4,240  of  5,081.    Elapsed: 0:15:55.\n",
      "  Batch 4,280  of  5,081.    Elapsed: 0:16:04.\n",
      "  Batch 4,320  of  5,081.    Elapsed: 0:16:13.\n",
      "  Batch 4,360  of  5,081.    Elapsed: 0:16:22.\n",
      "  Batch 4,400  of  5,081.    Elapsed: 0:16:31.\n",
      "  Batch 4,440  of  5,081.    Elapsed: 0:16:40.\n",
      "  Batch 4,480  of  5,081.    Elapsed: 0:16:49.\n",
      "  Batch 4,520  of  5,081.    Elapsed: 0:16:59.\n",
      "  Batch 4,560  of  5,081.    Elapsed: 0:17:08.\n",
      "  Batch 4,600  of  5,081.    Elapsed: 0:17:17.\n",
      "  Batch 4,640  of  5,081.    Elapsed: 0:17:26.\n",
      "  Batch 4,680  of  5,081.    Elapsed: 0:17:35.\n",
      "  Batch 4,720  of  5,081.    Elapsed: 0:17:44.\n",
      "  Batch 4,760  of  5,081.    Elapsed: 0:17:53.\n",
      "  Batch 4,800  of  5,081.    Elapsed: 0:18:02.\n",
      "  Batch 4,840  of  5,081.    Elapsed: 0:18:11.\n",
      "  Batch 4,880  of  5,081.    Elapsed: 0:18:20.\n",
      "  Batch 4,920  of  5,081.    Elapsed: 0:18:29.\n",
      "  Batch 4,960  of  5,081.    Elapsed: 0:18:38.\n",
      "  Batch 5,000  of  5,081.    Elapsed: 0:18:47.\n",
      "  Batch 5,040  of  5,081.    Elapsed: 0:18:56.\n",
      "  Batch 5,080  of  5,081.    Elapsed: 0:19:05.\n",
      "\n",
      "  Average training loss: 0.30\n",
      "  Training epcoh took: 0:19:05\n",
      "\n",
      "Running Validation...\n",
      "  Accuracy: 0.85\n",
      "  Average validation loss: 0.47\n",
      "  Validation took: 0:01:45\n",
      "\n",
      "======== Epoch 2 / 2 ========\n",
      "Training...\n",
      "  Batch    40  of  5,081.    Elapsed: 0:00:09.\n",
      "  Batch    80  of  5,081.    Elapsed: 0:00:18.\n",
      "  Batch   120  of  5,081.    Elapsed: 0:00:27.\n",
      "  Batch   160  of  5,081.    Elapsed: 0:00:36.\n",
      "  Batch   200  of  5,081.    Elapsed: 0:00:45.\n",
      "  Batch   240  of  5,081.    Elapsed: 0:00:54.\n",
      "  Batch   280  of  5,081.    Elapsed: 0:01:03.\n",
      "  Batch   320  of  5,081.    Elapsed: 0:01:12.\n",
      "  Batch   360  of  5,081.    Elapsed: 0:01:21.\n",
      "  Batch   400  of  5,081.    Elapsed: 0:01:30.\n",
      "  Batch   440  of  5,081.    Elapsed: 0:01:39.\n",
      "  Batch   480  of  5,081.    Elapsed: 0:01:48.\n",
      "  Batch   520  of  5,081.    Elapsed: 0:01:57.\n",
      "  Batch   560  of  5,081.    Elapsed: 0:02:06.\n",
      "  Batch   600  of  5,081.    Elapsed: 0:02:15.\n",
      "  Batch   640  of  5,081.    Elapsed: 0:02:24.\n",
      "  Batch   680  of  5,081.    Elapsed: 0:02:33.\n",
      "  Batch   720  of  5,081.    Elapsed: 0:02:42.\n",
      "  Batch   760  of  5,081.    Elapsed: 0:02:51.\n",
      "  Batch   800  of  5,081.    Elapsed: 0:03:00.\n",
      "  Batch   840  of  5,081.    Elapsed: 0:03:09.\n",
      "  Batch   880  of  5,081.    Elapsed: 0:03:18.\n",
      "  Batch   920  of  5,081.    Elapsed: 0:03:27.\n",
      "  Batch   960  of  5,081.    Elapsed: 0:03:36.\n",
      "  Batch 1,000  of  5,081.    Elapsed: 0:03:45.\n",
      "  Batch 1,040  of  5,081.    Elapsed: 0:03:54.\n",
      "  Batch 1,080  of  5,081.    Elapsed: 0:04:03.\n",
      "  Batch 1,120  of  5,081.    Elapsed: 0:04:12.\n",
      "  Batch 1,160  of  5,081.    Elapsed: 0:04:21.\n",
      "  Batch 1,200  of  5,081.    Elapsed: 0:04:30.\n",
      "  Batch 1,240  of  5,081.    Elapsed: 0:04:39.\n",
      "  Batch 1,280  of  5,081.    Elapsed: 0:04:48.\n",
      "  Batch 1,320  of  5,081.    Elapsed: 0:04:57.\n",
      "  Batch 1,360  of  5,081.    Elapsed: 0:05:06.\n",
      "  Batch 1,400  of  5,081.    Elapsed: 0:05:15.\n",
      "  Batch 1,440  of  5,081.    Elapsed: 0:05:24.\n",
      "  Batch 1,480  of  5,081.    Elapsed: 0:05:33.\n",
      "  Batch 1,520  of  5,081.    Elapsed: 0:05:42.\n",
      "  Batch 1,560  of  5,081.    Elapsed: 0:05:51.\n",
      "  Batch 1,600  of  5,081.    Elapsed: 0:06:00.\n",
      "  Batch 1,640  of  5,081.    Elapsed: 0:06:09.\n",
      "  Batch 1,680  of  5,081.    Elapsed: 0:06:18.\n",
      "  Batch 1,720  of  5,081.    Elapsed: 0:06:27.\n",
      "  Batch 1,760  of  5,081.    Elapsed: 0:06:36.\n",
      "  Batch 1,800  of  5,081.    Elapsed: 0:06:44.\n",
      "  Batch 1,840  of  5,081.    Elapsed: 0:06:54.\n",
      "  Batch 1,880  of  5,081.    Elapsed: 0:07:02.\n",
      "  Batch 1,920  of  5,081.    Elapsed: 0:07:11.\n",
      "  Batch 1,960  of  5,081.    Elapsed: 0:07:20.\n",
      "  Batch 2,000  of  5,081.    Elapsed: 0:07:29.\n",
      "  Batch 2,040  of  5,081.    Elapsed: 0:07:38.\n",
      "  Batch 2,080  of  5,081.    Elapsed: 0:07:47.\n",
      "  Batch 2,120  of  5,081.    Elapsed: 0:07:56.\n",
      "  Batch 2,160  of  5,081.    Elapsed: 0:08:05.\n",
      "  Batch 2,200  of  5,081.    Elapsed: 0:08:14.\n",
      "  Batch 2,240  of  5,081.    Elapsed: 0:08:23.\n",
      "  Batch 2,280  of  5,081.    Elapsed: 0:08:33.\n",
      "  Batch 2,320  of  5,081.    Elapsed: 0:08:42.\n",
      "  Batch 2,360  of  5,081.    Elapsed: 0:08:51.\n",
      "  Batch 2,400  of  5,081.    Elapsed: 0:09:00.\n",
      "  Batch 2,440  of  5,081.    Elapsed: 0:09:09.\n",
      "  Batch 2,480  of  5,081.    Elapsed: 0:09:17.\n",
      "  Batch 2,520  of  5,081.    Elapsed: 0:09:26.\n",
      "  Batch 2,560  of  5,081.    Elapsed: 0:09:36.\n",
      "  Batch 2,600  of  5,081.    Elapsed: 0:09:45.\n",
      "  Batch 2,640  of  5,081.    Elapsed: 0:09:53.\n",
      "  Batch 2,680  of  5,081.    Elapsed: 0:10:02.\n",
      "  Batch 2,720  of  5,081.    Elapsed: 0:10:11.\n",
      "  Batch 2,760  of  5,081.    Elapsed: 0:10:20.\n",
      "  Batch 2,800  of  5,081.    Elapsed: 0:10:29.\n",
      "  Batch 2,840  of  5,081.    Elapsed: 0:10:38.\n",
      "  Batch 2,880  of  5,081.    Elapsed: 0:10:47.\n",
      "  Batch 2,920  of  5,081.    Elapsed: 0:10:56.\n",
      "  Batch 2,960  of  5,081.    Elapsed: 0:11:05.\n",
      "  Batch 3,000  of  5,081.    Elapsed: 0:11:14.\n",
      "  Batch 3,040  of  5,081.    Elapsed: 0:11:23.\n",
      "  Batch 3,080  of  5,081.    Elapsed: 0:11:32.\n",
      "  Batch 3,120  of  5,081.    Elapsed: 0:11:41.\n",
      "  Batch 3,160  of  5,081.    Elapsed: 0:11:50.\n",
      "  Batch 3,200  of  5,081.    Elapsed: 0:11:59.\n",
      "  Batch 3,240  of  5,081.    Elapsed: 0:12:08.\n",
      "  Batch 3,280  of  5,081.    Elapsed: 0:12:17.\n",
      "  Batch 3,320  of  5,081.    Elapsed: 0:12:26.\n",
      "  Batch 3,360  of  5,081.    Elapsed: 0:12:35.\n",
      "  Batch 3,400  of  5,081.    Elapsed: 0:12:44.\n",
      "  Batch 3,440  of  5,081.    Elapsed: 0:12:53.\n",
      "  Batch 3,480  of  5,081.    Elapsed: 0:13:02.\n",
      "  Batch 3,520  of  5,081.    Elapsed: 0:13:11.\n",
      "  Batch 3,560  of  5,081.    Elapsed: 0:13:20.\n",
      "  Batch 3,600  of  5,081.    Elapsed: 0:13:29.\n",
      "  Batch 3,640  of  5,081.    Elapsed: 0:13:38.\n",
      "  Batch 3,680  of  5,081.    Elapsed: 0:13:47.\n",
      "  Batch 3,720  of  5,081.    Elapsed: 0:13:56.\n",
      "  Batch 3,760  of  5,081.    Elapsed: 0:14:05.\n",
      "  Batch 3,800  of  5,081.    Elapsed: 0:14:14.\n",
      "  Batch 3,840  of  5,081.    Elapsed: 0:14:23.\n",
      "  Batch 3,880  of  5,081.    Elapsed: 0:14:32.\n",
      "  Batch 3,920  of  5,081.    Elapsed: 0:14:41.\n",
      "  Batch 3,960  of  5,081.    Elapsed: 0:14:50.\n",
      "  Batch 4,000  of  5,081.    Elapsed: 0:14:59.\n",
      "  Batch 4,040  of  5,081.    Elapsed: 0:15:08.\n",
      "  Batch 4,080  of  5,081.    Elapsed: 0:15:17.\n",
      "  Batch 4,120  of  5,081.    Elapsed: 0:15:26.\n",
      "  Batch 4,160  of  5,081.    Elapsed: 0:15:35.\n",
      "  Batch 4,200  of  5,081.    Elapsed: 0:15:44.\n",
      "  Batch 4,240  of  5,081.    Elapsed: 0:15:53.\n",
      "  Batch 4,280  of  5,081.    Elapsed: 0:16:02.\n",
      "  Batch 4,320  of  5,081.    Elapsed: 0:16:11.\n",
      "  Batch 4,360  of  5,081.    Elapsed: 0:16:20.\n",
      "  Batch 4,400  of  5,081.    Elapsed: 0:16:29.\n",
      "  Batch 4,440  of  5,081.    Elapsed: 0:16:38.\n",
      "  Batch 4,480  of  5,081.    Elapsed: 0:16:47.\n",
      "  Batch 4,520  of  5,081.    Elapsed: 0:16:56.\n",
      "  Batch 4,560  of  5,081.    Elapsed: 0:17:05.\n",
      "  Batch 4,600  of  5,081.    Elapsed: 0:17:14.\n",
      "  Batch 4,640  of  5,081.    Elapsed: 0:17:23.\n",
      "  Batch 4,680  of  5,081.    Elapsed: 0:17:32.\n",
      "  Batch 4,720  of  5,081.    Elapsed: 0:17:41.\n",
      "  Batch 4,760  of  5,081.    Elapsed: 0:17:50.\n",
      "  Batch 4,800  of  5,081.    Elapsed: 0:17:59.\n",
      "  Batch 4,840  of  5,081.    Elapsed: 0:18:08.\n",
      "  Batch 4,880  of  5,081.    Elapsed: 0:18:17.\n",
      "  Batch 4,920  of  5,081.    Elapsed: 0:18:26.\n",
      "  Batch 4,960  of  5,081.    Elapsed: 0:18:35.\n",
      "  Batch 5,000  of  5,081.    Elapsed: 0:18:44.\n",
      "  Batch 5,040  of  5,081.    Elapsed: 0:18:53.\n",
      "  Batch 5,080  of  5,081.    Elapsed: 0:19:02.\n",
      "\n",
      "  Average training loss: 0.23\n",
      "  Training epcoh took: 0:19:02\n",
      "\n",
      "Running Validation...\n",
      "  Accuracy: 0.86\n",
      "  Average validation loss: 0.52\n",
      "  Validation took: 0:01:45\n",
      "\n",
      "Training complete!\n"
     ]
    }
   ],
   "source": [
    "import random\n",
    "# This training code is based on the `run_glue.py` script here:\n",
    "# https://github.com/huggingface/transformers/blob/5bfcd0485ece086ebcbed2d008813037968a9e58/examples/run_glue.py#L128\n",
    "# Set the seed value all over the place to make this reproducible.\n",
    "seed_val = 42\n",
    "random.seed(seed_val)\n",
    "np.random.seed(seed_val)\n",
    "torch.manual_seed(seed_val)\n",
    "torch.cuda.manual_seed_all(seed_val)\n",
    "# Store the average loss after each epoch so we can plot them.\n",
    "loss_values = []\n",
    "loss_values_valid = []\n",
    "#embeddings_tr, embeddings_vl = [], []\n",
    "train_predictions, valid_predictions = [], []\n",
    "train_true_labels, valid_true_labels = [], []\n",
    "# Store the hidden states for embedding extraction\n",
    "\n",
    "# For each epoch...\n",
    "for epoch_i in range(0, epochs):\n",
    "    \n",
    "    # ========================================\n",
    "    #               Training\n",
    "    # ========================================\n",
    "    \n",
    "    # Perform one full pass over the training set.\n",
    "    print(\"\")\n",
    "    print('======== Epoch {:} / {:} ========'.format(epoch_i + 1, epochs))\n",
    "    print('Training...')\n",
    "    # Measure how long the training epoch takes.\n",
    "    t0 = time.time()\n",
    "    # Reset the total loss for this epoch.\n",
    "    total_loss = 0\n",
    "    # Put the model into training mode. Don't be mislead--the call to \n",
    "    # `train` just changes the *mode*, it doesn't *perform* the training.\n",
    "    # `dropout` and `batchnorm` layers behave differently during training\n",
    "    # vs. test (source: https://stackoverflow.com/questions/51433378/what-does-model-train-do-in-pytorch)\n",
    "    model.train()\n",
    "    # For each batch of training data...\n",
    "    for step, batch in enumerate(train_dataloader):\n",
    "        # Progress update every 40 batches.\n",
    "        if step % 40 == 0 and not step == 0:\n",
    "            # Calculate elapsed time in minutes.\n",
    "            elapsed = format_time(time.time() - t0)\n",
    "            \n",
    "            # Report progress.\n",
    "            print('  Batch {:>5,}  of  {:>5,}.    Elapsed: {:}.'.format(step, len(train_dataloader), elapsed))\n",
    "        # Unpack this training batch from our dataloader. \n",
    "        #\n",
    "        # As we unpack the batch, we'll also copy each tensor to the GPU using the \n",
    "        # `to` method.\n",
    "        #\n",
    "        # `batch` contains three pytorch tensors:\n",
    "        #   [0]: input ids \n",
    "        #   [1]: attention masks\n",
    "        #   [2]: labels \n",
    "        b_input_ids = batch[0].to(device)\n",
    "        b_input_mask = batch[1].to(device)\n",
    "        b_labels = batch[2].to(device)\n",
    "        # Always clear any previously calculated gradients before performing a\n",
    "        # backward pass. PyTorch doesn't do this automatically because \n",
    "        # accumulating the gradients is \"convenient while training RNNs\". \n",
    "        # (source: https://stackoverflow.com/questions/48001598/why-do-we-need-to-call-zero-grad-in-pytorch)\n",
    "        model.zero_grad()        \n",
    "        # Perform a forward pass (evaluate the model on this training batch).\n",
    "        # This will return the loss (rather than the model output) because we\n",
    "        # have provided the `labels`.\n",
    "        # The documentation for this `model` function is here: \n",
    "        # https://huggingface.co/transformers/v2.2.0/model_doc/bert.html#transformers.BertForSequenceClassification\n",
    "        outputs_a = model(b_input_ids, \n",
    "                    token_type_ids=None, \n",
    "                    attention_mask=b_input_mask, \n",
    "                    labels=b_labels)\n",
    "        \n",
    "        # The call to `model` always returns a tuple, so we need to pull the \n",
    "        # loss value out of the tuple.\n",
    "        loss = outputs_a[0]\n",
    "        logits_tr = outputs_a[1]\n",
    "        #hidden_state_tr = outputs_a[2]\n",
    "        #features = hidden_state_tr[0][:,0,:].detach().cpu().numpy()\n",
    "        #embeddings_tr.append([epoch_i,batch[3], features]) # FIX AS NO BACKPROP WEIGHT ADJUSTED\n",
    "        # Accumulate the training loss over all of the batches so that we can\n",
    "        # calculate the average loss at the end. `loss` is a Tensor containing a\n",
    "        # single value; the `.item()` function just returns the Python value \n",
    "        # from the tensor.\n",
    "        # Move logits, hidden states, and labels to CPU\n",
    "        logits_tr = logits_tr.detach().cpu().numpy()\n",
    "        label_ids = b_labels.to('cpu').numpy()\n",
    "        #train_predictions.append([epoch_i,logits_tr])\n",
    "        #train_true_labels.append([epoch_i,label_ids])\n",
    "\n",
    "        total_loss += loss.item()\n",
    "        # Perform a backward pass to calculate the gradients.\n",
    "        loss.backward()\n",
    "        # Clip the norm of the gradients to 1.0.\n",
    "        # This is to help prevent the \"exploding gradients\" problem.\n",
    "        torch.nn.utils.clip_grad_norm_(model.parameters(), 1.0)\n",
    "        # Update parameters and take a step using the computed gradient.\n",
    "        # The optimizer dictates the \"update rule\"--how the parameters are\n",
    "        # modified based on their gradients, the learning rate, etc.\n",
    "        optimizer.step()\n",
    "        # Update the learning rate.\n",
    "        scheduler.step()\n",
    "    # Calculate the average loss over the training data.\n",
    "    avg_train_loss = total_loss / len(train_dataloader)            \n",
    "\n",
    "    # Store the loss value for plotting the learning curve.\n",
    "    loss_values.append(avg_train_loss)\n",
    "    print(\"\")\n",
    "    print(\"  Average training loss: {0:.2f}\".format(avg_train_loss))\n",
    "    print(\"  Training epcoh took: {:}\".format(format_time(time.time() - t0)))\n",
    "    \n",
    "    # ========================================\n",
    "    #               Validation\n",
    "    # ========================================\n",
    "    # After the completion of each training epoch, measure our performance on\n",
    "    # our validation set.\n",
    "    print(\"\")\n",
    "    print(\"Running Validation...\")\n",
    "    t0 = time.time()\n",
    "    # Put the model in evaluation mode--the dropout layers behave differently\n",
    "    # during evaluation.\n",
    "    model.eval()\n",
    "    # Tracking variables \n",
    "    eval_loss, eval_accuracy = 0, 0\n",
    "    nb_eval_steps, nb_eval_examples = 0, 0\n",
    "    # Evaluate data for one epoch\n",
    "    for batch in validation_dataloader:\n",
    "        \n",
    "        # Add batch to GPU\n",
    "        b_input_ids = batch[0].to(device)\n",
    "        b_input_mask = batch[1].to(device)\n",
    "        b_labels = batch[2].to(device)\n",
    "        \n",
    "        # Telling the model not to compute or store gradients, saving memory and\n",
    "        # speeding up validation\n",
    "        with torch.no_grad():        \n",
    "            # Forward pass, calculate logit predictions.\n",
    "            # This will return the logits rather than the loss because we have\n",
    "            # not provided labels.\n",
    "            # token_type_ids is the same as the \"segment ids\", which \n",
    "            # differentiates sentence 1 and 2 in 2-sentence tasks.\n",
    "            # The documentation for this `model` function is here: \n",
    "            # https://huggingface.co/transformers/v2.2.0/model_doc/bert.html#transformers.BertForSequenceClassification\n",
    "            outputs = model(b_input_ids, \n",
    "                            token_type_ids=None, \n",
    "                            attention_mask=b_input_mask,\n",
    "                            labels=b_labels)\n",
    "        \n",
    "        # Get the \"logits\" output by the model. The \"logits\" are the output\n",
    "        # values prior to applying an activation function like the softmax.\n",
    "        loss = outputs[0]\n",
    "        logits = outputs[1]\n",
    "        #hidden_state_vl = outputs[2]\n",
    "        #features = hidden_state_vl[0][:,0,:].detach().cpu().numpy()\n",
    "        #embeddings_vl.append([epoch_i,batch[3], features])\n",
    "        \n",
    "        # Track Loss\n",
    "        eval_loss += loss.item()\n",
    "\n",
    "        # Move logits, hidden states, and labels to CPU\n",
    "        logits = logits.detach().cpu().numpy()\n",
    "        #hidden_state_vl = hidden_state_vl.detach().cpu().numpy()\n",
    "        label_ids = b_labels.to('cpu').numpy()\n",
    "\n",
    "        valid_predictions.append([epoch_i,logits])\n",
    "        valid_true_labels.append([epoch_i,label_ids])\n",
    "        \n",
    "        # Calculate the accuracy for this batch of test sentences.\n",
    "        tmp_eval_accuracy = flat_accuracy(logits, label_ids)\n",
    "        \n",
    "        # Accumulate the total accuracy.\n",
    "        eval_accuracy += tmp_eval_accuracy\n",
    "        # Track the number of batches\n",
    "        nb_eval_steps += 1\n",
    "    \n",
    "    # Calculate the average loss over the training data.\n",
    "    avg_valid_loss = eval_loss / len(validation_dataloader)   \n",
    "\n",
    "    # Report the final accuracy for this validation run.\n",
    "    loss_values_valid.append(avg_valid_loss)\n",
    "    print(\"  Accuracy: {0:.2f}\".format(eval_accuracy/nb_eval_steps))\n",
    "    print(\"  Average validation loss: {0:.2f}\".format(avg_valid_loss))\n",
    "    print(\"  Validation took: {:}\".format(format_time(time.time() - t0)))\n",
    "    \n",
    "print(\"\")\n",
    "print(\"Training complete!\")"
   ]
  },
  {
   "cell_type": "markdown",
   "metadata": {
    "papermill": {
     "duration": 0.133021,
     "end_time": "2021-05-18T02:20:28.579175",
     "exception": false,
     "start_time": "2021-05-18T02:20:28.446154",
     "status": "completed"
    },
    "tags": []
   },
   "source": [
    "### Plot Training and Validation Loss"
   ]
  },
  {
   "cell_type": "code",
   "execution_count": 35,
   "metadata": {
    "execution": {
     "iopub.execute_input": "2021-05-18T02:20:28.861964Z",
     "iopub.status.busy": "2021-05-18T02:20:28.861074Z",
     "iopub.status.idle": "2021-05-18T02:20:28.865049Z",
     "shell.execute_reply": "2021-05-18T02:20:28.864648Z"
    },
    "papermill": {
     "duration": 0.153956,
     "end_time": "2021-05-18T02:20:28.865134",
     "exception": false,
     "start_time": "2021-05-18T02:20:28.711178",
     "status": "completed"
    },
    "tags": []
   },
   "outputs": [
    {
     "data": {
      "text/html": [
       "<div>\n",
       "<style scoped>\n",
       "    .dataframe tbody tr th:only-of-type {\n",
       "        vertical-align: middle;\n",
       "    }\n",
       "\n",
       "    .dataframe tbody tr th {\n",
       "        vertical-align: top;\n",
       "    }\n",
       "\n",
       "    .dataframe thead th {\n",
       "        text-align: right;\n",
       "    }\n",
       "</style>\n",
       "<table border=\"1\" class=\"dataframe\">\n",
       "  <thead>\n",
       "    <tr style=\"text-align: right;\">\n",
       "      <th></th>\n",
       "      <th>epoch</th>\n",
       "      <th>variable</th>\n",
       "      <th>value</th>\n",
       "    </tr>\n",
       "  </thead>\n",
       "  <tbody>\n",
       "    <tr>\n",
       "      <th>0</th>\n",
       "      <td>0</td>\n",
       "      <td>Train Loss</td>\n",
       "      <td>0.298036</td>\n",
       "    </tr>\n",
       "    <tr>\n",
       "      <th>1</th>\n",
       "      <td>1</td>\n",
       "      <td>Train Loss</td>\n",
       "      <td>0.226817</td>\n",
       "    </tr>\n",
       "    <tr>\n",
       "      <th>2</th>\n",
       "      <td>0</td>\n",
       "      <td>Valid Loss</td>\n",
       "      <td>0.466556</td>\n",
       "    </tr>\n",
       "    <tr>\n",
       "      <th>3</th>\n",
       "      <td>1</td>\n",
       "      <td>Valid Loss</td>\n",
       "      <td>0.519189</td>\n",
       "    </tr>\n",
       "  </tbody>\n",
       "</table>\n",
       "</div>"
      ],
      "text/plain": [
       "   epoch    variable     value\n",
       "0      0  Train Loss  0.298036\n",
       "1      1  Train Loss  0.226817\n",
       "2      0  Valid Loss  0.466556\n",
       "3      1  Valid Loss  0.519189"
      ]
     },
     "execution_count": 35,
     "metadata": {},
     "output_type": "execute_result"
    }
   ],
   "source": [
    "df= pd.DataFrame({'epoch': range(0, epochs), 'Train Loss': loss_values, 'Valid Loss': loss_values_valid})\n",
    "df = pd.melt(df, id_vars=['epoch'], value_vars=['Train Loss', 'Valid Loss'])\n",
    "df"
   ]
  },
  {
   "cell_type": "code",
   "execution_count": 36,
   "metadata": {
    "execution": {
     "iopub.execute_input": "2021-05-18T02:20:29.132390Z",
     "iopub.status.busy": "2021-05-18T02:20:29.131709Z",
     "iopub.status.idle": "2021-05-18T02:20:31.321253Z",
     "shell.execute_reply": "2021-05-18T02:20:31.320820Z"
    },
    "papermill": {
     "duration": 2.325401,
     "end_time": "2021-05-18T02:20:31.321367",
     "exception": false,
     "start_time": "2021-05-18T02:20:28.995966",
     "status": "completed"
    },
    "tags": []
   },
   "outputs": [
    {
     "data": {
      "text/html": [
       "        <script type=\"text/javascript\">\n",
       "        window.PlotlyConfig = {MathJaxConfig: 'local'};\n",
       "        if (window.MathJax) {MathJax.Hub.Config({SVG: {font: \"STIX-Web\"}});}\n",
       "        if (typeof require !== 'undefined') {\n",
       "        require.undef(\"plotly\");\n",
       "        requirejs.config({\n",
       "            paths: {\n",
       "                'plotly': ['https://cdn.plot.ly/plotly-latest.min']\n",
       "            }\n",
       "        });\n",
       "        require(['plotly'], function(Plotly) {\n",
       "            window._Plotly = Plotly;\n",
       "        });\n",
       "        }\n",
       "        </script>\n",
       "        "
      ]
     },
     "metadata": {},
     "output_type": "display_data"
    },
    {
     "data": {
      "text/html": [
       "<div>                            <div id=\"58729f81-040b-49da-99c7-b99e8992bd0e\" class=\"plotly-graph-div\" style=\"height:525px; width:100%;\"></div>            <script type=\"text/javascript\">                require([\"plotly\"], function(Plotly) {                    window.PLOTLYENV=window.PLOTLYENV || {};                                    if (document.getElementById(\"58729f81-040b-49da-99c7-b99e8992bd0e\")) {                    Plotly.newPlot(                        \"58729f81-040b-49da-99c7-b99e8992bd0e\",                        [{\"hovertemplate\": \"variable=Train Loss<br>epoch=%{x}<br>value=%{y}<extra></extra>\", \"legendgroup\": \"Train Loss\", \"line\": {\"color\": \"#636efa\", \"dash\": \"solid\"}, \"mode\": \"lines\", \"name\": \"Train Loss\", \"orientation\": \"v\", \"showlegend\": true, \"type\": \"scatter\", \"x\": [0, 1], \"xaxis\": \"x\", \"y\": [0.2980361404152185, 0.22681707798935366], \"yaxis\": \"y\"}, {\"hovertemplate\": \"variable=Valid Loss<br>epoch=%{x}<br>value=%{y}<extra></extra>\", \"legendgroup\": \"Valid Loss\", \"line\": {\"color\": \"#EF553B\", \"dash\": \"solid\"}, \"mode\": \"lines\", \"name\": \"Valid Loss\", \"orientation\": \"v\", \"showlegend\": true, \"type\": \"scatter\", \"x\": [0, 1], \"xaxis\": \"x\", \"y\": [0.4665556400008071, 0.5191889983711593], \"yaxis\": \"y\"}],                        {\"legend\": {\"title\": {\"text\": \"variable\"}, \"tracegroupgap\": 0}, \"margin\": {\"t\": 60}, \"template\": {\"data\": {\"bar\": [{\"error_x\": {\"color\": \"#2a3f5f\"}, \"error_y\": {\"color\": \"#2a3f5f\"}, \"marker\": {\"line\": {\"color\": \"#E5ECF6\", \"width\": 0.5}}, \"type\": \"bar\"}], \"barpolar\": [{\"marker\": {\"line\": {\"color\": \"#E5ECF6\", \"width\": 0.5}}, \"type\": \"barpolar\"}], \"carpet\": [{\"aaxis\": {\"endlinecolor\": \"#2a3f5f\", \"gridcolor\": \"white\", \"linecolor\": \"white\", \"minorgridcolor\": \"white\", \"startlinecolor\": \"#2a3f5f\"}, \"baxis\": {\"endlinecolor\": \"#2a3f5f\", \"gridcolor\": \"white\", \"linecolor\": \"white\", \"minorgridcolor\": \"white\", \"startlinecolor\": \"#2a3f5f\"}, \"type\": \"carpet\"}], \"choropleth\": [{\"colorbar\": {\"outlinewidth\": 0, \"ticks\": \"\"}, \"type\": \"choropleth\"}], \"contour\": [{\"colorbar\": {\"outlinewidth\": 0, \"ticks\": \"\"}, \"colorscale\": [[0.0, \"#0d0887\"], [0.1111111111111111, \"#46039f\"], [0.2222222222222222, \"#7201a8\"], [0.3333333333333333, \"#9c179e\"], [0.4444444444444444, \"#bd3786\"], [0.5555555555555556, \"#d8576b\"], [0.6666666666666666, \"#ed7953\"], [0.7777777777777778, \"#fb9f3a\"], [0.8888888888888888, \"#fdca26\"], [1.0, \"#f0f921\"]], \"type\": \"contour\"}], \"contourcarpet\": [{\"colorbar\": {\"outlinewidth\": 0, \"ticks\": \"\"}, \"type\": \"contourcarpet\"}], \"heatmap\": [{\"colorbar\": {\"outlinewidth\": 0, \"ticks\": \"\"}, \"colorscale\": [[0.0, \"#0d0887\"], [0.1111111111111111, \"#46039f\"], [0.2222222222222222, \"#7201a8\"], [0.3333333333333333, \"#9c179e\"], [0.4444444444444444, \"#bd3786\"], [0.5555555555555556, \"#d8576b\"], [0.6666666666666666, \"#ed7953\"], [0.7777777777777778, \"#fb9f3a\"], [0.8888888888888888, \"#fdca26\"], [1.0, \"#f0f921\"]], \"type\": \"heatmap\"}], \"heatmapgl\": [{\"colorbar\": {\"outlinewidth\": 0, \"ticks\": \"\"}, \"colorscale\": [[0.0, \"#0d0887\"], [0.1111111111111111, \"#46039f\"], [0.2222222222222222, \"#7201a8\"], [0.3333333333333333, \"#9c179e\"], [0.4444444444444444, \"#bd3786\"], [0.5555555555555556, \"#d8576b\"], [0.6666666666666666, \"#ed7953\"], [0.7777777777777778, \"#fb9f3a\"], [0.8888888888888888, \"#fdca26\"], [1.0, \"#f0f921\"]], \"type\": \"heatmapgl\"}], \"histogram\": [{\"marker\": {\"colorbar\": {\"outlinewidth\": 0, \"ticks\": \"\"}}, \"type\": \"histogram\"}], \"histogram2d\": [{\"colorbar\": {\"outlinewidth\": 0, \"ticks\": \"\"}, \"colorscale\": [[0.0, \"#0d0887\"], [0.1111111111111111, \"#46039f\"], [0.2222222222222222, \"#7201a8\"], [0.3333333333333333, \"#9c179e\"], [0.4444444444444444, \"#bd3786\"], [0.5555555555555556, \"#d8576b\"], [0.6666666666666666, \"#ed7953\"], [0.7777777777777778, \"#fb9f3a\"], [0.8888888888888888, \"#fdca26\"], [1.0, \"#f0f921\"]], \"type\": \"histogram2d\"}], \"histogram2dcontour\": [{\"colorbar\": {\"outlinewidth\": 0, \"ticks\": \"\"}, \"colorscale\": [[0.0, \"#0d0887\"], [0.1111111111111111, \"#46039f\"], [0.2222222222222222, \"#7201a8\"], [0.3333333333333333, \"#9c179e\"], [0.4444444444444444, \"#bd3786\"], [0.5555555555555556, \"#d8576b\"], [0.6666666666666666, \"#ed7953\"], [0.7777777777777778, \"#fb9f3a\"], [0.8888888888888888, \"#fdca26\"], [1.0, \"#f0f921\"]], \"type\": \"histogram2dcontour\"}], \"mesh3d\": [{\"colorbar\": {\"outlinewidth\": 0, \"ticks\": \"\"}, \"type\": \"mesh3d\"}], \"parcoords\": [{\"line\": {\"colorbar\": {\"outlinewidth\": 0, \"ticks\": \"\"}}, \"type\": \"parcoords\"}], \"pie\": [{\"automargin\": true, \"type\": \"pie\"}], \"scatter\": [{\"marker\": {\"colorbar\": {\"outlinewidth\": 0, \"ticks\": \"\"}}, \"type\": \"scatter\"}], \"scatter3d\": [{\"line\": {\"colorbar\": {\"outlinewidth\": 0, \"ticks\": \"\"}}, \"marker\": {\"colorbar\": {\"outlinewidth\": 0, \"ticks\": \"\"}}, \"type\": \"scatter3d\"}], \"scattercarpet\": [{\"marker\": {\"colorbar\": {\"outlinewidth\": 0, \"ticks\": \"\"}}, \"type\": \"scattercarpet\"}], \"scattergeo\": [{\"marker\": {\"colorbar\": {\"outlinewidth\": 0, \"ticks\": \"\"}}, \"type\": \"scattergeo\"}], \"scattergl\": [{\"marker\": {\"colorbar\": {\"outlinewidth\": 0, \"ticks\": \"\"}}, \"type\": \"scattergl\"}], \"scattermapbox\": [{\"marker\": {\"colorbar\": {\"outlinewidth\": 0, \"ticks\": \"\"}}, \"type\": \"scattermapbox\"}], \"scatterpolar\": [{\"marker\": {\"colorbar\": {\"outlinewidth\": 0, \"ticks\": \"\"}}, \"type\": \"scatterpolar\"}], \"scatterpolargl\": [{\"marker\": {\"colorbar\": {\"outlinewidth\": 0, \"ticks\": \"\"}}, \"type\": \"scatterpolargl\"}], \"scatterternary\": [{\"marker\": {\"colorbar\": {\"outlinewidth\": 0, \"ticks\": \"\"}}, \"type\": \"scatterternary\"}], \"surface\": [{\"colorbar\": {\"outlinewidth\": 0, \"ticks\": \"\"}, \"colorscale\": [[0.0, \"#0d0887\"], [0.1111111111111111, \"#46039f\"], [0.2222222222222222, \"#7201a8\"], [0.3333333333333333, \"#9c179e\"], [0.4444444444444444, \"#bd3786\"], [0.5555555555555556, \"#d8576b\"], [0.6666666666666666, \"#ed7953\"], [0.7777777777777778, \"#fb9f3a\"], [0.8888888888888888, \"#fdca26\"], [1.0, \"#f0f921\"]], \"type\": \"surface\"}], \"table\": [{\"cells\": {\"fill\": {\"color\": \"#EBF0F8\"}, \"line\": {\"color\": \"white\"}}, \"header\": {\"fill\": {\"color\": \"#C8D4E3\"}, \"line\": {\"color\": \"white\"}}, \"type\": \"table\"}]}, \"layout\": {\"annotationdefaults\": {\"arrowcolor\": \"#2a3f5f\", \"arrowhead\": 0, \"arrowwidth\": 1}, \"autotypenumbers\": \"strict\", \"coloraxis\": {\"colorbar\": {\"outlinewidth\": 0, \"ticks\": \"\"}}, \"colorscale\": {\"diverging\": [[0, \"#8e0152\"], [0.1, \"#c51b7d\"], [0.2, \"#de77ae\"], [0.3, \"#f1b6da\"], [0.4, \"#fde0ef\"], [0.5, \"#f7f7f7\"], [0.6, \"#e6f5d0\"], [0.7, \"#b8e186\"], [0.8, \"#7fbc41\"], [0.9, \"#4d9221\"], [1, \"#276419\"]], \"sequential\": [[0.0, \"#0d0887\"], [0.1111111111111111, \"#46039f\"], [0.2222222222222222, \"#7201a8\"], [0.3333333333333333, \"#9c179e\"], [0.4444444444444444, \"#bd3786\"], [0.5555555555555556, \"#d8576b\"], [0.6666666666666666, \"#ed7953\"], [0.7777777777777778, \"#fb9f3a\"], [0.8888888888888888, \"#fdca26\"], [1.0, \"#f0f921\"]], \"sequentialminus\": [[0.0, \"#0d0887\"], [0.1111111111111111, \"#46039f\"], [0.2222222222222222, \"#7201a8\"], [0.3333333333333333, \"#9c179e\"], [0.4444444444444444, \"#bd3786\"], [0.5555555555555556, \"#d8576b\"], [0.6666666666666666, \"#ed7953\"], [0.7777777777777778, \"#fb9f3a\"], [0.8888888888888888, \"#fdca26\"], [1.0, \"#f0f921\"]]}, \"colorway\": [\"#636efa\", \"#EF553B\", \"#00cc96\", \"#ab63fa\", \"#FFA15A\", \"#19d3f3\", \"#FF6692\", \"#B6E880\", \"#FF97FF\", \"#FECB52\"], \"font\": {\"color\": \"#2a3f5f\"}, \"geo\": {\"bgcolor\": \"white\", \"lakecolor\": \"white\", \"landcolor\": \"#E5ECF6\", \"showlakes\": true, \"showland\": true, \"subunitcolor\": \"white\"}, \"hoverlabel\": {\"align\": \"left\"}, \"hovermode\": \"closest\", \"mapbox\": {\"style\": \"light\"}, \"paper_bgcolor\": \"white\", \"plot_bgcolor\": \"#E5ECF6\", \"polar\": {\"angularaxis\": {\"gridcolor\": \"white\", \"linecolor\": \"white\", \"ticks\": \"\"}, \"bgcolor\": \"#E5ECF6\", \"radialaxis\": {\"gridcolor\": \"white\", \"linecolor\": \"white\", \"ticks\": \"\"}}, \"scene\": {\"xaxis\": {\"backgroundcolor\": \"#E5ECF6\", \"gridcolor\": \"white\", \"gridwidth\": 2, \"linecolor\": \"white\", \"showbackground\": true, \"ticks\": \"\", \"zerolinecolor\": \"white\"}, \"yaxis\": {\"backgroundcolor\": \"#E5ECF6\", \"gridcolor\": \"white\", \"gridwidth\": 2, \"linecolor\": \"white\", \"showbackground\": true, \"ticks\": \"\", \"zerolinecolor\": \"white\"}, \"zaxis\": {\"backgroundcolor\": \"#E5ECF6\", \"gridcolor\": \"white\", \"gridwidth\": 2, \"linecolor\": \"white\", \"showbackground\": true, \"ticks\": \"\", \"zerolinecolor\": \"white\"}}, \"shapedefaults\": {\"line\": {\"color\": \"#2a3f5f\"}}, \"ternary\": {\"aaxis\": {\"gridcolor\": \"white\", \"linecolor\": \"white\", \"ticks\": \"\"}, \"baxis\": {\"gridcolor\": \"white\", \"linecolor\": \"white\", \"ticks\": \"\"}, \"bgcolor\": \"#E5ECF6\", \"caxis\": {\"gridcolor\": \"white\", \"linecolor\": \"white\", \"ticks\": \"\"}}, \"title\": {\"x\": 0.05}, \"xaxis\": {\"automargin\": true, \"gridcolor\": \"white\", \"linecolor\": \"white\", \"ticks\": \"\", \"title\": {\"standoff\": 15}, \"zerolinecolor\": \"white\", \"zerolinewidth\": 2}, \"yaxis\": {\"automargin\": true, \"gridcolor\": \"white\", \"linecolor\": \"white\", \"ticks\": \"\", \"title\": {\"standoff\": 15}, \"zerolinecolor\": \"white\", \"zerolinewidth\": 2}}}, \"title\": {\"text\": \"Training loss of the Model\"}, \"xaxis\": {\"anchor\": \"y\", \"domain\": [0.0, 1.0], \"title\": {\"text\": \"Epoch\"}}, \"yaxis\": {\"anchor\": \"x\", \"domain\": [0.0, 1.0], \"title\": {\"text\": \"Loss\"}}},                        {\"responsive\": true}                    ).then(function(){\n",
       "                            \n",
       "var gd = document.getElementById('58729f81-040b-49da-99c7-b99e8992bd0e');\n",
       "var x = new MutationObserver(function (mutations, observer) {{\n",
       "        var display = window.getComputedStyle(gd).display;\n",
       "        if (!display || display === 'none') {{\n",
       "            console.log([gd, 'removed!']);\n",
       "            Plotly.purge(gd);\n",
       "            observer.disconnect();\n",
       "        }}\n",
       "}});\n",
       "\n",
       "// Listen for the removal of the full notebook cells\n",
       "var notebookContainer = gd.closest('#notebook-container');\n",
       "if (notebookContainer) {{\n",
       "    x.observe(notebookContainer, {childList: true});\n",
       "}}\n",
       "\n",
       "// Listen for the clearing of the current output cell\n",
       "var outputEl = gd.closest('.output');\n",
       "if (outputEl) {{\n",
       "    x.observe(outputEl, {childList: true});\n",
       "}}\n",
       "\n",
       "                        })                };                });            </script>        </div>"
      ]
     },
     "metadata": {},
     "output_type": "display_data"
    }
   ],
   "source": [
    "import plotly.express as px\n",
    "\n",
    "fig = px.line(df, x='epoch', y='value', color = 'variable')\n",
    "fig.update_layout(title='Training loss of the Model',\n",
    "                   xaxis_title='Epoch',\n",
    "                   yaxis_title='Loss')\n",
    "fig.show()"
   ]
  },
  {
   "cell_type": "markdown",
   "metadata": {
    "papermill": {
     "duration": 0.130995,
     "end_time": "2021-05-18T02:20:31.584688",
     "exception": false,
     "start_time": "2021-05-18T02:20:31.453693",
     "status": "completed"
    },
    "tags": []
   },
   "source": [
    "### Extract Embeddings"
   ]
  },
  {
   "cell_type": "code",
   "execution_count": 37,
   "metadata": {
    "execution": {
     "iopub.execute_input": "2021-05-18T02:20:31.866384Z",
     "iopub.status.busy": "2021-05-18T02:20:31.865591Z",
     "iopub.status.idle": "2021-05-18T02:27:28.139179Z",
     "shell.execute_reply": "2021-05-18T02:27:28.138679Z"
    },
    "papermill": {
     "duration": 416.422941,
     "end_time": "2021-05-18T02:27:28.139290",
     "exception": false,
     "start_time": "2021-05-18T02:20:31.716349",
     "status": "completed"
    },
    "tags": []
   },
   "outputs": [
    {
     "name": "stdout",
     "output_type": "stream",
     "text": [
      "Extracting embeddinga for 81,286 train sentences...\n",
      "Extracting embeddinga for 27,835 validation sentences...\n"
     ]
    }
   ],
   "source": [
    "embeddings_tr, embeddings_vl = [], []\n",
    "# ========================================\n",
    "#               Train\n",
    "# ========================================\n",
    "# Extract embeddinga on train set\n",
    "print('Extracting embeddinga for {:,} train sentences...'.format(len(train_inputs)))\n",
    "# Put model in evaluation mode\n",
    "model.eval()\n",
    "# Tracking variables \n",
    "predictions_train , true_labels_train = [], []\n",
    "# Predict \n",
    "for batch in train_dataloader_sequential:\n",
    "    b_input_ids = batch[0].to(device)\n",
    "    b_input_mask = batch[1].to(device)\n",
    "    b_labels = batch[2].to(device)\n",
    "  \n",
    "  # Telling the model not to compute or store gradients, saving memory and \n",
    "  # speeding up prediction\n",
    "    with torch.no_grad():\n",
    "        # Forward pass, calculate logit predictions\n",
    "        outputs = model(b_input_ids, token_type_ids=None, \n",
    "                      attention_mask=b_input_mask, labels=b_labels)\n",
    "    logits = outputs[1]\n",
    "    # Embeddings extraction approach is to average the second to last hiden layer of each token producing a single 768 length vector\n",
    "    # https://mccormickml.com/2019/05/14/BERT-word-embeddings-tutorial/\n",
    "    hidden_state_tr = outputs[2]\n",
    "    token_vecs = hidden_state_tr[-2]\n",
    "    token_vecs_sentvecs = []\n",
    "    for token in token_vecs:\n",
    "        sentvecs = torch.mean(token, dim=0).detach().cpu().numpy()\n",
    "        token_vecs_sentvecs.append(sentvecs)\n",
    "    #features = hidden_state_tr[0][:,0,:].detach().cpu().numpy()\n",
    "    embeddings_tr.append([batch[3], token_vecs_sentvecs])\n",
    "    # Move logits and labels to CPU\n",
    "    logits = logits.detach().cpu().numpy()\n",
    "    label_ids = b_labels.to('cpu').numpy()\n",
    "\n",
    "    # Store predictions and true labels\n",
    "    predictions_train.append(logits)\n",
    "    true_labels_train.append(label_ids)\n",
    "# ========================================\n",
    "#               Validation\n",
    "# ========================================\n",
    "# Extract embeddinga on train set\n",
    "print('Extracting embeddinga for {:,} validation sentences...'.format(len(validation_inputs)))\n",
    "# Put model in evaluation mode\n",
    "model.eval()\n",
    "# Tracking variables \n",
    "predictions_valid, true_labels_valid = [], []\n",
    "# Predict \n",
    "for batch in validation_dataloader:\n",
    "    b_input_ids = batch[0].to(device)\n",
    "    b_input_mask = batch[1].to(device)\n",
    "    b_labels = batch[2].to(device)\n",
    "  \n",
    "  # Telling the model not to compute or store gradients, saving memory and \n",
    "  # speeding up prediction\n",
    "    with torch.no_grad():\n",
    "        # Forward pass, calculate logit predictions\n",
    "        outputs = model(b_input_ids, token_type_ids=None, \n",
    "                      attention_mask=b_input_mask, labels=b_labels)\n",
    "    logits = outputs[1]\n",
    "    # Embeddings extraction approach is to average the second to last hiden layer of each token producing a single 768 length vector\n",
    "    # https://mccormickml.com/2019/05/14/BERT-word-embeddings-tutorial/\n",
    "    hidden_state_vl = outputs[2]\n",
    "    token_vecs = hidden_state_vl[-2]\n",
    "    token_vecs_sentvecs = []\n",
    "    for token in token_vecs:\n",
    "        sentvecs = torch.mean(token, dim=0).detach().cpu().numpy()\n",
    "        token_vecs_sentvecs.append(sentvecs)\n",
    "    #features = hidden_state_vl[0][:,0,:].detach().cpu().numpy()\n",
    "    embeddings_vl.append([batch[3], token_vecs_sentvecs])\n",
    "    # Move logits and labels to CPU\n",
    "    logits = logits.detach().cpu().numpy()\n",
    "    label_ids = b_labels.to('cpu').numpy()\n",
    "\n",
    "    # Store predictions and true labels\n",
    "    predictions_valid.append(logits)\n",
    "    true_labels_valid.append(label_ids)"
   ]
  },
  {
   "cell_type": "markdown",
   "metadata": {
    "papermill": {
     "duration": 0.132137,
     "end_time": "2021-05-18T02:27:28.405013",
     "exception": false,
     "start_time": "2021-05-18T02:27:28.272876",
     "status": "completed"
    },
    "tags": []
   },
   "source": [
    "### Combine Embeddings with original DF and Output CM"
   ]
  },
  {
   "cell_type": "markdown",
   "metadata": {
    "papermill": {
     "duration": 0.134433,
     "end_time": "2021-05-18T02:27:28.671090",
     "exception": false,
     "start_time": "2021-05-18T02:27:28.536657",
     "status": "completed"
    },
    "tags": []
   },
   "source": [
    "Train"
   ]
  },
  {
   "cell_type": "code",
   "execution_count": 38,
   "metadata": {
    "execution": {
     "iopub.execute_input": "2021-05-18T02:27:28.943428Z",
     "iopub.status.busy": "2021-05-18T02:27:28.942628Z",
     "iopub.status.idle": "2021-05-18T02:27:46.494753Z",
     "shell.execute_reply": "2021-05-18T02:27:46.494303Z"
    },
    "papermill": {
     "duration": 17.691986,
     "end_time": "2021-05-18T02:27:46.494850",
     "exception": false,
     "start_time": "2021-05-18T02:27:28.802864",
     "status": "completed"
    },
    "tags": []
   },
   "outputs": [
    {
     "name": "stdout",
     "output_type": "stream",
     "text": [
      "Train Embeddings Extraction and Merge DONE\n"
     ]
    },
    {
     "data": {
      "text/html": [
       "<div>\n",
       "<style scoped>\n",
       "    .dataframe tbody tr th:only-of-type {\n",
       "        vertical-align: middle;\n",
       "    }\n",
       "\n",
       "    .dataframe tbody tr th {\n",
       "        vertical-align: top;\n",
       "    }\n",
       "\n",
       "    .dataframe thead th {\n",
       "        text-align: right;\n",
       "    }\n",
       "</style>\n",
       "<table border=\"1\" class=\"dataframe\">\n",
       "  <thead>\n",
       "    <tr style=\"text-align: right;\">\n",
       "      <th></th>\n",
       "      <th>id</th>\n",
       "      <th>created_at</th>\n",
       "      <th>retweet_count</th>\n",
       "      <th>favorite_count</th>\n",
       "      <th>quoted_status_id</th>\n",
       "      <th>user.id</th>\n",
       "      <th>user.created_at</th>\n",
       "      <th>user.favourites_count</th>\n",
       "      <th>user.followers_count</th>\n",
       "      <th>user.friends_count</th>\n",
       "      <th>...</th>\n",
       "      <th>758</th>\n",
       "      <th>759</th>\n",
       "      <th>760</th>\n",
       "      <th>761</th>\n",
       "      <th>762</th>\n",
       "      <th>763</th>\n",
       "      <th>764</th>\n",
       "      <th>765</th>\n",
       "      <th>766</th>\n",
       "      <th>767</th>\n",
       "    </tr>\n",
       "  </thead>\n",
       "  <tbody>\n",
       "    <tr>\n",
       "      <th>0</th>\n",
       "      <td>1.278125e+18</td>\n",
       "      <td>1.593564e+09</td>\n",
       "      <td>0.0</td>\n",
       "      <td>1.0</td>\n",
       "      <td>0</td>\n",
       "      <td>1.278122e+18</td>\n",
       "      <td>1.593563e+09</td>\n",
       "      <td>0.0</td>\n",
       "      <td>6.0</td>\n",
       "      <td>52.0</td>\n",
       "      <td>...</td>\n",
       "      <td>0.434398</td>\n",
       "      <td>-0.233182</td>\n",
       "      <td>-0.168174</td>\n",
       "      <td>-1.053273</td>\n",
       "      <td>-0.178575</td>\n",
       "      <td>-0.486138</td>\n",
       "      <td>0.638634</td>\n",
       "      <td>-0.289704</td>\n",
       "      <td>0.523531</td>\n",
       "      <td>-0.206362</td>\n",
       "    </tr>\n",
       "    <tr>\n",
       "      <th>1</th>\n",
       "      <td>1.279757e+18</td>\n",
       "      <td>1.593953e+09</td>\n",
       "      <td>0.0</td>\n",
       "      <td>0.0</td>\n",
       "      <td>0</td>\n",
       "      <td>1.278122e+18</td>\n",
       "      <td>1.593563e+09</td>\n",
       "      <td>0.0</td>\n",
       "      <td>2.0</td>\n",
       "      <td>53.0</td>\n",
       "      <td>...</td>\n",
       "      <td>0.156455</td>\n",
       "      <td>-0.637931</td>\n",
       "      <td>0.182753</td>\n",
       "      <td>-1.191837</td>\n",
       "      <td>-0.087891</td>\n",
       "      <td>-0.406946</td>\n",
       "      <td>0.084246</td>\n",
       "      <td>-0.015253</td>\n",
       "      <td>0.592148</td>\n",
       "      <td>0.016834</td>\n",
       "    </tr>\n",
       "    <tr>\n",
       "      <th>2</th>\n",
       "      <td>1.281870e+18</td>\n",
       "      <td>1.594457e+09</td>\n",
       "      <td>0.0</td>\n",
       "      <td>0.0</td>\n",
       "      <td>0</td>\n",
       "      <td>1.278129e+18</td>\n",
       "      <td>1.593565e+09</td>\n",
       "      <td>41.0</td>\n",
       "      <td>1.0</td>\n",
       "      <td>47.0</td>\n",
       "      <td>...</td>\n",
       "      <td>0.181099</td>\n",
       "      <td>-0.248927</td>\n",
       "      <td>0.140677</td>\n",
       "      <td>-0.866037</td>\n",
       "      <td>-0.135469</td>\n",
       "      <td>-0.452594</td>\n",
       "      <td>0.208715</td>\n",
       "      <td>-0.664206</td>\n",
       "      <td>0.481522</td>\n",
       "      <td>0.142642</td>\n",
       "    </tr>\n",
       "    <tr>\n",
       "      <th>3</th>\n",
       "      <td>1.280308e+18</td>\n",
       "      <td>1.594084e+09</td>\n",
       "      <td>0.0</td>\n",
       "      <td>0.0</td>\n",
       "      <td>0</td>\n",
       "      <td>1.278129e+18</td>\n",
       "      <td>1.593565e+09</td>\n",
       "      <td>41.0</td>\n",
       "      <td>1.0</td>\n",
       "      <td>47.0</td>\n",
       "      <td>...</td>\n",
       "      <td>0.512221</td>\n",
       "      <td>-0.240308</td>\n",
       "      <td>0.010397</td>\n",
       "      <td>-1.067949</td>\n",
       "      <td>-0.304271</td>\n",
       "      <td>-0.439290</td>\n",
       "      <td>0.539227</td>\n",
       "      <td>-0.556917</td>\n",
       "      <td>0.441181</td>\n",
       "      <td>-0.216466</td>\n",
       "    </tr>\n",
       "    <tr>\n",
       "      <th>4</th>\n",
       "      <td>1.281867e+18</td>\n",
       "      <td>1.594456e+09</td>\n",
       "      <td>0.0</td>\n",
       "      <td>0.0</td>\n",
       "      <td>0</td>\n",
       "      <td>1.278129e+18</td>\n",
       "      <td>1.593565e+09</td>\n",
       "      <td>41.0</td>\n",
       "      <td>1.0</td>\n",
       "      <td>47.0</td>\n",
       "      <td>...</td>\n",
       "      <td>0.105839</td>\n",
       "      <td>-0.287996</td>\n",
       "      <td>-0.061424</td>\n",
       "      <td>-0.868895</td>\n",
       "      <td>-0.170679</td>\n",
       "      <td>-0.321831</td>\n",
       "      <td>0.384008</td>\n",
       "      <td>-0.476067</td>\n",
       "      <td>0.492965</td>\n",
       "      <td>0.025891</td>\n",
       "    </tr>\n",
       "  </tbody>\n",
       "</table>\n",
       "<p>5 rows × 922 columns</p>\n",
       "</div>"
      ],
      "text/plain": [
       "             id    created_at  retweet_count  favorite_count  \\\n",
       "0  1.278125e+18  1.593564e+09            0.0             1.0   \n",
       "1  1.279757e+18  1.593953e+09            0.0             0.0   \n",
       "2  1.281870e+18  1.594457e+09            0.0             0.0   \n",
       "3  1.280308e+18  1.594084e+09            0.0             0.0   \n",
       "4  1.281867e+18  1.594456e+09            0.0             0.0   \n",
       "\n",
       "   quoted_status_id       user.id  user.created_at  user.favourites_count  \\\n",
       "0                 0  1.278122e+18     1.593563e+09                    0.0   \n",
       "1                 0  1.278122e+18     1.593563e+09                    0.0   \n",
       "2                 0  1.278129e+18     1.593565e+09                   41.0   \n",
       "3                 0  1.278129e+18     1.593565e+09                   41.0   \n",
       "4                 0  1.278129e+18     1.593565e+09                   41.0   \n",
       "\n",
       "   user.followers_count  user.friends_count  ...       758       759  \\\n",
       "0                   6.0                52.0  ...  0.434398 -0.233182   \n",
       "1                   2.0                53.0  ...  0.156455 -0.637931   \n",
       "2                   1.0                47.0  ...  0.181099 -0.248927   \n",
       "3                   1.0                47.0  ...  0.512221 -0.240308   \n",
       "4                   1.0                47.0  ...  0.105839 -0.287996   \n",
       "\n",
       "        760       761       762       763       764       765       766  \\\n",
       "0 -0.168174 -1.053273 -0.178575 -0.486138  0.638634 -0.289704  0.523531   \n",
       "1  0.182753 -1.191837 -0.087891 -0.406946  0.084246 -0.015253  0.592148   \n",
       "2  0.140677 -0.866037 -0.135469 -0.452594  0.208715 -0.664206  0.481522   \n",
       "3  0.010397 -1.067949 -0.304271 -0.439290  0.539227 -0.556917  0.441181   \n",
       "4 -0.061424 -0.868895 -0.170679 -0.321831  0.384008 -0.476067  0.492965   \n",
       "\n",
       "        767  \n",
       "0 -0.206362  \n",
       "1  0.016834  \n",
       "2  0.142642  \n",
       "3 -0.216466  \n",
       "4  0.025891  \n",
       "\n",
       "[5 rows x 922 columns]"
      ]
     },
     "execution_count": 38,
     "metadata": {},
     "output_type": "execute_result"
    }
   ],
   "source": [
    "# Get embeddings for train\n",
    "p = [group for group in embeddings_tr]\n",
    "\n",
    "b = [item for sublist in [[list(t) for t in zip(sublist[0], sublist[1])] for sublist in p] for item in sublist]\n",
    "df = pd.DataFrame(b, columns = ['id', 'embeddings'])  \n",
    "\n",
    "bert_embeddings_df_train = pd.concat([df['id'], df['embeddings'].apply(pd.Series)], axis = 1)\n",
    "bert_embeddings_df_train['id'] = bert_embeddings_df_train['id'].apply(lambda x: x.item())\n",
    "#bert_embeddings_df_train = pd.merge(df_train.drop(['text'], axis=1), bert_embeddings_df_train, left_on = [\"id\"], right_on = [\"id\"])\n",
    "bert_embeddings_df_train = pd.merge(df_train.drop(['text'], axis=1), bert_embeddings_df_train.drop(['id'], axis=1), left_index=True, right_index=True)\n",
    "print('Train Embeddings Extraction and Merge DONE')\n",
    "bert_embeddings_df_train.head()"
   ]
  },
  {
   "cell_type": "code",
   "execution_count": 39,
   "metadata": {
    "execution": {
     "iopub.execute_input": "2021-05-18T02:27:46.773560Z",
     "iopub.status.busy": "2021-05-18T02:27:46.772653Z",
     "iopub.status.idle": "2021-05-18T02:27:50.121533Z",
     "shell.execute_reply": "2021-05-18T02:27:50.121060Z"
    },
    "papermill": {
     "duration": 3.492131,
     "end_time": "2021-05-18T02:27:50.121645",
     "exception": false,
     "start_time": "2021-05-18T02:27:46.629514",
     "status": "completed"
    },
    "tags": []
   },
   "outputs": [
    {
     "name": "stdout",
     "output_type": "stream",
     "text": [
      "Calculating Matthews Corr. Coef. for each batch...\n"
     ]
    },
    {
     "name": "stderr",
     "output_type": "stream",
     "text": [
      "/opt/conda/lib/python3.7/site-packages/sklearn/metrics/_classification.py:846: RuntimeWarning:\n",
      "\n",
      "invalid value encountered in double_scalars\n",
      "\n"
     ]
    }
   ],
   "source": [
    "from sklearn.metrics import matthews_corrcoef\n",
    "matthews_set = []\n",
    "# Evaluate each test batch using Matthew's correlation coefficient\n",
    "print('Calculating Matthews Corr. Coef. for each batch...')\n",
    "# For each input batch...\n",
    "for i in range(len(true_labels_train)):\n",
    "  \n",
    "    # The predictions for this batch are a 2-column ndarray (one column for \"0\" \n",
    "    # and one column for \"1\"). Pick the label with the highest value and turn this\n",
    "    # in to a list of 0s and 1s.\n",
    "    pred_labels_i = np.argmax(predictions_train[i], axis=1).flatten()\n",
    "\n",
    "    # Calculate and store the coef for this batch.  \n",
    "    matthews = matthews_corrcoef(true_labels_train[i], pred_labels_i)                \n",
    "    matthews_set.append(matthews)"
   ]
  },
  {
   "cell_type": "code",
   "execution_count": 40,
   "metadata": {
    "execution": {
     "iopub.execute_input": "2021-05-18T02:27:50.431414Z",
     "iopub.status.busy": "2021-05-18T02:27:50.430530Z",
     "iopub.status.idle": "2021-05-18T02:27:50.638720Z",
     "shell.execute_reply": "2021-05-18T02:27:50.639099Z"
    },
    "papermill": {
     "duration": 0.382065,
     "end_time": "2021-05-18T02:27:50.639233",
     "exception": false,
     "start_time": "2021-05-18T02:27:50.257168",
     "status": "completed"
    },
    "tags": []
   },
   "outputs": [
    {
     "name": "stdout",
     "output_type": "stream",
     "text": [
      "MCC: 0.650\n"
     ]
    }
   ],
   "source": [
    "# Combine the predictions for each batch into a single list of 0s and 1s.\n",
    "flat_predictions = [item for sublist in predictions_train for item in sublist]\n",
    "flat_predictions = np.argmax(flat_predictions, axis=1).flatten()\n",
    "# Combine the correct labels for each batch into a single list.\n",
    "flat_true_labels = [item for sublist in true_labels_train for item in sublist]\n",
    "# Calculate the MCC\n",
    "mcc = matthews_corrcoef(flat_true_labels, flat_predictions)\n",
    "print('MCC: %.3f' % mcc)"
   ]
  },
  {
   "cell_type": "code",
   "execution_count": 41,
   "metadata": {
    "execution": {
     "iopub.execute_input": "2021-05-18T02:27:50.935805Z",
     "iopub.status.busy": "2021-05-18T02:27:50.934899Z",
     "iopub.status.idle": "2021-05-18T02:27:51.017689Z",
     "shell.execute_reply": "2021-05-18T02:27:51.017244Z"
    },
    "papermill": {
     "duration": 0.242794,
     "end_time": "2021-05-18T02:27:51.017787",
     "exception": false,
     "start_time": "2021-05-18T02:27:50.774993",
     "status": "completed"
    },
    "tags": []
   },
   "outputs": [
    {
     "name": "stdout",
     "output_type": "stream",
     "text": [
      "              precision    recall  f1-score   support\n",
      "\n",
      "           0       0.94      1.00      0.97     72944\n",
      "           1       0.93      0.48      0.64      8342\n",
      "\n",
      "    accuracy                           0.94     81286\n",
      "   macro avg       0.94      0.74      0.80     81286\n",
      "weighted avg       0.94      0.94      0.94     81286\n",
      "\n"
     ]
    }
   ],
   "source": [
    "from sklearn.metrics import classification_report,confusion_matrix\n",
    "report = classification_report(flat_true_labels, flat_predictions)\n",
    "print(report)"
   ]
  },
  {
   "cell_type": "code",
   "execution_count": 42,
   "metadata": {
    "execution": {
     "iopub.execute_input": "2021-05-18T02:27:51.294950Z",
     "iopub.status.busy": "2021-05-18T02:27:51.294183Z",
     "iopub.status.idle": "2021-05-18T02:27:51.296691Z",
     "shell.execute_reply": "2021-05-18T02:27:51.297145Z"
    },
    "papermill": {
     "duration": 0.144443,
     "end_time": "2021-05-18T02:27:51.297254",
     "exception": false,
     "start_time": "2021-05-18T02:27:51.152811",
     "status": "completed"
    },
    "tags": []
   },
   "outputs": [],
   "source": [
    "def plot_roc_curve(fpr, tpr, label=None):\n",
    "    plt.plot(fpr, tpr, linewidth=2, label=label)\n",
    "    plt.plot([0, 1], [0, 1], 'k--') # dashed diagonal\n",
    "    plt.axis([0, 1, 0, 1])                                    # Not shown in the book\n",
    "    plt.xlabel('False Positive Rate (Fall-Out)', fontsize=16) # Not shown\n",
    "    plt.ylabel('True Positive Rate (Recall)', fontsize=16)    # Not shown\n",
    "    plt.grid(True)  "
   ]
  },
  {
   "cell_type": "code",
   "execution_count": 43,
   "metadata": {
    "execution": {
     "iopub.execute_input": "2021-05-18T02:27:51.595863Z",
     "iopub.status.busy": "2021-05-18T02:27:51.594931Z",
     "iopub.status.idle": "2021-05-18T02:27:51.768280Z",
     "shell.execute_reply": "2021-05-18T02:27:51.768745Z"
    },
    "papermill": {
     "duration": 0.336209,
     "end_time": "2021-05-18T02:27:51.768881",
     "exception": false,
     "start_time": "2021-05-18T02:27:51.432672",
     "status": "completed"
    },
    "tags": []
   },
   "outputs": [
    {
     "data": {
      "image/png": "[encoded data removed]",
      "text/plain": [
       "<Figure size 576x432 with 1 Axes>"
      ]
     },
     "metadata": {
      "needs_background": "light"
     },
     "output_type": "display_data"
    }
   ],
   "source": [
    "fpr, tpr, thresholds = roc_curve(flat_true_labels, flat_predictions)\n",
    "plt.figure(figsize=(8, 6))                         # Not shown\n",
    "plot_roc_curve(fpr, tpr)\n",
    "plt.plot([4.837e-3, 4.837e-3], [0., 0.4368], \"r:\") # Not shown\n",
    "plt.plot([0.0, 4.837e-3], [0.4368, 0.4368], \"r:\")  # Not shown\n",
    "plt.plot([4.837e-3], [0.4368], \"ro\")               # Not shown\n",
    "plt.show()"
   ]
  },
  {
   "cell_type": "code",
   "execution_count": 44,
   "metadata": {
    "execution": {
     "iopub.execute_input": "2021-05-18T02:27:52.068043Z",
     "iopub.status.busy": "2021-05-18T02:27:52.067136Z",
     "iopub.status.idle": "2021-05-18T02:27:52.092546Z",
     "shell.execute_reply": "2021-05-18T02:27:52.092030Z"
    },
    "papermill": {
     "duration": 0.18723,
     "end_time": "2021-05-18T02:27:52.092635",
     "exception": false,
     "start_time": "2021-05-18T02:27:51.905405",
     "status": "completed"
    },
    "tags": []
   },
   "outputs": [
    {
     "data": {
      "text/plain": [
       "0.7404805916740207"
      ]
     },
     "execution_count": 44,
     "metadata": {},
     "output_type": "execute_result"
    }
   ],
   "source": [
    "roc_auc_score(flat_true_labels, flat_predictions)"
   ]
  },
  {
   "cell_type": "markdown",
   "metadata": {
    "papermill": {
     "duration": 0.136363,
     "end_time": "2021-05-18T02:27:52.366520",
     "exception": false,
     "start_time": "2021-05-18T02:27:52.230157",
     "status": "completed"
    },
    "tags": []
   },
   "source": [
    "Valid"
   ]
  },
  {
   "cell_type": "code",
   "execution_count": 45,
   "metadata": {
    "execution": {
     "iopub.execute_input": "2021-05-18T02:27:52.659246Z",
     "iopub.status.busy": "2021-05-18T02:27:52.658434Z",
     "iopub.status.idle": "2021-05-18T02:27:58.359728Z",
     "shell.execute_reply": "2021-05-18T02:27:58.359252Z"
    },
    "papermill": {
     "duration": 5.846062,
     "end_time": "2021-05-18T02:27:58.359832",
     "exception": false,
     "start_time": "2021-05-18T02:27:52.513770",
     "status": "completed"
    },
    "tags": []
   },
   "outputs": [
    {
     "name": "stdout",
     "output_type": "stream",
     "text": [
      "Valid Embeddings Extraction and Merge DONE.\n"
     ]
    },
    {
     "data": {
      "text/html": [
       "<div>\n",
       "<style scoped>\n",
       "    .dataframe tbody tr th:only-of-type {\n",
       "        vertical-align: middle;\n",
       "    }\n",
       "\n",
       "    .dataframe tbody tr th {\n",
       "        vertical-align: top;\n",
       "    }\n",
       "\n",
       "    .dataframe thead th {\n",
       "        text-align: right;\n",
       "    }\n",
       "</style>\n",
       "<table border=\"1\" class=\"dataframe\">\n",
       "  <thead>\n",
       "    <tr style=\"text-align: right;\">\n",
       "      <th></th>\n",
       "      <th>id</th>\n",
       "      <th>created_at</th>\n",
       "      <th>retweet_count</th>\n",
       "      <th>favorite_count</th>\n",
       "      <th>quoted_status_id</th>\n",
       "      <th>user.id</th>\n",
       "      <th>user.created_at</th>\n",
       "      <th>user.favourites_count</th>\n",
       "      <th>user.followers_count</th>\n",
       "      <th>user.friends_count</th>\n",
       "      <th>...</th>\n",
       "      <th>758</th>\n",
       "      <th>759</th>\n",
       "      <th>760</th>\n",
       "      <th>761</th>\n",
       "      <th>762</th>\n",
       "      <th>763</th>\n",
       "      <th>764</th>\n",
       "      <th>765</th>\n",
       "      <th>766</th>\n",
       "      <th>767</th>\n",
       "    </tr>\n",
       "  </thead>\n",
       "  <tbody>\n",
       "    <tr>\n",
       "      <th>0</th>\n",
       "      <td>1.287649e+18</td>\n",
       "      <td>1.595834e+09</td>\n",
       "      <td>0.0</td>\n",
       "      <td>1.0</td>\n",
       "      <td>0</td>\n",
       "      <td>1.278120e+18</td>\n",
       "      <td>1.593563e+09</td>\n",
       "      <td>5211.0</td>\n",
       "      <td>47.0</td>\n",
       "      <td>169.0</td>\n",
       "      <td>...</td>\n",
       "      <td>-0.484331</td>\n",
       "      <td>-0.820497</td>\n",
       "      <td>0.434156</td>\n",
       "      <td>-0.979378</td>\n",
       "      <td>0.168298</td>\n",
       "      <td>-0.116905</td>\n",
       "      <td>-0.189406</td>\n",
       "      <td>0.103864</td>\n",
       "      <td>0.824395</td>\n",
       "      <td>0.453502</td>\n",
       "    </tr>\n",
       "    <tr>\n",
       "      <th>1</th>\n",
       "      <td>1.302709e+18</td>\n",
       "      <td>1.599425e+09</td>\n",
       "      <td>0.0</td>\n",
       "      <td>0.0</td>\n",
       "      <td>0</td>\n",
       "      <td>1.278120e+18</td>\n",
       "      <td>1.593563e+09</td>\n",
       "      <td>23233.0</td>\n",
       "      <td>348.0</td>\n",
       "      <td>737.0</td>\n",
       "      <td>...</td>\n",
       "      <td>1.115184</td>\n",
       "      <td>0.230893</td>\n",
       "      <td>-0.783556</td>\n",
       "      <td>-1.300244</td>\n",
       "      <td>-0.029473</td>\n",
       "      <td>-0.828524</td>\n",
       "      <td>0.834308</td>\n",
       "      <td>0.048224</td>\n",
       "      <td>0.394454</td>\n",
       "      <td>-0.281859</td>\n",
       "    </tr>\n",
       "    <tr>\n",
       "      <th>2</th>\n",
       "      <td>1.302553e+18</td>\n",
       "      <td>1.599388e+09</td>\n",
       "      <td>0.0</td>\n",
       "      <td>1.0</td>\n",
       "      <td>0</td>\n",
       "      <td>1.278120e+18</td>\n",
       "      <td>1.593563e+09</td>\n",
       "      <td>23233.0</td>\n",
       "      <td>348.0</td>\n",
       "      <td>737.0</td>\n",
       "      <td>...</td>\n",
       "      <td>1.261215</td>\n",
       "      <td>0.319596</td>\n",
       "      <td>-1.135211</td>\n",
       "      <td>-1.627222</td>\n",
       "      <td>-0.048775</td>\n",
       "      <td>-1.092682</td>\n",
       "      <td>1.210134</td>\n",
       "      <td>0.787691</td>\n",
       "      <td>0.597854</td>\n",
       "      <td>-0.761170</td>\n",
       "    </tr>\n",
       "    <tr>\n",
       "      <th>3</th>\n",
       "      <td>1.302553e+18</td>\n",
       "      <td>1.599388e+09</td>\n",
       "      <td>0.0</td>\n",
       "      <td>7.0</td>\n",
       "      <td>0</td>\n",
       "      <td>1.278120e+18</td>\n",
       "      <td>1.593563e+09</td>\n",
       "      <td>23233.0</td>\n",
       "      <td>348.0</td>\n",
       "      <td>737.0</td>\n",
       "      <td>...</td>\n",
       "      <td>-0.667123</td>\n",
       "      <td>-0.558292</td>\n",
       "      <td>0.348664</td>\n",
       "      <td>-0.723699</td>\n",
       "      <td>0.077701</td>\n",
       "      <td>-0.088262</td>\n",
       "      <td>-0.230125</td>\n",
       "      <td>0.375092</td>\n",
       "      <td>0.601319</td>\n",
       "      <td>0.387366</td>\n",
       "    </tr>\n",
       "    <tr>\n",
       "      <th>4</th>\n",
       "      <td>1.302553e+18</td>\n",
       "      <td>1.599388e+09</td>\n",
       "      <td>0.0</td>\n",
       "      <td>16.0</td>\n",
       "      <td>0</td>\n",
       "      <td>1.278120e+18</td>\n",
       "      <td>1.593563e+09</td>\n",
       "      <td>23233.0</td>\n",
       "      <td>348.0</td>\n",
       "      <td>737.0</td>\n",
       "      <td>...</td>\n",
       "      <td>-0.472266</td>\n",
       "      <td>-0.633579</td>\n",
       "      <td>0.642172</td>\n",
       "      <td>-0.600979</td>\n",
       "      <td>-0.032696</td>\n",
       "      <td>-0.062281</td>\n",
       "      <td>-0.162001</td>\n",
       "      <td>0.259995</td>\n",
       "      <td>0.591373</td>\n",
       "      <td>0.358225</td>\n",
       "    </tr>\n",
       "  </tbody>\n",
       "</table>\n",
       "<p>5 rows × 922 columns</p>\n",
       "</div>"
      ],
      "text/plain": [
       "             id    created_at  retweet_count  favorite_count  \\\n",
       "0  1.287649e+18  1.595834e+09            0.0             1.0   \n",
       "1  1.302709e+18  1.599425e+09            0.0             0.0   \n",
       "2  1.302553e+18  1.599388e+09            0.0             1.0   \n",
       "3  1.302553e+18  1.599388e+09            0.0             7.0   \n",
       "4  1.302553e+18  1.599388e+09            0.0            16.0   \n",
       "\n",
       "   quoted_status_id       user.id  user.created_at  user.favourites_count  \\\n",
       "0                 0  1.278120e+18     1.593563e+09                 5211.0   \n",
       "1                 0  1.278120e+18     1.593563e+09                23233.0   \n",
       "2                 0  1.278120e+18     1.593563e+09                23233.0   \n",
       "3                 0  1.278120e+18     1.593563e+09                23233.0   \n",
       "4                 0  1.278120e+18     1.593563e+09                23233.0   \n",
       "\n",
       "   user.followers_count  user.friends_count  ...       758       759  \\\n",
       "0                  47.0               169.0  ... -0.484331 -0.820497   \n",
       "1                 348.0               737.0  ...  1.115184  0.230893   \n",
       "2                 348.0               737.0  ...  1.261215  0.319596   \n",
       "3                 348.0               737.0  ... -0.667123 -0.558292   \n",
       "4                 348.0               737.0  ... -0.472266 -0.633579   \n",
       "\n",
       "        760       761       762       763       764       765       766  \\\n",
       "0  0.434156 -0.979378  0.168298 -0.116905 -0.189406  0.103864  0.824395   \n",
       "1 -0.783556 -1.300244 -0.029473 -0.828524  0.834308  0.048224  0.394454   \n",
       "2 -1.135211 -1.627222 -0.048775 -1.092682  1.210134  0.787691  0.597854   \n",
       "3  0.348664 -0.723699  0.077701 -0.088262 -0.230125  0.375092  0.601319   \n",
       "4  0.642172 -0.600979 -0.032696 -0.062281 -0.162001  0.259995  0.591373   \n",
       "\n",
       "        767  \n",
       "0  0.453502  \n",
       "1 -0.281859  \n",
       "2 -0.761170  \n",
       "3  0.387366  \n",
       "4  0.358225  \n",
       "\n",
       "[5 rows x 922 columns]"
      ]
     },
     "execution_count": 45,
     "metadata": {},
     "output_type": "execute_result"
    }
   ],
   "source": [
    "# Get embeddings for valid\n",
    "p = [group for group in embeddings_vl]\n",
    "\n",
    "b = [item for sublist in [[list(t) for t in zip(sublist[0], sublist[1])] for sublist in p] for item in sublist]\n",
    "df = pd.DataFrame(b, columns = ['id', 'embeddings'])  \n",
    "\n",
    "bert_embeddings_df_valid = pd.concat([df['id'], df['embeddings'].apply(pd.Series)], axis = 1)\n",
    "bert_embeddings_df_valid['id'] = bert_embeddings_df_valid['id'].apply(lambda x: x.item())\n",
    "#bert_embeddings_df_valid = pd.merge(df_valid.drop(['text'], axis=1), bert_embeddings_df_valid, left_on = [\"id\"], right_on = [\"id\"])\n",
    "bert_embeddings_df_valid = pd.merge(df_valid.drop(['text'], axis=1), bert_embeddings_df_valid.drop(['id'], axis=1), left_index=True, right_index=True)\n",
    "print('Valid Embeddings Extraction and Merge DONE.')\n",
    "bert_embeddings_df_valid.head()"
   ]
  },
  {
   "cell_type": "code",
   "execution_count": 46,
   "metadata": {
    "execution": {
     "iopub.execute_input": "2021-05-18T02:27:58.654634Z",
     "iopub.status.busy": "2021-05-18T02:27:58.650937Z",
     "iopub.status.idle": "2021-05-18T02:27:59.845476Z",
     "shell.execute_reply": "2021-05-18T02:27:59.844846Z"
    },
    "papermill": {
     "duration": 1.347157,
     "end_time": "2021-05-18T02:27:59.845610",
     "exception": false,
     "start_time": "2021-05-18T02:27:58.498453",
     "status": "completed"
    },
    "tags": []
   },
   "outputs": [
    {
     "name": "stdout",
     "output_type": "stream",
     "text": [
      "Calculating Matthews Corr. Coef. for each batch...\n"
     ]
    },
    {
     "name": "stderr",
     "output_type": "stream",
     "text": [
      "/opt/conda/lib/python3.7/site-packages/sklearn/metrics/_classification.py:846: RuntimeWarning:\n",
      "\n",
      "invalid value encountered in double_scalars\n",
      "\n"
     ]
    }
   ],
   "source": [
    "from sklearn.metrics import matthews_corrcoef\n",
    "matthews_set = []\n",
    "# Evaluate each test batch using Matthew's correlation coefficient\n",
    "print('Calculating Matthews Corr. Coef. for each batch...')\n",
    "# For each input batch...\n",
    "for i in range(len(true_labels_valid)):\n",
    "  \n",
    "    # The predictions for this batch are a 2-column ndarray (one column for \"0\" \n",
    "    # and one column for \"1\"). Pick the label with the highest value and turn this\n",
    "    # in to a list of 0s and 1s.\n",
    "    pred_labels_i = np.argmax(predictions_valid[i], axis=1).flatten()\n",
    "\n",
    "    # Calculate and store the coef for this batch.  \n",
    "    matthews = matthews_corrcoef(true_labels_valid[i], pred_labels_i)                \n",
    "    matthews_set.append(matthews)"
   ]
  },
  {
   "cell_type": "code",
   "execution_count": 47,
   "metadata": {
    "execution": {
     "iopub.execute_input": "2021-05-18T02:28:00.152261Z",
     "iopub.status.busy": "2021-05-18T02:28:00.151475Z",
     "iopub.status.idle": "2021-05-18T02:28:00.240507Z",
     "shell.execute_reply": "2021-05-18T02:28:00.240027Z"
    },
    "papermill": {
     "duration": 0.247754,
     "end_time": "2021-05-18T02:28:00.240600",
     "exception": false,
     "start_time": "2021-05-18T02:27:59.992846",
     "status": "completed"
    },
    "tags": []
   },
   "outputs": [
    {
     "name": "stdout",
     "output_type": "stream",
     "text": [
      "MCC: 0.051\n"
     ]
    }
   ],
   "source": [
    "# Combine the predictions for each batch into a single list of 0s and 1s.\n",
    "flat_predictions = [item for sublist in predictions_valid for item in sublist]\n",
    "flat_predictions = np.argmax(flat_predictions, axis=1).flatten()\n",
    "# Combine the correct labels for each batch into a single list.\n",
    "flat_true_labels = [item for sublist in true_labels_valid for item in sublist]\n",
    "# Calculate the MCC\n",
    "mcc = matthews_corrcoef(flat_true_labels, flat_predictions)\n",
    "print('MCC: %.3f' % mcc)"
   ]
  },
  {
   "cell_type": "code",
   "execution_count": 48,
   "metadata": {
    "execution": {
     "iopub.execute_input": "2021-05-18T02:28:00.536623Z",
     "iopub.status.busy": "2021-05-18T02:28:00.535824Z",
     "iopub.status.idle": "2021-05-18T02:28:00.567053Z",
     "shell.execute_reply": "2021-05-18T02:28:00.566642Z"
    },
    "papermill": {
     "duration": 0.182613,
     "end_time": "2021-05-18T02:28:00.567171",
     "exception": false,
     "start_time": "2021-05-18T02:28:00.384558",
     "status": "completed"
    },
    "tags": []
   },
   "outputs": [
    {
     "name": "stdout",
     "output_type": "stream",
     "text": [
      "              precision    recall  f1-score   support\n",
      "\n",
      "           0       0.87      0.98      0.92     24222\n",
      "           1       0.25      0.04      0.07      3613\n",
      "\n",
      "    accuracy                           0.86     27835\n",
      "   macro avg       0.56      0.51      0.50     27835\n",
      "weighted avg       0.79      0.86      0.81     27835\n",
      "\n"
     ]
    }
   ],
   "source": [
    "from sklearn.metrics import classification_report,confusion_matrix\n",
    "report = classification_report(flat_true_labels, flat_predictions)\n",
    "print(report)"
   ]
  },
  {
   "cell_type": "code",
   "execution_count": 49,
   "metadata": {
    "execution": {
     "iopub.execute_input": "2021-05-18T02:28:00.862584Z",
     "iopub.status.busy": "2021-05-18T02:28:00.861791Z",
     "iopub.status.idle": "2021-05-18T02:28:00.996411Z",
     "shell.execute_reply": "2021-05-18T02:28:00.996830Z"
    },
    "papermill": {
     "duration": 0.289686,
     "end_time": "2021-05-18T02:28:00.996943",
     "exception": false,
     "start_time": "2021-05-18T02:28:00.707257",
     "status": "completed"
    },
    "tags": []
   },
   "outputs": [
    {
     "data": {
      "image/png": "[encoded data removed]",
      "text/plain": [
       "<Figure size 576x432 with 1 Axes>"
      ]
     },
     "metadata": {
      "needs_background": "light"
     },
     "output_type": "display_data"
    }
   ],
   "source": [
    "fpr, tpr, thresholds = roc_curve(flat_true_labels, flat_predictions)\n",
    "plt.figure(figsize=(8, 6))                         # Not shown\n",
    "plot_roc_curve(fpr, tpr)\n",
    "plt.plot([4.837e-3, 4.837e-3], [0., 0.4368], \"r:\") # Not shown\n",
    "plt.plot([0.0, 4.837e-3], [0.4368, 0.4368], \"r:\")  # Not shown\n",
    "plt.plot([4.837e-3], [0.4368], \"ro\")               # Not shown\n",
    "plt.show()"
   ]
  },
  {
   "cell_type": "code",
   "execution_count": 50,
   "metadata": {
    "execution": {
     "iopub.execute_input": "2021-05-18T02:28:01.293947Z",
     "iopub.status.busy": "2021-05-18T02:28:01.293155Z",
     "iopub.status.idle": "2021-05-18T02:28:01.305352Z",
     "shell.execute_reply": "2021-05-18T02:28:01.304842Z"
    },
    "papermill": {
     "duration": 0.164909,
     "end_time": "2021-05-18T02:28:01.305441",
     "exception": false,
     "start_time": "2021-05-18T02:28:01.140532",
     "status": "completed"
    },
    "tags": []
   },
   "outputs": [
    {
     "data": {
      "text/plain": [
       "0.5106136799509052"
      ]
     },
     "execution_count": 50,
     "metadata": {},
     "output_type": "execute_result"
    }
   ],
   "source": [
    "roc_auc_score(flat_true_labels, flat_predictions)"
   ]
  },
  {
   "cell_type": "markdown",
   "metadata": {
    "papermill": {
     "duration": 0.141417,
     "end_time": "2021-05-18T02:28:01.589116",
     "exception": false,
     "start_time": "2021-05-18T02:28:01.447699",
     "status": "completed"
    },
    "tags": []
   },
   "source": [
    "### Export Models and Embeddings"
   ]
  },
  {
   "cell_type": "code",
   "execution_count": 51,
   "metadata": {
    "execution": {
     "iopub.execute_input": "2021-05-18T02:28:01.880480Z",
     "iopub.status.busy": "2021-05-18T02:28:01.879638Z",
     "iopub.status.idle": "2021-05-18T02:28:02.080329Z",
     "shell.execute_reply": "2021-05-18T02:28:02.079875Z"
    },
    "papermill": {
     "duration": 0.349032,
     "end_time": "2021-05-18T02:28:02.080455",
     "exception": false,
     "start_time": "2021-05-18T02:28:01.731423",
     "status": "completed"
    },
    "tags": []
   },
   "outputs": [],
   "source": [
    "bert_embeddings_df_train['id'] = bert_embeddings_df_train['id'].astype('str')\n",
    "bert_embeddings_df_train['id'] = bert_embeddings_df_train['id'].apply(lambda x: \"'\" + x + \"'\")\n",
    "bert_embeddings_df_valid['id'] = bert_embeddings_df_valid['id'].astype('str')\n",
    "bert_embeddings_df_valid['id'] = bert_embeddings_df_valid['id'].apply(lambda x: \"'\" + x + \"'\")"
   ]
  },
  {
   "cell_type": "code",
   "execution_count": 52,
   "metadata": {
    "execution": {
     "iopub.execute_input": "2021-05-18T02:28:02.376318Z",
     "iopub.status.busy": "2021-05-18T02:28:02.375525Z",
     "iopub.status.idle": "2021-05-18T02:28:02.397152Z",
     "shell.execute_reply": "2021-05-18T02:28:02.396632Z"
    },
    "papermill": {
     "duration": 0.173974,
     "end_time": "2021-05-18T02:28:02.397243",
     "exception": false,
     "start_time": "2021-05-18T02:28:02.223269",
     "status": "completed"
    },
    "tags": []
   },
   "outputs": [
    {
     "name": "stdout",
     "output_type": "stream",
     "text": [
      "full train: 81286 unique ids train: 81286 full valid: 27835 unique ids valid: 27835\n"
     ]
    }
   ],
   "source": [
    "print(\"full train:\", len(bert_embeddings_df_train), \"unique ids train:\", len(bert_embeddings_df_train['id'].unique()), \n",
    "      \"full valid:\", len(bert_embeddings_df_valid), \"unique ids valid:\", len(bert_embeddings_df_valid['id'].unique()))"
   ]
  },
  {
   "cell_type": "markdown",
   "metadata": {
    "papermill": {
     "duration": 0.141491,
     "end_time": "2021-05-18T02:28:02.682281",
     "exception": false,
     "start_time": "2021-05-18T02:28:02.540790",
     "status": "completed"
    },
    "tags": []
   },
   "source": [
    "Save"
   ]
  },
  {
   "cell_type": "code",
   "execution_count": 53,
   "metadata": {
    "execution": {
     "iopub.execute_input": "2021-05-18T02:28:02.973135Z",
     "iopub.status.busy": "2021-05-18T02:28:02.972295Z",
     "iopub.status.idle": "2021-05-18T02:28:05.094418Z",
     "shell.execute_reply": "2021-05-18T02:28:05.093551Z"
    },
    "papermill": {
     "duration": 2.269111,
     "end_time": "2021-05-18T02:28:05.094536",
     "exception": false,
     "start_time": "2021-05-18T02:28:02.825425",
     "status": "completed"
    },
    "tags": []
   },
   "outputs": [
    {
     "data": {
      "text/plain": [
       "('./Multilingual_Tweettext_mode/tokenizer_config.json',\n",
       " './Multilingual_Tweettext_mode/special_tokens_map.json',\n",
       " './Multilingual_Tweettext_mode/vocab.txt',\n",
       " './Multilingual_Tweettext_mode/added_tokens.json')"
      ]
     },
     "execution_count": 53,
     "metadata": {},
     "output_type": "execute_result"
    }
   ],
   "source": [
    "model_to_save = model.module if hasattr(model, \"module\") else model # Take care of distributed/parallel training\n",
    "model_to_save.save_pretrained('./Multilingual_Tweettext_mode/')\n",
    "tokenizer.save_pretrained('./Multilingual_Tweettext_mode/')"
   ]
  },
  {
   "cell_type": "code",
   "execution_count": 54,
   "metadata": {
    "execution": {
     "iopub.execute_input": "2021-05-18T02:28:05.384994Z",
     "iopub.status.busy": "2021-05-18T02:28:05.384268Z",
     "iopub.status.idle": "2021-05-18T02:30:27.887841Z",
     "shell.execute_reply": "2021-05-18T02:30:27.886516Z"
    },
    "papermill": {
     "duration": 142.650275,
     "end_time": "2021-05-18T02:30:27.887955",
     "exception": false,
     "start_time": "2021-05-18T02:28:05.237680",
     "status": "completed"
    },
    "tags": []
   },
   "outputs": [],
   "source": [
    "bert_embeddings_df_train.to_csv('ml_training_embeddings_df_full.csv', index=False, encoding = \"utf_8_sig\")\n",
    "bert_embeddings_df_valid.to_csv('ml_valid_embeddings_df_full.csv', index=False, encoding = \"utf_8_sig\")"
   ]
  },
  {
   "cell_type": "markdown",
   "metadata": {
    "papermill": {
     "duration": 0.140652,
     "end_time": "2021-05-18T02:30:28.169594",
     "exception": false,
     "start_time": "2021-05-18T02:30:28.028942",
     "status": "completed"
    },
    "tags": []
   },
   "source": [
    "### Evaluate on Test"
   ]
  },
  {
   "cell_type": "markdown",
   "metadata": {
    "papermill": {
     "duration": 0.178174,
     "end_time": "2021-05-18T02:30:28.489933",
     "exception": false,
     "start_time": "2021-05-18T02:30:28.311759",
     "status": "completed"
    },
    "tags": []
   },
   "source": [
    "Let’s take a look at our training loss over all batches:"
   ]
  },
  {
   "cell_type": "markdown",
   "metadata": {
    "papermill": {
     "duration": 0.220915,
     "end_time": "2021-05-18T02:30:28.942431",
     "exception": false,
     "start_time": "2021-05-18T02:30:28.721516",
     "status": "completed"
    },
    "tags": []
   },
   "source": [
    "Now we’ll load the holdout dataset and prepare inputs just as we did with the training set. Then we’ll evaluate predictions using Matthews correlation coefficient (MCC wiki)because this is the metric used by the wider NLP community to evaluate performance on CoLA. With this metric, +1 is the best score, and -1 is the worst score. This way, we can see how well we perform against the state of the art models for this specific task.\n"
   ]
  },
  {
   "cell_type": "code",
   "execution_count": 55,
   "metadata": {
    "execution": {
     "iopub.execute_input": "2021-05-18T02:30:29.235539Z",
     "iopub.status.busy": "2021-05-18T02:30:29.234067Z",
     "iopub.status.idle": "2021-05-18T02:30:29.459543Z",
     "shell.execute_reply": "2021-05-18T02:30:29.459025Z"
    },
    "papermill": {
     "duration": 0.373514,
     "end_time": "2021-05-18T02:30:29.459642",
     "exception": false,
     "start_time": "2021-05-18T02:30:29.086128",
     "status": "completed"
    },
    "tags": []
   },
   "outputs": [],
   "source": [
    "# Convert to tensors.\n",
    "prediction_inputs = torch.tensor(test_inputs)\n",
    "prediction_masks = torch.tensor(test_masks)\n",
    "prediction_labels = torch.tensor(test_labels)\n",
    "prediction_ids = torch.tensor(ids_test)\n",
    "\n",
    "# Set the batch size.  \n",
    "batch_size = 8 \n",
    "# Create the DataLoader.\n",
    "prediction_data = TensorDataset(prediction_inputs, prediction_masks, prediction_labels, prediction_ids)\n",
    "prediction_sampler = SequentialSampler(prediction_data)\n",
    "prediction_dataloader = DataLoader(prediction_data, sampler=prediction_sampler, batch_size=batch_size)"
   ]
  },
  {
   "cell_type": "code",
   "execution_count": 56,
   "metadata": {
    "execution": {
     "iopub.execute_input": "2021-05-18T02:30:29.746431Z",
     "iopub.status.busy": "2021-05-18T02:30:29.745860Z",
     "iopub.status.idle": "2021-05-18T02:30:29.751079Z",
     "shell.execute_reply": "2021-05-18T02:30:29.750672Z"
    },
    "papermill": {
     "duration": 0.150394,
     "end_time": "2021-05-18T02:30:29.751168",
     "exception": false,
     "start_time": "2021-05-18T02:30:29.600774",
     "status": "completed"
    },
    "tags": []
   },
   "outputs": [
    {
     "data": {
      "text/plain": [
       "torch.Size([20518, 120])"
      ]
     },
     "execution_count": 56,
     "metadata": {},
     "output_type": "execute_result"
    }
   ],
   "source": [
    "prediction_inputs.shape"
   ]
  },
  {
   "cell_type": "markdown",
   "metadata": {
    "papermill": {
     "duration": 0.1434,
     "end_time": "2021-05-18T02:30:30.036367",
     "exception": false,
     "start_time": "2021-05-18T02:30:29.892967",
     "status": "completed"
    },
    "tags": []
   },
   "source": [
    "With the test set prepared, we can apply our fine-tuned model to generate predictions on the test set"
   ]
  },
  {
   "cell_type": "code",
   "execution_count": 57,
   "metadata": {
    "execution": {
     "iopub.execute_input": "2021-05-18T02:30:30.333219Z",
     "iopub.status.busy": "2021-05-18T02:30:30.332428Z",
     "iopub.status.idle": "2021-05-18T02:31:57.782678Z",
     "shell.execute_reply": "2021-05-18T02:31:57.782181Z"
    },
    "papermill": {
     "duration": 87.604745,
     "end_time": "2021-05-18T02:31:57.782788",
     "exception": false,
     "start_time": "2021-05-18T02:30:30.178043",
     "status": "completed"
    },
    "tags": []
   },
   "outputs": [
    {
     "name": "stdout",
     "output_type": "stream",
     "text": [
      "Predicting labels for 20,518 test sentences...\n"
     ]
    }
   ],
   "source": [
    "embeddings_te = []\n",
    "# Prediction on test set\n",
    "print('Predicting labels for {:,} test sentences...'.format(len(prediction_inputs)))\n",
    "# Put model in evaluation mode\n",
    "model.eval()\n",
    "# Tracking variables \n",
    "predictions , true_labels = [], []\n",
    "# Predict \n",
    "for batch in prediction_dataloader:\n",
    "    b_input_ids = batch[0].to(device)\n",
    "    b_input_mask = batch[1].to(device)\n",
    "    b_labels = batch[2].to(device)\n",
    "  \n",
    "  # Telling the model not to compute or store gradients, saving memory and \n",
    "  # speeding up prediction\n",
    "    with torch.no_grad():\n",
    "        # Forward pass, calculate logit predictions\n",
    "        outputs = model(b_input_ids, token_type_ids=None, \n",
    "                      attention_mask=b_input_mask, labels=b_labels)\n",
    "    logits = outputs[1]\n",
    "    # Embeddings extraction approach is to average the second to last hiden layer of each token producing a single 768 length vector\n",
    "    # https://mccormickml.com/2019/05/14/BERT-word-embeddings-tutorial/\n",
    "    hidden_state_te = outputs[2]\n",
    "    token_vecs = hidden_state_te[-2]\n",
    "    token_vecs_sentvecs = []\n",
    "    for token in token_vecs:\n",
    "        sentvecs = torch.mean(token, dim=0).detach().cpu().numpy()\n",
    "        token_vecs_sentvecs.append(sentvecs)\n",
    "    # features = hidden_state_te[12][:,0,:].detach().cpu().numpy()\n",
    "    embeddings_te.append([batch[3], token_vecs_sentvecs])\n",
    "    # Move logits and labels to CPU\n",
    "    logits = logits.detach().cpu().numpy()\n",
    "    label_ids = b_labels.to('cpu').numpy()\n",
    "\n",
    "    # Store predictions and true labels\n",
    "    predictions.append(logits)\n",
    "    true_labels.append(label_ids)\n",
    "    \n"
   ]
  },
  {
   "cell_type": "markdown",
   "metadata": {
    "papermill": {
     "duration": 0.145226,
     "end_time": "2021-05-18T02:31:58.071329",
     "exception": false,
     "start_time": "2021-05-18T02:31:57.926103",
     "status": "completed"
    },
    "tags": []
   },
   "source": [
    "Extract Embeddings"
   ]
  },
  {
   "cell_type": "code",
   "execution_count": 58,
   "metadata": {
    "execution": {
     "iopub.execute_input": "2021-05-18T02:31:58.368613Z",
     "iopub.status.busy": "2021-05-18T02:31:58.367639Z",
     "iopub.status.idle": "2021-05-18T02:32:02.618086Z",
     "shell.execute_reply": "2021-05-18T02:32:02.617327Z"
    },
    "papermill": {
     "duration": 4.402728,
     "end_time": "2021-05-18T02:32:02.618182",
     "exception": false,
     "start_time": "2021-05-18T02:31:58.215454",
     "status": "completed"
    },
    "tags": []
   },
   "outputs": [
    {
     "name": "stdout",
     "output_type": "stream",
     "text": [
      "DONE.\n"
     ]
    },
    {
     "data": {
      "text/html": [
       "<div>\n",
       "<style scoped>\n",
       "    .dataframe tbody tr th:only-of-type {\n",
       "        vertical-align: middle;\n",
       "    }\n",
       "\n",
       "    .dataframe tbody tr th {\n",
       "        vertical-align: top;\n",
       "    }\n",
       "\n",
       "    .dataframe thead th {\n",
       "        text-align: right;\n",
       "    }\n",
       "</style>\n",
       "<table border=\"1\" class=\"dataframe\">\n",
       "  <thead>\n",
       "    <tr style=\"text-align: right;\">\n",
       "      <th></th>\n",
       "      <th>id</th>\n",
       "      <th>created_at</th>\n",
       "      <th>retweet_count</th>\n",
       "      <th>favorite_count</th>\n",
       "      <th>quoted_status_id</th>\n",
       "      <th>user.id</th>\n",
       "      <th>user.created_at</th>\n",
       "      <th>user.favourites_count</th>\n",
       "      <th>user.followers_count</th>\n",
       "      <th>user.friends_count</th>\n",
       "      <th>...</th>\n",
       "      <th>758</th>\n",
       "      <th>759</th>\n",
       "      <th>760</th>\n",
       "      <th>761</th>\n",
       "      <th>762</th>\n",
       "      <th>763</th>\n",
       "      <th>764</th>\n",
       "      <th>765</th>\n",
       "      <th>766</th>\n",
       "      <th>767</th>\n",
       "    </tr>\n",
       "  </thead>\n",
       "  <tbody>\n",
       "    <tr>\n",
       "      <th>0</th>\n",
       "      <td>1.278734e+18</td>\n",
       "      <td>1.593709e+09</td>\n",
       "      <td>0.0</td>\n",
       "      <td>0.0</td>\n",
       "      <td>0</td>\n",
       "      <td>1.278130e+18</td>\n",
       "      <td>1.593565e+09</td>\n",
       "      <td>5.0</td>\n",
       "      <td>1.0</td>\n",
       "      <td>58.0</td>\n",
       "      <td>...</td>\n",
       "      <td>1.267664</td>\n",
       "      <td>0.407825</td>\n",
       "      <td>-0.801177</td>\n",
       "      <td>-1.620500</td>\n",
       "      <td>-0.045291</td>\n",
       "      <td>-1.050962</td>\n",
       "      <td>1.216250</td>\n",
       "      <td>0.276699</td>\n",
       "      <td>0.512634</td>\n",
       "      <td>-0.733128</td>\n",
       "    </tr>\n",
       "    <tr>\n",
       "      <th>1</th>\n",
       "      <td>1.278147e+18</td>\n",
       "      <td>1.593569e+09</td>\n",
       "      <td>0.0</td>\n",
       "      <td>1.0</td>\n",
       "      <td>0</td>\n",
       "      <td>1.278145e+18</td>\n",
       "      <td>1.593569e+09</td>\n",
       "      <td>0.0</td>\n",
       "      <td>0.0</td>\n",
       "      <td>47.0</td>\n",
       "      <td>...</td>\n",
       "      <td>1.359927</td>\n",
       "      <td>0.407510</td>\n",
       "      <td>-0.675149</td>\n",
       "      <td>-1.438978</td>\n",
       "      <td>-0.053089</td>\n",
       "      <td>-1.043746</td>\n",
       "      <td>1.025622</td>\n",
       "      <td>0.161319</td>\n",
       "      <td>0.356876</td>\n",
       "      <td>-0.711544</td>\n",
       "    </tr>\n",
       "    <tr>\n",
       "      <th>2</th>\n",
       "      <td>1.278298e+18</td>\n",
       "      <td>1.593605e+09</td>\n",
       "      <td>0.0</td>\n",
       "      <td>0.0</td>\n",
       "      <td>0</td>\n",
       "      <td>1.278155e+18</td>\n",
       "      <td>1.593571e+09</td>\n",
       "      <td>4.0</td>\n",
       "      <td>0.0</td>\n",
       "      <td>19.0</td>\n",
       "      <td>...</td>\n",
       "      <td>1.299727</td>\n",
       "      <td>0.395891</td>\n",
       "      <td>-1.128530</td>\n",
       "      <td>-1.575154</td>\n",
       "      <td>-0.113755</td>\n",
       "      <td>-1.151624</td>\n",
       "      <td>1.355572</td>\n",
       "      <td>0.773668</td>\n",
       "      <td>0.727948</td>\n",
       "      <td>-0.769956</td>\n",
       "    </tr>\n",
       "    <tr>\n",
       "      <th>3</th>\n",
       "      <td>1.303307e+18</td>\n",
       "      <td>1.599568e+09</td>\n",
       "      <td>0.0</td>\n",
       "      <td>0.0</td>\n",
       "      <td>0</td>\n",
       "      <td>1.278155e+18</td>\n",
       "      <td>1.593571e+09</td>\n",
       "      <td>4.0</td>\n",
       "      <td>0.0</td>\n",
       "      <td>19.0</td>\n",
       "      <td>...</td>\n",
       "      <td>1.201397</td>\n",
       "      <td>0.180008</td>\n",
       "      <td>-0.434094</td>\n",
       "      <td>-1.344247</td>\n",
       "      <td>-0.175571</td>\n",
       "      <td>-0.820464</td>\n",
       "      <td>0.988772</td>\n",
       "      <td>0.050777</td>\n",
       "      <td>0.217306</td>\n",
       "      <td>-0.529685</td>\n",
       "    </tr>\n",
       "    <tr>\n",
       "      <th>4</th>\n",
       "      <td>1.303307e+18</td>\n",
       "      <td>1.599568e+09</td>\n",
       "      <td>0.0</td>\n",
       "      <td>0.0</td>\n",
       "      <td>0</td>\n",
       "      <td>1.278155e+18</td>\n",
       "      <td>1.593571e+09</td>\n",
       "      <td>4.0</td>\n",
       "      <td>0.0</td>\n",
       "      <td>19.0</td>\n",
       "      <td>...</td>\n",
       "      <td>1.201397</td>\n",
       "      <td>0.180008</td>\n",
       "      <td>-0.434094</td>\n",
       "      <td>-1.344247</td>\n",
       "      <td>-0.175571</td>\n",
       "      <td>-0.820464</td>\n",
       "      <td>0.988772</td>\n",
       "      <td>0.050777</td>\n",
       "      <td>0.217306</td>\n",
       "      <td>-0.529685</td>\n",
       "    </tr>\n",
       "  </tbody>\n",
       "</table>\n",
       "<p>5 rows × 922 columns</p>\n",
       "</div>"
      ],
      "text/plain": [
       "             id    created_at  retweet_count  favorite_count  \\\n",
       "0  1.278734e+18  1.593709e+09            0.0             0.0   \n",
       "1  1.278147e+18  1.593569e+09            0.0             1.0   \n",
       "2  1.278298e+18  1.593605e+09            0.0             0.0   \n",
       "3  1.303307e+18  1.599568e+09            0.0             0.0   \n",
       "4  1.303307e+18  1.599568e+09            0.0             0.0   \n",
       "\n",
       "   quoted_status_id       user.id  user.created_at  user.favourites_count  \\\n",
       "0                 0  1.278130e+18     1.593565e+09                    5.0   \n",
       "1                 0  1.278145e+18     1.593569e+09                    0.0   \n",
       "2                 0  1.278155e+18     1.593571e+09                    4.0   \n",
       "3                 0  1.278155e+18     1.593571e+09                    4.0   \n",
       "4                 0  1.278155e+18     1.593571e+09                    4.0   \n",
       "\n",
       "   user.followers_count  user.friends_count  ...       758       759  \\\n",
       "0                   1.0                58.0  ...  1.267664  0.407825   \n",
       "1                   0.0                47.0  ...  1.359927  0.407510   \n",
       "2                   0.0                19.0  ...  1.299727  0.395891   \n",
       "3                   0.0                19.0  ...  1.201397  0.180008   \n",
       "4                   0.0                19.0  ...  1.201397  0.180008   \n",
       "\n",
       "        760       761       762       763       764       765       766  \\\n",
       "0 -0.801177 -1.620500 -0.045291 -1.050962  1.216250  0.276699  0.512634   \n",
       "1 -0.675149 -1.438978 -0.053089 -1.043746  1.025622  0.161319  0.356876   \n",
       "2 -1.128530 -1.575154 -0.113755 -1.151624  1.355572  0.773668  0.727948   \n",
       "3 -0.434094 -1.344247 -0.175571 -0.820464  0.988772  0.050777  0.217306   \n",
       "4 -0.434094 -1.344247 -0.175571 -0.820464  0.988772  0.050777  0.217306   \n",
       "\n",
       "        767  \n",
       "0 -0.733128  \n",
       "1 -0.711544  \n",
       "2 -0.769956  \n",
       "3 -0.529685  \n",
       "4 -0.529685  \n",
       "\n",
       "[5 rows x 922 columns]"
      ]
     },
     "execution_count": 58,
     "metadata": {},
     "output_type": "execute_result"
    }
   ],
   "source": [
    "# Get embeddings for test\n",
    "p = [group for group in embeddings_te]\n",
    "\n",
    "b = [item for sublist in [[list(t) for t in zip(sublist[0], sublist[1])] for sublist in p] for item in sublist]\n",
    "df = pd.DataFrame(b, columns = ['id', 'embeddings'])  \n",
    "\n",
    "bert_embeddings_df_test = pd.concat([df['id'], df['embeddings'].apply(pd.Series)], axis = 1)\n",
    "bert_embeddings_df_test['id'] = bert_embeddings_df_test['id'].apply(lambda x: x.item())\n",
    "#bert_embeddings_df_test = pd.merge(df_test.drop(['text'], axis=1), bert_embeddings_df_test, left_on = [\"id\"], right_on = [\"id\"])\n",
    "bert_embeddings_df_test = pd.merge(df_test.drop(['text'], axis=1), bert_embeddings_df_test.drop(['id'], axis=1), left_index=True, right_index=True)\n",
    "print('DONE.')\n",
    "bert_embeddings_df_test.head()"
   ]
  },
  {
   "cell_type": "code",
   "execution_count": 59,
   "metadata": {
    "execution": {
     "iopub.execute_input": "2021-05-18T02:32:02.946585Z",
     "iopub.status.busy": "2021-05-18T02:32:02.945762Z",
     "iopub.status.idle": "2021-05-18T02:32:02.958232Z",
     "shell.execute_reply": "2021-05-18T02:32:02.957665Z"
    },
    "papermill": {
     "duration": 0.193368,
     "end_time": "2021-05-18T02:32:02.958326",
     "exception": false,
     "start_time": "2021-05-18T02:32:02.764958",
     "status": "completed"
    },
    "tags": []
   },
   "outputs": [],
   "source": [
    "bert_embeddings_df_test['id'] = bert_embeddings_df_test['id'].astype('str')\n",
    "bert_embeddings_df_test['id'] = bert_embeddings_df_test['id'].apply(lambda x: \"'\" + x + \"'\")"
   ]
  },
  {
   "cell_type": "code",
   "execution_count": 60,
   "metadata": {
    "execution": {
     "iopub.execute_input": "2021-05-18T02:32:03.258953Z",
     "iopub.status.busy": "2021-05-18T02:32:03.258149Z",
     "iopub.status.idle": "2021-05-18T02:32:03.265120Z",
     "shell.execute_reply": "2021-05-18T02:32:03.264702Z"
    },
    "papermill": {
     "duration": 0.160377,
     "end_time": "2021-05-18T02:32:03.265214",
     "exception": false,
     "start_time": "2021-05-18T02:32:03.104837",
     "status": "completed"
    },
    "tags": []
   },
   "outputs": [
    {
     "name": "stdout",
     "output_type": "stream",
     "text": [
      "full train: 20518 unique ids train: 20518\n"
     ]
    }
   ],
   "source": [
    "print(\"full train:\", len(bert_embeddings_df_test), \"unique ids train:\", len(bert_embeddings_df_test['id'].unique()))"
   ]
  },
  {
   "cell_type": "markdown",
   "metadata": {
    "papermill": {
     "duration": 0.144399,
     "end_time": "2021-05-18T02:32:03.556122",
     "exception": false,
     "start_time": "2021-05-18T02:32:03.411723",
     "status": "completed"
    },
    "tags": []
   },
   "source": [
    "Save"
   ]
  },
  {
   "cell_type": "code",
   "execution_count": 61,
   "metadata": {
    "execution": {
     "iopub.execute_input": "2021-05-18T02:32:03.854729Z",
     "iopub.status.busy": "2021-05-18T02:32:03.853376Z",
     "iopub.status.idle": "2021-05-18T02:32:30.387706Z",
     "shell.execute_reply": "2021-05-18T02:32:30.386686Z"
    },
    "papermill": {
     "duration": 26.686968,
     "end_time": "2021-05-18T02:32:30.387826",
     "exception": false,
     "start_time": "2021-05-18T02:32:03.700858",
     "status": "completed"
    },
    "tags": []
   },
   "outputs": [],
   "source": [
    "bert_embeddings_df_test.to_csv('ml_test_embeddings_df_full.csv', index=False, encoding = \"utf_8_sig\")"
   ]
  },
  {
   "cell_type": "markdown",
   "metadata": {
    "papermill": {
     "duration": 0.143479,
     "end_time": "2021-05-18T02:32:30.675620",
     "exception": false,
     "start_time": "2021-05-18T02:32:30.532141",
     "status": "completed"
    },
    "tags": []
   },
   "source": [
    "Look at imbalance. "
   ]
  },
  {
   "cell_type": "code",
   "execution_count": 62,
   "metadata": {
    "execution": {
     "iopub.execute_input": "2021-05-18T02:32:30.970553Z",
     "iopub.status.busy": "2021-05-18T02:32:30.969834Z",
     "iopub.status.idle": "2021-05-18T02:32:30.972635Z",
     "shell.execute_reply": "2021-05-18T02:32:30.973057Z"
    },
    "papermill": {
     "duration": 0.153629,
     "end_time": "2021-05-18T02:32:30.973171",
     "exception": false,
     "start_time": "2021-05-18T02:32:30.819542",
     "status": "completed"
    },
    "tags": []
   },
   "outputs": [
    {
     "name": "stdout",
     "output_type": "stream",
     "text": [
      "Positive samples: 8342 of 81286 (10.26%)\n"
     ]
    }
   ],
   "source": [
    "print('Positive samples: %d of %d (%.2f%%)' % (df_train.suspended.sum(), len(df_train.suspended), (df_train.suspended.sum() / len(df_train.suspended) * 100.0)))"
   ]
  },
  {
   "cell_type": "code",
   "execution_count": 63,
   "metadata": {
    "execution": {
     "iopub.execute_input": "2021-05-18T02:32:31.272162Z",
     "iopub.status.busy": "2021-05-18T02:32:31.271267Z",
     "iopub.status.idle": "2021-05-18T02:32:32.961492Z",
     "shell.execute_reply": "2021-05-18T02:32:32.960982Z"
    },
    "papermill": {
     "duration": 1.843137,
     "end_time": "2021-05-18T02:32:32.961594",
     "exception": false,
     "start_time": "2021-05-18T02:32:31.118457",
     "status": "completed"
    },
    "tags": []
   },
   "outputs": [
    {
     "name": "stdout",
     "output_type": "stream",
     "text": [
      "Calculating Matthews Corr. Coef. for each batch...\n"
     ]
    },
    {
     "name": "stderr",
     "output_type": "stream",
     "text": [
      "/opt/conda/lib/python3.7/site-packages/sklearn/metrics/_classification.py:846: RuntimeWarning:\n",
      "\n",
      "invalid value encountered in double_scalars\n",
      "\n"
     ]
    }
   ],
   "source": [
    "from sklearn.metrics import matthews_corrcoef\n",
    "matthews_set = []\n",
    "# Evaluate each test batch using Matthew's correlation coefficient\n",
    "print('Calculating Matthews Corr. Coef. for each batch...')\n",
    "# For each input batch...\n",
    "for i in range(len(true_labels)):\n",
    "  \n",
    "    # The predictions for this batch are a 2-column ndarray (one column for \"0\" \n",
    "    # and one column for \"1\"). Pick the label with the highest value and turn this\n",
    "    # in to a list of 0s and 1s.\n",
    "    pred_labels_i = np.argmax(predictions[i], axis=1).flatten()\n",
    "\n",
    "    # Calculate and store the coef for this batch.  \n",
    "    matthews = matthews_corrcoef(true_labels[i], pred_labels_i)                \n",
    "    matthews_set.append(matthews)"
   ]
  },
  {
   "cell_type": "code",
   "execution_count": 64,
   "metadata": {
    "execution": {
     "iopub.execute_input": "2021-05-18T02:32:33.274921Z",
     "iopub.status.busy": "2021-05-18T02:32:33.274152Z",
     "iopub.status.idle": "2021-05-18T02:32:33.339820Z",
     "shell.execute_reply": "2021-05-18T02:32:33.340195Z"
    },
    "papermill": {
     "duration": 0.230322,
     "end_time": "2021-05-18T02:32:33.340316",
     "exception": false,
     "start_time": "2021-05-18T02:32:33.109994",
     "status": "completed"
    },
    "tags": []
   },
   "outputs": [
    {
     "name": "stdout",
     "output_type": "stream",
     "text": [
      "MCC: -0.018\n"
     ]
    }
   ],
   "source": [
    "# Combine the predictions for each batch into a single list of 0s and 1s.\n",
    "flat_predictions = [item for sublist in predictions for item in sublist]\n",
    "flat_predictions = np.argmax(flat_predictions, axis=1).flatten()\n",
    "# Combine the correct labels for each batch into a single list.\n",
    "flat_true_labels = [item for sublist in true_labels for item in sublist]\n",
    "# Calculate the MCC\n",
    "mcc = matthews_corrcoef(flat_true_labels, flat_predictions)\n",
    "print('MCC: %.3f' % mcc)"
   ]
  },
  {
   "cell_type": "code",
   "execution_count": 65,
   "metadata": {
    "execution": {
     "iopub.execute_input": "2021-05-18T02:32:33.650257Z",
     "iopub.status.busy": "2021-05-18T02:32:33.649488Z",
     "iopub.status.idle": "2021-05-18T02:32:33.674485Z",
     "shell.execute_reply": "2021-05-18T02:32:33.673945Z"
    },
    "papermill": {
     "duration": 0.18401,
     "end_time": "2021-05-18T02:32:33.674582",
     "exception": false,
     "start_time": "2021-05-18T02:32:33.490572",
     "status": "completed"
    },
    "tags": []
   },
   "outputs": [
    {
     "name": "stdout",
     "output_type": "stream",
     "text": [
      "              precision    recall  f1-score   support\n",
      "\n",
      "           0       0.90      0.99      0.94     18480\n",
      "           1       0.05      0.01      0.01      2038\n",
      "\n",
      "    accuracy                           0.89     20518\n",
      "   macro avg       0.48      0.50      0.48     20518\n",
      "weighted avg       0.82      0.89      0.85     20518\n",
      "\n"
     ]
    }
   ],
   "source": [
    "report = classification_report(flat_true_labels, flat_predictions)\n",
    "print(report)"
   ]
  },
  {
   "cell_type": "code",
   "execution_count": 66,
   "metadata": {
    "execution": {
     "iopub.execute_input": "2021-05-18T02:32:33.980157Z",
     "iopub.status.busy": "2021-05-18T02:32:33.979367Z",
     "iopub.status.idle": "2021-05-18T02:32:34.112506Z",
     "shell.execute_reply": "2021-05-18T02:32:34.112938Z"
    },
    "papermill": {
     "duration": 0.29199,
     "end_time": "2021-05-18T02:32:34.113066",
     "exception": false,
     "start_time": "2021-05-18T02:32:33.821076",
     "status": "completed"
    },
    "tags": []
   },
   "outputs": [
    {
     "data": {
      "image/png": "[encoded data removed]",
      "text/plain": [
       "<Figure size 576x432 with 1 Axes>"
      ]
     },
     "metadata": {
      "needs_background": "light"
     },
     "output_type": "display_data"
    }
   ],
   "source": [
    "fpr, tpr, thresholds = roc_curve(flat_true_labels, flat_predictions)\n",
    "plt.figure(figsize=(8, 6))                         # Not shown\n",
    "plot_roc_curve(fpr, tpr)\n",
    "plt.plot([4.837e-3, 4.837e-3], [0., 0.4368], \"r:\") # Not shown\n",
    "plt.plot([0.0, 4.837e-3], [0.4368, 0.4368], \"r:\")  # Not shown\n",
    "plt.plot([4.837e-3], [0.4368], \"ro\")               # Not shown\n",
    "plt.show()"
   ]
  },
  {
   "cell_type": "code",
   "execution_count": 67,
   "metadata": {
    "execution": {
     "iopub.execute_input": "2021-05-18T02:32:34.502830Z",
     "iopub.status.busy": "2021-05-18T02:32:34.502043Z",
     "iopub.status.idle": "2021-05-18T02:32:34.512431Z",
     "shell.execute_reply": "2021-05-18T02:32:34.512882Z"
    },
    "papermill": {
     "duration": 0.167734,
     "end_time": "2021-05-18T02:32:34.513003",
     "exception": false,
     "start_time": "2021-05-18T02:32:34.345269",
     "status": "completed"
    },
    "tags": []
   },
   "outputs": [
    {
     "data": {
      "text/plain": [
       "0.4965372213654844"
      ]
     },
     "execution_count": 67,
     "metadata": {},
     "output_type": "execute_result"
    }
   ],
   "source": [
    "roc_auc_score(flat_true_labels, flat_predictions)"
   ]
  },
  {
   "cell_type": "markdown",
   "metadata": {
    "papermill": {
     "duration": 0.147801,
     "end_time": "2021-05-18T02:32:34.808305",
     "exception": false,
     "start_time": "2021-05-18T02:32:34.660504",
     "status": "completed"
    },
    "tags": []
   },
   "source": [
    "### Aggregate Predictions to Account Level"
   ]
  },
  {
   "cell_type": "code",
   "execution_count": 68,
   "metadata": {
    "execution": {
     "iopub.execute_input": "2021-05-18T02:32:35.114423Z",
     "iopub.status.busy": "2021-05-18T02:32:35.113176Z",
     "iopub.status.idle": "2021-05-18T02:32:35.115497Z",
     "shell.execute_reply": "2021-05-18T02:32:35.115996Z"
    },
    "papermill": {
     "duration": 0.160261,
     "end_time": "2021-05-18T02:32:35.116104",
     "exception": false,
     "start_time": "2021-05-18T02:32:34.955843",
     "status": "completed"
    },
    "tags": []
   },
   "outputs": [],
   "source": [
    "# Generate class predictions at the account level \n",
    "def predict_tweet_text(predictions, df_bert, df_full):\n",
    "    df = pd.DataFrame(predictions, columns = ['pred'])\n",
    "    df_2 = pd.merge(df_bert['id'], df, left_index=True, right_index=True)\n",
    "    df_fm = df_full[['id', 'text','user.screen_name','user.id', 'suspended']].drop_duplicates(subset=['user.screen_name','user.id'])\n",
    "    df_fm['id'] = df_fm['id'].astype('str')\n",
    "    df_fm['id'] = df_fm['id'].apply(lambda x: \"'\" + x + \"'\")\n",
    "    df_3 = pd.merge(df_fm, df_2, left_on='id', right_on='id')\n",
    "    df_3.columns = [\"id\", \"text\", \"user.screen_name\", \"user.id\", \"suspended_label\", \"pred\"]\n",
    "    df_3 = df_3.sort_values(by=['pred'], ascending=False)\n",
    "\n",
    "    return df_3"
   ]
  },
  {
   "cell_type": "code",
   "execution_count": 69,
   "metadata": {
    "execution": {
     "iopub.execute_input": "2021-05-18T02:32:35.422188Z",
     "iopub.status.busy": "2021-05-18T02:32:35.418938Z",
     "iopub.status.idle": "2021-05-18T02:32:35.448426Z",
     "shell.execute_reply": "2021-05-18T02:32:35.448930Z"
    },
    "papermill": {
     "duration": 0.185929,
     "end_time": "2021-05-18T02:32:35.449044",
     "exception": false,
     "start_time": "2021-05-18T02:32:35.263115",
     "status": "completed"
    },
    "tags": []
   },
   "outputs": [
    {
     "data": {
      "text/html": [
       "<div>\n",
       "<style scoped>\n",
       "    .dataframe tbody tr th:only-of-type {\n",
       "        vertical-align: middle;\n",
       "    }\n",
       "\n",
       "    .dataframe tbody tr th {\n",
       "        vertical-align: top;\n",
       "    }\n",
       "\n",
       "    .dataframe thead th {\n",
       "        text-align: right;\n",
       "    }\n",
       "</style>\n",
       "<table border=\"1\" class=\"dataframe\">\n",
       "  <thead>\n",
       "    <tr style=\"text-align: right;\">\n",
       "      <th></th>\n",
       "      <th>id</th>\n",
       "      <th>text</th>\n",
       "      <th>user.screen_name</th>\n",
       "      <th>user.id</th>\n",
       "      <th>suspended_label</th>\n",
       "      <th>pred</th>\n",
       "    </tr>\n",
       "  </thead>\n",
       "  <tbody>\n",
       "    <tr>\n",
       "      <th>371</th>\n",
       "      <td>'1.2905278435421676e+18'</td>\n",
       "      <td>@jame_deane @zhanglifan 没读过书建议多读书再说话。</td>\n",
       "      <td>Lance15234488</td>\n",
       "      <td>1.283652e+18</td>\n",
       "      <td>0</td>\n",
       "      <td>1</td>\n",
       "    </tr>\n",
       "    <tr>\n",
       "      <th>39</th>\n",
       "      <td>'1.2830064584943657e+18'</td>\n",
       "      <td>@wifeycurtis @kpsharmaoli soon u'll become  an...</td>\n",
       "      <td>ArnabD10</td>\n",
       "      <td>1.278560e+18</td>\n",
       "      <td>0</td>\n",
       "      <td>1</td>\n",
       "    </tr>\n",
       "    <tr>\n",
       "      <th>351</th>\n",
       "      <td>'1.2839495195461427e+18'</td>\n",
       "      <td>@Fuuttaa 感觉给女鹅准备礼物她会很开心～</td>\n",
       "      <td>wincy38217042</td>\n",
       "      <td>1.283285e+18</td>\n",
       "      <td>0</td>\n",
       "      <td>1</td>\n",
       "    </tr>\n",
       "    <tr>\n",
       "      <th>0</th>\n",
       "      <td>'1.278734441767207e+18'</td>\n",
       "      <td>@ImranKhanPTI me mazor adme ho</td>\n",
       "      <td>MMunir50647063</td>\n",
       "      <td>1.278130e+18</td>\n",
       "      <td>0</td>\n",
       "      <td>0</td>\n",
       "    </tr>\n",
       "    <tr>\n",
       "      <th>328</th>\n",
       "      <td>'1.2835287173528863e+18'</td>\n",
       "      <td>@SpokespersonCHN 华姐，加油(ง •̀_•́)ง</td>\n",
       "      <td>liuxiao89402263</td>\n",
       "      <td>1.282975e+18</td>\n",
       "      <td>0</td>\n",
       "      <td>0</td>\n",
       "    </tr>\n",
       "  </tbody>\n",
       "</table>\n",
       "</div>"
      ],
      "text/plain": [
       "                           id  \\\n",
       "371  '1.2905278435421676e+18'   \n",
       "39   '1.2830064584943657e+18'   \n",
       "351  '1.2839495195461427e+18'   \n",
       "0     '1.278734441767207e+18'   \n",
       "328  '1.2835287173528863e+18'   \n",
       "\n",
       "                                                  text user.screen_name  \\\n",
       "371              @jame_deane @zhanglifan 没读过书建议多读书再说话。    Lance15234488   \n",
       "39   @wifeycurtis @kpsharmaoli soon u'll become  an...         ArnabD10   \n",
       "351                           @Fuuttaa 感觉给女鹅准备礼物她会很开心～    wincy38217042   \n",
       "0                       @ImranKhanPTI me mazor adme ho   MMunir50647063   \n",
       "328                   @SpokespersonCHN 华姐，加油(ง •̀_•́)ง  liuxiao89402263   \n",
       "\n",
       "          user.id  suspended_label  pred  \n",
       "371  1.283652e+18                0     1  \n",
       "39   1.278560e+18                0     1  \n",
       "351  1.283285e+18                0     1  \n",
       "0    1.278130e+18                0     0  \n",
       "328  1.282975e+18                0     0  "
      ]
     },
     "execution_count": 69,
     "metadata": {},
     "output_type": "execute_result"
    }
   ],
   "source": [
    "test_preds_tweets = predict_tweet_text(flat_predictions, bert_embeddings_df_test, df_test_f)\n",
    "test_preds_tweets.head()"
   ]
  },
  {
   "cell_type": "code",
   "execution_count": 70,
   "metadata": {
    "execution": {
     "iopub.execute_input": "2021-05-18T02:32:35.780814Z",
     "iopub.status.busy": "2021-05-18T02:32:35.780055Z",
     "iopub.status.idle": "2021-05-18T02:32:35.788062Z",
     "shell.execute_reply": "2021-05-18T02:32:35.787528Z"
    },
    "papermill": {
     "duration": 0.191417,
     "end_time": "2021-05-18T02:32:35.788150",
     "exception": false,
     "start_time": "2021-05-18T02:32:35.596733",
     "status": "completed"
    },
    "tags": []
   },
   "outputs": [],
   "source": [
    "test_preds_tweets.to_csv('test_preds_tweets.csv', index=False, encoding = \"utf_8_sig\")"
   ]
  },
  {
   "cell_type": "code",
   "execution_count": 71,
   "metadata": {
    "execution": {
     "iopub.execute_input": "2021-05-18T02:32:36.094486Z",
     "iopub.status.busy": "2021-05-18T02:32:36.093655Z",
     "iopub.status.idle": "2021-05-18T02:32:36.096495Z",
     "shell.execute_reply": "2021-05-18T02:32:36.096062Z"
    },
    "papermill": {
     "duration": 0.160961,
     "end_time": "2021-05-18T02:32:36.096589",
     "exception": false,
     "start_time": "2021-05-18T02:32:35.935628",
     "status": "completed"
    },
    "tags": []
   },
   "outputs": [],
   "source": [
    "# Generate class predictions at the account level \n",
    "def predict_account(predictions, df_bert, df_full):\n",
    "    df = pd.DataFrame(predictions, columns = ['pred'])\n",
    "    df_2 = pd.merge(df_bert['user.id'], df, left_index=True, right_index=True)\n",
    "    df_fm = df_full[['user.screen_name','user.id', 'suspended']].drop_duplicates(subset=['user.screen_name','user.id'])\n",
    "    df_3 = pd.merge(df_fm, df_2, left_on='user.id', right_on='user.id')\n",
    "    df_4 = df_3[['user.screen_name', 'suspended','pred']].groupby('user.screen_name').agg(['sum', 'mean'])\n",
    "    df_4.drop(('suspended', 'sum'), axis = 1, inplace = True)\n",
    "    df_4.columns = [' '.join(col).strip() for col in df_4.columns.values]\n",
    "    df_4.reset_index(level=0, inplace=True)\n",
    "    df_4.columns = [\"user.screen_name\",\"suspended_label\", \"total_pre_prob\",\"mean_pred_prob\"]\n",
    "    df_4['pred_class'] = np.where(df_4['mean_pred_prob'] > 0.25, 1,0) # Use lighter threshold as not all tweets get an account suspended. \n",
    "    df_4 = df_4.sort_values(by=['total_pre_prob'], ascending=False)\n",
    "\n",
    "    return df_4"
   ]
  },
  {
   "cell_type": "code",
   "execution_count": 72,
   "metadata": {
    "execution": {
     "iopub.execute_input": "2021-05-18T02:32:36.407799Z",
     "iopub.status.busy": "2021-05-18T02:32:36.406958Z",
     "iopub.status.idle": "2021-05-18T02:32:36.473602Z",
     "shell.execute_reply": "2021-05-18T02:32:36.474020Z"
    },
    "papermill": {
     "duration": 0.227977,
     "end_time": "2021-05-18T02:32:36.474145",
     "exception": false,
     "start_time": "2021-05-18T02:32:36.246168",
     "status": "completed"
    },
    "tags": []
   },
   "outputs": [
    {
     "data": {
      "text/html": [
       "<div>\n",
       "<style scoped>\n",
       "    .dataframe tbody tr th:only-of-type {\n",
       "        vertical-align: middle;\n",
       "    }\n",
       "\n",
       "    .dataframe tbody tr th {\n",
       "        vertical-align: top;\n",
       "    }\n",
       "\n",
       "    .dataframe thead th {\n",
       "        text-align: right;\n",
       "    }\n",
       "</style>\n",
       "<table border=\"1\" class=\"dataframe\">\n",
       "  <thead>\n",
       "    <tr style=\"text-align: right;\">\n",
       "      <th></th>\n",
       "      <th>user.screen_name</th>\n",
       "      <th>suspended_label</th>\n",
       "      <th>total_pre_prob</th>\n",
       "      <th>mean_pred_prob</th>\n",
       "      <th>pred_class</th>\n",
       "    </tr>\n",
       "  </thead>\n",
       "  <tbody>\n",
       "    <tr>\n",
       "      <th>370</th>\n",
       "      <td>fWsArCRQJMn0koq</td>\n",
       "      <td>0</td>\n",
       "      <td>21</td>\n",
       "      <td>0.029787</td>\n",
       "      <td>0</td>\n",
       "    </tr>\n",
       "    <tr>\n",
       "      <th>387</th>\n",
       "      <td>jimzhan04908044</td>\n",
       "      <td>0</td>\n",
       "      <td>19</td>\n",
       "      <td>0.159664</td>\n",
       "      <td>0</td>\n",
       "    </tr>\n",
       "    <tr>\n",
       "      <th>232</th>\n",
       "      <td>R_F_fangfang</td>\n",
       "      <td>0</td>\n",
       "      <td>17</td>\n",
       "      <td>0.025719</td>\n",
       "      <td>0</td>\n",
       "    </tr>\n",
       "    <tr>\n",
       "      <th>492</th>\n",
       "      <td>zYQKHlZS1ONA5Z2</td>\n",
       "      <td>0</td>\n",
       "      <td>13</td>\n",
       "      <td>0.039039</td>\n",
       "      <td>0</td>\n",
       "    </tr>\n",
       "    <tr>\n",
       "      <th>476</th>\n",
       "      <td>wishworld_peace</td>\n",
       "      <td>0</td>\n",
       "      <td>13</td>\n",
       "      <td>0.014270</td>\n",
       "      <td>0</td>\n",
       "    </tr>\n",
       "    <tr>\n",
       "      <th>...</th>\n",
       "      <td>...</td>\n",
       "      <td>...</td>\n",
       "      <td>...</td>\n",
       "      <td>...</td>\n",
       "      <td>...</td>\n",
       "    </tr>\n",
       "    <tr>\n",
       "      <th>170</th>\n",
       "      <td>Leeking31125368</td>\n",
       "      <td>0</td>\n",
       "      <td>0</td>\n",
       "      <td>0.000000</td>\n",
       "      <td>0</td>\n",
       "    </tr>\n",
       "    <tr>\n",
       "      <th>169</th>\n",
       "      <td>LeagLiang</td>\n",
       "      <td>0</td>\n",
       "      <td>0</td>\n",
       "      <td>0.000000</td>\n",
       "      <td>0</td>\n",
       "    </tr>\n",
       "    <tr>\n",
       "      <th>168</th>\n",
       "      <td>LazyTTs1</td>\n",
       "      <td>0</td>\n",
       "      <td>0</td>\n",
       "      <td>0.000000</td>\n",
       "      <td>0</td>\n",
       "    </tr>\n",
       "    <tr>\n",
       "      <th>167</th>\n",
       "      <td>LauraFang11</td>\n",
       "      <td>0</td>\n",
       "      <td>0</td>\n",
       "      <td>0.000000</td>\n",
       "      <td>0</td>\n",
       "    </tr>\n",
       "    <tr>\n",
       "      <th>497</th>\n",
       "      <td>ziang2020</td>\n",
       "      <td>1</td>\n",
       "      <td>0</td>\n",
       "      <td>0.000000</td>\n",
       "      <td>0</td>\n",
       "    </tr>\n",
       "  </tbody>\n",
       "</table>\n",
       "<p>498 rows × 5 columns</p>\n",
       "</div>"
      ],
      "text/plain": [
       "    user.screen_name  suspended_label  total_pre_prob  mean_pred_prob  \\\n",
       "370  fWsArCRQJMn0koq                0              21        0.029787   \n",
       "387  jimzhan04908044                0              19        0.159664   \n",
       "232     R_F_fangfang                0              17        0.025719   \n",
       "492  zYQKHlZS1ONA5Z2                0              13        0.039039   \n",
       "476  wishworld_peace                0              13        0.014270   \n",
       "..               ...              ...             ...             ...   \n",
       "170  Leeking31125368                0               0        0.000000   \n",
       "169        LeagLiang                0               0        0.000000   \n",
       "168         LazyTTs1                0               0        0.000000   \n",
       "167      LauraFang11                0               0        0.000000   \n",
       "497        ziang2020                1               0        0.000000   \n",
       "\n",
       "     pred_class  \n",
       "370           0  \n",
       "387           0  \n",
       "232           0  \n",
       "492           0  \n",
       "476           0  \n",
       "..          ...  \n",
       "170           0  \n",
       "169           0  \n",
       "168           0  \n",
       "167           0  \n",
       "497           0  \n",
       "\n",
       "[498 rows x 5 columns]"
      ]
     },
     "execution_count": 72,
     "metadata": {},
     "output_type": "execute_result"
    }
   ],
   "source": [
    "test_account_preds_tweettext = predict_account(flat_predictions, bert_embeddings_df_test, df_test_f)\n",
    "test_account_preds_tweettext"
   ]
  },
  {
   "cell_type": "markdown",
   "metadata": {
    "papermill": {
     "duration": 0.148173,
     "end_time": "2021-05-18T02:32:36.771411",
     "exception": false,
     "start_time": "2021-05-18T02:32:36.623238",
     "status": "completed"
    },
    "tags": []
   },
   "source": [
    "### Confusion Matrix for Account Classification"
   ]
  },
  {
   "cell_type": "code",
   "execution_count": 73,
   "metadata": {
    "execution": {
     "iopub.execute_input": "2021-05-18T02:32:37.073216Z",
     "iopub.status.busy": "2021-05-18T02:32:37.072380Z",
     "iopub.status.idle": "2021-05-18T02:32:37.080964Z",
     "shell.execute_reply": "2021-05-18T02:32:37.080560Z"
    },
    "papermill": {
     "duration": 0.161254,
     "end_time": "2021-05-18T02:32:37.081053",
     "exception": false,
     "start_time": "2021-05-18T02:32:36.919799",
     "status": "completed"
    },
    "tags": []
   },
   "outputs": [
    {
     "name": "stdout",
     "output_type": "stream",
     "text": [
      "              precision    recall  f1-score   support\n",
      "\n",
      "           0       0.92      1.00      0.96       460\n",
      "           1       0.00      0.00      0.00        38\n",
      "\n",
      "    accuracy                           0.92       498\n",
      "   macro avg       0.46      0.50      0.48       498\n",
      "weighted avg       0.85      0.92      0.89       498\n",
      "\n"
     ]
    }
   ],
   "source": [
    "#report = classification_report(np.array(test_labels), predictions)\n",
    "report_te = classification_report(np.array(test_account_preds_tweettext['suspended_label']), np.array(test_account_preds_tweettext['pred_class']))\n",
    "print(report_te)"
   ]
  },
  {
   "cell_type": "code",
   "execution_count": 74,
   "metadata": {
    "execution": {
     "iopub.execute_input": "2021-05-18T02:32:37.387201Z",
     "iopub.status.busy": "2021-05-18T02:32:37.386382Z",
     "iopub.status.idle": "2021-05-18T02:32:37.516684Z",
     "shell.execute_reply": "2021-05-18T02:32:37.517094Z"
    },
    "papermill": {
     "duration": 0.28767,
     "end_time": "2021-05-18T02:32:37.517207",
     "exception": false,
     "start_time": "2021-05-18T02:32:37.229537",
     "status": "completed"
    },
    "tags": []
   },
   "outputs": [
    {
     "data": {
      "image/png": "[encoded data removed]",
      "text/plain": [
       "<Figure size 576x432 with 1 Axes>"
      ]
     },
     "metadata": {
      "needs_background": "light"
     },
     "output_type": "display_data"
    }
   ],
   "source": [
    "fpr, tpr, thresholds = roc_curve(np.array(test_account_preds_tweettext['suspended_label']), np.array(test_account_preds_tweettext['pred_class']))\n",
    "plt.figure(figsize=(8, 6))                         # Not shown\n",
    "plot_roc_curve(fpr, tpr)\n",
    "plt.plot([4.837e-3, 4.837e-3], [0., 0.4368], \"r:\") # Not shown\n",
    "plt.plot([0.0, 4.837e-3], [0.4368, 0.4368], \"r:\")  # Not shown\n",
    "plt.plot([4.837e-3], [0.4368], \"ro\")               # Not shown\n",
    "plt.show()"
   ]
  },
  {
   "cell_type": "code",
   "execution_count": 75,
   "metadata": {
    "execution": {
     "iopub.execute_input": "2021-05-18T02:32:37.824130Z",
     "iopub.status.busy": "2021-05-18T02:32:37.823241Z",
     "iopub.status.idle": "2021-05-18T02:32:37.829168Z",
     "shell.execute_reply": "2021-05-18T02:32:37.828753Z"
    },
    "papermill": {
     "duration": 0.161963,
     "end_time": "2021-05-18T02:32:37.829261",
     "exception": false,
     "start_time": "2021-05-18T02:32:37.667298",
     "status": "completed"
    },
    "tags": []
   },
   "outputs": [
    {
     "data": {
      "text/plain": [
       "0.49782608695652175"
      ]
     },
     "execution_count": 75,
     "metadata": {},
     "output_type": "execute_result"
    }
   ],
   "source": [
    "roc_auc_score(np.array(test_account_preds_tweettext['suspended_label']), np.array(test_account_preds_tweettext['pred_class']))"
   ]
  },
  {
   "cell_type": "code",
   "execution_count": 76,
   "metadata": {
    "execution": {
     "iopub.execute_input": "2021-05-18T02:32:38.136548Z",
     "iopub.status.busy": "2021-05-18T02:32:38.135653Z",
     "iopub.status.idle": "2021-05-18T02:32:38.139550Z",
     "shell.execute_reply": "2021-05-18T02:32:38.138979Z"
    },
    "papermill": {
     "duration": 0.160973,
     "end_time": "2021-05-18T02:32:38.139644",
     "exception": false,
     "start_time": "2021-05-18T02:32:37.978671",
     "status": "completed"
    },
    "tags": []
   },
   "outputs": [],
   "source": [
    "test_account_preds_tweettext.to_csv('test_account_preds_tweettext.csv', index=False, encoding = \"utf_8_sig\")"
   ]
  }
 ],
 "metadata": {
  "kernelspec": {
   "display_name": "Python 3",
   "language": "python",
   "name": "python3"
  },
  "language_info": {
   "codemirror_mode": {
    "name": "ipython",
    "version": 3
   },
   "file_extension": ".py",
   "mimetype": "text/x-python",
   "name": "python",
   "nbconvert_exporter": "python",
   "pygments_lexer": "ipython3",
   "version": "3.7.6"
  },
  "papermill": {
   "duration": 3407.00819,
   "end_time": "2021-05-18T02:32:39.377059",
   "environment_variables": {},
   "exception": null,
   "input_path": "__notebook__.ipynb",
   "output_path": "__notebook__.ipynb",
   "parameters": {},
   "start_time": "2021-05-18T01:35:52.368869",
   "version": "2.1.0"
  },
  "widgets": {
   "application/vnd.jupyter.widget-state+json": {
    "state": {
     "06f380623a584a23b88df4d03d484995": {
      "model_module": "@jupyter-widgets/base",
      "model_module_version": "1.2.0",
      "model_name": "LayoutModel",
      "state": {
       "_model_module": "@jupyter-widgets/base",
       "_model_module_version": "1.2.0",
       "_model_name": "LayoutModel",
       "_view_count": null,
       "_view_module": "@jupyter-widgets/base",
       "_view_module_version": "1.2.0",
       "_view_name": "LayoutView",
       "align_content": null,
       "align_items": null,
       "align_self": null,
       "border": null,
       "bottom": null,
       "display": null,
       "flex": null,
       "flex_flow": null,
       "grid_area": null,
       "grid_auto_columns": null,
       "grid_auto_flow": null,
       "grid_auto_rows": null,
       "grid_column": null,
       "grid_gap": null,
       "grid_row": null,
       "grid_template_areas": null,
       "grid_template_columns": null,
       "grid_template_rows": null,
       "height": null,
       "justify_content": null,
       "justify_items": null,
       "left": null,
       "margin": null,
       "max_height": null,
       "max_width": null,
       "min_height": null,
       "min_width": null,
       "object_fit": null,
       "object_position": null,
       "order": null,
       "overflow": null,
       "overflow_x": null,
       "overflow_y": null,
       "padding": null,
       "right": null,
       "top": null,
       "visibility": null,
       "width": null
      }
     },
     "0afd68f0f9b04a099c4e62bfd82fcb64": {
      "model_module": "@jupyter-widgets/controls",
      "model_module_version": "1.5.0",
      "model_name": "FloatProgressModel",
      "state": {
       "_dom_classes": [],
       "_model_module": "@jupyter-widgets/controls",
       "_model_module_version": "1.5.0",
       "_model_name": "FloatProgressModel",
       "_view_count": null,
       "_view_module": "@jupyter-widgets/controls",
       "_view_module_version": "1.5.0",
       "_view_name": "ProgressView",
       "bar_style": "success",
       "description": "Downloading: 100%",
       "description_tooltip": null,
       "layout": "IPY_MODEL_8e689ba08b8a497ea476e3ac912b4430",
       "max": 714314041.0,
       "min": 0.0,
       "orientation": "horizontal",
       "style": "IPY_MODEL_e79ec081040544e7bb4aaecc3bff2ac1",
       "value": 714314041.0
      }
     },
     "0d65b4d3db7d4280bab70514e87e5b1e": {
      "model_module": "@jupyter-widgets/controls",
      "model_module_version": "1.5.0",
      "model_name": "HBoxModel",
      "state": {
       "_dom_classes": [],
       "_model_module": "@jupyter-widgets/controls",
       "_model_module_version": "1.5.0",
       "_model_name": "HBoxModel",
       "_view_count": null,
       "_view_module": "@jupyter-widgets/controls",
       "_view_module_version": "1.5.0",
       "_view_name": "HBoxView",
       "box_style": "",
       "children": [
        "IPY_MODEL_0afd68f0f9b04a099c4e62bfd82fcb64",
        "IPY_MODEL_8a5a92c2b71c4ab8b342d8b8267cce43"
       ],
       "layout": "IPY_MODEL_fdcce97809124767b8436165506cd0e5"
      }
     },
     "223c8a40556643d9a313a7748bec0424": {
      "model_module": "@jupyter-widgets/controls",
      "model_module_version": "1.5.0",
      "model_name": "HBoxModel",
      "state": {
       "_dom_classes": [],
       "_model_module": "@jupyter-widgets/controls",
       "_model_module_version": "1.5.0",
       "_model_name": "HBoxModel",
       "_view_count": null,
       "_view_module": "@jupyter-widgets/controls",
       "_view_module_version": "1.5.0",
       "_view_name": "HBoxView",
       "box_style": "",
       "children": [
        "IPY_MODEL_cf48cc496cb34a76bfe9e6adecc17cd9",
        "IPY_MODEL_96997af5178e438fbe15e08fa2404093"
       ],
       "layout": "IPY_MODEL_06f380623a584a23b88df4d03d484995"
      }
     },
     "35c01215fa944f7cbcec674fe9e29fe7": {
      "model_module": "@jupyter-widgets/controls",
      "model_module_version": "1.5.0",
      "model_name": "ProgressStyleModel",
      "state": {
       "_model_module": "@jupyter-widgets/controls",
       "_model_module_version": "1.5.0",
       "_model_name": "ProgressStyleModel",
       "_view_count": null,
       "_view_module": "@jupyter-widgets/base",
       "_view_module_version": "1.2.0",
       "_view_name": "StyleView",
       "bar_color": null,
       "description_width": "initial"
      }
     },
     "3e207fce01f2451cbdf3580a9a4669ac": {
      "model_module": "@jupyter-widgets/base",
      "model_module_version": "1.2.0",
      "model_name": "LayoutModel",
      "state": {
       "_model_module": "@jupyter-widgets/base",
       "_model_module_version": "1.2.0",
       "_model_name": "LayoutModel",
       "_view_count": null,
       "_view_module": "@jupyter-widgets/base",
       "_view_module_version": "1.2.0",
       "_view_name": "LayoutView",
       "align_content": null,
       "align_items": null,
       "align_self": null,
       "border": null,
       "bottom": null,
       "display": null,
       "flex": null,
       "flex_flow": null,
       "grid_area": null,
       "grid_auto_columns": null,
       "grid_auto_flow": null,
       "grid_auto_rows": null,
       "grid_column": null,
       "grid_gap": null,
       "grid_row": null,
       "grid_template_areas": null,
       "grid_template_columns": null,
       "grid_template_rows": null,
       "height": null,
       "justify_content": null,
       "justify_items": null,
       "left": null,
       "margin": null,
       "max_height": null,
       "max_width": null,
       "min_height": null,
       "min_width": null,
       "object_fit": null,
       "object_position": null,
       "order": null,
       "overflow": null,
       "overflow_x": null,
       "overflow_y": null,
       "padding": null,
       "right": null,
       "top": null,
       "visibility": null,
       "width": null
      }
     },
     "5db9d3d9159b412aa53a442a16a94241": {
      "model_module": "@jupyter-widgets/controls",
      "model_module_version": "1.5.0",
      "model_name": "FloatProgressModel",
      "state": {
       "_dom_classes": [],
       "_model_module": "@jupyter-widgets/controls",
       "_model_module_version": "1.5.0",
       "_model_name": "FloatProgressModel",
       "_view_count": null,
       "_view_module": "@jupyter-widgets/controls",
       "_view_module_version": "1.5.0",
       "_view_name": "ProgressView",
       "bar_style": "success",
       "description": "Downloading: 100%",
       "description_tooltip": null,
       "layout": "IPY_MODEL_be2f7afd3d1a4075b7b3bf47e5052cc5",
       "max": 995526.0,
       "min": 0.0,
       "orientation": "horizontal",
       "style": "IPY_MODEL_35c01215fa944f7cbcec674fe9e29fe7",
       "value": 995526.0
      }
     },
     "60a6b667e14f4741a365ebb1bd20b4ff": {
      "model_module": "@jupyter-widgets/controls",
      "model_module_version": "1.5.0",
      "model_name": "HTMLModel",
      "state": {
       "_dom_classes": [],
       "_model_module": "@jupyter-widgets/controls",
       "_model_module_version": "1.5.0",
       "_model_name": "HTMLModel",
       "_view_count": null,
       "_view_module": "@jupyter-widgets/controls",
       "_view_module_version": "1.5.0",
       "_view_name": "HTMLView",
       "description": "",
       "description_tooltip": null,
       "layout": "IPY_MODEL_73ac832420274c0ba6c603cce2b35974",
       "placeholder": "​",
       "style": "IPY_MODEL_8ab88e70c99c44288e1523d5ae04f5f3",
       "value": " 996k/996k [00:00&lt;00:00, 2.11MB/s]"
      }
     },
     "6576bebb987840bea815127bb7d0f8b3": {
      "model_module": "@jupyter-widgets/controls",
      "model_module_version": "1.5.0",
      "model_name": "HBoxModel",
      "state": {
       "_dom_classes": [],
       "_model_module": "@jupyter-widgets/controls",
       "_model_module_version": "1.5.0",
       "_model_name": "HBoxModel",
       "_view_count": null,
       "_view_module": "@jupyter-widgets/controls",
       "_view_module_version": "1.5.0",
       "_view_name": "HBoxView",
       "box_style": "",
       "children": [
        "IPY_MODEL_5db9d3d9159b412aa53a442a16a94241",
        "IPY_MODEL_60a6b667e14f4741a365ebb1bd20b4ff"
       ],
       "layout": "IPY_MODEL_9e121ece5cea4cadb0b950774adba685"
      }
     },
     "7387e3103e654627b29f919a5b183acb": {
      "model_module": "@jupyter-widgets/controls",
      "model_module_version": "1.5.0",
      "model_name": "DescriptionStyleModel",
      "state": {
       "_model_module": "@jupyter-widgets/controls",
       "_model_module_version": "1.5.0",
       "_model_name": "DescriptionStyleModel",
       "_view_count": null,
       "_view_module": "@jupyter-widgets/base",
       "_view_module_version": "1.2.0",
       "_view_name": "StyleView",
       "description_width": ""
      }
     },
     "73ac832420274c0ba6c603cce2b35974": {
      "model_module": "@jupyter-widgets/base",
      "model_module_version": "1.2.0",
      "model_name": "LayoutModel",
      "state": {
       "_model_module": "@jupyter-widgets/base",
       "_model_module_version": "1.2.0",
       "_model_name": "LayoutModel",
       "_view_count": null,
       "_view_module": "@jupyter-widgets/base",
       "_view_module_version": "1.2.0",
       "_view_name": "LayoutView",
       "align_content": null,
       "align_items": null,
       "align_self": null,
       "border": null,
       "bottom": null,
       "display": null,
       "flex": null,
       "flex_flow": null,
       "grid_area": null,
       "grid_auto_columns": null,
       "grid_auto_flow": null,
       "grid_auto_rows": null,
       "grid_column": null,
       "grid_gap": null,
       "grid_row": null,
       "grid_template_areas": null,
       "grid_template_columns": null,
       "grid_template_rows": null,
       "height": null,
       "justify_content": null,
       "justify_items": null,
       "left": null,
       "margin": null,
       "max_height": null,
       "max_width": null,
       "min_height": null,
       "min_width": null,
       "object_fit": null,
       "object_position": null,
       "order": null,
       "overflow": null,
       "overflow_x": null,
       "overflow_y": null,
       "padding": null,
       "right": null,
       "top": null,
       "visibility": null,
       "width": null
      }
     },
     "8a5a92c2b71c4ab8b342d8b8267cce43": {
      "model_module": "@jupyter-widgets/controls",
      "model_module_version": "1.5.0",
      "model_name": "HTMLModel",
      "state": {
       "_dom_classes": [],
       "_model_module": "@jupyter-widgets/controls",
       "_model_module_version": "1.5.0",
       "_model_name": "HTMLModel",
       "_view_count": null,
       "_view_module": "@jupyter-widgets/controls",
       "_view_module_version": "1.5.0",
       "_view_name": "HTMLView",
       "description": "",
       "description_tooltip": null,
       "layout": "IPY_MODEL_c75e886f5f25475897cbe02c05716b01",
       "placeholder": "​",
       "style": "IPY_MODEL_7387e3103e654627b29f919a5b183acb",
       "value": " 714M/714M [00:32&lt;00:00, 22.0MB/s]"
      }
     },
     "8ab88e70c99c44288e1523d5ae04f5f3": {
      "model_module": "@jupyter-widgets/controls",
      "model_module_version": "1.5.0",
      "model_name": "DescriptionStyleModel",
      "state": {
       "_model_module": "@jupyter-widgets/controls",
       "_model_module_version": "1.5.0",
       "_model_name": "DescriptionStyleModel",
       "_view_count": null,
       "_view_module": "@jupyter-widgets/base",
       "_view_module_version": "1.2.0",
       "_view_name": "StyleView",
       "description_width": ""
      }
     },
     "8bfaa1d616a94a0ba5c7b89f90d865c2": {
      "model_module": "@jupyter-widgets/controls",
      "model_module_version": "1.5.0",
      "model_name": "DescriptionStyleModel",
      "state": {
       "_model_module": "@jupyter-widgets/controls",
       "_model_module_version": "1.5.0",
       "_model_name": "DescriptionStyleModel",
       "_view_count": null,
       "_view_module": "@jupyter-widgets/base",
       "_view_module_version": "1.2.0",
       "_view_name": "StyleView",
       "description_width": ""
      }
     },
     "8e689ba08b8a497ea476e3ac912b4430": {
      "model_module": "@jupyter-widgets/base",
      "model_module_version": "1.2.0",
      "model_name": "LayoutModel",
      "state": {
       "_model_module": "@jupyter-widgets/base",
       "_model_module_version": "1.2.0",
       "_model_name": "LayoutModel",
       "_view_count": null,
       "_view_module": "@jupyter-widgets/base",
       "_view_module_version": "1.2.0",
       "_view_name": "LayoutView",
       "align_content": null,
       "align_items": null,
       "align_self": null,
       "border": null,
       "bottom": null,
       "display": null,
       "flex": null,
       "flex_flow": null,
       "grid_area": null,
       "grid_auto_columns": null,
       "grid_auto_flow": null,
       "grid_auto_rows": null,
       "grid_column": null,
       "grid_gap": null,
       "grid_row": null,
       "grid_template_areas": null,
       "grid_template_columns": null,
       "grid_template_rows": null,
       "height": null,
       "justify_content": null,
       "justify_items": null,
       "left": null,
       "margin": null,
       "max_height": null,
       "max_width": null,
       "min_height": null,
       "min_width": null,
       "object_fit": null,
       "object_position": null,
       "order": null,
       "overflow": null,
       "overflow_x": null,
       "overflow_y": null,
       "padding": null,
       "right": null,
       "top": null,
       "visibility": null,
       "width": null
      }
     },
     "96997af5178e438fbe15e08fa2404093": {
      "model_module": "@jupyter-widgets/controls",
      "model_module_version": "1.5.0",
      "model_name": "HTMLModel",
      "state": {
       "_dom_classes": [],
       "_model_module": "@jupyter-widgets/controls",
       "_model_module_version": "1.5.0",
       "_model_name": "HTMLModel",
       "_view_count": null,
       "_view_module": "@jupyter-widgets/controls",
       "_view_module_version": "1.5.0",
       "_view_name": "HTMLView",
       "description": "",
       "description_tooltip": null,
       "layout": "IPY_MODEL_ae8356aacf4346448d2d404c4886e16f",
       "placeholder": "​",
       "style": "IPY_MODEL_8bfaa1d616a94a0ba5c7b89f90d865c2",
       "value": " 625/625 [00:36&lt;00:00, 16.9B/s]"
      }
     },
     "9e121ece5cea4cadb0b950774adba685": {
      "model_module": "@jupyter-widgets/base",
      "model_module_version": "1.2.0",
      "model_name": "LayoutModel",
      "state": {
       "_model_module": "@jupyter-widgets/base",
       "_model_module_version": "1.2.0",
       "_model_name": "LayoutModel",
       "_view_count": null,
       "_view_module": "@jupyter-widgets/base",
       "_view_module_version": "1.2.0",
       "_view_name": "LayoutView",
       "align_content": null,
       "align_items": null,
       "align_self": null,
       "border": null,
       "bottom": null,
       "display": null,
       "flex": null,
       "flex_flow": null,
       "grid_area": null,
       "grid_auto_columns": null,
       "grid_auto_flow": null,
       "grid_auto_rows": null,
       "grid_column": null,
       "grid_gap": null,
       "grid_row": null,
       "grid_template_areas": null,
       "grid_template_columns": null,
       "grid_template_rows": null,
       "height": null,
       "justify_content": null,
       "justify_items": null,
       "left": null,
       "margin": null,
       "max_height": null,
       "max_width": null,
       "min_height": null,
       "min_width": null,
       "object_fit": null,
       "object_position": null,
       "order": null,
       "overflow": null,
       "overflow_x": null,
       "overflow_y": null,
       "padding": null,
       "right": null,
       "top": null,
       "visibility": null,
       "width": null
      }
     },
     "ae8356aacf4346448d2d404c4886e16f": {
      "model_module": "@jupyter-widgets/base",
      "model_module_version": "1.2.0",
      "model_name": "LayoutModel",
      "state": {
       "_model_module": "@jupyter-widgets/base",
       "_model_module_version": "1.2.0",
       "_model_name": "LayoutModel",
       "_view_count": null,
       "_view_module": "@jupyter-widgets/base",
       "_view_module_version": "1.2.0",
       "_view_name": "LayoutView",
       "align_content": null,
       "align_items": null,
       "align_self": null,
       "border": null,
       "bottom": null,
       "display": null,
       "flex": null,
       "flex_flow": null,
       "grid_area": null,
       "grid_auto_columns": null,
       "grid_auto_flow": null,
       "grid_auto_rows": null,
       "grid_column": null,
       "grid_gap": null,
       "grid_row": null,
       "grid_template_areas": null,
       "grid_template_columns": null,
       "grid_template_rows": null,
       "height": null,
       "justify_content": null,
       "justify_items": null,
       "left": null,
       "margin": null,
       "max_height": null,
       "max_width": null,
       "min_height": null,
       "min_width": null,
       "object_fit": null,
       "object_position": null,
       "order": null,
       "overflow": null,
       "overflow_x": null,
       "overflow_y": null,
       "padding": null,
       "right": null,
       "top": null,
       "visibility": null,
       "width": null
      }
     },
     "bad158e5d020472fa8034f2946b376ca": {
      "model_module": "@jupyter-widgets/controls",
      "model_module_version": "1.5.0",
      "model_name": "ProgressStyleModel",
      "state": {
       "_model_module": "@jupyter-widgets/controls",
       "_model_module_version": "1.5.0",
       "_model_name": "ProgressStyleModel",
       "_view_count": null,
       "_view_module": "@jupyter-widgets/base",
       "_view_module_version": "1.2.0",
       "_view_name": "StyleView",
       "bar_color": null,
       "description_width": "initial"
      }
     },
     "be2f7afd3d1a4075b7b3bf47e5052cc5": {
      "model_module": "@jupyter-widgets/base",
      "model_module_version": "1.2.0",
      "model_name": "LayoutModel",
      "state": {
       "_model_module": "@jupyter-widgets/base",
       "_model_module_version": "1.2.0",
       "_model_name": "LayoutModel",
       "_view_count": null,
       "_view_module": "@jupyter-widgets/base",
       "_view_module_version": "1.2.0",
       "_view_name": "LayoutView",
       "align_content": null,
       "align_items": null,
       "align_self": null,
       "border": null,
       "bottom": null,
       "display": null,
       "flex": null,
       "flex_flow": null,
       "grid_area": null,
       "grid_auto_columns": null,
       "grid_auto_flow": null,
       "grid_auto_rows": null,
       "grid_column": null,
       "grid_gap": null,
       "grid_row": null,
       "grid_template_areas": null,
       "grid_template_columns": null,
       "grid_template_rows": null,
       "height": null,
       "justify_content": null,
       "justify_items": null,
       "left": null,
       "margin": null,
       "max_height": null,
       "max_width": null,
       "min_height": null,
       "min_width": null,
       "object_fit": null,
       "object_position": null,
       "order": null,
       "overflow": null,
       "overflow_x": null,
       "overflow_y": null,
       "padding": null,
       "right": null,
       "top": null,
       "visibility": null,
       "width": null
      }
     },
     "c75e886f5f25475897cbe02c05716b01": {
      "model_module": "@jupyter-widgets/base",
      "model_module_version": "1.2.0",
      "model_name": "LayoutModel",
      "state": {
       "_model_module": "@jupyter-widgets/base",
       "_model_module_version": "1.2.0",
       "_model_name": "LayoutModel",
       "_view_count": null,
       "_view_module": "@jupyter-widgets/base",
       "_view_module_version": "1.2.0",
       "_view_name": "LayoutView",
       "align_content": null,
       "align_items": null,
       "align_self": null,
       "border": null,
       "bottom": null,
       "display": null,
       "flex": null,
       "flex_flow": null,
       "grid_area": null,
       "grid_auto_columns": null,
       "grid_auto_flow": null,
       "grid_auto_rows": null,
       "grid_column": null,
       "grid_gap": null,
       "grid_row": null,
       "grid_template_areas": null,
       "grid_template_columns": null,
       "grid_template_rows": null,
       "height": null,
       "justify_content": null,
       "justify_items": null,
       "left": null,
       "margin": null,
       "max_height": null,
       "max_width": null,
       "min_height": null,
       "min_width": null,
       "object_fit": null,
       "object_position": null,
       "order": null,
       "overflow": null,
       "overflow_x": null,
       "overflow_y": null,
       "padding": null,
       "right": null,
       "top": null,
       "visibility": null,
       "width": null
      }
     },
     "cf48cc496cb34a76bfe9e6adecc17cd9": {
      "model_module": "@jupyter-widgets/controls",
      "model_module_version": "1.5.0",
      "model_name": "FloatProgressModel",
      "state": {
       "_dom_classes": [],
       "_model_module": "@jupyter-widgets/controls",
       "_model_module_version": "1.5.0",
       "_model_name": "FloatProgressModel",
       "_view_count": null,
       "_view_module": "@jupyter-widgets/controls",
       "_view_module_version": "1.5.0",
       "_view_name": "ProgressView",
       "bar_style": "success",
       "description": "Downloading: 100%",
       "description_tooltip": null,
       "layout": "IPY_MODEL_3e207fce01f2451cbdf3580a9a4669ac",
       "max": 625.0,
       "min": 0.0,
       "orientation": "horizontal",
       "style": "IPY_MODEL_bad158e5d020472fa8034f2946b376ca",
       "value": 625.0
      }
     },
     "e79ec081040544e7bb4aaecc3bff2ac1": {
      "model_module": "@jupyter-widgets/controls",
      "model_module_version": "1.5.0",
      "model_name": "ProgressStyleModel",
      "state": {
       "_model_module": "@jupyter-widgets/controls",
       "_model_module_version": "1.5.0",
       "_model_name": "ProgressStyleModel",
       "_view_count": null,
       "_view_module": "@jupyter-widgets/base",
       "_view_module_version": "1.2.0",
       "_view_name": "StyleView",
       "bar_color": null,
       "description_width": "initial"
      }
     },
     "fdcce97809124767b8436165506cd0e5": {
      "model_module": "@jupyter-widgets/base",
      "model_module_version": "1.2.0",
      "model_name": "LayoutModel",
      "state": {
       "_model_module": "@jupyter-widgets/base",
       "_model_module_version": "1.2.0",
       "_model_name": "LayoutModel",
       "_view_count": null,
       "_view_module": "@jupyter-widgets/base",
       "_view_module_version": "1.2.0",
       "_view_name": "LayoutView",
       "align_content": null,
       "align_items": null,
       "align_self": null,
       "border": null,
       "bottom": null,
       "display": null,
       "flex": null,
       "flex_flow": null,
       "grid_area": null,
       "grid_auto_columns": null,
       "grid_auto_flow": null,
       "grid_auto_rows": null,
       "grid_column": null,
       "grid_gap": null,
       "grid_row": null,
       "grid_template_areas": null,
       "grid_template_columns": null,
       "grid_template_rows": null,
       "height": null,
       "justify_content": null,
       "justify_items": null,
       "left": null,
       "margin": null,
       "max_height": null,
       "max_width": null,
       "min_height": null,
       "min_width": null,
       "object_fit": null,
       "object_position": null,
       "order": null,
       "overflow": null,
       "overflow_x": null,
       "overflow_y": null,
       "padding": null,
       "right": null,
       "top": null,
       "visibility": null,
       "width": null
      }
     }
    },
    "version_major": 2,
    "version_minor": 0
   }
  }
 },
 "nbformat": 4,
 "nbformat_minor": 4
}
