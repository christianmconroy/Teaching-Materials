{
 "cells": [
  {
   "cell_type": "markdown",
   "metadata": {
    "papermill": {
     "duration": 0.069342,
     "end_time": "2021-05-18T11:42:22.599557",
     "exception": false,
     "start_time": "2021-05-18T11:42:22.530215",
     "status": "completed"
    },
    "tags": []
   },
   "source": [
    "### Load in Packages and Set Up Parameters"
   ]
  },
  {
   "cell_type": "code",
   "execution_count": 1,
   "metadata": {
    "_cell_guid": "b1076dfc-b9ad-4769-8c92-a6c4dae69d19",
    "_uuid": "8f2839f25d086af736a60e9eeb907d3b93b6e0e5",
    "execution": {
     "iopub.execute_input": "2021-05-18T11:42:22.787811Z",
     "iopub.status.busy": "2021-05-18T11:42:22.787065Z",
     "iopub.status.idle": "2021-05-18T11:42:28.842116Z",
     "shell.execute_reply": "2021-05-18T11:42:28.841450Z"
    },
    "papermill": {
     "duration": 6.129825,
     "end_time": "2021-05-18T11:42:28.842256",
     "exception": false,
     "start_time": "2021-05-18T11:42:22.712431",
     "status": "completed"
    },
    "tags": []
   },
   "outputs": [],
   "source": [
    "import pandas as pd\n",
    "from keras.preprocessing.sequence import pad_sequences\n",
    "\n",
    "import matplotlib.pyplot as plt\n",
    "%matplotlib inline"
   ]
  },
  {
   "cell_type": "code",
   "execution_count": 2,
   "metadata": {
    "execution": {
     "iopub.execute_input": "2021-05-18T11:42:31.606579Z",
     "iopub.status.busy": "2021-05-18T11:42:31.605417Z",
     "iopub.status.idle": "2021-05-18T11:42:31.609920Z",
     "shell.execute_reply": "2021-05-18T11:42:31.610384Z"
    },
    "papermill": {
     "duration": 2.699735,
     "end_time": "2021-05-18T11:42:31.610512",
     "exception": false,
     "start_time": "2021-05-18T11:42:28.910777",
     "status": "completed"
    },
    "tags": []
   },
   "outputs": [
    {
     "name": "stdout",
     "output_type": "stream",
     "text": [
      "Found GPU at: /device:GPU:0\n"
     ]
    }
   ],
   "source": [
    "import tensorflow as tf\n",
    "# Get the GPU device name.\n",
    "device_name = tf.test.gpu_device_name()\n",
    "# The device name should look like the following:\n",
    "if device_name == '/device:GPU:0':\n",
    "    print('Found GPU at: {}'.format(device_name))\n",
    "else:\n",
    "    raise SystemError('GPU device not found')"
   ]
  },
  {
   "cell_type": "markdown",
   "metadata": {
    "papermill": {
     "duration": 0.071775,
     "end_time": "2021-05-18T11:42:31.755320",
     "exception": false,
     "start_time": "2021-05-18T11:42:31.683545",
     "status": "completed"
    },
    "tags": []
   },
   "source": [
    "In order for torch to use the GPU, we need to identify and specify the GPU as the device. Later, in our training loop, we will load data onto the device."
   ]
  },
  {
   "cell_type": "code",
   "execution_count": 3,
   "metadata": {
    "execution": {
     "iopub.execute_input": "2021-05-18T11:42:31.910795Z",
     "iopub.status.busy": "2021-05-18T11:42:31.909952Z",
     "iopub.status.idle": "2021-05-18T11:42:33.480059Z",
     "shell.execute_reply": "2021-05-18T11:42:33.479387Z"
    },
    "papermill": {
     "duration": 1.649929,
     "end_time": "2021-05-18T11:42:33.480181",
     "exception": false,
     "start_time": "2021-05-18T11:42:31.830252",
     "status": "completed"
    },
    "tags": []
   },
   "outputs": [
    {
     "name": "stdout",
     "output_type": "stream",
     "text": [
      "There are 1 GPU(s) available.\n",
      "We will use the GPU: Tesla P100-PCIE-16GB\n"
     ]
    }
   ],
   "source": [
    "import torch\n",
    "# If there's a GPU available...\n",
    "if torch.cuda.is_available():    \n",
    "    # Tell PyTorch to use the GPU.    \n",
    "    device = torch.device(\"cuda\")\n",
    "    print('There are %d GPU(s) available.' % torch.cuda.device_count())\n",
    "    print('We will use the GPU:', torch.cuda.get_device_name(0))\n",
    "# If not...\n",
    "else:\n",
    "    print('No GPU available, using the CPU instead.')\n",
    "    device = torch.device(\"cpu\")"
   ]
  },
  {
   "cell_type": "markdown",
   "metadata": {
    "papermill": {
     "duration": 0.081063,
     "end_time": "2021-05-18T11:42:33.633229",
     "exception": false,
     "start_time": "2021-05-18T11:42:33.552166",
     "status": "completed"
    },
    "tags": []
   },
   "source": [
    "Next, let’s install the transformers package from Hugging Face which will give us a pytorch interface for working with BERT. (This library contains interfaces for other pretrained language models like OpenAI’s GPT and GPT-2.) We’ve selected the pytorch interface because it strikes a nice balance between the high-level APIs (which are easy to use but don’t provide insight into how things work) and tensorflow code (which contains lots of details but often sidetracks us into lessons about tensorflow, when the purpose here is BERT!)."
   ]
  },
  {
   "cell_type": "code",
   "execution_count": 4,
   "metadata": {
    "execution": {
     "iopub.execute_input": "2021-05-18T11:42:33.779000Z",
     "iopub.status.busy": "2021-05-18T11:42:33.778251Z",
     "iopub.status.idle": "2021-05-18T11:42:42.802755Z",
     "shell.execute_reply": "2021-05-18T11:42:42.802228Z"
    },
    "papermill": {
     "duration": 9.09842,
     "end_time": "2021-05-18T11:42:42.802874",
     "exception": false,
     "start_time": "2021-05-18T11:42:33.704454",
     "status": "completed"
    },
    "tags": []
   },
   "outputs": [
    {
     "name": "stdout",
     "output_type": "stream",
     "text": [
      "Requirement already satisfied: transformers in /opt/conda/lib/python3.7/site-packages (3.5.1)\r\n",
      "Requirement already satisfied: tokenizers==0.9.3 in /opt/conda/lib/python3.7/site-packages (from transformers) (0.9.3)\r\n",
      "Requirement already satisfied: regex!=2019.12.17 in /opt/conda/lib/python3.7/site-packages (from transformers) (2020.4.4)\r\n",
      "Requirement already satisfied: sentencepiece==0.1.91 in /opt/conda/lib/python3.7/site-packages (from transformers) (0.1.91)\r\n",
      "Requirement already satisfied: tqdm>=4.27 in /opt/conda/lib/python3.7/site-packages (from transformers) (4.45.0)\r\n",
      "Requirement already satisfied: requests in /opt/conda/lib/python3.7/site-packages (from transformers) (2.23.0)\r\n",
      "Requirement already satisfied: protobuf in /opt/conda/lib/python3.7/site-packages (from transformers) (3.14.0)\r\n",
      "Requirement already satisfied: packaging in /opt/conda/lib/python3.7/site-packages (from transformers) (20.1)\r\n",
      "Requirement already satisfied: numpy in /opt/conda/lib/python3.7/site-packages (from transformers) (1.18.5)\r\n",
      "Requirement already satisfied: filelock in /opt/conda/lib/python3.7/site-packages (from transformers) (3.0.10)\r\n",
      "Requirement already satisfied: sacremoses in /opt/conda/lib/python3.7/site-packages (from transformers) (0.0.43)\r\n",
      "Requirement already satisfied: pyparsing>=2.0.2 in /opt/conda/lib/python3.7/site-packages (from packaging->transformers) (2.4.7)\r\n",
      "Requirement already satisfied: six in /opt/conda/lib/python3.7/site-packages (from packaging->transformers) (1.14.0)\r\n",
      "Requirement already satisfied: six in /opt/conda/lib/python3.7/site-packages (from packaging->transformers) (1.14.0)\r\n",
      "Requirement already satisfied: chardet<4,>=3.0.2 in /opt/conda/lib/python3.7/site-packages (from requests->transformers) (3.0.4)\r\n",
      "Requirement already satisfied: idna<3,>=2.5 in /opt/conda/lib/python3.7/site-packages (from requests->transformers) (2.9)\r\n",
      "Requirement already satisfied: urllib3!=1.25.0,!=1.25.1,<1.26,>=1.21.1 in /opt/conda/lib/python3.7/site-packages (from requests->transformers) (1.25.9)\r\n",
      "Requirement already satisfied: certifi>=2017.4.17 in /opt/conda/lib/python3.7/site-packages (from requests->transformers) (2020.12.5)\r\n",
      "Requirement already satisfied: regex!=2019.12.17 in /opt/conda/lib/python3.7/site-packages (from transformers) (2020.4.4)\r\n",
      "Requirement already satisfied: click in /opt/conda/lib/python3.7/site-packages (from sacremoses->transformers) (7.1.1)\r\n",
      "Requirement already satisfied: joblib in /opt/conda/lib/python3.7/site-packages (from sacremoses->transformers) (0.14.1)\r\n",
      "Requirement already satisfied: tqdm>=4.27 in /opt/conda/lib/python3.7/site-packages (from transformers) (4.45.0)\r\n",
      "Requirement already satisfied: six in /opt/conda/lib/python3.7/site-packages (from packaging->transformers) (1.14.0)\r\n",
      "\u001b[33mWARNING: You are using pip version 20.3.1; however, version 21.1.1 is available.\r\n",
      "You should consider upgrading via the '/opt/conda/bin/python3.7 -m pip install --upgrade pip' command.\u001b[0m\r\n"
     ]
    }
   ],
   "source": [
    "!pip install transformers"
   ]
  },
  {
   "cell_type": "markdown",
   "metadata": {
    "papermill": {
     "duration": 0.069242,
     "end_time": "2021-05-18T11:42:42.940111",
     "exception": false,
     "start_time": "2021-05-18T11:42:42.870869",
     "status": "completed"
    },
    "tags": []
   },
   "source": [
    "### Load in Data"
   ]
  },
  {
   "cell_type": "code",
   "execution_count": 5,
   "metadata": {
    "execution": {
     "iopub.execute_input": "2021-05-18T11:42:43.088445Z",
     "iopub.status.busy": "2021-05-18T11:42:43.087885Z",
     "iopub.status.idle": "2021-05-18T11:42:49.533720Z",
     "shell.execute_reply": "2021-05-18T11:42:49.534552Z"
    },
    "papermill": {
     "duration": 6.522298,
     "end_time": "2021-05-18T11:42:49.534799",
     "exception": false,
     "start_time": "2021-05-18T11:42:43.012501",
     "status": "completed"
    },
    "tags": []
   },
   "outputs": [],
   "source": [
    "#### Load in data from S3\n",
    "\n",
    "# Import Train and Measure Balance\n",
    "# Import Flattened Data\n",
    "df_train_f = pd.read_csv(\"/kaggle/input/nort-bert-datasets/df_train_full_cleaned_pe.csv\", encoding='utf_8_sig', low_memory=False)\n",
    "\n",
    "# Import Test and Measure Balance\n",
    "\n",
    "df_test_f = pd.read_csv(\"/kaggle/input/nort-bert-datasets/df_test_full_cleaned_pe.csv\", encoding='utf_8_sig', low_memory=False)\n",
    "\n",
    "# Import Validation and Measure Balance\n",
    "# Import Flattened Data\n",
    "df_valid_f = pd.read_csv(\"/kaggle/input/nort-bert-datasets/df_valid_full_cleaned_pe.csv\", encoding='utf_8_sig', low_memory=False)"
   ]
  },
  {
   "cell_type": "code",
   "execution_count": 6,
   "metadata": {
    "execution": {
     "iopub.execute_input": "2021-05-18T11:42:49.792149Z",
     "iopub.status.busy": "2021-05-18T11:42:49.791118Z",
     "iopub.status.idle": "2021-05-18T11:42:49.833036Z",
     "shell.execute_reply": "2021-05-18T11:42:49.833532Z"
    },
    "papermill": {
     "duration": 0.179576,
     "end_time": "2021-05-18T11:42:49.833694",
     "exception": false,
     "start_time": "2021-05-18T11:42:49.654118",
     "status": "completed"
    },
    "tags": []
   },
   "outputs": [
    {
     "data": {
      "text/html": [
       "<div>\n",
       "<style scoped>\n",
       "    .dataframe tbody tr th:only-of-type {\n",
       "        vertical-align: middle;\n",
       "    }\n",
       "\n",
       "    .dataframe tbody tr th {\n",
       "        vertical-align: top;\n",
       "    }\n",
       "\n",
       "    .dataframe thead th {\n",
       "        text-align: right;\n",
       "    }\n",
       "</style>\n",
       "<table border=\"1\" class=\"dataframe\">\n",
       "  <thead>\n",
       "    <tr style=\"text-align: right;\">\n",
       "      <th></th>\n",
       "      <th>id</th>\n",
       "      <th>created_at</th>\n",
       "      <th>text</th>\n",
       "      <th>retweet_count</th>\n",
       "      <th>favorite_count</th>\n",
       "      <th>quoted_status_id</th>\n",
       "      <th>user.id</th>\n",
       "      <th>user.created_at</th>\n",
       "      <th>user.description</th>\n",
       "      <th>user.favourites_count</th>\n",
       "      <th>...</th>\n",
       "      <th>user.geo_enabled_False</th>\n",
       "      <th>user.geo_enabled_True</th>\n",
       "      <th>user.verified_False</th>\n",
       "      <th>user.has_extended_profile_False</th>\n",
       "      <th>user.has_extended_profile_True</th>\n",
       "      <th>user.protected_False</th>\n",
       "      <th>user.verified_False.1</th>\n",
       "      <th>user.default_profile_True</th>\n",
       "      <th>is_quote_status_False</th>\n",
       "      <th>is_quote_status_True</th>\n",
       "    </tr>\n",
       "  </thead>\n",
       "  <tbody>\n",
       "    <tr>\n",
       "      <th>0</th>\n",
       "      <td>'1.2781248368924918e+18'</td>\n",
       "      <td>1.593564e+09</td>\n",
       "      <td>今天第一次上推特，看看世界</td>\n",
       "      <td>0.0</td>\n",
       "      <td>1.0</td>\n",
       "      <td>0</td>\n",
       "      <td>1.278122e+18</td>\n",
       "      <td>1.593563e+09</td>\n",
       "      <td>关心政治</td>\n",
       "      <td>0.0</td>\n",
       "      <td>...</td>\n",
       "      <td>1</td>\n",
       "      <td>0</td>\n",
       "      <td>1</td>\n",
       "      <td>0</td>\n",
       "      <td>1</td>\n",
       "      <td>1</td>\n",
       "      <td>1</td>\n",
       "      <td>1</td>\n",
       "      <td>1</td>\n",
       "      <td>0</td>\n",
       "    </tr>\n",
       "    <tr>\n",
       "      <th>1</th>\n",
       "      <td>'1.2797572269916938e+18'</td>\n",
       "      <td>1.593953e+09</td>\n",
       "      <td>@ttingxiao 胡说八道</td>\n",
       "      <td>0.0</td>\n",
       "      <td>0.0</td>\n",
       "      <td>0</td>\n",
       "      <td>1.278122e+18</td>\n",
       "      <td>1.593563e+09</td>\n",
       "      <td>关心政治</td>\n",
       "      <td>0.0</td>\n",
       "      <td>...</td>\n",
       "      <td>1</td>\n",
       "      <td>0</td>\n",
       "      <td>1</td>\n",
       "      <td>0</td>\n",
       "      <td>1</td>\n",
       "      <td>1</td>\n",
       "      <td>1</td>\n",
       "      <td>1</td>\n",
       "      <td>1</td>\n",
       "      <td>0</td>\n",
       "    </tr>\n",
       "    <tr>\n",
       "      <th>2</th>\n",
       "      <td>'1.2818699475099935e+18'</td>\n",
       "      <td>1.594457e+09</td>\n",
       "      <td>@VijayShankarKu1 @zlj517 Are you describing In...</td>\n",
       "      <td>0.0</td>\n",
       "      <td>0.0</td>\n",
       "      <td>0</td>\n",
       "      <td>1.278129e+18</td>\n",
       "      <td>1.593565e+09</td>\n",
       "      <td>中华人民共和国战略忽悠局北美司情资一处国家二级忽悠师</td>\n",
       "      <td>41.0</td>\n",
       "      <td>...</td>\n",
       "      <td>1</td>\n",
       "      <td>0</td>\n",
       "      <td>1</td>\n",
       "      <td>0</td>\n",
       "      <td>1</td>\n",
       "      <td>1</td>\n",
       "      <td>1</td>\n",
       "      <td>1</td>\n",
       "      <td>1</td>\n",
       "      <td>0</td>\n",
       "    </tr>\n",
       "    <tr>\n",
       "      <th>3</th>\n",
       "      <td>'1.2803084709364818e+18'</td>\n",
       "      <td>1.594084e+09</td>\n",
       "      <td>@auighur @realDonaldTrump just like Trump,with...</td>\n",
       "      <td>0.0</td>\n",
       "      <td>0.0</td>\n",
       "      <td>0</td>\n",
       "      <td>1.278129e+18</td>\n",
       "      <td>1.593565e+09</td>\n",
       "      <td>中华人民共和国战略忽悠局北美司情资一处国家二级忽悠师</td>\n",
       "      <td>41.0</td>\n",
       "      <td>...</td>\n",
       "      <td>1</td>\n",
       "      <td>0</td>\n",
       "      <td>1</td>\n",
       "      <td>0</td>\n",
       "      <td>1</td>\n",
       "      <td>1</td>\n",
       "      <td>1</td>\n",
       "      <td>1</td>\n",
       "      <td>1</td>\n",
       "      <td>0</td>\n",
       "    </tr>\n",
       "    <tr>\n",
       "      <th>4</th>\n",
       "      <td>'1.2818669493543813e+18'</td>\n",
       "      <td>1.594456e+09</td>\n",
       "      <td>@USA_China_Talk 不依法治国，难道还以推治国？美国鼓吹的宪法精神又到哪了？</td>\n",
       "      <td>0.0</td>\n",
       "      <td>0.0</td>\n",
       "      <td>0</td>\n",
       "      <td>1.278129e+18</td>\n",
       "      <td>1.593565e+09</td>\n",
       "      <td>中华人民共和国战略忽悠局北美司情资一处国家二级忽悠师</td>\n",
       "      <td>41.0</td>\n",
       "      <td>...</td>\n",
       "      <td>1</td>\n",
       "      <td>0</td>\n",
       "      <td>1</td>\n",
       "      <td>0</td>\n",
       "      <td>1</td>\n",
       "      <td>1</td>\n",
       "      <td>1</td>\n",
       "      <td>1</td>\n",
       "      <td>1</td>\n",
       "      <td>0</td>\n",
       "    </tr>\n",
       "    <tr>\n",
       "      <th>5</th>\n",
       "      <td>'1.2811047401018737e+18'</td>\n",
       "      <td>1.594274e+09</td>\n",
       "      <td>@grass9fish @SUMANsaurabh07 +1</td>\n",
       "      <td>0.0</td>\n",
       "      <td>0.0</td>\n",
       "      <td>0</td>\n",
       "      <td>1.278129e+18</td>\n",
       "      <td>1.593565e+09</td>\n",
       "      <td>中华人民共和国战略忽悠局北美司情资一处国家二级忽悠师</td>\n",
       "      <td>41.0</td>\n",
       "      <td>...</td>\n",
       "      <td>1</td>\n",
       "      <td>0</td>\n",
       "      <td>1</td>\n",
       "      <td>0</td>\n",
       "      <td>1</td>\n",
       "      <td>1</td>\n",
       "      <td>1</td>\n",
       "      <td>1</td>\n",
       "      <td>1</td>\n",
       "      <td>0</td>\n",
       "    </tr>\n",
       "  </tbody>\n",
       "</table>\n",
       "<p>6 rows × 160 columns</p>\n",
       "</div>"
      ],
      "text/plain": [
       "                         id    created_at  \\\n",
       "0  '1.2781248368924918e+18'  1.593564e+09   \n",
       "1  '1.2797572269916938e+18'  1.593953e+09   \n",
       "2  '1.2818699475099935e+18'  1.594457e+09   \n",
       "3  '1.2803084709364818e+18'  1.594084e+09   \n",
       "4  '1.2818669493543813e+18'  1.594456e+09   \n",
       "5  '1.2811047401018737e+18'  1.594274e+09   \n",
       "\n",
       "                                                text  retweet_count  \\\n",
       "0                                      今天第一次上推特，看看世界            0.0   \n",
       "1                                    @ttingxiao 胡说八道            0.0   \n",
       "2  @VijayShankarKu1 @zlj517 Are you describing In...            0.0   \n",
       "3  @auighur @realDonaldTrump just like Trump,with...            0.0   \n",
       "4       @USA_China_Talk 不依法治国，难道还以推治国？美国鼓吹的宪法精神又到哪了？            0.0   \n",
       "5                     @grass9fish @SUMANsaurabh07 +1            0.0   \n",
       "\n",
       "   favorite_count  quoted_status_id       user.id  user.created_at  \\\n",
       "0             1.0                 0  1.278122e+18     1.593563e+09   \n",
       "1             0.0                 0  1.278122e+18     1.593563e+09   \n",
       "2             0.0                 0  1.278129e+18     1.593565e+09   \n",
       "3             0.0                 0  1.278129e+18     1.593565e+09   \n",
       "4             0.0                 0  1.278129e+18     1.593565e+09   \n",
       "5             0.0                 0  1.278129e+18     1.593565e+09   \n",
       "\n",
       "             user.description  user.favourites_count  ...  \\\n",
       "0                        关心政治                    0.0  ...   \n",
       "1                        关心政治                    0.0  ...   \n",
       "2  中华人民共和国战略忽悠局北美司情资一处国家二级忽悠师                   41.0  ...   \n",
       "3  中华人民共和国战略忽悠局北美司情资一处国家二级忽悠师                   41.0  ...   \n",
       "4  中华人民共和国战略忽悠局北美司情资一处国家二级忽悠师                   41.0  ...   \n",
       "5  中华人民共和国战略忽悠局北美司情资一处国家二级忽悠师                   41.0  ...   \n",
       "\n",
       "   user.geo_enabled_False  user.geo_enabled_True  user.verified_False  \\\n",
       "0                       1                      0                    1   \n",
       "1                       1                      0                    1   \n",
       "2                       1                      0                    1   \n",
       "3                       1                      0                    1   \n",
       "4                       1                      0                    1   \n",
       "5                       1                      0                    1   \n",
       "\n",
       "  user.has_extended_profile_False user.has_extended_profile_True  \\\n",
       "0                               0                              1   \n",
       "1                               0                              1   \n",
       "2                               0                              1   \n",
       "3                               0                              1   \n",
       "4                               0                              1   \n",
       "5                               0                              1   \n",
       "\n",
       "  user.protected_False  user.verified_False.1  user.default_profile_True  \\\n",
       "0                    1                      1                          1   \n",
       "1                    1                      1                          1   \n",
       "2                    1                      1                          1   \n",
       "3                    1                      1                          1   \n",
       "4                    1                      1                          1   \n",
       "5                    1                      1                          1   \n",
       "\n",
       "   is_quote_status_False  is_quote_status_True  \n",
       "0                      1                     0  \n",
       "1                      1                     0  \n",
       "2                      1                     0  \n",
       "3                      1                     0  \n",
       "4                      1                     0  \n",
       "5                      1                     0  \n",
       "\n",
       "[6 rows x 160 columns]"
      ]
     },
     "execution_count": 6,
     "metadata": {},
     "output_type": "execute_result"
    }
   ],
   "source": [
    "df_train_f.head(6)"
   ]
  },
  {
   "cell_type": "code",
   "execution_count": 7,
   "metadata": {
    "execution": {
     "iopub.execute_input": "2021-05-18T11:42:49.988860Z",
     "iopub.status.busy": "2021-05-18T11:42:49.987928Z",
     "iopub.status.idle": "2021-05-18T11:42:50.115532Z",
     "shell.execute_reply": "2021-05-18T11:42:50.114990Z"
    },
    "papermill": {
     "duration": 0.207888,
     "end_time": "2021-05-18T11:42:50.115635",
     "exception": false,
     "start_time": "2021-05-18T11:42:49.907747",
     "status": "completed"
    },
    "tags": []
   },
   "outputs": [],
   "source": [
    "df_train_f['id'] = df_train_f['id'].apply(lambda x: x.replace(\"'\", ''))\n",
    "df_train_f['id'] = df_train_f['id'].astype('float')\n",
    "df_valid_f['id'] = df_valid_f['id'].apply(lambda x: x.replace(\"'\", ''))\n",
    "df_valid_f['id'] = df_valid_f['id'].astype('float')\n",
    "df_test_f['id'] = df_test_f['id'].apply(lambda x: x.replace(\"'\", ''))\n",
    "df_test_f['id'] = df_test_f['id'].astype('float')"
   ]
  },
  {
   "cell_type": "code",
   "execution_count": 8,
   "metadata": {
    "execution": {
     "iopub.execute_input": "2021-05-18T11:42:50.267202Z",
     "iopub.status.busy": "2021-05-18T11:42:50.266380Z",
     "iopub.status.idle": "2021-05-18T11:42:50.280344Z",
     "shell.execute_reply": "2021-05-18T11:42:50.281051Z"
    },
    "papermill": {
     "duration": 0.09274,
     "end_time": "2021-05-18T11:42:50.281232",
     "exception": false,
     "start_time": "2021-05-18T11:42:50.188492",
     "status": "completed"
    },
    "tags": []
   },
   "outputs": [
    {
     "name": "stdout",
     "output_type": "stream",
     "text": [
      "full train: 81286 unique ids train: 81286 full valid: 27835 unique ids valid: 27835 full test: 20518 unique ids test: 20518\n"
     ]
    }
   ],
   "source": [
    "print(\"full train:\", len(df_train_f), \"unique ids train:\", len(df_train_f['id'].unique()), \n",
    "      \"full valid:\", len(df_valid_f), \"unique ids valid:\", len(df_valid_f['id'].unique()), \n",
    "      \"full test:\", len(df_test_f), \"unique ids test:\", len(df_test_f['id'].unique()))\n",
    "\n",
    "#print(\"Train:\", len(sentences_train), \"Valid:\", len(sentences_valid), \"Test\", len(sentences_test))"
   ]
  },
  {
   "cell_type": "code",
   "execution_count": 9,
   "metadata": {
    "execution": {
     "iopub.execute_input": "2021-05-18T11:42:50.440553Z",
     "iopub.status.busy": "2021-05-18T11:42:50.438633Z",
     "iopub.status.idle": "2021-05-18T11:42:50.509598Z",
     "shell.execute_reply": "2021-05-18T11:42:50.510110Z"
    },
    "papermill": {
     "duration": 0.152984,
     "end_time": "2021-05-18T11:42:50.510260",
     "exception": false,
     "start_time": "2021-05-18T11:42:50.357276",
     "status": "completed"
    },
    "tags": []
   },
   "outputs": [],
   "source": [
    "df_train = df_train_f.drop(['user.description', \"user.location\", \"user.name\", \"user.screen_name\", \"split\"], axis=1)\n",
    "df_valid = df_valid_f.drop(['user.description', \"user.location\", \"user.name\", \"user.screen_name\", \"split\"], axis=1)\n",
    "df_test = df_test_f.drop(['user.description', \"user.location\", \"user.name\", \"user.screen_name\", \"split\"], axis=1)"
   ]
  },
  {
   "cell_type": "code",
   "execution_count": 10,
   "metadata": {
    "execution": {
     "iopub.execute_input": "2021-05-18T11:42:50.659372Z",
     "iopub.status.busy": "2021-05-18T11:42:50.658755Z",
     "iopub.status.idle": "2021-05-18T11:42:50.663390Z",
     "shell.execute_reply": "2021-05-18T11:42:50.662669Z"
    },
    "papermill": {
     "duration": 0.081346,
     "end_time": "2021-05-18T11:42:50.663501",
     "exception": false,
     "start_time": "2021-05-18T11:42:50.582155",
     "status": "completed"
    },
    "tags": []
   },
   "outputs": [],
   "source": [
    "# FOR TESING OUT CODE PURPOSE ONLY. REMOVE ONCE ALL IS WORKING. \n",
    "#df_train = df_train[:2000]\n",
    "#df_valid = df_valid[:2000]\n",
    "#df_test = df_test[:2000]"
   ]
  },
  {
   "cell_type": "code",
   "execution_count": 11,
   "metadata": {
    "execution": {
     "iopub.execute_input": "2021-05-18T11:42:50.834986Z",
     "iopub.status.busy": "2021-05-18T11:42:50.834072Z",
     "iopub.status.idle": "2021-05-18T11:42:50.838295Z",
     "shell.execute_reply": "2021-05-18T11:42:50.838765Z"
    },
    "papermill": {
     "duration": 0.103118,
     "end_time": "2021-05-18T11:42:50.838891",
     "exception": false,
     "start_time": "2021-05-18T11:42:50.735773",
     "status": "completed"
    },
    "tags": []
   },
   "outputs": [
    {
     "data": {
      "text/html": [
       "<div>\n",
       "<style scoped>\n",
       "    .dataframe tbody tr th:only-of-type {\n",
       "        vertical-align: middle;\n",
       "    }\n",
       "\n",
       "    .dataframe tbody tr th {\n",
       "        vertical-align: top;\n",
       "    }\n",
       "\n",
       "    .dataframe thead th {\n",
       "        text-align: right;\n",
       "    }\n",
       "</style>\n",
       "<table border=\"1\" class=\"dataframe\">\n",
       "  <thead>\n",
       "    <tr style=\"text-align: right;\">\n",
       "      <th></th>\n",
       "      <th>id</th>\n",
       "      <th>created_at</th>\n",
       "      <th>text</th>\n",
       "      <th>retweet_count</th>\n",
       "      <th>favorite_count</th>\n",
       "      <th>quoted_status_id</th>\n",
       "      <th>user.id</th>\n",
       "      <th>user.created_at</th>\n",
       "      <th>user.favourites_count</th>\n",
       "      <th>user.followers_count</th>\n",
       "      <th>...</th>\n",
       "      <th>user.geo_enabled_False</th>\n",
       "      <th>user.geo_enabled_True</th>\n",
       "      <th>user.verified_False</th>\n",
       "      <th>user.has_extended_profile_False</th>\n",
       "      <th>user.has_extended_profile_True</th>\n",
       "      <th>user.protected_False</th>\n",
       "      <th>user.verified_False.1</th>\n",
       "      <th>user.default_profile_True</th>\n",
       "      <th>is_quote_status_False</th>\n",
       "      <th>is_quote_status_True</th>\n",
       "    </tr>\n",
       "  </thead>\n",
       "  <tbody>\n",
       "    <tr>\n",
       "      <th>0</th>\n",
       "      <td>1.278125e+18</td>\n",
       "      <td>1.593564e+09</td>\n",
       "      <td>今天第一次上推特，看看世界</td>\n",
       "      <td>0.0</td>\n",
       "      <td>1.0</td>\n",
       "      <td>0</td>\n",
       "      <td>1.278122e+18</td>\n",
       "      <td>1.593563e+09</td>\n",
       "      <td>0.0</td>\n",
       "      <td>6.0</td>\n",
       "      <td>...</td>\n",
       "      <td>1</td>\n",
       "      <td>0</td>\n",
       "      <td>1</td>\n",
       "      <td>0</td>\n",
       "      <td>1</td>\n",
       "      <td>1</td>\n",
       "      <td>1</td>\n",
       "      <td>1</td>\n",
       "      <td>1</td>\n",
       "      <td>0</td>\n",
       "    </tr>\n",
       "    <tr>\n",
       "      <th>1</th>\n",
       "      <td>1.279757e+18</td>\n",
       "      <td>1.593953e+09</td>\n",
       "      <td>@ttingxiao 胡说八道</td>\n",
       "      <td>0.0</td>\n",
       "      <td>0.0</td>\n",
       "      <td>0</td>\n",
       "      <td>1.278122e+18</td>\n",
       "      <td>1.593563e+09</td>\n",
       "      <td>0.0</td>\n",
       "      <td>2.0</td>\n",
       "      <td>...</td>\n",
       "      <td>1</td>\n",
       "      <td>0</td>\n",
       "      <td>1</td>\n",
       "      <td>0</td>\n",
       "      <td>1</td>\n",
       "      <td>1</td>\n",
       "      <td>1</td>\n",
       "      <td>1</td>\n",
       "      <td>1</td>\n",
       "      <td>0</td>\n",
       "    </tr>\n",
       "    <tr>\n",
       "      <th>2</th>\n",
       "      <td>1.281870e+18</td>\n",
       "      <td>1.594457e+09</td>\n",
       "      <td>@VijayShankarKu1 @zlj517 Are you describing In...</td>\n",
       "      <td>0.0</td>\n",
       "      <td>0.0</td>\n",
       "      <td>0</td>\n",
       "      <td>1.278129e+18</td>\n",
       "      <td>1.593565e+09</td>\n",
       "      <td>41.0</td>\n",
       "      <td>1.0</td>\n",
       "      <td>...</td>\n",
       "      <td>1</td>\n",
       "      <td>0</td>\n",
       "      <td>1</td>\n",
       "      <td>0</td>\n",
       "      <td>1</td>\n",
       "      <td>1</td>\n",
       "      <td>1</td>\n",
       "      <td>1</td>\n",
       "      <td>1</td>\n",
       "      <td>0</td>\n",
       "    </tr>\n",
       "    <tr>\n",
       "      <th>3</th>\n",
       "      <td>1.280308e+18</td>\n",
       "      <td>1.594084e+09</td>\n",
       "      <td>@auighur @realDonaldTrump just like Trump,with...</td>\n",
       "      <td>0.0</td>\n",
       "      <td>0.0</td>\n",
       "      <td>0</td>\n",
       "      <td>1.278129e+18</td>\n",
       "      <td>1.593565e+09</td>\n",
       "      <td>41.0</td>\n",
       "      <td>1.0</td>\n",
       "      <td>...</td>\n",
       "      <td>1</td>\n",
       "      <td>0</td>\n",
       "      <td>1</td>\n",
       "      <td>0</td>\n",
       "      <td>1</td>\n",
       "      <td>1</td>\n",
       "      <td>1</td>\n",
       "      <td>1</td>\n",
       "      <td>1</td>\n",
       "      <td>0</td>\n",
       "    </tr>\n",
       "    <tr>\n",
       "      <th>4</th>\n",
       "      <td>1.281867e+18</td>\n",
       "      <td>1.594456e+09</td>\n",
       "      <td>@USA_China_Talk 不依法治国，难道还以推治国？美国鼓吹的宪法精神又到哪了？</td>\n",
       "      <td>0.0</td>\n",
       "      <td>0.0</td>\n",
       "      <td>0</td>\n",
       "      <td>1.278129e+18</td>\n",
       "      <td>1.593565e+09</td>\n",
       "      <td>41.0</td>\n",
       "      <td>1.0</td>\n",
       "      <td>...</td>\n",
       "      <td>1</td>\n",
       "      <td>0</td>\n",
       "      <td>1</td>\n",
       "      <td>0</td>\n",
       "      <td>1</td>\n",
       "      <td>1</td>\n",
       "      <td>1</td>\n",
       "      <td>1</td>\n",
       "      <td>1</td>\n",
       "      <td>0</td>\n",
       "    </tr>\n",
       "  </tbody>\n",
       "</table>\n",
       "<p>5 rows × 155 columns</p>\n",
       "</div>"
      ],
      "text/plain": [
       "             id    created_at  \\\n",
       "0  1.278125e+18  1.593564e+09   \n",
       "1  1.279757e+18  1.593953e+09   \n",
       "2  1.281870e+18  1.594457e+09   \n",
       "3  1.280308e+18  1.594084e+09   \n",
       "4  1.281867e+18  1.594456e+09   \n",
       "\n",
       "                                                text  retweet_count  \\\n",
       "0                                      今天第一次上推特，看看世界            0.0   \n",
       "1                                    @ttingxiao 胡说八道            0.0   \n",
       "2  @VijayShankarKu1 @zlj517 Are you describing In...            0.0   \n",
       "3  @auighur @realDonaldTrump just like Trump,with...            0.0   \n",
       "4       @USA_China_Talk 不依法治国，难道还以推治国？美国鼓吹的宪法精神又到哪了？            0.0   \n",
       "\n",
       "   favorite_count  quoted_status_id       user.id  user.created_at  \\\n",
       "0             1.0                 0  1.278122e+18     1.593563e+09   \n",
       "1             0.0                 0  1.278122e+18     1.593563e+09   \n",
       "2             0.0                 0  1.278129e+18     1.593565e+09   \n",
       "3             0.0                 0  1.278129e+18     1.593565e+09   \n",
       "4             0.0                 0  1.278129e+18     1.593565e+09   \n",
       "\n",
       "   user.favourites_count  user.followers_count  ...  user.geo_enabled_False  \\\n",
       "0                    0.0                   6.0  ...                       1   \n",
       "1                    0.0                   2.0  ...                       1   \n",
       "2                   41.0                   1.0  ...                       1   \n",
       "3                   41.0                   1.0  ...                       1   \n",
       "4                   41.0                   1.0  ...                       1   \n",
       "\n",
       "   user.geo_enabled_True  user.verified_False  \\\n",
       "0                      0                    1   \n",
       "1                      0                    1   \n",
       "2                      0                    1   \n",
       "3                      0                    1   \n",
       "4                      0                    1   \n",
       "\n",
       "   user.has_extended_profile_False  user.has_extended_profile_True  \\\n",
       "0                                0                               1   \n",
       "1                                0                               1   \n",
       "2                                0                               1   \n",
       "3                                0                               1   \n",
       "4                                0                               1   \n",
       "\n",
       "   user.protected_False  user.verified_False.1  user.default_profile_True  \\\n",
       "0                     1                      1                          1   \n",
       "1                     1                      1                          1   \n",
       "2                     1                      1                          1   \n",
       "3                     1                      1                          1   \n",
       "4                     1                      1                          1   \n",
       "\n",
       "   is_quote_status_False  is_quote_status_True  \n",
       "0                      1                     0  \n",
       "1                      1                     0  \n",
       "2                      1                     0  \n",
       "3                      1                     0  \n",
       "4                      1                     0  \n",
       "\n",
       "[5 rows x 155 columns]"
      ]
     },
     "execution_count": 11,
     "metadata": {},
     "output_type": "execute_result"
    }
   ],
   "source": [
    "df_train.head()"
   ]
  },
  {
   "cell_type": "markdown",
   "metadata": {
    "papermill": {
     "duration": 0.074293,
     "end_time": "2021-05-18T11:42:50.984499",
     "exception": false,
     "start_time": "2021-05-18T11:42:50.910206",
     "status": "completed"
    },
    "tags": []
   },
   "source": [
    "Concatanate all texts to get one doc j per each user i"
   ]
  },
  {
   "cell_type": "code",
   "execution_count": 12,
   "metadata": {
    "execution": {
     "iopub.execute_input": "2021-05-18T11:42:51.137410Z",
     "iopub.status.busy": "2021-05-18T11:42:51.136338Z",
     "iopub.status.idle": "2021-05-18T11:42:51.294869Z",
     "shell.execute_reply": "2021-05-18T11:42:51.295556Z"
    },
    "papermill": {
     "duration": 0.23777,
     "end_time": "2021-05-18T11:42:51.295728",
     "exception": false,
     "start_time": "2021-05-18T11:42:51.057958",
     "status": "completed"
    },
    "tags": []
   },
   "outputs": [
    {
     "data": {
      "text/html": [
       "<div>\n",
       "<style scoped>\n",
       "    .dataframe tbody tr th:only-of-type {\n",
       "        vertical-align: middle;\n",
       "    }\n",
       "\n",
       "    .dataframe tbody tr th {\n",
       "        vertical-align: top;\n",
       "    }\n",
       "\n",
       "    .dataframe thead th {\n",
       "        text-align: right;\n",
       "    }\n",
       "</style>\n",
       "<table border=\"1\" class=\"dataframe\">\n",
       "  <thead>\n",
       "    <tr style=\"text-align: right;\">\n",
       "      <th></th>\n",
       "      <th>user.id</th>\n",
       "      <th>suspended</th>\n",
       "      <th>text</th>\n",
       "    </tr>\n",
       "  </thead>\n",
       "  <tbody>\n",
       "    <tr>\n",
       "      <th>0</th>\n",
       "      <td>1.278122e+18</td>\n",
       "      <td>0</td>\n",
       "      <td>今天第一次上推特，看看世界 @ttingxiao 胡说八道</td>\n",
       "    </tr>\n",
       "    <tr>\n",
       "      <th>1</th>\n",
       "      <td>1.278129e+18</td>\n",
       "      <td>0</td>\n",
       "      <td>@VijayShankarKu1 @zlj517 Are you describing In...</td>\n",
       "    </tr>\n",
       "    <tr>\n",
       "      <th>2</th>\n",
       "      <td>1.278132e+18</td>\n",
       "      <td>0</td>\n",
       "      <td>https://t.co/x6PEeWW48S #3qex https://t.co/eez...</td>\n",
       "    </tr>\n",
       "    <tr>\n",
       "      <th>3</th>\n",
       "      <td>1.278138e+18</td>\n",
       "      <td>0</td>\n",
       "      <td>@getput @zhanglifan 为什么西方所谓的双标的平等，自由就是对的？这就是典型...</td>\n",
       "    </tr>\n",
       "    <tr>\n",
       "      <th>4</th>\n",
       "      <td>1.278150e+18</td>\n",
       "      <td>1</td>\n",
       "      <td>WaxPar DC18RC 互換充電器 対応 マキタ 14.4V 18V リチウムイオンバッ...</td>\n",
       "    </tr>\n",
       "  </tbody>\n",
       "</table>\n",
       "</div>"
      ],
      "text/plain": [
       "        user.id  suspended                                               text\n",
       "0  1.278122e+18          0                      今天第一次上推特，看看世界 @ttingxiao 胡说八道\n",
       "1  1.278129e+18          0  @VijayShankarKu1 @zlj517 Are you describing In...\n",
       "2  1.278132e+18          0  https://t.co/x6PEeWW48S #3qex https://t.co/eez...\n",
       "3  1.278138e+18          0  @getput @zhanglifan 为什么西方所谓的双标的平等，自由就是对的？这就是典型...\n",
       "4  1.278150e+18          1  WaxPar DC18RC 互換充電器 対応 マキタ 14.4V 18V リチウムイオンバッ..."
      ]
     },
     "execution_count": 12,
     "metadata": {},
     "output_type": "execute_result"
    }
   ],
   "source": [
    "df_train = df_train.groupby(['user.id', 'suspended'])['text'].apply(lambda x: ' '.join(x)).reset_index()\n",
    "df_train.head()"
   ]
  },
  {
   "cell_type": "code",
   "execution_count": 13,
   "metadata": {
    "execution": {
     "iopub.execute_input": "2021-05-18T11:42:51.453727Z",
     "iopub.status.busy": "2021-05-18T11:42:51.452727Z",
     "iopub.status.idle": "2021-05-18T11:42:51.516089Z",
     "shell.execute_reply": "2021-05-18T11:42:51.516538Z"
    },
    "papermill": {
     "duration": 0.146885,
     "end_time": "2021-05-18T11:42:51.516689",
     "exception": false,
     "start_time": "2021-05-18T11:42:51.369804",
     "status": "completed"
    },
    "tags": []
   },
   "outputs": [
    {
     "data": {
      "text/html": [
       "<div>\n",
       "<style scoped>\n",
       "    .dataframe tbody tr th:only-of-type {\n",
       "        vertical-align: middle;\n",
       "    }\n",
       "\n",
       "    .dataframe tbody tr th {\n",
       "        vertical-align: top;\n",
       "    }\n",
       "\n",
       "    .dataframe thead th {\n",
       "        text-align: right;\n",
       "    }\n",
       "</style>\n",
       "<table border=\"1\" class=\"dataframe\">\n",
       "  <thead>\n",
       "    <tr style=\"text-align: right;\">\n",
       "      <th></th>\n",
       "      <th>user.id</th>\n",
       "      <th>suspended</th>\n",
       "      <th>text</th>\n",
       "    </tr>\n",
       "  </thead>\n",
       "  <tbody>\n",
       "    <tr>\n",
       "      <th>0</th>\n",
       "      <td>1.278120e+18</td>\n",
       "      <td>1</td>\n",
       "      <td>@RFS_China 窝扪终锅震的是胎🍐害🌶 @SunZiyang2002 @kairun_...</td>\n",
       "    </tr>\n",
       "    <tr>\n",
       "      <th>1</th>\n",
       "      <td>1.278131e+18</td>\n",
       "      <td>0</td>\n",
       "      <td>@mian050715 @91porm 🤓</td>\n",
       "    </tr>\n",
       "    <tr>\n",
       "      <th>2</th>\n",
       "      <td>1.278136e+18</td>\n",
       "      <td>0</td>\n",
       "      <td>https://t.co/2tSmlYkG4v</td>\n",
       "    </tr>\n",
       "    <tr>\n",
       "      <th>3</th>\n",
       "      <td>1.278143e+18</td>\n",
       "      <td>0</td>\n",
       "      <td>@Kana_Momonogi I can't wait to Japan to have a...</td>\n",
       "    </tr>\n",
       "    <tr>\n",
       "      <th>4</th>\n",
       "      <td>1.278154e+18</td>\n",
       "      <td>0</td>\n",
       "      <td>@SpokespersonCHN 華姐辛苦了！明天國慶🇨🇳放假好好休息吧 @HuXijin_...</td>\n",
       "    </tr>\n",
       "  </tbody>\n",
       "</table>\n",
       "</div>"
      ],
      "text/plain": [
       "        user.id  suspended                                               text\n",
       "0  1.278120e+18          1  @RFS_China 窝扪终锅震的是胎🍐害🌶 @SunZiyang2002 @kairun_...\n",
       "1  1.278131e+18          0                              @mian050715 @91porm 🤓\n",
       "2  1.278136e+18          0                            https://t.co/2tSmlYkG4v\n",
       "3  1.278143e+18          0  @Kana_Momonogi I can't wait to Japan to have a...\n",
       "4  1.278154e+18          0  @SpokespersonCHN 華姐辛苦了！明天國慶🇨🇳放假好好休息吧 @HuXijin_..."
      ]
     },
     "execution_count": 13,
     "metadata": {},
     "output_type": "execute_result"
    }
   ],
   "source": [
    "df_valid = df_valid.groupby(['user.id', 'suspended'])['text'].apply(lambda x: ' '.join(x)).reset_index()\n",
    "df_valid.head()"
   ]
  },
  {
   "cell_type": "code",
   "execution_count": 14,
   "metadata": {
    "execution": {
     "iopub.execute_input": "2021-05-18T11:42:51.670274Z",
     "iopub.status.busy": "2021-05-18T11:42:51.669385Z",
     "iopub.status.idle": "2021-05-18T11:42:51.726035Z",
     "shell.execute_reply": "2021-05-18T11:42:51.725442Z"
    },
    "papermill": {
     "duration": 0.135848,
     "end_time": "2021-05-18T11:42:51.726145",
     "exception": false,
     "start_time": "2021-05-18T11:42:51.590297",
     "status": "completed"
    },
    "tags": []
   },
   "outputs": [
    {
     "data": {
      "text/html": [
       "<div>\n",
       "<style scoped>\n",
       "    .dataframe tbody tr th:only-of-type {\n",
       "        vertical-align: middle;\n",
       "    }\n",
       "\n",
       "    .dataframe tbody tr th {\n",
       "        vertical-align: top;\n",
       "    }\n",
       "\n",
       "    .dataframe thead th {\n",
       "        text-align: right;\n",
       "    }\n",
       "</style>\n",
       "<table border=\"1\" class=\"dataframe\">\n",
       "  <thead>\n",
       "    <tr style=\"text-align: right;\">\n",
       "      <th></th>\n",
       "      <th>user.id</th>\n",
       "      <th>suspended</th>\n",
       "      <th>text</th>\n",
       "    </tr>\n",
       "  </thead>\n",
       "  <tbody>\n",
       "    <tr>\n",
       "      <th>0</th>\n",
       "      <td>1.278130e+18</td>\n",
       "      <td>0</td>\n",
       "      <td>@ImranKhanPTI me mazor adme ho</td>\n",
       "    </tr>\n",
       "    <tr>\n",
       "      <th>1</th>\n",
       "      <td>1.278145e+18</td>\n",
       "      <td>1</td>\n",
       "      <td>join amazon</td>\n",
       "    </tr>\n",
       "    <tr>\n",
       "      <th>2</th>\n",
       "      <td>1.278155e+18</td>\n",
       "      <td>0</td>\n",
       "      <td>@joshuawongcf jail is well prepared for you @c...</td>\n",
       "    </tr>\n",
       "    <tr>\n",
       "      <th>3</th>\n",
       "      <td>1.278156e+18</td>\n",
       "      <td>0</td>\n",
       "      <td>#SindhIsNotColonyIK Our message is clear that ...</td>\n",
       "    </tr>\n",
       "    <tr>\n",
       "      <th>4</th>\n",
       "      <td>1.278181e+18</td>\n",
       "      <td>0</td>\n",
       "      <td>Sentences have power.</td>\n",
       "    </tr>\n",
       "  </tbody>\n",
       "</table>\n",
       "</div>"
      ],
      "text/plain": [
       "        user.id  suspended                                               text\n",
       "0  1.278130e+18          0                     @ImranKhanPTI me mazor adme ho\n",
       "1  1.278145e+18          1                                        join amazon\n",
       "2  1.278155e+18          0  @joshuawongcf jail is well prepared for you @c...\n",
       "3  1.278156e+18          0  #SindhIsNotColonyIK Our message is clear that ...\n",
       "4  1.278181e+18          0                              Sentences have power."
      ]
     },
     "execution_count": 14,
     "metadata": {},
     "output_type": "execute_result"
    }
   ],
   "source": [
    "df_test = df_test.groupby(['user.id', 'suspended'])['text'].apply(lambda x: ' '.join(x)).reset_index()\n",
    "df_test.head()"
   ]
  },
  {
   "cell_type": "markdown",
   "metadata": {
    "papermill": {
     "duration": 0.077443,
     "end_time": "2021-05-18T11:42:51.878317",
     "exception": false,
     "start_time": "2021-05-18T11:42:51.800874",
     "status": "completed"
    },
    "tags": []
   },
   "source": [
    "### Split out text"
   ]
  },
  {
   "cell_type": "code",
   "execution_count": 15,
   "metadata": {
    "execution": {
     "iopub.execute_input": "2021-05-18T11:42:52.036210Z",
     "iopub.status.busy": "2021-05-18T11:42:52.035279Z",
     "iopub.status.idle": "2021-05-18T11:42:52.038176Z",
     "shell.execute_reply": "2021-05-18T11:42:52.038599Z"
    },
    "papermill": {
     "duration": 0.086778,
     "end_time": "2021-05-18T11:42:52.038757",
     "exception": false,
     "start_time": "2021-05-18T11:42:51.951979",
     "status": "completed"
    },
    "tags": []
   },
   "outputs": [],
   "source": [
    "def get_split(text1):\n",
    "    l_total = []\n",
    "    l_parcial = []\n",
    "    if len(text1.split())//150 >0:\n",
    "        n = len(text1.split())//150\n",
    "    else: \n",
    "        n = 1\n",
    "    for w in range(n):\n",
    "        if w == 0:\n",
    "            l_parcial = text1.split()[:200]\n",
    "            l_total.append(\" \".join(l_parcial))\n",
    "        else:\n",
    "            l_parcial = text1.split()[w*150:w*150 + 200]\n",
    "            l_total.append(\" \".join(l_parcial))\n",
    "    return l_total"
   ]
  },
  {
   "cell_type": "code",
   "execution_count": 16,
   "metadata": {
    "execution": {
     "iopub.execute_input": "2021-05-18T11:42:52.250003Z",
     "iopub.status.busy": "2021-05-18T11:42:52.233924Z",
     "iopub.status.idle": "2021-05-18T11:42:54.303716Z",
     "shell.execute_reply": "2021-05-18T11:42:54.304199Z"
    },
    "papermill": {
     "duration": 2.190305,
     "end_time": "2021-05-18T11:42:54.304331",
     "exception": false,
     "start_time": "2021-05-18T11:42:52.114026",
     "status": "completed"
    },
    "tags": []
   },
   "outputs": [
    {
     "data": {
      "text/html": [
       "<div>\n",
       "<style scoped>\n",
       "    .dataframe tbody tr th:only-of-type {\n",
       "        vertical-align: middle;\n",
       "    }\n",
       "\n",
       "    .dataframe tbody tr th {\n",
       "        vertical-align: top;\n",
       "    }\n",
       "\n",
       "    .dataframe thead th {\n",
       "        text-align: right;\n",
       "    }\n",
       "</style>\n",
       "<table border=\"1\" class=\"dataframe\">\n",
       "  <thead>\n",
       "    <tr style=\"text-align: right;\">\n",
       "      <th></th>\n",
       "      <th>user.id</th>\n",
       "      <th>suspended</th>\n",
       "      <th>text</th>\n",
       "      <th>text_split</th>\n",
       "    </tr>\n",
       "  </thead>\n",
       "  <tbody>\n",
       "    <tr>\n",
       "      <th>0</th>\n",
       "      <td>1.278122e+18</td>\n",
       "      <td>0</td>\n",
       "      <td>今天第一次上推特，看看世界 @ttingxiao 胡说八道</td>\n",
       "      <td>[今天第一次上推特，看看世界 @ttingxiao 胡说八道]</td>\n",
       "    </tr>\n",
       "    <tr>\n",
       "      <th>1</th>\n",
       "      <td>1.278129e+18</td>\n",
       "      <td>0</td>\n",
       "      <td>@VijayShankarKu1 @zlj517 Are you describing In...</td>\n",
       "      <td>[@VijayShankarKu1 @zlj517 Are you describing I...</td>\n",
       "    </tr>\n",
       "    <tr>\n",
       "      <th>2</th>\n",
       "      <td>1.278132e+18</td>\n",
       "      <td>0</td>\n",
       "      <td>https://t.co/x6PEeWW48S #3qex https://t.co/eez...</td>\n",
       "      <td>[https://t.co/x6PEeWW48S #3qex https://t.co/ee...</td>\n",
       "    </tr>\n",
       "    <tr>\n",
       "      <th>3</th>\n",
       "      <td>1.278138e+18</td>\n",
       "      <td>0</td>\n",
       "      <td>@getput @zhanglifan 为什么西方所谓的双标的平等，自由就是对的？这就是典型...</td>\n",
       "      <td>[@getput @zhanglifan 为什么西方所谓的双标的平等，自由就是对的？这就是典...</td>\n",
       "    </tr>\n",
       "    <tr>\n",
       "      <th>4</th>\n",
       "      <td>1.278150e+18</td>\n",
       "      <td>1</td>\n",
       "      <td>WaxPar DC18RC 互換充電器 対応 マキタ 14.4V 18V リチウムイオンバッ...</td>\n",
       "      <td>[WaxPar DC18RC 互換充電器 対応 マキタ 14.4V 18V リチウムイオンバ...</td>\n",
       "    </tr>\n",
       "  </tbody>\n",
       "</table>\n",
       "</div>"
      ],
      "text/plain": [
       "        user.id  suspended                                               text  \\\n",
       "0  1.278122e+18          0                      今天第一次上推特，看看世界 @ttingxiao 胡说八道   \n",
       "1  1.278129e+18          0  @VijayShankarKu1 @zlj517 Are you describing In...   \n",
       "2  1.278132e+18          0  https://t.co/x6PEeWW48S #3qex https://t.co/eez...   \n",
       "3  1.278138e+18          0  @getput @zhanglifan 为什么西方所谓的双标的平等，自由就是对的？这就是典型...   \n",
       "4  1.278150e+18          1  WaxPar DC18RC 互換充電器 対応 マキタ 14.4V 18V リチウムイオンバッ...   \n",
       "\n",
       "                                          text_split  \n",
       "0                    [今天第一次上推特，看看世界 @ttingxiao 胡说八道]  \n",
       "1  [@VijayShankarKu1 @zlj517 Are you describing I...  \n",
       "2  [https://t.co/x6PEeWW48S #3qex https://t.co/ee...  \n",
       "3  [@getput @zhanglifan 为什么西方所谓的双标的平等，自由就是对的？这就是典...  \n",
       "4  [WaxPar DC18RC 互換充電器 対応 マキタ 14.4V 18V リチウムイオンバ...  "
      ]
     },
     "execution_count": 16,
     "metadata": {},
     "output_type": "execute_result"
    }
   ],
   "source": [
    "df_train['text_split'] = df_train['text'].apply(get_split)\n",
    "df_train.head()"
   ]
  },
  {
   "cell_type": "code",
   "execution_count": 17,
   "metadata": {
    "execution": {
     "iopub.execute_input": "2021-05-18T11:42:54.459367Z",
     "iopub.status.busy": "2021-05-18T11:42:54.458494Z",
     "iopub.status.idle": "2021-05-18T11:42:54.461972Z",
     "shell.execute_reply": "2021-05-18T11:42:54.462451Z"
    },
    "papermill": {
     "duration": 0.084427,
     "end_time": "2021-05-18T11:42:54.462586",
     "exception": false,
     "start_time": "2021-05-18T11:42:54.378159",
     "status": "completed"
    },
    "tags": []
   },
   "outputs": [
    {
     "data": {
      "text/plain": [
       "1516"
      ]
     },
     "execution_count": 17,
     "metadata": {},
     "output_type": "execute_result"
    }
   ],
   "source": [
    "len(df_train)"
   ]
  },
  {
   "cell_type": "code",
   "execution_count": 18,
   "metadata": {
    "execution": {
     "iopub.execute_input": "2021-05-18T11:42:54.665666Z",
     "iopub.status.busy": "2021-05-18T11:42:54.660470Z",
     "iopub.status.idle": "2021-05-18T11:42:54.817772Z",
     "shell.execute_reply": "2021-05-18T11:42:54.818296Z"
    },
    "papermill": {
     "duration": 0.279483,
     "end_time": "2021-05-18T11:42:54.818431",
     "exception": false,
     "start_time": "2021-05-18T11:42:54.538948",
     "status": "completed"
    },
    "tags": []
   },
   "outputs": [
    {
     "data": {
      "text/plain": [
       "(4771, 4771, 4771, 4771)"
      ]
     },
     "execution_count": 18,
     "metadata": {},
     "output_type": "execute_result"
    }
   ],
   "source": [
    "train_l = []\n",
    "label_l = []\n",
    "index_l =[]\n",
    "userid_l = []\n",
    "for idx,row in df_train.iterrows():\n",
    "    for l in row['text_split']:\n",
    "        train_l.append(l)\n",
    "        label_l.append(row['suspended'])\n",
    "        index_l.append(idx)\n",
    "        userid_l.append(row['user.id'])\n",
    "len(train_l), len(label_l), len(index_l), len(userid_l)"
   ]
  },
  {
   "cell_type": "code",
   "execution_count": 19,
   "metadata": {
    "execution": {
     "iopub.execute_input": "2021-05-18T11:42:54.991562Z",
     "iopub.status.busy": "2021-05-18T11:42:54.990689Z",
     "iopub.status.idle": "2021-05-18T11:42:54.994242Z",
     "shell.execute_reply": "2021-05-18T11:42:54.994782Z"
    },
    "papermill": {
     "duration": 0.099385,
     "end_time": "2021-05-18T11:42:54.994924",
     "exception": false,
     "start_time": "2021-05-18T11:42:54.895539",
     "status": "completed"
    },
    "tags": []
   },
   "outputs": [
    {
     "data": {
      "text/html": [
       "<div>\n",
       "<style scoped>\n",
       "    .dataframe tbody tr th:only-of-type {\n",
       "        vertical-align: middle;\n",
       "    }\n",
       "\n",
       "    .dataframe tbody tr th {\n",
       "        vertical-align: top;\n",
       "    }\n",
       "\n",
       "    .dataframe thead th {\n",
       "        text-align: right;\n",
       "    }\n",
       "</style>\n",
       "<table border=\"1\" class=\"dataframe\">\n",
       "  <thead>\n",
       "    <tr style=\"text-align: right;\">\n",
       "      <th></th>\n",
       "      <th>user.id</th>\n",
       "      <th>text</th>\n",
       "      <th>suspended</th>\n",
       "    </tr>\n",
       "  </thead>\n",
       "  <tbody>\n",
       "    <tr>\n",
       "      <th>0</th>\n",
       "      <td>1.278122e+18</td>\n",
       "      <td>今天第一次上推特，看看世界 @ttingxiao 胡说八道</td>\n",
       "      <td>0</td>\n",
       "    </tr>\n",
       "    <tr>\n",
       "      <th>1</th>\n",
       "      <td>1.278129e+18</td>\n",
       "      <td>@VijayShankarKu1 @zlj517 Are you describing In...</td>\n",
       "      <td>0</td>\n",
       "    </tr>\n",
       "    <tr>\n",
       "      <th>2</th>\n",
       "      <td>1.278132e+18</td>\n",
       "      <td>https://t.co/x6PEeWW48S #3qex https://t.co/eez...</td>\n",
       "      <td>0</td>\n",
       "    </tr>\n",
       "    <tr>\n",
       "      <th>3</th>\n",
       "      <td>1.278132e+18</td>\n",
       "      <td>the founding 5 for getting this out to the wor...</td>\n",
       "      <td>0</td>\n",
       "    </tr>\n",
       "    <tr>\n",
       "      <th>4</th>\n",
       "      <td>1.278138e+18</td>\n",
       "      <td>@getput @zhanglifan 为什么西方所谓的双标的平等，自由就是对的？这就是典型...</td>\n",
       "      <td>0</td>\n",
       "    </tr>\n",
       "  </tbody>\n",
       "</table>\n",
       "</div>"
      ],
      "text/plain": [
       "        user.id                                               text  suspended\n",
       "0  1.278122e+18                      今天第一次上推特，看看世界 @ttingxiao 胡说八道          0\n",
       "1  1.278129e+18  @VijayShankarKu1 @zlj517 Are you describing In...          0\n",
       "2  1.278132e+18  https://t.co/x6PEeWW48S #3qex https://t.co/eez...          0\n",
       "3  1.278132e+18  the founding 5 for getting this out to the wor...          0\n",
       "4  1.278138e+18  @getput @zhanglifan 为什么西方所谓的双标的平等，自由就是对的？这就是典型...          0"
      ]
     },
     "execution_count": 19,
     "metadata": {},
     "output_type": "execute_result"
    }
   ],
   "source": [
    "df_train = pd.DataFrame({'user.id':userid_l, 'text':train_l, 'suspended':label_l})\n",
    "df_train.head()"
   ]
  },
  {
   "cell_type": "code",
   "execution_count": 20,
   "metadata": {
    "execution": {
     "iopub.execute_input": "2021-05-18T11:42:55.175266Z",
     "iopub.status.busy": "2021-05-18T11:42:55.174576Z",
     "iopub.status.idle": "2021-05-18T11:42:55.745517Z",
     "shell.execute_reply": "2021-05-18T11:42:55.744609Z"
    },
    "papermill": {
     "duration": 0.671232,
     "end_time": "2021-05-18T11:42:55.745660",
     "exception": false,
     "start_time": "2021-05-18T11:42:55.074428",
     "status": "completed"
    },
    "tags": []
   },
   "outputs": [],
   "source": [
    "df_train_2 = df_train.copy()\n",
    "df_train_2['user.id'] = df_train_2['user.id'].astype('str')\n",
    "df_train_2['user.id'] = df_train_2['user.id'].apply(lambda x: \"'\" + x + \"'\")\n",
    "df_train_2['user.id'] = df_train_2['user.id'].astype('str')\n",
    "df_train_2['user.id'] = df_train_2['user.id'].apply(lambda x: \"'\" + x + \"'\")\n",
    "\n",
    "df_train_2.to_csv('df_train_2_overlap.csv', index=False, encoding = \"utf_8_sig\")"
   ]
  },
  {
   "cell_type": "code",
   "execution_count": 21,
   "metadata": {
    "execution": {
     "iopub.execute_input": "2021-05-18T11:42:55.950516Z",
     "iopub.status.busy": "2021-05-18T11:42:55.928239Z",
     "iopub.status.idle": "2021-05-18T11:42:56.992189Z",
     "shell.execute_reply": "2021-05-18T11:42:56.992604Z"
    },
    "papermill": {
     "duration": 1.170824,
     "end_time": "2021-05-18T11:42:56.992765",
     "exception": false,
     "start_time": "2021-05-18T11:42:55.821941",
     "status": "completed"
    },
    "tags": []
   },
   "outputs": [
    {
     "data": {
      "text/html": [
       "<div>\n",
       "<style scoped>\n",
       "    .dataframe tbody tr th:only-of-type {\n",
       "        vertical-align: middle;\n",
       "    }\n",
       "\n",
       "    .dataframe tbody tr th {\n",
       "        vertical-align: top;\n",
       "    }\n",
       "\n",
       "    .dataframe thead th {\n",
       "        text-align: right;\n",
       "    }\n",
       "</style>\n",
       "<table border=\"1\" class=\"dataframe\">\n",
       "  <thead>\n",
       "    <tr style=\"text-align: right;\">\n",
       "      <th></th>\n",
       "      <th>user.id</th>\n",
       "      <th>suspended</th>\n",
       "      <th>text</th>\n",
       "      <th>text_split</th>\n",
       "    </tr>\n",
       "  </thead>\n",
       "  <tbody>\n",
       "    <tr>\n",
       "      <th>0</th>\n",
       "      <td>1.278120e+18</td>\n",
       "      <td>1</td>\n",
       "      <td>@RFS_China 窝扪终锅震的是胎🍐害🌶 @SunZiyang2002 @kairun_...</td>\n",
       "      <td>[@RFS_China 窝扪终锅震的是胎🍐害🌶 @SunZiyang2002 @kairun...</td>\n",
       "    </tr>\n",
       "    <tr>\n",
       "      <th>1</th>\n",
       "      <td>1.278131e+18</td>\n",
       "      <td>0</td>\n",
       "      <td>@mian050715 @91porm 🤓</td>\n",
       "      <td>[@mian050715 @91porm 🤓]</td>\n",
       "    </tr>\n",
       "    <tr>\n",
       "      <th>2</th>\n",
       "      <td>1.278136e+18</td>\n",
       "      <td>0</td>\n",
       "      <td>https://t.co/2tSmlYkG4v</td>\n",
       "      <td>[https://t.co/2tSmlYkG4v]</td>\n",
       "    </tr>\n",
       "    <tr>\n",
       "      <th>3</th>\n",
       "      <td>1.278143e+18</td>\n",
       "      <td>0</td>\n",
       "      <td>@Kana_Momonogi I can't wait to Japan to have a...</td>\n",
       "      <td>[@Kana_Momonogi I can't wait to Japan to have ...</td>\n",
       "    </tr>\n",
       "    <tr>\n",
       "      <th>4</th>\n",
       "      <td>1.278154e+18</td>\n",
       "      <td>0</td>\n",
       "      <td>@SpokespersonCHN 華姐辛苦了！明天國慶🇨🇳放假好好休息吧 @HuXijin_...</td>\n",
       "      <td>[@SpokespersonCHN 華姐辛苦了！明天國慶🇨🇳放假好好休息吧 @HuXijin...</td>\n",
       "    </tr>\n",
       "  </tbody>\n",
       "</table>\n",
       "</div>"
      ],
      "text/plain": [
       "        user.id  suspended                                               text  \\\n",
       "0  1.278120e+18          1  @RFS_China 窝扪终锅震的是胎🍐害🌶 @SunZiyang2002 @kairun_...   \n",
       "1  1.278131e+18          0                              @mian050715 @91porm 🤓   \n",
       "2  1.278136e+18          0                            https://t.co/2tSmlYkG4v   \n",
       "3  1.278143e+18          0  @Kana_Momonogi I can't wait to Japan to have a...   \n",
       "4  1.278154e+18          0  @SpokespersonCHN 華姐辛苦了！明天國慶🇨🇳放假好好休息吧 @HuXijin_...   \n",
       "\n",
       "                                          text_split  \n",
       "0  [@RFS_China 窝扪终锅震的是胎🍐害🌶 @SunZiyang2002 @kairun...  \n",
       "1                            [@mian050715 @91porm 🤓]  \n",
       "2                          [https://t.co/2tSmlYkG4v]  \n",
       "3  [@Kana_Momonogi I can't wait to Japan to have ...  \n",
       "4  [@SpokespersonCHN 華姐辛苦了！明天國慶🇨🇳放假好好休息吧 @HuXijin...  "
      ]
     },
     "execution_count": 21,
     "metadata": {},
     "output_type": "execute_result"
    }
   ],
   "source": [
    "df_valid['text_split'] = df_valid['text'].apply(get_split)\n",
    "df_valid.head()"
   ]
  },
  {
   "cell_type": "code",
   "execution_count": 22,
   "metadata": {
    "execution": {
     "iopub.execute_input": "2021-05-18T11:42:57.188105Z",
     "iopub.status.busy": "2021-05-18T11:42:57.172491Z",
     "iopub.status.idle": "2021-05-18T11:42:57.233906Z",
     "shell.execute_reply": "2021-05-18T11:42:57.234359Z"
    },
    "papermill": {
     "duration": 0.164156,
     "end_time": "2021-05-18T11:42:57.234488",
     "exception": false,
     "start_time": "2021-05-18T11:42:57.070332",
     "status": "completed"
    },
    "tags": []
   },
   "outputs": [
    {
     "data": {
      "text/plain": [
       "(1957, 1957, 1957, 1957)"
      ]
     },
     "execution_count": 22,
     "metadata": {},
     "output_type": "execute_result"
    }
   ],
   "source": [
    "val_l = []\n",
    "val_label_l = []\n",
    "val_index_l =[]\n",
    "val_userid_l = []\n",
    "for idx,row in df_valid.iterrows():\n",
    "    for l in row['text_split']:\n",
    "        val_l.append(l)\n",
    "        val_label_l.append(row['suspended'])\n",
    "        val_index_l.append(idx)\n",
    "        val_userid_l.append(row['user.id'])\n",
    "len(val_l), len(val_label_l), len(val_index_l),  len(val_userid_l)"
   ]
  },
  {
   "cell_type": "code",
   "execution_count": 23,
   "metadata": {
    "execution": {
     "iopub.execute_input": "2021-05-18T11:42:57.403336Z",
     "iopub.status.busy": "2021-05-18T11:42:57.402454Z",
     "iopub.status.idle": "2021-05-18T11:42:57.406104Z",
     "shell.execute_reply": "2021-05-18T11:42:57.406560Z"
    },
    "papermill": {
     "duration": 0.095538,
     "end_time": "2021-05-18T11:42:57.406702",
     "exception": false,
     "start_time": "2021-05-18T11:42:57.311164",
     "status": "completed"
    },
    "tags": []
   },
   "outputs": [
    {
     "data": {
      "text/html": [
       "<div>\n",
       "<style scoped>\n",
       "    .dataframe tbody tr th:only-of-type {\n",
       "        vertical-align: middle;\n",
       "    }\n",
       "\n",
       "    .dataframe tbody tr th {\n",
       "        vertical-align: top;\n",
       "    }\n",
       "\n",
       "    .dataframe thead th {\n",
       "        text-align: right;\n",
       "    }\n",
       "</style>\n",
       "<table border=\"1\" class=\"dataframe\">\n",
       "  <thead>\n",
       "    <tr style=\"text-align: right;\">\n",
       "      <th></th>\n",
       "      <th>user.id</th>\n",
       "      <th>text</th>\n",
       "      <th>suspended</th>\n",
       "    </tr>\n",
       "  </thead>\n",
       "  <tbody>\n",
       "    <tr>\n",
       "      <th>0</th>\n",
       "      <td>1.278120e+18</td>\n",
       "      <td>@RFS_China 窝扪终锅震的是胎🍐害🌶 @SunZiyang2002 @kairun_...</td>\n",
       "      <td>1</td>\n",
       "    </tr>\n",
       "    <tr>\n",
       "      <th>1</th>\n",
       "      <td>1.278120e+18</td>\n",
       "      <td>she has american citizenship @dw_chinese 你们之前不...</td>\n",
       "      <td>1</td>\n",
       "    </tr>\n",
       "    <tr>\n",
       "      <th>2</th>\n",
       "      <td>1.278120e+18</td>\n",
       "      <td>@ZhenTeMeBZDHanS 🍋🔒💧👉⑩什🐎❀呢？草履虫💧鞭毛蠕动🐎？ 曱由发野爹证一直...</td>\n",
       "      <td>1</td>\n",
       "    </tr>\n",
       "    <tr>\n",
       "      <th>3</th>\n",
       "      <td>1.278120e+18</td>\n",
       "      <td>@cortez_22_ @NXOnNetflix @CixinLiu For fuck's ...</td>\n",
       "      <td>1</td>\n",
       "    </tr>\n",
       "    <tr>\n",
       "      <th>4</th>\n",
       "      <td>1.278120e+18</td>\n",
       "      <td>@fenqudousha @Sovimath @ding_gang 你不会真的以为发这些颅内...</td>\n",
       "      <td>1</td>\n",
       "    </tr>\n",
       "  </tbody>\n",
       "</table>\n",
       "</div>"
      ],
      "text/plain": [
       "        user.id                                               text  suspended\n",
       "0  1.278120e+18  @RFS_China 窝扪终锅震的是胎🍐害🌶 @SunZiyang2002 @kairun_...          1\n",
       "1  1.278120e+18  she has american citizenship @dw_chinese 你们之前不...          1\n",
       "2  1.278120e+18  @ZhenTeMeBZDHanS 🍋🔒💧👉⑩什🐎❀呢？草履虫💧鞭毛蠕动🐎？ 曱由发野爹证一直...          1\n",
       "3  1.278120e+18  @cortez_22_ @NXOnNetflix @CixinLiu For fuck's ...          1\n",
       "4  1.278120e+18  @fenqudousha @Sovimath @ding_gang 你不会真的以为发这些颅内...          1"
      ]
     },
     "execution_count": 23,
     "metadata": {},
     "output_type": "execute_result"
    }
   ],
   "source": [
    "df_valid = pd.DataFrame({'user.id':val_userid_l, 'text':val_l, 'suspended':val_label_l})\n",
    "df_valid.head()"
   ]
  },
  {
   "cell_type": "code",
   "execution_count": 24,
   "metadata": {
    "execution": {
     "iopub.execute_input": "2021-05-18T11:42:57.588121Z",
     "iopub.status.busy": "2021-05-18T11:42:57.587072Z",
     "iopub.status.idle": "2021-05-18T11:42:57.726463Z",
     "shell.execute_reply": "2021-05-18T11:42:57.725903Z"
    },
    "papermill": {
     "duration": 0.239981,
     "end_time": "2021-05-18T11:42:57.726565",
     "exception": false,
     "start_time": "2021-05-18T11:42:57.486584",
     "status": "completed"
    },
    "tags": []
   },
   "outputs": [],
   "source": [
    "df_valid_2 = df_valid.copy()\n",
    "df_valid_2['user.id'] = df_valid_2['user.id'].astype('str')\n",
    "df_valid_2['user.id'] = df_valid_2['user.id'].apply(lambda x: \"'\" + x + \"'\")\n",
    "df_valid_2['user.id'] = df_valid_2['user.id'].astype('str')\n",
    "df_valid_2['user.id'] = df_valid_2['user.id'].apply(lambda x: \"'\" + x + \"'\")\n",
    "\n",
    "df_valid_2.to_csv('df_valid_2_overlap.csv', index=False, encoding = \"utf_8_sig\")"
   ]
  },
  {
   "cell_type": "code",
   "execution_count": 25,
   "metadata": {
    "execution": {
     "iopub.execute_input": "2021-05-18T11:42:57.915934Z",
     "iopub.status.busy": "2021-05-18T11:42:57.910788Z",
     "iopub.status.idle": "2021-05-18T11:42:58.239938Z",
     "shell.execute_reply": "2021-05-18T11:42:58.239027Z"
    },
    "papermill": {
     "duration": 0.434072,
     "end_time": "2021-05-18T11:42:58.240051",
     "exception": false,
     "start_time": "2021-05-18T11:42:57.805979",
     "status": "completed"
    },
    "tags": []
   },
   "outputs": [
    {
     "data": {
      "text/html": [
       "<div>\n",
       "<style scoped>\n",
       "    .dataframe tbody tr th:only-of-type {\n",
       "        vertical-align: middle;\n",
       "    }\n",
       "\n",
       "    .dataframe tbody tr th {\n",
       "        vertical-align: top;\n",
       "    }\n",
       "\n",
       "    .dataframe thead th {\n",
       "        text-align: right;\n",
       "    }\n",
       "</style>\n",
       "<table border=\"1\" class=\"dataframe\">\n",
       "  <thead>\n",
       "    <tr style=\"text-align: right;\">\n",
       "      <th></th>\n",
       "      <th>user.id</th>\n",
       "      <th>suspended</th>\n",
       "      <th>text</th>\n",
       "      <th>text_split</th>\n",
       "    </tr>\n",
       "  </thead>\n",
       "  <tbody>\n",
       "    <tr>\n",
       "      <th>0</th>\n",
       "      <td>1.278130e+18</td>\n",
       "      <td>0</td>\n",
       "      <td>@ImranKhanPTI me mazor adme ho</td>\n",
       "      <td>[@ImranKhanPTI me mazor adme ho]</td>\n",
       "    </tr>\n",
       "    <tr>\n",
       "      <th>1</th>\n",
       "      <td>1.278145e+18</td>\n",
       "      <td>1</td>\n",
       "      <td>join amazon</td>\n",
       "      <td>[join amazon]</td>\n",
       "    </tr>\n",
       "    <tr>\n",
       "      <th>2</th>\n",
       "      <td>1.278155e+18</td>\n",
       "      <td>0</td>\n",
       "      <td>@joshuawongcf jail is well prepared for you @c...</td>\n",
       "      <td>[@joshuawongcf jail is well prepared for you @...</td>\n",
       "    </tr>\n",
       "    <tr>\n",
       "      <th>3</th>\n",
       "      <td>1.278156e+18</td>\n",
       "      <td>0</td>\n",
       "      <td>#SindhIsNotColonyIK Our message is clear that ...</td>\n",
       "      <td>[#SindhIsNotColonyIK Our message is clear that...</td>\n",
       "    </tr>\n",
       "    <tr>\n",
       "      <th>4</th>\n",
       "      <td>1.278181e+18</td>\n",
       "      <td>0</td>\n",
       "      <td>Sentences have power.</td>\n",
       "      <td>[Sentences have power.]</td>\n",
       "    </tr>\n",
       "  </tbody>\n",
       "</table>\n",
       "</div>"
      ],
      "text/plain": [
       "        user.id  suspended                                               text  \\\n",
       "0  1.278130e+18          0                     @ImranKhanPTI me mazor adme ho   \n",
       "1  1.278145e+18          1                                        join amazon   \n",
       "2  1.278155e+18          0  @joshuawongcf jail is well prepared for you @c...   \n",
       "3  1.278156e+18          0  #SindhIsNotColonyIK Our message is clear that ...   \n",
       "4  1.278181e+18          0                              Sentences have power.   \n",
       "\n",
       "                                          text_split  \n",
       "0                   [@ImranKhanPTI me mazor adme ho]  \n",
       "1                                      [join amazon]  \n",
       "2  [@joshuawongcf jail is well prepared for you @...  \n",
       "3  [#SindhIsNotColonyIK Our message is clear that...  \n",
       "4                            [Sentences have power.]  "
      ]
     },
     "execution_count": 25,
     "metadata": {},
     "output_type": "execute_result"
    }
   ],
   "source": [
    "df_test['text_split'] = df_test['text'].apply(get_split)\n",
    "df_test.head()"
   ]
  },
  {
   "cell_type": "code",
   "execution_count": 26,
   "metadata": {
    "execution": {
     "iopub.execute_input": "2021-05-18T11:42:58.453277Z",
     "iopub.status.busy": "2021-05-18T11:42:58.437728Z",
     "iopub.status.idle": "2021-05-18T11:42:58.477708Z",
     "shell.execute_reply": "2021-05-18T11:42:58.478266Z"
    },
    "papermill": {
     "duration": 0.158272,
     "end_time": "2021-05-18T11:42:58.478438",
     "exception": false,
     "start_time": "2021-05-18T11:42:58.320166",
     "status": "completed"
    },
    "tags": []
   },
   "outputs": [
    {
     "data": {
      "text/plain": [
       "(1306, 1306, 1306, 1306)"
      ]
     },
     "execution_count": 26,
     "metadata": {},
     "output_type": "execute_result"
    }
   ],
   "source": [
    "test_l = []\n",
    "test_label_l = []\n",
    "test_index_l =[]\n",
    "test_userid_l = []\n",
    "for idx,row in df_test.iterrows():\n",
    "    for l in row['text_split']:\n",
    "        test_l.append(l)\n",
    "        test_label_l.append(row['suspended'])\n",
    "        test_index_l.append(idx)\n",
    "        test_userid_l.append(row['user.id'])\n",
    "len(test_l), len(test_label_l), len(test_index_l), len(test_userid_l) "
   ]
  },
  {
   "cell_type": "code",
   "execution_count": 27,
   "metadata": {
    "execution": {
     "iopub.execute_input": "2021-05-18T11:42:58.690817Z",
     "iopub.status.busy": "2021-05-18T11:42:58.689074Z",
     "iopub.status.idle": "2021-05-18T11:42:58.722506Z",
     "shell.execute_reply": "2021-05-18T11:42:58.723363Z"
    },
    "papermill": {
     "duration": 0.15979,
     "end_time": "2021-05-18T11:42:58.723612",
     "exception": false,
     "start_time": "2021-05-18T11:42:58.563822",
     "status": "completed"
    },
    "tags": []
   },
   "outputs": [
    {
     "data": {
      "text/html": [
       "<div>\n",
       "<style scoped>\n",
       "    .dataframe tbody tr th:only-of-type {\n",
       "        vertical-align: middle;\n",
       "    }\n",
       "\n",
       "    .dataframe tbody tr th {\n",
       "        vertical-align: top;\n",
       "    }\n",
       "\n",
       "    .dataframe thead th {\n",
       "        text-align: right;\n",
       "    }\n",
       "</style>\n",
       "<table border=\"1\" class=\"dataframe\">\n",
       "  <thead>\n",
       "    <tr style=\"text-align: right;\">\n",
       "      <th></th>\n",
       "      <th>user.id</th>\n",
       "      <th>text</th>\n",
       "      <th>suspended</th>\n",
       "    </tr>\n",
       "  </thead>\n",
       "  <tbody>\n",
       "    <tr>\n",
       "      <th>0</th>\n",
       "      <td>1.278130e+18</td>\n",
       "      <td>@ImranKhanPTI me mazor adme ho</td>\n",
       "      <td>0</td>\n",
       "    </tr>\n",
       "    <tr>\n",
       "      <th>1</th>\n",
       "      <td>1.278145e+18</td>\n",
       "      <td>join amazon</td>\n",
       "      <td>1</td>\n",
       "    </tr>\n",
       "    <tr>\n",
       "      <th>2</th>\n",
       "      <td>1.278155e+18</td>\n",
       "      <td>@joshuawongcf jail is well prepared for you @c...</td>\n",
       "      <td>0</td>\n",
       "    </tr>\n",
       "    <tr>\n",
       "      <th>3</th>\n",
       "      <td>1.278156e+18</td>\n",
       "      <td>#SindhIsNotColonyIK Our message is clear that ...</td>\n",
       "      <td>0</td>\n",
       "    </tr>\n",
       "    <tr>\n",
       "      <th>4</th>\n",
       "      <td>1.278181e+18</td>\n",
       "      <td>Sentences have power.</td>\n",
       "      <td>0</td>\n",
       "    </tr>\n",
       "  </tbody>\n",
       "</table>\n",
       "</div>"
      ],
      "text/plain": [
       "        user.id                                               text  suspended\n",
       "0  1.278130e+18                     @ImranKhanPTI me mazor adme ho          0\n",
       "1  1.278145e+18                                        join amazon          1\n",
       "2  1.278155e+18  @joshuawongcf jail is well prepared for you @c...          0\n",
       "3  1.278156e+18  #SindhIsNotColonyIK Our message is clear that ...          0\n",
       "4  1.278181e+18                              Sentences have power.          0"
      ]
     },
     "execution_count": 27,
     "metadata": {},
     "output_type": "execute_result"
    }
   ],
   "source": [
    "df_test = pd.DataFrame({'user.id':test_userid_l,'text':test_l, 'suspended':test_label_l})\n",
    "df_test.head()"
   ]
  },
  {
   "cell_type": "code",
   "execution_count": 28,
   "metadata": {
    "execution": {
     "iopub.execute_input": "2021-05-18T11:42:59.048793Z",
     "iopub.status.busy": "2021-05-18T11:42:59.045545Z",
     "iopub.status.idle": "2021-05-18T11:42:59.177989Z",
     "shell.execute_reply": "2021-05-18T11:42:59.178718Z"
    },
    "papermill": {
     "duration": 0.298855,
     "end_time": "2021-05-18T11:42:59.178918",
     "exception": false,
     "start_time": "2021-05-18T11:42:58.880063",
     "status": "completed"
    },
    "tags": []
   },
   "outputs": [],
   "source": [
    "df_test_2 = df_test.copy()\n",
    "df_test_2['user.id'] = df_test_2['user.id'].astype('str')\n",
    "df_test_2['user.id'] = df_test_2['user.id'].apply(lambda x: \"'\" + x + \"'\")\n",
    "df_test_2['user.id'] = df_test_2['user.id'].astype('str')\n",
    "df_test_2['user.id'] = df_test_2['user.id'].apply(lambda x: \"'\" + x + \"'\")\n",
    "\n",
    "df_test_2.to_csv('df_test_2_overlap.csv', index=False, encoding = \"utf_8_sig\")"
   ]
  },
  {
   "cell_type": "markdown",
   "metadata": {
    "papermill": {
     "duration": 0.080769,
     "end_time": "2021-05-18T11:42:59.354044",
     "exception": false,
     "start_time": "2021-05-18T11:42:59.273275",
     "status": "completed"
    },
    "tags": []
   },
   "source": [
    "As you can see in this way we ended with a column (text_split) which every row has a list of string of around 200 word length.\n"
   ]
  },
  {
   "cell_type": "code",
   "execution_count": 29,
   "metadata": {
    "execution": {
     "iopub.execute_input": "2021-05-18T11:42:59.527991Z",
     "iopub.status.busy": "2021-05-18T11:42:59.527317Z",
     "iopub.status.idle": "2021-05-18T11:43:03.861177Z",
     "shell.execute_reply": "2021-05-18T11:43:03.860280Z"
    },
    "papermill": {
     "duration": 4.424425,
     "end_time": "2021-05-18T11:43:03.861303",
     "exception": false,
     "start_time": "2021-05-18T11:42:59.436878",
     "status": "completed"
    },
    "tags": []
   },
   "outputs": [],
   "source": [
    "import numpy as np\n",
    "import pandas as pd\n",
    "import torch\n",
    "import transformers as ppb # pytorch transformers\n",
    "from sklearn.linear_model import LogisticRegression\n",
    "from sklearn.model_selection import cross_val_score\n",
    "from sklearn.model_selection import train_test_split\n",
    "from numba import cuda \n",
    "import gc\n",
    "\n",
    "from sklearn.metrics import roc_auc_score\n",
    "from sklearn.metrics import roc_curve"
   ]
  },
  {
   "cell_type": "markdown",
   "metadata": {
    "papermill": {
     "duration": 0.080277,
     "end_time": "2021-05-18T11:43:04.025153",
     "exception": false,
     "start_time": "2021-05-18T11:43:03.944876",
     "status": "completed"
    },
    "tags": []
   },
   "source": [
    "### Load in Model and Tokenizer"
   ]
  },
  {
   "cell_type": "code",
   "execution_count": 30,
   "metadata": {
    "execution": {
     "iopub.execute_input": "2021-05-18T11:43:04.195888Z",
     "iopub.status.busy": "2021-05-18T11:43:04.194812Z",
     "iopub.status.idle": "2021-05-18T11:43:04.865465Z",
     "shell.execute_reply": "2021-05-18T11:43:04.864199Z"
    },
    "papermill": {
     "duration": 0.757239,
     "end_time": "2021-05-18T11:43:04.865625",
     "exception": false,
     "start_time": "2021-05-18T11:43:04.108386",
     "status": "completed"
    },
    "tags": []
   },
   "outputs": [
    {
     "data": {
      "application/vnd.jupyter.widget-view+json": {
       "model_id": "5609489c0b3541b8907f20f22c4f25c7",
       "version_major": 2,
       "version_minor": 0
      },
      "text/plain": [
       "HBox(children=(FloatProgress(value=0.0, description='Downloading', max=995526.0, style=ProgressStyle(descripti…"
      ]
     },
     "metadata": {},
     "output_type": "display_data"
    },
    {
     "name": "stdout",
     "output_type": "stream",
     "text": [
      "\n"
     ]
    }
   ],
   "source": [
    "model_class, tokenizer_class, pretrained_weights = (ppb.BertModel, ppb.BertTokenizer, 'bert-base-multilingual-cased')\n",
    "\n",
    "# Load pretrained model/tokenizer\n",
    "tokenizer = tokenizer_class.from_pretrained(pretrained_weights)\n",
    "#model = model_class.from_pretrained(pretrained_weights)"
   ]
  },
  {
   "cell_type": "code",
   "execution_count": 31,
   "metadata": {
    "execution": {
     "iopub.execute_input": "2021-05-18T11:43:05.240342Z",
     "iopub.status.busy": "2021-05-18T11:43:05.239455Z",
     "iopub.status.idle": "2021-05-18T11:43:05.243712Z",
     "shell.execute_reply": "2021-05-18T11:43:05.244267Z"
    },
    "papermill": {
     "duration": 0.295538,
     "end_time": "2021-05-18T11:43:05.244414",
     "exception": false,
     "start_time": "2021-05-18T11:43:04.948876",
     "status": "completed"
    },
    "tags": []
   },
   "outputs": [],
   "source": [
    "gc.collect()\n",
    "torch.cuda.empty_cache()"
   ]
  },
  {
   "cell_type": "code",
   "execution_count": 32,
   "metadata": {
    "execution": {
     "iopub.execute_input": "2021-05-18T11:43:05.419039Z",
     "iopub.status.busy": "2021-05-18T11:43:05.417950Z",
     "iopub.status.idle": "2021-05-18T11:43:05.420975Z",
     "shell.execute_reply": "2021-05-18T11:43:05.420456Z"
    },
    "papermill": {
     "duration": 0.092845,
     "end_time": "2021-05-18T11:43:05.421104",
     "exception": false,
     "start_time": "2021-05-18T11:43:05.328259",
     "status": "completed"
    },
    "tags": []
   },
   "outputs": [],
   "source": [
    "# Get the lists of sentences and their labels.\n",
    "sentences_train = df_train.text.values\n",
    "train_labels = df_train.suspended.values\n",
    "ids_train = df_train.index.values\n",
    "\n",
    "sentences_valid = df_valid.text.values\n",
    "validation_labels = df_valid.suspended.values\n",
    "ids_validation = df_valid.index.values\n",
    "\n",
    "sentences_test = df_test.text.values\n",
    "test_labels = df_test.suspended.values\n",
    "ids_test = df_test.index.values"
   ]
  },
  {
   "cell_type": "code",
   "execution_count": 33,
   "metadata": {
    "execution": {
     "iopub.execute_input": "2021-05-18T11:43:05.592221Z",
     "iopub.status.busy": "2021-05-18T11:43:05.591274Z",
     "iopub.status.idle": "2021-05-18T11:43:05.595918Z",
     "shell.execute_reply": "2021-05-18T11:43:05.595404Z"
    },
    "papermill": {
     "duration": 0.091516,
     "end_time": "2021-05-18T11:43:05.596034",
     "exception": false,
     "start_time": "2021-05-18T11:43:05.504518",
     "status": "completed"
    },
    "tags": []
   },
   "outputs": [
    {
     "name": "stdout",
     "output_type": "stream",
     "text": [
      "Train: 4771 Valid: 1957 Test 1306\n"
     ]
    }
   ],
   "source": [
    "print(\"Train:\", len(sentences_train), \"Valid:\", len(sentences_valid), \"Test\", len(sentences_test))"
   ]
  },
  {
   "cell_type": "markdown",
   "metadata": {
    "papermill": {
     "duration": 0.081606,
     "end_time": "2021-05-18T11:43:05.759411",
     "exception": false,
     "start_time": "2021-05-18T11:43:05.677805",
     "status": "completed"
    },
    "tags": []
   },
   "source": [
    "To feed our text to BERT, it must be split into tokens, and then these tokens must be mapped to their index in the tokenizer vocabulary.\n",
    "\n",
    "The tokenization must be performed by the tokenizer included with BERT–the below cell will download this for us."
   ]
  },
  {
   "cell_type": "code",
   "execution_count": 34,
   "metadata": {
    "execution": {
     "iopub.execute_input": "2021-05-18T11:43:05.929759Z",
     "iopub.status.busy": "2021-05-18T11:43:05.928780Z",
     "iopub.status.idle": "2021-05-18T11:43:06.260871Z",
     "shell.execute_reply": "2021-05-18T11:43:06.260313Z"
    },
    "papermill": {
     "duration": 0.420175,
     "end_time": "2021-05-18T11:43:06.260985",
     "exception": false,
     "start_time": "2021-05-18T11:43:05.840810",
     "status": "completed"
    },
    "tags": []
   },
   "outputs": [
    {
     "name": "stdout",
     "output_type": "stream",
     "text": [
      "Loading BERT tokenizer...\n"
     ]
    }
   ],
   "source": [
    "from transformers import BertTokenizer\n",
    "# Load the BERT tokenizer.\n",
    "print('Loading BERT tokenizer...')\n",
    "tokenizer = BertTokenizer.from_pretrained('bert-base-multilingual-cased', do_lower_case=True)"
   ]
  },
  {
   "cell_type": "markdown",
   "metadata": {
    "papermill": {
     "duration": 0.080165,
     "end_time": "2021-05-18T11:43:06.420493",
     "exception": false,
     "start_time": "2021-05-18T11:43:06.340328",
     "status": "completed"
    },
    "tags": []
   },
   "source": [
    "The tokenizer.encode function combines multiple steps for us:\n",
    "- Split the sentence into tokens.\n",
    "- Add the special [CLS] and [SEP] tokens.\n",
    "- Map the tokens to their IDs.\n",
    "\n",
    "Oddly, this function can perform truncating for us, but doesn’t handle padding."
   ]
  },
  {
   "cell_type": "markdown",
   "metadata": {
    "papermill": {
     "duration": 0.080473,
     "end_time": "2021-05-18T11:43:06.582415",
     "exception": false,
     "start_time": "2021-05-18T11:43:06.501942",
     "status": "completed"
    },
    "tags": []
   },
   "source": [
    "### Prep Data for Model"
   ]
  },
  {
   "cell_type": "code",
   "execution_count": 35,
   "metadata": {
    "execution": {
     "iopub.execute_input": "2021-05-18T11:43:06.749446Z",
     "iopub.status.busy": "2021-05-18T11:43:06.748474Z",
     "iopub.status.idle": "2021-05-18T11:43:06.751442Z",
     "shell.execute_reply": "2021-05-18T11:43:06.750944Z"
    },
    "papermill": {
     "duration": 0.090876,
     "end_time": "2021-05-18T11:43:06.751540",
     "exception": false,
     "start_time": "2021-05-18T11:43:06.660664",
     "status": "completed"
    },
    "tags": []
   },
   "outputs": [],
   "source": [
    "def sent_to_ids(sentences): \n",
    "    # Tokenize all of the sentences and map the tokens to thier word IDs.\n",
    "    input_ids = []\n",
    "    # For every sentence...\n",
    "    for sent in sentences:\n",
    "        # `encode` will:\n",
    "        #   (1) Tokenize the sentence.\n",
    "        #   (2) Prepend the `[CLS]` token to the start.\n",
    "        #   (3) Append the `[SEP]` token to the end.\n",
    "        #   (4) Map tokens to their IDs.\n",
    "        encoded_sent = tokenizer.encode(\n",
    "            sent,                      # Sentence to encode.\n",
    "            add_special_tokens = True, # Add '[CLS]' and '[SEP]'\n",
    "            # This function also supports truncation and conversion\n",
    "            # to pytorch tensors, but we need to do padding, so we\n",
    "            # can't use these features :( .\n",
    "            #max_length = 128,          # Truncate all sentences.\n",
    "            #return_tensors = 'pt',     # Return pytorch tensors.\n",
    "        )\n",
    "        # Add the encoded sentence to the list.\n",
    "        input_ids.append(encoded_sent)\n",
    "        # Pad and truncate our sequences so that they all have the same length\n",
    "    input_ids = pad_sequences(input_ids, maxlen=120, dtype=\"long\", \n",
    "                            value=0, truncating=\"post\", padding=\"post\")\n",
    "    return input_ids"
   ]
  },
  {
   "cell_type": "code",
   "execution_count": 36,
   "metadata": {
    "execution": {
     "iopub.execute_input": "2021-05-18T11:43:06.941224Z",
     "iopub.status.busy": "2021-05-18T11:43:06.940174Z",
     "iopub.status.idle": "2021-05-18T11:44:07.962593Z",
     "shell.execute_reply": "2021-05-18T11:44:07.961458Z"
    },
    "papermill": {
     "duration": 61.129679,
     "end_time": "2021-05-18T11:44:07.962732",
     "exception": false,
     "start_time": "2021-05-18T11:43:06.833053",
     "status": "completed"
    },
    "tags": []
   },
   "outputs": [
    {
     "name": "stderr",
     "output_type": "stream",
     "text": [
      "Token indices sequence length is longer than the specified maximum sequence length for this model (1201 > 512). Running this sequence through the model will result in indexing errors\n"
     ]
    }
   ],
   "source": [
    "train_inputs = sent_to_ids(sentences_train)"
   ]
  },
  {
   "cell_type": "code",
   "execution_count": 37,
   "metadata": {
    "execution": {
     "iopub.execute_input": "2021-05-18T11:44:08.169422Z",
     "iopub.status.busy": "2021-05-18T11:44:08.159145Z",
     "iopub.status.idle": "2021-05-18T11:44:29.714533Z",
     "shell.execute_reply": "2021-05-18T11:44:29.713324Z"
    },
    "papermill": {
     "duration": 21.66863,
     "end_time": "2021-05-18T11:44:29.714676",
     "exception": false,
     "start_time": "2021-05-18T11:44:08.046046",
     "status": "completed"
    },
    "tags": []
   },
   "outputs": [],
   "source": [
    "validation_inputs = sent_to_ids(sentences_valid)"
   ]
  },
  {
   "cell_type": "code",
   "execution_count": 38,
   "metadata": {
    "execution": {
     "iopub.execute_input": "2021-05-18T11:44:29.936570Z",
     "iopub.status.busy": "2021-05-18T11:44:29.931497Z",
     "iopub.status.idle": "2021-05-18T11:44:43.896983Z",
     "shell.execute_reply": "2021-05-18T11:44:43.897861Z"
    },
    "papermill": {
     "duration": 14.09425,
     "end_time": "2021-05-18T11:44:43.898033",
     "exception": false,
     "start_time": "2021-05-18T11:44:29.803783",
     "status": "completed"
    },
    "tags": []
   },
   "outputs": [],
   "source": [
    "test_inputs = sent_to_ids(sentences_test)"
   ]
  },
  {
   "cell_type": "code",
   "execution_count": 39,
   "metadata": {
    "execution": {
     "iopub.execute_input": "2021-05-18T11:44:44.072507Z",
     "iopub.status.busy": "2021-05-18T11:44:44.071526Z",
     "iopub.status.idle": "2021-05-18T11:44:44.076503Z",
     "shell.execute_reply": "2021-05-18T11:44:44.075783Z"
    },
    "papermill": {
     "duration": 0.093223,
     "end_time": "2021-05-18T11:44:44.076624",
     "exception": false,
     "start_time": "2021-05-18T11:44:43.983401",
     "status": "completed"
    },
    "tags": []
   },
   "outputs": [
    {
     "name": "stdout",
     "output_type": "stream",
     "text": [
      "Train: 4771 Valid: 1957 Test 1306\n"
     ]
    }
   ],
   "source": [
    "print(\"Train:\", len(train_inputs), \"Valid:\", len(validation_inputs), \"Test\", len(test_inputs))"
   ]
  },
  {
   "cell_type": "code",
   "execution_count": 40,
   "metadata": {
    "execution": {
     "iopub.execute_input": "2021-05-18T11:44:44.248062Z",
     "iopub.status.busy": "2021-05-18T11:44:44.247047Z",
     "iopub.status.idle": "2021-05-18T11:44:44.250228Z",
     "shell.execute_reply": "2021-05-18T11:44:44.249525Z"
    },
    "papermill": {
     "duration": 0.091565,
     "end_time": "2021-05-18T11:44:44.250342",
     "exception": false,
     "start_time": "2021-05-18T11:44:44.158777",
     "status": "completed"
    },
    "tags": []
   },
   "outputs": [],
   "source": [
    "def get_attn_msks(input_ids):\n",
    "  # Create attention masks\n",
    "    attention_masks = []\n",
    "  # For each sentence...\n",
    "    for sent in input_ids:\n",
    "        # Create the attention mask.\n",
    "        #   - If a token ID is 0, then it's padding, set the mask to 0.\n",
    "        #   - If a token ID is > 0, then it's a real token, set the mask to 1.\n",
    "        att_mask = [int(token_id > 0) for token_id in sent]\n",
    "      \n",
    "        # Store the attention mask for this sentence.\n",
    "        attention_masks.append(att_mask)\n",
    "    return attention_masks"
   ]
  },
  {
   "cell_type": "code",
   "execution_count": 41,
   "metadata": {
    "execution": {
     "iopub.execute_input": "2021-05-18T11:44:44.449815Z",
     "iopub.status.busy": "2021-05-18T11:44:44.439478Z",
     "iopub.status.idle": "2021-05-18T11:44:45.025450Z",
     "shell.execute_reply": "2021-05-18T11:44:45.025987Z"
    },
    "papermill": {
     "duration": 0.692579,
     "end_time": "2021-05-18T11:44:45.026148",
     "exception": false,
     "start_time": "2021-05-18T11:44:44.333569",
     "status": "completed"
    },
    "tags": []
   },
   "outputs": [],
   "source": [
    "train_masks = get_attn_msks(train_inputs)"
   ]
  },
  {
   "cell_type": "code",
   "execution_count": 42,
   "metadata": {
    "execution": {
     "iopub.execute_input": "2021-05-18T11:44:45.227061Z",
     "iopub.status.busy": "2021-05-18T11:44:45.216889Z",
     "iopub.status.idle": "2021-05-18T11:44:45.457915Z",
     "shell.execute_reply": "2021-05-18T11:44:45.457416Z"
    },
    "papermill": {
     "duration": 0.347935,
     "end_time": "2021-05-18T11:44:45.458013",
     "exception": false,
     "start_time": "2021-05-18T11:44:45.110078",
     "status": "completed"
    },
    "tags": []
   },
   "outputs": [],
   "source": [
    "validation_masks = get_attn_msks(validation_inputs)"
   ]
  },
  {
   "cell_type": "code",
   "execution_count": 43,
   "metadata": {
    "execution": {
     "iopub.execute_input": "2021-05-18T11:44:45.654268Z",
     "iopub.status.busy": "2021-05-18T11:44:45.633502Z",
     "iopub.status.idle": "2021-05-18T11:44:45.796163Z",
     "shell.execute_reply": "2021-05-18T11:44:45.795634Z"
    },
    "papermill": {
     "duration": 0.257515,
     "end_time": "2021-05-18T11:44:45.796260",
     "exception": false,
     "start_time": "2021-05-18T11:44:45.538745",
     "status": "completed"
    },
    "tags": []
   },
   "outputs": [],
   "source": [
    "test_masks = get_attn_msks(test_inputs)"
   ]
  },
  {
   "cell_type": "markdown",
   "metadata": {
    "papermill": {
     "duration": 0.083872,
     "end_time": "2021-05-18T11:44:45.962999",
     "exception": false,
     "start_time": "2021-05-18T11:44:45.879127",
     "status": "completed"
    },
    "tags": []
   },
   "source": [
    "Converting to PyTorch Data Types\n",
    "\n",
    "Our model expects PyTorch tensors rather than numpy.ndarrays, so convert all of our dataset variables."
   ]
  },
  {
   "cell_type": "code",
   "execution_count": 44,
   "metadata": {
    "execution": {
     "iopub.execute_input": "2021-05-18T11:44:46.143960Z",
     "iopub.status.busy": "2021-05-18T11:44:46.143189Z",
     "iopub.status.idle": "2021-05-18T11:44:46.261193Z",
     "shell.execute_reply": "2021-05-18T11:44:46.260704Z"
    },
    "papermill": {
     "duration": 0.215385,
     "end_time": "2021-05-18T11:44:46.261301",
     "exception": false,
     "start_time": "2021-05-18T11:44:46.045916",
     "status": "completed"
    },
    "tags": []
   },
   "outputs": [],
   "source": [
    "# Convert all inputs and labels into torch tensors, the required datatype \n",
    "# for our model.\n",
    "train_inputs = torch.tensor(train_inputs)\n",
    "validation_inputs = torch.tensor(validation_inputs)\n",
    "train_labels = torch.tensor(train_labels)\n",
    "validation_labels = torch.tensor(validation_labels)\n",
    "train_masks = torch.tensor(train_masks)\n",
    "validation_masks = torch.tensor(validation_masks)\n",
    "\n",
    "train_ids = torch.tensor(ids_train)\n",
    "valid_ids = torch.tensor(ids_validation)"
   ]
  },
  {
   "cell_type": "code",
   "execution_count": 45,
   "metadata": {
    "execution": {
     "iopub.execute_input": "2021-05-18T11:44:46.433965Z",
     "iopub.status.busy": "2021-05-18T11:44:46.433206Z",
     "iopub.status.idle": "2021-05-18T11:44:46.437169Z",
     "shell.execute_reply": "2021-05-18T11:44:46.437937Z"
    },
    "papermill": {
     "duration": 0.094138,
     "end_time": "2021-05-18T11:44:46.438152",
     "exception": false,
     "start_time": "2021-05-18T11:44:46.344014",
     "status": "completed"
    },
    "tags": []
   },
   "outputs": [
    {
     "name": "stdout",
     "output_type": "stream",
     "text": [
      "Train: 4771 Valid: 1957 Test 1306\n"
     ]
    }
   ],
   "source": [
    "print(\"Train:\", len(train_inputs), \"Valid:\", len(validation_inputs), \"Test\", len(test_inputs))"
   ]
  },
  {
   "cell_type": "markdown",
   "metadata": {
    "papermill": {
     "duration": 0.083993,
     "end_time": "2021-05-18T11:44:46.608316",
     "exception": false,
     "start_time": "2021-05-18T11:44:46.524323",
     "status": "completed"
    },
    "tags": []
   },
   "source": [
    "We’ll also create an iterator for our dataset using the torch DataLoader class. This helps save on memory during training because, unlike a for loop, with an iterator the entire dataset does not need to be loaded into memory."
   ]
  },
  {
   "cell_type": "code",
   "execution_count": 46,
   "metadata": {
    "execution": {
     "iopub.execute_input": "2021-05-18T11:44:46.790184Z",
     "iopub.status.busy": "2021-05-18T11:44:46.789179Z",
     "iopub.status.idle": "2021-05-18T11:44:46.792316Z",
     "shell.execute_reply": "2021-05-18T11:44:46.791779Z"
    },
    "papermill": {
     "duration": 0.099168,
     "end_time": "2021-05-18T11:44:46.792420",
     "exception": false,
     "start_time": "2021-05-18T11:44:46.693252",
     "status": "completed"
    },
    "tags": []
   },
   "outputs": [],
   "source": [
    "from torch.utils.data import TensorDataset, DataLoader, RandomSampler, SequentialSampler\n",
    "# The DataLoader needs to know our batch size for training, so we specify it \n",
    "# here.\n",
    "# For fine-tuning BERT on a specific task, the authors recommend a batch size of\n",
    "# 16 or 32.\n",
    "batch_size = 16 # try 32, and then move down to 16 and 8. \n",
    "# Create the DataLoader for our training set.\n",
    "train_data = TensorDataset(train_inputs, train_masks, train_labels, train_ids)\n",
    "train_sampler = RandomSampler(train_data) # CHANGE TO SEQUENTIAL (TRAIN_SEQUENTIAL_SAMPLER - BUT DO SEQUENTIALLY FOR HIDDEN STATES)\n",
    "train_dataloader = DataLoader(train_data, sampler=train_sampler, batch_size=batch_size)\n",
    "# Create the DataLoader for our validation set.\n",
    "validation_data = TensorDataset(validation_inputs, validation_masks, validation_labels, valid_ids)\n",
    "validation_sampler = SequentialSampler(validation_data)\n",
    "validation_dataloader = DataLoader(validation_data, sampler=validation_sampler, batch_size=batch_size)\n",
    "\n",
    "# Create the DataLoader for our training set for the embedding extraction.\n",
    "train_sampler_sequential = SequentialSampler(train_data) # CHANGE TO SEQUENTIAL (TRAIN_SEQUENTIAL_SAMPLER - BUT DO SEQUENTIALLY FOR HIDDEN STATES)\n",
    "train_dataloader_sequential = DataLoader(train_data, sampler=train_sampler_sequential, batch_size=batch_size)"
   ]
  },
  {
   "cell_type": "markdown",
   "metadata": {
    "papermill": {
     "duration": 0.082861,
     "end_time": "2021-05-18T11:44:46.956858",
     "exception": false,
     "start_time": "2021-05-18T11:44:46.873997",
     "status": "completed"
    },
    "tags": []
   },
   "source": [
    "Now that our input data is properly formatted, it’s time to fine tune the BERT model.\n",
    "\n",
    "For this task, we first want to modify the pre-trained BERT model to give outputs for classification, and then we want to continue training the model on our dataset until that the entire model, end-to-end, is well-suited for our task.\n",
    "\n",
    "Thankfully, the huggingface pytorch implementation includes a set of interfaces designed for a variety of NLP tasks. Though these interfaces are all built on top of a trained BERT model, each has different top layers and output types designed to accomodate their specific NLP task.\n",
    "\n",
    "We’ll be using Bert Classification Model.This is the normal BERT model with an added single linear layer on top for classification that we will use as a sentence classifier. As we feed input data, the entire pre-trained BERT model and the additional untrained classification layer is trained on our specific task.\n"
   ]
  },
  {
   "cell_type": "code",
   "execution_count": 47,
   "metadata": {
    "execution": {
     "iopub.execute_input": "2021-05-18T11:44:47.138959Z",
     "iopub.status.busy": "2021-05-18T11:44:47.138256Z",
     "iopub.status.idle": "2021-05-18T11:45:22.346179Z",
     "shell.execute_reply": "2021-05-18T11:45:22.346746Z"
    },
    "papermill": {
     "duration": 35.302925,
     "end_time": "2021-05-18T11:45:22.346906",
     "exception": false,
     "start_time": "2021-05-18T11:44:47.043981",
     "status": "completed"
    },
    "tags": []
   },
   "outputs": [
    {
     "data": {
      "application/vnd.jupyter.widget-view+json": {
       "model_id": "4db8095335c84f51985dc8ca0bdd1994",
       "version_major": 2,
       "version_minor": 0
      },
      "text/plain": [
       "HBox(children=(FloatProgress(value=0.0, description='Downloading', max=625.0, style=ProgressStyle(description_…"
      ]
     },
     "metadata": {},
     "output_type": "display_data"
    },
    {
     "name": "stdout",
     "output_type": "stream",
     "text": [
      "\n"
     ]
    },
    {
     "data": {
      "application/vnd.jupyter.widget-view+json": {
       "model_id": "bddf153dd6d0483385b723bd1a922068",
       "version_major": 2,
       "version_minor": 0
      },
      "text/plain": [
       "HBox(children=(FloatProgress(value=0.0, description='Downloading', max=714314041.0, style=ProgressStyle(descri…"
      ]
     },
     "metadata": {},
     "output_type": "display_data"
    },
    {
     "name": "stdout",
     "output_type": "stream",
     "text": [
      "\n"
     ]
    },
    {
     "name": "stderr",
     "output_type": "stream",
     "text": [
      "Some weights of the model checkpoint at bert-base-multilingual-cased were not used when initializing BertForSequenceClassification: ['cls.predictions.bias', 'cls.predictions.transform.dense.weight', 'cls.predictions.transform.dense.bias', 'cls.predictions.decoder.weight', 'cls.seq_relationship.weight', 'cls.seq_relationship.bias', 'cls.predictions.transform.LayerNorm.weight', 'cls.predictions.transform.LayerNorm.bias']\n",
      "- This IS expected if you are initializing BertForSequenceClassification from the checkpoint of a model trained on another task or with another architecture (e.g. initializing a BertForSequenceClassification model from a BertForPreTraining model).\n",
      "- This IS NOT expected if you are initializing BertForSequenceClassification from the checkpoint of a model that you expect to be exactly identical (initializing a BertForSequenceClassification model from a BertForSequenceClassification model).\n",
      "Some weights of BertForSequenceClassification were not initialized from the model checkpoint at bert-base-multilingual-cased and are newly initialized: ['classifier.weight', 'classifier.bias']\n",
      "You should probably TRAIN this model on a down-stream task to be able to use it for predictions and inference.\n"
     ]
    },
    {
     "data": {
      "text/plain": [
       "BertForSequenceClassification(\n",
       "  (bert): BertModel(\n",
       "    (embeddings): BertEmbeddings(\n",
       "      (word_embeddings): Embedding(119547, 768, padding_idx=0)\n",
       "      (position_embeddings): Embedding(512, 768)\n",
       "      (token_type_embeddings): Embedding(2, 768)\n",
       "      (LayerNorm): LayerNorm((768,), eps=1e-12, elementwise_affine=True)\n",
       "      (dropout): Dropout(p=0.1, inplace=False)\n",
       "    )\n",
       "    (encoder): BertEncoder(\n",
       "      (layer): ModuleList(\n",
       "        (0): BertLayer(\n",
       "          (attention): BertAttention(\n",
       "            (self): BertSelfAttention(\n",
       "              (query): Linear(in_features=768, out_features=768, bias=True)\n",
       "              (key): Linear(in_features=768, out_features=768, bias=True)\n",
       "              (value): Linear(in_features=768, out_features=768, bias=True)\n",
       "              (dropout): Dropout(p=0.1, inplace=False)\n",
       "            )\n",
       "            (output): BertSelfOutput(\n",
       "              (dense): Linear(in_features=768, out_features=768, bias=True)\n",
       "              (LayerNorm): LayerNorm((768,), eps=1e-12, elementwise_affine=True)\n",
       "              (dropout): Dropout(p=0.1, inplace=False)\n",
       "            )\n",
       "          )\n",
       "          (intermediate): BertIntermediate(\n",
       "            (dense): Linear(in_features=768, out_features=3072, bias=True)\n",
       "          )\n",
       "          (output): BertOutput(\n",
       "            (dense): Linear(in_features=3072, out_features=768, bias=True)\n",
       "            (LayerNorm): LayerNorm((768,), eps=1e-12, elementwise_affine=True)\n",
       "            (dropout): Dropout(p=0.1, inplace=False)\n",
       "          )\n",
       "        )\n",
       "        (1): BertLayer(\n",
       "          (attention): BertAttention(\n",
       "            (self): BertSelfAttention(\n",
       "              (query): Linear(in_features=768, out_features=768, bias=True)\n",
       "              (key): Linear(in_features=768, out_features=768, bias=True)\n",
       "              (value): Linear(in_features=768, out_features=768, bias=True)\n",
       "              (dropout): Dropout(p=0.1, inplace=False)\n",
       "            )\n",
       "            (output): BertSelfOutput(\n",
       "              (dense): Linear(in_features=768, out_features=768, bias=True)\n",
       "              (LayerNorm): LayerNorm((768,), eps=1e-12, elementwise_affine=True)\n",
       "              (dropout): Dropout(p=0.1, inplace=False)\n",
       "            )\n",
       "          )\n",
       "          (intermediate): BertIntermediate(\n",
       "            (dense): Linear(in_features=768, out_features=3072, bias=True)\n",
       "          )\n",
       "          (output): BertOutput(\n",
       "            (dense): Linear(in_features=3072, out_features=768, bias=True)\n",
       "            (LayerNorm): LayerNorm((768,), eps=1e-12, elementwise_affine=True)\n",
       "            (dropout): Dropout(p=0.1, inplace=False)\n",
       "          )\n",
       "        )\n",
       "        (2): BertLayer(\n",
       "          (attention): BertAttention(\n",
       "            (self): BertSelfAttention(\n",
       "              (query): Linear(in_features=768, out_features=768, bias=True)\n",
       "              (key): Linear(in_features=768, out_features=768, bias=True)\n",
       "              (value): Linear(in_features=768, out_features=768, bias=True)\n",
       "              (dropout): Dropout(p=0.1, inplace=False)\n",
       "            )\n",
       "            (output): BertSelfOutput(\n",
       "              (dense): Linear(in_features=768, out_features=768, bias=True)\n",
       "              (LayerNorm): LayerNorm((768,), eps=1e-12, elementwise_affine=True)\n",
       "              (dropout): Dropout(p=0.1, inplace=False)\n",
       "            )\n",
       "          )\n",
       "          (intermediate): BertIntermediate(\n",
       "            (dense): Linear(in_features=768, out_features=3072, bias=True)\n",
       "          )\n",
       "          (output): BertOutput(\n",
       "            (dense): Linear(in_features=3072, out_features=768, bias=True)\n",
       "            (LayerNorm): LayerNorm((768,), eps=1e-12, elementwise_affine=True)\n",
       "            (dropout): Dropout(p=0.1, inplace=False)\n",
       "          )\n",
       "        )\n",
       "        (3): BertLayer(\n",
       "          (attention): BertAttention(\n",
       "            (self): BertSelfAttention(\n",
       "              (query): Linear(in_features=768, out_features=768, bias=True)\n",
       "              (key): Linear(in_features=768, out_features=768, bias=True)\n",
       "              (value): Linear(in_features=768, out_features=768, bias=True)\n",
       "              (dropout): Dropout(p=0.1, inplace=False)\n",
       "            )\n",
       "            (output): BertSelfOutput(\n",
       "              (dense): Linear(in_features=768, out_features=768, bias=True)\n",
       "              (LayerNorm): LayerNorm((768,), eps=1e-12, elementwise_affine=True)\n",
       "              (dropout): Dropout(p=0.1, inplace=False)\n",
       "            )\n",
       "          )\n",
       "          (intermediate): BertIntermediate(\n",
       "            (dense): Linear(in_features=768, out_features=3072, bias=True)\n",
       "          )\n",
       "          (output): BertOutput(\n",
       "            (dense): Linear(in_features=3072, out_features=768, bias=True)\n",
       "            (LayerNorm): LayerNorm((768,), eps=1e-12, elementwise_affine=True)\n",
       "            (dropout): Dropout(p=0.1, inplace=False)\n",
       "          )\n",
       "        )\n",
       "        (4): BertLayer(\n",
       "          (attention): BertAttention(\n",
       "            (self): BertSelfAttention(\n",
       "              (query): Linear(in_features=768, out_features=768, bias=True)\n",
       "              (key): Linear(in_features=768, out_features=768, bias=True)\n",
       "              (value): Linear(in_features=768, out_features=768, bias=True)\n",
       "              (dropout): Dropout(p=0.1, inplace=False)\n",
       "            )\n",
       "            (output): BertSelfOutput(\n",
       "              (dense): Linear(in_features=768, out_features=768, bias=True)\n",
       "              (LayerNorm): LayerNorm((768,), eps=1e-12, elementwise_affine=True)\n",
       "              (dropout): Dropout(p=0.1, inplace=False)\n",
       "            )\n",
       "          )\n",
       "          (intermediate): BertIntermediate(\n",
       "            (dense): Linear(in_features=768, out_features=3072, bias=True)\n",
       "          )\n",
       "          (output): BertOutput(\n",
       "            (dense): Linear(in_features=3072, out_features=768, bias=True)\n",
       "            (LayerNorm): LayerNorm((768,), eps=1e-12, elementwise_affine=True)\n",
       "            (dropout): Dropout(p=0.1, inplace=False)\n",
       "          )\n",
       "        )\n",
       "        (5): BertLayer(\n",
       "          (attention): BertAttention(\n",
       "            (self): BertSelfAttention(\n",
       "              (query): Linear(in_features=768, out_features=768, bias=True)\n",
       "              (key): Linear(in_features=768, out_features=768, bias=True)\n",
       "              (value): Linear(in_features=768, out_features=768, bias=True)\n",
       "              (dropout): Dropout(p=0.1, inplace=False)\n",
       "            )\n",
       "            (output): BertSelfOutput(\n",
       "              (dense): Linear(in_features=768, out_features=768, bias=True)\n",
       "              (LayerNorm): LayerNorm((768,), eps=1e-12, elementwise_affine=True)\n",
       "              (dropout): Dropout(p=0.1, inplace=False)\n",
       "            )\n",
       "          )\n",
       "          (intermediate): BertIntermediate(\n",
       "            (dense): Linear(in_features=768, out_features=3072, bias=True)\n",
       "          )\n",
       "          (output): BertOutput(\n",
       "            (dense): Linear(in_features=3072, out_features=768, bias=True)\n",
       "            (LayerNorm): LayerNorm((768,), eps=1e-12, elementwise_affine=True)\n",
       "            (dropout): Dropout(p=0.1, inplace=False)\n",
       "          )\n",
       "        )\n",
       "        (6): BertLayer(\n",
       "          (attention): BertAttention(\n",
       "            (self): BertSelfAttention(\n",
       "              (query): Linear(in_features=768, out_features=768, bias=True)\n",
       "              (key): Linear(in_features=768, out_features=768, bias=True)\n",
       "              (value): Linear(in_features=768, out_features=768, bias=True)\n",
       "              (dropout): Dropout(p=0.1, inplace=False)\n",
       "            )\n",
       "            (output): BertSelfOutput(\n",
       "              (dense): Linear(in_features=768, out_features=768, bias=True)\n",
       "              (LayerNorm): LayerNorm((768,), eps=1e-12, elementwise_affine=True)\n",
       "              (dropout): Dropout(p=0.1, inplace=False)\n",
       "            )\n",
       "          )\n",
       "          (intermediate): BertIntermediate(\n",
       "            (dense): Linear(in_features=768, out_features=3072, bias=True)\n",
       "          )\n",
       "          (output): BertOutput(\n",
       "            (dense): Linear(in_features=3072, out_features=768, bias=True)\n",
       "            (LayerNorm): LayerNorm((768,), eps=1e-12, elementwise_affine=True)\n",
       "            (dropout): Dropout(p=0.1, inplace=False)\n",
       "          )\n",
       "        )\n",
       "        (7): BertLayer(\n",
       "          (attention): BertAttention(\n",
       "            (self): BertSelfAttention(\n",
       "              (query): Linear(in_features=768, out_features=768, bias=True)\n",
       "              (key): Linear(in_features=768, out_features=768, bias=True)\n",
       "              (value): Linear(in_features=768, out_features=768, bias=True)\n",
       "              (dropout): Dropout(p=0.1, inplace=False)\n",
       "            )\n",
       "            (output): BertSelfOutput(\n",
       "              (dense): Linear(in_features=768, out_features=768, bias=True)\n",
       "              (LayerNorm): LayerNorm((768,), eps=1e-12, elementwise_affine=True)\n",
       "              (dropout): Dropout(p=0.1, inplace=False)\n",
       "            )\n",
       "          )\n",
       "          (intermediate): BertIntermediate(\n",
       "            (dense): Linear(in_features=768, out_features=3072, bias=True)\n",
       "          )\n",
       "          (output): BertOutput(\n",
       "            (dense): Linear(in_features=3072, out_features=768, bias=True)\n",
       "            (LayerNorm): LayerNorm((768,), eps=1e-12, elementwise_affine=True)\n",
       "            (dropout): Dropout(p=0.1, inplace=False)\n",
       "          )\n",
       "        )\n",
       "        (8): BertLayer(\n",
       "          (attention): BertAttention(\n",
       "            (self): BertSelfAttention(\n",
       "              (query): Linear(in_features=768, out_features=768, bias=True)\n",
       "              (key): Linear(in_features=768, out_features=768, bias=True)\n",
       "              (value): Linear(in_features=768, out_features=768, bias=True)\n",
       "              (dropout): Dropout(p=0.1, inplace=False)\n",
       "            )\n",
       "            (output): BertSelfOutput(\n",
       "              (dense): Linear(in_features=768, out_features=768, bias=True)\n",
       "              (LayerNorm): LayerNorm((768,), eps=1e-12, elementwise_affine=True)\n",
       "              (dropout): Dropout(p=0.1, inplace=False)\n",
       "            )\n",
       "          )\n",
       "          (intermediate): BertIntermediate(\n",
       "            (dense): Linear(in_features=768, out_features=3072, bias=True)\n",
       "          )\n",
       "          (output): BertOutput(\n",
       "            (dense): Linear(in_features=3072, out_features=768, bias=True)\n",
       "            (LayerNorm): LayerNorm((768,), eps=1e-12, elementwise_affine=True)\n",
       "            (dropout): Dropout(p=0.1, inplace=False)\n",
       "          )\n",
       "        )\n",
       "        (9): BertLayer(\n",
       "          (attention): BertAttention(\n",
       "            (self): BertSelfAttention(\n",
       "              (query): Linear(in_features=768, out_features=768, bias=True)\n",
       "              (key): Linear(in_features=768, out_features=768, bias=True)\n",
       "              (value): Linear(in_features=768, out_features=768, bias=True)\n",
       "              (dropout): Dropout(p=0.1, inplace=False)\n",
       "            )\n",
       "            (output): BertSelfOutput(\n",
       "              (dense): Linear(in_features=768, out_features=768, bias=True)\n",
       "              (LayerNorm): LayerNorm((768,), eps=1e-12, elementwise_affine=True)\n",
       "              (dropout): Dropout(p=0.1, inplace=False)\n",
       "            )\n",
       "          )\n",
       "          (intermediate): BertIntermediate(\n",
       "            (dense): Linear(in_features=768, out_features=3072, bias=True)\n",
       "          )\n",
       "          (output): BertOutput(\n",
       "            (dense): Linear(in_features=3072, out_features=768, bias=True)\n",
       "            (LayerNorm): LayerNorm((768,), eps=1e-12, elementwise_affine=True)\n",
       "            (dropout): Dropout(p=0.1, inplace=False)\n",
       "          )\n",
       "        )\n",
       "        (10): BertLayer(\n",
       "          (attention): BertAttention(\n",
       "            (self): BertSelfAttention(\n",
       "              (query): Linear(in_features=768, out_features=768, bias=True)\n",
       "              (key): Linear(in_features=768, out_features=768, bias=True)\n",
       "              (value): Linear(in_features=768, out_features=768, bias=True)\n",
       "              (dropout): Dropout(p=0.1, inplace=False)\n",
       "            )\n",
       "            (output): BertSelfOutput(\n",
       "              (dense): Linear(in_features=768, out_features=768, bias=True)\n",
       "              (LayerNorm): LayerNorm((768,), eps=1e-12, elementwise_affine=True)\n",
       "              (dropout): Dropout(p=0.1, inplace=False)\n",
       "            )\n",
       "          )\n",
       "          (intermediate): BertIntermediate(\n",
       "            (dense): Linear(in_features=768, out_features=3072, bias=True)\n",
       "          )\n",
       "          (output): BertOutput(\n",
       "            (dense): Linear(in_features=3072, out_features=768, bias=True)\n",
       "            (LayerNorm): LayerNorm((768,), eps=1e-12, elementwise_affine=True)\n",
       "            (dropout): Dropout(p=0.1, inplace=False)\n",
       "          )\n",
       "        )\n",
       "        (11): BertLayer(\n",
       "          (attention): BertAttention(\n",
       "            (self): BertSelfAttention(\n",
       "              (query): Linear(in_features=768, out_features=768, bias=True)\n",
       "              (key): Linear(in_features=768, out_features=768, bias=True)\n",
       "              (value): Linear(in_features=768, out_features=768, bias=True)\n",
       "              (dropout): Dropout(p=0.1, inplace=False)\n",
       "            )\n",
       "            (output): BertSelfOutput(\n",
       "              (dense): Linear(in_features=768, out_features=768, bias=True)\n",
       "              (LayerNorm): LayerNorm((768,), eps=1e-12, elementwise_affine=True)\n",
       "              (dropout): Dropout(p=0.1, inplace=False)\n",
       "            )\n",
       "          )\n",
       "          (intermediate): BertIntermediate(\n",
       "            (dense): Linear(in_features=768, out_features=3072, bias=True)\n",
       "          )\n",
       "          (output): BertOutput(\n",
       "            (dense): Linear(in_features=3072, out_features=768, bias=True)\n",
       "            (LayerNorm): LayerNorm((768,), eps=1e-12, elementwise_affine=True)\n",
       "            (dropout): Dropout(p=0.1, inplace=False)\n",
       "          )\n",
       "        )\n",
       "      )\n",
       "    )\n",
       "    (pooler): BertPooler(\n",
       "      (dense): Linear(in_features=768, out_features=768, bias=True)\n",
       "      (activation): Tanh()\n",
       "    )\n",
       "  )\n",
       "  (dropout): Dropout(p=0.1, inplace=False)\n",
       "  (classifier): Linear(in_features=768, out_features=2, bias=True)\n",
       ")"
      ]
     },
     "execution_count": 47,
     "metadata": {},
     "output_type": "execute_result"
    }
   ],
   "source": [
    "from transformers import BertForSequenceClassification, AdamW, BertConfig\n",
    "# Load BertForSequenceClassification, the pretrained BERT model with a single \n",
    "# linear classification layer on top. \n",
    "model = BertForSequenceClassification.from_pretrained(\n",
    "    \"bert-base-multilingual-cased\", # Use the 12-layer BERT model, with an uncased vocab.\n",
    "    num_labels = 2, # The number of output labels--2 for binary classification.\n",
    "                    # You can increase this for multi-class tasks.   \n",
    "    output_attentions = False, # Whether the model returns attentions weights.\n",
    "    output_hidden_states = True, # Whether the model returns all hidden-states.\n",
    ")\n",
    "# Tell pytorch to run this model on the GPU.\n",
    "model.cuda()"
   ]
  },
  {
   "cell_type": "markdown",
   "metadata": {
    "papermill": {
     "duration": 0.092265,
     "end_time": "2021-05-18T11:45:22.537006",
     "exception": false,
     "start_time": "2021-05-18T11:45:22.444741",
     "status": "completed"
    },
    "tags": []
   },
   "source": [
    "In the below cell we can check the names and dimensions of the weights for:The embedding layer,The first of the twelve transformers & The output layer."
   ]
  },
  {
   "cell_type": "code",
   "execution_count": 48,
   "metadata": {
    "execution": {
     "iopub.execute_input": "2021-05-18T11:45:22.739954Z",
     "iopub.status.busy": "2021-05-18T11:45:22.737926Z",
     "iopub.status.idle": "2021-05-18T11:45:22.742698Z",
     "shell.execute_reply": "2021-05-18T11:45:22.740846Z"
    },
    "papermill": {
     "duration": 0.113792,
     "end_time": "2021-05-18T11:45:22.742872",
     "exception": false,
     "start_time": "2021-05-18T11:45:22.629080",
     "status": "completed"
    },
    "tags": []
   },
   "outputs": [
    {
     "name": "stdout",
     "output_type": "stream",
     "text": [
      "The BERT model has 201 different named parameters.\n",
      "\n",
      "==== Embedding Layer ====\n",
      "\n",
      "bert.embeddings.word_embeddings.weight                  (119547, 768)\n",
      "bert.embeddings.position_embeddings.weight                (512, 768)\n",
      "bert.embeddings.token_type_embeddings.weight                (2, 768)\n",
      "bert.embeddings.LayerNorm.weight                              (768,)\n",
      "bert.embeddings.LayerNorm.bias                                (768,)\n",
      "\n",
      "==== First Transformer ====\n",
      "\n",
      "bert.encoder.layer.0.attention.self.query.weight          (768, 768)\n",
      "bert.encoder.layer.0.attention.self.query.bias                (768,)\n",
      "bert.encoder.layer.0.attention.self.key.weight            (768, 768)\n",
      "bert.encoder.layer.0.attention.self.key.bias                  (768,)\n",
      "bert.encoder.layer.0.attention.self.value.weight          (768, 768)\n",
      "bert.encoder.layer.0.attention.self.value.bias                (768,)\n",
      "bert.encoder.layer.0.attention.output.dense.weight        (768, 768)\n",
      "bert.encoder.layer.0.attention.output.dense.bias              (768,)\n",
      "bert.encoder.layer.0.attention.output.LayerNorm.weight        (768,)\n",
      "bert.encoder.layer.0.attention.output.LayerNorm.bias          (768,)\n",
      "bert.encoder.layer.0.intermediate.dense.weight           (3072, 768)\n",
      "bert.encoder.layer.0.intermediate.dense.bias                 (3072,)\n",
      "bert.encoder.layer.0.output.dense.weight                 (768, 3072)\n",
      "bert.encoder.layer.0.output.dense.bias                        (768,)\n",
      "bert.encoder.layer.0.output.LayerNorm.weight                  (768,)\n",
      "bert.encoder.layer.0.output.LayerNorm.bias                    (768,)\n",
      "\n",
      "==== Output Layer ====\n",
      "\n",
      "bert.pooler.dense.weight                                  (768, 768)\n",
      "bert.pooler.dense.bias                                        (768,)\n",
      "classifier.weight                                           (2, 768)\n",
      "classifier.bias                                                 (2,)\n"
     ]
    }
   ],
   "source": [
    "# Get all of the model's parameters as a list of tuples.\n",
    "params = list(model.named_parameters())\n",
    "print('The BERT model has {:} different named parameters.\\n'.format(len(params)))\n",
    "print('==== Embedding Layer ====\\n')\n",
    "for p in params[0:5]:\n",
    "    print(\"{:<55} {:>12}\".format(p[0], str(tuple(p[1].size()))))\n",
    "print('\\n==== First Transformer ====\\n')\n",
    "for p in params[5:21]:\n",
    "    print(\"{:<55} {:>12}\".format(p[0], str(tuple(p[1].size()))))\n",
    "print('\\n==== Output Layer ====\\n')\n",
    "for p in params[-4:]:\n",
    "    print(\"{:<55} {:>12}\".format(p[0], str(tuple(p[1].size()))))"
   ]
  },
  {
   "cell_type": "markdown",
   "metadata": {
    "papermill": {
     "duration": 0.087427,
     "end_time": "2021-05-18T11:45:22.919933",
     "exception": false,
     "start_time": "2021-05-18T11:45:22.832506",
     "status": "completed"
    },
    "tags": []
   },
   "source": [
    "Now that we have our model loaded we need to grab the training hyperparameters from within the stored model."
   ]
  },
  {
   "cell_type": "markdown",
   "metadata": {
    "papermill": {
     "duration": 0.088084,
     "end_time": "2021-05-18T11:45:23.100212",
     "exception": false,
     "start_time": "2021-05-18T11:45:23.012128",
     "status": "completed"
    },
    "tags": []
   },
   "source": [
    "For the purposes of fine-tuning, we'll use the following values:\n",
    "\n",
    "- Batch size: 16, 32 (We chose 32 when creating our DataLoaders).\n",
    "- Learning rate (Adam): 5e-5, 3e-5, 2e-5 (We’ll use 2e-5).\n",
    "- Number of epochs: 2, 3, 4 (We’ll use 4).\n",
    "\n",
    "The epsilon parameter eps = 1e-8 is “a very small number to prevent any division by zero in the implementation”\n",
    "\n",
    "https://medium.com/@aniruddha.choudhury94/part-2-bert-fine-tuning-tutorial-with-pytorch-for-text-classification-on-the-corpus-of-linguistic-18057ce330e1"
   ]
  },
  {
   "cell_type": "code",
   "execution_count": 49,
   "metadata": {
    "execution": {
     "iopub.execute_input": "2021-05-18T11:45:23.298503Z",
     "iopub.status.busy": "2021-05-18T11:45:23.297572Z",
     "iopub.status.idle": "2021-05-18T11:45:23.301828Z",
     "shell.execute_reply": "2021-05-18T11:45:23.301303Z"
    },
    "papermill": {
     "duration": 0.109297,
     "end_time": "2021-05-18T11:45:23.301940",
     "exception": false,
     "start_time": "2021-05-18T11:45:23.192643",
     "status": "completed"
    },
    "tags": []
   },
   "outputs": [],
   "source": [
    "# Note: AdamW is a class from the huggingface library (as opposed to pytorch) \n",
    "# I believe the 'W' stands for 'Weight Decay fix\"\n",
    "# Cross entropy is used as the loss by default\n",
    "optimizer = AdamW(model.parameters(),\n",
    "                  lr = 2e-5, # args.learning_rate - default is 5e-5, our notebook had 2e-5\n",
    "                  eps = 1e-8 # args.adam_epsilon  - default is 1e-8.\n",
    "                )\n",
    "from transformers import get_linear_schedule_with_warmup\n",
    "# Number of training epochs (authors recommend between 2 and 4)\n",
    "epochs = 2\n",
    "# Total number of training steps is number of batches * number of epochs.\n",
    "total_steps = len(train_dataloader) * epochs\n",
    "# Create the learning rate scheduler.\n",
    "scheduler = get_linear_schedule_with_warmup(optimizer, \n",
    "                                            num_warmup_steps = 0, # Default value in run_glue.py\n",
    "                                            num_training_steps = total_steps)"
   ]
  },
  {
   "cell_type": "markdown",
   "metadata": {
    "papermill": {
     "duration": 0.095093,
     "end_time": "2021-05-18T11:45:23.491147",
     "exception": false,
     "start_time": "2021-05-18T11:45:23.396054",
     "status": "completed"
    },
    "tags": []
   },
   "source": [
    "4.3. Training Loop\n",
    "Below is our training loop. There’s a lot going on, but fundamentally for each pass in our loop we have a trianing phase and a validation phase. At each pass we need to:\n",
    "\n",
    "Training loop:\n",
    "\n",
    "- Unpack our data inputs and labels\n",
    "- Load data onto the GPU for acceleration\n",
    "- Clear out the gradients calculated in the previous pass.\n",
    "- In pytorch the gradients accumulate by default (useful for things like RNNs) unless you explicitly clear them out.\n",
    "- Forward pass (feed input data through the network)\n",
    "- Backward pass (backpropagation)\n",
    "- Tell the network to update parameters with optimizer.step()\n",
    "- Track variables for monitoring progress\n",
    "\n",
    "Evalution loop:\n",
    "- Unpack our data inputs and labels\n",
    "- Load data onto the GPU for acceleration\n",
    "- Forward pass (feed input data through the network)\n",
    "- Compute loss on our validation data and track variables for monitoring progress\n",
    "\n",
    "Define a helper function for calculating accuracy."
   ]
  },
  {
   "cell_type": "code",
   "execution_count": 50,
   "metadata": {
    "execution": {
     "iopub.execute_input": "2021-05-18T11:45:23.699527Z",
     "iopub.status.busy": "2021-05-18T11:45:23.697855Z",
     "iopub.status.idle": "2021-05-18T11:45:23.700251Z",
     "shell.execute_reply": "2021-05-18T11:45:23.700877Z"
    },
    "papermill": {
     "duration": 0.109025,
     "end_time": "2021-05-18T11:45:23.701020",
     "exception": false,
     "start_time": "2021-05-18T11:45:23.591995",
     "status": "completed"
    },
    "tags": []
   },
   "outputs": [],
   "source": [
    "import numpy as np\n",
    "# Function to calculate the accuracy of our predictions vs labels\n",
    "def flat_accuracy(preds, labels):\n",
    "    pred_flat = np.argmax(preds, axis=1).flatten()\n",
    "    labels_flat = labels.flatten()\n",
    "    return np.sum(pred_flat == labels_flat) / len(labels_flat)"
   ]
  },
  {
   "cell_type": "markdown",
   "metadata": {
    "papermill": {
     "duration": 0.090167,
     "end_time": "2021-05-18T11:45:23.886517",
     "exception": false,
     "start_time": "2021-05-18T11:45:23.796350",
     "status": "completed"
    },
    "tags": []
   },
   "source": [
    "Helper function for formatting elapsed times."
   ]
  },
  {
   "cell_type": "code",
   "execution_count": 51,
   "metadata": {
    "execution": {
     "iopub.execute_input": "2021-05-18T11:45:24.077711Z",
     "iopub.status.busy": "2021-05-18T11:45:24.076675Z",
     "iopub.status.idle": "2021-05-18T11:45:24.079753Z",
     "shell.execute_reply": "2021-05-18T11:45:24.079250Z"
    },
    "papermill": {
     "duration": 0.100997,
     "end_time": "2021-05-18T11:45:24.079863",
     "exception": false,
     "start_time": "2021-05-18T11:45:23.978866",
     "status": "completed"
    },
    "tags": []
   },
   "outputs": [],
   "source": [
    "import time\n",
    "import datetime\n",
    "def format_time(elapsed):\n",
    "    '''\n",
    "    Takes a time in seconds and returns a string hh:mm:ss\n",
    "    '''\n",
    "    # Round to the nearest second.\n",
    "    elapsed_rounded = int(round((elapsed)))\n",
    "    \n",
    "    # Format as hh:mm:ss\n",
    "    return str(datetime.timedelta(seconds=elapsed_rounded))"
   ]
  },
  {
   "cell_type": "markdown",
   "metadata": {
    "papermill": {
     "duration": 0.09281,
     "end_time": "2021-05-18T11:45:24.262880",
     "exception": false,
     "start_time": "2021-05-18T11:45:24.170070",
     "status": "completed"
    },
    "tags": []
   },
   "source": [
    "### Train Model"
   ]
  },
  {
   "cell_type": "code",
   "execution_count": 52,
   "metadata": {
    "execution": {
     "iopub.execute_input": "2021-05-18T11:45:24.501122Z",
     "iopub.status.busy": "2021-05-18T11:45:24.491035Z",
     "iopub.status.idle": "2021-05-18T11:47:57.944494Z",
     "shell.execute_reply": "2021-05-18T11:47:57.943930Z"
    },
    "papermill": {
     "duration": 153.58812,
     "end_time": "2021-05-18T11:47:57.944607",
     "exception": false,
     "start_time": "2021-05-18T11:45:24.356487",
     "status": "completed"
    },
    "tags": []
   },
   "outputs": [
    {
     "name": "stdout",
     "output_type": "stream",
     "text": [
      "\n",
      "======== Epoch 1 / 2 ========\n",
      "Training...\n",
      "  Batch    40  of    299.    Elapsed: 0:00:10.\n",
      "  Batch    80  of    299.    Elapsed: 0:00:19.\n",
      "  Batch   120  of    299.    Elapsed: 0:00:29.\n",
      "  Batch   160  of    299.    Elapsed: 0:00:38.\n",
      "  Batch   200  of    299.    Elapsed: 0:00:47.\n",
      "  Batch   240  of    299.    Elapsed: 0:00:56.\n",
      "  Batch   280  of    299.    Elapsed: 0:01:06.\n",
      "\n",
      "  Average training loss: 0.29\n",
      "  Training epcoh took: 0:01:10\n",
      "\n",
      "Running Validation...\n",
      "  Accuracy: 0.92\n",
      "  Average validation loss: 0.27\n",
      "  Validation took: 0:00:07\n",
      "\n",
      "======== Epoch 2 / 2 ========\n",
      "Training...\n",
      "  Batch    40  of    299.    Elapsed: 0:00:09.\n",
      "  Batch    80  of    299.    Elapsed: 0:00:18.\n",
      "  Batch   120  of    299.    Elapsed: 0:00:27.\n",
      "  Batch   160  of    299.    Elapsed: 0:00:37.\n",
      "  Batch   200  of    299.    Elapsed: 0:00:46.\n",
      "  Batch   240  of    299.    Elapsed: 0:00:55.\n",
      "  Batch   280  of    299.    Elapsed: 0:01:05.\n",
      "\n",
      "  Average training loss: 0.29\n",
      "  Training epcoh took: 0:01:09\n",
      "\n",
      "Running Validation...\n",
      "  Accuracy: 0.92\n",
      "  Average validation loss: 0.27\n",
      "  Validation took: 0:00:07\n",
      "\n",
      "Training complete!\n"
     ]
    }
   ],
   "source": [
    "import random\n",
    "# This training code is based on the `run_glue.py` script here:\n",
    "# https://github.com/huggingface/transformers/blob/5bfcd0485ece086ebcbed2d008813037968a9e58/examples/run_glue.py#L128\n",
    "# Set the seed value all over the place to make this reproducible.\n",
    "seed_val = 42\n",
    "random.seed(seed_val)\n",
    "np.random.seed(seed_val)\n",
    "torch.manual_seed(seed_val)\n",
    "torch.cuda.manual_seed_all(seed_val)\n",
    "# Store the average loss after each epoch so we can plot them.\n",
    "loss_values = []\n",
    "loss_values_valid = []\n",
    "#embeddings_tr, embeddings_vl = [], []\n",
    "train_predictions, valid_predictions = [], []\n",
    "train_true_labels, valid_true_labels = [], []\n",
    "# Store the hidden states for embedding extraction\n",
    "\n",
    "# For each epoch...\n",
    "for epoch_i in range(0, epochs):\n",
    "    \n",
    "    # ========================================\n",
    "    #               Training\n",
    "    # ========================================\n",
    "    \n",
    "    # Perform one full pass over the training set.\n",
    "    print(\"\")\n",
    "    print('======== Epoch {:} / {:} ========'.format(epoch_i + 1, epochs))\n",
    "    print('Training...')\n",
    "    # Measure how long the training epoch takes.\n",
    "    t0 = time.time()\n",
    "    # Reset the total loss for this epoch.\n",
    "    total_loss = 0\n",
    "    # Put the model into training mode. Don't be mislead--the call to \n",
    "    # `train` just changes the *mode*, it doesn't *perform* the training.\n",
    "    # `dropout` and `batchnorm` layers behave differently during training\n",
    "    # vs. test (source: https://stackoverflow.com/questions/51433378/what-does-model-train-do-in-pytorch)\n",
    "    model.train()\n",
    "    # For each batch of training data...\n",
    "    for step, batch in enumerate(train_dataloader):\n",
    "        # Progress update every 40 batches.\n",
    "        if step % 40 == 0 and not step == 0:\n",
    "            # Calculate elapsed time in minutes.\n",
    "            elapsed = format_time(time.time() - t0)\n",
    "            \n",
    "            # Report progress.\n",
    "            print('  Batch {:>5,}  of  {:>5,}.    Elapsed: {:}.'.format(step, len(train_dataloader), elapsed))\n",
    "        # Unpack this training batch from our dataloader. \n",
    "        #\n",
    "        # As we unpack the batch, we'll also copy each tensor to the GPU using the \n",
    "        # `to` method.\n",
    "        #\n",
    "        # `batch` contains three pytorch tensors:\n",
    "        #   [0]: input ids \n",
    "        #   [1]: attention masks\n",
    "        #   [2]: labels \n",
    "        b_input_ids = batch[0].to(device)\n",
    "        b_input_mask = batch[1].to(device)\n",
    "        b_labels = batch[2].to(device)\n",
    "        # Always clear any previously calculated gradients before performing a\n",
    "        # backward pass. PyTorch doesn't do this automatically because \n",
    "        # accumulating the gradients is \"convenient while training RNNs\". \n",
    "        # (source: https://stackoverflow.com/questions/48001598/why-do-we-need-to-call-zero-grad-in-pytorch)\n",
    "        model.zero_grad()        \n",
    "        # Perform a forward pass (evaluate the model on this training batch).\n",
    "        # This will return the loss (rather than the model output) because we\n",
    "        # have provided the `labels`.\n",
    "        # The documentation for this `model` function is here: \n",
    "        # https://huggingface.co/transformers/v2.2.0/model_doc/bert.html#transformers.BertForSequenceClassification\n",
    "        outputs_a = model(b_input_ids, \n",
    "                    token_type_ids=None, \n",
    "                    attention_mask=b_input_mask, \n",
    "                    labels=b_labels)\n",
    "        \n",
    "        # The call to `model` always returns a tuple, so we need to pull the \n",
    "        # loss value out of the tuple.\n",
    "        loss = outputs_a[0]\n",
    "        logits_tr = outputs_a[1]\n",
    "        #hidden_state_tr = outputs_a[2]\n",
    "        #features = hidden_state_tr[0][:,0,:].detach().cpu().numpy()\n",
    "        #embeddings_tr.append([epoch_i,batch[3], features]) # FIX AS NO BACKPROP WEIGHT ADJUSTED\n",
    "        # Accumulate the training loss over all of the batches so that we can\n",
    "        # calculate the average loss at the end. `loss` is a Tensor containing a\n",
    "        # single value; the `.item()` function just returns the Python value \n",
    "        # from the tensor.\n",
    "        # Move logits, hidden states, and labels to CPU\n",
    "        logits_tr = logits_tr.detach().cpu().numpy()\n",
    "        label_ids = b_labels.to('cpu').numpy()\n",
    "        #train_predictions.append([epoch_i,logits_tr])\n",
    "        #train_true_labels.append([epoch_i,label_ids])\n",
    "\n",
    "        total_loss += loss.item()\n",
    "        # Perform a backward pass to calculate the gradients.\n",
    "        loss.backward()\n",
    "        # Clip the norm of the gradients to 1.0.\n",
    "        # This is to help prevent the \"exploding gradients\" problem.\n",
    "        torch.nn.utils.clip_grad_norm_(model.parameters(), 1.0)\n",
    "        # Update parameters and take a step using the computed gradient.\n",
    "        # The optimizer dictates the \"update rule\"--how the parameters are\n",
    "        # modified based on their gradients, the learning rate, etc.\n",
    "        optimizer.step()\n",
    "        # Update the learning rate.\n",
    "        scheduler.step()\n",
    "    # Calculate the average loss over the training data.\n",
    "    avg_train_loss = total_loss / len(train_dataloader)            \n",
    "\n",
    "    # Store the loss value for plotting the learning curve.\n",
    "    loss_values.append(avg_train_loss)\n",
    "    print(\"\")\n",
    "    print(\"  Average training loss: {0:.2f}\".format(avg_train_loss))\n",
    "    print(\"  Training epcoh took: {:}\".format(format_time(time.time() - t0)))\n",
    "    \n",
    "    # ========================================\n",
    "    #               Validation\n",
    "    # ========================================\n",
    "    # After the completion of each training epoch, measure our performance on\n",
    "    # our validation set.\n",
    "    print(\"\")\n",
    "    print(\"Running Validation...\")\n",
    "    t0 = time.time()\n",
    "    # Put the model in evaluation mode--the dropout layers behave differently\n",
    "    # during evaluation.\n",
    "    model.eval()\n",
    "    # Tracking variables \n",
    "    eval_loss, eval_accuracy = 0, 0\n",
    "    nb_eval_steps, nb_eval_examples = 0, 0\n",
    "    # Evaluate data for one epoch\n",
    "    for batch in validation_dataloader:\n",
    "        \n",
    "        # Add batch to GPU\n",
    "        b_input_ids = batch[0].to(device)\n",
    "        b_input_mask = batch[1].to(device)\n",
    "        b_labels = batch[2].to(device)\n",
    "        \n",
    "        # Telling the model not to compute or store gradients, saving memory and\n",
    "        # speeding up validation\n",
    "        with torch.no_grad():        \n",
    "            # Forward pass, calculate logit predictions.\n",
    "            # This will return the logits rather than the loss because we have\n",
    "            # not provided labels.\n",
    "            # token_type_ids is the same as the \"segment ids\", which \n",
    "            # differentiates sentence 1 and 2 in 2-sentence tasks.\n",
    "            # The documentation for this `model` function is here: \n",
    "            # https://huggingface.co/transformers/v2.2.0/model_doc/bert.html#transformers.BertForSequenceClassification\n",
    "            outputs = model(b_input_ids, \n",
    "                            token_type_ids=None, \n",
    "                            attention_mask=b_input_mask,\n",
    "                            labels=b_labels)\n",
    "        \n",
    "        # Get the \"logits\" output by the model. The \"logits\" are the output\n",
    "        # values prior to applying an activation function like the softmax.\n",
    "        loss = outputs[0]\n",
    "        logits = outputs[1]\n",
    "        #hidden_state_vl = outputs[2]\n",
    "        #features = hidden_state_vl[0][:,0,:].detach().cpu().numpy()\n",
    "        #embeddings_vl.append([epoch_i,batch[3], features])\n",
    "        \n",
    "        # Track Loss\n",
    "        eval_loss += loss.item()\n",
    "\n",
    "        # Move logits, hidden states, and labels to CPU\n",
    "        logits = logits.detach().cpu().numpy()\n",
    "        #hidden_state_vl = hidden_state_vl.detach().cpu().numpy()\n",
    "        label_ids = b_labels.to('cpu').numpy()\n",
    "\n",
    "        valid_predictions.append([epoch_i,logits])\n",
    "        valid_true_labels.append([epoch_i,label_ids])\n",
    "        \n",
    "        # Calculate the accuracy for this batch of test sentences.\n",
    "        tmp_eval_accuracy = flat_accuracy(logits, label_ids)\n",
    "        \n",
    "        # Accumulate the total accuracy.\n",
    "        eval_accuracy += tmp_eval_accuracy\n",
    "        # Track the number of batches\n",
    "        nb_eval_steps += 1\n",
    "    \n",
    "    # Calculate the average loss over the training data.\n",
    "    avg_valid_loss = eval_loss / len(validation_dataloader)   \n",
    "\n",
    "    # Report the final accuracy for this validation run.\n",
    "    loss_values_valid.append(avg_valid_loss)\n",
    "    print(\"  Accuracy: {0:.2f}\".format(eval_accuracy/nb_eval_steps))\n",
    "    print(\"  Average validation loss: {0:.2f}\".format(avg_valid_loss))\n",
    "    print(\"  Validation took: {:}\".format(format_time(time.time() - t0)))\n",
    "    \n",
    "print(\"\")\n",
    "print(\"Training complete!\")"
   ]
  },
  {
   "cell_type": "markdown",
   "metadata": {
    "papermill": {
     "duration": 0.092461,
     "end_time": "2021-05-18T11:47:58.130873",
     "exception": false,
     "start_time": "2021-05-18T11:47:58.038412",
     "status": "completed"
    },
    "tags": []
   },
   "source": [
    "### Plot Training and Validation Loss"
   ]
  },
  {
   "cell_type": "code",
   "execution_count": 53,
   "metadata": {
    "execution": {
     "iopub.execute_input": "2021-05-18T11:47:58.333969Z",
     "iopub.status.busy": "2021-05-18T11:47:58.333284Z",
     "iopub.status.idle": "2021-05-18T11:47:58.339158Z",
     "shell.execute_reply": "2021-05-18T11:47:58.338718Z"
    },
    "papermill": {
     "duration": 0.113936,
     "end_time": "2021-05-18T11:47:58.339259",
     "exception": false,
     "start_time": "2021-05-18T11:47:58.225323",
     "status": "completed"
    },
    "tags": []
   },
   "outputs": [
    {
     "data": {
      "text/html": [
       "<div>\n",
       "<style scoped>\n",
       "    .dataframe tbody tr th:only-of-type {\n",
       "        vertical-align: middle;\n",
       "    }\n",
       "\n",
       "    .dataframe tbody tr th {\n",
       "        vertical-align: top;\n",
       "    }\n",
       "\n",
       "    .dataframe thead th {\n",
       "        text-align: right;\n",
       "    }\n",
       "</style>\n",
       "<table border=\"1\" class=\"dataframe\">\n",
       "  <thead>\n",
       "    <tr style=\"text-align: right;\">\n",
       "      <th></th>\n",
       "      <th>epoch</th>\n",
       "      <th>variable</th>\n",
       "      <th>value</th>\n",
       "    </tr>\n",
       "  </thead>\n",
       "  <tbody>\n",
       "    <tr>\n",
       "      <th>0</th>\n",
       "      <td>0</td>\n",
       "      <td>Train Loss</td>\n",
       "      <td>0.293763</td>\n",
       "    </tr>\n",
       "    <tr>\n",
       "      <th>1</th>\n",
       "      <td>1</td>\n",
       "      <td>Train Loss</td>\n",
       "      <td>0.286741</td>\n",
       "    </tr>\n",
       "    <tr>\n",
       "      <th>2</th>\n",
       "      <td>0</td>\n",
       "      <td>Valid Loss</td>\n",
       "      <td>0.272478</td>\n",
       "    </tr>\n",
       "    <tr>\n",
       "      <th>3</th>\n",
       "      <td>1</td>\n",
       "      <td>Valid Loss</td>\n",
       "      <td>0.274121</td>\n",
       "    </tr>\n",
       "  </tbody>\n",
       "</table>\n",
       "</div>"
      ],
      "text/plain": [
       "   epoch    variable     value\n",
       "0      0  Train Loss  0.293763\n",
       "1      1  Train Loss  0.286741\n",
       "2      0  Valid Loss  0.272478\n",
       "3      1  Valid Loss  0.274121"
      ]
     },
     "execution_count": 53,
     "metadata": {},
     "output_type": "execute_result"
    }
   ],
   "source": [
    "df= pd.DataFrame({'epoch': range(0, epochs), 'Train Loss': loss_values, 'Valid Loss': loss_values_valid})\n",
    "df = pd.melt(df, id_vars=['epoch'], value_vars=['Train Loss', 'Valid Loss'])\n",
    "df"
   ]
  },
  {
   "cell_type": "code",
   "execution_count": 54,
   "metadata": {
    "execution": {
     "iopub.execute_input": "2021-05-18T11:47:58.530489Z",
     "iopub.status.busy": "2021-05-18T11:47:58.529715Z",
     "iopub.status.idle": "2021-05-18T11:48:01.570340Z",
     "shell.execute_reply": "2021-05-18T11:48:01.569436Z"
    },
    "papermill": {
     "duration": 3.139437,
     "end_time": "2021-05-18T11:48:01.570456",
     "exception": false,
     "start_time": "2021-05-18T11:47:58.431019",
     "status": "completed"
    },
    "tags": []
   },
   "outputs": [
    {
     "data": {
      "text/html": [
       "        <script type=\"text/javascript\">\n",
       "        window.PlotlyConfig = {MathJaxConfig: 'local'};\n",
       "        if (window.MathJax) {MathJax.Hub.Config({SVG: {font: \"STIX-Web\"}});}\n",
       "        if (typeof require !== 'undefined') {\n",
       "        require.undef(\"plotly\");\n",
       "        requirejs.config({\n",
       "            paths: {\n",
       "                'plotly': ['https://cdn.plot.ly/plotly-latest.min']\n",
       "            }\n",
       "        });\n",
       "        require(['plotly'], function(Plotly) {\n",
       "            window._Plotly = Plotly;\n",
       "        });\n",
       "        }\n",
       "        </script>\n",
       "        "
      ]
     },
     "metadata": {},
     "output_type": "display_data"
    },
    {
     "data": {
      "text/html": [
       "<div>                            <div id=\"8a8b7936-89ab-4966-8031-35800783e2bb\" class=\"plotly-graph-div\" style=\"height:525px; width:100%;\"></div>            <script type=\"text/javascript\">                require([\"plotly\"], function(Plotly) {                    window.PLOTLYENV=window.PLOTLYENV || {};                                    if (document.getElementById(\"8a8b7936-89ab-4966-8031-35800783e2bb\")) {                    Plotly.newPlot(                        \"8a8b7936-89ab-4966-8031-35800783e2bb\",                        [{\"hovertemplate\": \"variable=Train Loss<br>epoch=%{x}<br>value=%{y}<extra></extra>\", \"legendgroup\": \"Train Loss\", \"line\": {\"color\": \"#636efa\", \"dash\": \"solid\"}, \"mode\": \"lines\", \"name\": \"Train Loss\", \"orientation\": \"v\", \"showlegend\": true, \"type\": \"scatter\", \"x\": [0, 1], \"xaxis\": \"x\", \"y\": [0.29376318168680005, 0.2867411804388598], \"yaxis\": \"y\"}, {\"hovertemplate\": \"variable=Valid Loss<br>epoch=%{x}<br>value=%{y}<extra></extra>\", \"legendgroup\": \"Valid Loss\", \"line\": {\"color\": \"#EF553B\", \"dash\": \"solid\"}, \"mode\": \"lines\", \"name\": \"Valid Loss\", \"orientation\": \"v\", \"showlegend\": true, \"type\": \"scatter\", \"x\": [0, 1], \"xaxis\": \"x\", \"y\": [0.27247845320924513, 0.27412096750203185], \"yaxis\": \"y\"}],                        {\"legend\": {\"title\": {\"text\": \"variable\"}, \"tracegroupgap\": 0}, \"margin\": {\"t\": 60}, \"template\": {\"data\": {\"bar\": [{\"error_x\": {\"color\": \"#2a3f5f\"}, \"error_y\": {\"color\": \"#2a3f5f\"}, \"marker\": {\"line\": {\"color\": \"#E5ECF6\", \"width\": 0.5}}, \"type\": \"bar\"}], \"barpolar\": [{\"marker\": {\"line\": {\"color\": \"#E5ECF6\", \"width\": 0.5}}, \"type\": \"barpolar\"}], \"carpet\": [{\"aaxis\": {\"endlinecolor\": \"#2a3f5f\", \"gridcolor\": \"white\", \"linecolor\": \"white\", \"minorgridcolor\": \"white\", \"startlinecolor\": \"#2a3f5f\"}, \"baxis\": {\"endlinecolor\": \"#2a3f5f\", \"gridcolor\": \"white\", \"linecolor\": \"white\", \"minorgridcolor\": \"white\", \"startlinecolor\": \"#2a3f5f\"}, \"type\": \"carpet\"}], \"choropleth\": [{\"colorbar\": {\"outlinewidth\": 0, \"ticks\": \"\"}, \"type\": \"choropleth\"}], \"contour\": [{\"colorbar\": {\"outlinewidth\": 0, \"ticks\": \"\"}, \"colorscale\": [[0.0, \"#0d0887\"], [0.1111111111111111, \"#46039f\"], [0.2222222222222222, \"#7201a8\"], [0.3333333333333333, \"#9c179e\"], [0.4444444444444444, \"#bd3786\"], [0.5555555555555556, \"#d8576b\"], [0.6666666666666666, \"#ed7953\"], [0.7777777777777778, \"#fb9f3a\"], [0.8888888888888888, \"#fdca26\"], [1.0, \"#f0f921\"]], \"type\": \"contour\"}], \"contourcarpet\": [{\"colorbar\": {\"outlinewidth\": 0, \"ticks\": \"\"}, \"type\": \"contourcarpet\"}], \"heatmap\": [{\"colorbar\": {\"outlinewidth\": 0, \"ticks\": \"\"}, \"colorscale\": [[0.0, \"#0d0887\"], [0.1111111111111111, \"#46039f\"], [0.2222222222222222, \"#7201a8\"], [0.3333333333333333, \"#9c179e\"], [0.4444444444444444, \"#bd3786\"], [0.5555555555555556, \"#d8576b\"], [0.6666666666666666, \"#ed7953\"], [0.7777777777777778, \"#fb9f3a\"], [0.8888888888888888, \"#fdca26\"], [1.0, \"#f0f921\"]], \"type\": \"heatmap\"}], \"heatmapgl\": [{\"colorbar\": {\"outlinewidth\": 0, \"ticks\": \"\"}, \"colorscale\": [[0.0, \"#0d0887\"], [0.1111111111111111, \"#46039f\"], [0.2222222222222222, \"#7201a8\"], [0.3333333333333333, \"#9c179e\"], [0.4444444444444444, \"#bd3786\"], [0.5555555555555556, \"#d8576b\"], [0.6666666666666666, \"#ed7953\"], [0.7777777777777778, \"#fb9f3a\"], [0.8888888888888888, \"#fdca26\"], [1.0, \"#f0f921\"]], \"type\": \"heatmapgl\"}], \"histogram\": [{\"marker\": {\"colorbar\": {\"outlinewidth\": 0, \"ticks\": \"\"}}, \"type\": \"histogram\"}], \"histogram2d\": [{\"colorbar\": {\"outlinewidth\": 0, \"ticks\": \"\"}, \"colorscale\": [[0.0, \"#0d0887\"], [0.1111111111111111, \"#46039f\"], [0.2222222222222222, \"#7201a8\"], [0.3333333333333333, \"#9c179e\"], [0.4444444444444444, \"#bd3786\"], [0.5555555555555556, \"#d8576b\"], [0.6666666666666666, \"#ed7953\"], [0.7777777777777778, \"#fb9f3a\"], [0.8888888888888888, \"#fdca26\"], [1.0, \"#f0f921\"]], \"type\": \"histogram2d\"}], \"histogram2dcontour\": [{\"colorbar\": {\"outlinewidth\": 0, \"ticks\": \"\"}, \"colorscale\": [[0.0, \"#0d0887\"], [0.1111111111111111, \"#46039f\"], [0.2222222222222222, \"#7201a8\"], [0.3333333333333333, \"#9c179e\"], [0.4444444444444444, \"#bd3786\"], [0.5555555555555556, \"#d8576b\"], [0.6666666666666666, \"#ed7953\"], [0.7777777777777778, \"#fb9f3a\"], [0.8888888888888888, \"#fdca26\"], [1.0, \"#f0f921\"]], \"type\": \"histogram2dcontour\"}], \"mesh3d\": [{\"colorbar\": {\"outlinewidth\": 0, \"ticks\": \"\"}, \"type\": \"mesh3d\"}], \"parcoords\": [{\"line\": {\"colorbar\": {\"outlinewidth\": 0, \"ticks\": \"\"}}, \"type\": \"parcoords\"}], \"pie\": [{\"automargin\": true, \"type\": \"pie\"}], \"scatter\": [{\"marker\": {\"colorbar\": {\"outlinewidth\": 0, \"ticks\": \"\"}}, \"type\": \"scatter\"}], \"scatter3d\": [{\"line\": {\"colorbar\": {\"outlinewidth\": 0, \"ticks\": \"\"}}, \"marker\": {\"colorbar\": {\"outlinewidth\": 0, \"ticks\": \"\"}}, \"type\": \"scatter3d\"}], \"scattercarpet\": [{\"marker\": {\"colorbar\": {\"outlinewidth\": 0, \"ticks\": \"\"}}, \"type\": \"scattercarpet\"}], \"scattergeo\": [{\"marker\": {\"colorbar\": {\"outlinewidth\": 0, \"ticks\": \"\"}}, \"type\": \"scattergeo\"}], \"scattergl\": [{\"marker\": {\"colorbar\": {\"outlinewidth\": 0, \"ticks\": \"\"}}, \"type\": \"scattergl\"}], \"scattermapbox\": [{\"marker\": {\"colorbar\": {\"outlinewidth\": 0, \"ticks\": \"\"}}, \"type\": \"scattermapbox\"}], \"scatterpolar\": [{\"marker\": {\"colorbar\": {\"outlinewidth\": 0, \"ticks\": \"\"}}, \"type\": \"scatterpolar\"}], \"scatterpolargl\": [{\"marker\": {\"colorbar\": {\"outlinewidth\": 0, \"ticks\": \"\"}}, \"type\": \"scatterpolargl\"}], \"scatterternary\": [{\"marker\": {\"colorbar\": {\"outlinewidth\": 0, \"ticks\": \"\"}}, \"type\": \"scatterternary\"}], \"surface\": [{\"colorbar\": {\"outlinewidth\": 0, \"ticks\": \"\"}, \"colorscale\": [[0.0, \"#0d0887\"], [0.1111111111111111, \"#46039f\"], [0.2222222222222222, \"#7201a8\"], [0.3333333333333333, \"#9c179e\"], [0.4444444444444444, \"#bd3786\"], [0.5555555555555556, \"#d8576b\"], [0.6666666666666666, \"#ed7953\"], [0.7777777777777778, \"#fb9f3a\"], [0.8888888888888888, \"#fdca26\"], [1.0, \"#f0f921\"]], \"type\": \"surface\"}], \"table\": [{\"cells\": {\"fill\": {\"color\": \"#EBF0F8\"}, \"line\": {\"color\": \"white\"}}, \"header\": {\"fill\": {\"color\": \"#C8D4E3\"}, \"line\": {\"color\": \"white\"}}, \"type\": \"table\"}]}, \"layout\": {\"annotationdefaults\": {\"arrowcolor\": \"#2a3f5f\", \"arrowhead\": 0, \"arrowwidth\": 1}, \"autotypenumbers\": \"strict\", \"coloraxis\": {\"colorbar\": {\"outlinewidth\": 0, \"ticks\": \"\"}}, \"colorscale\": {\"diverging\": [[0, \"#8e0152\"], [0.1, \"#c51b7d\"], [0.2, \"#de77ae\"], [0.3, \"#f1b6da\"], [0.4, \"#fde0ef\"], [0.5, \"#f7f7f7\"], [0.6, \"#e6f5d0\"], [0.7, \"#b8e186\"], [0.8, \"#7fbc41\"], [0.9, \"#4d9221\"], [1, \"#276419\"]], \"sequential\": [[0.0, \"#0d0887\"], [0.1111111111111111, \"#46039f\"], [0.2222222222222222, \"#7201a8\"], [0.3333333333333333, \"#9c179e\"], [0.4444444444444444, \"#bd3786\"], [0.5555555555555556, \"#d8576b\"], [0.6666666666666666, \"#ed7953\"], [0.7777777777777778, \"#fb9f3a\"], [0.8888888888888888, \"#fdca26\"], [1.0, \"#f0f921\"]], \"sequentialminus\": [[0.0, \"#0d0887\"], [0.1111111111111111, \"#46039f\"], [0.2222222222222222, \"#7201a8\"], [0.3333333333333333, \"#9c179e\"], [0.4444444444444444, \"#bd3786\"], [0.5555555555555556, \"#d8576b\"], [0.6666666666666666, \"#ed7953\"], [0.7777777777777778, \"#fb9f3a\"], [0.8888888888888888, \"#fdca26\"], [1.0, \"#f0f921\"]]}, \"colorway\": [\"#636efa\", \"#EF553B\", \"#00cc96\", \"#ab63fa\", \"#FFA15A\", \"#19d3f3\", \"#FF6692\", \"#B6E880\", \"#FF97FF\", \"#FECB52\"], \"font\": {\"color\": \"#2a3f5f\"}, \"geo\": {\"bgcolor\": \"white\", \"lakecolor\": \"white\", \"landcolor\": \"#E5ECF6\", \"showlakes\": true, \"showland\": true, \"subunitcolor\": \"white\"}, \"hoverlabel\": {\"align\": \"left\"}, \"hovermode\": \"closest\", \"mapbox\": {\"style\": \"light\"}, \"paper_bgcolor\": \"white\", \"plot_bgcolor\": \"#E5ECF6\", \"polar\": {\"angularaxis\": {\"gridcolor\": \"white\", \"linecolor\": \"white\", \"ticks\": \"\"}, \"bgcolor\": \"#E5ECF6\", \"radialaxis\": {\"gridcolor\": \"white\", \"linecolor\": \"white\", \"ticks\": \"\"}}, \"scene\": {\"xaxis\": {\"backgroundcolor\": \"#E5ECF6\", \"gridcolor\": \"white\", \"gridwidth\": 2, \"linecolor\": \"white\", \"showbackground\": true, \"ticks\": \"\", \"zerolinecolor\": \"white\"}, \"yaxis\": {\"backgroundcolor\": \"#E5ECF6\", \"gridcolor\": \"white\", \"gridwidth\": 2, \"linecolor\": \"white\", \"showbackground\": true, \"ticks\": \"\", \"zerolinecolor\": \"white\"}, \"zaxis\": {\"backgroundcolor\": \"#E5ECF6\", \"gridcolor\": \"white\", \"gridwidth\": 2, \"linecolor\": \"white\", \"showbackground\": true, \"ticks\": \"\", \"zerolinecolor\": \"white\"}}, \"shapedefaults\": {\"line\": {\"color\": \"#2a3f5f\"}}, \"ternary\": {\"aaxis\": {\"gridcolor\": \"white\", \"linecolor\": \"white\", \"ticks\": \"\"}, \"baxis\": {\"gridcolor\": \"white\", \"linecolor\": \"white\", \"ticks\": \"\"}, \"bgcolor\": \"#E5ECF6\", \"caxis\": {\"gridcolor\": \"white\", \"linecolor\": \"white\", \"ticks\": \"\"}}, \"title\": {\"x\": 0.05}, \"xaxis\": {\"automargin\": true, \"gridcolor\": \"white\", \"linecolor\": \"white\", \"ticks\": \"\", \"title\": {\"standoff\": 15}, \"zerolinecolor\": \"white\", \"zerolinewidth\": 2}, \"yaxis\": {\"automargin\": true, \"gridcolor\": \"white\", \"linecolor\": \"white\", \"ticks\": \"\", \"title\": {\"standoff\": 15}, \"zerolinecolor\": \"white\", \"zerolinewidth\": 2}}}, \"title\": {\"text\": \"Training loss of the Model\"}, \"xaxis\": {\"anchor\": \"y\", \"domain\": [0.0, 1.0], \"title\": {\"text\": \"Epoch\"}}, \"yaxis\": {\"anchor\": \"x\", \"domain\": [0.0, 1.0], \"title\": {\"text\": \"Loss\"}}},                        {\"responsive\": true}                    ).then(function(){\n",
       "                            \n",
       "var gd = document.getElementById('8a8b7936-89ab-4966-8031-35800783e2bb');\n",
       "var x = new MutationObserver(function (mutations, observer) {{\n",
       "        var display = window.getComputedStyle(gd).display;\n",
       "        if (!display || display === 'none') {{\n",
       "            console.log([gd, 'removed!']);\n",
       "            Plotly.purge(gd);\n",
       "            observer.disconnect();\n",
       "        }}\n",
       "}});\n",
       "\n",
       "// Listen for the removal of the full notebook cells\n",
       "var notebookContainer = gd.closest('#notebook-container');\n",
       "if (notebookContainer) {{\n",
       "    x.observe(notebookContainer, {childList: true});\n",
       "}}\n",
       "\n",
       "// Listen for the clearing of the current output cell\n",
       "var outputEl = gd.closest('.output');\n",
       "if (outputEl) {{\n",
       "    x.observe(outputEl, {childList: true});\n",
       "}}\n",
       "\n",
       "                        })                };                });            </script>        </div>"
      ]
     },
     "metadata": {},
     "output_type": "display_data"
    }
   ],
   "source": [
    "import plotly.express as px\n",
    "\n",
    "fig = px.line(df, x='epoch', y='value', color = 'variable')\n",
    "fig.update_layout(title='Training loss of the Model',\n",
    "                   xaxis_title='Epoch',\n",
    "                   yaxis_title='Loss')\n",
    "fig.show()"
   ]
  },
  {
   "cell_type": "markdown",
   "metadata": {
    "papermill": {
     "duration": 0.102774,
     "end_time": "2021-05-18T11:48:01.772461",
     "exception": false,
     "start_time": "2021-05-18T11:48:01.669687",
     "status": "completed"
    },
    "tags": []
   },
   "source": [
    "### Extract Embeddings"
   ]
  },
  {
   "cell_type": "code",
   "execution_count": 55,
   "metadata": {
    "execution": {
     "iopub.execute_input": "2021-05-18T11:48:01.996164Z",
     "iopub.status.busy": "2021-05-18T11:48:01.995178Z",
     "iopub.status.idle": "2021-05-18T11:48:28.037669Z",
     "shell.execute_reply": "2021-05-18T11:48:28.036495Z"
    },
    "papermill": {
     "duration": 26.165262,
     "end_time": "2021-05-18T11:48:28.037817",
     "exception": false,
     "start_time": "2021-05-18T11:48:01.872555",
     "status": "completed"
    },
    "tags": []
   },
   "outputs": [
    {
     "name": "stdout",
     "output_type": "stream",
     "text": [
      "Extracting embeddinga for 4,771 train sentences...\n",
      "Extracting embeddinga for 1,957 validation sentences...\n"
     ]
    }
   ],
   "source": [
    "embeddings_tr, embeddings_vl = [], []\n",
    "# ========================================\n",
    "#               Train\n",
    "# ========================================\n",
    "# Extract embeddinga on train set\n",
    "print('Extracting embeddinga for {:,} train sentences...'.format(len(train_inputs)))\n",
    "# Put model in evaluation mode\n",
    "model.eval()\n",
    "# Tracking variables \n",
    "predictions_train , true_labels_train = [], []\n",
    "# Predict \n",
    "for batch in train_dataloader_sequential:\n",
    "    b_input_ids = batch[0].to(device)\n",
    "    b_input_mask = batch[1].to(device)\n",
    "    b_labels = batch[2].to(device)\n",
    "  \n",
    "  # Telling the model not to compute or store gradients, saving memory and \n",
    "  # speeding up prediction\n",
    "    with torch.no_grad():\n",
    "        # Forward pass, calculate logit predictions\n",
    "        outputs = model(b_input_ids, token_type_ids=None, \n",
    "                      attention_mask=b_input_mask, labels=b_labels)\n",
    "    logits = outputs[1]\n",
    "    # Embeddings extraction approach is to average the second to last hiden layer of each token producing a single 768 length vector\n",
    "    # https://mccormickml.com/2019/05/14/BERT-word-embeddings-tutorial/\n",
    "    hidden_state_tr = outputs[2]\n",
    "    token_vecs = hidden_state_tr[-2]\n",
    "    token_vecs_sentvecs = []\n",
    "    for token in token_vecs:\n",
    "        sentvecs = torch.mean(token, dim=0).detach().cpu().numpy()\n",
    "        token_vecs_sentvecs.append(sentvecs)\n",
    "    #features = hidden_state_tr[0][:,0,:].detach().cpu().numpy()\n",
    "    embeddings_tr.append([batch[3], token_vecs_sentvecs])\n",
    "    # Move logits and labels to CPU\n",
    "    logits = logits.detach().cpu().numpy()\n",
    "    label_ids = b_labels.to('cpu').numpy()\n",
    "\n",
    "    # Store predictions and true labels\n",
    "    predictions_train.append(logits)\n",
    "    true_labels_train.append(label_ids)\n",
    "# ========================================\n",
    "#               Validation\n",
    "# ========================================\n",
    "# Extract embeddinga on train set\n",
    "print('Extracting embeddinga for {:,} validation sentences...'.format(len(validation_inputs)))\n",
    "# Put model in evaluation mode\n",
    "model.eval()\n",
    "# Tracking variables \n",
    "predictions_valid, true_labels_valid = [], []\n",
    "# Predict \n",
    "for batch in validation_dataloader:\n",
    "    b_input_ids = batch[0].to(device)\n",
    "    b_input_mask = batch[1].to(device)\n",
    "    b_labels = batch[2].to(device)\n",
    "  \n",
    "  # Telling the model not to compute or store gradients, saving memory and \n",
    "  # speeding up prediction\n",
    "    with torch.no_grad():\n",
    "        # Forward pass, calculate logit predictions\n",
    "        outputs = model(b_input_ids, token_type_ids=None, \n",
    "                      attention_mask=b_input_mask, labels=b_labels)\n",
    "    logits = outputs[1]\n",
    "    # Embeddings extraction approach is to average the second to last hiden layer of each token producing a single 768 length vector\n",
    "    # https://mccormickml.com/2019/05/14/BERT-word-embeddings-tutorial/\n",
    "    hidden_state_vl = outputs[2]\n",
    "    token_vecs = hidden_state_vl[-2]\n",
    "    token_vecs_sentvecs = []\n",
    "    for token in token_vecs:\n",
    "        sentvecs = torch.mean(token, dim=0).detach().cpu().numpy()\n",
    "        token_vecs_sentvecs.append(sentvecs)\n",
    "    #features = hidden_state_vl[0][:,0,:].detach().cpu().numpy()\n",
    "    embeddings_vl.append([batch[3], token_vecs_sentvecs])\n",
    "    # Move logits and labels to CPU\n",
    "    logits = logits.detach().cpu().numpy()\n",
    "    label_ids = b_labels.to('cpu').numpy()\n",
    "\n",
    "    # Store predictions and true labels\n",
    "    predictions_valid.append(logits)\n",
    "    true_labels_valid.append(label_ids)"
   ]
  },
  {
   "cell_type": "markdown",
   "metadata": {
    "papermill": {
     "duration": 0.096589,
     "end_time": "2021-05-18T11:48:28.233137",
     "exception": false,
     "start_time": "2021-05-18T11:48:28.136548",
     "status": "completed"
    },
    "tags": []
   },
   "source": [
    "### Combine Embeddings with original DF and Output CM"
   ]
  },
  {
   "cell_type": "markdown",
   "metadata": {
    "papermill": {
     "duration": 0.100863,
     "end_time": "2021-05-18T11:48:28.434360",
     "exception": false,
     "start_time": "2021-05-18T11:48:28.333497",
     "status": "completed"
    },
    "tags": []
   },
   "source": [
    "Train"
   ]
  },
  {
   "cell_type": "code",
   "execution_count": 56,
   "metadata": {
    "execution": {
     "iopub.execute_input": "2021-05-18T11:48:28.680355Z",
     "iopub.status.busy": "2021-05-18T11:48:28.679390Z",
     "iopub.status.idle": "2021-05-18T11:48:30.191466Z",
     "shell.execute_reply": "2021-05-18T11:48:30.190845Z"
    },
    "papermill": {
     "duration": 1.655721,
     "end_time": "2021-05-18T11:48:30.191593",
     "exception": false,
     "start_time": "2021-05-18T11:48:28.535872",
     "status": "completed"
    },
    "tags": []
   },
   "outputs": [
    {
     "name": "stdout",
     "output_type": "stream",
     "text": [
      "Train Embeddings Extraction and Merge DONE\n"
     ]
    },
    {
     "data": {
      "text/html": [
       "<div>\n",
       "<style scoped>\n",
       "    .dataframe tbody tr th:only-of-type {\n",
       "        vertical-align: middle;\n",
       "    }\n",
       "\n",
       "    .dataframe tbody tr th {\n",
       "        vertical-align: top;\n",
       "    }\n",
       "\n",
       "    .dataframe thead th {\n",
       "        text-align: right;\n",
       "    }\n",
       "</style>\n",
       "<table border=\"1\" class=\"dataframe\">\n",
       "  <thead>\n",
       "    <tr style=\"text-align: right;\">\n",
       "      <th></th>\n",
       "      <th>user.id</th>\n",
       "      <th>suspended</th>\n",
       "      <th>0</th>\n",
       "      <th>1</th>\n",
       "      <th>2</th>\n",
       "      <th>3</th>\n",
       "      <th>4</th>\n",
       "      <th>5</th>\n",
       "      <th>6</th>\n",
       "      <th>7</th>\n",
       "      <th>...</th>\n",
       "      <th>758</th>\n",
       "      <th>759</th>\n",
       "      <th>760</th>\n",
       "      <th>761</th>\n",
       "      <th>762</th>\n",
       "      <th>763</th>\n",
       "      <th>764</th>\n",
       "      <th>765</th>\n",
       "      <th>766</th>\n",
       "      <th>767</th>\n",
       "    </tr>\n",
       "  </thead>\n",
       "  <tbody>\n",
       "    <tr>\n",
       "      <th>0</th>\n",
       "      <td>1.278122e+18</td>\n",
       "      <td>0</td>\n",
       "      <td>0.010064</td>\n",
       "      <td>-0.048662</td>\n",
       "      <td>0.070601</td>\n",
       "      <td>-0.071239</td>\n",
       "      <td>0.085240</td>\n",
       "      <td>0.061207</td>\n",
       "      <td>-0.057272</td>\n",
       "      <td>0.027331</td>\n",
       "      <td>...</td>\n",
       "      <td>0.036905</td>\n",
       "      <td>0.102491</td>\n",
       "      <td>0.073249</td>\n",
       "      <td>-0.180225</td>\n",
       "      <td>-0.041084</td>\n",
       "      <td>-0.084690</td>\n",
       "      <td>0.006477</td>\n",
       "      <td>-0.143907</td>\n",
       "      <td>-0.058813</td>\n",
       "      <td>0.031023</td>\n",
       "    </tr>\n",
       "    <tr>\n",
       "      <th>1</th>\n",
       "      <td>1.278129e+18</td>\n",
       "      <td>0</td>\n",
       "      <td>0.010202</td>\n",
       "      <td>-0.048409</td>\n",
       "      <td>0.070893</td>\n",
       "      <td>-0.070730</td>\n",
       "      <td>0.085616</td>\n",
       "      <td>0.061503</td>\n",
       "      <td>-0.057207</td>\n",
       "      <td>0.027502</td>\n",
       "      <td>...</td>\n",
       "      <td>0.037052</td>\n",
       "      <td>0.102352</td>\n",
       "      <td>0.072890</td>\n",
       "      <td>-0.180308</td>\n",
       "      <td>-0.040464</td>\n",
       "      <td>-0.084276</td>\n",
       "      <td>0.006571</td>\n",
       "      <td>-0.143546</td>\n",
       "      <td>-0.058993</td>\n",
       "      <td>0.030202</td>\n",
       "    </tr>\n",
       "    <tr>\n",
       "      <th>2</th>\n",
       "      <td>1.278132e+18</td>\n",
       "      <td>0</td>\n",
       "      <td>0.009947</td>\n",
       "      <td>-0.048466</td>\n",
       "      <td>0.070830</td>\n",
       "      <td>-0.070947</td>\n",
       "      <td>0.085431</td>\n",
       "      <td>0.061588</td>\n",
       "      <td>-0.056770</td>\n",
       "      <td>0.027282</td>\n",
       "      <td>...</td>\n",
       "      <td>0.037347</td>\n",
       "      <td>0.102505</td>\n",
       "      <td>0.072910</td>\n",
       "      <td>-0.180204</td>\n",
       "      <td>-0.040528</td>\n",
       "      <td>-0.084545</td>\n",
       "      <td>0.006488</td>\n",
       "      <td>-0.143508</td>\n",
       "      <td>-0.058862</td>\n",
       "      <td>0.030292</td>\n",
       "    </tr>\n",
       "    <tr>\n",
       "      <th>3</th>\n",
       "      <td>1.278132e+18</td>\n",
       "      <td>0</td>\n",
       "      <td>0.009862</td>\n",
       "      <td>-0.048427</td>\n",
       "      <td>0.070755</td>\n",
       "      <td>-0.070971</td>\n",
       "      <td>0.085475</td>\n",
       "      <td>0.061553</td>\n",
       "      <td>-0.056916</td>\n",
       "      <td>0.027357</td>\n",
       "      <td>...</td>\n",
       "      <td>0.037271</td>\n",
       "      <td>0.102645</td>\n",
       "      <td>0.073009</td>\n",
       "      <td>-0.180153</td>\n",
       "      <td>-0.040458</td>\n",
       "      <td>-0.084479</td>\n",
       "      <td>0.006622</td>\n",
       "      <td>-0.143448</td>\n",
       "      <td>-0.059024</td>\n",
       "      <td>0.030281</td>\n",
       "    </tr>\n",
       "    <tr>\n",
       "      <th>4</th>\n",
       "      <td>1.278138e+18</td>\n",
       "      <td>0</td>\n",
       "      <td>0.010198</td>\n",
       "      <td>-0.048082</td>\n",
       "      <td>0.071206</td>\n",
       "      <td>-0.070856</td>\n",
       "      <td>0.085203</td>\n",
       "      <td>0.061620</td>\n",
       "      <td>-0.057518</td>\n",
       "      <td>0.027714</td>\n",
       "      <td>...</td>\n",
       "      <td>0.037105</td>\n",
       "      <td>0.102261</td>\n",
       "      <td>0.072770</td>\n",
       "      <td>-0.180151</td>\n",
       "      <td>-0.040645</td>\n",
       "      <td>-0.084424</td>\n",
       "      <td>0.006620</td>\n",
       "      <td>-0.143477</td>\n",
       "      <td>-0.059033</td>\n",
       "      <td>0.030290</td>\n",
       "    </tr>\n",
       "  </tbody>\n",
       "</table>\n",
       "<p>5 rows × 770 columns</p>\n",
       "</div>"
      ],
      "text/plain": [
       "        user.id  suspended         0         1         2         3         4  \\\n",
       "0  1.278122e+18          0  0.010064 -0.048662  0.070601 -0.071239  0.085240   \n",
       "1  1.278129e+18          0  0.010202 -0.048409  0.070893 -0.070730  0.085616   \n",
       "2  1.278132e+18          0  0.009947 -0.048466  0.070830 -0.070947  0.085431   \n",
       "3  1.278132e+18          0  0.009862 -0.048427  0.070755 -0.070971  0.085475   \n",
       "4  1.278138e+18          0  0.010198 -0.048082  0.071206 -0.070856  0.085203   \n",
       "\n",
       "          5         6         7  ...       758       759       760       761  \\\n",
       "0  0.061207 -0.057272  0.027331  ...  0.036905  0.102491  0.073249 -0.180225   \n",
       "1  0.061503 -0.057207  0.027502  ...  0.037052  0.102352  0.072890 -0.180308   \n",
       "2  0.061588 -0.056770  0.027282  ...  0.037347  0.102505  0.072910 -0.180204   \n",
       "3  0.061553 -0.056916  0.027357  ...  0.037271  0.102645  0.073009 -0.180153   \n",
       "4  0.061620 -0.057518  0.027714  ...  0.037105  0.102261  0.072770 -0.180151   \n",
       "\n",
       "        762       763       764       765       766       767  \n",
       "0 -0.041084 -0.084690  0.006477 -0.143907 -0.058813  0.031023  \n",
       "1 -0.040464 -0.084276  0.006571 -0.143546 -0.058993  0.030202  \n",
       "2 -0.040528 -0.084545  0.006488 -0.143508 -0.058862  0.030292  \n",
       "3 -0.040458 -0.084479  0.006622 -0.143448 -0.059024  0.030281  \n",
       "4 -0.040645 -0.084424  0.006620 -0.143477 -0.059033  0.030290  \n",
       "\n",
       "[5 rows x 770 columns]"
      ]
     },
     "execution_count": 56,
     "metadata": {},
     "output_type": "execute_result"
    }
   ],
   "source": [
    "# Get embeddings for train\n",
    "p = [group for group in embeddings_tr]\n",
    "\n",
    "b = [item for sublist in [[list(t) for t in zip(sublist[0], sublist[1])] for sublist in p] for item in sublist]\n",
    "df = pd.DataFrame(b, columns = ['id', 'embeddings'])  \n",
    "\n",
    "bert_embeddings_df_train = pd.concat([df['id'], df['embeddings'].apply(pd.Series)], axis = 1)\n",
    "bert_embeddings_df_train['id'] = bert_embeddings_df_train['id'].apply(lambda x: x.item())\n",
    "#bert_embeddings_df_train = pd.merge(df_train.drop(['text'], axis=1), bert_embeddings_df_train, left_on = [\"id\"], right_on = [\"id\"])\n",
    "bert_embeddings_df_train = pd.merge(df_train.drop(['text'], axis=1), bert_embeddings_df_train.drop(['id'], axis=1), left_index=True, right_index=True)\n",
    "print('Train Embeddings Extraction and Merge DONE')\n",
    "bert_embeddings_df_train.head()"
   ]
  },
  {
   "cell_type": "code",
   "execution_count": 57,
   "metadata": {
    "execution": {
     "iopub.execute_input": "2021-05-18T11:48:30.407045Z",
     "iopub.status.busy": "2021-05-18T11:48:30.406395Z",
     "iopub.status.idle": "2021-05-18T11:48:30.684302Z",
     "shell.execute_reply": "2021-05-18T11:48:30.683164Z"
    },
    "papermill": {
     "duration": 0.390065,
     "end_time": "2021-05-18T11:48:30.684435",
     "exception": false,
     "start_time": "2021-05-18T11:48:30.294370",
     "status": "completed"
    },
    "tags": []
   },
   "outputs": [
    {
     "name": "stdout",
     "output_type": "stream",
     "text": [
      "Calculating Matthews Corr. Coef. for each batch...\n"
     ]
    },
    {
     "name": "stderr",
     "output_type": "stream",
     "text": [
      "/opt/conda/lib/python3.7/site-packages/sklearn/metrics/_classification.py:846: RuntimeWarning:\n",
      "\n",
      "invalid value encountered in double_scalars\n",
      "\n"
     ]
    }
   ],
   "source": [
    "from sklearn.metrics import matthews_corrcoef\n",
    "matthews_set = []\n",
    "# Evaluate each test batch using Matthew's correlation coefficient\n",
    "print('Calculating Matthews Corr. Coef. for each batch...')\n",
    "# For each input batch...\n",
    "for i in range(len(true_labels_train)):\n",
    "  \n",
    "    # The predictions for this batch are a 2-column ndarray (one column for \"0\" \n",
    "    # and one column for \"1\"). Pick the label with the highest value and turn this\n",
    "    # in to a list of 0s and 1s.\n",
    "    pred_labels_i = np.argmax(predictions_train[i], axis=1).flatten()\n",
    "\n",
    "    # Calculate and store the coef for this batch.  \n",
    "    matthews = matthews_corrcoef(true_labels_train[i], pred_labels_i)                \n",
    "    matthews_set.append(matthews)"
   ]
  },
  {
   "cell_type": "code",
   "execution_count": 58,
   "metadata": {
    "execution": {
     "iopub.execute_input": "2021-05-18T11:48:30.909053Z",
     "iopub.status.busy": "2021-05-18T11:48:30.908083Z",
     "iopub.status.idle": "2021-05-18T11:48:30.928742Z",
     "shell.execute_reply": "2021-05-18T11:48:30.929339Z"
    },
    "papermill": {
     "duration": 0.130626,
     "end_time": "2021-05-18T11:48:30.929486",
     "exception": false,
     "start_time": "2021-05-18T11:48:30.798860",
     "status": "completed"
    },
    "tags": []
   },
   "outputs": [
    {
     "name": "stdout",
     "output_type": "stream",
     "text": [
      "MCC: 0.000\n"
     ]
    }
   ],
   "source": [
    "# Combine the predictions for each batch into a single list of 0s and 1s.\n",
    "flat_predictions = [item for sublist in predictions_train for item in sublist]\n",
    "flat_predictions = np.argmax(flat_predictions, axis=1).flatten()\n",
    "# Combine the correct labels for each batch into a single list.\n",
    "flat_true_labels = [item for sublist in true_labels_train for item in sublist]\n",
    "# Calculate the MCC\n",
    "mcc = matthews_corrcoef(flat_true_labels, flat_predictions)\n",
    "print('MCC: %.3f' % mcc)"
   ]
  },
  {
   "cell_type": "code",
   "execution_count": 59,
   "metadata": {
    "execution": {
     "iopub.execute_input": "2021-05-18T11:48:31.145086Z",
     "iopub.status.busy": "2021-05-18T11:48:31.144126Z",
     "iopub.status.idle": "2021-05-18T11:48:31.160889Z",
     "shell.execute_reply": "2021-05-18T11:48:31.161552Z"
    },
    "papermill": {
     "duration": 0.126124,
     "end_time": "2021-05-18T11:48:31.161743",
     "exception": false,
     "start_time": "2021-05-18T11:48:31.035619",
     "status": "completed"
    },
    "tags": []
   },
   "outputs": [
    {
     "name": "stdout",
     "output_type": "stream",
     "text": [
      "              precision    recall  f1-score   support\n",
      "\n",
      "           0       0.92      1.00      0.96      4374\n",
      "           1       0.00      0.00      0.00       397\n",
      "\n",
      "    accuracy                           0.92      4771\n",
      "   macro avg       0.46      0.50      0.48      4771\n",
      "weighted avg       0.84      0.92      0.88      4771\n",
      "\n"
     ]
    },
    {
     "name": "stderr",
     "output_type": "stream",
     "text": [
      "/opt/conda/lib/python3.7/site-packages/sklearn/metrics/_classification.py:1221: UndefinedMetricWarning:\n",
      "\n",
      "Precision and F-score are ill-defined and being set to 0.0 in labels with no predicted samples. Use `zero_division` parameter to control this behavior.\n",
      "\n"
     ]
    }
   ],
   "source": [
    "from sklearn.metrics import classification_report,confusion_matrix\n",
    "report = classification_report(flat_true_labels, flat_predictions)\n",
    "print(report)"
   ]
  },
  {
   "cell_type": "code",
   "execution_count": 60,
   "metadata": {
    "execution": {
     "iopub.execute_input": "2021-05-18T11:48:31.372357Z",
     "iopub.status.busy": "2021-05-18T11:48:31.371444Z",
     "iopub.status.idle": "2021-05-18T11:48:31.373896Z",
     "shell.execute_reply": "2021-05-18T11:48:31.374381Z"
    },
    "papermill": {
     "duration": 0.109606,
     "end_time": "2021-05-18T11:48:31.374510",
     "exception": false,
     "start_time": "2021-05-18T11:48:31.264904",
     "status": "completed"
    },
    "tags": []
   },
   "outputs": [],
   "source": [
    "def plot_roc_curve(fpr, tpr, label=None):\n",
    "    plt.plot(fpr, tpr, linewidth=2, label=label)\n",
    "    plt.plot([0, 1], [0, 1], 'k--') # dashed diagonal\n",
    "    plt.axis([0, 1, 0, 1])                                    # Not shown in the book\n",
    "    plt.xlabel('False Positive Rate (Fall-Out)', fontsize=16) # Not shown\n",
    "    plt.ylabel('True Positive Rate (Recall)', fontsize=16)    # Not shown\n",
    "    plt.grid(True) "
   ]
  },
  {
   "cell_type": "code",
   "execution_count": 61,
   "metadata": {
    "execution": {
     "iopub.execute_input": "2021-05-18T11:48:31.580982Z",
     "iopub.status.busy": "2021-05-18T11:48:31.580196Z",
     "iopub.status.idle": "2021-05-18T11:48:31.791415Z",
     "shell.execute_reply": "2021-05-18T11:48:31.791891Z"
    },
    "papermill": {
     "duration": 0.318155,
     "end_time": "2021-05-18T11:48:31.792027",
     "exception": false,
     "start_time": "2021-05-18T11:48:31.473872",
     "status": "completed"
    },
    "tags": []
   },
   "outputs": [
    {
     "data": {
      "image/png": "[encoded data removed]",
      "text/plain": [
       "<Figure size 576x432 with 1 Axes>"
      ]
     },
     "metadata": {
      "needs_background": "light"
     },
     "output_type": "display_data"
    }
   ],
   "source": [
    "fpr, tpr, thresholds = roc_curve(flat_true_labels, flat_predictions)\n",
    "plt.figure(figsize=(8, 6))                         # Not shown\n",
    "plot_roc_curve(fpr, tpr)\n",
    "plt.plot([4.837e-3, 4.837e-3], [0., 0.4368], \"r:\") # Not shown\n",
    "plt.plot([0.0, 4.837e-3], [0.4368, 0.4368], \"r:\")  # Not shown\n",
    "plt.plot([4.837e-3], [0.4368], \"ro\")               # Not shown\n",
    "plt.show()"
   ]
  },
  {
   "cell_type": "code",
   "execution_count": 62,
   "metadata": {
    "execution": {
     "iopub.execute_input": "2021-05-18T11:48:32.001726Z",
     "iopub.status.busy": "2021-05-18T11:48:32.000636Z",
     "iopub.status.idle": "2021-05-18T11:48:32.007793Z",
     "shell.execute_reply": "2021-05-18T11:48:32.008351Z"
    },
    "papermill": {
     "duration": 0.115362,
     "end_time": "2021-05-18T11:48:32.008480",
     "exception": false,
     "start_time": "2021-05-18T11:48:31.893118",
     "status": "completed"
    },
    "tags": []
   },
   "outputs": [
    {
     "data": {
      "text/plain": [
       "0.5"
      ]
     },
     "execution_count": 62,
     "metadata": {},
     "output_type": "execute_result"
    }
   ],
   "source": [
    "roc_auc_score(flat_true_labels, flat_predictions)"
   ]
  },
  {
   "cell_type": "markdown",
   "metadata": {
    "papermill": {
     "duration": 0.101633,
     "end_time": "2021-05-18T11:48:32.214239",
     "exception": false,
     "start_time": "2021-05-18T11:48:32.112606",
     "status": "completed"
    },
    "tags": []
   },
   "source": [
    "Valid"
   ]
  },
  {
   "cell_type": "code",
   "execution_count": 63,
   "metadata": {
    "execution": {
     "iopub.execute_input": "2021-05-18T11:48:32.426948Z",
     "iopub.status.busy": "2021-05-18T11:48:32.425941Z",
     "iopub.status.idle": "2021-05-18T11:48:32.891073Z",
     "shell.execute_reply": "2021-05-18T11:48:32.891515Z"
    },
    "papermill": {
     "duration": 0.575755,
     "end_time": "2021-05-18T11:48:32.891682",
     "exception": false,
     "start_time": "2021-05-18T11:48:32.315927",
     "status": "completed"
    },
    "tags": []
   },
   "outputs": [
    {
     "name": "stdout",
     "output_type": "stream",
     "text": [
      "Valid Embeddings Extraction and Merge DONE.\n"
     ]
    },
    {
     "data": {
      "text/html": [
       "<div>\n",
       "<style scoped>\n",
       "    .dataframe tbody tr th:only-of-type {\n",
       "        vertical-align: middle;\n",
       "    }\n",
       "\n",
       "    .dataframe tbody tr th {\n",
       "        vertical-align: top;\n",
       "    }\n",
       "\n",
       "    .dataframe thead th {\n",
       "        text-align: right;\n",
       "    }\n",
       "</style>\n",
       "<table border=\"1\" class=\"dataframe\">\n",
       "  <thead>\n",
       "    <tr style=\"text-align: right;\">\n",
       "      <th></th>\n",
       "      <th>user.id</th>\n",
       "      <th>suspended</th>\n",
       "      <th>0</th>\n",
       "      <th>1</th>\n",
       "      <th>2</th>\n",
       "      <th>3</th>\n",
       "      <th>4</th>\n",
       "      <th>5</th>\n",
       "      <th>6</th>\n",
       "      <th>7</th>\n",
       "      <th>...</th>\n",
       "      <th>758</th>\n",
       "      <th>759</th>\n",
       "      <th>760</th>\n",
       "      <th>761</th>\n",
       "      <th>762</th>\n",
       "      <th>763</th>\n",
       "      <th>764</th>\n",
       "      <th>765</th>\n",
       "      <th>766</th>\n",
       "      <th>767</th>\n",
       "    </tr>\n",
       "  </thead>\n",
       "  <tbody>\n",
       "    <tr>\n",
       "      <th>0</th>\n",
       "      <td>1.278120e+18</td>\n",
       "      <td>1</td>\n",
       "      <td>0.010363</td>\n",
       "      <td>-0.048464</td>\n",
       "      <td>0.070922</td>\n",
       "      <td>-0.070857</td>\n",
       "      <td>0.085623</td>\n",
       "      <td>0.061585</td>\n",
       "      <td>-0.057252</td>\n",
       "      <td>0.027435</td>\n",
       "      <td>...</td>\n",
       "      <td>0.037334</td>\n",
       "      <td>0.102237</td>\n",
       "      <td>0.073004</td>\n",
       "      <td>-0.180401</td>\n",
       "      <td>-0.040452</td>\n",
       "      <td>-0.084175</td>\n",
       "      <td>0.006600</td>\n",
       "      <td>-0.143480</td>\n",
       "      <td>-0.058770</td>\n",
       "      <td>0.030264</td>\n",
       "    </tr>\n",
       "    <tr>\n",
       "      <th>1</th>\n",
       "      <td>1.278120e+18</td>\n",
       "      <td>1</td>\n",
       "      <td>0.010046</td>\n",
       "      <td>-0.048130</td>\n",
       "      <td>0.070977</td>\n",
       "      <td>-0.070858</td>\n",
       "      <td>0.085698</td>\n",
       "      <td>0.061547</td>\n",
       "      <td>-0.057379</td>\n",
       "      <td>0.027473</td>\n",
       "      <td>...</td>\n",
       "      <td>0.037193</td>\n",
       "      <td>0.102257</td>\n",
       "      <td>0.072940</td>\n",
       "      <td>-0.180256</td>\n",
       "      <td>-0.040605</td>\n",
       "      <td>-0.084344</td>\n",
       "      <td>0.006595</td>\n",
       "      <td>-0.143577</td>\n",
       "      <td>-0.058987</td>\n",
       "      <td>0.030342</td>\n",
       "    </tr>\n",
       "    <tr>\n",
       "      <th>2</th>\n",
       "      <td>1.278120e+18</td>\n",
       "      <td>1</td>\n",
       "      <td>0.010207</td>\n",
       "      <td>-0.048355</td>\n",
       "      <td>0.071010</td>\n",
       "      <td>-0.070758</td>\n",
       "      <td>0.085596</td>\n",
       "      <td>0.061632</td>\n",
       "      <td>-0.057339</td>\n",
       "      <td>0.027481</td>\n",
       "      <td>...</td>\n",
       "      <td>0.037190</td>\n",
       "      <td>0.102264</td>\n",
       "      <td>0.072914</td>\n",
       "      <td>-0.180268</td>\n",
       "      <td>-0.040389</td>\n",
       "      <td>-0.084358</td>\n",
       "      <td>0.006621</td>\n",
       "      <td>-0.143457</td>\n",
       "      <td>-0.058912</td>\n",
       "      <td>0.030277</td>\n",
       "    </tr>\n",
       "    <tr>\n",
       "      <th>3</th>\n",
       "      <td>1.278120e+18</td>\n",
       "      <td>1</td>\n",
       "      <td>0.010245</td>\n",
       "      <td>-0.048439</td>\n",
       "      <td>0.070807</td>\n",
       "      <td>-0.070773</td>\n",
       "      <td>0.085688</td>\n",
       "      <td>0.061460</td>\n",
       "      <td>-0.057095</td>\n",
       "      <td>0.027423</td>\n",
       "      <td>...</td>\n",
       "      <td>0.037253</td>\n",
       "      <td>0.102392</td>\n",
       "      <td>0.072897</td>\n",
       "      <td>-0.180340</td>\n",
       "      <td>-0.040403</td>\n",
       "      <td>-0.084287</td>\n",
       "      <td>0.006527</td>\n",
       "      <td>-0.143631</td>\n",
       "      <td>-0.058888</td>\n",
       "      <td>0.030331</td>\n",
       "    </tr>\n",
       "    <tr>\n",
       "      <th>4</th>\n",
       "      <td>1.278120e+18</td>\n",
       "      <td>1</td>\n",
       "      <td>0.010218</td>\n",
       "      <td>-0.048418</td>\n",
       "      <td>0.070966</td>\n",
       "      <td>-0.070844</td>\n",
       "      <td>0.085499</td>\n",
       "      <td>0.061487</td>\n",
       "      <td>-0.057189</td>\n",
       "      <td>0.027472</td>\n",
       "      <td>...</td>\n",
       "      <td>0.037271</td>\n",
       "      <td>0.102307</td>\n",
       "      <td>0.072969</td>\n",
       "      <td>-0.180286</td>\n",
       "      <td>-0.040419</td>\n",
       "      <td>-0.084260</td>\n",
       "      <td>0.006558</td>\n",
       "      <td>-0.143526</td>\n",
       "      <td>-0.058822</td>\n",
       "      <td>0.030307</td>\n",
       "    </tr>\n",
       "  </tbody>\n",
       "</table>\n",
       "<p>5 rows × 770 columns</p>\n",
       "</div>"
      ],
      "text/plain": [
       "        user.id  suspended         0         1         2         3         4  \\\n",
       "0  1.278120e+18          1  0.010363 -0.048464  0.070922 -0.070857  0.085623   \n",
       "1  1.278120e+18          1  0.010046 -0.048130  0.070977 -0.070858  0.085698   \n",
       "2  1.278120e+18          1  0.010207 -0.048355  0.071010 -0.070758  0.085596   \n",
       "3  1.278120e+18          1  0.010245 -0.048439  0.070807 -0.070773  0.085688   \n",
       "4  1.278120e+18          1  0.010218 -0.048418  0.070966 -0.070844  0.085499   \n",
       "\n",
       "          5         6         7  ...       758       759       760       761  \\\n",
       "0  0.061585 -0.057252  0.027435  ...  0.037334  0.102237  0.073004 -0.180401   \n",
       "1  0.061547 -0.057379  0.027473  ...  0.037193  0.102257  0.072940 -0.180256   \n",
       "2  0.061632 -0.057339  0.027481  ...  0.037190  0.102264  0.072914 -0.180268   \n",
       "3  0.061460 -0.057095  0.027423  ...  0.037253  0.102392  0.072897 -0.180340   \n",
       "4  0.061487 -0.057189  0.027472  ...  0.037271  0.102307  0.072969 -0.180286   \n",
       "\n",
       "        762       763       764       765       766       767  \n",
       "0 -0.040452 -0.084175  0.006600 -0.143480 -0.058770  0.030264  \n",
       "1 -0.040605 -0.084344  0.006595 -0.143577 -0.058987  0.030342  \n",
       "2 -0.040389 -0.084358  0.006621 -0.143457 -0.058912  0.030277  \n",
       "3 -0.040403 -0.084287  0.006527 -0.143631 -0.058888  0.030331  \n",
       "4 -0.040419 -0.084260  0.006558 -0.143526 -0.058822  0.030307  \n",
       "\n",
       "[5 rows x 770 columns]"
      ]
     },
     "execution_count": 63,
     "metadata": {},
     "output_type": "execute_result"
    }
   ],
   "source": [
    "# Get embeddings for valid\n",
    "p = [group for group in embeddings_vl]\n",
    "\n",
    "b = [item for sublist in [[list(t) for t in zip(sublist[0], sublist[1])] for sublist in p] for item in sublist]\n",
    "df = pd.DataFrame(b, columns = ['id', 'embeddings'])  \n",
    "\n",
    "bert_embeddings_df_valid = pd.concat([df['id'], df['embeddings'].apply(pd.Series)], axis = 1)\n",
    "bert_embeddings_df_valid['id'] = bert_embeddings_df_valid['id'].apply(lambda x: x.item())\n",
    "#bert_embeddings_df_valid = pd.merge(df_valid.drop(['text'], axis=1), bert_embeddings_df_valid, left_on = [\"id\"], right_on = [\"id\"])\n",
    "bert_embeddings_df_valid = pd.merge(df_valid.drop(['text'], axis=1), bert_embeddings_df_valid.drop(['id'], axis=1), left_index=True, right_index=True)\n",
    "print('Valid Embeddings Extraction and Merge DONE.')\n",
    "bert_embeddings_df_valid.head()"
   ]
  },
  {
   "cell_type": "code",
   "execution_count": 64,
   "metadata": {
    "execution": {
     "iopub.execute_input": "2021-05-18T11:48:33.107423Z",
     "iopub.status.busy": "2021-05-18T11:48:33.106266Z",
     "iopub.status.idle": "2021-05-18T11:48:33.215127Z",
     "shell.execute_reply": "2021-05-18T11:48:33.216041Z"
    },
    "papermill": {
     "duration": 0.222061,
     "end_time": "2021-05-18T11:48:33.216261",
     "exception": false,
     "start_time": "2021-05-18T11:48:32.994200",
     "status": "completed"
    },
    "tags": []
   },
   "outputs": [
    {
     "name": "stdout",
     "output_type": "stream",
     "text": [
      "Calculating Matthews Corr. Coef. for each batch...\n"
     ]
    },
    {
     "name": "stderr",
     "output_type": "stream",
     "text": [
      "/opt/conda/lib/python3.7/site-packages/sklearn/metrics/_classification.py:846: RuntimeWarning:\n",
      "\n",
      "invalid value encountered in double_scalars\n",
      "\n"
     ]
    }
   ],
   "source": [
    "from sklearn.metrics import matthews_corrcoef\n",
    "matthews_set = []\n",
    "# Evaluate each test batch using Matthew's correlation coefficient\n",
    "print('Calculating Matthews Corr. Coef. for each batch...')\n",
    "# For each input batch...\n",
    "for i in range(len(true_labels_valid)):\n",
    "  \n",
    "    # The predictions for this batch are a 2-column ndarray (one column for \"0\" \n",
    "    # and one column for \"1\"). Pick the label with the highest value and turn this\n",
    "    # in to a list of 0s and 1s.\n",
    "    pred_labels_i = np.argmax(predictions_valid[i], axis=1).flatten()\n",
    "\n",
    "    # Calculate and store the coef for this batch.  \n",
    "    matthews = matthews_corrcoef(true_labels_valid[i], pred_labels_i)                \n",
    "    matthews_set.append(matthews)"
   ]
  },
  {
   "cell_type": "code",
   "execution_count": 65,
   "metadata": {
    "execution": {
     "iopub.execute_input": "2021-05-18T11:48:33.451184Z",
     "iopub.status.busy": "2021-05-18T11:48:33.450206Z",
     "iopub.status.idle": "2021-05-18T11:48:33.464629Z",
     "shell.execute_reply": "2021-05-18T11:48:33.465398Z"
    },
    "papermill": {
     "duration": 0.131878,
     "end_time": "2021-05-18T11:48:33.465651",
     "exception": false,
     "start_time": "2021-05-18T11:48:33.333773",
     "status": "completed"
    },
    "tags": []
   },
   "outputs": [
    {
     "name": "stdout",
     "output_type": "stream",
     "text": [
      "MCC: 0.000\n"
     ]
    }
   ],
   "source": [
    "# Combine the predictions for each batch into a single list of 0s and 1s.\n",
    "flat_predictions = [item for sublist in predictions_valid for item in sublist]\n",
    "flat_predictions = np.argmax(flat_predictions, axis=1).flatten()\n",
    "# Combine the correct labels for each batch into a single list.\n",
    "flat_true_labels = [item for sublist in true_labels_valid for item in sublist]\n",
    "# Calculate the MCC\n",
    "mcc = matthews_corrcoef(flat_true_labels, flat_predictions)\n",
    "print('MCC: %.3f' % mcc)"
   ]
  },
  {
   "cell_type": "code",
   "execution_count": 66,
   "metadata": {
    "execution": {
     "iopub.execute_input": "2021-05-18T11:48:33.705748Z",
     "iopub.status.busy": "2021-05-18T11:48:33.704628Z",
     "iopub.status.idle": "2021-05-18T11:48:33.717143Z",
     "shell.execute_reply": "2021-05-18T11:48:33.717637Z"
    },
    "papermill": {
     "duration": 0.129777,
     "end_time": "2021-05-18T11:48:33.717792",
     "exception": false,
     "start_time": "2021-05-18T11:48:33.588015",
     "status": "completed"
    },
    "tags": []
   },
   "outputs": [
    {
     "name": "stdout",
     "output_type": "stream",
     "text": [
      "              precision    recall  f1-score   support\n",
      "\n",
      "           0       0.92      1.00      0.96      1805\n",
      "           1       0.00      0.00      0.00       152\n",
      "\n",
      "    accuracy                           0.92      1957\n",
      "   macro avg       0.46      0.50      0.48      1957\n",
      "weighted avg       0.85      0.92      0.89      1957\n",
      "\n"
     ]
    },
    {
     "name": "stderr",
     "output_type": "stream",
     "text": [
      "/opt/conda/lib/python3.7/site-packages/sklearn/metrics/_classification.py:1221: UndefinedMetricWarning:\n",
      "\n",
      "Precision and F-score are ill-defined and being set to 0.0 in labels with no predicted samples. Use `zero_division` parameter to control this behavior.\n",
      "\n"
     ]
    }
   ],
   "source": [
    "from sklearn.metrics import classification_report,confusion_matrix\n",
    "report = classification_report(flat_true_labels, flat_predictions)\n",
    "print(report)"
   ]
  },
  {
   "cell_type": "code",
   "execution_count": 67,
   "metadata": {
    "execution": {
     "iopub.execute_input": "2021-05-18T11:48:33.943523Z",
     "iopub.status.busy": "2021-05-18T11:48:33.942470Z",
     "iopub.status.idle": "2021-05-18T11:48:34.111685Z",
     "shell.execute_reply": "2021-05-18T11:48:34.112223Z"
    },
    "papermill": {
     "duration": 0.286251,
     "end_time": "2021-05-18T11:48:34.112372",
     "exception": false,
     "start_time": "2021-05-18T11:48:33.826121",
     "status": "completed"
    },
    "tags": []
   },
   "outputs": [
    {
     "data": {
      "image/png": "[encoded data removed]",
      "text/plain": [
       "<Figure size 576x432 with 1 Axes>"
      ]
     },
     "metadata": {
      "needs_background": "light"
     },
     "output_type": "display_data"
    }
   ],
   "source": [
    "fpr, tpr, thresholds = roc_curve(flat_true_labels, flat_predictions)\n",
    "plt.figure(figsize=(8, 6))                         # Not shown\n",
    "plot_roc_curve(fpr, tpr)\n",
    "plt.plot([4.837e-3, 4.837e-3], [0., 0.4368], \"r:\") # Not shown\n",
    "plt.plot([0.0, 4.837e-3], [0.4368, 0.4368], \"r:\")  # Not shown\n",
    "plt.plot([4.837e-3], [0.4368], \"ro\")               # Not shown\n",
    "plt.show()"
   ]
  },
  {
   "cell_type": "code",
   "execution_count": 68,
   "metadata": {
    "execution": {
     "iopub.execute_input": "2021-05-18T11:48:34.335243Z",
     "iopub.status.busy": "2021-05-18T11:48:34.334236Z",
     "iopub.status.idle": "2021-05-18T11:48:34.342157Z",
     "shell.execute_reply": "2021-05-18T11:48:34.341617Z"
    },
    "papermill": {
     "duration": 0.12301,
     "end_time": "2021-05-18T11:48:34.342289",
     "exception": false,
     "start_time": "2021-05-18T11:48:34.219279",
     "status": "completed"
    },
    "tags": []
   },
   "outputs": [
    {
     "data": {
      "text/plain": [
       "0.5"
      ]
     },
     "execution_count": 68,
     "metadata": {},
     "output_type": "execute_result"
    }
   ],
   "source": [
    "roc_auc_score(flat_true_labels, flat_predictions)"
   ]
  },
  {
   "cell_type": "markdown",
   "metadata": {
    "papermill": {
     "duration": 0.107591,
     "end_time": "2021-05-18T11:48:34.560471",
     "exception": false,
     "start_time": "2021-05-18T11:48:34.452880",
     "status": "completed"
    },
    "tags": []
   },
   "source": [
    "### Export Models and Embeddings"
   ]
  },
  {
   "cell_type": "code",
   "execution_count": 69,
   "metadata": {
    "execution": {
     "iopub.execute_input": "2021-05-18T11:48:34.795388Z",
     "iopub.status.busy": "2021-05-18T11:48:34.794457Z",
     "iopub.status.idle": "2021-05-18T11:48:34.797156Z",
     "shell.execute_reply": "2021-05-18T11:48:34.797602Z"
    },
    "papermill": {
     "duration": 0.131304,
     "end_time": "2021-05-18T11:48:34.797744",
     "exception": false,
     "start_time": "2021-05-18T11:48:34.666440",
     "status": "completed"
    },
    "tags": []
   },
   "outputs": [],
   "source": [
    "bert_embeddings_df_train['user.id'] = bert_embeddings_df_train['user.id'].astype('str')\n",
    "bert_embeddings_df_train['user.id'] = bert_embeddings_df_train['user.id'].apply(lambda x: \"'\" + x + \"'\")\n",
    "bert_embeddings_df_valid['user.id'] = bert_embeddings_df_valid['user.id'].astype('str')\n",
    "bert_embeddings_df_valid['user.id'] = bert_embeddings_df_valid['user.id'].apply(lambda x: \"'\" + x + \"'\")"
   ]
  },
  {
   "cell_type": "code",
   "execution_count": 70,
   "metadata": {
    "execution": {
     "iopub.execute_input": "2021-05-18T11:48:35.054844Z",
     "iopub.status.busy": "2021-05-18T11:48:35.053862Z",
     "iopub.status.idle": "2021-05-18T11:48:35.060920Z",
     "shell.execute_reply": "2021-05-18T11:48:35.061795Z"
    },
    "papermill": {
     "duration": 0.158631,
     "end_time": "2021-05-18T11:48:35.061973",
     "exception": false,
     "start_time": "2021-05-18T11:48:34.903342",
     "status": "completed"
    },
    "tags": []
   },
   "outputs": [
    {
     "name": "stdout",
     "output_type": "stream",
     "text": [
      "full train: 4771 unique ids train: 1516 full valid: 1957 unique ids valid: 550\n"
     ]
    }
   ],
   "source": [
    "print(\"full train:\", len(bert_embeddings_df_train), \"unique ids train:\", len(bert_embeddings_df_train['user.id'].unique()), \n",
    "      \"full valid:\", len(bert_embeddings_df_valid), \"unique ids valid:\", len(bert_embeddings_df_valid['user.id'].unique()))"
   ]
  },
  {
   "cell_type": "markdown",
   "metadata": {
    "papermill": {
     "duration": 0.105149,
     "end_time": "2021-05-18T11:48:35.270912",
     "exception": false,
     "start_time": "2021-05-18T11:48:35.165763",
     "status": "completed"
    },
    "tags": []
   },
   "source": [
    "Save"
   ]
  },
  {
   "cell_type": "code",
   "execution_count": 71,
   "metadata": {
    "execution": {
     "iopub.execute_input": "2021-05-18T11:48:35.496286Z",
     "iopub.status.busy": "2021-05-18T11:48:35.495329Z",
     "iopub.status.idle": "2021-05-18T11:48:37.800541Z",
     "shell.execute_reply": "2021-05-18T11:48:37.799455Z"
    },
    "papermill": {
     "duration": 2.418748,
     "end_time": "2021-05-18T11:48:37.800653",
     "exception": false,
     "start_time": "2021-05-18T11:48:35.381905",
     "status": "completed"
    },
    "tags": []
   },
   "outputs": [
    {
     "data": {
      "text/plain": [
       "('./Multilingual_Tweettext_mode/tokenizer_config.json',\n",
       " './Multilingual_Tweettext_mode/special_tokens_map.json',\n",
       " './Multilingual_Tweettext_mode/vocab.txt',\n",
       " './Multilingual_Tweettext_mode/added_tokens.json')"
      ]
     },
     "execution_count": 71,
     "metadata": {},
     "output_type": "execute_result"
    }
   ],
   "source": [
    "model_to_save = model.module if hasattr(model, \"module\") else model # Take care of distributed/parallel training\n",
    "model_to_save.save_pretrained('./Multilingual_Tweettext_mode/')\n",
    "tokenizer.save_pretrained('./Multilingual_Tweettext_mode/')"
   ]
  },
  {
   "cell_type": "code",
   "execution_count": 72,
   "metadata": {
    "execution": {
     "iopub.execute_input": "2021-05-18T11:48:38.025340Z",
     "iopub.status.busy": "2021-05-18T11:48:38.024154Z",
     "iopub.status.idle": "2021-05-18T11:48:48.253614Z",
     "shell.execute_reply": "2021-05-18T11:48:48.252517Z"
    },
    "papermill": {
     "duration": 10.34436,
     "end_time": "2021-05-18T11:48:48.253756",
     "exception": false,
     "start_time": "2021-05-18T11:48:37.909396",
     "status": "completed"
    },
    "tags": []
   },
   "outputs": [],
   "source": [
    "bert_embeddings_df_train.to_csv('ml_training_embeddings_df_full.csv', index=False, encoding = \"utf_8_sig\")\n",
    "bert_embeddings_df_valid.to_csv('ml_valid_embeddings_df_full.csv', index=False, encoding = \"utf_8_sig\")"
   ]
  },
  {
   "cell_type": "markdown",
   "metadata": {
    "papermill": {
     "duration": 1.551478,
     "end_time": "2021-05-18T11:48:49.912401",
     "exception": false,
     "start_time": "2021-05-18T11:48:48.360923",
     "status": "completed"
    },
    "tags": []
   },
   "source": [
    "### Evaluate on Test"
   ]
  },
  {
   "cell_type": "markdown",
   "metadata": {
    "papermill": {
     "duration": 0.104923,
     "end_time": "2021-05-18T11:48:50.124715",
     "exception": false,
     "start_time": "2021-05-18T11:48:50.019792",
     "status": "completed"
    },
    "tags": []
   },
   "source": [
    "Let’s take a look at our training loss over all batches:"
   ]
  },
  {
   "cell_type": "markdown",
   "metadata": {
    "papermill": {
     "duration": 0.108599,
     "end_time": "2021-05-18T11:48:50.344948",
     "exception": false,
     "start_time": "2021-05-18T11:48:50.236349",
     "status": "completed"
    },
    "tags": []
   },
   "source": [
    "Now we’ll load the holdout dataset and prepare inputs just as we did with the training set. Then we’ll evaluate predictions using Matthews correlation coefficient (MCC wiki)because this is the metric used by the wider NLP community to evaluate performance on CoLA. With this metric, +1 is the best score, and -1 is the worst score. This way, we can see how well we perform against the state of the art models for this specific task.\n"
   ]
  },
  {
   "cell_type": "code",
   "execution_count": 73,
   "metadata": {
    "execution": {
     "iopub.execute_input": "2021-05-18T11:48:50.568231Z",
     "iopub.status.busy": "2021-05-18T11:48:50.567382Z",
     "iopub.status.idle": "2021-05-18T11:48:50.599650Z",
     "shell.execute_reply": "2021-05-18T11:48:50.600966Z"
    },
    "papermill": {
     "duration": 0.148297,
     "end_time": "2021-05-18T11:48:50.601184",
     "exception": false,
     "start_time": "2021-05-18T11:48:50.452887",
     "status": "completed"
    },
    "tags": []
   },
   "outputs": [],
   "source": [
    "# Convert to tensors.\n",
    "prediction_inputs = torch.tensor(test_inputs)\n",
    "prediction_masks = torch.tensor(test_masks)\n",
    "prediction_labels = torch.tensor(test_labels)\n",
    "prediction_ids = torch.tensor(ids_test)\n",
    "\n",
    "# Set the batch size.  \n",
    "batch_size = 8 \n",
    "# Create the DataLoader.\n",
    "prediction_data = TensorDataset(prediction_inputs, prediction_masks, prediction_labels, prediction_ids)\n",
    "prediction_sampler = SequentialSampler(prediction_data)\n",
    "prediction_dataloader = DataLoader(prediction_data, sampler=prediction_sampler, batch_size=batch_size)"
   ]
  },
  {
   "cell_type": "code",
   "execution_count": 74,
   "metadata": {
    "execution": {
     "iopub.execute_input": "2021-05-18T11:48:50.998064Z",
     "iopub.status.busy": "2021-05-18T11:48:50.997080Z",
     "iopub.status.idle": "2021-05-18T11:48:51.002626Z",
     "shell.execute_reply": "2021-05-18T11:48:51.003300Z"
    },
    "papermill": {
     "duration": 0.202096,
     "end_time": "2021-05-18T11:48:51.003509",
     "exception": false,
     "start_time": "2021-05-18T11:48:50.801413",
     "status": "completed"
    },
    "tags": []
   },
   "outputs": [
    {
     "data": {
      "text/plain": [
       "torch.Size([1306, 120])"
      ]
     },
     "execution_count": 74,
     "metadata": {},
     "output_type": "execute_result"
    }
   ],
   "source": [
    "prediction_inputs.shape"
   ]
  },
  {
   "cell_type": "markdown",
   "metadata": {
    "papermill": {
     "duration": 0.18107,
     "end_time": "2021-05-18T11:48:51.361667",
     "exception": false,
     "start_time": "2021-05-18T11:48:51.180597",
     "status": "completed"
    },
    "tags": []
   },
   "source": [
    "With the test set prepared, we can apply our fine-tuned model to generate predictions on the test set"
   ]
  },
  {
   "cell_type": "code",
   "execution_count": 75,
   "metadata": {
    "execution": {
     "iopub.execute_input": "2021-05-18T11:48:51.722541Z",
     "iopub.status.busy": "2021-05-18T11:48:51.721567Z",
     "iopub.status.idle": "2021-05-18T11:48:57.429767Z",
     "shell.execute_reply": "2021-05-18T11:48:57.428579Z"
    },
    "papermill": {
     "duration": 5.892561,
     "end_time": "2021-05-18T11:48:57.429926",
     "exception": false,
     "start_time": "2021-05-18T11:48:51.537365",
     "status": "completed"
    },
    "tags": []
   },
   "outputs": [
    {
     "name": "stdout",
     "output_type": "stream",
     "text": [
      "Predicting labels for 1,306 test sentences...\n"
     ]
    }
   ],
   "source": [
    "embeddings_te = []\n",
    "# Prediction on test set\n",
    "print('Predicting labels for {:,} test sentences...'.format(len(prediction_inputs)))\n",
    "# Put model in evaluation mode\n",
    "model.eval()\n",
    "# Tracking variables \n",
    "predictions , true_labels = [], []\n",
    "# Predict \n",
    "for batch in prediction_dataloader:\n",
    "    b_input_ids = batch[0].to(device)\n",
    "    b_input_mask = batch[1].to(device)\n",
    "    b_labels = batch[2].to(device)\n",
    "  \n",
    "  # Telling the model not to compute or store gradients, saving memory and \n",
    "  # speeding up prediction\n",
    "    with torch.no_grad():\n",
    "        # Forward pass, calculate logit predictions\n",
    "        outputs = model(b_input_ids, token_type_ids=None, \n",
    "                      attention_mask=b_input_mask, labels=b_labels)\n",
    "    logits = outputs[1]\n",
    "    # Embeddings extraction approach is to average the second to last hiden layer of each token producing a single 768 length vector\n",
    "    # https://mccormickml.com/2019/05/14/BERT-word-embeddings-tutorial/\n",
    "    hidden_state_te = outputs[2]\n",
    "    token_vecs = hidden_state_te[-2]\n",
    "    token_vecs_sentvecs = []\n",
    "    for token in token_vecs:\n",
    "        sentvecs = torch.mean(token, dim=0).detach().cpu().numpy()\n",
    "        token_vecs_sentvecs.append(sentvecs)\n",
    "    # features = hidden_state_te[12][:,0,:].detach().cpu().numpy()\n",
    "    embeddings_te.append([batch[3], token_vecs_sentvecs])\n",
    "    # Move logits and labels to CPU\n",
    "    logits = logits.detach().cpu().numpy()\n",
    "    label_ids = b_labels.to('cpu').numpy()\n",
    "\n",
    "    # Store predictions and true labels\n",
    "    predictions.append(logits)\n",
    "    true_labels.append(label_ids)\n",
    "    \n"
   ]
  },
  {
   "cell_type": "markdown",
   "metadata": {
    "papermill": {
     "duration": 0.11065,
     "end_time": "2021-05-18T11:48:57.653237",
     "exception": false,
     "start_time": "2021-05-18T11:48:57.542587",
     "status": "completed"
    },
    "tags": []
   },
   "source": [
    "Extract Embeddings"
   ]
  },
  {
   "cell_type": "code",
   "execution_count": 76,
   "metadata": {
    "execution": {
     "iopub.execute_input": "2021-05-18T11:48:57.890889Z",
     "iopub.status.busy": "2021-05-18T11:48:57.889931Z",
     "iopub.status.idle": "2021-05-18T11:48:58.222414Z",
     "shell.execute_reply": "2021-05-18T11:48:58.222902Z"
    },
    "papermill": {
     "duration": 0.456641,
     "end_time": "2021-05-18T11:48:58.223033",
     "exception": false,
     "start_time": "2021-05-18T11:48:57.766392",
     "status": "completed"
    },
    "tags": []
   },
   "outputs": [
    {
     "name": "stdout",
     "output_type": "stream",
     "text": [
      "DONE.\n"
     ]
    },
    {
     "data": {
      "text/html": [
       "<div>\n",
       "<style scoped>\n",
       "    .dataframe tbody tr th:only-of-type {\n",
       "        vertical-align: middle;\n",
       "    }\n",
       "\n",
       "    .dataframe tbody tr th {\n",
       "        vertical-align: top;\n",
       "    }\n",
       "\n",
       "    .dataframe thead th {\n",
       "        text-align: right;\n",
       "    }\n",
       "</style>\n",
       "<table border=\"1\" class=\"dataframe\">\n",
       "  <thead>\n",
       "    <tr style=\"text-align: right;\">\n",
       "      <th></th>\n",
       "      <th>user.id</th>\n",
       "      <th>suspended</th>\n",
       "      <th>0</th>\n",
       "      <th>1</th>\n",
       "      <th>2</th>\n",
       "      <th>3</th>\n",
       "      <th>4</th>\n",
       "      <th>5</th>\n",
       "      <th>6</th>\n",
       "      <th>7</th>\n",
       "      <th>...</th>\n",
       "      <th>758</th>\n",
       "      <th>759</th>\n",
       "      <th>760</th>\n",
       "      <th>761</th>\n",
       "      <th>762</th>\n",
       "      <th>763</th>\n",
       "      <th>764</th>\n",
       "      <th>765</th>\n",
       "      <th>766</th>\n",
       "      <th>767</th>\n",
       "    </tr>\n",
       "  </thead>\n",
       "  <tbody>\n",
       "    <tr>\n",
       "      <th>0</th>\n",
       "      <td>1.278130e+18</td>\n",
       "      <td>0</td>\n",
       "      <td>0.009827</td>\n",
       "      <td>-0.048749</td>\n",
       "      <td>0.071129</td>\n",
       "      <td>-0.071275</td>\n",
       "      <td>0.085561</td>\n",
       "      <td>0.062034</td>\n",
       "      <td>-0.057142</td>\n",
       "      <td>0.027406</td>\n",
       "      <td>...</td>\n",
       "      <td>0.036541</td>\n",
       "      <td>0.102735</td>\n",
       "      <td>0.072812</td>\n",
       "      <td>-0.180048</td>\n",
       "      <td>-0.040371</td>\n",
       "      <td>-0.084562</td>\n",
       "      <td>0.006620</td>\n",
       "      <td>-0.143671</td>\n",
       "      <td>-0.058945</td>\n",
       "      <td>0.030478</td>\n",
       "    </tr>\n",
       "    <tr>\n",
       "      <th>1</th>\n",
       "      <td>1.278145e+18</td>\n",
       "      <td>1</td>\n",
       "      <td>0.009697</td>\n",
       "      <td>-0.048722</td>\n",
       "      <td>0.070796</td>\n",
       "      <td>-0.071207</td>\n",
       "      <td>0.085105</td>\n",
       "      <td>0.062381</td>\n",
       "      <td>-0.055978</td>\n",
       "      <td>0.027264</td>\n",
       "      <td>...</td>\n",
       "      <td>0.036597</td>\n",
       "      <td>0.102771</td>\n",
       "      <td>0.072694</td>\n",
       "      <td>-0.179905</td>\n",
       "      <td>-0.040769</td>\n",
       "      <td>-0.084922</td>\n",
       "      <td>0.006366</td>\n",
       "      <td>-0.143568</td>\n",
       "      <td>-0.058933</td>\n",
       "      <td>0.030678</td>\n",
       "    </tr>\n",
       "    <tr>\n",
       "      <th>2</th>\n",
       "      <td>1.278155e+18</td>\n",
       "      <td>0</td>\n",
       "      <td>0.010044</td>\n",
       "      <td>-0.048508</td>\n",
       "      <td>0.071139</td>\n",
       "      <td>-0.071050</td>\n",
       "      <td>0.085248</td>\n",
       "      <td>0.061772</td>\n",
       "      <td>-0.056688</td>\n",
       "      <td>0.027562</td>\n",
       "      <td>...</td>\n",
       "      <td>0.036502</td>\n",
       "      <td>0.102469</td>\n",
       "      <td>0.072623</td>\n",
       "      <td>-0.180399</td>\n",
       "      <td>-0.040627</td>\n",
       "      <td>-0.084828</td>\n",
       "      <td>0.006468</td>\n",
       "      <td>-0.143633</td>\n",
       "      <td>-0.058847</td>\n",
       "      <td>0.030356</td>\n",
       "    </tr>\n",
       "    <tr>\n",
       "      <th>3</th>\n",
       "      <td>1.278156e+18</td>\n",
       "      <td>0</td>\n",
       "      <td>0.009797</td>\n",
       "      <td>-0.048160</td>\n",
       "      <td>0.071499</td>\n",
       "      <td>-0.071172</td>\n",
       "      <td>0.085626</td>\n",
       "      <td>0.061782</td>\n",
       "      <td>-0.057531</td>\n",
       "      <td>0.027923</td>\n",
       "      <td>...</td>\n",
       "      <td>0.036880</td>\n",
       "      <td>0.102575</td>\n",
       "      <td>0.072678</td>\n",
       "      <td>-0.180195</td>\n",
       "      <td>-0.040778</td>\n",
       "      <td>-0.084685</td>\n",
       "      <td>0.006656</td>\n",
       "      <td>-0.144114</td>\n",
       "      <td>-0.058907</td>\n",
       "      <td>0.030613</td>\n",
       "    </tr>\n",
       "    <tr>\n",
       "      <th>4</th>\n",
       "      <td>1.278181e+18</td>\n",
       "      <td>0</td>\n",
       "      <td>0.009625</td>\n",
       "      <td>-0.047984</td>\n",
       "      <td>0.071321</td>\n",
       "      <td>-0.071075</td>\n",
       "      <td>0.084817</td>\n",
       "      <td>0.062047</td>\n",
       "      <td>-0.057358</td>\n",
       "      <td>0.028000</td>\n",
       "      <td>...</td>\n",
       "      <td>0.036760</td>\n",
       "      <td>0.102748</td>\n",
       "      <td>0.071478</td>\n",
       "      <td>-0.179540</td>\n",
       "      <td>-0.040540</td>\n",
       "      <td>-0.084890</td>\n",
       "      <td>0.006917</td>\n",
       "      <td>-0.143667</td>\n",
       "      <td>-0.059111</td>\n",
       "      <td>0.030738</td>\n",
       "    </tr>\n",
       "  </tbody>\n",
       "</table>\n",
       "<p>5 rows × 770 columns</p>\n",
       "</div>"
      ],
      "text/plain": [
       "        user.id  suspended         0         1         2         3         4  \\\n",
       "0  1.278130e+18          0  0.009827 -0.048749  0.071129 -0.071275  0.085561   \n",
       "1  1.278145e+18          1  0.009697 -0.048722  0.070796 -0.071207  0.085105   \n",
       "2  1.278155e+18          0  0.010044 -0.048508  0.071139 -0.071050  0.085248   \n",
       "3  1.278156e+18          0  0.009797 -0.048160  0.071499 -0.071172  0.085626   \n",
       "4  1.278181e+18          0  0.009625 -0.047984  0.071321 -0.071075  0.084817   \n",
       "\n",
       "          5         6         7  ...       758       759       760       761  \\\n",
       "0  0.062034 -0.057142  0.027406  ...  0.036541  0.102735  0.072812 -0.180048   \n",
       "1  0.062381 -0.055978  0.027264  ...  0.036597  0.102771  0.072694 -0.179905   \n",
       "2  0.061772 -0.056688  0.027562  ...  0.036502  0.102469  0.072623 -0.180399   \n",
       "3  0.061782 -0.057531  0.027923  ...  0.036880  0.102575  0.072678 -0.180195   \n",
       "4  0.062047 -0.057358  0.028000  ...  0.036760  0.102748  0.071478 -0.179540   \n",
       "\n",
       "        762       763       764       765       766       767  \n",
       "0 -0.040371 -0.084562  0.006620 -0.143671 -0.058945  0.030478  \n",
       "1 -0.040769 -0.084922  0.006366 -0.143568 -0.058933  0.030678  \n",
       "2 -0.040627 -0.084828  0.006468 -0.143633 -0.058847  0.030356  \n",
       "3 -0.040778 -0.084685  0.006656 -0.144114 -0.058907  0.030613  \n",
       "4 -0.040540 -0.084890  0.006917 -0.143667 -0.059111  0.030738  \n",
       "\n",
       "[5 rows x 770 columns]"
      ]
     },
     "execution_count": 76,
     "metadata": {},
     "output_type": "execute_result"
    }
   ],
   "source": [
    "# Get embeddings for test\n",
    "p = [group for group in embeddings_te]\n",
    "\n",
    "b = [item for sublist in [[list(t) for t in zip(sublist[0], sublist[1])] for sublist in p] for item in sublist]\n",
    "df = pd.DataFrame(b, columns = ['id', 'embeddings'])  \n",
    "\n",
    "bert_embeddings_df_test = pd.concat([df['id'], df['embeddings'].apply(pd.Series)], axis = 1)\n",
    "bert_embeddings_df_test['id'] = bert_embeddings_df_test['id'].apply(lambda x: x.item())\n",
    "#bert_embeddings_df_test = pd.merge(df_test.drop(['text'], axis=1), bert_embeddings_df_test, left_on = [\"id\"], right_on = [\"id\"])\n",
    "bert_embeddings_df_test = pd.merge(df_test.drop(['text'], axis=1), bert_embeddings_df_test.drop(['id'], axis=1), left_index=True, right_index=True)\n",
    "print('DONE.')\n",
    "bert_embeddings_df_test.head()"
   ]
  },
  {
   "cell_type": "code",
   "execution_count": 77,
   "metadata": {
    "execution": {
     "iopub.execute_input": "2021-05-18T11:48:58.460589Z",
     "iopub.status.busy": "2021-05-18T11:48:58.459839Z",
     "iopub.status.idle": "2021-05-18T11:48:58.464239Z",
     "shell.execute_reply": "2021-05-18T11:48:58.463745Z"
    },
    "papermill": {
     "duration": 0.129736,
     "end_time": "2021-05-18T11:48:58.464349",
     "exception": false,
     "start_time": "2021-05-18T11:48:58.334613",
     "status": "completed"
    },
    "tags": []
   },
   "outputs": [],
   "source": [
    "bert_embeddings_df_test['user.id'] = bert_embeddings_df_test['user.id'].astype('str')\n",
    "bert_embeddings_df_test['user.id'] = bert_embeddings_df_test['user.id'].apply(lambda x: \"'\" + x + \"'\")"
   ]
  },
  {
   "cell_type": "code",
   "execution_count": 78,
   "metadata": {
    "execution": {
     "iopub.execute_input": "2021-05-18T11:48:58.703180Z",
     "iopub.status.busy": "2021-05-18T11:48:58.702059Z",
     "iopub.status.idle": "2021-05-18T11:48:58.707843Z",
     "shell.execute_reply": "2021-05-18T11:48:58.707302Z"
    },
    "papermill": {
     "duration": 0.128048,
     "end_time": "2021-05-18T11:48:58.707962",
     "exception": false,
     "start_time": "2021-05-18T11:48:58.579914",
     "status": "completed"
    },
    "tags": []
   },
   "outputs": [
    {
     "name": "stdout",
     "output_type": "stream",
     "text": [
      "full train: 1306 unique ids train: 498\n"
     ]
    }
   ],
   "source": [
    "print(\"full train:\", len(bert_embeddings_df_test), \"unique ids train:\", len(bert_embeddings_df_test['user.id'].unique()))"
   ]
  },
  {
   "cell_type": "markdown",
   "metadata": {
    "papermill": {
     "duration": 0.119368,
     "end_time": "2021-05-18T11:48:58.943754",
     "exception": false,
     "start_time": "2021-05-18T11:48:58.824386",
     "status": "completed"
    },
    "tags": []
   },
   "source": [
    "Save"
   ]
  },
  {
   "cell_type": "code",
   "execution_count": 79,
   "metadata": {
    "execution": {
     "iopub.execute_input": "2021-05-18T11:48:59.190953Z",
     "iopub.status.busy": "2021-05-18T11:48:59.189285Z",
     "iopub.status.idle": "2021-05-18T11:49:01.140697Z",
     "shell.execute_reply": "2021-05-18T11:49:01.140159Z"
    },
    "papermill": {
     "duration": 2.073741,
     "end_time": "2021-05-18T11:49:01.140806",
     "exception": false,
     "start_time": "2021-05-18T11:48:59.067065",
     "status": "completed"
    },
    "tags": []
   },
   "outputs": [],
   "source": [
    "bert_embeddings_df_test.to_csv('ml_test_embeddings_df_full.csv', index=False, encoding = \"utf_8_sig\")"
   ]
  },
  {
   "cell_type": "markdown",
   "metadata": {
    "papermill": {
     "duration": 0.112724,
     "end_time": "2021-05-18T11:49:01.369449",
     "exception": false,
     "start_time": "2021-05-18T11:49:01.256725",
     "status": "completed"
    },
    "tags": []
   },
   "source": [
    "Look at imbalance. "
   ]
  },
  {
   "cell_type": "code",
   "execution_count": 80,
   "metadata": {
    "execution": {
     "iopub.execute_input": "2021-05-18T11:49:01.619051Z",
     "iopub.status.busy": "2021-05-18T11:49:01.617170Z",
     "iopub.status.idle": "2021-05-18T11:49:01.627221Z",
     "shell.execute_reply": "2021-05-18T11:49:01.627987Z"
    },
    "papermill": {
     "duration": 0.144702,
     "end_time": "2021-05-18T11:49:01.628216",
     "exception": false,
     "start_time": "2021-05-18T11:49:01.483514",
     "status": "completed"
    },
    "tags": []
   },
   "outputs": [
    {
     "name": "stdout",
     "output_type": "stream",
     "text": [
      "Positive samples: 397 of 4771 (8.32%)\n"
     ]
    }
   ],
   "source": [
    "print('Positive samples: %d of %d (%.2f%%)' % (df_train.suspended.sum(), len(df_train.suspended), (df_train.suspended.sum() / len(df_train.suspended) * 100.0)))"
   ]
  },
  {
   "cell_type": "code",
   "execution_count": 81,
   "metadata": {
    "execution": {
     "iopub.execute_input": "2021-05-18T11:49:02.018573Z",
     "iopub.status.busy": "2021-05-18T11:49:02.017609Z",
     "iopub.status.idle": "2021-05-18T11:49:02.234848Z",
     "shell.execute_reply": "2021-05-18T11:49:02.236063Z"
    },
    "papermill": {
     "duration": 0.419977,
     "end_time": "2021-05-18T11:49:02.236264",
     "exception": false,
     "start_time": "2021-05-18T11:49:01.816287",
     "status": "completed"
    },
    "tags": []
   },
   "outputs": [
    {
     "name": "stdout",
     "output_type": "stream",
     "text": [
      "Calculating Matthews Corr. Coef. for each batch...\n"
     ]
    },
    {
     "name": "stderr",
     "output_type": "stream",
     "text": [
      "/opt/conda/lib/python3.7/site-packages/sklearn/metrics/_classification.py:846: RuntimeWarning:\n",
      "\n",
      "invalid value encountered in double_scalars\n",
      "\n"
     ]
    }
   ],
   "source": [
    "from sklearn.metrics import matthews_corrcoef\n",
    "matthews_set = []\n",
    "# Evaluate each test batch using Matthew's correlation coefficient\n",
    "print('Calculating Matthews Corr. Coef. for each batch...')\n",
    "# For each input batch...\n",
    "for i in range(len(true_labels)):\n",
    "  \n",
    "    # The predictions for this batch are a 2-column ndarray (one column for \"0\" \n",
    "    # and one column for \"1\"). Pick the label with the highest value and turn this\n",
    "    # in to a list of 0s and 1s.\n",
    "    pred_labels_i = np.argmax(predictions[i], axis=1).flatten()\n",
    "\n",
    "    # Calculate and store the coef for this batch.  \n",
    "    matthews = matthews_corrcoef(true_labels[i], pred_labels_i)                \n",
    "    matthews_set.append(matthews)"
   ]
  },
  {
   "cell_type": "code",
   "execution_count": 82,
   "metadata": {
    "execution": {
     "iopub.execute_input": "2021-05-18T11:49:02.514191Z",
     "iopub.status.busy": "2021-05-18T11:49:02.512987Z",
     "iopub.status.idle": "2021-05-18T11:49:02.525485Z",
     "shell.execute_reply": "2021-05-18T11:49:02.526295Z"
    },
    "papermill": {
     "duration": 0.148545,
     "end_time": "2021-05-18T11:49:02.526487",
     "exception": false,
     "start_time": "2021-05-18T11:49:02.377942",
     "status": "completed"
    },
    "tags": []
   },
   "outputs": [
    {
     "name": "stdout",
     "output_type": "stream",
     "text": [
      "MCC: 0.000\n"
     ]
    }
   ],
   "source": [
    "# Combine the predictions for each batch into a single list of 0s and 1s.\n",
    "flat_predictions = [item for sublist in predictions for item in sublist]\n",
    "flat_predictions = np.argmax(flat_predictions, axis=1).flatten()\n",
    "# Combine the correct labels for each batch into a single list.\n",
    "flat_true_labels = [item for sublist in true_labels for item in sublist]\n",
    "# Calculate the MCC\n",
    "mcc = matthews_corrcoef(flat_true_labels, flat_predictions)\n",
    "print('MCC: %.3f' % mcc)"
   ]
  },
  {
   "cell_type": "code",
   "execution_count": 83,
   "metadata": {
    "execution": {
     "iopub.execute_input": "2021-05-18T11:49:02.784850Z",
     "iopub.status.busy": "2021-05-18T11:49:02.783757Z",
     "iopub.status.idle": "2021-05-18T11:49:02.796070Z",
     "shell.execute_reply": "2021-05-18T11:49:02.796911Z"
    },
    "papermill": {
     "duration": 0.141516,
     "end_time": "2021-05-18T11:49:02.797104",
     "exception": false,
     "start_time": "2021-05-18T11:49:02.655588",
     "status": "completed"
    },
    "tags": []
   },
   "outputs": [
    {
     "name": "stdout",
     "output_type": "stream",
     "text": [
      "              precision    recall  f1-score   support\n",
      "\n",
      "           0       0.90      1.00      0.95      1175\n",
      "           1       0.00      0.00      0.00       131\n",
      "\n",
      "    accuracy                           0.90      1306\n",
      "   macro avg       0.45      0.50      0.47      1306\n",
      "weighted avg       0.81      0.90      0.85      1306\n",
      "\n"
     ]
    },
    {
     "name": "stderr",
     "output_type": "stream",
     "text": [
      "/opt/conda/lib/python3.7/site-packages/sklearn/metrics/_classification.py:1221: UndefinedMetricWarning:\n",
      "\n",
      "Precision and F-score are ill-defined and being set to 0.0 in labels with no predicted samples. Use `zero_division` parameter to control this behavior.\n",
      "\n"
     ]
    }
   ],
   "source": [
    "report = classification_report(flat_true_labels, flat_predictions)\n",
    "print(report)"
   ]
  },
  {
   "cell_type": "code",
   "execution_count": 84,
   "metadata": {
    "execution": {
     "iopub.execute_input": "2021-05-18T11:49:03.041194Z",
     "iopub.status.busy": "2021-05-18T11:49:03.040178Z",
     "iopub.status.idle": "2021-05-18T11:49:03.208798Z",
     "shell.execute_reply": "2021-05-18T11:49:03.209377Z"
    },
    "papermill": {
     "duration": 0.294457,
     "end_time": "2021-05-18T11:49:03.209531",
     "exception": false,
     "start_time": "2021-05-18T11:49:02.915074",
     "status": "completed"
    },
    "tags": []
   },
   "outputs": [
    {
     "data": {
      "image/png": "[encoded data removed]",
      "text/plain": [
       "<Figure size 576x432 with 1 Axes>"
      ]
     },
     "metadata": {
      "needs_background": "light"
     },
     "output_type": "display_data"
    }
   ],
   "source": [
    "fpr, tpr, thresholds = roc_curve(flat_true_labels, flat_predictions)\n",
    "plt.figure(figsize=(8, 6))                         # Not shown\n",
    "plot_roc_curve(fpr, tpr)\n",
    "plt.plot([4.837e-3, 4.837e-3], [0., 0.4368], \"r:\") # Not shown\n",
    "plt.plot([0.0, 4.837e-3], [0.4368, 0.4368], \"r:\")  # Not shown\n",
    "plt.plot([4.837e-3], [0.4368], \"ro\")               # Not shown\n",
    "plt.show()"
   ]
  },
  {
   "cell_type": "code",
   "execution_count": 85,
   "metadata": {
    "execution": {
     "iopub.execute_input": "2021-05-18T11:49:03.473993Z",
     "iopub.status.busy": "2021-05-18T11:49:03.472942Z",
     "iopub.status.idle": "2021-05-18T11:49:03.481496Z",
     "shell.execute_reply": "2021-05-18T11:49:03.481989Z"
    },
    "papermill": {
     "duration": 0.143827,
     "end_time": "2021-05-18T11:49:03.482133",
     "exception": false,
     "start_time": "2021-05-18T11:49:03.338306",
     "status": "completed"
    },
    "tags": []
   },
   "outputs": [
    {
     "data": {
      "text/plain": [
       "0.5"
      ]
     },
     "execution_count": 85,
     "metadata": {},
     "output_type": "execute_result"
    }
   ],
   "source": [
    "roc_auc_score(flat_true_labels, flat_predictions)"
   ]
  },
  {
   "cell_type": "markdown",
   "metadata": {
    "papermill": {
     "duration": 0.128438,
     "end_time": "2021-05-18T11:49:03.746218",
     "exception": false,
     "start_time": "2021-05-18T11:49:03.617780",
     "status": "completed"
    },
    "tags": []
   },
   "source": [
    "### Output Predictions by Account"
   ]
  },
  {
   "cell_type": "code",
   "execution_count": 86,
   "metadata": {
    "execution": {
     "iopub.execute_input": "2021-05-18T11:49:04.008204Z",
     "iopub.status.busy": "2021-05-18T11:49:04.007259Z",
     "iopub.status.idle": "2021-05-18T11:49:04.010719Z",
     "shell.execute_reply": "2021-05-18T11:49:04.010139Z"
    },
    "papermill": {
     "duration": 0.133697,
     "end_time": "2021-05-18T11:49:04.010850",
     "exception": false,
     "start_time": "2021-05-18T11:49:03.877153",
     "status": "completed"
    },
    "tags": []
   },
   "outputs": [],
   "source": [
    "# Generate class predictions at the account level \n",
    "def predict_tweet_text(predictions, df_overlap, df_full):\n",
    "    df = pd.DataFrame(predictions, columns = ['pred'])\n",
    "    df_2 = pd.merge(df_overlap, df, left_index=True, right_index=True)\n",
    "    df_fm = df_full[['user.screen_name','user.id']].drop_duplicates(subset=['user.screen_name','user.id'])\n",
    "    df_3 = pd.merge(df_fm, df_2, left_on='user.id', right_on='user.id')\n",
    "    df_3 = df_3.sort_values(by=['pred'], ascending=False)\n",
    "    return df_3"
   ]
  },
  {
   "cell_type": "code",
   "execution_count": 87,
   "metadata": {
    "execution": {
     "iopub.execute_input": "2021-05-18T11:49:04.254429Z",
     "iopub.status.busy": "2021-05-18T11:49:04.253349Z",
     "iopub.status.idle": "2021-05-18T11:49:04.282449Z",
     "shell.execute_reply": "2021-05-18T11:49:04.281919Z"
    },
    "papermill": {
     "duration": 0.153687,
     "end_time": "2021-05-18T11:49:04.282563",
     "exception": false,
     "start_time": "2021-05-18T11:49:04.128876",
     "status": "completed"
    },
    "tags": []
   },
   "outputs": [
    {
     "data": {
      "text/html": [
       "<div>\n",
       "<style scoped>\n",
       "    .dataframe tbody tr th:only-of-type {\n",
       "        vertical-align: middle;\n",
       "    }\n",
       "\n",
       "    .dataframe tbody tr th {\n",
       "        vertical-align: top;\n",
       "    }\n",
       "\n",
       "    .dataframe thead th {\n",
       "        text-align: right;\n",
       "    }\n",
       "</style>\n",
       "<table border=\"1\" class=\"dataframe\">\n",
       "  <thead>\n",
       "    <tr style=\"text-align: right;\">\n",
       "      <th></th>\n",
       "      <th>user.screen_name</th>\n",
       "      <th>user.id</th>\n",
       "      <th>text</th>\n",
       "      <th>suspended</th>\n",
       "      <th>pred</th>\n",
       "    </tr>\n",
       "  </thead>\n",
       "  <tbody>\n",
       "    <tr>\n",
       "      <th>0</th>\n",
       "      <td>MMunir50647063</td>\n",
       "      <td>1.278130e+18</td>\n",
       "      <td>@ImranKhanPTI me mazor adme ho</td>\n",
       "      <td>0</td>\n",
       "      <td>0</td>\n",
       "    </tr>\n",
       "    <tr>\n",
       "      <th>857</th>\n",
       "      <td>BuzzCurated</td>\n",
       "      <td>1.282178e+18</td>\n",
       "      <td>A lot of other priorities as well. Sign Roca i...</td>\n",
       "      <td>0</td>\n",
       "      <td>0</td>\n",
       "    </tr>\n",
       "    <tr>\n",
       "      <th>875</th>\n",
       "      <td>BuzzCurated</td>\n",
       "      <td>1.282178e+18</td>\n",
       "      <td>We hope you'll be around for long. @AFTVMedia ...</td>\n",
       "      <td>0</td>\n",
       "      <td>0</td>\n",
       "    </tr>\n",
       "    <tr>\n",
       "      <th>874</th>\n",
       "      <td>BuzzCurated</td>\n",
       "      <td>1.282178e+18</td>\n",
       "      <td>remember the last FA Cup final he played in? B...</td>\n",
       "      <td>0</td>\n",
       "      <td>0</td>\n",
       "    </tr>\n",
       "    <tr>\n",
       "      <th>873</th>\n",
       "      <td>BuzzCurated</td>\n",
       "      <td>1.282178e+18</td>\n",
       "      <td>@HuXijin_GT I can only say this to your mental...</td>\n",
       "      <td>0</td>\n",
       "      <td>0</td>\n",
       "    </tr>\n",
       "  </tbody>\n",
       "</table>\n",
       "</div>"
      ],
      "text/plain": [
       "    user.screen_name       user.id  \\\n",
       "0     MMunir50647063  1.278130e+18   \n",
       "857      BuzzCurated  1.282178e+18   \n",
       "875      BuzzCurated  1.282178e+18   \n",
       "874      BuzzCurated  1.282178e+18   \n",
       "873      BuzzCurated  1.282178e+18   \n",
       "\n",
       "                                                  text  suspended  pred  \n",
       "0                       @ImranKhanPTI me mazor adme ho          0     0  \n",
       "857  A lot of other priorities as well. Sign Roca i...          0     0  \n",
       "875  We hope you'll be around for long. @AFTVMedia ...          0     0  \n",
       "874  remember the last FA Cup final he played in? B...          0     0  \n",
       "873  @HuXijin_GT I can only say this to your mental...          0     0  "
      ]
     },
     "execution_count": 87,
     "metadata": {},
     "output_type": "execute_result"
    }
   ],
   "source": [
    "test_preds_tweets = predict_tweet_text(flat_predictions, df_test, df_test_f)\n",
    "test_preds_tweets.head()"
   ]
  },
  {
   "cell_type": "code",
   "execution_count": 88,
   "metadata": {
    "execution": {
     "iopub.execute_input": "2021-05-18T11:49:04.532669Z",
     "iopub.status.busy": "2021-05-18T11:49:04.527191Z",
     "iopub.status.idle": "2021-05-18T11:49:04.615210Z",
     "shell.execute_reply": "2021-05-18T11:49:04.614624Z"
    },
    "papermill": {
     "duration": 0.211875,
     "end_time": "2021-05-18T11:49:04.615326",
     "exception": false,
     "start_time": "2021-05-18T11:49:04.403451",
     "status": "completed"
    },
    "tags": []
   },
   "outputs": [],
   "source": [
    "test_preds_tweets.to_csv('test_preds_tweets.csv', index=False, encoding = \"utf_8_sig\")"
   ]
  },
  {
   "cell_type": "code",
   "execution_count": 89,
   "metadata": {
    "execution": {
     "iopub.execute_input": "2021-05-18T11:49:04.863606Z",
     "iopub.status.busy": "2021-05-18T11:49:04.862657Z",
     "iopub.status.idle": "2021-05-18T11:49:04.866496Z",
     "shell.execute_reply": "2021-05-18T11:49:04.865963Z"
    },
    "papermill": {
     "duration": 0.131281,
     "end_time": "2021-05-18T11:49:04.866602",
     "exception": false,
     "start_time": "2021-05-18T11:49:04.735321",
     "status": "completed"
    },
    "tags": []
   },
   "outputs": [],
   "source": [
    "# Generate class predictions at the account level \n",
    "def predict_account(pred_tt):\n",
    "    df_4 = pred_tt[['user.screen_name', 'suspended','pred']].groupby('user.screen_name').agg(['sum', 'mean'])\n",
    "    df_4.drop(('suspended', 'sum'), axis = 1, inplace = True)\n",
    "    df_4.columns = [' '.join(col).strip() for col in df_4.columns.values]\n",
    "    df_4.reset_index(level=0, inplace=True)\n",
    "    df_4.columns = [\"user.screen_name\",\"suspended_label\", \"total_pre_prob\",\"mean_pred_prob\"]\n",
    "    df_4['pred_class'] = np.where(df_4['mean_pred_prob'] > 0.25, 1,0) # Use lighter threshold as not all tweets get an account suspended. \n",
    "    df_4 = df_4.sort_values(by=['total_pre_prob'], ascending=False)\n",
    "\n",
    "    return df_4"
   ]
  },
  {
   "cell_type": "code",
   "execution_count": 90,
   "metadata": {
    "execution": {
     "iopub.execute_input": "2021-05-18T11:49:05.112225Z",
     "iopub.status.busy": "2021-05-18T11:49:05.111262Z",
     "iopub.status.idle": "2021-05-18T11:49:05.161770Z",
     "shell.execute_reply": "2021-05-18T11:49:05.162221Z"
    },
    "papermill": {
     "duration": 0.176367,
     "end_time": "2021-05-18T11:49:05.162361",
     "exception": false,
     "start_time": "2021-05-18T11:49:04.985994",
     "status": "completed"
    },
    "tags": []
   },
   "outputs": [
    {
     "data": {
      "text/html": [
       "<div>\n",
       "<style scoped>\n",
       "    .dataframe tbody tr th:only-of-type {\n",
       "        vertical-align: middle;\n",
       "    }\n",
       "\n",
       "    .dataframe tbody tr th {\n",
       "        vertical-align: top;\n",
       "    }\n",
       "\n",
       "    .dataframe thead th {\n",
       "        text-align: right;\n",
       "    }\n",
       "</style>\n",
       "<table border=\"1\" class=\"dataframe\">\n",
       "  <thead>\n",
       "    <tr style=\"text-align: right;\">\n",
       "      <th></th>\n",
       "      <th>user.screen_name</th>\n",
       "      <th>suspended_label</th>\n",
       "      <th>total_pre_prob</th>\n",
       "      <th>mean_pred_prob</th>\n",
       "      <th>pred_class</th>\n",
       "    </tr>\n",
       "  </thead>\n",
       "  <tbody>\n",
       "    <tr>\n",
       "      <th>0</th>\n",
       "      <td>2ebRkaTgSVMcGrl</td>\n",
       "      <td>0</td>\n",
       "      <td>0</td>\n",
       "      <td>0</td>\n",
       "      <td>0</td>\n",
       "    </tr>\n",
       "    <tr>\n",
       "      <th>327</th>\n",
       "      <td>ZiaKhan07341037</td>\n",
       "      <td>1</td>\n",
       "      <td>0</td>\n",
       "      <td>0</td>\n",
       "      <td>0</td>\n",
       "    </tr>\n",
       "    <tr>\n",
       "      <th>340</th>\n",
       "      <td>anwang98338943</td>\n",
       "      <td>0</td>\n",
       "      <td>0</td>\n",
       "      <td>0</td>\n",
       "      <td>0</td>\n",
       "    </tr>\n",
       "    <tr>\n",
       "      <th>339</th>\n",
       "      <td>anan48860464</td>\n",
       "      <td>0</td>\n",
       "      <td>0</td>\n",
       "      <td>0</td>\n",
       "      <td>0</td>\n",
       "    </tr>\n",
       "    <tr>\n",
       "      <th>338</th>\n",
       "      <td>aksuizen</td>\n",
       "      <td>0</td>\n",
       "      <td>0</td>\n",
       "      <td>0</td>\n",
       "      <td>0</td>\n",
       "    </tr>\n",
       "    <tr>\n",
       "      <th>...</th>\n",
       "      <td>...</td>\n",
       "      <td>...</td>\n",
       "      <td>...</td>\n",
       "      <td>...</td>\n",
       "      <td>...</td>\n",
       "    </tr>\n",
       "    <tr>\n",
       "      <th>161</th>\n",
       "      <td>Khansial12</td>\n",
       "      <td>0</td>\n",
       "      <td>0</td>\n",
       "      <td>0</td>\n",
       "      <td>0</td>\n",
       "    </tr>\n",
       "    <tr>\n",
       "      <th>160</th>\n",
       "      <td>KhanSha42957509</td>\n",
       "      <td>0</td>\n",
       "      <td>0</td>\n",
       "      <td>0</td>\n",
       "      <td>0</td>\n",
       "    </tr>\n",
       "    <tr>\n",
       "      <th>159</th>\n",
       "      <td>KhanKha27106664</td>\n",
       "      <td>0</td>\n",
       "      <td>0</td>\n",
       "      <td>0</td>\n",
       "      <td>0</td>\n",
       "    </tr>\n",
       "    <tr>\n",
       "      <th>158</th>\n",
       "      <td>Khairul96801635</td>\n",
       "      <td>0</td>\n",
       "      <td>0</td>\n",
       "      <td>0</td>\n",
       "      <td>0</td>\n",
       "    </tr>\n",
       "    <tr>\n",
       "      <th>497</th>\n",
       "      <td>ziang2020</td>\n",
       "      <td>1</td>\n",
       "      <td>0</td>\n",
       "      <td>0</td>\n",
       "      <td>0</td>\n",
       "    </tr>\n",
       "  </tbody>\n",
       "</table>\n",
       "<p>498 rows × 5 columns</p>\n",
       "</div>"
      ],
      "text/plain": [
       "    user.screen_name  suspended_label  total_pre_prob  mean_pred_prob  \\\n",
       "0    2ebRkaTgSVMcGrl                0               0               0   \n",
       "327  ZiaKhan07341037                1               0               0   \n",
       "340   anwang98338943                0               0               0   \n",
       "339     anan48860464                0               0               0   \n",
       "338         aksuizen                0               0               0   \n",
       "..               ...              ...             ...             ...   \n",
       "161       Khansial12                0               0               0   \n",
       "160  KhanSha42957509                0               0               0   \n",
       "159  KhanKha27106664                0               0               0   \n",
       "158  Khairul96801635                0               0               0   \n",
       "497        ziang2020                1               0               0   \n",
       "\n",
       "     pred_class  \n",
       "0             0  \n",
       "327           0  \n",
       "340           0  \n",
       "339           0  \n",
       "338           0  \n",
       "..          ...  \n",
       "161           0  \n",
       "160           0  \n",
       "159           0  \n",
       "158           0  \n",
       "497           0  \n",
       "\n",
       "[498 rows x 5 columns]"
      ]
     },
     "execution_count": 90,
     "metadata": {},
     "output_type": "execute_result"
    }
   ],
   "source": [
    "test_account_preds_tweettext = predict_account(test_preds_tweets)\n",
    "test_account_preds_tweettext"
   ]
  },
  {
   "cell_type": "markdown",
   "metadata": {
    "papermill": {
     "duration": 0.11794,
     "end_time": "2021-05-18T11:49:05.396609",
     "exception": false,
     "start_time": "2021-05-18T11:49:05.278669",
     "status": "completed"
    },
    "tags": []
   },
   "source": [
    "### Confusion Matrix for Account Classification"
   ]
  },
  {
   "cell_type": "code",
   "execution_count": 91,
   "metadata": {
    "execution": {
     "iopub.execute_input": "2021-05-18T11:49:05.643619Z",
     "iopub.status.busy": "2021-05-18T11:49:05.642683Z",
     "iopub.status.idle": "2021-05-18T11:49:05.653433Z",
     "shell.execute_reply": "2021-05-18T11:49:05.654186Z"
    },
    "papermill": {
     "duration": 0.13743,
     "end_time": "2021-05-18T11:49:05.654374",
     "exception": false,
     "start_time": "2021-05-18T11:49:05.516944",
     "status": "completed"
    },
    "tags": []
   },
   "outputs": [
    {
     "name": "stdout",
     "output_type": "stream",
     "text": [
      "              precision    recall  f1-score   support\n",
      "\n",
      "           0       0.92      1.00      0.96       460\n",
      "           1       0.00      0.00      0.00        38\n",
      "\n",
      "    accuracy                           0.92       498\n",
      "   macro avg       0.46      0.50      0.48       498\n",
      "weighted avg       0.85      0.92      0.89       498\n",
      "\n"
     ]
    },
    {
     "name": "stderr",
     "output_type": "stream",
     "text": [
      "/opt/conda/lib/python3.7/site-packages/sklearn/metrics/_classification.py:1221: UndefinedMetricWarning:\n",
      "\n",
      "Precision and F-score are ill-defined and being set to 0.0 in labels with no predicted samples. Use `zero_division` parameter to control this behavior.\n",
      "\n"
     ]
    }
   ],
   "source": [
    "#report = classification_report(np.array(test_labels), predictions)\n",
    "report_te = classification_report(np.array(test_account_preds_tweettext['suspended_label']), np.array(test_account_preds_tweettext['pred_class']))\n",
    "print(report_te)"
   ]
  },
  {
   "cell_type": "code",
   "execution_count": 92,
   "metadata": {
    "execution": {
     "iopub.execute_input": "2021-05-18T11:49:05.910057Z",
     "iopub.status.busy": "2021-05-18T11:49:05.902931Z",
     "iopub.status.idle": "2021-05-18T11:49:06.077476Z",
     "shell.execute_reply": "2021-05-18T11:49:06.077995Z"
    },
    "papermill": {
     "duration": 0.303161,
     "end_time": "2021-05-18T11:49:06.078143",
     "exception": false,
     "start_time": "2021-05-18T11:49:05.774982",
     "status": "completed"
    },
    "tags": []
   },
   "outputs": [
    {
     "data": {
      "image/png": "[encoded data removed]",
      "text/plain": [
       "<Figure size 576x432 with 1 Axes>"
      ]
     },
     "metadata": {
      "needs_background": "light"
     },
     "output_type": "display_data"
    }
   ],
   "source": [
    "fpr, tpr, thresholds = roc_curve(np.array(test_account_preds_tweettext['suspended_label']), np.array(test_account_preds_tweettext['pred_class']))\n",
    "plt.figure(figsize=(8, 6))                         # Not shown\n",
    "plot_roc_curve(fpr, tpr)\n",
    "plt.plot([4.837e-3, 4.837e-3], [0., 0.4368], \"r:\") # Not shown\n",
    "plt.plot([0.0, 4.837e-3], [0.4368, 0.4368], \"r:\")  # Not shown\n",
    "plt.plot([4.837e-3], [0.4368], \"ro\")               # Not shown\n",
    "plt.show()"
   ]
  },
  {
   "cell_type": "code",
   "execution_count": 93,
   "metadata": {
    "execution": {
     "iopub.execute_input": "2021-05-18T11:49:06.329860Z",
     "iopub.status.busy": "2021-05-18T11:49:06.328790Z",
     "iopub.status.idle": "2021-05-18T11:49:06.335663Z",
     "shell.execute_reply": "2021-05-18T11:49:06.336374Z"
    },
    "papermill": {
     "duration": 0.133848,
     "end_time": "2021-05-18T11:49:06.336529",
     "exception": false,
     "start_time": "2021-05-18T11:49:06.202681",
     "status": "completed"
    },
    "tags": []
   },
   "outputs": [
    {
     "data": {
      "text/plain": [
       "0.5"
      ]
     },
     "execution_count": 93,
     "metadata": {},
     "output_type": "execute_result"
    }
   ],
   "source": [
    "roc_auc_score(np.array(test_account_preds_tweettext['suspended_label']), np.array(test_account_preds_tweettext['pred_class']))"
   ]
  },
  {
   "cell_type": "code",
   "execution_count": 94,
   "metadata": {
    "execution": {
     "iopub.execute_input": "2021-05-18T11:49:06.591289Z",
     "iopub.status.busy": "2021-05-18T11:49:06.590359Z",
     "iopub.status.idle": "2021-05-18T11:49:06.596804Z",
     "shell.execute_reply": "2021-05-18T11:49:06.596281Z"
    },
    "papermill": {
     "duration": 0.13672,
     "end_time": "2021-05-18T11:49:06.596924",
     "exception": false,
     "start_time": "2021-05-18T11:49:06.460204",
     "status": "completed"
    },
    "tags": []
   },
   "outputs": [],
   "source": [
    "test_account_preds_tweettext.to_csv('test_account_preds_tweettext.csv', index=False, encoding = \"utf_8_sig\")"
   ]
  }
 ],
 "metadata": {
  "kernelspec": {
   "display_name": "Python 3",
   "language": "python",
   "name": "python3"
  },
  "language_info": {
   "codemirror_mode": {
    "name": "ipython",
    "version": 3
   },
   "file_extension": ".py",
   "mimetype": "text/x-python",
   "name": "python",
   "nbconvert_exporter": "python",
   "pygments_lexer": "ipython3",
   "version": "3.7.6"
  },
  "papermill": {
   "duration": 409.30346,
   "end_time": "2021-05-18T11:49:06.929488",
   "environment_variables": {},
   "exception": null,
   "input_path": "__notebook__.ipynb",
   "output_path": "__notebook__.ipynb",
   "parameters": {},
   "start_time": "2021-05-18T11:42:17.626028",
   "version": "2.1.0"
  },
  "widgets": {
   "application/vnd.jupyter.widget-state+json": {
    "state": {
     "045e301147104841b7bfa070f365fe8c": {
      "model_module": "@jupyter-widgets/controls",
      "model_module_version": "1.5.0",
      "model_name": "FloatProgressModel",
      "state": {
       "_dom_classes": [],
       "_model_module": "@jupyter-widgets/controls",
       "_model_module_version": "1.5.0",
       "_model_name": "FloatProgressModel",
       "_view_count": null,
       "_view_module": "@jupyter-widgets/controls",
       "_view_module_version": "1.5.0",
       "_view_name": "ProgressView",
       "bar_style": "success",
       "description": "Downloading: 100%",
       "description_tooltip": null,
       "layout": "IPY_MODEL_b47f495d7aec4667b32ca78e1aea5cc9",
       "max": 625.0,
       "min": 0.0,
       "orientation": "horizontal",
       "style": "IPY_MODEL_7862a369e5994817a4075ebe688a4d89",
       "value": 625.0
      }
     },
     "08ee522a2bc14f29a326d988ce2824d8": {
      "model_module": "@jupyter-widgets/controls",
      "model_module_version": "1.5.0",
      "model_name": "FloatProgressModel",
      "state": {
       "_dom_classes": [],
       "_model_module": "@jupyter-widgets/controls",
       "_model_module_version": "1.5.0",
       "_model_name": "FloatProgressModel",
       "_view_count": null,
       "_view_module": "@jupyter-widgets/controls",
       "_view_module_version": "1.5.0",
       "_view_name": "ProgressView",
       "bar_style": "success",
       "description": "Downloading: 100%",
       "description_tooltip": null,
       "layout": "IPY_MODEL_4f47a6accd29417bafd3447b8743dbe2",
       "max": 995526.0,
       "min": 0.0,
       "orientation": "horizontal",
       "style": "IPY_MODEL_51c1211831c647c092b1cbc11ca95db0",
       "value": 995526.0
      }
     },
     "1e27dd54f5cb4702b1ade2ea9ccff73c": {
      "model_module": "@jupyter-widgets/base",
      "model_module_version": "1.2.0",
      "model_name": "LayoutModel",
      "state": {
       "_model_module": "@jupyter-widgets/base",
       "_model_module_version": "1.2.0",
       "_model_name": "LayoutModel",
       "_view_count": null,
       "_view_module": "@jupyter-widgets/base",
       "_view_module_version": "1.2.0",
       "_view_name": "LayoutView",
       "align_content": null,
       "align_items": null,
       "align_self": null,
       "border": null,
       "bottom": null,
       "display": null,
       "flex": null,
       "flex_flow": null,
       "grid_area": null,
       "grid_auto_columns": null,
       "grid_auto_flow": null,
       "grid_auto_rows": null,
       "grid_column": null,
       "grid_gap": null,
       "grid_row": null,
       "grid_template_areas": null,
       "grid_template_columns": null,
       "grid_template_rows": null,
       "height": null,
       "justify_content": null,
       "justify_items": null,
       "left": null,
       "margin": null,
       "max_height": null,
       "max_width": null,
       "min_height": null,
       "min_width": null,
       "object_fit": null,
       "object_position": null,
       "order": null,
       "overflow": null,
       "overflow_x": null,
       "overflow_y": null,
       "padding": null,
       "right": null,
       "top": null,
       "visibility": null,
       "width": null
      }
     },
     "4048a5df6bbe47d09fb159204fb34fcd": {
      "model_module": "@jupyter-widgets/controls",
      "model_module_version": "1.5.0",
      "model_name": "DescriptionStyleModel",
      "state": {
       "_model_module": "@jupyter-widgets/controls",
       "_model_module_version": "1.5.0",
       "_model_name": "DescriptionStyleModel",
       "_view_count": null,
       "_view_module": "@jupyter-widgets/base",
       "_view_module_version": "1.2.0",
       "_view_name": "StyleView",
       "description_width": ""
      }
     },
     "4d51b6921a3a4e7fba180ccb6c7c275f": {
      "model_module": "@jupyter-widgets/controls",
      "model_module_version": "1.5.0",
      "model_name": "DescriptionStyleModel",
      "state": {
       "_model_module": "@jupyter-widgets/controls",
       "_model_module_version": "1.5.0",
       "_model_name": "DescriptionStyleModel",
       "_view_count": null,
       "_view_module": "@jupyter-widgets/base",
       "_view_module_version": "1.2.0",
       "_view_name": "StyleView",
       "description_width": ""
      }
     },
     "4db8095335c84f51985dc8ca0bdd1994": {
      "model_module": "@jupyter-widgets/controls",
      "model_module_version": "1.5.0",
      "model_name": "HBoxModel",
      "state": {
       "_dom_classes": [],
       "_model_module": "@jupyter-widgets/controls",
       "_model_module_version": "1.5.0",
       "_model_name": "HBoxModel",
       "_view_count": null,
       "_view_module": "@jupyter-widgets/controls",
       "_view_module_version": "1.5.0",
       "_view_name": "HBoxView",
       "box_style": "",
       "children": [
        "IPY_MODEL_045e301147104841b7bfa070f365fe8c",
        "IPY_MODEL_ba48b5eedb2d47b983ccad4c502242b5"
       ],
       "layout": "IPY_MODEL_bd58a344664e4741bc9c147603dcabbb"
      }
     },
     "4f47a6accd29417bafd3447b8743dbe2": {
      "model_module": "@jupyter-widgets/base",
      "model_module_version": "1.2.0",
      "model_name": "LayoutModel",
      "state": {
       "_model_module": "@jupyter-widgets/base",
       "_model_module_version": "1.2.0",
       "_model_name": "LayoutModel",
       "_view_count": null,
       "_view_module": "@jupyter-widgets/base",
       "_view_module_version": "1.2.0",
       "_view_name": "LayoutView",
       "align_content": null,
       "align_items": null,
       "align_self": null,
       "border": null,
       "bottom": null,
       "display": null,
       "flex": null,
       "flex_flow": null,
       "grid_area": null,
       "grid_auto_columns": null,
       "grid_auto_flow": null,
       "grid_auto_rows": null,
       "grid_column": null,
       "grid_gap": null,
       "grid_row": null,
       "grid_template_areas": null,
       "grid_template_columns": null,
       "grid_template_rows": null,
       "height": null,
       "justify_content": null,
       "justify_items": null,
       "left": null,
       "margin": null,
       "max_height": null,
       "max_width": null,
       "min_height": null,
       "min_width": null,
       "object_fit": null,
       "object_position": null,
       "order": null,
       "overflow": null,
       "overflow_x": null,
       "overflow_y": null,
       "padding": null,
       "right": null,
       "top": null,
       "visibility": null,
       "width": null
      }
     },
     "51c1211831c647c092b1cbc11ca95db0": {
      "model_module": "@jupyter-widgets/controls",
      "model_module_version": "1.5.0",
      "model_name": "ProgressStyleModel",
      "state": {
       "_model_module": "@jupyter-widgets/controls",
       "_model_module_version": "1.5.0",
       "_model_name": "ProgressStyleModel",
       "_view_count": null,
       "_view_module": "@jupyter-widgets/base",
       "_view_module_version": "1.2.0",
       "_view_name": "StyleView",
       "bar_color": null,
       "description_width": "initial"
      }
     },
     "5609489c0b3541b8907f20f22c4f25c7": {
      "model_module": "@jupyter-widgets/controls",
      "model_module_version": "1.5.0",
      "model_name": "HBoxModel",
      "state": {
       "_dom_classes": [],
       "_model_module": "@jupyter-widgets/controls",
       "_model_module_version": "1.5.0",
       "_model_name": "HBoxModel",
       "_view_count": null,
       "_view_module": "@jupyter-widgets/controls",
       "_view_module_version": "1.5.0",
       "_view_name": "HBoxView",
       "box_style": "",
       "children": [
        "IPY_MODEL_08ee522a2bc14f29a326d988ce2824d8",
        "IPY_MODEL_9931ad89b5aa40cfa4dca68e552b2951"
       ],
       "layout": "IPY_MODEL_6e43c903703b49ba96873ac2caad6f84"
      }
     },
     "6e43c903703b49ba96873ac2caad6f84": {
      "model_module": "@jupyter-widgets/base",
      "model_module_version": "1.2.0",
      "model_name": "LayoutModel",
      "state": {
       "_model_module": "@jupyter-widgets/base",
       "_model_module_version": "1.2.0",
       "_model_name": "LayoutModel",
       "_view_count": null,
       "_view_module": "@jupyter-widgets/base",
       "_view_module_version": "1.2.0",
       "_view_name": "LayoutView",
       "align_content": null,
       "align_items": null,
       "align_self": null,
       "border": null,
       "bottom": null,
       "display": null,
       "flex": null,
       "flex_flow": null,
       "grid_area": null,
       "grid_auto_columns": null,
       "grid_auto_flow": null,
       "grid_auto_rows": null,
       "grid_column": null,
       "grid_gap": null,
       "grid_row": null,
       "grid_template_areas": null,
       "grid_template_columns": null,
       "grid_template_rows": null,
       "height": null,
       "justify_content": null,
       "justify_items": null,
       "left": null,
       "margin": null,
       "max_height": null,
       "max_width": null,
       "min_height": null,
       "min_width": null,
       "object_fit": null,
       "object_position": null,
       "order": null,
       "overflow": null,
       "overflow_x": null,
       "overflow_y": null,
       "padding": null,
       "right": null,
       "top": null,
       "visibility": null,
       "width": null
      }
     },
     "7862a369e5994817a4075ebe688a4d89": {
      "model_module": "@jupyter-widgets/controls",
      "model_module_version": "1.5.0",
      "model_name": "ProgressStyleModel",
      "state": {
       "_model_module": "@jupyter-widgets/controls",
       "_model_module_version": "1.5.0",
       "_model_name": "ProgressStyleModel",
       "_view_count": null,
       "_view_module": "@jupyter-widgets/base",
       "_view_module_version": "1.2.0",
       "_view_name": "StyleView",
       "bar_color": null,
       "description_width": "initial"
      }
     },
     "7d6690e224594526843f92adc9599390": {
      "model_module": "@jupyter-widgets/controls",
      "model_module_version": "1.5.0",
      "model_name": "FloatProgressModel",
      "state": {
       "_dom_classes": [],
       "_model_module": "@jupyter-widgets/controls",
       "_model_module_version": "1.5.0",
       "_model_name": "FloatProgressModel",
       "_view_count": null,
       "_view_module": "@jupyter-widgets/controls",
       "_view_module_version": "1.5.0",
       "_view_name": "ProgressView",
       "bar_style": "success",
       "description": "Downloading: 100%",
       "description_tooltip": null,
       "layout": "IPY_MODEL_1e27dd54f5cb4702b1ade2ea9ccff73c",
       "max": 714314041.0,
       "min": 0.0,
       "orientation": "horizontal",
       "style": "IPY_MODEL_7f4aa2a4bda8490a8245d8efa7c9ca80",
       "value": 714314041.0
      }
     },
     "7f4aa2a4bda8490a8245d8efa7c9ca80": {
      "model_module": "@jupyter-widgets/controls",
      "model_module_version": "1.5.0",
      "model_name": "ProgressStyleModel",
      "state": {
       "_model_module": "@jupyter-widgets/controls",
       "_model_module_version": "1.5.0",
       "_model_name": "ProgressStyleModel",
       "_view_count": null,
       "_view_module": "@jupyter-widgets/base",
       "_view_module_version": "1.2.0",
       "_view_name": "StyleView",
       "bar_color": null,
       "description_width": "initial"
      }
     },
     "9931ad89b5aa40cfa4dca68e552b2951": {
      "model_module": "@jupyter-widgets/controls",
      "model_module_version": "1.5.0",
      "model_name": "HTMLModel",
      "state": {
       "_dom_classes": [],
       "_model_module": "@jupyter-widgets/controls",
       "_model_module_version": "1.5.0",
       "_model_name": "HTMLModel",
       "_view_count": null,
       "_view_module": "@jupyter-widgets/controls",
       "_view_module_version": "1.5.0",
       "_view_name": "HTMLView",
       "description": "",
       "description_tooltip": null,
       "layout": "IPY_MODEL_cbd21075a02d45449b7d40d621fc9c74",
       "placeholder": "​",
       "style": "IPY_MODEL_d6aba5b084794e32ba0dc670ecdc094f",
       "value": " 996k/996k [00:00&lt;00:00, 3.37MB/s]"
      }
     },
     "b4180958c8fb48029b2767371196ab5f": {
      "model_module": "@jupyter-widgets/base",
      "model_module_version": "1.2.0",
      "model_name": "LayoutModel",
      "state": {
       "_model_module": "@jupyter-widgets/base",
       "_model_module_version": "1.2.0",
       "_model_name": "LayoutModel",
       "_view_count": null,
       "_view_module": "@jupyter-widgets/base",
       "_view_module_version": "1.2.0",
       "_view_name": "LayoutView",
       "align_content": null,
       "align_items": null,
       "align_self": null,
       "border": null,
       "bottom": null,
       "display": null,
       "flex": null,
       "flex_flow": null,
       "grid_area": null,
       "grid_auto_columns": null,
       "grid_auto_flow": null,
       "grid_auto_rows": null,
       "grid_column": null,
       "grid_gap": null,
       "grid_row": null,
       "grid_template_areas": null,
       "grid_template_columns": null,
       "grid_template_rows": null,
       "height": null,
       "justify_content": null,
       "justify_items": null,
       "left": null,
       "margin": null,
       "max_height": null,
       "max_width": null,
       "min_height": null,
       "min_width": null,
       "object_fit": null,
       "object_position": null,
       "order": null,
       "overflow": null,
       "overflow_x": null,
       "overflow_y": null,
       "padding": null,
       "right": null,
       "top": null,
       "visibility": null,
       "width": null
      }
     },
     "b47f495d7aec4667b32ca78e1aea5cc9": {
      "model_module": "@jupyter-widgets/base",
      "model_module_version": "1.2.0",
      "model_name": "LayoutModel",
      "state": {
       "_model_module": "@jupyter-widgets/base",
       "_model_module_version": "1.2.0",
       "_model_name": "LayoutModel",
       "_view_count": null,
       "_view_module": "@jupyter-widgets/base",
       "_view_module_version": "1.2.0",
       "_view_name": "LayoutView",
       "align_content": null,
       "align_items": null,
       "align_self": null,
       "border": null,
       "bottom": null,
       "display": null,
       "flex": null,
       "flex_flow": null,
       "grid_area": null,
       "grid_auto_columns": null,
       "grid_auto_flow": null,
       "grid_auto_rows": null,
       "grid_column": null,
       "grid_gap": null,
       "grid_row": null,
       "grid_template_areas": null,
       "grid_template_columns": null,
       "grid_template_rows": null,
       "height": null,
       "justify_content": null,
       "justify_items": null,
       "left": null,
       "margin": null,
       "max_height": null,
       "max_width": null,
       "min_height": null,
       "min_width": null,
       "object_fit": null,
       "object_position": null,
       "order": null,
       "overflow": null,
       "overflow_x": null,
       "overflow_y": null,
       "padding": null,
       "right": null,
       "top": null,
       "visibility": null,
       "width": null
      }
     },
     "ba48b5eedb2d47b983ccad4c502242b5": {
      "model_module": "@jupyter-widgets/controls",
      "model_module_version": "1.5.0",
      "model_name": "HTMLModel",
      "state": {
       "_dom_classes": [],
       "_model_module": "@jupyter-widgets/controls",
       "_model_module_version": "1.5.0",
       "_model_name": "HTMLModel",
       "_view_count": null,
       "_view_module": "@jupyter-widgets/controls",
       "_view_module_version": "1.5.0",
       "_view_name": "HTMLView",
       "description": "",
       "description_tooltip": null,
       "layout": "IPY_MODEL_b4180958c8fb48029b2767371196ab5f",
       "placeholder": "​",
       "style": "IPY_MODEL_4048a5df6bbe47d09fb159204fb34fcd",
       "value": " 625/625 [00:37&lt;00:00, 16.9B/s]"
      }
     },
     "bd58a344664e4741bc9c147603dcabbb": {
      "model_module": "@jupyter-widgets/base",
      "model_module_version": "1.2.0",
      "model_name": "LayoutModel",
      "state": {
       "_model_module": "@jupyter-widgets/base",
       "_model_module_version": "1.2.0",
       "_model_name": "LayoutModel",
       "_view_count": null,
       "_view_module": "@jupyter-widgets/base",
       "_view_module_version": "1.2.0",
       "_view_name": "LayoutView",
       "align_content": null,
       "align_items": null,
       "align_self": null,
       "border": null,
       "bottom": null,
       "display": null,
       "flex": null,
       "flex_flow": null,
       "grid_area": null,
       "grid_auto_columns": null,
       "grid_auto_flow": null,
       "grid_auto_rows": null,
       "grid_column": null,
       "grid_gap": null,
       "grid_row": null,
       "grid_template_areas": null,
       "grid_template_columns": null,
       "grid_template_rows": null,
       "height": null,
       "justify_content": null,
       "justify_items": null,
       "left": null,
       "margin": null,
       "max_height": null,
       "max_width": null,
       "min_height": null,
       "min_width": null,
       "object_fit": null,
       "object_position": null,
       "order": null,
       "overflow": null,
       "overflow_x": null,
       "overflow_y": null,
       "padding": null,
       "right": null,
       "top": null,
       "visibility": null,
       "width": null
      }
     },
     "bdd70f32a13648a3a50213b5d102831e": {
      "model_module": "@jupyter-widgets/controls",
      "model_module_version": "1.5.0",
      "model_name": "HTMLModel",
      "state": {
       "_dom_classes": [],
       "_model_module": "@jupyter-widgets/controls",
       "_model_module_version": "1.5.0",
       "_model_name": "HTMLModel",
       "_view_count": null,
       "_view_module": "@jupyter-widgets/controls",
       "_view_module_version": "1.5.0",
       "_view_name": "HTMLView",
       "description": "",
       "description_tooltip": null,
       "layout": "IPY_MODEL_c098268eb9064f5e997c817b12ef13a8",
       "placeholder": "​",
       "style": "IPY_MODEL_4d51b6921a3a4e7fba180ccb6c7c275f",
       "value": " 714M/714M [00:23&lt;00:00, 30.3MB/s]"
      }
     },
     "bddf153dd6d0483385b723bd1a922068": {
      "model_module": "@jupyter-widgets/controls",
      "model_module_version": "1.5.0",
      "model_name": "HBoxModel",
      "state": {
       "_dom_classes": [],
       "_model_module": "@jupyter-widgets/controls",
       "_model_module_version": "1.5.0",
       "_model_name": "HBoxModel",
       "_view_count": null,
       "_view_module": "@jupyter-widgets/controls",
       "_view_module_version": "1.5.0",
       "_view_name": "HBoxView",
       "box_style": "",
       "children": [
        "IPY_MODEL_7d6690e224594526843f92adc9599390",
        "IPY_MODEL_bdd70f32a13648a3a50213b5d102831e"
       ],
       "layout": "IPY_MODEL_c9219f7a37744d87ae915692838a35bf"
      }
     },
     "c098268eb9064f5e997c817b12ef13a8": {
      "model_module": "@jupyter-widgets/base",
      "model_module_version": "1.2.0",
      "model_name": "LayoutModel",
      "state": {
       "_model_module": "@jupyter-widgets/base",
       "_model_module_version": "1.2.0",
       "_model_name": "LayoutModel",
       "_view_count": null,
       "_view_module": "@jupyter-widgets/base",
       "_view_module_version": "1.2.0",
       "_view_name": "LayoutView",
       "align_content": null,
       "align_items": null,
       "align_self": null,
       "border": null,
       "bottom": null,
       "display": null,
       "flex": null,
       "flex_flow": null,
       "grid_area": null,
       "grid_auto_columns": null,
       "grid_auto_flow": null,
       "grid_auto_rows": null,
       "grid_column": null,
       "grid_gap": null,
       "grid_row": null,
       "grid_template_areas": null,
       "grid_template_columns": null,
       "grid_template_rows": null,
       "height": null,
       "justify_content": null,
       "justify_items": null,
       "left": null,
       "margin": null,
       "max_height": null,
       "max_width": null,
       "min_height": null,
       "min_width": null,
       "object_fit": null,
       "object_position": null,
       "order": null,
       "overflow": null,
       "overflow_x": null,
       "overflow_y": null,
       "padding": null,
       "right": null,
       "top": null,
       "visibility": null,
       "width": null
      }
     },
     "c9219f7a37744d87ae915692838a35bf": {
      "model_module": "@jupyter-widgets/base",
      "model_module_version": "1.2.0",
      "model_name": "LayoutModel",
      "state": {
       "_model_module": "@jupyter-widgets/base",
       "_model_module_version": "1.2.0",
       "_model_name": "LayoutModel",
       "_view_count": null,
       "_view_module": "@jupyter-widgets/base",
       "_view_module_version": "1.2.0",
       "_view_name": "LayoutView",
       "align_content": null,
       "align_items": null,
       "align_self": null,
       "border": null,
       "bottom": null,
       "display": null,
       "flex": null,
       "flex_flow": null,
       "grid_area": null,
       "grid_auto_columns": null,
       "grid_auto_flow": null,
       "grid_auto_rows": null,
       "grid_column": null,
       "grid_gap": null,
       "grid_row": null,
       "grid_template_areas": null,
       "grid_template_columns": null,
       "grid_template_rows": null,
       "height": null,
       "justify_content": null,
       "justify_items": null,
       "left": null,
       "margin": null,
       "max_height": null,
       "max_width": null,
       "min_height": null,
       "min_width": null,
       "object_fit": null,
       "object_position": null,
       "order": null,
       "overflow": null,
       "overflow_x": null,
       "overflow_y": null,
       "padding": null,
       "right": null,
       "top": null,
       "visibility": null,
       "width": null
      }
     },
     "cbd21075a02d45449b7d40d621fc9c74": {
      "model_module": "@jupyter-widgets/base",
      "model_module_version": "1.2.0",
      "model_name": "LayoutModel",
      "state": {
       "_model_module": "@jupyter-widgets/base",
       "_model_module_version": "1.2.0",
       "_model_name": "LayoutModel",
       "_view_count": null,
       "_view_module": "@jupyter-widgets/base",
       "_view_module_version": "1.2.0",
       "_view_name": "LayoutView",
       "align_content": null,
       "align_items": null,
       "align_self": null,
       "border": null,
       "bottom": null,
       "display": null,
       "flex": null,
       "flex_flow": null,
       "grid_area": null,
       "grid_auto_columns": null,
       "grid_auto_flow": null,
       "grid_auto_rows": null,
       "grid_column": null,
       "grid_gap": null,
       "grid_row": null,
       "grid_template_areas": null,
       "grid_template_columns": null,
       "grid_template_rows": null,
       "height": null,
       "justify_content": null,
       "justify_items": null,
       "left": null,
       "margin": null,
       "max_height": null,
       "max_width": null,
       "min_height": null,
       "min_width": null,
       "object_fit": null,
       "object_position": null,
       "order": null,
       "overflow": null,
       "overflow_x": null,
       "overflow_y": null,
       "padding": null,
       "right": null,
       "top": null,
       "visibility": null,
       "width": null
      }
     },
     "d6aba5b084794e32ba0dc670ecdc094f": {
      "model_module": "@jupyter-widgets/controls",
      "model_module_version": "1.5.0",
      "model_name": "DescriptionStyleModel",
      "state": {
       "_model_module": "@jupyter-widgets/controls",
       "_model_module_version": "1.5.0",
       "_model_name": "DescriptionStyleModel",
       "_view_count": null,
       "_view_module": "@jupyter-widgets/base",
       "_view_module_version": "1.2.0",
       "_view_name": "StyleView",
       "description_width": ""
      }
     }
    },
    "version_major": 2,
    "version_minor": 0
   }
  }
 },
 "nbformat": 4,
 "nbformat_minor": 4
}
