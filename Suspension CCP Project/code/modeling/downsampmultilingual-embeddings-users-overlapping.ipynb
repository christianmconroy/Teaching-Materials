{
 "cells": [
  {
   "cell_type": "markdown",
   "metadata": {
    "papermill": {
     "duration": 0.051983,
     "end_time": "2021-05-18T00:48:49.866116",
     "exception": false,
     "start_time": "2021-05-18T00:48:49.814133",
     "status": "completed"
    },
    "tags": []
   },
   "source": [
    "### Load in Packages and Set Up Parameters"
   ]
  },
  {
   "cell_type": "code",
   "execution_count": 1,
   "metadata": {
    "_cell_guid": "b1076dfc-b9ad-4769-8c92-a6c4dae69d19",
    "_uuid": "8f2839f25d086af736a60e9eeb907d3b93b6e0e5",
    "execution": {
     "iopub.execute_input": "2021-05-18T00:48:50.006950Z",
     "iopub.status.busy": "2021-05-18T00:48:50.006265Z",
     "iopub.status.idle": "2021-05-18T00:48:54.922409Z",
     "shell.execute_reply": "2021-05-18T00:48:54.923104Z"
    },
    "papermill": {
     "duration": 4.974661,
     "end_time": "2021-05-18T00:48:54.923307",
     "exception": false,
     "start_time": "2021-05-18T00:48:49.948646",
     "status": "completed"
    },
    "tags": []
   },
   "outputs": [],
   "source": [
    "import pandas as pd\n",
    "from keras.preprocessing.sequence import pad_sequences\n",
    "\n",
    "import matplotlib.pyplot as plt\n",
    "%matplotlib inline"
   ]
  },
  {
   "cell_type": "code",
   "execution_count": 2,
   "metadata": {
    "execution": {
     "iopub.execute_input": "2021-05-18T00:48:57.075773Z",
     "iopub.status.busy": "2021-05-18T00:48:57.075170Z",
     "iopub.status.idle": "2021-05-18T00:48:57.080330Z",
     "shell.execute_reply": "2021-05-18T00:48:57.080818Z"
    },
    "papermill": {
     "duration": 2.067023,
     "end_time": "2021-05-18T00:48:57.080948",
     "exception": false,
     "start_time": "2021-05-18T00:48:55.013925",
     "status": "completed"
    },
    "tags": []
   },
   "outputs": [
    {
     "name": "stdout",
     "output_type": "stream",
     "text": [
      "Found GPU at: /device:GPU:0\n"
     ]
    }
   ],
   "source": [
    "import tensorflow as tf\n",
    "# Get the GPU device name.\n",
    "device_name = tf.test.gpu_device_name()\n",
    "# The device name should look like the following:\n",
    "if device_name == '/device:GPU:0':\n",
    "    print('Found GPU at: {}'.format(device_name))\n",
    "else:\n",
    "    raise SystemError('GPU device not found')"
   ]
  },
  {
   "cell_type": "markdown",
   "metadata": {
    "papermill": {
     "duration": 0.051407,
     "end_time": "2021-05-18T00:48:57.184714",
     "exception": false,
     "start_time": "2021-05-18T00:48:57.133307",
     "status": "completed"
    },
    "tags": []
   },
   "source": [
    "In order for torch to use the GPU, we need to identify and specify the GPU as the device. Later, in our training loop, we will load data onto the device."
   ]
  },
  {
   "cell_type": "code",
   "execution_count": 3,
   "metadata": {
    "execution": {
     "iopub.execute_input": "2021-05-18T00:48:57.294528Z",
     "iopub.status.busy": "2021-05-18T00:48:57.293851Z",
     "iopub.status.idle": "2021-05-18T00:48:58.427411Z",
     "shell.execute_reply": "2021-05-18T00:48:58.428195Z"
    },
    "papermill": {
     "duration": 1.191373,
     "end_time": "2021-05-18T00:48:58.428371",
     "exception": false,
     "start_time": "2021-05-18T00:48:57.236998",
     "status": "completed"
    },
    "tags": []
   },
   "outputs": [
    {
     "name": "stdout",
     "output_type": "stream",
     "text": [
      "There are 1 GPU(s) available.\n",
      "We will use the GPU: Tesla P100-PCIE-16GB\n"
     ]
    }
   ],
   "source": [
    "import torch\n",
    "# If there's a GPU available...\n",
    "if torch.cuda.is_available():    \n",
    "    # Tell PyTorch to use the GPU.    \n",
    "    device = torch.device(\"cuda\")\n",
    "    print('There are %d GPU(s) available.' % torch.cuda.device_count())\n",
    "    print('We will use the GPU:', torch.cuda.get_device_name(0))\n",
    "# If not...\n",
    "else:\n",
    "    print('No GPU available, using the CPU instead.')\n",
    "    device = torch.device(\"cpu\")"
   ]
  },
  {
   "cell_type": "markdown",
   "metadata": {
    "papermill": {
     "duration": 0.052064,
     "end_time": "2021-05-18T00:48:58.533933",
     "exception": false,
     "start_time": "2021-05-18T00:48:58.481869",
     "status": "completed"
    },
    "tags": []
   },
   "source": [
    "Next, let’s install the transformers package from Hugging Face which will give us a pytorch interface for working with BERT. (This library contains interfaces for other pretrained language models like OpenAI’s GPT and GPT-2.) We’ve selected the pytorch interface because it strikes a nice balance between the high-level APIs (which are easy to use but don’t provide insight into how things work) and tensorflow code (which contains lots of details but often sidetracks us into lessons about tensorflow, when the purpose here is BERT!)."
   ]
  },
  {
   "cell_type": "code",
   "execution_count": 4,
   "metadata": {
    "execution": {
     "iopub.execute_input": "2021-05-18T00:48:58.643253Z",
     "iopub.status.busy": "2021-05-18T00:48:58.642417Z",
     "iopub.status.idle": "2021-05-18T00:49:06.275803Z",
     "shell.execute_reply": "2021-05-18T00:49:06.274274Z"
    },
    "papermill": {
     "duration": 7.689922,
     "end_time": "2021-05-18T00:49:06.275959",
     "exception": false,
     "start_time": "2021-05-18T00:48:58.586037",
     "status": "completed"
    },
    "tags": []
   },
   "outputs": [
    {
     "name": "stdout",
     "output_type": "stream",
     "text": [
      "Requirement already satisfied: transformers in /opt/conda/lib/python3.7/site-packages (3.5.1)\r\n",
      "Requirement already satisfied: tqdm>=4.27 in /opt/conda/lib/python3.7/site-packages (from transformers) (4.45.0)\r\n",
      "Requirement already satisfied: tokenizers==0.9.3 in /opt/conda/lib/python3.7/site-packages (from transformers) (0.9.3)\r\n",
      "Requirement already satisfied: regex!=2019.12.17 in /opt/conda/lib/python3.7/site-packages (from transformers) (2020.4.4)\r\n",
      "Requirement already satisfied: sacremoses in /opt/conda/lib/python3.7/site-packages (from transformers) (0.0.43)\r\n",
      "Requirement already satisfied: filelock in /opt/conda/lib/python3.7/site-packages (from transformers) (3.0.10)\r\n",
      "Requirement already satisfied: packaging in /opt/conda/lib/python3.7/site-packages (from transformers) (20.1)\r\n",
      "Requirement already satisfied: protobuf in /opt/conda/lib/python3.7/site-packages (from transformers) (3.14.0)\r\n",
      "Requirement already satisfied: numpy in /opt/conda/lib/python3.7/site-packages (from transformers) (1.18.5)\r\n",
      "Requirement already satisfied: sentencepiece==0.1.91 in /opt/conda/lib/python3.7/site-packages (from transformers) (0.1.91)\r\n",
      "Requirement already satisfied: requests in /opt/conda/lib/python3.7/site-packages (from transformers) (2.23.0)\r\n",
      "Requirement already satisfied: pyparsing>=2.0.2 in /opt/conda/lib/python3.7/site-packages (from packaging->transformers) (2.4.7)\r\n",
      "Requirement already satisfied: six in /opt/conda/lib/python3.7/site-packages (from packaging->transformers) (1.14.0)\r\n",
      "Requirement already satisfied: six in /opt/conda/lib/python3.7/site-packages (from packaging->transformers) (1.14.0)\r\n",
      "Requirement already satisfied: chardet<4,>=3.0.2 in /opt/conda/lib/python3.7/site-packages (from requests->transformers) (3.0.4)\r\n",
      "Requirement already satisfied: idna<3,>=2.5 in /opt/conda/lib/python3.7/site-packages (from requests->transformers) (2.9)\r\n",
      "Requirement already satisfied: urllib3!=1.25.0,!=1.25.1,<1.26,>=1.21.1 in /opt/conda/lib/python3.7/site-packages (from requests->transformers) (1.25.9)\r\n",
      "Requirement already satisfied: certifi>=2017.4.17 in /opt/conda/lib/python3.7/site-packages (from requests->transformers) (2020.12.5)\r\n",
      "Requirement already satisfied: regex!=2019.12.17 in /opt/conda/lib/python3.7/site-packages (from transformers) (2020.4.4)\r\n",
      "Requirement already satisfied: joblib in /opt/conda/lib/python3.7/site-packages (from sacremoses->transformers) (0.14.1)\r\n",
      "Requirement already satisfied: click in /opt/conda/lib/python3.7/site-packages (from sacremoses->transformers) (7.1.1)\r\n",
      "Requirement already satisfied: six in /opt/conda/lib/python3.7/site-packages (from packaging->transformers) (1.14.0)\r\n",
      "Requirement already satisfied: tqdm>=4.27 in /opt/conda/lib/python3.7/site-packages (from transformers) (4.45.0)\r\n",
      "\u001b[33mWARNING: You are using pip version 20.3.1; however, version 21.1.1 is available.\r\n",
      "You should consider upgrading via the '/opt/conda/bin/python3.7 -m pip install --upgrade pip' command.\u001b[0m\r\n"
     ]
    }
   ],
   "source": [
    "!pip install transformers"
   ]
  },
  {
   "cell_type": "markdown",
   "metadata": {
    "papermill": {
     "duration": 0.053191,
     "end_time": "2021-05-18T00:49:06.416325",
     "exception": false,
     "start_time": "2021-05-18T00:49:06.363134",
     "status": "completed"
    },
    "tags": []
   },
   "source": [
    "### Load in Data"
   ]
  },
  {
   "cell_type": "code",
   "execution_count": 5,
   "metadata": {
    "execution": {
     "iopub.execute_input": "2021-05-18T00:49:06.529339Z",
     "iopub.status.busy": "2021-05-18T00:49:06.528821Z",
     "iopub.status.idle": "2021-05-18T00:49:06.863314Z",
     "shell.execute_reply": "2021-05-18T00:49:06.861964Z"
    },
    "papermill": {
     "duration": 0.393505,
     "end_time": "2021-05-18T00:49:06.863424",
     "exception": false,
     "start_time": "2021-05-18T00:49:06.469919",
     "status": "completed"
    },
    "tags": []
   },
   "outputs": [],
   "source": [
    "#### Load in data from S3\n",
    "\n",
    "# Import Train and Measure Balance\n",
    "# Import Flattened Data\n",
    "df_train_f = pd.read_csv(\"/kaggle/input/overlapping-downsamp/downsamp_df_train_full_cleaned_pe.csv\", encoding='utf_8_sig', low_memory=False)\n",
    "\n",
    "# Import Test and Measure Balance\n",
    "\n",
    "df_test_f = pd.read_csv(\"/kaggle/input/overlapping-downsamp/downsamp_df_test_full_cleaned_pe.csv\", encoding='utf_8_sig', low_memory=False)\n",
    "\n",
    "# Import Validation and Measure Balance\n",
    "# Import Flattened Data\n",
    "df_valid_f = pd.read_csv(\"/kaggle/input/overlapping-downsamp/downsamp_df_valid_full_cleaned_pe.csv\", encoding='utf_8_sig', low_memory=False)"
   ]
  },
  {
   "cell_type": "code",
   "execution_count": 6,
   "metadata": {
    "execution": {
     "iopub.execute_input": "2021-05-18T00:49:06.989754Z",
     "iopub.status.busy": "2021-05-18T00:49:06.988876Z",
     "iopub.status.idle": "2021-05-18T00:49:06.997477Z",
     "shell.execute_reply": "2021-05-18T00:49:06.997910Z"
    },
    "papermill": {
     "duration": 0.080373,
     "end_time": "2021-05-18T00:49:06.998021",
     "exception": false,
     "start_time": "2021-05-18T00:49:06.917648",
     "status": "completed"
    },
    "tags": []
   },
   "outputs": [
    {
     "data": {
      "text/html": [
       "<div>\n",
       "<style scoped>\n",
       "    .dataframe tbody tr th:only-of-type {\n",
       "        vertical-align: middle;\n",
       "    }\n",
       "\n",
       "    .dataframe tbody tr th {\n",
       "        vertical-align: top;\n",
       "    }\n",
       "\n",
       "    .dataframe thead th {\n",
       "        text-align: right;\n",
       "    }\n",
       "</style>\n",
       "<table border=\"1\" class=\"dataframe\">\n",
       "  <thead>\n",
       "    <tr style=\"text-align: right;\">\n",
       "      <th></th>\n",
       "      <th>id</th>\n",
       "      <th>user.screen_name</th>\n",
       "      <th>user.id</th>\n",
       "      <th>text</th>\n",
       "      <th>suspended</th>\n",
       "    </tr>\n",
       "  </thead>\n",
       "  <tbody>\n",
       "    <tr>\n",
       "      <th>0</th>\n",
       "      <td>16</td>\n",
       "      <td>AnnaAdachi4</td>\n",
       "      <td>1.278150e+18</td>\n",
       "      <td>DC18RE 互換充電器 2口充電器 適合マキタ 10.8V/14.4V/18V リチウムイ...</td>\n",
       "      <td>1</td>\n",
       "    </tr>\n",
       "    <tr>\n",
       "      <th>1</th>\n",
       "      <td>17</td>\n",
       "      <td>AnnaAdachi4</td>\n",
       "      <td>1.278150e+18</td>\n",
       "      <td>DC18RC バッテリー 充電器 https://t.co/ZJnwSOSLRG マキタ 充...</td>\n",
       "      <td>1</td>\n",
       "    </tr>\n",
       "    <tr>\n",
       "      <th>2</th>\n",
       "      <td>18</td>\n",
       "      <td>AnnaAdachi4</td>\n",
       "      <td>1.278150e+18</td>\n",
       "      <td>互換充電器 DC18RD マキタ 18v 14.4v バッテリ 対応 BL1430 BL14...</td>\n",
       "      <td>1</td>\n",
       "    </tr>\n",
       "    <tr>\n",
       "      <th>3</th>\n",
       "      <td>19</td>\n",
       "      <td>AnnaAdachi4</td>\n",
       "      <td>1.278150e+18</td>\n",
       "      <td>BL1840 BL1850… https://t.co/rfB8HlaIq3 WaxPar ...</td>\n",
       "      <td>1</td>\n",
       "    </tr>\n",
       "    <tr>\n",
       "      <th>4</th>\n",
       "      <td>20</td>\n",
       "      <td>AnnaAdachi4</td>\n",
       "      <td>1.278150e+18</td>\n",
       "      <td>14.4V 18V リチウムイオンバッテリ用 マキタ バッテリー BL1430 BL1440...</td>\n",
       "      <td>1</td>\n",
       "    </tr>\n",
       "    <tr>\n",
       "      <th>5</th>\n",
       "      <td>21</td>\n",
       "      <td>AnnaAdachi4</td>\n",
       "      <td>1.278150e+18</td>\n",
       "      <td>インパクト マキタ互換 電池 BL1830 BL1840 BL1850B BL1860B 本...</td>\n",
       "      <td>1</td>\n",
       "    </tr>\n",
       "  </tbody>\n",
       "</table>\n",
       "</div>"
      ],
      "text/plain": [
       "   id user.screen_name       user.id  \\\n",
       "0  16      AnnaAdachi4  1.278150e+18   \n",
       "1  17      AnnaAdachi4  1.278150e+18   \n",
       "2  18      AnnaAdachi4  1.278150e+18   \n",
       "3  19      AnnaAdachi4  1.278150e+18   \n",
       "4  20      AnnaAdachi4  1.278150e+18   \n",
       "5  21      AnnaAdachi4  1.278150e+18   \n",
       "\n",
       "                                                text  suspended  \n",
       "0  DC18RE 互換充電器 2口充電器 適合マキタ 10.8V/14.4V/18V リチウムイ...          1  \n",
       "1  DC18RC バッテリー 充電器 https://t.co/ZJnwSOSLRG マキタ 充...          1  \n",
       "2  互換充電器 DC18RD マキタ 18v 14.4v バッテリ 対応 BL1430 BL14...          1  \n",
       "3  BL1840 BL1850… https://t.co/rfB8HlaIq3 WaxPar ...          1  \n",
       "4  14.4V 18V リチウムイオンバッテリ用 マキタ バッテリー BL1430 BL1440...          1  \n",
       "5  インパクト マキタ互換 電池 BL1830 BL1840 BL1850B BL1860B 本...          1  "
      ]
     },
     "execution_count": 6,
     "metadata": {},
     "output_type": "execute_result"
    }
   ],
   "source": [
    "df_train_f.head(6)"
   ]
  },
  {
   "cell_type": "code",
   "execution_count": 7,
   "metadata": {
    "execution": {
     "iopub.execute_input": "2021-05-18T00:49:07.115324Z",
     "iopub.status.busy": "2021-05-18T00:49:07.114293Z",
     "iopub.status.idle": "2021-05-18T00:49:07.119424Z",
     "shell.execute_reply": "2021-05-18T00:49:07.118791Z"
    },
    "papermill": {
     "duration": 0.067563,
     "end_time": "2021-05-18T00:49:07.119567",
     "exception": false,
     "start_time": "2021-05-18T00:49:07.052004",
     "status": "completed"
    },
    "tags": []
   },
   "outputs": [
    {
     "name": "stdout",
     "output_type": "stream",
     "text": [
      "full train: 1292 unique ids train: 1292 full valid: 786 unique ids valid: 786 full test: 2779 unique ids test: 2779\n"
     ]
    }
   ],
   "source": [
    "print(\"full train:\", len(df_train_f), \"unique ids train:\", len(df_train_f['id'].unique()), \n",
    "      \"full valid:\", len(df_valid_f), \"unique ids valid:\", len(df_valid_f['id'].unique()), \n",
    "      \"full test:\", len(df_test_f), \"unique ids test:\", len(df_test_f['id'].unique()))\n",
    "\n",
    "#print(\"Train:\", len(sentences_train), \"Valid:\", len(sentences_valid), \"Test\", len(sentences_test))"
   ]
  },
  {
   "cell_type": "code",
   "execution_count": 8,
   "metadata": {
    "execution": {
     "iopub.execute_input": "2021-05-18T00:49:07.239913Z",
     "iopub.status.busy": "2021-05-18T00:49:07.239213Z",
     "iopub.status.idle": "2021-05-18T00:49:07.243185Z",
     "shell.execute_reply": "2021-05-18T00:49:07.242393Z"
    },
    "papermill": {
     "duration": 0.068505,
     "end_time": "2021-05-18T00:49:07.243296",
     "exception": false,
     "start_time": "2021-05-18T00:49:07.174791",
     "status": "completed"
    },
    "tags": []
   },
   "outputs": [],
   "source": [
    "df_train = df_train_f.drop([\"user.screen_name\"], axis=1)\n",
    "df_valid = df_valid_f.drop([\"user.screen_name\"], axis=1)\n",
    "df_test = df_test_f.drop([\"user.screen_name\"], axis=1)"
   ]
  },
  {
   "cell_type": "code",
   "execution_count": 9,
   "metadata": {
    "execution": {
     "iopub.execute_input": "2021-05-18T00:49:07.356044Z",
     "iopub.status.busy": "2021-05-18T00:49:07.355466Z",
     "iopub.status.idle": "2021-05-18T00:49:07.359354Z",
     "shell.execute_reply": "2021-05-18T00:49:07.358950Z"
    },
    "papermill": {
     "duration": 0.061819,
     "end_time": "2021-05-18T00:49:07.359441",
     "exception": false,
     "start_time": "2021-05-18T00:49:07.297622",
     "status": "completed"
    },
    "tags": []
   },
   "outputs": [],
   "source": [
    "# FOR TESING OUT CODE PURPOSE ONLY. REMOVE ONCE ALL IS WORKING. \n",
    "#df_train = df_train[:2000]\n",
    "#df_valid = df_valid[:2000]\n",
    "#df_test = df_test[:2000]"
   ]
  },
  {
   "cell_type": "code",
   "execution_count": 10,
   "metadata": {
    "execution": {
     "iopub.execute_input": "2021-05-18T00:49:07.477575Z",
     "iopub.status.busy": "2021-05-18T00:49:07.477028Z",
     "iopub.status.idle": "2021-05-18T00:49:07.482529Z",
     "shell.execute_reply": "2021-05-18T00:49:07.482003Z"
    },
    "papermill": {
     "duration": 0.069073,
     "end_time": "2021-05-18T00:49:07.482618",
     "exception": false,
     "start_time": "2021-05-18T00:49:07.413545",
     "status": "completed"
    },
    "tags": []
   },
   "outputs": [
    {
     "data": {
      "text/html": [
       "<div>\n",
       "<style scoped>\n",
       "    .dataframe tbody tr th:only-of-type {\n",
       "        vertical-align: middle;\n",
       "    }\n",
       "\n",
       "    .dataframe tbody tr th {\n",
       "        vertical-align: top;\n",
       "    }\n",
       "\n",
       "    .dataframe thead th {\n",
       "        text-align: right;\n",
       "    }\n",
       "</style>\n",
       "<table border=\"1\" class=\"dataframe\">\n",
       "  <thead>\n",
       "    <tr style=\"text-align: right;\">\n",
       "      <th></th>\n",
       "      <th>id</th>\n",
       "      <th>user.id</th>\n",
       "      <th>text</th>\n",
       "      <th>suspended</th>\n",
       "    </tr>\n",
       "  </thead>\n",
       "  <tbody>\n",
       "    <tr>\n",
       "      <th>0</th>\n",
       "      <td>16</td>\n",
       "      <td>1.278150e+18</td>\n",
       "      <td>DC18RE 互換充電器 2口充電器 適合マキタ 10.8V/14.4V/18V リチウムイ...</td>\n",
       "      <td>1</td>\n",
       "    </tr>\n",
       "    <tr>\n",
       "      <th>1</th>\n",
       "      <td>17</td>\n",
       "      <td>1.278150e+18</td>\n",
       "      <td>DC18RC バッテリー 充電器 https://t.co/ZJnwSOSLRG マキタ 充...</td>\n",
       "      <td>1</td>\n",
       "    </tr>\n",
       "    <tr>\n",
       "      <th>2</th>\n",
       "      <td>18</td>\n",
       "      <td>1.278150e+18</td>\n",
       "      <td>互換充電器 DC18RD マキタ 18v 14.4v バッテリ 対応 BL1430 BL14...</td>\n",
       "      <td>1</td>\n",
       "    </tr>\n",
       "    <tr>\n",
       "      <th>3</th>\n",
       "      <td>19</td>\n",
       "      <td>1.278150e+18</td>\n",
       "      <td>BL1840 BL1850… https://t.co/rfB8HlaIq3 WaxPar ...</td>\n",
       "      <td>1</td>\n",
       "    </tr>\n",
       "    <tr>\n",
       "      <th>4</th>\n",
       "      <td>20</td>\n",
       "      <td>1.278150e+18</td>\n",
       "      <td>14.4V 18V リチウムイオンバッテリ用 マキタ バッテリー BL1430 BL1440...</td>\n",
       "      <td>1</td>\n",
       "    </tr>\n",
       "  </tbody>\n",
       "</table>\n",
       "</div>"
      ],
      "text/plain": [
       "   id       user.id                                               text  \\\n",
       "0  16  1.278150e+18  DC18RE 互換充電器 2口充電器 適合マキタ 10.8V/14.4V/18V リチウムイ...   \n",
       "1  17  1.278150e+18  DC18RC バッテリー 充電器 https://t.co/ZJnwSOSLRG マキタ 充...   \n",
       "2  18  1.278150e+18  互換充電器 DC18RD マキタ 18v 14.4v バッテリ 対応 BL1430 BL14...   \n",
       "3  19  1.278150e+18  BL1840 BL1850… https://t.co/rfB8HlaIq3 WaxPar ...   \n",
       "4  20  1.278150e+18  14.4V 18V リチウムイオンバッテリ用 マキタ バッテリー BL1430 BL1440...   \n",
       "\n",
       "   suspended  \n",
       "0          1  \n",
       "1          1  \n",
       "2          1  \n",
       "3          1  \n",
       "4          1  "
      ]
     },
     "execution_count": 10,
     "metadata": {},
     "output_type": "execute_result"
    }
   ],
   "source": [
    "df_train.head()"
   ]
  },
  {
   "cell_type": "markdown",
   "metadata": {
    "papermill": {
     "duration": 0.055154,
     "end_time": "2021-05-18T00:49:07.593463",
     "exception": false,
     "start_time": "2021-05-18T00:49:07.538309",
     "status": "completed"
    },
    "tags": []
   },
   "source": [
    "As you can see in this way we ended with a column (text_split) which every row has a list of string of around 200 word length.\n"
   ]
  },
  {
   "cell_type": "code",
   "execution_count": 11,
   "metadata": {
    "execution": {
     "iopub.execute_input": "2021-05-18T00:49:07.710071Z",
     "iopub.status.busy": "2021-05-18T00:49:07.709458Z",
     "iopub.status.idle": "2021-05-18T00:49:11.205246Z",
     "shell.execute_reply": "2021-05-18T00:49:11.204764Z"
    },
    "papermill": {
     "duration": 3.556937,
     "end_time": "2021-05-18T00:49:11.205351",
     "exception": false,
     "start_time": "2021-05-18T00:49:07.648414",
     "status": "completed"
    },
    "tags": []
   },
   "outputs": [],
   "source": [
    "import numpy as np\n",
    "import pandas as pd\n",
    "import torch\n",
    "import transformers as ppb # pytorch transformers\n",
    "from sklearn.linear_model import LogisticRegression\n",
    "from sklearn.model_selection import cross_val_score\n",
    "from sklearn.model_selection import train_test_split\n",
    "from numba import cuda \n",
    "import gc\n",
    "\n",
    "from sklearn.metrics import roc_auc_score\n",
    "from sklearn.metrics import roc_curve"
   ]
  },
  {
   "cell_type": "markdown",
   "metadata": {
    "papermill": {
     "duration": 0.061738,
     "end_time": "2021-05-18T00:49:11.327115",
     "exception": false,
     "start_time": "2021-05-18T00:49:11.265377",
     "status": "completed"
    },
    "tags": []
   },
   "source": [
    "### Load in Model and Tokenizer"
   ]
  },
  {
   "cell_type": "code",
   "execution_count": 12,
   "metadata": {
    "execution": {
     "iopub.execute_input": "2021-05-18T00:49:11.456857Z",
     "iopub.status.busy": "2021-05-18T00:49:11.455934Z",
     "iopub.status.idle": "2021-05-18T00:49:12.578651Z",
     "shell.execute_reply": "2021-05-18T00:49:12.577817Z"
    },
    "papermill": {
     "duration": 1.188349,
     "end_time": "2021-05-18T00:49:12.578801",
     "exception": false,
     "start_time": "2021-05-18T00:49:11.390452",
     "status": "completed"
    },
    "tags": []
   },
   "outputs": [
    {
     "data": {
      "application/vnd.jupyter.widget-view+json": {
       "model_id": "282dff95b99148d8ab2745d075aa3570",
       "version_major": 2,
       "version_minor": 0
      },
      "text/plain": [
       "HBox(children=(FloatProgress(value=0.0, description='Downloading', max=995526.0, style=ProgressStyle(descripti…"
      ]
     },
     "metadata": {},
     "output_type": "display_data"
    },
    {
     "name": "stdout",
     "output_type": "stream",
     "text": [
      "\n"
     ]
    }
   ],
   "source": [
    "model_class, tokenizer_class, pretrained_weights = (ppb.BertModel, ppb.BertTokenizer, 'bert-base-multilingual-cased')\n",
    "\n",
    "# Load pretrained model/tokenizer\n",
    "tokenizer = tokenizer_class.from_pretrained(pretrained_weights)\n",
    "#model = model_class.from_pretrained(pretrained_weights)"
   ]
  },
  {
   "cell_type": "code",
   "execution_count": 13,
   "metadata": {
    "execution": {
     "iopub.execute_input": "2021-05-18T00:49:12.883965Z",
     "iopub.status.busy": "2021-05-18T00:49:12.882706Z",
     "iopub.status.idle": "2021-05-18T00:49:12.885765Z",
     "shell.execute_reply": "2021-05-18T00:49:12.885323Z"
    },
    "papermill": {
     "duration": 0.242838,
     "end_time": "2021-05-18T00:49:12.885866",
     "exception": false,
     "start_time": "2021-05-18T00:49:12.643028",
     "status": "completed"
    },
    "tags": []
   },
   "outputs": [],
   "source": [
    "gc.collect()\n",
    "torch.cuda.empty_cache()"
   ]
  },
  {
   "cell_type": "code",
   "execution_count": 14,
   "metadata": {
    "execution": {
     "iopub.execute_input": "2021-05-18T00:49:13.015906Z",
     "iopub.status.busy": "2021-05-18T00:49:13.015182Z",
     "iopub.status.idle": "2021-05-18T00:49:13.017599Z",
     "shell.execute_reply": "2021-05-18T00:49:13.018041Z"
    },
    "papermill": {
     "duration": 0.066196,
     "end_time": "2021-05-18T00:49:13.018147",
     "exception": false,
     "start_time": "2021-05-18T00:49:12.951951",
     "status": "completed"
    },
    "tags": []
   },
   "outputs": [],
   "source": [
    "# Get the lists of sentences and their labels.\n",
    "sentences_train = df_train.text.values\n",
    "train_labels = df_train.suspended.values\n",
    "ids_train = df_train.index.values\n",
    "\n",
    "sentences_valid = df_valid.text.values\n",
    "validation_labels = df_valid.suspended.values\n",
    "ids_validation = df_valid.index.values\n",
    "\n",
    "sentences_test = df_test.text.values\n",
    "test_labels = df_test.suspended.values\n",
    "ids_test = df_test.index.values"
   ]
  },
  {
   "cell_type": "code",
   "execution_count": 15,
   "metadata": {
    "execution": {
     "iopub.execute_input": "2021-05-18T00:49:13.138104Z",
     "iopub.status.busy": "2021-05-18T00:49:13.137158Z",
     "iopub.status.idle": "2021-05-18T00:49:13.141200Z",
     "shell.execute_reply": "2021-05-18T00:49:13.141853Z"
    },
    "papermill": {
     "duration": 0.067299,
     "end_time": "2021-05-18T00:49:13.142008",
     "exception": false,
     "start_time": "2021-05-18T00:49:13.074709",
     "status": "completed"
    },
    "tags": []
   },
   "outputs": [
    {
     "name": "stdout",
     "output_type": "stream",
     "text": [
      "Train: 1292 Valid: 786 Test 2779\n"
     ]
    }
   ],
   "source": [
    "print(\"Train:\", len(sentences_train), \"Valid:\", len(sentences_valid), \"Test\", len(sentences_test))"
   ]
  },
  {
   "cell_type": "markdown",
   "metadata": {
    "papermill": {
     "duration": 0.061328,
     "end_time": "2021-05-18T00:49:13.261635",
     "exception": false,
     "start_time": "2021-05-18T00:49:13.200307",
     "status": "completed"
    },
    "tags": []
   },
   "source": [
    "To feed our text to BERT, it must be split into tokens, and then these tokens must be mapped to their index in the tokenizer vocabulary.\n",
    "\n",
    "The tokenization must be performed by the tokenizer included with BERT–the below cell will download this for us."
   ]
  },
  {
   "cell_type": "code",
   "execution_count": 16,
   "metadata": {
    "execution": {
     "iopub.execute_input": "2021-05-18T00:49:13.386190Z",
     "iopub.status.busy": "2021-05-18T00:49:13.383992Z",
     "iopub.status.idle": "2021-05-18T00:49:13.818335Z",
     "shell.execute_reply": "2021-05-18T00:49:13.817848Z"
    },
    "papermill": {
     "duration": 0.495972,
     "end_time": "2021-05-18T00:49:13.818433",
     "exception": false,
     "start_time": "2021-05-18T00:49:13.322461",
     "status": "completed"
    },
    "tags": []
   },
   "outputs": [
    {
     "name": "stdout",
     "output_type": "stream",
     "text": [
      "Loading BERT tokenizer...\n"
     ]
    }
   ],
   "source": [
    "from transformers import BertTokenizer\n",
    "# Load the BERT tokenizer.\n",
    "print('Loading BERT tokenizer...')\n",
    "tokenizer = BertTokenizer.from_pretrained('bert-base-multilingual-cased', do_lower_case=True)"
   ]
  },
  {
   "cell_type": "markdown",
   "metadata": {
    "papermill": {
     "duration": 0.057259,
     "end_time": "2021-05-18T00:49:13.933350",
     "exception": false,
     "start_time": "2021-05-18T00:49:13.876091",
     "status": "completed"
    },
    "tags": []
   },
   "source": [
    "The tokenizer.encode function combines multiple steps for us:\n",
    "- Split the sentence into tokens.\n",
    "- Add the special [CLS] and [SEP] tokens.\n",
    "- Map the tokens to their IDs.\n",
    "\n",
    "Oddly, this function can perform truncating for us, but doesn’t handle padding."
   ]
  },
  {
   "cell_type": "markdown",
   "metadata": {
    "papermill": {
     "duration": 0.056061,
     "end_time": "2021-05-18T00:49:14.047057",
     "exception": false,
     "start_time": "2021-05-18T00:49:13.990996",
     "status": "completed"
    },
    "tags": []
   },
   "source": [
    "### Prep Data for Model"
   ]
  },
  {
   "cell_type": "code",
   "execution_count": 17,
   "metadata": {
    "execution": {
     "iopub.execute_input": "2021-05-18T00:49:14.168634Z",
     "iopub.status.busy": "2021-05-18T00:49:14.167849Z",
     "iopub.status.idle": "2021-05-18T00:49:14.170723Z",
     "shell.execute_reply": "2021-05-18T00:49:14.170290Z"
    },
    "papermill": {
     "duration": 0.066751,
     "end_time": "2021-05-18T00:49:14.170813",
     "exception": false,
     "start_time": "2021-05-18T00:49:14.104062",
     "status": "completed"
    },
    "tags": []
   },
   "outputs": [],
   "source": [
    "def sent_to_ids(sentences): \n",
    "    # Tokenize all of the sentences and map the tokens to thier word IDs.\n",
    "    input_ids = []\n",
    "    # For every sentence...\n",
    "    for sent in sentences:\n",
    "        # `encode` will:\n",
    "        #   (1) Tokenize the sentence.\n",
    "        #   (2) Prepend the `[CLS]` token to the start.\n",
    "        #   (3) Append the `[SEP]` token to the end.\n",
    "        #   (4) Map tokens to their IDs.\n",
    "        encoded_sent = tokenizer.encode(\n",
    "            sent,                      # Sentence to encode.\n",
    "            add_special_tokens = True, # Add '[CLS]' and '[SEP]'\n",
    "            # This function also supports truncation and conversion\n",
    "            # to pytorch tensors, but we need to do padding, so we\n",
    "            # can't use these features :( .\n",
    "            #max_length = 128,          # Truncate all sentences.\n",
    "            #return_tensors = 'pt',     # Return pytorch tensors.\n",
    "        )\n",
    "        # Add the encoded sentence to the list.\n",
    "        input_ids.append(encoded_sent)\n",
    "        # Pad and truncate our sequences so that they all have the same length\n",
    "    input_ids = pad_sequences(input_ids, maxlen=120, dtype=\"long\", \n",
    "                            value=0, truncating=\"post\", padding=\"post\")\n",
    "    return input_ids"
   ]
  },
  {
   "cell_type": "code",
   "execution_count": 18,
   "metadata": {
    "execution": {
     "iopub.execute_input": "2021-05-18T00:49:14.302902Z",
     "iopub.status.busy": "2021-05-18T00:49:14.297867Z",
     "iopub.status.idle": "2021-05-18T00:49:28.573056Z",
     "shell.execute_reply": "2021-05-18T00:49:28.572030Z"
    },
    "papermill": {
     "duration": 14.34548,
     "end_time": "2021-05-18T00:49:28.573165",
     "exception": false,
     "start_time": "2021-05-18T00:49:14.227685",
     "status": "completed"
    },
    "tags": []
   },
   "outputs": [
    {
     "name": "stderr",
     "output_type": "stream",
     "text": [
      "Token indices sequence length is longer than the specified maximum sequence length for this model (956 > 512). Running this sequence through the model will result in indexing errors\n"
     ]
    }
   ],
   "source": [
    "train_inputs = sent_to_ids(sentences_train)"
   ]
  },
  {
   "cell_type": "code",
   "execution_count": 19,
   "metadata": {
    "execution": {
     "iopub.execute_input": "2021-05-18T00:49:28.740496Z",
     "iopub.status.busy": "2021-05-18T00:49:28.720038Z",
     "iopub.status.idle": "2021-05-18T00:49:36.866292Z",
     "shell.execute_reply": "2021-05-18T00:49:36.864913Z"
    },
    "papermill": {
     "duration": 8.234457,
     "end_time": "2021-05-18T00:49:36.866403",
     "exception": false,
     "start_time": "2021-05-18T00:49:28.631946",
     "status": "completed"
    },
    "tags": []
   },
   "outputs": [],
   "source": [
    "validation_inputs = sent_to_ids(sentences_valid)"
   ]
  },
  {
   "cell_type": "code",
   "execution_count": 20,
   "metadata": {
    "execution": {
     "iopub.execute_input": "2021-05-18T00:49:37.030584Z",
     "iopub.status.busy": "2021-05-18T00:49:37.020414Z",
     "iopub.status.idle": "2021-05-18T00:50:05.949499Z",
     "shell.execute_reply": "2021-05-18T00:50:05.948430Z"
    },
    "papermill": {
     "duration": 29.025324,
     "end_time": "2021-05-18T00:50:05.949636",
     "exception": false,
     "start_time": "2021-05-18T00:49:36.924312",
     "status": "completed"
    },
    "tags": []
   },
   "outputs": [],
   "source": [
    "test_inputs = sent_to_ids(sentences_test)"
   ]
  },
  {
   "cell_type": "code",
   "execution_count": 21,
   "metadata": {
    "execution": {
     "iopub.execute_input": "2021-05-18T00:50:06.072183Z",
     "iopub.status.busy": "2021-05-18T00:50:06.071494Z",
     "iopub.status.idle": "2021-05-18T00:50:06.075147Z",
     "shell.execute_reply": "2021-05-18T00:50:06.074615Z"
    },
    "papermill": {
     "duration": 0.066318,
     "end_time": "2021-05-18T00:50:06.075241",
     "exception": false,
     "start_time": "2021-05-18T00:50:06.008923",
     "status": "completed"
    },
    "tags": []
   },
   "outputs": [
    {
     "name": "stdout",
     "output_type": "stream",
     "text": [
      "Train: 1292 Valid: 786 Test 2779\n"
     ]
    }
   ],
   "source": [
    "print(\"Train:\", len(train_inputs), \"Valid:\", len(validation_inputs), \"Test\", len(test_inputs))"
   ]
  },
  {
   "cell_type": "code",
   "execution_count": 22,
   "metadata": {
    "execution": {
     "iopub.execute_input": "2021-05-18T00:50:06.196977Z",
     "iopub.status.busy": "2021-05-18T00:50:06.196190Z",
     "iopub.status.idle": "2021-05-18T00:50:06.198599Z",
     "shell.execute_reply": "2021-05-18T00:50:06.198988Z"
    },
    "papermill": {
     "duration": 0.065356,
     "end_time": "2021-05-18T00:50:06.199098",
     "exception": false,
     "start_time": "2021-05-18T00:50:06.133742",
     "status": "completed"
    },
    "tags": []
   },
   "outputs": [],
   "source": [
    "def get_attn_msks(input_ids):\n",
    "  # Create attention masks\n",
    "    attention_masks = []\n",
    "  # For each sentence...\n",
    "    for sent in input_ids:\n",
    "        # Create the attention mask.\n",
    "        #   - If a token ID is 0, then it's padding, set the mask to 0.\n",
    "        #   - If a token ID is > 0, then it's a real token, set the mask to 1.\n",
    "        att_mask = [int(token_id > 0) for token_id in sent]\n",
    "      \n",
    "        # Store the attention mask for this sentence.\n",
    "        attention_masks.append(att_mask)\n",
    "    return attention_masks"
   ]
  },
  {
   "cell_type": "code",
   "execution_count": 23,
   "metadata": {
    "execution": {
     "iopub.execute_input": "2021-05-18T00:50:06.343682Z",
     "iopub.status.busy": "2021-05-18T00:50:06.338409Z",
     "iopub.status.idle": "2021-05-18T00:50:06.457158Z",
     "shell.execute_reply": "2021-05-18T00:50:06.456708Z"
    },
    "papermill": {
     "duration": 0.199658,
     "end_time": "2021-05-18T00:50:06.457245",
     "exception": false,
     "start_time": "2021-05-18T00:50:06.257587",
     "status": "completed"
    },
    "tags": []
   },
   "outputs": [],
   "source": [
    "train_masks = get_attn_msks(train_inputs)"
   ]
  },
  {
   "cell_type": "code",
   "execution_count": 24,
   "metadata": {
    "execution": {
     "iopub.execute_input": "2021-05-18T00:50:06.622056Z",
     "iopub.status.busy": "2021-05-18T00:50:06.611956Z",
     "iopub.status.idle": "2021-05-18T00:50:06.671297Z",
     "shell.execute_reply": "2021-05-18T00:50:06.670809Z"
    },
    "papermill": {
     "duration": 0.155076,
     "end_time": "2021-05-18T00:50:06.671394",
     "exception": false,
     "start_time": "2021-05-18T00:50:06.516318",
     "status": "completed"
    },
    "tags": []
   },
   "outputs": [],
   "source": [
    "validation_masks = get_attn_msks(validation_inputs)"
   ]
  },
  {
   "cell_type": "code",
   "execution_count": 25,
   "metadata": {
    "execution": {
     "iopub.execute_input": "2021-05-18T00:50:06.828637Z",
     "iopub.status.busy": "2021-05-18T00:50:06.818682Z",
     "iopub.status.idle": "2021-05-18T00:50:07.102206Z",
     "shell.execute_reply": "2021-05-18T00:50:07.101756Z"
    },
    "papermill": {
     "duration": 0.369381,
     "end_time": "2021-05-18T00:50:07.102313",
     "exception": false,
     "start_time": "2021-05-18T00:50:06.732932",
     "status": "completed"
    },
    "tags": []
   },
   "outputs": [],
   "source": [
    "test_masks = get_attn_msks(test_inputs)"
   ]
  },
  {
   "cell_type": "markdown",
   "metadata": {
    "papermill": {
     "duration": 0.059046,
     "end_time": "2021-05-18T00:50:07.220965",
     "exception": false,
     "start_time": "2021-05-18T00:50:07.161919",
     "status": "completed"
    },
    "tags": []
   },
   "source": [
    "Converting to PyTorch Data Types\n",
    "\n",
    "Our model expects PyTorch tensors rather than numpy.ndarrays, so convert all of our dataset variables."
   ]
  },
  {
   "cell_type": "code",
   "execution_count": 26,
   "metadata": {
    "execution": {
     "iopub.execute_input": "2021-05-18T00:50:07.354434Z",
     "iopub.status.busy": "2021-05-18T00:50:07.353880Z",
     "iopub.status.idle": "2021-05-18T00:50:07.392399Z",
     "shell.execute_reply": "2021-05-18T00:50:07.391927Z"
    },
    "papermill": {
     "duration": 0.111459,
     "end_time": "2021-05-18T00:50:07.392498",
     "exception": false,
     "start_time": "2021-05-18T00:50:07.281039",
     "status": "completed"
    },
    "tags": []
   },
   "outputs": [],
   "source": [
    "# Convert all inputs and labels into torch tensors, the required datatype \n",
    "# for our model.\n",
    "train_inputs = torch.tensor(train_inputs)\n",
    "validation_inputs = torch.tensor(validation_inputs)\n",
    "train_labels = torch.tensor(train_labels)\n",
    "validation_labels = torch.tensor(validation_labels)\n",
    "train_masks = torch.tensor(train_masks)\n",
    "validation_masks = torch.tensor(validation_masks)\n",
    "\n",
    "train_ids = torch.tensor(ids_train)\n",
    "valid_ids = torch.tensor(ids_validation)"
   ]
  },
  {
   "cell_type": "code",
   "execution_count": 27,
   "metadata": {
    "execution": {
     "iopub.execute_input": "2021-05-18T00:50:07.517877Z",
     "iopub.status.busy": "2021-05-18T00:50:07.517136Z",
     "iopub.status.idle": "2021-05-18T00:50:07.520752Z",
     "shell.execute_reply": "2021-05-18T00:50:07.521472Z"
    },
    "papermill": {
     "duration": 0.069618,
     "end_time": "2021-05-18T00:50:07.521596",
     "exception": false,
     "start_time": "2021-05-18T00:50:07.451978",
     "status": "completed"
    },
    "tags": []
   },
   "outputs": [
    {
     "name": "stdout",
     "output_type": "stream",
     "text": [
      "Train: 1292 Valid: 786 Test 2779\n"
     ]
    }
   ],
   "source": [
    "print(\"Train:\", len(train_inputs), \"Valid:\", len(validation_inputs), \"Test\", len(test_inputs))"
   ]
  },
  {
   "cell_type": "markdown",
   "metadata": {
    "papermill": {
     "duration": 0.05934,
     "end_time": "2021-05-18T00:50:07.641016",
     "exception": false,
     "start_time": "2021-05-18T00:50:07.581676",
     "status": "completed"
    },
    "tags": []
   },
   "source": [
    "We’ll also create an iterator for our dataset using the torch DataLoader class. This helps save on memory during training because, unlike a for loop, with an iterator the entire dataset does not need to be loaded into memory."
   ]
  },
  {
   "cell_type": "code",
   "execution_count": 28,
   "metadata": {
    "execution": {
     "iopub.execute_input": "2021-05-18T00:50:07.773583Z",
     "iopub.status.busy": "2021-05-18T00:50:07.772731Z",
     "iopub.status.idle": "2021-05-18T00:50:07.775334Z",
     "shell.execute_reply": "2021-05-18T00:50:07.774922Z"
    },
    "papermill": {
     "duration": 0.073839,
     "end_time": "2021-05-18T00:50:07.775421",
     "exception": false,
     "start_time": "2021-05-18T00:50:07.701582",
     "status": "completed"
    },
    "tags": []
   },
   "outputs": [],
   "source": [
    "from torch.utils.data import TensorDataset, DataLoader, RandomSampler, SequentialSampler\n",
    "# The DataLoader needs to know our batch size for training, so we specify it \n",
    "# here.\n",
    "# For fine-tuning BERT on a specific task, the authors recommend a batch size of\n",
    "# 16 or 32.\n",
    "batch_size = 16 # try 32, and then move down to 16 and 8. \n",
    "# Create the DataLoader for our training set.\n",
    "train_data = TensorDataset(train_inputs, train_masks, train_labels, train_ids)\n",
    "train_sampler = RandomSampler(train_data) # CHANGE TO SEQUENTIAL (TRAIN_SEQUENTIAL_SAMPLER - BUT DO SEQUENTIALLY FOR HIDDEN STATES)\n",
    "train_dataloader = DataLoader(train_data, sampler=train_sampler, batch_size=batch_size)\n",
    "# Create the DataLoader for our validation set.\n",
    "validation_data = TensorDataset(validation_inputs, validation_masks, validation_labels, valid_ids)\n",
    "validation_sampler = SequentialSampler(validation_data)\n",
    "validation_dataloader = DataLoader(validation_data, sampler=validation_sampler, batch_size=batch_size)\n",
    "\n",
    "# Create the DataLoader for our training set for the embedding extraction.\n",
    "train_sampler_sequential = SequentialSampler(train_data) # CHANGE TO SEQUENTIAL (TRAIN_SEQUENTIAL_SAMPLER - BUT DO SEQUENTIALLY FOR HIDDEN STATES)\n",
    "train_dataloader_sequential = DataLoader(train_data, sampler=train_sampler_sequential, batch_size=batch_size)"
   ]
  },
  {
   "cell_type": "markdown",
   "metadata": {
    "papermill": {
     "duration": 0.05847,
     "end_time": "2021-05-18T00:50:07.893025",
     "exception": false,
     "start_time": "2021-05-18T00:50:07.834555",
     "status": "completed"
    },
    "tags": []
   },
   "source": [
    "Now that our input data is properly formatted, it’s time to fine tune the BERT model.\n",
    "\n",
    "For this task, we first want to modify the pre-trained BERT model to give outputs for classification, and then we want to continue training the model on our dataset until that the entire model, end-to-end, is well-suited for our task.\n",
    "\n",
    "Thankfully, the huggingface pytorch implementation includes a set of interfaces designed for a variety of NLP tasks. Though these interfaces are all built on top of a trained BERT model, each has different top layers and output types designed to accomodate their specific NLP task.\n",
    "\n",
    "We’ll be using Bert Classification Model.This is the normal BERT model with an added single linear layer on top for classification that we will use as a sentence classifier. As we feed input data, the entire pre-trained BERT model and the additional untrained classification layer is trained on our specific task.\n"
   ]
  },
  {
   "cell_type": "code",
   "execution_count": 29,
   "metadata": {
    "execution": {
     "iopub.execute_input": "2021-05-18T00:50:08.018525Z",
     "iopub.status.busy": "2021-05-18T00:50:08.016431Z",
     "iopub.status.idle": "2021-05-18T00:51:10.224041Z",
     "shell.execute_reply": "2021-05-18T00:51:10.224455Z"
    },
    "papermill": {
     "duration": 62.272302,
     "end_time": "2021-05-18T00:51:10.224607",
     "exception": false,
     "start_time": "2021-05-18T00:50:07.952305",
     "status": "completed"
    },
    "tags": []
   },
   "outputs": [
    {
     "data": {
      "application/vnd.jupyter.widget-view+json": {
       "model_id": "0b2c04d30fed4a159b18ef60ec8756cc",
       "version_major": 2,
       "version_minor": 0
      },
      "text/plain": [
       "HBox(children=(FloatProgress(value=0.0, description='Downloading', max=625.0, style=ProgressStyle(description_…"
      ]
     },
     "metadata": {},
     "output_type": "display_data"
    },
    {
     "name": "stdout",
     "output_type": "stream",
     "text": [
      "\n"
     ]
    },
    {
     "data": {
      "application/vnd.jupyter.widget-view+json": {
       "model_id": "060859f5d7004036994c4f4cfae8b70a",
       "version_major": 2,
       "version_minor": 0
      },
      "text/plain": [
       "HBox(children=(FloatProgress(value=0.0, description='Downloading', max=714314041.0, style=ProgressStyle(descri…"
      ]
     },
     "metadata": {},
     "output_type": "display_data"
    },
    {
     "name": "stdout",
     "output_type": "stream",
     "text": [
      "\n"
     ]
    },
    {
     "name": "stderr",
     "output_type": "stream",
     "text": [
      "Some weights of the model checkpoint at bert-base-multilingual-cased were not used when initializing BertForSequenceClassification: ['cls.predictions.bias', 'cls.predictions.transform.dense.weight', 'cls.predictions.transform.dense.bias', 'cls.predictions.decoder.weight', 'cls.seq_relationship.weight', 'cls.seq_relationship.bias', 'cls.predictions.transform.LayerNorm.weight', 'cls.predictions.transform.LayerNorm.bias']\n",
      "- This IS expected if you are initializing BertForSequenceClassification from the checkpoint of a model trained on another task or with another architecture (e.g. initializing a BertForSequenceClassification model from a BertForPreTraining model).\n",
      "- This IS NOT expected if you are initializing BertForSequenceClassification from the checkpoint of a model that you expect to be exactly identical (initializing a BertForSequenceClassification model from a BertForSequenceClassification model).\n",
      "Some weights of BertForSequenceClassification were not initialized from the model checkpoint at bert-base-multilingual-cased and are newly initialized: ['classifier.weight', 'classifier.bias']\n",
      "You should probably TRAIN this model on a down-stream task to be able to use it for predictions and inference.\n"
     ]
    },
    {
     "data": {
      "text/plain": [
       "BertForSequenceClassification(\n",
       "  (bert): BertModel(\n",
       "    (embeddings): BertEmbeddings(\n",
       "      (word_embeddings): Embedding(119547, 768, padding_idx=0)\n",
       "      (position_embeddings): Embedding(512, 768)\n",
       "      (token_type_embeddings): Embedding(2, 768)\n",
       "      (LayerNorm): LayerNorm((768,), eps=1e-12, elementwise_affine=True)\n",
       "      (dropout): Dropout(p=0.1, inplace=False)\n",
       "    )\n",
       "    (encoder): BertEncoder(\n",
       "      (layer): ModuleList(\n",
       "        (0): BertLayer(\n",
       "          (attention): BertAttention(\n",
       "            (self): BertSelfAttention(\n",
       "              (query): Linear(in_features=768, out_features=768, bias=True)\n",
       "              (key): Linear(in_features=768, out_features=768, bias=True)\n",
       "              (value): Linear(in_features=768, out_features=768, bias=True)\n",
       "              (dropout): Dropout(p=0.1, inplace=False)\n",
       "            )\n",
       "            (output): BertSelfOutput(\n",
       "              (dense): Linear(in_features=768, out_features=768, bias=True)\n",
       "              (LayerNorm): LayerNorm((768,), eps=1e-12, elementwise_affine=True)\n",
       "              (dropout): Dropout(p=0.1, inplace=False)\n",
       "            )\n",
       "          )\n",
       "          (intermediate): BertIntermediate(\n",
       "            (dense): Linear(in_features=768, out_features=3072, bias=True)\n",
       "          )\n",
       "          (output): BertOutput(\n",
       "            (dense): Linear(in_features=3072, out_features=768, bias=True)\n",
       "            (LayerNorm): LayerNorm((768,), eps=1e-12, elementwise_affine=True)\n",
       "            (dropout): Dropout(p=0.1, inplace=False)\n",
       "          )\n",
       "        )\n",
       "        (1): BertLayer(\n",
       "          (attention): BertAttention(\n",
       "            (self): BertSelfAttention(\n",
       "              (query): Linear(in_features=768, out_features=768, bias=True)\n",
       "              (key): Linear(in_features=768, out_features=768, bias=True)\n",
       "              (value): Linear(in_features=768, out_features=768, bias=True)\n",
       "              (dropout): Dropout(p=0.1, inplace=False)\n",
       "            )\n",
       "            (output): BertSelfOutput(\n",
       "              (dense): Linear(in_features=768, out_features=768, bias=True)\n",
       "              (LayerNorm): LayerNorm((768,), eps=1e-12, elementwise_affine=True)\n",
       "              (dropout): Dropout(p=0.1, inplace=False)\n",
       "            )\n",
       "          )\n",
       "          (intermediate): BertIntermediate(\n",
       "            (dense): Linear(in_features=768, out_features=3072, bias=True)\n",
       "          )\n",
       "          (output): BertOutput(\n",
       "            (dense): Linear(in_features=3072, out_features=768, bias=True)\n",
       "            (LayerNorm): LayerNorm((768,), eps=1e-12, elementwise_affine=True)\n",
       "            (dropout): Dropout(p=0.1, inplace=False)\n",
       "          )\n",
       "        )\n",
       "        (2): BertLayer(\n",
       "          (attention): BertAttention(\n",
       "            (self): BertSelfAttention(\n",
       "              (query): Linear(in_features=768, out_features=768, bias=True)\n",
       "              (key): Linear(in_features=768, out_features=768, bias=True)\n",
       "              (value): Linear(in_features=768, out_features=768, bias=True)\n",
       "              (dropout): Dropout(p=0.1, inplace=False)\n",
       "            )\n",
       "            (output): BertSelfOutput(\n",
       "              (dense): Linear(in_features=768, out_features=768, bias=True)\n",
       "              (LayerNorm): LayerNorm((768,), eps=1e-12, elementwise_affine=True)\n",
       "              (dropout): Dropout(p=0.1, inplace=False)\n",
       "            )\n",
       "          )\n",
       "          (intermediate): BertIntermediate(\n",
       "            (dense): Linear(in_features=768, out_features=3072, bias=True)\n",
       "          )\n",
       "          (output): BertOutput(\n",
       "            (dense): Linear(in_features=3072, out_features=768, bias=True)\n",
       "            (LayerNorm): LayerNorm((768,), eps=1e-12, elementwise_affine=True)\n",
       "            (dropout): Dropout(p=0.1, inplace=False)\n",
       "          )\n",
       "        )\n",
       "        (3): BertLayer(\n",
       "          (attention): BertAttention(\n",
       "            (self): BertSelfAttention(\n",
       "              (query): Linear(in_features=768, out_features=768, bias=True)\n",
       "              (key): Linear(in_features=768, out_features=768, bias=True)\n",
       "              (value): Linear(in_features=768, out_features=768, bias=True)\n",
       "              (dropout): Dropout(p=0.1, inplace=False)\n",
       "            )\n",
       "            (output): BertSelfOutput(\n",
       "              (dense): Linear(in_features=768, out_features=768, bias=True)\n",
       "              (LayerNorm): LayerNorm((768,), eps=1e-12, elementwise_affine=True)\n",
       "              (dropout): Dropout(p=0.1, inplace=False)\n",
       "            )\n",
       "          )\n",
       "          (intermediate): BertIntermediate(\n",
       "            (dense): Linear(in_features=768, out_features=3072, bias=True)\n",
       "          )\n",
       "          (output): BertOutput(\n",
       "            (dense): Linear(in_features=3072, out_features=768, bias=True)\n",
       "            (LayerNorm): LayerNorm((768,), eps=1e-12, elementwise_affine=True)\n",
       "            (dropout): Dropout(p=0.1, inplace=False)\n",
       "          )\n",
       "        )\n",
       "        (4): BertLayer(\n",
       "          (attention): BertAttention(\n",
       "            (self): BertSelfAttention(\n",
       "              (query): Linear(in_features=768, out_features=768, bias=True)\n",
       "              (key): Linear(in_features=768, out_features=768, bias=True)\n",
       "              (value): Linear(in_features=768, out_features=768, bias=True)\n",
       "              (dropout): Dropout(p=0.1, inplace=False)\n",
       "            )\n",
       "            (output): BertSelfOutput(\n",
       "              (dense): Linear(in_features=768, out_features=768, bias=True)\n",
       "              (LayerNorm): LayerNorm((768,), eps=1e-12, elementwise_affine=True)\n",
       "              (dropout): Dropout(p=0.1, inplace=False)\n",
       "            )\n",
       "          )\n",
       "          (intermediate): BertIntermediate(\n",
       "            (dense): Linear(in_features=768, out_features=3072, bias=True)\n",
       "          )\n",
       "          (output): BertOutput(\n",
       "            (dense): Linear(in_features=3072, out_features=768, bias=True)\n",
       "            (LayerNorm): LayerNorm((768,), eps=1e-12, elementwise_affine=True)\n",
       "            (dropout): Dropout(p=0.1, inplace=False)\n",
       "          )\n",
       "        )\n",
       "        (5): BertLayer(\n",
       "          (attention): BertAttention(\n",
       "            (self): BertSelfAttention(\n",
       "              (query): Linear(in_features=768, out_features=768, bias=True)\n",
       "              (key): Linear(in_features=768, out_features=768, bias=True)\n",
       "              (value): Linear(in_features=768, out_features=768, bias=True)\n",
       "              (dropout): Dropout(p=0.1, inplace=False)\n",
       "            )\n",
       "            (output): BertSelfOutput(\n",
       "              (dense): Linear(in_features=768, out_features=768, bias=True)\n",
       "              (LayerNorm): LayerNorm((768,), eps=1e-12, elementwise_affine=True)\n",
       "              (dropout): Dropout(p=0.1, inplace=False)\n",
       "            )\n",
       "          )\n",
       "          (intermediate): BertIntermediate(\n",
       "            (dense): Linear(in_features=768, out_features=3072, bias=True)\n",
       "          )\n",
       "          (output): BertOutput(\n",
       "            (dense): Linear(in_features=3072, out_features=768, bias=True)\n",
       "            (LayerNorm): LayerNorm((768,), eps=1e-12, elementwise_affine=True)\n",
       "            (dropout): Dropout(p=0.1, inplace=False)\n",
       "          )\n",
       "        )\n",
       "        (6): BertLayer(\n",
       "          (attention): BertAttention(\n",
       "            (self): BertSelfAttention(\n",
       "              (query): Linear(in_features=768, out_features=768, bias=True)\n",
       "              (key): Linear(in_features=768, out_features=768, bias=True)\n",
       "              (value): Linear(in_features=768, out_features=768, bias=True)\n",
       "              (dropout): Dropout(p=0.1, inplace=False)\n",
       "            )\n",
       "            (output): BertSelfOutput(\n",
       "              (dense): Linear(in_features=768, out_features=768, bias=True)\n",
       "              (LayerNorm): LayerNorm((768,), eps=1e-12, elementwise_affine=True)\n",
       "              (dropout): Dropout(p=0.1, inplace=False)\n",
       "            )\n",
       "          )\n",
       "          (intermediate): BertIntermediate(\n",
       "            (dense): Linear(in_features=768, out_features=3072, bias=True)\n",
       "          )\n",
       "          (output): BertOutput(\n",
       "            (dense): Linear(in_features=3072, out_features=768, bias=True)\n",
       "            (LayerNorm): LayerNorm((768,), eps=1e-12, elementwise_affine=True)\n",
       "            (dropout): Dropout(p=0.1, inplace=False)\n",
       "          )\n",
       "        )\n",
       "        (7): BertLayer(\n",
       "          (attention): BertAttention(\n",
       "            (self): BertSelfAttention(\n",
       "              (query): Linear(in_features=768, out_features=768, bias=True)\n",
       "              (key): Linear(in_features=768, out_features=768, bias=True)\n",
       "              (value): Linear(in_features=768, out_features=768, bias=True)\n",
       "              (dropout): Dropout(p=0.1, inplace=False)\n",
       "            )\n",
       "            (output): BertSelfOutput(\n",
       "              (dense): Linear(in_features=768, out_features=768, bias=True)\n",
       "              (LayerNorm): LayerNorm((768,), eps=1e-12, elementwise_affine=True)\n",
       "              (dropout): Dropout(p=0.1, inplace=False)\n",
       "            )\n",
       "          )\n",
       "          (intermediate): BertIntermediate(\n",
       "            (dense): Linear(in_features=768, out_features=3072, bias=True)\n",
       "          )\n",
       "          (output): BertOutput(\n",
       "            (dense): Linear(in_features=3072, out_features=768, bias=True)\n",
       "            (LayerNorm): LayerNorm((768,), eps=1e-12, elementwise_affine=True)\n",
       "            (dropout): Dropout(p=0.1, inplace=False)\n",
       "          )\n",
       "        )\n",
       "        (8): BertLayer(\n",
       "          (attention): BertAttention(\n",
       "            (self): BertSelfAttention(\n",
       "              (query): Linear(in_features=768, out_features=768, bias=True)\n",
       "              (key): Linear(in_features=768, out_features=768, bias=True)\n",
       "              (value): Linear(in_features=768, out_features=768, bias=True)\n",
       "              (dropout): Dropout(p=0.1, inplace=False)\n",
       "            )\n",
       "            (output): BertSelfOutput(\n",
       "              (dense): Linear(in_features=768, out_features=768, bias=True)\n",
       "              (LayerNorm): LayerNorm((768,), eps=1e-12, elementwise_affine=True)\n",
       "              (dropout): Dropout(p=0.1, inplace=False)\n",
       "            )\n",
       "          )\n",
       "          (intermediate): BertIntermediate(\n",
       "            (dense): Linear(in_features=768, out_features=3072, bias=True)\n",
       "          )\n",
       "          (output): BertOutput(\n",
       "            (dense): Linear(in_features=3072, out_features=768, bias=True)\n",
       "            (LayerNorm): LayerNorm((768,), eps=1e-12, elementwise_affine=True)\n",
       "            (dropout): Dropout(p=0.1, inplace=False)\n",
       "          )\n",
       "        )\n",
       "        (9): BertLayer(\n",
       "          (attention): BertAttention(\n",
       "            (self): BertSelfAttention(\n",
       "              (query): Linear(in_features=768, out_features=768, bias=True)\n",
       "              (key): Linear(in_features=768, out_features=768, bias=True)\n",
       "              (value): Linear(in_features=768, out_features=768, bias=True)\n",
       "              (dropout): Dropout(p=0.1, inplace=False)\n",
       "            )\n",
       "            (output): BertSelfOutput(\n",
       "              (dense): Linear(in_features=768, out_features=768, bias=True)\n",
       "              (LayerNorm): LayerNorm((768,), eps=1e-12, elementwise_affine=True)\n",
       "              (dropout): Dropout(p=0.1, inplace=False)\n",
       "            )\n",
       "          )\n",
       "          (intermediate): BertIntermediate(\n",
       "            (dense): Linear(in_features=768, out_features=3072, bias=True)\n",
       "          )\n",
       "          (output): BertOutput(\n",
       "            (dense): Linear(in_features=3072, out_features=768, bias=True)\n",
       "            (LayerNorm): LayerNorm((768,), eps=1e-12, elementwise_affine=True)\n",
       "            (dropout): Dropout(p=0.1, inplace=False)\n",
       "          )\n",
       "        )\n",
       "        (10): BertLayer(\n",
       "          (attention): BertAttention(\n",
       "            (self): BertSelfAttention(\n",
       "              (query): Linear(in_features=768, out_features=768, bias=True)\n",
       "              (key): Linear(in_features=768, out_features=768, bias=True)\n",
       "              (value): Linear(in_features=768, out_features=768, bias=True)\n",
       "              (dropout): Dropout(p=0.1, inplace=False)\n",
       "            )\n",
       "            (output): BertSelfOutput(\n",
       "              (dense): Linear(in_features=768, out_features=768, bias=True)\n",
       "              (LayerNorm): LayerNorm((768,), eps=1e-12, elementwise_affine=True)\n",
       "              (dropout): Dropout(p=0.1, inplace=False)\n",
       "            )\n",
       "          )\n",
       "          (intermediate): BertIntermediate(\n",
       "            (dense): Linear(in_features=768, out_features=3072, bias=True)\n",
       "          )\n",
       "          (output): BertOutput(\n",
       "            (dense): Linear(in_features=3072, out_features=768, bias=True)\n",
       "            (LayerNorm): LayerNorm((768,), eps=1e-12, elementwise_affine=True)\n",
       "            (dropout): Dropout(p=0.1, inplace=False)\n",
       "          )\n",
       "        )\n",
       "        (11): BertLayer(\n",
       "          (attention): BertAttention(\n",
       "            (self): BertSelfAttention(\n",
       "              (query): Linear(in_features=768, out_features=768, bias=True)\n",
       "              (key): Linear(in_features=768, out_features=768, bias=True)\n",
       "              (value): Linear(in_features=768, out_features=768, bias=True)\n",
       "              (dropout): Dropout(p=0.1, inplace=False)\n",
       "            )\n",
       "            (output): BertSelfOutput(\n",
       "              (dense): Linear(in_features=768, out_features=768, bias=True)\n",
       "              (LayerNorm): LayerNorm((768,), eps=1e-12, elementwise_affine=True)\n",
       "              (dropout): Dropout(p=0.1, inplace=False)\n",
       "            )\n",
       "          )\n",
       "          (intermediate): BertIntermediate(\n",
       "            (dense): Linear(in_features=768, out_features=3072, bias=True)\n",
       "          )\n",
       "          (output): BertOutput(\n",
       "            (dense): Linear(in_features=3072, out_features=768, bias=True)\n",
       "            (LayerNorm): LayerNorm((768,), eps=1e-12, elementwise_affine=True)\n",
       "            (dropout): Dropout(p=0.1, inplace=False)\n",
       "          )\n",
       "        )\n",
       "      )\n",
       "    )\n",
       "    (pooler): BertPooler(\n",
       "      (dense): Linear(in_features=768, out_features=768, bias=True)\n",
       "      (activation): Tanh()\n",
       "    )\n",
       "  )\n",
       "  (dropout): Dropout(p=0.1, inplace=False)\n",
       "  (classifier): Linear(in_features=768, out_features=2, bias=True)\n",
       ")"
      ]
     },
     "execution_count": 29,
     "metadata": {},
     "output_type": "execute_result"
    }
   ],
   "source": [
    "from transformers import BertForSequenceClassification, AdamW, BertConfig\n",
    "# Load BertForSequenceClassification, the pretrained BERT model with a single \n",
    "# linear classification layer on top. \n",
    "model = BertForSequenceClassification.from_pretrained(\n",
    "    \"bert-base-multilingual-cased\", # Use the 12-layer BERT model, with an uncased vocab.\n",
    "    num_labels = 2, # The number of output labels--2 for binary classification.\n",
    "                    # You can increase this for multi-class tasks.   \n",
    "    output_attentions = False, # Whether the model returns attentions weights.\n",
    "    output_hidden_states = True, # Whether the model returns all hidden-states.\n",
    ")\n",
    "# Tell pytorch to run this model on the GPU.\n",
    "model.cuda()"
   ]
  },
  {
   "cell_type": "markdown",
   "metadata": {
    "papermill": {
     "duration": 0.061771,
     "end_time": "2021-05-18T00:51:10.347638",
     "exception": false,
     "start_time": "2021-05-18T00:51:10.285867",
     "status": "completed"
    },
    "tags": []
   },
   "source": [
    "In the below cell we can check the names and dimensions of the weights for:The embedding layer,The first of the twelve transformers & The output layer."
   ]
  },
  {
   "cell_type": "code",
   "execution_count": 30,
   "metadata": {
    "execution": {
     "iopub.execute_input": "2021-05-18T00:51:10.485412Z",
     "iopub.status.busy": "2021-05-18T00:51:10.484562Z",
     "iopub.status.idle": "2021-05-18T00:51:10.491358Z",
     "shell.execute_reply": "2021-05-18T00:51:10.490948Z"
    },
    "papermill": {
     "duration": 0.079997,
     "end_time": "2021-05-18T00:51:10.491446",
     "exception": false,
     "start_time": "2021-05-18T00:51:10.411449",
     "status": "completed"
    },
    "tags": []
   },
   "outputs": [
    {
     "name": "stdout",
     "output_type": "stream",
     "text": [
      "The BERT model has 201 different named parameters.\n",
      "\n",
      "==== Embedding Layer ====\n",
      "\n",
      "bert.embeddings.word_embeddings.weight                  (119547, 768)\n",
      "bert.embeddings.position_embeddings.weight                (512, 768)\n",
      "bert.embeddings.token_type_embeddings.weight                (2, 768)\n",
      "bert.embeddings.LayerNorm.weight                              (768,)\n",
      "bert.embeddings.LayerNorm.bias                                (768,)\n",
      "\n",
      "==== First Transformer ====\n",
      "\n",
      "bert.encoder.layer.0.attention.self.query.weight          (768, 768)\n",
      "bert.encoder.layer.0.attention.self.query.bias                (768,)\n",
      "bert.encoder.layer.0.attention.self.key.weight            (768, 768)\n",
      "bert.encoder.layer.0.attention.self.key.bias                  (768,)\n",
      "bert.encoder.layer.0.attention.self.value.weight          (768, 768)\n",
      "bert.encoder.layer.0.attention.self.value.bias                (768,)\n",
      "bert.encoder.layer.0.attention.output.dense.weight        (768, 768)\n",
      "bert.encoder.layer.0.attention.output.dense.bias              (768,)\n",
      "bert.encoder.layer.0.attention.output.LayerNorm.weight        (768,)\n",
      "bert.encoder.layer.0.attention.output.LayerNorm.bias          (768,)\n",
      "bert.encoder.layer.0.intermediate.dense.weight           (3072, 768)\n",
      "bert.encoder.layer.0.intermediate.dense.bias                 (3072,)\n",
      "bert.encoder.layer.0.output.dense.weight                 (768, 3072)\n",
      "bert.encoder.layer.0.output.dense.bias                        (768,)\n",
      "bert.encoder.layer.0.output.LayerNorm.weight                  (768,)\n",
      "bert.encoder.layer.0.output.LayerNorm.bias                    (768,)\n",
      "\n",
      "==== Output Layer ====\n",
      "\n",
      "bert.pooler.dense.weight                                  (768, 768)\n",
      "bert.pooler.dense.bias                                        (768,)\n",
      "classifier.weight                                           (2, 768)\n",
      "classifier.bias                                                 (2,)\n"
     ]
    }
   ],
   "source": [
    "# Get all of the model's parameters as a list of tuples.\n",
    "params = list(model.named_parameters())\n",
    "print('The BERT model has {:} different named parameters.\\n'.format(len(params)))\n",
    "print('==== Embedding Layer ====\\n')\n",
    "for p in params[0:5]:\n",
    "    print(\"{:<55} {:>12}\".format(p[0], str(tuple(p[1].size()))))\n",
    "print('\\n==== First Transformer ====\\n')\n",
    "for p in params[5:21]:\n",
    "    print(\"{:<55} {:>12}\".format(p[0], str(tuple(p[1].size()))))\n",
    "print('\\n==== Output Layer ====\\n')\n",
    "for p in params[-4:]:\n",
    "    print(\"{:<55} {:>12}\".format(p[0], str(tuple(p[1].size()))))"
   ]
  },
  {
   "cell_type": "markdown",
   "metadata": {
    "papermill": {
     "duration": 0.061375,
     "end_time": "2021-05-18T00:51:10.615430",
     "exception": false,
     "start_time": "2021-05-18T00:51:10.554055",
     "status": "completed"
    },
    "tags": []
   },
   "source": [
    "Now that we have our model loaded we need to grab the training hyperparameters from within the stored model."
   ]
  },
  {
   "cell_type": "markdown",
   "metadata": {
    "papermill": {
     "duration": 0.062212,
     "end_time": "2021-05-18T00:51:10.739744",
     "exception": false,
     "start_time": "2021-05-18T00:51:10.677532",
     "status": "completed"
    },
    "tags": []
   },
   "source": [
    "For the purposes of fine-tuning, we'll use the following values:\n",
    "\n",
    "- Batch size: 16, 32 (We chose 32 when creating our DataLoaders).\n",
    "- Learning rate (Adam): 5e-5, 3e-5, 2e-5 (We’ll use 2e-5).\n",
    "- Number of epochs: 2, 3, 4 (We’ll use 4).\n",
    "\n",
    "The epsilon parameter eps = 1e-8 is “a very small number to prevent any division by zero in the implementation”\n",
    "\n",
    "https://medium.com/@aniruddha.choudhury94/part-2-bert-fine-tuning-tutorial-with-pytorch-for-text-classification-on-the-corpus-of-linguistic-18057ce330e1"
   ]
  },
  {
   "cell_type": "code",
   "execution_count": 31,
   "metadata": {
    "execution": {
     "iopub.execute_input": "2021-05-18T00:51:10.873171Z",
     "iopub.status.busy": "2021-05-18T00:51:10.872422Z",
     "iopub.status.idle": "2021-05-18T00:51:10.875249Z",
     "shell.execute_reply": "2021-05-18T00:51:10.874812Z"
    },
    "papermill": {
     "duration": 0.073573,
     "end_time": "2021-05-18T00:51:10.875329",
     "exception": false,
     "start_time": "2021-05-18T00:51:10.801756",
     "status": "completed"
    },
    "tags": []
   },
   "outputs": [],
   "source": [
    "# Note: AdamW is a class from the huggingface library (as opposed to pytorch) \n",
    "# I believe the 'W' stands for 'Weight Decay fix\"\n",
    "# Cross entropy is used as the loss by default\n",
    "optimizer = AdamW(model.parameters(),\n",
    "                  lr = 2e-5, # args.learning_rate - default is 5e-5, our notebook had 2e-5\n",
    "                  eps = 1e-8 # args.adam_epsilon  - default is 1e-8.\n",
    "                )\n",
    "from transformers import get_linear_schedule_with_warmup\n",
    "# Number of training epochs (authors recommend between 2 and 4)\n",
    "epochs = 2\n",
    "# Total number of training steps is number of batches * number of epochs.\n",
    "total_steps = len(train_dataloader) * epochs\n",
    "# Create the learning rate scheduler.\n",
    "scheduler = get_linear_schedule_with_warmup(optimizer, \n",
    "                                            num_warmup_steps = 0, # Default value in run_glue.py\n",
    "                                            num_training_steps = total_steps)"
   ]
  },
  {
   "cell_type": "markdown",
   "metadata": {
    "papermill": {
     "duration": 0.062219,
     "end_time": "2021-05-18T00:51:10.999708",
     "exception": false,
     "start_time": "2021-05-18T00:51:10.937489",
     "status": "completed"
    },
    "tags": []
   },
   "source": [
    "4.3. Training Loop\n",
    "Below is our training loop. There’s a lot going on, but fundamentally for each pass in our loop we have a trianing phase and a validation phase. At each pass we need to:\n",
    "\n",
    "Training loop:\n",
    "\n",
    "- Unpack our data inputs and labels\n",
    "- Load data onto the GPU for acceleration\n",
    "- Clear out the gradients calculated in the previous pass.\n",
    "- In pytorch the gradients accumulate by default (useful for things like RNNs) unless you explicitly clear them out.\n",
    "- Forward pass (feed input data through the network)\n",
    "- Backward pass (backpropagation)\n",
    "- Tell the network to update parameters with optimizer.step()\n",
    "- Track variables for monitoring progress\n",
    "\n",
    "Evalution loop:\n",
    "- Unpack our data inputs and labels\n",
    "- Load data onto the GPU for acceleration\n",
    "- Forward pass (feed input data through the network)\n",
    "- Compute loss on our validation data and track variables for monitoring progress\n",
    "\n",
    "Define a helper function for calculating accuracy."
   ]
  },
  {
   "cell_type": "code",
   "execution_count": 32,
   "metadata": {
    "execution": {
     "iopub.execute_input": "2021-05-18T00:51:11.129475Z",
     "iopub.status.busy": "2021-05-18T00:51:11.128781Z",
     "iopub.status.idle": "2021-05-18T00:51:11.131713Z",
     "shell.execute_reply": "2021-05-18T00:51:11.131284Z"
    },
    "papermill": {
     "duration": 0.069957,
     "end_time": "2021-05-18T00:51:11.131801",
     "exception": false,
     "start_time": "2021-05-18T00:51:11.061844",
     "status": "completed"
    },
    "tags": []
   },
   "outputs": [],
   "source": [
    "import numpy as np\n",
    "# Function to calculate the accuracy of our predictions vs labels\n",
    "def flat_accuracy(preds, labels):\n",
    "    pred_flat = np.argmax(preds, axis=1).flatten()\n",
    "    labels_flat = labels.flatten()\n",
    "    return np.sum(pred_flat == labels_flat) / len(labels_flat)"
   ]
  },
  {
   "cell_type": "markdown",
   "metadata": {
    "papermill": {
     "duration": 0.062411,
     "end_time": "2021-05-18T00:51:11.256845",
     "exception": false,
     "start_time": "2021-05-18T00:51:11.194434",
     "status": "completed"
    },
    "tags": []
   },
   "source": [
    "Helper function for formatting elapsed times."
   ]
  },
  {
   "cell_type": "code",
   "execution_count": 33,
   "metadata": {
    "execution": {
     "iopub.execute_input": "2021-05-18T00:51:11.386944Z",
     "iopub.status.busy": "2021-05-18T00:51:11.386240Z",
     "iopub.status.idle": "2021-05-18T00:51:11.389241Z",
     "shell.execute_reply": "2021-05-18T00:51:11.388834Z"
    },
    "papermill": {
     "duration": 0.069724,
     "end_time": "2021-05-18T00:51:11.389325",
     "exception": false,
     "start_time": "2021-05-18T00:51:11.319601",
     "status": "completed"
    },
    "tags": []
   },
   "outputs": [],
   "source": [
    "import time\n",
    "import datetime\n",
    "def format_time(elapsed):\n",
    "    '''\n",
    "    Takes a time in seconds and returns a string hh:mm:ss\n",
    "    '''\n",
    "    # Round to the nearest second.\n",
    "    elapsed_rounded = int(round((elapsed)))\n",
    "    \n",
    "    # Format as hh:mm:ss\n",
    "    return str(datetime.timedelta(seconds=elapsed_rounded))"
   ]
  },
  {
   "cell_type": "markdown",
   "metadata": {
    "papermill": {
     "duration": 0.063573,
     "end_time": "2021-05-18T00:51:11.515686",
     "exception": false,
     "start_time": "2021-05-18T00:51:11.452113",
     "status": "completed"
    },
    "tags": []
   },
   "source": [
    "### Train Model"
   ]
  },
  {
   "cell_type": "code",
   "execution_count": 34,
   "metadata": {
    "execution": {
     "iopub.execute_input": "2021-05-18T00:51:11.659955Z",
     "iopub.status.busy": "2021-05-18T00:51:11.647377Z",
     "iopub.status.idle": "2021-05-18T00:51:54.785337Z",
     "shell.execute_reply": "2021-05-18T00:51:54.785931Z"
    },
    "papermill": {
     "duration": 43.208253,
     "end_time": "2021-05-18T00:51:54.786095",
     "exception": false,
     "start_time": "2021-05-18T00:51:11.577842",
     "status": "completed"
    },
    "tags": []
   },
   "outputs": [
    {
     "name": "stdout",
     "output_type": "stream",
     "text": [
      "\n",
      "======== Epoch 1 / 2 ========\n",
      "Training...\n",
      "  Batch    40  of     81.    Elapsed: 0:00:10.\n",
      "  Batch    80  of     81.    Elapsed: 0:00:19.\n",
      "\n",
      "  Average training loss: 0.51\n",
      "  Training epcoh took: 0:00:19\n",
      "\n",
      "Running Validation...\n",
      "  Accuracy: 0.43\n",
      "  Average validation loss: 1.22\n",
      "  Validation took: 0:00:03\n",
      "\n",
      "======== Epoch 2 / 2 ========\n",
      "Training...\n",
      "  Batch    40  of     81.    Elapsed: 0:00:09.\n",
      "  Batch    80  of     81.    Elapsed: 0:00:18.\n",
      "\n",
      "  Average training loss: 0.36\n",
      "  Training epcoh took: 0:00:18\n",
      "\n",
      "Running Validation...\n",
      "  Accuracy: 0.41\n",
      "  Average validation loss: 1.44\n",
      "  Validation took: 0:00:03\n",
      "\n",
      "Training complete!\n"
     ]
    }
   ],
   "source": [
    "import random\n",
    "# This training code is based on the `run_glue.py` script here:\n",
    "# https://github.com/huggingface/transformers/blob/5bfcd0485ece086ebcbed2d008813037968a9e58/examples/run_glue.py#L128\n",
    "# Set the seed value all over the place to make this reproducible.\n",
    "seed_val = 42\n",
    "random.seed(seed_val)\n",
    "np.random.seed(seed_val)\n",
    "torch.manual_seed(seed_val)\n",
    "torch.cuda.manual_seed_all(seed_val)\n",
    "# Store the average loss after each epoch so we can plot them.\n",
    "loss_values = []\n",
    "loss_values_valid = []\n",
    "#embeddings_tr, embeddings_vl = [], []\n",
    "train_predictions, valid_predictions = [], []\n",
    "train_true_labels, valid_true_labels = [], []\n",
    "# Store the hidden states for embedding extraction\n",
    "\n",
    "# For each epoch...\n",
    "for epoch_i in range(0, epochs):\n",
    "    \n",
    "    # ========================================\n",
    "    #               Training\n",
    "    # ========================================\n",
    "    \n",
    "    # Perform one full pass over the training set.\n",
    "    print(\"\")\n",
    "    print('======== Epoch {:} / {:} ========'.format(epoch_i + 1, epochs))\n",
    "    print('Training...')\n",
    "    # Measure how long the training epoch takes.\n",
    "    t0 = time.time()\n",
    "    # Reset the total loss for this epoch.\n",
    "    total_loss = 0\n",
    "    # Put the model into training mode. Don't be mislead--the call to \n",
    "    # `train` just changes the *mode*, it doesn't *perform* the training.\n",
    "    # `dropout` and `batchnorm` layers behave differently during training\n",
    "    # vs. test (source: https://stackoverflow.com/questions/51433378/what-does-model-train-do-in-pytorch)\n",
    "    model.train()\n",
    "    # For each batch of training data...\n",
    "    for step, batch in enumerate(train_dataloader):\n",
    "        # Progress update every 40 batches.\n",
    "        if step % 40 == 0 and not step == 0:\n",
    "            # Calculate elapsed time in minutes.\n",
    "            elapsed = format_time(time.time() - t0)\n",
    "            \n",
    "            # Report progress.\n",
    "            print('  Batch {:>5,}  of  {:>5,}.    Elapsed: {:}.'.format(step, len(train_dataloader), elapsed))\n",
    "        # Unpack this training batch from our dataloader. \n",
    "        #\n",
    "        # As we unpack the batch, we'll also copy each tensor to the GPU using the \n",
    "        # `to` method.\n",
    "        #\n",
    "        # `batch` contains three pytorch tensors:\n",
    "        #   [0]: input ids \n",
    "        #   [1]: attention masks\n",
    "        #   [2]: labels \n",
    "        b_input_ids = batch[0].to(device)\n",
    "        b_input_mask = batch[1].to(device)\n",
    "        b_labels = batch[2].to(device)\n",
    "        # Always clear any previously calculated gradients before performing a\n",
    "        # backward pass. PyTorch doesn't do this automatically because \n",
    "        # accumulating the gradients is \"convenient while training RNNs\". \n",
    "        # (source: https://stackoverflow.com/questions/48001598/why-do-we-need-to-call-zero-grad-in-pytorch)\n",
    "        model.zero_grad()        \n",
    "        # Perform a forward pass (evaluate the model on this training batch).\n",
    "        # This will return the loss (rather than the model output) because we\n",
    "        # have provided the `labels`.\n",
    "        # The documentation for this `model` function is here: \n",
    "        # https://huggingface.co/transformers/v2.2.0/model_doc/bert.html#transformers.BertForSequenceClassification\n",
    "        outputs_a = model(b_input_ids, \n",
    "                    token_type_ids=None, \n",
    "                    attention_mask=b_input_mask, \n",
    "                    labels=b_labels)\n",
    "        \n",
    "        # The call to `model` always returns a tuple, so we need to pull the \n",
    "        # loss value out of the tuple.\n",
    "        loss = outputs_a[0]\n",
    "        logits_tr = outputs_a[1]\n",
    "        #hidden_state_tr = outputs_a[2]\n",
    "        #features = hidden_state_tr[0][:,0,:].detach().cpu().numpy()\n",
    "        #embeddings_tr.append([epoch_i,batch[3], features]) # FIX AS NO BACKPROP WEIGHT ADJUSTED\n",
    "        # Accumulate the training loss over all of the batches so that we can\n",
    "        # calculate the average loss at the end. `loss` is a Tensor containing a\n",
    "        # single value; the `.item()` function just returns the Python value \n",
    "        # from the tensor.\n",
    "        # Move logits, hidden states, and labels to CPU\n",
    "        logits_tr = logits_tr.detach().cpu().numpy()\n",
    "        label_ids = b_labels.to('cpu').numpy()\n",
    "        #train_predictions.append([epoch_i,logits_tr])\n",
    "        #train_true_labels.append([epoch_i,label_ids])\n",
    "\n",
    "        total_loss += loss.item()\n",
    "        # Perform a backward pass to calculate the gradients.\n",
    "        loss.backward()\n",
    "        # Clip the norm of the gradients to 1.0.\n",
    "        # This is to help prevent the \"exploding gradients\" problem.\n",
    "        torch.nn.utils.clip_grad_norm_(model.parameters(), 1.0)\n",
    "        # Update parameters and take a step using the computed gradient.\n",
    "        # The optimizer dictates the \"update rule\"--how the parameters are\n",
    "        # modified based on their gradients, the learning rate, etc.\n",
    "        optimizer.step()\n",
    "        # Update the learning rate.\n",
    "        scheduler.step()\n",
    "    # Calculate the average loss over the training data.\n",
    "    avg_train_loss = total_loss / len(train_dataloader)            \n",
    "\n",
    "    # Store the loss value for plotting the learning curve.\n",
    "    loss_values.append(avg_train_loss)\n",
    "    print(\"\")\n",
    "    print(\"  Average training loss: {0:.2f}\".format(avg_train_loss))\n",
    "    print(\"  Training epcoh took: {:}\".format(format_time(time.time() - t0)))\n",
    "    \n",
    "    # ========================================\n",
    "    #               Validation\n",
    "    # ========================================\n",
    "    # After the completion of each training epoch, measure our performance on\n",
    "    # our validation set.\n",
    "    print(\"\")\n",
    "    print(\"Running Validation...\")\n",
    "    t0 = time.time()\n",
    "    # Put the model in evaluation mode--the dropout layers behave differently\n",
    "    # during evaluation.\n",
    "    model.eval()\n",
    "    # Tracking variables \n",
    "    eval_loss, eval_accuracy = 0, 0\n",
    "    nb_eval_steps, nb_eval_examples = 0, 0\n",
    "    # Evaluate data for one epoch\n",
    "    for batch in validation_dataloader:\n",
    "        \n",
    "        # Add batch to GPU\n",
    "        b_input_ids = batch[0].to(device)\n",
    "        b_input_mask = batch[1].to(device)\n",
    "        b_labels = batch[2].to(device)\n",
    "        \n",
    "        # Telling the model not to compute or store gradients, saving memory and\n",
    "        # speeding up validation\n",
    "        with torch.no_grad():        \n",
    "            # Forward pass, calculate logit predictions.\n",
    "            # This will return the logits rather than the loss because we have\n",
    "            # not provided labels.\n",
    "            # token_type_ids is the same as the \"segment ids\", which \n",
    "            # differentiates sentence 1 and 2 in 2-sentence tasks.\n",
    "            # The documentation for this `model` function is here: \n",
    "            # https://huggingface.co/transformers/v2.2.0/model_doc/bert.html#transformers.BertForSequenceClassification\n",
    "            outputs = model(b_input_ids, \n",
    "                            token_type_ids=None, \n",
    "                            attention_mask=b_input_mask,\n",
    "                            labels=b_labels)\n",
    "        \n",
    "        # Get the \"logits\" output by the model. The \"logits\" are the output\n",
    "        # values prior to applying an activation function like the softmax.\n",
    "        loss = outputs[0]\n",
    "        logits = outputs[1]\n",
    "        #hidden_state_vl = outputs[2]\n",
    "        #features = hidden_state_vl[0][:,0,:].detach().cpu().numpy()\n",
    "        #embeddings_vl.append([epoch_i,batch[3], features])\n",
    "        \n",
    "        # Track Loss\n",
    "        eval_loss += loss.item()\n",
    "\n",
    "        # Move logits, hidden states, and labels to CPU\n",
    "        logits = logits.detach().cpu().numpy()\n",
    "        #hidden_state_vl = hidden_state_vl.detach().cpu().numpy()\n",
    "        label_ids = b_labels.to('cpu').numpy()\n",
    "\n",
    "        valid_predictions.append([epoch_i,logits])\n",
    "        valid_true_labels.append([epoch_i,label_ids])\n",
    "        \n",
    "        # Calculate the accuracy for this batch of test sentences.\n",
    "        tmp_eval_accuracy = flat_accuracy(logits, label_ids)\n",
    "        \n",
    "        # Accumulate the total accuracy.\n",
    "        eval_accuracy += tmp_eval_accuracy\n",
    "        # Track the number of batches\n",
    "        nb_eval_steps += 1\n",
    "    \n",
    "    # Calculate the average loss over the training data.\n",
    "    avg_valid_loss = eval_loss / len(validation_dataloader)   \n",
    "\n",
    "    # Report the final accuracy for this validation run.\n",
    "    loss_values_valid.append(avg_valid_loss)\n",
    "    print(\"  Accuracy: {0:.2f}\".format(eval_accuracy/nb_eval_steps))\n",
    "    print(\"  Average validation loss: {0:.2f}\".format(avg_valid_loss))\n",
    "    print(\"  Validation took: {:}\".format(format_time(time.time() - t0)))\n",
    "    \n",
    "print(\"\")\n",
    "print(\"Training complete!\")"
   ]
  },
  {
   "cell_type": "markdown",
   "metadata": {
    "papermill": {
     "duration": 0.064845,
     "end_time": "2021-05-18T00:51:54.917094",
     "exception": false,
     "start_time": "2021-05-18T00:51:54.852249",
     "status": "completed"
    },
    "tags": []
   },
   "source": [
    "### Plot Training and Validation Loss"
   ]
  },
  {
   "cell_type": "code",
   "execution_count": 35,
   "metadata": {
    "execution": {
     "iopub.execute_input": "2021-05-18T00:51:55.061756Z",
     "iopub.status.busy": "2021-05-18T00:51:55.060915Z",
     "iopub.status.idle": "2021-05-18T00:51:55.064933Z",
     "shell.execute_reply": "2021-05-18T00:51:55.064505Z"
    },
    "papermill": {
     "duration": 0.08289,
     "end_time": "2021-05-18T00:51:55.065021",
     "exception": false,
     "start_time": "2021-05-18T00:51:54.982131",
     "status": "completed"
    },
    "tags": []
   },
   "outputs": [
    {
     "data": {
      "text/html": [
       "<div>\n",
       "<style scoped>\n",
       "    .dataframe tbody tr th:only-of-type {\n",
       "        vertical-align: middle;\n",
       "    }\n",
       "\n",
       "    .dataframe tbody tr th {\n",
       "        vertical-align: top;\n",
       "    }\n",
       "\n",
       "    .dataframe thead th {\n",
       "        text-align: right;\n",
       "    }\n",
       "</style>\n",
       "<table border=\"1\" class=\"dataframe\">\n",
       "  <thead>\n",
       "    <tr style=\"text-align: right;\">\n",
       "      <th></th>\n",
       "      <th>epoch</th>\n",
       "      <th>variable</th>\n",
       "      <th>value</th>\n",
       "    </tr>\n",
       "  </thead>\n",
       "  <tbody>\n",
       "    <tr>\n",
       "      <th>0</th>\n",
       "      <td>0</td>\n",
       "      <td>Train Loss</td>\n",
       "      <td>0.511990</td>\n",
       "    </tr>\n",
       "    <tr>\n",
       "      <th>1</th>\n",
       "      <td>1</td>\n",
       "      <td>Train Loss</td>\n",
       "      <td>0.357696</td>\n",
       "    </tr>\n",
       "    <tr>\n",
       "      <th>2</th>\n",
       "      <td>0</td>\n",
       "      <td>Valid Loss</td>\n",
       "      <td>1.217922</td>\n",
       "    </tr>\n",
       "    <tr>\n",
       "      <th>3</th>\n",
       "      <td>1</td>\n",
       "      <td>Valid Loss</td>\n",
       "      <td>1.444899</td>\n",
       "    </tr>\n",
       "  </tbody>\n",
       "</table>\n",
       "</div>"
      ],
      "text/plain": [
       "   epoch    variable     value\n",
       "0      0  Train Loss  0.511990\n",
       "1      1  Train Loss  0.357696\n",
       "2      0  Valid Loss  1.217922\n",
       "3      1  Valid Loss  1.444899"
      ]
     },
     "execution_count": 35,
     "metadata": {},
     "output_type": "execute_result"
    }
   ],
   "source": [
    "df= pd.DataFrame({'epoch': range(0, epochs), 'Train Loss': loss_values, 'Valid Loss': loss_values_valid})\n",
    "df = pd.melt(df, id_vars=['epoch'], value_vars=['Train Loss', 'Valid Loss'])\n",
    "df"
   ]
  },
  {
   "cell_type": "code",
   "execution_count": 36,
   "metadata": {
    "execution": {
     "iopub.execute_input": "2021-05-18T00:51:55.199660Z",
     "iopub.status.busy": "2021-05-18T00:51:55.198989Z",
     "iopub.status.idle": "2021-05-18T00:51:57.372577Z",
     "shell.execute_reply": "2021-05-18T00:51:57.371810Z"
    },
    "papermill": {
     "duration": 2.242902,
     "end_time": "2021-05-18T00:51:57.372682",
     "exception": false,
     "start_time": "2021-05-18T00:51:55.129780",
     "status": "completed"
    },
    "tags": []
   },
   "outputs": [
    {
     "data": {
      "text/html": [
       "        <script type=\"text/javascript\">\n",
       "        window.PlotlyConfig = {MathJaxConfig: 'local'};\n",
       "        if (window.MathJax) {MathJax.Hub.Config({SVG: {font: \"STIX-Web\"}});}\n",
       "        if (typeof require !== 'undefined') {\n",
       "        require.undef(\"plotly\");\n",
       "        requirejs.config({\n",
       "            paths: {\n",
       "                'plotly': ['https://cdn.plot.ly/plotly-latest.min']\n",
       "            }\n",
       "        });\n",
       "        require(['plotly'], function(Plotly) {\n",
       "            window._Plotly = Plotly;\n",
       "        });\n",
       "        }\n",
       "        </script>\n",
       "        "
      ]
     },
     "metadata": {},
     "output_type": "display_data"
    },
    {
     "data": {
      "text/html": [
       "<div>                            <div id=\"e1b7eaac-346b-486e-9b72-d20653d75593\" class=\"plotly-graph-div\" style=\"height:525px; width:100%;\"></div>            <script type=\"text/javascript\">                require([\"plotly\"], function(Plotly) {                    window.PLOTLYENV=window.PLOTLYENV || {};                                    if (document.getElementById(\"e1b7eaac-346b-486e-9b72-d20653d75593\")) {                    Plotly.newPlot(                        \"e1b7eaac-346b-486e-9b72-d20653d75593\",                        [{\"hovertemplate\": \"variable=Train Loss<br>epoch=%{x}<br>value=%{y}<extra></extra>\", \"legendgroup\": \"Train Loss\", \"line\": {\"color\": \"#636efa\", \"dash\": \"solid\"}, \"mode\": \"lines\", \"name\": \"Train Loss\", \"orientation\": \"v\", \"showlegend\": true, \"type\": \"scatter\", \"x\": [0, 1], \"xaxis\": \"x\", \"y\": [0.5119903696539961, 0.3576960230683103], \"yaxis\": \"y\"}, {\"hovertemplate\": \"variable=Valid Loss<br>epoch=%{x}<br>value=%{y}<extra></extra>\", \"legendgroup\": \"Valid Loss\", \"line\": {\"color\": \"#EF553B\", \"dash\": \"solid\"}, \"mode\": \"lines\", \"name\": \"Valid Loss\", \"orientation\": \"v\", \"showlegend\": true, \"type\": \"scatter\", \"x\": [0, 1], \"xaxis\": \"x\", \"y\": [1.217921880185604, 1.4448993842303752], \"yaxis\": \"y\"}],                        {\"legend\": {\"title\": {\"text\": \"variable\"}, \"tracegroupgap\": 0}, \"margin\": {\"t\": 60}, \"template\": {\"data\": {\"bar\": [{\"error_x\": {\"color\": \"#2a3f5f\"}, \"error_y\": {\"color\": \"#2a3f5f\"}, \"marker\": {\"line\": {\"color\": \"#E5ECF6\", \"width\": 0.5}}, \"type\": \"bar\"}], \"barpolar\": [{\"marker\": {\"line\": {\"color\": \"#E5ECF6\", \"width\": 0.5}}, \"type\": \"barpolar\"}], \"carpet\": [{\"aaxis\": {\"endlinecolor\": \"#2a3f5f\", \"gridcolor\": \"white\", \"linecolor\": \"white\", \"minorgridcolor\": \"white\", \"startlinecolor\": \"#2a3f5f\"}, \"baxis\": {\"endlinecolor\": \"#2a3f5f\", \"gridcolor\": \"white\", \"linecolor\": \"white\", \"minorgridcolor\": \"white\", \"startlinecolor\": \"#2a3f5f\"}, \"type\": \"carpet\"}], \"choropleth\": [{\"colorbar\": {\"outlinewidth\": 0, \"ticks\": \"\"}, \"type\": \"choropleth\"}], \"contour\": [{\"colorbar\": {\"outlinewidth\": 0, \"ticks\": \"\"}, \"colorscale\": [[0.0, \"#0d0887\"], [0.1111111111111111, \"#46039f\"], [0.2222222222222222, \"#7201a8\"], [0.3333333333333333, \"#9c179e\"], [0.4444444444444444, \"#bd3786\"], [0.5555555555555556, \"#d8576b\"], [0.6666666666666666, \"#ed7953\"], [0.7777777777777778, \"#fb9f3a\"], [0.8888888888888888, \"#fdca26\"], [1.0, \"#f0f921\"]], \"type\": \"contour\"}], \"contourcarpet\": [{\"colorbar\": {\"outlinewidth\": 0, \"ticks\": \"\"}, \"type\": \"contourcarpet\"}], \"heatmap\": [{\"colorbar\": {\"outlinewidth\": 0, \"ticks\": \"\"}, \"colorscale\": [[0.0, \"#0d0887\"], [0.1111111111111111, \"#46039f\"], [0.2222222222222222, \"#7201a8\"], [0.3333333333333333, \"#9c179e\"], [0.4444444444444444, \"#bd3786\"], [0.5555555555555556, \"#d8576b\"], [0.6666666666666666, \"#ed7953\"], [0.7777777777777778, \"#fb9f3a\"], [0.8888888888888888, \"#fdca26\"], [1.0, \"#f0f921\"]], \"type\": \"heatmap\"}], \"heatmapgl\": [{\"colorbar\": {\"outlinewidth\": 0, \"ticks\": \"\"}, \"colorscale\": [[0.0, \"#0d0887\"], [0.1111111111111111, \"#46039f\"], [0.2222222222222222, \"#7201a8\"], [0.3333333333333333, \"#9c179e\"], [0.4444444444444444, \"#bd3786\"], [0.5555555555555556, \"#d8576b\"], [0.6666666666666666, \"#ed7953\"], [0.7777777777777778, \"#fb9f3a\"], [0.8888888888888888, \"#fdca26\"], [1.0, \"#f0f921\"]], \"type\": \"heatmapgl\"}], \"histogram\": [{\"marker\": {\"colorbar\": {\"outlinewidth\": 0, \"ticks\": \"\"}}, \"type\": \"histogram\"}], \"histogram2d\": [{\"colorbar\": {\"outlinewidth\": 0, \"ticks\": \"\"}, \"colorscale\": [[0.0, \"#0d0887\"], [0.1111111111111111, \"#46039f\"], [0.2222222222222222, \"#7201a8\"], [0.3333333333333333, \"#9c179e\"], [0.4444444444444444, \"#bd3786\"], [0.5555555555555556, \"#d8576b\"], [0.6666666666666666, \"#ed7953\"], [0.7777777777777778, \"#fb9f3a\"], [0.8888888888888888, \"#fdca26\"], [1.0, \"#f0f921\"]], \"type\": \"histogram2d\"}], \"histogram2dcontour\": [{\"colorbar\": {\"outlinewidth\": 0, \"ticks\": \"\"}, \"colorscale\": [[0.0, \"#0d0887\"], [0.1111111111111111, \"#46039f\"], [0.2222222222222222, \"#7201a8\"], [0.3333333333333333, \"#9c179e\"], [0.4444444444444444, \"#bd3786\"], [0.5555555555555556, \"#d8576b\"], [0.6666666666666666, \"#ed7953\"], [0.7777777777777778, \"#fb9f3a\"], [0.8888888888888888, \"#fdca26\"], [1.0, \"#f0f921\"]], \"type\": \"histogram2dcontour\"}], \"mesh3d\": [{\"colorbar\": {\"outlinewidth\": 0, \"ticks\": \"\"}, \"type\": \"mesh3d\"}], \"parcoords\": [{\"line\": {\"colorbar\": {\"outlinewidth\": 0, \"ticks\": \"\"}}, \"type\": \"parcoords\"}], \"pie\": [{\"automargin\": true, \"type\": \"pie\"}], \"scatter\": [{\"marker\": {\"colorbar\": {\"outlinewidth\": 0, \"ticks\": \"\"}}, \"type\": \"scatter\"}], \"scatter3d\": [{\"line\": {\"colorbar\": {\"outlinewidth\": 0, \"ticks\": \"\"}}, \"marker\": {\"colorbar\": {\"outlinewidth\": 0, \"ticks\": \"\"}}, \"type\": \"scatter3d\"}], \"scattercarpet\": [{\"marker\": {\"colorbar\": {\"outlinewidth\": 0, \"ticks\": \"\"}}, \"type\": \"scattercarpet\"}], \"scattergeo\": [{\"marker\": {\"colorbar\": {\"outlinewidth\": 0, \"ticks\": \"\"}}, \"type\": \"scattergeo\"}], \"scattergl\": [{\"marker\": {\"colorbar\": {\"outlinewidth\": 0, \"ticks\": \"\"}}, \"type\": \"scattergl\"}], \"scattermapbox\": [{\"marker\": {\"colorbar\": {\"outlinewidth\": 0, \"ticks\": \"\"}}, \"type\": \"scattermapbox\"}], \"scatterpolar\": [{\"marker\": {\"colorbar\": {\"outlinewidth\": 0, \"ticks\": \"\"}}, \"type\": \"scatterpolar\"}], \"scatterpolargl\": [{\"marker\": {\"colorbar\": {\"outlinewidth\": 0, \"ticks\": \"\"}}, \"type\": \"scatterpolargl\"}], \"scatterternary\": [{\"marker\": {\"colorbar\": {\"outlinewidth\": 0, \"ticks\": \"\"}}, \"type\": \"scatterternary\"}], \"surface\": [{\"colorbar\": {\"outlinewidth\": 0, \"ticks\": \"\"}, \"colorscale\": [[0.0, \"#0d0887\"], [0.1111111111111111, \"#46039f\"], [0.2222222222222222, \"#7201a8\"], [0.3333333333333333, \"#9c179e\"], [0.4444444444444444, \"#bd3786\"], [0.5555555555555556, \"#d8576b\"], [0.6666666666666666, \"#ed7953\"], [0.7777777777777778, \"#fb9f3a\"], [0.8888888888888888, \"#fdca26\"], [1.0, \"#f0f921\"]], \"type\": \"surface\"}], \"table\": [{\"cells\": {\"fill\": {\"color\": \"#EBF0F8\"}, \"line\": {\"color\": \"white\"}}, \"header\": {\"fill\": {\"color\": \"#C8D4E3\"}, \"line\": {\"color\": \"white\"}}, \"type\": \"table\"}]}, \"layout\": {\"annotationdefaults\": {\"arrowcolor\": \"#2a3f5f\", \"arrowhead\": 0, \"arrowwidth\": 1}, \"autotypenumbers\": \"strict\", \"coloraxis\": {\"colorbar\": {\"outlinewidth\": 0, \"ticks\": \"\"}}, \"colorscale\": {\"diverging\": [[0, \"#8e0152\"], [0.1, \"#c51b7d\"], [0.2, \"#de77ae\"], [0.3, \"#f1b6da\"], [0.4, \"#fde0ef\"], [0.5, \"#f7f7f7\"], [0.6, \"#e6f5d0\"], [0.7, \"#b8e186\"], [0.8, \"#7fbc41\"], [0.9, \"#4d9221\"], [1, \"#276419\"]], \"sequential\": [[0.0, \"#0d0887\"], [0.1111111111111111, \"#46039f\"], [0.2222222222222222, \"#7201a8\"], [0.3333333333333333, \"#9c179e\"], [0.4444444444444444, \"#bd3786\"], [0.5555555555555556, \"#d8576b\"], [0.6666666666666666, \"#ed7953\"], [0.7777777777777778, \"#fb9f3a\"], [0.8888888888888888, \"#fdca26\"], [1.0, \"#f0f921\"]], \"sequentialminus\": [[0.0, \"#0d0887\"], [0.1111111111111111, \"#46039f\"], [0.2222222222222222, \"#7201a8\"], [0.3333333333333333, \"#9c179e\"], [0.4444444444444444, \"#bd3786\"], [0.5555555555555556, \"#d8576b\"], [0.6666666666666666, \"#ed7953\"], [0.7777777777777778, \"#fb9f3a\"], [0.8888888888888888, \"#fdca26\"], [1.0, \"#f0f921\"]]}, \"colorway\": [\"#636efa\", \"#EF553B\", \"#00cc96\", \"#ab63fa\", \"#FFA15A\", \"#19d3f3\", \"#FF6692\", \"#B6E880\", \"#FF97FF\", \"#FECB52\"], \"font\": {\"color\": \"#2a3f5f\"}, \"geo\": {\"bgcolor\": \"white\", \"lakecolor\": \"white\", \"landcolor\": \"#E5ECF6\", \"showlakes\": true, \"showland\": true, \"subunitcolor\": \"white\"}, \"hoverlabel\": {\"align\": \"left\"}, \"hovermode\": \"closest\", \"mapbox\": {\"style\": \"light\"}, \"paper_bgcolor\": \"white\", \"plot_bgcolor\": \"#E5ECF6\", \"polar\": {\"angularaxis\": {\"gridcolor\": \"white\", \"linecolor\": \"white\", \"ticks\": \"\"}, \"bgcolor\": \"#E5ECF6\", \"radialaxis\": {\"gridcolor\": \"white\", \"linecolor\": \"white\", \"ticks\": \"\"}}, \"scene\": {\"xaxis\": {\"backgroundcolor\": \"#E5ECF6\", \"gridcolor\": \"white\", \"gridwidth\": 2, \"linecolor\": \"white\", \"showbackground\": true, \"ticks\": \"\", \"zerolinecolor\": \"white\"}, \"yaxis\": {\"backgroundcolor\": \"#E5ECF6\", \"gridcolor\": \"white\", \"gridwidth\": 2, \"linecolor\": \"white\", \"showbackground\": true, \"ticks\": \"\", \"zerolinecolor\": \"white\"}, \"zaxis\": {\"backgroundcolor\": \"#E5ECF6\", \"gridcolor\": \"white\", \"gridwidth\": 2, \"linecolor\": \"white\", \"showbackground\": true, \"ticks\": \"\", \"zerolinecolor\": \"white\"}}, \"shapedefaults\": {\"line\": {\"color\": \"#2a3f5f\"}}, \"ternary\": {\"aaxis\": {\"gridcolor\": \"white\", \"linecolor\": \"white\", \"ticks\": \"\"}, \"baxis\": {\"gridcolor\": \"white\", \"linecolor\": \"white\", \"ticks\": \"\"}, \"bgcolor\": \"#E5ECF6\", \"caxis\": {\"gridcolor\": \"white\", \"linecolor\": \"white\", \"ticks\": \"\"}}, \"title\": {\"x\": 0.05}, \"xaxis\": {\"automargin\": true, \"gridcolor\": \"white\", \"linecolor\": \"white\", \"ticks\": \"\", \"title\": {\"standoff\": 15}, \"zerolinecolor\": \"white\", \"zerolinewidth\": 2}, \"yaxis\": {\"automargin\": true, \"gridcolor\": \"white\", \"linecolor\": \"white\", \"ticks\": \"\", \"title\": {\"standoff\": 15}, \"zerolinecolor\": \"white\", \"zerolinewidth\": 2}}}, \"title\": {\"text\": \"Training loss of the Model\"}, \"xaxis\": {\"anchor\": \"y\", \"domain\": [0.0, 1.0], \"title\": {\"text\": \"Epoch\"}}, \"yaxis\": {\"anchor\": \"x\", \"domain\": [0.0, 1.0], \"title\": {\"text\": \"Loss\"}}},                        {\"responsive\": true}                    ).then(function(){\n",
       "                            \n",
       "var gd = document.getElementById('e1b7eaac-346b-486e-9b72-d20653d75593');\n",
       "var x = new MutationObserver(function (mutations, observer) {{\n",
       "        var display = window.getComputedStyle(gd).display;\n",
       "        if (!display || display === 'none') {{\n",
       "            console.log([gd, 'removed!']);\n",
       "            Plotly.purge(gd);\n",
       "            observer.disconnect();\n",
       "        }}\n",
       "}});\n",
       "\n",
       "// Listen for the removal of the full notebook cells\n",
       "var notebookContainer = gd.closest('#notebook-container');\n",
       "if (notebookContainer) {{\n",
       "    x.observe(notebookContainer, {childList: true});\n",
       "}}\n",
       "\n",
       "// Listen for the clearing of the current output cell\n",
       "var outputEl = gd.closest('.output');\n",
       "if (outputEl) {{\n",
       "    x.observe(outputEl, {childList: true});\n",
       "}}\n",
       "\n",
       "                        })                };                });            </script>        </div>"
      ]
     },
     "metadata": {},
     "output_type": "display_data"
    }
   ],
   "source": [
    "import plotly.express as px\n",
    "\n",
    "fig = px.line(df, x='epoch', y='value', color = 'variable')\n",
    "fig.update_layout(title='Training loss of the Model',\n",
    "                   xaxis_title='Epoch',\n",
    "                   yaxis_title='Loss')\n",
    "fig.show()"
   ]
  },
  {
   "cell_type": "markdown",
   "metadata": {
    "papermill": {
     "duration": 0.067797,
     "end_time": "2021-05-18T00:51:57.507122",
     "exception": false,
     "start_time": "2021-05-18T00:51:57.439325",
     "status": "completed"
    },
    "tags": []
   },
   "source": [
    "### Extract Embeddings"
   ]
  },
  {
   "cell_type": "code",
   "execution_count": 37,
   "metadata": {
    "execution": {
     "iopub.execute_input": "2021-05-18T00:51:57.657059Z",
     "iopub.status.busy": "2021-05-18T00:51:57.646907Z",
     "iopub.status.idle": "2021-05-18T00:52:05.704429Z",
     "shell.execute_reply": "2021-05-18T00:52:05.703906Z"
    },
    "papermill": {
     "duration": 8.131573,
     "end_time": "2021-05-18T00:52:05.704561",
     "exception": false,
     "start_time": "2021-05-18T00:51:57.572988",
     "status": "completed"
    },
    "tags": []
   },
   "outputs": [
    {
     "name": "stdout",
     "output_type": "stream",
     "text": [
      "Extracting embeddinga for 1,292 train sentences...\n",
      "Extracting embeddinga for 786 validation sentences...\n"
     ]
    }
   ],
   "source": [
    "embeddings_tr, embeddings_vl = [], []\n",
    "# ========================================\n",
    "#               Train\n",
    "# ========================================\n",
    "# Extract embeddinga on train set\n",
    "print('Extracting embeddinga for {:,} train sentences...'.format(len(train_inputs)))\n",
    "# Put model in evaluation mode\n",
    "model.eval()\n",
    "# Tracking variables \n",
    "predictions_train , true_labels_train = [], []\n",
    "# Predict \n",
    "for batch in train_dataloader_sequential:\n",
    "    b_input_ids = batch[0].to(device)\n",
    "    b_input_mask = batch[1].to(device)\n",
    "    b_labels = batch[2].to(device)\n",
    "  \n",
    "  # Telling the model not to compute or store gradients, saving memory and \n",
    "  # speeding up prediction\n",
    "    with torch.no_grad():\n",
    "        # Forward pass, calculate logit predictions\n",
    "        outputs = model(b_input_ids, token_type_ids=None, \n",
    "                      attention_mask=b_input_mask, labels=b_labels)\n",
    "    logits = outputs[1]\n",
    "    # Embeddings extraction approach is to average the second to last hiden layer of each token producing a single 768 length vector\n",
    "    # https://mccormickml.com/2019/05/14/BERT-word-embeddings-tutorial/\n",
    "    hidden_state_tr = outputs[2]\n",
    "    token_vecs = hidden_state_tr[-2]\n",
    "    token_vecs_sentvecs = []\n",
    "    for token in token_vecs:\n",
    "        sentvecs = torch.mean(token, dim=0).detach().cpu().numpy()\n",
    "        token_vecs_sentvecs.append(sentvecs)\n",
    "    #features = hidden_state_tr[0][:,0,:].detach().cpu().numpy()\n",
    "    embeddings_tr.append([batch[3], token_vecs_sentvecs])\n",
    "    # Move logits and labels to CPU\n",
    "    logits = logits.detach().cpu().numpy()\n",
    "    label_ids = b_labels.to('cpu').numpy()\n",
    "\n",
    "    # Store predictions and true labels\n",
    "    predictions_train.append(logits)\n",
    "    true_labels_train.append(label_ids)\n",
    "# ========================================\n",
    "#               Validation\n",
    "# ========================================\n",
    "# Extract embeddinga on train set\n",
    "print('Extracting embeddinga for {:,} validation sentences...'.format(len(validation_inputs)))\n",
    "# Put model in evaluation mode\n",
    "model.eval()\n",
    "# Tracking variables \n",
    "predictions_valid, true_labels_valid = [], []\n",
    "# Predict \n",
    "for batch in validation_dataloader:\n",
    "    b_input_ids = batch[0].to(device)\n",
    "    b_input_mask = batch[1].to(device)\n",
    "    b_labels = batch[2].to(device)\n",
    "  \n",
    "  # Telling the model not to compute or store gradients, saving memory and \n",
    "  # speeding up prediction\n",
    "    with torch.no_grad():\n",
    "        # Forward pass, calculate logit predictions\n",
    "        outputs = model(b_input_ids, token_type_ids=None, \n",
    "                      attention_mask=b_input_mask, labels=b_labels)\n",
    "    logits = outputs[1]\n",
    "    # Embeddings extraction approach is to average the second to last hiden layer of each token producing a single 768 length vector\n",
    "    # https://mccormickml.com/2019/05/14/BERT-word-embeddings-tutorial/\n",
    "    hidden_state_vl = outputs[2]\n",
    "    token_vecs = hidden_state_vl[-2]\n",
    "    token_vecs_sentvecs = []\n",
    "    for token in token_vecs:\n",
    "        sentvecs = torch.mean(token, dim=0).detach().cpu().numpy()\n",
    "        token_vecs_sentvecs.append(sentvecs)\n",
    "    #features = hidden_state_vl[0][:,0,:].detach().cpu().numpy()\n",
    "    embeddings_vl.append([batch[3], token_vecs_sentvecs])\n",
    "    # Move logits and labels to CPU\n",
    "    logits = logits.detach().cpu().numpy()\n",
    "    label_ids = b_labels.to('cpu').numpy()\n",
    "\n",
    "    # Store predictions and true labels\n",
    "    predictions_valid.append(logits)\n",
    "    true_labels_valid.append(label_ids)"
   ]
  },
  {
   "cell_type": "markdown",
   "metadata": {
    "papermill": {
     "duration": 0.067664,
     "end_time": "2021-05-18T00:52:05.849634",
     "exception": false,
     "start_time": "2021-05-18T00:52:05.781970",
     "status": "completed"
    },
    "tags": []
   },
   "source": [
    "### Combine Embeddings with original DF and Output CM"
   ]
  },
  {
   "cell_type": "markdown",
   "metadata": {
    "papermill": {
     "duration": 0.066734,
     "end_time": "2021-05-18T00:52:05.983871",
     "exception": false,
     "start_time": "2021-05-18T00:52:05.917137",
     "status": "completed"
    },
    "tags": []
   },
   "source": [
    "Train"
   ]
  },
  {
   "cell_type": "code",
   "execution_count": 38,
   "metadata": {
    "execution": {
     "iopub.execute_input": "2021-05-18T00:52:06.128806Z",
     "iopub.status.busy": "2021-05-18T00:52:06.127963Z",
     "iopub.status.idle": "2021-05-18T00:52:06.411572Z",
     "shell.execute_reply": "2021-05-18T00:52:06.412166Z"
    },
    "papermill": {
     "duration": 0.359986,
     "end_time": "2021-05-18T00:52:06.412338",
     "exception": false,
     "start_time": "2021-05-18T00:52:06.052352",
     "status": "completed"
    },
    "tags": []
   },
   "outputs": [
    {
     "name": "stdout",
     "output_type": "stream",
     "text": [
      "Train Embeddings Extraction and Merge DONE\n"
     ]
    },
    {
     "data": {
      "text/html": [
       "<div>\n",
       "<style scoped>\n",
       "    .dataframe tbody tr th:only-of-type {\n",
       "        vertical-align: middle;\n",
       "    }\n",
       "\n",
       "    .dataframe tbody tr th {\n",
       "        vertical-align: top;\n",
       "    }\n",
       "\n",
       "    .dataframe thead th {\n",
       "        text-align: right;\n",
       "    }\n",
       "</style>\n",
       "<table border=\"1\" class=\"dataframe\">\n",
       "  <thead>\n",
       "    <tr style=\"text-align: right;\">\n",
       "      <th></th>\n",
       "      <th>id</th>\n",
       "      <th>user.id</th>\n",
       "      <th>suspended</th>\n",
       "      <th>0</th>\n",
       "      <th>1</th>\n",
       "      <th>2</th>\n",
       "      <th>3</th>\n",
       "      <th>4</th>\n",
       "      <th>5</th>\n",
       "      <th>6</th>\n",
       "      <th>...</th>\n",
       "      <th>758</th>\n",
       "      <th>759</th>\n",
       "      <th>760</th>\n",
       "      <th>761</th>\n",
       "      <th>762</th>\n",
       "      <th>763</th>\n",
       "      <th>764</th>\n",
       "      <th>765</th>\n",
       "      <th>766</th>\n",
       "      <th>767</th>\n",
       "    </tr>\n",
       "  </thead>\n",
       "  <tbody>\n",
       "    <tr>\n",
       "      <th>0</th>\n",
       "      <td>16</td>\n",
       "      <td>1.278150e+18</td>\n",
       "      <td>1</td>\n",
       "      <td>-1.070114</td>\n",
       "      <td>0.043071</td>\n",
       "      <td>0.902376</td>\n",
       "      <td>0.296922</td>\n",
       "      <td>-0.641535</td>\n",
       "      <td>-0.670348</td>\n",
       "      <td>0.061380</td>\n",
       "      <td>...</td>\n",
       "      <td>0.341279</td>\n",
       "      <td>-1.235205</td>\n",
       "      <td>-0.762812</td>\n",
       "      <td>-0.669134</td>\n",
       "      <td>1.610164</td>\n",
       "      <td>-0.313695</td>\n",
       "      <td>0.554576</td>\n",
       "      <td>1.190132</td>\n",
       "      <td>1.157910</td>\n",
       "      <td>-0.472409</td>\n",
       "    </tr>\n",
       "    <tr>\n",
       "      <th>1</th>\n",
       "      <td>17</td>\n",
       "      <td>1.278150e+18</td>\n",
       "      <td>1</td>\n",
       "      <td>-1.372583</td>\n",
       "      <td>-0.067257</td>\n",
       "      <td>0.202933</td>\n",
       "      <td>-0.284178</td>\n",
       "      <td>-0.746492</td>\n",
       "      <td>-0.576489</td>\n",
       "      <td>-0.176335</td>\n",
       "      <td>...</td>\n",
       "      <td>0.565129</td>\n",
       "      <td>-1.281175</td>\n",
       "      <td>-0.123373</td>\n",
       "      <td>-1.089795</td>\n",
       "      <td>1.176046</td>\n",
       "      <td>0.028418</td>\n",
       "      <td>0.439891</td>\n",
       "      <td>1.393287</td>\n",
       "      <td>1.368491</td>\n",
       "      <td>-0.483467</td>\n",
       "    </tr>\n",
       "    <tr>\n",
       "      <th>2</th>\n",
       "      <td>18</td>\n",
       "      <td>1.278150e+18</td>\n",
       "      <td>1</td>\n",
       "      <td>-0.972079</td>\n",
       "      <td>0.093420</td>\n",
       "      <td>1.043993</td>\n",
       "      <td>0.404332</td>\n",
       "      <td>-0.719339</td>\n",
       "      <td>-1.072238</td>\n",
       "      <td>0.107969</td>\n",
       "      <td>...</td>\n",
       "      <td>0.597508</td>\n",
       "      <td>-1.033021</td>\n",
       "      <td>-0.969092</td>\n",
       "      <td>-0.880875</td>\n",
       "      <td>1.644969</td>\n",
       "      <td>0.041273</td>\n",
       "      <td>0.298648</td>\n",
       "      <td>1.228798</td>\n",
       "      <td>1.389385</td>\n",
       "      <td>-1.124539</td>\n",
       "    </tr>\n",
       "    <tr>\n",
       "      <th>3</th>\n",
       "      <td>19</td>\n",
       "      <td>1.278150e+18</td>\n",
       "      <td>1</td>\n",
       "      <td>-0.781999</td>\n",
       "      <td>0.195303</td>\n",
       "      <td>0.789778</td>\n",
       "      <td>0.330123</td>\n",
       "      <td>-0.573762</td>\n",
       "      <td>-1.032341</td>\n",
       "      <td>-0.017843</td>\n",
       "      <td>...</td>\n",
       "      <td>0.444574</td>\n",
       "      <td>-0.937467</td>\n",
       "      <td>-1.079140</td>\n",
       "      <td>-0.754056</td>\n",
       "      <td>1.535594</td>\n",
       "      <td>-0.278394</td>\n",
       "      <td>0.496247</td>\n",
       "      <td>1.222563</td>\n",
       "      <td>1.310137</td>\n",
       "      <td>-0.981436</td>\n",
       "    </tr>\n",
       "    <tr>\n",
       "      <th>4</th>\n",
       "      <td>20</td>\n",
       "      <td>1.278150e+18</td>\n",
       "      <td>1</td>\n",
       "      <td>-1.016876</td>\n",
       "      <td>0.117559</td>\n",
       "      <td>0.866411</td>\n",
       "      <td>-0.047023</td>\n",
       "      <td>-0.496493</td>\n",
       "      <td>-0.995144</td>\n",
       "      <td>0.264671</td>\n",
       "      <td>...</td>\n",
       "      <td>0.752465</td>\n",
       "      <td>-1.156077</td>\n",
       "      <td>-0.619729</td>\n",
       "      <td>-0.914541</td>\n",
       "      <td>1.471175</td>\n",
       "      <td>0.032735</td>\n",
       "      <td>0.447614</td>\n",
       "      <td>1.275028</td>\n",
       "      <td>1.400357</td>\n",
       "      <td>-0.797794</td>\n",
       "    </tr>\n",
       "  </tbody>\n",
       "</table>\n",
       "<p>5 rows × 771 columns</p>\n",
       "</div>"
      ],
      "text/plain": [
       "   id       user.id  suspended         0         1         2         3  \\\n",
       "0  16  1.278150e+18          1 -1.070114  0.043071  0.902376  0.296922   \n",
       "1  17  1.278150e+18          1 -1.372583 -0.067257  0.202933 -0.284178   \n",
       "2  18  1.278150e+18          1 -0.972079  0.093420  1.043993  0.404332   \n",
       "3  19  1.278150e+18          1 -0.781999  0.195303  0.789778  0.330123   \n",
       "4  20  1.278150e+18          1 -1.016876  0.117559  0.866411 -0.047023   \n",
       "\n",
       "          4         5         6  ...       758       759       760       761  \\\n",
       "0 -0.641535 -0.670348  0.061380  ...  0.341279 -1.235205 -0.762812 -0.669134   \n",
       "1 -0.746492 -0.576489 -0.176335  ...  0.565129 -1.281175 -0.123373 -1.089795   \n",
       "2 -0.719339 -1.072238  0.107969  ...  0.597508 -1.033021 -0.969092 -0.880875   \n",
       "3 -0.573762 -1.032341 -0.017843  ...  0.444574 -0.937467 -1.079140 -0.754056   \n",
       "4 -0.496493 -0.995144  0.264671  ...  0.752465 -1.156077 -0.619729 -0.914541   \n",
       "\n",
       "        762       763       764       765       766       767  \n",
       "0  1.610164 -0.313695  0.554576  1.190132  1.157910 -0.472409  \n",
       "1  1.176046  0.028418  0.439891  1.393287  1.368491 -0.483467  \n",
       "2  1.644969  0.041273  0.298648  1.228798  1.389385 -1.124539  \n",
       "3  1.535594 -0.278394  0.496247  1.222563  1.310137 -0.981436  \n",
       "4  1.471175  0.032735  0.447614  1.275028  1.400357 -0.797794  \n",
       "\n",
       "[5 rows x 771 columns]"
      ]
     },
     "execution_count": 38,
     "metadata": {},
     "output_type": "execute_result"
    }
   ],
   "source": [
    "# Get embeddings for train\n",
    "p = [group for group in embeddings_tr]\n",
    "\n",
    "b = [item for sublist in [[list(t) for t in zip(sublist[0], sublist[1])] for sublist in p] for item in sublist]\n",
    "df = pd.DataFrame(b, columns = ['id', 'embeddings'])  \n",
    "\n",
    "bert_embeddings_df_train = pd.concat([df['id'], df['embeddings'].apply(pd.Series)], axis = 1)\n",
    "bert_embeddings_df_train['id'] = bert_embeddings_df_train['id'].apply(lambda x: x.item())\n",
    "#bert_embeddings_df_train = pd.merge(df_train.drop(['text'], axis=1), bert_embeddings_df_train, left_on = [\"id\"], right_on = [\"id\"])\n",
    "bert_embeddings_df_train = pd.merge(df_train.drop(['text'], axis=1), bert_embeddings_df_train.drop(['id'], axis=1), left_index=True, right_index=True)\n",
    "print('Train Embeddings Extraction and Merge DONE')\n",
    "bert_embeddings_df_train.head()"
   ]
  },
  {
   "cell_type": "code",
   "execution_count": 39,
   "metadata": {
    "execution": {
     "iopub.execute_input": "2021-05-18T00:52:06.560918Z",
     "iopub.status.busy": "2021-05-18T00:52:06.560228Z",
     "iopub.status.idle": "2021-05-18T00:52:06.624231Z",
     "shell.execute_reply": "2021-05-18T00:52:06.624791Z"
    },
    "papermill": {
     "duration": 0.143046,
     "end_time": "2021-05-18T00:52:06.624946",
     "exception": false,
     "start_time": "2021-05-18T00:52:06.481900",
     "status": "completed"
    },
    "tags": []
   },
   "outputs": [
    {
     "name": "stdout",
     "output_type": "stream",
     "text": [
      "Calculating Matthews Corr. Coef. for each batch...\n"
     ]
    },
    {
     "name": "stderr",
     "output_type": "stream",
     "text": [
      "/opt/conda/lib/python3.7/site-packages/sklearn/metrics/_classification.py:846: RuntimeWarning:\n",
      "\n",
      "invalid value encountered in double_scalars\n",
      "\n"
     ]
    }
   ],
   "source": [
    "from sklearn.metrics import matthews_corrcoef\n",
    "matthews_set = []\n",
    "# Evaluate each test batch using Matthew's correlation coefficient\n",
    "print('Calculating Matthews Corr. Coef. for each batch...')\n",
    "# For each input batch...\n",
    "for i in range(len(true_labels_train)):\n",
    "  \n",
    "    # The predictions for this batch are a 2-column ndarray (one column for \"0\" \n",
    "    # and one column for \"1\"). Pick the label with the highest value and turn this\n",
    "    # in to a list of 0s and 1s.\n",
    "    pred_labels_i = np.argmax(predictions_train[i], axis=1).flatten()\n",
    "\n",
    "    # Calculate and store the coef for this batch.  \n",
    "    matthews = matthews_corrcoef(true_labels_train[i], pred_labels_i)                \n",
    "    matthews_set.append(matthews)"
   ]
  },
  {
   "cell_type": "code",
   "execution_count": 40,
   "metadata": {
    "execution": {
     "iopub.execute_input": "2021-05-18T00:52:06.776274Z",
     "iopub.status.busy": "2021-05-18T00:52:06.775532Z",
     "iopub.status.idle": "2021-05-18T00:52:06.784356Z",
     "shell.execute_reply": "2021-05-18T00:52:06.785157Z"
    },
    "papermill": {
     "duration": 0.08862,
     "end_time": "2021-05-18T00:52:06.785307",
     "exception": false,
     "start_time": "2021-05-18T00:52:06.696687",
     "status": "completed"
    },
    "tags": []
   },
   "outputs": [
    {
     "name": "stdout",
     "output_type": "stream",
     "text": [
      "MCC: 0.765\n"
     ]
    }
   ],
   "source": [
    "# Combine the predictions for each batch into a single list of 0s and 1s.\n",
    "flat_predictions = [item for sublist in predictions_train for item in sublist]\n",
    "flat_predictions = np.argmax(flat_predictions, axis=1).flatten()\n",
    "# Combine the correct labels for each batch into a single list.\n",
    "flat_true_labels = [item for sublist in true_labels_train for item in sublist]\n",
    "# Calculate the MCC\n",
    "mcc = matthews_corrcoef(flat_true_labels, flat_predictions)\n",
    "print('MCC: %.3f' % mcc)"
   ]
  },
  {
   "cell_type": "code",
   "execution_count": 41,
   "metadata": {
    "execution": {
     "iopub.execute_input": "2021-05-18T00:52:06.935572Z",
     "iopub.status.busy": "2021-05-18T00:52:06.934712Z",
     "iopub.status.idle": "2021-05-18T00:52:06.944987Z",
     "shell.execute_reply": "2021-05-18T00:52:06.944381Z"
    },
    "papermill": {
     "duration": 0.086435,
     "end_time": "2021-05-18T00:52:06.945105",
     "exception": false,
     "start_time": "2021-05-18T00:52:06.858670",
     "status": "completed"
    },
    "tags": []
   },
   "outputs": [
    {
     "name": "stdout",
     "output_type": "stream",
     "text": [
      "              precision    recall  f1-score   support\n",
      "\n",
      "           0       0.89      0.88      0.88       653\n",
      "           1       0.88      0.89      0.88       639\n",
      "\n",
      "    accuracy                           0.88      1292\n",
      "   macro avg       0.88      0.88      0.88      1292\n",
      "weighted avg       0.88      0.88      0.88      1292\n",
      "\n"
     ]
    }
   ],
   "source": [
    "from sklearn.metrics import classification_report,confusion_matrix\n",
    "report = classification_report(flat_true_labels, flat_predictions)\n",
    "print(report)"
   ]
  },
  {
   "cell_type": "code",
   "execution_count": 42,
   "metadata": {
    "execution": {
     "iopub.execute_input": "2021-05-18T00:52:07.110096Z",
     "iopub.status.busy": "2021-05-18T00:52:07.109127Z",
     "iopub.status.idle": "2021-05-18T00:52:07.112018Z",
     "shell.execute_reply": "2021-05-18T00:52:07.111610Z"
    },
    "papermill": {
     "duration": 0.090151,
     "end_time": "2021-05-18T00:52:07.112107",
     "exception": false,
     "start_time": "2021-05-18T00:52:07.021956",
     "status": "completed"
    },
    "tags": []
   },
   "outputs": [],
   "source": [
    "def plot_roc_curve(fpr, tpr, label=None):\n",
    "    plt.plot(fpr, tpr, linewidth=2, label=label)\n",
    "    plt.plot([0, 1], [0, 1], 'k--') # dashed diagonal\n",
    "    plt.axis([0, 1, 0, 1])                                    # Not shown in the book\n",
    "    plt.xlabel('False Positive Rate (Fall-Out)', fontsize=16) # Not shown\n",
    "    plt.ylabel('True Positive Rate (Recall)', fontsize=16)    # Not shown\n",
    "    plt.grid(True)  "
   ]
  },
  {
   "cell_type": "code",
   "execution_count": 43,
   "metadata": {
    "execution": {
     "iopub.execute_input": "2021-05-18T00:52:07.263586Z",
     "iopub.status.busy": "2021-05-18T00:52:07.262218Z",
     "iopub.status.idle": "2021-05-18T00:52:07.513760Z",
     "shell.execute_reply": "2021-05-18T00:52:07.514381Z"
    },
    "papermill": {
     "duration": 0.33042,
     "end_time": "2021-05-18T00:52:07.514591",
     "exception": false,
     "start_time": "2021-05-18T00:52:07.184171",
     "status": "completed"
    },
    "tags": []
   },
   "outputs": [
    {
     "data": {
      "image/png": "[encoded data removed]",
      "text/plain": [
       "<Figure size 576x432 with 1 Axes>"
      ]
     },
     "metadata": {
      "needs_background": "light"
     },
     "output_type": "display_data"
    }
   ],
   "source": [
    "fpr, tpr, thresholds = roc_curve(flat_true_labels, flat_predictions)\n",
    "plt.figure(figsize=(8, 6))                         # Not shown\n",
    "plot_roc_curve(fpr, tpr)\n",
    "plt.plot([4.837e-3, 4.837e-3], [0., 0.4368], \"r:\") # Not shown\n",
    "plt.plot([0.0, 4.837e-3], [0.4368, 0.4368], \"r:\")  # Not shown\n",
    "plt.plot([4.837e-3], [0.4368], \"ro\")               # Not shown\n",
    "plt.show()"
   ]
  },
  {
   "cell_type": "code",
   "execution_count": 44,
   "metadata": {
    "execution": {
     "iopub.execute_input": "2021-05-18T00:52:07.785128Z",
     "iopub.status.busy": "2021-05-18T00:52:07.784324Z",
     "iopub.status.idle": "2021-05-18T00:52:07.788991Z",
     "shell.execute_reply": "2021-05-18T00:52:07.789577Z"
    },
    "papermill": {
     "duration": 0.148452,
     "end_time": "2021-05-18T00:52:07.789743",
     "exception": false,
     "start_time": "2021-05-18T00:52:07.641291",
     "status": "completed"
    },
    "tags": []
   },
   "outputs": [
    {
     "data": {
      "text/plain": [
       "0.8824230049344903"
      ]
     },
     "execution_count": 44,
     "metadata": {},
     "output_type": "execute_result"
    }
   ],
   "source": [
    "roc_auc_score(flat_true_labels, flat_predictions)"
   ]
  },
  {
   "cell_type": "markdown",
   "metadata": {
    "papermill": {
     "duration": 0.117303,
     "end_time": "2021-05-18T00:52:08.024892",
     "exception": false,
     "start_time": "2021-05-18T00:52:07.907589",
     "status": "completed"
    },
    "tags": []
   },
   "source": [
    "Valid"
   ]
  },
  {
   "cell_type": "code",
   "execution_count": 45,
   "metadata": {
    "execution": {
     "iopub.execute_input": "2021-05-18T00:52:08.275026Z",
     "iopub.status.busy": "2021-05-18T00:52:08.274177Z",
     "iopub.status.idle": "2021-05-18T00:52:08.507384Z",
     "shell.execute_reply": "2021-05-18T00:52:08.508026Z"
    },
    "papermill": {
     "duration": 0.362767,
     "end_time": "2021-05-18T00:52:08.508169",
     "exception": false,
     "start_time": "2021-05-18T00:52:08.145402",
     "status": "completed"
    },
    "tags": []
   },
   "outputs": [
    {
     "name": "stdout",
     "output_type": "stream",
     "text": [
      "Valid Embeddings Extraction and Merge DONE.\n"
     ]
    },
    {
     "data": {
      "text/html": [
       "<div>\n",
       "<style scoped>\n",
       "    .dataframe tbody tr th:only-of-type {\n",
       "        vertical-align: middle;\n",
       "    }\n",
       "\n",
       "    .dataframe tbody tr th {\n",
       "        vertical-align: top;\n",
       "    }\n",
       "\n",
       "    .dataframe thead th {\n",
       "        text-align: right;\n",
       "    }\n",
       "</style>\n",
       "<table border=\"1\" class=\"dataframe\">\n",
       "  <thead>\n",
       "    <tr style=\"text-align: right;\">\n",
       "      <th></th>\n",
       "      <th>id</th>\n",
       "      <th>user.id</th>\n",
       "      <th>suspended</th>\n",
       "      <th>0</th>\n",
       "      <th>1</th>\n",
       "      <th>2</th>\n",
       "      <th>3</th>\n",
       "      <th>4</th>\n",
       "      <th>5</th>\n",
       "      <th>6</th>\n",
       "      <th>...</th>\n",
       "      <th>758</th>\n",
       "      <th>759</th>\n",
       "      <th>760</th>\n",
       "      <th>761</th>\n",
       "      <th>762</th>\n",
       "      <th>763</th>\n",
       "      <th>764</th>\n",
       "      <th>765</th>\n",
       "      <th>766</th>\n",
       "      <th>767</th>\n",
       "    </tr>\n",
       "  </thead>\n",
       "  <tbody>\n",
       "    <tr>\n",
       "      <th>0</th>\n",
       "      <td>0</td>\n",
       "      <td>1.278120e+18</td>\n",
       "      <td>1</td>\n",
       "      <td>-0.419837</td>\n",
       "      <td>0.658114</td>\n",
       "      <td>0.089747</td>\n",
       "      <td>-0.566520</td>\n",
       "      <td>-0.574833</td>\n",
       "      <td>-0.628038</td>\n",
       "      <td>-0.519808</td>\n",
       "      <td>...</td>\n",
       "      <td>0.305768</td>\n",
       "      <td>-0.651115</td>\n",
       "      <td>-0.858375</td>\n",
       "      <td>-0.429001</td>\n",
       "      <td>1.807503</td>\n",
       "      <td>0.478824</td>\n",
       "      <td>0.568734</td>\n",
       "      <td>0.897551</td>\n",
       "      <td>0.808277</td>\n",
       "      <td>-0.121545</td>\n",
       "    </tr>\n",
       "    <tr>\n",
       "      <th>1</th>\n",
       "      <td>1</td>\n",
       "      <td>1.278120e+18</td>\n",
       "      <td>1</td>\n",
       "      <td>-0.467513</td>\n",
       "      <td>0.399684</td>\n",
       "      <td>0.229241</td>\n",
       "      <td>-0.386540</td>\n",
       "      <td>-0.434682</td>\n",
       "      <td>-0.440258</td>\n",
       "      <td>-0.258493</td>\n",
       "      <td>...</td>\n",
       "      <td>0.227574</td>\n",
       "      <td>-1.041774</td>\n",
       "      <td>-0.595774</td>\n",
       "      <td>-0.311075</td>\n",
       "      <td>1.654489</td>\n",
       "      <td>0.761036</td>\n",
       "      <td>0.390010</td>\n",
       "      <td>1.113165</td>\n",
       "      <td>1.062268</td>\n",
       "      <td>-0.130399</td>\n",
       "    </tr>\n",
       "    <tr>\n",
       "      <th>2</th>\n",
       "      <td>2</td>\n",
       "      <td>1.278120e+18</td>\n",
       "      <td>1</td>\n",
       "      <td>-0.306402</td>\n",
       "      <td>0.380383</td>\n",
       "      <td>0.065605</td>\n",
       "      <td>-0.690773</td>\n",
       "      <td>-0.280137</td>\n",
       "      <td>-0.693520</td>\n",
       "      <td>-0.506660</td>\n",
       "      <td>...</td>\n",
       "      <td>0.395917</td>\n",
       "      <td>-0.410643</td>\n",
       "      <td>-0.921449</td>\n",
       "      <td>-0.863040</td>\n",
       "      <td>2.242701</td>\n",
       "      <td>0.196779</td>\n",
       "      <td>0.510214</td>\n",
       "      <td>1.158666</td>\n",
       "      <td>0.586210</td>\n",
       "      <td>-0.166637</td>\n",
       "    </tr>\n",
       "    <tr>\n",
       "      <th>3</th>\n",
       "      <td>3</td>\n",
       "      <td>1.278120e+18</td>\n",
       "      <td>1</td>\n",
       "      <td>-0.535161</td>\n",
       "      <td>0.618354</td>\n",
       "      <td>0.233934</td>\n",
       "      <td>-0.742880</td>\n",
       "      <td>0.121973</td>\n",
       "      <td>-0.260734</td>\n",
       "      <td>-0.038837</td>\n",
       "      <td>...</td>\n",
       "      <td>0.757853</td>\n",
       "      <td>-0.633072</td>\n",
       "      <td>-1.299334</td>\n",
       "      <td>-0.767415</td>\n",
       "      <td>1.335993</td>\n",
       "      <td>0.284498</td>\n",
       "      <td>0.861938</td>\n",
       "      <td>1.090789</td>\n",
       "      <td>1.426431</td>\n",
       "      <td>-0.305678</td>\n",
       "    </tr>\n",
       "    <tr>\n",
       "      <th>4</th>\n",
       "      <td>4</td>\n",
       "      <td>1.278120e+18</td>\n",
       "      <td>1</td>\n",
       "      <td>-0.171603</td>\n",
       "      <td>0.948419</td>\n",
       "      <td>-0.018011</td>\n",
       "      <td>-1.006510</td>\n",
       "      <td>-0.364998</td>\n",
       "      <td>-0.582671</td>\n",
       "      <td>-0.616114</td>\n",
       "      <td>...</td>\n",
       "      <td>1.197520</td>\n",
       "      <td>-0.451965</td>\n",
       "      <td>-1.372207</td>\n",
       "      <td>-1.079393</td>\n",
       "      <td>1.586498</td>\n",
       "      <td>0.290534</td>\n",
       "      <td>0.970735</td>\n",
       "      <td>0.990900</td>\n",
       "      <td>0.985416</td>\n",
       "      <td>-0.025274</td>\n",
       "    </tr>\n",
       "  </tbody>\n",
       "</table>\n",
       "<p>5 rows × 771 columns</p>\n",
       "</div>"
      ],
      "text/plain": [
       "   id       user.id  suspended         0         1         2         3  \\\n",
       "0   0  1.278120e+18          1 -0.419837  0.658114  0.089747 -0.566520   \n",
       "1   1  1.278120e+18          1 -0.467513  0.399684  0.229241 -0.386540   \n",
       "2   2  1.278120e+18          1 -0.306402  0.380383  0.065605 -0.690773   \n",
       "3   3  1.278120e+18          1 -0.535161  0.618354  0.233934 -0.742880   \n",
       "4   4  1.278120e+18          1 -0.171603  0.948419 -0.018011 -1.006510   \n",
       "\n",
       "          4         5         6  ...       758       759       760       761  \\\n",
       "0 -0.574833 -0.628038 -0.519808  ...  0.305768 -0.651115 -0.858375 -0.429001   \n",
       "1 -0.434682 -0.440258 -0.258493  ...  0.227574 -1.041774 -0.595774 -0.311075   \n",
       "2 -0.280137 -0.693520 -0.506660  ...  0.395917 -0.410643 -0.921449 -0.863040   \n",
       "3  0.121973 -0.260734 -0.038837  ...  0.757853 -0.633072 -1.299334 -0.767415   \n",
       "4 -0.364998 -0.582671 -0.616114  ...  1.197520 -0.451965 -1.372207 -1.079393   \n",
       "\n",
       "        762       763       764       765       766       767  \n",
       "0  1.807503  0.478824  0.568734  0.897551  0.808277 -0.121545  \n",
       "1  1.654489  0.761036  0.390010  1.113165  1.062268 -0.130399  \n",
       "2  2.242701  0.196779  0.510214  1.158666  0.586210 -0.166637  \n",
       "3  1.335993  0.284498  0.861938  1.090789  1.426431 -0.305678  \n",
       "4  1.586498  0.290534  0.970735  0.990900  0.985416 -0.025274  \n",
       "\n",
       "[5 rows x 771 columns]"
      ]
     },
     "execution_count": 45,
     "metadata": {},
     "output_type": "execute_result"
    }
   ],
   "source": [
    "# Get embeddings for valid\n",
    "p = [group for group in embeddings_vl]\n",
    "\n",
    "b = [item for sublist in [[list(t) for t in zip(sublist[0], sublist[1])] for sublist in p] for item in sublist]\n",
    "df = pd.DataFrame(b, columns = ['id', 'embeddings'])  \n",
    "\n",
    "bert_embeddings_df_valid = pd.concat([df['id'], df['embeddings'].apply(pd.Series)], axis = 1)\n",
    "bert_embeddings_df_valid['id'] = bert_embeddings_df_valid['id'].apply(lambda x: x.item())\n",
    "#bert_embeddings_df_valid = pd.merge(df_valid.drop(['text'], axis=1), bert_embeddings_df_valid, left_on = [\"id\"], right_on = [\"id\"])\n",
    "bert_embeddings_df_valid = pd.merge(df_valid.drop(['text'], axis=1), bert_embeddings_df_valid.drop(['id'], axis=1), left_index=True, right_index=True)\n",
    "print('Valid Embeddings Extraction and Merge DONE.')\n",
    "bert_embeddings_df_valid.head()"
   ]
  },
  {
   "cell_type": "code",
   "execution_count": 46,
   "metadata": {
    "execution": {
     "iopub.execute_input": "2021-05-18T00:52:08.664146Z",
     "iopub.status.busy": "2021-05-18T00:52:08.663304Z",
     "iopub.status.idle": "2021-05-18T00:52:08.706873Z",
     "shell.execute_reply": "2021-05-18T00:52:08.706376Z"
    },
    "papermill": {
     "duration": 0.125384,
     "end_time": "2021-05-18T00:52:08.706975",
     "exception": false,
     "start_time": "2021-05-18T00:52:08.581591",
     "status": "completed"
    },
    "tags": []
   },
   "outputs": [
    {
     "name": "stdout",
     "output_type": "stream",
     "text": [
      "Calculating Matthews Corr. Coef. for each batch...\n"
     ]
    },
    {
     "name": "stderr",
     "output_type": "stream",
     "text": [
      "/opt/conda/lib/python3.7/site-packages/sklearn/metrics/_classification.py:846: RuntimeWarning:\n",
      "\n",
      "invalid value encountered in double_scalars\n",
      "\n"
     ]
    }
   ],
   "source": [
    "from sklearn.metrics import matthews_corrcoef\n",
    "matthews_set = []\n",
    "# Evaluate each test batch using Matthew's correlation coefficient\n",
    "print('Calculating Matthews Corr. Coef. for each batch...')\n",
    "# For each input batch...\n",
    "for i in range(len(true_labels_valid)):\n",
    "  \n",
    "    # The predictions for this batch are a 2-column ndarray (one column for \"0\" \n",
    "    # and one column for \"1\"). Pick the label with the highest value and turn this\n",
    "    # in to a list of 0s and 1s.\n",
    "    pred_labels_i = np.argmax(predictions_valid[i], axis=1).flatten()\n",
    "\n",
    "    # Calculate and store the coef for this batch.  \n",
    "    matthews = matthews_corrcoef(true_labels_valid[i], pred_labels_i)                \n",
    "    matthews_set.append(matthews)"
   ]
  },
  {
   "cell_type": "code",
   "execution_count": 47,
   "metadata": {
    "execution": {
     "iopub.execute_input": "2021-05-18T00:52:08.872836Z",
     "iopub.status.busy": "2021-05-18T00:52:08.872032Z",
     "iopub.status.idle": "2021-05-18T00:52:08.880695Z",
     "shell.execute_reply": "2021-05-18T00:52:08.881541Z"
    },
    "papermill": {
     "duration": 0.088398,
     "end_time": "2021-05-18T00:52:08.881714",
     "exception": false,
     "start_time": "2021-05-18T00:52:08.793316",
     "status": "completed"
    },
    "tags": []
   },
   "outputs": [
    {
     "name": "stdout",
     "output_type": "stream",
     "text": [
      "MCC: -0.174\n"
     ]
    }
   ],
   "source": [
    "# Combine the predictions for each batch into a single list of 0s and 1s.\n",
    "flat_predictions = [item for sublist in predictions_valid for item in sublist]\n",
    "flat_predictions = np.argmax(flat_predictions, axis=1).flatten()\n",
    "# Combine the correct labels for each batch into a single list.\n",
    "flat_true_labels = [item for sublist in true_labels_valid for item in sublist]\n",
    "# Calculate the MCC\n",
    "mcc = matthews_corrcoef(flat_true_labels, flat_predictions)\n",
    "print('MCC: %.3f' % mcc)"
   ]
  },
  {
   "cell_type": "code",
   "execution_count": 48,
   "metadata": {
    "execution": {
     "iopub.execute_input": "2021-05-18T00:52:09.037932Z",
     "iopub.status.busy": "2021-05-18T00:52:09.037090Z",
     "iopub.status.idle": "2021-05-18T00:52:09.047169Z",
     "shell.execute_reply": "2021-05-18T00:52:09.046496Z"
    },
    "papermill": {
     "duration": 0.089042,
     "end_time": "2021-05-18T00:52:09.047305",
     "exception": false,
     "start_time": "2021-05-18T00:52:08.958263",
     "status": "completed"
    },
    "tags": []
   },
   "outputs": [
    {
     "name": "stdout",
     "output_type": "stream",
     "text": [
      "              precision    recall  f1-score   support\n",
      "\n",
      "           0       0.40      0.35      0.38       393\n",
      "           1       0.42      0.47      0.45       393\n",
      "\n",
      "    accuracy                           0.41       786\n",
      "   macro avg       0.41      0.41      0.41       786\n",
      "weighted avg       0.41      0.41      0.41       786\n",
      "\n"
     ]
    }
   ],
   "source": [
    "from sklearn.metrics import classification_report,confusion_matrix\n",
    "report = classification_report(flat_true_labels, flat_predictions)\n",
    "print(report)"
   ]
  },
  {
   "cell_type": "code",
   "execution_count": 49,
   "metadata": {
    "execution": {
     "iopub.execute_input": "2021-05-18T00:52:09.204577Z",
     "iopub.status.busy": "2021-05-18T00:52:09.203769Z",
     "iopub.status.idle": "2021-05-18T00:52:09.575643Z",
     "shell.execute_reply": "2021-05-18T00:52:09.575154Z"
    },
    "papermill": {
     "duration": 0.452271,
     "end_time": "2021-05-18T00:52:09.575749",
     "exception": false,
     "start_time": "2021-05-18T00:52:09.123478",
     "status": "completed"
    },
    "tags": []
   },
   "outputs": [
    {
     "data": {
      "image/png": "[encoded data removed]",
      "text/plain": [
       "<Figure size 576x432 with 1 Axes>"
      ]
     },
     "metadata": {
      "needs_background": "light"
     },
     "output_type": "display_data"
    }
   ],
   "source": [
    "fpr, tpr, thresholds = roc_curve(flat_true_labels, flat_predictions)\n",
    "plt.figure(figsize=(8, 6))                         # Not shown\n",
    "plot_roc_curve(fpr, tpr)\n",
    "plt.plot([4.837e-3, 4.837e-3], [0., 0.4368], \"r:\") # Not shown\n",
    "plt.plot([0.0, 4.837e-3], [0.4368, 0.4368], \"r:\")  # Not shown\n",
    "plt.plot([4.837e-3], [0.4368], \"ro\")               # Not shown\n",
    "plt.show()"
   ]
  },
  {
   "cell_type": "code",
   "execution_count": 50,
   "metadata": {
    "execution": {
     "iopub.execute_input": "2021-05-18T00:52:09.739790Z",
     "iopub.status.busy": "2021-05-18T00:52:09.738941Z",
     "iopub.status.idle": "2021-05-18T00:52:09.745327Z",
     "shell.execute_reply": "2021-05-18T00:52:09.744825Z"
    },
    "papermill": {
     "duration": 0.086549,
     "end_time": "2021-05-18T00:52:09.745411",
     "exception": false,
     "start_time": "2021-05-18T00:52:09.658862",
     "status": "completed"
    },
    "tags": []
   },
   "outputs": [
    {
     "data": {
      "text/plain": [
       "0.41348600508905853"
      ]
     },
     "execution_count": 50,
     "metadata": {},
     "output_type": "execute_result"
    }
   ],
   "source": [
    "roc_auc_score(flat_true_labels, flat_predictions)"
   ]
  },
  {
   "cell_type": "markdown",
   "metadata": {
    "papermill": {
     "duration": 0.074995,
     "end_time": "2021-05-18T00:52:09.895874",
     "exception": false,
     "start_time": "2021-05-18T00:52:09.820879",
     "status": "completed"
    },
    "tags": []
   },
   "source": [
    "### Export Models and Embeddings"
   ]
  },
  {
   "cell_type": "code",
   "execution_count": 51,
   "metadata": {
    "execution": {
     "iopub.execute_input": "2021-05-18T00:52:10.056120Z",
     "iopub.status.busy": "2021-05-18T00:52:10.055345Z",
     "iopub.status.idle": "2021-05-18T00:52:10.060978Z",
     "shell.execute_reply": "2021-05-18T00:52:10.060553Z"
    },
    "papermill": {
     "duration": 0.090131,
     "end_time": "2021-05-18T00:52:10.061066",
     "exception": false,
     "start_time": "2021-05-18T00:52:09.970935",
     "status": "completed"
    },
    "tags": []
   },
   "outputs": [],
   "source": [
    "bert_embeddings_df_train['user.id'] = bert_embeddings_df_train['user.id'].astype('str')\n",
    "bert_embeddings_df_train['user.id'] = bert_embeddings_df_train['user.id'].apply(lambda x: \"'\" + x + \"'\")\n",
    "bert_embeddings_df_valid['user.id'] = bert_embeddings_df_valid['user.id'].astype('str')\n",
    "bert_embeddings_df_valid['user.id'] = bert_embeddings_df_valid['user.id'].apply(lambda x: \"'\" + x + \"'\")"
   ]
  },
  {
   "cell_type": "code",
   "execution_count": 52,
   "metadata": {
    "execution": {
     "iopub.execute_input": "2021-05-18T00:52:10.219409Z",
     "iopub.status.busy": "2021-05-18T00:52:10.218600Z",
     "iopub.status.idle": "2021-05-18T00:52:10.224500Z",
     "shell.execute_reply": "2021-05-18T00:52:10.223897Z"
    },
    "papermill": {
     "duration": 0.086303,
     "end_time": "2021-05-18T00:52:10.224628",
     "exception": false,
     "start_time": "2021-05-18T00:52:10.138325",
     "status": "completed"
    },
    "tags": []
   },
   "outputs": [
    {
     "name": "stdout",
     "output_type": "stream",
     "text": [
      "full train: 1292 unique ids train: 234 full valid: 786 unique ids valid: 161\n"
     ]
    }
   ],
   "source": [
    "print(\"full train:\", len(bert_embeddings_df_train), \"unique ids train:\", len(bert_embeddings_df_train['user.id'].unique()), \n",
    "      \"full valid:\", len(bert_embeddings_df_valid), \"unique ids valid:\", len(bert_embeddings_df_valid['user.id'].unique()))"
   ]
  },
  {
   "cell_type": "markdown",
   "metadata": {
    "papermill": {
     "duration": 0.075383,
     "end_time": "2021-05-18T00:52:10.376483",
     "exception": false,
     "start_time": "2021-05-18T00:52:10.301100",
     "status": "completed"
    },
    "tags": []
   },
   "source": [
    "Save"
   ]
  },
  {
   "cell_type": "code",
   "execution_count": 53,
   "metadata": {
    "execution": {
     "iopub.execute_input": "2021-05-18T00:52:10.531781Z",
     "iopub.status.busy": "2021-05-18T00:52:10.530851Z",
     "iopub.status.idle": "2021-05-18T00:52:12.618774Z",
     "shell.execute_reply": "2021-05-18T00:52:12.618281Z"
    },
    "papermill": {
     "duration": 2.166567,
     "end_time": "2021-05-18T00:52:12.618876",
     "exception": false,
     "start_time": "2021-05-18T00:52:10.452309",
     "status": "completed"
    },
    "tags": []
   },
   "outputs": [
    {
     "data": {
      "text/plain": [
       "('./Multilingual_Tweettext_mode/tokenizer_config.json',\n",
       " './Multilingual_Tweettext_mode/special_tokens_map.json',\n",
       " './Multilingual_Tweettext_mode/vocab.txt',\n",
       " './Multilingual_Tweettext_mode/added_tokens.json')"
      ]
     },
     "execution_count": 53,
     "metadata": {},
     "output_type": "execute_result"
    }
   ],
   "source": [
    "model_to_save = model.module if hasattr(model, \"module\") else model # Take care of distributed/parallel training\n",
    "model_to_save.save_pretrained('./Multilingual_Tweettext_mode/')\n",
    "tokenizer.save_pretrained('./Multilingual_Tweettext_mode/')"
   ]
  },
  {
   "cell_type": "code",
   "execution_count": 54,
   "metadata": {
    "execution": {
     "iopub.execute_input": "2021-05-18T00:52:12.779115Z",
     "iopub.status.busy": "2021-05-18T00:52:12.778298Z",
     "iopub.status.idle": "2021-05-18T00:52:15.566254Z",
     "shell.execute_reply": "2021-05-18T00:52:15.565174Z"
    },
    "papermill": {
     "duration": 2.870634,
     "end_time": "2021-05-18T00:52:15.566370",
     "exception": false,
     "start_time": "2021-05-18T00:52:12.695736",
     "status": "completed"
    },
    "tags": []
   },
   "outputs": [],
   "source": [
    "bert_embeddings_df_train.to_csv('ml_training_embeddings_df_full.csv', index=False, encoding = \"utf_8_sig\")\n",
    "bert_embeddings_df_valid.to_csv('ml_valid_embeddings_df_full.csv', index=False, encoding = \"utf_8_sig\")"
   ]
  },
  {
   "cell_type": "markdown",
   "metadata": {
    "papermill": {
     "duration": 0.077792,
     "end_time": "2021-05-18T00:52:15.720864",
     "exception": false,
     "start_time": "2021-05-18T00:52:15.643072",
     "status": "completed"
    },
    "tags": []
   },
   "source": [
    "### Evaluate on Test"
   ]
  },
  {
   "cell_type": "markdown",
   "metadata": {
    "papermill": {
     "duration": 0.221104,
     "end_time": "2021-05-18T00:52:16.020434",
     "exception": false,
     "start_time": "2021-05-18T00:52:15.799330",
     "status": "completed"
    },
    "tags": []
   },
   "source": [
    "Let’s take a look at our training loss over all batches:"
   ]
  },
  {
   "cell_type": "markdown",
   "metadata": {
    "papermill": {
     "duration": 0.077356,
     "end_time": "2021-05-18T00:52:16.177609",
     "exception": false,
     "start_time": "2021-05-18T00:52:16.100253",
     "status": "completed"
    },
    "tags": []
   },
   "source": [
    "Now we’ll load the holdout dataset and prepare inputs just as we did with the training set. Then we’ll evaluate predictions using Matthews correlation coefficient (MCC wiki)because this is the metric used by the wider NLP community to evaluate performance on CoLA. With this metric, +1 is the best score, and -1 is the worst score. This way, we can see how well we perform against the state of the art models for this specific task.\n"
   ]
  },
  {
   "cell_type": "code",
   "execution_count": 55,
   "metadata": {
    "execution": {
     "iopub.execute_input": "2021-05-18T00:52:16.338122Z",
     "iopub.status.busy": "2021-05-18T00:52:16.337373Z",
     "iopub.status.idle": "2021-05-18T00:52:16.370868Z",
     "shell.execute_reply": "2021-05-18T00:52:16.370375Z"
    },
    "papermill": {
     "duration": 0.116318,
     "end_time": "2021-05-18T00:52:16.370977",
     "exception": false,
     "start_time": "2021-05-18T00:52:16.254659",
     "status": "completed"
    },
    "tags": []
   },
   "outputs": [],
   "source": [
    "# Convert to tensors.\n",
    "prediction_inputs = torch.tensor(test_inputs)\n",
    "prediction_masks = torch.tensor(test_masks)\n",
    "prediction_labels = torch.tensor(test_labels)\n",
    "prediction_ids = torch.tensor(ids_test)\n",
    "\n",
    "# Set the batch size.  \n",
    "batch_size = 8 \n",
    "# Create the DataLoader.\n",
    "prediction_data = TensorDataset(prediction_inputs, prediction_masks, prediction_labels, prediction_ids)\n",
    "prediction_sampler = SequentialSampler(prediction_data)\n",
    "prediction_dataloader = DataLoader(prediction_data, sampler=prediction_sampler, batch_size=batch_size)"
   ]
  },
  {
   "cell_type": "code",
   "execution_count": 56,
   "metadata": {
    "execution": {
     "iopub.execute_input": "2021-05-18T00:52:16.537928Z",
     "iopub.status.busy": "2021-05-18T00:52:16.537071Z",
     "iopub.status.idle": "2021-05-18T00:52:16.541167Z",
     "shell.execute_reply": "2021-05-18T00:52:16.540711Z"
    },
    "papermill": {
     "duration": 0.08911,
     "end_time": "2021-05-18T00:52:16.541278",
     "exception": false,
     "start_time": "2021-05-18T00:52:16.452168",
     "status": "completed"
    },
    "tags": []
   },
   "outputs": [
    {
     "data": {
      "text/plain": [
       "torch.Size([2779, 120])"
      ]
     },
     "execution_count": 56,
     "metadata": {},
     "output_type": "execute_result"
    }
   ],
   "source": [
    "prediction_inputs.shape"
   ]
  },
  {
   "cell_type": "markdown",
   "metadata": {
    "papermill": {
     "duration": 0.080683,
     "end_time": "2021-05-18T00:52:16.707487",
     "exception": false,
     "start_time": "2021-05-18T00:52:16.626804",
     "status": "completed"
    },
    "tags": []
   },
   "source": [
    "With the test set prepared, we can apply our fine-tuned model to generate predictions on the test set"
   ]
  },
  {
   "cell_type": "code",
   "execution_count": 57,
   "metadata": {
    "execution": {
     "iopub.execute_input": "2021-05-18T00:52:16.879562Z",
     "iopub.status.busy": "2021-05-18T00:52:16.874982Z",
     "iopub.status.idle": "2021-05-18T00:52:28.755948Z",
     "shell.execute_reply": "2021-05-18T00:52:28.755456Z"
    },
    "papermill": {
     "duration": 11.969185,
     "end_time": "2021-05-18T00:52:28.756054",
     "exception": false,
     "start_time": "2021-05-18T00:52:16.786869",
     "status": "completed"
    },
    "tags": []
   },
   "outputs": [
    {
     "name": "stdout",
     "output_type": "stream",
     "text": [
      "Predicting labels for 2,779 test sentences...\n"
     ]
    }
   ],
   "source": [
    "embeddings_te = []\n",
    "# Prediction on test set\n",
    "print('Predicting labels for {:,} test sentences...'.format(len(prediction_inputs)))\n",
    "# Put model in evaluation mode\n",
    "model.eval()\n",
    "# Tracking variables \n",
    "predictions , true_labels = [], []\n",
    "# Predict \n",
    "for batch in prediction_dataloader:\n",
    "    b_input_ids = batch[0].to(device)\n",
    "    b_input_mask = batch[1].to(device)\n",
    "    b_labels = batch[2].to(device)\n",
    "  \n",
    "  # Telling the model not to compute or store gradients, saving memory and \n",
    "  # speeding up prediction\n",
    "    with torch.no_grad():\n",
    "        # Forward pass, calculate logit predictions\n",
    "        outputs = model(b_input_ids, token_type_ids=None, \n",
    "                      attention_mask=b_input_mask, labels=b_labels)\n",
    "    logits = outputs[1]\n",
    "    # Embeddings extraction approach is to average the second to last hiden layer of each token producing a single 768 length vector\n",
    "    # https://mccormickml.com/2019/05/14/BERT-word-embeddings-tutorial/\n",
    "    hidden_state_te = outputs[2]\n",
    "    token_vecs = hidden_state_te[-2]\n",
    "    token_vecs_sentvecs = []\n",
    "    for token in token_vecs:\n",
    "        sentvecs = torch.mean(token, dim=0).detach().cpu().numpy()\n",
    "        token_vecs_sentvecs.append(sentvecs)\n",
    "    # features = hidden_state_te[12][:,0,:].detach().cpu().numpy()\n",
    "    embeddings_te.append([batch[3], token_vecs_sentvecs])\n",
    "    # Move logits and labels to CPU\n",
    "    logits = logits.detach().cpu().numpy()\n",
    "    label_ids = b_labels.to('cpu').numpy()\n",
    "\n",
    "    # Store predictions and true labels\n",
    "    predictions.append(logits)\n",
    "    true_labels.append(label_ids)\n",
    "    \n"
   ]
  },
  {
   "cell_type": "markdown",
   "metadata": {
    "papermill": {
     "duration": 0.078812,
     "end_time": "2021-05-18T00:52:28.916217",
     "exception": false,
     "start_time": "2021-05-18T00:52:28.837405",
     "status": "completed"
    },
    "tags": []
   },
   "source": [
    "Extract Embeddings"
   ]
  },
  {
   "cell_type": "code",
   "execution_count": 58,
   "metadata": {
    "execution": {
     "iopub.execute_input": "2021-05-18T00:52:29.086032Z",
     "iopub.status.busy": "2021-05-18T00:52:29.085168Z",
     "iopub.status.idle": "2021-05-18T00:52:29.663797Z",
     "shell.execute_reply": "2021-05-18T00:52:29.664210Z"
    },
    "papermill": {
     "duration": 0.668192,
     "end_time": "2021-05-18T00:52:29.664328",
     "exception": false,
     "start_time": "2021-05-18T00:52:28.996136",
     "status": "completed"
    },
    "tags": []
   },
   "outputs": [
    {
     "name": "stdout",
     "output_type": "stream",
     "text": [
      "DONE.\n"
     ]
    },
    {
     "data": {
      "text/html": [
       "<div>\n",
       "<style scoped>\n",
       "    .dataframe tbody tr th:only-of-type {\n",
       "        vertical-align: middle;\n",
       "    }\n",
       "\n",
       "    .dataframe tbody tr th {\n",
       "        vertical-align: top;\n",
       "    }\n",
       "\n",
       "    .dataframe thead th {\n",
       "        text-align: right;\n",
       "    }\n",
       "</style>\n",
       "<table border=\"1\" class=\"dataframe\">\n",
       "  <thead>\n",
       "    <tr style=\"text-align: right;\">\n",
       "      <th></th>\n",
       "      <th>id</th>\n",
       "      <th>user.id</th>\n",
       "      <th>suspended</th>\n",
       "      <th>0</th>\n",
       "      <th>1</th>\n",
       "      <th>2</th>\n",
       "      <th>3</th>\n",
       "      <th>4</th>\n",
       "      <th>5</th>\n",
       "      <th>6</th>\n",
       "      <th>...</th>\n",
       "      <th>758</th>\n",
       "      <th>759</th>\n",
       "      <th>760</th>\n",
       "      <th>761</th>\n",
       "      <th>762</th>\n",
       "      <th>763</th>\n",
       "      <th>764</th>\n",
       "      <th>765</th>\n",
       "      <th>766</th>\n",
       "      <th>767</th>\n",
       "    </tr>\n",
       "  </thead>\n",
       "  <tbody>\n",
       "    <tr>\n",
       "      <th>0</th>\n",
       "      <td>0</td>\n",
       "      <td>1.278122e+18</td>\n",
       "      <td>0</td>\n",
       "      <td>-1.160748</td>\n",
       "      <td>0.552491</td>\n",
       "      <td>-0.180493</td>\n",
       "      <td>-0.707377</td>\n",
       "      <td>-0.137647</td>\n",
       "      <td>-0.373498</td>\n",
       "      <td>0.255607</td>\n",
       "      <td>...</td>\n",
       "      <td>0.549965</td>\n",
       "      <td>-0.124564</td>\n",
       "      <td>-0.741382</td>\n",
       "      <td>-0.248781</td>\n",
       "      <td>0.989576</td>\n",
       "      <td>0.568893</td>\n",
       "      <td>1.024374</td>\n",
       "      <td>0.484049</td>\n",
       "      <td>1.021698</td>\n",
       "      <td>0.331782</td>\n",
       "    </tr>\n",
       "    <tr>\n",
       "      <th>1</th>\n",
       "      <td>1</td>\n",
       "      <td>1.278129e+18</td>\n",
       "      <td>0</td>\n",
       "      <td>-0.513980</td>\n",
       "      <td>0.655917</td>\n",
       "      <td>-0.490477</td>\n",
       "      <td>-0.477349</td>\n",
       "      <td>-0.307668</td>\n",
       "      <td>-0.729411</td>\n",
       "      <td>-0.606579</td>\n",
       "      <td>...</td>\n",
       "      <td>0.743470</td>\n",
       "      <td>-0.540648</td>\n",
       "      <td>-0.858523</td>\n",
       "      <td>-0.647750</td>\n",
       "      <td>1.568315</td>\n",
       "      <td>0.662276</td>\n",
       "      <td>0.549660</td>\n",
       "      <td>1.035598</td>\n",
       "      <td>0.860325</td>\n",
       "      <td>-0.077263</td>\n",
       "    </tr>\n",
       "    <tr>\n",
       "      <th>2</th>\n",
       "      <td>2</td>\n",
       "      <td>1.278131e+18</td>\n",
       "      <td>0</td>\n",
       "      <td>-0.084861</td>\n",
       "      <td>-0.010463</td>\n",
       "      <td>0.498676</td>\n",
       "      <td>-0.274815</td>\n",
       "      <td>-0.422909</td>\n",
       "      <td>-0.405617</td>\n",
       "      <td>0.193553</td>\n",
       "      <td>...</td>\n",
       "      <td>1.002421</td>\n",
       "      <td>-0.374806</td>\n",
       "      <td>-1.236382</td>\n",
       "      <td>-0.892700</td>\n",
       "      <td>1.103617</td>\n",
       "      <td>0.640840</td>\n",
       "      <td>1.139575</td>\n",
       "      <td>1.032297</td>\n",
       "      <td>0.924792</td>\n",
       "      <td>0.564698</td>\n",
       "    </tr>\n",
       "    <tr>\n",
       "      <th>3</th>\n",
       "      <td>3</td>\n",
       "      <td>1.278145e+18</td>\n",
       "      <td>1</td>\n",
       "      <td>-1.101061</td>\n",
       "      <td>-0.424977</td>\n",
       "      <td>0.137689</td>\n",
       "      <td>-0.185138</td>\n",
       "      <td>0.391402</td>\n",
       "      <td>-0.907948</td>\n",
       "      <td>0.410947</td>\n",
       "      <td>...</td>\n",
       "      <td>-0.137954</td>\n",
       "      <td>-0.423090</td>\n",
       "      <td>-0.263325</td>\n",
       "      <td>-0.966134</td>\n",
       "      <td>1.192639</td>\n",
       "      <td>0.280745</td>\n",
       "      <td>-0.095412</td>\n",
       "      <td>0.657070</td>\n",
       "      <td>0.802822</td>\n",
       "      <td>0.712615</td>\n",
       "    </tr>\n",
       "    <tr>\n",
       "      <th>4</th>\n",
       "      <td>4</td>\n",
       "      <td>1.278155e+18</td>\n",
       "      <td>0</td>\n",
       "      <td>-0.402236</td>\n",
       "      <td>-0.044518</td>\n",
       "      <td>-0.533258</td>\n",
       "      <td>-1.033546</td>\n",
       "      <td>0.032688</td>\n",
       "      <td>-0.247442</td>\n",
       "      <td>-0.441116</td>\n",
       "      <td>...</td>\n",
       "      <td>0.350189</td>\n",
       "      <td>-0.410590</td>\n",
       "      <td>-0.777963</td>\n",
       "      <td>-0.487581</td>\n",
       "      <td>1.693880</td>\n",
       "      <td>0.161245</td>\n",
       "      <td>0.720063</td>\n",
       "      <td>1.295127</td>\n",
       "      <td>-0.148973</td>\n",
       "      <td>0.422391</td>\n",
       "    </tr>\n",
       "  </tbody>\n",
       "</table>\n",
       "<p>5 rows × 771 columns</p>\n",
       "</div>"
      ],
      "text/plain": [
       "   id       user.id  suspended         0         1         2         3  \\\n",
       "0   0  1.278122e+18          0 -1.160748  0.552491 -0.180493 -0.707377   \n",
       "1   1  1.278129e+18          0 -0.513980  0.655917 -0.490477 -0.477349   \n",
       "2   2  1.278131e+18          0 -0.084861 -0.010463  0.498676 -0.274815   \n",
       "3   3  1.278145e+18          1 -1.101061 -0.424977  0.137689 -0.185138   \n",
       "4   4  1.278155e+18          0 -0.402236 -0.044518 -0.533258 -1.033546   \n",
       "\n",
       "          4         5         6  ...       758       759       760       761  \\\n",
       "0 -0.137647 -0.373498  0.255607  ...  0.549965 -0.124564 -0.741382 -0.248781   \n",
       "1 -0.307668 -0.729411 -0.606579  ...  0.743470 -0.540648 -0.858523 -0.647750   \n",
       "2 -0.422909 -0.405617  0.193553  ...  1.002421 -0.374806 -1.236382 -0.892700   \n",
       "3  0.391402 -0.907948  0.410947  ... -0.137954 -0.423090 -0.263325 -0.966134   \n",
       "4  0.032688 -0.247442 -0.441116  ...  0.350189 -0.410590 -0.777963 -0.487581   \n",
       "\n",
       "        762       763       764       765       766       767  \n",
       "0  0.989576  0.568893  1.024374  0.484049  1.021698  0.331782  \n",
       "1  1.568315  0.662276  0.549660  1.035598  0.860325 -0.077263  \n",
       "2  1.103617  0.640840  1.139575  1.032297  0.924792  0.564698  \n",
       "3  1.192639  0.280745 -0.095412  0.657070  0.802822  0.712615  \n",
       "4  1.693880  0.161245  0.720063  1.295127 -0.148973  0.422391  \n",
       "\n",
       "[5 rows x 771 columns]"
      ]
     },
     "execution_count": 58,
     "metadata": {},
     "output_type": "execute_result"
    }
   ],
   "source": [
    "# Get embeddings for test\n",
    "p = [group for group in embeddings_te]\n",
    "\n",
    "b = [item for sublist in [[list(t) for t in zip(sublist[0], sublist[1])] for sublist in p] for item in sublist]\n",
    "df = pd.DataFrame(b, columns = ['id', 'embeddings'])  \n",
    "\n",
    "bert_embeddings_df_test = pd.concat([df['id'], df['embeddings'].apply(pd.Series)], axis = 1)\n",
    "bert_embeddings_df_test['id'] = bert_embeddings_df_test['id'].apply(lambda x: x.item())\n",
    "#bert_embeddings_df_test = pd.merge(df_test.drop(['text'], axis=1), bert_embeddings_df_test, left_on = [\"id\"], right_on = [\"id\"])\n",
    "bert_embeddings_df_test = pd.merge(df_test.drop(['text'], axis=1), bert_embeddings_df_test.drop(['id'], axis=1), left_index=True, right_index=True)\n",
    "print('DONE.')\n",
    "bert_embeddings_df_test.head()"
   ]
  },
  {
   "cell_type": "code",
   "execution_count": 59,
   "metadata": {
    "execution": {
     "iopub.execute_input": "2021-05-18T00:52:29.838326Z",
     "iopub.status.busy": "2021-05-18T00:52:29.837523Z",
     "iopub.status.idle": "2021-05-18T00:52:29.840743Z",
     "shell.execute_reply": "2021-05-18T00:52:29.840296Z"
    },
    "papermill": {
     "duration": 0.095824,
     "end_time": "2021-05-18T00:52:29.840847",
     "exception": false,
     "start_time": "2021-05-18T00:52:29.745023",
     "status": "completed"
    },
    "tags": []
   },
   "outputs": [],
   "source": [
    "bert_embeddings_df_test['user.id'] = bert_embeddings_df_test['user.id'].astype('str')\n",
    "bert_embeddings_df_test['user.id'] = bert_embeddings_df_test['user.id'].apply(lambda x: \"'\" + x + \"'\")"
   ]
  },
  {
   "cell_type": "code",
   "execution_count": 60,
   "metadata": {
    "execution": {
     "iopub.execute_input": "2021-05-18T00:52:30.008072Z",
     "iopub.status.busy": "2021-05-18T00:52:30.007166Z",
     "iopub.status.idle": "2021-05-18T00:52:30.011783Z",
     "shell.execute_reply": "2021-05-18T00:52:30.011318Z"
    },
    "papermill": {
     "duration": 0.090253,
     "end_time": "2021-05-18T00:52:30.011876",
     "exception": false,
     "start_time": "2021-05-18T00:52:29.921623",
     "status": "completed"
    },
    "tags": []
   },
   "outputs": [
    {
     "name": "stdout",
     "output_type": "stream",
     "text": [
      "full train: 2779 unique ids train: 513\n"
     ]
    }
   ],
   "source": [
    "print(\"full train:\", len(bert_embeddings_df_test), \"unique ids train:\", len(bert_embeddings_df_test['user.id'].unique()))"
   ]
  },
  {
   "cell_type": "markdown",
   "metadata": {
    "papermill": {
     "duration": 0.083091,
     "end_time": "2021-05-18T00:52:30.173503",
     "exception": false,
     "start_time": "2021-05-18T00:52:30.090412",
     "status": "completed"
    },
    "tags": []
   },
   "source": [
    "Save"
   ]
  },
  {
   "cell_type": "code",
   "execution_count": 61,
   "metadata": {
    "execution": {
     "iopub.execute_input": "2021-05-18T00:52:30.340956Z",
     "iopub.status.busy": "2021-05-18T00:52:30.339467Z",
     "iopub.status.idle": "2021-05-18T00:52:33.467227Z",
     "shell.execute_reply": "2021-05-18T00:52:33.466741Z"
    },
    "papermill": {
     "duration": 3.212989,
     "end_time": "2021-05-18T00:52:33.467323",
     "exception": false,
     "start_time": "2021-05-18T00:52:30.254334",
     "status": "completed"
    },
    "tags": []
   },
   "outputs": [],
   "source": [
    "bert_embeddings_df_test.to_csv('ml_test_embeddings_df_full.csv', index=False, encoding = \"utf_8_sig\")"
   ]
  },
  {
   "cell_type": "markdown",
   "metadata": {
    "papermill": {
     "duration": 0.079226,
     "end_time": "2021-05-18T00:52:33.627157",
     "exception": false,
     "start_time": "2021-05-18T00:52:33.547931",
     "status": "completed"
    },
    "tags": []
   },
   "source": [
    "Look at imbalance. "
   ]
  },
  {
   "cell_type": "code",
   "execution_count": 62,
   "metadata": {
    "execution": {
     "iopub.execute_input": "2021-05-18T00:52:33.791201Z",
     "iopub.status.busy": "2021-05-18T00:52:33.790604Z",
     "iopub.status.idle": "2021-05-18T00:52:33.793577Z",
     "shell.execute_reply": "2021-05-18T00:52:33.794201Z"
    },
    "papermill": {
     "duration": 0.088447,
     "end_time": "2021-05-18T00:52:33.794362",
     "exception": false,
     "start_time": "2021-05-18T00:52:33.705915",
     "status": "completed"
    },
    "tags": []
   },
   "outputs": [
    {
     "name": "stdout",
     "output_type": "stream",
     "text": [
      "Positive samples: 639 of 1292 (49.46%)\n"
     ]
    }
   ],
   "source": [
    "print('Positive samples: %d of %d (%.2f%%)' % (df_train.suspended.sum(), len(df_train.suspended), (df_train.suspended.sum() / len(df_train.suspended) * 100.0)))"
   ]
  },
  {
   "cell_type": "code",
   "execution_count": 63,
   "metadata": {
    "execution": {
     "iopub.execute_input": "2021-05-18T00:52:33.975638Z",
     "iopub.status.busy": "2021-05-18T00:52:33.974693Z",
     "iopub.status.idle": "2021-05-18T00:52:34.254354Z",
     "shell.execute_reply": "2021-05-18T00:52:34.253860Z"
    },
    "papermill": {
     "duration": 0.372422,
     "end_time": "2021-05-18T00:52:34.254465",
     "exception": false,
     "start_time": "2021-05-18T00:52:33.882043",
     "status": "completed"
    },
    "tags": []
   },
   "outputs": [
    {
     "name": "stdout",
     "output_type": "stream",
     "text": [
      "Calculating Matthews Corr. Coef. for each batch...\n"
     ]
    },
    {
     "name": "stderr",
     "output_type": "stream",
     "text": [
      "/opt/conda/lib/python3.7/site-packages/sklearn/metrics/_classification.py:846: RuntimeWarning:\n",
      "\n",
      "invalid value encountered in double_scalars\n",
      "\n"
     ]
    }
   ],
   "source": [
    "from sklearn.metrics import matthews_corrcoef\n",
    "matthews_set = []\n",
    "# Evaluate each test batch using Matthew's correlation coefficient\n",
    "print('Calculating Matthews Corr. Coef. for each batch...')\n",
    "# For each input batch...\n",
    "for i in range(len(true_labels)):\n",
    "  \n",
    "    # The predictions for this batch are a 2-column ndarray (one column for \"0\" \n",
    "    # and one column for \"1\"). Pick the label with the highest value and turn this\n",
    "    # in to a list of 0s and 1s.\n",
    "    pred_labels_i = np.argmax(predictions[i], axis=1).flatten()\n",
    "\n",
    "    # Calculate and store the coef for this batch.  \n",
    "    matthews = matthews_corrcoef(true_labels[i], pred_labels_i)                \n",
    "    matthews_set.append(matthews)"
   ]
  },
  {
   "cell_type": "code",
   "execution_count": 64,
   "metadata": {
    "execution": {
     "iopub.execute_input": "2021-05-18T00:52:34.442375Z",
     "iopub.status.busy": "2021-05-18T00:52:34.441558Z",
     "iopub.status.idle": "2021-05-18T00:52:34.455086Z",
     "shell.execute_reply": "2021-05-18T00:52:34.455589Z"
    },
    "papermill": {
     "duration": 0.11155,
     "end_time": "2021-05-18T00:52:34.455721",
     "exception": false,
     "start_time": "2021-05-18T00:52:34.344171",
     "status": "completed"
    },
    "tags": []
   },
   "outputs": [
    {
     "name": "stdout",
     "output_type": "stream",
     "text": [
      "MCC: -0.077\n"
     ]
    }
   ],
   "source": [
    "# Combine the predictions for each batch into a single list of 0s and 1s.\n",
    "flat_predictions = [item for sublist in predictions for item in sublist]\n",
    "flat_predictions = np.argmax(flat_predictions, axis=1).flatten()\n",
    "# Combine the correct labels for each batch into a single list.\n",
    "flat_true_labels = [item for sublist in true_labels for item in sublist]\n",
    "# Calculate the MCC\n",
    "mcc = matthews_corrcoef(flat_true_labels, flat_predictions)\n",
    "print('MCC: %.3f' % mcc)"
   ]
  },
  {
   "cell_type": "code",
   "execution_count": 65,
   "metadata": {
    "execution": {
     "iopub.execute_input": "2021-05-18T00:52:34.637047Z",
     "iopub.status.busy": "2021-05-18T00:52:34.636095Z",
     "iopub.status.idle": "2021-05-18T00:52:34.647685Z",
     "shell.execute_reply": "2021-05-18T00:52:34.647207Z"
    },
    "papermill": {
     "duration": 0.099061,
     "end_time": "2021-05-18T00:52:34.647812",
     "exception": false,
     "start_time": "2021-05-18T00:52:34.548751",
     "status": "completed"
    },
    "tags": []
   },
   "outputs": [
    {
     "name": "stdout",
     "output_type": "stream",
     "text": [
      "              precision    recall  f1-score   support\n",
      "\n",
      "           0       0.94      0.43      0.59      2655\n",
      "           1       0.03      0.39      0.06       124\n",
      "\n",
      "    accuracy                           0.43      2779\n",
      "   macro avg       0.48      0.41      0.32      2779\n",
      "weighted avg       0.90      0.43      0.56      2779\n",
      "\n"
     ]
    }
   ],
   "source": [
    "report = classification_report(flat_true_labels, flat_predictions)\n",
    "print(report)"
   ]
  },
  {
   "cell_type": "code",
   "execution_count": 66,
   "metadata": {
    "execution": {
     "iopub.execute_input": "2021-05-18T00:52:34.820459Z",
     "iopub.status.busy": "2021-05-18T00:52:34.819608Z",
     "iopub.status.idle": "2021-05-18T00:52:34.983555Z",
     "shell.execute_reply": "2021-05-18T00:52:34.984067Z"
    },
    "papermill": {
     "duration": 0.254307,
     "end_time": "2021-05-18T00:52:34.984203",
     "exception": false,
     "start_time": "2021-05-18T00:52:34.729896",
     "status": "completed"
    },
    "tags": []
   },
   "outputs": [
    {
     "data": {
      "image/png": "[encoded data removed]",
      "text/plain": [
       "<Figure size 576x432 with 1 Axes>"
      ]
     },
     "metadata": {
      "needs_background": "light"
     },
     "output_type": "display_data"
    }
   ],
   "source": [
    "fpr, tpr, thresholds = roc_curve(flat_true_labels, flat_predictions)\n",
    "plt.figure(figsize=(8, 6))                         # Not shown\n",
    "plot_roc_curve(fpr, tpr)\n",
    "plt.plot([4.837e-3, 4.837e-3], [0., 0.4368], \"r:\") # Not shown\n",
    "plt.plot([0.0, 4.837e-3], [0.4368, 0.4368], \"r:\")  # Not shown\n",
    "plt.plot([4.837e-3], [0.4368], \"ro\")               # Not shown\n",
    "plt.show()"
   ]
  },
  {
   "cell_type": "code",
   "execution_count": 67,
   "metadata": {
    "execution": {
     "iopub.execute_input": "2021-05-18T00:52:35.274857Z",
     "iopub.status.busy": "2021-05-18T00:52:35.273986Z",
     "iopub.status.idle": "2021-05-18T00:52:35.281021Z",
     "shell.execute_reply": "2021-05-18T00:52:35.281613Z"
    },
    "papermill": {
     "duration": 0.151632,
     "end_time": "2021-05-18T00:52:35.281782",
     "exception": false,
     "start_time": "2021-05-18T00:52:35.130150",
     "status": "completed"
    },
    "tags": []
   },
   "outputs": [
    {
     "data": {
      "text/plain": [
       "0.4078610047992224"
      ]
     },
     "execution_count": 67,
     "metadata": {},
     "output_type": "execute_result"
    }
   ],
   "source": [
    "roc_auc_score(flat_true_labels, flat_predictions)"
   ]
  },
  {
   "cell_type": "markdown",
   "metadata": {
    "papermill": {
     "duration": 0.088709,
     "end_time": "2021-05-18T00:52:35.519039",
     "exception": false,
     "start_time": "2021-05-18T00:52:35.430330",
     "status": "completed"
    },
    "tags": []
   },
   "source": [
    "### Output Predictions by Account"
   ]
  },
  {
   "cell_type": "code",
   "execution_count": 68,
   "metadata": {
    "execution": {
     "iopub.execute_input": "2021-05-18T00:52:35.694443Z",
     "iopub.status.busy": "2021-05-18T00:52:35.692428Z",
     "iopub.status.idle": "2021-05-18T00:52:35.695059Z",
     "shell.execute_reply": "2021-05-18T00:52:35.695495Z"
    },
    "papermill": {
     "duration": 0.094353,
     "end_time": "2021-05-18T00:52:35.695633",
     "exception": false,
     "start_time": "2021-05-18T00:52:35.601280",
     "status": "completed"
    },
    "tags": []
   },
   "outputs": [],
   "source": [
    "# Generate class predictions at the account level \n",
    "def predict_tweet_text(predictions, df_overlap, df_full):\n",
    "    df = pd.DataFrame(predictions, columns = ['pred'])\n",
    "    df_2 = pd.merge(df_overlap, df, left_index=True, right_index=True)\n",
    "    df_fm = df_full[['user.screen_name','user.id']].drop_duplicates(subset=['user.screen_name','user.id'])\n",
    "    df_3 = pd.merge(df_fm, df_2, left_on='user.id', right_on='user.id')\n",
    "    df_3 = df_3.sort_values(by=['pred'], ascending=False)\n",
    "    return df_3"
   ]
  },
  {
   "cell_type": "code",
   "execution_count": 69,
   "metadata": {
    "execution": {
     "iopub.execute_input": "2021-05-18T00:52:35.873780Z",
     "iopub.status.busy": "2021-05-18T00:52:35.872949Z",
     "iopub.status.idle": "2021-05-18T00:52:35.895412Z",
     "shell.execute_reply": "2021-05-18T00:52:35.895848Z"
    },
    "papermill": {
     "duration": 0.114557,
     "end_time": "2021-05-18T00:52:35.895959",
     "exception": false,
     "start_time": "2021-05-18T00:52:35.781402",
     "status": "completed"
    },
    "tags": []
   },
   "outputs": [
    {
     "data": {
      "text/html": [
       "<div>\n",
       "<style scoped>\n",
       "    .dataframe tbody tr th:only-of-type {\n",
       "        vertical-align: middle;\n",
       "    }\n",
       "\n",
       "    .dataframe tbody tr th {\n",
       "        vertical-align: top;\n",
       "    }\n",
       "\n",
       "    .dataframe thead th {\n",
       "        text-align: right;\n",
       "    }\n",
       "</style>\n",
       "<table border=\"1\" class=\"dataframe\">\n",
       "  <thead>\n",
       "    <tr style=\"text-align: right;\">\n",
       "      <th></th>\n",
       "      <th>user.screen_name</th>\n",
       "      <th>user.id</th>\n",
       "      <th>id</th>\n",
       "      <th>text</th>\n",
       "      <th>suspended</th>\n",
       "      <th>pred</th>\n",
       "    </tr>\n",
       "  </thead>\n",
       "  <tbody>\n",
       "    <tr>\n",
       "      <th>2778</th>\n",
       "      <td>Alijangs3</td>\n",
       "      <td>1.287073e+18</td>\n",
       "      <td>2778</td>\n",
       "      <td>@Ms_Bukharii @SyedaItratZahra Beshaq Alii http...</td>\n",
       "      <td>0</td>\n",
       "      <td>1</td>\n",
       "    </tr>\n",
       "    <tr>\n",
       "      <th>1214</th>\n",
       "      <td>truthseeker3731</td>\n",
       "      <td>1.280455e+18</td>\n",
       "      <td>1214</td>\n",
       "      <td>ہے یا نہیں @UmaTj77 @YouTube Lovely song, nice...</td>\n",
       "      <td>0</td>\n",
       "      <td>1</td>\n",
       "    </tr>\n",
       "    <tr>\n",
       "      <th>1225</th>\n",
       "      <td>truthseeker3731</td>\n",
       "      <td>1.280455e+18</td>\n",
       "      <td>1225</td>\n",
       "      <td>رمضان آنے دے ڈھول سحری میں بجا لیجئے گا تاکہ ل...</td>\n",
       "      <td>0</td>\n",
       "      <td>1</td>\n",
       "    </tr>\n",
       "    <tr>\n",
       "      <th>1224</th>\n",
       "      <td>truthseeker3731</td>\n",
       "      <td>1.280455e+18</td>\n",
       "      <td>1224</td>\n",
       "      <td>waiting for such days for a long time. ___ #Ka...</td>\n",
       "      <td>0</td>\n",
       "      <td>1</td>\n",
       "    </tr>\n",
       "    <tr>\n",
       "      <th>1223</th>\n",
       "      <td>truthseeker3731</td>\n",
       "      <td>1.280455e+18</td>\n",
       "      <td>1223</td>\n",
       "      <td>I know how much money big companies have ,outs...</td>\n",
       "      <td>0</td>\n",
       "      <td>1</td>\n",
       "    </tr>\n",
       "  </tbody>\n",
       "</table>\n",
       "</div>"
      ],
      "text/plain": [
       "     user.screen_name       user.id    id  \\\n",
       "2778        Alijangs3  1.287073e+18  2778   \n",
       "1214  truthseeker3731  1.280455e+18  1214   \n",
       "1225  truthseeker3731  1.280455e+18  1225   \n",
       "1224  truthseeker3731  1.280455e+18  1224   \n",
       "1223  truthseeker3731  1.280455e+18  1223   \n",
       "\n",
       "                                                   text  suspended  pred  \n",
       "2778  @Ms_Bukharii @SyedaItratZahra Beshaq Alii http...          0     1  \n",
       "1214  ہے یا نہیں @UmaTj77 @YouTube Lovely song, nice...          0     1  \n",
       "1225  رمضان آنے دے ڈھول سحری میں بجا لیجئے گا تاکہ ل...          0     1  \n",
       "1224  waiting for such days for a long time. ___ #Ka...          0     1  \n",
       "1223  I know how much money big companies have ,outs...          0     1  "
      ]
     },
     "execution_count": 69,
     "metadata": {},
     "output_type": "execute_result"
    }
   ],
   "source": [
    "test_preds_tweets = predict_tweet_text(flat_predictions, df_test, df_test_f)\n",
    "test_preds_tweets.head()"
   ]
  },
  {
   "cell_type": "code",
   "execution_count": 70,
   "metadata": {
    "execution": {
     "iopub.execute_input": "2021-05-18T00:52:36.074575Z",
     "iopub.status.busy": "2021-05-18T00:52:36.073782Z",
     "iopub.status.idle": "2021-05-18T00:52:36.231753Z",
     "shell.execute_reply": "2021-05-18T00:52:36.231192Z"
    },
    "papermill": {
     "duration": 0.251476,
     "end_time": "2021-05-18T00:52:36.231854",
     "exception": false,
     "start_time": "2021-05-18T00:52:35.980378",
     "status": "completed"
    },
    "tags": []
   },
   "outputs": [],
   "source": [
    "test_preds_tweets.to_csv('test_preds_tweets.csv', index=False, encoding = \"utf_8_sig\")"
   ]
  },
  {
   "cell_type": "code",
   "execution_count": 71,
   "metadata": {
    "execution": {
     "iopub.execute_input": "2021-05-18T00:52:36.413278Z",
     "iopub.status.busy": "2021-05-18T00:52:36.412408Z",
     "iopub.status.idle": "2021-05-18T00:52:36.415196Z",
     "shell.execute_reply": "2021-05-18T00:52:36.414779Z"
    },
    "papermill": {
     "duration": 0.097173,
     "end_time": "2021-05-18T00:52:36.415297",
     "exception": false,
     "start_time": "2021-05-18T00:52:36.318124",
     "status": "completed"
    },
    "tags": []
   },
   "outputs": [],
   "source": [
    "# Generate class predictions at the account level \n",
    "def predict_account(pred_tt):\n",
    "    df_4 = pred_tt[['user.screen_name', 'suspended','pred']].groupby('user.screen_name').agg(['sum', 'mean'])\n",
    "    df_4.drop(('suspended', 'sum'), axis = 1, inplace = True)\n",
    "    df_4.columns = [' '.join(col).strip() for col in df_4.columns.values]\n",
    "    df_4.reset_index(level=0, inplace=True)\n",
    "    df_4.columns = [\"user.screen_name\",\"suspended_label\", \"total_pre_prob\",\"mean_pred_prob\"]\n",
    "    df_4['pred_class'] = np.where(df_4['mean_pred_prob'] > 0.25, 1,0) # Use lighter threshold as not all tweets get an account suspended. \n",
    "    df_4 = df_4.sort_values(by=['total_pre_prob'], ascending=False)\n",
    "\n",
    "    return df_4"
   ]
  },
  {
   "cell_type": "code",
   "execution_count": 72,
   "metadata": {
    "execution": {
     "iopub.execute_input": "2021-05-18T00:52:36.601768Z",
     "iopub.status.busy": "2021-05-18T00:52:36.600868Z",
     "iopub.status.idle": "2021-05-18T00:52:36.642205Z",
     "shell.execute_reply": "2021-05-18T00:52:36.641790Z"
    },
    "papermill": {
     "duration": 0.139595,
     "end_time": "2021-05-18T00:52:36.642303",
     "exception": false,
     "start_time": "2021-05-18T00:52:36.502708",
     "status": "completed"
    },
    "tags": []
   },
   "outputs": [
    {
     "data": {
      "text/html": [
       "<div>\n",
       "<style scoped>\n",
       "    .dataframe tbody tr th:only-of-type {\n",
       "        vertical-align: middle;\n",
       "    }\n",
       "\n",
       "    .dataframe tbody tr th {\n",
       "        vertical-align: top;\n",
       "    }\n",
       "\n",
       "    .dataframe thead th {\n",
       "        text-align: right;\n",
       "    }\n",
       "</style>\n",
       "<table border=\"1\" class=\"dataframe\">\n",
       "  <thead>\n",
       "    <tr style=\"text-align: right;\">\n",
       "      <th></th>\n",
       "      <th>user.screen_name</th>\n",
       "      <th>suspended_label</th>\n",
       "      <th>total_pre_prob</th>\n",
       "      <th>mean_pred_prob</th>\n",
       "      <th>pred_class</th>\n",
       "    </tr>\n",
       "  </thead>\n",
       "  <tbody>\n",
       "    <tr>\n",
       "      <th>71</th>\n",
       "      <td>DanishHK90</td>\n",
       "      <td>0</td>\n",
       "      <td>176</td>\n",
       "      <td>0.983240</td>\n",
       "      <td>1</td>\n",
       "    </tr>\n",
       "    <tr>\n",
       "      <th>204</th>\n",
       "      <td>MustafaKhan1313</td>\n",
       "      <td>0</td>\n",
       "      <td>171</td>\n",
       "      <td>0.994186</td>\n",
       "      <td>1</td>\n",
       "    </tr>\n",
       "    <tr>\n",
       "      <th>124</th>\n",
       "      <td>Interservicein2</td>\n",
       "      <td>0</td>\n",
       "      <td>121</td>\n",
       "      <td>1.000000</td>\n",
       "      <td>1</td>\n",
       "    </tr>\n",
       "    <tr>\n",
       "      <th>477</th>\n",
       "      <td>truthseeker3731</td>\n",
       "      <td>0</td>\n",
       "      <td>105</td>\n",
       "      <td>0.963303</td>\n",
       "      <td>1</td>\n",
       "    </tr>\n",
       "    <tr>\n",
       "      <th>328</th>\n",
       "      <td>asif_yousafzi</td>\n",
       "      <td>0</td>\n",
       "      <td>79</td>\n",
       "      <td>0.951807</td>\n",
       "      <td>1</td>\n",
       "    </tr>\n",
       "    <tr>\n",
       "      <th>...</th>\n",
       "      <td>...</td>\n",
       "      <td>...</td>\n",
       "      <td>...</td>\n",
       "      <td>...</td>\n",
       "      <td>...</td>\n",
       "    </tr>\n",
       "    <tr>\n",
       "      <th>213</th>\n",
       "      <td>NicolasCrow8</td>\n",
       "      <td>0</td>\n",
       "      <td>0</td>\n",
       "      <td>0.000000</td>\n",
       "      <td>0</td>\n",
       "    </tr>\n",
       "    <tr>\n",
       "      <th>207</th>\n",
       "      <td>Nancy20200622</td>\n",
       "      <td>0</td>\n",
       "      <td>0</td>\n",
       "      <td>0.000000</td>\n",
       "      <td>0</td>\n",
       "    </tr>\n",
       "    <tr>\n",
       "      <th>205</th>\n",
       "      <td>NJ8f7eaXxguK5os</td>\n",
       "      <td>0</td>\n",
       "      <td>0</td>\n",
       "      <td>0.000000</td>\n",
       "      <td>0</td>\n",
       "    </tr>\n",
       "    <tr>\n",
       "      <th>203</th>\n",
       "      <td>Muss09651049</td>\n",
       "      <td>0</td>\n",
       "      <td>0</td>\n",
       "      <td>0.000000</td>\n",
       "      <td>0</td>\n",
       "    </tr>\n",
       "    <tr>\n",
       "      <th>512</th>\n",
       "      <td>zzzzzzh15</td>\n",
       "      <td>0</td>\n",
       "      <td>0</td>\n",
       "      <td>0.000000</td>\n",
       "      <td>0</td>\n",
       "    </tr>\n",
       "  </tbody>\n",
       "</table>\n",
       "<p>513 rows × 5 columns</p>\n",
       "</div>"
      ],
      "text/plain": [
       "    user.screen_name  suspended_label  total_pre_prob  mean_pred_prob  \\\n",
       "71        DanishHK90                0             176        0.983240   \n",
       "204  MustafaKhan1313                0             171        0.994186   \n",
       "124  Interservicein2                0             121        1.000000   \n",
       "477  truthseeker3731                0             105        0.963303   \n",
       "328    asif_yousafzi                0              79        0.951807   \n",
       "..               ...              ...             ...             ...   \n",
       "213     NicolasCrow8                0               0        0.000000   \n",
       "207    Nancy20200622                0               0        0.000000   \n",
       "205  NJ8f7eaXxguK5os                0               0        0.000000   \n",
       "203     Muss09651049                0               0        0.000000   \n",
       "512        zzzzzzh15                0               0        0.000000   \n",
       "\n",
       "     pred_class  \n",
       "71            1  \n",
       "204           1  \n",
       "124           1  \n",
       "477           1  \n",
       "328           1  \n",
       "..          ...  \n",
       "213           0  \n",
       "207           0  \n",
       "205           0  \n",
       "203           0  \n",
       "512           0  \n",
       "\n",
       "[513 rows x 5 columns]"
      ]
     },
     "execution_count": 72,
     "metadata": {},
     "output_type": "execute_result"
    }
   ],
   "source": [
    "test_account_preds_tweettext = predict_account(test_preds_tweets)\n",
    "test_account_preds_tweettext"
   ]
  },
  {
   "cell_type": "markdown",
   "metadata": {
    "papermill": {
     "duration": 0.086511,
     "end_time": "2021-05-18T00:52:36.817917",
     "exception": false,
     "start_time": "2021-05-18T00:52:36.731406",
     "status": "completed"
    },
    "tags": []
   },
   "source": [
    "### Confusion Matrix for Account Classification"
   ]
  },
  {
   "cell_type": "code",
   "execution_count": 73,
   "metadata": {
    "execution": {
     "iopub.execute_input": "2021-05-18T00:52:36.995493Z",
     "iopub.status.busy": "2021-05-18T00:52:36.994659Z",
     "iopub.status.idle": "2021-05-18T00:52:37.003787Z",
     "shell.execute_reply": "2021-05-18T00:52:37.003317Z"
    },
    "papermill": {
     "duration": 0.099884,
     "end_time": "2021-05-18T00:52:37.003877",
     "exception": false,
     "start_time": "2021-05-18T00:52:36.903993",
     "status": "completed"
    },
    "tags": []
   },
   "outputs": [
    {
     "name": "stdout",
     "output_type": "stream",
     "text": [
      "              precision    recall  f1-score   support\n",
      "\n",
      "           0       0.94      0.57      0.71       479\n",
      "           1       0.08      0.50      0.13        34\n",
      "\n",
      "    accuracy                           0.57       513\n",
      "   macro avg       0.51      0.54      0.42       513\n",
      "weighted avg       0.88      0.57      0.67       513\n",
      "\n"
     ]
    }
   ],
   "source": [
    "#report = classification_report(np.array(test_labels), predictions)\n",
    "report_te = classification_report(np.array(test_account_preds_tweettext['suspended_label']), np.array(test_account_preds_tweettext['pred_class']))\n",
    "print(report_te)"
   ]
  },
  {
   "cell_type": "code",
   "execution_count": 74,
   "metadata": {
    "execution": {
     "iopub.execute_input": "2021-05-18T00:52:37.183359Z",
     "iopub.status.busy": "2021-05-18T00:52:37.182383Z",
     "iopub.status.idle": "2021-05-18T00:52:37.322582Z",
     "shell.execute_reply": "2021-05-18T00:52:37.323597Z"
    },
    "papermill": {
     "duration": 0.23484,
     "end_time": "2021-05-18T00:52:37.323888",
     "exception": false,
     "start_time": "2021-05-18T00:52:37.089048",
     "status": "completed"
    },
    "tags": []
   },
   "outputs": [
    {
     "data": {
      "image/png": "[encoded data removed]",
      "text/plain": [
       "<Figure size 576x432 with 1 Axes>"
      ]
     },
     "metadata": {
      "needs_background": "light"
     },
     "output_type": "display_data"
    }
   ],
   "source": [
    "fpr, tpr, thresholds = roc_curve(np.array(test_account_preds_tweettext['suspended_label']), np.array(test_account_preds_tweettext['pred_class']))\n",
    "plt.figure(figsize=(8, 6))                         # Not shown\n",
    "plot_roc_curve(fpr, tpr)\n",
    "plt.plot([4.837e-3, 4.837e-3], [0., 0.4368], \"r:\") # Not shown\n",
    "plt.plot([0.0, 4.837e-3], [0.4368, 0.4368], \"r:\")  # Not shown\n",
    "plt.plot([4.837e-3], [0.4368], \"ro\")               # Not shown\n",
    "plt.show()"
   ]
  },
  {
   "cell_type": "code",
   "execution_count": 75,
   "metadata": {
    "execution": {
     "iopub.execute_input": "2021-05-18T00:52:37.509136Z",
     "iopub.status.busy": "2021-05-18T00:52:37.508296Z",
     "iopub.status.idle": "2021-05-18T00:52:37.514674Z",
     "shell.execute_reply": "2021-05-18T00:52:37.514243Z"
    },
    "papermill": {
     "duration": 0.098428,
     "end_time": "2021-05-18T00:52:37.514777",
     "exception": false,
     "start_time": "2021-05-18T00:52:37.416349",
     "status": "completed"
    },
    "tags": []
   },
   "outputs": [
    {
     "data": {
      "text/plain": [
       "0.5370563674321504"
      ]
     },
     "execution_count": 75,
     "metadata": {},
     "output_type": "execute_result"
    }
   ],
   "source": [
    "roc_auc_score(np.array(test_account_preds_tweettext['suspended_label']), np.array(test_account_preds_tweettext['pred_class']))"
   ]
  },
  {
   "cell_type": "code",
   "execution_count": 76,
   "metadata": {
    "execution": {
     "iopub.execute_input": "2021-05-18T00:52:37.696439Z",
     "iopub.status.busy": "2021-05-18T00:52:37.695649Z",
     "iopub.status.idle": "2021-05-18T00:52:37.701471Z",
     "shell.execute_reply": "2021-05-18T00:52:37.700948Z"
    },
    "papermill": {
     "duration": 0.10062,
     "end_time": "2021-05-18T00:52:37.701588",
     "exception": false,
     "start_time": "2021-05-18T00:52:37.600968",
     "status": "completed"
    },
    "tags": []
   },
   "outputs": [],
   "source": [
    "test_account_preds_tweettext.to_csv('test_account_preds_tweettext.csv', index=False, encoding = \"utf_8_sig\")"
   ]
  }
 ],
 "metadata": {
  "kernelspec": {
   "display_name": "Python 3",
   "language": "python",
   "name": "python3"
  },
  "language_info": {
   "codemirror_mode": {
    "name": "ipython",
    "version": 3
   },
   "file_extension": ".py",
   "mimetype": "text/x-python",
   "name": "python",
   "nbconvert_exporter": "python",
   "pygments_lexer": "ipython3",
   "version": "3.7.6"
  },
  "papermill": {
   "duration": 232.96584,
   "end_time": "2021-05-18T00:52:38.851955",
   "environment_variables": {},
   "exception": null,
   "input_path": "__notebook__.ipynb",
   "output_path": "__notebook__.ipynb",
   "parameters": {},
   "start_time": "2021-05-18T00:48:45.886115",
   "version": "2.1.0"
  },
  "widgets": {
   "application/vnd.jupyter.widget-state+json": {
    "state": {
     "060859f5d7004036994c4f4cfae8b70a": {
      "model_module": "@jupyter-widgets/controls",
      "model_module_version": "1.5.0",
      "model_name": "HBoxModel",
      "state": {
       "_dom_classes": [],
       "_model_module": "@jupyter-widgets/controls",
       "_model_module_version": "1.5.0",
       "_model_name": "HBoxModel",
       "_view_count": null,
       "_view_module": "@jupyter-widgets/controls",
       "_view_module_version": "1.5.0",
       "_view_name": "HBoxView",
       "box_style": "",
       "children": [
        "IPY_MODEL_dec1d4cf329c46fdb81c36b1b4ecd01e",
        "IPY_MODEL_f626b1f3005c4879ae720f6cf0a215cc"
       ],
       "layout": "IPY_MODEL_5188838e709643dcb95db02320751d1d"
      }
     },
     "0b2c04d30fed4a159b18ef60ec8756cc": {
      "model_module": "@jupyter-widgets/controls",
      "model_module_version": "1.5.0",
      "model_name": "HBoxModel",
      "state": {
       "_dom_classes": [],
       "_model_module": "@jupyter-widgets/controls",
       "_model_module_version": "1.5.0",
       "_model_name": "HBoxModel",
       "_view_count": null,
       "_view_module": "@jupyter-widgets/controls",
       "_view_module_version": "1.5.0",
       "_view_name": "HBoxView",
       "box_style": "",
       "children": [
        "IPY_MODEL_79eb6f87347943f3982fb9f428aadf56",
        "IPY_MODEL_0e672f23c0e94e4eae32ec302604b6c6"
       ],
       "layout": "IPY_MODEL_94dc036153964b2f81eebe963ac4a692"
      }
     },
     "0dfaca2b869540d783a6d239a77c776f": {
      "model_module": "@jupyter-widgets/base",
      "model_module_version": "1.2.0",
      "model_name": "LayoutModel",
      "state": {
       "_model_module": "@jupyter-widgets/base",
       "_model_module_version": "1.2.0",
       "_model_name": "LayoutModel",
       "_view_count": null,
       "_view_module": "@jupyter-widgets/base",
       "_view_module_version": "1.2.0",
       "_view_name": "LayoutView",
       "align_content": null,
       "align_items": null,
       "align_self": null,
       "border": null,
       "bottom": null,
       "display": null,
       "flex": null,
       "flex_flow": null,
       "grid_area": null,
       "grid_auto_columns": null,
       "grid_auto_flow": null,
       "grid_auto_rows": null,
       "grid_column": null,
       "grid_gap": null,
       "grid_row": null,
       "grid_template_areas": null,
       "grid_template_columns": null,
       "grid_template_rows": null,
       "height": null,
       "justify_content": null,
       "justify_items": null,
       "left": null,
       "margin": null,
       "max_height": null,
       "max_width": null,
       "min_height": null,
       "min_width": null,
       "object_fit": null,
       "object_position": null,
       "order": null,
       "overflow": null,
       "overflow_x": null,
       "overflow_y": null,
       "padding": null,
       "right": null,
       "top": null,
       "visibility": null,
       "width": null
      }
     },
     "0e672f23c0e94e4eae32ec302604b6c6": {
      "model_module": "@jupyter-widgets/controls",
      "model_module_version": "1.5.0",
      "model_name": "HTMLModel",
      "state": {
       "_dom_classes": [],
       "_model_module": "@jupyter-widgets/controls",
       "_model_module_version": "1.5.0",
       "_model_name": "HTMLModel",
       "_view_count": null,
       "_view_module": "@jupyter-widgets/controls",
       "_view_module_version": "1.5.0",
       "_view_name": "HTMLView",
       "description": "",
       "description_tooltip": null,
       "layout": "IPY_MODEL_6bd0d2db1e124c709c0e0a3a56130827",
       "placeholder": "​",
       "style": "IPY_MODEL_c2b0e5dcd3ca4399a7f8cbf22f0e0f7b",
       "value": " 625/625 [00:00&lt;00:00, 2.68kB/s]"
      }
     },
     "0f50f40f10fa4977b3a204946fadc1c4": {
      "model_module": "@jupyter-widgets/base",
      "model_module_version": "1.2.0",
      "model_name": "LayoutModel",
      "state": {
       "_model_module": "@jupyter-widgets/base",
       "_model_module_version": "1.2.0",
       "_model_name": "LayoutModel",
       "_view_count": null,
       "_view_module": "@jupyter-widgets/base",
       "_view_module_version": "1.2.0",
       "_view_name": "LayoutView",
       "align_content": null,
       "align_items": null,
       "align_self": null,
       "border": null,
       "bottom": null,
       "display": null,
       "flex": null,
       "flex_flow": null,
       "grid_area": null,
       "grid_auto_columns": null,
       "grid_auto_flow": null,
       "grid_auto_rows": null,
       "grid_column": null,
       "grid_gap": null,
       "grid_row": null,
       "grid_template_areas": null,
       "grid_template_columns": null,
       "grid_template_rows": null,
       "height": null,
       "justify_content": null,
       "justify_items": null,
       "left": null,
       "margin": null,
       "max_height": null,
       "max_width": null,
       "min_height": null,
       "min_width": null,
       "object_fit": null,
       "object_position": null,
       "order": null,
       "overflow": null,
       "overflow_x": null,
       "overflow_y": null,
       "padding": null,
       "right": null,
       "top": null,
       "visibility": null,
       "width": null
      }
     },
     "12a84add84cf4428b584a6c3e282aa03": {
      "model_module": "@jupyter-widgets/controls",
      "model_module_version": "1.5.0",
      "model_name": "DescriptionStyleModel",
      "state": {
       "_model_module": "@jupyter-widgets/controls",
       "_model_module_version": "1.5.0",
       "_model_name": "DescriptionStyleModel",
       "_view_count": null,
       "_view_module": "@jupyter-widgets/base",
       "_view_module_version": "1.2.0",
       "_view_name": "StyleView",
       "description_width": ""
      }
     },
     "12b9ea0771b14f9c87fc86f78c0b151a": {
      "model_module": "@jupyter-widgets/controls",
      "model_module_version": "1.5.0",
      "model_name": "FloatProgressModel",
      "state": {
       "_dom_classes": [],
       "_model_module": "@jupyter-widgets/controls",
       "_model_module_version": "1.5.0",
       "_model_name": "FloatProgressModel",
       "_view_count": null,
       "_view_module": "@jupyter-widgets/controls",
       "_view_module_version": "1.5.0",
       "_view_name": "ProgressView",
       "bar_style": "success",
       "description": "Downloading: 100%",
       "description_tooltip": null,
       "layout": "IPY_MODEL_3d46bd377b944059ad9a81cda9a3cd85",
       "max": 995526.0,
       "min": 0.0,
       "orientation": "horizontal",
       "style": "IPY_MODEL_367c0520e4f946c79d99561521ab20bc",
       "value": 995526.0
      }
     },
     "282dff95b99148d8ab2745d075aa3570": {
      "model_module": "@jupyter-widgets/controls",
      "model_module_version": "1.5.0",
      "model_name": "HBoxModel",
      "state": {
       "_dom_classes": [],
       "_model_module": "@jupyter-widgets/controls",
       "_model_module_version": "1.5.0",
       "_model_name": "HBoxModel",
       "_view_count": null,
       "_view_module": "@jupyter-widgets/controls",
       "_view_module_version": "1.5.0",
       "_view_name": "HBoxView",
       "box_style": "",
       "children": [
        "IPY_MODEL_12b9ea0771b14f9c87fc86f78c0b151a",
        "IPY_MODEL_cfe6cfdc4e614f5bb041a6d5b0427cea"
       ],
       "layout": "IPY_MODEL_c4444d3f046f4fe5a8612f1c85c0633d"
      }
     },
     "3344f2edbf6847a5a743b3af93d418c8": {
      "model_module": "@jupyter-widgets/base",
      "model_module_version": "1.2.0",
      "model_name": "LayoutModel",
      "state": {
       "_model_module": "@jupyter-widgets/base",
       "_model_module_version": "1.2.0",
       "_model_name": "LayoutModel",
       "_view_count": null,
       "_view_module": "@jupyter-widgets/base",
       "_view_module_version": "1.2.0",
       "_view_name": "LayoutView",
       "align_content": null,
       "align_items": null,
       "align_self": null,
       "border": null,
       "bottom": null,
       "display": null,
       "flex": null,
       "flex_flow": null,
       "grid_area": null,
       "grid_auto_columns": null,
       "grid_auto_flow": null,
       "grid_auto_rows": null,
       "grid_column": null,
       "grid_gap": null,
       "grid_row": null,
       "grid_template_areas": null,
       "grid_template_columns": null,
       "grid_template_rows": null,
       "height": null,
       "justify_content": null,
       "justify_items": null,
       "left": null,
       "margin": null,
       "max_height": null,
       "max_width": null,
       "min_height": null,
       "min_width": null,
       "object_fit": null,
       "object_position": null,
       "order": null,
       "overflow": null,
       "overflow_x": null,
       "overflow_y": null,
       "padding": null,
       "right": null,
       "top": null,
       "visibility": null,
       "width": null
      }
     },
     "367c0520e4f946c79d99561521ab20bc": {
      "model_module": "@jupyter-widgets/controls",
      "model_module_version": "1.5.0",
      "model_name": "ProgressStyleModel",
      "state": {
       "_model_module": "@jupyter-widgets/controls",
       "_model_module_version": "1.5.0",
       "_model_name": "ProgressStyleModel",
       "_view_count": null,
       "_view_module": "@jupyter-widgets/base",
       "_view_module_version": "1.2.0",
       "_view_name": "StyleView",
       "bar_color": null,
       "description_width": "initial"
      }
     },
     "3d46bd377b944059ad9a81cda9a3cd85": {
      "model_module": "@jupyter-widgets/base",
      "model_module_version": "1.2.0",
      "model_name": "LayoutModel",
      "state": {
       "_model_module": "@jupyter-widgets/base",
       "_model_module_version": "1.2.0",
       "_model_name": "LayoutModel",
       "_view_count": null,
       "_view_module": "@jupyter-widgets/base",
       "_view_module_version": "1.2.0",
       "_view_name": "LayoutView",
       "align_content": null,
       "align_items": null,
       "align_self": null,
       "border": null,
       "bottom": null,
       "display": null,
       "flex": null,
       "flex_flow": null,
       "grid_area": null,
       "grid_auto_columns": null,
       "grid_auto_flow": null,
       "grid_auto_rows": null,
       "grid_column": null,
       "grid_gap": null,
       "grid_row": null,
       "grid_template_areas": null,
       "grid_template_columns": null,
       "grid_template_rows": null,
       "height": null,
       "justify_content": null,
       "justify_items": null,
       "left": null,
       "margin": null,
       "max_height": null,
       "max_width": null,
       "min_height": null,
       "min_width": null,
       "object_fit": null,
       "object_position": null,
       "order": null,
       "overflow": null,
       "overflow_x": null,
       "overflow_y": null,
       "padding": null,
       "right": null,
       "top": null,
       "visibility": null,
       "width": null
      }
     },
     "5188838e709643dcb95db02320751d1d": {
      "model_module": "@jupyter-widgets/base",
      "model_module_version": "1.2.0",
      "model_name": "LayoutModel",
      "state": {
       "_model_module": "@jupyter-widgets/base",
       "_model_module_version": "1.2.0",
       "_model_name": "LayoutModel",
       "_view_count": null,
       "_view_module": "@jupyter-widgets/base",
       "_view_module_version": "1.2.0",
       "_view_name": "LayoutView",
       "align_content": null,
       "align_items": null,
       "align_self": null,
       "border": null,
       "bottom": null,
       "display": null,
       "flex": null,
       "flex_flow": null,
       "grid_area": null,
       "grid_auto_columns": null,
       "grid_auto_flow": null,
       "grid_auto_rows": null,
       "grid_column": null,
       "grid_gap": null,
       "grid_row": null,
       "grid_template_areas": null,
       "grid_template_columns": null,
       "grid_template_rows": null,
       "height": null,
       "justify_content": null,
       "justify_items": null,
       "left": null,
       "margin": null,
       "max_height": null,
       "max_width": null,
       "min_height": null,
       "min_width": null,
       "object_fit": null,
       "object_position": null,
       "order": null,
       "overflow": null,
       "overflow_x": null,
       "overflow_y": null,
       "padding": null,
       "right": null,
       "top": null,
       "visibility": null,
       "width": null
      }
     },
     "6bd0d2db1e124c709c0e0a3a56130827": {
      "model_module": "@jupyter-widgets/base",
      "model_module_version": "1.2.0",
      "model_name": "LayoutModel",
      "state": {
       "_model_module": "@jupyter-widgets/base",
       "_model_module_version": "1.2.0",
       "_model_name": "LayoutModel",
       "_view_count": null,
       "_view_module": "@jupyter-widgets/base",
       "_view_module_version": "1.2.0",
       "_view_name": "LayoutView",
       "align_content": null,
       "align_items": null,
       "align_self": null,
       "border": null,
       "bottom": null,
       "display": null,
       "flex": null,
       "flex_flow": null,
       "grid_area": null,
       "grid_auto_columns": null,
       "grid_auto_flow": null,
       "grid_auto_rows": null,
       "grid_column": null,
       "grid_gap": null,
       "grid_row": null,
       "grid_template_areas": null,
       "grid_template_columns": null,
       "grid_template_rows": null,
       "height": null,
       "justify_content": null,
       "justify_items": null,
       "left": null,
       "margin": null,
       "max_height": null,
       "max_width": null,
       "min_height": null,
       "min_width": null,
       "object_fit": null,
       "object_position": null,
       "order": null,
       "overflow": null,
       "overflow_x": null,
       "overflow_y": null,
       "padding": null,
       "right": null,
       "top": null,
       "visibility": null,
       "width": null
      }
     },
     "79eb6f87347943f3982fb9f428aadf56": {
      "model_module": "@jupyter-widgets/controls",
      "model_module_version": "1.5.0",
      "model_name": "FloatProgressModel",
      "state": {
       "_dom_classes": [],
       "_model_module": "@jupyter-widgets/controls",
       "_model_module_version": "1.5.0",
       "_model_name": "FloatProgressModel",
       "_view_count": null,
       "_view_module": "@jupyter-widgets/controls",
       "_view_module_version": "1.5.0",
       "_view_name": "ProgressView",
       "bar_style": "success",
       "description": "Downloading: 100%",
       "description_tooltip": null,
       "layout": "IPY_MODEL_0f50f40f10fa4977b3a204946fadc1c4",
       "max": 625.0,
       "min": 0.0,
       "orientation": "horizontal",
       "style": "IPY_MODEL_eb72d8802beb4115814f2da327927ba5",
       "value": 625.0
      }
     },
     "90ffedae23b6488385c9c03491c5622d": {
      "model_module": "@jupyter-widgets/base",
      "model_module_version": "1.2.0",
      "model_name": "LayoutModel",
      "state": {
       "_model_module": "@jupyter-widgets/base",
       "_model_module_version": "1.2.0",
       "_model_name": "LayoutModel",
       "_view_count": null,
       "_view_module": "@jupyter-widgets/base",
       "_view_module_version": "1.2.0",
       "_view_name": "LayoutView",
       "align_content": null,
       "align_items": null,
       "align_self": null,
       "border": null,
       "bottom": null,
       "display": null,
       "flex": null,
       "flex_flow": null,
       "grid_area": null,
       "grid_auto_columns": null,
       "grid_auto_flow": null,
       "grid_auto_rows": null,
       "grid_column": null,
       "grid_gap": null,
       "grid_row": null,
       "grid_template_areas": null,
       "grid_template_columns": null,
       "grid_template_rows": null,
       "height": null,
       "justify_content": null,
       "justify_items": null,
       "left": null,
       "margin": null,
       "max_height": null,
       "max_width": null,
       "min_height": null,
       "min_width": null,
       "object_fit": null,
       "object_position": null,
       "order": null,
       "overflow": null,
       "overflow_x": null,
       "overflow_y": null,
       "padding": null,
       "right": null,
       "top": null,
       "visibility": null,
       "width": null
      }
     },
     "94dc036153964b2f81eebe963ac4a692": {
      "model_module": "@jupyter-widgets/base",
      "model_module_version": "1.2.0",
      "model_name": "LayoutModel",
      "state": {
       "_model_module": "@jupyter-widgets/base",
       "_model_module_version": "1.2.0",
       "_model_name": "LayoutModel",
       "_view_count": null,
       "_view_module": "@jupyter-widgets/base",
       "_view_module_version": "1.2.0",
       "_view_name": "LayoutView",
       "align_content": null,
       "align_items": null,
       "align_self": null,
       "border": null,
       "bottom": null,
       "display": null,
       "flex": null,
       "flex_flow": null,
       "grid_area": null,
       "grid_auto_columns": null,
       "grid_auto_flow": null,
       "grid_auto_rows": null,
       "grid_column": null,
       "grid_gap": null,
       "grid_row": null,
       "grid_template_areas": null,
       "grid_template_columns": null,
       "grid_template_rows": null,
       "height": null,
       "justify_content": null,
       "justify_items": null,
       "left": null,
       "margin": null,
       "max_height": null,
       "max_width": null,
       "min_height": null,
       "min_width": null,
       "object_fit": null,
       "object_position": null,
       "order": null,
       "overflow": null,
       "overflow_x": null,
       "overflow_y": null,
       "padding": null,
       "right": null,
       "top": null,
       "visibility": null,
       "width": null
      }
     },
     "96109cd707264cb385f37df6649a9e85": {
      "model_module": "@jupyter-widgets/controls",
      "model_module_version": "1.5.0",
      "model_name": "DescriptionStyleModel",
      "state": {
       "_model_module": "@jupyter-widgets/controls",
       "_model_module_version": "1.5.0",
       "_model_name": "DescriptionStyleModel",
       "_view_count": null,
       "_view_module": "@jupyter-widgets/base",
       "_view_module_version": "1.2.0",
       "_view_name": "StyleView",
       "description_width": ""
      }
     },
     "c2b0e5dcd3ca4399a7f8cbf22f0e0f7b": {
      "model_module": "@jupyter-widgets/controls",
      "model_module_version": "1.5.0",
      "model_name": "DescriptionStyleModel",
      "state": {
       "_model_module": "@jupyter-widgets/controls",
       "_model_module_version": "1.5.0",
       "_model_name": "DescriptionStyleModel",
       "_view_count": null,
       "_view_module": "@jupyter-widgets/base",
       "_view_module_version": "1.2.0",
       "_view_name": "StyleView",
       "description_width": ""
      }
     },
     "c4444d3f046f4fe5a8612f1c85c0633d": {
      "model_module": "@jupyter-widgets/base",
      "model_module_version": "1.2.0",
      "model_name": "LayoutModel",
      "state": {
       "_model_module": "@jupyter-widgets/base",
       "_model_module_version": "1.2.0",
       "_model_name": "LayoutModel",
       "_view_count": null,
       "_view_module": "@jupyter-widgets/base",
       "_view_module_version": "1.2.0",
       "_view_name": "LayoutView",
       "align_content": null,
       "align_items": null,
       "align_self": null,
       "border": null,
       "bottom": null,
       "display": null,
       "flex": null,
       "flex_flow": null,
       "grid_area": null,
       "grid_auto_columns": null,
       "grid_auto_flow": null,
       "grid_auto_rows": null,
       "grid_column": null,
       "grid_gap": null,
       "grid_row": null,
       "grid_template_areas": null,
       "grid_template_columns": null,
       "grid_template_rows": null,
       "height": null,
       "justify_content": null,
       "justify_items": null,
       "left": null,
       "margin": null,
       "max_height": null,
       "max_width": null,
       "min_height": null,
       "min_width": null,
       "object_fit": null,
       "object_position": null,
       "order": null,
       "overflow": null,
       "overflow_x": null,
       "overflow_y": null,
       "padding": null,
       "right": null,
       "top": null,
       "visibility": null,
       "width": null
      }
     },
     "cfe6cfdc4e614f5bb041a6d5b0427cea": {
      "model_module": "@jupyter-widgets/controls",
      "model_module_version": "1.5.0",
      "model_name": "HTMLModel",
      "state": {
       "_dom_classes": [],
       "_model_module": "@jupyter-widgets/controls",
       "_model_module_version": "1.5.0",
       "_model_name": "HTMLModel",
       "_view_count": null,
       "_view_module": "@jupyter-widgets/controls",
       "_view_module_version": "1.5.0",
       "_view_name": "HTMLView",
       "description": "",
       "description_tooltip": null,
       "layout": "IPY_MODEL_90ffedae23b6488385c9c03491c5622d",
       "placeholder": "​",
       "style": "IPY_MODEL_96109cd707264cb385f37df6649a9e85",
       "value": " 996k/996k [00:00&lt;00:00, 2.03MB/s]"
      }
     },
     "dec1d4cf329c46fdb81c36b1b4ecd01e": {
      "model_module": "@jupyter-widgets/controls",
      "model_module_version": "1.5.0",
      "model_name": "FloatProgressModel",
      "state": {
       "_dom_classes": [],
       "_model_module": "@jupyter-widgets/controls",
       "_model_module_version": "1.5.0",
       "_model_name": "FloatProgressModel",
       "_view_count": null,
       "_view_module": "@jupyter-widgets/controls",
       "_view_module_version": "1.5.0",
       "_view_name": "ProgressView",
       "bar_style": "success",
       "description": "Downloading: 100%",
       "description_tooltip": null,
       "layout": "IPY_MODEL_3344f2edbf6847a5a743b3af93d418c8",
       "max": 714314041.0,
       "min": 0.0,
       "orientation": "horizontal",
       "style": "IPY_MODEL_f632ea708f034794ad9a912bce08a6aa",
       "value": 714314041.0
      }
     },
     "eb72d8802beb4115814f2da327927ba5": {
      "model_module": "@jupyter-widgets/controls",
      "model_module_version": "1.5.0",
      "model_name": "ProgressStyleModel",
      "state": {
       "_model_module": "@jupyter-widgets/controls",
       "_model_module_version": "1.5.0",
       "_model_name": "ProgressStyleModel",
       "_view_count": null,
       "_view_module": "@jupyter-widgets/base",
       "_view_module_version": "1.2.0",
       "_view_name": "StyleView",
       "bar_color": null,
       "description_width": "initial"
      }
     },
     "f626b1f3005c4879ae720f6cf0a215cc": {
      "model_module": "@jupyter-widgets/controls",
      "model_module_version": "1.5.0",
      "model_name": "HTMLModel",
      "state": {
       "_dom_classes": [],
       "_model_module": "@jupyter-widgets/controls",
       "_model_module_version": "1.5.0",
       "_model_name": "HTMLModel",
       "_view_count": null,
       "_view_module": "@jupyter-widgets/controls",
       "_view_module_version": "1.5.0",
       "_view_name": "HTMLView",
       "description": "",
       "description_tooltip": null,
       "layout": "IPY_MODEL_0dfaca2b869540d783a6d239a77c776f",
       "placeholder": "​",
       "style": "IPY_MODEL_12a84add84cf4428b584a6c3e282aa03",
       "value": " 714M/714M [00:51&lt;00:00, 13.8MB/s]"
      }
     },
     "f632ea708f034794ad9a912bce08a6aa": {
      "model_module": "@jupyter-widgets/controls",
      "model_module_version": "1.5.0",
      "model_name": "ProgressStyleModel",
      "state": {
       "_model_module": "@jupyter-widgets/controls",
       "_model_module_version": "1.5.0",
       "_model_name": "ProgressStyleModel",
       "_view_count": null,
       "_view_module": "@jupyter-widgets/base",
       "_view_module_version": "1.2.0",
       "_view_name": "StyleView",
       "bar_color": null,
       "description_width": "initial"
      }
     }
    },
    "version_major": 2,
    "version_minor": 0
   }
  }
 },
 "nbformat": 4,
 "nbformat_minor": 4
}
