{
 "cells": [
  {
   "cell_type": "markdown",
   "metadata": {
    "papermill": {
     "duration": 0.05171,
     "end_time": "2021-05-18T13:28:00.238020",
     "exception": false,
     "start_time": "2021-05-18T13:28:00.186310",
     "status": "completed"
    },
    "tags": []
   },
   "source": [
    "### Load in Packages and Set Up Parameters"
   ]
  },
  {
   "cell_type": "code",
   "execution_count": 1,
   "metadata": {
    "_cell_guid": "b1076dfc-b9ad-4769-8c92-a6c4dae69d19",
    "_uuid": "8f2839f25d086af736a60e9eeb907d3b93b6e0e5",
    "execution": {
     "iopub.execute_input": "2021-05-18T13:28:00.376848Z",
     "iopub.status.busy": "2021-05-18T13:28:00.376274Z",
     "iopub.status.idle": "2021-05-18T13:28:05.077812Z",
     "shell.execute_reply": "2021-05-18T13:28:05.076738Z"
    },
    "papermill": {
     "duration": 4.757846,
     "end_time": "2021-05-18T13:28:05.077933",
     "exception": false,
     "start_time": "2021-05-18T13:28:00.320087",
     "status": "completed"
    },
    "tags": []
   },
   "outputs": [],
   "source": [
    "import pandas as pd\n",
    "from keras.preprocessing.sequence import pad_sequences\n",
    "\n",
    "import matplotlib.pyplot as plt\n",
    "%matplotlib inline"
   ]
  },
  {
   "cell_type": "code",
   "execution_count": 2,
   "metadata": {
    "execution": {
     "iopub.execute_input": "2021-05-18T13:28:07.307694Z",
     "iopub.status.busy": "2021-05-18T13:28:07.307049Z",
     "iopub.status.idle": "2021-05-18T13:28:07.310218Z",
     "shell.execute_reply": "2021-05-18T13:28:07.310730Z"
    },
    "papermill": {
     "duration": 2.181708,
     "end_time": "2021-05-18T13:28:07.310850",
     "exception": false,
     "start_time": "2021-05-18T13:28:05.129142",
     "status": "completed"
    },
    "tags": []
   },
   "outputs": [
    {
     "name": "stdout",
     "output_type": "stream",
     "text": [
      "Found GPU at: /device:GPU:0\n"
     ]
    }
   ],
   "source": [
    "import tensorflow as tf\n",
    "# Get the GPU device name.\n",
    "device_name = tf.test.gpu_device_name()\n",
    "# The device name should look like the following:\n",
    "if device_name == '/device:GPU:0':\n",
    "    print('Found GPU at: {}'.format(device_name))\n",
    "else:\n",
    "    raise SystemError('GPU device not found')"
   ]
  },
  {
   "cell_type": "markdown",
   "metadata": {
    "papermill": {
     "duration": 0.051535,
     "end_time": "2021-05-18T13:28:07.415404",
     "exception": false,
     "start_time": "2021-05-18T13:28:07.363869",
     "status": "completed"
    },
    "tags": []
   },
   "source": [
    "In order for torch to use the GPU, we need to identify and specify the GPU as the device. Later, in our training loop, we will load data onto the device."
   ]
  },
  {
   "cell_type": "code",
   "execution_count": 3,
   "metadata": {
    "execution": {
     "iopub.execute_input": "2021-05-18T13:28:07.522505Z",
     "iopub.status.busy": "2021-05-18T13:28:07.521846Z",
     "iopub.status.idle": "2021-05-18T13:28:08.606160Z",
     "shell.execute_reply": "2021-05-18T13:28:08.606758Z"
    },
    "papermill": {
     "duration": 1.141139,
     "end_time": "2021-05-18T13:28:08.606917",
     "exception": false,
     "start_time": "2021-05-18T13:28:07.465778",
     "status": "completed"
    },
    "tags": []
   },
   "outputs": [
    {
     "name": "stdout",
     "output_type": "stream",
     "text": [
      "There are 1 GPU(s) available.\n",
      "We will use the GPU: Tesla P100-PCIE-16GB\n"
     ]
    }
   ],
   "source": [
    "import torch\n",
    "# If there's a GPU available...\n",
    "if torch.cuda.is_available():    \n",
    "    # Tell PyTorch to use the GPU.    \n",
    "    device = torch.device(\"cuda\")\n",
    "    print('There are %d GPU(s) available.' % torch.cuda.device_count())\n",
    "    print('We will use the GPU:', torch.cuda.get_device_name(0))\n",
    "# If not...\n",
    "else:\n",
    "    print('No GPU available, using the CPU instead.')\n",
    "    device = torch.device(\"cpu\")"
   ]
  },
  {
   "cell_type": "markdown",
   "metadata": {
    "papermill": {
     "duration": 0.050592,
     "end_time": "2021-05-18T13:28:08.709706",
     "exception": false,
     "start_time": "2021-05-18T13:28:08.659114",
     "status": "completed"
    },
    "tags": []
   },
   "source": [
    "Next, let’s install the transformers package from Hugging Face which will give us a pytorch interface for working with BERT. (This library contains interfaces for other pretrained language models like OpenAI’s GPT and GPT-2.) We’ve selected the pytorch interface because it strikes a nice balance between the high-level APIs (which are easy to use but don’t provide insight into how things work) and tensorflow code (which contains lots of details but often sidetracks us into lessons about tensorflow, when the purpose here is BERT!)."
   ]
  },
  {
   "cell_type": "code",
   "execution_count": 4,
   "metadata": {
    "execution": {
     "iopub.execute_input": "2021-05-18T13:28:08.816784Z",
     "iopub.status.busy": "2021-05-18T13:28:08.816214Z",
     "iopub.status.idle": "2021-05-18T13:28:16.036391Z",
     "shell.execute_reply": "2021-05-18T13:28:16.035923Z"
    },
    "papermill": {
     "duration": 7.276122,
     "end_time": "2021-05-18T13:28:16.036508",
     "exception": false,
     "start_time": "2021-05-18T13:28:08.760386",
     "status": "completed"
    },
    "tags": []
   },
   "outputs": [
    {
     "name": "stdout",
     "output_type": "stream",
     "text": [
      "Requirement already satisfied: transformers in /opt/conda/lib/python3.7/site-packages (3.5.1)\r\n",
      "Requirement already satisfied: tokenizers==0.9.3 in /opt/conda/lib/python3.7/site-packages (from transformers) (0.9.3)\r\n",
      "Requirement already satisfied: filelock in /opt/conda/lib/python3.7/site-packages (from transformers) (3.0.10)\r\n",
      "Requirement already satisfied: requests in /opt/conda/lib/python3.7/site-packages (from transformers) (2.23.0)\r\n",
      "Requirement already satisfied: sacremoses in /opt/conda/lib/python3.7/site-packages (from transformers) (0.0.43)\r\n",
      "Requirement already satisfied: regex!=2019.12.17 in /opt/conda/lib/python3.7/site-packages (from transformers) (2020.4.4)\r\n",
      "Requirement already satisfied: numpy in /opt/conda/lib/python3.7/site-packages (from transformers) (1.18.5)\r\n",
      "Requirement already satisfied: sentencepiece==0.1.91 in /opt/conda/lib/python3.7/site-packages (from transformers) (0.1.91)\r\n",
      "Requirement already satisfied: protobuf in /opt/conda/lib/python3.7/site-packages (from transformers) (3.14.0)\r\n",
      "Requirement already satisfied: tqdm>=4.27 in /opt/conda/lib/python3.7/site-packages (from transformers) (4.45.0)\r\n",
      "Requirement already satisfied: packaging in /opt/conda/lib/python3.7/site-packages (from transformers) (20.1)\r\n",
      "Requirement already satisfied: pyparsing>=2.0.2 in /opt/conda/lib/python3.7/site-packages (from packaging->transformers) (2.4.7)\r\n",
      "Requirement already satisfied: six in /opt/conda/lib/python3.7/site-packages (from packaging->transformers) (1.14.0)\r\n",
      "Requirement already satisfied: six in /opt/conda/lib/python3.7/site-packages (from packaging->transformers) (1.14.0)\r\n",
      "Requirement already satisfied: chardet<4,>=3.0.2 in /opt/conda/lib/python3.7/site-packages (from requests->transformers) (3.0.4)\r\n",
      "Requirement already satisfied: idna<3,>=2.5 in /opt/conda/lib/python3.7/site-packages (from requests->transformers) (2.9)\r\n",
      "Requirement already satisfied: certifi>=2017.4.17 in /opt/conda/lib/python3.7/site-packages (from requests->transformers) (2020.12.5)\r\n",
      "Requirement already satisfied: urllib3!=1.25.0,!=1.25.1,<1.26,>=1.21.1 in /opt/conda/lib/python3.7/site-packages (from requests->transformers) (1.25.9)\r\n",
      "Requirement already satisfied: joblib in /opt/conda/lib/python3.7/site-packages (from sacremoses->transformers) (0.14.1)\r\n",
      "Requirement already satisfied: six in /opt/conda/lib/python3.7/site-packages (from packaging->transformers) (1.14.0)\r\n",
      "Requirement already satisfied: regex!=2019.12.17 in /opt/conda/lib/python3.7/site-packages (from transformers) (2020.4.4)\r\n",
      "Requirement already satisfied: click in /opt/conda/lib/python3.7/site-packages (from sacremoses->transformers) (7.1.1)\r\n",
      "Requirement already satisfied: tqdm>=4.27 in /opt/conda/lib/python3.7/site-packages (from transformers) (4.45.0)\r\n",
      "\u001b[33mWARNING: You are using pip version 20.3.1; however, version 21.1.1 is available.\r\n",
      "You should consider upgrading via the '/opt/conda/bin/python3.7 -m pip install --upgrade pip' command.\u001b[0m\r\n"
     ]
    }
   ],
   "source": [
    "!pip install transformers"
   ]
  },
  {
   "cell_type": "markdown",
   "metadata": {
    "papermill": {
     "duration": 0.053375,
     "end_time": "2021-05-18T13:28:16.143117",
     "exception": false,
     "start_time": "2021-05-18T13:28:16.089742",
     "status": "completed"
    },
    "tags": []
   },
   "source": [
    "### Load in Data"
   ]
  },
  {
   "cell_type": "code",
   "execution_count": 5,
   "metadata": {
    "execution": {
     "iopub.execute_input": "2021-05-18T13:28:16.252825Z",
     "iopub.status.busy": "2021-05-18T13:28:16.252284Z",
     "iopub.status.idle": "2021-05-18T13:28:16.410429Z",
     "shell.execute_reply": "2021-05-18T13:28:16.409886Z"
    },
    "papermill": {
     "duration": 0.215581,
     "end_time": "2021-05-18T13:28:16.410544",
     "exception": false,
     "start_time": "2021-05-18T13:28:16.194963",
     "status": "completed"
    },
    "tags": []
   },
   "outputs": [],
   "source": [
    "#### Load in data from S3\n",
    "\n",
    "# Import Train and Measure Balance\n",
    "# Import Flattened Data\n",
    "df_train_f = pd.read_csv(\"/kaggle/input/nort-overlapping-downsampled/downsamp_df_train_full_cleaned_pe.csv\", encoding='utf_8_sig', low_memory=False)\n",
    "\n",
    "# Import Test and Measure Balance\n",
    "\n",
    "df_test_f = pd.read_csv(\"/kaggle/input/nort-overlapping-downsampled/downsamp_df_test_full_cleaned_pe.csv\", encoding='utf_8_sig', low_memory=False)\n",
    "\n",
    "# Import Validation and Measure Balance\n",
    "# Import Flattened Data\n",
    "df_valid_f = pd.read_csv(\"/kaggle/input/nort-overlapping-downsampled/downsamp_df_valid_full_cleaned_pe.csv\", encoding='utf_8_sig', low_memory=False)"
   ]
  },
  {
   "cell_type": "code",
   "execution_count": 6,
   "metadata": {
    "execution": {
     "iopub.execute_input": "2021-05-18T13:28:16.526080Z",
     "iopub.status.busy": "2021-05-18T13:28:16.525263Z",
     "iopub.status.idle": "2021-05-18T13:28:16.557526Z",
     "shell.execute_reply": "2021-05-18T13:28:16.558254Z"
    },
    "papermill": {
     "duration": 0.094688,
     "end_time": "2021-05-18T13:28:16.558378",
     "exception": false,
     "start_time": "2021-05-18T13:28:16.463690",
     "status": "completed"
    },
    "tags": []
   },
   "outputs": [
    {
     "data": {
      "text/html": [
       "<div>\n",
       "<style scoped>\n",
       "    .dataframe tbody tr th:only-of-type {\n",
       "        vertical-align: middle;\n",
       "    }\n",
       "\n",
       "    .dataframe tbody tr th {\n",
       "        vertical-align: top;\n",
       "    }\n",
       "\n",
       "    .dataframe thead th {\n",
       "        text-align: right;\n",
       "    }\n",
       "</style>\n",
       "<table border=\"1\" class=\"dataframe\">\n",
       "  <thead>\n",
       "    <tr style=\"text-align: right;\">\n",
       "      <th></th>\n",
       "      <th>id</th>\n",
       "      <th>user.screen_name</th>\n",
       "      <th>user.id</th>\n",
       "      <th>text</th>\n",
       "      <th>suspended</th>\n",
       "    </tr>\n",
       "  </thead>\n",
       "  <tbody>\n",
       "    <tr>\n",
       "      <th>0</th>\n",
       "      <td>5</td>\n",
       "      <td>AnnaAdachi4</td>\n",
       "      <td>1.278150e+18</td>\n",
       "      <td>WaxPar DC18RC 互換充電器 対応 マキタ 14.4V 18V リチウムイオンバッ...</td>\n",
       "      <td>1</td>\n",
       "    </tr>\n",
       "    <tr>\n",
       "      <th>1</th>\n",
       "      <td>6</td>\n",
       "      <td>AnnaAdachi4</td>\n",
       "      <td>1.278150e+18</td>\n",
       "      <td>最新互換マキタ 2口充電器DC18RD 18V/14.4V バッテリー bl1430 bl1...</td>\n",
       "      <td>1</td>\n",
       "    </tr>\n",
       "    <tr>\n",
       "      <th>2</th>\n",
       "      <td>7</td>\n",
       "      <td>AnnaAdachi4</td>\n",
       "      <td>1.278150e+18</td>\n",
       "      <td>マキタ 18v 14.4v バッテリ 対応 BL1430 BL1440 BL1450 BL1...</td>\n",
       "      <td>1</td>\n",
       "    </tr>\n",
       "    <tr>\n",
       "      <th>3</th>\n",
       "      <td>8</td>\n",
       "      <td>AnnaAdachi4</td>\n",
       "      <td>1.278150e+18</td>\n",
       "      <td>DC18RC 互換充電器 対応 マキタ 14.4V 18V リチウムイオンバッテリ用 マキタ...</td>\n",
       "      <td>1</td>\n",
       "    </tr>\n",
       "    <tr>\n",
       "      <th>4</th>\n",
       "      <td>9</td>\n",
       "      <td>AnnaAdachi4</td>\n",
       "      <td>1.278150e+18</td>\n",
       "      <td>2口充電器 互換充電器 DC18RD マキタ 18v 14.4v バッテリ 対応 BL143...</td>\n",
       "      <td>1</td>\n",
       "    </tr>\n",
       "    <tr>\n",
       "      <th>5</th>\n",
       "      <td>10</td>\n",
       "      <td>AnnaAdachi4</td>\n",
       "      <td>1.278150e+18</td>\n",
       "      <td>互換充電器 対応 マキタ 14.4V 18V リチウムイオンバッテリ用 マキタ バッテリー ...</td>\n",
       "      <td>1</td>\n",
       "    </tr>\n",
       "  </tbody>\n",
       "</table>\n",
       "</div>"
      ],
      "text/plain": [
       "   id user.screen_name       user.id  \\\n",
       "0   5      AnnaAdachi4  1.278150e+18   \n",
       "1   6      AnnaAdachi4  1.278150e+18   \n",
       "2   7      AnnaAdachi4  1.278150e+18   \n",
       "3   8      AnnaAdachi4  1.278150e+18   \n",
       "4   9      AnnaAdachi4  1.278150e+18   \n",
       "5  10      AnnaAdachi4  1.278150e+18   \n",
       "\n",
       "                                                text  suspended  \n",
       "0  WaxPar DC18RC 互換充電器 対応 マキタ 14.4V 18V リチウムイオンバッ...          1  \n",
       "1  最新互換マキタ 2口充電器DC18RD 18V/14.4V バッテリー bl1430 bl1...          1  \n",
       "2  マキタ 18v 14.4v バッテリ 対応 BL1430 BL1440 BL1450 BL1...          1  \n",
       "3  DC18RC 互換充電器 対応 マキタ 14.4V 18V リチウムイオンバッテリ用 マキタ...          1  \n",
       "4  2口充電器 互換充電器 DC18RD マキタ 18v 14.4v バッテリ 対応 BL143...          1  \n",
       "5  互換充電器 対応 マキタ 14.4V 18V リチウムイオンバッテリ用 マキタ バッテリー ...          1  "
      ]
     },
     "execution_count": 6,
     "metadata": {},
     "output_type": "execute_result"
    }
   ],
   "source": [
    "df_train_f.head(6)"
   ]
  },
  {
   "cell_type": "code",
   "execution_count": 7,
   "metadata": {
    "execution": {
     "iopub.execute_input": "2021-05-18T13:28:16.763427Z",
     "iopub.status.busy": "2021-05-18T13:28:16.762538Z",
     "iopub.status.idle": "2021-05-18T13:28:16.769035Z",
     "shell.execute_reply": "2021-05-18T13:28:16.769818Z"
    },
    "papermill": {
     "duration": 0.106606,
     "end_time": "2021-05-18T13:28:16.769980",
     "exception": false,
     "start_time": "2021-05-18T13:28:16.663374",
     "status": "completed"
    },
    "tags": []
   },
   "outputs": [
    {
     "name": "stdout",
     "output_type": "stream",
     "text": [
      "full train: 779 unique ids train: 779 full valid: 299 unique ids valid: 299 full test: 1306 unique ids test: 1306\n"
     ]
    }
   ],
   "source": [
    "print(\"full train:\", len(df_train_f), \"unique ids train:\", len(df_train_f['id'].unique()), \n",
    "      \"full valid:\", len(df_valid_f), \"unique ids valid:\", len(df_valid_f['id'].unique()), \n",
    "      \"full test:\", len(df_test_f), \"unique ids test:\", len(df_test_f['id'].unique()))\n",
    "\n",
    "#print(\"Train:\", len(sentences_train), \"Valid:\", len(sentences_valid), \"Test\", len(sentences_test))"
   ]
  },
  {
   "cell_type": "code",
   "execution_count": 8,
   "metadata": {
    "execution": {
     "iopub.execute_input": "2021-05-18T13:28:16.954219Z",
     "iopub.status.busy": "2021-05-18T13:28:16.953435Z",
     "iopub.status.idle": "2021-05-18T13:28:16.957694Z",
     "shell.execute_reply": "2021-05-18T13:28:16.958706Z"
    },
    "papermill": {
     "duration": 0.102482,
     "end_time": "2021-05-18T13:28:16.958850",
     "exception": false,
     "start_time": "2021-05-18T13:28:16.856368",
     "status": "completed"
    },
    "tags": []
   },
   "outputs": [],
   "source": [
    "df_train = df_train_f.drop([\"user.screen_name\"], axis=1)\n",
    "df_valid = df_valid_f.drop([\"user.screen_name\"], axis=1)\n",
    "df_test = df_test_f.drop([\"user.screen_name\"], axis=1)"
   ]
  },
  {
   "cell_type": "code",
   "execution_count": 9,
   "metadata": {
    "execution": {
     "iopub.execute_input": "2021-05-18T13:28:17.110407Z",
     "iopub.status.busy": "2021-05-18T13:28:17.108646Z",
     "iopub.status.idle": "2021-05-18T13:28:17.111013Z",
     "shell.execute_reply": "2021-05-18T13:28:17.111467Z"
    },
    "papermill": {
     "duration": 0.064258,
     "end_time": "2021-05-18T13:28:17.111574",
     "exception": false,
     "start_time": "2021-05-18T13:28:17.047316",
     "status": "completed"
    },
    "tags": []
   },
   "outputs": [],
   "source": [
    "# FOR TESING OUT CODE PURPOSE ONLY. REMOVE ONCE ALL IS WORKING. \n",
    "#df_train = df_train[:2000]\n",
    "#df_valid = df_valid[:2000]\n",
    "#df_test = df_test[:2000]"
   ]
  },
  {
   "cell_type": "code",
   "execution_count": 10,
   "metadata": {
    "execution": {
     "iopub.execute_input": "2021-05-18T13:28:17.229432Z",
     "iopub.status.busy": "2021-05-18T13:28:17.228852Z",
     "iopub.status.idle": "2021-05-18T13:28:17.232077Z",
     "shell.execute_reply": "2021-05-18T13:28:17.232474Z"
    },
    "papermill": {
     "duration": 0.065834,
     "end_time": "2021-05-18T13:28:17.232572",
     "exception": false,
     "start_time": "2021-05-18T13:28:17.166738",
     "status": "completed"
    },
    "tags": []
   },
   "outputs": [
    {
     "data": {
      "text/html": [
       "<div>\n",
       "<style scoped>\n",
       "    .dataframe tbody tr th:only-of-type {\n",
       "        vertical-align: middle;\n",
       "    }\n",
       "\n",
       "    .dataframe tbody tr th {\n",
       "        vertical-align: top;\n",
       "    }\n",
       "\n",
       "    .dataframe thead th {\n",
       "        text-align: right;\n",
       "    }\n",
       "</style>\n",
       "<table border=\"1\" class=\"dataframe\">\n",
       "  <thead>\n",
       "    <tr style=\"text-align: right;\">\n",
       "      <th></th>\n",
       "      <th>id</th>\n",
       "      <th>user.id</th>\n",
       "      <th>text</th>\n",
       "      <th>suspended</th>\n",
       "    </tr>\n",
       "  </thead>\n",
       "  <tbody>\n",
       "    <tr>\n",
       "      <th>0</th>\n",
       "      <td>5</td>\n",
       "      <td>1.278150e+18</td>\n",
       "      <td>WaxPar DC18RC 互換充電器 対応 マキタ 14.4V 18V リチウムイオンバッ...</td>\n",
       "      <td>1</td>\n",
       "    </tr>\n",
       "    <tr>\n",
       "      <th>1</th>\n",
       "      <td>6</td>\n",
       "      <td>1.278150e+18</td>\n",
       "      <td>最新互換マキタ 2口充電器DC18RD 18V/14.4V バッテリー bl1430 bl1...</td>\n",
       "      <td>1</td>\n",
       "    </tr>\n",
       "    <tr>\n",
       "      <th>2</th>\n",
       "      <td>7</td>\n",
       "      <td>1.278150e+18</td>\n",
       "      <td>マキタ 18v 14.4v バッテリ 対応 BL1430 BL1440 BL1450 BL1...</td>\n",
       "      <td>1</td>\n",
       "    </tr>\n",
       "    <tr>\n",
       "      <th>3</th>\n",
       "      <td>8</td>\n",
       "      <td>1.278150e+18</td>\n",
       "      <td>DC18RC 互換充電器 対応 マキタ 14.4V 18V リチウムイオンバッテリ用 マキタ...</td>\n",
       "      <td>1</td>\n",
       "    </tr>\n",
       "    <tr>\n",
       "      <th>4</th>\n",
       "      <td>9</td>\n",
       "      <td>1.278150e+18</td>\n",
       "      <td>2口充電器 互換充電器 DC18RD マキタ 18v 14.4v バッテリ 対応 BL143...</td>\n",
       "      <td>1</td>\n",
       "    </tr>\n",
       "  </tbody>\n",
       "</table>\n",
       "</div>"
      ],
      "text/plain": [
       "   id       user.id                                               text  \\\n",
       "0   5  1.278150e+18  WaxPar DC18RC 互換充電器 対応 マキタ 14.4V 18V リチウムイオンバッ...   \n",
       "1   6  1.278150e+18  最新互換マキタ 2口充電器DC18RD 18V/14.4V バッテリー bl1430 bl1...   \n",
       "2   7  1.278150e+18  マキタ 18v 14.4v バッテリ 対応 BL1430 BL1440 BL1450 BL1...   \n",
       "3   8  1.278150e+18  DC18RC 互換充電器 対応 マキタ 14.4V 18V リチウムイオンバッテリ用 マキタ...   \n",
       "4   9  1.278150e+18  2口充電器 互換充電器 DC18RD マキタ 18v 14.4v バッテリ 対応 BL143...   \n",
       "\n",
       "   suspended  \n",
       "0          1  \n",
       "1          1  \n",
       "2          1  \n",
       "3          1  \n",
       "4          1  "
      ]
     },
     "execution_count": 10,
     "metadata": {},
     "output_type": "execute_result"
    }
   ],
   "source": [
    "df_train.head()"
   ]
  },
  {
   "cell_type": "markdown",
   "metadata": {
    "papermill": {
     "duration": 0.053733,
     "end_time": "2021-05-18T13:28:17.340300",
     "exception": false,
     "start_time": "2021-05-18T13:28:17.286567",
     "status": "completed"
    },
    "tags": []
   },
   "source": [
    "As you can see in this way we ended with a column (text_split) which every row has a list of string of around 200 word length.\n"
   ]
  },
  {
   "cell_type": "code",
   "execution_count": 11,
   "metadata": {
    "execution": {
     "iopub.execute_input": "2021-05-18T13:28:17.453260Z",
     "iopub.status.busy": "2021-05-18T13:28:17.452694Z",
     "iopub.status.idle": "2021-05-18T13:28:20.597830Z",
     "shell.execute_reply": "2021-05-18T13:28:20.597365Z"
    },
    "papermill": {
     "duration": 3.203856,
     "end_time": "2021-05-18T13:28:20.597934",
     "exception": false,
     "start_time": "2021-05-18T13:28:17.394078",
     "status": "completed"
    },
    "tags": []
   },
   "outputs": [],
   "source": [
    "import numpy as np\n",
    "import pandas as pd\n",
    "import torch\n",
    "import transformers as ppb # pytorch transformers\n",
    "from sklearn.linear_model import LogisticRegression\n",
    "from sklearn.model_selection import cross_val_score\n",
    "from sklearn.model_selection import train_test_split\n",
    "from numba import cuda \n",
    "import gc\n",
    "\n",
    "from sklearn.metrics import roc_auc_score\n",
    "from sklearn.metrics import roc_curve"
   ]
  },
  {
   "cell_type": "markdown",
   "metadata": {
    "papermill": {
     "duration": 0.054478,
     "end_time": "2021-05-18T13:28:20.707102",
     "exception": false,
     "start_time": "2021-05-18T13:28:20.652624",
     "status": "completed"
    },
    "tags": []
   },
   "source": [
    "### Load in Model and Tokenizer"
   ]
  },
  {
   "cell_type": "code",
   "execution_count": 12,
   "metadata": {
    "execution": {
     "iopub.execute_input": "2021-05-18T13:28:20.821384Z",
     "iopub.status.busy": "2021-05-18T13:28:20.820560Z",
     "iopub.status.idle": "2021-05-18T13:28:21.905146Z",
     "shell.execute_reply": "2021-05-18T13:28:21.905754Z"
    },
    "papermill": {
     "duration": 1.144009,
     "end_time": "2021-05-18T13:28:21.905912",
     "exception": false,
     "start_time": "2021-05-18T13:28:20.761903",
     "status": "completed"
    },
    "tags": []
   },
   "outputs": [
    {
     "data": {
      "application/vnd.jupyter.widget-view+json": {
       "model_id": "e4612036536c47589cf05a2c8c3a312f",
       "version_major": 2,
       "version_minor": 0
      },
      "text/plain": [
       "HBox(children=(FloatProgress(value=0.0, description='Downloading', max=995526.0, style=ProgressStyle(descripti…"
      ]
     },
     "metadata": {},
     "output_type": "display_data"
    },
    {
     "name": "stdout",
     "output_type": "stream",
     "text": [
      "\n"
     ]
    }
   ],
   "source": [
    "model_class, tokenizer_class, pretrained_weights = (ppb.BertModel, ppb.BertTokenizer, 'bert-base-multilingual-cased')\n",
    "\n",
    "# Load pretrained model/tokenizer\n",
    "tokenizer = tokenizer_class.from_pretrained(pretrained_weights)\n",
    "#model = model_class.from_pretrained(pretrained_weights)"
   ]
  },
  {
   "cell_type": "code",
   "execution_count": 13,
   "metadata": {
    "execution": {
     "iopub.execute_input": "2021-05-18T13:28:22.199874Z",
     "iopub.status.busy": "2021-05-18T13:28:22.199249Z",
     "iopub.status.idle": "2021-05-18T13:28:22.202998Z",
     "shell.execute_reply": "2021-05-18T13:28:22.202213Z"
    },
    "papermill": {
     "duration": 0.240592,
     "end_time": "2021-05-18T13:28:22.203115",
     "exception": false,
     "start_time": "2021-05-18T13:28:21.962523",
     "status": "completed"
    },
    "tags": []
   },
   "outputs": [],
   "source": [
    "gc.collect()\n",
    "torch.cuda.empty_cache()"
   ]
  },
  {
   "cell_type": "code",
   "execution_count": 14,
   "metadata": {
    "execution": {
     "iopub.execute_input": "2021-05-18T13:28:22.321703Z",
     "iopub.status.busy": "2021-05-18T13:28:22.320907Z",
     "iopub.status.idle": "2021-05-18T13:28:22.323704Z",
     "shell.execute_reply": "2021-05-18T13:28:22.323291Z"
    },
    "papermill": {
     "duration": 0.065102,
     "end_time": "2021-05-18T13:28:22.323796",
     "exception": false,
     "start_time": "2021-05-18T13:28:22.258694",
     "status": "completed"
    },
    "tags": []
   },
   "outputs": [],
   "source": [
    "# Get the lists of sentences and their labels.\n",
    "sentences_train = df_train.text.values\n",
    "train_labels = df_train.suspended.values\n",
    "ids_train = df_train.index.values\n",
    "\n",
    "sentences_valid = df_valid.text.values\n",
    "validation_labels = df_valid.suspended.values\n",
    "ids_validation = df_valid.index.values\n",
    "\n",
    "sentences_test = df_test.text.values\n",
    "test_labels = df_test.suspended.values\n",
    "ids_test = df_test.index.values"
   ]
  },
  {
   "cell_type": "code",
   "execution_count": 15,
   "metadata": {
    "execution": {
     "iopub.execute_input": "2021-05-18T13:28:22.439049Z",
     "iopub.status.busy": "2021-05-18T13:28:22.438257Z",
     "iopub.status.idle": "2021-05-18T13:28:22.443207Z",
     "shell.execute_reply": "2021-05-18T13:28:22.442687Z"
    },
    "papermill": {
     "duration": 0.064055,
     "end_time": "2021-05-18T13:28:22.443293",
     "exception": false,
     "start_time": "2021-05-18T13:28:22.379238",
     "status": "completed"
    },
    "tags": []
   },
   "outputs": [
    {
     "name": "stdout",
     "output_type": "stream",
     "text": [
      "Train: 779 Valid: 299 Test 1306\n"
     ]
    }
   ],
   "source": [
    "print(\"Train:\", len(sentences_train), \"Valid:\", len(sentences_valid), \"Test\", len(sentences_test))"
   ]
  },
  {
   "cell_type": "markdown",
   "metadata": {
    "papermill": {
     "duration": 0.055459,
     "end_time": "2021-05-18T13:28:22.553871",
     "exception": false,
     "start_time": "2021-05-18T13:28:22.498412",
     "status": "completed"
    },
    "tags": []
   },
   "source": [
    "To feed our text to BERT, it must be split into tokens, and then these tokens must be mapped to their index in the tokenizer vocabulary.\n",
    "\n",
    "The tokenization must be performed by the tokenizer included with BERT–the below cell will download this for us."
   ]
  },
  {
   "cell_type": "code",
   "execution_count": 16,
   "metadata": {
    "execution": {
     "iopub.execute_input": "2021-05-18T13:28:22.669266Z",
     "iopub.status.busy": "2021-05-18T13:28:22.668474Z",
     "iopub.status.idle": "2021-05-18T13:28:23.084562Z",
     "shell.execute_reply": "2021-05-18T13:28:23.084093Z"
    },
    "papermill": {
     "duration": 0.475415,
     "end_time": "2021-05-18T13:28:23.084667",
     "exception": false,
     "start_time": "2021-05-18T13:28:22.609252",
     "status": "completed"
    },
    "tags": []
   },
   "outputs": [
    {
     "name": "stdout",
     "output_type": "stream",
     "text": [
      "Loading BERT tokenizer...\n"
     ]
    }
   ],
   "source": [
    "from transformers import BertTokenizer\n",
    "# Load the BERT tokenizer.\n",
    "print('Loading BERT tokenizer...')\n",
    "tokenizer = BertTokenizer.from_pretrained('bert-base-multilingual-cased', do_lower_case=True)"
   ]
  },
  {
   "cell_type": "markdown",
   "metadata": {
    "papermill": {
     "duration": 0.059273,
     "end_time": "2021-05-18T13:28:23.200666",
     "exception": false,
     "start_time": "2021-05-18T13:28:23.141393",
     "status": "completed"
    },
    "tags": []
   },
   "source": [
    "The tokenizer.encode function combines multiple steps for us:\n",
    "- Split the sentence into tokens.\n",
    "- Add the special [CLS] and [SEP] tokens.\n",
    "- Map the tokens to their IDs.\n",
    "\n",
    "Oddly, this function can perform truncating for us, but doesn’t handle padding."
   ]
  },
  {
   "cell_type": "markdown",
   "metadata": {
    "papermill": {
     "duration": 0.056244,
     "end_time": "2021-05-18T13:28:23.313588",
     "exception": false,
     "start_time": "2021-05-18T13:28:23.257344",
     "status": "completed"
    },
    "tags": []
   },
   "source": [
    "### Prep Data for Model"
   ]
  },
  {
   "cell_type": "code",
   "execution_count": 17,
   "metadata": {
    "execution": {
     "iopub.execute_input": "2021-05-18T13:28:23.433416Z",
     "iopub.status.busy": "2021-05-18T13:28:23.432658Z",
     "iopub.status.idle": "2021-05-18T13:28:23.435029Z",
     "shell.execute_reply": "2021-05-18T13:28:23.435464Z"
    },
    "papermill": {
     "duration": 0.065788,
     "end_time": "2021-05-18T13:28:23.435572",
     "exception": false,
     "start_time": "2021-05-18T13:28:23.369784",
     "status": "completed"
    },
    "tags": []
   },
   "outputs": [],
   "source": [
    "def sent_to_ids(sentences): \n",
    "    # Tokenize all of the sentences and map the tokens to thier word IDs.\n",
    "    input_ids = []\n",
    "    # For every sentence...\n",
    "    for sent in sentences:\n",
    "        # `encode` will:\n",
    "        #   (1) Tokenize the sentence.\n",
    "        #   (2) Prepend the `[CLS]` token to the start.\n",
    "        #   (3) Append the `[SEP]` token to the end.\n",
    "        #   (4) Map tokens to their IDs.\n",
    "        encoded_sent = tokenizer.encode(\n",
    "            sent,                      # Sentence to encode.\n",
    "            add_special_tokens = True, # Add '[CLS]' and '[SEP]'\n",
    "            # This function also supports truncation and conversion\n",
    "            # to pytorch tensors, but we need to do padding, so we\n",
    "            # can't use these features :( .\n",
    "            #max_length = 128,          # Truncate all sentences.\n",
    "            #return_tensors = 'pt',     # Return pytorch tensors.\n",
    "        )\n",
    "        # Add the encoded sentence to the list.\n",
    "        input_ids.append(encoded_sent)\n",
    "        # Pad and truncate our sequences so that they all have the same length\n",
    "    input_ids = pad_sequences(input_ids, maxlen=120, dtype=\"long\", \n",
    "                            value=0, truncating=\"post\", padding=\"post\")\n",
    "    return input_ids"
   ]
  },
  {
   "cell_type": "code",
   "execution_count": 18,
   "metadata": {
    "execution": {
     "iopub.execute_input": "2021-05-18T13:28:23.574205Z",
     "iopub.status.busy": "2021-05-18T13:28:23.569364Z",
     "iopub.status.idle": "2021-05-18T13:28:32.628265Z",
     "shell.execute_reply": "2021-05-18T13:28:32.627273Z"
    },
    "papermill": {
     "duration": 9.136397,
     "end_time": "2021-05-18T13:28:32.628379",
     "exception": false,
     "start_time": "2021-05-18T13:28:23.491982",
     "status": "completed"
    },
    "tags": []
   },
   "outputs": [
    {
     "name": "stderr",
     "output_type": "stream",
     "text": [
      "Token indices sequence length is longer than the specified maximum sequence length for this model (864 > 512). Running this sequence through the model will result in indexing errors\n"
     ]
    }
   ],
   "source": [
    "train_inputs = sent_to_ids(sentences_train)"
   ]
  },
  {
   "cell_type": "code",
   "execution_count": 19,
   "metadata": {
    "execution": {
     "iopub.execute_input": "2021-05-18T13:28:32.776093Z",
     "iopub.status.busy": "2021-05-18T13:28:32.770961Z",
     "iopub.status.idle": "2021-05-18T13:28:35.817000Z",
     "shell.execute_reply": "2021-05-18T13:28:35.816539Z"
    },
    "papermill": {
     "duration": 3.131371,
     "end_time": "2021-05-18T13:28:35.817119",
     "exception": false,
     "start_time": "2021-05-18T13:28:32.685748",
     "status": "completed"
    },
    "tags": []
   },
   "outputs": [],
   "source": [
    "validation_inputs = sent_to_ids(sentences_valid)"
   ]
  },
  {
   "cell_type": "code",
   "execution_count": 20,
   "metadata": {
    "execution": {
     "iopub.execute_input": "2021-05-18T13:28:35.949660Z",
     "iopub.status.busy": "2021-05-18T13:28:35.944518Z",
     "iopub.status.idle": "2021-05-18T13:28:48.396523Z",
     "shell.execute_reply": "2021-05-18T13:28:48.395512Z"
    },
    "papermill": {
     "duration": 12.521711,
     "end_time": "2021-05-18T13:28:48.396653",
     "exception": false,
     "start_time": "2021-05-18T13:28:35.874942",
     "status": "completed"
    },
    "tags": []
   },
   "outputs": [],
   "source": [
    "test_inputs = sent_to_ids(sentences_test)"
   ]
  },
  {
   "cell_type": "code",
   "execution_count": 21,
   "metadata": {
    "execution": {
     "iopub.execute_input": "2021-05-18T13:28:48.518813Z",
     "iopub.status.busy": "2021-05-18T13:28:48.517449Z",
     "iopub.status.idle": "2021-05-18T13:28:48.524596Z",
     "shell.execute_reply": "2021-05-18T13:28:48.524178Z"
    },
    "papermill": {
     "duration": 0.070805,
     "end_time": "2021-05-18T13:28:48.524697",
     "exception": false,
     "start_time": "2021-05-18T13:28:48.453892",
     "status": "completed"
    },
    "tags": []
   },
   "outputs": [
    {
     "name": "stdout",
     "output_type": "stream",
     "text": [
      "Train: 779 Valid: 299 Test 1306\n"
     ]
    }
   ],
   "source": [
    "print(\"Train:\", len(train_inputs), \"Valid:\", len(validation_inputs), \"Test\", len(test_inputs))"
   ]
  },
  {
   "cell_type": "code",
   "execution_count": 22,
   "metadata": {
    "execution": {
     "iopub.execute_input": "2021-05-18T13:28:48.647724Z",
     "iopub.status.busy": "2021-05-18T13:28:48.647037Z",
     "iopub.status.idle": "2021-05-18T13:28:48.649645Z",
     "shell.execute_reply": "2021-05-18T13:28:48.650143Z"
    },
    "papermill": {
     "duration": 0.066693,
     "end_time": "2021-05-18T13:28:48.650257",
     "exception": false,
     "start_time": "2021-05-18T13:28:48.583564",
     "status": "completed"
    },
    "tags": []
   },
   "outputs": [],
   "source": [
    "def get_attn_msks(input_ids):\n",
    "  # Create attention masks\n",
    "    attention_masks = []\n",
    "  # For each sentence...\n",
    "    for sent in input_ids:\n",
    "        # Create the attention mask.\n",
    "        #   - If a token ID is 0, then it's padding, set the mask to 0.\n",
    "        #   - If a token ID is > 0, then it's a real token, set the mask to 1.\n",
    "        att_mask = [int(token_id > 0) for token_id in sent]\n",
    "      \n",
    "        # Store the attention mask for this sentence.\n",
    "        attention_masks.append(att_mask)\n",
    "    return attention_masks"
   ]
  },
  {
   "cell_type": "code",
   "execution_count": 23,
   "metadata": {
    "execution": {
     "iopub.execute_input": "2021-05-18T13:28:48.783552Z",
     "iopub.status.busy": "2021-05-18T13:28:48.778407Z",
     "iopub.status.idle": "2021-05-18T13:28:48.856421Z",
     "shell.execute_reply": "2021-05-18T13:28:48.855842Z"
    },
    "papermill": {
     "duration": 0.147639,
     "end_time": "2021-05-18T13:28:48.856521",
     "exception": false,
     "start_time": "2021-05-18T13:28:48.708882",
     "status": "completed"
    },
    "tags": []
   },
   "outputs": [],
   "source": [
    "train_masks = get_attn_msks(train_inputs)"
   ]
  },
  {
   "cell_type": "code",
   "execution_count": 24,
   "metadata": {
    "execution": {
     "iopub.execute_input": "2021-05-18T13:28:48.998757Z",
     "iopub.status.busy": "2021-05-18T13:28:48.993609Z",
     "iopub.status.idle": "2021-05-18T13:28:49.009635Z",
     "shell.execute_reply": "2021-05-18T13:28:49.009239Z"
    },
    "papermill": {
     "duration": 0.095802,
     "end_time": "2021-05-18T13:28:49.009722",
     "exception": false,
     "start_time": "2021-05-18T13:28:48.913920",
     "status": "completed"
    },
    "tags": []
   },
   "outputs": [],
   "source": [
    "validation_masks = get_attn_msks(validation_inputs)"
   ]
  },
  {
   "cell_type": "code",
   "execution_count": 25,
   "metadata": {
    "execution": {
     "iopub.execute_input": "2021-05-18T13:28:49.153099Z",
     "iopub.status.busy": "2021-05-18T13:28:49.142819Z",
     "iopub.status.idle": "2021-05-18T13:28:49.272696Z",
     "shell.execute_reply": "2021-05-18T13:28:49.272266Z"
    },
    "papermill": {
     "duration": 0.205469,
     "end_time": "2021-05-18T13:28:49.272780",
     "exception": false,
     "start_time": "2021-05-18T13:28:49.067311",
     "status": "completed"
    },
    "tags": []
   },
   "outputs": [],
   "source": [
    "test_masks = get_attn_msks(test_inputs)"
   ]
  },
  {
   "cell_type": "markdown",
   "metadata": {
    "papermill": {
     "duration": 0.057743,
     "end_time": "2021-05-18T13:28:49.388126",
     "exception": false,
     "start_time": "2021-05-18T13:28:49.330383",
     "status": "completed"
    },
    "tags": []
   },
   "source": [
    "Converting to PyTorch Data Types\n",
    "\n",
    "Our model expects PyTorch tensors rather than numpy.ndarrays, so convert all of our dataset variables."
   ]
  },
  {
   "cell_type": "code",
   "execution_count": 26,
   "metadata": {
    "execution": {
     "iopub.execute_input": "2021-05-18T13:28:49.514617Z",
     "iopub.status.busy": "2021-05-18T13:28:49.514047Z",
     "iopub.status.idle": "2021-05-18T13:28:49.555144Z",
     "shell.execute_reply": "2021-05-18T13:28:49.555783Z"
    },
    "papermill": {
     "duration": 0.109795,
     "end_time": "2021-05-18T13:28:49.555956",
     "exception": false,
     "start_time": "2021-05-18T13:28:49.446161",
     "status": "completed"
    },
    "tags": []
   },
   "outputs": [],
   "source": [
    "# Convert all inputs and labels into torch tensors, the required datatype \n",
    "# for our model.\n",
    "train_inputs = torch.tensor(train_inputs)\n",
    "validation_inputs = torch.tensor(validation_inputs)\n",
    "train_labels = torch.tensor(train_labels)\n",
    "validation_labels = torch.tensor(validation_labels)\n",
    "train_masks = torch.tensor(train_masks)\n",
    "validation_masks = torch.tensor(validation_masks)\n",
    "\n",
    "train_ids = torch.tensor(ids_train)\n",
    "valid_ids = torch.tensor(ids_validation)"
   ]
  },
  {
   "cell_type": "code",
   "execution_count": 27,
   "metadata": {
    "execution": {
     "iopub.execute_input": "2021-05-18T13:28:49.772510Z",
     "iopub.status.busy": "2021-05-18T13:28:49.769798Z",
     "iopub.status.idle": "2021-05-18T13:28:49.775332Z",
     "shell.execute_reply": "2021-05-18T13:28:49.773320Z"
    },
    "papermill": {
     "duration": 0.115058,
     "end_time": "2021-05-18T13:28:49.775475",
     "exception": false,
     "start_time": "2021-05-18T13:28:49.660417",
     "status": "completed"
    },
    "tags": []
   },
   "outputs": [
    {
     "name": "stdout",
     "output_type": "stream",
     "text": [
      "Train: 779 Valid: 299 Test 1306\n"
     ]
    }
   ],
   "source": [
    "print(\"Train:\", len(train_inputs), \"Valid:\", len(validation_inputs), \"Test\", len(test_inputs))"
   ]
  },
  {
   "cell_type": "markdown",
   "metadata": {
    "papermill": {
     "duration": 0.09412,
     "end_time": "2021-05-18T13:28:49.963939",
     "exception": false,
     "start_time": "2021-05-18T13:28:49.869819",
     "status": "completed"
    },
    "tags": []
   },
   "source": [
    "We’ll also create an iterator for our dataset using the torch DataLoader class. This helps save on memory during training because, unlike a for loop, with an iterator the entire dataset does not need to be loaded into memory."
   ]
  },
  {
   "cell_type": "code",
   "execution_count": 28,
   "metadata": {
    "execution": {
     "iopub.execute_input": "2021-05-18T13:28:50.126528Z",
     "iopub.status.busy": "2021-05-18T13:28:50.125676Z",
     "iopub.status.idle": "2021-05-18T13:28:50.127921Z",
     "shell.execute_reply": "2021-05-18T13:28:50.128399Z"
    },
    "papermill": {
     "duration": 0.071332,
     "end_time": "2021-05-18T13:28:50.128508",
     "exception": false,
     "start_time": "2021-05-18T13:28:50.057176",
     "status": "completed"
    },
    "tags": []
   },
   "outputs": [],
   "source": [
    "from torch.utils.data import TensorDataset, DataLoader, RandomSampler, SequentialSampler\n",
    "# The DataLoader needs to know our batch size for training, so we specify it \n",
    "# here.\n",
    "# For fine-tuning BERT on a specific task, the authors recommend a batch size of\n",
    "# 16 or 32.\n",
    "batch_size = 16 # try 32, and then move down to 16 and 8. \n",
    "# Create the DataLoader for our training set.\n",
    "train_data = TensorDataset(train_inputs, train_masks, train_labels, train_ids)\n",
    "train_sampler = RandomSampler(train_data) # CHANGE TO SEQUENTIAL (TRAIN_SEQUENTIAL_SAMPLER - BUT DO SEQUENTIALLY FOR HIDDEN STATES)\n",
    "train_dataloader = DataLoader(train_data, sampler=train_sampler, batch_size=batch_size)\n",
    "# Create the DataLoader for our validation set.\n",
    "validation_data = TensorDataset(validation_inputs, validation_masks, validation_labels, valid_ids)\n",
    "validation_sampler = SequentialSampler(validation_data)\n",
    "validation_dataloader = DataLoader(validation_data, sampler=validation_sampler, batch_size=batch_size)\n",
    "\n",
    "# Create the DataLoader for our training set for the embedding extraction.\n",
    "train_sampler_sequential = SequentialSampler(train_data) # CHANGE TO SEQUENTIAL (TRAIN_SEQUENTIAL_SAMPLER - BUT DO SEQUENTIALLY FOR HIDDEN STATES)\n",
    "train_dataloader_sequential = DataLoader(train_data, sampler=train_sampler_sequential, batch_size=batch_size)"
   ]
  },
  {
   "cell_type": "markdown",
   "metadata": {
    "papermill": {
     "duration": 0.058041,
     "end_time": "2021-05-18T13:28:50.245522",
     "exception": false,
     "start_time": "2021-05-18T13:28:50.187481",
     "status": "completed"
    },
    "tags": []
   },
   "source": [
    "Now that our input data is properly formatted, it’s time to fine tune the BERT model.\n",
    "\n",
    "For this task, we first want to modify the pre-trained BERT model to give outputs for classification, and then we want to continue training the model on our dataset until that the entire model, end-to-end, is well-suited for our task.\n",
    "\n",
    "Thankfully, the huggingface pytorch implementation includes a set of interfaces designed for a variety of NLP tasks. Though these interfaces are all built on top of a trained BERT model, each has different top layers and output types designed to accomodate their specific NLP task.\n",
    "\n",
    "We’ll be using Bert Classification Model.This is the normal BERT model with an added single linear layer on top for classification that we will use as a sentence classifier. As we feed input data, the entire pre-trained BERT model and the additional untrained classification layer is trained on our specific task.\n"
   ]
  },
  {
   "cell_type": "code",
   "execution_count": 29,
   "metadata": {
    "execution": {
     "iopub.execute_input": "2021-05-18T13:28:50.368690Z",
     "iopub.status.busy": "2021-05-18T13:28:50.368175Z",
     "iopub.status.idle": "2021-05-18T13:29:20.137694Z",
     "shell.execute_reply": "2021-05-18T13:29:20.136799Z"
    },
    "papermill": {
     "duration": 29.833885,
     "end_time": "2021-05-18T13:29:20.137800",
     "exception": false,
     "start_time": "2021-05-18T13:28:50.303915",
     "status": "completed"
    },
    "tags": []
   },
   "outputs": [
    {
     "data": {
      "application/vnd.jupyter.widget-view+json": {
       "model_id": "f0fa768fa591438e9378981d5dd9f11b",
       "version_major": 2,
       "version_minor": 0
      },
      "text/plain": [
       "HBox(children=(FloatProgress(value=0.0, description='Downloading', max=625.0, style=ProgressStyle(description_…"
      ]
     },
     "metadata": {},
     "output_type": "display_data"
    },
    {
     "name": "stdout",
     "output_type": "stream",
     "text": [
      "\n"
     ]
    },
    {
     "data": {
      "application/vnd.jupyter.widget-view+json": {
       "model_id": "ec1cc5823b7845059944548092081048",
       "version_major": 2,
       "version_minor": 0
      },
      "text/plain": [
       "HBox(children=(FloatProgress(value=0.0, description='Downloading', max=714314041.0, style=ProgressStyle(descri…"
      ]
     },
     "metadata": {},
     "output_type": "display_data"
    },
    {
     "name": "stdout",
     "output_type": "stream",
     "text": [
      "\n"
     ]
    },
    {
     "name": "stderr",
     "output_type": "stream",
     "text": [
      "Some weights of the model checkpoint at bert-base-multilingual-cased were not used when initializing BertForSequenceClassification: ['cls.predictions.bias', 'cls.predictions.transform.dense.weight', 'cls.predictions.transform.dense.bias', 'cls.predictions.decoder.weight', 'cls.seq_relationship.weight', 'cls.seq_relationship.bias', 'cls.predictions.transform.LayerNorm.weight', 'cls.predictions.transform.LayerNorm.bias']\n",
      "- This IS expected if you are initializing BertForSequenceClassification from the checkpoint of a model trained on another task or with another architecture (e.g. initializing a BertForSequenceClassification model from a BertForPreTraining model).\n",
      "- This IS NOT expected if you are initializing BertForSequenceClassification from the checkpoint of a model that you expect to be exactly identical (initializing a BertForSequenceClassification model from a BertForSequenceClassification model).\n",
      "Some weights of BertForSequenceClassification were not initialized from the model checkpoint at bert-base-multilingual-cased and are newly initialized: ['classifier.weight', 'classifier.bias']\n",
      "You should probably TRAIN this model on a down-stream task to be able to use it for predictions and inference.\n"
     ]
    },
    {
     "data": {
      "text/plain": [
       "BertForSequenceClassification(\n",
       "  (bert): BertModel(\n",
       "    (embeddings): BertEmbeddings(\n",
       "      (word_embeddings): Embedding(119547, 768, padding_idx=0)\n",
       "      (position_embeddings): Embedding(512, 768)\n",
       "      (token_type_embeddings): Embedding(2, 768)\n",
       "      (LayerNorm): LayerNorm((768,), eps=1e-12, elementwise_affine=True)\n",
       "      (dropout): Dropout(p=0.1, inplace=False)\n",
       "    )\n",
       "    (encoder): BertEncoder(\n",
       "      (layer): ModuleList(\n",
       "        (0): BertLayer(\n",
       "          (attention): BertAttention(\n",
       "            (self): BertSelfAttention(\n",
       "              (query): Linear(in_features=768, out_features=768, bias=True)\n",
       "              (key): Linear(in_features=768, out_features=768, bias=True)\n",
       "              (value): Linear(in_features=768, out_features=768, bias=True)\n",
       "              (dropout): Dropout(p=0.1, inplace=False)\n",
       "            )\n",
       "            (output): BertSelfOutput(\n",
       "              (dense): Linear(in_features=768, out_features=768, bias=True)\n",
       "              (LayerNorm): LayerNorm((768,), eps=1e-12, elementwise_affine=True)\n",
       "              (dropout): Dropout(p=0.1, inplace=False)\n",
       "            )\n",
       "          )\n",
       "          (intermediate): BertIntermediate(\n",
       "            (dense): Linear(in_features=768, out_features=3072, bias=True)\n",
       "          )\n",
       "          (output): BertOutput(\n",
       "            (dense): Linear(in_features=3072, out_features=768, bias=True)\n",
       "            (LayerNorm): LayerNorm((768,), eps=1e-12, elementwise_affine=True)\n",
       "            (dropout): Dropout(p=0.1, inplace=False)\n",
       "          )\n",
       "        )\n",
       "        (1): BertLayer(\n",
       "          (attention): BertAttention(\n",
       "            (self): BertSelfAttention(\n",
       "              (query): Linear(in_features=768, out_features=768, bias=True)\n",
       "              (key): Linear(in_features=768, out_features=768, bias=True)\n",
       "              (value): Linear(in_features=768, out_features=768, bias=True)\n",
       "              (dropout): Dropout(p=0.1, inplace=False)\n",
       "            )\n",
       "            (output): BertSelfOutput(\n",
       "              (dense): Linear(in_features=768, out_features=768, bias=True)\n",
       "              (LayerNorm): LayerNorm((768,), eps=1e-12, elementwise_affine=True)\n",
       "              (dropout): Dropout(p=0.1, inplace=False)\n",
       "            )\n",
       "          )\n",
       "          (intermediate): BertIntermediate(\n",
       "            (dense): Linear(in_features=768, out_features=3072, bias=True)\n",
       "          )\n",
       "          (output): BertOutput(\n",
       "            (dense): Linear(in_features=3072, out_features=768, bias=True)\n",
       "            (LayerNorm): LayerNorm((768,), eps=1e-12, elementwise_affine=True)\n",
       "            (dropout): Dropout(p=0.1, inplace=False)\n",
       "          )\n",
       "        )\n",
       "        (2): BertLayer(\n",
       "          (attention): BertAttention(\n",
       "            (self): BertSelfAttention(\n",
       "              (query): Linear(in_features=768, out_features=768, bias=True)\n",
       "              (key): Linear(in_features=768, out_features=768, bias=True)\n",
       "              (value): Linear(in_features=768, out_features=768, bias=True)\n",
       "              (dropout): Dropout(p=0.1, inplace=False)\n",
       "            )\n",
       "            (output): BertSelfOutput(\n",
       "              (dense): Linear(in_features=768, out_features=768, bias=True)\n",
       "              (LayerNorm): LayerNorm((768,), eps=1e-12, elementwise_affine=True)\n",
       "              (dropout): Dropout(p=0.1, inplace=False)\n",
       "            )\n",
       "          )\n",
       "          (intermediate): BertIntermediate(\n",
       "            (dense): Linear(in_features=768, out_features=3072, bias=True)\n",
       "          )\n",
       "          (output): BertOutput(\n",
       "            (dense): Linear(in_features=3072, out_features=768, bias=True)\n",
       "            (LayerNorm): LayerNorm((768,), eps=1e-12, elementwise_affine=True)\n",
       "            (dropout): Dropout(p=0.1, inplace=False)\n",
       "          )\n",
       "        )\n",
       "        (3): BertLayer(\n",
       "          (attention): BertAttention(\n",
       "            (self): BertSelfAttention(\n",
       "              (query): Linear(in_features=768, out_features=768, bias=True)\n",
       "              (key): Linear(in_features=768, out_features=768, bias=True)\n",
       "              (value): Linear(in_features=768, out_features=768, bias=True)\n",
       "              (dropout): Dropout(p=0.1, inplace=False)\n",
       "            )\n",
       "            (output): BertSelfOutput(\n",
       "              (dense): Linear(in_features=768, out_features=768, bias=True)\n",
       "              (LayerNorm): LayerNorm((768,), eps=1e-12, elementwise_affine=True)\n",
       "              (dropout): Dropout(p=0.1, inplace=False)\n",
       "            )\n",
       "          )\n",
       "          (intermediate): BertIntermediate(\n",
       "            (dense): Linear(in_features=768, out_features=3072, bias=True)\n",
       "          )\n",
       "          (output): BertOutput(\n",
       "            (dense): Linear(in_features=3072, out_features=768, bias=True)\n",
       "            (LayerNorm): LayerNorm((768,), eps=1e-12, elementwise_affine=True)\n",
       "            (dropout): Dropout(p=0.1, inplace=False)\n",
       "          )\n",
       "        )\n",
       "        (4): BertLayer(\n",
       "          (attention): BertAttention(\n",
       "            (self): BertSelfAttention(\n",
       "              (query): Linear(in_features=768, out_features=768, bias=True)\n",
       "              (key): Linear(in_features=768, out_features=768, bias=True)\n",
       "              (value): Linear(in_features=768, out_features=768, bias=True)\n",
       "              (dropout): Dropout(p=0.1, inplace=False)\n",
       "            )\n",
       "            (output): BertSelfOutput(\n",
       "              (dense): Linear(in_features=768, out_features=768, bias=True)\n",
       "              (LayerNorm): LayerNorm((768,), eps=1e-12, elementwise_affine=True)\n",
       "              (dropout): Dropout(p=0.1, inplace=False)\n",
       "            )\n",
       "          )\n",
       "          (intermediate): BertIntermediate(\n",
       "            (dense): Linear(in_features=768, out_features=3072, bias=True)\n",
       "          )\n",
       "          (output): BertOutput(\n",
       "            (dense): Linear(in_features=3072, out_features=768, bias=True)\n",
       "            (LayerNorm): LayerNorm((768,), eps=1e-12, elementwise_affine=True)\n",
       "            (dropout): Dropout(p=0.1, inplace=False)\n",
       "          )\n",
       "        )\n",
       "        (5): BertLayer(\n",
       "          (attention): BertAttention(\n",
       "            (self): BertSelfAttention(\n",
       "              (query): Linear(in_features=768, out_features=768, bias=True)\n",
       "              (key): Linear(in_features=768, out_features=768, bias=True)\n",
       "              (value): Linear(in_features=768, out_features=768, bias=True)\n",
       "              (dropout): Dropout(p=0.1, inplace=False)\n",
       "            )\n",
       "            (output): BertSelfOutput(\n",
       "              (dense): Linear(in_features=768, out_features=768, bias=True)\n",
       "              (LayerNorm): LayerNorm((768,), eps=1e-12, elementwise_affine=True)\n",
       "              (dropout): Dropout(p=0.1, inplace=False)\n",
       "            )\n",
       "          )\n",
       "          (intermediate): BertIntermediate(\n",
       "            (dense): Linear(in_features=768, out_features=3072, bias=True)\n",
       "          )\n",
       "          (output): BertOutput(\n",
       "            (dense): Linear(in_features=3072, out_features=768, bias=True)\n",
       "            (LayerNorm): LayerNorm((768,), eps=1e-12, elementwise_affine=True)\n",
       "            (dropout): Dropout(p=0.1, inplace=False)\n",
       "          )\n",
       "        )\n",
       "        (6): BertLayer(\n",
       "          (attention): BertAttention(\n",
       "            (self): BertSelfAttention(\n",
       "              (query): Linear(in_features=768, out_features=768, bias=True)\n",
       "              (key): Linear(in_features=768, out_features=768, bias=True)\n",
       "              (value): Linear(in_features=768, out_features=768, bias=True)\n",
       "              (dropout): Dropout(p=0.1, inplace=False)\n",
       "            )\n",
       "            (output): BertSelfOutput(\n",
       "              (dense): Linear(in_features=768, out_features=768, bias=True)\n",
       "              (LayerNorm): LayerNorm((768,), eps=1e-12, elementwise_affine=True)\n",
       "              (dropout): Dropout(p=0.1, inplace=False)\n",
       "            )\n",
       "          )\n",
       "          (intermediate): BertIntermediate(\n",
       "            (dense): Linear(in_features=768, out_features=3072, bias=True)\n",
       "          )\n",
       "          (output): BertOutput(\n",
       "            (dense): Linear(in_features=3072, out_features=768, bias=True)\n",
       "            (LayerNorm): LayerNorm((768,), eps=1e-12, elementwise_affine=True)\n",
       "            (dropout): Dropout(p=0.1, inplace=False)\n",
       "          )\n",
       "        )\n",
       "        (7): BertLayer(\n",
       "          (attention): BertAttention(\n",
       "            (self): BertSelfAttention(\n",
       "              (query): Linear(in_features=768, out_features=768, bias=True)\n",
       "              (key): Linear(in_features=768, out_features=768, bias=True)\n",
       "              (value): Linear(in_features=768, out_features=768, bias=True)\n",
       "              (dropout): Dropout(p=0.1, inplace=False)\n",
       "            )\n",
       "            (output): BertSelfOutput(\n",
       "              (dense): Linear(in_features=768, out_features=768, bias=True)\n",
       "              (LayerNorm): LayerNorm((768,), eps=1e-12, elementwise_affine=True)\n",
       "              (dropout): Dropout(p=0.1, inplace=False)\n",
       "            )\n",
       "          )\n",
       "          (intermediate): BertIntermediate(\n",
       "            (dense): Linear(in_features=768, out_features=3072, bias=True)\n",
       "          )\n",
       "          (output): BertOutput(\n",
       "            (dense): Linear(in_features=3072, out_features=768, bias=True)\n",
       "            (LayerNorm): LayerNorm((768,), eps=1e-12, elementwise_affine=True)\n",
       "            (dropout): Dropout(p=0.1, inplace=False)\n",
       "          )\n",
       "        )\n",
       "        (8): BertLayer(\n",
       "          (attention): BertAttention(\n",
       "            (self): BertSelfAttention(\n",
       "              (query): Linear(in_features=768, out_features=768, bias=True)\n",
       "              (key): Linear(in_features=768, out_features=768, bias=True)\n",
       "              (value): Linear(in_features=768, out_features=768, bias=True)\n",
       "              (dropout): Dropout(p=0.1, inplace=False)\n",
       "            )\n",
       "            (output): BertSelfOutput(\n",
       "              (dense): Linear(in_features=768, out_features=768, bias=True)\n",
       "              (LayerNorm): LayerNorm((768,), eps=1e-12, elementwise_affine=True)\n",
       "              (dropout): Dropout(p=0.1, inplace=False)\n",
       "            )\n",
       "          )\n",
       "          (intermediate): BertIntermediate(\n",
       "            (dense): Linear(in_features=768, out_features=3072, bias=True)\n",
       "          )\n",
       "          (output): BertOutput(\n",
       "            (dense): Linear(in_features=3072, out_features=768, bias=True)\n",
       "            (LayerNorm): LayerNorm((768,), eps=1e-12, elementwise_affine=True)\n",
       "            (dropout): Dropout(p=0.1, inplace=False)\n",
       "          )\n",
       "        )\n",
       "        (9): BertLayer(\n",
       "          (attention): BertAttention(\n",
       "            (self): BertSelfAttention(\n",
       "              (query): Linear(in_features=768, out_features=768, bias=True)\n",
       "              (key): Linear(in_features=768, out_features=768, bias=True)\n",
       "              (value): Linear(in_features=768, out_features=768, bias=True)\n",
       "              (dropout): Dropout(p=0.1, inplace=False)\n",
       "            )\n",
       "            (output): BertSelfOutput(\n",
       "              (dense): Linear(in_features=768, out_features=768, bias=True)\n",
       "              (LayerNorm): LayerNorm((768,), eps=1e-12, elementwise_affine=True)\n",
       "              (dropout): Dropout(p=0.1, inplace=False)\n",
       "            )\n",
       "          )\n",
       "          (intermediate): BertIntermediate(\n",
       "            (dense): Linear(in_features=768, out_features=3072, bias=True)\n",
       "          )\n",
       "          (output): BertOutput(\n",
       "            (dense): Linear(in_features=3072, out_features=768, bias=True)\n",
       "            (LayerNorm): LayerNorm((768,), eps=1e-12, elementwise_affine=True)\n",
       "            (dropout): Dropout(p=0.1, inplace=False)\n",
       "          )\n",
       "        )\n",
       "        (10): BertLayer(\n",
       "          (attention): BertAttention(\n",
       "            (self): BertSelfAttention(\n",
       "              (query): Linear(in_features=768, out_features=768, bias=True)\n",
       "              (key): Linear(in_features=768, out_features=768, bias=True)\n",
       "              (value): Linear(in_features=768, out_features=768, bias=True)\n",
       "              (dropout): Dropout(p=0.1, inplace=False)\n",
       "            )\n",
       "            (output): BertSelfOutput(\n",
       "              (dense): Linear(in_features=768, out_features=768, bias=True)\n",
       "              (LayerNorm): LayerNorm((768,), eps=1e-12, elementwise_affine=True)\n",
       "              (dropout): Dropout(p=0.1, inplace=False)\n",
       "            )\n",
       "          )\n",
       "          (intermediate): BertIntermediate(\n",
       "            (dense): Linear(in_features=768, out_features=3072, bias=True)\n",
       "          )\n",
       "          (output): BertOutput(\n",
       "            (dense): Linear(in_features=3072, out_features=768, bias=True)\n",
       "            (LayerNorm): LayerNorm((768,), eps=1e-12, elementwise_affine=True)\n",
       "            (dropout): Dropout(p=0.1, inplace=False)\n",
       "          )\n",
       "        )\n",
       "        (11): BertLayer(\n",
       "          (attention): BertAttention(\n",
       "            (self): BertSelfAttention(\n",
       "              (query): Linear(in_features=768, out_features=768, bias=True)\n",
       "              (key): Linear(in_features=768, out_features=768, bias=True)\n",
       "              (value): Linear(in_features=768, out_features=768, bias=True)\n",
       "              (dropout): Dropout(p=0.1, inplace=False)\n",
       "            )\n",
       "            (output): BertSelfOutput(\n",
       "              (dense): Linear(in_features=768, out_features=768, bias=True)\n",
       "              (LayerNorm): LayerNorm((768,), eps=1e-12, elementwise_affine=True)\n",
       "              (dropout): Dropout(p=0.1, inplace=False)\n",
       "            )\n",
       "          )\n",
       "          (intermediate): BertIntermediate(\n",
       "            (dense): Linear(in_features=768, out_features=3072, bias=True)\n",
       "          )\n",
       "          (output): BertOutput(\n",
       "            (dense): Linear(in_features=3072, out_features=768, bias=True)\n",
       "            (LayerNorm): LayerNorm((768,), eps=1e-12, elementwise_affine=True)\n",
       "            (dropout): Dropout(p=0.1, inplace=False)\n",
       "          )\n",
       "        )\n",
       "      )\n",
       "    )\n",
       "    (pooler): BertPooler(\n",
       "      (dense): Linear(in_features=768, out_features=768, bias=True)\n",
       "      (activation): Tanh()\n",
       "    )\n",
       "  )\n",
       "  (dropout): Dropout(p=0.1, inplace=False)\n",
       "  (classifier): Linear(in_features=768, out_features=2, bias=True)\n",
       ")"
      ]
     },
     "execution_count": 29,
     "metadata": {},
     "output_type": "execute_result"
    }
   ],
   "source": [
    "from transformers import BertForSequenceClassification, AdamW, BertConfig\n",
    "# Load BertForSequenceClassification, the pretrained BERT model with a single \n",
    "# linear classification layer on top. \n",
    "model = BertForSequenceClassification.from_pretrained(\n",
    "    \"bert-base-multilingual-cased\", # Use the 12-layer BERT model, with an uncased vocab.\n",
    "    num_labels = 2, # The number of output labels--2 for binary classification.\n",
    "                    # You can increase this for multi-class tasks.   \n",
    "    output_attentions = False, # Whether the model returns attentions weights.\n",
    "    output_hidden_states = True, # Whether the model returns all hidden-states.\n",
    ")\n",
    "# Tell pytorch to run this model on the GPU.\n",
    "model.cuda()"
   ]
  },
  {
   "cell_type": "markdown",
   "metadata": {
    "papermill": {
     "duration": 0.06052,
     "end_time": "2021-05-18T13:29:20.260733",
     "exception": false,
     "start_time": "2021-05-18T13:29:20.200213",
     "status": "completed"
    },
    "tags": []
   },
   "source": [
    "In the below cell we can check the names and dimensions of the weights for:The embedding layer,The first of the twelve transformers & The output layer."
   ]
  },
  {
   "cell_type": "code",
   "execution_count": 30,
   "metadata": {
    "execution": {
     "iopub.execute_input": "2021-05-18T13:29:20.394593Z",
     "iopub.status.busy": "2021-05-18T13:29:20.393737Z",
     "iopub.status.idle": "2021-05-18T13:29:20.400381Z",
     "shell.execute_reply": "2021-05-18T13:29:20.399448Z"
    },
    "papermill": {
     "duration": 0.078691,
     "end_time": "2021-05-18T13:29:20.400516",
     "exception": false,
     "start_time": "2021-05-18T13:29:20.321825",
     "status": "completed"
    },
    "tags": []
   },
   "outputs": [
    {
     "name": "stdout",
     "output_type": "stream",
     "text": [
      "The BERT model has 201 different named parameters.\n",
      "\n",
      "==== Embedding Layer ====\n",
      "\n",
      "bert.embeddings.word_embeddings.weight                  (119547, 768)\n",
      "bert.embeddings.position_embeddings.weight                (512, 768)\n",
      "bert.embeddings.token_type_embeddings.weight                (2, 768)\n",
      "bert.embeddings.LayerNorm.weight                              (768,)\n",
      "bert.embeddings.LayerNorm.bias                                (768,)\n",
      "\n",
      "==== First Transformer ====\n",
      "\n",
      "bert.encoder.layer.0.attention.self.query.weight          (768, 768)\n",
      "bert.encoder.layer.0.attention.self.query.bias                (768,)\n",
      "bert.encoder.layer.0.attention.self.key.weight            (768, 768)\n",
      "bert.encoder.layer.0.attention.self.key.bias                  (768,)\n",
      "bert.encoder.layer.0.attention.self.value.weight          (768, 768)\n",
      "bert.encoder.layer.0.attention.self.value.bias                (768,)\n",
      "bert.encoder.layer.0.attention.output.dense.weight        (768, 768)\n",
      "bert.encoder.layer.0.attention.output.dense.bias              (768,)\n",
      "bert.encoder.layer.0.attention.output.LayerNorm.weight        (768,)\n",
      "bert.encoder.layer.0.attention.output.LayerNorm.bias          (768,)\n",
      "bert.encoder.layer.0.intermediate.dense.weight           (3072, 768)\n",
      "bert.encoder.layer.0.intermediate.dense.bias                 (3072,)\n",
      "bert.encoder.layer.0.output.dense.weight                 (768, 3072)\n",
      "bert.encoder.layer.0.output.dense.bias                        (768,)\n",
      "bert.encoder.layer.0.output.LayerNorm.weight                  (768,)\n",
      "bert.encoder.layer.0.output.LayerNorm.bias                    (768,)\n",
      "\n",
      "==== Output Layer ====\n",
      "\n",
      "bert.pooler.dense.weight                                  (768, 768)\n",
      "bert.pooler.dense.bias                                        (768,)\n",
      "classifier.weight                                           (2, 768)\n",
      "classifier.bias                                                 (2,)\n"
     ]
    }
   ],
   "source": [
    "# Get all of the model's parameters as a list of tuples.\n",
    "params = list(model.named_parameters())\n",
    "print('The BERT model has {:} different named parameters.\\n'.format(len(params)))\n",
    "print('==== Embedding Layer ====\\n')\n",
    "for p in params[0:5]:\n",
    "    print(\"{:<55} {:>12}\".format(p[0], str(tuple(p[1].size()))))\n",
    "print('\\n==== First Transformer ====\\n')\n",
    "for p in params[5:21]:\n",
    "    print(\"{:<55} {:>12}\".format(p[0], str(tuple(p[1].size()))))\n",
    "print('\\n==== Output Layer ====\\n')\n",
    "for p in params[-4:]:\n",
    "    print(\"{:<55} {:>12}\".format(p[0], str(tuple(p[1].size()))))"
   ]
  },
  {
   "cell_type": "markdown",
   "metadata": {
    "papermill": {
     "duration": 0.06168,
     "end_time": "2021-05-18T13:29:20.524712",
     "exception": false,
     "start_time": "2021-05-18T13:29:20.463032",
     "status": "completed"
    },
    "tags": []
   },
   "source": [
    "Now that we have our model loaded we need to grab the training hyperparameters from within the stored model."
   ]
  },
  {
   "cell_type": "markdown",
   "metadata": {
    "papermill": {
     "duration": 0.061251,
     "end_time": "2021-05-18T13:29:20.647155",
     "exception": false,
     "start_time": "2021-05-18T13:29:20.585904",
     "status": "completed"
    },
    "tags": []
   },
   "source": [
    "For the purposes of fine-tuning, we'll use the following values:\n",
    "\n",
    "- Batch size: 16, 32 (We chose 32 when creating our DataLoaders).\n",
    "- Learning rate (Adam): 5e-5, 3e-5, 2e-5 (We’ll use 2e-5).\n",
    "- Number of epochs: 2, 3, 4 (We’ll use 4).\n",
    "\n",
    "The epsilon parameter eps = 1e-8 is “a very small number to prevent any division by zero in the implementation”\n",
    "\n",
    "https://medium.com/@aniruddha.choudhury94/part-2-bert-fine-tuning-tutorial-with-pytorch-for-text-classification-on-the-corpus-of-linguistic-18057ce330e1"
   ]
  },
  {
   "cell_type": "code",
   "execution_count": 31,
   "metadata": {
    "execution": {
     "iopub.execute_input": "2021-05-18T13:29:20.779582Z",
     "iopub.status.busy": "2021-05-18T13:29:20.778851Z",
     "iopub.status.idle": "2021-05-18T13:29:20.781866Z",
     "shell.execute_reply": "2021-05-18T13:29:20.781470Z"
    },
    "papermill": {
     "duration": 0.072972,
     "end_time": "2021-05-18T13:29:20.781961",
     "exception": false,
     "start_time": "2021-05-18T13:29:20.708989",
     "status": "completed"
    },
    "tags": []
   },
   "outputs": [],
   "source": [
    "# Note: AdamW is a class from the huggingface library (as opposed to pytorch) \n",
    "# I believe the 'W' stands for 'Weight Decay fix\"\n",
    "# Cross entropy is used as the loss by default\n",
    "optimizer = AdamW(model.parameters(),\n",
    "                  lr = 2e-5, # args.learning_rate - default is 5e-5, our notebook had 2e-5\n",
    "                  eps = 1e-8 # args.adam_epsilon  - default is 1e-8.\n",
    "                )\n",
    "from transformers import get_linear_schedule_with_warmup\n",
    "# Number of training epochs (authors recommend between 2 and 4)\n",
    "epochs = 2\n",
    "# Total number of training steps is number of batches * number of epochs.\n",
    "total_steps = len(train_dataloader) * epochs\n",
    "# Create the learning rate scheduler.\n",
    "scheduler = get_linear_schedule_with_warmup(optimizer, \n",
    "                                            num_warmup_steps = 0, # Default value in run_glue.py\n",
    "                                            num_training_steps = total_steps)"
   ]
  },
  {
   "cell_type": "markdown",
   "metadata": {
    "papermill": {
     "duration": 0.061833,
     "end_time": "2021-05-18T13:29:20.905568",
     "exception": false,
     "start_time": "2021-05-18T13:29:20.843735",
     "status": "completed"
    },
    "tags": []
   },
   "source": [
    "4.3. Training Loop\n",
    "Below is our training loop. There’s a lot going on, but fundamentally for each pass in our loop we have a trianing phase and a validation phase. At each pass we need to:\n",
    "\n",
    "Training loop:\n",
    "\n",
    "- Unpack our data inputs and labels\n",
    "- Load data onto the GPU for acceleration\n",
    "- Clear out the gradients calculated in the previous pass.\n",
    "- In pytorch the gradients accumulate by default (useful for things like RNNs) unless you explicitly clear them out.\n",
    "- Forward pass (feed input data through the network)\n",
    "- Backward pass (backpropagation)\n",
    "- Tell the network to update parameters with optimizer.step()\n",
    "- Track variables for monitoring progress\n",
    "\n",
    "Evalution loop:\n",
    "- Unpack our data inputs and labels\n",
    "- Load data onto the GPU for acceleration\n",
    "- Forward pass (feed input data through the network)\n",
    "- Compute loss on our validation data and track variables for monitoring progress\n",
    "\n",
    "Define a helper function for calculating accuracy."
   ]
  },
  {
   "cell_type": "code",
   "execution_count": 32,
   "metadata": {
    "execution": {
     "iopub.execute_input": "2021-05-18T13:29:21.034235Z",
     "iopub.status.busy": "2021-05-18T13:29:21.033583Z",
     "iopub.status.idle": "2021-05-18T13:29:21.036406Z",
     "shell.execute_reply": "2021-05-18T13:29:21.035881Z"
    },
    "papermill": {
     "duration": 0.068918,
     "end_time": "2021-05-18T13:29:21.036498",
     "exception": false,
     "start_time": "2021-05-18T13:29:20.967580",
     "status": "completed"
    },
    "tags": []
   },
   "outputs": [],
   "source": [
    "import numpy as np\n",
    "# Function to calculate the accuracy of our predictions vs labels\n",
    "def flat_accuracy(preds, labels):\n",
    "    pred_flat = np.argmax(preds, axis=1).flatten()\n",
    "    labels_flat = labels.flatten()\n",
    "    return np.sum(pred_flat == labels_flat) / len(labels_flat)"
   ]
  },
  {
   "cell_type": "markdown",
   "metadata": {
    "papermill": {
     "duration": 0.061242,
     "end_time": "2021-05-18T13:29:21.159955",
     "exception": false,
     "start_time": "2021-05-18T13:29:21.098713",
     "status": "completed"
    },
    "tags": []
   },
   "source": [
    "Helper function for formatting elapsed times."
   ]
  },
  {
   "cell_type": "code",
   "execution_count": 33,
   "metadata": {
    "execution": {
     "iopub.execute_input": "2021-05-18T13:29:21.288510Z",
     "iopub.status.busy": "2021-05-18T13:29:21.287793Z",
     "iopub.status.idle": "2021-05-18T13:29:21.290165Z",
     "shell.execute_reply": "2021-05-18T13:29:21.290602Z"
    },
    "papermill": {
     "duration": 0.068816,
     "end_time": "2021-05-18T13:29:21.290698",
     "exception": false,
     "start_time": "2021-05-18T13:29:21.221882",
     "status": "completed"
    },
    "tags": []
   },
   "outputs": [],
   "source": [
    "import time\n",
    "import datetime\n",
    "def format_time(elapsed):\n",
    "    '''\n",
    "    Takes a time in seconds and returns a string hh:mm:ss\n",
    "    '''\n",
    "    # Round to the nearest second.\n",
    "    elapsed_rounded = int(round((elapsed)))\n",
    "    \n",
    "    # Format as hh:mm:ss\n",
    "    return str(datetime.timedelta(seconds=elapsed_rounded))"
   ]
  },
  {
   "cell_type": "markdown",
   "metadata": {
    "papermill": {
     "duration": 0.061787,
     "end_time": "2021-05-18T13:29:21.414203",
     "exception": false,
     "start_time": "2021-05-18T13:29:21.352416",
     "status": "completed"
    },
    "tags": []
   },
   "source": [
    "### Train Model"
   ]
  },
  {
   "cell_type": "code",
   "execution_count": 34,
   "metadata": {
    "execution": {
     "iopub.execute_input": "2021-05-18T13:29:21.570900Z",
     "iopub.status.busy": "2021-05-18T13:29:21.553128Z",
     "iopub.status.idle": "2021-05-18T13:29:46.427370Z",
     "shell.execute_reply": "2021-05-18T13:29:46.426700Z"
    },
    "papermill": {
     "duration": 24.951681,
     "end_time": "2021-05-18T13:29:46.427510",
     "exception": false,
     "start_time": "2021-05-18T13:29:21.475829",
     "status": "completed"
    },
    "tags": []
   },
   "outputs": [
    {
     "name": "stdout",
     "output_type": "stream",
     "text": [
      "\n",
      "======== Epoch 1 / 2 ========\n",
      "Training...\n",
      "  Batch    40  of     49.    Elapsed: 0:00:10.\n",
      "\n",
      "  Average training loss: 0.70\n",
      "  Training epcoh took: 0:00:12\n",
      "\n",
      "Running Validation...\n",
      "  Accuracy: 0.46\n",
      "  Average validation loss: 0.73\n",
      "  Validation took: 0:00:01\n",
      "\n",
      "======== Epoch 2 / 2 ========\n",
      "Training...\n",
      "  Batch    40  of     49.    Elapsed: 0:00:09.\n",
      "\n",
      "  Average training loss: 0.65\n",
      "  Training epcoh took: 0:00:11\n",
      "\n",
      "Running Validation...\n",
      "  Accuracy: 0.54\n",
      "  Average validation loss: 0.70\n",
      "  Validation took: 0:00:01\n",
      "\n",
      "Training complete!\n"
     ]
    }
   ],
   "source": [
    "import random\n",
    "# This training code is based on the `run_glue.py` script here:\n",
    "# https://github.com/huggingface/transformers/blob/5bfcd0485ece086ebcbed2d008813037968a9e58/examples/run_glue.py#L128\n",
    "# Set the seed value all over the place to make this reproducible.\n",
    "seed_val = 42\n",
    "random.seed(seed_val)\n",
    "np.random.seed(seed_val)\n",
    "torch.manual_seed(seed_val)\n",
    "torch.cuda.manual_seed_all(seed_val)\n",
    "# Store the average loss after each epoch so we can plot them.\n",
    "loss_values = []\n",
    "loss_values_valid = []\n",
    "#embeddings_tr, embeddings_vl = [], []\n",
    "train_predictions, valid_predictions = [], []\n",
    "train_true_labels, valid_true_labels = [], []\n",
    "# Store the hidden states for embedding extraction\n",
    "\n",
    "# For each epoch...\n",
    "for epoch_i in range(0, epochs):\n",
    "    \n",
    "    # ========================================\n",
    "    #               Training\n",
    "    # ========================================\n",
    "    \n",
    "    # Perform one full pass over the training set.\n",
    "    print(\"\")\n",
    "    print('======== Epoch {:} / {:} ========'.format(epoch_i + 1, epochs))\n",
    "    print('Training...')\n",
    "    # Measure how long the training epoch takes.\n",
    "    t0 = time.time()\n",
    "    # Reset the total loss for this epoch.\n",
    "    total_loss = 0\n",
    "    # Put the model into training mode. Don't be mislead--the call to \n",
    "    # `train` just changes the *mode*, it doesn't *perform* the training.\n",
    "    # `dropout` and `batchnorm` layers behave differently during training\n",
    "    # vs. test (source: https://stackoverflow.com/questions/51433378/what-does-model-train-do-in-pytorch)\n",
    "    model.train()\n",
    "    # For each batch of training data...\n",
    "    for step, batch in enumerate(train_dataloader):\n",
    "        # Progress update every 40 batches.\n",
    "        if step % 40 == 0 and not step == 0:\n",
    "            # Calculate elapsed time in minutes.\n",
    "            elapsed = format_time(time.time() - t0)\n",
    "            \n",
    "            # Report progress.\n",
    "            print('  Batch {:>5,}  of  {:>5,}.    Elapsed: {:}.'.format(step, len(train_dataloader), elapsed))\n",
    "        # Unpack this training batch from our dataloader. \n",
    "        #\n",
    "        # As we unpack the batch, we'll also copy each tensor to the GPU using the \n",
    "        # `to` method.\n",
    "        #\n",
    "        # `batch` contains three pytorch tensors:\n",
    "        #   [0]: input ids \n",
    "        #   [1]: attention masks\n",
    "        #   [2]: labels \n",
    "        b_input_ids = batch[0].to(device)\n",
    "        b_input_mask = batch[1].to(device)\n",
    "        b_labels = batch[2].to(device)\n",
    "        # Always clear any previously calculated gradients before performing a\n",
    "        # backward pass. PyTorch doesn't do this automatically because \n",
    "        # accumulating the gradients is \"convenient while training RNNs\". \n",
    "        # (source: https://stackoverflow.com/questions/48001598/why-do-we-need-to-call-zero-grad-in-pytorch)\n",
    "        model.zero_grad()        \n",
    "        # Perform a forward pass (evaluate the model on this training batch).\n",
    "        # This will return the loss (rather than the model output) because we\n",
    "        # have provided the `labels`.\n",
    "        # The documentation for this `model` function is here: \n",
    "        # https://huggingface.co/transformers/v2.2.0/model_doc/bert.html#transformers.BertForSequenceClassification\n",
    "        outputs_a = model(b_input_ids, \n",
    "                    token_type_ids=None, \n",
    "                    attention_mask=b_input_mask, \n",
    "                    labels=b_labels)\n",
    "        \n",
    "        # The call to `model` always returns a tuple, so we need to pull the \n",
    "        # loss value out of the tuple.\n",
    "        loss = outputs_a[0]\n",
    "        logits_tr = outputs_a[1]\n",
    "        #hidden_state_tr = outputs_a[2]\n",
    "        #features = hidden_state_tr[0][:,0,:].detach().cpu().numpy()\n",
    "        #embeddings_tr.append([epoch_i,batch[3], features]) # FIX AS NO BACKPROP WEIGHT ADJUSTED\n",
    "        # Accumulate the training loss over all of the batches so that we can\n",
    "        # calculate the average loss at the end. `loss` is a Tensor containing a\n",
    "        # single value; the `.item()` function just returns the Python value \n",
    "        # from the tensor.\n",
    "        # Move logits, hidden states, and labels to CPU\n",
    "        logits_tr = logits_tr.detach().cpu().numpy()\n",
    "        label_ids = b_labels.to('cpu').numpy()\n",
    "        #train_predictions.append([epoch_i,logits_tr])\n",
    "        #train_true_labels.append([epoch_i,label_ids])\n",
    "\n",
    "        total_loss += loss.item()\n",
    "        # Perform a backward pass to calculate the gradients.\n",
    "        loss.backward()\n",
    "        # Clip the norm of the gradients to 1.0.\n",
    "        # This is to help prevent the \"exploding gradients\" problem.\n",
    "        torch.nn.utils.clip_grad_norm_(model.parameters(), 1.0)\n",
    "        # Update parameters and take a step using the computed gradient.\n",
    "        # The optimizer dictates the \"update rule\"--how the parameters are\n",
    "        # modified based on their gradients, the learning rate, etc.\n",
    "        optimizer.step()\n",
    "        # Update the learning rate.\n",
    "        scheduler.step()\n",
    "    # Calculate the average loss over the training data.\n",
    "    avg_train_loss = total_loss / len(train_dataloader)            \n",
    "\n",
    "    # Store the loss value for plotting the learning curve.\n",
    "    loss_values.append(avg_train_loss)\n",
    "    print(\"\")\n",
    "    print(\"  Average training loss: {0:.2f}\".format(avg_train_loss))\n",
    "    print(\"  Training epcoh took: {:}\".format(format_time(time.time() - t0)))\n",
    "    \n",
    "    # ========================================\n",
    "    #               Validation\n",
    "    # ========================================\n",
    "    # After the completion of each training epoch, measure our performance on\n",
    "    # our validation set.\n",
    "    print(\"\")\n",
    "    print(\"Running Validation...\")\n",
    "    t0 = time.time()\n",
    "    # Put the model in evaluation mode--the dropout layers behave differently\n",
    "    # during evaluation.\n",
    "    model.eval()\n",
    "    # Tracking variables \n",
    "    eval_loss, eval_accuracy = 0, 0\n",
    "    nb_eval_steps, nb_eval_examples = 0, 0\n",
    "    # Evaluate data for one epoch\n",
    "    for batch in validation_dataloader:\n",
    "        \n",
    "        # Add batch to GPU\n",
    "        b_input_ids = batch[0].to(device)\n",
    "        b_input_mask = batch[1].to(device)\n",
    "        b_labels = batch[2].to(device)\n",
    "        \n",
    "        # Telling the model not to compute or store gradients, saving memory and\n",
    "        # speeding up validation\n",
    "        with torch.no_grad():        \n",
    "            # Forward pass, calculate logit predictions.\n",
    "            # This will return the logits rather than the loss because we have\n",
    "            # not provided labels.\n",
    "            # token_type_ids is the same as the \"segment ids\", which \n",
    "            # differentiates sentence 1 and 2 in 2-sentence tasks.\n",
    "            # The documentation for this `model` function is here: \n",
    "            # https://huggingface.co/transformers/v2.2.0/model_doc/bert.html#transformers.BertForSequenceClassification\n",
    "            outputs = model(b_input_ids, \n",
    "                            token_type_ids=None, \n",
    "                            attention_mask=b_input_mask,\n",
    "                            labels=b_labels)\n",
    "        \n",
    "        # Get the \"logits\" output by the model. The \"logits\" are the output\n",
    "        # values prior to applying an activation function like the softmax.\n",
    "        loss = outputs[0]\n",
    "        logits = outputs[1]\n",
    "        #hidden_state_vl = outputs[2]\n",
    "        #features = hidden_state_vl[0][:,0,:].detach().cpu().numpy()\n",
    "        #embeddings_vl.append([epoch_i,batch[3], features])\n",
    "        \n",
    "        # Track Loss\n",
    "        eval_loss += loss.item()\n",
    "\n",
    "        # Move logits, hidden states, and labels to CPU\n",
    "        logits = logits.detach().cpu().numpy()\n",
    "        #hidden_state_vl = hidden_state_vl.detach().cpu().numpy()\n",
    "        label_ids = b_labels.to('cpu').numpy()\n",
    "\n",
    "        valid_predictions.append([epoch_i,logits])\n",
    "        valid_true_labels.append([epoch_i,label_ids])\n",
    "        \n",
    "        # Calculate the accuracy for this batch of test sentences.\n",
    "        tmp_eval_accuracy = flat_accuracy(logits, label_ids)\n",
    "        \n",
    "        # Accumulate the total accuracy.\n",
    "        eval_accuracy += tmp_eval_accuracy\n",
    "        # Track the number of batches\n",
    "        nb_eval_steps += 1\n",
    "    \n",
    "    # Calculate the average loss over the training data.\n",
    "    avg_valid_loss = eval_loss / len(validation_dataloader)   \n",
    "\n",
    "    # Report the final accuracy for this validation run.\n",
    "    loss_values_valid.append(avg_valid_loss)\n",
    "    print(\"  Accuracy: {0:.2f}\".format(eval_accuracy/nb_eval_steps))\n",
    "    print(\"  Average validation loss: {0:.2f}\".format(avg_valid_loss))\n",
    "    print(\"  Validation took: {:}\".format(format_time(time.time() - t0)))\n",
    "    \n",
    "print(\"\")\n",
    "print(\"Training complete!\")"
   ]
  },
  {
   "cell_type": "markdown",
   "metadata": {
    "papermill": {
     "duration": 0.10126,
     "end_time": "2021-05-18T13:29:46.635574",
     "exception": false,
     "start_time": "2021-05-18T13:29:46.534314",
     "status": "completed"
    },
    "tags": []
   },
   "source": [
    "### Plot Training and Validation Loss"
   ]
  },
  {
   "cell_type": "code",
   "execution_count": 35,
   "metadata": {
    "execution": {
     "iopub.execute_input": "2021-05-18T13:29:46.780608Z",
     "iopub.status.busy": "2021-05-18T13:29:46.779809Z",
     "iopub.status.idle": "2021-05-18T13:29:46.785477Z",
     "shell.execute_reply": "2021-05-18T13:29:46.785024Z"
    },
    "papermill": {
     "duration": 0.084769,
     "end_time": "2021-05-18T13:29:46.785574",
     "exception": false,
     "start_time": "2021-05-18T13:29:46.700805",
     "status": "completed"
    },
    "tags": []
   },
   "outputs": [
    {
     "data": {
      "text/html": [
       "<div>\n",
       "<style scoped>\n",
       "    .dataframe tbody tr th:only-of-type {\n",
       "        vertical-align: middle;\n",
       "    }\n",
       "\n",
       "    .dataframe tbody tr th {\n",
       "        vertical-align: top;\n",
       "    }\n",
       "\n",
       "    .dataframe thead th {\n",
       "        text-align: right;\n",
       "    }\n",
       "</style>\n",
       "<table border=\"1\" class=\"dataframe\">\n",
       "  <thead>\n",
       "    <tr style=\"text-align: right;\">\n",
       "      <th></th>\n",
       "      <th>epoch</th>\n",
       "      <th>variable</th>\n",
       "      <th>value</th>\n",
       "    </tr>\n",
       "  </thead>\n",
       "  <tbody>\n",
       "    <tr>\n",
       "      <th>0</th>\n",
       "      <td>0</td>\n",
       "      <td>Train Loss</td>\n",
       "      <td>0.704626</td>\n",
       "    </tr>\n",
       "    <tr>\n",
       "      <th>1</th>\n",
       "      <td>1</td>\n",
       "      <td>Train Loss</td>\n",
       "      <td>0.652187</td>\n",
       "    </tr>\n",
       "    <tr>\n",
       "      <th>2</th>\n",
       "      <td>0</td>\n",
       "      <td>Valid Loss</td>\n",
       "      <td>0.726616</td>\n",
       "    </tr>\n",
       "    <tr>\n",
       "      <th>3</th>\n",
       "      <td>1</td>\n",
       "      <td>Valid Loss</td>\n",
       "      <td>0.703858</td>\n",
       "    </tr>\n",
       "  </tbody>\n",
       "</table>\n",
       "</div>"
      ],
      "text/plain": [
       "   epoch    variable     value\n",
       "0      0  Train Loss  0.704626\n",
       "1      1  Train Loss  0.652187\n",
       "2      0  Valid Loss  0.726616\n",
       "3      1  Valid Loss  0.703858"
      ]
     },
     "execution_count": 35,
     "metadata": {},
     "output_type": "execute_result"
    }
   ],
   "source": [
    "df= pd.DataFrame({'epoch': range(0, epochs), 'Train Loss': loss_values, 'Valid Loss': loss_values_valid})\n",
    "df = pd.melt(df, id_vars=['epoch'], value_vars=['Train Loss', 'Valid Loss'])\n",
    "df"
   ]
  },
  {
   "cell_type": "code",
   "execution_count": 36,
   "metadata": {
    "execution": {
     "iopub.execute_input": "2021-05-18T13:29:46.920553Z",
     "iopub.status.busy": "2021-05-18T13:29:46.919912Z",
     "iopub.status.idle": "2021-05-18T13:29:49.073182Z",
     "shell.execute_reply": "2021-05-18T13:29:49.072733Z"
    },
    "papermill": {
     "duration": 2.222719,
     "end_time": "2021-05-18T13:29:49.073289",
     "exception": false,
     "start_time": "2021-05-18T13:29:46.850570",
     "status": "completed"
    },
    "tags": []
   },
   "outputs": [
    {
     "data": {
      "text/html": [
       "        <script type=\"text/javascript\">\n",
       "        window.PlotlyConfig = {MathJaxConfig: 'local'};\n",
       "        if (window.MathJax) {MathJax.Hub.Config({SVG: {font: \"STIX-Web\"}});}\n",
       "        if (typeof require !== 'undefined') {\n",
       "        require.undef(\"plotly\");\n",
       "        requirejs.config({\n",
       "            paths: {\n",
       "                'plotly': ['https://cdn.plot.ly/plotly-latest.min']\n",
       "            }\n",
       "        });\n",
       "        require(['plotly'], function(Plotly) {\n",
       "            window._Plotly = Plotly;\n",
       "        });\n",
       "        }\n",
       "        </script>\n",
       "        "
      ]
     },
     "metadata": {},
     "output_type": "display_data"
    },
    {
     "data": {
      "text/html": [
       "<div>                            <div id=\"b1d4c2c2-1a48-425b-8cef-6803b15ad2b9\" class=\"plotly-graph-div\" style=\"height:525px; width:100%;\"></div>            <script type=\"text/javascript\">                require([\"plotly\"], function(Plotly) {                    window.PLOTLYENV=window.PLOTLYENV || {};                                    if (document.getElementById(\"b1d4c2c2-1a48-425b-8cef-6803b15ad2b9\")) {                    Plotly.newPlot(                        \"b1d4c2c2-1a48-425b-8cef-6803b15ad2b9\",                        [{\"hovertemplate\": \"variable=Train Loss<br>epoch=%{x}<br>value=%{y}<extra></extra>\", \"legendgroup\": \"Train Loss\", \"line\": {\"color\": \"#636efa\", \"dash\": \"solid\"}, \"mode\": \"lines\", \"name\": \"Train Loss\", \"orientation\": \"v\", \"showlegend\": true, \"type\": \"scatter\", \"x\": [0, 1], \"xaxis\": \"x\", \"y\": [0.7046255372008499, 0.6521873352478962], \"yaxis\": \"y\"}, {\"hovertemplate\": \"variable=Valid Loss<br>epoch=%{x}<br>value=%{y}<extra></extra>\", \"legendgroup\": \"Valid Loss\", \"line\": {\"color\": \"#EF553B\", \"dash\": \"solid\"}, \"mode\": \"lines\", \"name\": \"Valid Loss\", \"orientation\": \"v\", \"showlegend\": true, \"type\": \"scatter\", \"x\": [0, 1], \"xaxis\": \"x\", \"y\": [0.7266159120358919, 0.7038583504526239], \"yaxis\": \"y\"}],                        {\"legend\": {\"title\": {\"text\": \"variable\"}, \"tracegroupgap\": 0}, \"margin\": {\"t\": 60}, \"template\": {\"data\": {\"bar\": [{\"error_x\": {\"color\": \"#2a3f5f\"}, \"error_y\": {\"color\": \"#2a3f5f\"}, \"marker\": {\"line\": {\"color\": \"#E5ECF6\", \"width\": 0.5}}, \"type\": \"bar\"}], \"barpolar\": [{\"marker\": {\"line\": {\"color\": \"#E5ECF6\", \"width\": 0.5}}, \"type\": \"barpolar\"}], \"carpet\": [{\"aaxis\": {\"endlinecolor\": \"#2a3f5f\", \"gridcolor\": \"white\", \"linecolor\": \"white\", \"minorgridcolor\": \"white\", \"startlinecolor\": \"#2a3f5f\"}, \"baxis\": {\"endlinecolor\": \"#2a3f5f\", \"gridcolor\": \"white\", \"linecolor\": \"white\", \"minorgridcolor\": \"white\", \"startlinecolor\": \"#2a3f5f\"}, \"type\": \"carpet\"}], \"choropleth\": [{\"colorbar\": {\"outlinewidth\": 0, \"ticks\": \"\"}, \"type\": \"choropleth\"}], \"contour\": [{\"colorbar\": {\"outlinewidth\": 0, \"ticks\": \"\"}, \"colorscale\": [[0.0, \"#0d0887\"], [0.1111111111111111, \"#46039f\"], [0.2222222222222222, \"#7201a8\"], [0.3333333333333333, \"#9c179e\"], [0.4444444444444444, \"#bd3786\"], [0.5555555555555556, \"#d8576b\"], [0.6666666666666666, \"#ed7953\"], [0.7777777777777778, \"#fb9f3a\"], [0.8888888888888888, \"#fdca26\"], [1.0, \"#f0f921\"]], \"type\": \"contour\"}], \"contourcarpet\": [{\"colorbar\": {\"outlinewidth\": 0, \"ticks\": \"\"}, \"type\": \"contourcarpet\"}], \"heatmap\": [{\"colorbar\": {\"outlinewidth\": 0, \"ticks\": \"\"}, \"colorscale\": [[0.0, \"#0d0887\"], [0.1111111111111111, \"#46039f\"], [0.2222222222222222, \"#7201a8\"], [0.3333333333333333, \"#9c179e\"], [0.4444444444444444, \"#bd3786\"], [0.5555555555555556, \"#d8576b\"], [0.6666666666666666, \"#ed7953\"], [0.7777777777777778, \"#fb9f3a\"], [0.8888888888888888, \"#fdca26\"], [1.0, \"#f0f921\"]], \"type\": \"heatmap\"}], \"heatmapgl\": [{\"colorbar\": {\"outlinewidth\": 0, \"ticks\": \"\"}, \"colorscale\": [[0.0, \"#0d0887\"], [0.1111111111111111, \"#46039f\"], [0.2222222222222222, \"#7201a8\"], [0.3333333333333333, \"#9c179e\"], [0.4444444444444444, \"#bd3786\"], [0.5555555555555556, \"#d8576b\"], [0.6666666666666666, \"#ed7953\"], [0.7777777777777778, \"#fb9f3a\"], [0.8888888888888888, \"#fdca26\"], [1.0, \"#f0f921\"]], \"type\": \"heatmapgl\"}], \"histogram\": [{\"marker\": {\"colorbar\": {\"outlinewidth\": 0, \"ticks\": \"\"}}, \"type\": \"histogram\"}], \"histogram2d\": [{\"colorbar\": {\"outlinewidth\": 0, \"ticks\": \"\"}, \"colorscale\": [[0.0, \"#0d0887\"], [0.1111111111111111, \"#46039f\"], [0.2222222222222222, \"#7201a8\"], [0.3333333333333333, \"#9c179e\"], [0.4444444444444444, \"#bd3786\"], [0.5555555555555556, \"#d8576b\"], [0.6666666666666666, \"#ed7953\"], [0.7777777777777778, \"#fb9f3a\"], [0.8888888888888888, \"#fdca26\"], [1.0, \"#f0f921\"]], \"type\": \"histogram2d\"}], \"histogram2dcontour\": [{\"colorbar\": {\"outlinewidth\": 0, \"ticks\": \"\"}, \"colorscale\": [[0.0, \"#0d0887\"], [0.1111111111111111, \"#46039f\"], [0.2222222222222222, \"#7201a8\"], [0.3333333333333333, \"#9c179e\"], [0.4444444444444444, \"#bd3786\"], [0.5555555555555556, \"#d8576b\"], [0.6666666666666666, \"#ed7953\"], [0.7777777777777778, \"#fb9f3a\"], [0.8888888888888888, \"#fdca26\"], [1.0, \"#f0f921\"]], \"type\": \"histogram2dcontour\"}], \"mesh3d\": [{\"colorbar\": {\"outlinewidth\": 0, \"ticks\": \"\"}, \"type\": \"mesh3d\"}], \"parcoords\": [{\"line\": {\"colorbar\": {\"outlinewidth\": 0, \"ticks\": \"\"}}, \"type\": \"parcoords\"}], \"pie\": [{\"automargin\": true, \"type\": \"pie\"}], \"scatter\": [{\"marker\": {\"colorbar\": {\"outlinewidth\": 0, \"ticks\": \"\"}}, \"type\": \"scatter\"}], \"scatter3d\": [{\"line\": {\"colorbar\": {\"outlinewidth\": 0, \"ticks\": \"\"}}, \"marker\": {\"colorbar\": {\"outlinewidth\": 0, \"ticks\": \"\"}}, \"type\": \"scatter3d\"}], \"scattercarpet\": [{\"marker\": {\"colorbar\": {\"outlinewidth\": 0, \"ticks\": \"\"}}, \"type\": \"scattercarpet\"}], \"scattergeo\": [{\"marker\": {\"colorbar\": {\"outlinewidth\": 0, \"ticks\": \"\"}}, \"type\": \"scattergeo\"}], \"scattergl\": [{\"marker\": {\"colorbar\": {\"outlinewidth\": 0, \"ticks\": \"\"}}, \"type\": \"scattergl\"}], \"scattermapbox\": [{\"marker\": {\"colorbar\": {\"outlinewidth\": 0, \"ticks\": \"\"}}, \"type\": \"scattermapbox\"}], \"scatterpolar\": [{\"marker\": {\"colorbar\": {\"outlinewidth\": 0, \"ticks\": \"\"}}, \"type\": \"scatterpolar\"}], \"scatterpolargl\": [{\"marker\": {\"colorbar\": {\"outlinewidth\": 0, \"ticks\": \"\"}}, \"type\": \"scatterpolargl\"}], \"scatterternary\": [{\"marker\": {\"colorbar\": {\"outlinewidth\": 0, \"ticks\": \"\"}}, \"type\": \"scatterternary\"}], \"surface\": [{\"colorbar\": {\"outlinewidth\": 0, \"ticks\": \"\"}, \"colorscale\": [[0.0, \"#0d0887\"], [0.1111111111111111, \"#46039f\"], [0.2222222222222222, \"#7201a8\"], [0.3333333333333333, \"#9c179e\"], [0.4444444444444444, \"#bd3786\"], [0.5555555555555556, \"#d8576b\"], [0.6666666666666666, \"#ed7953\"], [0.7777777777777778, \"#fb9f3a\"], [0.8888888888888888, \"#fdca26\"], [1.0, \"#f0f921\"]], \"type\": \"surface\"}], \"table\": [{\"cells\": {\"fill\": {\"color\": \"#EBF0F8\"}, \"line\": {\"color\": \"white\"}}, \"header\": {\"fill\": {\"color\": \"#C8D4E3\"}, \"line\": {\"color\": \"white\"}}, \"type\": \"table\"}]}, \"layout\": {\"annotationdefaults\": {\"arrowcolor\": \"#2a3f5f\", \"arrowhead\": 0, \"arrowwidth\": 1}, \"autotypenumbers\": \"strict\", \"coloraxis\": {\"colorbar\": {\"outlinewidth\": 0, \"ticks\": \"\"}}, \"colorscale\": {\"diverging\": [[0, \"#8e0152\"], [0.1, \"#c51b7d\"], [0.2, \"#de77ae\"], [0.3, \"#f1b6da\"], [0.4, \"#fde0ef\"], [0.5, \"#f7f7f7\"], [0.6, \"#e6f5d0\"], [0.7, \"#b8e186\"], [0.8, \"#7fbc41\"], [0.9, \"#4d9221\"], [1, \"#276419\"]], \"sequential\": [[0.0, \"#0d0887\"], [0.1111111111111111, \"#46039f\"], [0.2222222222222222, \"#7201a8\"], [0.3333333333333333, \"#9c179e\"], [0.4444444444444444, \"#bd3786\"], [0.5555555555555556, \"#d8576b\"], [0.6666666666666666, \"#ed7953\"], [0.7777777777777778, \"#fb9f3a\"], [0.8888888888888888, \"#fdca26\"], [1.0, \"#f0f921\"]], \"sequentialminus\": [[0.0, \"#0d0887\"], [0.1111111111111111, \"#46039f\"], [0.2222222222222222, \"#7201a8\"], [0.3333333333333333, \"#9c179e\"], [0.4444444444444444, \"#bd3786\"], [0.5555555555555556, \"#d8576b\"], [0.6666666666666666, \"#ed7953\"], [0.7777777777777778, \"#fb9f3a\"], [0.8888888888888888, \"#fdca26\"], [1.0, \"#f0f921\"]]}, \"colorway\": [\"#636efa\", \"#EF553B\", \"#00cc96\", \"#ab63fa\", \"#FFA15A\", \"#19d3f3\", \"#FF6692\", \"#B6E880\", \"#FF97FF\", \"#FECB52\"], \"font\": {\"color\": \"#2a3f5f\"}, \"geo\": {\"bgcolor\": \"white\", \"lakecolor\": \"white\", \"landcolor\": \"#E5ECF6\", \"showlakes\": true, \"showland\": true, \"subunitcolor\": \"white\"}, \"hoverlabel\": {\"align\": \"left\"}, \"hovermode\": \"closest\", \"mapbox\": {\"style\": \"light\"}, \"paper_bgcolor\": \"white\", \"plot_bgcolor\": \"#E5ECF6\", \"polar\": {\"angularaxis\": {\"gridcolor\": \"white\", \"linecolor\": \"white\", \"ticks\": \"\"}, \"bgcolor\": \"#E5ECF6\", \"radialaxis\": {\"gridcolor\": \"white\", \"linecolor\": \"white\", \"ticks\": \"\"}}, \"scene\": {\"xaxis\": {\"backgroundcolor\": \"#E5ECF6\", \"gridcolor\": \"white\", \"gridwidth\": 2, \"linecolor\": \"white\", \"showbackground\": true, \"ticks\": \"\", \"zerolinecolor\": \"white\"}, \"yaxis\": {\"backgroundcolor\": \"#E5ECF6\", \"gridcolor\": \"white\", \"gridwidth\": 2, \"linecolor\": \"white\", \"showbackground\": true, \"ticks\": \"\", \"zerolinecolor\": \"white\"}, \"zaxis\": {\"backgroundcolor\": \"#E5ECF6\", \"gridcolor\": \"white\", \"gridwidth\": 2, \"linecolor\": \"white\", \"showbackground\": true, \"ticks\": \"\", \"zerolinecolor\": \"white\"}}, \"shapedefaults\": {\"line\": {\"color\": \"#2a3f5f\"}}, \"ternary\": {\"aaxis\": {\"gridcolor\": \"white\", \"linecolor\": \"white\", \"ticks\": \"\"}, \"baxis\": {\"gridcolor\": \"white\", \"linecolor\": \"white\", \"ticks\": \"\"}, \"bgcolor\": \"#E5ECF6\", \"caxis\": {\"gridcolor\": \"white\", \"linecolor\": \"white\", \"ticks\": \"\"}}, \"title\": {\"x\": 0.05}, \"xaxis\": {\"automargin\": true, \"gridcolor\": \"white\", \"linecolor\": \"white\", \"ticks\": \"\", \"title\": {\"standoff\": 15}, \"zerolinecolor\": \"white\", \"zerolinewidth\": 2}, \"yaxis\": {\"automargin\": true, \"gridcolor\": \"white\", \"linecolor\": \"white\", \"ticks\": \"\", \"title\": {\"standoff\": 15}, \"zerolinecolor\": \"white\", \"zerolinewidth\": 2}}}, \"title\": {\"text\": \"Training loss of the Model\"}, \"xaxis\": {\"anchor\": \"y\", \"domain\": [0.0, 1.0], \"title\": {\"text\": \"Epoch\"}}, \"yaxis\": {\"anchor\": \"x\", \"domain\": [0.0, 1.0], \"title\": {\"text\": \"Loss\"}}},                        {\"responsive\": true}                    ).then(function(){\n",
       "                            \n",
       "var gd = document.getElementById('b1d4c2c2-1a48-425b-8cef-6803b15ad2b9');\n",
       "var x = new MutationObserver(function (mutations, observer) {{\n",
       "        var display = window.getComputedStyle(gd).display;\n",
       "        if (!display || display === 'none') {{\n",
       "            console.log([gd, 'removed!']);\n",
       "            Plotly.purge(gd);\n",
       "            observer.disconnect();\n",
       "        }}\n",
       "}});\n",
       "\n",
       "// Listen for the removal of the full notebook cells\n",
       "var notebookContainer = gd.closest('#notebook-container');\n",
       "if (notebookContainer) {{\n",
       "    x.observe(notebookContainer, {childList: true});\n",
       "}}\n",
       "\n",
       "// Listen for the clearing of the current output cell\n",
       "var outputEl = gd.closest('.output');\n",
       "if (outputEl) {{\n",
       "    x.observe(outputEl, {childList: true});\n",
       "}}\n",
       "\n",
       "                        })                };                });            </script>        </div>"
      ]
     },
     "metadata": {},
     "output_type": "display_data"
    }
   ],
   "source": [
    "import plotly.express as px\n",
    "\n",
    "fig = px.line(df, x='epoch', y='value', color = 'variable')\n",
    "fig.update_layout(title='Training loss of the Model',\n",
    "                   xaxis_title='Epoch',\n",
    "                   yaxis_title='Loss')\n",
    "fig.show()"
   ]
  },
  {
   "cell_type": "markdown",
   "metadata": {
    "papermill": {
     "duration": 0.068011,
     "end_time": "2021-05-18T13:29:49.209728",
     "exception": false,
     "start_time": "2021-05-18T13:29:49.141717",
     "status": "completed"
    },
    "tags": []
   },
   "source": [
    "### Extract Embeddings"
   ]
  },
  {
   "cell_type": "code",
   "execution_count": 37,
   "metadata": {
    "execution": {
     "iopub.execute_input": "2021-05-18T13:29:49.361346Z",
     "iopub.status.busy": "2021-05-18T13:29:49.359449Z",
     "iopub.status.idle": "2021-05-18T13:29:53.598704Z",
     "shell.execute_reply": "2021-05-18T13:29:53.598237Z"
    },
    "papermill": {
     "duration": 4.322813,
     "end_time": "2021-05-18T13:29:53.598812",
     "exception": false,
     "start_time": "2021-05-18T13:29:49.275999",
     "status": "completed"
    },
    "tags": []
   },
   "outputs": [
    {
     "name": "stdout",
     "output_type": "stream",
     "text": [
      "Extracting embeddinga for 779 train sentences...\n",
      "Extracting embeddinga for 299 validation sentences...\n"
     ]
    }
   ],
   "source": [
    "embeddings_tr, embeddings_vl = [], []\n",
    "# ========================================\n",
    "#               Train\n",
    "# ========================================\n",
    "# Extract embeddinga on train set\n",
    "print('Extracting embeddinga for {:,} train sentences...'.format(len(train_inputs)))\n",
    "# Put model in evaluation mode\n",
    "model.eval()\n",
    "# Tracking variables \n",
    "predictions_train , true_labels_train = [], []\n",
    "# Predict \n",
    "for batch in train_dataloader_sequential:\n",
    "    b_input_ids = batch[0].to(device)\n",
    "    b_input_mask = batch[1].to(device)\n",
    "    b_labels = batch[2].to(device)\n",
    "  \n",
    "  # Telling the model not to compute or store gradients, saving memory and \n",
    "  # speeding up prediction\n",
    "    with torch.no_grad():\n",
    "        # Forward pass, calculate logit predictions\n",
    "        outputs = model(b_input_ids, token_type_ids=None, \n",
    "                      attention_mask=b_input_mask, labels=b_labels)\n",
    "    logits = outputs[1]\n",
    "    # Embeddings extraction approach is to average the second to last hiden layer of each token producing a single 768 length vector\n",
    "    # https://mccormickml.com/2019/05/14/BERT-word-embeddings-tutorial/\n",
    "    hidden_state_tr = outputs[2]\n",
    "    token_vecs = hidden_state_tr[-2]\n",
    "    token_vecs_sentvecs = []\n",
    "    for token in token_vecs:\n",
    "        sentvecs = torch.mean(token, dim=0).detach().cpu().numpy()\n",
    "        token_vecs_sentvecs.append(sentvecs)\n",
    "    #features = hidden_state_tr[0][:,0,:].detach().cpu().numpy()\n",
    "    embeddings_tr.append([batch[3], token_vecs_sentvecs])\n",
    "    # Move logits and labels to CPU\n",
    "    logits = logits.detach().cpu().numpy()\n",
    "    label_ids = b_labels.to('cpu').numpy()\n",
    "\n",
    "    # Store predictions and true labels\n",
    "    predictions_train.append(logits)\n",
    "    true_labels_train.append(label_ids)\n",
    "# ========================================\n",
    "#               Validation\n",
    "# ========================================\n",
    "# Extract embeddinga on train set\n",
    "print('Extracting embeddinga for {:,} validation sentences...'.format(len(validation_inputs)))\n",
    "# Put model in evaluation mode\n",
    "model.eval()\n",
    "# Tracking variables \n",
    "predictions_valid, true_labels_valid = [], []\n",
    "# Predict \n",
    "for batch in validation_dataloader:\n",
    "    b_input_ids = batch[0].to(device)\n",
    "    b_input_mask = batch[1].to(device)\n",
    "    b_labels = batch[2].to(device)\n",
    "  \n",
    "  # Telling the model not to compute or store gradients, saving memory and \n",
    "  # speeding up prediction\n",
    "    with torch.no_grad():\n",
    "        # Forward pass, calculate logit predictions\n",
    "        outputs = model(b_input_ids, token_type_ids=None, \n",
    "                      attention_mask=b_input_mask, labels=b_labels)\n",
    "    logits = outputs[1]\n",
    "    # Embeddings extraction approach is to average the second to last hiden layer of each token producing a single 768 length vector\n",
    "    # https://mccormickml.com/2019/05/14/BERT-word-embeddings-tutorial/\n",
    "    hidden_state_vl = outputs[2]\n",
    "    token_vecs = hidden_state_vl[-2]\n",
    "    token_vecs_sentvecs = []\n",
    "    for token in token_vecs:\n",
    "        sentvecs = torch.mean(token, dim=0).detach().cpu().numpy()\n",
    "        token_vecs_sentvecs.append(sentvecs)\n",
    "    #features = hidden_state_vl[0][:,0,:].detach().cpu().numpy()\n",
    "    embeddings_vl.append([batch[3], token_vecs_sentvecs])\n",
    "    # Move logits and labels to CPU\n",
    "    logits = logits.detach().cpu().numpy()\n",
    "    label_ids = b_labels.to('cpu').numpy()\n",
    "\n",
    "    # Store predictions and true labels\n",
    "    predictions_valid.append(logits)\n",
    "    true_labels_valid.append(label_ids)"
   ]
  },
  {
   "cell_type": "markdown",
   "metadata": {
    "papermill": {
     "duration": 0.06648,
     "end_time": "2021-05-18T13:29:53.732970",
     "exception": false,
     "start_time": "2021-05-18T13:29:53.666490",
     "status": "completed"
    },
    "tags": []
   },
   "source": [
    "### Combine Embeddings with original DF and Output CM"
   ]
  },
  {
   "cell_type": "markdown",
   "metadata": {
    "papermill": {
     "duration": 0.066274,
     "end_time": "2021-05-18T13:29:53.865944",
     "exception": false,
     "start_time": "2021-05-18T13:29:53.799670",
     "status": "completed"
    },
    "tags": []
   },
   "source": [
    "Train"
   ]
  },
  {
   "cell_type": "code",
   "execution_count": 38,
   "metadata": {
    "execution": {
     "iopub.execute_input": "2021-05-18T13:29:54.023705Z",
     "iopub.status.busy": "2021-05-18T13:29:54.022885Z",
     "iopub.status.idle": "2021-05-18T13:29:54.231885Z",
     "shell.execute_reply": "2021-05-18T13:29:54.232289Z"
    },
    "papermill": {
     "duration": 0.298417,
     "end_time": "2021-05-18T13:29:54.232412",
     "exception": false,
     "start_time": "2021-05-18T13:29:53.933995",
     "status": "completed"
    },
    "tags": []
   },
   "outputs": [
    {
     "name": "stdout",
     "output_type": "stream",
     "text": [
      "Train Embeddings Extraction and Merge DONE\n"
     ]
    },
    {
     "data": {
      "text/html": [
       "<div>\n",
       "<style scoped>\n",
       "    .dataframe tbody tr th:only-of-type {\n",
       "        vertical-align: middle;\n",
       "    }\n",
       "\n",
       "    .dataframe tbody tr th {\n",
       "        vertical-align: top;\n",
       "    }\n",
       "\n",
       "    .dataframe thead th {\n",
       "        text-align: right;\n",
       "    }\n",
       "</style>\n",
       "<table border=\"1\" class=\"dataframe\">\n",
       "  <thead>\n",
       "    <tr style=\"text-align: right;\">\n",
       "      <th></th>\n",
       "      <th>id</th>\n",
       "      <th>user.id</th>\n",
       "      <th>suspended</th>\n",
       "      <th>0</th>\n",
       "      <th>1</th>\n",
       "      <th>2</th>\n",
       "      <th>3</th>\n",
       "      <th>4</th>\n",
       "      <th>5</th>\n",
       "      <th>6</th>\n",
       "      <th>...</th>\n",
       "      <th>758</th>\n",
       "      <th>759</th>\n",
       "      <th>760</th>\n",
       "      <th>761</th>\n",
       "      <th>762</th>\n",
       "      <th>763</th>\n",
       "      <th>764</th>\n",
       "      <th>765</th>\n",
       "      <th>766</th>\n",
       "      <th>767</th>\n",
       "    </tr>\n",
       "  </thead>\n",
       "  <tbody>\n",
       "    <tr>\n",
       "      <th>0</th>\n",
       "      <td>5</td>\n",
       "      <td>1.278150e+18</td>\n",
       "      <td>1</td>\n",
       "      <td>-1.572396</td>\n",
       "      <td>-0.634576</td>\n",
       "      <td>1.174867</td>\n",
       "      <td>-0.048935</td>\n",
       "      <td>0.081602</td>\n",
       "      <td>0.535003</td>\n",
       "      <td>-0.117682</td>\n",
       "      <td>...</td>\n",
       "      <td>0.516845</td>\n",
       "      <td>-1.527266</td>\n",
       "      <td>-0.687279</td>\n",
       "      <td>-0.661387</td>\n",
       "      <td>0.864675</td>\n",
       "      <td>0.173432</td>\n",
       "      <td>-0.144345</td>\n",
       "      <td>1.643273</td>\n",
       "      <td>1.242721</td>\n",
       "      <td>-0.294159</td>\n",
       "    </tr>\n",
       "    <tr>\n",
       "      <th>1</th>\n",
       "      <td>6</td>\n",
       "      <td>1.278150e+18</td>\n",
       "      <td>1</td>\n",
       "      <td>-0.969124</td>\n",
       "      <td>-0.833403</td>\n",
       "      <td>1.181558</td>\n",
       "      <td>-0.301640</td>\n",
       "      <td>-0.095913</td>\n",
       "      <td>0.619743</td>\n",
       "      <td>-0.296146</td>\n",
       "      <td>...</td>\n",
       "      <td>0.869729</td>\n",
       "      <td>-1.425305</td>\n",
       "      <td>-1.197336</td>\n",
       "      <td>-0.447690</td>\n",
       "      <td>0.945741</td>\n",
       "      <td>-0.103781</td>\n",
       "      <td>-0.119438</td>\n",
       "      <td>1.160496</td>\n",
       "      <td>1.411028</td>\n",
       "      <td>-0.270652</td>\n",
       "    </tr>\n",
       "    <tr>\n",
       "      <th>2</th>\n",
       "      <td>7</td>\n",
       "      <td>1.278150e+18</td>\n",
       "      <td>1</td>\n",
       "      <td>-1.586534</td>\n",
       "      <td>-0.727951</td>\n",
       "      <td>1.232834</td>\n",
       "      <td>0.063705</td>\n",
       "      <td>0.241143</td>\n",
       "      <td>0.772042</td>\n",
       "      <td>-0.180138</td>\n",
       "      <td>...</td>\n",
       "      <td>0.603359</td>\n",
       "      <td>-1.391522</td>\n",
       "      <td>-1.218869</td>\n",
       "      <td>-0.470523</td>\n",
       "      <td>1.041498</td>\n",
       "      <td>0.203573</td>\n",
       "      <td>-0.122727</td>\n",
       "      <td>1.758685</td>\n",
       "      <td>1.291934</td>\n",
       "      <td>-0.367510</td>\n",
       "    </tr>\n",
       "    <tr>\n",
       "      <th>3</th>\n",
       "      <td>8</td>\n",
       "      <td>1.278150e+18</td>\n",
       "      <td>1</td>\n",
       "      <td>-1.577476</td>\n",
       "      <td>-0.567875</td>\n",
       "      <td>1.174011</td>\n",
       "      <td>-0.102063</td>\n",
       "      <td>0.093371</td>\n",
       "      <td>0.495389</td>\n",
       "      <td>-0.050959</td>\n",
       "      <td>...</td>\n",
       "      <td>0.511337</td>\n",
       "      <td>-1.483378</td>\n",
       "      <td>-0.756330</td>\n",
       "      <td>-0.602794</td>\n",
       "      <td>0.862790</td>\n",
       "      <td>0.112145</td>\n",
       "      <td>-0.085377</td>\n",
       "      <td>1.615208</td>\n",
       "      <td>1.252936</td>\n",
       "      <td>-0.311080</td>\n",
       "    </tr>\n",
       "    <tr>\n",
       "      <th>4</th>\n",
       "      <td>9</td>\n",
       "      <td>1.278150e+18</td>\n",
       "      <td>1</td>\n",
       "      <td>-1.549987</td>\n",
       "      <td>-0.716600</td>\n",
       "      <td>1.111795</td>\n",
       "      <td>-0.044805</td>\n",
       "      <td>0.368297</td>\n",
       "      <td>0.651083</td>\n",
       "      <td>-0.074754</td>\n",
       "      <td>...</td>\n",
       "      <td>0.251392</td>\n",
       "      <td>-1.445598</td>\n",
       "      <td>-0.787779</td>\n",
       "      <td>-0.566208</td>\n",
       "      <td>1.016740</td>\n",
       "      <td>0.177056</td>\n",
       "      <td>-0.149326</td>\n",
       "      <td>1.627643</td>\n",
       "      <td>1.215011</td>\n",
       "      <td>-0.388154</td>\n",
       "    </tr>\n",
       "  </tbody>\n",
       "</table>\n",
       "<p>5 rows × 771 columns</p>\n",
       "</div>"
      ],
      "text/plain": [
       "   id       user.id  suspended         0         1         2         3  \\\n",
       "0   5  1.278150e+18          1 -1.572396 -0.634576  1.174867 -0.048935   \n",
       "1   6  1.278150e+18          1 -0.969124 -0.833403  1.181558 -0.301640   \n",
       "2   7  1.278150e+18          1 -1.586534 -0.727951  1.232834  0.063705   \n",
       "3   8  1.278150e+18          1 -1.577476 -0.567875  1.174011 -0.102063   \n",
       "4   9  1.278150e+18          1 -1.549987 -0.716600  1.111795 -0.044805   \n",
       "\n",
       "          4         5         6  ...       758       759       760       761  \\\n",
       "0  0.081602  0.535003 -0.117682  ...  0.516845 -1.527266 -0.687279 -0.661387   \n",
       "1 -0.095913  0.619743 -0.296146  ...  0.869729 -1.425305 -1.197336 -0.447690   \n",
       "2  0.241143  0.772042 -0.180138  ...  0.603359 -1.391522 -1.218869 -0.470523   \n",
       "3  0.093371  0.495389 -0.050959  ...  0.511337 -1.483378 -0.756330 -0.602794   \n",
       "4  0.368297  0.651083 -0.074754  ...  0.251392 -1.445598 -0.787779 -0.566208   \n",
       "\n",
       "        762       763       764       765       766       767  \n",
       "0  0.864675  0.173432 -0.144345  1.643273  1.242721 -0.294159  \n",
       "1  0.945741 -0.103781 -0.119438  1.160496  1.411028 -0.270652  \n",
       "2  1.041498  0.203573 -0.122727  1.758685  1.291934 -0.367510  \n",
       "3  0.862790  0.112145 -0.085377  1.615208  1.252936 -0.311080  \n",
       "4  1.016740  0.177056 -0.149326  1.627643  1.215011 -0.388154  \n",
       "\n",
       "[5 rows x 771 columns]"
      ]
     },
     "execution_count": 38,
     "metadata": {},
     "output_type": "execute_result"
    }
   ],
   "source": [
    "# Get embeddings for train\n",
    "p = [group for group in embeddings_tr]\n",
    "\n",
    "b = [item for sublist in [[list(t) for t in zip(sublist[0], sublist[1])] for sublist in p] for item in sublist]\n",
    "df = pd.DataFrame(b, columns = ['id', 'embeddings'])  \n",
    "\n",
    "bert_embeddings_df_train = pd.concat([df['id'], df['embeddings'].apply(pd.Series)], axis = 1)\n",
    "bert_embeddings_df_train['id'] = bert_embeddings_df_train['id'].apply(lambda x: x.item())\n",
    "#bert_embeddings_df_train = pd.merge(df_train.drop(['text'], axis=1), bert_embeddings_df_train, left_on = [\"id\"], right_on = [\"id\"])\n",
    "bert_embeddings_df_train = pd.merge(df_train.drop(['text'], axis=1), bert_embeddings_df_train.drop(['id'], axis=1), left_index=True, right_index=True)\n",
    "print('Train Embeddings Extraction and Merge DONE')\n",
    "bert_embeddings_df_train.head()"
   ]
  },
  {
   "cell_type": "code",
   "execution_count": 39,
   "metadata": {
    "execution": {
     "iopub.execute_input": "2021-05-18T13:29:54.376088Z",
     "iopub.status.busy": "2021-05-18T13:29:54.375569Z",
     "iopub.status.idle": "2021-05-18T13:29:54.421532Z",
     "shell.execute_reply": "2021-05-18T13:29:54.420869Z"
    },
    "papermill": {
     "duration": 0.121687,
     "end_time": "2021-05-18T13:29:54.421667",
     "exception": false,
     "start_time": "2021-05-18T13:29:54.299980",
     "status": "completed"
    },
    "tags": []
   },
   "outputs": [
    {
     "name": "stdout",
     "output_type": "stream",
     "text": [
      "Calculating Matthews Corr. Coef. for each batch...\n"
     ]
    },
    {
     "name": "stderr",
     "output_type": "stream",
     "text": [
      "/opt/conda/lib/python3.7/site-packages/sklearn/metrics/_classification.py:846: RuntimeWarning:\n",
      "\n",
      "invalid value encountered in double_scalars\n",
      "\n"
     ]
    }
   ],
   "source": [
    "from sklearn.metrics import matthews_corrcoef\n",
    "matthews_set = []\n",
    "# Evaluate each test batch using Matthew's correlation coefficient\n",
    "print('Calculating Matthews Corr. Coef. for each batch...')\n",
    "# For each input batch...\n",
    "for i in range(len(true_labels_train)):\n",
    "  \n",
    "    # The predictions for this batch are a 2-column ndarray (one column for \"0\" \n",
    "    # and one column for \"1\"). Pick the label with the highest value and turn this\n",
    "    # in to a list of 0s and 1s.\n",
    "    pred_labels_i = np.argmax(predictions_train[i], axis=1).flatten()\n",
    "\n",
    "    # Calculate and store the coef for this batch.  \n",
    "    matthews = matthews_corrcoef(true_labels_train[i], pred_labels_i)                \n",
    "    matthews_set.append(matthews)"
   ]
  },
  {
   "cell_type": "code",
   "execution_count": 40,
   "metadata": {
    "execution": {
     "iopub.execute_input": "2021-05-18T13:29:54.576504Z",
     "iopub.status.busy": "2021-05-18T13:29:54.575717Z",
     "iopub.status.idle": "2021-05-18T13:29:54.584526Z",
     "shell.execute_reply": "2021-05-18T13:29:54.583823Z"
    },
    "papermill": {
     "duration": 0.087746,
     "end_time": "2021-05-18T13:29:54.584657",
     "exception": false,
     "start_time": "2021-05-18T13:29:54.496911",
     "status": "completed"
    },
    "tags": []
   },
   "outputs": [
    {
     "name": "stdout",
     "output_type": "stream",
     "text": [
      "MCC: 0.352\n"
     ]
    }
   ],
   "source": [
    "# Combine the predictions for each batch into a single list of 0s and 1s.\n",
    "flat_predictions = [item for sublist in predictions_train for item in sublist]\n",
    "flat_predictions = np.argmax(flat_predictions, axis=1).flatten()\n",
    "# Combine the correct labels for each batch into a single list.\n",
    "flat_true_labels = [item for sublist in true_labels_train for item in sublist]\n",
    "# Calculate the MCC\n",
    "mcc = matthews_corrcoef(flat_true_labels, flat_predictions)\n",
    "print('MCC: %.3f' % mcc)"
   ]
  },
  {
   "cell_type": "code",
   "execution_count": 41,
   "metadata": {
    "execution": {
     "iopub.execute_input": "2021-05-18T13:29:54.729358Z",
     "iopub.status.busy": "2021-05-18T13:29:54.728769Z",
     "iopub.status.idle": "2021-05-18T13:29:54.738678Z",
     "shell.execute_reply": "2021-05-18T13:29:54.739241Z"
    },
    "papermill": {
     "duration": 0.083711,
     "end_time": "2021-05-18T13:29:54.739390",
     "exception": false,
     "start_time": "2021-05-18T13:29:54.655679",
     "status": "completed"
    },
    "tags": []
   },
   "outputs": [
    {
     "name": "stdout",
     "output_type": "stream",
     "text": [
      "              precision    recall  f1-score   support\n",
      "\n",
      "           0       0.72      0.55      0.62       382\n",
      "           1       0.65      0.79      0.71       397\n",
      "\n",
      "    accuracy                           0.67       779\n",
      "   macro avg       0.68      0.67      0.67       779\n",
      "weighted avg       0.68      0.67      0.67       779\n",
      "\n"
     ]
    }
   ],
   "source": [
    "from sklearn.metrics import classification_report,confusion_matrix\n",
    "report = classification_report(flat_true_labels, flat_predictions)\n",
    "print(report)"
   ]
  },
  {
   "cell_type": "code",
   "execution_count": 42,
   "metadata": {
    "execution": {
     "iopub.execute_input": "2021-05-18T13:29:54.885829Z",
     "iopub.status.busy": "2021-05-18T13:29:54.885323Z",
     "iopub.status.idle": "2021-05-18T13:29:54.889319Z",
     "shell.execute_reply": "2021-05-18T13:29:54.888809Z"
    },
    "papermill": {
     "duration": 0.08037,
     "end_time": "2021-05-18T13:29:54.889402",
     "exception": false,
     "start_time": "2021-05-18T13:29:54.809032",
     "status": "completed"
    },
    "tags": []
   },
   "outputs": [],
   "source": [
    "def plot_roc_curve(fpr, tpr, label=None):\n",
    "    plt.plot(fpr, tpr, linewidth=2, label=label)\n",
    "    plt.plot([0, 1], [0, 1], 'k--') # dashed diagonal\n",
    "    plt.axis([0, 1, 0, 1])                                    # Not shown in the book\n",
    "    plt.xlabel('False Positive Rate (Fall-Out)', fontsize=16) # Not shown\n",
    "    plt.ylabel('True Positive Rate (Recall)', fontsize=16)    # Not shown\n",
    "    plt.grid(True)  "
   ]
  },
  {
   "cell_type": "code",
   "execution_count": 43,
   "metadata": {
    "execution": {
     "iopub.execute_input": "2021-05-18T13:29:55.033368Z",
     "iopub.status.busy": "2021-05-18T13:29:55.032716Z",
     "iopub.status.idle": "2021-05-18T13:29:55.188541Z",
     "shell.execute_reply": "2021-05-18T13:29:55.188946Z"
    },
    "papermill": {
     "duration": 0.230972,
     "end_time": "2021-05-18T13:29:55.189073",
     "exception": false,
     "start_time": "2021-05-18T13:29:54.958101",
     "status": "completed"
    },
    "tags": []
   },
   "outputs": [
    {
     "data": {
      "image/png": "[encoded data removed]",
      "text/plain": [
       "<Figure size 576x432 with 1 Axes>"
      ]
     },
     "metadata": {
      "needs_background": "light"
     },
     "output_type": "display_data"
    }
   ],
   "source": [
    "fpr, tpr, thresholds = roc_curve(flat_true_labels, flat_predictions)\n",
    "plt.figure(figsize=(8, 6))                         # Not shown\n",
    "plot_roc_curve(fpr, tpr)\n",
    "plt.plot([4.837e-3, 4.837e-3], [0., 0.4368], \"r:\") # Not shown\n",
    "plt.plot([0.0, 4.837e-3], [0.4368, 0.4368], \"r:\")  # Not shown\n",
    "plt.plot([4.837e-3], [0.4368], \"ro\")               # Not shown\n",
    "plt.show()"
   ]
  },
  {
   "cell_type": "code",
   "execution_count": 44,
   "metadata": {
    "execution": {
     "iopub.execute_input": "2021-05-18T13:29:55.337569Z",
     "iopub.status.busy": "2021-05-18T13:29:55.336742Z",
     "iopub.status.idle": "2021-05-18T13:29:55.342796Z",
     "shell.execute_reply": "2021-05-18T13:29:55.342277Z"
    },
    "papermill": {
     "duration": 0.080358,
     "end_time": "2021-05-18T13:29:55.342882",
     "exception": false,
     "start_time": "2021-05-18T13:29:55.262524",
     "status": "completed"
    },
    "tags": []
   },
   "outputs": [
    {
     "data": {
      "text/plain": [
       "0.6702856502301291"
      ]
     },
     "execution_count": 44,
     "metadata": {},
     "output_type": "execute_result"
    }
   ],
   "source": [
    "roc_auc_score(flat_true_labels, flat_predictions)"
   ]
  },
  {
   "cell_type": "markdown",
   "metadata": {
    "papermill": {
     "duration": 0.069833,
     "end_time": "2021-05-18T13:29:55.482986",
     "exception": false,
     "start_time": "2021-05-18T13:29:55.413153",
     "status": "completed"
    },
    "tags": []
   },
   "source": [
    "Valid"
   ]
  },
  {
   "cell_type": "code",
   "execution_count": 45,
   "metadata": {
    "execution": {
     "iopub.execute_input": "2021-05-18T13:29:55.700562Z",
     "iopub.status.busy": "2021-05-18T13:29:55.699610Z",
     "iopub.status.idle": "2021-05-18T13:29:55.870546Z",
     "shell.execute_reply": "2021-05-18T13:29:55.871190Z"
    },
    "papermill": {
     "duration": 0.297773,
     "end_time": "2021-05-18T13:29:55.871355",
     "exception": false,
     "start_time": "2021-05-18T13:29:55.573582",
     "status": "completed"
    },
    "tags": []
   },
   "outputs": [
    {
     "name": "stdout",
     "output_type": "stream",
     "text": [
      "Valid Embeddings Extraction and Merge DONE.\n"
     ]
    },
    {
     "data": {
      "text/html": [
       "<div>\n",
       "<style scoped>\n",
       "    .dataframe tbody tr th:only-of-type {\n",
       "        vertical-align: middle;\n",
       "    }\n",
       "\n",
       "    .dataframe tbody tr th {\n",
       "        vertical-align: top;\n",
       "    }\n",
       "\n",
       "    .dataframe thead th {\n",
       "        text-align: right;\n",
       "    }\n",
       "</style>\n",
       "<table border=\"1\" class=\"dataframe\">\n",
       "  <thead>\n",
       "    <tr style=\"text-align: right;\">\n",
       "      <th></th>\n",
       "      <th>id</th>\n",
       "      <th>user.id</th>\n",
       "      <th>suspended</th>\n",
       "      <th>0</th>\n",
       "      <th>1</th>\n",
       "      <th>2</th>\n",
       "      <th>3</th>\n",
       "      <th>4</th>\n",
       "      <th>5</th>\n",
       "      <th>6</th>\n",
       "      <th>...</th>\n",
       "      <th>758</th>\n",
       "      <th>759</th>\n",
       "      <th>760</th>\n",
       "      <th>761</th>\n",
       "      <th>762</th>\n",
       "      <th>763</th>\n",
       "      <th>764</th>\n",
       "      <th>765</th>\n",
       "      <th>766</th>\n",
       "      <th>767</th>\n",
       "    </tr>\n",
       "  </thead>\n",
       "  <tbody>\n",
       "    <tr>\n",
       "      <th>0</th>\n",
       "      <td>0</td>\n",
       "      <td>1.278120e+18</td>\n",
       "      <td>1</td>\n",
       "      <td>0.034582</td>\n",
       "      <td>-0.587018</td>\n",
       "      <td>0.807904</td>\n",
       "      <td>-0.421273</td>\n",
       "      <td>-0.361779</td>\n",
       "      <td>0.338901</td>\n",
       "      <td>-0.559416</td>\n",
       "      <td>...</td>\n",
       "      <td>1.168621</td>\n",
       "      <td>-1.183697</td>\n",
       "      <td>-0.628845</td>\n",
       "      <td>-0.418370</td>\n",
       "      <td>1.078760</td>\n",
       "      <td>0.108843</td>\n",
       "      <td>0.076179</td>\n",
       "      <td>1.197818</td>\n",
       "      <td>1.152258</td>\n",
       "      <td>0.249260</td>\n",
       "    </tr>\n",
       "    <tr>\n",
       "      <th>1</th>\n",
       "      <td>1</td>\n",
       "      <td>1.278120e+18</td>\n",
       "      <td>1</td>\n",
       "      <td>-0.210439</td>\n",
       "      <td>-0.425905</td>\n",
       "      <td>0.974764</td>\n",
       "      <td>-0.318658</td>\n",
       "      <td>0.041200</td>\n",
       "      <td>0.405688</td>\n",
       "      <td>-0.263874</td>\n",
       "      <td>...</td>\n",
       "      <td>0.552325</td>\n",
       "      <td>-1.324264</td>\n",
       "      <td>-0.791386</td>\n",
       "      <td>-0.554099</td>\n",
       "      <td>0.877022</td>\n",
       "      <td>-0.179070</td>\n",
       "      <td>0.074093</td>\n",
       "      <td>0.839211</td>\n",
       "      <td>1.319907</td>\n",
       "      <td>-0.174788</td>\n",
       "    </tr>\n",
       "    <tr>\n",
       "      <th>2</th>\n",
       "      <td>2</td>\n",
       "      <td>1.278120e+18</td>\n",
       "      <td>1</td>\n",
       "      <td>-0.108126</td>\n",
       "      <td>-0.575125</td>\n",
       "      <td>0.793703</td>\n",
       "      <td>-0.637077</td>\n",
       "      <td>0.000138</td>\n",
       "      <td>0.451066</td>\n",
       "      <td>-0.477140</td>\n",
       "      <td>...</td>\n",
       "      <td>0.790169</td>\n",
       "      <td>-1.257832</td>\n",
       "      <td>-0.723883</td>\n",
       "      <td>-0.482833</td>\n",
       "      <td>0.987766</td>\n",
       "      <td>0.132268</td>\n",
       "      <td>0.105739</td>\n",
       "      <td>1.013106</td>\n",
       "      <td>1.082492</td>\n",
       "      <td>0.069052</td>\n",
       "    </tr>\n",
       "    <tr>\n",
       "      <th>3</th>\n",
       "      <td>3</td>\n",
       "      <td>1.278120e+18</td>\n",
       "      <td>1</td>\n",
       "      <td>0.042411</td>\n",
       "      <td>-0.388160</td>\n",
       "      <td>0.994029</td>\n",
       "      <td>-0.728309</td>\n",
       "      <td>-0.281518</td>\n",
       "      <td>0.498121</td>\n",
       "      <td>-0.976756</td>\n",
       "      <td>...</td>\n",
       "      <td>1.337340</td>\n",
       "      <td>-1.307180</td>\n",
       "      <td>-1.035251</td>\n",
       "      <td>-0.605166</td>\n",
       "      <td>1.477043</td>\n",
       "      <td>-0.094649</td>\n",
       "      <td>0.274949</td>\n",
       "      <td>1.004635</td>\n",
       "      <td>1.219642</td>\n",
       "      <td>0.073424</td>\n",
       "    </tr>\n",
       "    <tr>\n",
       "      <th>4</th>\n",
       "      <td>4</td>\n",
       "      <td>1.278120e+18</td>\n",
       "      <td>1</td>\n",
       "      <td>-0.220679</td>\n",
       "      <td>-0.450679</td>\n",
       "      <td>0.968435</td>\n",
       "      <td>-0.358100</td>\n",
       "      <td>-0.240922</td>\n",
       "      <td>0.309520</td>\n",
       "      <td>-0.498025</td>\n",
       "      <td>...</td>\n",
       "      <td>0.793178</td>\n",
       "      <td>-1.061984</td>\n",
       "      <td>-0.892418</td>\n",
       "      <td>-0.442938</td>\n",
       "      <td>1.107270</td>\n",
       "      <td>-0.335130</td>\n",
       "      <td>-0.284838</td>\n",
       "      <td>0.973664</td>\n",
       "      <td>1.351435</td>\n",
       "      <td>0.084017</td>\n",
       "    </tr>\n",
       "  </tbody>\n",
       "</table>\n",
       "<p>5 rows × 771 columns</p>\n",
       "</div>"
      ],
      "text/plain": [
       "   id       user.id  suspended         0         1         2         3  \\\n",
       "0   0  1.278120e+18          1  0.034582 -0.587018  0.807904 -0.421273   \n",
       "1   1  1.278120e+18          1 -0.210439 -0.425905  0.974764 -0.318658   \n",
       "2   2  1.278120e+18          1 -0.108126 -0.575125  0.793703 -0.637077   \n",
       "3   3  1.278120e+18          1  0.042411 -0.388160  0.994029 -0.728309   \n",
       "4   4  1.278120e+18          1 -0.220679 -0.450679  0.968435 -0.358100   \n",
       "\n",
       "          4         5         6  ...       758       759       760       761  \\\n",
       "0 -0.361779  0.338901 -0.559416  ...  1.168621 -1.183697 -0.628845 -0.418370   \n",
       "1  0.041200  0.405688 -0.263874  ...  0.552325 -1.324264 -0.791386 -0.554099   \n",
       "2  0.000138  0.451066 -0.477140  ...  0.790169 -1.257832 -0.723883 -0.482833   \n",
       "3 -0.281518  0.498121 -0.976756  ...  1.337340 -1.307180 -1.035251 -0.605166   \n",
       "4 -0.240922  0.309520 -0.498025  ...  0.793178 -1.061984 -0.892418 -0.442938   \n",
       "\n",
       "        762       763       764       765       766       767  \n",
       "0  1.078760  0.108843  0.076179  1.197818  1.152258  0.249260  \n",
       "1  0.877022 -0.179070  0.074093  0.839211  1.319907 -0.174788  \n",
       "2  0.987766  0.132268  0.105739  1.013106  1.082492  0.069052  \n",
       "3  1.477043 -0.094649  0.274949  1.004635  1.219642  0.073424  \n",
       "4  1.107270 -0.335130 -0.284838  0.973664  1.351435  0.084017  \n",
       "\n",
       "[5 rows x 771 columns]"
      ]
     },
     "execution_count": 45,
     "metadata": {},
     "output_type": "execute_result"
    }
   ],
   "source": [
    "# Get embeddings for valid\n",
    "p = [group for group in embeddings_vl]\n",
    "\n",
    "b = [item for sublist in [[list(t) for t in zip(sublist[0], sublist[1])] for sublist in p] for item in sublist]\n",
    "df = pd.DataFrame(b, columns = ['id', 'embeddings'])  \n",
    "\n",
    "bert_embeddings_df_valid = pd.concat([df['id'], df['embeddings'].apply(pd.Series)], axis = 1)\n",
    "bert_embeddings_df_valid['id'] = bert_embeddings_df_valid['id'].apply(lambda x: x.item())\n",
    "#bert_embeddings_df_valid = pd.merge(df_valid.drop(['text'], axis=1), bert_embeddings_df_valid, left_on = [\"id\"], right_on = [\"id\"])\n",
    "bert_embeddings_df_valid = pd.merge(df_valid.drop(['text'], axis=1), bert_embeddings_df_valid.drop(['id'], axis=1), left_index=True, right_index=True)\n",
    "print('Valid Embeddings Extraction and Merge DONE.')\n",
    "bert_embeddings_df_valid.head()"
   ]
  },
  {
   "cell_type": "code",
   "execution_count": 46,
   "metadata": {
    "execution": {
     "iopub.execute_input": "2021-05-18T13:29:56.095768Z",
     "iopub.status.busy": "2021-05-18T13:29:56.094916Z",
     "iopub.status.idle": "2021-05-18T13:29:56.113991Z",
     "shell.execute_reply": "2021-05-18T13:29:56.113558Z"
    },
    "papermill": {
     "duration": 0.125492,
     "end_time": "2021-05-18T13:29:56.114093",
     "exception": false,
     "start_time": "2021-05-18T13:29:55.988601",
     "status": "completed"
    },
    "tags": []
   },
   "outputs": [
    {
     "name": "stdout",
     "output_type": "stream",
     "text": [
      "Calculating Matthews Corr. Coef. for each batch...\n"
     ]
    },
    {
     "name": "stderr",
     "output_type": "stream",
     "text": [
      "/opt/conda/lib/python3.7/site-packages/sklearn/metrics/_classification.py:846: RuntimeWarning:\n",
      "\n",
      "invalid value encountered in double_scalars\n",
      "\n"
     ]
    }
   ],
   "source": [
    "from sklearn.metrics import matthews_corrcoef\n",
    "matthews_set = []\n",
    "# Evaluate each test batch using Matthew's correlation coefficient\n",
    "print('Calculating Matthews Corr. Coef. for each batch...')\n",
    "# For each input batch...\n",
    "for i in range(len(true_labels_valid)):\n",
    "  \n",
    "    # The predictions for this batch are a 2-column ndarray (one column for \"0\" \n",
    "    # and one column for \"1\"). Pick the label with the highest value and turn this\n",
    "    # in to a list of 0s and 1s.\n",
    "    pred_labels_i = np.argmax(predictions_valid[i], axis=1).flatten()\n",
    "\n",
    "    # Calculate and store the coef for this batch.  \n",
    "    matthews = matthews_corrcoef(true_labels_valid[i], pred_labels_i)                \n",
    "    matthews_set.append(matthews)"
   ]
  },
  {
   "cell_type": "code",
   "execution_count": 47,
   "metadata": {
    "execution": {
     "iopub.execute_input": "2021-05-18T13:29:56.270384Z",
     "iopub.status.busy": "2021-05-18T13:29:56.269574Z",
     "iopub.status.idle": "2021-05-18T13:29:56.275998Z",
     "shell.execute_reply": "2021-05-18T13:29:56.275600Z"
    },
    "papermill": {
     "duration": 0.084659,
     "end_time": "2021-05-18T13:29:56.276102",
     "exception": false,
     "start_time": "2021-05-18T13:29:56.191443",
     "status": "completed"
    },
    "tags": []
   },
   "outputs": [
    {
     "name": "stdout",
     "output_type": "stream",
     "text": [
      "MCC: 0.073\n"
     ]
    }
   ],
   "source": [
    "# Combine the predictions for each batch into a single list of 0s and 1s.\n",
    "flat_predictions = [item for sublist in predictions_valid for item in sublist]\n",
    "flat_predictions = np.argmax(flat_predictions, axis=1).flatten()\n",
    "# Combine the correct labels for each batch into a single list.\n",
    "flat_true_labels = [item for sublist in true_labels_valid for item in sublist]\n",
    "# Calculate the MCC\n",
    "mcc = matthews_corrcoef(flat_true_labels, flat_predictions)\n",
    "print('MCC: %.3f' % mcc)"
   ]
  },
  {
   "cell_type": "code",
   "execution_count": 48,
   "metadata": {
    "execution": {
     "iopub.execute_input": "2021-05-18T13:29:56.427999Z",
     "iopub.status.busy": "2021-05-18T13:29:56.427181Z",
     "iopub.status.idle": "2021-05-18T13:29:56.436303Z",
     "shell.execute_reply": "2021-05-18T13:29:56.435572Z"
    },
    "papermill": {
     "duration": 0.085862,
     "end_time": "2021-05-18T13:29:56.436422",
     "exception": false,
     "start_time": "2021-05-18T13:29:56.350560",
     "status": "completed"
    },
    "tags": []
   },
   "outputs": [
    {
     "name": "stdout",
     "output_type": "stream",
     "text": [
      "              precision    recall  f1-score   support\n",
      "\n",
      "           0       0.56      0.26      0.35       147\n",
      "           1       0.53      0.80      0.64       152\n",
      "\n",
      "    accuracy                           0.54       299\n",
      "   macro avg       0.54      0.53      0.50       299\n",
      "weighted avg       0.54      0.54      0.50       299\n",
      "\n"
     ]
    }
   ],
   "source": [
    "from sklearn.metrics import classification_report,confusion_matrix\n",
    "report = classification_report(flat_true_labels, flat_predictions)\n",
    "print(report)"
   ]
  },
  {
   "cell_type": "code",
   "execution_count": 49,
   "metadata": {
    "execution": {
     "iopub.execute_input": "2021-05-18T13:29:56.589375Z",
     "iopub.status.busy": "2021-05-18T13:29:56.588601Z",
     "iopub.status.idle": "2021-05-18T13:29:56.720509Z",
     "shell.execute_reply": "2021-05-18T13:29:56.720958Z"
    },
    "papermill": {
     "duration": 0.211232,
     "end_time": "2021-05-18T13:29:56.721094",
     "exception": false,
     "start_time": "2021-05-18T13:29:56.509862",
     "status": "completed"
    },
    "tags": []
   },
   "outputs": [
    {
     "data": {
      "image/png": "[encoded data removed]",
      "text/plain": [
       "<Figure size 576x432 with 1 Axes>"
      ]
     },
     "metadata": {
      "needs_background": "light"
     },
     "output_type": "display_data"
    }
   ],
   "source": [
    "fpr, tpr, thresholds = roc_curve(flat_true_labels, flat_predictions)\n",
    "plt.figure(figsize=(8, 6))                         # Not shown\n",
    "plot_roc_curve(fpr, tpr)\n",
    "plt.plot([4.837e-3, 4.837e-3], [0., 0.4368], \"r:\") # Not shown\n",
    "plt.plot([0.0, 4.837e-3], [0.4368, 0.4368], \"r:\")  # Not shown\n",
    "plt.plot([4.837e-3], [0.4368], \"ro\")               # Not shown\n",
    "plt.show()"
   ]
  },
  {
   "cell_type": "code",
   "execution_count": 50,
   "metadata": {
    "execution": {
     "iopub.execute_input": "2021-05-18T13:29:56.884321Z",
     "iopub.status.busy": "2021-05-18T13:29:56.883664Z",
     "iopub.status.idle": "2021-05-18T13:29:56.886961Z",
     "shell.execute_reply": "2021-05-18T13:29:56.887375Z"
    },
    "papermill": {
     "duration": 0.088501,
     "end_time": "2021-05-18T13:29:56.887493",
     "exception": false,
     "start_time": "2021-05-18T13:29:56.798992",
     "status": "completed"
    },
    "tags": []
   },
   "outputs": [
    {
     "data": {
      "text/plain": [
       "0.5305674901539563"
      ]
     },
     "execution_count": 50,
     "metadata": {},
     "output_type": "execute_result"
    }
   ],
   "source": [
    "roc_auc_score(flat_true_labels, flat_predictions)"
   ]
  },
  {
   "cell_type": "markdown",
   "metadata": {
    "papermill": {
     "duration": 0.073956,
     "end_time": "2021-05-18T13:29:57.035728",
     "exception": false,
     "start_time": "2021-05-18T13:29:56.961772",
     "status": "completed"
    },
    "tags": []
   },
   "source": [
    "### Export Models and Embeddings"
   ]
  },
  {
   "cell_type": "code",
   "execution_count": 51,
   "metadata": {
    "execution": {
     "iopub.execute_input": "2021-05-18T13:29:57.194934Z",
     "iopub.status.busy": "2021-05-18T13:29:57.193697Z",
     "iopub.status.idle": "2021-05-18T13:29:57.196510Z",
     "shell.execute_reply": "2021-05-18T13:29:57.196101Z"
    },
    "papermill": {
     "duration": 0.086515,
     "end_time": "2021-05-18T13:29:57.196596",
     "exception": false,
     "start_time": "2021-05-18T13:29:57.110081",
     "status": "completed"
    },
    "tags": []
   },
   "outputs": [],
   "source": [
    "bert_embeddings_df_train['user.id'] = bert_embeddings_df_train['user.id'].astype('str')\n",
    "bert_embeddings_df_train['user.id'] = bert_embeddings_df_train['user.id'].apply(lambda x: \"'\" + x + \"'\")\n",
    "bert_embeddings_df_valid['user.id'] = bert_embeddings_df_valid['user.id'].astype('str')\n",
    "bert_embeddings_df_valid['user.id'] = bert_embeddings_df_valid['user.id'].apply(lambda x: \"'\" + x + \"'\")"
   ]
  },
  {
   "cell_type": "code",
   "execution_count": 52,
   "metadata": {
    "execution": {
     "iopub.execute_input": "2021-05-18T13:29:57.353869Z",
     "iopub.status.busy": "2021-05-18T13:29:57.351638Z",
     "iopub.status.idle": "2021-05-18T13:29:57.356175Z",
     "shell.execute_reply": "2021-05-18T13:29:57.355547Z"
    },
    "papermill": {
     "duration": 0.085127,
     "end_time": "2021-05-18T13:29:57.356287",
     "exception": false,
     "start_time": "2021-05-18T13:29:57.271160",
     "status": "completed"
    },
    "tags": []
   },
   "outputs": [
    {
     "name": "stdout",
     "output_type": "stream",
     "text": [
      "full train: 779 unique ids train: 229 full valid: 299 unique ids valid: 113\n"
     ]
    }
   ],
   "source": [
    "print(\"full train:\", len(bert_embeddings_df_train), \"unique ids train:\", len(bert_embeddings_df_train['user.id'].unique()), \n",
    "      \"full valid:\", len(bert_embeddings_df_valid), \"unique ids valid:\", len(bert_embeddings_df_valid['user.id'].unique()))"
   ]
  },
  {
   "cell_type": "markdown",
   "metadata": {
    "papermill": {
     "duration": 0.074233,
     "end_time": "2021-05-18T13:29:57.506137",
     "exception": false,
     "start_time": "2021-05-18T13:29:57.431904",
     "status": "completed"
    },
    "tags": []
   },
   "source": [
    "Save"
   ]
  },
  {
   "cell_type": "code",
   "execution_count": 53,
   "metadata": {
    "execution": {
     "iopub.execute_input": "2021-05-18T13:29:57.660020Z",
     "iopub.status.busy": "2021-05-18T13:29:57.658787Z",
     "iopub.status.idle": "2021-05-18T13:29:59.729688Z",
     "shell.execute_reply": "2021-05-18T13:29:59.730123Z"
    },
    "papermill": {
     "duration": 2.149706,
     "end_time": "2021-05-18T13:29:59.730248",
     "exception": false,
     "start_time": "2021-05-18T13:29:57.580542",
     "status": "completed"
    },
    "tags": []
   },
   "outputs": [
    {
     "data": {
      "text/plain": [
       "('./Multilingual_Tweettext_mode/tokenizer_config.json',\n",
       " './Multilingual_Tweettext_mode/special_tokens_map.json',\n",
       " './Multilingual_Tweettext_mode/vocab.txt',\n",
       " './Multilingual_Tweettext_mode/added_tokens.json')"
      ]
     },
     "execution_count": 53,
     "metadata": {},
     "output_type": "execute_result"
    }
   ],
   "source": [
    "model_to_save = model.module if hasattr(model, \"module\") else model # Take care of distributed/parallel training\n",
    "model_to_save.save_pretrained('./Multilingual_Tweettext_mode/')\n",
    "tokenizer.save_pretrained('./Multilingual_Tweettext_mode/')"
   ]
  },
  {
   "cell_type": "code",
   "execution_count": 54,
   "metadata": {
    "execution": {
     "iopub.execute_input": "2021-05-18T13:29:59.886815Z",
     "iopub.status.busy": "2021-05-18T13:29:59.886262Z",
     "iopub.status.idle": "2021-05-18T13:30:01.283915Z",
     "shell.execute_reply": "2021-05-18T13:30:01.283442Z"
    },
    "papermill": {
     "duration": 1.478432,
     "end_time": "2021-05-18T13:30:01.284032",
     "exception": false,
     "start_time": "2021-05-18T13:29:59.805600",
     "status": "completed"
    },
    "tags": []
   },
   "outputs": [],
   "source": [
    "bert_embeddings_df_train.to_csv('ml_training_embeddings_df_full.csv', index=False, encoding = \"utf_8_sig\")\n",
    "bert_embeddings_df_valid.to_csv('ml_valid_embeddings_df_full.csv', index=False, encoding = \"utf_8_sig\")"
   ]
  },
  {
   "cell_type": "markdown",
   "metadata": {
    "papermill": {
     "duration": 0.074601,
     "end_time": "2021-05-18T13:30:01.434751",
     "exception": false,
     "start_time": "2021-05-18T13:30:01.360150",
     "status": "completed"
    },
    "tags": []
   },
   "source": [
    "### Evaluate on Test"
   ]
  },
  {
   "cell_type": "markdown",
   "metadata": {
    "papermill": {
     "duration": 0.074458,
     "end_time": "2021-05-18T13:30:01.583912",
     "exception": false,
     "start_time": "2021-05-18T13:30:01.509454",
     "status": "completed"
    },
    "tags": []
   },
   "source": [
    "Let’s take a look at our training loss over all batches:"
   ]
  },
  {
   "cell_type": "markdown",
   "metadata": {
    "papermill": {
     "duration": 0.075,
     "end_time": "2021-05-18T13:30:01.733487",
     "exception": false,
     "start_time": "2021-05-18T13:30:01.658487",
     "status": "completed"
    },
    "tags": []
   },
   "source": [
    "Now we’ll load the holdout dataset and prepare inputs just as we did with the training set. Then we’ll evaluate predictions using Matthews correlation coefficient (MCC wiki)because this is the metric used by the wider NLP community to evaluate performance on CoLA. With this metric, +1 is the best score, and -1 is the worst score. This way, we can see how well we perform against the state of the art models for this specific task.\n"
   ]
  },
  {
   "cell_type": "code",
   "execution_count": 55,
   "metadata": {
    "execution": {
     "iopub.execute_input": "2021-05-18T13:30:01.890324Z",
     "iopub.status.busy": "2021-05-18T13:30:01.889605Z",
     "iopub.status.idle": "2021-05-18T13:30:01.906684Z",
     "shell.execute_reply": "2021-05-18T13:30:01.907081Z"
    },
    "papermill": {
     "duration": 0.098347,
     "end_time": "2021-05-18T13:30:01.907192",
     "exception": false,
     "start_time": "2021-05-18T13:30:01.808845",
     "status": "completed"
    },
    "tags": []
   },
   "outputs": [],
   "source": [
    "# Convert to tensors.\n",
    "prediction_inputs = torch.tensor(test_inputs)\n",
    "prediction_masks = torch.tensor(test_masks)\n",
    "prediction_labels = torch.tensor(test_labels)\n",
    "prediction_ids = torch.tensor(ids_test)\n",
    "\n",
    "# Set the batch size.  \n",
    "batch_size = 8 \n",
    "# Create the DataLoader.\n",
    "prediction_data = TensorDataset(prediction_inputs, prediction_masks, prediction_labels, prediction_ids)\n",
    "prediction_sampler = SequentialSampler(prediction_data)\n",
    "prediction_dataloader = DataLoader(prediction_data, sampler=prediction_sampler, batch_size=batch_size)"
   ]
  },
  {
   "cell_type": "code",
   "execution_count": 56,
   "metadata": {
    "execution": {
     "iopub.execute_input": "2021-05-18T13:30:02.062311Z",
     "iopub.status.busy": "2021-05-18T13:30:02.061579Z",
     "iopub.status.idle": "2021-05-18T13:30:02.064677Z",
     "shell.execute_reply": "2021-05-18T13:30:02.065137Z"
    },
    "papermill": {
     "duration": 0.082691,
     "end_time": "2021-05-18T13:30:02.065240",
     "exception": false,
     "start_time": "2021-05-18T13:30:01.982549",
     "status": "completed"
    },
    "tags": []
   },
   "outputs": [
    {
     "data": {
      "text/plain": [
       "torch.Size([1306, 120])"
      ]
     },
     "execution_count": 56,
     "metadata": {},
     "output_type": "execute_result"
    }
   ],
   "source": [
    "prediction_inputs.shape"
   ]
  },
  {
   "cell_type": "markdown",
   "metadata": {
    "papermill": {
     "duration": 0.075954,
     "end_time": "2021-05-18T13:30:02.216717",
     "exception": false,
     "start_time": "2021-05-18T13:30:02.140763",
     "status": "completed"
    },
    "tags": []
   },
   "source": [
    "With the test set prepared, we can apply our fine-tuned model to generate predictions on the test set"
   ]
  },
  {
   "cell_type": "code",
   "execution_count": 57,
   "metadata": {
    "execution": {
     "iopub.execute_input": "2021-05-18T13:30:02.378595Z",
     "iopub.status.busy": "2021-05-18T13:30:02.377821Z",
     "iopub.status.idle": "2021-05-18T13:30:07.995723Z",
     "shell.execute_reply": "2021-05-18T13:30:07.995272Z"
    },
    "papermill": {
     "duration": 5.70281,
     "end_time": "2021-05-18T13:30:07.995830",
     "exception": false,
     "start_time": "2021-05-18T13:30:02.293020",
     "status": "completed"
    },
    "tags": []
   },
   "outputs": [
    {
     "name": "stdout",
     "output_type": "stream",
     "text": [
      "Predicting labels for 1,306 test sentences...\n"
     ]
    }
   ],
   "source": [
    "embeddings_te = []\n",
    "# Prediction on test set\n",
    "print('Predicting labels for {:,} test sentences...'.format(len(prediction_inputs)))\n",
    "# Put model in evaluation mode\n",
    "model.eval()\n",
    "# Tracking variables \n",
    "predictions , true_labels = [], []\n",
    "# Predict \n",
    "for batch in prediction_dataloader:\n",
    "    b_input_ids = batch[0].to(device)\n",
    "    b_input_mask = batch[1].to(device)\n",
    "    b_labels = batch[2].to(device)\n",
    "  \n",
    "  # Telling the model not to compute or store gradients, saving memory and \n",
    "  # speeding up prediction\n",
    "    with torch.no_grad():\n",
    "        # Forward pass, calculate logit predictions\n",
    "        outputs = model(b_input_ids, token_type_ids=None, \n",
    "                      attention_mask=b_input_mask, labels=b_labels)\n",
    "    logits = outputs[1]\n",
    "    # Embeddings extraction approach is to average the second to last hiden layer of each token producing a single 768 length vector\n",
    "    # https://mccormickml.com/2019/05/14/BERT-word-embeddings-tutorial/\n",
    "    hidden_state_te = outputs[2]\n",
    "    token_vecs = hidden_state_te[-2]\n",
    "    token_vecs_sentvecs = []\n",
    "    for token in token_vecs:\n",
    "        sentvecs = torch.mean(token, dim=0).detach().cpu().numpy()\n",
    "        token_vecs_sentvecs.append(sentvecs)\n",
    "    # features = hidden_state_te[12][:,0,:].detach().cpu().numpy()\n",
    "    embeddings_te.append([batch[3], token_vecs_sentvecs])\n",
    "    # Move logits and labels to CPU\n",
    "    logits = logits.detach().cpu().numpy()\n",
    "    label_ids = b_labels.to('cpu').numpy()\n",
    "\n",
    "    # Store predictions and true labels\n",
    "    predictions.append(logits)\n",
    "    true_labels.append(label_ids)\n",
    "    \n"
   ]
  },
  {
   "cell_type": "markdown",
   "metadata": {
    "papermill": {
     "duration": 0.076264,
     "end_time": "2021-05-18T13:30:08.148803",
     "exception": false,
     "start_time": "2021-05-18T13:30:08.072539",
     "status": "completed"
    },
    "tags": []
   },
   "source": [
    "Extract Embeddings"
   ]
  },
  {
   "cell_type": "code",
   "execution_count": 58,
   "metadata": {
    "execution": {
     "iopub.execute_input": "2021-05-18T13:30:08.309925Z",
     "iopub.status.busy": "2021-05-18T13:30:08.309141Z",
     "iopub.status.idle": "2021-05-18T13:30:08.805621Z",
     "shell.execute_reply": "2021-05-18T13:30:08.806022Z"
    },
    "papermill": {
     "duration": 0.581562,
     "end_time": "2021-05-18T13:30:08.806155",
     "exception": false,
     "start_time": "2021-05-18T13:30:08.224593",
     "status": "completed"
    },
    "tags": []
   },
   "outputs": [
    {
     "name": "stdout",
     "output_type": "stream",
     "text": [
      "DONE.\n"
     ]
    },
    {
     "data": {
      "text/html": [
       "<div>\n",
       "<style scoped>\n",
       "    .dataframe tbody tr th:only-of-type {\n",
       "        vertical-align: middle;\n",
       "    }\n",
       "\n",
       "    .dataframe tbody tr th {\n",
       "        vertical-align: top;\n",
       "    }\n",
       "\n",
       "    .dataframe thead th {\n",
       "        text-align: right;\n",
       "    }\n",
       "</style>\n",
       "<table border=\"1\" class=\"dataframe\">\n",
       "  <thead>\n",
       "    <tr style=\"text-align: right;\">\n",
       "      <th></th>\n",
       "      <th>id</th>\n",
       "      <th>user.id</th>\n",
       "      <th>suspended</th>\n",
       "      <th>0</th>\n",
       "      <th>1</th>\n",
       "      <th>2</th>\n",
       "      <th>3</th>\n",
       "      <th>4</th>\n",
       "      <th>5</th>\n",
       "      <th>6</th>\n",
       "      <th>...</th>\n",
       "      <th>758</th>\n",
       "      <th>759</th>\n",
       "      <th>760</th>\n",
       "      <th>761</th>\n",
       "      <th>762</th>\n",
       "      <th>763</th>\n",
       "      <th>764</th>\n",
       "      <th>765</th>\n",
       "      <th>766</th>\n",
       "      <th>767</th>\n",
       "    </tr>\n",
       "  </thead>\n",
       "  <tbody>\n",
       "    <tr>\n",
       "      <th>0</th>\n",
       "      <td>0</td>\n",
       "      <td>1.278130e+18</td>\n",
       "      <td>0</td>\n",
       "      <td>0.098800</td>\n",
       "      <td>-0.644806</td>\n",
       "      <td>1.897004</td>\n",
       "      <td>-0.452509</td>\n",
       "      <td>-0.438800</td>\n",
       "      <td>0.707042</td>\n",
       "      <td>-0.746300</td>\n",
       "      <td>...</td>\n",
       "      <td>0.608492</td>\n",
       "      <td>-0.612340</td>\n",
       "      <td>-0.499562</td>\n",
       "      <td>-0.300516</td>\n",
       "      <td>1.059265</td>\n",
       "      <td>0.023817</td>\n",
       "      <td>0.319767</td>\n",
       "      <td>0.393633</td>\n",
       "      <td>0.765286</td>\n",
       "      <td>0.201215</td>\n",
       "    </tr>\n",
       "    <tr>\n",
       "      <th>1</th>\n",
       "      <td>1</td>\n",
       "      <td>1.278145e+18</td>\n",
       "      <td>1</td>\n",
       "      <td>-0.971567</td>\n",
       "      <td>-1.154697</td>\n",
       "      <td>1.026086</td>\n",
       "      <td>0.116035</td>\n",
       "      <td>-0.577709</td>\n",
       "      <td>0.095034</td>\n",
       "      <td>-0.993518</td>\n",
       "      <td>...</td>\n",
       "      <td>-0.008530</td>\n",
       "      <td>-0.566369</td>\n",
       "      <td>-0.174067</td>\n",
       "      <td>-0.109444</td>\n",
       "      <td>1.083318</td>\n",
       "      <td>-0.050414</td>\n",
       "      <td>-0.336212</td>\n",
       "      <td>0.702527</td>\n",
       "      <td>0.926032</td>\n",
       "      <td>0.127288</td>\n",
       "    </tr>\n",
       "    <tr>\n",
       "      <th>2</th>\n",
       "      <td>2</td>\n",
       "      <td>1.278155e+18</td>\n",
       "      <td>0</td>\n",
       "      <td>-0.808647</td>\n",
       "      <td>-1.055592</td>\n",
       "      <td>0.559954</td>\n",
       "      <td>-0.379503</td>\n",
       "      <td>0.023712</td>\n",
       "      <td>-0.108772</td>\n",
       "      <td>-0.464348</td>\n",
       "      <td>...</td>\n",
       "      <td>1.006408</td>\n",
       "      <td>-0.531346</td>\n",
       "      <td>-0.757750</td>\n",
       "      <td>-0.175320</td>\n",
       "      <td>1.281356</td>\n",
       "      <td>-0.079578</td>\n",
       "      <td>-0.592153</td>\n",
       "      <td>0.801421</td>\n",
       "      <td>0.836651</td>\n",
       "      <td>0.473758</td>\n",
       "    </tr>\n",
       "    <tr>\n",
       "      <th>3</th>\n",
       "      <td>3</td>\n",
       "      <td>1.278156e+18</td>\n",
       "      <td>0</td>\n",
       "      <td>0.023547</td>\n",
       "      <td>-0.319676</td>\n",
       "      <td>0.252839</td>\n",
       "      <td>0.260868</td>\n",
       "      <td>0.028554</td>\n",
       "      <td>0.069412</td>\n",
       "      <td>-0.655893</td>\n",
       "      <td>...</td>\n",
       "      <td>1.154120</td>\n",
       "      <td>-0.943661</td>\n",
       "      <td>-0.390905</td>\n",
       "      <td>-0.343012</td>\n",
       "      <td>0.616296</td>\n",
       "      <td>0.045624</td>\n",
       "      <td>0.649657</td>\n",
       "      <td>1.108101</td>\n",
       "      <td>0.381604</td>\n",
       "      <td>0.087467</td>\n",
       "    </tr>\n",
       "    <tr>\n",
       "      <th>4</th>\n",
       "      <td>4</td>\n",
       "      <td>1.278181e+18</td>\n",
       "      <td>0</td>\n",
       "      <td>-0.151687</td>\n",
       "      <td>0.058520</td>\n",
       "      <td>0.612688</td>\n",
       "      <td>0.409870</td>\n",
       "      <td>-0.627402</td>\n",
       "      <td>0.251679</td>\n",
       "      <td>-0.558932</td>\n",
       "      <td>...</td>\n",
       "      <td>0.774724</td>\n",
       "      <td>-0.560030</td>\n",
       "      <td>-0.967338</td>\n",
       "      <td>-0.147344</td>\n",
       "      <td>0.555885</td>\n",
       "      <td>0.556580</td>\n",
       "      <td>0.090047</td>\n",
       "      <td>0.768740</td>\n",
       "      <td>1.001765</td>\n",
       "      <td>0.115883</td>\n",
       "    </tr>\n",
       "  </tbody>\n",
       "</table>\n",
       "<p>5 rows × 771 columns</p>\n",
       "</div>"
      ],
      "text/plain": [
       "   id       user.id  suspended         0         1         2         3  \\\n",
       "0   0  1.278130e+18          0  0.098800 -0.644806  1.897004 -0.452509   \n",
       "1   1  1.278145e+18          1 -0.971567 -1.154697  1.026086  0.116035   \n",
       "2   2  1.278155e+18          0 -0.808647 -1.055592  0.559954 -0.379503   \n",
       "3   3  1.278156e+18          0  0.023547 -0.319676  0.252839  0.260868   \n",
       "4   4  1.278181e+18          0 -0.151687  0.058520  0.612688  0.409870   \n",
       "\n",
       "          4         5         6  ...       758       759       760       761  \\\n",
       "0 -0.438800  0.707042 -0.746300  ...  0.608492 -0.612340 -0.499562 -0.300516   \n",
       "1 -0.577709  0.095034 -0.993518  ... -0.008530 -0.566369 -0.174067 -0.109444   \n",
       "2  0.023712 -0.108772 -0.464348  ...  1.006408 -0.531346 -0.757750 -0.175320   \n",
       "3  0.028554  0.069412 -0.655893  ...  1.154120 -0.943661 -0.390905 -0.343012   \n",
       "4 -0.627402  0.251679 -0.558932  ...  0.774724 -0.560030 -0.967338 -0.147344   \n",
       "\n",
       "        762       763       764       765       766       767  \n",
       "0  1.059265  0.023817  0.319767  0.393633  0.765286  0.201215  \n",
       "1  1.083318 -0.050414 -0.336212  0.702527  0.926032  0.127288  \n",
       "2  1.281356 -0.079578 -0.592153  0.801421  0.836651  0.473758  \n",
       "3  0.616296  0.045624  0.649657  1.108101  0.381604  0.087467  \n",
       "4  0.555885  0.556580  0.090047  0.768740  1.001765  0.115883  \n",
       "\n",
       "[5 rows x 771 columns]"
      ]
     },
     "execution_count": 58,
     "metadata": {},
     "output_type": "execute_result"
    }
   ],
   "source": [
    "# Get embeddings for test\n",
    "p = [group for group in embeddings_te]\n",
    "\n",
    "b = [item for sublist in [[list(t) for t in zip(sublist[0], sublist[1])] for sublist in p] for item in sublist]\n",
    "df = pd.DataFrame(b, columns = ['id', 'embeddings'])  \n",
    "\n",
    "bert_embeddings_df_test = pd.concat([df['id'], df['embeddings'].apply(pd.Series)], axis = 1)\n",
    "bert_embeddings_df_test['id'] = bert_embeddings_df_test['id'].apply(lambda x: x.item())\n",
    "#bert_embeddings_df_test = pd.merge(df_test.drop(['text'], axis=1), bert_embeddings_df_test, left_on = [\"id\"], right_on = [\"id\"])\n",
    "bert_embeddings_df_test = pd.merge(df_test.drop(['text'], axis=1), bert_embeddings_df_test.drop(['id'], axis=1), left_index=True, right_index=True)\n",
    "print('DONE.')\n",
    "bert_embeddings_df_test.head()"
   ]
  },
  {
   "cell_type": "code",
   "execution_count": 59,
   "metadata": {
    "execution": {
     "iopub.execute_input": "2021-05-18T13:30:08.969787Z",
     "iopub.status.busy": "2021-05-18T13:30:08.967534Z",
     "iopub.status.idle": "2021-05-18T13:30:08.972238Z",
     "shell.execute_reply": "2021-05-18T13:30:08.972637Z"
    },
    "papermill": {
     "duration": 0.088875,
     "end_time": "2021-05-18T13:30:08.972757",
     "exception": false,
     "start_time": "2021-05-18T13:30:08.883882",
     "status": "completed"
    },
    "tags": []
   },
   "outputs": [],
   "source": [
    "bert_embeddings_df_test['user.id'] = bert_embeddings_df_test['user.id'].astype('str')\n",
    "bert_embeddings_df_test['user.id'] = bert_embeddings_df_test['user.id'].apply(lambda x: \"'\" + x + \"'\")"
   ]
  },
  {
   "cell_type": "code",
   "execution_count": 60,
   "metadata": {
    "execution": {
     "iopub.execute_input": "2021-05-18T13:30:09.134437Z",
     "iopub.status.busy": "2021-05-18T13:30:09.133098Z",
     "iopub.status.idle": "2021-05-18T13:30:09.136537Z",
     "shell.execute_reply": "2021-05-18T13:30:09.135906Z"
    },
    "papermill": {
     "duration": 0.087001,
     "end_time": "2021-05-18T13:30:09.136652",
     "exception": false,
     "start_time": "2021-05-18T13:30:09.049651",
     "status": "completed"
    },
    "tags": []
   },
   "outputs": [
    {
     "name": "stdout",
     "output_type": "stream",
     "text": [
      "full train: 1306 unique ids train: 498\n"
     ]
    }
   ],
   "source": [
    "print(\"full train:\", len(bert_embeddings_df_test), \"unique ids train:\", len(bert_embeddings_df_test['user.id'].unique()))"
   ]
  },
  {
   "cell_type": "markdown",
   "metadata": {
    "papermill": {
     "duration": 0.077676,
     "end_time": "2021-05-18T13:30:09.293073",
     "exception": false,
     "start_time": "2021-05-18T13:30:09.215397",
     "status": "completed"
    },
    "tags": []
   },
   "source": [
    "Save"
   ]
  },
  {
   "cell_type": "code",
   "execution_count": 61,
   "metadata": {
    "execution": {
     "iopub.execute_input": "2021-05-18T13:30:09.453423Z",
     "iopub.status.busy": "2021-05-18T13:30:09.452420Z",
     "iopub.status.idle": "2021-05-18T13:30:10.928891Z",
     "shell.execute_reply": "2021-05-18T13:30:10.928422Z"
    },
    "papermill": {
     "duration": 1.558793,
     "end_time": "2021-05-18T13:30:10.929010",
     "exception": false,
     "start_time": "2021-05-18T13:30:09.370217",
     "status": "completed"
    },
    "tags": []
   },
   "outputs": [],
   "source": [
    "bert_embeddings_df_test.to_csv('ml_test_embeddings_df_full.csv', index=False, encoding = \"utf_8_sig\")"
   ]
  },
  {
   "cell_type": "markdown",
   "metadata": {
    "papermill": {
     "duration": 0.077956,
     "end_time": "2021-05-18T13:30:11.085075",
     "exception": false,
     "start_time": "2021-05-18T13:30:11.007119",
     "status": "completed"
    },
    "tags": []
   },
   "source": [
    "Look at imbalance. "
   ]
  },
  {
   "cell_type": "code",
   "execution_count": 62,
   "metadata": {
    "execution": {
     "iopub.execute_input": "2021-05-18T13:30:11.246663Z",
     "iopub.status.busy": "2021-05-18T13:30:11.246042Z",
     "iopub.status.idle": "2021-05-18T13:30:11.251978Z",
     "shell.execute_reply": "2021-05-18T13:30:11.250189Z"
    },
    "papermill": {
     "duration": 0.089681,
     "end_time": "2021-05-18T13:30:11.252097",
     "exception": false,
     "start_time": "2021-05-18T13:30:11.162416",
     "status": "completed"
    },
    "tags": []
   },
   "outputs": [
    {
     "name": "stdout",
     "output_type": "stream",
     "text": [
      "Positive samples: 397 of 779 (50.96%)\n"
     ]
    }
   ],
   "source": [
    "print('Positive samples: %d of %d (%.2f%%)' % (df_train.suspended.sum(), len(df_train.suspended), (df_train.suspended.sum() / len(df_train.suspended) * 100.0)))"
   ]
  },
  {
   "cell_type": "code",
   "execution_count": 63,
   "metadata": {
    "execution": {
     "iopub.execute_input": "2021-05-18T13:30:12.559263Z",
     "iopub.status.busy": "2021-05-18T13:30:12.558389Z",
     "iopub.status.idle": "2021-05-18T13:30:12.672442Z",
     "shell.execute_reply": "2021-05-18T13:30:12.673136Z"
    },
    "papermill": {
     "duration": 0.201198,
     "end_time": "2021-05-18T13:30:12.673290",
     "exception": false,
     "start_time": "2021-05-18T13:30:12.472092",
     "status": "completed"
    },
    "tags": []
   },
   "outputs": [
    {
     "name": "stdout",
     "output_type": "stream",
     "text": [
      "Calculating Matthews Corr. Coef. for each batch...\n"
     ]
    },
    {
     "name": "stderr",
     "output_type": "stream",
     "text": [
      "/opt/conda/lib/python3.7/site-packages/sklearn/metrics/_classification.py:846: RuntimeWarning:\n",
      "\n",
      "invalid value encountered in double_scalars\n",
      "\n"
     ]
    }
   ],
   "source": [
    "from sklearn.metrics import matthews_corrcoef\n",
    "matthews_set = []\n",
    "# Evaluate each test batch using Matthew's correlation coefficient\n",
    "print('Calculating Matthews Corr. Coef. for each batch...')\n",
    "# For each input batch...\n",
    "for i in range(len(true_labels)):\n",
    "  \n",
    "    # The predictions for this batch are a 2-column ndarray (one column for \"0\" \n",
    "    # and one column for \"1\"). Pick the label with the highest value and turn this\n",
    "    # in to a list of 0s and 1s.\n",
    "    pred_labels_i = np.argmax(predictions[i], axis=1).flatten()\n",
    "\n",
    "    # Calculate and store the coef for this batch.  \n",
    "    matthews = matthews_corrcoef(true_labels[i], pred_labels_i)                \n",
    "    matthews_set.append(matthews)"
   ]
  },
  {
   "cell_type": "code",
   "execution_count": 64,
   "metadata": {
    "execution": {
     "iopub.execute_input": "2021-05-18T13:30:12.840621Z",
     "iopub.status.busy": "2021-05-18T13:30:12.839828Z",
     "iopub.status.idle": "2021-05-18T13:30:12.849390Z",
     "shell.execute_reply": "2021-05-18T13:30:12.849931Z"
    },
    "papermill": {
     "duration": 0.094255,
     "end_time": "2021-05-18T13:30:12.850103",
     "exception": false,
     "start_time": "2021-05-18T13:30:12.755848",
     "status": "completed"
    },
    "tags": []
   },
   "outputs": [
    {
     "name": "stdout",
     "output_type": "stream",
     "text": [
      "MCC: 0.028\n"
     ]
    }
   ],
   "source": [
    "# Combine the predictions for each batch into a single list of 0s and 1s.\n",
    "flat_predictions = [item for sublist in predictions for item in sublist]\n",
    "flat_predictions = np.argmax(flat_predictions, axis=1).flatten()\n",
    "# Combine the correct labels for each batch into a single list.\n",
    "flat_true_labels = [item for sublist in true_labels for item in sublist]\n",
    "# Calculate the MCC\n",
    "mcc = matthews_corrcoef(flat_true_labels, flat_predictions)\n",
    "print('MCC: %.3f' % mcc)"
   ]
  },
  {
   "cell_type": "code",
   "execution_count": 65,
   "metadata": {
    "execution": {
     "iopub.execute_input": "2021-05-18T13:30:13.013217Z",
     "iopub.status.busy": "2021-05-18T13:30:13.012392Z",
     "iopub.status.idle": "2021-05-18T13:30:13.022218Z",
     "shell.execute_reply": "2021-05-18T13:30:13.021693Z"
    },
    "papermill": {
     "duration": 0.09219,
     "end_time": "2021-05-18T13:30:13.022322",
     "exception": false,
     "start_time": "2021-05-18T13:30:12.930132",
     "status": "completed"
    },
    "tags": []
   },
   "outputs": [
    {
     "name": "stdout",
     "output_type": "stream",
     "text": [
      "              precision    recall  f1-score   support\n",
      "\n",
      "           0       0.92      0.22      0.36      1175\n",
      "           1       0.10      0.82      0.19       131\n",
      "\n",
      "    accuracy                           0.28      1306\n",
      "   macro avg       0.51      0.52      0.27      1306\n",
      "weighted avg       0.83      0.28      0.34      1306\n",
      "\n"
     ]
    }
   ],
   "source": [
    "report = classification_report(flat_true_labels, flat_predictions)\n",
    "print(report)"
   ]
  },
  {
   "cell_type": "code",
   "execution_count": 66,
   "metadata": {
    "execution": {
     "iopub.execute_input": "2021-05-18T13:30:13.188881Z",
     "iopub.status.busy": "2021-05-18T13:30:13.188119Z",
     "iopub.status.idle": "2021-05-18T13:30:13.319692Z",
     "shell.execute_reply": "2021-05-18T13:30:13.318775Z"
    },
    "papermill": {
     "duration": 0.217214,
     "end_time": "2021-05-18T13:30:13.319795",
     "exception": false,
     "start_time": "2021-05-18T13:30:13.102581",
     "status": "completed"
    },
    "tags": []
   },
   "outputs": [
    {
     "data": {
      "image/png": "[encoded data removed]",
      "text/plain": [
       "<Figure size 576x432 with 1 Axes>"
      ]
     },
     "metadata": {
      "needs_background": "light"
     },
     "output_type": "display_data"
    }
   ],
   "source": [
    "fpr, tpr, thresholds = roc_curve(flat_true_labels, flat_predictions)\n",
    "plt.figure(figsize=(8, 6))                         # Not shown\n",
    "plot_roc_curve(fpr, tpr)\n",
    "plt.plot([4.837e-3, 4.837e-3], [0., 0.4368], \"r:\") # Not shown\n",
    "plt.plot([0.0, 4.837e-3], [0.4368, 0.4368], \"r:\")  # Not shown\n",
    "plt.plot([4.837e-3], [0.4368], \"ro\")               # Not shown\n",
    "plt.show()"
   ]
  },
  {
   "cell_type": "code",
   "execution_count": 67,
   "metadata": {
    "execution": {
     "iopub.execute_input": "2021-05-18T13:30:13.492112Z",
     "iopub.status.busy": "2021-05-18T13:30:13.490802Z",
     "iopub.status.idle": "2021-05-18T13:30:13.497163Z",
     "shell.execute_reply": "2021-05-18T13:30:13.496739Z"
    },
    "papermill": {
     "duration": 0.091859,
     "end_time": "2021-05-18T13:30:13.497253",
     "exception": false,
     "start_time": "2021-05-18T13:30:13.405394",
     "status": "completed"
    },
    "tags": []
   },
   "outputs": [
    {
     "data": {
      "text/plain": [
       "0.5194607763521196"
      ]
     },
     "execution_count": 67,
     "metadata": {},
     "output_type": "execute_result"
    }
   ],
   "source": [
    "roc_auc_score(flat_true_labels, flat_predictions)"
   ]
  },
  {
   "cell_type": "markdown",
   "metadata": {
    "papermill": {
     "duration": 0.080283,
     "end_time": "2021-05-18T13:30:13.666320",
     "exception": false,
     "start_time": "2021-05-18T13:30:13.586037",
     "status": "completed"
    },
    "tags": []
   },
   "source": [
    "### Output Predictions by Account"
   ]
  },
  {
   "cell_type": "code",
   "execution_count": 68,
   "metadata": {
    "execution": {
     "iopub.execute_input": "2021-05-18T13:30:13.834691Z",
     "iopub.status.busy": "2021-05-18T13:30:13.833908Z",
     "iopub.status.idle": "2021-05-18T13:30:13.836590Z",
     "shell.execute_reply": "2021-05-18T13:30:13.836178Z"
    },
    "papermill": {
     "duration": 0.089914,
     "end_time": "2021-05-18T13:30:13.836681",
     "exception": false,
     "start_time": "2021-05-18T13:30:13.746767",
     "status": "completed"
    },
    "tags": []
   },
   "outputs": [],
   "source": [
    "# Generate class predictions at the account level \n",
    "def predict_tweet_text(predictions, df_overlap, df_full):\n",
    "    df = pd.DataFrame(predictions, columns = ['pred'])\n",
    "    df_2 = pd.merge(df_overlap, df, left_index=True, right_index=True)\n",
    "    df_fm = df_full[['user.screen_name','user.id']].drop_duplicates(subset=['user.screen_name','user.id'])\n",
    "    df_3 = pd.merge(df_fm, df_2, left_on='user.id', right_on='user.id')\n",
    "    df_3 = df_3.sort_values(by=['pred'], ascending=False)\n",
    "    return df_3"
   ]
  },
  {
   "cell_type": "code",
   "execution_count": 69,
   "metadata": {
    "execution": {
     "iopub.execute_input": "2021-05-18T13:30:14.006505Z",
     "iopub.status.busy": "2021-05-18T13:30:14.005686Z",
     "iopub.status.idle": "2021-05-18T13:30:14.028161Z",
     "shell.execute_reply": "2021-05-18T13:30:14.028582Z"
    },
    "papermill": {
     "duration": 0.111367,
     "end_time": "2021-05-18T13:30:14.028696",
     "exception": false,
     "start_time": "2021-05-18T13:30:13.917329",
     "status": "completed"
    },
    "tags": []
   },
   "outputs": [
    {
     "data": {
      "text/html": [
       "<div>\n",
       "<style scoped>\n",
       "    .dataframe tbody tr th:only-of-type {\n",
       "        vertical-align: middle;\n",
       "    }\n",
       "\n",
       "    .dataframe tbody tr th {\n",
       "        vertical-align: top;\n",
       "    }\n",
       "\n",
       "    .dataframe thead th {\n",
       "        text-align: right;\n",
       "    }\n",
       "</style>\n",
       "<table border=\"1\" class=\"dataframe\">\n",
       "  <thead>\n",
       "    <tr style=\"text-align: right;\">\n",
       "      <th></th>\n",
       "      <th>user.screen_name</th>\n",
       "      <th>user.id</th>\n",
       "      <th>id</th>\n",
       "      <th>text</th>\n",
       "      <th>suspended</th>\n",
       "      <th>pred</th>\n",
       "    </tr>\n",
       "  </thead>\n",
       "  <tbody>\n",
       "    <tr>\n",
       "      <th>653</th>\n",
       "      <td>AllenXu99</td>\n",
       "      <td>1.280790e+18</td>\n",
       "      <td>653</td>\n",
       "      <td>@cassbwell so hot @IvankaTrump yep your daddy ...</td>\n",
       "      <td>0</td>\n",
       "      <td>1</td>\n",
       "    </tr>\n",
       "    <tr>\n",
       "      <th>806</th>\n",
       "      <td>hJg8r4sOzr8oQSi</td>\n",
       "      <td>1.281953e+18</td>\n",
       "      <td>806</td>\n",
       "      <td>@Aisnow12 @PDChinese 短期内应该不会上吧</td>\n",
       "      <td>0</td>\n",
       "      <td>1</td>\n",
       "    </tr>\n",
       "    <tr>\n",
       "      <th>815</th>\n",
       "      <td>Azee84757895</td>\n",
       "      <td>1.282021e+18</td>\n",
       "      <td>815</td>\n",
       "      <td>@Hahosani This picture paints quite the realit...</td>\n",
       "      <td>1</td>\n",
       "      <td>1</td>\n",
       "    </tr>\n",
       "    <tr>\n",
       "      <th>814</th>\n",
       "      <td>Azee84757895</td>\n",
       "      <td>1.282021e+18</td>\n",
       "      <td>814</td>\n",
       "      <td>of this country are the reason for many of the...</td>\n",
       "      <td>1</td>\n",
       "      <td>1</td>\n",
       "    </tr>\n",
       "    <tr>\n",
       "      <th>812</th>\n",
       "      <td>Azee84757895</td>\n",
       "      <td>1.282021e+18</td>\n",
       "      <td>812</td>\n",
       "      <td>نے چوروں اور جُھوٹوں کو حکمران چُنا۔ خُ… https...</td>\n",
       "      <td>1</td>\n",
       "      <td>1</td>\n",
       "    </tr>\n",
       "  </tbody>\n",
       "</table>\n",
       "</div>"
      ],
      "text/plain": [
       "    user.screen_name       user.id   id  \\\n",
       "653        AllenXu99  1.280790e+18  653   \n",
       "806  hJg8r4sOzr8oQSi  1.281953e+18  806   \n",
       "815     Azee84757895  1.282021e+18  815   \n",
       "814     Azee84757895  1.282021e+18  814   \n",
       "812     Azee84757895  1.282021e+18  812   \n",
       "\n",
       "                                                  text  suspended  pred  \n",
       "653  @cassbwell so hot @IvankaTrump yep your daddy ...          0     1  \n",
       "806                     @Aisnow12 @PDChinese 短期内应该不会上吧          0     1  \n",
       "815  @Hahosani This picture paints quite the realit...          1     1  \n",
       "814  of this country are the reason for many of the...          1     1  \n",
       "812  نے چوروں اور جُھوٹوں کو حکمران چُنا۔ خُ… https...          1     1  "
      ]
     },
     "execution_count": 69,
     "metadata": {},
     "output_type": "execute_result"
    }
   ],
   "source": [
    "test_preds_tweets = predict_tweet_text(flat_predictions, df_test, df_test_f)\n",
    "test_preds_tweets.head()"
   ]
  },
  {
   "cell_type": "code",
   "execution_count": 70,
   "metadata": {
    "execution": {
     "iopub.execute_input": "2021-05-18T13:30:14.198992Z",
     "iopub.status.busy": "2021-05-18T13:30:14.196506Z",
     "iopub.status.idle": "2021-05-18T13:30:14.264589Z",
     "shell.execute_reply": "2021-05-18T13:30:14.264150Z"
    },
    "papermill": {
     "duration": 0.153734,
     "end_time": "2021-05-18T13:30:14.264677",
     "exception": false,
     "start_time": "2021-05-18T13:30:14.110943",
     "status": "completed"
    },
    "tags": []
   },
   "outputs": [],
   "source": [
    "test_preds_tweets.to_csv('test_preds_tweets.csv', index=False, encoding = \"utf_8_sig\")"
   ]
  },
  {
   "cell_type": "code",
   "execution_count": 71,
   "metadata": {
    "execution": {
     "iopub.execute_input": "2021-05-18T13:30:14.436202Z",
     "iopub.status.busy": "2021-05-18T13:30:14.435438Z",
     "iopub.status.idle": "2021-05-18T13:30:14.438126Z",
     "shell.execute_reply": "2021-05-18T13:30:14.437706Z"
    },
    "papermill": {
     "duration": 0.091607,
     "end_time": "2021-05-18T13:30:14.438217",
     "exception": false,
     "start_time": "2021-05-18T13:30:14.346610",
     "status": "completed"
    },
    "tags": []
   },
   "outputs": [],
   "source": [
    "# Generate class predictions at the account level \n",
    "def predict_account(pred_tt):\n",
    "    df_4 = pred_tt[['user.screen_name', 'suspended','pred']].groupby('user.screen_name').agg(['sum', 'mean'])\n",
    "    df_4.drop(('suspended', 'sum'), axis = 1, inplace = True)\n",
    "    df_4.columns = [' '.join(col).strip() for col in df_4.columns.values]\n",
    "    df_4.reset_index(level=0, inplace=True)\n",
    "    df_4.columns = [\"user.screen_name\",\"suspended_label\", \"total_pre_prob\",\"mean_pred_prob\"]\n",
    "    df_4['pred_class'] = np.where(df_4['mean_pred_prob'] > 0.25, 1,0) # Use lighter threshold as not all tweets get an account suspended. \n",
    "    df_4 = df_4.sort_values(by=['total_pre_prob'], ascending=False)\n",
    "\n",
    "    return df_4"
   ]
  },
  {
   "cell_type": "code",
   "execution_count": 72,
   "metadata": {
    "execution": {
     "iopub.execute_input": "2021-05-18T13:30:14.608477Z",
     "iopub.status.busy": "2021-05-18T13:30:14.607794Z",
     "iopub.status.idle": "2021-05-18T13:30:14.644906Z",
     "shell.execute_reply": "2021-05-18T13:30:14.644422Z"
    },
    "papermill": {
     "duration": 0.124755,
     "end_time": "2021-05-18T13:30:14.644997",
     "exception": false,
     "start_time": "2021-05-18T13:30:14.520242",
     "status": "completed"
    },
    "tags": []
   },
   "outputs": [
    {
     "data": {
      "text/html": [
       "<div>\n",
       "<style scoped>\n",
       "    .dataframe tbody tr th:only-of-type {\n",
       "        vertical-align: middle;\n",
       "    }\n",
       "\n",
       "    .dataframe tbody tr th {\n",
       "        vertical-align: top;\n",
       "    }\n",
       "\n",
       "    .dataframe thead th {\n",
       "        text-align: right;\n",
       "    }\n",
       "</style>\n",
       "<table border=\"1\" class=\"dataframe\">\n",
       "  <thead>\n",
       "    <tr style=\"text-align: right;\">\n",
       "      <th></th>\n",
       "      <th>user.screen_name</th>\n",
       "      <th>suspended_label</th>\n",
       "      <th>total_pre_prob</th>\n",
       "      <th>mean_pred_prob</th>\n",
       "      <th>pred_class</th>\n",
       "    </tr>\n",
       "  </thead>\n",
       "  <tbody>\n",
       "    <tr>\n",
       "      <th>370</th>\n",
       "      <td>fWsArCRQJMn0koq</td>\n",
       "      <td>0</td>\n",
       "      <td>78</td>\n",
       "      <td>1.000000</td>\n",
       "      <td>1</td>\n",
       "    </tr>\n",
       "    <tr>\n",
       "      <th>59</th>\n",
       "      <td>BuzzCurated</td>\n",
       "      <td>0</td>\n",
       "      <td>49</td>\n",
       "      <td>0.844828</td>\n",
       "      <td>1</td>\n",
       "    </tr>\n",
       "    <tr>\n",
       "      <th>447</th>\n",
       "      <td>sharelingnan</td>\n",
       "      <td>0</td>\n",
       "      <td>38</td>\n",
       "      <td>0.974359</td>\n",
       "      <td>1</td>\n",
       "    </tr>\n",
       "    <tr>\n",
       "      <th>11</th>\n",
       "      <td>ABDULLA96649895</td>\n",
       "      <td>1</td>\n",
       "      <td>31</td>\n",
       "      <td>0.659574</td>\n",
       "      <td>1</td>\n",
       "    </tr>\n",
       "    <tr>\n",
       "      <th>148</th>\n",
       "      <td>John97242303</td>\n",
       "      <td>0</td>\n",
       "      <td>31</td>\n",
       "      <td>0.968750</td>\n",
       "      <td>1</td>\n",
       "    </tr>\n",
       "    <tr>\n",
       "      <th>...</th>\n",
       "      <td>...</td>\n",
       "      <td>...</td>\n",
       "      <td>...</td>\n",
       "      <td>...</td>\n",
       "      <td>...</td>\n",
       "    </tr>\n",
       "    <tr>\n",
       "      <th>356</th>\n",
       "      <td>candy30062037</td>\n",
       "      <td>0</td>\n",
       "      <td>0</td>\n",
       "      <td>0.000000</td>\n",
       "      <td>0</td>\n",
       "    </tr>\n",
       "    <tr>\n",
       "      <th>357</th>\n",
       "      <td>change_xavier</td>\n",
       "      <td>0</td>\n",
       "      <td>0</td>\n",
       "      <td>0.000000</td>\n",
       "      <td>0</td>\n",
       "    </tr>\n",
       "    <tr>\n",
       "      <th>192</th>\n",
       "      <td>MijourM</td>\n",
       "      <td>0</td>\n",
       "      <td>0</td>\n",
       "      <td>0.000000</td>\n",
       "      <td>0</td>\n",
       "    </tr>\n",
       "    <tr>\n",
       "      <th>94</th>\n",
       "      <td>FahadAl87843138</td>\n",
       "      <td>0</td>\n",
       "      <td>0</td>\n",
       "      <td>0.000000</td>\n",
       "      <td>0</td>\n",
       "    </tr>\n",
       "    <tr>\n",
       "      <th>237</th>\n",
       "      <td>RbUbzZOWaYPWdTU</td>\n",
       "      <td>0</td>\n",
       "      <td>0</td>\n",
       "      <td>0.000000</td>\n",
       "      <td>0</td>\n",
       "    </tr>\n",
       "  </tbody>\n",
       "</table>\n",
       "<p>498 rows × 5 columns</p>\n",
       "</div>"
      ],
      "text/plain": [
       "    user.screen_name  suspended_label  total_pre_prob  mean_pred_prob  \\\n",
       "370  fWsArCRQJMn0koq                0              78        1.000000   \n",
       "59       BuzzCurated                0              49        0.844828   \n",
       "447     sharelingnan                0              38        0.974359   \n",
       "11   ABDULLA96649895                1              31        0.659574   \n",
       "148     John97242303                0              31        0.968750   \n",
       "..               ...              ...             ...             ...   \n",
       "356    candy30062037                0               0        0.000000   \n",
       "357    change_xavier                0               0        0.000000   \n",
       "192          MijourM                0               0        0.000000   \n",
       "94   FahadAl87843138                0               0        0.000000   \n",
       "237  RbUbzZOWaYPWdTU                0               0        0.000000   \n",
       "\n",
       "     pred_class  \n",
       "370           1  \n",
       "59            1  \n",
       "447           1  \n",
       "11            1  \n",
       "148           1  \n",
       "..          ...  \n",
       "356           0  \n",
       "357           0  \n",
       "192           0  \n",
       "94            0  \n",
       "237           0  \n",
       "\n",
       "[498 rows x 5 columns]"
      ]
     },
     "execution_count": 72,
     "metadata": {},
     "output_type": "execute_result"
    }
   ],
   "source": [
    "test_account_preds_tweettext = predict_account(test_preds_tweets)\n",
    "test_account_preds_tweettext"
   ]
  },
  {
   "cell_type": "markdown",
   "metadata": {
    "papermill": {
     "duration": 0.082466,
     "end_time": "2021-05-18T13:30:14.810079",
     "exception": false,
     "start_time": "2021-05-18T13:30:14.727613",
     "status": "completed"
    },
    "tags": []
   },
   "source": [
    "### Confusion Matrix for Account Classification"
   ]
  },
  {
   "cell_type": "code",
   "execution_count": 73,
   "metadata": {
    "execution": {
     "iopub.execute_input": "2021-05-18T13:30:14.981921Z",
     "iopub.status.busy": "2021-05-18T13:30:14.981126Z",
     "iopub.status.idle": "2021-05-18T13:30:14.990319Z",
     "shell.execute_reply": "2021-05-18T13:30:14.989717Z"
    },
    "papermill": {
     "duration": 0.096927,
     "end_time": "2021-05-18T13:30:14.990441",
     "exception": false,
     "start_time": "2021-05-18T13:30:14.893514",
     "status": "completed"
    },
    "tags": []
   },
   "outputs": [
    {
     "name": "stdout",
     "output_type": "stream",
     "text": [
      "              precision    recall  f1-score   support\n",
      "\n",
      "           0       0.97      0.25      0.40       460\n",
      "           1       0.09      0.92      0.17        38\n",
      "\n",
      "    accuracy                           0.30       498\n",
      "   macro avg       0.53      0.59      0.28       498\n",
      "weighted avg       0.91      0.30      0.38       498\n",
      "\n"
     ]
    }
   ],
   "source": [
    "#report = classification_report(np.array(test_labels), predictions)\n",
    "report_te = classification_report(np.array(test_account_preds_tweettext['suspended_label']), np.array(test_account_preds_tweettext['pred_class']))\n",
    "print(report_te)"
   ]
  },
  {
   "cell_type": "code",
   "execution_count": 74,
   "metadata": {
    "execution": {
     "iopub.execute_input": "2021-05-18T13:30:15.165177Z",
     "iopub.status.busy": "2021-05-18T13:30:15.164293Z",
     "iopub.status.idle": "2021-05-18T13:30:15.292214Z",
     "shell.execute_reply": "2021-05-18T13:30:15.292684Z"
    },
    "papermill": {
     "duration": 0.218645,
     "end_time": "2021-05-18T13:30:15.292806",
     "exception": false,
     "start_time": "2021-05-18T13:30:15.074161",
     "status": "completed"
    },
    "tags": []
   },
   "outputs": [
    {
     "data": {
      "image/png": "[encoded data removed]",
      "text/plain": [
       "<Figure size 576x432 with 1 Axes>"
      ]
     },
     "metadata": {
      "needs_background": "light"
     },
     "output_type": "display_data"
    }
   ],
   "source": [
    "fpr, tpr, thresholds = roc_curve(np.array(test_account_preds_tweettext['suspended_label']), np.array(test_account_preds_tweettext['pred_class']))\n",
    "plt.figure(figsize=(8, 6))                         # Not shown\n",
    "plot_roc_curve(fpr, tpr)\n",
    "plt.plot([4.837e-3, 4.837e-3], [0., 0.4368], \"r:\") # Not shown\n",
    "plt.plot([0.0, 4.837e-3], [0.4368, 0.4368], \"r:\")  # Not shown\n",
    "plt.plot([4.837e-3], [0.4368], \"ro\")               # Not shown\n",
    "plt.show()"
   ]
  },
  {
   "cell_type": "code",
   "execution_count": 75,
   "metadata": {
    "execution": {
     "iopub.execute_input": "2021-05-18T13:30:15.469345Z",
     "iopub.status.busy": "2021-05-18T13:30:15.468557Z",
     "iopub.status.idle": "2021-05-18T13:30:15.474347Z",
     "shell.execute_reply": "2021-05-18T13:30:15.473925Z"
    },
    "papermill": {
     "duration": 0.095473,
     "end_time": "2021-05-18T13:30:15.474440",
     "exception": false,
     "start_time": "2021-05-18T13:30:15.378967",
     "status": "completed"
    },
    "tags": []
   },
   "outputs": [
    {
     "data": {
      "text/plain": [
       "0.5866132723112127"
      ]
     },
     "execution_count": 75,
     "metadata": {},
     "output_type": "execute_result"
    }
   ],
   "source": [
    "roc_auc_score(np.array(test_account_preds_tweettext['suspended_label']), np.array(test_account_preds_tweettext['pred_class']))"
   ]
  },
  {
   "cell_type": "code",
   "execution_count": 76,
   "metadata": {
    "execution": {
     "iopub.execute_input": "2021-05-18T13:30:15.651762Z",
     "iopub.status.busy": "2021-05-18T13:30:15.650969Z",
     "iopub.status.idle": "2021-05-18T13:30:15.656861Z",
     "shell.execute_reply": "2021-05-18T13:30:15.656417Z"
    },
    "papermill": {
     "duration": 0.098545,
     "end_time": "2021-05-18T13:30:15.656945",
     "exception": false,
     "start_time": "2021-05-18T13:30:15.558400",
     "status": "completed"
    },
    "tags": []
   },
   "outputs": [],
   "source": [
    "test_account_preds_tweettext.to_csv('test_account_preds_tweettext.csv', index=False, encoding = \"utf_8_sig\")"
   ]
  }
 ],
 "metadata": {
  "kernelspec": {
   "display_name": "Python 3",
   "language": "python",
   "name": "python3"
  },
  "language_info": {
   "codemirror_mode": {
    "name": "ipython",
    "version": 3
   },
   "file_extension": ".py",
   "mimetype": "text/x-python",
   "name": "python",
   "nbconvert_exporter": "python",
   "pygments_lexer": "ipython3",
   "version": "3.7.6"
  },
  "papermill": {
   "duration": 139.568737,
   "end_time": "2021-05-18T13:30:15.948493",
   "environment_variables": {},
   "exception": null,
   "input_path": "__notebook__.ipynb",
   "output_path": "__notebook__.ipynb",
   "parameters": {},
   "start_time": "2021-05-18T13:27:56.379756",
   "version": "2.1.0"
  },
  "widgets": {
   "application/vnd.jupyter.widget-state+json": {
    "state": {
     "12d08acd069542f3bf423c16f72a60db": {
      "model_module": "@jupyter-widgets/base",
      "model_module_version": "1.2.0",
      "model_name": "LayoutModel",
      "state": {
       "_model_module": "@jupyter-widgets/base",
       "_model_module_version": "1.2.0",
       "_model_name": "LayoutModel",
       "_view_count": null,
       "_view_module": "@jupyter-widgets/base",
       "_view_module_version": "1.2.0",
       "_view_name": "LayoutView",
       "align_content": null,
       "align_items": null,
       "align_self": null,
       "border": null,
       "bottom": null,
       "display": null,
       "flex": null,
       "flex_flow": null,
       "grid_area": null,
       "grid_auto_columns": null,
       "grid_auto_flow": null,
       "grid_auto_rows": null,
       "grid_column": null,
       "grid_gap": null,
       "grid_row": null,
       "grid_template_areas": null,
       "grid_template_columns": null,
       "grid_template_rows": null,
       "height": null,
       "justify_content": null,
       "justify_items": null,
       "left": null,
       "margin": null,
       "max_height": null,
       "max_width": null,
       "min_height": null,
       "min_width": null,
       "object_fit": null,
       "object_position": null,
       "order": null,
       "overflow": null,
       "overflow_x": null,
       "overflow_y": null,
       "padding": null,
       "right": null,
       "top": null,
       "visibility": null,
       "width": null
      }
     },
     "15883c7405804606af3636ecd0281f83": {
      "model_module": "@jupyter-widgets/controls",
      "model_module_version": "1.5.0",
      "model_name": "HTMLModel",
      "state": {
       "_dom_classes": [],
       "_model_module": "@jupyter-widgets/controls",
       "_model_module_version": "1.5.0",
       "_model_name": "HTMLModel",
       "_view_count": null,
       "_view_module": "@jupyter-widgets/controls",
       "_view_module_version": "1.5.0",
       "_view_name": "HTMLView",
       "description": "",
       "description_tooltip": null,
       "layout": "IPY_MODEL_9932e6deb3854366aa5e951e48098e08",
       "placeholder": "​",
       "style": "IPY_MODEL_3a8f8a07aeba47e686be56f9022c0f25",
       "value": " 625/625 [00:20&lt;00:00, 31.2B/s]"
      }
     },
     "2ba2dd95e5204688be1cb11dcecb9201": {
      "model_module": "@jupyter-widgets/controls",
      "model_module_version": "1.5.0",
      "model_name": "HTMLModel",
      "state": {
       "_dom_classes": [],
       "_model_module": "@jupyter-widgets/controls",
       "_model_module_version": "1.5.0",
       "_model_name": "HTMLModel",
       "_view_count": null,
       "_view_module": "@jupyter-widgets/controls",
       "_view_module_version": "1.5.0",
       "_view_name": "HTMLView",
       "description": "",
       "description_tooltip": null,
       "layout": "IPY_MODEL_12d08acd069542f3bf423c16f72a60db",
       "placeholder": "​",
       "style": "IPY_MODEL_f2e755ae1f98444ab08acd2031e0e125",
       "value": " 996k/996k [00:00&lt;00:00, 2.14MB/s]"
      }
     },
     "318fd59fbb69494e8aba29e42415fee5": {
      "model_module": "@jupyter-widgets/base",
      "model_module_version": "1.2.0",
      "model_name": "LayoutModel",
      "state": {
       "_model_module": "@jupyter-widgets/base",
       "_model_module_version": "1.2.0",
       "_model_name": "LayoutModel",
       "_view_count": null,
       "_view_module": "@jupyter-widgets/base",
       "_view_module_version": "1.2.0",
       "_view_name": "LayoutView",
       "align_content": null,
       "align_items": null,
       "align_self": null,
       "border": null,
       "bottom": null,
       "display": null,
       "flex": null,
       "flex_flow": null,
       "grid_area": null,
       "grid_auto_columns": null,
       "grid_auto_flow": null,
       "grid_auto_rows": null,
       "grid_column": null,
       "grid_gap": null,
       "grid_row": null,
       "grid_template_areas": null,
       "grid_template_columns": null,
       "grid_template_rows": null,
       "height": null,
       "justify_content": null,
       "justify_items": null,
       "left": null,
       "margin": null,
       "max_height": null,
       "max_width": null,
       "min_height": null,
       "min_width": null,
       "object_fit": null,
       "object_position": null,
       "order": null,
       "overflow": null,
       "overflow_x": null,
       "overflow_y": null,
       "padding": null,
       "right": null,
       "top": null,
       "visibility": null,
       "width": null
      }
     },
     "3a8f8a07aeba47e686be56f9022c0f25": {
      "model_module": "@jupyter-widgets/controls",
      "model_module_version": "1.5.0",
      "model_name": "DescriptionStyleModel",
      "state": {
       "_model_module": "@jupyter-widgets/controls",
       "_model_module_version": "1.5.0",
       "_model_name": "DescriptionStyleModel",
       "_view_count": null,
       "_view_module": "@jupyter-widgets/base",
       "_view_module_version": "1.2.0",
       "_view_name": "StyleView",
       "description_width": ""
      }
     },
     "43b4a0cba787459f89a5f6562f927ee3": {
      "model_module": "@jupyter-widgets/controls",
      "model_module_version": "1.5.0",
      "model_name": "DescriptionStyleModel",
      "state": {
       "_model_module": "@jupyter-widgets/controls",
       "_model_module_version": "1.5.0",
       "_model_name": "DescriptionStyleModel",
       "_view_count": null,
       "_view_module": "@jupyter-widgets/base",
       "_view_module_version": "1.2.0",
       "_view_name": "StyleView",
       "description_width": ""
      }
     },
     "4e9b0f1ab9864d9484d1c9933cb54200": {
      "model_module": "@jupyter-widgets/controls",
      "model_module_version": "1.5.0",
      "model_name": "FloatProgressModel",
      "state": {
       "_dom_classes": [],
       "_model_module": "@jupyter-widgets/controls",
       "_model_module_version": "1.5.0",
       "_model_name": "FloatProgressModel",
       "_view_count": null,
       "_view_module": "@jupyter-widgets/controls",
       "_view_module_version": "1.5.0",
       "_view_name": "ProgressView",
       "bar_style": "success",
       "description": "Downloading: 100%",
       "description_tooltip": null,
       "layout": "IPY_MODEL_dc1cb5262eda403cbbd68d042d3b74ce",
       "max": 625.0,
       "min": 0.0,
       "orientation": "horizontal",
       "style": "IPY_MODEL_f3563e56d2664f91848cb6c52e36b6bd",
       "value": 625.0
      }
     },
     "6cc99139f51f4336840801f024fa2dde": {
      "model_module": "@jupyter-widgets/controls",
      "model_module_version": "1.5.0",
      "model_name": "FloatProgressModel",
      "state": {
       "_dom_classes": [],
       "_model_module": "@jupyter-widgets/controls",
       "_model_module_version": "1.5.0",
       "_model_name": "FloatProgressModel",
       "_view_count": null,
       "_view_module": "@jupyter-widgets/controls",
       "_view_module_version": "1.5.0",
       "_view_name": "ProgressView",
       "bar_style": "success",
       "description": "Downloading: 100%",
       "description_tooltip": null,
       "layout": "IPY_MODEL_ed0115f242e64a83b6844de279cfff0c",
       "max": 714314041.0,
       "min": 0.0,
       "orientation": "horizontal",
       "style": "IPY_MODEL_d863f60f08544ea680e39f4eb54347d2",
       "value": 714314041.0
      }
     },
     "6fbbe33192bc4fb0bb356f07fe393500": {
      "model_module": "@jupyter-widgets/base",
      "model_module_version": "1.2.0",
      "model_name": "LayoutModel",
      "state": {
       "_model_module": "@jupyter-widgets/base",
       "_model_module_version": "1.2.0",
       "_model_name": "LayoutModel",
       "_view_count": null,
       "_view_module": "@jupyter-widgets/base",
       "_view_module_version": "1.2.0",
       "_view_name": "LayoutView",
       "align_content": null,
       "align_items": null,
       "align_self": null,
       "border": null,
       "bottom": null,
       "display": null,
       "flex": null,
       "flex_flow": null,
       "grid_area": null,
       "grid_auto_columns": null,
       "grid_auto_flow": null,
       "grid_auto_rows": null,
       "grid_column": null,
       "grid_gap": null,
       "grid_row": null,
       "grid_template_areas": null,
       "grid_template_columns": null,
       "grid_template_rows": null,
       "height": null,
       "justify_content": null,
       "justify_items": null,
       "left": null,
       "margin": null,
       "max_height": null,
       "max_width": null,
       "min_height": null,
       "min_width": null,
       "object_fit": null,
       "object_position": null,
       "order": null,
       "overflow": null,
       "overflow_x": null,
       "overflow_y": null,
       "padding": null,
       "right": null,
       "top": null,
       "visibility": null,
       "width": null
      }
     },
     "771cb9455ba14b9ea70b411199e6b780": {
      "model_module": "@jupyter-widgets/controls",
      "model_module_version": "1.5.0",
      "model_name": "ProgressStyleModel",
      "state": {
       "_model_module": "@jupyter-widgets/controls",
       "_model_module_version": "1.5.0",
       "_model_name": "ProgressStyleModel",
       "_view_count": null,
       "_view_module": "@jupyter-widgets/base",
       "_view_module_version": "1.2.0",
       "_view_name": "StyleView",
       "bar_color": null,
       "description_width": "initial"
      }
     },
     "7e1776de14a542dcafbea02db7ba651e": {
      "model_module": "@jupyter-widgets/base",
      "model_module_version": "1.2.0",
      "model_name": "LayoutModel",
      "state": {
       "_model_module": "@jupyter-widgets/base",
       "_model_module_version": "1.2.0",
       "_model_name": "LayoutModel",
       "_view_count": null,
       "_view_module": "@jupyter-widgets/base",
       "_view_module_version": "1.2.0",
       "_view_name": "LayoutView",
       "align_content": null,
       "align_items": null,
       "align_self": null,
       "border": null,
       "bottom": null,
       "display": null,
       "flex": null,
       "flex_flow": null,
       "grid_area": null,
       "grid_auto_columns": null,
       "grid_auto_flow": null,
       "grid_auto_rows": null,
       "grid_column": null,
       "grid_gap": null,
       "grid_row": null,
       "grid_template_areas": null,
       "grid_template_columns": null,
       "grid_template_rows": null,
       "height": null,
       "justify_content": null,
       "justify_items": null,
       "left": null,
       "margin": null,
       "max_height": null,
       "max_width": null,
       "min_height": null,
       "min_width": null,
       "object_fit": null,
       "object_position": null,
       "order": null,
       "overflow": null,
       "overflow_x": null,
       "overflow_y": null,
       "padding": null,
       "right": null,
       "top": null,
       "visibility": null,
       "width": null
      }
     },
     "964003ae57a74d40a870d9f8f138137b": {
      "model_module": "@jupyter-widgets/base",
      "model_module_version": "1.2.0",
      "model_name": "LayoutModel",
      "state": {
       "_model_module": "@jupyter-widgets/base",
       "_model_module_version": "1.2.0",
       "_model_name": "LayoutModel",
       "_view_count": null,
       "_view_module": "@jupyter-widgets/base",
       "_view_module_version": "1.2.0",
       "_view_name": "LayoutView",
       "align_content": null,
       "align_items": null,
       "align_self": null,
       "border": null,
       "bottom": null,
       "display": null,
       "flex": null,
       "flex_flow": null,
       "grid_area": null,
       "grid_auto_columns": null,
       "grid_auto_flow": null,
       "grid_auto_rows": null,
       "grid_column": null,
       "grid_gap": null,
       "grid_row": null,
       "grid_template_areas": null,
       "grid_template_columns": null,
       "grid_template_rows": null,
       "height": null,
       "justify_content": null,
       "justify_items": null,
       "left": null,
       "margin": null,
       "max_height": null,
       "max_width": null,
       "min_height": null,
       "min_width": null,
       "object_fit": null,
       "object_position": null,
       "order": null,
       "overflow": null,
       "overflow_x": null,
       "overflow_y": null,
       "padding": null,
       "right": null,
       "top": null,
       "visibility": null,
       "width": null
      }
     },
     "9932e6deb3854366aa5e951e48098e08": {
      "model_module": "@jupyter-widgets/base",
      "model_module_version": "1.2.0",
      "model_name": "LayoutModel",
      "state": {
       "_model_module": "@jupyter-widgets/base",
       "_model_module_version": "1.2.0",
       "_model_name": "LayoutModel",
       "_view_count": null,
       "_view_module": "@jupyter-widgets/base",
       "_view_module_version": "1.2.0",
       "_view_name": "LayoutView",
       "align_content": null,
       "align_items": null,
       "align_self": null,
       "border": null,
       "bottom": null,
       "display": null,
       "flex": null,
       "flex_flow": null,
       "grid_area": null,
       "grid_auto_columns": null,
       "grid_auto_flow": null,
       "grid_auto_rows": null,
       "grid_column": null,
       "grid_gap": null,
       "grid_row": null,
       "grid_template_areas": null,
       "grid_template_columns": null,
       "grid_template_rows": null,
       "height": null,
       "justify_content": null,
       "justify_items": null,
       "left": null,
       "margin": null,
       "max_height": null,
       "max_width": null,
       "min_height": null,
       "min_width": null,
       "object_fit": null,
       "object_position": null,
       "order": null,
       "overflow": null,
       "overflow_x": null,
       "overflow_y": null,
       "padding": null,
       "right": null,
       "top": null,
       "visibility": null,
       "width": null
      }
     },
     "d362b152441e421ab22a0441a30dc334": {
      "model_module": "@jupyter-widgets/base",
      "model_module_version": "1.2.0",
      "model_name": "LayoutModel",
      "state": {
       "_model_module": "@jupyter-widgets/base",
       "_model_module_version": "1.2.0",
       "_model_name": "LayoutModel",
       "_view_count": null,
       "_view_module": "@jupyter-widgets/base",
       "_view_module_version": "1.2.0",
       "_view_name": "LayoutView",
       "align_content": null,
       "align_items": null,
       "align_self": null,
       "border": null,
       "bottom": null,
       "display": null,
       "flex": null,
       "flex_flow": null,
       "grid_area": null,
       "grid_auto_columns": null,
       "grid_auto_flow": null,
       "grid_auto_rows": null,
       "grid_column": null,
       "grid_gap": null,
       "grid_row": null,
       "grid_template_areas": null,
       "grid_template_columns": null,
       "grid_template_rows": null,
       "height": null,
       "justify_content": null,
       "justify_items": null,
       "left": null,
       "margin": null,
       "max_height": null,
       "max_width": null,
       "min_height": null,
       "min_width": null,
       "object_fit": null,
       "object_position": null,
       "order": null,
       "overflow": null,
       "overflow_x": null,
       "overflow_y": null,
       "padding": null,
       "right": null,
       "top": null,
       "visibility": null,
       "width": null
      }
     },
     "d863f60f08544ea680e39f4eb54347d2": {
      "model_module": "@jupyter-widgets/controls",
      "model_module_version": "1.5.0",
      "model_name": "ProgressStyleModel",
      "state": {
       "_model_module": "@jupyter-widgets/controls",
       "_model_module_version": "1.5.0",
       "_model_name": "ProgressStyleModel",
       "_view_count": null,
       "_view_module": "@jupyter-widgets/base",
       "_view_module_version": "1.2.0",
       "_view_name": "StyleView",
       "bar_color": null,
       "description_width": "initial"
      }
     },
     "dc1cb5262eda403cbbd68d042d3b74ce": {
      "model_module": "@jupyter-widgets/base",
      "model_module_version": "1.2.0",
      "model_name": "LayoutModel",
      "state": {
       "_model_module": "@jupyter-widgets/base",
       "_model_module_version": "1.2.0",
       "_model_name": "LayoutModel",
       "_view_count": null,
       "_view_module": "@jupyter-widgets/base",
       "_view_module_version": "1.2.0",
       "_view_name": "LayoutView",
       "align_content": null,
       "align_items": null,
       "align_self": null,
       "border": null,
       "bottom": null,
       "display": null,
       "flex": null,
       "flex_flow": null,
       "grid_area": null,
       "grid_auto_columns": null,
       "grid_auto_flow": null,
       "grid_auto_rows": null,
       "grid_column": null,
       "grid_gap": null,
       "grid_row": null,
       "grid_template_areas": null,
       "grid_template_columns": null,
       "grid_template_rows": null,
       "height": null,
       "justify_content": null,
       "justify_items": null,
       "left": null,
       "margin": null,
       "max_height": null,
       "max_width": null,
       "min_height": null,
       "min_width": null,
       "object_fit": null,
       "object_position": null,
       "order": null,
       "overflow": null,
       "overflow_x": null,
       "overflow_y": null,
       "padding": null,
       "right": null,
       "top": null,
       "visibility": null,
       "width": null
      }
     },
     "e4612036536c47589cf05a2c8c3a312f": {
      "model_module": "@jupyter-widgets/controls",
      "model_module_version": "1.5.0",
      "model_name": "HBoxModel",
      "state": {
       "_dom_classes": [],
       "_model_module": "@jupyter-widgets/controls",
       "_model_module_version": "1.5.0",
       "_model_name": "HBoxModel",
       "_view_count": null,
       "_view_module": "@jupyter-widgets/controls",
       "_view_module_version": "1.5.0",
       "_view_name": "HBoxView",
       "box_style": "",
       "children": [
        "IPY_MODEL_f03ef8f2607f4a68a7d0df8cc5b01869",
        "IPY_MODEL_2ba2dd95e5204688be1cb11dcecb9201"
       ],
       "layout": "IPY_MODEL_d362b152441e421ab22a0441a30dc334"
      }
     },
     "e66c23a7962345b0a3f024f220d46f2a": {
      "model_module": "@jupyter-widgets/controls",
      "model_module_version": "1.5.0",
      "model_name": "HTMLModel",
      "state": {
       "_dom_classes": [],
       "_model_module": "@jupyter-widgets/controls",
       "_model_module_version": "1.5.0",
       "_model_name": "HTMLModel",
       "_view_count": null,
       "_view_module": "@jupyter-widgets/controls",
       "_view_module_version": "1.5.0",
       "_view_name": "HTMLView",
       "description": "",
       "description_tooltip": null,
       "layout": "IPY_MODEL_6fbbe33192bc4fb0bb356f07fe393500",
       "placeholder": "​",
       "style": "IPY_MODEL_43b4a0cba787459f89a5f6562f927ee3",
       "value": " 714M/714M [00:19&lt;00:00, 37.1MB/s]"
      }
     },
     "ec1cc5823b7845059944548092081048": {
      "model_module": "@jupyter-widgets/controls",
      "model_module_version": "1.5.0",
      "model_name": "HBoxModel",
      "state": {
       "_dom_classes": [],
       "_model_module": "@jupyter-widgets/controls",
       "_model_module_version": "1.5.0",
       "_model_name": "HBoxModel",
       "_view_count": null,
       "_view_module": "@jupyter-widgets/controls",
       "_view_module_version": "1.5.0",
       "_view_name": "HBoxView",
       "box_style": "",
       "children": [
        "IPY_MODEL_6cc99139f51f4336840801f024fa2dde",
        "IPY_MODEL_e66c23a7962345b0a3f024f220d46f2a"
       ],
       "layout": "IPY_MODEL_318fd59fbb69494e8aba29e42415fee5"
      }
     },
     "ed0115f242e64a83b6844de279cfff0c": {
      "model_module": "@jupyter-widgets/base",
      "model_module_version": "1.2.0",
      "model_name": "LayoutModel",
      "state": {
       "_model_module": "@jupyter-widgets/base",
       "_model_module_version": "1.2.0",
       "_model_name": "LayoutModel",
       "_view_count": null,
       "_view_module": "@jupyter-widgets/base",
       "_view_module_version": "1.2.0",
       "_view_name": "LayoutView",
       "align_content": null,
       "align_items": null,
       "align_self": null,
       "border": null,
       "bottom": null,
       "display": null,
       "flex": null,
       "flex_flow": null,
       "grid_area": null,
       "grid_auto_columns": null,
       "grid_auto_flow": null,
       "grid_auto_rows": null,
       "grid_column": null,
       "grid_gap": null,
       "grid_row": null,
       "grid_template_areas": null,
       "grid_template_columns": null,
       "grid_template_rows": null,
       "height": null,
       "justify_content": null,
       "justify_items": null,
       "left": null,
       "margin": null,
       "max_height": null,
       "max_width": null,
       "min_height": null,
       "min_width": null,
       "object_fit": null,
       "object_position": null,
       "order": null,
       "overflow": null,
       "overflow_x": null,
       "overflow_y": null,
       "padding": null,
       "right": null,
       "top": null,
       "visibility": null,
       "width": null
      }
     },
     "f03ef8f2607f4a68a7d0df8cc5b01869": {
      "model_module": "@jupyter-widgets/controls",
      "model_module_version": "1.5.0",
      "model_name": "FloatProgressModel",
      "state": {
       "_dom_classes": [],
       "_model_module": "@jupyter-widgets/controls",
       "_model_module_version": "1.5.0",
       "_model_name": "FloatProgressModel",
       "_view_count": null,
       "_view_module": "@jupyter-widgets/controls",
       "_view_module_version": "1.5.0",
       "_view_name": "ProgressView",
       "bar_style": "success",
       "description": "Downloading: 100%",
       "description_tooltip": null,
       "layout": "IPY_MODEL_964003ae57a74d40a870d9f8f138137b",
       "max": 995526.0,
       "min": 0.0,
       "orientation": "horizontal",
       "style": "IPY_MODEL_771cb9455ba14b9ea70b411199e6b780",
       "value": 995526.0
      }
     },
     "f0fa768fa591438e9378981d5dd9f11b": {
      "model_module": "@jupyter-widgets/controls",
      "model_module_version": "1.5.0",
      "model_name": "HBoxModel",
      "state": {
       "_dom_classes": [],
       "_model_module": "@jupyter-widgets/controls",
       "_model_module_version": "1.5.0",
       "_model_name": "HBoxModel",
       "_view_count": null,
       "_view_module": "@jupyter-widgets/controls",
       "_view_module_version": "1.5.0",
       "_view_name": "HBoxView",
       "box_style": "",
       "children": [
        "IPY_MODEL_4e9b0f1ab9864d9484d1c9933cb54200",
        "IPY_MODEL_15883c7405804606af3636ecd0281f83"
       ],
       "layout": "IPY_MODEL_7e1776de14a542dcafbea02db7ba651e"
      }
     },
     "f2e755ae1f98444ab08acd2031e0e125": {
      "model_module": "@jupyter-widgets/controls",
      "model_module_version": "1.5.0",
      "model_name": "DescriptionStyleModel",
      "state": {
       "_model_module": "@jupyter-widgets/controls",
       "_model_module_version": "1.5.0",
       "_model_name": "DescriptionStyleModel",
       "_view_count": null,
       "_view_module": "@jupyter-widgets/base",
       "_view_module_version": "1.2.0",
       "_view_name": "StyleView",
       "description_width": ""
      }
     },
     "f3563e56d2664f91848cb6c52e36b6bd": {
      "model_module": "@jupyter-widgets/controls",
      "model_module_version": "1.5.0",
      "model_name": "ProgressStyleModel",
      "state": {
       "_model_module": "@jupyter-widgets/controls",
       "_model_module_version": "1.5.0",
       "_model_name": "ProgressStyleModel",
       "_view_count": null,
       "_view_module": "@jupyter-widgets/base",
       "_view_module_version": "1.2.0",
       "_view_name": "StyleView",
       "bar_color": null,
       "description_width": "initial"
      }
     }
    },
    "version_major": 2,
    "version_minor": 0
   }
  }
 },
 "nbformat": 4,
 "nbformat_minor": 4
}
