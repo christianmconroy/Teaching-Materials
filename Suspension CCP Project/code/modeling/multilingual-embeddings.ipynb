{
 "cells": [
  {
   "cell_type": "markdown",
   "metadata": {
    "papermill": {
     "duration": 0.05233,
     "end_time": "2021-05-17T00:37:15.859751",
     "exception": false,
     "start_time": "2021-05-17T00:37:15.807421",
     "status": "completed"
    },
    "tags": []
   },
   "source": [
    "### Load in Packages and Set Up Parameters"
   ]
  },
  {
   "cell_type": "code",
   "execution_count": 1,
   "metadata": {
    "_cell_guid": "b1076dfc-b9ad-4769-8c92-a6c4dae69d19",
    "_uuid": "8f2839f25d086af736a60e9eeb907d3b93b6e0e5",
    "execution": {
     "iopub.execute_input": "2021-05-17T00:37:15.999165Z",
     "iopub.status.busy": "2021-05-17T00:37:15.998625Z",
     "iopub.status.idle": "2021-05-17T00:37:20.754958Z",
     "shell.execute_reply": "2021-05-17T00:37:20.753965Z"
    },
    "papermill": {
     "duration": 4.813009,
     "end_time": "2021-05-17T00:37:20.755082",
     "exception": false,
     "start_time": "2021-05-17T00:37:15.942073",
     "status": "completed"
    },
    "tags": []
   },
   "outputs": [],
   "source": [
    "import pandas as pd\n",
    "from keras.preprocessing.sequence import pad_sequences\n",
    "\n",
    "import matplotlib.pyplot as plt\n",
    "%matplotlib inline"
   ]
  },
  {
   "cell_type": "code",
   "execution_count": 2,
   "metadata": {
    "execution": {
     "iopub.execute_input": "2021-05-17T00:37:22.995698Z",
     "iopub.status.busy": "2021-05-17T00:37:22.994828Z",
     "iopub.status.idle": "2021-05-17T00:37:22.998421Z",
     "shell.execute_reply": "2021-05-17T00:37:22.999104Z"
    },
    "papermill": {
     "duration": 2.193335,
     "end_time": "2021-05-17T00:37:22.999264",
     "exception": false,
     "start_time": "2021-05-17T00:37:20.805929",
     "status": "completed"
    },
    "tags": []
   },
   "outputs": [
    {
     "name": "stdout",
     "output_type": "stream",
     "text": [
      "Found GPU at: /device:GPU:0\n"
     ]
    }
   ],
   "source": [
    "import tensorflow as tf\n",
    "# Get the GPU device name.\n",
    "device_name = tf.test.gpu_device_name()\n",
    "# The device name should look like the following:\n",
    "if device_name == '/device:GPU:0':\n",
    "    print('Found GPU at: {}'.format(device_name))\n",
    "else:\n",
    "    raise SystemError('GPU device not found')"
   ]
  },
  {
   "cell_type": "markdown",
   "metadata": {
    "papermill": {
     "duration": 0.051838,
     "end_time": "2021-05-17T00:37:23.105047",
     "exception": false,
     "start_time": "2021-05-17T00:37:23.053209",
     "status": "completed"
    },
    "tags": []
   },
   "source": [
    "In order for torch to use the GPU, we need to identify and specify the GPU as the device. Later, in our training loop, we will load data onto the device."
   ]
  },
  {
   "cell_type": "code",
   "execution_count": 3,
   "metadata": {
    "execution": {
     "iopub.execute_input": "2021-05-17T00:37:23.215350Z",
     "iopub.status.busy": "2021-05-17T00:37:23.214687Z",
     "iopub.status.idle": "2021-05-17T00:37:24.349325Z",
     "shell.execute_reply": "2021-05-17T00:37:24.348810Z"
    },
    "papermill": {
     "duration": 1.193087,
     "end_time": "2021-05-17T00:37:24.349469",
     "exception": false,
     "start_time": "2021-05-17T00:37:23.156382",
     "status": "completed"
    },
    "tags": []
   },
   "outputs": [
    {
     "name": "stdout",
     "output_type": "stream",
     "text": [
      "There are 1 GPU(s) available.\n",
      "We will use the GPU: Tesla P100-PCIE-16GB\n"
     ]
    }
   ],
   "source": [
    "import torch\n",
    "# If there's a GPU available...\n",
    "if torch.cuda.is_available():    \n",
    "    # Tell PyTorch to use the GPU.    \n",
    "    device = torch.device(\"cuda\")\n",
    "    print('There are %d GPU(s) available.' % torch.cuda.device_count())\n",
    "    print('We will use the GPU:', torch.cuda.get_device_name(0))\n",
    "# If not...\n",
    "else:\n",
    "    print('No GPU available, using the CPU instead.')\n",
    "    device = torch.device(\"cpu\")"
   ]
  },
  {
   "cell_type": "markdown",
   "metadata": {
    "papermill": {
     "duration": 0.051451,
     "end_time": "2021-05-17T00:37:24.453523",
     "exception": false,
     "start_time": "2021-05-17T00:37:24.402072",
     "status": "completed"
    },
    "tags": []
   },
   "source": [
    "Next, let’s install the transformers package from Hugging Face which will give us a pytorch interface for working with BERT. (This library contains interfaces for other pretrained language models like OpenAI’s GPT and GPT-2.) We’ve selected the pytorch interface because it strikes a nice balance between the high-level APIs (which are easy to use but don’t provide insight into how things work) and tensorflow code (which contains lots of details but often sidetracks us into lessons about tensorflow, when the purpose here is BERT!)."
   ]
  },
  {
   "cell_type": "code",
   "execution_count": 4,
   "metadata": {
    "execution": {
     "iopub.execute_input": "2021-05-17T00:37:24.561800Z",
     "iopub.status.busy": "2021-05-17T00:37:24.561176Z",
     "iopub.status.idle": "2021-05-17T00:37:31.903293Z",
     "shell.execute_reply": "2021-05-17T00:37:31.904050Z"
    },
    "papermill": {
     "duration": 7.398764,
     "end_time": "2021-05-17T00:37:31.904259",
     "exception": false,
     "start_time": "2021-05-17T00:37:24.505495",
     "status": "completed"
    },
    "tags": []
   },
   "outputs": [
    {
     "name": "stdout",
     "output_type": "stream",
     "text": [
      "Requirement already satisfied: transformers in /opt/conda/lib/python3.7/site-packages (3.5.1)\r\n",
      "Requirement already satisfied: tokenizers==0.9.3 in /opt/conda/lib/python3.7/site-packages (from transformers) (0.9.3)\r\n",
      "Requirement already satisfied: regex!=2019.12.17 in /opt/conda/lib/python3.7/site-packages (from transformers) (2020.4.4)\r\n",
      "Requirement already satisfied: sacremoses in /opt/conda/lib/python3.7/site-packages (from transformers) (0.0.43)\r\n",
      "Requirement already satisfied: protobuf in /opt/conda/lib/python3.7/site-packages (from transformers) (3.14.0)\r\n",
      "Requirement already satisfied: packaging in /opt/conda/lib/python3.7/site-packages (from transformers) (20.1)\r\n",
      "Requirement already satisfied: numpy in /opt/conda/lib/python3.7/site-packages (from transformers) (1.18.5)\r\n",
      "Requirement already satisfied: sentencepiece==0.1.91 in /opt/conda/lib/python3.7/site-packages (from transformers) (0.1.91)\r\n",
      "Requirement already satisfied: tqdm>=4.27 in /opt/conda/lib/python3.7/site-packages (from transformers) (4.45.0)\r\n",
      "Requirement already satisfied: filelock in /opt/conda/lib/python3.7/site-packages (from transformers) (3.0.10)\r\n",
      "Requirement already satisfied: requests in /opt/conda/lib/python3.7/site-packages (from transformers) (2.23.0)\r\n",
      "Requirement already satisfied: six in /opt/conda/lib/python3.7/site-packages (from packaging->transformers) (1.14.0)\r\n",
      "Requirement already satisfied: pyparsing>=2.0.2 in /opt/conda/lib/python3.7/site-packages (from packaging->transformers) (2.4.7)\r\n",
      "Requirement already satisfied: six in /opt/conda/lib/python3.7/site-packages (from packaging->transformers) (1.14.0)\r\n",
      "Requirement already satisfied: idna<3,>=2.5 in /opt/conda/lib/python3.7/site-packages (from requests->transformers) (2.9)\r\n",
      "Requirement already satisfied: urllib3!=1.25.0,!=1.25.1,<1.26,>=1.21.1 in /opt/conda/lib/python3.7/site-packages (from requests->transformers) (1.25.9)\r\n",
      "Requirement already satisfied: certifi>=2017.4.17 in /opt/conda/lib/python3.7/site-packages (from requests->transformers) (2020.12.5)\r\n",
      "Requirement already satisfied: chardet<4,>=3.0.2 in /opt/conda/lib/python3.7/site-packages (from requests->transformers) (3.0.4)\r\n",
      "Requirement already satisfied: tqdm>=4.27 in /opt/conda/lib/python3.7/site-packages (from transformers) (4.45.0)\r\n",
      "Requirement already satisfied: regex!=2019.12.17 in /opt/conda/lib/python3.7/site-packages (from transformers) (2020.4.4)\r\n",
      "Requirement already satisfied: click in /opt/conda/lib/python3.7/site-packages (from sacremoses->transformers) (7.1.1)\r\n",
      "Requirement already satisfied: six in /opt/conda/lib/python3.7/site-packages (from packaging->transformers) (1.14.0)\r\n",
      "Requirement already satisfied: joblib in /opt/conda/lib/python3.7/site-packages (from sacremoses->transformers) (0.14.1)\r\n",
      "\u001b[33mWARNING: You are using pip version 20.3.1; however, version 21.1.1 is available.\r\n",
      "You should consider upgrading via the '/opt/conda/bin/python3.7 -m pip install --upgrade pip' command.\u001b[0m\r\n"
     ]
    }
   ],
   "source": [
    "!pip install transformers"
   ]
  },
  {
   "cell_type": "markdown",
   "metadata": {
    "papermill": {
     "duration": 0.086606,
     "end_time": "2021-05-17T00:37:32.085311",
     "exception": false,
     "start_time": "2021-05-17T00:37:31.998705",
     "status": "completed"
    },
    "tags": []
   },
   "source": [
    "### Load in Data"
   ]
  },
  {
   "cell_type": "code",
   "execution_count": 5,
   "metadata": {
    "execution": {
     "iopub.execute_input": "2021-05-17T00:37:32.267597Z",
     "iopub.status.busy": "2021-05-17T00:37:32.266741Z",
     "iopub.status.idle": "2021-05-17T00:37:38.809419Z",
     "shell.execute_reply": "2021-05-17T00:37:38.808305Z"
    },
    "papermill": {
     "duration": 6.636281,
     "end_time": "2021-05-17T00:37:38.809527",
     "exception": false,
     "start_time": "2021-05-17T00:37:32.173246",
     "status": "completed"
    },
    "tags": []
   },
   "outputs": [],
   "source": [
    "#### Load in data from S3\n",
    "\n",
    "# Import Train and Measure Balance\n",
    "# Import Flattened Data\n",
    "df_train_f = pd.read_csv(\"/kaggle/input/updated-bert-datasets/df_train_full_cleaned_pe.csv\", encoding='utf_8_sig', low_memory=False)\n",
    "\n",
    "# Import Test and Measure Balance\n",
    "\n",
    "df_test_f = pd.read_csv(\"/kaggle/input/updated-bert-datasets/df_test_full_cleaned_pe.csv\", encoding='utf_8_sig', low_memory=False)\n",
    "\n",
    "# Import Validation and Measure Balance\n",
    "# Import Flattened Data\n",
    "df_valid_f = pd.read_csv(\"/kaggle/input/updated-bert-datasets/df_valid_full_cleaned_pe.csv\", encoding='utf_8_sig', low_memory=False)"
   ]
  },
  {
   "cell_type": "code",
   "execution_count": 6,
   "metadata": {
    "execution": {
     "iopub.execute_input": "2021-05-17T00:37:38.954329Z",
     "iopub.status.busy": "2021-05-17T00:37:38.953786Z",
     "iopub.status.idle": "2021-05-17T00:37:38.967510Z",
     "shell.execute_reply": "2021-05-17T00:37:38.967925Z"
    },
    "papermill": {
     "duration": 0.09496,
     "end_time": "2021-05-17T00:37:38.968055",
     "exception": false,
     "start_time": "2021-05-17T00:37:38.873095",
     "status": "completed"
    },
    "tags": []
   },
   "outputs": [
    {
     "data": {
      "text/html": [
       "<div>\n",
       "<style scoped>\n",
       "    .dataframe tbody tr th:only-of-type {\n",
       "        vertical-align: middle;\n",
       "    }\n",
       "\n",
       "    .dataframe tbody tr th {\n",
       "        vertical-align: top;\n",
       "    }\n",
       "\n",
       "    .dataframe thead th {\n",
       "        text-align: right;\n",
       "    }\n",
       "</style>\n",
       "<table border=\"1\" class=\"dataframe\">\n",
       "  <thead>\n",
       "    <tr style=\"text-align: right;\">\n",
       "      <th></th>\n",
       "      <th>id</th>\n",
       "      <th>created_at</th>\n",
       "      <th>text</th>\n",
       "      <th>retweet_count</th>\n",
       "      <th>favorite_count</th>\n",
       "      <th>quoted_status_id</th>\n",
       "      <th>user.id</th>\n",
       "      <th>user.created_at</th>\n",
       "      <th>user.description</th>\n",
       "      <th>user.favourites_count</th>\n",
       "      <th>...</th>\n",
       "      <th>user.geo_enabled_False</th>\n",
       "      <th>user.geo_enabled_True</th>\n",
       "      <th>user.verified_False</th>\n",
       "      <th>user.has_extended_profile_False</th>\n",
       "      <th>user.has_extended_profile_True</th>\n",
       "      <th>user.protected_False</th>\n",
       "      <th>user.verified_False.1</th>\n",
       "      <th>user.default_profile_True</th>\n",
       "      <th>is_quote_status_False</th>\n",
       "      <th>is_quote_status_True</th>\n",
       "    </tr>\n",
       "  </thead>\n",
       "  <tbody>\n",
       "    <tr>\n",
       "      <th>0</th>\n",
       "      <td>'1.278734441767207e+18'</td>\n",
       "      <td>1.593709e+09</td>\n",
       "      <td>@ImranKhanPTI me mazor adme ho</td>\n",
       "      <td>0.0</td>\n",
       "      <td>0.0</td>\n",
       "      <td>0</td>\n",
       "      <td>1.278130e+18</td>\n",
       "      <td>1.593565e+09</td>\n",
       "      <td>m munir</td>\n",
       "      <td>5.0</td>\n",
       "      <td>...</td>\n",
       "      <td>1</td>\n",
       "      <td>0</td>\n",
       "      <td>1</td>\n",
       "      <td>0</td>\n",
       "      <td>1</td>\n",
       "      <td>1</td>\n",
       "      <td>1</td>\n",
       "      <td>1</td>\n",
       "      <td>1</td>\n",
       "      <td>0</td>\n",
       "    </tr>\n",
       "    <tr>\n",
       "      <th>1</th>\n",
       "      <td>'1.278717951009411e+18'</td>\n",
       "      <td>1.593705e+09</td>\n",
       "      <td>@SatoshiLite @litecoin face_with_monocle face_...</td>\n",
       "      <td>0.0</td>\n",
       "      <td>0.0</td>\n",
       "      <td>0</td>\n",
       "      <td>1.278132e+18</td>\n",
       "      <td>1.593565e+09</td>\n",
       "      <td>3QEX professional blockchain asset trading pla...</td>\n",
       "      <td>9.0</td>\n",
       "      <td>...</td>\n",
       "      <td>0</td>\n",
       "      <td>1</td>\n",
       "      <td>1</td>\n",
       "      <td>0</td>\n",
       "      <td>1</td>\n",
       "      <td>1</td>\n",
       "      <td>1</td>\n",
       "      <td>1</td>\n",
       "      <td>1</td>\n",
       "      <td>0</td>\n",
       "    </tr>\n",
       "    <tr>\n",
       "      <th>2</th>\n",
       "      <td>'1.278717966213722e+18'</td>\n",
       "      <td>1.593705e+09</td>\n",
       "      <td>RT @SatoshiLite: Litecoin Core 0.18.1 final re...</td>\n",
       "      <td>190.0</td>\n",
       "      <td>0.0</td>\n",
       "      <td>1</td>\n",
       "      <td>1.278132e+18</td>\n",
       "      <td>1.593565e+09</td>\n",
       "      <td>3QEX professional blockchain asset trading pla...</td>\n",
       "      <td>9.0</td>\n",
       "      <td>...</td>\n",
       "      <td>0</td>\n",
       "      <td>1</td>\n",
       "      <td>1</td>\n",
       "      <td>0</td>\n",
       "      <td>1</td>\n",
       "      <td>1</td>\n",
       "      <td>1</td>\n",
       "      <td>1</td>\n",
       "      <td>0</td>\n",
       "      <td>1</td>\n",
       "    </tr>\n",
       "    <tr>\n",
       "      <th>3</th>\n",
       "      <td>'1.2787185769673114e+18'</td>\n",
       "      <td>1.593705e+09</td>\n",
       "      <td>@LitecoinDotCom @litecoin @JiangZhuoer #3qex g...</td>\n",
       "      <td>0.0</td>\n",
       "      <td>0.0</td>\n",
       "      <td>0</td>\n",
       "      <td>1.278132e+18</td>\n",
       "      <td>1.593565e+09</td>\n",
       "      <td>3QEX professional blockchain asset trading pla...</td>\n",
       "      <td>9.0</td>\n",
       "      <td>...</td>\n",
       "      <td>0</td>\n",
       "      <td>1</td>\n",
       "      <td>1</td>\n",
       "      <td>0</td>\n",
       "      <td>1</td>\n",
       "      <td>1</td>\n",
       "      <td>1</td>\n",
       "      <td>1</td>\n",
       "      <td>1</td>\n",
       "      <td>0</td>\n",
       "    </tr>\n",
       "    <tr>\n",
       "      <th>4</th>\n",
       "      <td>'1.2787265998865285e+18'</td>\n",
       "      <td>1.593707e+09</td>\n",
       "      <td>#3qex https://t.co/eezSHw1LpM</td>\n",
       "      <td>0.0</td>\n",
       "      <td>0.0</td>\n",
       "      <td>0</td>\n",
       "      <td>1.278132e+18</td>\n",
       "      <td>1.593565e+09</td>\n",
       "      <td>3QEX professional blockchain asset trading pla...</td>\n",
       "      <td>9.0</td>\n",
       "      <td>...</td>\n",
       "      <td>0</td>\n",
       "      <td>1</td>\n",
       "      <td>1</td>\n",
       "      <td>0</td>\n",
       "      <td>1</td>\n",
       "      <td>1</td>\n",
       "      <td>1</td>\n",
       "      <td>1</td>\n",
       "      <td>1</td>\n",
       "      <td>0</td>\n",
       "    </tr>\n",
       "    <tr>\n",
       "      <th>5</th>\n",
       "      <td>'1.2787264315398185e+18'</td>\n",
       "      <td>1.593707e+09</td>\n",
       "      <td>https://t.co/x6PEeWW48S</td>\n",
       "      <td>0.0</td>\n",
       "      <td>0.0</td>\n",
       "      <td>0</td>\n",
       "      <td>1.278132e+18</td>\n",
       "      <td>1.593565e+09</td>\n",
       "      <td>3QEX professional blockchain asset trading pla...</td>\n",
       "      <td>9.0</td>\n",
       "      <td>...</td>\n",
       "      <td>0</td>\n",
       "      <td>1</td>\n",
       "      <td>1</td>\n",
       "      <td>0</td>\n",
       "      <td>1</td>\n",
       "      <td>1</td>\n",
       "      <td>1</td>\n",
       "      <td>1</td>\n",
       "      <td>1</td>\n",
       "      <td>0</td>\n",
       "    </tr>\n",
       "  </tbody>\n",
       "</table>\n",
       "<p>6 rows × 167 columns</p>\n",
       "</div>"
      ],
      "text/plain": [
       "                         id    created_at  \\\n",
       "0   '1.278734441767207e+18'  1.593709e+09   \n",
       "1   '1.278717951009411e+18'  1.593705e+09   \n",
       "2   '1.278717966213722e+18'  1.593705e+09   \n",
       "3  '1.2787185769673114e+18'  1.593705e+09   \n",
       "4  '1.2787265998865285e+18'  1.593707e+09   \n",
       "5  '1.2787264315398185e+18'  1.593707e+09   \n",
       "\n",
       "                                                text  retweet_count  \\\n",
       "0                     @ImranKhanPTI me mazor adme ho            0.0   \n",
       "1  @SatoshiLite @litecoin face_with_monocle face_...            0.0   \n",
       "2  RT @SatoshiLite: Litecoin Core 0.18.1 final re...          190.0   \n",
       "3  @LitecoinDotCom @litecoin @JiangZhuoer #3qex g...            0.0   \n",
       "4                      #3qex https://t.co/eezSHw1LpM            0.0   \n",
       "5                            https://t.co/x6PEeWW48S            0.0   \n",
       "\n",
       "   favorite_count  quoted_status_id       user.id  user.created_at  \\\n",
       "0             0.0                 0  1.278130e+18     1.593565e+09   \n",
       "1             0.0                 0  1.278132e+18     1.593565e+09   \n",
       "2             0.0                 1  1.278132e+18     1.593565e+09   \n",
       "3             0.0                 0  1.278132e+18     1.593565e+09   \n",
       "4             0.0                 0  1.278132e+18     1.593565e+09   \n",
       "5             0.0                 0  1.278132e+18     1.593565e+09   \n",
       "\n",
       "                                    user.description  user.favourites_count  \\\n",
       "0                                            m munir                    5.0   \n",
       "1  3QEX professional blockchain asset trading pla...                    9.0   \n",
       "2  3QEX professional blockchain asset trading pla...                    9.0   \n",
       "3  3QEX professional blockchain asset trading pla...                    9.0   \n",
       "4  3QEX professional blockchain asset trading pla...                    9.0   \n",
       "5  3QEX professional blockchain asset trading pla...                    9.0   \n",
       "\n",
       "   ...  user.geo_enabled_False  user.geo_enabled_True  user.verified_False  \\\n",
       "0  ...                       1                      0                    1   \n",
       "1  ...                       0                      1                    1   \n",
       "2  ...                       0                      1                    1   \n",
       "3  ...                       0                      1                    1   \n",
       "4  ...                       0                      1                    1   \n",
       "5  ...                       0                      1                    1   \n",
       "\n",
       "  user.has_extended_profile_False user.has_extended_profile_True  \\\n",
       "0                               0                              1   \n",
       "1                               0                              1   \n",
       "2                               0                              1   \n",
       "3                               0                              1   \n",
       "4                               0                              1   \n",
       "5                               0                              1   \n",
       "\n",
       "  user.protected_False  user.verified_False.1  user.default_profile_True  \\\n",
       "0                    1                      1                          1   \n",
       "1                    1                      1                          1   \n",
       "2                    1                      1                          1   \n",
       "3                    1                      1                          1   \n",
       "4                    1                      1                          1   \n",
       "5                    1                      1                          1   \n",
       "\n",
       "   is_quote_status_False  is_quote_status_True  \n",
       "0                      1                     0  \n",
       "1                      1                     0  \n",
       "2                      0                     1  \n",
       "3                      1                     0  \n",
       "4                      1                     0  \n",
       "5                      1                     0  \n",
       "\n",
       "[6 rows x 167 columns]"
      ]
     },
     "execution_count": 6,
     "metadata": {},
     "output_type": "execute_result"
    }
   ],
   "source": [
    "df_train_f.head(6)"
   ]
  },
  {
   "cell_type": "code",
   "execution_count": 7,
   "metadata": {
    "execution": {
     "iopub.execute_input": "2021-05-17T00:37:39.084624Z",
     "iopub.status.busy": "2021-05-17T00:37:39.083726Z",
     "iopub.status.idle": "2021-05-17T00:37:39.235630Z",
     "shell.execute_reply": "2021-05-17T00:37:39.235145Z"
    },
    "papermill": {
     "duration": 0.213064,
     "end_time": "2021-05-17T00:37:39.235740",
     "exception": false,
     "start_time": "2021-05-17T00:37:39.022676",
     "status": "completed"
    },
    "tags": []
   },
   "outputs": [],
   "source": [
    "df_train_f['id'] = df_train_f['id'].apply(lambda x: x.replace(\"'\", ''))\n",
    "df_train_f['id'] = df_train_f['id'].astype('float')\n",
    "df_valid_f['id'] = df_valid_f['id'].apply(lambda x: x.replace(\"'\", ''))\n",
    "df_valid_f['id'] = df_valid_f['id'].astype('float')\n",
    "df_test_f['id'] = df_test_f['id'].apply(lambda x: x.replace(\"'\", ''))\n",
    "df_test_f['id'] = df_test_f['id'].astype('float')"
   ]
  },
  {
   "cell_type": "code",
   "execution_count": 8,
   "metadata": {
    "execution": {
     "iopub.execute_input": "2021-05-17T00:37:39.350797Z",
     "iopub.status.busy": "2021-05-17T00:37:39.349935Z",
     "iopub.status.idle": "2021-05-17T00:37:39.364465Z",
     "shell.execute_reply": "2021-05-17T00:37:39.364914Z"
    },
    "papermill": {
     "duration": 0.074465,
     "end_time": "2021-05-17T00:37:39.365020",
     "exception": false,
     "start_time": "2021-05-17T00:37:39.290555",
     "status": "completed"
    },
    "tags": []
   },
   "outputs": [
    {
     "name": "stdout",
     "output_type": "stream",
     "text": [
      "full train: 115766 unique ids train: 115766 full valid: 35120 unique ids valid: 35120 full test: 34839 unique ids test: 34839\n"
     ]
    }
   ],
   "source": [
    "print(\"full train:\", len(df_train_f), \"unique ids train:\", len(df_train_f['id'].unique()), \n",
    "      \"full valid:\", len(df_valid_f), \"unique ids valid:\", len(df_valid_f['id'].unique()), \n",
    "      \"full test:\", len(df_test_f), \"unique ids test:\", len(df_test_f['id'].unique()))\n",
    "\n",
    "#print(\"Train:\", len(sentences_train), \"Valid:\", len(sentences_valid), \"Test\", len(sentences_test))"
   ]
  },
  {
   "cell_type": "code",
   "execution_count": 9,
   "metadata": {
    "execution": {
     "iopub.execute_input": "2021-05-17T00:37:39.480554Z",
     "iopub.status.busy": "2021-05-17T00:37:39.479363Z",
     "iopub.status.idle": "2021-05-17T00:37:39.581499Z",
     "shell.execute_reply": "2021-05-17T00:37:39.581029Z"
    },
    "papermill": {
     "duration": 0.162229,
     "end_time": "2021-05-17T00:37:39.581604",
     "exception": false,
     "start_time": "2021-05-17T00:37:39.419375",
     "status": "completed"
    },
    "tags": []
   },
   "outputs": [],
   "source": [
    "df_train = df_train_f.drop(['user.description', \"user.location\", \"user.name\", \"user.screen_name\", \"split\"], axis=1)\n",
    "df_valid = df_valid_f.drop(['user.description', \"user.location\", \"user.name\", \"user.screen_name\", \"split\"], axis=1)\n",
    "df_test = df_test_f.drop(['user.description', \"user.location\", \"user.name\", \"user.screen_name\", \"split\"], axis=1)"
   ]
  },
  {
   "cell_type": "code",
   "execution_count": 10,
   "metadata": {
    "execution": {
     "iopub.execute_input": "2021-05-17T00:37:39.695516Z",
     "iopub.status.busy": "2021-05-17T00:37:39.694131Z",
     "iopub.status.idle": "2021-05-17T00:37:39.696574Z",
     "shell.execute_reply": "2021-05-17T00:37:39.697032Z"
    },
    "papermill": {
     "duration": 0.060805,
     "end_time": "2021-05-17T00:37:39.697136",
     "exception": false,
     "start_time": "2021-05-17T00:37:39.636331",
     "status": "completed"
    },
    "tags": []
   },
   "outputs": [],
   "source": [
    "# FOR TESING OUT CODE PURPOSE ONLY. REMOVE ONCE ALL IS WORKING. \n",
    "#df_train = df_train[:2000]\n",
    "#df_valid = df_valid[:2000]\n",
    "#df_test = df_test[:2000]\n"
   ]
  },
  {
   "cell_type": "code",
   "execution_count": 11,
   "metadata": {
    "execution": {
     "iopub.execute_input": "2021-05-17T00:37:39.810914Z",
     "iopub.status.busy": "2021-05-17T00:37:39.810354Z",
     "iopub.status.idle": "2021-05-17T00:37:43.210702Z",
     "shell.execute_reply": "2021-05-17T00:37:43.211867Z"
    },
    "papermill": {
     "duration": 3.460758,
     "end_time": "2021-05-17T00:37:43.212084",
     "exception": false,
     "start_time": "2021-05-17T00:37:39.751326",
     "status": "completed"
    },
    "tags": []
   },
   "outputs": [],
   "source": [
    "import numpy as np\n",
    "import pandas as pd\n",
    "import torch\n",
    "import transformers as ppb # pytorch transformers\n",
    "from sklearn.linear_model import LogisticRegression\n",
    "from sklearn.model_selection import cross_val_score\n",
    "from sklearn.model_selection import train_test_split\n",
    "from numba import cuda \n",
    "import gc\n",
    "\n",
    "from sklearn.metrics import roc_auc_score\n",
    "from sklearn.metrics import roc_curve"
   ]
  },
  {
   "cell_type": "markdown",
   "metadata": {
    "papermill": {
     "duration": 0.054097,
     "end_time": "2021-05-17T00:37:43.341711",
     "exception": false,
     "start_time": "2021-05-17T00:37:43.287614",
     "status": "completed"
    },
    "tags": []
   },
   "source": [
    "### Load in Model and Tokenizer"
   ]
  },
  {
   "cell_type": "code",
   "execution_count": 12,
   "metadata": {
    "execution": {
     "iopub.execute_input": "2021-05-17T00:37:43.458724Z",
     "iopub.status.busy": "2021-05-17T00:37:43.457891Z",
     "iopub.status.idle": "2021-05-17T00:37:44.544524Z",
     "shell.execute_reply": "2021-05-17T00:37:44.545158Z"
    },
    "papermill": {
     "duration": 1.147413,
     "end_time": "2021-05-17T00:37:44.545320",
     "exception": false,
     "start_time": "2021-05-17T00:37:43.397907",
     "status": "completed"
    },
    "tags": []
   },
   "outputs": [
    {
     "data": {
      "application/vnd.jupyter.widget-view+json": {
       "model_id": "6695e134358c40c58de06fb2c3b0e9f2",
       "version_major": 2,
       "version_minor": 0
      },
      "text/plain": [
       "HBox(children=(FloatProgress(value=0.0, description='Downloading', max=995526.0, style=ProgressStyle(descripti…"
      ]
     },
     "metadata": {},
     "output_type": "display_data"
    },
    {
     "name": "stdout",
     "output_type": "stream",
     "text": [
      "\n"
     ]
    }
   ],
   "source": [
    "model_class, tokenizer_class, pretrained_weights = (ppb.BertModel, ppb.BertTokenizer, 'bert-base-multilingual-cased')\n",
    "\n",
    "# Load pretrained model/tokenizer\n",
    "tokenizer = tokenizer_class.from_pretrained(pretrained_weights)\n",
    "#model = model_class.from_pretrained(pretrained_weights)"
   ]
  },
  {
   "cell_type": "code",
   "execution_count": 13,
   "metadata": {
    "execution": {
     "iopub.execute_input": "2021-05-17T00:37:44.830170Z",
     "iopub.status.busy": "2021-05-17T00:37:44.829411Z",
     "iopub.status.idle": "2021-05-17T00:37:44.833504Z",
     "shell.execute_reply": "2021-05-17T00:37:44.833063Z"
    },
    "papermill": {
     "duration": 0.231212,
     "end_time": "2021-05-17T00:37:44.833606",
     "exception": false,
     "start_time": "2021-05-17T00:37:44.602394",
     "status": "completed"
    },
    "tags": []
   },
   "outputs": [],
   "source": [
    "gc.collect()\n",
    "torch.cuda.empty_cache()"
   ]
  },
  {
   "cell_type": "code",
   "execution_count": 14,
   "metadata": {
    "execution": {
     "iopub.execute_input": "2021-05-17T00:37:44.952790Z",
     "iopub.status.busy": "2021-05-17T00:37:44.951401Z",
     "iopub.status.idle": "2021-05-17T00:37:44.954531Z",
     "shell.execute_reply": "2021-05-17T00:37:44.954040Z"
    },
    "papermill": {
     "duration": 0.065424,
     "end_time": "2021-05-17T00:37:44.954614",
     "exception": false,
     "start_time": "2021-05-17T00:37:44.889190",
     "status": "completed"
    },
    "tags": []
   },
   "outputs": [],
   "source": [
    "# Get the lists of sentences and their labels.\n",
    "sentences_train = df_train.text.values\n",
    "train_labels = df_train.suspended.values\n",
    "ids_train = df_train.id.values\n",
    "\n",
    "sentences_valid = df_valid.text.values\n",
    "validation_labels = df_valid.suspended.values\n",
    "ids_validation = df_valid.id.values\n",
    "\n",
    "sentences_test = df_test.text.values\n",
    "test_labels = df_test.suspended.values\n",
    "ids_test = df_test.id.values"
   ]
  },
  {
   "cell_type": "code",
   "execution_count": 15,
   "metadata": {
    "execution": {
     "iopub.execute_input": "2021-05-17T00:37:45.070605Z",
     "iopub.status.busy": "2021-05-17T00:37:45.069729Z",
     "iopub.status.idle": "2021-05-17T00:37:45.074232Z",
     "shell.execute_reply": "2021-05-17T00:37:45.073825Z"
    },
    "papermill": {
     "duration": 0.06407,
     "end_time": "2021-05-17T00:37:45.074317",
     "exception": false,
     "start_time": "2021-05-17T00:37:45.010247",
     "status": "completed"
    },
    "tags": []
   },
   "outputs": [
    {
     "name": "stdout",
     "output_type": "stream",
     "text": [
      "Train: 115766 Valid: 35120 Test 34839\n"
     ]
    }
   ],
   "source": [
    "print(\"Train:\", len(sentences_train), \"Valid:\", len(sentences_valid), \"Test\", len(sentences_test))"
   ]
  },
  {
   "cell_type": "markdown",
   "metadata": {
    "papermill": {
     "duration": 0.055602,
     "end_time": "2021-05-17T00:37:45.185609",
     "exception": false,
     "start_time": "2021-05-17T00:37:45.130007",
     "status": "completed"
    },
    "tags": []
   },
   "source": [
    "To feed our text to BERT, it must be split into tokens, and then these tokens must be mapped to their index in the tokenizer vocabulary.\n",
    "\n",
    "The tokenization must be performed by the tokenizer included with BERT–the below cell will download this for us."
   ]
  },
  {
   "cell_type": "code",
   "execution_count": 16,
   "metadata": {
    "execution": {
     "iopub.execute_input": "2021-05-17T00:37:45.302152Z",
     "iopub.status.busy": "2021-05-17T00:37:45.301328Z",
     "iopub.status.idle": "2021-05-17T00:37:45.796283Z",
     "shell.execute_reply": "2021-05-17T00:37:45.795545Z"
    },
    "papermill": {
     "duration": 0.555365,
     "end_time": "2021-05-17T00:37:45.796444",
     "exception": false,
     "start_time": "2021-05-17T00:37:45.241079",
     "status": "completed"
    },
    "tags": []
   },
   "outputs": [
    {
     "name": "stdout",
     "output_type": "stream",
     "text": [
      "Loading BERT tokenizer...\n"
     ]
    }
   ],
   "source": [
    "from transformers import BertTokenizer\n",
    "# Load the BERT tokenizer.\n",
    "print('Loading BERT tokenizer...')\n",
    "tokenizer = BertTokenizer.from_pretrained('bert-base-multilingual-cased', do_lower_case=True)"
   ]
  },
  {
   "cell_type": "markdown",
   "metadata": {
    "papermill": {
     "duration": 0.09284,
     "end_time": "2021-05-17T00:37:45.982522",
     "exception": false,
     "start_time": "2021-05-17T00:37:45.889682",
     "status": "completed"
    },
    "tags": []
   },
   "source": [
    "The tokenizer.encode function combines multiple steps for us:\n",
    "- Split the sentence into tokens.\n",
    "- Add the special [CLS] and [SEP] tokens.\n",
    "- Map the tokens to their IDs.\n",
    "\n",
    "Oddly, this function can perform truncating for us, but doesn’t handle padding."
   ]
  },
  {
   "cell_type": "markdown",
   "metadata": {
    "papermill": {
     "duration": 0.092466,
     "end_time": "2021-05-17T00:37:46.168184",
     "exception": false,
     "start_time": "2021-05-17T00:37:46.075718",
     "status": "completed"
    },
    "tags": []
   },
   "source": [
    "### Prep Data for Model"
   ]
  },
  {
   "cell_type": "code",
   "execution_count": 17,
   "metadata": {
    "execution": {
     "iopub.execute_input": "2021-05-17T00:37:46.342819Z",
     "iopub.status.busy": "2021-05-17T00:37:46.340972Z",
     "iopub.status.idle": "2021-05-17T00:37:46.343453Z",
     "shell.execute_reply": "2021-05-17T00:37:46.343864Z"
    },
    "papermill": {
     "duration": 0.082181,
     "end_time": "2021-05-17T00:37:46.343971",
     "exception": false,
     "start_time": "2021-05-17T00:37:46.261790",
     "status": "completed"
    },
    "tags": []
   },
   "outputs": [],
   "source": [
    "def sent_to_ids(sentences): \n",
    "    # Tokenize all of the sentences and map the tokens to thier word IDs.\n",
    "    input_ids = []\n",
    "    # For every sentence...\n",
    "    for sent in sentences:\n",
    "        # `encode` will:\n",
    "        #   (1) Tokenize the sentence.\n",
    "        #   (2) Prepend the `[CLS]` token to the start.\n",
    "        #   (3) Append the `[SEP]` token to the end.\n",
    "        #   (4) Map tokens to their IDs.\n",
    "        encoded_sent = tokenizer.encode(\n",
    "            sent,                      # Sentence to encode.\n",
    "            add_special_tokens = True, # Add '[CLS]' and '[SEP]'\n",
    "            # This function also supports truncation and conversion\n",
    "            # to pytorch tensors, but we need to do padding, so we\n",
    "            # can't use these features :( .\n",
    "            #max_length = 128,          # Truncate all sentences.\n",
    "            #return_tensors = 'pt',     # Return pytorch tensors.\n",
    "        )\n",
    "        # Add the encoded sentence to the list.\n",
    "        input_ids.append(encoded_sent)\n",
    "        # Pad and truncate our sequences so that they all have the same length\n",
    "    input_ids = pad_sequences(input_ids, maxlen=120, dtype=\"long\", \n",
    "                            value=0, truncating=\"post\", padding=\"post\")\n",
    "    return input_ids"
   ]
  },
  {
   "cell_type": "code",
   "execution_count": 18,
   "metadata": {
    "execution": {
     "iopub.execute_input": "2021-05-17T00:37:46.481084Z",
     "iopub.status.busy": "2021-05-17T00:37:46.470904Z",
     "iopub.status.idle": "2021-05-17T00:39:18.551894Z",
     "shell.execute_reply": "2021-05-17T00:39:18.551424Z"
    },
    "papermill": {
     "duration": 92.151302,
     "end_time": "2021-05-17T00:39:18.552002",
     "exception": false,
     "start_time": "2021-05-17T00:37:46.400700",
     "status": "completed"
    },
    "tags": []
   },
   "outputs": [
    {
     "name": "stderr",
     "output_type": "stream",
     "text": [
      "Token indices sequence length is longer than the specified maximum sequence length for this model (1333 > 512). Running this sequence through the model will result in indexing errors\n"
     ]
    }
   ],
   "source": [
    "train_inputs = sent_to_ids(sentences_train)"
   ]
  },
  {
   "cell_type": "code",
   "execution_count": 19,
   "metadata": {
    "execution": {
     "iopub.execute_input": "2021-05-17T00:39:18.699695Z",
     "iopub.status.busy": "2021-05-17T00:39:18.694630Z",
     "iopub.status.idle": "2021-05-17T00:39:45.409377Z",
     "shell.execute_reply": "2021-05-17T00:39:45.408110Z"
    },
    "papermill": {
     "duration": 26.799914,
     "end_time": "2021-05-17T00:39:45.409494",
     "exception": false,
     "start_time": "2021-05-17T00:39:18.609580",
     "status": "completed"
    },
    "tags": []
   },
   "outputs": [],
   "source": [
    "validation_inputs = sent_to_ids(sentences_valid)"
   ]
  },
  {
   "cell_type": "code",
   "execution_count": 20,
   "metadata": {
    "execution": {
     "iopub.execute_input": "2021-05-17T00:39:45.568447Z",
     "iopub.status.busy": "2021-05-17T00:39:45.547968Z",
     "iopub.status.idle": "2021-05-17T00:40:13.580722Z",
     "shell.execute_reply": "2021-05-17T00:40:13.580211Z"
    },
    "papermill": {
     "duration": 28.113923,
     "end_time": "2021-05-17T00:40:13.580832",
     "exception": false,
     "start_time": "2021-05-17T00:39:45.466909",
     "status": "completed"
    },
    "tags": []
   },
   "outputs": [],
   "source": [
    "test_inputs = sent_to_ids(sentences_test)"
   ]
  },
  {
   "cell_type": "code",
   "execution_count": 21,
   "metadata": {
    "execution": {
     "iopub.execute_input": "2021-05-17T00:40:13.701576Z",
     "iopub.status.busy": "2021-05-17T00:40:13.700767Z",
     "iopub.status.idle": "2021-05-17T00:40:13.704508Z",
     "shell.execute_reply": "2021-05-17T00:40:13.705172Z"
    },
    "papermill": {
     "duration": 0.06632,
     "end_time": "2021-05-17T00:40:13.705344",
     "exception": false,
     "start_time": "2021-05-17T00:40:13.639024",
     "status": "completed"
    },
    "tags": []
   },
   "outputs": [
    {
     "name": "stdout",
     "output_type": "stream",
     "text": [
      "Train: 115766 Valid: 35120 Test 34839\n"
     ]
    }
   ],
   "source": [
    "print(\"Train:\", len(train_inputs), \"Valid:\", len(validation_inputs), \"Test\", len(test_inputs))"
   ]
  },
  {
   "cell_type": "code",
   "execution_count": 22,
   "metadata": {
    "execution": {
     "iopub.execute_input": "2021-05-17T00:40:13.827156Z",
     "iopub.status.busy": "2021-05-17T00:40:13.826492Z",
     "iopub.status.idle": "2021-05-17T00:40:13.829361Z",
     "shell.execute_reply": "2021-05-17T00:40:13.828970Z"
    },
    "papermill": {
     "duration": 0.065424,
     "end_time": "2021-05-17T00:40:13.829444",
     "exception": false,
     "start_time": "2021-05-17T00:40:13.764020",
     "status": "completed"
    },
    "tags": []
   },
   "outputs": [],
   "source": [
    "def get_attn_msks(input_ids):\n",
    "  # Create attention masks\n",
    "    attention_masks = []\n",
    "  # For each sentence...\n",
    "    for sent in input_ids:\n",
    "        # Create the attention mask.\n",
    "        #   - If a token ID is 0, then it's padding, set the mask to 0.\n",
    "        #   - If a token ID is > 0, then it's a real token, set the mask to 1.\n",
    "        att_mask = [int(token_id > 0) for token_id in sent]\n",
    "      \n",
    "        # Store the attention mask for this sentence.\n",
    "        attention_masks.append(att_mask)\n",
    "    return attention_masks"
   ]
  },
  {
   "cell_type": "code",
   "execution_count": 23,
   "metadata": {
    "execution": {
     "iopub.execute_input": "2021-05-17T00:40:13.983235Z",
     "iopub.status.busy": "2021-05-17T00:40:13.973009Z",
     "iopub.status.idle": "2021-05-17T00:40:27.143447Z",
     "shell.execute_reply": "2021-05-17T00:40:27.142996Z"
    },
    "papermill": {
     "duration": 13.256142,
     "end_time": "2021-05-17T00:40:27.143559",
     "exception": false,
     "start_time": "2021-05-17T00:40:13.887417",
     "status": "completed"
    },
    "tags": []
   },
   "outputs": [],
   "source": [
    "train_masks = get_attn_msks(train_inputs)"
   ]
  },
  {
   "cell_type": "code",
   "execution_count": 24,
   "metadata": {
    "execution": {
     "iopub.execute_input": "2021-05-17T00:40:27.306149Z",
     "iopub.status.busy": "2021-05-17T00:40:27.285685Z",
     "iopub.status.idle": "2021-05-17T00:40:31.854489Z",
     "shell.execute_reply": "2021-05-17T00:40:31.854037Z"
    },
    "papermill": {
     "duration": 4.651146,
     "end_time": "2021-05-17T00:40:31.854602",
     "exception": false,
     "start_time": "2021-05-17T00:40:27.203456",
     "status": "completed"
    },
    "tags": []
   },
   "outputs": [],
   "source": [
    "validation_masks = get_attn_msks(validation_inputs)"
   ]
  },
  {
   "cell_type": "code",
   "execution_count": 25,
   "metadata": {
    "execution": {
     "iopub.execute_input": "2021-05-17T00:40:32.004574Z",
     "iopub.status.busy": "2021-05-17T00:40:31.994402Z",
     "iopub.status.idle": "2021-05-17T00:40:35.829415Z",
     "shell.execute_reply": "2021-05-17T00:40:35.828949Z"
    },
    "papermill": {
     "duration": 3.915786,
     "end_time": "2021-05-17T00:40:35.829510",
     "exception": false,
     "start_time": "2021-05-17T00:40:31.913724",
     "status": "completed"
    },
    "tags": []
   },
   "outputs": [],
   "source": [
    "test_masks = get_attn_msks(test_inputs)"
   ]
  },
  {
   "cell_type": "markdown",
   "metadata": {
    "papermill": {
     "duration": 0.057323,
     "end_time": "2021-05-17T00:40:35.945963",
     "exception": false,
     "start_time": "2021-05-17T00:40:35.888640",
     "status": "completed"
    },
    "tags": []
   },
   "source": [
    "Converting to PyTorch Data Types\n",
    "\n",
    "Our model expects PyTorch tensors rather than numpy.ndarrays, so convert all of our dataset variables."
   ]
  },
  {
   "cell_type": "code",
   "execution_count": 26,
   "metadata": {
    "execution": {
     "iopub.execute_input": "2021-05-17T00:40:36.073775Z",
     "iopub.status.busy": "2021-05-17T00:40:36.073196Z",
     "iopub.status.idle": "2021-05-17T00:40:37.859813Z",
     "shell.execute_reply": "2021-05-17T00:40:37.860222Z"
    },
    "papermill": {
     "duration": 1.856674,
     "end_time": "2021-05-17T00:40:37.860353",
     "exception": false,
     "start_time": "2021-05-17T00:40:36.003679",
     "status": "completed"
    },
    "tags": []
   },
   "outputs": [],
   "source": [
    "# Convert all inputs and labels into torch tensors, the required datatype \n",
    "# for our model.\n",
    "train_inputs = torch.tensor(train_inputs)\n",
    "validation_inputs = torch.tensor(validation_inputs)\n",
    "train_labels = torch.tensor(train_labels)\n",
    "validation_labels = torch.tensor(validation_labels)\n",
    "train_masks = torch.tensor(train_masks)\n",
    "validation_masks = torch.tensor(validation_masks)\n",
    "\n",
    "train_ids = torch.tensor(ids_train)\n",
    "valid_ids = torch.tensor(ids_validation)"
   ]
  },
  {
   "cell_type": "code",
   "execution_count": 27,
   "metadata": {
    "execution": {
     "iopub.execute_input": "2021-05-17T00:40:37.982604Z",
     "iopub.status.busy": "2021-05-17T00:40:37.981805Z",
     "iopub.status.idle": "2021-05-17T00:40:37.986144Z",
     "shell.execute_reply": "2021-05-17T00:40:37.985589Z"
    },
    "papermill": {
     "duration": 0.067364,
     "end_time": "2021-05-17T00:40:37.986236",
     "exception": false,
     "start_time": "2021-05-17T00:40:37.918872",
     "status": "completed"
    },
    "tags": []
   },
   "outputs": [
    {
     "name": "stdout",
     "output_type": "stream",
     "text": [
      "Train: 115766 Valid: 35120 Test 34839\n"
     ]
    }
   ],
   "source": [
    "print(\"Train:\", len(train_inputs), \"Valid:\", len(validation_inputs), \"Test\", len(test_inputs))"
   ]
  },
  {
   "cell_type": "markdown",
   "metadata": {
    "papermill": {
     "duration": 0.059205,
     "end_time": "2021-05-17T00:40:38.103767",
     "exception": false,
     "start_time": "2021-05-17T00:40:38.044562",
     "status": "completed"
    },
    "tags": []
   },
   "source": [
    "We’ll also create an iterator for our dataset using the torch DataLoader class. This helps save on memory during training because, unlike a for loop, with an iterator the entire dataset does not need to be loaded into memory."
   ]
  },
  {
   "cell_type": "code",
   "execution_count": 28,
   "metadata": {
    "execution": {
     "iopub.execute_input": "2021-05-17T00:40:38.232272Z",
     "iopub.status.busy": "2021-05-17T00:40:38.231470Z",
     "iopub.status.idle": "2021-05-17T00:40:38.234293Z",
     "shell.execute_reply": "2021-05-17T00:40:38.233880Z"
    },
    "papermill": {
     "duration": 0.071073,
     "end_time": "2021-05-17T00:40:38.234381",
     "exception": false,
     "start_time": "2021-05-17T00:40:38.163308",
     "status": "completed"
    },
    "tags": []
   },
   "outputs": [],
   "source": [
    "from torch.utils.data import TensorDataset, DataLoader, RandomSampler, SequentialSampler\n",
    "# The DataLoader needs to know our batch size for training, so we specify it \n",
    "# here.\n",
    "# For fine-tuning BERT on a specific task, the authors recommend a batch size of\n",
    "# 16 or 32.\n",
    "batch_size = 16 # try 32, and then move down to 16 and 8. \n",
    "# Create the DataLoader for our training set.\n",
    "train_data = TensorDataset(train_inputs, train_masks, train_labels, train_ids)\n",
    "train_sampler = RandomSampler(train_data) # CHANGE TO SEQUENTIAL (TRAIN_SEQUENTIAL_SAMPLER - BUT DO SEQUENTIALLY FOR HIDDEN STATES)\n",
    "train_dataloader = DataLoader(train_data, sampler=train_sampler, batch_size=batch_size)\n",
    "# Create the DataLoader for our validation set.\n",
    "validation_data = TensorDataset(validation_inputs, validation_masks, validation_labels, valid_ids)\n",
    "validation_sampler = SequentialSampler(validation_data)\n",
    "validation_dataloader = DataLoader(validation_data, sampler=validation_sampler, batch_size=batch_size)\n",
    "\n",
    "# Create the DataLoader for our training set for the embedding extraction.\n",
    "train_sampler_sequential = SequentialSampler(train_data) # CHANGE TO SEQUENTIAL (TRAIN_SEQUENTIAL_SAMPLER - BUT DO SEQUENTIALLY FOR HIDDEN STATES)\n",
    "train_dataloader_sequential = DataLoader(train_data, sampler=train_sampler_sequential, batch_size=batch_size)"
   ]
  },
  {
   "cell_type": "markdown",
   "metadata": {
    "papermill": {
     "duration": 0.059653,
     "end_time": "2021-05-17T00:40:38.352731",
     "exception": false,
     "start_time": "2021-05-17T00:40:38.293078",
     "status": "completed"
    },
    "tags": []
   },
   "source": [
    "Now that our input data is properly formatted, it’s time to fine tune the BERT model.\n",
    "\n",
    "For this task, we first want to modify the pre-trained BERT model to give outputs for classification, and then we want to continue training the model on our dataset until that the entire model, end-to-end, is well-suited for our task.\n",
    "\n",
    "Thankfully, the huggingface pytorch implementation includes a set of interfaces designed for a variety of NLP tasks. Though these interfaces are all built on top of a trained BERT model, each has different top layers and output types designed to accomodate their specific NLP task.\n",
    "\n",
    "We’ll be using Bert Classification Model.This is the normal BERT model with an added single linear layer on top for classification that we will use as a sentence classifier. As we feed input data, the entire pre-trained BERT model and the additional untrained classification layer is trained on our specific task.\n"
   ]
  },
  {
   "cell_type": "code",
   "execution_count": 29,
   "metadata": {
    "execution": {
     "iopub.execute_input": "2021-05-17T00:40:38.481565Z",
     "iopub.status.busy": "2021-05-17T00:40:38.481009Z",
     "iopub.status.idle": "2021-05-17T00:41:35.652224Z",
     "shell.execute_reply": "2021-05-17T00:41:35.651430Z"
    },
    "papermill": {
     "duration": 57.239691,
     "end_time": "2021-05-17T00:41:35.652383",
     "exception": false,
     "start_time": "2021-05-17T00:40:38.412692",
     "status": "completed"
    },
    "tags": []
   },
   "outputs": [
    {
     "data": {
      "application/vnd.jupyter.widget-view+json": {
       "model_id": "776bd09e26f3459bb83a6ed207a0745e",
       "version_major": 2,
       "version_minor": 0
      },
      "text/plain": [
       "HBox(children=(FloatProgress(value=0.0, description='Downloading', max=625.0, style=ProgressStyle(description_…"
      ]
     },
     "metadata": {},
     "output_type": "display_data"
    },
    {
     "name": "stdout",
     "output_type": "stream",
     "text": [
      "\n"
     ]
    },
    {
     "data": {
      "application/vnd.jupyter.widget-view+json": {
       "model_id": "107bd760f47646e0862f9eaa9f3c39ac",
       "version_major": 2,
       "version_minor": 0
      },
      "text/plain": [
       "HBox(children=(FloatProgress(value=0.0, description='Downloading', max=714314041.0, style=ProgressStyle(descri…"
      ]
     },
     "metadata": {},
     "output_type": "display_data"
    },
    {
     "name": "stdout",
     "output_type": "stream",
     "text": [
      "\n"
     ]
    },
    {
     "name": "stderr",
     "output_type": "stream",
     "text": [
      "Some weights of the model checkpoint at bert-base-multilingual-cased were not used when initializing BertForSequenceClassification: ['cls.predictions.bias', 'cls.predictions.transform.dense.weight', 'cls.predictions.transform.dense.bias', 'cls.predictions.decoder.weight', 'cls.seq_relationship.weight', 'cls.seq_relationship.bias', 'cls.predictions.transform.LayerNorm.weight', 'cls.predictions.transform.LayerNorm.bias']\n",
      "- This IS expected if you are initializing BertForSequenceClassification from the checkpoint of a model trained on another task or with another architecture (e.g. initializing a BertForSequenceClassification model from a BertForPreTraining model).\n",
      "- This IS NOT expected if you are initializing BertForSequenceClassification from the checkpoint of a model that you expect to be exactly identical (initializing a BertForSequenceClassification model from a BertForSequenceClassification model).\n",
      "Some weights of BertForSequenceClassification were not initialized from the model checkpoint at bert-base-multilingual-cased and are newly initialized: ['classifier.weight', 'classifier.bias']\n",
      "You should probably TRAIN this model on a down-stream task to be able to use it for predictions and inference.\n"
     ]
    },
    {
     "data": {
      "text/plain": [
       "BertForSequenceClassification(\n",
       "  (bert): BertModel(\n",
       "    (embeddings): BertEmbeddings(\n",
       "      (word_embeddings): Embedding(119547, 768, padding_idx=0)\n",
       "      (position_embeddings): Embedding(512, 768)\n",
       "      (token_type_embeddings): Embedding(2, 768)\n",
       "      (LayerNorm): LayerNorm((768,), eps=1e-12, elementwise_affine=True)\n",
       "      (dropout): Dropout(p=0.1, inplace=False)\n",
       "    )\n",
       "    (encoder): BertEncoder(\n",
       "      (layer): ModuleList(\n",
       "        (0): BertLayer(\n",
       "          (attention): BertAttention(\n",
       "            (self): BertSelfAttention(\n",
       "              (query): Linear(in_features=768, out_features=768, bias=True)\n",
       "              (key): Linear(in_features=768, out_features=768, bias=True)\n",
       "              (value): Linear(in_features=768, out_features=768, bias=True)\n",
       "              (dropout): Dropout(p=0.1, inplace=False)\n",
       "            )\n",
       "            (output): BertSelfOutput(\n",
       "              (dense): Linear(in_features=768, out_features=768, bias=True)\n",
       "              (LayerNorm): LayerNorm((768,), eps=1e-12, elementwise_affine=True)\n",
       "              (dropout): Dropout(p=0.1, inplace=False)\n",
       "            )\n",
       "          )\n",
       "          (intermediate): BertIntermediate(\n",
       "            (dense): Linear(in_features=768, out_features=3072, bias=True)\n",
       "          )\n",
       "          (output): BertOutput(\n",
       "            (dense): Linear(in_features=3072, out_features=768, bias=True)\n",
       "            (LayerNorm): LayerNorm((768,), eps=1e-12, elementwise_affine=True)\n",
       "            (dropout): Dropout(p=0.1, inplace=False)\n",
       "          )\n",
       "        )\n",
       "        (1): BertLayer(\n",
       "          (attention): BertAttention(\n",
       "            (self): BertSelfAttention(\n",
       "              (query): Linear(in_features=768, out_features=768, bias=True)\n",
       "              (key): Linear(in_features=768, out_features=768, bias=True)\n",
       "              (value): Linear(in_features=768, out_features=768, bias=True)\n",
       "              (dropout): Dropout(p=0.1, inplace=False)\n",
       "            )\n",
       "            (output): BertSelfOutput(\n",
       "              (dense): Linear(in_features=768, out_features=768, bias=True)\n",
       "              (LayerNorm): LayerNorm((768,), eps=1e-12, elementwise_affine=True)\n",
       "              (dropout): Dropout(p=0.1, inplace=False)\n",
       "            )\n",
       "          )\n",
       "          (intermediate): BertIntermediate(\n",
       "            (dense): Linear(in_features=768, out_features=3072, bias=True)\n",
       "          )\n",
       "          (output): BertOutput(\n",
       "            (dense): Linear(in_features=3072, out_features=768, bias=True)\n",
       "            (LayerNorm): LayerNorm((768,), eps=1e-12, elementwise_affine=True)\n",
       "            (dropout): Dropout(p=0.1, inplace=False)\n",
       "          )\n",
       "        )\n",
       "        (2): BertLayer(\n",
       "          (attention): BertAttention(\n",
       "            (self): BertSelfAttention(\n",
       "              (query): Linear(in_features=768, out_features=768, bias=True)\n",
       "              (key): Linear(in_features=768, out_features=768, bias=True)\n",
       "              (value): Linear(in_features=768, out_features=768, bias=True)\n",
       "              (dropout): Dropout(p=0.1, inplace=False)\n",
       "            )\n",
       "            (output): BertSelfOutput(\n",
       "              (dense): Linear(in_features=768, out_features=768, bias=True)\n",
       "              (LayerNorm): LayerNorm((768,), eps=1e-12, elementwise_affine=True)\n",
       "              (dropout): Dropout(p=0.1, inplace=False)\n",
       "            )\n",
       "          )\n",
       "          (intermediate): BertIntermediate(\n",
       "            (dense): Linear(in_features=768, out_features=3072, bias=True)\n",
       "          )\n",
       "          (output): BertOutput(\n",
       "            (dense): Linear(in_features=3072, out_features=768, bias=True)\n",
       "            (LayerNorm): LayerNorm((768,), eps=1e-12, elementwise_affine=True)\n",
       "            (dropout): Dropout(p=0.1, inplace=False)\n",
       "          )\n",
       "        )\n",
       "        (3): BertLayer(\n",
       "          (attention): BertAttention(\n",
       "            (self): BertSelfAttention(\n",
       "              (query): Linear(in_features=768, out_features=768, bias=True)\n",
       "              (key): Linear(in_features=768, out_features=768, bias=True)\n",
       "              (value): Linear(in_features=768, out_features=768, bias=True)\n",
       "              (dropout): Dropout(p=0.1, inplace=False)\n",
       "            )\n",
       "            (output): BertSelfOutput(\n",
       "              (dense): Linear(in_features=768, out_features=768, bias=True)\n",
       "              (LayerNorm): LayerNorm((768,), eps=1e-12, elementwise_affine=True)\n",
       "              (dropout): Dropout(p=0.1, inplace=False)\n",
       "            )\n",
       "          )\n",
       "          (intermediate): BertIntermediate(\n",
       "            (dense): Linear(in_features=768, out_features=3072, bias=True)\n",
       "          )\n",
       "          (output): BertOutput(\n",
       "            (dense): Linear(in_features=3072, out_features=768, bias=True)\n",
       "            (LayerNorm): LayerNorm((768,), eps=1e-12, elementwise_affine=True)\n",
       "            (dropout): Dropout(p=0.1, inplace=False)\n",
       "          )\n",
       "        )\n",
       "        (4): BertLayer(\n",
       "          (attention): BertAttention(\n",
       "            (self): BertSelfAttention(\n",
       "              (query): Linear(in_features=768, out_features=768, bias=True)\n",
       "              (key): Linear(in_features=768, out_features=768, bias=True)\n",
       "              (value): Linear(in_features=768, out_features=768, bias=True)\n",
       "              (dropout): Dropout(p=0.1, inplace=False)\n",
       "            )\n",
       "            (output): BertSelfOutput(\n",
       "              (dense): Linear(in_features=768, out_features=768, bias=True)\n",
       "              (LayerNorm): LayerNorm((768,), eps=1e-12, elementwise_affine=True)\n",
       "              (dropout): Dropout(p=0.1, inplace=False)\n",
       "            )\n",
       "          )\n",
       "          (intermediate): BertIntermediate(\n",
       "            (dense): Linear(in_features=768, out_features=3072, bias=True)\n",
       "          )\n",
       "          (output): BertOutput(\n",
       "            (dense): Linear(in_features=3072, out_features=768, bias=True)\n",
       "            (LayerNorm): LayerNorm((768,), eps=1e-12, elementwise_affine=True)\n",
       "            (dropout): Dropout(p=0.1, inplace=False)\n",
       "          )\n",
       "        )\n",
       "        (5): BertLayer(\n",
       "          (attention): BertAttention(\n",
       "            (self): BertSelfAttention(\n",
       "              (query): Linear(in_features=768, out_features=768, bias=True)\n",
       "              (key): Linear(in_features=768, out_features=768, bias=True)\n",
       "              (value): Linear(in_features=768, out_features=768, bias=True)\n",
       "              (dropout): Dropout(p=0.1, inplace=False)\n",
       "            )\n",
       "            (output): BertSelfOutput(\n",
       "              (dense): Linear(in_features=768, out_features=768, bias=True)\n",
       "              (LayerNorm): LayerNorm((768,), eps=1e-12, elementwise_affine=True)\n",
       "              (dropout): Dropout(p=0.1, inplace=False)\n",
       "            )\n",
       "          )\n",
       "          (intermediate): BertIntermediate(\n",
       "            (dense): Linear(in_features=768, out_features=3072, bias=True)\n",
       "          )\n",
       "          (output): BertOutput(\n",
       "            (dense): Linear(in_features=3072, out_features=768, bias=True)\n",
       "            (LayerNorm): LayerNorm((768,), eps=1e-12, elementwise_affine=True)\n",
       "            (dropout): Dropout(p=0.1, inplace=False)\n",
       "          )\n",
       "        )\n",
       "        (6): BertLayer(\n",
       "          (attention): BertAttention(\n",
       "            (self): BertSelfAttention(\n",
       "              (query): Linear(in_features=768, out_features=768, bias=True)\n",
       "              (key): Linear(in_features=768, out_features=768, bias=True)\n",
       "              (value): Linear(in_features=768, out_features=768, bias=True)\n",
       "              (dropout): Dropout(p=0.1, inplace=False)\n",
       "            )\n",
       "            (output): BertSelfOutput(\n",
       "              (dense): Linear(in_features=768, out_features=768, bias=True)\n",
       "              (LayerNorm): LayerNorm((768,), eps=1e-12, elementwise_affine=True)\n",
       "              (dropout): Dropout(p=0.1, inplace=False)\n",
       "            )\n",
       "          )\n",
       "          (intermediate): BertIntermediate(\n",
       "            (dense): Linear(in_features=768, out_features=3072, bias=True)\n",
       "          )\n",
       "          (output): BertOutput(\n",
       "            (dense): Linear(in_features=3072, out_features=768, bias=True)\n",
       "            (LayerNorm): LayerNorm((768,), eps=1e-12, elementwise_affine=True)\n",
       "            (dropout): Dropout(p=0.1, inplace=False)\n",
       "          )\n",
       "        )\n",
       "        (7): BertLayer(\n",
       "          (attention): BertAttention(\n",
       "            (self): BertSelfAttention(\n",
       "              (query): Linear(in_features=768, out_features=768, bias=True)\n",
       "              (key): Linear(in_features=768, out_features=768, bias=True)\n",
       "              (value): Linear(in_features=768, out_features=768, bias=True)\n",
       "              (dropout): Dropout(p=0.1, inplace=False)\n",
       "            )\n",
       "            (output): BertSelfOutput(\n",
       "              (dense): Linear(in_features=768, out_features=768, bias=True)\n",
       "              (LayerNorm): LayerNorm((768,), eps=1e-12, elementwise_affine=True)\n",
       "              (dropout): Dropout(p=0.1, inplace=False)\n",
       "            )\n",
       "          )\n",
       "          (intermediate): BertIntermediate(\n",
       "            (dense): Linear(in_features=768, out_features=3072, bias=True)\n",
       "          )\n",
       "          (output): BertOutput(\n",
       "            (dense): Linear(in_features=3072, out_features=768, bias=True)\n",
       "            (LayerNorm): LayerNorm((768,), eps=1e-12, elementwise_affine=True)\n",
       "            (dropout): Dropout(p=0.1, inplace=False)\n",
       "          )\n",
       "        )\n",
       "        (8): BertLayer(\n",
       "          (attention): BertAttention(\n",
       "            (self): BertSelfAttention(\n",
       "              (query): Linear(in_features=768, out_features=768, bias=True)\n",
       "              (key): Linear(in_features=768, out_features=768, bias=True)\n",
       "              (value): Linear(in_features=768, out_features=768, bias=True)\n",
       "              (dropout): Dropout(p=0.1, inplace=False)\n",
       "            )\n",
       "            (output): BertSelfOutput(\n",
       "              (dense): Linear(in_features=768, out_features=768, bias=True)\n",
       "              (LayerNorm): LayerNorm((768,), eps=1e-12, elementwise_affine=True)\n",
       "              (dropout): Dropout(p=0.1, inplace=False)\n",
       "            )\n",
       "          )\n",
       "          (intermediate): BertIntermediate(\n",
       "            (dense): Linear(in_features=768, out_features=3072, bias=True)\n",
       "          )\n",
       "          (output): BertOutput(\n",
       "            (dense): Linear(in_features=3072, out_features=768, bias=True)\n",
       "            (LayerNorm): LayerNorm((768,), eps=1e-12, elementwise_affine=True)\n",
       "            (dropout): Dropout(p=0.1, inplace=False)\n",
       "          )\n",
       "        )\n",
       "        (9): BertLayer(\n",
       "          (attention): BertAttention(\n",
       "            (self): BertSelfAttention(\n",
       "              (query): Linear(in_features=768, out_features=768, bias=True)\n",
       "              (key): Linear(in_features=768, out_features=768, bias=True)\n",
       "              (value): Linear(in_features=768, out_features=768, bias=True)\n",
       "              (dropout): Dropout(p=0.1, inplace=False)\n",
       "            )\n",
       "            (output): BertSelfOutput(\n",
       "              (dense): Linear(in_features=768, out_features=768, bias=True)\n",
       "              (LayerNorm): LayerNorm((768,), eps=1e-12, elementwise_affine=True)\n",
       "              (dropout): Dropout(p=0.1, inplace=False)\n",
       "            )\n",
       "          )\n",
       "          (intermediate): BertIntermediate(\n",
       "            (dense): Linear(in_features=768, out_features=3072, bias=True)\n",
       "          )\n",
       "          (output): BertOutput(\n",
       "            (dense): Linear(in_features=3072, out_features=768, bias=True)\n",
       "            (LayerNorm): LayerNorm((768,), eps=1e-12, elementwise_affine=True)\n",
       "            (dropout): Dropout(p=0.1, inplace=False)\n",
       "          )\n",
       "        )\n",
       "        (10): BertLayer(\n",
       "          (attention): BertAttention(\n",
       "            (self): BertSelfAttention(\n",
       "              (query): Linear(in_features=768, out_features=768, bias=True)\n",
       "              (key): Linear(in_features=768, out_features=768, bias=True)\n",
       "              (value): Linear(in_features=768, out_features=768, bias=True)\n",
       "              (dropout): Dropout(p=0.1, inplace=False)\n",
       "            )\n",
       "            (output): BertSelfOutput(\n",
       "              (dense): Linear(in_features=768, out_features=768, bias=True)\n",
       "              (LayerNorm): LayerNorm((768,), eps=1e-12, elementwise_affine=True)\n",
       "              (dropout): Dropout(p=0.1, inplace=False)\n",
       "            )\n",
       "          )\n",
       "          (intermediate): BertIntermediate(\n",
       "            (dense): Linear(in_features=768, out_features=3072, bias=True)\n",
       "          )\n",
       "          (output): BertOutput(\n",
       "            (dense): Linear(in_features=3072, out_features=768, bias=True)\n",
       "            (LayerNorm): LayerNorm((768,), eps=1e-12, elementwise_affine=True)\n",
       "            (dropout): Dropout(p=0.1, inplace=False)\n",
       "          )\n",
       "        )\n",
       "        (11): BertLayer(\n",
       "          (attention): BertAttention(\n",
       "            (self): BertSelfAttention(\n",
       "              (query): Linear(in_features=768, out_features=768, bias=True)\n",
       "              (key): Linear(in_features=768, out_features=768, bias=True)\n",
       "              (value): Linear(in_features=768, out_features=768, bias=True)\n",
       "              (dropout): Dropout(p=0.1, inplace=False)\n",
       "            )\n",
       "            (output): BertSelfOutput(\n",
       "              (dense): Linear(in_features=768, out_features=768, bias=True)\n",
       "              (LayerNorm): LayerNorm((768,), eps=1e-12, elementwise_affine=True)\n",
       "              (dropout): Dropout(p=0.1, inplace=False)\n",
       "            )\n",
       "          )\n",
       "          (intermediate): BertIntermediate(\n",
       "            (dense): Linear(in_features=768, out_features=3072, bias=True)\n",
       "          )\n",
       "          (output): BertOutput(\n",
       "            (dense): Linear(in_features=3072, out_features=768, bias=True)\n",
       "            (LayerNorm): LayerNorm((768,), eps=1e-12, elementwise_affine=True)\n",
       "            (dropout): Dropout(p=0.1, inplace=False)\n",
       "          )\n",
       "        )\n",
       "      )\n",
       "    )\n",
       "    (pooler): BertPooler(\n",
       "      (dense): Linear(in_features=768, out_features=768, bias=True)\n",
       "      (activation): Tanh()\n",
       "    )\n",
       "  )\n",
       "  (dropout): Dropout(p=0.1, inplace=False)\n",
       "  (classifier): Linear(in_features=768, out_features=2, bias=True)\n",
       ")"
      ]
     },
     "execution_count": 29,
     "metadata": {},
     "output_type": "execute_result"
    }
   ],
   "source": [
    "from transformers import BertForSequenceClassification, AdamW, BertConfig\n",
    "# Load BertForSequenceClassification, the pretrained BERT model with a single \n",
    "# linear classification layer on top. \n",
    "model = BertForSequenceClassification.from_pretrained(\n",
    "    \"bert-base-multilingual-cased\", # Use the 12-layer BERT model, with an uncased vocab.\n",
    "    num_labels = 2, # The number of output labels--2 for binary classification.\n",
    "                    # You can increase this for multi-class tasks.   \n",
    "    output_attentions = False, # Whether the model returns attentions weights.\n",
    "    output_hidden_states = True, # Whether the model returns all hidden-states.\n",
    ")\n",
    "# Tell pytorch to run this model on the GPU.\n",
    "model.cuda()"
   ]
  },
  {
   "cell_type": "markdown",
   "metadata": {
    "papermill": {
     "duration": 0.063667,
     "end_time": "2021-05-17T00:41:35.781054",
     "exception": false,
     "start_time": "2021-05-17T00:41:35.717387",
     "status": "completed"
    },
    "tags": []
   },
   "source": [
    "In the below cell we can check the names and dimensions of the weights for:The embedding layer,The first of the twelve transformers & The output layer."
   ]
  },
  {
   "cell_type": "code",
   "execution_count": 30,
   "metadata": {
    "execution": {
     "iopub.execute_input": "2021-05-17T00:41:35.926897Z",
     "iopub.status.busy": "2021-05-17T00:41:35.924043Z",
     "iopub.status.idle": "2021-05-17T00:41:35.929258Z",
     "shell.execute_reply": "2021-05-17T00:41:35.927392Z"
    },
    "papermill": {
     "duration": 0.084388,
     "end_time": "2021-05-17T00:41:35.929395",
     "exception": false,
     "start_time": "2021-05-17T00:41:35.845007",
     "status": "completed"
    },
    "tags": []
   },
   "outputs": [
    {
     "name": "stdout",
     "output_type": "stream",
     "text": [
      "The BERT model has 201 different named parameters.\n",
      "\n",
      "==== Embedding Layer ====\n",
      "\n",
      "bert.embeddings.word_embeddings.weight                  (119547, 768)\n",
      "bert.embeddings.position_embeddings.weight                (512, 768)\n",
      "bert.embeddings.token_type_embeddings.weight                (2, 768)\n",
      "bert.embeddings.LayerNorm.weight                              (768,)\n",
      "bert.embeddings.LayerNorm.bias                                (768,)\n",
      "\n",
      "==== First Transformer ====\n",
      "\n",
      "bert.encoder.layer.0.attention.self.query.weight          (768, 768)\n",
      "bert.encoder.layer.0.attention.self.query.bias                (768,)\n",
      "bert.encoder.layer.0.attention.self.key.weight            (768, 768)\n",
      "bert.encoder.layer.0.attention.self.key.bias                  (768,)\n",
      "bert.encoder.layer.0.attention.self.value.weight          (768, 768)\n",
      "bert.encoder.layer.0.attention.self.value.bias                (768,)\n",
      "bert.encoder.layer.0.attention.output.dense.weight        (768, 768)\n",
      "bert.encoder.layer.0.attention.output.dense.bias              (768,)\n",
      "bert.encoder.layer.0.attention.output.LayerNorm.weight        (768,)\n",
      "bert.encoder.layer.0.attention.output.LayerNorm.bias          (768,)\n",
      "bert.encoder.layer.0.intermediate.dense.weight           (3072, 768)\n",
      "bert.encoder.layer.0.intermediate.dense.bias                 (3072,)\n",
      "bert.encoder.layer.0.output.dense.weight                 (768, 3072)\n",
      "bert.encoder.layer.0.output.dense.bias                        (768,)\n",
      "bert.encoder.layer.0.output.LayerNorm.weight                  (768,)\n",
      "bert.encoder.layer.0.output.LayerNorm.bias                    (768,)\n",
      "\n",
      "==== Output Layer ====\n",
      "\n",
      "bert.pooler.dense.weight                                  (768, 768)\n",
      "bert.pooler.dense.bias                                        (768,)\n",
      "classifier.weight                                           (2, 768)\n",
      "classifier.bias                                                 (2,)\n"
     ]
    }
   ],
   "source": [
    "# Get all of the model's parameters as a list of tuples.\n",
    "params = list(model.named_parameters())\n",
    "print('The BERT model has {:} different named parameters.\\n'.format(len(params)))\n",
    "print('==== Embedding Layer ====\\n')\n",
    "for p in params[0:5]:\n",
    "    print(\"{:<55} {:>12}\".format(p[0], str(tuple(p[1].size()))))\n",
    "print('\\n==== First Transformer ====\\n')\n",
    "for p in params[5:21]:\n",
    "    print(\"{:<55} {:>12}\".format(p[0], str(tuple(p[1].size()))))\n",
    "print('\\n==== Output Layer ====\\n')\n",
    "for p in params[-4:]:\n",
    "    print(\"{:<55} {:>12}\".format(p[0], str(tuple(p[1].size()))))"
   ]
  },
  {
   "cell_type": "markdown",
   "metadata": {
    "papermill": {
     "duration": 0.064085,
     "end_time": "2021-05-17T00:41:36.059313",
     "exception": false,
     "start_time": "2021-05-17T00:41:35.995228",
     "status": "completed"
    },
    "tags": []
   },
   "source": [
    "Now that we have our model loaded we need to grab the training hyperparameters from within the stored model."
   ]
  },
  {
   "cell_type": "markdown",
   "metadata": {
    "papermill": {
     "duration": 0.063983,
     "end_time": "2021-05-17T00:41:36.187945",
     "exception": false,
     "start_time": "2021-05-17T00:41:36.123962",
     "status": "completed"
    },
    "tags": []
   },
   "source": [
    "For the purposes of fine-tuning, we'll use the following values:\n",
    "\n",
    "- Batch size: 16, 32 (We chose 32 when creating our DataLoaders).\n",
    "- Learning rate (Adam): 5e-5, 3e-5, 2e-5 (We’ll use 2e-5).\n",
    "- Number of epochs: 2, 3, 4 (We’ll use 4).\n",
    "\n",
    "The epsilon parameter eps = 1e-8 is “a very small number to prevent any division by zero in the implementation”\n",
    "\n",
    "https://medium.com/@aniruddha.choudhury94/part-2-bert-fine-tuning-tutorial-with-pytorch-for-text-classification-on-the-corpus-of-linguistic-18057ce330e1"
   ]
  },
  {
   "cell_type": "code",
   "execution_count": 31,
   "metadata": {
    "execution": {
     "iopub.execute_input": "2021-05-17T00:41:36.329362Z",
     "iopub.status.busy": "2021-05-17T00:41:36.328530Z",
     "iopub.status.idle": "2021-05-17T00:41:36.331428Z",
     "shell.execute_reply": "2021-05-17T00:41:36.332161Z"
    },
    "papermill": {
     "duration": 0.079597,
     "end_time": "2021-05-17T00:41:36.332314",
     "exception": false,
     "start_time": "2021-05-17T00:41:36.252717",
     "status": "completed"
    },
    "tags": []
   },
   "outputs": [],
   "source": [
    "# Note: AdamW is a class from the huggingface library (as opposed to pytorch) \n",
    "# I believe the 'W' stands for 'Weight Decay fix\"\n",
    "# Cross entropy is used as the loss by default\n",
    "optimizer = AdamW(model.parameters(),\n",
    "                  lr = 2e-5, # args.learning_rate - default is 5e-5, our notebook had 2e-5\n",
    "                  eps = 1e-8 # args.adam_epsilon  - default is 1e-8.\n",
    "                )\n",
    "from transformers import get_linear_schedule_with_warmup\n",
    "# Number of training epochs (authors recommend between 2 and 4)\n",
    "epochs = 2\n",
    "# Total number of training steps is number of batches * number of epochs.\n",
    "total_steps = len(train_dataloader) * epochs\n",
    "# Create the learning rate scheduler.\n",
    "scheduler = get_linear_schedule_with_warmup(optimizer, \n",
    "                                            num_warmup_steps = 0, # Default value in run_glue.py\n",
    "                                            num_training_steps = total_steps)"
   ]
  },
  {
   "cell_type": "markdown",
   "metadata": {
    "papermill": {
     "duration": 0.064234,
     "end_time": "2021-05-17T00:41:36.461732",
     "exception": false,
     "start_time": "2021-05-17T00:41:36.397498",
     "status": "completed"
    },
    "tags": []
   },
   "source": [
    "4.3. Training Loop\n",
    "Below is our training loop. There’s a lot going on, but fundamentally for each pass in our loop we have a trianing phase and a validation phase. At each pass we need to:\n",
    "\n",
    "Training loop:\n",
    "\n",
    "- Unpack our data inputs and labels\n",
    "- Load data onto the GPU for acceleration\n",
    "- Clear out the gradients calculated in the previous pass.\n",
    "- In pytorch the gradients accumulate by default (useful for things like RNNs) unless you explicitly clear them out.\n",
    "- Forward pass (feed input data through the network)\n",
    "- Backward pass (backpropagation)\n",
    "- Tell the network to update parameters with optimizer.step()\n",
    "- Track variables for monitoring progress\n",
    "\n",
    "Evalution loop:\n",
    "- Unpack our data inputs and labels\n",
    "- Load data onto the GPU for acceleration\n",
    "- Forward pass (feed input data through the network)\n",
    "- Compute loss on our validation data and track variables for monitoring progress\n",
    "\n",
    "Define a helper function for calculating accuracy."
   ]
  },
  {
   "cell_type": "code",
   "execution_count": 32,
   "metadata": {
    "execution": {
     "iopub.execute_input": "2021-05-17T00:41:36.598867Z",
     "iopub.status.busy": "2021-05-17T00:41:36.598235Z",
     "iopub.status.idle": "2021-05-17T00:41:36.602056Z",
     "shell.execute_reply": "2021-05-17T00:41:36.602787Z"
    },
    "papermill": {
     "duration": 0.076409,
     "end_time": "2021-05-17T00:41:36.602924",
     "exception": false,
     "start_time": "2021-05-17T00:41:36.526515",
     "status": "completed"
    },
    "tags": []
   },
   "outputs": [],
   "source": [
    "import numpy as np\n",
    "# Function to calculate the accuracy of our predictions vs labels\n",
    "def flat_accuracy(preds, labels):\n",
    "    pred_flat = np.argmax(preds, axis=1).flatten()\n",
    "    labels_flat = labels.flatten()\n",
    "    return np.sum(pred_flat == labels_flat) / len(labels_flat)"
   ]
  },
  {
   "cell_type": "markdown",
   "metadata": {
    "papermill": {
     "duration": 0.066917,
     "end_time": "2021-05-17T00:41:36.736467",
     "exception": false,
     "start_time": "2021-05-17T00:41:36.669550",
     "status": "completed"
    },
    "tags": []
   },
   "source": [
    "Helper function for formatting elapsed times."
   ]
  },
  {
   "cell_type": "code",
   "execution_count": 33,
   "metadata": {
    "execution": {
     "iopub.execute_input": "2021-05-17T00:41:36.877071Z",
     "iopub.status.busy": "2021-05-17T00:41:36.876334Z",
     "iopub.status.idle": "2021-05-17T00:41:36.879637Z",
     "shell.execute_reply": "2021-05-17T00:41:36.879234Z"
    },
    "papermill": {
     "duration": 0.076613,
     "end_time": "2021-05-17T00:41:36.879754",
     "exception": false,
     "start_time": "2021-05-17T00:41:36.803141",
     "status": "completed"
    },
    "tags": []
   },
   "outputs": [],
   "source": [
    "import time\n",
    "import datetime\n",
    "def format_time(elapsed):\n",
    "    '''\n",
    "    Takes a time in seconds and returns a string hh:mm:ss\n",
    "    '''\n",
    "    # Round to the nearest second.\n",
    "    elapsed_rounded = int(round((elapsed)))\n",
    "    \n",
    "    # Format as hh:mm:ss\n",
    "    return str(datetime.timedelta(seconds=elapsed_rounded))"
   ]
  },
  {
   "cell_type": "markdown",
   "metadata": {
    "papermill": {
     "duration": 0.06711,
     "end_time": "2021-05-17T00:41:37.014486",
     "exception": false,
     "start_time": "2021-05-17T00:41:36.947376",
     "status": "completed"
    },
    "tags": []
   },
   "source": [
    "### Train Model"
   ]
  },
  {
   "cell_type": "code",
   "execution_count": 34,
   "metadata": {
    "execution": {
     "iopub.execute_input": "2021-05-17T00:41:37.402631Z",
     "iopub.status.busy": "2021-05-17T00:41:37.154664Z",
     "iopub.status.idle": "2021-05-17T01:40:27.970357Z",
     "shell.execute_reply": "2021-05-17T01:40:27.971138Z"
    },
    "papermill": {
     "duration": 3530.890859,
     "end_time": "2021-05-17T01:40:27.971326",
     "exception": false,
     "start_time": "2021-05-17T00:41:37.080467",
     "status": "completed"
    },
    "tags": []
   },
   "outputs": [
    {
     "name": "stdout",
     "output_type": "stream",
     "text": [
      "\n",
      "======== Epoch 1 / 2 ========\n",
      "Training...\n",
      "  Batch    40  of  7,236.    Elapsed: 0:00:10.\n",
      "  Batch    80  of  7,236.    Elapsed: 0:00:19.\n",
      "  Batch   120  of  7,236.    Elapsed: 0:00:28.\n",
      "  Batch   160  of  7,236.    Elapsed: 0:00:37.\n",
      "  Batch   200  of  7,236.    Elapsed: 0:00:46.\n",
      "  Batch   240  of  7,236.    Elapsed: 0:00:55.\n",
      "  Batch   280  of  7,236.    Elapsed: 0:01:04.\n",
      "  Batch   320  of  7,236.    Elapsed: 0:01:13.\n",
      "  Batch   360  of  7,236.    Elapsed: 0:01:22.\n",
      "  Batch   400  of  7,236.    Elapsed: 0:01:31.\n",
      "  Batch   440  of  7,236.    Elapsed: 0:01:40.\n",
      "  Batch   480  of  7,236.    Elapsed: 0:01:49.\n",
      "  Batch   520  of  7,236.    Elapsed: 0:01:58.\n",
      "  Batch   560  of  7,236.    Elapsed: 0:02:07.\n",
      "  Batch   600  of  7,236.    Elapsed: 0:02:16.\n",
      "  Batch   640  of  7,236.    Elapsed: 0:02:25.\n",
      "  Batch   680  of  7,236.    Elapsed: 0:02:34.\n",
      "  Batch   720  of  7,236.    Elapsed: 0:02:43.\n",
      "  Batch   760  of  7,236.    Elapsed: 0:02:52.\n",
      "  Batch   800  of  7,236.    Elapsed: 0:03:01.\n",
      "  Batch   840  of  7,236.    Elapsed: 0:03:10.\n",
      "  Batch   880  of  7,236.    Elapsed: 0:03:19.\n",
      "  Batch   920  of  7,236.    Elapsed: 0:03:28.\n",
      "  Batch   960  of  7,236.    Elapsed: 0:03:37.\n",
      "  Batch 1,000  of  7,236.    Elapsed: 0:03:46.\n",
      "  Batch 1,040  of  7,236.    Elapsed: 0:03:55.\n",
      "  Batch 1,080  of  7,236.    Elapsed: 0:04:04.\n",
      "  Batch 1,120  of  7,236.    Elapsed: 0:04:13.\n",
      "  Batch 1,160  of  7,236.    Elapsed: 0:04:22.\n",
      "  Batch 1,200  of  7,236.    Elapsed: 0:04:31.\n",
      "  Batch 1,240  of  7,236.    Elapsed: 0:04:40.\n",
      "  Batch 1,280  of  7,236.    Elapsed: 0:04:49.\n",
      "  Batch 1,320  of  7,236.    Elapsed: 0:04:58.\n",
      "  Batch 1,360  of  7,236.    Elapsed: 0:05:07.\n",
      "  Batch 1,400  of  7,236.    Elapsed: 0:05:16.\n",
      "  Batch 1,440  of  7,236.    Elapsed: 0:05:25.\n",
      "  Batch 1,480  of  7,236.    Elapsed: 0:05:34.\n",
      "  Batch 1,520  of  7,236.    Elapsed: 0:05:43.\n",
      "  Batch 1,560  of  7,236.    Elapsed: 0:05:52.\n",
      "  Batch 1,600  of  7,236.    Elapsed: 0:06:01.\n",
      "  Batch 1,640  of  7,236.    Elapsed: 0:06:10.\n",
      "  Batch 1,680  of  7,236.    Elapsed: 0:06:19.\n",
      "  Batch 1,720  of  7,236.    Elapsed: 0:06:28.\n",
      "  Batch 1,760  of  7,236.    Elapsed: 0:06:37.\n",
      "  Batch 1,800  of  7,236.    Elapsed: 0:06:46.\n",
      "  Batch 1,840  of  7,236.    Elapsed: 0:06:55.\n",
      "  Batch 1,880  of  7,236.    Elapsed: 0:07:04.\n",
      "  Batch 1,920  of  7,236.    Elapsed: 0:07:13.\n",
      "  Batch 1,960  of  7,236.    Elapsed: 0:07:22.\n",
      "  Batch 2,000  of  7,236.    Elapsed: 0:07:31.\n",
      "  Batch 2,040  of  7,236.    Elapsed: 0:07:40.\n",
      "  Batch 2,080  of  7,236.    Elapsed: 0:07:49.\n",
      "  Batch 2,120  of  7,236.    Elapsed: 0:07:58.\n",
      "  Batch 2,160  of  7,236.    Elapsed: 0:08:07.\n",
      "  Batch 2,200  of  7,236.    Elapsed: 0:08:16.\n",
      "  Batch 2,240  of  7,236.    Elapsed: 0:08:25.\n",
      "  Batch 2,280  of  7,236.    Elapsed: 0:08:35.\n",
      "  Batch 2,320  of  7,236.    Elapsed: 0:08:44.\n",
      "  Batch 2,360  of  7,236.    Elapsed: 0:08:53.\n",
      "  Batch 2,400  of  7,236.    Elapsed: 0:09:02.\n",
      "  Batch 2,440  of  7,236.    Elapsed: 0:09:11.\n",
      "  Batch 2,480  of  7,236.    Elapsed: 0:09:20.\n",
      "  Batch 2,520  of  7,236.    Elapsed: 0:09:29.\n",
      "  Batch 2,560  of  7,236.    Elapsed: 0:09:38.\n",
      "  Batch 2,600  of  7,236.    Elapsed: 0:09:47.\n",
      "  Batch 2,640  of  7,236.    Elapsed: 0:09:56.\n",
      "  Batch 2,680  of  7,236.    Elapsed: 0:10:05.\n",
      "  Batch 2,720  of  7,236.    Elapsed: 0:10:14.\n",
      "  Batch 2,760  of  7,236.    Elapsed: 0:10:23.\n",
      "  Batch 2,800  of  7,236.    Elapsed: 0:10:32.\n",
      "  Batch 2,840  of  7,236.    Elapsed: 0:10:41.\n",
      "  Batch 2,880  of  7,236.    Elapsed: 0:10:50.\n",
      "  Batch 2,920  of  7,236.    Elapsed: 0:10:59.\n",
      "  Batch 2,960  of  7,236.    Elapsed: 0:11:08.\n",
      "  Batch 3,000  of  7,236.    Elapsed: 0:11:17.\n",
      "  Batch 3,040  of  7,236.    Elapsed: 0:11:26.\n",
      "  Batch 3,080  of  7,236.    Elapsed: 0:11:35.\n",
      "  Batch 3,120  of  7,236.    Elapsed: 0:11:44.\n",
      "  Batch 3,160  of  7,236.    Elapsed: 0:11:53.\n",
      "  Batch 3,200  of  7,236.    Elapsed: 0:12:02.\n",
      "  Batch 3,240  of  7,236.    Elapsed: 0:12:11.\n",
      "  Batch 3,280  of  7,236.    Elapsed: 0:12:20.\n",
      "  Batch 3,320  of  7,236.    Elapsed: 0:12:29.\n",
      "  Batch 3,360  of  7,236.    Elapsed: 0:12:38.\n",
      "  Batch 3,400  of  7,236.    Elapsed: 0:12:47.\n",
      "  Batch 3,440  of  7,236.    Elapsed: 0:12:56.\n",
      "  Batch 3,480  of  7,236.    Elapsed: 0:13:05.\n",
      "  Batch 3,520  of  7,236.    Elapsed: 0:13:14.\n",
      "  Batch 3,560  of  7,236.    Elapsed: 0:13:23.\n",
      "  Batch 3,600  of  7,236.    Elapsed: 0:13:33.\n",
      "  Batch 3,640  of  7,236.    Elapsed: 0:13:41.\n",
      "  Batch 3,680  of  7,236.    Elapsed: 0:13:51.\n",
      "  Batch 3,720  of  7,236.    Elapsed: 0:14:00.\n",
      "  Batch 3,760  of  7,236.    Elapsed: 0:14:09.\n",
      "  Batch 3,800  of  7,236.    Elapsed: 0:14:18.\n",
      "  Batch 3,840  of  7,236.    Elapsed: 0:14:27.\n",
      "  Batch 3,880  of  7,236.    Elapsed: 0:14:36.\n",
      "  Batch 3,920  of  7,236.    Elapsed: 0:14:45.\n",
      "  Batch 3,960  of  7,236.    Elapsed: 0:14:54.\n",
      "  Batch 4,000  of  7,236.    Elapsed: 0:15:03.\n",
      "  Batch 4,040  of  7,236.    Elapsed: 0:15:12.\n",
      "  Batch 4,080  of  7,236.    Elapsed: 0:15:21.\n",
      "  Batch 4,120  of  7,236.    Elapsed: 0:15:30.\n",
      "  Batch 4,160  of  7,236.    Elapsed: 0:15:39.\n",
      "  Batch 4,200  of  7,236.    Elapsed: 0:15:48.\n",
      "  Batch 4,240  of  7,236.    Elapsed: 0:15:57.\n",
      "  Batch 4,280  of  7,236.    Elapsed: 0:16:06.\n",
      "  Batch 4,320  of  7,236.    Elapsed: 0:16:15.\n",
      "  Batch 4,360  of  7,236.    Elapsed: 0:16:24.\n",
      "  Batch 4,400  of  7,236.    Elapsed: 0:16:33.\n",
      "  Batch 4,440  of  7,236.    Elapsed: 0:16:42.\n",
      "  Batch 4,480  of  7,236.    Elapsed: 0:16:51.\n",
      "  Batch 4,520  of  7,236.    Elapsed: 0:17:00.\n",
      "  Batch 4,560  of  7,236.    Elapsed: 0:17:09.\n",
      "  Batch 4,600  of  7,236.    Elapsed: 0:17:18.\n",
      "  Batch 4,640  of  7,236.    Elapsed: 0:17:27.\n",
      "  Batch 4,680  of  7,236.    Elapsed: 0:17:36.\n",
      "  Batch 4,720  of  7,236.    Elapsed: 0:17:45.\n",
      "  Batch 4,760  of  7,236.    Elapsed: 0:17:54.\n",
      "  Batch 4,800  of  7,236.    Elapsed: 0:18:03.\n",
      "  Batch 4,840  of  7,236.    Elapsed: 0:18:12.\n",
      "  Batch 4,880  of  7,236.    Elapsed: 0:18:21.\n",
      "  Batch 4,920  of  7,236.    Elapsed: 0:18:31.\n",
      "  Batch 4,960  of  7,236.    Elapsed: 0:18:40.\n",
      "  Batch 5,000  of  7,236.    Elapsed: 0:18:49.\n",
      "  Batch 5,040  of  7,236.    Elapsed: 0:18:58.\n",
      "  Batch 5,080  of  7,236.    Elapsed: 0:19:07.\n",
      "  Batch 5,120  of  7,236.    Elapsed: 0:19:16.\n",
      "  Batch 5,160  of  7,236.    Elapsed: 0:19:25.\n",
      "  Batch 5,200  of  7,236.    Elapsed: 0:19:34.\n",
      "  Batch 5,240  of  7,236.    Elapsed: 0:19:43.\n",
      "  Batch 5,280  of  7,236.    Elapsed: 0:19:52.\n",
      "  Batch 5,320  of  7,236.    Elapsed: 0:20:01.\n",
      "  Batch 5,360  of  7,236.    Elapsed: 0:20:10.\n",
      "  Batch 5,400  of  7,236.    Elapsed: 0:20:19.\n",
      "  Batch 5,440  of  7,236.    Elapsed: 0:20:28.\n",
      "  Batch 5,480  of  7,236.    Elapsed: 0:20:37.\n",
      "  Batch 5,520  of  7,236.    Elapsed: 0:20:46.\n",
      "  Batch 5,560  of  7,236.    Elapsed: 0:20:55.\n",
      "  Batch 5,600  of  7,236.    Elapsed: 0:21:04.\n",
      "  Batch 5,640  of  7,236.    Elapsed: 0:21:13.\n",
      "  Batch 5,680  of  7,236.    Elapsed: 0:21:22.\n",
      "  Batch 5,720  of  7,236.    Elapsed: 0:21:31.\n",
      "  Batch 5,760  of  7,236.    Elapsed: 0:21:40.\n",
      "  Batch 5,800  of  7,236.    Elapsed: 0:21:49.\n",
      "  Batch 5,840  of  7,236.    Elapsed: 0:21:58.\n",
      "  Batch 5,880  of  7,236.    Elapsed: 0:22:07.\n",
      "  Batch 5,920  of  7,236.    Elapsed: 0:22:16.\n",
      "  Batch 5,960  of  7,236.    Elapsed: 0:22:25.\n",
      "  Batch 6,000  of  7,236.    Elapsed: 0:22:34.\n",
      "  Batch 6,040  of  7,236.    Elapsed: 0:22:43.\n",
      "  Batch 6,080  of  7,236.    Elapsed: 0:22:52.\n",
      "  Batch 6,120  of  7,236.    Elapsed: 0:23:01.\n",
      "  Batch 6,160  of  7,236.    Elapsed: 0:23:10.\n",
      "  Batch 6,200  of  7,236.    Elapsed: 0:23:19.\n",
      "  Batch 6,240  of  7,236.    Elapsed: 0:23:28.\n",
      "  Batch 6,280  of  7,236.    Elapsed: 0:23:37.\n",
      "  Batch 6,320  of  7,236.    Elapsed: 0:23:46.\n",
      "  Batch 6,360  of  7,236.    Elapsed: 0:23:55.\n",
      "  Batch 6,400  of  7,236.    Elapsed: 0:24:04.\n",
      "  Batch 6,440  of  7,236.    Elapsed: 0:24:13.\n",
      "  Batch 6,480  of  7,236.    Elapsed: 0:24:22.\n",
      "  Batch 6,520  of  7,236.    Elapsed: 0:24:31.\n",
      "  Batch 6,560  of  7,236.    Elapsed: 0:24:40.\n",
      "  Batch 6,600  of  7,236.    Elapsed: 0:24:49.\n",
      "  Batch 6,640  of  7,236.    Elapsed: 0:24:58.\n",
      "  Batch 6,680  of  7,236.    Elapsed: 0:25:07.\n",
      "  Batch 6,720  of  7,236.    Elapsed: 0:25:16.\n",
      "  Batch 6,760  of  7,236.    Elapsed: 0:25:25.\n",
      "  Batch 6,800  of  7,236.    Elapsed: 0:25:34.\n",
      "  Batch 6,840  of  7,236.    Elapsed: 0:25:43.\n",
      "  Batch 6,880  of  7,236.    Elapsed: 0:25:52.\n",
      "  Batch 6,920  of  7,236.    Elapsed: 0:26:01.\n",
      "  Batch 6,960  of  7,236.    Elapsed: 0:26:10.\n",
      "  Batch 7,000  of  7,236.    Elapsed: 0:26:19.\n",
      "  Batch 7,040  of  7,236.    Elapsed: 0:26:28.\n",
      "  Batch 7,080  of  7,236.    Elapsed: 0:26:37.\n",
      "  Batch 7,120  of  7,236.    Elapsed: 0:26:46.\n",
      "  Batch 7,160  of  7,236.    Elapsed: 0:26:56.\n",
      "  Batch 7,200  of  7,236.    Elapsed: 0:27:05.\n",
      "\n",
      "  Average training loss: 0.25\n",
      "  Training epcoh took: 0:27:13\n",
      "\n",
      "Running Validation...\n",
      "  Accuracy: 0.81\n",
      "  Average validation loss: 0.60\n",
      "  Validation took: 0:02:13\n",
      "\n",
      "======== Epoch 2 / 2 ========\n",
      "Training...\n",
      "  Batch    40  of  7,236.    Elapsed: 0:00:09.\n",
      "  Batch    80  of  7,236.    Elapsed: 0:00:18.\n",
      "  Batch   120  of  7,236.    Elapsed: 0:00:27.\n",
      "  Batch   160  of  7,236.    Elapsed: 0:00:36.\n",
      "  Batch   200  of  7,236.    Elapsed: 0:00:45.\n",
      "  Batch   240  of  7,236.    Elapsed: 0:00:54.\n",
      "  Batch   280  of  7,236.    Elapsed: 0:01:03.\n",
      "  Batch   320  of  7,236.    Elapsed: 0:01:13.\n",
      "  Batch   360  of  7,236.    Elapsed: 0:01:22.\n",
      "  Batch   400  of  7,236.    Elapsed: 0:01:31.\n",
      "  Batch   440  of  7,236.    Elapsed: 0:01:40.\n",
      "  Batch   480  of  7,236.    Elapsed: 0:01:49.\n",
      "  Batch   520  of  7,236.    Elapsed: 0:01:58.\n",
      "  Batch   560  of  7,236.    Elapsed: 0:02:07.\n",
      "  Batch   600  of  7,236.    Elapsed: 0:02:16.\n",
      "  Batch   640  of  7,236.    Elapsed: 0:02:25.\n",
      "  Batch   680  of  7,236.    Elapsed: 0:02:34.\n",
      "  Batch   720  of  7,236.    Elapsed: 0:02:43.\n",
      "  Batch   760  of  7,236.    Elapsed: 0:02:52.\n",
      "  Batch   800  of  7,236.    Elapsed: 0:03:01.\n",
      "  Batch   840  of  7,236.    Elapsed: 0:03:10.\n",
      "  Batch   880  of  7,236.    Elapsed: 0:03:19.\n",
      "  Batch   920  of  7,236.    Elapsed: 0:03:28.\n",
      "  Batch   960  of  7,236.    Elapsed: 0:03:37.\n",
      "  Batch 1,000  of  7,236.    Elapsed: 0:03:46.\n",
      "  Batch 1,040  of  7,236.    Elapsed: 0:03:55.\n",
      "  Batch 1,080  of  7,236.    Elapsed: 0:04:04.\n",
      "  Batch 1,120  of  7,236.    Elapsed: 0:04:13.\n",
      "  Batch 1,160  of  7,236.    Elapsed: 0:04:22.\n",
      "  Batch 1,200  of  7,236.    Elapsed: 0:04:31.\n",
      "  Batch 1,240  of  7,236.    Elapsed: 0:04:40.\n",
      "  Batch 1,280  of  7,236.    Elapsed: 0:04:49.\n",
      "  Batch 1,320  of  7,236.    Elapsed: 0:04:58.\n",
      "  Batch 1,360  of  7,236.    Elapsed: 0:05:08.\n",
      "  Batch 1,400  of  7,236.    Elapsed: 0:05:17.\n",
      "  Batch 1,440  of  7,236.    Elapsed: 0:05:26.\n",
      "  Batch 1,480  of  7,236.    Elapsed: 0:05:35.\n",
      "  Batch 1,520  of  7,236.    Elapsed: 0:05:44.\n",
      "  Batch 1,560  of  7,236.    Elapsed: 0:05:53.\n",
      "  Batch 1,600  of  7,236.    Elapsed: 0:06:02.\n",
      "  Batch 1,640  of  7,236.    Elapsed: 0:06:11.\n",
      "  Batch 1,680  of  7,236.    Elapsed: 0:06:20.\n",
      "  Batch 1,720  of  7,236.    Elapsed: 0:06:29.\n",
      "  Batch 1,760  of  7,236.    Elapsed: 0:06:38.\n",
      "  Batch 1,800  of  7,236.    Elapsed: 0:06:47.\n",
      "  Batch 1,840  of  7,236.    Elapsed: 0:06:56.\n",
      "  Batch 1,880  of  7,236.    Elapsed: 0:07:05.\n",
      "  Batch 1,920  of  7,236.    Elapsed: 0:07:14.\n",
      "  Batch 1,960  of  7,236.    Elapsed: 0:07:23.\n",
      "  Batch 2,000  of  7,236.    Elapsed: 0:07:32.\n",
      "  Batch 2,040  of  7,236.    Elapsed: 0:07:41.\n",
      "  Batch 2,080  of  7,236.    Elapsed: 0:07:50.\n",
      "  Batch 2,120  of  7,236.    Elapsed: 0:07:59.\n",
      "  Batch 2,160  of  7,236.    Elapsed: 0:08:08.\n",
      "  Batch 2,200  of  7,236.    Elapsed: 0:08:18.\n",
      "  Batch 2,240  of  7,236.    Elapsed: 0:08:26.\n",
      "  Batch 2,280  of  7,236.    Elapsed: 0:08:36.\n",
      "  Batch 2,320  of  7,236.    Elapsed: 0:08:45.\n",
      "  Batch 2,360  of  7,236.    Elapsed: 0:08:54.\n",
      "  Batch 2,400  of  7,236.    Elapsed: 0:09:03.\n",
      "  Batch 2,440  of  7,236.    Elapsed: 0:09:12.\n",
      "  Batch 2,480  of  7,236.    Elapsed: 0:09:21.\n",
      "  Batch 2,520  of  7,236.    Elapsed: 0:09:30.\n",
      "  Batch 2,560  of  7,236.    Elapsed: 0:09:39.\n",
      "  Batch 2,600  of  7,236.    Elapsed: 0:09:48.\n",
      "  Batch 2,640  of  7,236.    Elapsed: 0:09:57.\n",
      "  Batch 2,680  of  7,236.    Elapsed: 0:10:06.\n",
      "  Batch 2,720  of  7,236.    Elapsed: 0:10:15.\n",
      "  Batch 2,760  of  7,236.    Elapsed: 0:10:24.\n",
      "  Batch 2,800  of  7,236.    Elapsed: 0:10:33.\n",
      "  Batch 2,840  of  7,236.    Elapsed: 0:10:42.\n",
      "  Batch 2,880  of  7,236.    Elapsed: 0:10:51.\n",
      "  Batch 2,920  of  7,236.    Elapsed: 0:11:00.\n",
      "  Batch 2,960  of  7,236.    Elapsed: 0:11:09.\n",
      "  Batch 3,000  of  7,236.    Elapsed: 0:11:18.\n",
      "  Batch 3,040  of  7,236.    Elapsed: 0:11:27.\n",
      "  Batch 3,080  of  7,236.    Elapsed: 0:11:36.\n",
      "  Batch 3,120  of  7,236.    Elapsed: 0:11:45.\n",
      "  Batch 3,160  of  7,236.    Elapsed: 0:11:54.\n",
      "  Batch 3,200  of  7,236.    Elapsed: 0:12:03.\n",
      "  Batch 3,240  of  7,236.    Elapsed: 0:12:12.\n",
      "  Batch 3,280  of  7,236.    Elapsed: 0:12:21.\n",
      "  Batch 3,320  of  7,236.    Elapsed: 0:12:30.\n",
      "  Batch 3,360  of  7,236.    Elapsed: 0:12:39.\n",
      "  Batch 3,400  of  7,236.    Elapsed: 0:12:48.\n",
      "  Batch 3,440  of  7,236.    Elapsed: 0:12:57.\n",
      "  Batch 3,480  of  7,236.    Elapsed: 0:13:06.\n",
      "  Batch 3,520  of  7,236.    Elapsed: 0:13:15.\n",
      "  Batch 3,560  of  7,236.    Elapsed: 0:13:24.\n",
      "  Batch 3,600  of  7,236.    Elapsed: 0:13:33.\n",
      "  Batch 3,640  of  7,236.    Elapsed: 0:13:42.\n",
      "  Batch 3,680  of  7,236.    Elapsed: 0:13:51.\n",
      "  Batch 3,720  of  7,236.    Elapsed: 0:14:00.\n",
      "  Batch 3,760  of  7,236.    Elapsed: 0:14:09.\n",
      "  Batch 3,800  of  7,236.    Elapsed: 0:14:18.\n",
      "  Batch 3,840  of  7,236.    Elapsed: 0:14:27.\n",
      "  Batch 3,880  of  7,236.    Elapsed: 0:14:36.\n",
      "  Batch 3,920  of  7,236.    Elapsed: 0:14:45.\n",
      "  Batch 3,960  of  7,236.    Elapsed: 0:14:54.\n",
      "  Batch 4,000  of  7,236.    Elapsed: 0:15:03.\n",
      "  Batch 4,040  of  7,236.    Elapsed: 0:15:12.\n",
      "  Batch 4,080  of  7,236.    Elapsed: 0:15:21.\n",
      "  Batch 4,120  of  7,236.    Elapsed: 0:15:30.\n",
      "  Batch 4,160  of  7,236.    Elapsed: 0:15:39.\n",
      "  Batch 4,200  of  7,236.    Elapsed: 0:15:48.\n",
      "  Batch 4,240  of  7,236.    Elapsed: 0:15:57.\n",
      "  Batch 4,280  of  7,236.    Elapsed: 0:16:06.\n",
      "  Batch 4,320  of  7,236.    Elapsed: 0:16:15.\n",
      "  Batch 4,360  of  7,236.    Elapsed: 0:16:24.\n",
      "  Batch 4,400  of  7,236.    Elapsed: 0:16:33.\n",
      "  Batch 4,440  of  7,236.    Elapsed: 0:16:42.\n",
      "  Batch 4,480  of  7,236.    Elapsed: 0:16:51.\n",
      "  Batch 4,520  of  7,236.    Elapsed: 0:17:00.\n",
      "  Batch 4,560  of  7,236.    Elapsed: 0:17:09.\n",
      "  Batch 4,600  of  7,236.    Elapsed: 0:17:18.\n",
      "  Batch 4,640  of  7,236.    Elapsed: 0:17:27.\n",
      "  Batch 4,680  of  7,236.    Elapsed: 0:17:36.\n",
      "  Batch 4,720  of  7,236.    Elapsed: 0:17:45.\n",
      "  Batch 4,760  of  7,236.    Elapsed: 0:17:54.\n",
      "  Batch 4,800  of  7,236.    Elapsed: 0:18:03.\n",
      "  Batch 4,840  of  7,236.    Elapsed: 0:18:12.\n",
      "  Batch 4,880  of  7,236.    Elapsed: 0:18:21.\n",
      "  Batch 4,920  of  7,236.    Elapsed: 0:18:30.\n",
      "  Batch 4,960  of  7,236.    Elapsed: 0:18:39.\n",
      "  Batch 5,000  of  7,236.    Elapsed: 0:18:48.\n",
      "  Batch 5,040  of  7,236.    Elapsed: 0:18:58.\n",
      "  Batch 5,080  of  7,236.    Elapsed: 0:19:07.\n",
      "  Batch 5,120  of  7,236.    Elapsed: 0:19:15.\n",
      "  Batch 5,160  of  7,236.    Elapsed: 0:19:25.\n",
      "  Batch 5,200  of  7,236.    Elapsed: 0:19:34.\n",
      "  Batch 5,240  of  7,236.    Elapsed: 0:19:43.\n",
      "  Batch 5,280  of  7,236.    Elapsed: 0:19:52.\n",
      "  Batch 5,320  of  7,236.    Elapsed: 0:20:01.\n",
      "  Batch 5,360  of  7,236.    Elapsed: 0:20:10.\n",
      "  Batch 5,400  of  7,236.    Elapsed: 0:20:19.\n",
      "  Batch 5,440  of  7,236.    Elapsed: 0:20:28.\n",
      "  Batch 5,480  of  7,236.    Elapsed: 0:20:37.\n",
      "  Batch 5,520  of  7,236.    Elapsed: 0:20:46.\n",
      "  Batch 5,560  of  7,236.    Elapsed: 0:20:55.\n",
      "  Batch 5,600  of  7,236.    Elapsed: 0:21:04.\n",
      "  Batch 5,640  of  7,236.    Elapsed: 0:21:13.\n",
      "  Batch 5,680  of  7,236.    Elapsed: 0:21:22.\n",
      "  Batch 5,720  of  7,236.    Elapsed: 0:21:31.\n",
      "  Batch 5,760  of  7,236.    Elapsed: 0:21:40.\n",
      "  Batch 5,800  of  7,236.    Elapsed: 0:21:49.\n",
      "  Batch 5,840  of  7,236.    Elapsed: 0:21:58.\n",
      "  Batch 5,880  of  7,236.    Elapsed: 0:22:07.\n",
      "  Batch 5,920  of  7,236.    Elapsed: 0:22:16.\n",
      "  Batch 5,960  of  7,236.    Elapsed: 0:22:25.\n",
      "  Batch 6,000  of  7,236.    Elapsed: 0:22:34.\n",
      "  Batch 6,040  of  7,236.    Elapsed: 0:22:43.\n",
      "  Batch 6,080  of  7,236.    Elapsed: 0:22:52.\n",
      "  Batch 6,120  of  7,236.    Elapsed: 0:23:01.\n",
      "  Batch 6,160  of  7,236.    Elapsed: 0:23:10.\n",
      "  Batch 6,200  of  7,236.    Elapsed: 0:23:19.\n",
      "  Batch 6,240  of  7,236.    Elapsed: 0:23:28.\n",
      "  Batch 6,280  of  7,236.    Elapsed: 0:23:37.\n",
      "  Batch 6,320  of  7,236.    Elapsed: 0:23:46.\n",
      "  Batch 6,360  of  7,236.    Elapsed: 0:23:55.\n",
      "  Batch 6,400  of  7,236.    Elapsed: 0:24:04.\n",
      "  Batch 6,440  of  7,236.    Elapsed: 0:24:13.\n",
      "  Batch 6,480  of  7,236.    Elapsed: 0:24:22.\n",
      "  Batch 6,520  of  7,236.    Elapsed: 0:24:31.\n",
      "  Batch 6,560  of  7,236.    Elapsed: 0:24:40.\n",
      "  Batch 6,600  of  7,236.    Elapsed: 0:24:49.\n",
      "  Batch 6,640  of  7,236.    Elapsed: 0:24:58.\n",
      "  Batch 6,680  of  7,236.    Elapsed: 0:25:07.\n",
      "  Batch 6,720  of  7,236.    Elapsed: 0:25:16.\n",
      "  Batch 6,760  of  7,236.    Elapsed: 0:25:25.\n",
      "  Batch 6,800  of  7,236.    Elapsed: 0:25:34.\n",
      "  Batch 6,840  of  7,236.    Elapsed: 0:25:43.\n",
      "  Batch 6,880  of  7,236.    Elapsed: 0:25:52.\n",
      "  Batch 6,920  of  7,236.    Elapsed: 0:26:01.\n",
      "  Batch 6,960  of  7,236.    Elapsed: 0:26:10.\n",
      "  Batch 7,000  of  7,236.    Elapsed: 0:26:19.\n",
      "  Batch 7,040  of  7,236.    Elapsed: 0:26:28.\n",
      "  Batch 7,080  of  7,236.    Elapsed: 0:26:37.\n",
      "  Batch 7,120  of  7,236.    Elapsed: 0:26:46.\n",
      "  Batch 7,160  of  7,236.    Elapsed: 0:26:55.\n",
      "  Batch 7,200  of  7,236.    Elapsed: 0:27:04.\n",
      "\n",
      "  Average training loss: 0.20\n",
      "  Training epcoh took: 0:27:12\n",
      "\n",
      "Running Validation...\n",
      "  Accuracy: 0.81\n",
      "  Average validation loss: 0.77\n",
      "  Validation took: 0:02:13\n",
      "\n",
      "Training complete!\n"
     ]
    }
   ],
   "source": [
    "import random\n",
    "# This training code is based on the `run_glue.py` script here:\n",
    "# https://github.com/huggingface/transformers/blob/5bfcd0485ece086ebcbed2d008813037968a9e58/examples/run_glue.py#L128\n",
    "# Set the seed value all over the place to make this reproducible.\n",
    "seed_val = 42\n",
    "random.seed(seed_val)\n",
    "np.random.seed(seed_val)\n",
    "torch.manual_seed(seed_val)\n",
    "torch.cuda.manual_seed_all(seed_val)\n",
    "# Store the average loss after each epoch so we can plot them.\n",
    "loss_values = []\n",
    "loss_values_valid = []\n",
    "#embeddings_tr, embeddings_vl = [], []\n",
    "train_predictions, valid_predictions = [], []\n",
    "train_true_labels, valid_true_labels = [], []\n",
    "# Store the hidden states for embedding extraction\n",
    "\n",
    "# For each epoch...\n",
    "for epoch_i in range(0, epochs):\n",
    "    \n",
    "    # ========================================\n",
    "    #               Training\n",
    "    # ========================================\n",
    "    \n",
    "    # Perform one full pass over the training set.\n",
    "    print(\"\")\n",
    "    print('======== Epoch {:} / {:} ========'.format(epoch_i + 1, epochs))\n",
    "    print('Training...')\n",
    "    # Measure how long the training epoch takes.\n",
    "    t0 = time.time()\n",
    "    # Reset the total loss for this epoch.\n",
    "    total_loss = 0\n",
    "    # Put the model into training mode. Don't be mislead--the call to \n",
    "    # `train` just changes the *mode*, it doesn't *perform* the training.\n",
    "    # `dropout` and `batchnorm` layers behave differently during training\n",
    "    # vs. test (source: https://stackoverflow.com/questions/51433378/what-does-model-train-do-in-pytorch)\n",
    "    model.train()\n",
    "    # For each batch of training data...\n",
    "    for step, batch in enumerate(train_dataloader):\n",
    "        # Progress update every 40 batches.\n",
    "        if step % 40 == 0 and not step == 0:\n",
    "            # Calculate elapsed time in minutes.\n",
    "            elapsed = format_time(time.time() - t0)\n",
    "            \n",
    "            # Report progress.\n",
    "            print('  Batch {:>5,}  of  {:>5,}.    Elapsed: {:}.'.format(step, len(train_dataloader), elapsed))\n",
    "        # Unpack this training batch from our dataloader. \n",
    "        #\n",
    "        # As we unpack the batch, we'll also copy each tensor to the GPU using the \n",
    "        # `to` method.\n",
    "        #\n",
    "        # `batch` contains three pytorch tensors:\n",
    "        #   [0]: input ids \n",
    "        #   [1]: attention masks\n",
    "        #   [2]: labels \n",
    "        b_input_ids = batch[0].to(device)\n",
    "        b_input_mask = batch[1].to(device)\n",
    "        b_labels = batch[2].to(device)\n",
    "        # Always clear any previously calculated gradients before performing a\n",
    "        # backward pass. PyTorch doesn't do this automatically because \n",
    "        # accumulating the gradients is \"convenient while training RNNs\". \n",
    "        # (source: https://stackoverflow.com/questions/48001598/why-do-we-need-to-call-zero-grad-in-pytorch)\n",
    "        model.zero_grad()        \n",
    "        # Perform a forward pass (evaluate the model on this training batch).\n",
    "        # This will return the loss (rather than the model output) because we\n",
    "        # have provided the `labels`.\n",
    "        # The documentation for this `model` function is here: \n",
    "        # https://huggingface.co/transformers/v2.2.0/model_doc/bert.html#transformers.BertForSequenceClassification\n",
    "        outputs_a = model(b_input_ids, \n",
    "                    token_type_ids=None, \n",
    "                    attention_mask=b_input_mask, \n",
    "                    labels=b_labels)\n",
    "        \n",
    "        # The call to `model` always returns a tuple, so we need to pull the \n",
    "        # loss value out of the tuple.\n",
    "        loss = outputs_a[0]\n",
    "        logits_tr = outputs_a[1]\n",
    "        #hidden_state_tr = outputs_a[2]\n",
    "        #features = hidden_state_tr[0][:,0,:].detach().cpu().numpy()\n",
    "        #embeddings_tr.append([epoch_i,batch[3], features]) # FIX AS NO BACKPROP WEIGHT ADJUSTED\n",
    "        # Accumulate the training loss over all of the batches so that we can\n",
    "        # calculate the average loss at the end. `loss` is a Tensor containing a\n",
    "        # single value; the `.item()` function just returns the Python value \n",
    "        # from the tensor.\n",
    "        # Move logits, hidden states, and labels to CPU\n",
    "        logits_tr = logits_tr.detach().cpu().numpy()\n",
    "        label_ids = b_labels.to('cpu').numpy()\n",
    "        #train_predictions.append([epoch_i,logits_tr])\n",
    "        #train_true_labels.append([epoch_i,label_ids])\n",
    "\n",
    "        total_loss += loss.item()\n",
    "        # Perform a backward pass to calculate the gradients.\n",
    "        loss.backward()\n",
    "        # Clip the norm of the gradients to 1.0.\n",
    "        # This is to help prevent the \"exploding gradients\" problem.\n",
    "        torch.nn.utils.clip_grad_norm_(model.parameters(), 1.0)\n",
    "        # Update parameters and take a step using the computed gradient.\n",
    "        # The optimizer dictates the \"update rule\"--how the parameters are\n",
    "        # modified based on their gradients, the learning rate, etc.\n",
    "        optimizer.step()\n",
    "        # Update the learning rate.\n",
    "        scheduler.step()\n",
    "    # Calculate the average loss over the training data.\n",
    "    avg_train_loss = total_loss / len(train_dataloader)            \n",
    "\n",
    "    # Store the loss value for plotting the learning curve.\n",
    "    loss_values.append(avg_train_loss)\n",
    "    print(\"\")\n",
    "    print(\"  Average training loss: {0:.2f}\".format(avg_train_loss))\n",
    "    print(\"  Training epcoh took: {:}\".format(format_time(time.time() - t0)))\n",
    "    \n",
    "    # ========================================\n",
    "    #               Validation\n",
    "    # ========================================\n",
    "    # After the completion of each training epoch, measure our performance on\n",
    "    # our validation set.\n",
    "    print(\"\")\n",
    "    print(\"Running Validation...\")\n",
    "    t0 = time.time()\n",
    "    # Put the model in evaluation mode--the dropout layers behave differently\n",
    "    # during evaluation.\n",
    "    model.eval()\n",
    "    # Tracking variables \n",
    "    eval_loss, eval_accuracy = 0, 0\n",
    "    nb_eval_steps, nb_eval_examples = 0, 0\n",
    "    # Evaluate data for one epoch\n",
    "    for batch in validation_dataloader:\n",
    "        \n",
    "        # Add batch to GPU\n",
    "        b_input_ids = batch[0].to(device)\n",
    "        b_input_mask = batch[1].to(device)\n",
    "        b_labels = batch[2].to(device)\n",
    "        \n",
    "        # Telling the model not to compute or store gradients, saving memory and\n",
    "        # speeding up validation\n",
    "        with torch.no_grad():        \n",
    "            # Forward pass, calculate logit predictions.\n",
    "            # This will return the logits rather than the loss because we have\n",
    "            # not provided labels.\n",
    "            # token_type_ids is the same as the \"segment ids\", which \n",
    "            # differentiates sentence 1 and 2 in 2-sentence tasks.\n",
    "            # The documentation for this `model` function is here: \n",
    "            # https://huggingface.co/transformers/v2.2.0/model_doc/bert.html#transformers.BertForSequenceClassification\n",
    "            outputs = model(b_input_ids, \n",
    "                            token_type_ids=None, \n",
    "                            attention_mask=b_input_mask,\n",
    "                            labels=b_labels)\n",
    "        \n",
    "        # Get the \"logits\" output by the model. The \"logits\" are the output\n",
    "        # values prior to applying an activation function like the softmax.\n",
    "        loss = outputs[0]\n",
    "        logits = outputs[1]\n",
    "        #hidden_state_vl = outputs[2]\n",
    "        #features = hidden_state_vl[0][:,0,:].detach().cpu().numpy()\n",
    "        #embeddings_vl.append([epoch_i,batch[3], features])\n",
    "        \n",
    "        # Track Loss\n",
    "        eval_loss += loss.item()\n",
    "\n",
    "        # Move logits, hidden states, and labels to CPU\n",
    "        logits = logits.detach().cpu().numpy()\n",
    "        #hidden_state_vl = hidden_state_vl.detach().cpu().numpy()\n",
    "        label_ids = b_labels.to('cpu').numpy()\n",
    "\n",
    "        valid_predictions.append([epoch_i,logits])\n",
    "        valid_true_labels.append([epoch_i,label_ids])\n",
    "        \n",
    "        # Calculate the accuracy for this batch of test sentences.\n",
    "        tmp_eval_accuracy = flat_accuracy(logits, label_ids)\n",
    "        \n",
    "        # Accumulate the total accuracy.\n",
    "        eval_accuracy += tmp_eval_accuracy\n",
    "        # Track the number of batches\n",
    "        nb_eval_steps += 1\n",
    "    \n",
    "    # Calculate the average loss over the training data.\n",
    "    avg_valid_loss = eval_loss / len(validation_dataloader)   \n",
    "\n",
    "    # Report the final accuracy for this validation run.\n",
    "    loss_values_valid.append(avg_valid_loss)\n",
    "    print(\"  Accuracy: {0:.2f}\".format(eval_accuracy/nb_eval_steps))\n",
    "    print(\"  Average validation loss: {0:.2f}\".format(avg_valid_loss))\n",
    "    print(\"  Validation took: {:}\".format(format_time(time.time() - t0)))\n",
    "    \n",
    "print(\"\")\n",
    "print(\"Training complete!\")"
   ]
  },
  {
   "cell_type": "markdown",
   "metadata": {
    "papermill": {
     "duration": 0.165105,
     "end_time": "2021-05-17T01:40:28.299014",
     "exception": false,
     "start_time": "2021-05-17T01:40:28.133909",
     "status": "completed"
    },
    "tags": []
   },
   "source": [
    "### Plot Training and Validation Loss"
   ]
  },
  {
   "cell_type": "code",
   "execution_count": 35,
   "metadata": {
    "execution": {
     "iopub.execute_input": "2021-05-17T01:40:28.638071Z",
     "iopub.status.busy": "2021-05-17T01:40:28.637329Z",
     "iopub.status.idle": "2021-05-17T01:40:28.641030Z",
     "shell.execute_reply": "2021-05-17T01:40:28.640519Z"
    },
    "papermill": {
     "duration": 0.181688,
     "end_time": "2021-05-17T01:40:28.641158",
     "exception": false,
     "start_time": "2021-05-17T01:40:28.459470",
     "status": "completed"
    },
    "tags": []
   },
   "outputs": [
    {
     "data": {
      "text/html": [
       "<div>\n",
       "<style scoped>\n",
       "    .dataframe tbody tr th:only-of-type {\n",
       "        vertical-align: middle;\n",
       "    }\n",
       "\n",
       "    .dataframe tbody tr th {\n",
       "        vertical-align: top;\n",
       "    }\n",
       "\n",
       "    .dataframe thead th {\n",
       "        text-align: right;\n",
       "    }\n",
       "</style>\n",
       "<table border=\"1\" class=\"dataframe\">\n",
       "  <thead>\n",
       "    <tr style=\"text-align: right;\">\n",
       "      <th></th>\n",
       "      <th>epoch</th>\n",
       "      <th>variable</th>\n",
       "      <th>value</th>\n",
       "    </tr>\n",
       "  </thead>\n",
       "  <tbody>\n",
       "    <tr>\n",
       "      <th>0</th>\n",
       "      <td>0</td>\n",
       "      <td>Train Loss</td>\n",
       "      <td>0.248940</td>\n",
       "    </tr>\n",
       "    <tr>\n",
       "      <th>1</th>\n",
       "      <td>1</td>\n",
       "      <td>Train Loss</td>\n",
       "      <td>0.198641</td>\n",
       "    </tr>\n",
       "    <tr>\n",
       "      <th>2</th>\n",
       "      <td>0</td>\n",
       "      <td>Valid Loss</td>\n",
       "      <td>0.595877</td>\n",
       "    </tr>\n",
       "    <tr>\n",
       "      <th>3</th>\n",
       "      <td>1</td>\n",
       "      <td>Valid Loss</td>\n",
       "      <td>0.765781</td>\n",
       "    </tr>\n",
       "  </tbody>\n",
       "</table>\n",
       "</div>"
      ],
      "text/plain": [
       "   epoch    variable     value\n",
       "0      0  Train Loss  0.248940\n",
       "1      1  Train Loss  0.198641\n",
       "2      0  Valid Loss  0.595877\n",
       "3      1  Valid Loss  0.765781"
      ]
     },
     "execution_count": 35,
     "metadata": {},
     "output_type": "execute_result"
    }
   ],
   "source": [
    "df= pd.DataFrame({'epoch': range(0, epochs), 'Train Loss': loss_values, 'Valid Loss': loss_values_valid})\n",
    "df = pd.melt(df, id_vars=['epoch'], value_vars=['Train Loss', 'Valid Loss'])\n",
    "df"
   ]
  },
  {
   "cell_type": "code",
   "execution_count": 36,
   "metadata": {
    "execution": {
     "iopub.execute_input": "2021-05-17T01:40:28.975783Z",
     "iopub.status.busy": "2021-05-17T01:40:28.975049Z",
     "iopub.status.idle": "2021-05-17T01:40:31.162630Z",
     "shell.execute_reply": "2021-05-17T01:40:31.163261Z"
    },
    "papermill": {
     "duration": 2.361247,
     "end_time": "2021-05-17T01:40:31.163397",
     "exception": false,
     "start_time": "2021-05-17T01:40:28.802150",
     "status": "completed"
    },
    "tags": []
   },
   "outputs": [
    {
     "data": {
      "text/html": [
       "        <script type=\"text/javascript\">\n",
       "        window.PlotlyConfig = {MathJaxConfig: 'local'};\n",
       "        if (window.MathJax) {MathJax.Hub.Config({SVG: {font: \"STIX-Web\"}});}\n",
       "        if (typeof require !== 'undefined') {\n",
       "        require.undef(\"plotly\");\n",
       "        requirejs.config({\n",
       "            paths: {\n",
       "                'plotly': ['https://cdn.plot.ly/plotly-latest.min']\n",
       "            }\n",
       "        });\n",
       "        require(['plotly'], function(Plotly) {\n",
       "            window._Plotly = Plotly;\n",
       "        });\n",
       "        }\n",
       "        </script>\n",
       "        "
      ]
     },
     "metadata": {},
     "output_type": "display_data"
    },
    {
     "data": {
      "text/html": [
       "<div>                            <div id=\"0c0b079e-57f2-42f8-ad22-207b052096d2\" class=\"plotly-graph-div\" style=\"height:525px; width:100%;\"></div>            <script type=\"text/javascript\">                require([\"plotly\"], function(Plotly) {                    window.PLOTLYENV=window.PLOTLYENV || {};                                    if (document.getElementById(\"0c0b079e-57f2-42f8-ad22-207b052096d2\")) {                    Plotly.newPlot(                        \"0c0b079e-57f2-42f8-ad22-207b052096d2\",                        [{\"hovertemplate\": \"variable=Train Loss<br>epoch=%{x}<br>value=%{y}<extra></extra>\", \"legendgroup\": \"Train Loss\", \"line\": {\"color\": \"#636efa\", \"dash\": \"solid\"}, \"mode\": \"lines\", \"name\": \"Train Loss\", \"orientation\": \"v\", \"showlegend\": true, \"type\": \"scatter\", \"x\": [0, 1], \"xaxis\": \"x\", \"y\": [0.24894041982592655, 0.19864079391221104], \"yaxis\": \"y\"}, {\"hovertemplate\": \"variable=Valid Loss<br>epoch=%{x}<br>value=%{y}<extra></extra>\", \"legendgroup\": \"Valid Loss\", \"line\": {\"color\": \"#EF553B\", \"dash\": \"solid\"}, \"mode\": \"lines\", \"name\": \"Valid Loss\", \"orientation\": \"v\", \"showlegend\": true, \"type\": \"scatter\", \"x\": [0, 1], \"xaxis\": \"x\", \"y\": [0.5958766546779246, 0.7657806140046083], \"yaxis\": \"y\"}],                        {\"legend\": {\"title\": {\"text\": \"variable\"}, \"tracegroupgap\": 0}, \"margin\": {\"t\": 60}, \"template\": {\"data\": {\"bar\": [{\"error_x\": {\"color\": \"#2a3f5f\"}, \"error_y\": {\"color\": \"#2a3f5f\"}, \"marker\": {\"line\": {\"color\": \"#E5ECF6\", \"width\": 0.5}}, \"type\": \"bar\"}], \"barpolar\": [{\"marker\": {\"line\": {\"color\": \"#E5ECF6\", \"width\": 0.5}}, \"type\": \"barpolar\"}], \"carpet\": [{\"aaxis\": {\"endlinecolor\": \"#2a3f5f\", \"gridcolor\": \"white\", \"linecolor\": \"white\", \"minorgridcolor\": \"white\", \"startlinecolor\": \"#2a3f5f\"}, \"baxis\": {\"endlinecolor\": \"#2a3f5f\", \"gridcolor\": \"white\", \"linecolor\": \"white\", \"minorgridcolor\": \"white\", \"startlinecolor\": \"#2a3f5f\"}, \"type\": \"carpet\"}], \"choropleth\": [{\"colorbar\": {\"outlinewidth\": 0, \"ticks\": \"\"}, \"type\": \"choropleth\"}], \"contour\": [{\"colorbar\": {\"outlinewidth\": 0, \"ticks\": \"\"}, \"colorscale\": [[0.0, \"#0d0887\"], [0.1111111111111111, \"#46039f\"], [0.2222222222222222, \"#7201a8\"], [0.3333333333333333, \"#9c179e\"], [0.4444444444444444, \"#bd3786\"], [0.5555555555555556, \"#d8576b\"], [0.6666666666666666, \"#ed7953\"], [0.7777777777777778, \"#fb9f3a\"], [0.8888888888888888, \"#fdca26\"], [1.0, \"#f0f921\"]], \"type\": \"contour\"}], \"contourcarpet\": [{\"colorbar\": {\"outlinewidth\": 0, \"ticks\": \"\"}, \"type\": \"contourcarpet\"}], \"heatmap\": [{\"colorbar\": {\"outlinewidth\": 0, \"ticks\": \"\"}, \"colorscale\": [[0.0, \"#0d0887\"], [0.1111111111111111, \"#46039f\"], [0.2222222222222222, \"#7201a8\"], [0.3333333333333333, \"#9c179e\"], [0.4444444444444444, \"#bd3786\"], [0.5555555555555556, \"#d8576b\"], [0.6666666666666666, \"#ed7953\"], [0.7777777777777778, \"#fb9f3a\"], [0.8888888888888888, \"#fdca26\"], [1.0, \"#f0f921\"]], \"type\": \"heatmap\"}], \"heatmapgl\": [{\"colorbar\": {\"outlinewidth\": 0, \"ticks\": \"\"}, \"colorscale\": [[0.0, \"#0d0887\"], [0.1111111111111111, \"#46039f\"], [0.2222222222222222, \"#7201a8\"], [0.3333333333333333, \"#9c179e\"], [0.4444444444444444, \"#bd3786\"], [0.5555555555555556, \"#d8576b\"], [0.6666666666666666, \"#ed7953\"], [0.7777777777777778, \"#fb9f3a\"], [0.8888888888888888, \"#fdca26\"], [1.0, \"#f0f921\"]], \"type\": \"heatmapgl\"}], \"histogram\": [{\"marker\": {\"colorbar\": {\"outlinewidth\": 0, \"ticks\": \"\"}}, \"type\": \"histogram\"}], \"histogram2d\": [{\"colorbar\": {\"outlinewidth\": 0, \"ticks\": \"\"}, \"colorscale\": [[0.0, \"#0d0887\"], [0.1111111111111111, \"#46039f\"], [0.2222222222222222, \"#7201a8\"], [0.3333333333333333, \"#9c179e\"], [0.4444444444444444, \"#bd3786\"], [0.5555555555555556, \"#d8576b\"], [0.6666666666666666, \"#ed7953\"], [0.7777777777777778, \"#fb9f3a\"], [0.8888888888888888, \"#fdca26\"], [1.0, \"#f0f921\"]], \"type\": \"histogram2d\"}], \"histogram2dcontour\": [{\"colorbar\": {\"outlinewidth\": 0, \"ticks\": \"\"}, \"colorscale\": [[0.0, \"#0d0887\"], [0.1111111111111111, \"#46039f\"], [0.2222222222222222, \"#7201a8\"], [0.3333333333333333, \"#9c179e\"], [0.4444444444444444, \"#bd3786\"], [0.5555555555555556, \"#d8576b\"], [0.6666666666666666, \"#ed7953\"], [0.7777777777777778, \"#fb9f3a\"], [0.8888888888888888, \"#fdca26\"], [1.0, \"#f0f921\"]], \"type\": \"histogram2dcontour\"}], \"mesh3d\": [{\"colorbar\": {\"outlinewidth\": 0, \"ticks\": \"\"}, \"type\": \"mesh3d\"}], \"parcoords\": [{\"line\": {\"colorbar\": {\"outlinewidth\": 0, \"ticks\": \"\"}}, \"type\": \"parcoords\"}], \"pie\": [{\"automargin\": true, \"type\": \"pie\"}], \"scatter\": [{\"marker\": {\"colorbar\": {\"outlinewidth\": 0, \"ticks\": \"\"}}, \"type\": \"scatter\"}], \"scatter3d\": [{\"line\": {\"colorbar\": {\"outlinewidth\": 0, \"ticks\": \"\"}}, \"marker\": {\"colorbar\": {\"outlinewidth\": 0, \"ticks\": \"\"}}, \"type\": \"scatter3d\"}], \"scattercarpet\": [{\"marker\": {\"colorbar\": {\"outlinewidth\": 0, \"ticks\": \"\"}}, \"type\": \"scattercarpet\"}], \"scattergeo\": [{\"marker\": {\"colorbar\": {\"outlinewidth\": 0, \"ticks\": \"\"}}, \"type\": \"scattergeo\"}], \"scattergl\": [{\"marker\": {\"colorbar\": {\"outlinewidth\": 0, \"ticks\": \"\"}}, \"type\": \"scattergl\"}], \"scattermapbox\": [{\"marker\": {\"colorbar\": {\"outlinewidth\": 0, \"ticks\": \"\"}}, \"type\": \"scattermapbox\"}], \"scatterpolar\": [{\"marker\": {\"colorbar\": {\"outlinewidth\": 0, \"ticks\": \"\"}}, \"type\": \"scatterpolar\"}], \"scatterpolargl\": [{\"marker\": {\"colorbar\": {\"outlinewidth\": 0, \"ticks\": \"\"}}, \"type\": \"scatterpolargl\"}], \"scatterternary\": [{\"marker\": {\"colorbar\": {\"outlinewidth\": 0, \"ticks\": \"\"}}, \"type\": \"scatterternary\"}], \"surface\": [{\"colorbar\": {\"outlinewidth\": 0, \"ticks\": \"\"}, \"colorscale\": [[0.0, \"#0d0887\"], [0.1111111111111111, \"#46039f\"], [0.2222222222222222, \"#7201a8\"], [0.3333333333333333, \"#9c179e\"], [0.4444444444444444, \"#bd3786\"], [0.5555555555555556, \"#d8576b\"], [0.6666666666666666, \"#ed7953\"], [0.7777777777777778, \"#fb9f3a\"], [0.8888888888888888, \"#fdca26\"], [1.0, \"#f0f921\"]], \"type\": \"surface\"}], \"table\": [{\"cells\": {\"fill\": {\"color\": \"#EBF0F8\"}, \"line\": {\"color\": \"white\"}}, \"header\": {\"fill\": {\"color\": \"#C8D4E3\"}, \"line\": {\"color\": \"white\"}}, \"type\": \"table\"}]}, \"layout\": {\"annotationdefaults\": {\"arrowcolor\": \"#2a3f5f\", \"arrowhead\": 0, \"arrowwidth\": 1}, \"autotypenumbers\": \"strict\", \"coloraxis\": {\"colorbar\": {\"outlinewidth\": 0, \"ticks\": \"\"}}, \"colorscale\": {\"diverging\": [[0, \"#8e0152\"], [0.1, \"#c51b7d\"], [0.2, \"#de77ae\"], [0.3, \"#f1b6da\"], [0.4, \"#fde0ef\"], [0.5, \"#f7f7f7\"], [0.6, \"#e6f5d0\"], [0.7, \"#b8e186\"], [0.8, \"#7fbc41\"], [0.9, \"#4d9221\"], [1, \"#276419\"]], \"sequential\": [[0.0, \"#0d0887\"], [0.1111111111111111, \"#46039f\"], [0.2222222222222222, \"#7201a8\"], [0.3333333333333333, \"#9c179e\"], [0.4444444444444444, \"#bd3786\"], [0.5555555555555556, \"#d8576b\"], [0.6666666666666666, \"#ed7953\"], [0.7777777777777778, \"#fb9f3a\"], [0.8888888888888888, \"#fdca26\"], [1.0, \"#f0f921\"]], \"sequentialminus\": [[0.0, \"#0d0887\"], [0.1111111111111111, \"#46039f\"], [0.2222222222222222, \"#7201a8\"], [0.3333333333333333, \"#9c179e\"], [0.4444444444444444, \"#bd3786\"], [0.5555555555555556, \"#d8576b\"], [0.6666666666666666, \"#ed7953\"], [0.7777777777777778, \"#fb9f3a\"], [0.8888888888888888, \"#fdca26\"], [1.0, \"#f0f921\"]]}, \"colorway\": [\"#636efa\", \"#EF553B\", \"#00cc96\", \"#ab63fa\", \"#FFA15A\", \"#19d3f3\", \"#FF6692\", \"#B6E880\", \"#FF97FF\", \"#FECB52\"], \"font\": {\"color\": \"#2a3f5f\"}, \"geo\": {\"bgcolor\": \"white\", \"lakecolor\": \"white\", \"landcolor\": \"#E5ECF6\", \"showlakes\": true, \"showland\": true, \"subunitcolor\": \"white\"}, \"hoverlabel\": {\"align\": \"left\"}, \"hovermode\": \"closest\", \"mapbox\": {\"style\": \"light\"}, \"paper_bgcolor\": \"white\", \"plot_bgcolor\": \"#E5ECF6\", \"polar\": {\"angularaxis\": {\"gridcolor\": \"white\", \"linecolor\": \"white\", \"ticks\": \"\"}, \"bgcolor\": \"#E5ECF6\", \"radialaxis\": {\"gridcolor\": \"white\", \"linecolor\": \"white\", \"ticks\": \"\"}}, \"scene\": {\"xaxis\": {\"backgroundcolor\": \"#E5ECF6\", \"gridcolor\": \"white\", \"gridwidth\": 2, \"linecolor\": \"white\", \"showbackground\": true, \"ticks\": \"\", \"zerolinecolor\": \"white\"}, \"yaxis\": {\"backgroundcolor\": \"#E5ECF6\", \"gridcolor\": \"white\", \"gridwidth\": 2, \"linecolor\": \"white\", \"showbackground\": true, \"ticks\": \"\", \"zerolinecolor\": \"white\"}, \"zaxis\": {\"backgroundcolor\": \"#E5ECF6\", \"gridcolor\": \"white\", \"gridwidth\": 2, \"linecolor\": \"white\", \"showbackground\": true, \"ticks\": \"\", \"zerolinecolor\": \"white\"}}, \"shapedefaults\": {\"line\": {\"color\": \"#2a3f5f\"}}, \"ternary\": {\"aaxis\": {\"gridcolor\": \"white\", \"linecolor\": \"white\", \"ticks\": \"\"}, \"baxis\": {\"gridcolor\": \"white\", \"linecolor\": \"white\", \"ticks\": \"\"}, \"bgcolor\": \"#E5ECF6\", \"caxis\": {\"gridcolor\": \"white\", \"linecolor\": \"white\", \"ticks\": \"\"}}, \"title\": {\"x\": 0.05}, \"xaxis\": {\"automargin\": true, \"gridcolor\": \"white\", \"linecolor\": \"white\", \"ticks\": \"\", \"title\": {\"standoff\": 15}, \"zerolinecolor\": \"white\", \"zerolinewidth\": 2}, \"yaxis\": {\"automargin\": true, \"gridcolor\": \"white\", \"linecolor\": \"white\", \"ticks\": \"\", \"title\": {\"standoff\": 15}, \"zerolinecolor\": \"white\", \"zerolinewidth\": 2}}}, \"title\": {\"text\": \"Training loss of the Model\"}, \"xaxis\": {\"anchor\": \"y\", \"domain\": [0.0, 1.0], \"title\": {\"text\": \"Epoch\"}}, \"yaxis\": {\"anchor\": \"x\", \"domain\": [0.0, 1.0], \"title\": {\"text\": \"Loss\"}}},                        {\"responsive\": true}                    ).then(function(){\n",
       "                            \n",
       "var gd = document.getElementById('0c0b079e-57f2-42f8-ad22-207b052096d2');\n",
       "var x = new MutationObserver(function (mutations, observer) {{\n",
       "        var display = window.getComputedStyle(gd).display;\n",
       "        if (!display || display === 'none') {{\n",
       "            console.log([gd, 'removed!']);\n",
       "            Plotly.purge(gd);\n",
       "            observer.disconnect();\n",
       "        }}\n",
       "}});\n",
       "\n",
       "// Listen for the removal of the full notebook cells\n",
       "var notebookContainer = gd.closest('#notebook-container');\n",
       "if (notebookContainer) {{\n",
       "    x.observe(notebookContainer, {childList: true});\n",
       "}}\n",
       "\n",
       "// Listen for the clearing of the current output cell\n",
       "var outputEl = gd.closest('.output');\n",
       "if (outputEl) {{\n",
       "    x.observe(outputEl, {childList: true});\n",
       "}}\n",
       "\n",
       "                        })                };                });            </script>        </div>"
      ]
     },
     "metadata": {},
     "output_type": "display_data"
    }
   ],
   "source": [
    "import plotly.express as px\n",
    "\n",
    "fig = px.line(df, x='epoch', y='value', color = 'variable')\n",
    "fig.update_layout(title='Training loss of the Model',\n",
    "                   xaxis_title='Epoch',\n",
    "                   yaxis_title='Loss')\n",
    "fig.show()"
   ]
  },
  {
   "cell_type": "markdown",
   "metadata": {
    "papermill": {
     "duration": 0.162596,
     "end_time": "2021-05-17T01:40:31.487833",
     "exception": false,
     "start_time": "2021-05-17T01:40:31.325237",
     "status": "completed"
    },
    "tags": []
   },
   "source": [
    "### Extract Embeddings"
   ]
  },
  {
   "cell_type": "code",
   "execution_count": 37,
   "metadata": {
    "execution": {
     "iopub.execute_input": "2021-05-17T01:40:31.836333Z",
     "iopub.status.busy": "2021-05-17T01:40:31.835472Z",
     "iopub.status.idle": "2021-05-17T01:50:07.897510Z",
     "shell.execute_reply": "2021-05-17T01:50:07.898388Z"
    },
    "papermill": {
     "duration": 576.24674,
     "end_time": "2021-05-17T01:50:07.898618",
     "exception": false,
     "start_time": "2021-05-17T01:40:31.651878",
     "status": "completed"
    },
    "tags": []
   },
   "outputs": [
    {
     "name": "stdout",
     "output_type": "stream",
     "text": [
      "Extracting embeddinga for 115,766 train sentences...\n",
      "Extracting embeddinga for 35,120 validation sentences...\n"
     ]
    }
   ],
   "source": [
    "embeddings_tr, embeddings_vl = [], []\n",
    "# ========================================\n",
    "#               Train\n",
    "# ========================================\n",
    "# Extract embeddinga on train set\n",
    "print('Extracting embeddinga for {:,} train sentences...'.format(len(train_inputs)))\n",
    "# Put model in evaluation mode\n",
    "model.eval()\n",
    "# Tracking variables \n",
    "predictions_train , true_labels_train = [], []\n",
    "# Predict \n",
    "for batch in train_dataloader_sequential:\n",
    "    b_input_ids = batch[0].to(device)\n",
    "    b_input_mask = batch[1].to(device)\n",
    "    b_labels = batch[2].to(device)\n",
    "  \n",
    "  # Telling the model not to compute or store gradients, saving memory and \n",
    "  # speeding up prediction\n",
    "    with torch.no_grad():\n",
    "        # Forward pass, calculate logit predictions\n",
    "        outputs = model(b_input_ids, token_type_ids=None, \n",
    "                      attention_mask=b_input_mask, labels=b_labels)\n",
    "    logits = outputs[1]\n",
    "    # Embeddings extraction approach is to average the second to last hiden layer of each token producing a single 768 length vector\n",
    "    # https://mccormickml.com/2019/05/14/BERT-word-embeddings-tutorial/\n",
    "    hidden_state_tr = outputs[2]\n",
    "    token_vecs = hidden_state_tr[-2]\n",
    "    token_vecs_sentvecs = []\n",
    "    for token in token_vecs:\n",
    "        sentvecs = torch.mean(token, dim=0).detach().cpu().numpy()\n",
    "        token_vecs_sentvecs.append(sentvecs)\n",
    "    #features = hidden_state_tr[0][:,0,:].detach().cpu().numpy()\n",
    "    embeddings_tr.append([batch[3], token_vecs_sentvecs])\n",
    "    # Move logits and labels to CPU\n",
    "    logits = logits.detach().cpu().numpy()\n",
    "    label_ids = b_labels.to('cpu').numpy()\n",
    "\n",
    "    # Store predictions and true labels\n",
    "    predictions_train.append(logits)\n",
    "    true_labels_train.append(label_ids)\n",
    "# ========================================\n",
    "#               Validation\n",
    "# ========================================\n",
    "# Extract embeddinga on train set\n",
    "print('Extracting embeddinga for {:,} validation sentences...'.format(len(validation_inputs)))\n",
    "# Put model in evaluation mode\n",
    "model.eval()\n",
    "# Tracking variables \n",
    "predictions_valid, true_labels_valid = [], []\n",
    "# Predict \n",
    "for batch in validation_dataloader:\n",
    "    b_input_ids = batch[0].to(device)\n",
    "    b_input_mask = batch[1].to(device)\n",
    "    b_labels = batch[2].to(device)\n",
    "  \n",
    "  # Telling the model not to compute or store gradients, saving memory and \n",
    "  # speeding up prediction\n",
    "    with torch.no_grad():\n",
    "        # Forward pass, calculate logit predictions\n",
    "        outputs = model(b_input_ids, token_type_ids=None, \n",
    "                      attention_mask=b_input_mask, labels=b_labels)\n",
    "    logits = outputs[1]\n",
    "    # Embeddings extraction approach is to average the second to last hiden layer of each token producing a single 768 length vector\n",
    "    # https://mccormickml.com/2019/05/14/BERT-word-embeddings-tutorial/\n",
    "    hidden_state_vl = outputs[2]\n",
    "    token_vecs = hidden_state_vl[-2]\n",
    "    token_vecs_sentvecs = []\n",
    "    for token in token_vecs:\n",
    "        sentvecs = torch.mean(token, dim=0).detach().cpu().numpy()\n",
    "        token_vecs_sentvecs.append(sentvecs)\n",
    "    #features = hidden_state_vl[0][:,0,:].detach().cpu().numpy()\n",
    "    embeddings_vl.append([batch[3], token_vecs_sentvecs])\n",
    "    # Move logits and labels to CPU\n",
    "    logits = logits.detach().cpu().numpy()\n",
    "    label_ids = b_labels.to('cpu').numpy()\n",
    "\n",
    "    # Store predictions and true labels\n",
    "    predictions_valid.append(logits)\n",
    "    true_labels_valid.append(label_ids)"
   ]
  },
  {
   "cell_type": "markdown",
   "metadata": {
    "papermill": {
     "duration": 0.254235,
     "end_time": "2021-05-17T01:50:08.441148",
     "exception": false,
     "start_time": "2021-05-17T01:50:08.186913",
     "status": "completed"
    },
    "tags": []
   },
   "source": [
    "### Combine Embeddings with original DF and Output CM"
   ]
  },
  {
   "cell_type": "markdown",
   "metadata": {
    "papermill": {
     "duration": 0.174437,
     "end_time": "2021-05-17T01:50:08.787564",
     "exception": false,
     "start_time": "2021-05-17T01:50:08.613127",
     "status": "completed"
    },
    "tags": []
   },
   "source": [
    "Train"
   ]
  },
  {
   "cell_type": "code",
   "execution_count": 38,
   "metadata": {
    "execution": {
     "iopub.execute_input": "2021-05-17T01:50:09.169615Z",
     "iopub.status.busy": "2021-05-17T01:50:09.168558Z",
     "iopub.status.idle": "2021-05-17T01:50:34.902415Z",
     "shell.execute_reply": "2021-05-17T01:50:34.901487Z"
    },
    "papermill": {
     "duration": 25.916842,
     "end_time": "2021-05-17T01:50:34.902535",
     "exception": false,
     "start_time": "2021-05-17T01:50:08.985693",
     "status": "completed"
    },
    "tags": []
   },
   "outputs": [
    {
     "name": "stdout",
     "output_type": "stream",
     "text": [
      "Train Embeddings Extraction and Merge DONE\n"
     ]
    },
    {
     "data": {
      "text/html": [
       "<div>\n",
       "<style scoped>\n",
       "    .dataframe tbody tr th:only-of-type {\n",
       "        vertical-align: middle;\n",
       "    }\n",
       "\n",
       "    .dataframe tbody tr th {\n",
       "        vertical-align: top;\n",
       "    }\n",
       "\n",
       "    .dataframe thead th {\n",
       "        text-align: right;\n",
       "    }\n",
       "</style>\n",
       "<table border=\"1\" class=\"dataframe\">\n",
       "  <thead>\n",
       "    <tr style=\"text-align: right;\">\n",
       "      <th></th>\n",
       "      <th>id</th>\n",
       "      <th>created_at</th>\n",
       "      <th>retweet_count</th>\n",
       "      <th>favorite_count</th>\n",
       "      <th>quoted_status_id</th>\n",
       "      <th>user.id</th>\n",
       "      <th>user.created_at</th>\n",
       "      <th>user.favourites_count</th>\n",
       "      <th>user.followers_count</th>\n",
       "      <th>user.friends_count</th>\n",
       "      <th>...</th>\n",
       "      <th>758</th>\n",
       "      <th>759</th>\n",
       "      <th>760</th>\n",
       "      <th>761</th>\n",
       "      <th>762</th>\n",
       "      <th>763</th>\n",
       "      <th>764</th>\n",
       "      <th>765</th>\n",
       "      <th>766</th>\n",
       "      <th>767</th>\n",
       "    </tr>\n",
       "  </thead>\n",
       "  <tbody>\n",
       "    <tr>\n",
       "      <th>0</th>\n",
       "      <td>1.278734e+18</td>\n",
       "      <td>1.593709e+09</td>\n",
       "      <td>0.0</td>\n",
       "      <td>0.0</td>\n",
       "      <td>0</td>\n",
       "      <td>1.278130e+18</td>\n",
       "      <td>1.593565e+09</td>\n",
       "      <td>5.0</td>\n",
       "      <td>1.0</td>\n",
       "      <td>60.0</td>\n",
       "      <td>...</td>\n",
       "      <td>-0.774301</td>\n",
       "      <td>-0.406791</td>\n",
       "      <td>-0.284129</td>\n",
       "      <td>-1.878290</td>\n",
       "      <td>1.503465</td>\n",
       "      <td>1.004831</td>\n",
       "      <td>-0.649990</td>\n",
       "      <td>1.058999</td>\n",
       "      <td>1.396360</td>\n",
       "      <td>-0.587964</td>\n",
       "    </tr>\n",
       "    <tr>\n",
       "      <th>1</th>\n",
       "      <td>1.278718e+18</td>\n",
       "      <td>1.593705e+09</td>\n",
       "      <td>0.0</td>\n",
       "      <td>0.0</td>\n",
       "      <td>0</td>\n",
       "      <td>1.278132e+18</td>\n",
       "      <td>1.593565e+09</td>\n",
       "      <td>9.0</td>\n",
       "      <td>31.0</td>\n",
       "      <td>33.0</td>\n",
       "      <td>...</td>\n",
       "      <td>-0.821905</td>\n",
       "      <td>-0.533715</td>\n",
       "      <td>-0.030837</td>\n",
       "      <td>-1.926792</td>\n",
       "      <td>1.502188</td>\n",
       "      <td>0.902135</td>\n",
       "      <td>-0.643073</td>\n",
       "      <td>1.083719</td>\n",
       "      <td>1.450107</td>\n",
       "      <td>-0.623973</td>\n",
       "    </tr>\n",
       "    <tr>\n",
       "      <th>2</th>\n",
       "      <td>1.278718e+18</td>\n",
       "      <td>1.593705e+09</td>\n",
       "      <td>190.0</td>\n",
       "      <td>0.0</td>\n",
       "      <td>1</td>\n",
       "      <td>1.278132e+18</td>\n",
       "      <td>1.593565e+09</td>\n",
       "      <td>9.0</td>\n",
       "      <td>31.0</td>\n",
       "      <td>33.0</td>\n",
       "      <td>...</td>\n",
       "      <td>-0.757259</td>\n",
       "      <td>-0.779946</td>\n",
       "      <td>0.413589</td>\n",
       "      <td>-1.843255</td>\n",
       "      <td>1.473566</td>\n",
       "      <td>0.649101</td>\n",
       "      <td>-0.601484</td>\n",
       "      <td>1.254527</td>\n",
       "      <td>1.601202</td>\n",
       "      <td>-0.706787</td>\n",
       "    </tr>\n",
       "    <tr>\n",
       "      <th>3</th>\n",
       "      <td>1.278719e+18</td>\n",
       "      <td>1.593705e+09</td>\n",
       "      <td>0.0</td>\n",
       "      <td>0.0</td>\n",
       "      <td>0</td>\n",
       "      <td>1.278132e+18</td>\n",
       "      <td>1.593565e+09</td>\n",
       "      <td>9.0</td>\n",
       "      <td>31.0</td>\n",
       "      <td>33.0</td>\n",
       "      <td>...</td>\n",
       "      <td>-0.761928</td>\n",
       "      <td>-0.402957</td>\n",
       "      <td>-0.434746</td>\n",
       "      <td>-1.946597</td>\n",
       "      <td>1.503645</td>\n",
       "      <td>1.044023</td>\n",
       "      <td>-0.672057</td>\n",
       "      <td>1.007629</td>\n",
       "      <td>1.397711</td>\n",
       "      <td>-0.475409</td>\n",
       "    </tr>\n",
       "    <tr>\n",
       "      <th>4</th>\n",
       "      <td>1.278727e+18</td>\n",
       "      <td>1.593707e+09</td>\n",
       "      <td>0.0</td>\n",
       "      <td>0.0</td>\n",
       "      <td>0</td>\n",
       "      <td>1.278132e+18</td>\n",
       "      <td>1.593565e+09</td>\n",
       "      <td>9.0</td>\n",
       "      <td>31.0</td>\n",
       "      <td>33.0</td>\n",
       "      <td>...</td>\n",
       "      <td>-0.785206</td>\n",
       "      <td>0.136172</td>\n",
       "      <td>-1.115763</td>\n",
       "      <td>-1.917340</td>\n",
       "      <td>1.561224</td>\n",
       "      <td>1.451110</td>\n",
       "      <td>-0.522735</td>\n",
       "      <td>1.278954</td>\n",
       "      <td>1.236202</td>\n",
       "      <td>-0.414874</td>\n",
       "    </tr>\n",
       "  </tbody>\n",
       "</table>\n",
       "<p>5 rows × 929 columns</p>\n",
       "</div>"
      ],
      "text/plain": [
       "             id    created_at  retweet_count  favorite_count  \\\n",
       "0  1.278734e+18  1.593709e+09            0.0             0.0   \n",
       "1  1.278718e+18  1.593705e+09            0.0             0.0   \n",
       "2  1.278718e+18  1.593705e+09          190.0             0.0   \n",
       "3  1.278719e+18  1.593705e+09            0.0             0.0   \n",
       "4  1.278727e+18  1.593707e+09            0.0             0.0   \n",
       "\n",
       "   quoted_status_id       user.id  user.created_at  user.favourites_count  \\\n",
       "0                 0  1.278130e+18     1.593565e+09                    5.0   \n",
       "1                 0  1.278132e+18     1.593565e+09                    9.0   \n",
       "2                 1  1.278132e+18     1.593565e+09                    9.0   \n",
       "3                 0  1.278132e+18     1.593565e+09                    9.0   \n",
       "4                 0  1.278132e+18     1.593565e+09                    9.0   \n",
       "\n",
       "   user.followers_count  user.friends_count  ...       758       759  \\\n",
       "0                   1.0                60.0  ... -0.774301 -0.406791   \n",
       "1                  31.0                33.0  ... -0.821905 -0.533715   \n",
       "2                  31.0                33.0  ... -0.757259 -0.779946   \n",
       "3                  31.0                33.0  ... -0.761928 -0.402957   \n",
       "4                  31.0                33.0  ... -0.785206  0.136172   \n",
       "\n",
       "        760       761       762       763       764       765       766  \\\n",
       "0 -0.284129 -1.878290  1.503465  1.004831 -0.649990  1.058999  1.396360   \n",
       "1 -0.030837 -1.926792  1.502188  0.902135 -0.643073  1.083719  1.450107   \n",
       "2  0.413589 -1.843255  1.473566  0.649101 -0.601484  1.254527  1.601202   \n",
       "3 -0.434746 -1.946597  1.503645  1.044023 -0.672057  1.007629  1.397711   \n",
       "4 -1.115763 -1.917340  1.561224  1.451110 -0.522735  1.278954  1.236202   \n",
       "\n",
       "        767  \n",
       "0 -0.587964  \n",
       "1 -0.623973  \n",
       "2 -0.706787  \n",
       "3 -0.475409  \n",
       "4 -0.414874  \n",
       "\n",
       "[5 rows x 929 columns]"
      ]
     },
     "execution_count": 38,
     "metadata": {},
     "output_type": "execute_result"
    }
   ],
   "source": [
    "# Get embeddings for train\n",
    "p = [group for group in embeddings_tr]\n",
    "\n",
    "b = [item for sublist in [[list(t) for t in zip(sublist[0], sublist[1])] for sublist in p] for item in sublist]\n",
    "df = pd.DataFrame(b, columns = ['id', 'embeddings'])  \n",
    "\n",
    "bert_embeddings_df_train = pd.concat([df['id'], df['embeddings'].apply(pd.Series)], axis = 1)\n",
    "bert_embeddings_df_train['id'] = bert_embeddings_df_train['id'].apply(lambda x: x.item())\n",
    "#bert_embeddings_df_train = pd.merge(df_train.drop(['text'], axis=1), bert_embeddings_df_train, left_on = [\"id\"], right_on = [\"id\"])\n",
    "bert_embeddings_df_train = pd.merge(df_train.drop(['text'], axis=1), bert_embeddings_df_train.drop(['id'], axis=1), left_index=True, right_index=True)\n",
    "print('Train Embeddings Extraction and Merge DONE')\n",
    "bert_embeddings_df_train.head()"
   ]
  },
  {
   "cell_type": "code",
   "execution_count": 39,
   "metadata": {
    "execution": {
     "iopub.execute_input": "2021-05-17T01:50:35.242867Z",
     "iopub.status.busy": "2021-05-17T01:50:35.242163Z",
     "iopub.status.idle": "2021-05-17T01:50:40.295185Z",
     "shell.execute_reply": "2021-05-17T01:50:40.294713Z"
    },
    "papermill": {
     "duration": 5.225551,
     "end_time": "2021-05-17T01:50:40.295290",
     "exception": false,
     "start_time": "2021-05-17T01:50:35.069739",
     "status": "completed"
    },
    "tags": []
   },
   "outputs": [
    {
     "name": "stdout",
     "output_type": "stream",
     "text": [
      "Calculating Matthews Corr. Coef. for each batch...\n"
     ]
    },
    {
     "name": "stderr",
     "output_type": "stream",
     "text": [
      "/opt/conda/lib/python3.7/site-packages/sklearn/metrics/_classification.py:846: RuntimeWarning:\n",
      "\n",
      "invalid value encountered in double_scalars\n",
      "\n"
     ]
    }
   ],
   "source": [
    "from sklearn.metrics import matthews_corrcoef\n",
    "matthews_set = []\n",
    "# Evaluate each test batch using Matthew's correlation coefficient\n",
    "print('Calculating Matthews Corr. Coef. for each batch...')\n",
    "# For each input batch...\n",
    "for i in range(len(true_labels_train)):\n",
    "  \n",
    "    # The predictions for this batch are a 2-column ndarray (one column for \"0\" \n",
    "    # and one column for \"1\"). Pick the label with the highest value and turn this\n",
    "    # in to a list of 0s and 1s.\n",
    "    pred_labels_i = np.argmax(predictions_train[i], axis=1).flatten()\n",
    "\n",
    "    # Calculate and store the coef for this batch.  \n",
    "    matthews = matthews_corrcoef(true_labels_train[i], pred_labels_i)                \n",
    "    matthews_set.append(matthews)"
   ]
  },
  {
   "cell_type": "code",
   "execution_count": 40,
   "metadata": {
    "execution": {
     "iopub.execute_input": "2021-05-17T01:50:40.681465Z",
     "iopub.status.busy": "2021-05-17T01:50:40.667630Z",
     "iopub.status.idle": "2021-05-17T01:50:41.064045Z",
     "shell.execute_reply": "2021-05-17T01:50:41.064775Z"
    },
    "papermill": {
     "duration": 0.601197,
     "end_time": "2021-05-17T01:50:41.064991",
     "exception": false,
     "start_time": "2021-05-17T01:50:40.463794",
     "status": "completed"
    },
    "tags": []
   },
   "outputs": [
    {
     "name": "stdout",
     "output_type": "stream",
     "text": [
      "MCC: 0.632\n"
     ]
    }
   ],
   "source": [
    "# Combine the predictions for each batch into a single list of 0s and 1s.\n",
    "flat_predictions = [item for sublist in predictions_train for item in sublist]\n",
    "flat_predictions = np.argmax(flat_predictions, axis=1).flatten()\n",
    "# Combine the correct labels for each batch into a single list.\n",
    "flat_true_labels = [item for sublist in true_labels_train for item in sublist]\n",
    "# Calculate the MCC\n",
    "mcc = matthews_corrcoef(flat_true_labels, flat_predictions)\n",
    "print('MCC: %.3f' % mcc)"
   ]
  },
  {
   "cell_type": "code",
   "execution_count": 41,
   "metadata": {
    "execution": {
     "iopub.execute_input": "2021-05-17T01:50:41.561780Z",
     "iopub.status.busy": "2021-05-17T01:50:41.560881Z",
     "iopub.status.idle": "2021-05-17T01:50:41.677487Z",
     "shell.execute_reply": "2021-05-17T01:50:41.677087Z"
    },
    "papermill": {
     "duration": 0.317356,
     "end_time": "2021-05-17T01:50:41.677587",
     "exception": false,
     "start_time": "2021-05-17T01:50:41.360231",
     "status": "completed"
    },
    "tags": []
   },
   "outputs": [
    {
     "name": "stdout",
     "output_type": "stream",
     "text": [
      "              precision    recall  f1-score   support\n",
      "\n",
      "           0       0.96      0.99      0.98    106870\n",
      "           1       0.88      0.48      0.62      8896\n",
      "\n",
      "    accuracy                           0.96    115766\n",
      "   macro avg       0.92      0.74      0.80    115766\n",
      "weighted avg       0.95      0.96      0.95    115766\n",
      "\n"
     ]
    }
   ],
   "source": [
    "from sklearn.metrics import classification_report,confusion_matrix\n",
    "report = classification_report(flat_true_labels, flat_predictions)\n",
    "print(report)"
   ]
  },
  {
   "cell_type": "code",
   "execution_count": 42,
   "metadata": {
    "execution": {
     "iopub.execute_input": "2021-05-17T01:50:42.017344Z",
     "iopub.status.busy": "2021-05-17T01:50:42.016491Z",
     "iopub.status.idle": "2021-05-17T01:50:42.019471Z",
     "shell.execute_reply": "2021-05-17T01:50:42.019003Z"
    },
    "papermill": {
     "duration": 0.17575,
     "end_time": "2021-05-17T01:50:42.019572",
     "exception": false,
     "start_time": "2021-05-17T01:50:41.843822",
     "status": "completed"
    },
    "tags": []
   },
   "outputs": [],
   "source": [
    "def plot_roc_curve(fpr, tpr, label=None):\n",
    "    plt.plot(fpr, tpr, linewidth=2, label=label)\n",
    "    plt.plot([0, 1], [0, 1], 'k--') # dashed diagonal\n",
    "    plt.axis([0, 1, 0, 1])                                    # Not shown in the book\n",
    "    plt.xlabel('False Positive Rate (Fall-Out)', fontsize=16) # Not shown\n",
    "    plt.ylabel('True Positive Rate (Recall)', fontsize=16)    # Not shown\n",
    "    plt.grid(True)  "
   ]
  },
  {
   "cell_type": "code",
   "execution_count": 43,
   "metadata": {
    "execution": {
     "iopub.execute_input": "2021-05-17T01:50:42.389296Z",
     "iopub.status.busy": "2021-05-17T01:50:42.388448Z",
     "iopub.status.idle": "2021-05-17T01:50:42.573405Z",
     "shell.execute_reply": "2021-05-17T01:50:42.573823Z"
    },
    "papermill": {
     "duration": 0.387096,
     "end_time": "2021-05-17T01:50:42.573939",
     "exception": false,
     "start_time": "2021-05-17T01:50:42.186843",
     "status": "completed"
    },
    "tags": []
   },
   "outputs": [
    {
     "data": {
      "image/png": "[encoded data removed]",
      "text/plain": [
       "<Figure size 576x432 with 1 Axes>"
      ]
     },
     "metadata": {
      "needs_background": "light"
     },
     "output_type": "display_data"
    }
   ],
   "source": [
    "fpr, tpr, thresholds = roc_curve(flat_true_labels, flat_predictions)\n",
    "plt.figure(figsize=(8, 6))                         # Not shown\n",
    "plot_roc_curve(fpr, tpr)\n",
    "plt.plot([4.837e-3, 4.837e-3], [0., 0.4368], \"r:\") # Not shown\n",
    "plt.plot([0.0, 4.837e-3], [0.4368, 0.4368], \"r:\")  # Not shown\n",
    "plt.plot([4.837e-3], [0.4368], \"ro\")               # Not shown\n",
    "plt.show()"
   ]
  },
  {
   "cell_type": "code",
   "execution_count": 44,
   "metadata": {
    "execution": {
     "iopub.execute_input": "2021-05-17T01:50:42.946664Z",
     "iopub.status.busy": "2021-05-17T01:50:42.945897Z",
     "iopub.status.idle": "2021-05-17T01:50:42.979019Z",
     "shell.execute_reply": "2021-05-17T01:50:42.978501Z"
    },
    "papermill": {
     "duration": 0.234185,
     "end_time": "2021-05-17T01:50:42.979106",
     "exception": false,
     "start_time": "2021-05-17T01:50:42.744921",
     "status": "completed"
    },
    "tags": []
   },
   "outputs": [
    {
     "data": {
      "text/plain": [
       "0.7379470296224889"
      ]
     },
     "execution_count": 44,
     "metadata": {},
     "output_type": "execute_result"
    }
   ],
   "source": [
    "roc_auc_score(flat_true_labels, flat_predictions)"
   ]
  },
  {
   "cell_type": "markdown",
   "metadata": {
    "papermill": {
     "duration": 0.166994,
     "end_time": "2021-05-17T01:50:43.315368",
     "exception": false,
     "start_time": "2021-05-17T01:50:43.148374",
     "status": "completed"
    },
    "tags": []
   },
   "source": [
    "Valid"
   ]
  },
  {
   "cell_type": "code",
   "execution_count": 45,
   "metadata": {
    "execution": {
     "iopub.execute_input": "2021-05-17T01:50:43.658333Z",
     "iopub.status.busy": "2021-05-17T01:50:43.657522Z",
     "iopub.status.idle": "2021-05-17T01:50:50.754192Z",
     "shell.execute_reply": "2021-05-17T01:50:50.754798Z"
    },
    "papermill": {
     "duration": 7.273492,
     "end_time": "2021-05-17T01:50:50.754945",
     "exception": false,
     "start_time": "2021-05-17T01:50:43.481453",
     "status": "completed"
    },
    "tags": []
   },
   "outputs": [
    {
     "name": "stdout",
     "output_type": "stream",
     "text": [
      "Valid Embeddings Extraction and Merge DONE.\n"
     ]
    },
    {
     "data": {
      "text/html": [
       "<div>\n",
       "<style scoped>\n",
       "    .dataframe tbody tr th:only-of-type {\n",
       "        vertical-align: middle;\n",
       "    }\n",
       "\n",
       "    .dataframe tbody tr th {\n",
       "        vertical-align: top;\n",
       "    }\n",
       "\n",
       "    .dataframe thead th {\n",
       "        text-align: right;\n",
       "    }\n",
       "</style>\n",
       "<table border=\"1\" class=\"dataframe\">\n",
       "  <thead>\n",
       "    <tr style=\"text-align: right;\">\n",
       "      <th></th>\n",
       "      <th>id</th>\n",
       "      <th>created_at</th>\n",
       "      <th>retweet_count</th>\n",
       "      <th>favorite_count</th>\n",
       "      <th>quoted_status_id</th>\n",
       "      <th>user.id</th>\n",
       "      <th>user.created_at</th>\n",
       "      <th>user.favourites_count</th>\n",
       "      <th>user.followers_count</th>\n",
       "      <th>user.friends_count</th>\n",
       "      <th>...</th>\n",
       "      <th>758</th>\n",
       "      <th>759</th>\n",
       "      <th>760</th>\n",
       "      <th>761</th>\n",
       "      <th>762</th>\n",
       "      <th>763</th>\n",
       "      <th>764</th>\n",
       "      <th>765</th>\n",
       "      <th>766</th>\n",
       "      <th>767</th>\n",
       "    </tr>\n",
       "  </thead>\n",
       "  <tbody>\n",
       "    <tr>\n",
       "      <th>0</th>\n",
       "      <td>1.287649e+18</td>\n",
       "      <td>1.595834e+09</td>\n",
       "      <td>0.0</td>\n",
       "      <td>1.0</td>\n",
       "      <td>0</td>\n",
       "      <td>1.278120e+18</td>\n",
       "      <td>1.593563e+09</td>\n",
       "      <td>5211.0</td>\n",
       "      <td>47.0</td>\n",
       "      <td>169.0</td>\n",
       "      <td>...</td>\n",
       "      <td>0.598703</td>\n",
       "      <td>0.922123</td>\n",
       "      <td>-1.729177</td>\n",
       "      <td>-1.094272</td>\n",
       "      <td>1.270611</td>\n",
       "      <td>2.774432</td>\n",
       "      <td>-0.141073</td>\n",
       "      <td>1.320952</td>\n",
       "      <td>0.554479</td>\n",
       "      <td>-0.347933</td>\n",
       "    </tr>\n",
       "    <tr>\n",
       "      <th>1</th>\n",
       "      <td>1.299140e+18</td>\n",
       "      <td>1.598574e+09</td>\n",
       "      <td>0.0</td>\n",
       "      <td>2.0</td>\n",
       "      <td>0</td>\n",
       "      <td>1.278120e+18</td>\n",
       "      <td>1.593563e+09</td>\n",
       "      <td>20087.0</td>\n",
       "      <td>303.0</td>\n",
       "      <td>607.0</td>\n",
       "      <td>...</td>\n",
       "      <td>-0.681282</td>\n",
       "      <td>-0.010345</td>\n",
       "      <td>-1.246046</td>\n",
       "      <td>-1.869900</td>\n",
       "      <td>1.379234</td>\n",
       "      <td>1.456971</td>\n",
       "      <td>-0.512422</td>\n",
       "      <td>1.119560</td>\n",
       "      <td>1.268258</td>\n",
       "      <td>-0.430497</td>\n",
       "    </tr>\n",
       "    <tr>\n",
       "      <th>2</th>\n",
       "      <td>1.299138e+18</td>\n",
       "      <td>1.598574e+09</td>\n",
       "      <td>0.0</td>\n",
       "      <td>0.0</td>\n",
       "      <td>0</td>\n",
       "      <td>1.278120e+18</td>\n",
       "      <td>1.593563e+09</td>\n",
       "      <td>20087.0</td>\n",
       "      <td>303.0</td>\n",
       "      <td>607.0</td>\n",
       "      <td>...</td>\n",
       "      <td>-0.660423</td>\n",
       "      <td>-0.009043</td>\n",
       "      <td>-1.260180</td>\n",
       "      <td>-1.908129</td>\n",
       "      <td>1.412738</td>\n",
       "      <td>1.498353</td>\n",
       "      <td>-0.535873</td>\n",
       "      <td>1.076595</td>\n",
       "      <td>1.288486</td>\n",
       "      <td>-0.529863</td>\n",
       "    </tr>\n",
       "    <tr>\n",
       "      <th>3</th>\n",
       "      <td>1.299137e+18</td>\n",
       "      <td>1.598573e+09</td>\n",
       "      <td>0.0</td>\n",
       "      <td>2.0</td>\n",
       "      <td>0</td>\n",
       "      <td>1.278120e+18</td>\n",
       "      <td>1.593563e+09</td>\n",
       "      <td>20087.0</td>\n",
       "      <td>303.0</td>\n",
       "      <td>607.0</td>\n",
       "      <td>...</td>\n",
       "      <td>1.035725</td>\n",
       "      <td>1.250562</td>\n",
       "      <td>-1.805879</td>\n",
       "      <td>-0.300899</td>\n",
       "      <td>1.161073</td>\n",
       "      <td>2.443825</td>\n",
       "      <td>0.218579</td>\n",
       "      <td>0.438006</td>\n",
       "      <td>0.238432</td>\n",
       "      <td>-0.041338</td>\n",
       "    </tr>\n",
       "    <tr>\n",
       "      <th>4</th>\n",
       "      <td>1.299127e+18</td>\n",
       "      <td>1.598571e+09</td>\n",
       "      <td>0.0</td>\n",
       "      <td>1.0</td>\n",
       "      <td>0</td>\n",
       "      <td>1.278120e+18</td>\n",
       "      <td>1.593563e+09</td>\n",
       "      <td>20087.0</td>\n",
       "      <td>303.0</td>\n",
       "      <td>607.0</td>\n",
       "      <td>...</td>\n",
       "      <td>-0.733327</td>\n",
       "      <td>-0.628775</td>\n",
       "      <td>0.049202</td>\n",
       "      <td>-1.866541</td>\n",
       "      <td>1.535856</td>\n",
       "      <td>0.784198</td>\n",
       "      <td>-0.634413</td>\n",
       "      <td>1.131530</td>\n",
       "      <td>1.536538</td>\n",
       "      <td>-0.596895</td>\n",
       "    </tr>\n",
       "  </tbody>\n",
       "</table>\n",
       "<p>5 rows × 929 columns</p>\n",
       "</div>"
      ],
      "text/plain": [
       "             id    created_at  retweet_count  favorite_count  \\\n",
       "0  1.287649e+18  1.595834e+09            0.0             1.0   \n",
       "1  1.299140e+18  1.598574e+09            0.0             2.0   \n",
       "2  1.299138e+18  1.598574e+09            0.0             0.0   \n",
       "3  1.299137e+18  1.598573e+09            0.0             2.0   \n",
       "4  1.299127e+18  1.598571e+09            0.0             1.0   \n",
       "\n",
       "   quoted_status_id       user.id  user.created_at  user.favourites_count  \\\n",
       "0                 0  1.278120e+18     1.593563e+09                 5211.0   \n",
       "1                 0  1.278120e+18     1.593563e+09                20087.0   \n",
       "2                 0  1.278120e+18     1.593563e+09                20087.0   \n",
       "3                 0  1.278120e+18     1.593563e+09                20087.0   \n",
       "4                 0  1.278120e+18     1.593563e+09                20087.0   \n",
       "\n",
       "   user.followers_count  user.friends_count  ...       758       759  \\\n",
       "0                  47.0               169.0  ...  0.598703  0.922123   \n",
       "1                 303.0               607.0  ... -0.681282 -0.010345   \n",
       "2                 303.0               607.0  ... -0.660423 -0.009043   \n",
       "3                 303.0               607.0  ...  1.035725  1.250562   \n",
       "4                 303.0               607.0  ... -0.733327 -0.628775   \n",
       "\n",
       "        760       761       762       763       764       765       766  \\\n",
       "0 -1.729177 -1.094272  1.270611  2.774432 -0.141073  1.320952  0.554479   \n",
       "1 -1.246046 -1.869900  1.379234  1.456971 -0.512422  1.119560  1.268258   \n",
       "2 -1.260180 -1.908129  1.412738  1.498353 -0.535873  1.076595  1.288486   \n",
       "3 -1.805879 -0.300899  1.161073  2.443825  0.218579  0.438006  0.238432   \n",
       "4  0.049202 -1.866541  1.535856  0.784198 -0.634413  1.131530  1.536538   \n",
       "\n",
       "        767  \n",
       "0 -0.347933  \n",
       "1 -0.430497  \n",
       "2 -0.529863  \n",
       "3 -0.041338  \n",
       "4 -0.596895  \n",
       "\n",
       "[5 rows x 929 columns]"
      ]
     },
     "execution_count": 45,
     "metadata": {},
     "output_type": "execute_result"
    }
   ],
   "source": [
    "# Get embeddings for valid\n",
    "p = [group for group in embeddings_vl]\n",
    "\n",
    "b = [item for sublist in [[list(t) for t in zip(sublist[0], sublist[1])] for sublist in p] for item in sublist]\n",
    "df = pd.DataFrame(b, columns = ['id', 'embeddings'])  \n",
    "\n",
    "bert_embeddings_df_valid = pd.concat([df['id'], df['embeddings'].apply(pd.Series)], axis = 1)\n",
    "bert_embeddings_df_valid['id'] = bert_embeddings_df_valid['id'].apply(lambda x: x.item())\n",
    "#bert_embeddings_df_valid = pd.merge(df_valid.drop(['text'], axis=1), bert_embeddings_df_valid, left_on = [\"id\"], right_on = [\"id\"])\n",
    "bert_embeddings_df_valid = pd.merge(df_valid.drop(['text'], axis=1), bert_embeddings_df_valid.drop(['id'], axis=1), left_index=True, right_index=True)\n",
    "print('Valid Embeddings Extraction and Merge DONE.')\n",
    "bert_embeddings_df_valid.head()"
   ]
  },
  {
   "cell_type": "code",
   "execution_count": 46,
   "metadata": {
    "execution": {
     "iopub.execute_input": "2021-05-17T01:50:51.128944Z",
     "iopub.status.busy": "2021-05-17T01:50:51.127914Z",
     "iopub.status.idle": "2021-05-17T01:50:52.926881Z",
     "shell.execute_reply": "2021-05-17T01:50:52.926408Z"
    },
    "papermill": {
     "duration": 1.986725,
     "end_time": "2021-05-17T01:50:52.926988",
     "exception": false,
     "start_time": "2021-05-17T01:50:50.940263",
     "status": "completed"
    },
    "tags": []
   },
   "outputs": [
    {
     "name": "stdout",
     "output_type": "stream",
     "text": [
      "Calculating Matthews Corr. Coef. for each batch...\n"
     ]
    },
    {
     "name": "stderr",
     "output_type": "stream",
     "text": [
      "/opt/conda/lib/python3.7/site-packages/sklearn/metrics/_classification.py:846: RuntimeWarning:\n",
      "\n",
      "invalid value encountered in double_scalars\n",
      "\n"
     ]
    }
   ],
   "source": [
    "from sklearn.metrics import matthews_corrcoef\n",
    "matthews_set = []\n",
    "# Evaluate each test batch using Matthew's correlation coefficient\n",
    "print('Calculating Matthews Corr. Coef. for each batch...')\n",
    "# For each input batch...\n",
    "for i in range(len(true_labels_valid)):\n",
    "  \n",
    "    # The predictions for this batch are a 2-column ndarray (one column for \"0\" \n",
    "    # and one column for \"1\"). Pick the label with the highest value and turn this\n",
    "    # in to a list of 0s and 1s.\n",
    "    pred_labels_i = np.argmax(predictions_valid[i], axis=1).flatten()\n",
    "\n",
    "    # Calculate and store the coef for this batch.  \n",
    "    matthews = matthews_corrcoef(true_labels_valid[i], pred_labels_i)                \n",
    "    matthews_set.append(matthews)"
   ]
  },
  {
   "cell_type": "code",
   "execution_count": 47,
   "metadata": {
    "execution": {
     "iopub.execute_input": "2021-05-17T01:50:53.301009Z",
     "iopub.status.busy": "2021-05-17T01:50:53.300183Z",
     "iopub.status.idle": "2021-05-17T01:50:53.415060Z",
     "shell.execute_reply": "2021-05-17T01:50:53.415780Z"
    },
    "papermill": {
     "duration": 0.309608,
     "end_time": "2021-05-17T01:50:53.415949",
     "exception": false,
     "start_time": "2021-05-17T01:50:53.106341",
     "status": "completed"
    },
    "tags": []
   },
   "outputs": [
    {
     "name": "stdout",
     "output_type": "stream",
     "text": [
      "MCC: -0.001\n"
     ]
    }
   ],
   "source": [
    "# Combine the predictions for each batch into a single list of 0s and 1s.\n",
    "flat_predictions = [item for sublist in predictions_valid for item in sublist]\n",
    "flat_predictions = np.argmax(flat_predictions, axis=1).flatten()\n",
    "# Combine the correct labels for each batch into a single list.\n",
    "flat_true_labels = [item for sublist in true_labels_valid for item in sublist]\n",
    "# Calculate the MCC\n",
    "mcc = matthews_corrcoef(flat_true_labels, flat_predictions)\n",
    "print('MCC: %.3f' % mcc)"
   ]
  },
  {
   "cell_type": "code",
   "execution_count": 48,
   "metadata": {
    "execution": {
     "iopub.execute_input": "2021-05-17T01:50:53.799228Z",
     "iopub.status.busy": "2021-05-17T01:50:53.798355Z",
     "iopub.status.idle": "2021-05-17T01:50:53.836395Z",
     "shell.execute_reply": "2021-05-17T01:50:53.837014Z"
    },
    "papermill": {
     "duration": 0.230109,
     "end_time": "2021-05-17T01:50:53.837184",
     "exception": false,
     "start_time": "2021-05-17T01:50:53.607075",
     "status": "completed"
    },
    "tags": []
   },
   "outputs": [
    {
     "name": "stdout",
     "output_type": "stream",
     "text": [
      "              precision    recall  f1-score   support\n",
      "\n",
      "           0       0.82      0.99      0.90     28923\n",
      "           1       0.17      0.01      0.03      6197\n",
      "\n",
      "    accuracy                           0.81     35120\n",
      "   macro avg       0.50      0.50      0.46     35120\n",
      "weighted avg       0.71      0.81      0.74     35120\n",
      "\n"
     ]
    }
   ],
   "source": [
    "from sklearn.metrics import classification_report,confusion_matrix\n",
    "report = classification_report(flat_true_labels, flat_predictions)\n",
    "print(report)"
   ]
  },
  {
   "cell_type": "code",
   "execution_count": 49,
   "metadata": {
    "execution": {
     "iopub.execute_input": "2021-05-17T01:50:54.193127Z",
     "iopub.status.busy": "2021-05-17T01:50:54.192297Z",
     "iopub.status.idle": "2021-05-17T01:50:54.335020Z",
     "shell.execute_reply": "2021-05-17T01:50:54.335423Z"
    },
    "papermill": {
     "duration": 0.327564,
     "end_time": "2021-05-17T01:50:54.335562",
     "exception": false,
     "start_time": "2021-05-17T01:50:54.007998",
     "status": "completed"
    },
    "tags": []
   },
   "outputs": [
    {
     "data": {
      "image/png": "[encoded data removed]",
      "text/plain": [
       "<Figure size 576x432 with 1 Axes>"
      ]
     },
     "metadata": {
      "needs_background": "light"
     },
     "output_type": "display_data"
    }
   ],
   "source": [
    "fpr, tpr, thresholds = roc_curve(flat_true_labels, flat_predictions)\n",
    "plt.figure(figsize=(8, 6))                         # Not shown\n",
    "plot_roc_curve(fpr, tpr)\n",
    "plt.plot([4.837e-3, 4.837e-3], [0., 0.4368], \"r:\") # Not shown\n",
    "plt.plot([0.0, 4.837e-3], [0.4368, 0.4368], \"r:\")  # Not shown\n",
    "plt.plot([4.837e-3], [0.4368], \"ro\")               # Not shown\n",
    "plt.show()"
   ]
  },
  {
   "cell_type": "code",
   "execution_count": 50,
   "metadata": {
    "execution": {
     "iopub.execute_input": "2021-05-17T01:50:54.690406Z",
     "iopub.status.busy": "2021-05-17T01:50:54.689624Z",
     "iopub.status.idle": "2021-05-17T01:50:54.703790Z",
     "shell.execute_reply": "2021-05-17T01:50:54.703309Z"
    },
    "papermill": {
     "duration": 0.196432,
     "end_time": "2021-05-17T01:50:54.703902",
     "exception": false,
     "start_time": "2021-05-17T01:50:54.507470",
     "status": "completed"
    },
    "tags": []
   },
   "outputs": [
    {
     "data": {
      "text/plain": [
       "0.49989144469668007"
      ]
     },
     "execution_count": 50,
     "metadata": {},
     "output_type": "execute_result"
    }
   ],
   "source": [
    "roc_auc_score(flat_true_labels, flat_predictions)"
   ]
  },
  {
   "cell_type": "markdown",
   "metadata": {
    "papermill": {
     "duration": 0.207382,
     "end_time": "2021-05-17T01:50:55.080810",
     "exception": false,
     "start_time": "2021-05-17T01:50:54.873428",
     "status": "completed"
    },
    "tags": []
   },
   "source": [
    "### Export Models and Embeddings"
   ]
  },
  {
   "cell_type": "code",
   "execution_count": 51,
   "metadata": {
    "execution": {
     "iopub.execute_input": "2021-05-17T01:50:55.429025Z",
     "iopub.status.busy": "2021-05-17T01:50:55.428260Z",
     "iopub.status.idle": "2021-05-17T01:50:55.699071Z",
     "shell.execute_reply": "2021-05-17T01:50:55.698528Z"
    },
    "papermill": {
     "duration": 0.446629,
     "end_time": "2021-05-17T01:50:55.699182",
     "exception": false,
     "start_time": "2021-05-17T01:50:55.252553",
     "status": "completed"
    },
    "tags": []
   },
   "outputs": [],
   "source": [
    "bert_embeddings_df_train['id'] = bert_embeddings_df_train['id'].astype('str')\n",
    "bert_embeddings_df_train['id'] = bert_embeddings_df_train['id'].apply(lambda x: \"'\" + x + \"'\")\n",
    "bert_embeddings_df_valid['id'] = bert_embeddings_df_valid['id'].astype('str')\n",
    "bert_embeddings_df_valid['id'] = bert_embeddings_df_valid['id'].apply(lambda x: \"'\" + x + \"'\")"
   ]
  },
  {
   "cell_type": "code",
   "execution_count": 52,
   "metadata": {
    "execution": {
     "iopub.execute_input": "2021-05-17T01:50:56.059828Z",
     "iopub.status.busy": "2021-05-17T01:50:56.058987Z",
     "iopub.status.idle": "2021-05-17T01:50:56.097413Z",
     "shell.execute_reply": "2021-05-17T01:50:56.096810Z"
    },
    "papermill": {
     "duration": 0.226009,
     "end_time": "2021-05-17T01:50:56.097543",
     "exception": false,
     "start_time": "2021-05-17T01:50:55.871534",
     "status": "completed"
    },
    "tags": []
   },
   "outputs": [
    {
     "name": "stdout",
     "output_type": "stream",
     "text": [
      "full train: 115766 unique ids train: 115766 full valid: 35120 unique ids valid: 35120\n"
     ]
    }
   ],
   "source": [
    "print(\"full train:\", len(bert_embeddings_df_train), \"unique ids train:\", len(bert_embeddings_df_train['id'].unique()), \n",
    "      \"full valid:\", len(bert_embeddings_df_valid), \"unique ids valid:\", len(bert_embeddings_df_valid['id'].unique()))"
   ]
  },
  {
   "cell_type": "markdown",
   "metadata": {
    "papermill": {
     "duration": 0.174047,
     "end_time": "2021-05-17T01:50:56.446066",
     "exception": false,
     "start_time": "2021-05-17T01:50:56.272019",
     "status": "completed"
    },
    "tags": []
   },
   "source": [
    "Save"
   ]
  },
  {
   "cell_type": "code",
   "execution_count": 53,
   "metadata": {
    "execution": {
     "iopub.execute_input": "2021-05-17T01:50:56.794705Z",
     "iopub.status.busy": "2021-05-17T01:50:56.793843Z",
     "iopub.status.idle": "2021-05-17T01:50:58.925422Z",
     "shell.execute_reply": "2021-05-17T01:50:58.925888Z"
    },
    "papermill": {
     "duration": 2.308103,
     "end_time": "2021-05-17T01:50:58.926014",
     "exception": false,
     "start_time": "2021-05-17T01:50:56.617911",
     "status": "completed"
    },
    "tags": []
   },
   "outputs": [
    {
     "data": {
      "text/plain": [
       "('./Multilingual_Tweettext_mode/tokenizer_config.json',\n",
       " './Multilingual_Tweettext_mode/special_tokens_map.json',\n",
       " './Multilingual_Tweettext_mode/vocab.txt',\n",
       " './Multilingual_Tweettext_mode/added_tokens.json')"
      ]
     },
     "execution_count": 53,
     "metadata": {},
     "output_type": "execute_result"
    }
   ],
   "source": [
    "model_to_save = model.module if hasattr(model, \"module\") else model # Take care of distributed/parallel training\n",
    "model_to_save.save_pretrained('./Multilingual_Tweettext_mode/')\n",
    "tokenizer.save_pretrained('./Multilingual_Tweettext_mode/')"
   ]
  },
  {
   "cell_type": "code",
   "execution_count": 54,
   "metadata": {
    "execution": {
     "iopub.execute_input": "2021-05-17T01:50:59.275347Z",
     "iopub.status.busy": "2021-05-17T01:50:59.274597Z",
     "iopub.status.idle": "2021-05-17T01:54:15.799057Z",
     "shell.execute_reply": "2021-05-17T01:54:15.797915Z"
    },
    "papermill": {
     "duration": 196.700988,
     "end_time": "2021-05-17T01:54:15.799192",
     "exception": false,
     "start_time": "2021-05-17T01:50:59.098204",
     "status": "completed"
    },
    "tags": []
   },
   "outputs": [],
   "source": [
    "bert_embeddings_df_train.to_csv('ml_training_embeddings_df_full.csv', index=False, encoding = \"utf_8_sig\")\n",
    "bert_embeddings_df_valid.to_csv('ml_valid_embeddings_df_full.csv', index=False, encoding = \"utf_8_sig\")"
   ]
  },
  {
   "cell_type": "markdown",
   "metadata": {
    "papermill": {
     "duration": 0.171069,
     "end_time": "2021-05-17T01:54:16.143858",
     "exception": false,
     "start_time": "2021-05-17T01:54:15.972789",
     "status": "completed"
    },
    "tags": []
   },
   "source": [
    "### Evaluate on Test"
   ]
  },
  {
   "cell_type": "markdown",
   "metadata": {
    "papermill": {
     "duration": 0.171515,
     "end_time": "2021-05-17T01:54:16.485955",
     "exception": false,
     "start_time": "2021-05-17T01:54:16.314440",
     "status": "completed"
    },
    "tags": []
   },
   "source": [
    "Let’s take a look at our training loss over all batches:"
   ]
  },
  {
   "cell_type": "markdown",
   "metadata": {
    "papermill": {
     "duration": 0.170717,
     "end_time": "2021-05-17T01:54:16.831112",
     "exception": false,
     "start_time": "2021-05-17T01:54:16.660395",
     "status": "completed"
    },
    "tags": []
   },
   "source": [
    "Now we’ll load the holdout dataset and prepare inputs just as we did with the training set. Then we’ll evaluate predictions using Matthews correlation coefficient (MCC wiki)because this is the metric used by the wider NLP community to evaluate performance on CoLA. With this metric, +1 is the best score, and -1 is the worst score. This way, we can see how well we perform against the state of the art models for this specific task.\n"
   ]
  },
  {
   "cell_type": "code",
   "execution_count": 55,
   "metadata": {
    "execution": {
     "iopub.execute_input": "2021-05-17T01:54:17.190491Z",
     "iopub.status.busy": "2021-05-17T01:54:17.189402Z",
     "iopub.status.idle": "2021-05-17T01:54:17.597354Z",
     "shell.execute_reply": "2021-05-17T01:54:17.596877Z"
    },
    "papermill": {
     "duration": 0.593061,
     "end_time": "2021-05-17T01:54:17.597450",
     "exception": false,
     "start_time": "2021-05-17T01:54:17.004389",
     "status": "completed"
    },
    "tags": []
   },
   "outputs": [],
   "source": [
    "# Convert to tensors.\n",
    "prediction_inputs = torch.tensor(test_inputs)\n",
    "prediction_masks = torch.tensor(test_masks)\n",
    "prediction_labels = torch.tensor(test_labels)\n",
    "prediction_ids = torch.tensor(ids_test)\n",
    "\n",
    "# Set the batch size.  \n",
    "batch_size = 8 \n",
    "# Create the DataLoader.\n",
    "prediction_data = TensorDataset(prediction_inputs, prediction_masks, prediction_labels, prediction_ids)\n",
    "prediction_sampler = SequentialSampler(prediction_data)\n",
    "prediction_dataloader = DataLoader(prediction_data, sampler=prediction_sampler, batch_size=batch_size)"
   ]
  },
  {
   "cell_type": "code",
   "execution_count": 56,
   "metadata": {
    "execution": {
     "iopub.execute_input": "2021-05-17T01:54:17.963133Z",
     "iopub.status.busy": "2021-05-17T01:54:17.961880Z",
     "iopub.status.idle": "2021-05-17T01:54:17.965856Z",
     "shell.execute_reply": "2021-05-17T01:54:17.965404Z"
    },
    "papermill": {
     "duration": 0.192204,
     "end_time": "2021-05-17T01:54:17.965946",
     "exception": false,
     "start_time": "2021-05-17T01:54:17.773742",
     "status": "completed"
    },
    "tags": []
   },
   "outputs": [
    {
     "data": {
      "text/plain": [
       "torch.Size([34839, 120])"
      ]
     },
     "execution_count": 56,
     "metadata": {},
     "output_type": "execute_result"
    }
   ],
   "source": [
    "prediction_inputs.shape"
   ]
  },
  {
   "cell_type": "markdown",
   "metadata": {
    "papermill": {
     "duration": 0.177706,
     "end_time": "2021-05-17T01:54:18.322191",
     "exception": false,
     "start_time": "2021-05-17T01:54:18.144485",
     "status": "completed"
    },
    "tags": []
   },
   "source": [
    "With the test set prepared, we can apply our fine-tuned model to generate predictions on the test set"
   ]
  },
  {
   "cell_type": "code",
   "execution_count": 57,
   "metadata": {
    "execution": {
     "iopub.execute_input": "2021-05-17T01:54:18.681943Z",
     "iopub.status.busy": "2021-05-17T01:54:18.681302Z",
     "iopub.status.idle": "2021-05-17T01:56:47.179510Z",
     "shell.execute_reply": "2021-05-17T01:56:47.178932Z"
    },
    "papermill": {
     "duration": 148.684475,
     "end_time": "2021-05-17T01:56:47.179618",
     "exception": false,
     "start_time": "2021-05-17T01:54:18.495143",
     "status": "completed"
    },
    "tags": []
   },
   "outputs": [
    {
     "name": "stdout",
     "output_type": "stream",
     "text": [
      "Predicting labels for 34,839 test sentences...\n"
     ]
    }
   ],
   "source": [
    "embeddings_te = []\n",
    "# Prediction on test set\n",
    "print('Predicting labels for {:,} test sentences...'.format(len(prediction_inputs)))\n",
    "# Put model in evaluation mode\n",
    "model.eval()\n",
    "# Tracking variables \n",
    "predictions , true_labels = [], []\n",
    "# Predict \n",
    "for batch in prediction_dataloader:\n",
    "    b_input_ids = batch[0].to(device)\n",
    "    b_input_mask = batch[1].to(device)\n",
    "    b_labels = batch[2].to(device)\n",
    "  \n",
    "  # Telling the model not to compute or store gradients, saving memory and \n",
    "  # speeding up prediction\n",
    "    with torch.no_grad():\n",
    "        # Forward pass, calculate logit predictions\n",
    "        outputs = model(b_input_ids, token_type_ids=None, \n",
    "                      attention_mask=b_input_mask, labels=b_labels)\n",
    "    logits = outputs[1]\n",
    "    # Embeddings extraction approach is to average the second to last hiden layer of each token producing a single 768 length vector\n",
    "    # https://mccormickml.com/2019/05/14/BERT-word-embeddings-tutorial/\n",
    "    hidden_state_te = outputs[2]\n",
    "    token_vecs = hidden_state_te[-2]\n",
    "    token_vecs_sentvecs = []\n",
    "    for token in token_vecs:\n",
    "        sentvecs = torch.mean(token, dim=0).detach().cpu().numpy()\n",
    "        token_vecs_sentvecs.append(sentvecs)\n",
    "    # features = hidden_state_te[12][:,0,:].detach().cpu().numpy()\n",
    "    embeddings_te.append([batch[3], token_vecs_sentvecs])\n",
    "    # Move logits and labels to CPU\n",
    "    logits = logits.detach().cpu().numpy()\n",
    "    label_ids = b_labels.to('cpu').numpy()\n",
    "\n",
    "    # Store predictions and true labels\n",
    "    predictions.append(logits)\n",
    "    true_labels.append(label_ids)\n",
    "    \n"
   ]
  },
  {
   "cell_type": "markdown",
   "metadata": {
    "papermill": {
     "duration": 0.178721,
     "end_time": "2021-05-17T01:56:47.538032",
     "exception": false,
     "start_time": "2021-05-17T01:56:47.359311",
     "status": "completed"
    },
    "tags": []
   },
   "source": [
    "Extract Embeddings"
   ]
  },
  {
   "cell_type": "code",
   "execution_count": 58,
   "metadata": {
    "execution": {
     "iopub.execute_input": "2021-05-17T01:56:47.917721Z",
     "iopub.status.busy": "2021-05-17T01:56:47.917141Z",
     "iopub.status.idle": "2021-05-17T01:56:56.081157Z",
     "shell.execute_reply": "2021-05-17T01:56:56.080732Z"
    },
    "papermill": {
     "duration": 8.360827,
     "end_time": "2021-05-17T01:56:56.081254",
     "exception": false,
     "start_time": "2021-05-17T01:56:47.720427",
     "status": "completed"
    },
    "tags": []
   },
   "outputs": [
    {
     "name": "stdout",
     "output_type": "stream",
     "text": [
      "DONE.\n"
     ]
    },
    {
     "data": {
      "text/html": [
       "<div>\n",
       "<style scoped>\n",
       "    .dataframe tbody tr th:only-of-type {\n",
       "        vertical-align: middle;\n",
       "    }\n",
       "\n",
       "    .dataframe tbody tr th {\n",
       "        vertical-align: top;\n",
       "    }\n",
       "\n",
       "    .dataframe thead th {\n",
       "        text-align: right;\n",
       "    }\n",
       "</style>\n",
       "<table border=\"1\" class=\"dataframe\">\n",
       "  <thead>\n",
       "    <tr style=\"text-align: right;\">\n",
       "      <th></th>\n",
       "      <th>id</th>\n",
       "      <th>created_at</th>\n",
       "      <th>retweet_count</th>\n",
       "      <th>favorite_count</th>\n",
       "      <th>quoted_status_id</th>\n",
       "      <th>user.id</th>\n",
       "      <th>user.created_at</th>\n",
       "      <th>user.favourites_count</th>\n",
       "      <th>user.followers_count</th>\n",
       "      <th>user.friends_count</th>\n",
       "      <th>...</th>\n",
       "      <th>758</th>\n",
       "      <th>759</th>\n",
       "      <th>760</th>\n",
       "      <th>761</th>\n",
       "      <th>762</th>\n",
       "      <th>763</th>\n",
       "      <th>764</th>\n",
       "      <th>765</th>\n",
       "      <th>766</th>\n",
       "      <th>767</th>\n",
       "    </tr>\n",
       "  </thead>\n",
       "  <tbody>\n",
       "    <tr>\n",
       "      <th>0</th>\n",
       "      <td>1.278125e+18</td>\n",
       "      <td>1.593564e+09</td>\n",
       "      <td>0.0</td>\n",
       "      <td>1.0</td>\n",
       "      <td>0</td>\n",
       "      <td>1.278122e+18</td>\n",
       "      <td>1.593563e+09</td>\n",
       "      <td>0.0</td>\n",
       "      <td>6.0</td>\n",
       "      <td>52.0</td>\n",
       "      <td>...</td>\n",
       "      <td>-0.075911</td>\n",
       "      <td>0.484807</td>\n",
       "      <td>-1.743489</td>\n",
       "      <td>-1.566600</td>\n",
       "      <td>1.404909</td>\n",
       "      <td>2.107850</td>\n",
       "      <td>-0.390962</td>\n",
       "      <td>1.411626</td>\n",
       "      <td>0.954521</td>\n",
       "      <td>-0.430267</td>\n",
       "    </tr>\n",
       "    <tr>\n",
       "      <th>1</th>\n",
       "      <td>1.279757e+18</td>\n",
       "      <td>1.593953e+09</td>\n",
       "      <td>0.0</td>\n",
       "      <td>0.0</td>\n",
       "      <td>0</td>\n",
       "      <td>1.278122e+18</td>\n",
       "      <td>1.593563e+09</td>\n",
       "      <td>0.0</td>\n",
       "      <td>6.0</td>\n",
       "      <td>52.0</td>\n",
       "      <td>...</td>\n",
       "      <td>0.823550</td>\n",
       "      <td>0.354666</td>\n",
       "      <td>-2.531827</td>\n",
       "      <td>-0.411821</td>\n",
       "      <td>-0.141166</td>\n",
       "      <td>0.936052</td>\n",
       "      <td>0.471986</td>\n",
       "      <td>-0.444531</td>\n",
       "      <td>-0.209041</td>\n",
       "      <td>-0.677631</td>\n",
       "    </tr>\n",
       "    <tr>\n",
       "      <th>2</th>\n",
       "      <td>1.280778e+18</td>\n",
       "      <td>1.594196e+09</td>\n",
       "      <td>0.0</td>\n",
       "      <td>0.0</td>\n",
       "      <td>0</td>\n",
       "      <td>1.278129e+18</td>\n",
       "      <td>1.593565e+09</td>\n",
       "      <td>72.0</td>\n",
       "      <td>1.0</td>\n",
       "      <td>46.0</td>\n",
       "      <td>...</td>\n",
       "      <td>-0.781277</td>\n",
       "      <td>-0.500364</td>\n",
       "      <td>-0.168719</td>\n",
       "      <td>-1.879485</td>\n",
       "      <td>1.526537</td>\n",
       "      <td>0.924121</td>\n",
       "      <td>-0.670517</td>\n",
       "      <td>1.045966</td>\n",
       "      <td>1.422260</td>\n",
       "      <td>-0.551356</td>\n",
       "    </tr>\n",
       "    <tr>\n",
       "      <th>3</th>\n",
       "      <td>1.278851e+18</td>\n",
       "      <td>1.593737e+09</td>\n",
       "      <td>0.0</td>\n",
       "      <td>0.0</td>\n",
       "      <td>0</td>\n",
       "      <td>1.278129e+18</td>\n",
       "      <td>1.593565e+09</td>\n",
       "      <td>72.0</td>\n",
       "      <td>1.0</td>\n",
       "      <td>46.0</td>\n",
       "      <td>...</td>\n",
       "      <td>-0.085268</td>\n",
       "      <td>0.649061</td>\n",
       "      <td>-1.780057</td>\n",
       "      <td>-1.452831</td>\n",
       "      <td>1.492907</td>\n",
       "      <td>2.252847</td>\n",
       "      <td>-0.400831</td>\n",
       "      <td>1.523963</td>\n",
       "      <td>0.951993</td>\n",
       "      <td>-0.341627</td>\n",
       "    </tr>\n",
       "    <tr>\n",
       "      <th>4</th>\n",
       "      <td>1.279238e+18</td>\n",
       "      <td>1.593829e+09</td>\n",
       "      <td>0.0</td>\n",
       "      <td>1.0</td>\n",
       "      <td>0</td>\n",
       "      <td>1.278129e+18</td>\n",
       "      <td>1.593565e+09</td>\n",
       "      <td>72.0</td>\n",
       "      <td>1.0</td>\n",
       "      <td>46.0</td>\n",
       "      <td>...</td>\n",
       "      <td>-0.659724</td>\n",
       "      <td>-0.010933</td>\n",
       "      <td>-1.271524</td>\n",
       "      <td>-1.811020</td>\n",
       "      <td>1.496384</td>\n",
       "      <td>1.481459</td>\n",
       "      <td>-0.519079</td>\n",
       "      <td>1.111723</td>\n",
       "      <td>1.236748</td>\n",
       "      <td>-0.342358</td>\n",
       "    </tr>\n",
       "  </tbody>\n",
       "</table>\n",
       "<p>5 rows × 929 columns</p>\n",
       "</div>"
      ],
      "text/plain": [
       "             id    created_at  retweet_count  favorite_count  \\\n",
       "0  1.278125e+18  1.593564e+09            0.0             1.0   \n",
       "1  1.279757e+18  1.593953e+09            0.0             0.0   \n",
       "2  1.280778e+18  1.594196e+09            0.0             0.0   \n",
       "3  1.278851e+18  1.593737e+09            0.0             0.0   \n",
       "4  1.279238e+18  1.593829e+09            0.0             1.0   \n",
       "\n",
       "   quoted_status_id       user.id  user.created_at  user.favourites_count  \\\n",
       "0                 0  1.278122e+18     1.593563e+09                    0.0   \n",
       "1                 0  1.278122e+18     1.593563e+09                    0.0   \n",
       "2                 0  1.278129e+18     1.593565e+09                   72.0   \n",
       "3                 0  1.278129e+18     1.593565e+09                   72.0   \n",
       "4                 0  1.278129e+18     1.593565e+09                   72.0   \n",
       "\n",
       "   user.followers_count  user.friends_count  ...       758       759  \\\n",
       "0                   6.0                52.0  ... -0.075911  0.484807   \n",
       "1                   6.0                52.0  ...  0.823550  0.354666   \n",
       "2                   1.0                46.0  ... -0.781277 -0.500364   \n",
       "3                   1.0                46.0  ... -0.085268  0.649061   \n",
       "4                   1.0                46.0  ... -0.659724 -0.010933   \n",
       "\n",
       "        760       761       762       763       764       765       766  \\\n",
       "0 -1.743489 -1.566600  1.404909  2.107850 -0.390962  1.411626  0.954521   \n",
       "1 -2.531827 -0.411821 -0.141166  0.936052  0.471986 -0.444531 -0.209041   \n",
       "2 -0.168719 -1.879485  1.526537  0.924121 -0.670517  1.045966  1.422260   \n",
       "3 -1.780057 -1.452831  1.492907  2.252847 -0.400831  1.523963  0.951993   \n",
       "4 -1.271524 -1.811020  1.496384  1.481459 -0.519079  1.111723  1.236748   \n",
       "\n",
       "        767  \n",
       "0 -0.430267  \n",
       "1 -0.677631  \n",
       "2 -0.551356  \n",
       "3 -0.341627  \n",
       "4 -0.342358  \n",
       "\n",
       "[5 rows x 929 columns]"
      ]
     },
     "execution_count": 58,
     "metadata": {},
     "output_type": "execute_result"
    }
   ],
   "source": [
    "# Get embeddings for test\n",
    "p = [group for group in embeddings_te]\n",
    "\n",
    "b = [item for sublist in [[list(t) for t in zip(sublist[0], sublist[1])] for sublist in p] for item in sublist]\n",
    "df = pd.DataFrame(b, columns = ['id', 'embeddings'])  \n",
    "\n",
    "bert_embeddings_df_test = pd.concat([df['id'], df['embeddings'].apply(pd.Series)], axis = 1)\n",
    "bert_embeddings_df_test['id'] = bert_embeddings_df_test['id'].apply(lambda x: x.item())\n",
    "#bert_embeddings_df_test = pd.merge(df_test.drop(['text'], axis=1), bert_embeddings_df_test, left_on = [\"id\"], right_on = [\"id\"])\n",
    "bert_embeddings_df_test = pd.merge(df_test.drop(['text'], axis=1), bert_embeddings_df_test.drop(['id'], axis=1), left_index=True, right_index=True)\n",
    "print('DONE.')\n",
    "bert_embeddings_df_test.head()"
   ]
  },
  {
   "cell_type": "code",
   "execution_count": 59,
   "metadata": {
    "execution": {
     "iopub.execute_input": "2021-05-17T01:56:56.483220Z",
     "iopub.status.busy": "2021-05-17T01:56:56.433301Z",
     "iopub.status.idle": "2021-05-17T01:56:56.500498Z",
     "shell.execute_reply": "2021-05-17T01:56:56.500075Z"
    },
    "papermill": {
     "duration": 0.244688,
     "end_time": "2021-05-17T01:56:56.500597",
     "exception": false,
     "start_time": "2021-05-17T01:56:56.255909",
     "status": "completed"
    },
    "tags": []
   },
   "outputs": [],
   "source": [
    "bert_embeddings_df_test['id'] = bert_embeddings_df_test['id'].astype('str')\n",
    "bert_embeddings_df_test['id'] = bert_embeddings_df_test['id'].apply(lambda x: \"'\" + x + \"'\")"
   ]
  },
  {
   "cell_type": "code",
   "execution_count": 60,
   "metadata": {
    "execution": {
     "iopub.execute_input": "2021-05-17T01:56:56.855239Z",
     "iopub.status.busy": "2021-05-17T01:56:56.854422Z",
     "iopub.status.idle": "2021-05-17T01:56:56.862156Z",
     "shell.execute_reply": "2021-05-17T01:56:56.862525Z"
    },
    "papermill": {
     "duration": 0.187715,
     "end_time": "2021-05-17T01:56:56.862658",
     "exception": false,
     "start_time": "2021-05-17T01:56:56.674943",
     "status": "completed"
    },
    "tags": []
   },
   "outputs": [
    {
     "name": "stdout",
     "output_type": "stream",
     "text": [
      "full train: 34839 unique ids train: 34839\n"
     ]
    }
   ],
   "source": [
    "print(\"full train:\", len(bert_embeddings_df_test), \"unique ids train:\", len(bert_embeddings_df_test['id'].unique()))"
   ]
  },
  {
   "cell_type": "markdown",
   "metadata": {
    "papermill": {
     "duration": 0.176455,
     "end_time": "2021-05-17T01:56:57.215428",
     "exception": false,
     "start_time": "2021-05-17T01:56:57.038973",
     "status": "completed"
    },
    "tags": []
   },
   "source": [
    "Save"
   ]
  },
  {
   "cell_type": "code",
   "execution_count": 61,
   "metadata": {
    "execution": {
     "iopub.execute_input": "2021-05-17T01:56:57.567348Z",
     "iopub.status.busy": "2021-05-17T01:56:57.566541Z",
     "iopub.status.idle": "2021-05-17T01:57:42.701018Z",
     "shell.execute_reply": "2021-05-17T01:57:42.699967Z"
    },
    "papermill": {
     "duration": 45.312668,
     "end_time": "2021-05-17T01:57:42.701158",
     "exception": false,
     "start_time": "2021-05-17T01:56:57.388490",
     "status": "completed"
    },
    "tags": []
   },
   "outputs": [],
   "source": [
    "bert_embeddings_df_test.to_csv('ml_test_embeddings_df_full.csv', index=False, encoding = \"utf_8_sig\")"
   ]
  },
  {
   "cell_type": "markdown",
   "metadata": {
    "papermill": {
     "duration": 0.174887,
     "end_time": "2021-05-17T01:57:43.051499",
     "exception": false,
     "start_time": "2021-05-17T01:57:42.876612",
     "status": "completed"
    },
    "tags": []
   },
   "source": [
    "Look at imbalance. "
   ]
  },
  {
   "cell_type": "code",
   "execution_count": 62,
   "metadata": {
    "execution": {
     "iopub.execute_input": "2021-05-17T01:57:43.404947Z",
     "iopub.status.busy": "2021-05-17T01:57:43.404370Z",
     "iopub.status.idle": "2021-05-17T01:57:43.409390Z",
     "shell.execute_reply": "2021-05-17T01:57:43.409798Z"
    },
    "papermill": {
     "duration": 0.183522,
     "end_time": "2021-05-17T01:57:43.409913",
     "exception": false,
     "start_time": "2021-05-17T01:57:43.226391",
     "status": "completed"
    },
    "tags": []
   },
   "outputs": [
    {
     "name": "stdout",
     "output_type": "stream",
     "text": [
      "Positive samples: 8896 of 115766 (7.68%)\n"
     ]
    }
   ],
   "source": [
    "print('Positive samples: %d of %d (%.2f%%)' % (df_train.suspended.sum(), len(df_train.suspended), (df_train.suspended.sum() / len(df_train.suspended) * 100.0)))"
   ]
  },
  {
   "cell_type": "code",
   "execution_count": 63,
   "metadata": {
    "execution": {
     "iopub.execute_input": "2021-05-17T01:57:43.767554Z",
     "iopub.status.busy": "2021-05-17T01:57:43.766709Z",
     "iopub.status.idle": "2021-05-17T01:57:46.691455Z",
     "shell.execute_reply": "2021-05-17T01:57:46.690297Z"
    },
    "papermill": {
     "duration": 3.10787,
     "end_time": "2021-05-17T01:57:46.691574",
     "exception": false,
     "start_time": "2021-05-17T01:57:43.583704",
     "status": "completed"
    },
    "tags": []
   },
   "outputs": [
    {
     "name": "stdout",
     "output_type": "stream",
     "text": [
      "Calculating Matthews Corr. Coef. for each batch...\n"
     ]
    },
    {
     "name": "stderr",
     "output_type": "stream",
     "text": [
      "/opt/conda/lib/python3.7/site-packages/sklearn/metrics/_classification.py:846: RuntimeWarning:\n",
      "\n",
      "invalid value encountered in double_scalars\n",
      "\n"
     ]
    }
   ],
   "source": [
    "from sklearn.metrics import matthews_corrcoef\n",
    "matthews_set = []\n",
    "# Evaluate each test batch using Matthew's correlation coefficient\n",
    "print('Calculating Matthews Corr. Coef. for each batch...')\n",
    "# For each input batch...\n",
    "for i in range(len(true_labels)):\n",
    "  \n",
    "    # The predictions for this batch are a 2-column ndarray (one column for \"0\" \n",
    "    # and one column for \"1\"). Pick the label with the highest value and turn this\n",
    "    # in to a list of 0s and 1s.\n",
    "    pred_labels_i = np.argmax(predictions[i], axis=1).flatten()\n",
    "\n",
    "    # Calculate and store the coef for this batch.  \n",
    "    matthews = matthews_corrcoef(true_labels[i], pred_labels_i)                \n",
    "    matthews_set.append(matthews)"
   ]
  },
  {
   "cell_type": "code",
   "execution_count": 64,
   "metadata": {
    "execution": {
     "iopub.execute_input": "2021-05-17T01:57:47.078961Z",
     "iopub.status.busy": "2021-05-17T01:57:47.078049Z",
     "iopub.status.idle": "2021-05-17T01:57:47.184570Z",
     "shell.execute_reply": "2021-05-17T01:57:47.184983Z"
    },
    "papermill": {
     "duration": 0.313878,
     "end_time": "2021-05-17T01:57:47.185113",
     "exception": false,
     "start_time": "2021-05-17T01:57:46.871235",
     "status": "completed"
    },
    "tags": []
   },
   "outputs": [
    {
     "name": "stdout",
     "output_type": "stream",
     "text": [
      "MCC: 0.019\n"
     ]
    }
   ],
   "source": [
    "# Combine the predictions for each batch into a single list of 0s and 1s.\n",
    "flat_predictions = [item for sublist in predictions for item in sublist]\n",
    "flat_predictions = np.argmax(flat_predictions, axis=1).flatten()\n",
    "# Combine the correct labels for each batch into a single list.\n",
    "flat_true_labels = [item for sublist in true_labels for item in sublist]\n",
    "# Calculate the MCC\n",
    "mcc = matthews_corrcoef(flat_true_labels, flat_predictions)\n",
    "print('MCC: %.3f' % mcc)"
   ]
  },
  {
   "cell_type": "code",
   "execution_count": 65,
   "metadata": {
    "execution": {
     "iopub.execute_input": "2021-05-17T01:57:47.559422Z",
     "iopub.status.busy": "2021-05-17T01:57:47.558500Z",
     "iopub.status.idle": "2021-05-17T01:57:47.597304Z",
     "shell.execute_reply": "2021-05-17T01:57:47.596815Z"
    },
    "papermill": {
     "duration": 0.230551,
     "end_time": "2021-05-17T01:57:47.597391",
     "exception": false,
     "start_time": "2021-05-17T01:57:47.366840",
     "status": "completed"
    },
    "tags": []
   },
   "outputs": [
    {
     "name": "stdout",
     "output_type": "stream",
     "text": [
      "              precision    recall  f1-score   support\n",
      "\n",
      "           0       0.91      0.98      0.95     31795\n",
      "           1       0.13      0.03      0.04      3044\n",
      "\n",
      "    accuracy                           0.90     34839\n",
      "   macro avg       0.52      0.50      0.50     34839\n",
      "weighted avg       0.84      0.90      0.87     34839\n",
      "\n"
     ]
    }
   ],
   "source": [
    "report = classification_report(flat_true_labels, flat_predictions)\n",
    "print(report)"
   ]
  },
  {
   "cell_type": "code",
   "execution_count": 66,
   "metadata": {
    "execution": {
     "iopub.execute_input": "2021-05-17T01:57:47.973694Z",
     "iopub.status.busy": "2021-05-17T01:57:47.972861Z",
     "iopub.status.idle": "2021-05-17T01:57:48.132051Z",
     "shell.execute_reply": "2021-05-17T01:57:48.132459Z"
    },
    "papermill": {
     "duration": 0.357518,
     "end_time": "2021-05-17T01:57:48.132583",
     "exception": false,
     "start_time": "2021-05-17T01:57:47.775065",
     "status": "completed"
    },
    "tags": []
   },
   "outputs": [
    {
     "data": {
      "image/png": "[encoded data removed]",
      "text/plain": [
       "<Figure size 576x432 with 1 Axes>"
      ]
     },
     "metadata": {
      "needs_background": "light"
     },
     "output_type": "display_data"
    }
   ],
   "source": [
    "fpr, tpr, thresholds = roc_curve(flat_true_labels, flat_predictions)\n",
    "plt.figure(figsize=(8, 6))                         # Not shown\n",
    "plot_roc_curve(fpr, tpr)\n",
    "plt.plot([4.837e-3, 4.837e-3], [0., 0.4368], \"r:\") # Not shown\n",
    "plt.plot([0.0, 4.837e-3], [0.4368, 0.4368], \"r:\")  # Not shown\n",
    "plt.plot([4.837e-3], [0.4368], \"ro\")               # Not shown\n",
    "plt.show()"
   ]
  },
  {
   "cell_type": "code",
   "execution_count": 67,
   "metadata": {
    "execution": {
     "iopub.execute_input": "2021-05-17T01:57:48.512878Z",
     "iopub.status.busy": "2021-05-17T01:57:48.512095Z",
     "iopub.status.idle": "2021-05-17T01:57:48.525885Z",
     "shell.execute_reply": "2021-05-17T01:57:48.525345Z"
    },
    "papermill": {
     "duration": 0.204852,
     "end_time": "2021-05-17T01:57:48.525975",
     "exception": false,
     "start_time": "2021-05-17T01:57:48.321123",
     "status": "completed"
    },
    "tags": []
   },
   "outputs": [
    {
     "data": {
      "text/plain": [
       "0.5046225263726496"
      ]
     },
     "execution_count": 67,
     "metadata": {},
     "output_type": "execute_result"
    }
   ],
   "source": [
    "roc_auc_score(flat_true_labels, flat_predictions)"
   ]
  },
  {
   "cell_type": "markdown",
   "metadata": {
    "papermill": {
     "duration": 0.18789,
     "end_time": "2021-05-17T01:57:48.893175",
     "exception": false,
     "start_time": "2021-05-17T01:57:48.705285",
     "status": "completed"
    },
    "tags": []
   },
   "source": [
    "### Aggregate Predictions to Account Level"
   ]
  },
  {
   "cell_type": "code",
   "execution_count": 68,
   "metadata": {
    "execution": {
     "iopub.execute_input": "2021-05-17T01:57:49.261664Z",
     "iopub.status.busy": "2021-05-17T01:57:49.260830Z",
     "iopub.status.idle": "2021-05-17T01:57:49.263124Z",
     "shell.execute_reply": "2021-05-17T01:57:49.263564Z"
    },
    "papermill": {
     "duration": 0.190313,
     "end_time": "2021-05-17T01:57:49.263687",
     "exception": false,
     "start_time": "2021-05-17T01:57:49.073374",
     "status": "completed"
    },
    "tags": []
   },
   "outputs": [],
   "source": [
    "# Generate class predictions at the account level \n",
    "def predict_tweet_text(predictions, df_bert, df_full):\n",
    "    df = pd.DataFrame(predictions, columns = ['pred'])\n",
    "    df_2 = pd.merge(df_bert['id'], df, left_index=True, right_index=True)\n",
    "    df_fm = df_full[['id', 'text','user.screen_name','user.id', 'suspended']].drop_duplicates(subset=['user.screen_name','user.id'])\n",
    "    df_fm['id'] = df_fm['id'].astype('str')\n",
    "    df_fm['id'] = df_fm['id'].apply(lambda x: \"'\" + x + \"'\")\n",
    "    df_3 = pd.merge(df_fm, df_2, left_on='id', right_on='id')\n",
    "    df_3.columns = [\"id\", \"text\", \"user.screen_name\", \"user.id\", \"suspended_label\", \"pred\"]\n",
    "    df_3 = df_3.sort_values(by=['pred'], ascending=False)\n",
    "\n",
    "    return df_3"
   ]
  },
  {
   "cell_type": "code",
   "execution_count": 69,
   "metadata": {
    "execution": {
     "iopub.execute_input": "2021-05-17T01:57:49.633756Z",
     "iopub.status.busy": "2021-05-17T01:57:49.628829Z",
     "iopub.status.idle": "2021-05-17T01:57:49.670827Z",
     "shell.execute_reply": "2021-05-17T01:57:49.670349Z"
    },
    "papermill": {
     "duration": 0.228148,
     "end_time": "2021-05-17T01:57:49.670931",
     "exception": false,
     "start_time": "2021-05-17T01:57:49.442783",
     "status": "completed"
    },
    "tags": []
   },
   "outputs": [
    {
     "data": {
      "text/html": [
       "<div>\n",
       "<style scoped>\n",
       "    .dataframe tbody tr th:only-of-type {\n",
       "        vertical-align: middle;\n",
       "    }\n",
       "\n",
       "    .dataframe tbody tr th {\n",
       "        vertical-align: top;\n",
       "    }\n",
       "\n",
       "    .dataframe thead th {\n",
       "        text-align: right;\n",
       "    }\n",
       "</style>\n",
       "<table border=\"1\" class=\"dataframe\">\n",
       "  <thead>\n",
       "    <tr style=\"text-align: right;\">\n",
       "      <th></th>\n",
       "      <th>id</th>\n",
       "      <th>text</th>\n",
       "      <th>user.screen_name</th>\n",
       "      <th>user.id</th>\n",
       "      <th>suspended_label</th>\n",
       "      <th>pred</th>\n",
       "    </tr>\n",
       "  </thead>\n",
       "  <tbody>\n",
       "    <tr>\n",
       "      <th>367</th>\n",
       "      <td>'1.2905278435421676e+18'</td>\n",
       "      <td>@jame_deane @zhanglifan 没读过书建议多读书再说话。</td>\n",
       "      <td>Lance15234488</td>\n",
       "      <td>1.283652e+18</td>\n",
       "      <td>0</td>\n",
       "      <td>1</td>\n",
       "    </tr>\n",
       "    <tr>\n",
       "      <th>316</th>\n",
       "      <td>'1.282948259510657e+18'</td>\n",
       "      <td>@stanleynordic 陕西有你这样的狗真的是日了狗了</td>\n",
       "      <td>vdyZNqbFcVaC4vj</td>\n",
       "      <td>1.282938e+18</td>\n",
       "      <td>0</td>\n",
       "      <td>1</td>\n",
       "    </tr>\n",
       "    <tr>\n",
       "      <th>165</th>\n",
       "      <td>'1.312685207359828e+18'</td>\n",
       "      <td>@tommydndy @taijimastergu 把上边那女的娶了不就有了</td>\n",
       "      <td>jimzhan04908044</td>\n",
       "      <td>1.280199e+18</td>\n",
       "      <td>0</td>\n",
       "      <td>1</td>\n",
       "    </tr>\n",
       "    <tr>\n",
       "      <th>231</th>\n",
       "      <td>'1.2818120576088596e+18'</td>\n",
       "      <td>RT @HSF_Pakistan: On this #WorldPopulationDay,...</td>\n",
       "      <td>rayyanm123</td>\n",
       "      <td>1.281279e+18</td>\n",
       "      <td>0</td>\n",
       "      <td>1</td>\n",
       "    </tr>\n",
       "    <tr>\n",
       "      <th>311</th>\n",
       "      <td>'1.2997300775178445e+18'</td>\n",
       "      <td>@chuchu47001279 个人觉得左边第一个好吃</td>\n",
       "      <td>nancnde1</td>\n",
       "      <td>1.282836e+18</td>\n",
       "      <td>0</td>\n",
       "      <td>1</td>\n",
       "    </tr>\n",
       "  </tbody>\n",
       "</table>\n",
       "</div>"
      ],
      "text/plain": [
       "                           id  \\\n",
       "367  '1.2905278435421676e+18'   \n",
       "316   '1.282948259510657e+18'   \n",
       "165   '1.312685207359828e+18'   \n",
       "231  '1.2818120576088596e+18'   \n",
       "311  '1.2997300775178445e+18'   \n",
       "\n",
       "                                                  text user.screen_name  \\\n",
       "367              @jame_deane @zhanglifan 没读过书建议多读书再说话。    Lance15234488   \n",
       "316                     @stanleynordic 陕西有你这样的狗真的是日了狗了  vdyZNqbFcVaC4vj   \n",
       "165             @tommydndy @taijimastergu 把上边那女的娶了不就有了  jimzhan04908044   \n",
       "231  RT @HSF_Pakistan: On this #WorldPopulationDay,...       rayyanm123   \n",
       "311                        @chuchu47001279 个人觉得左边第一个好吃         nancnde1   \n",
       "\n",
       "          user.id  suspended_label  pred  \n",
       "367  1.283652e+18                0     1  \n",
       "316  1.282938e+18                0     1  \n",
       "165  1.280199e+18                0     1  \n",
       "231  1.281279e+18                0     1  \n",
       "311  1.282836e+18                0     1  "
      ]
     },
     "execution_count": 69,
     "metadata": {},
     "output_type": "execute_result"
    }
   ],
   "source": [
    "test_preds_tweets = predict_tweet_text(flat_predictions, bert_embeddings_df_test, df_test_f)\n",
    "test_preds_tweets.head()"
   ]
  },
  {
   "cell_type": "code",
   "execution_count": 70,
   "metadata": {
    "execution": {
     "iopub.execute_input": "2021-05-17T01:57:50.180213Z",
     "iopub.status.busy": "2021-05-17T01:57:50.179405Z",
     "iopub.status.idle": "2021-05-17T01:57:50.190975Z",
     "shell.execute_reply": "2021-05-17T01:57:50.191952Z"
    },
    "papermill": {
     "duration": 0.319501,
     "end_time": "2021-05-17T01:57:50.192111",
     "exception": false,
     "start_time": "2021-05-17T01:57:49.872610",
     "status": "completed"
    },
    "tags": []
   },
   "outputs": [],
   "source": [
    "test_preds_tweets.to_csv('test_preds_tweets.csv', index=False, encoding = \"utf_8_sig\")"
   ]
  },
  {
   "cell_type": "code",
   "execution_count": 71,
   "metadata": {
    "execution": {
     "iopub.execute_input": "2021-05-17T01:57:50.640394Z",
     "iopub.status.busy": "2021-05-17T01:57:50.639552Z",
     "iopub.status.idle": "2021-05-17T01:57:50.642326Z",
     "shell.execute_reply": "2021-05-17T01:57:50.641924Z"
    },
    "papermill": {
     "duration": 0.193325,
     "end_time": "2021-05-17T01:57:50.642416",
     "exception": false,
     "start_time": "2021-05-17T01:57:50.449091",
     "status": "completed"
    },
    "tags": []
   },
   "outputs": [],
   "source": [
    "# Generate class predictions at the account level \n",
    "def predict_account(predictions, df_bert, df_full):\n",
    "    df = pd.DataFrame(predictions, columns = ['pred'])\n",
    "    df_2 = pd.merge(df_bert['user.id'], df, left_index=True, right_index=True)\n",
    "    df_fm = df_full[['user.screen_name','user.id', 'suspended']].drop_duplicates(subset=['user.screen_name','user.id'])\n",
    "    df_3 = pd.merge(df_fm, df_2, left_on='user.id', right_on='user.id')\n",
    "    df_4 = df_3[['user.screen_name', 'suspended','pred']].groupby('user.screen_name').agg(['sum', 'mean'])\n",
    "    df_4.drop(('suspended', 'sum'), axis = 1, inplace = True)\n",
    "    df_4.columns = [' '.join(col).strip() for col in df_4.columns.values]\n",
    "    df_4.reset_index(level=0, inplace=True)\n",
    "    df_4.columns = [\"user.screen_name\",\"suspended_label\", \"total_pre_prob\",\"mean_pred_prob\"]\n",
    "    df_4['pred_class'] = np.where(df_4['mean_pred_prob'] > 0.25, 1,0) # Use lighter threshold as not all tweets get an account suspended. \n",
    "    df_4 = df_4.sort_values(by=['total_pre_prob'], ascending=False)\n",
    "\n",
    "    return df_4"
   ]
  },
  {
   "cell_type": "code",
   "execution_count": 72,
   "metadata": {
    "execution": {
     "iopub.execute_input": "2021-05-17T01:57:51.007164Z",
     "iopub.status.busy": "2021-05-17T01:57:51.006214Z",
     "iopub.status.idle": "2021-05-17T01:57:51.079638Z",
     "shell.execute_reply": "2021-05-17T01:57:51.080069Z"
    },
    "papermill": {
     "duration": 0.258876,
     "end_time": "2021-05-17T01:57:51.080185",
     "exception": false,
     "start_time": "2021-05-17T01:57:50.821309",
     "status": "completed"
    },
    "tags": []
   },
   "outputs": [
    {
     "data": {
      "text/html": [
       "<div>\n",
       "<style scoped>\n",
       "    .dataframe tbody tr th:only-of-type {\n",
       "        vertical-align: middle;\n",
       "    }\n",
       "\n",
       "    .dataframe tbody tr th {\n",
       "        vertical-align: top;\n",
       "    }\n",
       "\n",
       "    .dataframe thead th {\n",
       "        text-align: right;\n",
       "    }\n",
       "</style>\n",
       "<table border=\"1\" class=\"dataframe\">\n",
       "  <thead>\n",
       "    <tr style=\"text-align: right;\">\n",
       "      <th></th>\n",
       "      <th>user.screen_name</th>\n",
       "      <th>suspended_label</th>\n",
       "      <th>total_pre_prob</th>\n",
       "      <th>mean_pred_prob</th>\n",
       "      <th>pred_class</th>\n",
       "    </tr>\n",
       "  </thead>\n",
       "  <tbody>\n",
       "    <tr>\n",
       "      <th>367</th>\n",
       "      <td>fullaheadspeed</td>\n",
       "      <td>0</td>\n",
       "      <td>133</td>\n",
       "      <td>0.066038</td>\n",
       "      <td>0</td>\n",
       "    </tr>\n",
       "    <tr>\n",
       "      <th>204</th>\n",
       "      <td>MustafaKhan1313</td>\n",
       "      <td>0</td>\n",
       "      <td>53</td>\n",
       "      <td>0.039641</td>\n",
       "      <td>0</td>\n",
       "    </tr>\n",
       "    <tr>\n",
       "      <th>417</th>\n",
       "      <td>misswr0ng1</td>\n",
       "      <td>0</td>\n",
       "      <td>43</td>\n",
       "      <td>0.028458</td>\n",
       "      <td>0</td>\n",
       "    </tr>\n",
       "    <tr>\n",
       "      <th>100</th>\n",
       "      <td>GPJb9VHo6PbSu2W</td>\n",
       "      <td>0</td>\n",
       "      <td>26</td>\n",
       "      <td>0.011759</td>\n",
       "      <td>0</td>\n",
       "    </tr>\n",
       "    <tr>\n",
       "      <th>144</th>\n",
       "      <td>John97242303</td>\n",
       "      <td>0</td>\n",
       "      <td>26</td>\n",
       "      <td>0.025641</td>\n",
       "      <td>0</td>\n",
       "    </tr>\n",
       "    <tr>\n",
       "      <th>...</th>\n",
       "      <td>...</td>\n",
       "      <td>...</td>\n",
       "      <td>...</td>\n",
       "      <td>...</td>\n",
       "      <td>...</td>\n",
       "    </tr>\n",
       "    <tr>\n",
       "      <th>176</th>\n",
       "      <td>MahesarWaqar1</td>\n",
       "      <td>0</td>\n",
       "      <td>0</td>\n",
       "      <td>0.000000</td>\n",
       "      <td>0</td>\n",
       "    </tr>\n",
       "    <tr>\n",
       "      <th>175</th>\n",
       "      <td>M_Zaheer1</td>\n",
       "      <td>0</td>\n",
       "      <td>0</td>\n",
       "      <td>0.000000</td>\n",
       "      <td>0</td>\n",
       "    </tr>\n",
       "    <tr>\n",
       "      <th>174</th>\n",
       "      <td>MUbaidu24284106</td>\n",
       "      <td>0</td>\n",
       "      <td>0</td>\n",
       "      <td>0.000000</td>\n",
       "      <td>0</td>\n",
       "    </tr>\n",
       "    <tr>\n",
       "      <th>173</th>\n",
       "      <td>MShoaibMehsud46</td>\n",
       "      <td>0</td>\n",
       "      <td>0</td>\n",
       "      <td>0.000000</td>\n",
       "      <td>0</td>\n",
       "    </tr>\n",
       "    <tr>\n",
       "      <th>512</th>\n",
       "      <td>zzzzzzh15</td>\n",
       "      <td>0</td>\n",
       "      <td>0</td>\n",
       "      <td>0.000000</td>\n",
       "      <td>0</td>\n",
       "    </tr>\n",
       "  </tbody>\n",
       "</table>\n",
       "<p>513 rows × 5 columns</p>\n",
       "</div>"
      ],
      "text/plain": [
       "    user.screen_name  suspended_label  total_pre_prob  mean_pred_prob  \\\n",
       "367   fullaheadspeed                0             133        0.066038   \n",
       "204  MustafaKhan1313                0              53        0.039641   \n",
       "417       misswr0ng1                0              43        0.028458   \n",
       "100  GPJb9VHo6PbSu2W                0              26        0.011759   \n",
       "144     John97242303                0              26        0.025641   \n",
       "..               ...              ...             ...             ...   \n",
       "176    MahesarWaqar1                0               0        0.000000   \n",
       "175        M_Zaheer1                0               0        0.000000   \n",
       "174  MUbaidu24284106                0               0        0.000000   \n",
       "173  MShoaibMehsud46                0               0        0.000000   \n",
       "512        zzzzzzh15                0               0        0.000000   \n",
       "\n",
       "     pred_class  \n",
       "367           0  \n",
       "204           0  \n",
       "417           0  \n",
       "100           0  \n",
       "144           0  \n",
       "..          ...  \n",
       "176           0  \n",
       "175           0  \n",
       "174           0  \n",
       "173           0  \n",
       "512           0  \n",
       "\n",
       "[513 rows x 5 columns]"
      ]
     },
     "execution_count": 72,
     "metadata": {},
     "output_type": "execute_result"
    }
   ],
   "source": [
    "test_account_preds_tweettext = predict_account(flat_predictions, bert_embeddings_df_test, df_test_f)\n",
    "test_account_preds_tweettext"
   ]
  },
  {
   "cell_type": "markdown",
   "metadata": {
    "papermill": {
     "duration": 0.180801,
     "end_time": "2021-05-17T01:57:51.442514",
     "exception": false,
     "start_time": "2021-05-17T01:57:51.261713",
     "status": "completed"
    },
    "tags": []
   },
   "source": [
    "### Confusion Matrix for Account Classification"
   ]
  },
  {
   "cell_type": "code",
   "execution_count": 73,
   "metadata": {
    "execution": {
     "iopub.execute_input": "2021-05-17T01:57:51.823737Z",
     "iopub.status.busy": "2021-05-17T01:57:51.822831Z",
     "iopub.status.idle": "2021-05-17T01:57:51.831672Z",
     "shell.execute_reply": "2021-05-17T01:57:51.831254Z"
    },
    "papermill": {
     "duration": 0.204397,
     "end_time": "2021-05-17T01:57:51.831766",
     "exception": false,
     "start_time": "2021-05-17T01:57:51.627369",
     "status": "completed"
    },
    "tags": []
   },
   "outputs": [
    {
     "name": "stdout",
     "output_type": "stream",
     "text": [
      "              precision    recall  f1-score   support\n",
      "\n",
      "           0       0.93      0.99      0.96       479\n",
      "           1       0.00      0.00      0.00        34\n",
      "\n",
      "    accuracy                           0.92       513\n",
      "   macro avg       0.47      0.49      0.48       513\n",
      "weighted avg       0.87      0.92      0.90       513\n",
      "\n"
     ]
    }
   ],
   "source": [
    "#report = classification_report(np.array(test_labels), predictions)\n",
    "report_te = classification_report(np.array(test_account_preds_tweettext['suspended_label']), np.array(test_account_preds_tweettext['pred_class']))\n",
    "print(report_te)"
   ]
  },
  {
   "cell_type": "code",
   "execution_count": 74,
   "metadata": {
    "execution": {
     "iopub.execute_input": "2021-05-17T01:57:52.220824Z",
     "iopub.status.busy": "2021-05-17T01:57:52.219964Z",
     "iopub.status.idle": "2021-05-17T01:57:52.353892Z",
     "shell.execute_reply": "2021-05-17T01:57:52.354338Z"
    },
    "papermill": {
     "duration": 0.338183,
     "end_time": "2021-05-17T01:57:52.354458",
     "exception": false,
     "start_time": "2021-05-17T01:57:52.016275",
     "status": "completed"
    },
    "tags": []
   },
   "outputs": [
    {
     "data": {
      "image/png": "[encoded data removed]",
      "text/plain": [
       "<Figure size 576x432 with 1 Axes>"
      ]
     },
     "metadata": {
      "needs_background": "light"
     },
     "output_type": "display_data"
    }
   ],
   "source": [
    "fpr, tpr, thresholds = roc_curve(np.array(test_account_preds_tweettext['suspended_label']), np.array(test_account_preds_tweettext['pred_class']))\n",
    "plt.figure(figsize=(8, 6))                         # Not shown\n",
    "plot_roc_curve(fpr, tpr)\n",
    "plt.plot([4.837e-3, 4.837e-3], [0., 0.4368], \"r:\") # Not shown\n",
    "plt.plot([0.0, 4.837e-3], [0.4368, 0.4368], \"r:\")  # Not shown\n",
    "plt.plot([4.837e-3], [0.4368], \"ro\")               # Not shown\n",
    "plt.show()"
   ]
  },
  {
   "cell_type": "code",
   "execution_count": 75,
   "metadata": {
    "execution": {
     "iopub.execute_input": "2021-05-17T01:57:52.725024Z",
     "iopub.status.busy": "2021-05-17T01:57:52.724207Z",
     "iopub.status.idle": "2021-05-17T01:57:52.730311Z",
     "shell.execute_reply": "2021-05-17T01:57:52.729857Z"
    },
    "papermill": {
     "duration": 0.19429,
     "end_time": "2021-05-17T01:57:52.730406",
     "exception": false,
     "start_time": "2021-05-17T01:57:52.536116",
     "status": "completed"
    },
    "tags": []
   },
   "outputs": [
    {
     "data": {
      "text/plain": [
       "0.49373695198329853"
      ]
     },
     "execution_count": 75,
     "metadata": {},
     "output_type": "execute_result"
    }
   ],
   "source": [
    "roc_auc_score(np.array(test_account_preds_tweettext['suspended_label']), np.array(test_account_preds_tweettext['pred_class']))"
   ]
  },
  {
   "cell_type": "code",
   "execution_count": 76,
   "metadata": {
    "execution": {
     "iopub.execute_input": "2021-05-17T01:57:53.101147Z",
     "iopub.status.busy": "2021-05-17T01:57:53.100282Z",
     "iopub.status.idle": "2021-05-17T01:57:53.106256Z",
     "shell.execute_reply": "2021-05-17T01:57:53.105733Z"
    },
    "papermill": {
     "duration": 0.194956,
     "end_time": "2021-05-17T01:57:53.106344",
     "exception": false,
     "start_time": "2021-05-17T01:57:52.911388",
     "status": "completed"
    },
    "tags": []
   },
   "outputs": [],
   "source": [
    "test_account_preds_tweettext.to_csv('test_account_preds_tweettext.csv', index=False, encoding = \"utf_8_sig\")"
   ]
  }
 ],
 "metadata": {
  "kernelspec": {
   "display_name": "Python 3",
   "language": "python",
   "name": "python3"
  },
  "language_info": {
   "codemirror_mode": {
    "name": "ipython",
    "version": 3
   },
   "file_extension": ".py",
   "mimetype": "text/x-python",
   "name": "python",
   "nbconvert_exporter": "python",
   "pygments_lexer": "ipython3",
   "version": "3.7.6"
  },
  "papermill": {
   "duration": 4841.88498,
   "end_time": "2021-05-17T01:57:53.603452",
   "environment_variables": {},
   "exception": null,
   "input_path": "__notebook__.ipynb",
   "output_path": "__notebook__.ipynb",
   "parameters": {},
   "start_time": "2021-05-17T00:37:11.718472",
   "version": "2.1.0"
  },
  "widgets": {
   "application/vnd.jupyter.widget-state+json": {
    "state": {
     "02e17d0c282e4ea6a289f34aee17350c": {
      "model_module": "@jupyter-widgets/controls",
      "model_module_version": "1.5.0",
      "model_name": "HTMLModel",
      "state": {
       "_dom_classes": [],
       "_model_module": "@jupyter-widgets/controls",
       "_model_module_version": "1.5.0",
       "_model_name": "HTMLModel",
       "_view_count": null,
       "_view_module": "@jupyter-widgets/controls",
       "_view_module_version": "1.5.0",
       "_view_name": "HTMLView",
       "description": "",
       "description_tooltip": null,
       "layout": "IPY_MODEL_9a865793cca34a12bc18ab30ea548d02",
       "placeholder": "​",
       "style": "IPY_MODEL_a55ca14301124310b82697b514022b9c",
       "value": " 625/625 [00:58&lt;00:00, 10.8B/s]"
      }
     },
     "107bd760f47646e0862f9eaa9f3c39ac": {
      "model_module": "@jupyter-widgets/controls",
      "model_module_version": "1.5.0",
      "model_name": "HBoxModel",
      "state": {
       "_dom_classes": [],
       "_model_module": "@jupyter-widgets/controls",
       "_model_module_version": "1.5.0",
       "_model_name": "HBoxModel",
       "_view_count": null,
       "_view_module": "@jupyter-widgets/controls",
       "_view_module_version": "1.5.0",
       "_view_name": "HBoxView",
       "box_style": "",
       "children": [
        "IPY_MODEL_d1e61cc5fab34ca28948c60a24dc4c8c",
        "IPY_MODEL_8349be8377334e93a747b83bde4b9c75"
       ],
       "layout": "IPY_MODEL_7a767ccef5cd4698847ca6ef9c72554e"
      }
     },
     "380317cf183743509ac5bd878ae784e7": {
      "model_module": "@jupyter-widgets/controls",
      "model_module_version": "1.5.0",
      "model_name": "ProgressStyleModel",
      "state": {
       "_model_module": "@jupyter-widgets/controls",
       "_model_module_version": "1.5.0",
       "_model_name": "ProgressStyleModel",
       "_view_count": null,
       "_view_module": "@jupyter-widgets/base",
       "_view_module_version": "1.2.0",
       "_view_name": "StyleView",
       "bar_color": null,
       "description_width": "initial"
      }
     },
     "439f87ae45c44e6ca790c44ef9659282": {
      "model_module": "@jupyter-widgets/base",
      "model_module_version": "1.2.0",
      "model_name": "LayoutModel",
      "state": {
       "_model_module": "@jupyter-widgets/base",
       "_model_module_version": "1.2.0",
       "_model_name": "LayoutModel",
       "_view_count": null,
       "_view_module": "@jupyter-widgets/base",
       "_view_module_version": "1.2.0",
       "_view_name": "LayoutView",
       "align_content": null,
       "align_items": null,
       "align_self": null,
       "border": null,
       "bottom": null,
       "display": null,
       "flex": null,
       "flex_flow": null,
       "grid_area": null,
       "grid_auto_columns": null,
       "grid_auto_flow": null,
       "grid_auto_rows": null,
       "grid_column": null,
       "grid_gap": null,
       "grid_row": null,
       "grid_template_areas": null,
       "grid_template_columns": null,
       "grid_template_rows": null,
       "height": null,
       "justify_content": null,
       "justify_items": null,
       "left": null,
       "margin": null,
       "max_height": null,
       "max_width": null,
       "min_height": null,
       "min_width": null,
       "object_fit": null,
       "object_position": null,
       "order": null,
       "overflow": null,
       "overflow_x": null,
       "overflow_y": null,
       "padding": null,
       "right": null,
       "top": null,
       "visibility": null,
       "width": null
      }
     },
     "4d405b00861e41b19a1222d537cf5bf7": {
      "model_module": "@jupyter-widgets/controls",
      "model_module_version": "1.5.0",
      "model_name": "DescriptionStyleModel",
      "state": {
       "_model_module": "@jupyter-widgets/controls",
       "_model_module_version": "1.5.0",
       "_model_name": "DescriptionStyleModel",
       "_view_count": null,
       "_view_module": "@jupyter-widgets/base",
       "_view_module_version": "1.2.0",
       "_view_name": "StyleView",
       "description_width": ""
      }
     },
     "4ecb9388410b49c1912f38d3d7e61f6a": {
      "model_module": "@jupyter-widgets/base",
      "model_module_version": "1.2.0",
      "model_name": "LayoutModel",
      "state": {
       "_model_module": "@jupyter-widgets/base",
       "_model_module_version": "1.2.0",
       "_model_name": "LayoutModel",
       "_view_count": null,
       "_view_module": "@jupyter-widgets/base",
       "_view_module_version": "1.2.0",
       "_view_name": "LayoutView",
       "align_content": null,
       "align_items": null,
       "align_self": null,
       "border": null,
       "bottom": null,
       "display": null,
       "flex": null,
       "flex_flow": null,
       "grid_area": null,
       "grid_auto_columns": null,
       "grid_auto_flow": null,
       "grid_auto_rows": null,
       "grid_column": null,
       "grid_gap": null,
       "grid_row": null,
       "grid_template_areas": null,
       "grid_template_columns": null,
       "grid_template_rows": null,
       "height": null,
       "justify_content": null,
       "justify_items": null,
       "left": null,
       "margin": null,
       "max_height": null,
       "max_width": null,
       "min_height": null,
       "min_width": null,
       "object_fit": null,
       "object_position": null,
       "order": null,
       "overflow": null,
       "overflow_x": null,
       "overflow_y": null,
       "padding": null,
       "right": null,
       "top": null,
       "visibility": null,
       "width": null
      }
     },
     "4efe3f0167fa47ecb4bb80ed132a4dc4": {
      "model_module": "@jupyter-widgets/controls",
      "model_module_version": "1.5.0",
      "model_name": "FloatProgressModel",
      "state": {
       "_dom_classes": [],
       "_model_module": "@jupyter-widgets/controls",
       "_model_module_version": "1.5.0",
       "_model_name": "FloatProgressModel",
       "_view_count": null,
       "_view_module": "@jupyter-widgets/controls",
       "_view_module_version": "1.5.0",
       "_view_name": "ProgressView",
       "bar_style": "success",
       "description": "Downloading: 100%",
       "description_tooltip": null,
       "layout": "IPY_MODEL_c24061aebdc64281b1f9d5d0137f4636",
       "max": 995526.0,
       "min": 0.0,
       "orientation": "horizontal",
       "style": "IPY_MODEL_fba3ba96396646b19e0159e83d3bdf11",
       "value": 995526.0
      }
     },
     "6695e134358c40c58de06fb2c3b0e9f2": {
      "model_module": "@jupyter-widgets/controls",
      "model_module_version": "1.5.0",
      "model_name": "HBoxModel",
      "state": {
       "_dom_classes": [],
       "_model_module": "@jupyter-widgets/controls",
       "_model_module_version": "1.5.0",
       "_model_name": "HBoxModel",
       "_view_count": null,
       "_view_module": "@jupyter-widgets/controls",
       "_view_module_version": "1.5.0",
       "_view_name": "HBoxView",
       "box_style": "",
       "children": [
        "IPY_MODEL_4efe3f0167fa47ecb4bb80ed132a4dc4",
        "IPY_MODEL_a38eeb085f78495a83948933e0e185a6"
       ],
       "layout": "IPY_MODEL_ac2b87bb3d2b4ed6a2b8c5e1262fa4d1"
      }
     },
     "69daf4c4a39d4fb5bb4dfd6dfbb6f0ec": {
      "model_module": "@jupyter-widgets/base",
      "model_module_version": "1.2.0",
      "model_name": "LayoutModel",
      "state": {
       "_model_module": "@jupyter-widgets/base",
       "_model_module_version": "1.2.0",
       "_model_name": "LayoutModel",
       "_view_count": null,
       "_view_module": "@jupyter-widgets/base",
       "_view_module_version": "1.2.0",
       "_view_name": "LayoutView",
       "align_content": null,
       "align_items": null,
       "align_self": null,
       "border": null,
       "bottom": null,
       "display": null,
       "flex": null,
       "flex_flow": null,
       "grid_area": null,
       "grid_auto_columns": null,
       "grid_auto_flow": null,
       "grid_auto_rows": null,
       "grid_column": null,
       "grid_gap": null,
       "grid_row": null,
       "grid_template_areas": null,
       "grid_template_columns": null,
       "grid_template_rows": null,
       "height": null,
       "justify_content": null,
       "justify_items": null,
       "left": null,
       "margin": null,
       "max_height": null,
       "max_width": null,
       "min_height": null,
       "min_width": null,
       "object_fit": null,
       "object_position": null,
       "order": null,
       "overflow": null,
       "overflow_x": null,
       "overflow_y": null,
       "padding": null,
       "right": null,
       "top": null,
       "visibility": null,
       "width": null
      }
     },
     "776bd09e26f3459bb83a6ed207a0745e": {
      "model_module": "@jupyter-widgets/controls",
      "model_module_version": "1.5.0",
      "model_name": "HBoxModel",
      "state": {
       "_dom_classes": [],
       "_model_module": "@jupyter-widgets/controls",
       "_model_module_version": "1.5.0",
       "_model_name": "HBoxModel",
       "_view_count": null,
       "_view_module": "@jupyter-widgets/controls",
       "_view_module_version": "1.5.0",
       "_view_name": "HBoxView",
       "box_style": "",
       "children": [
        "IPY_MODEL_bfb49d244f6e46e8a820fdc9887b40c9",
        "IPY_MODEL_02e17d0c282e4ea6a289f34aee17350c"
       ],
       "layout": "IPY_MODEL_4ecb9388410b49c1912f38d3d7e61f6a"
      }
     },
     "7a767ccef5cd4698847ca6ef9c72554e": {
      "model_module": "@jupyter-widgets/base",
      "model_module_version": "1.2.0",
      "model_name": "LayoutModel",
      "state": {
       "_model_module": "@jupyter-widgets/base",
       "_model_module_version": "1.2.0",
       "_model_name": "LayoutModel",
       "_view_count": null,
       "_view_module": "@jupyter-widgets/base",
       "_view_module_version": "1.2.0",
       "_view_name": "LayoutView",
       "align_content": null,
       "align_items": null,
       "align_self": null,
       "border": null,
       "bottom": null,
       "display": null,
       "flex": null,
       "flex_flow": null,
       "grid_area": null,
       "grid_auto_columns": null,
       "grid_auto_flow": null,
       "grid_auto_rows": null,
       "grid_column": null,
       "grid_gap": null,
       "grid_row": null,
       "grid_template_areas": null,
       "grid_template_columns": null,
       "grid_template_rows": null,
       "height": null,
       "justify_content": null,
       "justify_items": null,
       "left": null,
       "margin": null,
       "max_height": null,
       "max_width": null,
       "min_height": null,
       "min_width": null,
       "object_fit": null,
       "object_position": null,
       "order": null,
       "overflow": null,
       "overflow_x": null,
       "overflow_y": null,
       "padding": null,
       "right": null,
       "top": null,
       "visibility": null,
       "width": null
      }
     },
     "8349be8377334e93a747b83bde4b9c75": {
      "model_module": "@jupyter-widgets/controls",
      "model_module_version": "1.5.0",
      "model_name": "HTMLModel",
      "state": {
       "_dom_classes": [],
       "_model_module": "@jupyter-widgets/controls",
       "_model_module_version": "1.5.0",
       "_model_name": "HTMLModel",
       "_view_count": null,
       "_view_module": "@jupyter-widgets/controls",
       "_view_module_version": "1.5.0",
       "_view_name": "HTMLView",
       "description": "",
       "description_tooltip": null,
       "layout": "IPY_MODEL_69daf4c4a39d4fb5bb4dfd6dfbb6f0ec",
       "placeholder": "​",
       "style": "IPY_MODEL_4d405b00861e41b19a1222d537cf5bf7",
       "value": " 714M/714M [00:46&lt;00:00, 15.3MB/s]"
      }
     },
     "9a865793cca34a12bc18ab30ea548d02": {
      "model_module": "@jupyter-widgets/base",
      "model_module_version": "1.2.0",
      "model_name": "LayoutModel",
      "state": {
       "_model_module": "@jupyter-widgets/base",
       "_model_module_version": "1.2.0",
       "_model_name": "LayoutModel",
       "_view_count": null,
       "_view_module": "@jupyter-widgets/base",
       "_view_module_version": "1.2.0",
       "_view_name": "LayoutView",
       "align_content": null,
       "align_items": null,
       "align_self": null,
       "border": null,
       "bottom": null,
       "display": null,
       "flex": null,
       "flex_flow": null,
       "grid_area": null,
       "grid_auto_columns": null,
       "grid_auto_flow": null,
       "grid_auto_rows": null,
       "grid_column": null,
       "grid_gap": null,
       "grid_row": null,
       "grid_template_areas": null,
       "grid_template_columns": null,
       "grid_template_rows": null,
       "height": null,
       "justify_content": null,
       "justify_items": null,
       "left": null,
       "margin": null,
       "max_height": null,
       "max_width": null,
       "min_height": null,
       "min_width": null,
       "object_fit": null,
       "object_position": null,
       "order": null,
       "overflow": null,
       "overflow_x": null,
       "overflow_y": null,
       "padding": null,
       "right": null,
       "top": null,
       "visibility": null,
       "width": null
      }
     },
     "9e3b95e55b9e4600bef0bc6ebead503a": {
      "model_module": "@jupyter-widgets/controls",
      "model_module_version": "1.5.0",
      "model_name": "DescriptionStyleModel",
      "state": {
       "_model_module": "@jupyter-widgets/controls",
       "_model_module_version": "1.5.0",
       "_model_name": "DescriptionStyleModel",
       "_view_count": null,
       "_view_module": "@jupyter-widgets/base",
       "_view_module_version": "1.2.0",
       "_view_name": "StyleView",
       "description_width": ""
      }
     },
     "a1cc14fcf301461faa2e995687bbb4d8": {
      "model_module": "@jupyter-widgets/controls",
      "model_module_version": "1.5.0",
      "model_name": "ProgressStyleModel",
      "state": {
       "_model_module": "@jupyter-widgets/controls",
       "_model_module_version": "1.5.0",
       "_model_name": "ProgressStyleModel",
       "_view_count": null,
       "_view_module": "@jupyter-widgets/base",
       "_view_module_version": "1.2.0",
       "_view_name": "StyleView",
       "bar_color": null,
       "description_width": "initial"
      }
     },
     "a38eeb085f78495a83948933e0e185a6": {
      "model_module": "@jupyter-widgets/controls",
      "model_module_version": "1.5.0",
      "model_name": "HTMLModel",
      "state": {
       "_dom_classes": [],
       "_model_module": "@jupyter-widgets/controls",
       "_model_module_version": "1.5.0",
       "_model_name": "HTMLModel",
       "_view_count": null,
       "_view_module": "@jupyter-widgets/controls",
       "_view_module_version": "1.5.0",
       "_view_name": "HTMLView",
       "description": "",
       "description_tooltip": null,
       "layout": "IPY_MODEL_d2cc649111734feaaf1abab86e0f636c",
       "placeholder": "​",
       "style": "IPY_MODEL_9e3b95e55b9e4600bef0bc6ebead503a",
       "value": " 996k/996k [00:00&lt;00:00, 2.10MB/s]"
      }
     },
     "a55ca14301124310b82697b514022b9c": {
      "model_module": "@jupyter-widgets/controls",
      "model_module_version": "1.5.0",
      "model_name": "DescriptionStyleModel",
      "state": {
       "_model_module": "@jupyter-widgets/controls",
       "_model_module_version": "1.5.0",
       "_model_name": "DescriptionStyleModel",
       "_view_count": null,
       "_view_module": "@jupyter-widgets/base",
       "_view_module_version": "1.2.0",
       "_view_name": "StyleView",
       "description_width": ""
      }
     },
     "ac2b87bb3d2b4ed6a2b8c5e1262fa4d1": {
      "model_module": "@jupyter-widgets/base",
      "model_module_version": "1.2.0",
      "model_name": "LayoutModel",
      "state": {
       "_model_module": "@jupyter-widgets/base",
       "_model_module_version": "1.2.0",
       "_model_name": "LayoutModel",
       "_view_count": null,
       "_view_module": "@jupyter-widgets/base",
       "_view_module_version": "1.2.0",
       "_view_name": "LayoutView",
       "align_content": null,
       "align_items": null,
       "align_self": null,
       "border": null,
       "bottom": null,
       "display": null,
       "flex": null,
       "flex_flow": null,
       "grid_area": null,
       "grid_auto_columns": null,
       "grid_auto_flow": null,
       "grid_auto_rows": null,
       "grid_column": null,
       "grid_gap": null,
       "grid_row": null,
       "grid_template_areas": null,
       "grid_template_columns": null,
       "grid_template_rows": null,
       "height": null,
       "justify_content": null,
       "justify_items": null,
       "left": null,
       "margin": null,
       "max_height": null,
       "max_width": null,
       "min_height": null,
       "min_width": null,
       "object_fit": null,
       "object_position": null,
       "order": null,
       "overflow": null,
       "overflow_x": null,
       "overflow_y": null,
       "padding": null,
       "right": null,
       "top": null,
       "visibility": null,
       "width": null
      }
     },
     "b0efa42a09814f4898d17da7da3c1625": {
      "model_module": "@jupyter-widgets/base",
      "model_module_version": "1.2.0",
      "model_name": "LayoutModel",
      "state": {
       "_model_module": "@jupyter-widgets/base",
       "_model_module_version": "1.2.0",
       "_model_name": "LayoutModel",
       "_view_count": null,
       "_view_module": "@jupyter-widgets/base",
       "_view_module_version": "1.2.0",
       "_view_name": "LayoutView",
       "align_content": null,
       "align_items": null,
       "align_self": null,
       "border": null,
       "bottom": null,
       "display": null,
       "flex": null,
       "flex_flow": null,
       "grid_area": null,
       "grid_auto_columns": null,
       "grid_auto_flow": null,
       "grid_auto_rows": null,
       "grid_column": null,
       "grid_gap": null,
       "grid_row": null,
       "grid_template_areas": null,
       "grid_template_columns": null,
       "grid_template_rows": null,
       "height": null,
       "justify_content": null,
       "justify_items": null,
       "left": null,
       "margin": null,
       "max_height": null,
       "max_width": null,
       "min_height": null,
       "min_width": null,
       "object_fit": null,
       "object_position": null,
       "order": null,
       "overflow": null,
       "overflow_x": null,
       "overflow_y": null,
       "padding": null,
       "right": null,
       "top": null,
       "visibility": null,
       "width": null
      }
     },
     "bfb49d244f6e46e8a820fdc9887b40c9": {
      "model_module": "@jupyter-widgets/controls",
      "model_module_version": "1.5.0",
      "model_name": "FloatProgressModel",
      "state": {
       "_dom_classes": [],
       "_model_module": "@jupyter-widgets/controls",
       "_model_module_version": "1.5.0",
       "_model_name": "FloatProgressModel",
       "_view_count": null,
       "_view_module": "@jupyter-widgets/controls",
       "_view_module_version": "1.5.0",
       "_view_name": "ProgressView",
       "bar_style": "success",
       "description": "Downloading: 100%",
       "description_tooltip": null,
       "layout": "IPY_MODEL_b0efa42a09814f4898d17da7da3c1625",
       "max": 625.0,
       "min": 0.0,
       "orientation": "horizontal",
       "style": "IPY_MODEL_380317cf183743509ac5bd878ae784e7",
       "value": 625.0
      }
     },
     "c24061aebdc64281b1f9d5d0137f4636": {
      "model_module": "@jupyter-widgets/base",
      "model_module_version": "1.2.0",
      "model_name": "LayoutModel",
      "state": {
       "_model_module": "@jupyter-widgets/base",
       "_model_module_version": "1.2.0",
       "_model_name": "LayoutModel",
       "_view_count": null,
       "_view_module": "@jupyter-widgets/base",
       "_view_module_version": "1.2.0",
       "_view_name": "LayoutView",
       "align_content": null,
       "align_items": null,
       "align_self": null,
       "border": null,
       "bottom": null,
       "display": null,
       "flex": null,
       "flex_flow": null,
       "grid_area": null,
       "grid_auto_columns": null,
       "grid_auto_flow": null,
       "grid_auto_rows": null,
       "grid_column": null,
       "grid_gap": null,
       "grid_row": null,
       "grid_template_areas": null,
       "grid_template_columns": null,
       "grid_template_rows": null,
       "height": null,
       "justify_content": null,
       "justify_items": null,
       "left": null,
       "margin": null,
       "max_height": null,
       "max_width": null,
       "min_height": null,
       "min_width": null,
       "object_fit": null,
       "object_position": null,
       "order": null,
       "overflow": null,
       "overflow_x": null,
       "overflow_y": null,
       "padding": null,
       "right": null,
       "top": null,
       "visibility": null,
       "width": null
      }
     },
     "d1e61cc5fab34ca28948c60a24dc4c8c": {
      "model_module": "@jupyter-widgets/controls",
      "model_module_version": "1.5.0",
      "model_name": "FloatProgressModel",
      "state": {
       "_dom_classes": [],
       "_model_module": "@jupyter-widgets/controls",
       "_model_module_version": "1.5.0",
       "_model_name": "FloatProgressModel",
       "_view_count": null,
       "_view_module": "@jupyter-widgets/controls",
       "_view_module_version": "1.5.0",
       "_view_name": "ProgressView",
       "bar_style": "success",
       "description": "Downloading: 100%",
       "description_tooltip": null,
       "layout": "IPY_MODEL_439f87ae45c44e6ca790c44ef9659282",
       "max": 714314041.0,
       "min": 0.0,
       "orientation": "horizontal",
       "style": "IPY_MODEL_a1cc14fcf301461faa2e995687bbb4d8",
       "value": 714314041.0
      }
     },
     "d2cc649111734feaaf1abab86e0f636c": {
      "model_module": "@jupyter-widgets/base",
      "model_module_version": "1.2.0",
      "model_name": "LayoutModel",
      "state": {
       "_model_module": "@jupyter-widgets/base",
       "_model_module_version": "1.2.0",
       "_model_name": "LayoutModel",
       "_view_count": null,
       "_view_module": "@jupyter-widgets/base",
       "_view_module_version": "1.2.0",
       "_view_name": "LayoutView",
       "align_content": null,
       "align_items": null,
       "align_self": null,
       "border": null,
       "bottom": null,
       "display": null,
       "flex": null,
       "flex_flow": null,
       "grid_area": null,
       "grid_auto_columns": null,
       "grid_auto_flow": null,
       "grid_auto_rows": null,
       "grid_column": null,
       "grid_gap": null,
       "grid_row": null,
       "grid_template_areas": null,
       "grid_template_columns": null,
       "grid_template_rows": null,
       "height": null,
       "justify_content": null,
       "justify_items": null,
       "left": null,
       "margin": null,
       "max_height": null,
       "max_width": null,
       "min_height": null,
       "min_width": null,
       "object_fit": null,
       "object_position": null,
       "order": null,
       "overflow": null,
       "overflow_x": null,
       "overflow_y": null,
       "padding": null,
       "right": null,
       "top": null,
       "visibility": null,
       "width": null
      }
     },
     "fba3ba96396646b19e0159e83d3bdf11": {
      "model_module": "@jupyter-widgets/controls",
      "model_module_version": "1.5.0",
      "model_name": "ProgressStyleModel",
      "state": {
       "_model_module": "@jupyter-widgets/controls",
       "_model_module_version": "1.5.0",
       "_model_name": "ProgressStyleModel",
       "_view_count": null,
       "_view_module": "@jupyter-widgets/base",
       "_view_module_version": "1.2.0",
       "_view_name": "StyleView",
       "bar_color": null,
       "description_width": "initial"
      }
     }
    },
    "version_major": 2,
    "version_minor": 0
   }
  }
 },
 "nbformat": 4,
 "nbformat_minor": 4
}
