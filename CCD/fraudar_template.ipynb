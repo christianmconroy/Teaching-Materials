{
 "metadata": {
  "language_info": {
   "codemirror_mode": {
    "name": "ipython",
    "version": 3
   },
   "file_extension": ".py",
   "mimetype": "text/x-python",
   "name": "python",
   "nbconvert_exporter": "python",
   "pygments_lexer": "ipython3",
   "version": "3.8.1-final"
  },
  "orig_nbformat": 2,
  "kernelspec": {
   "name": "python3",
   "display_name": "Python 3"
  }
 },
 "nbformat": 4,
 "nbformat_minor": 2,
 "cells": [
  {
   "source": [
    "# Fraudar\n",
    "\n",
    "This script runs Fraudar on ADMS-formatted data. Fraudar works by efficiently finding the densest observed subgraph in the overall bipartite network. The full methodology is outlined here: http://bhooi.github.io/papers/fraudar_kdd16.pdf\n",
    "\n",
    "The script will output two an excel with two sheets - one containing all activity of the most suspicious accounts. The other containing all activity around the most suspicious tweets. "
   ],
   "cell_type": "markdown",
   "metadata": {}
  },
  {
   "cell_type": "code",
   "execution_count": 11,
   "metadata": {},
   "outputs": [],
   "source": [
    "import sys\n",
    "sys.path.insert(1, 'fraudar/')\n",
    "from fraudar.run_fraudar import run_app"
   ]
  },
  {
   "source": [
    "`run_app` requires the input directory containing raw ch data and the output directory where you want results to be sent."
   ],
   "cell_type": "markdown",
   "metadata": {}
  },
  {
   "cell_type": "code",
   "execution_count": 12,
   "metadata": {},
   "outputs": [
    {
     "output_type": "stream",
     "name": "stdout",
     "text": [
      "Loading in data... this can take a while...\n",
      "Data loaded in:  166422  rows\n",
      "finished reading data: shape = 122135, 150543 @ 397 \n",
      "\n",
      "finished computing weight matrix\n",
      "finished initialization\n",
      "finished setting deltas\n",
      "finished building min trees\n",
      "current set size = 200000\n",
      "current set size = 100000\n",
      "\n",
      "Most suspicious accounts: \n",
      " \n",
      "0         @feedperuano\n",
      "1            @LlnuxBot\n",
      "2         @LimaNoticia\n",
      "3     @peruenlanoticia\n",
      "4       @UniversidadPe\n",
      "5            @nlognbot\n",
      "6     @perunewsletters\n",
      "7         @sprint_code\n",
      "8       @theInfernobot\n",
      "9        @PeruNewsweek\n",
      "10     @PeruNewsAlerta\n",
      "11           @femtech_\n",
      "12         @PeruNewsTV\n",
      "13    @TheDeveloperBot\n",
      "14    @learn__together\n",
      "15      @nodeQuotesBot\n",
      "16            @xaelbot\n",
      "17          @redianbot\n",
      "18        @rstatstweet\n",
      "19          @Taieb_Bot\n",
      "dtype: object\n",
      "\n",
      "score obtained is 1.408812\n",
      "Done!\n"
     ]
    }
   ],
   "source": [
    "# example: run_app('../Data/brazil/', '../results/output/')\n",
    "run_app(\"../Data/brazil/\", \"out/\")"
   ]
  },
  {
   "cell_type": "code",
   "execution_count": null,
   "metadata": {},
   "outputs": [],
   "source": []
  }
 ]
}